{
 "cells": [
  {
   "cell_type": "code",
   "execution_count": 1,
   "id": "74b37fb7-0c7d-4005-bd5b-44da119e1996",
   "metadata": {},
   "outputs": [],
   "source": [
    "#\n",
    "# Licensed to the Apache Software Foundation (ASF) under one or more\n",
    "# contributor license agreements.  See the NOTICE file distributed with\n",
    "# this work for additional information regarding copyright ownership.\n",
    "# The ASF licenses this file to You under the Apache License, Version 2.0\n",
    "# (the \"License\"); you may not use this file except in compliance with\n",
    "# the License.  You may obtain a copy of the License at\n",
    "#\n",
    "#    http://www.apache.org/licenses/LICENSE-2.0\n",
    "#\n",
    "# Unless required by applicable law or agreed to in writing, software\n",
    "# distributed under the License is distributed on an \"AS IS\" BASIS,\n",
    "# WITHOUT WARRANTIES OR CONDITIONS OF ANY KIND, either express or implied.\n",
    "# See the License for the specific language governing permissions and\n",
    "# limitations under the License.\n",
    "#\n",
    "\n",
    "# $example on$\n",
    "from pyspark.ml.feature import Word2Vec, Word2VecModel\n",
    "# $example off$\n",
    "from pyspark.sql import SparkSession"
   ]
  },
  {
   "cell_type": "code",
   "execution_count": 2,
   "id": "43f9bca7-ba72-4c95-a4b3-e40099a34b41",
   "metadata": {},
   "outputs": [],
   "source": [
    "sentences = [(s.split(\" \"), ) for s in open(\"jawiki_wakati.txt\", \"r\").readlines()[:100000]]"
   ]
  },
  {
   "cell_type": "code",
   "execution_count": 3,
   "id": "d249f6a3-f657-4486-9059-2d968249a1a0",
   "metadata": {},
   "outputs": [],
   "source": [
    "spark = SparkSession.builder \\\n",
    "    .appName(\"word2vec-spark\") \\\n",
    "    .getOrCreate()"
   ]
  },
  {
   "cell_type": "code",
   "execution_count": 4,
   "id": "f79a8711-9bd4-494f-a15b-2b0458b2cf9d",
   "metadata": {},
   "outputs": [],
   "source": [
    "# Input data: Each row is a bag of words from a sentence or document.\n",
    "documentDF = spark.createDataFrame(sentences, [\"text\"])"
   ]
  },
  {
   "cell_type": "code",
   "execution_count": 5,
   "id": "85a2ea31-5c7e-47a5-8f3e-725e5e6a70b2",
   "metadata": {},
   "outputs": [],
   "source": [
    "# Learn a mapping from words to Vectors.\n",
    "#word2Vec = Word2Vec(vectorSize=100, minCount=0, inputCol=\"text\", outputCol=\"result\")\n",
    "word2Vec = Word2Vec(vectorSize=100, minCount=5, windowSize=5, numPartitions=1, maxIter=1, seed=777, inputCol=\"text\", outputCol=\"result\")\n",
    "model = word2Vec.fit(documentDF)"
   ]
  },
  {
   "cell_type": "code",
   "execution_count": 6,
   "id": "cffb1824-f410-40a6-8ed8-d6a6763cd75d",
   "metadata": {},
   "outputs": [],
   "source": [
    "#model.save(spark, 'w2v_model')\n",
    "model.save('w2v_model2')"
   ]
  },
  {
   "cell_type": "code",
   "execution_count": 7,
   "id": "e30dcc60-75e3-40bf-b9f5-0166c8a35dd4",
   "metadata": {},
   "outputs": [],
   "source": [
    "spark.stop()"
   ]
  },
  {
   "cell_type": "code",
   "execution_count": null,
   "id": "8d5f51bc-67ec-42af-bf16-c6ba5be87b76",
   "metadata": {},
   "outputs": [],
   "source": []
  }
 ],
 "metadata": {
  "kernelspec": {
   "display_name": "Python 3 (ipykernel)",
   "language": "python",
   "name": "python3"
  },
  "language_info": {
   "codemirror_mode": {
    "name": "ipython",
    "version": 3
   },
   "file_extension": ".py",
   "mimetype": "text/x-python",
   "name": "python",
   "nbconvert_exporter": "python",
   "pygments_lexer": "ipython3",
   "version": "3.8.13"
  }
 },
 "nbformat": 4,
 "nbformat_minor": 5
}
