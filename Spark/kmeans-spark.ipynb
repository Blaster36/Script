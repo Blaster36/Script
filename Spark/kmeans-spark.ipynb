{
 "cells": [
  {
   "cell_type": "markdown",
   "id": "4a93f35a-876a-4ca8-9c90-0f57de1e4504",
   "metadata": {},
   "source": [
    "# K-means Clustering\n",
    "https://spark.apache.org/docs/3.3.0/ml-clustering.html#k-means"
   ]
  },
  {
   "cell_type": "code",
   "execution_count": 1,
   "id": "ae8a0592-75da-4ba9-bc83-19a7ee95e9c3",
   "metadata": {},
   "outputs": [],
   "source": [
    "from sklearn.datasets import load_iris\n",
    "import pandas as pd\n",
    "from pyspark.sql import SparkSession\n",
    "from pyspark.ml.feature import VectorAssembler\n",
    "from pyspark.ml.feature import PCA as PCAml\n",
    "from pyspark.ml.evaluation import ClusteringEvaluator\n",
    "from pyspark.ml.clustering import KMeans\n",
    "import numpy as np\n",
    "import seaborn as sns\n",
    "import matplotlib.pyplot as plt"
   ]
  },
  {
   "cell_type": "code",
   "execution_count": 2,
   "id": "5e9a87a6-a30f-4ca6-95bf-6136c368c8a0",
   "metadata": {},
   "outputs": [],
   "source": [
    "# アヤメの品種データ（Iris plants dataset）の読み込み\n",
    "df_iris = load_iris(as_frame=True)"
   ]
  },
  {
   "cell_type": "code",
   "execution_count": 3,
   "id": "29c94e41-e9c4-4ae0-833a-a4d891cbce10",
   "metadata": {},
   "outputs": [],
   "source": [
    "# 説明変数を取得\n",
    "#pd_df_iris = pd.DataFrame(df_iris.data, columns=df_iris.feature_names)\n",
    "X = pd.DataFrame(df_iris.data, columns=df_iris.feature_names)\n",
    "# 目的変数を取得\n",
    "#pd_df_iris['target'] = pd.Series(df_iris.target)\n",
    "y = pd.Series(df_iris.target, name='target')\n",
    "\n",
    "# 説明変数と目的変数を結合して、1つのDataFrameにする\n",
    "pd_df_iris = pd.merge(X, y, how=\"left\", left_index=True, right_index=True)"
   ]
  },
  {
   "cell_type": "code",
   "execution_count": 4,
   "id": "2ebc8b6c-0bfa-4920-ab97-2c8f7ebcfe7a",
   "metadata": {},
   "outputs": [],
   "source": [
    "spark = SparkSession.builder \\\n",
    "    .appName(\"kmeans-spark\") \\\n",
    "    .getOrCreate()"
   ]
  },
  {
   "cell_type": "code",
   "execution_count": 5,
   "id": "acaf8561-f51a-49ea-a93a-a9f14bf042af",
   "metadata": {},
   "outputs": [
    {
     "name": "stderr",
     "output_type": "stream",
     "text": [
      "/usr/local/spark/python/pyspark/sql/pandas/conversion.py:474: FutureWarning: iteritems is deprecated and will be removed in a future version. Use .items instead.\n",
      "  for column, series in pdf.iteritems():\n",
      "/usr/local/spark/python/pyspark/sql/pandas/conversion.py:486: FutureWarning: iteritems is deprecated and will be removed in a future version. Use .items instead.\n",
      "  for column, series in pdf.iteritems():\n"
     ]
    }
   ],
   "source": [
    "# pysparkDataFrameに変換\n",
    "spark_df_iris = spark.createDataFrame(pd_df_iris)"
   ]
  },
  {
   "cell_type": "code",
   "execution_count": 6,
   "id": "c0de99e7-8294-48e7-8cb1-bde119fc3dfd",
   "metadata": {},
   "outputs": [
    {
     "data": {
      "text/plain": [
       "150"
      ]
     },
     "execution_count": 6,
     "metadata": {},
     "output_type": "execute_result"
    }
   ],
   "source": [
    "spark_df_iris.count()"
   ]
  },
  {
   "cell_type": "code",
   "execution_count": 7,
   "id": "9647918f-ad70-4bb0-8663-de0c5bf05852",
   "metadata": {},
   "outputs": [
    {
     "name": "stdout",
     "output_type": "stream",
     "text": [
      "+-----------------+----------------+-----------------+----------------+------+\n",
      "|sepal length (cm)|sepal width (cm)|petal length (cm)|petal width (cm)|target|\n",
      "+-----------------+----------------+-----------------+----------------+------+\n",
      "|              5.1|             3.5|              1.4|             0.2|     0|\n",
      "|              4.9|             3.0|              1.4|             0.2|     0|\n",
      "|              4.7|             3.2|              1.3|             0.2|     0|\n",
      "|              4.6|             3.1|              1.5|             0.2|     0|\n",
      "|              5.0|             3.6|              1.4|             0.2|     0|\n",
      "|              5.4|             3.9|              1.7|             0.4|     0|\n",
      "|              4.6|             3.4|              1.4|             0.3|     0|\n",
      "|              5.0|             3.4|              1.5|             0.2|     0|\n",
      "|              4.4|             2.9|              1.4|             0.2|     0|\n",
      "|              4.9|             3.1|              1.5|             0.1|     0|\n",
      "|              5.4|             3.7|              1.5|             0.2|     0|\n",
      "|              4.8|             3.4|              1.6|             0.2|     0|\n",
      "|              4.8|             3.0|              1.4|             0.1|     0|\n",
      "|              4.3|             3.0|              1.1|             0.1|     0|\n",
      "|              5.8|             4.0|              1.2|             0.2|     0|\n",
      "|              5.7|             4.4|              1.5|             0.4|     0|\n",
      "|              5.4|             3.9|              1.3|             0.4|     0|\n",
      "|              5.1|             3.5|              1.4|             0.3|     0|\n",
      "|              5.7|             3.8|              1.7|             0.3|     0|\n",
      "|              5.1|             3.8|              1.5|             0.3|     0|\n",
      "+-----------------+----------------+-----------------+----------------+------+\n",
      "only showing top 20 rows\n",
      "\n"
     ]
    }
   ],
   "source": [
    "spark_df_iris.show()"
   ]
  },
  {
   "cell_type": "code",
   "execution_count": 8,
   "id": "af3f6b71-4d9a-4472-9790-98b8b13a8577",
   "metadata": {},
   "outputs": [
    {
     "name": "stdout",
     "output_type": "stream",
     "text": [
      "+------+-----+\n",
      "|target|count|\n",
      "+------+-----+\n",
      "|     0|   50|\n",
      "|     1|   50|\n",
      "|     2|   50|\n",
      "+------+-----+\n",
      "\n"
     ]
    }
   ],
   "source": [
    "# 各品種のサンプル数\n",
    "spark_df_iris.groupBy(\"target\").count().show()"
   ]
  },
  {
   "cell_type": "code",
   "execution_count": 9,
   "id": "c6b73318-454f-4147-a1ad-25448fad9fcc",
   "metadata": {},
   "outputs": [],
   "source": [
    "spark_df_iris = spark_df_iris.drop(\"target\")"
   ]
  },
  {
   "cell_type": "code",
   "execution_count": 10,
   "id": "757e8e88-7fe7-4eda-92df-163f0881fc4f",
   "metadata": {},
   "outputs": [
    {
     "data": {
      "text/plain": [
       "150"
      ]
     },
     "execution_count": 10,
     "metadata": {},
     "output_type": "execute_result"
    }
   ],
   "source": [
    "spark_df_iris.count()"
   ]
  },
  {
   "cell_type": "code",
   "execution_count": 11,
   "id": "bb7373f3-61ce-4434-9050-db5ba0a3ffd8",
   "metadata": {},
   "outputs": [
    {
     "name": "stdout",
     "output_type": "stream",
     "text": [
      "+-----------------+----------------+-----------------+----------------+\n",
      "|sepal length (cm)|sepal width (cm)|petal length (cm)|petal width (cm)|\n",
      "+-----------------+----------------+-----------------+----------------+\n",
      "|              5.1|             3.5|              1.4|             0.2|\n",
      "|              4.9|             3.0|              1.4|             0.2|\n",
      "|              4.7|             3.2|              1.3|             0.2|\n",
      "|              4.6|             3.1|              1.5|             0.2|\n",
      "|              5.0|             3.6|              1.4|             0.2|\n",
      "|              5.4|             3.9|              1.7|             0.4|\n",
      "|              4.6|             3.4|              1.4|             0.3|\n",
      "|              5.0|             3.4|              1.5|             0.2|\n",
      "|              4.4|             2.9|              1.4|             0.2|\n",
      "|              4.9|             3.1|              1.5|             0.1|\n",
      "|              5.4|             3.7|              1.5|             0.2|\n",
      "|              4.8|             3.4|              1.6|             0.2|\n",
      "|              4.8|             3.0|              1.4|             0.1|\n",
      "|              4.3|             3.0|              1.1|             0.1|\n",
      "|              5.8|             4.0|              1.2|             0.2|\n",
      "|              5.7|             4.4|              1.5|             0.4|\n",
      "|              5.4|             3.9|              1.3|             0.4|\n",
      "|              5.1|             3.5|              1.4|             0.3|\n",
      "|              5.7|             3.8|              1.7|             0.3|\n",
      "|              5.1|             3.8|              1.5|             0.3|\n",
      "+-----------------+----------------+-----------------+----------------+\n",
      "only showing top 20 rows\n",
      "\n"
     ]
    }
   ],
   "source": [
    "spark_df_iris.show()"
   ]
  },
  {
   "cell_type": "code",
   "execution_count": 12,
   "id": "ddb11108-6380-4d57-be6f-e836a721a2fc",
   "metadata": {},
   "outputs": [],
   "source": [
    "assemble = VectorAssembler(inputCols=['sepal length (cm)', 'sepal width (cm)', 'petal length (cm)', 'petal width (cm)'], outputCol='iris_features')\n",
    "assembled_data = assemble.transform(spark_df_iris)"
   ]
  },
  {
   "cell_type": "code",
   "execution_count": 13,
   "id": "5c1e3c4c-e934-4272-9518-8c4e4df39e47",
   "metadata": {},
   "outputs": [
    {
     "name": "stdout",
     "output_type": "stream",
     "text": [
      "+-----------------+----------------+-----------------+----------------+-----------------+\n",
      "|sepal length (cm)|sepal width (cm)|petal length (cm)|petal width (cm)|    iris_features|\n",
      "+-----------------+----------------+-----------------+----------------+-----------------+\n",
      "|              5.1|             3.5|              1.4|             0.2|[5.1,3.5,1.4,0.2]|\n",
      "|              4.9|             3.0|              1.4|             0.2|[4.9,3.0,1.4,0.2]|\n",
      "|              4.7|             3.2|              1.3|             0.2|[4.7,3.2,1.3,0.2]|\n",
      "|              4.6|             3.1|              1.5|             0.2|[4.6,3.1,1.5,0.2]|\n",
      "|              5.0|             3.6|              1.4|             0.2|[5.0,3.6,1.4,0.2]|\n",
      "|              5.4|             3.9|              1.7|             0.4|[5.4,3.9,1.7,0.4]|\n",
      "|              4.6|             3.4|              1.4|             0.3|[4.6,3.4,1.4,0.3]|\n",
      "|              5.0|             3.4|              1.5|             0.2|[5.0,3.4,1.5,0.2]|\n",
      "|              4.4|             2.9|              1.4|             0.2|[4.4,2.9,1.4,0.2]|\n",
      "|              4.9|             3.1|              1.5|             0.1|[4.9,3.1,1.5,0.1]|\n",
      "|              5.4|             3.7|              1.5|             0.2|[5.4,3.7,1.5,0.2]|\n",
      "|              4.8|             3.4|              1.6|             0.2|[4.8,3.4,1.6,0.2]|\n",
      "|              4.8|             3.0|              1.4|             0.1|[4.8,3.0,1.4,0.1]|\n",
      "|              4.3|             3.0|              1.1|             0.1|[4.3,3.0,1.1,0.1]|\n",
      "|              5.8|             4.0|              1.2|             0.2|[5.8,4.0,1.2,0.2]|\n",
      "|              5.7|             4.4|              1.5|             0.4|[5.7,4.4,1.5,0.4]|\n",
      "|              5.4|             3.9|              1.3|             0.4|[5.4,3.9,1.3,0.4]|\n",
      "|              5.1|             3.5|              1.4|             0.3|[5.1,3.5,1.4,0.3]|\n",
      "|              5.7|             3.8|              1.7|             0.3|[5.7,3.8,1.7,0.3]|\n",
      "|              5.1|             3.8|              1.5|             0.3|[5.1,3.8,1.5,0.3]|\n",
      "+-----------------+----------------+-----------------+----------------+-----------------+\n",
      "only showing top 20 rows\n",
      "\n"
     ]
    }
   ],
   "source": [
    "assembled_data.show()"
   ]
  },
  {
   "cell_type": "code",
   "execution_count": 14,
   "id": "417bd747-387e-4ecb-bc08-87cdd1053148",
   "metadata": {},
   "outputs": [],
   "source": [
    "silhouette_scores = []\n",
    "evaluator = ClusteringEvaluator(featuresCol='iris_features', metricName='silhouette', distanceMeasure='squaredEuclidean')"
   ]
  },
  {
   "cell_type": "code",
   "execution_count": 15,
   "id": "78f6fb8b-7b86-4c78-a11f-92cb05756bda",
   "metadata": {},
   "outputs": [],
   "source": [
    "for K in range(2, 11):\n",
    "    # Trains a k-means model.\n",
    "    kmeans = KMeans(featuresCol='iris_features', k=K, seed=1)\n",
    "    model = kmeans.fit(assembled_data)\n",
    "    # Make predictions\n",
    "    predictions = model.transform(assembled_data)\n",
    "    # Evaluate clustering by computing Silhouette score\n",
    "    evaluation_score = evaluator.evaluate(predictions)\n",
    "    silhouette_scores.append(evaluation_score)"
   ]
  },
  {
   "cell_type": "code",
   "execution_count": 16,
   "id": "0c0c40f9-4dea-4d4e-a79f-999e04102f0c",
   "metadata": {},
   "outputs": [
    {
     "data": {
      "text/plain": [
       "Text(0, 0.5, 'Silhouette Score')"
      ]
     },
     "execution_count": 16,
     "metadata": {},
     "output_type": "execute_result"
    },
    {
     "data": {
      "image/png": "[encoded data removed]",
      "text/plain": [
       "<Figure size 1000x800 with 1 Axes>"
      ]
     },
     "metadata": {},
     "output_type": "display_data"
    }
   ],
   "source": [
    "fig, ax = plt.subplots(1, 1, figsize=(10,8))\n",
    "ax.plot(range(2,11), silhouette_scores)\n",
    "ax.set_xlabel('Number of Clusters')\n",
    "ax.set_ylabel('Silhouette Score')"
   ]
  },
  {
   "cell_type": "code",
   "execution_count": 17,
   "id": "0451b7aa-caa2-40ad-9433-6460defaa821",
   "metadata": {},
   "outputs": [],
   "source": [
    "# Trains a k-means model.\n",
    "kmeans = KMeans(featuresCol='iris_features', k=3, seed=1)\n",
    "model = kmeans.fit(assembled_data)\n",
    "# Make predictions\n",
    "predictions = model.transform(assembled_data)"
   ]
  },
  {
   "cell_type": "code",
   "execution_count": 18,
   "id": "8932d9cd-045e-4d31-9df4-ace6e7665191",
   "metadata": {},
   "outputs": [
    {
     "name": "stdout",
     "output_type": "stream",
     "text": [
      "+-----------------+----------------+-----------------+----------------+-----------------+----------+\n",
      "|sepal length (cm)|sepal width (cm)|petal length (cm)|petal width (cm)|    iris_features|prediction|\n",
      "+-----------------+----------------+-----------------+----------------+-----------------+----------+\n",
      "|              5.1|             3.5|              1.4|             0.2|[5.1,3.5,1.4,0.2]|         1|\n",
      "|              4.9|             3.0|              1.4|             0.2|[4.9,3.0,1.4,0.2]|         1|\n",
      "|              4.7|             3.2|              1.3|             0.2|[4.7,3.2,1.3,0.2]|         1|\n",
      "|              4.6|             3.1|              1.5|             0.2|[4.6,3.1,1.5,0.2]|         1|\n",
      "|              5.0|             3.6|              1.4|             0.2|[5.0,3.6,1.4,0.2]|         1|\n",
      "|              5.4|             3.9|              1.7|             0.4|[5.4,3.9,1.7,0.4]|         1|\n",
      "|              4.6|             3.4|              1.4|             0.3|[4.6,3.4,1.4,0.3]|         1|\n",
      "|              5.0|             3.4|              1.5|             0.2|[5.0,3.4,1.5,0.2]|         1|\n",
      "|              4.4|             2.9|              1.4|             0.2|[4.4,2.9,1.4,0.2]|         1|\n",
      "|              4.9|             3.1|              1.5|             0.1|[4.9,3.1,1.5,0.1]|         1|\n",
      "|              5.4|             3.7|              1.5|             0.2|[5.4,3.7,1.5,0.2]|         1|\n",
      "|              4.8|             3.4|              1.6|             0.2|[4.8,3.4,1.6,0.2]|         1|\n",
      "|              4.8|             3.0|              1.4|             0.1|[4.8,3.0,1.4,0.1]|         1|\n",
      "|              4.3|             3.0|              1.1|             0.1|[4.3,3.0,1.1,0.1]|         1|\n",
      "|              5.8|             4.0|              1.2|             0.2|[5.8,4.0,1.2,0.2]|         1|\n",
      "|              5.7|             4.4|              1.5|             0.4|[5.7,4.4,1.5,0.4]|         1|\n",
      "|              5.4|             3.9|              1.3|             0.4|[5.4,3.9,1.3,0.4]|         1|\n",
      "|              5.1|             3.5|              1.4|             0.3|[5.1,3.5,1.4,0.3]|         1|\n",
      "|              5.7|             3.8|              1.7|             0.3|[5.7,3.8,1.7,0.3]|         1|\n",
      "|              5.1|             3.8|              1.5|             0.3|[5.1,3.8,1.5,0.3]|         1|\n",
      "+-----------------+----------------+-----------------+----------------+-----------------+----------+\n",
      "only showing top 20 rows\n",
      "\n"
     ]
    }
   ],
   "source": [
    "predictions.show()"
   ]
  },
  {
   "cell_type": "code",
   "execution_count": 19,
   "id": "b2cd30e2-6402-42d0-904d-7de206506626",
   "metadata": {},
   "outputs": [
    {
     "name": "stdout",
     "output_type": "stream",
     "text": [
      "+----------+-----+\n",
      "|prediction|count|\n",
      "+----------+-----+\n",
      "|         1|   50|\n",
      "|         2|   61|\n",
      "|         0|   39|\n",
      "+----------+-----+\n",
      "\n"
     ]
    }
   ],
   "source": [
    "# 各クラスタのサンプル数\n",
    "predictions.groupBy(\"prediction\").count().show()"
   ]
  },
  {
   "cell_type": "code",
   "execution_count": 20,
   "id": "56d87d86-e9a4-44a0-958c-e4d92cec3638",
   "metadata": {},
   "outputs": [
    {
     "name": "stdout",
     "output_type": "stream",
     "text": [
      "K=3\n",
      "シルエット係数：0.7344130579787828\n"
     ]
    }
   ],
   "source": [
    "# Evaluate clustering by computing Silhouette score\n",
    "evaluator = ClusteringEvaluator(featuresCol='iris_features', metricName='silhouette', distanceMeasure='squaredEuclidean')\n",
    "silhouette = evaluator.evaluate(predictions)\n",
    "print(\"K={}\".format(3))\n",
    "print(\"シルエット係数：{}\" .format(str(silhouette)))"
   ]
  },
  {
   "cell_type": "code",
   "execution_count": 21,
   "id": "3790c48c-e784-4dd9-a57c-04d5f27dc472",
   "metadata": {},
   "outputs": [
    {
     "name": "stdout",
     "output_type": "stream",
     "text": [
      "Cluster Centers: \n",
      "[6.85384615 3.07692308 5.71538462 2.05384615]\n",
      "[5.006 3.428 1.462 0.246]\n",
      "[5.88360656 2.74098361 4.38852459 1.43442623]\n"
     ]
    }
   ],
   "source": [
    "# Shows the result.\n",
    "centers = model.clusterCenters()\n",
    "print(\"Cluster Centers: \")\n",
    "for center in centers:\n",
    "    print(center)"
   ]
  },
  {
   "cell_type": "code",
   "execution_count": 22,
   "id": "47ed89d8-9d11-4b9f-8a27-f4e2f38ef7e7",
   "metadata": {},
   "outputs": [],
   "source": [
    "pca = PCAml(k=2, inputCol=\"iris_features\", outputCol=\"pca\")\n",
    "pca_model = pca.fit(assembled_data)\n",
    "pca_transformed = pca_model.transform(assembled_data)"
   ]
  },
  {
   "cell_type": "code",
   "execution_count": 23,
   "id": "25a3d4e0-1f86-4804-a622-8a649eec3e20",
   "metadata": {},
   "outputs": [
    {
     "name": "stdout",
     "output_type": "stream",
     "text": [
      "+-----------------+----------------+-----------------+----------------+-----------------+--------------------+\n",
      "|sepal length (cm)|sepal width (cm)|petal length (cm)|petal width (cm)|    iris_features|                 pca|\n",
      "+-----------------+----------------+-----------------+----------------+-----------------+--------------------+\n",
      "|              5.1|             3.5|              1.4|             0.2|[5.1,3.5,1.4,0.2]|[-2.8182395066394...|\n",
      "|              4.9|             3.0|              1.4|             0.2|[4.9,3.0,1.4,0.2]|[-2.7882234453146...|\n",
      "|              4.7|             3.2|              1.3|             0.2|[4.7,3.2,1.3,0.2]|[-2.6133745635497...|\n",
      "|              4.6|             3.1|              1.5|             0.2|[4.6,3.1,1.5,0.2]|[-2.7570222769675...|\n",
      "|              5.0|             3.6|              1.4|             0.2|[5.0,3.6,1.4,0.2]|[-2.7736485960544...|\n",
      "|              5.4|             3.9|              1.7|             0.4|[5.4,3.9,1.7,0.4]|[-3.2215054997645...|\n",
      "|              4.6|             3.4|              1.4|             0.3|[4.6,3.4,1.4,0.3]|[-2.6818273818683...|\n",
      "|              5.0|             3.4|              1.5|             0.2|[5.0,3.4,1.5,0.2]|[-2.8762201594623...|\n",
      "|              4.4|             2.9|              1.4|             0.2|[4.4,2.9,1.4,0.2]|[-2.6159824008284...|\n",
      "|              4.9|             3.1|              1.5|             0.1|[4.9,3.1,1.5,0.1]|[-2.8296093347880...|\n",
      "|              5.4|             3.7|              1.5|             0.2|[5.4,3.7,1.5,0.2]|[-2.9954180419571...|\n",
      "|              4.8|             3.4|              1.6|             0.2|[4.8,3.4,1.6,0.2]|[-2.8896099017002...|\n",
      "|              4.8|             3.0|              1.4|             0.1|[4.8,3.0,1.4,0.1]|[-2.7162558664209...|\n",
      "|              4.3|             3.0|              1.1|             0.1|[4.3,3.0,1.1,0.1]|[-2.2785613887433...|\n",
      "|              5.8|             4.0|              1.2|             0.2|[5.8,4.0,1.2,0.2]|[-2.8576147426669...|\n",
      "|              5.7|             4.4|              1.5|             0.4|[5.7,4.4,1.5,0.4]|[-3.1163260990778...|\n",
      "|              5.4|             3.9|              1.3|             0.4|[5.4,3.9,1.3,0.4]|[-2.8788372573845...|\n",
      "|              5.1|             3.5|              1.4|             0.3|[5.1,3.5,1.4,0.3]|[-2.8540684263546...|\n",
      "|              5.7|             3.8|              1.7|             0.3|[5.7,3.8,1.7,0.3]|[-3.3025448089914...|\n",
      "|              5.1|             3.8|              1.5|             0.3|[5.1,3.8,1.5,0.3]|[-2.9143787327302...|\n",
      "+-----------------+----------------+-----------------+----------------+-----------------+--------------------+\n",
      "only showing top 20 rows\n",
      "\n"
     ]
    }
   ],
   "source": [
    "pca_transformed.show()"
   ]
  },
  {
   "cell_type": "code",
   "execution_count": 24,
   "id": "f012d931-93c7-4711-af39-20684fa55061",
   "metadata": {},
   "outputs": [],
   "source": [
    "x_pca = np.array(pca_transformed.rdd.map(lambda row: row.pca).collect())"
   ]
  },
  {
   "cell_type": "code",
   "execution_count": 25,
   "id": "8919d2ca-0869-43a0-9823-82086a1ac620",
   "metadata": {},
   "outputs": [],
   "source": [
    "cluster_assignment = np.array(predictions.rdd.map(lambda row: row.prediction).collect()).reshape(-1, 1)"
   ]
  },
  {
   "cell_type": "code",
   "execution_count": 26,
   "id": "f0a69fb9-c170-4d0a-aeac-8531f113d55b",
   "metadata": {},
   "outputs": [],
   "source": [
    "pca_data = np.hstack((x_pca, cluster_assignment))"
   ]
  },
  {
   "cell_type": "code",
   "execution_count": 27,
   "id": "d4e11b3b-01ca-4b71-8c18-9d7a582f475f",
   "metadata": {},
   "outputs": [],
   "source": [
    "pca_df = pd.DataFrame(data=pca_data, columns=(\"1st_principal\", \"2nd_principal\", \"cluster_assignment\"))"
   ]
  },
  {
   "cell_type": "code",
   "execution_count": 28,
   "id": "f9249c10-016c-40c6-b485-7397d1a9cc22",
   "metadata": {},
   "outputs": [
    {
     "data": {
      "text/html": [
       "<div>\n",
       "<style scoped>\n",
       "    .dataframe tbody tr th:only-of-type {\n",
       "        vertical-align: middle;\n",
       "    }\n",
       "\n",
       "    .dataframe tbody tr th {\n",
       "        vertical-align: top;\n",
       "    }\n",
       "\n",
       "    .dataframe thead th {\n",
       "        text-align: right;\n",
       "    }\n",
       "</style>\n",
       "<table border=\"1\" class=\"dataframe\">\n",
       "  <thead>\n",
       "    <tr style=\"text-align: right;\">\n",
       "      <th></th>\n",
       "      <th>1st_principal</th>\n",
       "      <th>2nd_principal</th>\n",
       "      <th>cluster_assignment</th>\n",
       "    </tr>\n",
       "  </thead>\n",
       "  <tbody>\n",
       "    <tr>\n",
       "      <th>0</th>\n",
       "      <td>-2.818240</td>\n",
       "      <td>-5.646350</td>\n",
       "      <td>1.0</td>\n",
       "    </tr>\n",
       "    <tr>\n",
       "      <th>1</th>\n",
       "      <td>-2.788223</td>\n",
       "      <td>-5.149951</td>\n",
       "      <td>1.0</td>\n",
       "    </tr>\n",
       "    <tr>\n",
       "      <th>2</th>\n",
       "      <td>-2.613375</td>\n",
       "      <td>-5.182003</td>\n",
       "      <td>1.0</td>\n",
       "    </tr>\n",
       "    <tr>\n",
       "      <th>3</th>\n",
       "      <td>-2.757022</td>\n",
       "      <td>-5.008654</td>\n",
       "      <td>1.0</td>\n",
       "    </tr>\n",
       "    <tr>\n",
       "      <th>4</th>\n",
       "      <td>-2.773649</td>\n",
       "      <td>-5.653707</td>\n",
       "      <td>1.0</td>\n",
       "    </tr>\n",
       "    <tr>\n",
       "      <th>...</th>\n",
       "      <td>...</td>\n",
       "      <td>...</td>\n",
       "      <td>...</td>\n",
       "    </tr>\n",
       "    <tr>\n",
       "      <th>145</th>\n",
       "      <td>-7.446475</td>\n",
       "      <td>-5.514485</td>\n",
       "      <td>0.0</td>\n",
       "    </tr>\n",
       "    <tr>\n",
       "      <th>146</th>\n",
       "      <td>-7.029532</td>\n",
       "      <td>-4.951636</td>\n",
       "      <td>2.0</td>\n",
       "    </tr>\n",
       "    <tr>\n",
       "      <th>147</th>\n",
       "      <td>-7.266711</td>\n",
       "      <td>-5.405811</td>\n",
       "      <td>0.0</td>\n",
       "    </tr>\n",
       "    <tr>\n",
       "      <th>148</th>\n",
       "      <td>-7.403307</td>\n",
       "      <td>-5.443581</td>\n",
       "      <td>0.0</td>\n",
       "    </tr>\n",
       "    <tr>\n",
       "      <th>149</th>\n",
       "      <td>-6.892554</td>\n",
       "      <td>-5.044292</td>\n",
       "      <td>2.0</td>\n",
       "    </tr>\n",
       "  </tbody>\n",
       "</table>\n",
       "<p>150 rows × 3 columns</p>\n",
       "</div>"
      ],
      "text/plain": [
       "     1st_principal  2nd_principal  cluster_assignment\n",
       "0        -2.818240      -5.646350                 1.0\n",
       "1        -2.788223      -5.149951                 1.0\n",
       "2        -2.613375      -5.182003                 1.0\n",
       "3        -2.757022      -5.008654                 1.0\n",
       "4        -2.773649      -5.653707                 1.0\n",
       "..             ...            ...                 ...\n",
       "145      -7.446475      -5.514485                 0.0\n",
       "146      -7.029532      -4.951636                 2.0\n",
       "147      -7.266711      -5.405811                 0.0\n",
       "148      -7.403307      -5.443581                 0.0\n",
       "149      -6.892554      -5.044292                 2.0\n",
       "\n",
       "[150 rows x 3 columns]"
      ]
     },
     "execution_count": 28,
     "metadata": {},
     "output_type": "execute_result"
    }
   ],
   "source": [
    "pca_df"
   ]
  },
  {
   "cell_type": "code",
   "execution_count": 29,
   "id": "1ce64108-f290-41dc-bc33-f567e8595d05",
   "metadata": {},
   "outputs": [],
   "source": [
    "#custom_palette = [\"red\", \"green\", \"orange\", \"blue\", \"yellow\", \"purple\"]\n",
    "custom_palette = ['#FBB4AE', '#B3CDE3', '#CCEBC5',  '#DECBE4', '#FED9A6', '#FFFFCC',  '#E5D8BD', '#FDDAEC', '#F2F2F2']\n",
    "sns.set_palette(custom_palette) "
   ]
  },
  {
   "cell_type": "code",
   "execution_count": 30,
   "id": "8595b3d1-c320-4676-91d1-f4558206e77d",
   "metadata": {},
   "outputs": [
    {
     "name": "stderr",
     "output_type": "stream",
     "text": [
      "/opt/conda/lib/python3.8/site-packages/seaborn/axisgrid.py:745: FutureWarning: iteritems is deprecated and will be removed in a future version. Use .items instead.\n",
      "  plot_args = [v for k, v in plot_data.iteritems()]\n",
      "/opt/conda/lib/python3.8/site-packages/seaborn/axisgrid.py:745: FutureWarning: iteritems is deprecated and will be removed in a future version. Use .items instead.\n",
      "  plot_args = [v for k, v in plot_data.iteritems()]\n",
      "/opt/conda/lib/python3.8/site-packages/seaborn/axisgrid.py:745: FutureWarning: iteritems is deprecated and will be removed in a future version. Use .items instead.\n",
      "  plot_args = [v for k, v in plot_data.iteritems()]\n"
     ]
    },
    {
     "data": {
      "image/png": "[encoded data removed]",
      "text/plain": [
       "<Figure size 745.861x600 with 1 Axes>"
      ]
     },
     "metadata": {},
     "output_type": "display_data"
    }
   ],
   "source": [
    "sns.FacetGrid(pca_df, hue=\"cluster_assignment\", height=6).map(plt.scatter, '1st_principal', '2nd_principal').add_legend()\n",
    "plt.savefig(\"predictions_scatter.png\", format=\"png\", dpi=300)\n",
    "plt.show()"
   ]
  },
  {
   "cell_type": "code",
   "execution_count": 31,
   "id": "41eb2489-704b-4b26-aa97-3ef4b934c8e3",
   "metadata": {},
   "outputs": [],
   "source": [
    "pca_df['target'] = pd.Series(df_iris.target)"
   ]
  },
  {
   "cell_type": "code",
   "execution_count": 32,
   "id": "e587b71d-123e-488c-be74-dbe0c9464bc4",
   "metadata": {},
   "outputs": [
    {
     "data": {
      "text/html": [
       "<div>\n",
       "<style scoped>\n",
       "    .dataframe tbody tr th:only-of-type {\n",
       "        vertical-align: middle;\n",
       "    }\n",
       "\n",
       "    .dataframe tbody tr th {\n",
       "        vertical-align: top;\n",
       "    }\n",
       "\n",
       "    .dataframe thead th {\n",
       "        text-align: right;\n",
       "    }\n",
       "</style>\n",
       "<table border=\"1\" class=\"dataframe\">\n",
       "  <thead>\n",
       "    <tr style=\"text-align: right;\">\n",
       "      <th></th>\n",
       "      <th>1st_principal</th>\n",
       "      <th>2nd_principal</th>\n",
       "      <th>cluster_assignment</th>\n",
       "      <th>target</th>\n",
       "    </tr>\n",
       "  </thead>\n",
       "  <tbody>\n",
       "    <tr>\n",
       "      <th>0</th>\n",
       "      <td>-2.818240</td>\n",
       "      <td>-5.646350</td>\n",
       "      <td>1.0</td>\n",
       "      <td>0</td>\n",
       "    </tr>\n",
       "    <tr>\n",
       "      <th>1</th>\n",
       "      <td>-2.788223</td>\n",
       "      <td>-5.149951</td>\n",
       "      <td>1.0</td>\n",
       "      <td>0</td>\n",
       "    </tr>\n",
       "    <tr>\n",
       "      <th>2</th>\n",
       "      <td>-2.613375</td>\n",
       "      <td>-5.182003</td>\n",
       "      <td>1.0</td>\n",
       "      <td>0</td>\n",
       "    </tr>\n",
       "    <tr>\n",
       "      <th>3</th>\n",
       "      <td>-2.757022</td>\n",
       "      <td>-5.008654</td>\n",
       "      <td>1.0</td>\n",
       "      <td>0</td>\n",
       "    </tr>\n",
       "    <tr>\n",
       "      <th>4</th>\n",
       "      <td>-2.773649</td>\n",
       "      <td>-5.653707</td>\n",
       "      <td>1.0</td>\n",
       "      <td>0</td>\n",
       "    </tr>\n",
       "    <tr>\n",
       "      <th>...</th>\n",
       "      <td>...</td>\n",
       "      <td>...</td>\n",
       "      <td>...</td>\n",
       "      <td>...</td>\n",
       "    </tr>\n",
       "    <tr>\n",
       "      <th>145</th>\n",
       "      <td>-7.446475</td>\n",
       "      <td>-5.514485</td>\n",
       "      <td>0.0</td>\n",
       "      <td>2</td>\n",
       "    </tr>\n",
       "    <tr>\n",
       "      <th>146</th>\n",
       "      <td>-7.029532</td>\n",
       "      <td>-4.951636</td>\n",
       "      <td>2.0</td>\n",
       "      <td>2</td>\n",
       "    </tr>\n",
       "    <tr>\n",
       "      <th>147</th>\n",
       "      <td>-7.266711</td>\n",
       "      <td>-5.405811</td>\n",
       "      <td>0.0</td>\n",
       "      <td>2</td>\n",
       "    </tr>\n",
       "    <tr>\n",
       "      <th>148</th>\n",
       "      <td>-7.403307</td>\n",
       "      <td>-5.443581</td>\n",
       "      <td>0.0</td>\n",
       "      <td>2</td>\n",
       "    </tr>\n",
       "    <tr>\n",
       "      <th>149</th>\n",
       "      <td>-6.892554</td>\n",
       "      <td>-5.044292</td>\n",
       "      <td>2.0</td>\n",
       "      <td>2</td>\n",
       "    </tr>\n",
       "  </tbody>\n",
       "</table>\n",
       "<p>150 rows × 4 columns</p>\n",
       "</div>"
      ],
      "text/plain": [
       "     1st_principal  2nd_principal  cluster_assignment  target\n",
       "0        -2.818240      -5.646350                 1.0       0\n",
       "1        -2.788223      -5.149951                 1.0       0\n",
       "2        -2.613375      -5.182003                 1.0       0\n",
       "3        -2.757022      -5.008654                 1.0       0\n",
       "4        -2.773649      -5.653707                 1.0       0\n",
       "..             ...            ...                 ...     ...\n",
       "145      -7.446475      -5.514485                 0.0       2\n",
       "146      -7.029532      -4.951636                 2.0       2\n",
       "147      -7.266711      -5.405811                 0.0       2\n",
       "148      -7.403307      -5.443581                 0.0       2\n",
       "149      -6.892554      -5.044292                 2.0       2\n",
       "\n",
       "[150 rows x 4 columns]"
      ]
     },
     "execution_count": 32,
     "metadata": {},
     "output_type": "execute_result"
    }
   ],
   "source": [
    "pca_df"
   ]
  },
  {
   "cell_type": "code",
   "execution_count": 33,
   "id": "89d5a128-98c5-44e1-8e9a-017718a459a8",
   "metadata": {},
   "outputs": [],
   "source": [
    "#custom_palette = [\"red\", \"green\", \"orange\", \"blue\", \"yellow\", \"purple\"]\n",
    "custom_palette = ['#B3CDE3', '#CCEBC5', '#FBB4AE',  '#DECBE4', '#FED9A6', '#FFFFCC',  '#E5D8BD', '#FDDAEC', '#F2F2F2']\n",
    "sns.set_palette(custom_palette) "
   ]
  },
  {
   "cell_type": "code",
   "execution_count": 34,
   "id": "901825e9-bfea-4f57-a2ac-70f9a4e6a807",
   "metadata": {},
   "outputs": [
    {
     "name": "stderr",
     "output_type": "stream",
     "text": [
      "/opt/conda/lib/python3.8/site-packages/seaborn/axisgrid.py:745: FutureWarning: iteritems is deprecated and will be removed in a future version. Use .items instead.\n",
      "  plot_args = [v for k, v in plot_data.iteritems()]\n",
      "/opt/conda/lib/python3.8/site-packages/seaborn/axisgrid.py:745: FutureWarning: iteritems is deprecated and will be removed in a future version. Use .items instead.\n",
      "  plot_args = [v for k, v in plot_data.iteritems()]\n",
      "/opt/conda/lib/python3.8/site-packages/seaborn/axisgrid.py:745: FutureWarning: iteritems is deprecated and will be removed in a future version. Use .items instead.\n",
      "  plot_args = [v for k, v in plot_data.iteritems()]\n"
     ]
    },
    {
     "data": {
      "image/png": "[encoded data removed]",
      "text/plain": [
       "<Figure size 658.875x600 with 1 Axes>"
      ]
     },
     "metadata": {},
     "output_type": "display_data"
    }
   ],
   "source": [
    "sns.FacetGrid(pca_df, hue=\"target\", height=6).map(plt.scatter, '1st_principal', '2nd_principal').add_legend()\n",
    "plt.savefig(\"target_scatter.png\", format=\"png\", dpi=300)\n",
    "plt.show()"
   ]
  },
  {
   "cell_type": "code",
   "execution_count": 35,
   "id": "62a6d489-0524-4eaa-b79f-3ea55dc33cef",
   "metadata": {},
   "outputs": [],
   "source": [
    "spark.stop()"
   ]
  },
  {
   "cell_type": "code",
   "execution_count": null,
   "id": "edb52153-d603-454c-a4fb-633e870b93ec",
   "metadata": {},
   "outputs": [],
   "source": []
  }
 ],
 "metadata": {
  "kernelspec": {
   "display_name": "Python 3 (ipykernel)",
   "language": "python",
   "name": "python3"
  },
  "language_info": {
   "codemirror_mode": {
    "name": "ipython",
    "version": 3
   },
   "file_extension": ".py",
   "mimetype": "text/x-python",
   "name": "python",
   "nbconvert_exporter": "python",
   "pygments_lexer": "ipython3",
   "version": "3.8.13"
  }
 },
 "nbformat": 4,
 "nbformat_minor": 5
}
