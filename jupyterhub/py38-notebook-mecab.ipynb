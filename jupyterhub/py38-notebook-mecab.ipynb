{
 "cells": [
  {
   "cell_type": "code",
   "execution_count": 1,
   "metadata": {},
   "outputs": [
    {
     "name": "stdout",
     "output_type": "stream",
     "text": [
      "/opt/mecab/bin/mecab\n"
     ]
    }
   ],
   "source": [
    "!which mecab"
   ]
  },
  {
   "cell_type": "code",
   "execution_count": 2,
   "metadata": {},
   "outputs": [
    {
     "name": "stdout",
     "output_type": "stream",
     "text": [
      "/opt/mecab/bin/mecab-config\n"
     ]
    }
   ],
   "source": [
    "!which mecab-config"
   ]
  },
  {
   "cell_type": "code",
   "execution_count": 3,
   "metadata": {},
   "outputs": [
    {
     "name": "stdout",
     "output_type": "stream",
     "text": [
      "/opt/mecab/lib/mecab/dic\n"
     ]
    }
   ],
   "source": [
    "# MeCabの辞書ファイルのインストール先の確認\n",
    "!mecab-config --dicdir"
   ]
  },
  {
   "cell_type": "code",
   "execution_count": 4,
   "metadata": {},
   "outputs": [
    {
     "name": "stdout",
     "output_type": "stream",
     "text": [
      "filename:\t/opt/mecab/lib/mecab/dic/ipadic/sys.dic\n",
      "version:\t102\n",
      "charset:\tutf8\n",
      "type:\t0\n",
      "size:\t392126\n",
      "left size:\t1316\n",
      "right size:\t1316\n",
      "\n"
     ]
    }
   ],
   "source": [
    "# 辞書の指定をしなかった場合に使われる辞書ファイルの確認\n",
    "!mecab -D"
   ]
  },
  {
   "cell_type": "code",
   "execution_count": 5,
   "metadata": {},
   "outputs": [
    {
     "name": "stdout",
     "output_type": "stream",
     "text": [
      "/opt/mecab/etc\n"
     ]
    }
   ],
   "source": [
    "# MeCabの設定ファイル(mecabrc)の場所を調べる\n",
    "!mecab-config --sysconfdir"
   ]
  },
  {
   "cell_type": "code",
   "execution_count": 6,
   "metadata": {},
   "outputs": [
    {
     "name": "stdout",
     "output_type": "stream",
     "text": [
      "cat: /etc/mecabrc: No such file or directory\n"
     ]
    }
   ],
   "source": [
    "# MeCabの設定ファイル(mecabrc)の内容を確認する\n",
    "!cat /etc/mecabrc"
   ]
  },
  {
   "cell_type": "code",
   "execution_count": 7,
   "metadata": {},
   "outputs": [
    {
     "name": "stdout",
     "output_type": "stream",
     "text": [
      "['私', '名詞,代名詞,一般,*,*,*,私,ワタシ,ワタシ', 'は', '助詞,係助詞,*,*,*,*,は,ハ,ワ', '猫', '名詞,一般,*,*,*,*,猫,ネコ,ネコ', 'が', '助詞,格助詞,一般,*,*,*,が,ガ,ガ', '好き', '名詞,形容動詞語幹,*,*,*,*,好き,スキ,スキ', 'です', '助動詞,*,*,*,特殊・デス,基本形,です,デス,デス', 'EOS']\n"
     ]
    }
   ],
   "source": [
    "import MeCab\n",
    "wakati=MeCab.Tagger(\"-d /opt/mecab/lib/mecab/dic/ipadic -r /dev/null \")\n",
    "sentence_wakati = wakati.parse(\"私は猫が好きです\").split()\n",
    "print(sentence_wakati)"
   ]
  },
  {
   "cell_type": "code",
   "execution_count": 8,
   "metadata": {},
   "outputs": [
    {
     "name": "stdout",
     "output_type": "stream",
     "text": [
      "['私', 'は', '猫', 'が', '好き', 'です']\n"
     ]
    }
   ],
   "source": [
    "import MeCab\n",
    "wakati=MeCab.Tagger(\"-d /opt/mecab/lib/mecab/dic/ipadic -r /dev/null -Owakati\")\n",
    "sentence_wakati = wakati.parse(\"私は猫が好きです\").split()\n",
    "print(sentence_wakati)"
   ]
  },
  {
   "cell_type": "code",
   "execution_count": 9,
   "metadata": {},
   "outputs": [
    {
     "name": "stdout",
     "output_type": "stream",
     "text": [
      "[['私', 'は', '猫', 'が', '好き', 'です'], ['私', 'は', '猫', 'が', '嫌い', 'です'], ['私', 'は', '犬', 'が', '好き', 'です'], ['私', 'は', '犬', 'が', '嫌い', 'です']]\n"
     ]
    }
   ],
   "source": [
    "import MeCab\n",
    "wakati=MeCab.Tagger(\"-d /opt/mecab/lib/mecab/dic/ipadic -r /dev/null -Owakati\")\n",
    "sentence_list = [\"私は猫が好きです\", \"私は猫が嫌いです\", \"私は犬が好きです\", \"私は犬が嫌いです\"]\n",
    "sentence_wakati_list = [wakati.parse(i).split() for i in sentence_list]\n",
    "print(sentence_wakati_list)"
   ]
  },
  {
   "cell_type": "code",
   "execution_count": 10,
   "metadata": {},
   "outputs": [
    {
     "name": "stdout",
     "output_type": "stream",
     "text": [
      "今週\t名詞,副詞可能,*,*,*,*,今週,コンシュウ,コンシュー\n",
      "末\t名詞,接尾,副詞可能,*,*,*,末,マツ,マツ\n",
      "は\t助詞,係助詞,*,*,*,*,は,ハ,ワ\n",
      "金剛山\t名詞,固有名詞,一般,*,*,*,金剛山,コンゴウザン,コンゴーザン\n",
      "に\t助詞,格助詞,一般,*,*,*,に,ニ,ニ\n",
      "登り\t名詞,一般,*,*,*,*,登り,ノボリ,ノボリ\n",
      "に\t助詞,格助詞,一般,*,*,*,に,ニ,ニ\n",
      "行っ\t動詞,自立,*,*,五段・カ行促音便,連用タ接続,行く,イッ,イッ\n",
      "て\t助詞,接続助詞,*,*,*,*,て,テ,テ\n",
      "、\t記号,読点,*,*,*,*,、,、,、\n",
      "その\t連体詞,*,*,*,*,*,その,ソノ,ソノ\n",
      "あと\t名詞,一般,*,*,*,*,あと,アト,アト\n",
      "新\t接頭詞,名詞接続,*,*,*,*,新,シン,シン\n",
      "世界\t名詞,一般,*,*,*,*,世界,セカイ,セカイ\n",
      "か\t助詞,副助詞／並立助詞／終助詞,*,*,*,*,か,カ,カ\n",
      "どっか\t名詞,代名詞,一般,*,*,*,どっか,ドッカ,ドッカ\n",
      "で\t助詞,格助詞,一般,*,*,*,で,デ,デ\n",
      "打ち上げ\t動詞,自立,*,*,一段,連用形,打ち上げる,ウチアゲ,ウチアゲ\n",
      "し\t動詞,自立,*,*,サ変・スル,連用形,する,シ,シ\n",
      "ましょ\t助動詞,*,*,*,特殊・マス,未然ウ接続,ます,マショ,マショ\n",
      "。\t記号,句点,*,*,*,*,。,。,。\n",
      "EOS\n",
      "\n",
      "今週\n",
      "末\n",
      "金剛山\n",
      "登り\n",
      "あと\n",
      "世界\n",
      "どっか\n"
     ]
    }
   ],
   "source": [
    "import MeCab\n",
    "\n",
    "wakati=MeCab.Tagger(\"-d /opt/mecab/lib/mecab/dic/ipadic -r /dev/null\")\n",
    "input = '今週末は金剛山に登りに行って、そのあと新世界かどっかで打ち上げしましょ。'\n",
    "\n",
    "result = wakati.parse(input)\n",
    "print(result)\n",
    "\n",
    "node = wakati.parseToNode(input)\n",
    "target_parts_of_speech = ('名詞', )\n",
    "while node:\n",
    "    if node.feature.split(',')[0] in target_parts_of_speech:\n",
    "        print(node.surface)\n",
    "    node = node.next"
   ]
  },
  {
   "cell_type": "code",
   "execution_count": null,
   "metadata": {},
   "outputs": [],
   "source": []
  }
 ],
 "metadata": {
  "kernelspec": {
   "display_name": "Python 3 (ipykernel)",
   "language": "python",
   "name": "python3"
  },
  "language_info": {
   "codemirror_mode": {
    "name": "ipython",
    "version": 3
   },
   "file_extension": ".py",
   "mimetype": "text/x-python",
   "name": "python",
   "nbconvert_exporter": "python",
   "pygments_lexer": "ipython3",
   "version": "3.8.8"
  }
 },
 "nbformat": 4,
 "nbformat_minor": 4
}
