{
 "cells": [
  {
   "cell_type": "code",
   "execution_count": 1,
   "metadata": {},
   "outputs": [
    {
     "name": "stdout",
     "output_type": "stream",
     "text": [
      "/opt/mecab/bin/mecab\n"
     ]
    }
   ],
   "source": [
    "!which mecab"
   ]
  },
  {
   "cell_type": "code",
   "execution_count": 2,
   "metadata": {},
   "outputs": [
    {
     "name": "stdout",
     "output_type": "stream",
     "text": [
      "/opt/mecab/lib/mecab/dic\n"
     ]
    }
   ],
   "source": [
    "# MeCabの辞書ファイルのインストール先の確認\n",
    "!mecab-config --dicdir"
   ]
  },
  {
   "cell_type": "code",
   "execution_count": 3,
   "metadata": {},
   "outputs": [
    {
     "name": "stdout",
     "output_type": "stream",
     "text": [
      "filename:\t/opt/mecab/lib/mecab/dic/ipadic/sys.dic\n",
      "version:\t102\n",
      "charset:\tutf8\n",
      "type:\t0\n",
      "size:\t392126\n",
      "left size:\t1316\n",
      "right size:\t1316\n",
      "\n"
     ]
    }
   ],
   "source": [
    "# 辞書の指定をしなかった場合に使われる辞書ファイルの確認\n",
    "!mecab -D"
   ]
  },
  {
   "cell_type": "code",
   "execution_count": 4,
   "metadata": {},
   "outputs": [
    {
     "name": "stdout",
     "output_type": "stream",
     "text": [
      "/opt/mecab/etc\n"
     ]
    }
   ],
   "source": [
    "# MeCabの設定ファイル(mecabrc)の場所を調べる\n",
    "!mecab-config --sysconfdir"
   ]
  },
  {
   "cell_type": "code",
   "execution_count": 5,
   "metadata": {},
   "outputs": [
    {
     "name": "stdout",
     "output_type": "stream",
     "text": [
      ";\n",
      "; Configuration file of MeCab\n",
      ";\n",
      "; $Id: mecabrc.in,v 1.3 2006/05/29 15:36:08 taku-ku Exp $;\n",
      ";\n",
      "dicdir =  /opt/mecab/lib/mecab/dic/ipadic\n",
      "\n",
      "; userdic = /home/foo/bar/user.dic\n",
      "\n",
      "; output-format-type = wakati\n",
      "; input-buffer-size = 8192\n",
      "\n",
      "; node-format = %m\\n\n",
      "; bos-format = %S\\n\n",
      "; eos-format = EOS\\n\n",
      "\n"
     ]
    }
   ],
   "source": [
    "# MeCabの設定ファイル(mecabrc)の内容を確認する\n",
    "!cat /opt/mecab/etc/mecabrc"
   ]
  },
  {
   "cell_type": "code",
   "execution_count": 6,
   "metadata": {},
   "outputs": [
    {
     "name": "stdout",
     "output_type": "stream",
     "text": [
      "['私', '名詞,代名詞,一般,*,*,*,私,ワタシ,ワタシ', 'は', '助詞,係助詞,*,*,*,*,は,ハ,ワ', '、', '記号,読点,*,*,*,*,、,、,、', 'たこ焼き', '名詞,一般,*,*,*,*,たこ焼き,タコヤキ,タコヤキ', 'を', '助詞,格助詞,一般,*,*,*,を,ヲ,ヲ', '食べ', '動詞,自立,*,*,一段,連用形,食べる,タベ,タベ', 'たい', '助動詞,*,*,*,特殊・タイ,基本形,たい,タイ,タイ', 'です', '助動詞,*,*,*,特殊・デス,基本形,です,デス,デス', '。', '記号,句点,*,*,*,*,。,。,。', 'EOS']\n"
     ]
    }
   ],
   "source": [
    "import MeCab\n",
    "wakati=MeCab.Tagger(\"-d /opt/mecab/lib/mecab/dic/ipadic -r /dev/null \")\n",
    "sentence_wakati = wakati.parse(\"私は、たこ焼きを食べたいです。\").split()\n",
    "print(sentence_wakati)"
   ]
  },
  {
   "cell_type": "code",
   "execution_count": 7,
   "metadata": {},
   "outputs": [
    {
     "name": "stdout",
     "output_type": "stream",
     "text": [
      "['私', 'は', '、', 'たこ焼き', 'を', '食べ', 'たい', 'です', '。']\n"
     ]
    }
   ],
   "source": [
    "import MeCab\n",
    "wakati=MeCab.Tagger(\"-d /opt/mecab/lib/mecab/dic/ipadic -r /dev/null -Owakati\")\n",
    "sentence_wakati = wakati.parse(\"私は、たこ焼きを食べたいです。\").split()\n",
    "print(sentence_wakati)"
   ]
  },
  {
   "cell_type": "code",
   "execution_count": 8,
   "metadata": {},
   "outputs": [
    {
     "name": "stdout",
     "output_type": "stream",
     "text": [
      "[['私', 'は', '、', 'たこ焼き', 'を', '食べ', 'たい', 'です', '。'], ['私', 'は', '、', '春菊', 'の', '香り', 'が', '少し', '苦手', 'です', '。']]\n"
     ]
    }
   ],
   "source": [
    "import MeCab\n",
    "wakati=MeCab.Tagger(\"-d /opt/mecab/lib/mecab/dic/ipadic -r /dev/null -Owakati\")\n",
    "sentence_list = [\"私は、たこ焼きを食べたいです。\", \"私は、春菊の香りが少し苦手です。\"]\n",
    "sentence_wakati_list = [wakati.parse(i).split() for i in sentence_list]\n",
    "print(sentence_wakati_list)"
   ]
  },
  {
   "cell_type": "code",
   "execution_count": 9,
   "metadata": {},
   "outputs": [
    {
     "name": "stdout",
     "output_type": "stream",
     "text": [
      "Yahoo\t名詞,固有名詞,組織,*,*,*,*\n",
      "は\t助詞,係助詞,*,*,*,*,は,ハ,ワ\n",
      "、\t記号,読点,*,*,*,*,、,、,、\n",
      "インターネット\t名詞,一般,*,*,*,*,インターネット,インターネット,インターネット\n",
      "関連\t名詞,サ変接続,*,*,*,*,関連,カンレン,カンレン\n",
      "サービス\t名詞,サ変接続,*,*,*,*,サービス,サービス,サービス\n",
      "を\t助詞,格助詞,一般,*,*,*,を,ヲ,ヲ\n",
      "展開\t名詞,サ変接続,*,*,*,*,展開,テンカイ,テンカイ\n",
      "する\t動詞,自立,*,*,サ変・スル,基本形,する,スル,スル\n",
      "アメリカ\t名詞,固有名詞,地域,国,*,*,アメリカ,アメリカ,アメリカ\n",
      "の\t助詞,連体化,*,*,*,*,の,ノ,ノ\n",
      "IT\t名詞,一般,*,*,*,*,*\n",
      "企業\t名詞,一般,*,*,*,*,企業,キギョウ,キギョー\n",
      "。\t記号,句点,*,*,*,*,。,。,。\n",
      "カリフォルニア\t名詞,固有名詞,地域,一般,*,*,カリフォルニア,カリフォルニア,カリフォルニア\n",
      "州\t名詞,接尾,地域,*,*,*,州,シュウ,シュー\n",
      "サニー\t名詞,固有名詞,一般,*,*,*,サニー,サニー,サニー\n",
      "ベール\t名詞,一般,*,*,*,*,ベール,ベール,ベール\n",
      "に\t助詞,格助詞,一般,*,*,*,に,ニ,ニ\n",
      "本社\t名詞,一般,*,*,*,*,本社,ホンシャ,ホンシャ\n",
      "を\t助詞,格助詞,一般,*,*,*,を,ヲ,ヲ\n",
      "置く\t動詞,自立,*,*,五段・カ行イ音便,基本形,置く,オク,オク\n",
      "。\t記号,句点,*,*,*,*,。,。,。\n",
      "Yahoo\t名詞,一般,*,*,*,*,*\n",
      "ブランド\t名詞,一般,*,*,*,*,ブランド,ブランド,ブランド\n",
      "の\t助詞,連体化,*,*,*,*,の,ノ,ノ\n",
      "Web\t名詞,一般,*,*,*,*,*\n",
      "サービス\t名詞,サ変接続,*,*,*,*,サービス,サービス,サービス\n",
      "に\t助詞,格助詞,一般,*,*,*,に,ニ,ニ\n",
      "加え\t動詞,自立,*,*,一段,連用形,加える,クワエ,クワエ\n",
      "、\t記号,読点,*,*,*,*,、,、,、\n",
      "TechCrunch\t名詞,固有名詞,組織,*,*,*,*\n",
      "、\t記号,読点,*,*,*,*,、,、,、\n",
      "AOL\t名詞,固有名詞,組織,*,*,*,*\n",
      "、\t記号,読点,*,*,*,*,、,、,、\n",
      "Engadget\t名詞,固有名詞,組織,*,*,*,*\n",
      "、\t記号,読点,*,*,*,*,、,、,、\n",
      "RYOT\t名詞,固有名詞,組織,*,*,*,*\n",
      "など\t助詞,副助詞,*,*,*,*,など,ナド,ナド\n",
      "の\t助詞,連体化,*,*,*,*,の,ノ,ノ\n",
      "メディア\t名詞,一般,*,*,*,*,メディア,メディア,メディア\n",
      "ブランド\t名詞,一般,*,*,*,*,ブランド,ブランド,ブランド\n",
      "も\t助詞,係助詞,*,*,*,*,も,モ,モ\n",
      "運営\t名詞,サ変接続,*,*,*,*,運営,ウンエイ,ウンエイ\n",
      "し\t動詞,自立,*,*,サ変・スル,連用形,する,シ,シ\n",
      "て\t助詞,接続助詞,*,*,*,*,て,テ,テ\n",
      "いる\t動詞,非自立,*,*,一段,基本形,いる,イル,イル\n",
      "。\t記号,句点,*,*,*,*,。,。,。\n",
      "EOS\n",
      "\n",
      "Yahoo\n",
      "インターネット\n",
      "関連\n",
      "サービス\n",
      "展開\n",
      "アメリカ\n",
      "IT\n",
      "企業\n",
      "カリフォルニア\n",
      "州\n",
      "サニー\n",
      "ベール\n",
      "本社\n",
      "Yahoo\n",
      "ブランド\n",
      "Web\n",
      "サービス\n",
      "TechCrunch\n",
      "AOL\n",
      "Engadget\n",
      "RYOT\n",
      "メディア\n",
      "ブランド\n",
      "運営\n"
     ]
    }
   ],
   "source": [
    "import MeCab\n",
    "\n",
    "wakati=MeCab.Tagger(\"-d /opt/mecab/lib/mecab/dic/ipadic -r /dev/null\")\n",
    "input = 'Yahooは、インターネット関連サービスを展開するアメリカのIT企業。カリフォルニア州サニーベールに本社を置く。YahooブランドのWebサービスに加え、TechCrunch、AOL、Engadget、RYOTなどのメディアブランドも運営している。'\n",
    "\n",
    "result = wakati.parse(input)\n",
    "print(result)\n",
    "\n",
    "node = wakati.parseToNode(input)\n",
    "target_parts_of_speech = ('名詞', )\n",
    "while node:\n",
    "    if node.feature.split(',')[0] in target_parts_of_speech:\n",
    "        print(node.surface)\n",
    "    node = node.next"
   ]
  },
  {
   "cell_type": "code",
   "execution_count": null,
   "metadata": {},
   "outputs": [],
   "source": []
  }
 ],
 "metadata": {
  "kernelspec": {
   "display_name": "Python 3 (ipykernel)",
   "language": "python",
   "name": "python3"
  },
  "language_info": {
   "codemirror_mode": {
    "name": "ipython",
    "version": 3
   },
   "file_extension": ".py",
   "mimetype": "text/x-python",
   "name": "python",
   "nbconvert_exporter": "python",
   "pygments_lexer": "ipython3",
   "version": "3.8.8"
  }
 },
 "nbformat": 4,
 "nbformat_minor": 4
}
