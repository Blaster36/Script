{
 "cells": [
  {
   "cell_type": "code",
   "execution_count": 1,
   "metadata": {},
   "outputs": [
    {
     "name": "stdout",
     "output_type": "stream",
     "text": [
      "Python 3.6.10 :: Anaconda, Inc.\n"
     ]
    }
   ],
   "source": [
    "!python -V"
   ]
  },
  {
   "cell_type": "code",
   "execution_count": 2,
   "metadata": {},
   "outputs": [
    {
     "name": "stdout",
     "output_type": "stream",
     "text": [
      "pip 21.3.1 from /home/jovyan/.local/lib/python3.6/site-packages/pip (python 3.6)\n"
     ]
    }
   ],
   "source": [
    "!python -m pip --version"
   ]
  },
  {
   "cell_type": "code",
   "execution_count": 3,
   "metadata": {},
   "outputs": [
    {
     "name": "stdout",
     "output_type": "stream",
     "text": [
      "JUPYTERHUB_CLIENT_ID=jupyterhub-user-jupyter\n",
      "JUPYTERHUB_ACTIVITY_URL=http://jupyterhub:8081/hub/api/users/jupyter/activity\n",
      "JUPYTERHUB_BASE_URL=/\n",
      "JUPYTER_PORT=8888\n",
      "JUPYTERHUB_USER=jupyter\n",
      "JUPYTERHUB_SERVICE_PREFIX=/user/jupyter/\n",
      "JUPYTERHUB_SERVER_NAME=\n",
      "JUPYTERHUB_API_URL=http://jupyterhub:8081/hub/api\n",
      "JUPYTERHUB_HOST=\n",
      "JUPYTERHUB_OAUTH_CALLBACK_URL=/user/jupyter/oauth_callback\n",
      "JUPYTERHUB_API_TOKEN=c1040190b3ef4ab0b4777de0904274e7\n",
      "JUPYTER_IMAGE_SPEC=nvcr.io/nvidia/pytorch:20.11-py3-gpu\n"
     ]
    }
   ],
   "source": [
    "!printenv | grep -i jupyter"
   ]
  },
  {
   "cell_type": "code",
   "execution_count": 4,
   "metadata": {},
   "outputs": [
    {
     "name": "stdout",
     "output_type": "stream",
     "text": [
      "Defaulting to user installation because normal site-packages is not writeable\n",
      "Requirement already satisfied: pip in /home/jovyan/.local/lib/python3.6/site-packages (21.3.1)\n"
     ]
    }
   ],
   "source": [
    "!python -m pip install pip -U"
   ]
  },
  {
   "cell_type": "code",
   "execution_count": 5,
   "metadata": {},
   "outputs": [
    {
     "name": "stdout",
     "output_type": "stream",
     "text": [
      "Defaulting to user installation because normal site-packages is not writeable\n",
      "Requirement already satisfied: torch in /opt/conda/lib/python3.6/site-packages (1.8.0a0+17f8c32)\n",
      "Requirement already satisfied: torchvision in /opt/conda/lib/python3.6/site-packages (0.8.0a0)\n",
      "Requirement already satisfied: transformers[ja] in /home/jovyan/.local/lib/python3.6/site-packages (4.15.0)\n",
      "Requirement already satisfied: typing_extensions in /opt/conda/lib/python3.6/site-packages (from torch) (3.7.4.3)\n",
      "Requirement already satisfied: numpy in /opt/conda/lib/python3.6/site-packages (from torch) (1.18.5)\n",
      "Requirement already satisfied: dataclasses in /opt/conda/lib/python3.6/site-packages (from torch) (0.7)\n",
      "Requirement already satisfied: pillow>=4.1.1 in /home/jovyan/.local/lib/python3.6/site-packages (from torchvision) (8.3.1)\n",
      "Requirement already satisfied: sacremoses in /opt/conda/lib/python3.6/site-packages (from transformers[ja]) (0.0.35)\n",
      "Requirement already satisfied: tokenizers<0.11,>=0.10.1 in /home/jovyan/.local/lib/python3.6/site-packages (from transformers[ja]) (0.10.3)\n",
      "Requirement already satisfied: pyyaml>=5.1 in /opt/conda/lib/python3.6/site-packages (from transformers[ja]) (5.3.1)\n",
      "Requirement already satisfied: requests in /opt/conda/lib/python3.6/site-packages (from transformers[ja]) (2.24.0)\n",
      "Requirement already satisfied: tqdm>=4.27 in /home/jovyan/.local/lib/python3.6/site-packages (from transformers[ja]) (4.62.3)\n",
      "Requirement already satisfied: huggingface-hub<1.0,>=0.1.0 in /home/jovyan/.local/lib/python3.6/site-packages (from transformers[ja]) (0.2.1)\n",
      "Requirement already satisfied: importlib-metadata in /opt/conda/lib/python3.6/site-packages (from transformers[ja]) (2.0.0)\n",
      "Requirement already satisfied: regex!=2019.12.17 in /opt/conda/lib/python3.6/site-packages (from transformers[ja]) (2020.10.28)\n",
      "Requirement already satisfied: packaging>=20.0 in /home/jovyan/.local/lib/python3.6/site-packages (from transformers[ja]) (21.3)\n",
      "Requirement already satisfied: filelock in /opt/conda/lib/python3.6/site-packages (from transformers[ja]) (3.0.12)\n",
      "Requirement already satisfied: unidic-lite>=1.0.7 in /home/jovyan/.local/lib/python3.6/site-packages (from transformers[ja]) (1.0.8)\n",
      "Requirement already satisfied: unidic>=1.0.2 in /home/jovyan/.local/lib/python3.6/site-packages (from transformers[ja]) (1.1.0)\n",
      "Requirement already satisfied: ipadic<2.0,>=1.0.0 in /opt/conda/lib/python3.6/site-packages (from transformers[ja]) (1.0.0)\n",
      "Requirement already satisfied: fugashi>=1.0 in /opt/conda/lib/python3.6/site-packages (from transformers[ja]) (1.1.1)\n",
      "Requirement already satisfied: pyparsing!=3.0.5,>=2.0.2 in /opt/conda/lib/python3.6/site-packages (from packaging>=20.0->transformers[ja]) (2.4.7)\n",
      "Requirement already satisfied: wasabi<1.0.0,>=0.6.0 in /opt/conda/lib/python3.6/site-packages (from unidic>=1.0.2->transformers[ja]) (0.8.0)\n",
      "Requirement already satisfied: plac<2.0.0,>=1.1.3 in /home/jovyan/.local/lib/python3.6/site-packages (from unidic>=1.0.2->transformers[ja]) (1.3.4)\n",
      "Requirement already satisfied: urllib3!=1.25.0,!=1.25.1,<1.26,>=1.21.1 in /opt/conda/lib/python3.6/site-packages (from requests->transformers[ja]) (1.25.11)\n",
      "Requirement already satisfied: certifi>=2017.4.17 in /opt/conda/lib/python3.6/site-packages (from requests->transformers[ja]) (2020.6.20)\n",
      "Requirement already satisfied: chardet<4,>=3.0.2 in /opt/conda/lib/python3.6/site-packages (from requests->transformers[ja]) (3.0.4)\n",
      "Requirement already satisfied: idna<3,>=2.5 in /opt/conda/lib/python3.6/site-packages (from requests->transformers[ja]) (2.9)\n",
      "Requirement already satisfied: zipp>=0.5 in /opt/conda/lib/python3.6/site-packages (from importlib-metadata->transformers[ja]) (3.4.0)\n",
      "Requirement already satisfied: six in /opt/conda/lib/python3.6/site-packages (from sacremoses->transformers[ja]) (1.15.0)\n",
      "Requirement already satisfied: joblib in /opt/conda/lib/python3.6/site-packages (from sacremoses->transformers[ja]) (0.17.0)\n",
      "Requirement already satisfied: click in /opt/conda/lib/python3.6/site-packages (from sacremoses->transformers[ja]) (7.1.2)\n"
     ]
    }
   ],
   "source": [
    "!python -m pip install torch torchvision transformers[ja]"
   ]
  },
  {
   "cell_type": "code",
   "execution_count": 6,
   "metadata": {},
   "outputs": [
    {
     "name": "stdout",
     "output_type": "stream",
     "text": [
      "pytorch-transformers          1.1.0\n",
      "torch                         1.8.0a0+17f8c32\n",
      "torchaudio                    0.9.0\n",
      "torchtext                     0.8.0a0\n",
      "torchvision                   0.8.0a0\n"
     ]
    }
   ],
   "source": [
    "!pip list | grep -i torch"
   ]
  },
  {
   "cell_type": "code",
   "execution_count": 7,
   "metadata": {},
   "outputs": [
    {
     "name": "stdout",
     "output_type": "stream",
     "text": [
      "pytorch-transformers          1.1.0\n",
      "transformers                  4.15.0\n"
     ]
    }
   ],
   "source": [
    "!pip list | grep -i transformers"
   ]
  },
  {
   "cell_type": "code",
   "execution_count": 8,
   "metadata": {},
   "outputs": [],
   "source": [
    "from transformers import pipeline, AutoTokenizer, AutoModelForSequenceClassification\n",
    "\n",
    "model = AutoModelForSequenceClassification.from_pretrained(\"/home/jovyan/bert-base-japanese-sentiment\")\n",
    "tokenizer = AutoTokenizer.from_pretrained(\"/home/jovyan/bert-base-japanese-whole-word-masking\", word_tokenizer_type=\"mecab\", mecab_kwargs={\"mecab_option\": \"-d /home/jovyan/mecab/ipadic -r /dev/null\"})\n",
    "\n",
    "sentiment_analyzer = pipeline(\"sentiment-analysis\", model=model, tokenizer=tokenizer)"
   ]
  },
  {
   "cell_type": "code",
   "execution_count": 9,
   "metadata": {},
   "outputs": [
    {
     "data": {
      "text/plain": [
       "[{'label': 'ポジティブ', 'score': 0.942003071308136}]"
      ]
     },
     "execution_count": 9,
     "metadata": {},
     "output_type": "execute_result"
    }
   ],
   "source": [
    "sentiment_analyzer('私はとっても幸せ')"
   ]
  },
  {
   "cell_type": "code",
   "execution_count": 10,
   "metadata": {},
   "outputs": [
    {
     "data": {
      "text/plain": [
       "[{'label': 'ネガティブ', 'score': 0.9948635697364807}]"
      ]
     },
     "execution_count": 10,
     "metadata": {},
     "output_type": "execute_result"
    }
   ],
   "source": [
    "sentiment_analyzer('私はとっても不幸')"
   ]
  },
  {
   "cell_type": "code",
   "execution_count": 11,
   "metadata": {},
   "outputs": [
    {
     "data": {
      "text/plain": [
       "[{'label': 'ネガティブ', 'score': 0.9842948913574219}]"
      ]
     },
     "execution_count": 11,
     "metadata": {},
     "output_type": "execute_result"
    }
   ],
   "source": [
    "sentiment_analyzer('私はとっても幸せなはずがない')"
   ]
  },
  {
   "cell_type": "code",
   "execution_count": null,
   "metadata": {},
   "outputs": [],
   "source": []
  }
 ],
 "metadata": {
  "kernelspec": {
   "display_name": "Python 3",
   "language": "python",
   "name": "python3"
  },
  "language_info": {
   "codemirror_mode": {
    "name": "ipython",
    "version": 3
   },
   "file_extension": ".py",
   "mimetype": "text/x-python",
   "name": "python",
   "nbconvert_exporter": "python",
   "pygments_lexer": "ipython3",
   "version": "3.6.10"
  }
 },
 "nbformat": 4,
 "nbformat_minor": 5
}
