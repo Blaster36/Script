{
 "cells": [
  {
   "cell_type": "markdown",
   "metadata": {},
   "source": [
    "[HuggingFace(BERT)を使ってお手軽に日本語ニュースを分類する](https://qiita.com/ku_a_i/items/bac3befedbadab45774f)\n"
   ]
  },
  {
   "cell_type": "code",
   "execution_count": 2,
   "metadata": {},
   "outputs": [],
   "source": [
    "import os\n",
    "import pandas as pd\n",
    "\n",
    "def get_title_list(path):\n",
    "    \"\"\"記事タイトル取得関数\"\"\"\n",
    "    title_list = []\n",
    "    filenames = os.listdir(path) #ファイル名称一覧取得\n",
    "    for filename in filenames:\n",
    "        # 1記事ずつファイルの読み込み\n",
    "        with open(path+filename, encoding=\"utf_8_sig\") as f:\n",
    "            title = f.readlines()[2].strip() #各記事テキストの改行2番目に記事タイトルが記載してある\n",
    "            title_list.append(title)\n",
    "    return title_list\n",
    "\n",
    "# データセットの生成(タイトルとラベル付与)\n",
    "\"\"\"\n",
    "今回は例として与えられた記事タイトルから\n",
    "どのニュース媒体記事なのか？(独女通信、ITライフハック、MOVIE ENTERの3種類)\n",
    "を分類する為のデータセットを作成する\n",
    "\"\"\"\n",
    "df = pd.DataFrame(columns=['label', 'sentence']) #空データフレーム\n",
    "\n",
    "#独女通信(ラベル0)\n",
    "title_list = get_title_list('./livedoor_news/dokujo-tsushin/')\n",
    "for title in title_list:\n",
    "    df = df.append({'label':0 , 'sentence':title}, ignore_index=True) #ignore_indexで合体後のindexを連番に\n",
    "\n",
    "#ITライフハック(ラベル1)\n",
    "title_list = get_title_list('./livedoor_news/it-life-hack/')\n",
    "for title in title_list:\n",
    "    df = df.append({'label':1 , 'sentence':title}, ignore_index=True)\n",
    "\n",
    "#MOVIE ENTER(ラベル2)\n",
    "title_list = get_title_list('./livedoor_news/movie-enter/')\n",
    "for title in title_list:\n",
    "    df = df.append({'label':2 , 'sentence':title}, ignore_index=True)\n",
    "\n",
    "# 全データの順番をシャッフル(+index振り直し)\n",
    "df = df.sample(frac=1 ,random_state=0).reset_index(drop=True)\n",
    "\n",
    "#一応csvとしても保存しておく\n",
    "df.to_csv('livedoor_sentence.csv', sep=',', index=False, encoding='utf_8_sig')"
   ]
  },
  {
   "cell_type": "code",
   "execution_count": 4,
   "metadata": {},
   "outputs": [
    {
     "data": {
      "text/plain": [
       "Counter({1: 871, 2: 871, 0: 871})"
      ]
     },
     "execution_count": 4,
     "metadata": {},
     "output_type": "execute_result"
    }
   ],
   "source": [
    "import collections\n",
    "\n",
    "collections.Counter(df['label'])"
   ]
  },
  {
   "cell_type": "code",
   "execution_count": 6,
   "metadata": {},
   "outputs": [],
   "source": [
    "from transformers import BertJapaneseTokenizer\n",
    "\n",
    "\"\"\"\n",
    "・BertJapaneseTokenizerは日本語用のBERTトークナイザ\n",
    "・from_pretrainedで指定されたPytorchモデルの事前学習を実行する\n",
    "・\"cl-tohoku/bert-base-japanese-v2\"は東北大学の日本語事前学習用BERTモデル ※下記補足参照\n",
    "・do_subword_tokenizeは、サブワードのトークン化をするかどうか\n",
    "・mecab_kwargsでMeCabユーザー辞書やNeoLogd等の指定も可能\n",
    "　※\"mecab_dic\": Noneでデフォルト辞書(UniDic)をOFFにする必要あり\n",
    "\"\"\"\n",
    "tokenizer = BertJapaneseTokenizer.from_pretrained(\n",
    "    \"bert-base-japanese-v2\", \n",
    "    #do_subword_tokenize=False,\n",
    "    #mecab_kwargs={\"mecab_dic\": None, \"mecab_option\": \"-d 'C:\\mecab-unidic-neologd'\"\n",
    ")"
   ]
  },
  {
   "cell_type": "code",
   "execution_count": 7,
   "metadata": {},
   "outputs": [
    {
     "name": "stdout",
     "output_type": "stream",
     "text": [
      "tensor([    2, 32589, 17651, 16947,   862,  5128,   893, 12953,     3])\n",
      "['[CLS]', '楽しく', 'リズム', '感覚', 'が', '身', 'に', 'つく', '[SEP]']\n"
     ]
    }
   ],
   "source": [
    "#適当なキーワードでトークナイズしてみる\n",
    "text = \"楽しくリズム感覚が身につく\"\n",
    "\n",
    "#tokenizer.encodeでテキストをトークンIDに,return_tensors='pt'でPytorch型のテンソル型に変換\n",
    "ids = tokenizer.encode(text, return_tensors='pt')[0]\n",
    "wakati = tokenizer.convert_ids_to_tokens(ids) #どのようにトークナイズされたか分かち書きで確認\n",
    "print(ids)\n",
    "print(wakati)"
   ]
  },
  {
   "cell_type": "code",
   "execution_count": 8,
   "metadata": {},
   "outputs": [
    {
     "name": "stderr",
     "output_type": "stream",
     "text": [
      "Some weights of the model checkpoint at bert-base-japanese-v2 were not used when initializing BertForSequenceClassification: ['cls.predictions.transform.dense.bias', 'cls.seq_relationship.weight', 'cls.seq_relationship.bias', 'cls.predictions.transform.LayerNorm.weight', 'cls.predictions.transform.dense.weight', 'cls.predictions.decoder.weight', 'cls.predictions.decoder.bias', 'cls.predictions.bias', 'cls.predictions.transform.LayerNorm.bias']\n",
      "- This IS expected if you are initializing BertForSequenceClassification from the checkpoint of a model trained on another task or with another architecture (e.g. initializing a BertForSequenceClassification model from a BertForPreTraining model).\n",
      "- This IS NOT expected if you are initializing BertForSequenceClassification from the checkpoint of a model that you expect to be exactly identical (initializing a BertForSequenceClassification model from a BertForSequenceClassification model).\n",
      "Some weights of BertForSequenceClassification were not initialized from the model checkpoint at bert-base-japanese-v2 and are newly initialized: ['classifier.weight', 'classifier.bias']\n",
      "You should probably TRAIN this model on a down-stream task to be able to use it for predictions and inference.\n"
     ]
    }
   ],
   "source": [
    "\"\"\"\n",
    "・BertForSequenceClassificationはBEETの最終層をクラス分類に変えたもの\n",
    "・事前学習はトークナイザと同じものを指定する\n",
    "・num_labelsで分類数を指定する\n",
    "\"\"\"\n",
    "import torch\n",
    "from transformers import BertForSequenceClassification\n",
    "\n",
    "model = BertForSequenceClassification.from_pretrained(\n",
    "    \"bert-base-japanese-v2\",\n",
    "    num_labels = 3\n",
    ")\n",
    "\n",
    "#学習モードに設定\n",
    "model.train()\n",
    "\n",
    "#使用デバイス設定(CPU,GPU)\n",
    "device = torch.device(\"cuda:0\" if torch.cuda.is_available() else \"cpu\")\n",
    "model.to(device) #modelをGPUに転送\n",
    "\n",
    "#オプティマイザの設定\n",
    "from transformers import AdamW\n",
    "optimizer = AdamW(model.parameters(), lr=1e-5)"
   ]
  },
  {
   "cell_type": "code",
   "execution_count": 9,
   "metadata": {},
   "outputs": [],
   "source": [
    "#乱数のseedを全固定する\n",
    "import random\n",
    "\n",
    "def seed_everything(seed):\n",
    "    random.seed(seed)\n",
    "    os.environ['PYTHONHASHSEED'] = str(seed)\n",
    "    torch.manual_seed(seed)\n",
    "    torch.cuda.manual_seed(seed)\n",
    "    torch.cuda.manual_seed_all(seed)\n",
    "    torch.backends.cudnn.deterministic = True\n",
    "\n",
    "seed_everything(0)"
   ]
  },
  {
   "cell_type": "code",
   "execution_count": 10,
   "metadata": {},
   "outputs": [
    {
     "name": "stderr",
     "output_type": "stream",
     "text": [
      "Asking to truncate to max_length but no maximum length is provided and the model has no predefined maximum length. Default to no truncation.\n"
     ]
    },
    {
     "name": "stdout",
     "output_type": "stream",
     "text": [
      "学習データ数: 2351\n",
      "テストデータ数: 262\n"
     ]
    }
   ],
   "source": [
    "from torch.utils.data import TensorDataset, random_split, DataLoader, SequentialSampler, RandomSampler\n",
    "from sklearn.model_selection import train_test_split\n",
    "\n",
    "\"\"\"\n",
    "・encodingで分類対象の文をトークナイザ\n",
    "・input_idsはトークンID\n",
    "・attention_mask はパディング用に埋め込み文字化どうかの判断用\n",
    "・train_labels は分類ラベル\n",
    "\"\"\"\n",
    "encoding = tokenizer(df['sentence'].tolist(), return_tensors='pt', padding=True, truncation=True)\n",
    "input_ids = encoding['input_ids']\n",
    "attention_mask = encoding['attention_mask']\n",
    "train_labels = torch.tensor(df['label'].tolist())\n",
    "\n",
    "#データセット作成\n",
    "dataset = TensorDataset(input_ids, attention_mask, train_labels)\n",
    "\n",
    "#学習とテストの割合　※ここでは9割学習\n",
    "train_size = int(0.9*len(dataset))\n",
    "val_size= len(dataset) - train_size\n",
    "train_dataset, val_dataset= random_split(dataset, [train_size, val_size])\n",
    "\n",
    "print(\"学習データ数: {}\" .format(train_size))\n",
    "print(\"テストデータ数: {}\" .format(val_size))"
   ]
  },
  {
   "cell_type": "code",
   "execution_count": 11,
   "metadata": {},
   "outputs": [],
   "source": [
    "import pandas as pd\n",
    "import numpy as np\n",
    "\n",
    "for i in range(val_dataset.__len__()):\n",
    "    #別の方法あるかもだが、文字置換でスペシャルトークン(CLSとか)を消している\n",
    "    sentence = tokenizer.decode(val_dataset.__getitem__(i)[0].detach().numpy().tolist()).replace('[CLS]', '').replace('[PAD]', '').replace('[SEP]', '').replace(' ', '')\n",
    "    df_val_sentence_kari = pd.DataFrame(sentence.split(), columns={\"sentence\"})\n",
    "\n",
    "    if i==0:\n",
    "        df_val_sentence = df_val_sentence_kari.copy()\n",
    "    else:\n",
    "        df_val_sentence = pd.concat([df_val_sentence_kari, df_val_sentence], axis=0)"
   ]
  },
  {
   "cell_type": "code",
   "execution_count": 13,
   "metadata": {},
   "outputs": [],
   "source": [
    "batch_size = 8\n",
    "\n",
    "train_dataloader = DataLoader(\n",
    "    train_dataset,\n",
    "    sampler = RandomSampler(train_dataset),\n",
    "    batch_size = batch_size\n",
    ")\n",
    "\n",
    "validation_dataloader = DataLoader(\n",
    "    val_dataset,\n",
    "#     sampler = RandomSampler(val_dataset), #先ほど元sentenceを保存した為シャッフルしない\n",
    "    batch_size = 1 #テストなので1にした\n",
    ")"
   ]
  },
  {
   "cell_type": "code",
   "execution_count": 14,
   "metadata": {},
   "outputs": [
    {
     "name": "stdout",
     "output_type": "stream",
     "text": [
      "98.95911388611421\n",
      "26.422048819600604\n",
      "10.551345311512705\n",
      "4.299115178451757\n",
      "2.3780125251214486\n",
      "1.7822816642437829\n",
      "1.591184270051599\n",
      "0.9244664415746229\n",
      "0.7345749257074203\n",
      "0.7069113427023694\n"
     ]
    }
   ],
   "source": [
    "def train(model):\n",
    "    \"\"\"学習ループ用関数\"\"\"\n",
    "    model.train()\n",
    "    train_loss = 0\n",
    "\n",
    "    for batch in train_dataloader:\n",
    "        b_input_ids = batch[0].to(device) #トークンID\n",
    "        b_input_mask = batch[1].to(device) #埋め込み文字判断\n",
    "        b_labels = batch[2].to(device) #正解ラベル\n",
    "        optimizer.zero_grad()\n",
    "\n",
    "        outputs = model(b_input_ids, token_type_ids=None, attention_mask=b_input_mask, labels=b_labels)\n",
    "        loss = outputs.loss\n",
    "        loss.backward()\n",
    "        torch.nn.utils.clip_grad_norm_(model.parameters(), 1.0)\n",
    "        optimizer.step()\n",
    "        train_loss += loss.item()    \n",
    "    return train_loss\n",
    "\n",
    "max_epoch = 10 #Epoch数は適当に\n",
    "train_loss_ = []\n",
    "\n",
    "for epoch in range(max_epoch):\n",
    "    train_ = train(model)\n",
    "    train_loss_.append(train_)\n",
    "\n",
    "    print(train_)"
   ]
  },
  {
   "cell_type": "code",
   "execution_count": 15,
   "metadata": {},
   "outputs": [],
   "source": [
    "model.eval() #検証モード\n",
    "preds_list = []\n",
    "b_labels_list = []\n",
    "\n",
    "for batch in validation_dataloader:\n",
    "    b_input_ids = batch[0].to(device)\n",
    "    b_input_mask = batch[1].to(device)\n",
    "    b_labels = batch[2].to(device) #ラベルはモデルへ入力しないが正解確認用\n",
    "\n",
    "    with torch.no_grad():\n",
    "        preds = model(b_input_ids, token_type_ids=None, attention_mask=b_input_mask)\n",
    "        preds_list.append(preds) #予測ラベル\n",
    "        b_labels_list.append(b_labels) #正解ラベル\n",
    "\n",
    "#データフレームで結果を可視化する\n",
    "for i in range(len(preds_list)):\n",
    "    #preds_list[i][0]で一番確率が高いものを予測ラベルと判断(よくある分類のパターンと同じ)\n",
    "    df_pred = pd.DataFrame(np.argmax(preds_list[i][0].cpu().numpy(), axis=1), columns={\"pred_label\"})\n",
    "    df_label = pd.DataFrame(b_labels_list[i].cpu().numpy(), columns={\"true_label\"})\n",
    "    df_result_kari = pd.concat([df_pred, df_label], axis=1)\n",
    "\n",
    "    if i==0:\n",
    "        df_result = df_result_kari.copy()\n",
    "    else:\n",
    "        df_result = pd.concat([df_result_kari, df_result], axis=0)\n",
    "\n",
    "df_result = pd.concat([df_val_sentence, df_result], axis=1) #元タイトル(2-3で準備)と合体"
   ]
  },
  {
   "cell_type": "code",
   "execution_count": 16,
   "metadata": {},
   "outputs": [
    {
     "data": {
      "text/plain": [
       "262"
      ]
     },
     "execution_count": 16,
     "metadata": {},
     "output_type": "execute_result"
    }
   ],
   "source": [
    "len(df_result)"
   ]
  },
  {
   "cell_type": "code",
   "execution_count": 17,
   "metadata": {},
   "outputs": [
    {
     "data": {
      "text/html": [
       "<div>\n",
       "<style scoped>\n",
       "    .dataframe tbody tr th:only-of-type {\n",
       "        vertical-align: middle;\n",
       "    }\n",
       "\n",
       "    .dataframe tbody tr th {\n",
       "        vertical-align: top;\n",
       "    }\n",
       "\n",
       "    .dataframe thead th {\n",
       "        text-align: right;\n",
       "    }\n",
       "</style>\n",
       "<table border=\"1\" class=\"dataframe\">\n",
       "  <thead>\n",
       "    <tr style=\"text-align: right;\">\n",
       "      <th></th>\n",
       "      <th>sentence</th>\n",
       "      <th>pred_label</th>\n",
       "      <th>true_label</th>\n",
       "    </tr>\n",
       "  </thead>\n",
       "  <tbody>\n",
       "    <tr>\n",
       "      <th>0</th>\n",
       "      <td>癒し?それともドキドキ?女が美容室に求めるものとは</td>\n",
       "      <td>0</td>\n",
       "      <td>0</td>\n",
       "    </tr>\n",
       "    <tr>\n",
       "      <th>0</th>\n",
       "      <td>乃木坂46ではデジカメがブーム?「1000メディア出演キャラバン」でメンバーに聞く</td>\n",
       "      <td>1</td>\n",
       "      <td>1</td>\n",
       "    </tr>\n",
       "    <tr>\n",
       "      <th>0</th>\n",
       "      <td>アップルに対抗できるのか?マイクロソフトの独自タブレット【デジ通】</td>\n",
       "      <td>1</td>\n",
       "      <td>1</td>\n",
       "    </tr>\n",
       "    <tr>\n",
       "      <th>0</th>\n",
       "      <td>2ステップで録画開始!Youtubeやニコニコが録画できるB′s動画レコーダー2</td>\n",
       "      <td>1</td>\n",
       "      <td>1</td>\n",
       "    </tr>\n",
       "    <tr>\n",
       "      <th>0</th>\n",
       "      <td>ニコニコ超会議の来場者が9万人超え、配信での来場者は347万人超</td>\n",
       "      <td>1</td>\n",
       "      <td>1</td>\n",
       "    </tr>\n",
       "    <tr>\n",
       "      <th>0</th>\n",
       "      <td>【終了しました】原作者をも唸らせる仕上がりに期待!『るろうに剣心』舞台挨拶付きプレミア試写会...</td>\n",
       "      <td>2</td>\n",
       "      <td>2</td>\n",
       "    </tr>\n",
       "    <tr>\n",
       "      <th>0</th>\n",
       "      <td>【編集部的映画批評】水谷豊の“相棒”は座敷わらしだった</td>\n",
       "      <td>2</td>\n",
       "      <td>2</td>\n",
       "    </tr>\n",
       "    <tr>\n",
       "      <th>0</th>\n",
       "      <td>【週末映画まとめ読み】“美しすぎる”キャットウーマンが出演作を引っ提げ来日決定</td>\n",
       "      <td>2</td>\n",
       "      <td>2</td>\n",
       "    </tr>\n",
       "    <tr>\n",
       "      <th>0</th>\n",
       "      <td>男でも観たい!ヒットする少女コミック原作の映画</td>\n",
       "      <td>2</td>\n",
       "      <td>2</td>\n",
       "    </tr>\n",
       "    <tr>\n",
       "      <th>0</th>\n",
       "      <td>アイコンを変更してフォルダーを目立たせる【知っ得・虎の巻】</td>\n",
       "      <td>1</td>\n",
       "      <td>1</td>\n",
       "    </tr>\n",
       "  </tbody>\n",
       "</table>\n",
       "</div>"
      ],
      "text/plain": [
       "                                            sentence  pred_label  true_label\n",
       "0                          癒し?それともドキドキ?女が美容室に求めるものとは           0           0\n",
       "0          乃木坂46ではデジカメがブーム?「1000メディア出演キャラバン」でメンバーに聞く           1           1\n",
       "0                  アップルに対抗できるのか?マイクロソフトの独自タブレット【デジ通】           1           1\n",
       "0           2ステップで録画開始!Youtubeやニコニコが録画できるB′s動画レコーダー2           1           1\n",
       "0                   ニコニコ超会議の来場者が9万人超え、配信での来場者は347万人超           1           1\n",
       "0  【終了しました】原作者をも唸らせる仕上がりに期待!『るろうに剣心』舞台挨拶付きプレミア試写会...           2           2\n",
       "0                        【編集部的映画批評】水谷豊の“相棒”は座敷わらしだった           2           2\n",
       "0            【週末映画まとめ読み】“美しすぎる”キャットウーマンが出演作を引っ提げ来日決定           2           2\n",
       "0                            男でも観たい!ヒットする少女コミック原作の映画           2           2\n",
       "0                      アイコンを変更してフォルダーを目立たせる【知っ得・虎の巻】           1           1"
      ]
     },
     "execution_count": 17,
     "metadata": {},
     "output_type": "execute_result"
    }
   ],
   "source": [
    "df_result.head(10)"
   ]
  },
  {
   "cell_type": "code",
   "execution_count": 18,
   "metadata": {},
   "outputs": [],
   "source": [
    "import csv\n",
    "\n",
    "df_result.to_csv('livedoor_sentence_category.csv', encoding='utf-8', index=False, quotechar='\"', quoting=csv.QUOTE_ALL) #encoding='sjis'だとJupyterLab上で表示不可なので注意"
   ]
  },
  {
   "cell_type": "code",
   "execution_count": null,
   "metadata": {},
   "outputs": [],
   "source": []
  }
 ],
 "metadata": {
  "kernelspec": {
   "display_name": "Python 3",
   "language": "python",
   "name": "python3"
  },
  "language_info": {
   "codemirror_mode": {
    "name": "ipython",
    "version": 3
   },
   "file_extension": ".py",
   "mimetype": "text/x-python",
   "name": "python",
   "nbconvert_exporter": "python",
   "pygments_lexer": "ipython3",
   "version": "3.6.10"
  }
 },
 "nbformat": 4,
 "nbformat_minor": 4
}
