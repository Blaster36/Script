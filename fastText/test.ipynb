{
 "cells": [
  {
   "cell_type": "markdown",
   "id": "ae443e41-cec9-493c-a02b-234d49a1e7d2",
   "metadata": {},
   "source": [
    "<div style=\"color:white; background-color:#002266; font-size:40px; padding:10px\">Notebook実行前に</div>"
   ]
  },
  {
   "cell_type": "markdown",
   "id": "85d37f6c-9d71-41cf-929c-70bf7c832236",
   "metadata": {
    "tags": []
   },
   "source": [
    "# fastTextのインストール\n",
    "以下、Windowsでの概略手順[1]</br>\n",
    "<ol>\n",
    "    <li>git clone https://hogehoge.com/hogehoge.git</li>\n",
    "</ol>\n",
    "\n",
    "[1]:http://www.google.co.jp/"
   ]
  },
  {
   "cell_type": "code",
   "execution_count": 1,
   "id": "3aa005db-1a5d-47b9-be88-d1f19c0e2368",
   "metadata": {},
   "outputs": [
    {
     "name": "stdout",
     "output_type": "stream",
     "text": [
      "Python 3.9.7\n"
     ]
    }
   ],
   "source": [
    "!python -V"
   ]
  },
  {
   "cell_type": "code",
   "execution_count": 2,
   "id": "c27c8d21-1ec6-4d3f-9022-04db71909ee7",
   "metadata": {},
   "outputs": [
    {
     "name": "stdout",
     "output_type": "stream",
     "text": [
      "pip 22.1.2 from C:\\Python39\\lib\\site-packages\\pip (python 3.9)\n",
      "\n"
     ]
    }
   ],
   "source": [
    "!python -m pip --version"
   ]
  },
  {
   "cell_type": "code",
   "execution_count": 3,
   "id": "aa12f5e7-aba4-48d1-97fb-312fed4a25f2",
   "metadata": {},
   "outputs": [
    {
     "name": "stdout",
     "output_type": "stream",
     "text": [
      "Package              Version\n",
      "-------------------- -----------\n",
      "anyio                3.6.1\n",
      "argon2-cffi          21.3.0\n",
      "argon2-cffi-bindings 21.2.0\n",
      "asttokens            2.0.5\n",
      "attrs                21.4.0\n",
      "Babel                2.10.3\n",
      "backcall             0.2.0\n",
      "beautifulsoup4       4.11.1\n",
      "bleach               5.0.0\n",
      "certifi              2022.6.15\n",
      "cffi                 1.15.0\n",
      "charset-normalizer   2.0.12\n",
      "colorama             0.4.5\n",
      "Cython               0.29.28\n",
      "debugpy              1.6.0\n",
      "decorator            5.1.1\n",
      "defusedxml           0.7.1\n",
      "entrypoints          0.4\n",
      "executing            0.8.3\n",
      "fastjsonschema       2.15.3\n",
      "fasttext             0.9.2\n",
      "gensim               4.2.0\n",
      "idna                 3.3\n",
      "importlib-metadata   4.11.4\n",
      "ipykernel            6.15.0\n",
      "ipython              8.4.0\n",
      "ipython-genutils     0.2.0\n",
      "ipywidgets           7.7.0\n",
      "jedi                 0.18.1\n",
      "Jinja2               3.1.2\n",
      "json5                0.9.8\n",
      "jsonschema           4.6.0\n",
      "jupyter              1.0.0\n",
      "jupyter-client       7.3.4\n",
      "jupyter-console      6.4.3\n",
      "jupyter-core         4.10.0\n",
      "jupyter-server       1.17.1\n",
      "jupyterlab           3.4.3\n",
      "jupyterlab-pygments  0.2.2\n",
      "jupyterlab-server    2.14.0\n",
      "jupyterlab-widgets   1.1.0\n",
      "MarkupSafe           2.1.1\n",
      "matplotlib-inline    0.1.3\n",
      "mistune              0.8.4\n",
      "nbclassic            0.3.7\n",
      "nbclient             0.6.4\n",
      "nbconvert            6.5.0\n",
      "nbformat             5.4.0\n",
      "nest-asyncio         1.5.5\n",
      "notebook             6.4.12\n",
      "notebook-shim        0.1.0\n",
      "numpy                1.22.4\n",
      "packaging            21.3\n",
      "pandocfilters        1.5.0\n",
      "parso                0.8.3\n",
      "pickleshare          0.7.5\n",
      "pip                  22.1.2\n",
      "prometheus-client    0.14.1\n",
      "prompt-toolkit       3.0.29\n",
      "psutil               5.9.1\n",
      "pure-eval            0.2.2\n",
      "pybind11             2.9.2\n",
      "pycparser            2.21\n",
      "Pygments             2.12.0\n",
      "pyparsing            3.0.9\n",
      "pyrsistent           0.18.1\n",
      "python-dateutil      2.8.2\n",
      "pytz                 2022.1\n",
      "pywin32              304\n",
      "pywinpty             2.0.5\n",
      "pyzmq                23.2.0\n",
      "qtconsole            5.3.1\n",
      "QtPy                 2.1.0\n",
      "requests             2.28.0\n",
      "scipy                1.8.1\n",
      "Send2Trash           1.8.0\n",
      "setuptools           57.4.0\n",
      "six                  1.16.0\n",
      "smart-open           6.0.0\n",
      "sniffio              1.2.0\n",
      "soupsieve            2.3.2.post1\n",
      "stack-data           0.3.0\n",
      "terminado            0.15.0\n",
      "tinycss2             1.1.1\n",
      "tornado              6.1\n",
      "traitlets            5.3.0\n",
      "urllib3              1.26.9\n",
      "wcwidth              0.2.5\n",
      "webencodings         0.5.1\n",
      "websocket-client     1.3.3\n",
      "widgetsnbextension   3.6.0\n",
      "zipp                 3.8.0\n"
     ]
    }
   ],
   "source": [
    "!python -m pip list"
   ]
  },
  {
   "cell_type": "markdown",
   "id": "afba83d4-9b64-4fb3-960e-2107bd8f0081",
   "metadata": {},
   "source": [
    "<div style=\"color:white; background-color:#002266; font-size:40px; padding:10px\">Notebook実行デモ</div>"
   ]
  },
  {
   "cell_type": "markdown",
   "id": "bdb4d323-95d3-4be4-8fcc-0846ed43f9a4",
   "metadata": {},
   "source": [
    "# fastTextの実行\n",
    "以下、Python 3.9でのスニペット[2]</br>\n",
    "<ol>\n",
    "    <li>git clone https://hogehoge.com/hogehoge.git</li>\n",
    "</ol>\n",
    "\n",
    "[2]:http://www.google.co.jp/"
   ]
  },
  {
   "cell_type": "code",
   "execution_count": 4,
   "id": "76b51953-c46e-43aa-9801-d638d8a5debf",
   "metadata": {},
   "outputs": [],
   "source": [
    "import gensim\n",
    "from pprint import pprint"
   ]
  },
  {
   "cell_type": "code",
   "execution_count": 5,
   "id": "5b38f877-9632-4d84-abd9-165999c74f79",
   "metadata": {},
   "outputs": [],
   "source": [
    "# モデルの格納パス\n",
    "#model_path = r'C:\\workspace\\jupyter\\cc.ja.300.vec.gz'\n",
    "model_path = r'.\\cc.ja.300.vec.gz'"
   ]
  },
  {
   "cell_type": "code",
   "execution_count": 6,
   "id": "718d7c7a-c06c-4c84-945f-5ed9e5fd47b6",
   "metadata": {},
   "outputs": [],
   "source": [
    "# モデルの読み込み\n",
    "wv = gensim.models.KeyedVectors.load_word2vec_format(model_path, binary=False)"
   ]
  },
  {
   "cell_type": "code",
   "execution_count": 7,
   "id": "d755f3b9-3544-4115-9215-cf0ad4b3c3ff",
   "metadata": {},
   "outputs": [],
   "source": [
    "# 類似度上位10件を取得\n",
    "match = wv.most_similar(\"企業\", topn=10)"
   ]
  },
  {
   "cell_type": "code",
   "execution_count": 8,
   "id": "83f6fd91-f45f-45c2-b6ef-fbc2bf709c37",
   "metadata": {},
   "outputs": [
    {
     "name": "stdout",
     "output_type": "stream",
     "text": [
      "[('中小', 0.6603098511695862),\n",
      " ('会社', 0.614145815372467),\n",
      " ('官公庁', 0.5806518793106079),\n",
      " ('大手', 0.5735167860984802),\n",
      " ('ベンチャー', 0.5639325976371765),\n",
      " ('Sler', 0.5568059086799622),\n",
      " ('上場', 0.5536532402038574),\n",
      " ('IT', 0.552250325679779),\n",
      " ('製薬', 0.5507453680038452),\n",
      " ('ＩＴ', 0.5498356223106384)]\n"
     ]
    }
   ],
   "source": [
    "# 見やすい形式で表示\n",
    "pprint(match)"
   ]
  },
  {
   "cell_type": "code",
   "execution_count": 9,
   "id": "e48cea48-4d29-4166-93fb-25f79c663755",
   "metadata": {},
   "outputs": [],
   "source": [
    "# 類似度上位10件を取得\n",
    "match = wv.most_similar(\"夏\", topn=10)"
   ]
  },
  {
   "cell_type": "code",
   "execution_count": 10,
   "id": "d66b6c6e-2a18-4057-8f71-34450b18c994",
   "metadata": {},
   "outputs": [
    {
     "name": "stdout",
     "output_type": "stream",
     "text": [
      "[('冬', 0.7810251712799072),\n",
      " ('秋', 0.7722814083099365),\n",
      " ('春', 0.7246158123016357),\n",
      " ('初夏', 0.6881994605064392),\n",
      " ('初秋', 0.6469525694847107),\n",
      " ('晩夏', 0.641510546207428),\n",
      " ('夏場', 0.6188921928405762),\n",
      " ('今夏', 0.6138982772827148),\n",
      " ('盛夏', 0.6133893132209778),\n",
      " ('秋冬', 0.6120836734771729)]\n"
     ]
    }
   ],
   "source": [
    "# 見やすい形式で表示\n",
    "pprint(match)"
   ]
  },
  {
   "cell_type": "code",
   "execution_count": 11,
   "id": "6fc75cb6-455f-40b5-a40a-dae08bb3ddd8",
   "metadata": {},
   "outputs": [],
   "source": [
    "# 類似度上位10件を取得\n",
    "match = wv.most_similar(\"子育て\", topn=10)"
   ]
  },
  {
   "cell_type": "code",
   "execution_count": 12,
   "id": "42a57b7a-3ff3-4790-9b8d-9319360bf6e2",
   "metadata": {},
   "outputs": [
    {
     "name": "stdout",
     "output_type": "stream",
     "text": [
      "[('育児', 0.7767168283462524),\n",
      " ('クイズマイエンジェル', 0.5762055516242981),\n",
      " ('イジュパパ', 0.5754250288009644),\n",
      " ('家事', 0.5645204186439514),\n",
      " ('子ども', 0.553322434425354),\n",
      " ('教育', 0.5513057708740234),\n",
      " ('ダメキュア', 0.5402294397354126),\n",
      " ('ママ', 0.5381951332092285),\n",
      " ('イクメンパパ', 0.5349541306495667),\n",
      " ('共働き', 0.5316994190216064)]\n"
     ]
    }
   ],
   "source": [
    "# 見やすい形式で表示\n",
    "pprint(match)"
   ]
  },
  {
   "cell_type": "code",
   "execution_count": null,
   "id": "b62f1332-924e-485d-a383-ead95cd66d2f",
   "metadata": {},
   "outputs": [],
   "source": []
  }
 ],
 "metadata": {
  "kernelspec": {
   "display_name": "Python 3 (ipykernel)",
   "language": "python",
   "name": "python3"
  },
  "language_info": {
   "codemirror_mode": {
    "name": "ipython",
    "version": 3
   },
   "file_extension": ".py",
   "mimetype": "text/x-python",
   "name": "python",
   "nbconvert_exporter": "python",
   "pygments_lexer": "ipython3",
   "version": "3.9.7"
  }
 },
 "nbformat": 4,
 "nbformat_minor": 5
}
