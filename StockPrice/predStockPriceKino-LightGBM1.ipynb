{
 "cells": [
  {
   "cell_type": "markdown",
   "metadata": {},
   "source": [
    "# 株価予測\n",
    "\n",
    "- [超簡単Pythonで株価予測（LightGBM 利用）機械学習](https://note.com/10mohi6/n/n4b1196fea816)\n",
    "- [超簡単Pythonで株価予測（Optuna・LightGBM 利用）ハイパーパラメータ自動最適化](https://note.com/10mohi6/n/n46d1bb0267b7)"
   ]
  },
  {
   "cell_type": "code",
   "execution_count": 1,
   "metadata": {},
   "outputs": [
    {
     "name": "stdout",
     "output_type": "stream",
     "text": [
      "Requirement already satisfied: scikit-learn in /opt/conda/lib/python3.8/site-packages (1.0.2)\n",
      "Requirement already satisfied: lightgbm in /opt/conda/lib/python3.8/site-packages (3.3.2)\n",
      "Requirement already satisfied: pandas-datareader in /opt/conda/lib/python3.8/site-packages (0.10.0)\n",
      "Requirement already satisfied: optuna in /opt/conda/lib/python3.8/site-packages (2.10.0)\n",
      "Requirement already satisfied: joblib>=0.11 in /opt/conda/lib/python3.8/site-packages (from scikit-learn) (1.1.0)\n",
      "Requirement already satisfied: numpy>=1.14.6 in /opt/conda/lib/python3.8/site-packages (from scikit-learn) (1.22.1)\n",
      "Requirement already satisfied: threadpoolctl>=2.0.0 in /opt/conda/lib/python3.8/site-packages (from scikit-learn) (3.0.0)\n",
      "Requirement already satisfied: scipy>=1.1.0 in /opt/conda/lib/python3.8/site-packages (from scikit-learn) (1.7.3)\n",
      "Requirement already satisfied: wheel in /opt/conda/lib/python3.8/site-packages (from lightgbm) (0.36.2)\n",
      "Requirement already satisfied: requests>=2.19.0 in /opt/conda/lib/python3.8/site-packages (from pandas-datareader) (2.25.1)\n",
      "Requirement already satisfied: pandas>=0.23 in /opt/conda/lib/python3.8/site-packages (from pandas-datareader) (1.4.0)\n",
      "Requirement already satisfied: lxml in /opt/conda/lib/python3.8/site-packages (from pandas-datareader) (4.7.1)\n",
      "Requirement already satisfied: cmaes>=0.8.2 in /opt/conda/lib/python3.8/site-packages (from optuna) (0.8.2)\n",
      "Requirement already satisfied: alembic in /opt/conda/lib/python3.8/site-packages (from optuna) (1.6.0)\n",
      "Requirement already satisfied: colorlog in /opt/conda/lib/python3.8/site-packages (from optuna) (6.6.0)\n",
      "Requirement already satisfied: tqdm in /opt/conda/lib/python3.8/site-packages (from optuna) (4.60.0)\n",
      "Requirement already satisfied: packaging>=20.0 in /opt/conda/lib/python3.8/site-packages (from optuna) (21.3)\n",
      "Requirement already satisfied: sqlalchemy>=1.1.0 in /opt/conda/lib/python3.8/site-packages (from optuna) (1.4.13)\n",
      "Requirement already satisfied: cliff in /opt/conda/lib/python3.8/site-packages (from optuna) (3.10.0)\n",
      "Requirement already satisfied: PyYAML in /opt/conda/lib/python3.8/site-packages (from optuna) (6.0)\n",
      "Requirement already satisfied: pyparsing!=3.0.5,>=2.0.2 in /opt/conda/lib/python3.8/site-packages (from packaging>=20.0->optuna) (2.4.7)\n",
      "Requirement already satisfied: pytz>=2020.1 in /opt/conda/lib/python3.8/site-packages (from pandas>=0.23->pandas-datareader) (2021.1)\n",
      "Requirement already satisfied: python-dateutil>=2.8.1 in /opt/conda/lib/python3.8/site-packages (from pandas>=0.23->pandas-datareader) (2.8.1)\n",
      "Requirement already satisfied: idna<3,>=2.5 in /opt/conda/lib/python3.8/site-packages (from requests>=2.19.0->pandas-datareader) (2.10)\n",
      "Requirement already satisfied: certifi>=2017.4.17 in /opt/conda/lib/python3.8/site-packages (from requests>=2.19.0->pandas-datareader) (2020.12.5)\n",
      "Requirement already satisfied: chardet<5,>=3.0.2 in /opt/conda/lib/python3.8/site-packages (from requests>=2.19.0->pandas-datareader) (4.0.0)\n",
      "Requirement already satisfied: urllib3<1.27,>=1.21.1 in /opt/conda/lib/python3.8/site-packages (from requests>=2.19.0->pandas-datareader) (1.26.4)\n",
      "Requirement already satisfied: greenlet!=0.4.17 in /opt/conda/lib/python3.8/site-packages (from sqlalchemy>=1.1.0->optuna) (1.0.0)\n",
      "Requirement already satisfied: python-editor>=0.3 in /opt/conda/lib/python3.8/site-packages (from alembic->optuna) (1.0.4)\n",
      "Requirement already satisfied: Mako in /opt/conda/lib/python3.8/site-packages (from alembic->optuna) (1.1.4)\n",
      "Requirement already satisfied: cmd2>=1.0.0 in /opt/conda/lib/python3.8/site-packages (from cliff->optuna) (2.3.3)\n",
      "Requirement already satisfied: PrettyTable>=0.7.2 in /opt/conda/lib/python3.8/site-packages (from cliff->optuna) (3.0.0)\n",
      "Requirement already satisfied: stevedore>=2.0.1 in /opt/conda/lib/python3.8/site-packages (from cliff->optuna) (3.5.0)\n",
      "Requirement already satisfied: autopage>=0.4.0 in /opt/conda/lib/python3.8/site-packages (from cliff->optuna) (0.5.0)\n",
      "Requirement already satisfied: pbr!=2.1.0,>=2.0.0 in /opt/conda/lib/python3.8/site-packages (from cliff->optuna) (5.8.0)\n",
      "Requirement already satisfied: wcwidth>=0.1.7 in /opt/conda/lib/python3.8/site-packages (from cmd2>=1.0.0->cliff->optuna) (0.2.5)\n",
      "Requirement already satisfied: attrs>=16.3.0 in /opt/conda/lib/python3.8/site-packages (from cmd2>=1.0.0->cliff->optuna) (20.3.0)\n",
      "Requirement already satisfied: pyperclip>=1.6 in /opt/conda/lib/python3.8/site-packages (from cmd2>=1.0.0->cliff->optuna) (1.8.2)\n",
      "Requirement already satisfied: six>=1.5 in /opt/conda/lib/python3.8/site-packages (from python-dateutil>=2.8.1->pandas>=0.23->pandas-datareader) (1.16.0)\n",
      "Requirement already satisfied: MarkupSafe>=0.9.2 in /opt/conda/lib/python3.8/site-packages (from Mako->alembic->optuna) (1.1.1)\n"
     ]
    }
   ],
   "source": [
    "!pip install scikit-learn lightgbm pandas-datareader optuna"
   ]
  },
  {
   "cell_type": "code",
   "execution_count": 2,
   "metadata": {},
   "outputs": [
    {
     "name": "stdout",
     "output_type": "stream",
     "text": [
      "0.5456349206349206\n",
      "0.3893042525834564\n"
     ]
    }
   ],
   "source": [
    "import pandas_datareader as pdr\n",
    "from sklearn.model_selection import train_test_split\n",
    "import lightgbm as lgb\n",
    "from sklearn.metrics import accuracy_score, f1_score\n",
    "\n",
    "df = pdr.get_data_yahoo(\"AAPL\", \"2010-11-01\", \"2020-11-01\")\n",
    "df[\"Diff\"] = df.Close.diff()\n",
    "df[\"SMA_2\"] = df.Close.rolling(2).mean()\n",
    "df[\"Force_Index\"] = df[\"Close\"] * df[\"Volume\"]\n",
    "df[\"y\"] = df[\"Diff\"].apply(lambda x: 1 if x > 0 else 0).shift(-1)\n",
    "df = df.drop(\n",
    "  [\"Open\", \"High\", \"Low\", \"Close\", \"Volume\", \"Diff\", \"Adj Close\"],\n",
    "  axis=1,\n",
    ").dropna()\n",
    "# print(df)\n",
    "X = df.drop([\"y\"], axis=1).values\n",
    "y = df[\"y\"].values\n",
    "X_train, X_test, y_train, y_test = train_test_split(\n",
    "  X,\n",
    "  y,\n",
    "  test_size=0.2,\n",
    "  shuffle=False,\n",
    ")\n",
    "clf = lgb.LGBMRegressor(learning_rate=0.01, n_estimators=20)\n",
    "clf.fit(\n",
    "  X_train,\n",
    "  y_train,\n",
    ")\n",
    "y_pred = clf.predict(X_test)\n",
    "print(accuracy_score(y_test, y_pred > 0.5))\n",
    "print(f1_score(y_test, y_pred > 0.5, average='macro'))"
   ]
  },
  {
   "cell_type": "raw",
   "metadata": {},
   "source": [
    "# 決定木を可視化\n",
    "def display_tree(clf, filename):\n",
    "    ax = lgb.plot_tree(clf, tree_index=0, figsize=(20, 20), show_info=['split_gain'])\n",
    "    plt.show()\n",
    "    graph = lgb.create_tree_digraph(clf, tree_index=0, format='png', name='tree_lightgbm_%s' %(filename))\n",
    "    graph.render(view=True)"
   ]
  },
  {
   "cell_type": "raw",
   "metadata": {},
   "source": [
    "display_tree(clf, 'AsIs')"
   ]
  },
  {
   "cell_type": "code",
   "execution_count": 3,
   "metadata": {},
   "outputs": [
    {
     "name": "stderr",
     "output_type": "stream",
     "text": [
      "\u001b[32m[I 2022-02-05 16:31:33,361]\u001b[0m A new study created in memory with name: no-name-9b5c2387-367d-4d29-ac25-45710893a108\u001b[0m\n",
      "\u001b[32m[I 2022-02-05 16:31:33,377]\u001b[0m Trial 0 finished with value: 0.4642857142857143 and parameters: {'lambda_l1': 0.11948047820511622, 'lambda_l2': 1.3201813674162582e-06, 'num_leaves': 5, 'feature_fraction': 0.6567768558463127, 'bagging_fraction': 0.5888576935616987, 'bagging_freq': 4, 'min_child_samples': 90}. Best is trial 0 with value: 0.4642857142857143.\u001b[0m\n",
      "\u001b[32m[I 2022-02-05 16:31:33,408]\u001b[0m Trial 1 finished with value: 0.5376984126984127 and parameters: {'lambda_l1': 5.253217504187064, 'lambda_l2': 0.5493360398760493, 'num_leaves': 113, 'feature_fraction': 0.6395952309037455, 'bagging_fraction': 0.8615137840708028, 'bagging_freq': 5, 'min_child_samples': 38}. Best is trial 1 with value: 0.5376984126984127.\u001b[0m\n",
      "\u001b[32m[I 2022-02-05 16:31:33,426]\u001b[0m Trial 2 finished with value: 0.4742063492063492 and parameters: {'lambda_l1': 0.002645965524485821, 'lambda_l2': 1.1654453297315245e-07, 'num_leaves': 99, 'feature_fraction': 0.7090959004545441, 'bagging_fraction': 0.5165143905708944, 'bagging_freq': 7, 'min_child_samples': 91}. Best is trial 1 with value: 0.5376984126984127.\u001b[0m\n",
      "\u001b[32m[I 2022-02-05 16:31:33,457]\u001b[0m Trial 3 finished with value: 0.5297619047619048 and parameters: {'lambda_l1': 1.7999667082762505e-05, 'lambda_l2': 0.09631926588413937, 'num_leaves': 31, 'feature_fraction': 0.7422404672907723, 'bagging_fraction': 0.8266817849012664, 'bagging_freq': 7, 'min_child_samples': 91}. Best is trial 1 with value: 0.5376984126984127.\u001b[0m\n",
      "\u001b[32m[I 2022-02-05 16:31:33,497]\u001b[0m Trial 4 finished with value: 0.5079365079365079 and parameters: {'lambda_l1': 2.2817449260580713, 'lambda_l2': 6.908234471226816, 'num_leaves': 74, 'feature_fraction': 0.8891897497848316, 'bagging_fraction': 0.574834408679884, 'bagging_freq': 5, 'min_child_samples': 18}. Best is trial 1 with value: 0.5376984126984127.\u001b[0m\n",
      "\u001b[32m[I 2022-02-05 16:31:33,531]\u001b[0m Trial 5 finished with value: 0.5218253968253969 and parameters: {'lambda_l1': 0.0162993587207503, 'lambda_l2': 5.789240872552784e-06, 'num_leaves': 144, 'feature_fraction': 0.6373920177051484, 'bagging_fraction': 0.8820100411695834, 'bagging_freq': 3, 'min_child_samples': 76}. Best is trial 1 with value: 0.5376984126984127.\u001b[0m\n",
      "\u001b[32m[I 2022-02-05 16:31:33,575]\u001b[0m Trial 6 finished with value: 0.5317460317460317 and parameters: {'lambda_l1': 1.103212770830288e-05, 'lambda_l2': 7.458078386010487e-07, 'num_leaves': 180, 'feature_fraction': 0.5776691595111189, 'bagging_fraction': 0.5505206983311887, 'bagging_freq': 4, 'min_child_samples': 25}. Best is trial 1 with value: 0.5376984126984127.\u001b[0m\n",
      "\u001b[32m[I 2022-02-05 16:31:33,628]\u001b[0m Trial 7 finished with value: 0.501984126984127 and parameters: {'lambda_l1': 1.7344279611580346e-08, 'lambda_l2': 1.2383991869809513e-06, 'num_leaves': 106, 'feature_fraction': 0.7291943838621956, 'bagging_fraction': 0.48427075077155385, 'bagging_freq': 6, 'min_child_samples': 16}. Best is trial 1 with value: 0.5376984126984127.\u001b[0m\n",
      "\u001b[32m[I 2022-02-05 16:31:33,681]\u001b[0m Trial 8 finished with value: 0.5178571428571429 and parameters: {'lambda_l1': 2.4710844948868283e-07, 'lambda_l2': 4.888426758988971e-08, 'num_leaves': 141, 'feature_fraction': 0.7688266738378755, 'bagging_fraction': 0.5877424532629206, 'bagging_freq': 3, 'min_child_samples': 23}. Best is trial 1 with value: 0.5376984126984127.\u001b[0m\n",
      "\u001b[32m[I 2022-02-05 16:31:33,734]\u001b[0m Trial 9 finished with value: 0.4880952380952381 and parameters: {'lambda_l1': 1.171218738414544, 'lambda_l2': 1.0721651468215625e-06, 'num_leaves': 136, 'feature_fraction': 0.5875543097730044, 'bagging_fraction': 0.5238768156721118, 'bagging_freq': 7, 'min_child_samples': 10}. Best is trial 1 with value: 0.5376984126984127.\u001b[0m\n",
      "\u001b[32m[I 2022-02-05 16:31:33,789]\u001b[0m Trial 10 finished with value: 0.5238095238095238 and parameters: {'lambda_l1': 0.00021287152536926863, 'lambda_l2': 0.0018468237928155186, 'num_leaves': 247, 'feature_fraction': 0.41888195480063933, 'bagging_fraction': 0.9830062197667386, 'bagging_freq': 1, 'min_child_samples': 47}. Best is trial 1 with value: 0.5376984126984127.\u001b[0m\n",
      "\u001b[32m[I 2022-02-05 16:31:33,841]\u001b[0m Trial 11 finished with value: 0.5178571428571429 and parameters: {'lambda_l1': 6.850332197356226e-06, 'lambda_l2': 0.0003295986604727078, 'num_leaves': 201, 'feature_fraction': 0.5050666461989003, 'bagging_fraction': 0.7153398748447318, 'bagging_freq': 5, 'min_child_samples': 42}. Best is trial 1 with value: 0.5376984126984127.\u001b[0m\n",
      "\u001b[32m[I 2022-02-05 16:31:33,884]\u001b[0m Trial 12 finished with value: 0.5396825396825397 and parameters: {'lambda_l1': 7.653882318487844e-05, 'lambda_l2': 0.03602525314847946, 'num_leaves': 198, 'feature_fraction': 0.5420952874798307, 'bagging_fraction': 0.41402993142051703, 'bagging_freq': 4, 'min_child_samples': 34}. Best is trial 12 with value: 0.5396825396825397.\u001b[0m\n",
      "\u001b[32m[I 2022-02-05 16:31:33,918]\u001b[0m Trial 13 finished with value: 0.4642857142857143 and parameters: {'lambda_l1': 0.000674896967786969, 'lambda_l2': 0.07378308995659284, 'num_leaves': 202, 'feature_fraction': 0.4796457450669833, 'bagging_fraction': 0.41180073121831207, 'bagging_freq': 2, 'min_child_samples': 64}. Best is trial 12 with value: 0.5396825396825397.\u001b[0m\n",
      "\u001b[32m[I 2022-02-05 16:31:33,969]\u001b[0m Trial 14 finished with value: 0.5119047619047619 and parameters: {'lambda_l1': 0.07503298560653024, 'lambda_l2': 9.774120452258217, 'num_leaves': 253, 'feature_fraction': 0.8788821780545026, 'bagging_fraction': 0.7129826693438626, 'bagging_freq': 5, 'min_child_samples': 39}. Best is trial 12 with value: 0.5396825396825397.\u001b[0m\n",
      "\u001b[32m[I 2022-02-05 16:31:34,014]\u001b[0m Trial 15 finished with value: 0.5238095238095238 and parameters: {'lambda_l1': 9.712842201299802e-05, 'lambda_l2': 0.07447123913420992, 'num_leaves': 178, 'feature_fraction': 0.9988226728415062, 'bagging_fraction': 0.7911270733647384, 'bagging_freq': 3, 'min_child_samples': 60}. Best is trial 12 with value: 0.5396825396825397.\u001b[0m\n",
      "\u001b[32m[I 2022-02-05 16:31:34,088]\u001b[0m Trial 16 finished with value: 0.5079365079365079 and parameters: {'lambda_l1': 6.016571635498244e-07, 'lambda_l2': 0.5949115434621394, 'num_leaves': 71, 'feature_fraction': 0.5122781309384227, 'bagging_fraction': 0.9970889827913786, 'bagging_freq': 6, 'min_child_samples': 31}. Best is trial 12 with value: 0.5396825396825397.\u001b[0m\n",
      "\u001b[32m[I 2022-02-05 16:31:34,143]\u001b[0m Trial 17 finished with value: 0.5277777777777778 and parameters: {'lambda_l1': 0.004546012112315631, 'lambda_l2': 0.004214314559158638, 'num_leaves': 216, 'feature_fraction': 0.5662764514087689, 'bagging_fraction': 0.9035668996225897, 'bagging_freq': 4, 'min_child_samples': 55}. Best is trial 12 with value: 0.5396825396825397.\u001b[0m\n",
      "\u001b[32m[I 2022-02-05 16:31:34,178]\u001b[0m Trial 18 finished with value: 0.5436507936507936 and parameters: {'lambda_l1': 4.906465480156344, 'lambda_l2': 0.004982800690825405, 'num_leaves': 166, 'feature_fraction': 0.4221624763957221, 'bagging_fraction': 0.41494851237804536, 'bagging_freq': 6, 'min_child_samples': 35}. Best is trial 18 with value: 0.5436507936507936.\u001b[0m\n",
      "\u001b[32m[I 2022-02-05 16:31:34,286]\u001b[0m Trial 19 finished with value: 0.47619047619047616 and parameters: {'lambda_l1': 0.22831950597597994, 'lambda_l2': 4.570522537409057e-05, 'num_leaves': 163, 'feature_fraction': 0.4046161550950424, 'bagging_fraction': 0.4376285315569707, 'bagging_freq': 6, 'min_child_samples': 5}. Best is trial 18 with value: 0.5436507936507936.\u001b[0m\n",
      "\u001b[32m[I 2022-02-05 16:31:34,327]\u001b[0m Trial 20 finished with value: 0.49404761904761907 and parameters: {'lambda_l1': 6.058710351297499e-07, 'lambda_l2': 0.005469916141069432, 'num_leaves': 224, 'feature_fraction': 0.45382040015579345, 'bagging_fraction': 0.6471771198714993, 'bagging_freq': 2, 'min_child_samples': 74}. Best is trial 18 with value: 0.5436507936507936.\u001b[0m\n",
      "\u001b[32m[I 2022-02-05 16:31:34,359]\u001b[0m Trial 21 finished with value: 0.5257936507936508 and parameters: {'lambda_l1': 8.686030988634757, 'lambda_l2': 0.43041952282566964, 'num_leaves': 113, 'feature_fraction': 0.5225524357156923, 'bagging_fraction': 0.47162006846144744, 'bagging_freq': 5, 'min_child_samples': 35}. Best is trial 18 with value: 0.5436507936507936.\u001b[0m\n",
      "\u001b[32m[I 2022-02-05 16:31:34,410]\u001b[0m Trial 22 finished with value: 0.5198412698412699 and parameters: {'lambda_l1': 1.027062547722148, 'lambda_l2': 0.019372959715685673, 'num_leaves': 167, 'feature_fraction': 0.6469214193414293, 'bagging_fraction': 0.638290277857662, 'bagging_freq': 6, 'min_child_samples': 48}. Best is trial 18 with value: 0.5436507936507936.\u001b[0m\n",
      "\u001b[32m[I 2022-02-05 16:31:34,440]\u001b[0m Trial 23 finished with value: 0.5376984126984127 and parameters: {'lambda_l1': 6.700896494768694, 'lambda_l2': 0.0003987671144503367, 'num_leaves': 84, 'feature_fraction': 0.5544670232685003, 'bagging_fraction': 0.4039643576032563, 'bagging_freq': 4, 'min_child_samples': 31}. Best is trial 18 with value: 0.5436507936507936.\u001b[0m\n",
      "\u001b[32m[I 2022-02-05 16:31:34,488]\u001b[0m Trial 24 finished with value: 0.5178571428571429 and parameters: {'lambda_l1': 0.02034733079317723, 'lambda_l2': 5.5978770273092e-05, 'num_leaves': 71, 'feature_fraction': 0.4537047802142805, 'bagging_fraction': 0.40870976914959206, 'bagging_freq': 3, 'min_child_samples': 29}. Best is trial 18 with value: 0.5436507936507936.\u001b[0m\n",
      "\u001b[32m[I 2022-02-05 16:31:34,544]\u001b[0m Trial 25 finished with value: 0.5079365079365079 and parameters: {'lambda_l1': 0.0011070718463661055, 'lambda_l2': 1.170150364849487, 'num_leaves': 121, 'feature_fraction': 0.6197853656513752, 'bagging_fraction': 0.7696597594241124, 'bagging_freq': 5, 'min_child_samples': 42}. Best is trial 18 with value: 0.5436507936507936.\u001b[0m\n",
      "\u001b[32m[I 2022-02-05 16:31:34,596]\u001b[0m Trial 26 finished with value: 0.5297619047619048 and parameters: {'lambda_l1': 7.020271818817992e-05, 'lambda_l2': 0.01715292279817079, 'num_leaves': 155, 'feature_fraction': 0.4552319183865051, 'bagging_fraction': 0.9181516792932993, 'bagging_freq': 6, 'min_child_samples': 52}. Best is trial 18 with value: 0.5436507936507936.\u001b[0m\n",
      "\u001b[32m[I 2022-02-05 16:31:34,640]\u001b[0m Trial 27 finished with value: 0.5674603174603174 and parameters: {'lambda_l1': 0.3250848594027112, 'lambda_l2': 1.308826632967308, 'num_leaves': 187, 'feature_fraction': 0.7788188766411459, 'bagging_fraction': 0.4632299139620134, 'bagging_freq': 4, 'min_child_samples': 38}. Best is trial 27 with value: 0.5674603174603174.\u001b[0m\n",
      "\u001b[32m[I 2022-02-05 16:31:34,702]\u001b[0m Trial 28 finished with value: 0.49404761904761907 and parameters: {'lambda_l1': 0.4827804828721754, 'lambda_l2': 0.0018430651867290375, 'num_leaves': 190, 'feature_fraction': 0.8189925000867423, 'bagging_fraction': 0.4554418138413235, 'bagging_freq': 2, 'min_child_samples': 19}. Best is trial 27 with value: 0.5674603174603174.\u001b[0m\n",
      "\u001b[32m[I 2022-02-05 16:31:34,741]\u001b[0m Trial 29 finished with value: 0.5337301587301587 and parameters: {'lambda_l1': 0.051374312415307835, 'lambda_l2': 1.8730363039630384, 'num_leaves': 228, 'feature_fraction': 0.8086010713686342, 'bagging_fraction': 0.4950667517187948, 'bagging_freq': 4, 'min_child_samples': 66}. Best is trial 27 with value: 0.5674603174603174.\u001b[0m\n",
      "\u001b[32m[I 2022-02-05 16:31:34,783]\u001b[0m Trial 30 finished with value: 0.5317460317460317 and parameters: {'lambda_l1': 0.18672479684641724, 'lambda_l2': 0.16281914050375076, 'num_leaves': 205, 'feature_fraction': 0.6907157333045971, 'bagging_fraction': 0.4547343435534908, 'bagging_freq': 4, 'min_child_samples': 47}. Best is trial 27 with value: 0.5674603174603174.\u001b[0m\n",
      "\u001b[32m[I 2022-02-05 16:31:34,827]\u001b[0m Trial 31 finished with value: 0.5376984126984127 and parameters: {'lambda_l1': 3.4693247274445347, 'lambda_l2': 0.023102513774152386, 'num_leaves': 45, 'feature_fraction': 0.6713539157974542, 'bagging_fraction': 0.631923875625716, 'bagging_freq': 5, 'min_child_samples': 36}. Best is trial 27 with value: 0.5674603174603174.\u001b[0m\n",
      "\u001b[32m[I 2022-02-05 16:31:34,861]\u001b[0m Trial 32 finished with value: 0.5257936507936508 and parameters: {'lambda_l1': 2.132917183602202, 'lambda_l2': 0.025132355585413328, 'num_leaves': 10, 'feature_fraction': 0.6813441413982575, 'bagging_fraction': 0.6144428989824482, 'bagging_freq': 5, 'min_child_samples': 36}. Best is trial 27 with value: 0.5674603174603174.\u001b[0m\n",
      "\u001b[32m[I 2022-02-05 16:31:34,904]\u001b[0m Trial 33 finished with value: 0.5337301587301587 and parameters: {'lambda_l1': 0.6339489862496228, 'lambda_l2': 0.0004326373130766884, 'num_leaves': 185, 'feature_fraction': 0.53873353182039, 'bagging_fraction': 0.4090320116009444, 'bagging_freq': 4, 'min_child_samples': 29}. Best is trial 27 with value: 0.5674603174603174.\u001b[0m\n",
      "\u001b[32m[I 2022-02-05 16:31:34,942]\u001b[0m Trial 34 finished with value: 0.5257936507936508 and parameters: {'lambda_l1': 8.78188446457597, 'lambda_l2': 0.0007168718059221769, 'num_leaves': 88, 'feature_fraction': 0.6158739466732713, 'bagging_fraction': 0.5236180210591571, 'bagging_freq': 3, 'min_child_samples': 24}. Best is trial 27 with value: 0.5674603174603174.\u001b[0m\n",
      "\u001b[32m[I 2022-02-05 16:31:35,004]\u001b[0m Trial 35 finished with value: 0.5158730158730159 and parameters: {'lambda_l1': 0.014171041039188809, 'lambda_l2': 3.89505177918655, 'num_leaves': 150, 'feature_fraction': 0.7656205619131838, 'bagging_fraction': 0.8500383257709124, 'bagging_freq': 7, 'min_child_samples': 43}. Best is trial 27 with value: 0.5674603174603174.\u001b[0m\n",
      "\u001b[32m[I 2022-02-05 16:31:35,052]\u001b[0m Trial 36 finished with value: 0.5099206349206349 and parameters: {'lambda_l1': 3.541068087462398e-05, 'lambda_l2': 0.13736272508257133, 'num_leaves': 123, 'feature_fraction': 0.6031803828666119, 'bagging_fraction': 0.5411101276191894, 'bagging_freq': 6, 'min_child_samples': 52}. Best is trial 27 with value: 0.5674603174603174.\u001b[0m\n",
      "\u001b[32m[I 2022-02-05 16:31:35,151]\u001b[0m Trial 37 finished with value: 0.501984126984127 and parameters: {'lambda_l1': 0.002882656198780895, 'lambda_l2': 0.380509334763237, 'num_leaves': 161, 'feature_fraction': 0.8657986391048692, 'bagging_fraction': 0.6775823651796642, 'bagging_freq': 5, 'min_child_samples': 14}. Best is trial 27 with value: 0.5674603174603174.\u001b[0m\n",
      "\u001b[32m[I 2022-02-05 16:31:35,212]\u001b[0m Trial 38 finished with value: 0.5297619047619048 and parameters: {'lambda_l1': 4.878827620251818e-06, 'lambda_l2': 1.9863263773788018, 'num_leaves': 239, 'feature_fraction': 0.7321557526174213, 'bagging_fraction': 0.49916693193576417, 'bagging_freq': 4, 'min_child_samples': 22}. Best is trial 27 with value: 0.5674603174603174.\u001b[0m\n",
      "\u001b[32m[I 2022-02-05 16:31:35,255]\u001b[0m Trial 39 finished with value: 0.5317460317460317 and parameters: {'lambda_l1': 2.211007834168992, 'lambda_l2': 0.007662570836970334, 'num_leaves': 176, 'feature_fraction': 0.9888044669769724, 'bagging_fraction': 0.5665257345688758, 'bagging_freq': 7, 'min_child_samples': 34}. Best is trial 27 with value: 0.5674603174603174.\u001b[0m\n",
      "\u001b[32m[I 2022-02-05 16:31:35,301]\u001b[0m Trial 40 finished with value: 0.5297619047619048 and parameters: {'lambda_l1': 0.5230157453936866, 'lambda_l2': 8.257221166577475e-05, 'num_leaves': 129, 'feature_fraction': 0.834349716455597, 'bagging_fraction': 0.7577920167846162, 'bagging_freq': 3, 'min_child_samples': 87}. Best is trial 27 with value: 0.5674603174603174.\u001b[0m\n",
      "\u001b[32m[I 2022-02-05 16:31:35,334]\u001b[0m Trial 41 finished with value: 0.5099206349206349 and parameters: {'lambda_l1': 3.9582879139681055, 'lambda_l2': 0.03578229188663929, 'num_leaves': 52, 'feature_fraction': 0.6693699902562672, 'bagging_fraction': 0.44153465953125615, 'bagging_freq': 5, 'min_child_samples': 38}. Best is trial 27 with value: 0.5674603174603174.\u001b[0m\n",
      "\u001b[32m[I 2022-02-05 16:31:35,368]\u001b[0m Trial 42 finished with value: 0.5317460317460317 and parameters: {'lambda_l1': 5.030132810441989, 'lambda_l2': 7.267993983494205e-06, 'num_leaves': 98, 'feature_fraction': 0.5648840464893328, 'bagging_fraction': 0.4310323577510112, 'bagging_freq': 4, 'min_child_samples': 28}. Best is trial 27 with value: 0.5674603174603174.\u001b[0m\n",
      "\u001b[32m[I 2022-02-05 16:31:35,410]\u001b[0m Trial 43 finished with value: 0.5218253968253969 and parameters: {'lambda_l1': 1.3990173621801412, 'lambda_l2': 0.0016611382507502887, 'num_leaves': 85, 'feature_fraction': 0.5489647794632381, 'bagging_fraction': 0.47867663918339004, 'bagging_freq': 4, 'min_child_samples': 32}. Best is trial 27 with value: 0.5674603174603174.\u001b[0m\n",
      "\u001b[32m[I 2022-02-05 16:31:35,462]\u001b[0m Trial 44 finished with value: 0.5198412698412699 and parameters: {'lambda_l1': 0.19785309880611598, 'lambda_l2': 0.232476372867165, 'num_leaves': 45, 'feature_fraction': 0.7186256176483509, 'bagging_fraction': 0.8131807842177475, 'bagging_freq': 5, 'min_child_samples': 43}. Best is trial 27 with value: 0.5674603174603174.\u001b[0m\n",
      "\u001b[32m[I 2022-02-05 16:31:35,524]\u001b[0m Trial 45 finished with value: 0.5119047619047619 and parameters: {'lambda_l1': 0.06592380147263283, 'lambda_l2': 0.05748637520915763, 'num_leaves': 192, 'feature_fraction': 0.7735176055652706, 'bagging_fraction': 0.9561023592475351, 'bagging_freq': 5, 'min_child_samples': 41}. Best is trial 27 with value: 0.5674603174603174.\u001b[0m\n",
      "\u001b[32m[I 2022-02-05 16:31:35,554]\u001b[0m Trial 46 finished with value: 0.5218253968253969 and parameters: {'lambda_l1': 9.437443430162821, 'lambda_l2': 0.00012992722311255507, 'num_leaves': 137, 'feature_fraction': 0.48992890775706865, 'bagging_fraction': 0.40465178997385853, 'bagging_freq': 3, 'min_child_samples': 26}. Best is trial 27 with value: 0.5674603174603174.\u001b[0m\n",
      "\u001b[32m[I 2022-02-05 16:31:35,613]\u001b[0m Trial 47 finished with value: 0.5218253968253969 and parameters: {'lambda_l1': 0.0003026622589385549, 'lambda_l2': 0.8080654945814149, 'num_leaves': 107, 'feature_fraction': 0.9400800363210838, 'bagging_fraction': 0.5006998606135165, 'bagging_freq': 4, 'min_child_samples': 20}. Best is trial 27 with value: 0.5674603174603174.\u001b[0m\n",
      "\u001b[32m[I 2022-02-05 16:31:35,651]\u001b[0m Trial 48 finished with value: 0.5158730158730159 and parameters: {'lambda_l1': 0.562880114398424, 'lambda_l2': 0.0010124779168055925, 'num_leaves': 215, 'feature_fraction': 0.5885484803627208, 'bagging_fraction': 0.4320893132608315, 'bagging_freq': 6, 'min_child_samples': 48}. Best is trial 27 with value: 0.5674603174603174.\u001b[0m\n",
      "\u001b[32m[I 2022-02-05 16:31:35,686]\u001b[0m Trial 49 finished with value: 0.49404761904761907 and parameters: {'lambda_l1': 2.3747700701057637e-06, 'lambda_l2': 0.008000528997524643, 'num_leaves': 10, 'feature_fraction': 0.7028791014848742, 'bagging_fraction': 0.6833766000557369, 'bagging_freq': 5, 'min_child_samples': 56}. Best is trial 27 with value: 0.5674603174603174.\u001b[0m\n",
      "\u001b[32m[I 2022-02-05 16:31:35,727]\u001b[0m Trial 50 finished with value: 0.5297619047619048 and parameters: {'lambda_l1': 3.1791519764411267, 'lambda_l2': 2.3113927440526308e-05, 'num_leaves': 33, 'feature_fraction': 0.6598091389832996, 'bagging_fraction': 0.4662320730482145, 'bagging_freq': 4, 'min_child_samples': 12}. Best is trial 27 with value: 0.5674603174603174.\u001b[0m\n",
      "\u001b[32m[I 2022-02-05 16:31:35,771]\u001b[0m Trial 51 finished with value: 0.5138888888888888 and parameters: {'lambda_l1': 3.67674206250852, 'lambda_l2': 0.012001035465602161, 'num_leaves': 80, 'feature_fraction': 0.4224847222877167, 'bagging_fraction': 0.7387484147100774, 'bagging_freq': 5, 'min_child_samples': 37}. Best is trial 27 with value: 0.5674603174603174.\u001b[0m\n",
      "\u001b[32m[I 2022-02-05 16:31:35,833]\u001b[0m Trial 52 finished with value: 0.5376984126984127 and parameters: {'lambda_l1': 0.9914297913647093, 'lambda_l2': 4.233146347812673, 'num_leaves': 66, 'feature_fraction': 0.6358310003217507, 'bagging_fraction': 0.8560419278786475, 'bagging_freq': 4, 'min_child_samples': 32}. Best is trial 27 with value: 0.5674603174603174.\u001b[0m\n",
      "\u001b[32m[I 2022-02-05 16:31:35,885]\u001b[0m Trial 53 finished with value: 0.5238095238095238 and parameters: {'lambda_l1': 1.2785974846832064, 'lambda_l2': 5.865997597315122, 'num_leaves': 50, 'feature_fraction': 0.6390621679616922, 'bagging_fraction': 0.8580063848081514, 'bagging_freq': 6, 'min_child_samples': 34}. Best is trial 27 with value: 0.5674603174603174.\u001b[0m\n",
      "\u001b[32m[I 2022-02-05 16:31:35,953]\u001b[0m Trial 54 finished with value: 0.5119047619047619 and parameters: {'lambda_l1': 0.38184598529660224, 'lambda_l2': 3.607867525588284, 'num_leaves': 97, 'feature_fraction': 0.5442556157545807, 'bagging_fraction': 0.8722630683082281, 'bagging_freq': 4, 'min_child_samples': 31}. Best is trial 27 with value: 0.5674603174603174.\u001b[0m\n",
      "\u001b[32m[I 2022-02-05 16:31:35,999]\u001b[0m Trial 55 finished with value: 0.5297619047619048 and parameters: {'lambda_l1': 0.025050437396627084, 'lambda_l2': 0.002826581016031858, 'num_leaves': 61, 'feature_fraction': 0.7494054653870843, 'bagging_fraction': 0.4256975965527608, 'bagging_freq': 3, 'min_child_samples': 25}. Best is trial 27 with value: 0.5674603174603174.\u001b[0m\n",
      "\u001b[32m[I 2022-02-05 16:31:36,045]\u001b[0m Trial 56 finished with value: 0.5357142857142857 and parameters: {'lambda_l1': 0.13647080697600492, 'lambda_l2': 0.06166293201438826, 'num_leaves': 34, 'feature_fraction': 0.48353990449505657, 'bagging_fraction': 0.6071173160503227, 'bagging_freq': 4, 'min_child_samples': 40}. Best is trial 27 with value: 0.5674603174603174.\u001b[0m\n",
      "\u001b[32m[I 2022-02-05 16:31:36,095]\u001b[0m Trial 57 finished with value: 0.5178571428571429 and parameters: {'lambda_l1': 1.07950635367762, 'lambda_l2': 0.27073050379203967, 'num_leaves': 24, 'feature_fraction': 0.6352429863786104, 'bagging_fraction': 0.8157230772524247, 'bagging_freq': 5, 'min_child_samples': 45}. Best is trial 27 with value: 0.5674603174603174.\u001b[0m\n",
      "\u001b[32m[I 2022-02-05 16:31:36,245]\u001b[0m Trial 58 finished with value: 0.45634920634920634 and parameters: {'lambda_l1': 0.00011588521606157616, 'lambda_l2': 0.5727109704353414, 'num_leaves': 172, 'feature_fraction': 0.5837322794166775, 'bagging_fraction': 0.9443850850148028, 'bagging_freq': 4, 'min_child_samples': 8}. Best is trial 27 with value: 0.5674603174603174.\u001b[0m\n",
      "\u001b[32m[I 2022-02-05 16:31:36,295]\u001b[0m Trial 59 finished with value: 0.5357142857142857 and parameters: {'lambda_l1': 6.409667487013346e-08, 'lambda_l2': 2.42939220789499, 'num_leaves': 63, 'feature_fraction': 0.7022803060770848, 'bagging_fraction': 0.7884055490661478, 'bagging_freq': 6, 'min_child_samples': 38}. Best is trial 27 with value: 0.5674603174603174.\u001b[0m\n",
      "\u001b[32m[I 2022-02-05 16:31:36,375]\u001b[0m Trial 60 finished with value: 0.5099206349206349 and parameters: {'lambda_l1': 0.001250720216848979, 'lambda_l2': 8.692919194457028, 'num_leaves': 197, 'feature_fraction': 0.6748596594890738, 'bagging_fraction': 0.9104315007669783, 'bagging_freq': 1, 'min_child_samples': 17}. Best is trial 27 with value: 0.5674603174603174.\u001b[0m\n",
      "\u001b[32m[I 2022-02-05 16:31:36,405]\u001b[0m Trial 61 finished with value: 0.5178571428571429 and parameters: {'lambda_l1': 7.550285874329281, 'lambda_l2': 1.0224017450696283, 'num_leaves': 208, 'feature_fraction': 0.5962524465231693, 'bagging_fraction': 0.45504192167956786, 'bagging_freq': 4, 'min_child_samples': 33}. Best is trial 27 with value: 0.5674603174603174.\u001b[0m\n",
      "\u001b[32m[I 2022-02-05 16:31:36,451]\u001b[0m Trial 62 finished with value: 0.5059523809523809 and parameters: {'lambda_l1': 2.0987397674445383, 'lambda_l2': 0.10753021350611629, 'num_leaves': 114, 'feature_fraction': 0.5219483760518312, 'bagging_fraction': 0.8439510159927315, 'bagging_freq': 3, 'min_child_samples': 99}. Best is trial 27 with value: 0.5674603174603174.\u001b[0m\n",
      "\u001b[32m[I 2022-02-05 16:31:36,496]\u001b[0m Trial 63 finished with value: 0.5238095238095238 and parameters: {'lambda_l1': 1.7468431174849262e-05, 'lambda_l2': 0.025490532441328904, 'num_leaves': 90, 'feature_fraction': 0.5652238798014126, 'bagging_fraction': 0.40924643232520586, 'bagging_freq': 4, 'min_child_samples': 28}. Best is trial 27 with value: 0.5674603174603174.\u001b[0m\n",
      "\u001b[32m[I 2022-02-05 16:31:36,535]\u001b[0m Trial 64 finished with value: 0.5317460317460317 and parameters: {'lambda_l1': 4.213980023264249, 'lambda_l2': 0.0041567805317190894, 'num_leaves': 65, 'feature_fraction': 0.6522256295223927, 'bagging_fraction': 0.538317571285704, 'bagging_freq': 5, 'min_child_samples': 22}. Best is trial 27 with value: 0.5674603174603174.\u001b[0m\n",
      "\u001b[32m[I 2022-02-05 16:31:36,608]\u001b[0m Trial 65 finished with value: 0.501984126984127 and parameters: {'lambda_l1': 0.7575004724882948, 'lambda_l2': 2.0927228751542863e-08, 'num_leaves': 146, 'feature_fraction': 0.6273378347454848, 'bagging_fraction': 0.8907386270768481, 'bagging_freq': 4, 'min_child_samples': 31}. Best is trial 27 with value: 0.5674603174603174.\u001b[0m\n",
      "\u001b[32m[I 2022-02-05 16:31:36,650]\u001b[0m Trial 66 finished with value: 0.49404761904761907 and parameters: {'lambda_l1': 0.2826428249579822, 'lambda_l2': 1.4348245125842563e-07, 'num_leaves': 78, 'feature_fraction': 0.43327659498746135, 'bagging_fraction': 0.4004724863688283, 'bagging_freq': 3, 'min_child_samples': 50}. Best is trial 27 with value: 0.5674603174603174.\u001b[0m\n",
      "\u001b[32m[I 2022-02-05 16:31:36,704]\u001b[0m Trial 67 finished with value: 0.5357142857142857 and parameters: {'lambda_l1': 2.017005046479496, 'lambda_l2': 0.00024679542987247416, 'num_leaves': 187, 'feature_fraction': 0.7795088814272632, 'bagging_fraction': 0.5616247135058858, 'bagging_freq': 5, 'min_child_samples': 36}. Best is trial 27 with value: 0.5674603174603174.\u001b[0m\n",
      "\u001b[32m[I 2022-02-05 16:31:36,738]\u001b[0m Trial 68 finished with value: 0.5158730158730159 and parameters: {'lambda_l1': 4.559400309387718, 'lambda_l2': 0.04537228986667734, 'num_leaves': 23, 'feature_fraction': 0.5016223400691712, 'bagging_fraction': 0.5098541849020829, 'bagging_freq': 6, 'min_child_samples': 44}. Best is trial 27 with value: 0.5674603174603174.\u001b[0m\n",
      "\u001b[32m[I 2022-02-05 16:31:36,787]\u001b[0m Trial 69 finished with value: 0.5297619047619048 and parameters: {'lambda_l1': 0.007772531152249124, 'lambda_l2': 0.18988050480806234, 'num_leaves': 156, 'feature_fraction': 0.6044128671736457, 'bagging_fraction': 0.4504213252132272, 'bagging_freq': 7, 'min_child_samples': 40}. Best is trial 27 with value: 0.5674603174603174.\u001b[0m\n",
      "\u001b[32m[I 2022-02-05 16:31:36,841]\u001b[0m Trial 70 finished with value: 0.5317460317460317 and parameters: {'lambda_l1': 0.09842089501122313, 'lambda_l2': 1.1281818864264472, 'num_leaves': 41, 'feature_fraction': 0.4631589940572409, 'bagging_fraction': 0.4210510925764462, 'bagging_freq': 4, 'min_child_samples': 28}. Best is trial 27 with value: 0.5674603174603174.\u001b[0m\n",
      "\u001b[32m[I 2022-02-05 16:31:36,890]\u001b[0m Trial 71 finished with value: 0.5138888888888888 and parameters: {'lambda_l1': 0.9190057480768812, 'lambda_l2': 0.06978794689401294, 'num_leaves': 55, 'feature_fraction': 0.47897772056742133, 'bagging_fraction': 0.5852134126428827, 'bagging_freq': 4, 'min_child_samples': 40}. Best is trial 27 with value: 0.5674603174603174.\u001b[0m\n",
      "\u001b[32m[I 2022-02-05 16:31:36,948]\u001b[0m Trial 72 finished with value: 0.5238095238095238 and parameters: {'lambda_l1': 0.1318699683393977, 'lambda_l2': 0.009939210489529312, 'num_leaves': 32, 'feature_fraction': 0.40151736544628736, 'bagging_fraction': 0.6521867064315578, 'bagging_freq': 4, 'min_child_samples': 35}. Best is trial 27 with value: 0.5674603174603174.\u001b[0m\n",
      "\u001b[32m[I 2022-02-05 16:31:36,991]\u001b[0m Trial 73 finished with value: 0.5158730158730159 and parameters: {'lambda_l1': 1.9174593628551768, 'lambda_l2': 0.00017680686237485, 'num_leaves': 192, 'feature_fraction': 0.7835054565372196, 'bagging_fraction': 0.4848600098726421, 'bagging_freq': 5, 'min_child_samples': 36}. Best is trial 27 with value: 0.5674603174603174.\u001b[0m\n",
      "\u001b[32m[I 2022-02-05 16:31:37,026]\u001b[0m Trial 74 finished with value: 0.5317460317460317 and parameters: {'lambda_l1': 9.509611909067699, 'lambda_l2': 0.0004095978177499266, 'num_leaves': 184, 'feature_fraction': 0.7205596541342009, 'bagging_fraction': 0.6343642179852408, 'bagging_freq': 5, 'min_child_samples': 33}. Best is trial 27 with value: 0.5674603174603174.\u001b[0m\n",
      "\u001b[32m[I 2022-02-05 16:31:37,080]\u001b[0m Trial 75 finished with value: 0.5277777777777778 and parameters: {'lambda_l1': 3.0033436683626006e-07, 'lambda_l2': 1.9661184637798423, 'num_leaves': 67, 'feature_fraction': 0.6938337665598096, 'bagging_fraction': 0.8039790034792121, 'bagging_freq': 7, 'min_child_samples': 46}. Best is trial 27 with value: 0.5674603174603174.\u001b[0m\n",
      "\u001b[32m[I 2022-02-05 16:31:37,135]\u001b[0m Trial 76 finished with value: 0.5138888888888888 and parameters: {'lambda_l1': 2.1878837091890806, 'lambda_l2': 0.0007270315742772715, 'num_leaves': 169, 'feature_fraction': 0.8004503294633829, 'bagging_fraction': 0.6712050158289498, 'bagging_freq': 5, 'min_child_samples': 26}. Best is trial 27 with value: 0.5674603174603174.\u001b[0m\n",
      "\u001b[32m[I 2022-02-05 16:31:37,187]\u001b[0m Trial 77 finished with value: 0.5158730158730159 and parameters: {'lambda_l1': 3.8467524496093986e-05, 'lambda_l2': 2.5411980341791606e-05, 'num_leaves': 219, 'feature_fraction': 0.7562715828995445, 'bagging_fraction': 0.5639986112602003, 'bagging_freq': 6, 'min_child_samples': 30}. Best is trial 27 with value: 0.5674603174603174.\u001b[0m\n",
      "\u001b[32m[I 2022-02-05 16:31:37,243]\u001b[0m Trial 78 finished with value: 0.5079365079365079 and parameters: {'lambda_l1': 0.40211668303939374, 'lambda_l2': 0.0001611852698609074, 'num_leaves': 211, 'feature_fraction': 0.8373249659596373, 'bagging_fraction': 0.7020984646393406, 'bagging_freq': 5, 'min_child_samples': 37}. Best is trial 27 with value: 0.5674603174603174.\u001b[0m\n",
      "\u001b[32m[I 2022-02-05 16:31:37,280]\u001b[0m Trial 79 finished with value: 0.5138888888888888 and parameters: {'lambda_l1': 5.21944326801211, 'lambda_l2': 0.4082299710556883, 'num_leaves': 40, 'feature_fraction': 0.4777740860407843, 'bagging_fraction': 0.46832229973044, 'bagging_freq': 4, 'min_child_samples': 40}. Best is trial 27 with value: 0.5674603174603174.\u001b[0m\n",
      "\u001b[32m[I 2022-02-05 16:31:37,317]\u001b[0m Trial 80 finished with value: 0.5218253968253969 and parameters: {'lambda_l1': 0.03465916514030196, 'lambda_l2': 0.09709049297226129, 'num_leaves': 232, 'feature_fraction': 0.5262681955799787, 'bagging_fraction': 0.4413313007794996, 'bagging_freq': 4, 'min_child_samples': 57}. Best is trial 27 with value: 0.5674603174603174.\u001b[0m\n",
      "\u001b[32m[I 2022-02-05 16:31:37,371]\u001b[0m Trial 81 finished with value: 0.5277777777777778 and parameters: {'lambda_l1': 3.7447306823227936e-08, 'lambda_l2': 3.0706971644899044, 'num_leaves': 61, 'feature_fraction': 0.44451966583279573, 'bagging_fraction': 0.777851586500447, 'bagging_freq': 6, 'min_child_samples': 39}. Best is trial 27 with value: 0.5674603174603174.\u001b[0m\n",
      "\u001b[32m[I 2022-02-05 16:31:37,427]\u001b[0m Trial 82 finished with value: 0.5376984126984127 and parameters: {'lambda_l1': 1.0727297205248912e-07, 'lambda_l2': 4.927937054238837, 'num_leaves': 179, 'feature_fraction': 0.7384314539806216, 'bagging_fraction': 0.8771518936814942, 'bagging_freq': 6, 'min_child_samples': 37}. Best is trial 27 with value: 0.5674603174603174.\u001b[0m\n",
      "\u001b[32m[I 2022-02-05 16:31:37,489]\u001b[0m Trial 83 finished with value: 0.5297619047619048 and parameters: {'lambda_l1': 2.0930739353404767e-06, 'lambda_l2': 5.670237138745044, 'num_leaves': 179, 'feature_fraction': 0.7322680593222513, 'bagging_fraction': 0.8894753313073074, 'bagging_freq': 6, 'min_child_samples': 35}. Best is trial 27 with value: 0.5674603174603174.\u001b[0m\n",
      "\u001b[32m[I 2022-02-05 16:31:37,544]\u001b[0m Trial 84 finished with value: 0.5277777777777778 and parameters: {'lambda_l1': 1.0111924302031819e-08, 'lambda_l2': 0.021093441368545126, 'num_leaves': 129, 'feature_fraction': 0.6190738426663711, 'bagging_fraction': 0.6120502307538145, 'bagging_freq': 4, 'min_child_samples': 43}. Best is trial 27 with value: 0.5674603174603174.\u001b[0m\n",
      "\u001b[32m[I 2022-02-05 16:31:37,607]\u001b[0m Trial 85 finished with value: 0.5158730158730159 and parameters: {'lambda_l1': 0.7831674443050417, 'lambda_l2': 1.533458457252619, 'num_leaves': 201, 'feature_fraction': 0.5054996132041503, 'bagging_fraction': 0.9260749028085085, 'bagging_freq': 3, 'min_child_samples': 32}. Best is trial 27 with value: 0.5674603174603174.\u001b[0m\n",
      "\u001b[32m[I 2022-02-05 16:31:37,655]\u001b[0m Trial 86 finished with value: 0.5257936507936508 and parameters: {'lambda_l1': 0.2527115356438639, 'lambda_l2': 0.6975944216966224, 'num_leaves': 56, 'feature_fraction': 0.665121072633895, 'bagging_fraction': 0.8354533955368058, 'bagging_freq': 4, 'min_child_samples': 49}. Best is trial 27 with value: 0.5674603174603174.\u001b[0m\n",
      "\u001b[32m[I 2022-02-05 16:31:37,737]\u001b[0m Trial 87 finished with value: 0.5099206349206349 and parameters: {'lambda_l1': 1.5167816997773997, 'lambda_l2': 0.0022715452606417524, 'num_leaves': 186, 'feature_fraction': 0.7802263329493397, 'bagging_fraction': 0.8719590085108335, 'bagging_freq': 6, 'min_child_samples': 23}. Best is trial 27 with value: 0.5674603174603174.\u001b[0m\n",
      "\u001b[32m[I 2022-02-05 16:31:37,771]\u001b[0m Trial 88 finished with value: 0.5257936507936508 and parameters: {'lambda_l1': 5.506070935040176, 'lambda_l2': 4.765850277994142, 'num_leaves': 196, 'feature_fraction': 0.6834784212152979, 'bagging_fraction': 0.41890719528374265, 'bagging_freq': 5, 'min_child_samples': 20}. Best is trial 27 with value: 0.5674603174603174.\u001b[0m\n",
      "\u001b[32m[I 2022-02-05 16:31:37,835]\u001b[0m Trial 89 finished with value: 0.5238095238095238 and parameters: {'lambda_l1': 9.084062114227389e-08, 'lambda_l2': 2.547650832419553, 'num_leaves': 76, 'feature_fraction': 0.7023567956949167, 'bagging_fraction': 0.8312275862626624, 'bagging_freq': 6, 'min_child_samples': 37}. Best is trial 27 with value: 0.5674603174603174.\u001b[0m\n",
      "\u001b[32m[I 2022-02-05 16:31:37,915]\u001b[0m Trial 90 finished with value: 0.503968253968254 and parameters: {'lambda_l1': 3.9710886069116325e-07, 'lambda_l2': 0.30836455894310855, 'num_leaves': 109, 'feature_fraction': 0.7152129528261707, 'bagging_fraction': 0.8635243077145909, 'bagging_freq': 7, 'min_child_samples': 28}. Best is trial 27 with value: 0.5674603174603174.\u001b[0m\n",
      "\u001b[32m[I 2022-02-05 16:31:37,965]\u001b[0m Trial 91 finished with value: 0.5277777777777778 and parameters: {'lambda_l1': 4.7988452466317556e-08, 'lambda_l2': 1.5185695420315142, 'num_leaves': 46, 'feature_fraction': 0.7393909982165986, 'bagging_fraction': 0.7232552152835554, 'bagging_freq': 6, 'min_child_samples': 42}. Best is trial 27 with value: 0.5674603174603174.\u001b[0m\n",
      "\u001b[32m[I 2022-02-05 16:31:38,008]\u001b[0m Trial 92 finished with value: 0.5317460317460317 and parameters: {'lambda_l1': 1.681660388371298e-07, 'lambda_l2': 7.292491618881604, 'num_leaves': 165, 'feature_fraction': 0.8055491432256157, 'bagging_fraction': 0.4388679307268394, 'bagging_freq': 6, 'min_child_samples': 38}. Best is trial 27 with value: 0.5674603174603174.\u001b[0m\n",
      "\u001b[32m[I 2022-02-05 16:31:38,059]\u001b[0m Trial 93 finished with value: 0.5257936507936508 and parameters: {'lambda_l1': 2.7246259470917186e-08, 'lambda_l2': 0.015815770222387966, 'num_leaves': 26, 'feature_fraction': 0.5718733940595325, 'bagging_fraction': 0.6023806722256175, 'bagging_freq': 4, 'min_child_samples': 33}. Best is trial 27 with value: 0.5674603174603174.\u001b[0m\n",
      "\u001b[32m[I 2022-02-05 16:31:38,137]\u001b[0m Trial 94 finished with value: 0.5079365079365079 and parameters: {'lambda_l1': 8.96372809513206e-08, 'lambda_l2': 0.00425866726209975, 'num_leaves': 175, 'feature_fraction': 0.7634479263485592, 'bagging_fraction': 0.7939599878518437, 'bagging_freq': 5, 'min_child_samples': 30}. Best is trial 27 with value: 0.5674603174603174.\u001b[0m\n",
      "\u001b[32m[I 2022-02-05 16:31:38,226]\u001b[0m Trial 95 finished with value: 0.5277777777777778 and parameters: {'lambda_l1': 9.642780321756193e-07, 'lambda_l2': 0.0002386972692824071, 'num_leaves': 159, 'feature_fraction': 0.7911640400239703, 'bagging_fraction': 0.9258959108007396, 'bagging_freq': 6, 'min_child_samples': 26}. Best is trial 27 with value: 0.5674603174603174.\u001b[0m\n",
      "\u001b[32m[I 2022-02-05 16:31:38,271]\u001b[0m Trial 96 finished with value: 0.5138888888888888 and parameters: {'lambda_l1': 3.175454183946258, 'lambda_l2': 0.033361958861526896, 'num_leaves': 95, 'feature_fraction': 0.41687059785637426, 'bagging_fraction': 0.8992119396071256, 'bagging_freq': 4, 'min_child_samples': 39}. Best is trial 27 with value: 0.5674603174603174.\u001b[0m\n",
      "\u001b[32m[I 2022-02-05 16:31:38,326]\u001b[0m Trial 97 finished with value: 0.5138888888888888 and parameters: {'lambda_l1': 2.4417993553010615, 'lambda_l2': 0.001339218667627835, 'num_leaves': 82, 'feature_fraction': 0.7478895088804577, 'bagging_fraction': 0.6279262662905054, 'bagging_freq': 5, 'min_child_samples': 35}. Best is trial 27 with value: 0.5674603174603174.\u001b[0m\n",
      "\u001b[32m[I 2022-02-05 16:31:38,377]\u001b[0m Trial 98 finished with value: 0.5337301587301587 and parameters: {'lambda_l1': 1.2690208766802686, 'lambda_l2': 9.833592707747384, 'num_leaves': 184, 'feature_fraction': 0.6572248299515563, 'bagging_fraction': 0.7580877585239433, 'bagging_freq': 7, 'min_child_samples': 45}. Best is trial 27 with value: 0.5674603174603174.\u001b[0m\n",
      "\u001b[32m[I 2022-02-05 16:31:38,436]\u001b[0m Trial 99 finished with value: 0.5277777777777778 and parameters: {'lambda_l1': 0.000920975901583368, 'lambda_l2': 0.5318402163762787, 'num_leaves': 70, 'feature_fraction': 0.5397579842606166, 'bagging_fraction': 0.8475064405453481, 'bagging_freq': 4, 'min_child_samples': 41}. Best is trial 27 with value: 0.5674603174603174.\u001b[0m\n"
     ]
    },
    {
     "name": "stdout",
     "output_type": "stream",
     "text": [
      "[LightGBM] [Warning] lambda_l1 is set=0.3250848594027112, reg_alpha=0.0 will be ignored. Current value: lambda_l1=0.3250848594027112\n",
      "[LightGBM] [Warning] feature_fraction is set=0.7788188766411459, colsample_bytree=1.0 will be ignored. Current value: feature_fraction=0.7788188766411459\n",
      "[LightGBM] [Warning] bagging_freq is set=4, subsample_freq=0 will be ignored. Current value: bagging_freq=4\n",
      "[LightGBM] [Warning] lambda_l2 is set=1.308826632967308, reg_lambda=0.0 will be ignored. Current value: lambda_l2=1.308826632967308\n",
      "[LightGBM] [Warning] bagging_fraction is set=0.4632299139620134, subsample=1.0 will be ignored. Current value: bagging_fraction=0.4632299139620134\n",
      "0.5436507936507936\n",
      "0.47693307342430147\n"
     ]
    }
   ],
   "source": [
    "import pandas_datareader as pdr\n",
    "from sklearn.model_selection import train_test_split\n",
    "import lightgbm as lgb\n",
    "from sklearn.metrics import accuracy_score, f1_score\n",
    "import numpy as np\n",
    "import optuna\n",
    "\n",
    "def objective(trial):\n",
    "    X_train, X_test, y_train, y_test = train_test_split(\n",
    "        X,\n",
    "        y,\n",
    "        test_size=0.2,\n",
    "        shuffle=False,\n",
    "    )\n",
    "    dtrain = lgb.Dataset(X_train, label=y_train)\n",
    "    param = {\n",
    "        \"objective\": \"binary\",\n",
    "        \"metric\": \"binary_logloss\",\n",
    "        \"verbosity\": -1,\n",
    "        \"boosting_type\": \"gbdt\",\n",
    "        \"lambda_l1\": trial.suggest_float(\"lambda_l1\", 1e-8, 10.0, log=True),\n",
    "        \"lambda_l2\": trial.suggest_float(\"lambda_l2\", 1e-8, 10.0, log=True),\n",
    "        \"num_leaves\": trial.suggest_int(\"num_leaves\", 2, 256),\n",
    "        \"feature_fraction\": trial.suggest_float(\"feature_fraction\", 0.4, 1.0),\n",
    "        \"bagging_fraction\": trial.suggest_float(\"bagging_fraction\", 0.4, 1.0),\n",
    "        \"bagging_freq\": trial.suggest_int(\"bagging_freq\", 1, 7),\n",
    "        \"min_child_samples\": trial.suggest_int(\"min_child_samples\", 5, 100),\n",
    "    }\n",
    "\n",
    "    gbm = lgb.train(param, dtrain)\n",
    "    preds = gbm.predict(X_test)\n",
    "    pred_labels = np.rint(preds)\n",
    "    accuracy = accuracy_score(y_test, pred_labels)\n",
    "    return accuracy\n",
    "\n",
    "df = pdr.get_data_yahoo(\"AAPL\", \"2010-11-01\", \"2020-11-01\")\n",
    "df[\"Diff\"] = df.Close.diff()\n",
    "df[\"SMA_2\"] = df.Close.rolling(2).mean()\n",
    "df[\"Force_Index\"] = df[\"Close\"] * df[\"Volume\"]\n",
    "df[\"y\"] = df[\"Diff\"].apply(lambda x: 1 if x > 0 else 0).shift(-1)\n",
    "df = df.drop(\n",
    "    [\"Open\", \"High\", \"Low\", \"Close\", \"Volume\", \"Diff\", \"Adj Close\"],\n",
    "    axis=1,\n",
    ").dropna()\n",
    "# print(df)\n",
    "X = df.drop([\"y\"], axis=1).values\n",
    "y = df[\"y\"].values\n",
    "X_train, X_test, y_train, y_test = train_test_split(\n",
    "    X,\n",
    "    y,\n",
    "    test_size=0.2,\n",
    "    shuffle=False,\n",
    ")\n",
    "study = optuna.create_study(direction=\"maximize\")\n",
    "study.optimize(objective, n_trials=100)\n",
    "trial = study.best_trial\n",
    "clf = lgb.LGBMRegressor(**dict(trial.params.items()))\n",
    "clf.fit(\n",
    "    X_train,\n",
    "    y_train,\n",
    ")\n",
    "y_pred = clf.predict(X_test)\n",
    "print(accuracy_score(y_test, y_pred > 0.5))\n",
    "print(f1_score(y_test, y_pred > 0.5, average='macro'))"
   ]
  },
  {
   "cell_type": "code",
   "execution_count": 4,
   "metadata": {},
   "outputs": [],
   "source": [
    "#import codecs\n",
    "#import numpy as np\n",
    "from matplotlib import pyplot as plt\n",
    "#import pandas as pd\n",
    "from sklearn import metrics\n",
    "#import optuna.integration.lightgbm as lgb"
   ]
  },
  {
   "cell_type": "code",
   "execution_count": 5,
   "metadata": {},
   "outputs": [
    {
     "name": "stdout",
     "output_type": "stream",
     "text": [
      "AUC 0.5163409087294645\n"
     ]
    },
    {
     "data": {
      "image/png": "[encoded data removed]",
      "text/plain": [
       "<Figure size 432x288 with 1 Axes>"
      ]
     },
     "metadata": {
      "needs_background": "light"
     },
     "output_type": "display_data"
    },
    {
     "name": "stdout",
     "output_type": "stream",
     "text": [
      "accuracy 0.5436507936507936\n",
      "precision 0.5577395577395577\n"
     ]
    },
    {
     "data": {
      "image/png": "[encoded data removed]",
      "text/plain": [
       "<Figure size 432x288 with 2 Axes>"
      ]
     },
     "metadata": {
      "needs_background": "light"
     },
     "output_type": "display_data"
    }
   ],
   "source": [
    "# AUCを計算\n",
    "fpr, tpr, thresholds = metrics.roc_curve(np.asarray(y_test), y_pred)\n",
    "auc = metrics.auc(fpr, tpr)\n",
    "print(\"AUC\", auc)\n",
    "\n",
    "# ROC曲線をプロット\n",
    "plt.plot(fpr, tpr, label='ROC curve (area = %.2f)'%auc)\n",
    "plt.legend()\n",
    "plt.title('ROC curve')\n",
    "plt.xlabel('False Positive Rate')\n",
    "plt.ylabel('True Positive Rate')\n",
    "plt.grid(True)\n",
    "plt.show()\n",
    "\n",
    "# accuracy, precisionを計算\n",
    "acc = metrics.accuracy_score(np.asarray(y_test), np.round(y_pred))\n",
    "precision = metrics.precision_score(np.asarray(y_test), np.round(y_pred))\n",
    "print(\"accuracy\", acc)\n",
    "print(\"precision\", precision)\n",
    "\n",
    "# 混同行列をプロット\n",
    "y_pred = np.round(y_pred)\n",
    "cm = metrics.confusion_matrix(np.asarray(y_test), np.where(y_pred < 0.5, 0, 1))\n",
    "cmp = metrics.ConfusionMatrixDisplay(cm, display_labels=[0,1])\n",
    "cmp.plot(cmap=plt.cm.Blues)\n",
    "plt.show()"
   ]
  },
  {
   "cell_type": "code",
   "execution_count": null,
   "metadata": {},
   "outputs": [],
   "source": []
  }
 ],
 "metadata": {
  "kernelspec": {
   "display_name": "Python 3",
   "language": "python",
   "name": "python3"
  },
  "language_info": {
   "codemirror_mode": {
    "name": "ipython",
    "version": 3
   },
   "file_extension": ".py",
   "mimetype": "text/x-python",
   "name": "python",
   "nbconvert_exporter": "python",
   "pygments_lexer": "ipython3",
   "version": "3.8.8"
  }
 },
 "nbformat": 4,
 "nbformat_minor": 4
}
