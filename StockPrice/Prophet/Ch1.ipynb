{
 "cells": [
  {
   "cell_type": "code",
   "execution_count": 1,
   "metadata": {
    "colab": {
     "base_uri": "https://localhost:8080/",
     "height": 450
    },
    "id": "ZM4zZc97KirR",
    "outputId": "3aa651c4-ddf3-451c-8255-d7cb7491591d"
   },
   "outputs": [
    {
     "data": {
      "text/html": [
       "<div>\n",
       "<style scoped>\n",
       "    .dataframe tbody tr th:only-of-type {\n",
       "        vertical-align: middle;\n",
       "    }\n",
       "\n",
       "    .dataframe tbody tr th {\n",
       "        vertical-align: top;\n",
       "    }\n",
       "\n",
       "    .dataframe thead th {\n",
       "        text-align: right;\n",
       "    }\n",
       "</style>\n",
       "<table border=\"1\" class=\"dataframe\">\n",
       "  <thead>\n",
       "    <tr style=\"text-align: right;\">\n",
       "      <th></th>\n",
       "      <th>Open</th>\n",
       "      <th>High</th>\n",
       "      <th>Low</th>\n",
       "      <th>Close</th>\n",
       "      <th>Volume</th>\n",
       "    </tr>\n",
       "    <tr>\n",
       "      <th>Date</th>\n",
       "      <th></th>\n",
       "      <th></th>\n",
       "      <th></th>\n",
       "      <th></th>\n",
       "      <th></th>\n",
       "    </tr>\n",
       "  </thead>\n",
       "  <tbody>\n",
       "    <tr>\n",
       "      <th>2022-03-10</th>\n",
       "      <td>4840.00</td>\n",
       "      <td>4843.00</td>\n",
       "      <td>4751.00</td>\n",
       "      <td>4780.00</td>\n",
       "      <td>18739400</td>\n",
       "    </tr>\n",
       "    <tr>\n",
       "      <th>2022-03-09</th>\n",
       "      <td>4487.00</td>\n",
       "      <td>4830.00</td>\n",
       "      <td>4487.00</td>\n",
       "      <td>4636.00</td>\n",
       "      <td>25480600</td>\n",
       "    </tr>\n",
       "    <tr>\n",
       "      <th>2022-03-08</th>\n",
       "      <td>4630.00</td>\n",
       "      <td>4713.00</td>\n",
       "      <td>4459.00</td>\n",
       "      <td>4474.00</td>\n",
       "      <td>24289100</td>\n",
       "    </tr>\n",
       "    <tr>\n",
       "      <th>2022-03-07</th>\n",
       "      <td>4806.00</td>\n",
       "      <td>4845.00</td>\n",
       "      <td>4670.00</td>\n",
       "      <td>4707.00</td>\n",
       "      <td>19067000</td>\n",
       "    </tr>\n",
       "    <tr>\n",
       "      <th>2022-03-04</th>\n",
       "      <td>5113.00</td>\n",
       "      <td>5145.00</td>\n",
       "      <td>4923.00</td>\n",
       "      <td>4963.00</td>\n",
       "      <td>19457600</td>\n",
       "    </tr>\n",
       "    <tr>\n",
       "      <th>...</th>\n",
       "      <td>...</td>\n",
       "      <td>...</td>\n",
       "      <td>...</td>\n",
       "      <td>...</td>\n",
       "      <td>...</td>\n",
       "    </tr>\n",
       "    <tr>\n",
       "      <th>2017-03-21</th>\n",
       "      <td>4083.00</td>\n",
       "      <td>4085.94</td>\n",
       "      <td>4001.15</td>\n",
       "      <td>4031.37</td>\n",
       "      <td>13511815</td>\n",
       "    </tr>\n",
       "    <tr>\n",
       "      <th>2017-03-17</th>\n",
       "      <td>4136.62</td>\n",
       "      <td>4145.38</td>\n",
       "      <td>4093.74</td>\n",
       "      <td>4108.34</td>\n",
       "      <td>9204429</td>\n",
       "    </tr>\n",
       "    <tr>\n",
       "      <th>2017-03-16</th>\n",
       "      <td>4064.49</td>\n",
       "      <td>4172.67</td>\n",
       "      <td>4064.01</td>\n",
       "      <td>4152.69</td>\n",
       "      <td>12891578</td>\n",
       "    </tr>\n",
       "    <tr>\n",
       "      <th>2017-03-15</th>\n",
       "      <td>4095.69</td>\n",
       "      <td>4106.40</td>\n",
       "      <td>4064.01</td>\n",
       "      <td>4083.00</td>\n",
       "      <td>6215306</td>\n",
       "    </tr>\n",
       "    <tr>\n",
       "      <th>2017-03-14</th>\n",
       "      <td>4090.32</td>\n",
       "      <td>4122.00</td>\n",
       "      <td>4075.72</td>\n",
       "      <td>4109.32</td>\n",
       "      <td>7890067</td>\n",
       "    </tr>\n",
       "  </tbody>\n",
       "</table>\n",
       "<p>1217 rows × 5 columns</p>\n",
       "</div>"
      ],
      "text/plain": [
       "               Open     High      Low    Close    Volume\n",
       "Date                                                    \n",
       "2022-03-10  4840.00  4843.00  4751.00  4780.00  18739400\n",
       "2022-03-09  4487.00  4830.00  4487.00  4636.00  25480600\n",
       "2022-03-08  4630.00  4713.00  4459.00  4474.00  24289100\n",
       "2022-03-07  4806.00  4845.00  4670.00  4707.00  19067000\n",
       "2022-03-04  5113.00  5145.00  4923.00  4963.00  19457600\n",
       "...             ...      ...      ...      ...       ...\n",
       "2017-03-21  4083.00  4085.94  4001.15  4031.37  13511815\n",
       "2017-03-17  4136.62  4145.38  4093.74  4108.34   9204429\n",
       "2017-03-16  4064.49  4172.67  4064.01  4152.69  12891578\n",
       "2017-03-15  4095.69  4106.40  4064.01  4083.00   6215306\n",
       "2017-03-14  4090.32  4122.00  4075.72  4109.32   7890067\n",
       "\n",
       "[1217 rows x 5 columns]"
      ]
     },
     "execution_count": 1,
     "metadata": {},
     "output_type": "execute_result"
    }
   ],
   "source": [
    "import pandas_datareader.data as pdr\n",
    "\n",
    "df = pdr.DataReader(\"9984.JP\",\"stooq\")\n",
    "df"
   ]
  },
  {
   "cell_type": "code",
   "execution_count": 2,
   "metadata": {
    "colab": {
     "base_uri": "https://localhost:8080/"
    },
    "id": "icIwW1oBLx6j",
    "outputId": "9f92fc26-be19-4d51-c0bc-79323df9ee20"
   },
   "outputs": [
    {
     "data": {
      "text/plain": [
       "DatetimeIndex(['2022-03-10', '2022-03-09', '2022-03-08', '2022-03-07',\n",
       "               '2022-03-04', '2022-03-03', '2022-03-02', '2022-03-01',\n",
       "               '2022-02-28', '2022-02-25',\n",
       "               ...\n",
       "               '2017-03-28', '2017-03-27', '2017-03-24', '2017-03-23',\n",
       "               '2017-03-22', '2017-03-21', '2017-03-17', '2017-03-16',\n",
       "               '2017-03-15', '2017-03-14'],\n",
       "              dtype='datetime64[ns]', name='Date', length=1217, freq=None)"
      ]
     },
     "execution_count": 2,
     "metadata": {},
     "output_type": "execute_result"
    }
   ],
   "source": [
    "df.index"
   ]
  },
  {
   "cell_type": "code",
   "execution_count": 3,
   "metadata": {
    "id": "oXLGblqhL0IO"
   },
   "outputs": [],
   "source": [
    "def get_stock_data(code):\n",
    "  df = pdr.DataReader(\"{}.JP\".format(code), \"stooq\").sort_index()\n",
    "  return df"
   ]
  },
  {
   "cell_type": "code",
   "execution_count": 4,
   "metadata": {
    "colab": {
     "base_uri": "https://localhost:8080/",
     "height": 235
    },
    "id": "4wtFbaaBL3Tn",
    "outputId": "42f91b62-0ca9-4542-d2ac-2f41daa2dfcc"
   },
   "outputs": [
    {
     "data": {
      "text/html": [
       "<div>\n",
       "<style scoped>\n",
       "    .dataframe tbody tr th:only-of-type {\n",
       "        vertical-align: middle;\n",
       "    }\n",
       "\n",
       "    .dataframe tbody tr th {\n",
       "        vertical-align: top;\n",
       "    }\n",
       "\n",
       "    .dataframe thead th {\n",
       "        text-align: right;\n",
       "    }\n",
       "</style>\n",
       "<table border=\"1\" class=\"dataframe\">\n",
       "  <thead>\n",
       "    <tr style=\"text-align: right;\">\n",
       "      <th></th>\n",
       "      <th>Open</th>\n",
       "      <th>High</th>\n",
       "      <th>Low</th>\n",
       "      <th>Close</th>\n",
       "      <th>Volume</th>\n",
       "    </tr>\n",
       "    <tr>\n",
       "      <th>Date</th>\n",
       "      <th></th>\n",
       "      <th></th>\n",
       "      <th></th>\n",
       "      <th></th>\n",
       "      <th></th>\n",
       "    </tr>\n",
       "  </thead>\n",
       "  <tbody>\n",
       "    <tr>\n",
       "      <th>2022-03-04</th>\n",
       "      <td>5113.0</td>\n",
       "      <td>5145.0</td>\n",
       "      <td>4923.0</td>\n",
       "      <td>4963.0</td>\n",
       "      <td>19457600</td>\n",
       "    </tr>\n",
       "    <tr>\n",
       "      <th>2022-03-07</th>\n",
       "      <td>4806.0</td>\n",
       "      <td>4845.0</td>\n",
       "      <td>4670.0</td>\n",
       "      <td>4707.0</td>\n",
       "      <td>19067000</td>\n",
       "    </tr>\n",
       "    <tr>\n",
       "      <th>2022-03-08</th>\n",
       "      <td>4630.0</td>\n",
       "      <td>4713.0</td>\n",
       "      <td>4459.0</td>\n",
       "      <td>4474.0</td>\n",
       "      <td>24289100</td>\n",
       "    </tr>\n",
       "    <tr>\n",
       "      <th>2022-03-09</th>\n",
       "      <td>4487.0</td>\n",
       "      <td>4830.0</td>\n",
       "      <td>4487.0</td>\n",
       "      <td>4636.0</td>\n",
       "      <td>25480600</td>\n",
       "    </tr>\n",
       "    <tr>\n",
       "      <th>2022-03-10</th>\n",
       "      <td>4840.0</td>\n",
       "      <td>4843.0</td>\n",
       "      <td>4751.0</td>\n",
       "      <td>4780.0</td>\n",
       "      <td>18739400</td>\n",
       "    </tr>\n",
       "  </tbody>\n",
       "</table>\n",
       "</div>"
      ],
      "text/plain": [
       "              Open    High     Low   Close    Volume\n",
       "Date                                                \n",
       "2022-03-04  5113.0  5145.0  4923.0  4963.0  19457600\n",
       "2022-03-07  4806.0  4845.0  4670.0  4707.0  19067000\n",
       "2022-03-08  4630.0  4713.0  4459.0  4474.0  24289100\n",
       "2022-03-09  4487.0  4830.0  4487.0  4636.0  25480600\n",
       "2022-03-10  4840.0  4843.0  4751.0  4780.0  18739400"
      ]
     },
     "execution_count": 4,
     "metadata": {},
     "output_type": "execute_result"
    }
   ],
   "source": [
    "df = get_stock_data(9984)\n",
    "df.tail()"
   ]
  },
  {
   "cell_type": "code",
   "execution_count": 5,
   "metadata": {
    "colab": {
     "base_uri": "https://localhost:8080/"
    },
    "id": "cmMPi5rkL6hc",
    "outputId": "b53e6b21-f500-449f-e3f6-527c3af1cdd2"
   },
   "outputs": [
    {
     "data": {
      "text/plain": [
       "Date\n",
       "2017-03-14    4109.32\n",
       "2017-03-15    4083.00\n",
       "2017-03-16    4152.69\n",
       "2017-03-17    4108.34\n",
       "2017-03-21    4031.37\n",
       "               ...   \n",
       "2022-03-04    4963.00\n",
       "2022-03-07    4707.00\n",
       "2022-03-08    4474.00\n",
       "2022-03-09    4636.00\n",
       "2022-03-10    4780.00\n",
       "Name: Close, Length: 1217, dtype: float64"
      ]
     },
     "execution_count": 5,
     "metadata": {},
     "output_type": "execute_result"
    }
   ],
   "source": [
    "df['Close']"
   ]
  },
  {
   "cell_type": "code",
   "execution_count": 6,
   "metadata": {
    "colab": {
     "base_uri": "https://localhost:8080/",
     "height": 289
    },
    "id": "-rX3tz2cL81Q",
    "outputId": "0f229f8d-2e73-49d2-f0ae-b302395b18d1"
   },
   "outputs": [
    {
     "data": {
      "text/plain": [
       "<AxesSubplot:xlabel='Date'>"
      ]
     },
     "execution_count": 6,
     "metadata": {},
     "output_type": "execute_result"
    },
    {
     "data": {
      "image/png": "[encoded data removed]",
      "text/plain": [
       "<Figure size 432x288 with 1 Axes>"
      ]
     },
     "metadata": {
      "needs_background": "light"
     },
     "output_type": "display_data"
    }
   ],
   "source": [
    "df['Close'].plot()"
   ]
  },
  {
   "cell_type": "code",
   "execution_count": null,
   "metadata": {},
   "outputs": [],
   "source": []
  }
 ],
 "metadata": {
  "colab": {
   "name": "Ch1.ipynb",
   "provenance": []
  },
  "kernelspec": {
   "display_name": "Python 3",
   "language": "python",
   "name": "python3"
  },
  "language_info": {
   "codemirror_mode": {
    "name": "ipython",
    "version": 3
   },
   "file_extension": ".py",
   "mimetype": "text/x-python",
   "name": "python",
   "nbconvert_exporter": "python",
   "pygments_lexer": "ipython3",
   "version": "3.8.8"
  }
 },
 "nbformat": 4,
 "nbformat_minor": 4
}
