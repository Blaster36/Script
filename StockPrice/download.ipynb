{
 "cells": [
  {
   "cell_type": "code",
   "execution_count": 1,
   "id": "308c6db8-68d2-49a4-9583-bb06439468d7",
   "metadata": {},
   "outputs": [
    {
     "name": "stdout",
     "output_type": "stream",
     "text": [
      "<class 'pandas.core.frame.DataFrame'>\n",
      "DatetimeIndex: 244 entries, 2020-10-02 to 2021-09-30\n",
      "Data columns (total 7 columns):\n",
      " #   Column     Non-Null Count  Dtype  \n",
      "---  ------     --------------  -----  \n",
      " 0   Close_x    244 non-null    float64\n",
      " 1   High       244 non-null    float64\n",
      " 2   Low        244 non-null    float64\n",
      " 3   Open       244 non-null    float64\n",
      " 4   Close_y    244 non-null    float64\n",
      " 5   Volume     244 non-null    float64\n",
      " 6   Adj Close  244 non-null    float64\n",
      "dtypes: float64(7)\n",
      "memory usage: 15.2 KB\n"
     ]
    }
   ],
   "source": [
    "# ライブラリのインポート\n",
    "import pandas as pd\n",
    "pd.set_option('display.max_rows', 500)\n",
    "import datetime\n",
    "import pandas_datareader as data\n",
    "\n",
    "# データ取得期間の定義\n",
    "## 欠損値補完のために直前のデータを使うため、Startは少し長めに取得。\n",
    "## 実際の分析期間は2016-01-01～とする。\n",
    "start = datetime.date(2015, 1, 1)\n",
    "end   = datetime.date(2021,12,31)\n",
    "st_train = '2016/10/01'\n",
    "ed_train = '2019/09/30'\n",
    "st_valid = '2019/10/01'\n",
    "ed_valid = '2020/09/30'\n",
    "st_test  = '2020/10/01'\n",
    "ed_test  = '2021/09/30'\n",
    "st_test  = datetime.date(2020,10, 1)\n",
    "ed_test  = datetime.date(2021, 9,30)\n",
    "\n",
    "# STOOQから株価価格等の取得\n",
    "lst1=['7203.T', #トヨタ自動車(株)\n",
    "      #'7201.T', #日産自動車(株)\n",
    "      #'7211.T', #三菱自動車(株)\n",
    "      #'7261.T', #マツダ(株)\n",
    "      #'7267.T', #ホンダ\n",
    "      #'7269.T', #スズキ(株)\n",
    "      #'6023.T', #ダイハツディーゼル(株)\n",
    "      #'6902.T', #(株)デンソー\n",
    "    ]\n",
    "#stooq = data.DataReader(lst1, 'yahoo', start, end)\n",
    "stooq = data.DataReader('7203.T', 'yahoo', start, end)\n",
    "stooq.to_csv('stooq.csv')\n",
    "\n",
    "# STOOQから株価価格等の取得\n",
    "lst2=['^GSPC',     #S&P500\n",
    "      #'^SP500-45', #S&P500:情報技術セクター\n",
    "      #'^DJI',      #NYダウ\n",
    "      #'^IXIC',     #ナスダック総合\n",
    "    ]\n",
    "#fred = data.DataReader(lst2, 'yahoo', start, end)\n",
    "fred = data.DataReader('^GSPC', 'yahoo', start, end)\n",
    "fred.to_csv('fred.csv')\n",
    "\n",
    "# StooqとFredから取得したデータを結合する（結合キーはインデックス＝Date）\n",
    "stock = pd.merge(stooq['Close'], fred, how='left', left_index=True, right_index=True)\n",
    "\n",
    "# 欠損値を直前のデータで保管する\n",
    "stock = stock.fillna(method='ffill')\n",
    "\n",
    "# 2016-01-01以降のデータを抽出\n",
    "#stock = stock[start:end]\n",
    "# 2020-10-01～2020-09-30のデータを抽出\n",
    "stock = stock[st_test:ed_test]\n",
    "stock.info()\n",
    "stock.to_csv('stock.csv')"
   ]
  },
  {
   "cell_type": "code",
   "execution_count": null,
   "id": "684c8a31-1ab2-4327-8653-71e9c908ef2c",
   "metadata": {},
   "outputs": [],
   "source": []
  }
 ],
 "metadata": {
  "kernelspec": {
   "display_name": "Python 3",
   "language": "python",
   "name": "python3"
  },
  "language_info": {
   "codemirror_mode": {
    "name": "ipython",
    "version": 3
   },
   "file_extension": ".py",
   "mimetype": "text/x-python",
   "name": "python",
   "nbconvert_exporter": "python",
   "pygments_lexer": "ipython3",
   "version": "3.8.8"
  }
 },
 "nbformat": 4,
 "nbformat_minor": 5
}
