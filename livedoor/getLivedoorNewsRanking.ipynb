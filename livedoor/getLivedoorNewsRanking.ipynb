{
 "cells": [
  {
   "cell_type": "code",
   "execution_count": 1,
   "metadata": {},
   "outputs": [],
   "source": [
    "from urllib.request import Request, urlopen\n",
    "from bs4 import BeautifulSoup\n",
    "import re\n",
    "import pandas as pd\n",
    "import csv\n",
    "import traceback\n",
    "import os"
   ]
  },
  {
   "cell_type": "code",
   "execution_count": 2,
   "metadata": {},
   "outputs": [],
   "source": [
    "# 保管先フォルダの名称\n",
    "OUTPUT_DIR = 'livedoor_news'\n",
    "# ニュースアクセスランキング（ライブドアニュース）のURL\n",
    "URL = 'http://news.livedoor.com/ranking/'\n",
    "# ニュースID抽出用の正規表現（名前付きグループ）\n",
    "REG_URL = r'(?P<L1>(https?://[^/]+/))(?P<L2>([^/]+))/(?P<L3>([^/]+))/(?P<L4>([^/]+))/'\n",
    "# UserAgent\n",
    "USER_AGENT = 'Mozilla/5.0 (Windows NT 10.0; Win64; x64) AppleWebKit/537.36 (KHTML, like Gecko) Chrome/94.0.4606.71 Safari/537.36'"
   ]
  },
  {
   "cell_type": "code",
   "execution_count": 3,
   "metadata": {},
   "outputs": [],
   "source": [
    "def create_folder():\n",
    "    if not os.path.exists(OUTPUT_DIR):\n",
    "        # フォルダが存在しなければ、フォルダを作成\n",
    "        os.makedirs(OUTPUT_DIR)"
   ]
  },
  {
   "cell_type": "code",
   "execution_count": 4,
   "metadata": {},
   "outputs": [],
   "source": [
    "def get_links():\n",
    "    try:\n",
    "        # HTTPリクエストヘッダーにUser Agentを設定\n",
    "        req = Request(URL, data=None, headers={'User-Agent': USER_AGENT})\n",
    "        with urlopen(URL) as res:\n",
    "            # HTMLドキュメントからBeautifulSoupを初期化\n",
    "            soup = BeautifulSoup(res.read().decode('euc_jp', 'ignore'), 'html.parser')\n",
    "            # ニュースアクセスランキング部分を検索し、全て（20件）を取得\n",
    "            soupNewsRanking = soup.find('ol', class_='articleList withRanking').find_all('li')\n",
    "\n",
    "            articles = []\n",
    "            for idx, soupNews in enumerate(soupNewsRanking):\n",
    "                # 3行要約ページURLをHTMLタグの属性から抽出\n",
    "                url = soupNews.a.get('href')\n",
    "                # NewsBodyを検索し取得\n",
    "                soupNewsBody = soupNews.find('div', class_='articleListBody')\n",
    "                # NewsBodyから各種データを抽出\n",
    "                article = {\n",
    "                    'url': url,\n",
    "                    # ニュースIDを3行要約ページURLから抽出\n",
    "                    'id': re.search(REG_URL, url).groupdict()['L4'],\n",
    "                    # タイトル／サマリ／提供元／公開日時をHTMLタグの本文から抽出\n",
    "                    'title': soupNewsBody.find('h3', class_='articleListTtl').text,\n",
    "                    'summary': soupNewsBody.find('p', class_='articleListSummary').text,\n",
    "                    'vender': soupNewsBody.find('p', class_='articleListVender').text,\n",
    "                    'datetime': soupNewsBody.find('time', class_='articleListDate').text\n",
    "                }\n",
    "                articles.append(article)\n",
    "                print('%2d: %s' %(idx + 1, soupNewsBody.find('h3', class_='articleListTtl').text))\n",
    "\n",
    "            df = pd.DataFrame(articles)\n",
    "            # DataFrameからCSVファイルを生成\n",
    "            # encoding='sjis'だとJupyterLab（CSVTable）上で表示不可なことに注意\n",
    "            df.to_csv('%s/livedoor_news_ranking.csv' %OUTPUT_DIR, encoding='utf-8', index=False, quotechar='\"', quoting=csv.QUOTE_ALL)\n",
    "    except Exception as e:\n",
    "        # エラー概要\n",
    "        print('Exception: ', e)\n",
    "        print('=====')\n",
    "        # エラー詳細（スタックトレース）\n",
    "        print(traceback.format_exc().rstrip())\n",
    "        print('=====')"
   ]
  },
  {
   "cell_type": "code",
   "execution_count": 5,
   "metadata": {},
   "outputs": [
    {
     "name": "stdout",
     "output_type": "stream",
     "text": [
      " 1: インフルエンザ「今季は大流行の恐れ」 日本感染症学会は接種を呼びかけ\n",
      " 2: 小泉進次郎氏を涙の退庁に追いやる？「トンデモ失策」の代償\n",
      " 3: 健康理由に魚食べるヴィーガンの米女性号泣「お魚さん、ごめんなさい」\n",
      " 4: 覆面パトカーを運転中の警官、スピード違反で青切符を交付される\n",
      " 5: 深田恭子がFNS歌謡祭で「異変」「復帰早すぎた」と体調気遣う声\n",
      " 6: 北海道大学内のトイレが外から「丸見え」に「配慮足りなかった」\n",
      " 7: 橋本聖子氏の「真夏の五輪は無理」発言 東国原英夫氏が「牛乳を吹いた」\n",
      " 8: 京都大学の教授、乗用車にはねられ死亡 信号機のない交差点で\n",
      " 9: すぎやまこういちさんが敗血症性ショックで死去「ドラクエ」音楽を担当\n",
      "10: 眞子さまの結婚＆皇籍離脱で…佳子さまら女性皇族に「別の懸念」\n",
      "11: 妻に10年間無職を隠して結婚詐欺、夫を逮捕 被害者への謝罪文は5行\n",
      "12: 山本太郎氏、議員バッジを失い嘆いていた？衆院選は確実に勝ちに行くか\n",
      "13: 日本の感染者大幅減、韓国で疑問視する声「数字が改ざんされた」\n",
      "14: へずまりゅう氏、演説で「ゴメンなさいでした」報道陣や聴衆は呆然\n",
      "15: 「THE TIME,」で中継先のCBCアナが池に転落 ずぶ濡れで生中継\n",
      "16: 大倉忠義が吉高由里子との関係を匂わせ？うっかりミスで投稿か\n",
      "17: デヴィ夫人が中国で炎上「芸能界追放」俳優との写真拡散に「無礼」\n",
      "18: 篠原涼子にピンチ？キャスティング会議で候補に挙がらず…TV局が自主規制か\n",
      "19: SUBARUがレガシィの新型モデルを発表 7年ぶりの全面改良\n",
      "20: すぎやまこういち氏が死去 心がけた「聴き減りしない」作曲\n"
     ]
    }
   ],
   "source": [
    "create_folder()\n",
    "get_links()"
   ]
  },
  {
   "cell_type": "code",
   "execution_count": 6,
   "metadata": {},
   "outputs": [
    {
     "data": {
      "text/html": [
       "<div>\n",
       "<style scoped>\n",
       "    .dataframe tbody tr th:only-of-type {\n",
       "        vertical-align: middle;\n",
       "    }\n",
       "\n",
       "    .dataframe tbody tr th {\n",
       "        vertical-align: top;\n",
       "    }\n",
       "\n",
       "    .dataframe thead th {\n",
       "        text-align: right;\n",
       "    }\n",
       "</style>\n",
       "<table border=\"1\" class=\"dataframe\">\n",
       "  <thead>\n",
       "    <tr style=\"text-align: right;\">\n",
       "      <th></th>\n",
       "      <th>url</th>\n",
       "      <th>id</th>\n",
       "      <th>title</th>\n",
       "      <th>summary</th>\n",
       "      <th>vender</th>\n",
       "      <th>datetime</th>\n",
       "    </tr>\n",
       "  </thead>\n",
       "  <tbody>\n",
       "    <tr>\n",
       "      <th>0</th>\n",
       "      <td>https://news.livedoor.com/topics/detail/20988126/</td>\n",
       "      <td>20988126</td>\n",
       "      <td>インフルエンザ「今季は大流行の恐れ」 日本感染症学会は接種を呼びかけ</td>\n",
       "      <td>昨季はコロナ禍で感染予防対策が徹底され、インフルエンザ患者が激減した</td>\n",
       "      <td>読売新聞オンライン</td>\n",
       "      <td>2021年10月7日 11時56分</td>\n",
       "    </tr>\n",
       "    <tr>\n",
       "      <th>1</th>\n",
       "      <td>https://news.livedoor.com/topics/detail/20984857/</td>\n",
       "      <td>20984857</td>\n",
       "      <td>小泉進次郎氏を涙の退庁に追いやる？「トンデモ失策」の代償</td>\n",
       "      <td>進次郎氏を巡っては、「レジ袋政策」に改めて批判が集まっていると政治記者</td>\n",
       "      <td>Smart FLASH</td>\n",
       "      <td>2021年10月6日 9時56分</td>\n",
       "    </tr>\n",
       "    <tr>\n",
       "      <th>2</th>\n",
       "      <td>https://news.livedoor.com/topics/detail/20986620/</td>\n",
       "      <td>20986620</td>\n",
       "      <td>健康理由に魚食べるヴィーガンの米女性号泣「お魚さん、ごめんなさい」</td>\n",
       "      <td>「お魚さん、本当にごめんなさい」と泣きながら魚を食べる動画をSNSで公開</td>\n",
       "      <td>Techinsight</td>\n",
       "      <td>2021年10月7日 6時0分</td>\n",
       "    </tr>\n",
       "    <tr>\n",
       "      <th>3</th>\n",
       "      <td>https://news.livedoor.com/topics/detail/20986935/</td>\n",
       "      <td>20986935</td>\n",
       "      <td>覆面パトカーを運転中の警官、スピード違反で青切符を交付される</td>\n",
       "      <td>甲州市の国道20号を、制限速度の時速60キロを超えるスピードで走行</td>\n",
       "      <td>読売新聞オンライン</td>\n",
       "      <td>2021年10月7日 7時14分</td>\n",
       "    </tr>\n",
       "    <tr>\n",
       "      <th>4</th>\n",
       "      <td>https://news.livedoor.com/topics/detail/20985447/</td>\n",
       "      <td>20985447</td>\n",
       "      <td>深田恭子がFNS歌謡祭で「異変」「復帰早すぎた」と体調気遣う声</td>\n",
       "      <td>万全に見えない深田の様子が放送されると、Twitterでは心配の声が浮上</td>\n",
       "      <td>東スポWeb</td>\n",
       "      <td>2021年10月6日 20時41分</td>\n",
       "    </tr>\n",
       "  </tbody>\n",
       "</table>\n",
       "</div>"
      ],
      "text/plain": [
       "                                                 url        id  \\\n",
       "0  https://news.livedoor.com/topics/detail/20988126/  20988126   \n",
       "1  https://news.livedoor.com/topics/detail/20984857/  20984857   \n",
       "2  https://news.livedoor.com/topics/detail/20986620/  20986620   \n",
       "3  https://news.livedoor.com/topics/detail/20986935/  20986935   \n",
       "4  https://news.livedoor.com/topics/detail/20985447/  20985447   \n",
       "\n",
       "                                title                               summary  \\\n",
       "0  インフルエンザ「今季は大流行の恐れ」 日本感染症学会は接種を呼びかけ    昨季はコロナ禍で感染予防対策が徹底され、インフルエンザ患者が激減した   \n",
       "1        小泉進次郎氏を涙の退庁に追いやる？「トンデモ失策」の代償   進次郎氏を巡っては、「レジ袋政策」に改めて批判が集まっていると政治記者   \n",
       "2   健康理由に魚食べるヴィーガンの米女性号泣「お魚さん、ごめんなさい」  「お魚さん、本当にごめんなさい」と泣きながら魚を食べる動画をSNSで公開   \n",
       "3      覆面パトカーを運転中の警官、スピード違反で青切符を交付される     甲州市の国道20号を、制限速度の時速60キロを超えるスピードで走行   \n",
       "4     深田恭子がFNS歌謡祭で「異変」「復帰早すぎた」と体調気遣う声  万全に見えない深田の様子が放送されると、Twitterでは心配の声が浮上   \n",
       "\n",
       "        vender           datetime  \n",
       "0    読売新聞オンライン  2021年10月7日 11時56分  \n",
       "1  Smart FLASH   2021年10月6日 9時56分  \n",
       "2  Techinsight    2021年10月7日 6時0分  \n",
       "3    読売新聞オンライン   2021年10月7日 7時14分  \n",
       "4       東スポWeb  2021年10月6日 20時41分  "
      ]
     },
     "execution_count": 6,
     "metadata": {},
     "output_type": "execute_result"
    }
   ],
   "source": [
    "# CSVファイルからDataFrameを生成\n",
    "df = pd.read_csv('livedoor_news/livedoor_news_ranking.csv', encoding='utf-8')\n",
    "df.head()"
   ]
  },
  {
   "cell_type": "code",
   "execution_count": null,
   "metadata": {},
   "outputs": [],
   "source": []
  }
 ],
 "metadata": {
  "kernelspec": {
   "display_name": "Python 3",
   "language": "python",
   "name": "python3"
  },
  "language_info": {
   "codemirror_mode": {
    "name": "ipython",
    "version": 3
   },
   "file_extension": ".py",
   "mimetype": "text/x-python",
   "name": "python",
   "nbconvert_exporter": "python",
   "pygments_lexer": "ipython3",
   "version": "3.6.8"
  }
 },
 "nbformat": 4,
 "nbformat_minor": 4
}
