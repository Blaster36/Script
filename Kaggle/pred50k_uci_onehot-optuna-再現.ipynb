{
 "cells": [
  {
   "cell_type": "markdown",
   "id": "f8ae7dd2-b7ee-454a-8e93-956ecae2805e",
   "metadata": {},
   "source": [
    "# カテゴリ値を含むデータでのLightGBMを使った分析\n",
    "\n",
    "### データ\n",
    "[Adult Data Set](https://archive.ics.uci.edu/ml/datasets/adult) \\\n",
    "[Adult Census Income](https://www.kaggle.com/datasets/uciml/adult-census-income) \\\n",
    "[Adult income dataset](https://www.kaggle.com/datasets/wenruliu/adult-income-dataset)\n",
    "\n",
    "### 参考\n",
    "[lightgbmで二値分類の一連の流れをしたメモ](https://qiita.com/d_desuyon/items/807e01311ad08570ee78) \\\n",
    "[【初心者向け】特徴量重要度の算出 (LightGBM) 【Python】【機械学習】](https://mathmatical22.xyz/2020/04/12/%E3%80%90%E5%88%9D%E5%BF%83%E8%80%85%E5%90%91%E3%81%91%E3%80%91%E7%89%B9%E5%BE%B4%E9%87%8F%E9%87%8D%E8%A6%81%E5%BA%A6%E3%81%AE%E7%AE%97%E5%87%BA-lightgbm-%E3%80%90python%E3%80%91%E3%80%90%E6%A9%9F/) \\\n",
    "[LightGBMのCategorical Featureによって精度が向上するか？](https://qiita.com/sinchir0/items/b038757e578b790ec96a) \\\n",
    "[Pythonでしか描けない美しいデシジョンツリー（決定木）をlightGBMでも描こう！](https://qiita.com/hima2b4/items/b356e688ebdabc393da8) \\\n",
    "[LightGBM/XGBoostのtree構造可視化メモ](https://qiita.com/dyamaguc/items/70d4ce3548d49a6256fa) \\\n",
    "[Category Encodersでカテゴリ特徴量をストレスなく変換する](https://qiita.com/Hyperion13fleet/items/afa49a84bd5db65ffc31) \\\n",
    "[カテゴリ変数系特徴量の前処理(scikit-learnとcategory_encoders)](https://qiita.com/FukuharaYohei/items/06cc7b1c5eb124db6cdf) \\\n",
    "[LightGBMのCategorical Featureによって精度が向上するか？](https://qiita.com/sinchir0/items/b038757e578b790ec96a) \\\n",
    "[LightGBMでOptunaを使用するときの再現性確保について](https://book-read-yoshi.hatenablog.com/entry/2021/03/22/lightgbm_optuna_deterministic)"
   ]
  },
  {
   "cell_type": "code",
   "execution_count": 1,
   "id": "a351e39d-6b18-4c71-920b-c5dd28d5d025",
   "metadata": {
    "tags": []
   },
   "outputs": [
    {
     "name": "stdout",
     "output_type": "stream",
     "text": [
      "Python 3.9.13\n"
     ]
    }
   ],
   "source": [
    "!python -V"
   ]
  },
  {
   "cell_type": "code",
   "execution_count": 2,
   "id": "d69ebb53-1f16-4caf-8ce3-0ad7639bb24c",
   "metadata": {
    "tags": []
   },
   "outputs": [
    {
     "name": "stdout",
     "output_type": "stream",
     "text": [
      "pip 23.0.1 from C:\\Python39\\lib\\site-packages\\pip (python 3.9)\n",
      "\n"
     ]
    }
   ],
   "source": [
    "!python -m pip --version"
   ]
  },
  {
   "cell_type": "code",
   "execution_count": 3,
   "id": "d0045464-336b-4d7b-8bc8-4c05f19257f7",
   "metadata": {
    "tags": []
   },
   "outputs": [
    {
     "name": "stdout",
     "output_type": "stream",
     "text": [
      "Package                  Version\n",
      "------------------------ -----------\n",
      "aiofiles                 22.1.0\n",
      "aiosqlite                0.18.0\n",
      "alembic                  1.9.4\n",
      "anyio                    3.6.2\n",
      "argon2-cffi              21.3.0\n",
      "argon2-cffi-bindings     21.2.0\n",
      "arrow                    1.2.3\n",
      "asttokens                2.2.1\n",
      "attrs                    22.2.0\n",
      "Babel                    2.11.0\n",
      "backcall                 0.2.0\n",
      "beautifulsoup4           4.11.2\n",
      "bleach                   6.0.0\n",
      "bs4                      0.0.1\n",
      "category-encoders        2.6.0\n",
      "certifi                  2022.12.7\n",
      "cffi                     1.15.1\n",
      "charset-normalizer       3.0.1\n",
      "cmaes                    0.9.1\n",
      "colorama                 0.4.6\n",
      "colorlog                 6.7.0\n",
      "comm                     0.1.2\n",
      "contourpy                1.0.7\n",
      "cycler                   0.11.0\n",
      "debugpy                  1.6.6\n",
      "decorator                5.1.1\n",
      "defusedxml               0.7.1\n",
      "executing                1.2.0\n",
      "fastjsonschema           2.16.2\n",
      "fonttools                4.38.0\n",
      "fqdn                     1.5.1\n",
      "greenlet                 2.0.2\n",
      "idna                     3.4\n",
      "importlib-metadata       6.0.0\n",
      "ipykernel                6.21.1\n",
      "ipython                  8.10.0\n",
      "ipython-genutils         0.2.0\n",
      "ipywidgets               8.0.4\n",
      "isoduration              20.11.0\n",
      "jedi                     0.18.2\n",
      "Jinja2                   3.1.2\n",
      "joblib                   1.2.0\n",
      "json5                    0.9.11\n",
      "jsonpointer              2.3\n",
      "jsonschema               4.17.3\n",
      "jupyter                  1.0.0\n",
      "jupyter_client           8.0.2\n",
      "jupyter-console          6.5.0\n",
      "jupyter_core             5.2.0\n",
      "jupyter-events           0.5.0\n",
      "jupyter_server           2.2.1\n",
      "jupyter_server_fileid    0.6.0\n",
      "jupyter_server_terminals 0.4.4\n",
      "jupyter_server_ydoc      0.6.1\n",
      "jupyter-ydoc             0.2.2\n",
      "jupyterlab               3.6.1\n",
      "jupyterlab-pygments      0.2.2\n",
      "jupyterlab_server        2.19.0\n",
      "jupyterlab-widgets       3.0.5\n",
      "kiwisolver               1.4.4\n",
      "lightgbm                 3.3.5\n",
      "Mako                     1.2.4\n",
      "MarkupSafe               2.1.2\n",
      "matplotlib               3.6.3\n",
      "matplotlib-inline        0.1.6\n",
      "mistune                  2.0.5\n",
      "nbclassic                0.5.1\n",
      "nbclient                 0.7.2\n",
      "nbconvert                7.2.9\n",
      "nbformat                 5.7.3\n",
      "nest-asyncio             1.5.6\n",
      "notebook                 6.5.2\n",
      "notebook_shim            0.2.2\n",
      "numpy                    1.24.2\n",
      "optuna                   3.1.0\n",
      "packaging                23.0\n",
      "pandas                   1.5.3\n",
      "pandocfilters            1.5.0\n",
      "parso                    0.8.3\n",
      "patsy                    0.5.3\n",
      "pickleshare              0.7.5\n",
      "Pillow                   9.4.0\n",
      "pip                      23.0.1\n",
      "platformdirs             3.0.0\n",
      "plotly                   5.13.0\n",
      "prometheus-client        0.16.0\n",
      "prompt-toolkit           3.0.36\n",
      "psutil                   5.9.4\n",
      "pure-eval                0.2.2\n",
      "pycparser                2.21\n",
      "Pygments                 2.14.0\n",
      "pyparsing                3.0.9\n",
      "pyrsistent               0.19.3\n",
      "python-dateutil          2.8.2\n",
      "python-json-logger       2.0.5\n",
      "pytz                     2022.7.1\n",
      "pywin32                  305\n",
      "pywinpty                 2.0.10\n",
      "PyYAML                   6.0\n",
      "pyzmq                    25.0.0\n",
      "qtconsole                5.4.0\n",
      "QtPy                     2.3.0\n",
      "requests                 2.28.2\n",
      "rfc3339-validator        0.1.4\n",
      "rfc3986-validator        0.1.1\n",
      "scikit-learn             1.2.1\n",
      "scipy                    1.10.0\n",
      "seaborn                  0.12.2\n",
      "Send2Trash               1.8.0\n",
      "setuptools               58.1.0\n",
      "six                      1.16.0\n",
      "sniffio                  1.3.0\n",
      "soupsieve                2.3.2.post1\n",
      "SQLAlchemy               2.0.4\n",
      "stack-data               0.6.2\n",
      "statsmodels              0.13.5\n",
      "tenacity                 8.2.1\n",
      "terminado                0.17.1\n",
      "threadpoolctl            3.1.0\n",
      "tinycss2                 1.2.1\n",
      "tomli                    2.0.1\n",
      "tornado                  6.2\n",
      "tqdm                     4.64.1\n",
      "traitlets                5.9.0\n",
      "typing_extensions        4.5.0\n",
      "uri-template             1.2.0\n",
      "urllib3                  1.26.14\n",
      "wcwidth                  0.2.6\n",
      "webcolors                1.12\n",
      "webencodings             0.5.1\n",
      "websocket-client         1.5.1\n",
      "wheel                    0.38.4\n",
      "widgetsnbextension       4.0.5\n",
      "xgboost                  1.7.3\n",
      "y-py                     0.5.5\n",
      "ypy-websocket            0.8.2\n",
      "zipp                     3.13.0\n"
     ]
    }
   ],
   "source": [
    "!python -m pip list"
   ]
  },
  {
   "cell_type": "code",
   "execution_count": 4,
   "id": "a9a85ab1-e826-4768-b016-bab89cb3937b",
   "metadata": {
    "tags": []
   },
   "outputs": [
    {
     "name": "stdout",
     "output_type": "stream",
     "text": [
      "Requirement already satisfied: pip in c:\\python39\\lib\\site-packages (23.0.1)\n"
     ]
    }
   ],
   "source": [
    "!python -m pip install -U pip"
   ]
  },
  {
   "cell_type": "code",
   "execution_count": 5,
   "id": "88079707-0466-4656-a5c0-1e8d9fbffead",
   "metadata": {
    "tags": []
   },
   "outputs": [
    {
     "name": "stdout",
     "output_type": "stream",
     "text": [
      "Requirement already satisfied: pandas in c:\\python39\\lib\\site-packages (1.5.3)\n",
      "Requirement already satisfied: numpy in c:\\python39\\lib\\site-packages (1.24.2)\n",
      "Requirement already satisfied: scikit-learn in c:\\python39\\lib\\site-packages (1.2.1)\n",
      "Requirement already satisfied: lightgbm in c:\\python39\\lib\\site-packages (3.3.5)\n",
      "Requirement already satisfied: matplotlib in c:\\python39\\lib\\site-packages (3.6.3)\n",
      "Requirement already satisfied: pytz>=2020.1 in c:\\python39\\lib\\site-packages (from pandas) (2022.7.1)\n",
      "Requirement already satisfied: python-dateutil>=2.8.1 in c:\\python39\\lib\\site-packages (from pandas) (2.8.2)\n",
      "Requirement already satisfied: threadpoolctl>=2.0.0 in c:\\python39\\lib\\site-packages (from scikit-learn) (3.1.0)\n",
      "Requirement already satisfied: scipy>=1.3.2 in c:\\python39\\lib\\site-packages (from scikit-learn) (1.10.0)\n",
      "Requirement already satisfied: joblib>=1.1.1 in c:\\python39\\lib\\site-packages (from scikit-learn) (1.2.0)\n",
      "Requirement already satisfied: wheel in c:\\python39\\lib\\site-packages (from lightgbm) (0.38.4)\n",
      "Requirement already satisfied: fonttools>=4.22.0 in c:\\python39\\lib\\site-packages (from matplotlib) (4.38.0)\n",
      "Requirement already satisfied: kiwisolver>=1.0.1 in c:\\python39\\lib\\site-packages (from matplotlib) (1.4.4)\n",
      "Requirement already satisfied: contourpy>=1.0.1 in c:\\python39\\lib\\site-packages (from matplotlib) (1.0.7)\n",
      "Requirement already satisfied: pyparsing>=2.2.1 in c:\\python39\\lib\\site-packages (from matplotlib) (3.0.9)\n",
      "Requirement already satisfied: pillow>=6.2.0 in c:\\python39\\lib\\site-packages (from matplotlib) (9.4.0)\n",
      "Requirement already satisfied: cycler>=0.10 in c:\\python39\\lib\\site-packages (from matplotlib) (0.11.0)\n",
      "Requirement already satisfied: packaging>=20.0 in c:\\python39\\lib\\site-packages (from matplotlib) (23.0)\n",
      "Requirement already satisfied: six>=1.5 in c:\\python39\\lib\\site-packages (from python-dateutil>=2.8.1->pandas) (1.16.0)\n"
     ]
    }
   ],
   "source": [
    "!python -m pip install pandas numpy scikit-learn lightgbm matplotlib"
   ]
  },
  {
   "cell_type": "code",
   "execution_count": 6,
   "id": "8137ff10-2c28-4a4f-8b45-461c2a429ece",
   "metadata": {},
   "outputs": [
    {
     "name": "stdout",
     "output_type": "stream",
     "text": [
      "Requirement already satisfied: category_encoders in c:\\python39\\lib\\site-packages (2.6.0)\n",
      "Requirement already satisfied: scipy>=1.0.0 in c:\\python39\\lib\\site-packages (from category_encoders) (1.10.0)\n",
      "Requirement already satisfied: scikit-learn>=0.20.0 in c:\\python39\\lib\\site-packages (from category_encoders) (1.2.1)\n",
      "Requirement already satisfied: numpy>=1.14.0 in c:\\python39\\lib\\site-packages (from category_encoders) (1.24.2)\n",
      "Requirement already satisfied: pandas>=1.0.5 in c:\\python39\\lib\\site-packages (from category_encoders) (1.5.3)\n",
      "Requirement already satisfied: statsmodels>=0.9.0 in c:\\python39\\lib\\site-packages (from category_encoders) (0.13.5)\n",
      "Requirement already satisfied: patsy>=0.5.1 in c:\\python39\\lib\\site-packages (from category_encoders) (0.5.3)\n",
      "Requirement already satisfied: pytz>=2020.1 in c:\\python39\\lib\\site-packages (from pandas>=1.0.5->category_encoders) (2022.7.1)\n",
      "Requirement already satisfied: python-dateutil>=2.8.1 in c:\\python39\\lib\\site-packages (from pandas>=1.0.5->category_encoders) (2.8.2)\n",
      "Requirement already satisfied: six in c:\\python39\\lib\\site-packages (from patsy>=0.5.1->category_encoders) (1.16.0)\n",
      "Requirement already satisfied: threadpoolctl>=2.0.0 in c:\\python39\\lib\\site-packages (from scikit-learn>=0.20.0->category_encoders) (3.1.0)\n",
      "Requirement already satisfied: joblib>=1.1.1 in c:\\python39\\lib\\site-packages (from scikit-learn>=0.20.0->category_encoders) (1.2.0)\n",
      "Requirement already satisfied: packaging>=21.3 in c:\\python39\\lib\\site-packages (from statsmodels>=0.9.0->category_encoders) (23.0)\n"
     ]
    }
   ],
   "source": [
    "!python -m pip install category_encoders"
   ]
  },
  {
   "cell_type": "code",
   "execution_count": 7,
   "id": "2fb2500d-7581-4cd5-8de9-b9512f12e6f4",
   "metadata": {
    "tags": []
   },
   "outputs": [
    {
     "name": "stdout",
     "output_type": "stream",
     "text": [
      "Requirement already satisfied: optuna in c:\\python39\\lib\\site-packages (3.1.0)\n",
      "Requirement already satisfied: sqlalchemy>=1.3.0 in c:\\python39\\lib\\site-packages (from optuna) (2.0.4)\n",
      "Requirement already satisfied: numpy in c:\\python39\\lib\\site-packages (from optuna) (1.24.2)\n",
      "Requirement already satisfied: PyYAML in c:\\python39\\lib\\site-packages (from optuna) (6.0)\n",
      "Requirement already satisfied: cmaes>=0.9.1 in c:\\python39\\lib\\site-packages (from optuna) (0.9.1)\n",
      "Requirement already satisfied: colorlog in c:\\python39\\lib\\site-packages (from optuna) (6.7.0)\n",
      "Requirement already satisfied: alembic>=1.5.0 in c:\\python39\\lib\\site-packages (from optuna) (1.9.4)\n",
      "Requirement already satisfied: tqdm in c:\\python39\\lib\\site-packages (from optuna) (4.64.1)\n",
      "Requirement already satisfied: packaging>=20.0 in c:\\python39\\lib\\site-packages (from optuna) (23.0)\n",
      "Requirement already satisfied: Mako in c:\\python39\\lib\\site-packages (from alembic>=1.5.0->optuna) (1.2.4)\n",
      "Requirement already satisfied: greenlet!=0.4.17 in c:\\python39\\lib\\site-packages (from sqlalchemy>=1.3.0->optuna) (2.0.2)\n",
      "Requirement already satisfied: typing-extensions>=4.2.0 in c:\\python39\\lib\\site-packages (from sqlalchemy>=1.3.0->optuna) (4.5.0)\n",
      "Requirement already satisfied: colorama in c:\\python39\\lib\\site-packages (from colorlog->optuna) (0.4.6)\n",
      "Requirement already satisfied: MarkupSafe>=0.9.2 in c:\\python39\\lib\\site-packages (from Mako->alembic>=1.5.0->optuna) (2.1.2)\n"
     ]
    }
   ],
   "source": [
    "!python -m pip install optuna"
   ]
  },
  {
   "cell_type": "code",
   "execution_count": 8,
   "id": "6316f9a6-c11d-421d-849e-88ca0a8acd7f",
   "metadata": {
    "tags": []
   },
   "outputs": [],
   "source": [
    "import pandas as pd\n",
    "pd.set_option('display.max_rows', 100)\n",
    "import numpy as np\n",
    "from sklearn.model_selection import train_test_split\n",
    "#import lightgbm as lgb\n",
    "# optuna経由でLightGBMをインポート\n",
    "import optuna\n",
    "# ログを非表示にしたいときは、optuna.logging.disable_default_handler()\n",
    "# 逆に、表示にしたいときは、optuna.logging.enable_default_handler()\n",
    "optuna.logging.disable_default_handler()\n",
    "from optuna.integration import lightgbm as lgb\n",
    "from sklearn.metrics import accuracy_score, f1_score, auc, roc_curve, precision_score, confusion_matrix, ConfusionMatrixDisplay\n",
    "from matplotlib import pyplot as plt\n",
    "%matplotlib inline"
   ]
  },
  {
   "cell_type": "code",
   "execution_count": 9,
   "id": "64d9c06a-b7d2-42d9-b5d0-01ad1f12125c",
   "metadata": {
    "tags": []
   },
   "outputs": [],
   "source": [
    "df = pd.read_csv('adult_uci_onehot.csv')"
   ]
  },
  {
   "cell_type": "code",
   "execution_count": 10,
   "id": "a8c71871-9241-43d6-aefa-ed75c07bdcc0",
   "metadata": {
    "tags": []
   },
   "outputs": [
    {
     "data": {
      "text/html": [
       "<div>\n",
       "<style scoped>\n",
       "    .dataframe tbody tr th:only-of-type {\n",
       "        vertical-align: middle;\n",
       "    }\n",
       "\n",
       "    .dataframe tbody tr th {\n",
       "        vertical-align: top;\n",
       "    }\n",
       "\n",
       "    .dataframe thead th {\n",
       "        text-align: right;\n",
       "    }\n",
       "</style>\n",
       "<table border=\"1\" class=\"dataframe\">\n",
       "  <thead>\n",
       "    <tr style=\"text-align: right;\">\n",
       "      <th></th>\n",
       "      <th>age</th>\n",
       "      <th>workclass_1</th>\n",
       "      <th>workclass_2</th>\n",
       "      <th>workclass_3</th>\n",
       "      <th>workclass_4</th>\n",
       "      <th>workclass_5</th>\n",
       "      <th>workclass_6</th>\n",
       "      <th>workclass_7</th>\n",
       "      <th>fnlwgt</th>\n",
       "      <th>education_1</th>\n",
       "      <th>...</th>\n",
       "      <th>native.country_33</th>\n",
       "      <th>native.country_34</th>\n",
       "      <th>native.country_35</th>\n",
       "      <th>native.country_36</th>\n",
       "      <th>native.country_37</th>\n",
       "      <th>native.country_38</th>\n",
       "      <th>native.country_39</th>\n",
       "      <th>native.country_40</th>\n",
       "      <th>native.country_41</th>\n",
       "      <th>income</th>\n",
       "    </tr>\n",
       "  </thead>\n",
       "  <tbody>\n",
       "    <tr>\n",
       "      <th>0</th>\n",
       "      <td>82</td>\n",
       "      <td>1</td>\n",
       "      <td>0</td>\n",
       "      <td>0</td>\n",
       "      <td>0</td>\n",
       "      <td>0</td>\n",
       "      <td>0</td>\n",
       "      <td>0</td>\n",
       "      <td>132870</td>\n",
       "      <td>1</td>\n",
       "      <td>...</td>\n",
       "      <td>0</td>\n",
       "      <td>0</td>\n",
       "      <td>0</td>\n",
       "      <td>0</td>\n",
       "      <td>0</td>\n",
       "      <td>0</td>\n",
       "      <td>0</td>\n",
       "      <td>0</td>\n",
       "      <td>0</td>\n",
       "      <td>0</td>\n",
       "    </tr>\n",
       "    <tr>\n",
       "      <th>1</th>\n",
       "      <td>54</td>\n",
       "      <td>1</td>\n",
       "      <td>0</td>\n",
       "      <td>0</td>\n",
       "      <td>0</td>\n",
       "      <td>0</td>\n",
       "      <td>0</td>\n",
       "      <td>0</td>\n",
       "      <td>140359</td>\n",
       "      <td>0</td>\n",
       "      <td>...</td>\n",
       "      <td>0</td>\n",
       "      <td>0</td>\n",
       "      <td>0</td>\n",
       "      <td>0</td>\n",
       "      <td>0</td>\n",
       "      <td>0</td>\n",
       "      <td>0</td>\n",
       "      <td>0</td>\n",
       "      <td>0</td>\n",
       "      <td>0</td>\n",
       "    </tr>\n",
       "    <tr>\n",
       "      <th>2</th>\n",
       "      <td>41</td>\n",
       "      <td>1</td>\n",
       "      <td>0</td>\n",
       "      <td>0</td>\n",
       "      <td>0</td>\n",
       "      <td>0</td>\n",
       "      <td>0</td>\n",
       "      <td>0</td>\n",
       "      <td>264663</td>\n",
       "      <td>0</td>\n",
       "      <td>...</td>\n",
       "      <td>0</td>\n",
       "      <td>0</td>\n",
       "      <td>0</td>\n",
       "      <td>0</td>\n",
       "      <td>0</td>\n",
       "      <td>0</td>\n",
       "      <td>0</td>\n",
       "      <td>0</td>\n",
       "      <td>0</td>\n",
       "      <td>0</td>\n",
       "    </tr>\n",
       "    <tr>\n",
       "      <th>3</th>\n",
       "      <td>34</td>\n",
       "      <td>1</td>\n",
       "      <td>0</td>\n",
       "      <td>0</td>\n",
       "      <td>0</td>\n",
       "      <td>0</td>\n",
       "      <td>0</td>\n",
       "      <td>0</td>\n",
       "      <td>216864</td>\n",
       "      <td>1</td>\n",
       "      <td>...</td>\n",
       "      <td>0</td>\n",
       "      <td>0</td>\n",
       "      <td>0</td>\n",
       "      <td>0</td>\n",
       "      <td>0</td>\n",
       "      <td>0</td>\n",
       "      <td>0</td>\n",
       "      <td>0</td>\n",
       "      <td>0</td>\n",
       "      <td>0</td>\n",
       "    </tr>\n",
       "    <tr>\n",
       "      <th>4</th>\n",
       "      <td>38</td>\n",
       "      <td>1</td>\n",
       "      <td>0</td>\n",
       "      <td>0</td>\n",
       "      <td>0</td>\n",
       "      <td>0</td>\n",
       "      <td>0</td>\n",
       "      <td>0</td>\n",
       "      <td>150601</td>\n",
       "      <td>0</td>\n",
       "      <td>...</td>\n",
       "      <td>0</td>\n",
       "      <td>0</td>\n",
       "      <td>0</td>\n",
       "      <td>0</td>\n",
       "      <td>0</td>\n",
       "      <td>0</td>\n",
       "      <td>0</td>\n",
       "      <td>0</td>\n",
       "      <td>0</td>\n",
       "      <td>0</td>\n",
       "    </tr>\n",
       "    <tr>\n",
       "      <th>5</th>\n",
       "      <td>74</td>\n",
       "      <td>0</td>\n",
       "      <td>1</td>\n",
       "      <td>0</td>\n",
       "      <td>0</td>\n",
       "      <td>0</td>\n",
       "      <td>0</td>\n",
       "      <td>0</td>\n",
       "      <td>88638</td>\n",
       "      <td>0</td>\n",
       "      <td>...</td>\n",
       "      <td>0</td>\n",
       "      <td>0</td>\n",
       "      <td>0</td>\n",
       "      <td>0</td>\n",
       "      <td>0</td>\n",
       "      <td>0</td>\n",
       "      <td>0</td>\n",
       "      <td>0</td>\n",
       "      <td>0</td>\n",
       "      <td>1</td>\n",
       "    </tr>\n",
       "    <tr>\n",
       "      <th>6</th>\n",
       "      <td>68</td>\n",
       "      <td>0</td>\n",
       "      <td>0</td>\n",
       "      <td>1</td>\n",
       "      <td>0</td>\n",
       "      <td>0</td>\n",
       "      <td>0</td>\n",
       "      <td>0</td>\n",
       "      <td>422013</td>\n",
       "      <td>1</td>\n",
       "      <td>...</td>\n",
       "      <td>0</td>\n",
       "      <td>0</td>\n",
       "      <td>0</td>\n",
       "      <td>0</td>\n",
       "      <td>0</td>\n",
       "      <td>0</td>\n",
       "      <td>0</td>\n",
       "      <td>0</td>\n",
       "      <td>0</td>\n",
       "      <td>0</td>\n",
       "    </tr>\n",
       "    <tr>\n",
       "      <th>7</th>\n",
       "      <td>45</td>\n",
       "      <td>1</td>\n",
       "      <td>0</td>\n",
       "      <td>0</td>\n",
       "      <td>0</td>\n",
       "      <td>0</td>\n",
       "      <td>0</td>\n",
       "      <td>0</td>\n",
       "      <td>172274</td>\n",
       "      <td>0</td>\n",
       "      <td>...</td>\n",
       "      <td>0</td>\n",
       "      <td>0</td>\n",
       "      <td>0</td>\n",
       "      <td>0</td>\n",
       "      <td>0</td>\n",
       "      <td>0</td>\n",
       "      <td>0</td>\n",
       "      <td>0</td>\n",
       "      <td>0</td>\n",
       "      <td>1</td>\n",
       "    </tr>\n",
       "    <tr>\n",
       "      <th>8</th>\n",
       "      <td>38</td>\n",
       "      <td>0</td>\n",
       "      <td>0</td>\n",
       "      <td>0</td>\n",
       "      <td>1</td>\n",
       "      <td>0</td>\n",
       "      <td>0</td>\n",
       "      <td>0</td>\n",
       "      <td>164526</td>\n",
       "      <td>0</td>\n",
       "      <td>...</td>\n",
       "      <td>0</td>\n",
       "      <td>0</td>\n",
       "      <td>0</td>\n",
       "      <td>0</td>\n",
       "      <td>0</td>\n",
       "      <td>0</td>\n",
       "      <td>0</td>\n",
       "      <td>0</td>\n",
       "      <td>0</td>\n",
       "      <td>1</td>\n",
       "    </tr>\n",
       "    <tr>\n",
       "      <th>9</th>\n",
       "      <td>52</td>\n",
       "      <td>1</td>\n",
       "      <td>0</td>\n",
       "      <td>0</td>\n",
       "      <td>0</td>\n",
       "      <td>0</td>\n",
       "      <td>0</td>\n",
       "      <td>0</td>\n",
       "      <td>129177</td>\n",
       "      <td>0</td>\n",
       "      <td>...</td>\n",
       "      <td>0</td>\n",
       "      <td>0</td>\n",
       "      <td>0</td>\n",
       "      <td>0</td>\n",
       "      <td>0</td>\n",
       "      <td>0</td>\n",
       "      <td>0</td>\n",
       "      <td>0</td>\n",
       "      <td>0</td>\n",
       "      <td>1</td>\n",
       "    </tr>\n",
       "  </tbody>\n",
       "</table>\n",
       "<p>10 rows × 105 columns</p>\n",
       "</div>"
      ],
      "text/plain": [
       "   age  workclass_1  workclass_2  workclass_3  workclass_4  workclass_5  \\\n",
       "0   82            1            0            0            0            0   \n",
       "1   54            1            0            0            0            0   \n",
       "2   41            1            0            0            0            0   \n",
       "3   34            1            0            0            0            0   \n",
       "4   38            1            0            0            0            0   \n",
       "5   74            0            1            0            0            0   \n",
       "6   68            0            0            1            0            0   \n",
       "7   45            1            0            0            0            0   \n",
       "8   38            0            0            0            1            0   \n",
       "9   52            1            0            0            0            0   \n",
       "\n",
       "   workclass_6  workclass_7  fnlwgt  education_1  ...  native.country_33  \\\n",
       "0            0            0  132870            1  ...                  0   \n",
       "1            0            0  140359            0  ...                  0   \n",
       "2            0            0  264663            0  ...                  0   \n",
       "3            0            0  216864            1  ...                  0   \n",
       "4            0            0  150601            0  ...                  0   \n",
       "5            0            0   88638            0  ...                  0   \n",
       "6            0            0  422013            1  ...                  0   \n",
       "7            0            0  172274            0  ...                  0   \n",
       "8            0            0  164526            0  ...                  0   \n",
       "9            0            0  129177            0  ...                  0   \n",
       "\n",
       "   native.country_34  native.country_35  native.country_36  native.country_37  \\\n",
       "0                  0                  0                  0                  0   \n",
       "1                  0                  0                  0                  0   \n",
       "2                  0                  0                  0                  0   \n",
       "3                  0                  0                  0                  0   \n",
       "4                  0                  0                  0                  0   \n",
       "5                  0                  0                  0                  0   \n",
       "6                  0                  0                  0                  0   \n",
       "7                  0                  0                  0                  0   \n",
       "8                  0                  0                  0                  0   \n",
       "9                  0                  0                  0                  0   \n",
       "\n",
       "   native.country_38  native.country_39  native.country_40  native.country_41  \\\n",
       "0                  0                  0                  0                  0   \n",
       "1                  0                  0                  0                  0   \n",
       "2                  0                  0                  0                  0   \n",
       "3                  0                  0                  0                  0   \n",
       "4                  0                  0                  0                  0   \n",
       "5                  0                  0                  0                  0   \n",
       "6                  0                  0                  0                  0   \n",
       "7                  0                  0                  0                  0   \n",
       "8                  0                  0                  0                  0   \n",
       "9                  0                  0                  0                  0   \n",
       "\n",
       "   income  \n",
       "0       0  \n",
       "1       0  \n",
       "2       0  \n",
       "3       0  \n",
       "4       0  \n",
       "5       1  \n",
       "6       0  \n",
       "7       1  \n",
       "8       1  \n",
       "9       1  \n",
       "\n",
       "[10 rows x 105 columns]"
      ]
     },
     "execution_count": 10,
     "metadata": {},
     "output_type": "execute_result"
    }
   ],
   "source": [
    "df.head(10)"
   ]
  },
  {
   "cell_type": "code",
   "execution_count": 11,
   "id": "f410512f-dc2b-46ec-adc8-ae54c42b59c7",
   "metadata": {
    "tags": []
   },
   "outputs": [
    {
     "name": "stdout",
     "output_type": "stream",
     "text": [
      "<class 'pandas.core.frame.DataFrame'>\n",
      "RangeIndex: 30162 entries, 0 to 30161\n",
      "Columns: 105 entries, age to income\n",
      "dtypes: int64(105)\n",
      "memory usage: 24.2 MB\n"
     ]
    }
   ],
   "source": [
    "df.info()"
   ]
  },
  {
   "cell_type": "code",
   "execution_count": 12,
   "id": "29f736f8",
   "metadata": {
    "tags": []
   },
   "outputs": [
    {
     "data": {
      "text/plain": [
       "0    22654\n",
       "1     7508\n",
       "Name: income, dtype: int64"
      ]
     },
     "execution_count": 12,
     "metadata": {},
     "output_type": "execute_result"
    }
   ],
   "source": [
    "df['income'].value_counts()"
   ]
  },
  {
   "cell_type": "code",
   "execution_count": 13,
   "id": "95550de7-f32e-4d73-9c8a-9f776efb91b1",
   "metadata": {
    "tags": []
   },
   "outputs": [
    {
     "data": {
      "text/html": [
       "<div>\n",
       "<style scoped>\n",
       "    .dataframe tbody tr th:only-of-type {\n",
       "        vertical-align: middle;\n",
       "    }\n",
       "\n",
       "    .dataframe tbody tr th {\n",
       "        vertical-align: top;\n",
       "    }\n",
       "\n",
       "    .dataframe thead th {\n",
       "        text-align: right;\n",
       "    }\n",
       "</style>\n",
       "<table border=\"1\" class=\"dataframe\">\n",
       "  <thead>\n",
       "    <tr style=\"text-align: right;\">\n",
       "      <th></th>\n",
       "      <th>age</th>\n",
       "      <th>workclass_1</th>\n",
       "      <th>workclass_2</th>\n",
       "      <th>workclass_3</th>\n",
       "      <th>workclass_4</th>\n",
       "      <th>workclass_5</th>\n",
       "      <th>workclass_6</th>\n",
       "      <th>workclass_7</th>\n",
       "      <th>education_1</th>\n",
       "      <th>education_2</th>\n",
       "      <th>...</th>\n",
       "      <th>native.country_33</th>\n",
       "      <th>native.country_34</th>\n",
       "      <th>native.country_35</th>\n",
       "      <th>native.country_36</th>\n",
       "      <th>native.country_37</th>\n",
       "      <th>native.country_38</th>\n",
       "      <th>native.country_39</th>\n",
       "      <th>native.country_40</th>\n",
       "      <th>native.country_41</th>\n",
       "      <th>income</th>\n",
       "    </tr>\n",
       "  </thead>\n",
       "  <tbody>\n",
       "    <tr>\n",
       "      <th>0</th>\n",
       "      <td>82</td>\n",
       "      <td>1</td>\n",
       "      <td>0</td>\n",
       "      <td>0</td>\n",
       "      <td>0</td>\n",
       "      <td>0</td>\n",
       "      <td>0</td>\n",
       "      <td>0</td>\n",
       "      <td>1</td>\n",
       "      <td>0</td>\n",
       "      <td>...</td>\n",
       "      <td>0</td>\n",
       "      <td>0</td>\n",
       "      <td>0</td>\n",
       "      <td>0</td>\n",
       "      <td>0</td>\n",
       "      <td>0</td>\n",
       "      <td>0</td>\n",
       "      <td>0</td>\n",
       "      <td>0</td>\n",
       "      <td>0</td>\n",
       "    </tr>\n",
       "    <tr>\n",
       "      <th>1</th>\n",
       "      <td>54</td>\n",
       "      <td>1</td>\n",
       "      <td>0</td>\n",
       "      <td>0</td>\n",
       "      <td>0</td>\n",
       "      <td>0</td>\n",
       "      <td>0</td>\n",
       "      <td>0</td>\n",
       "      <td>0</td>\n",
       "      <td>1</td>\n",
       "      <td>...</td>\n",
       "      <td>0</td>\n",
       "      <td>0</td>\n",
       "      <td>0</td>\n",
       "      <td>0</td>\n",
       "      <td>0</td>\n",
       "      <td>0</td>\n",
       "      <td>0</td>\n",
       "      <td>0</td>\n",
       "      <td>0</td>\n",
       "      <td>0</td>\n",
       "    </tr>\n",
       "    <tr>\n",
       "      <th>2</th>\n",
       "      <td>41</td>\n",
       "      <td>1</td>\n",
       "      <td>0</td>\n",
       "      <td>0</td>\n",
       "      <td>0</td>\n",
       "      <td>0</td>\n",
       "      <td>0</td>\n",
       "      <td>0</td>\n",
       "      <td>0</td>\n",
       "      <td>0</td>\n",
       "      <td>...</td>\n",
       "      <td>0</td>\n",
       "      <td>0</td>\n",
       "      <td>0</td>\n",
       "      <td>0</td>\n",
       "      <td>0</td>\n",
       "      <td>0</td>\n",
       "      <td>0</td>\n",
       "      <td>0</td>\n",
       "      <td>0</td>\n",
       "      <td>0</td>\n",
       "    </tr>\n",
       "    <tr>\n",
       "      <th>3</th>\n",
       "      <td>34</td>\n",
       "      <td>1</td>\n",
       "      <td>0</td>\n",
       "      <td>0</td>\n",
       "      <td>0</td>\n",
       "      <td>0</td>\n",
       "      <td>0</td>\n",
       "      <td>0</td>\n",
       "      <td>1</td>\n",
       "      <td>0</td>\n",
       "      <td>...</td>\n",
       "      <td>0</td>\n",
       "      <td>0</td>\n",
       "      <td>0</td>\n",
       "      <td>0</td>\n",
       "      <td>0</td>\n",
       "      <td>0</td>\n",
       "      <td>0</td>\n",
       "      <td>0</td>\n",
       "      <td>0</td>\n",
       "      <td>0</td>\n",
       "    </tr>\n",
       "    <tr>\n",
       "      <th>4</th>\n",
       "      <td>38</td>\n",
       "      <td>1</td>\n",
       "      <td>0</td>\n",
       "      <td>0</td>\n",
       "      <td>0</td>\n",
       "      <td>0</td>\n",
       "      <td>0</td>\n",
       "      <td>0</td>\n",
       "      <td>0</td>\n",
       "      <td>0</td>\n",
       "      <td>...</td>\n",
       "      <td>0</td>\n",
       "      <td>0</td>\n",
       "      <td>0</td>\n",
       "      <td>0</td>\n",
       "      <td>0</td>\n",
       "      <td>0</td>\n",
       "      <td>0</td>\n",
       "      <td>0</td>\n",
       "      <td>0</td>\n",
       "      <td>0</td>\n",
       "    </tr>\n",
       "    <tr>\n",
       "      <th>5</th>\n",
       "      <td>74</td>\n",
       "      <td>0</td>\n",
       "      <td>1</td>\n",
       "      <td>0</td>\n",
       "      <td>0</td>\n",
       "      <td>0</td>\n",
       "      <td>0</td>\n",
       "      <td>0</td>\n",
       "      <td>0</td>\n",
       "      <td>0</td>\n",
       "      <td>...</td>\n",
       "      <td>0</td>\n",
       "      <td>0</td>\n",
       "      <td>0</td>\n",
       "      <td>0</td>\n",
       "      <td>0</td>\n",
       "      <td>0</td>\n",
       "      <td>0</td>\n",
       "      <td>0</td>\n",
       "      <td>0</td>\n",
       "      <td>1</td>\n",
       "    </tr>\n",
       "    <tr>\n",
       "      <th>6</th>\n",
       "      <td>68</td>\n",
       "      <td>0</td>\n",
       "      <td>0</td>\n",
       "      <td>1</td>\n",
       "      <td>0</td>\n",
       "      <td>0</td>\n",
       "      <td>0</td>\n",
       "      <td>0</td>\n",
       "      <td>1</td>\n",
       "      <td>0</td>\n",
       "      <td>...</td>\n",
       "      <td>0</td>\n",
       "      <td>0</td>\n",
       "      <td>0</td>\n",
       "      <td>0</td>\n",
       "      <td>0</td>\n",
       "      <td>0</td>\n",
       "      <td>0</td>\n",
       "      <td>0</td>\n",
       "      <td>0</td>\n",
       "      <td>0</td>\n",
       "    </tr>\n",
       "    <tr>\n",
       "      <th>7</th>\n",
       "      <td>45</td>\n",
       "      <td>1</td>\n",
       "      <td>0</td>\n",
       "      <td>0</td>\n",
       "      <td>0</td>\n",
       "      <td>0</td>\n",
       "      <td>0</td>\n",
       "      <td>0</td>\n",
       "      <td>0</td>\n",
       "      <td>0</td>\n",
       "      <td>...</td>\n",
       "      <td>0</td>\n",
       "      <td>0</td>\n",
       "      <td>0</td>\n",
       "      <td>0</td>\n",
       "      <td>0</td>\n",
       "      <td>0</td>\n",
       "      <td>0</td>\n",
       "      <td>0</td>\n",
       "      <td>0</td>\n",
       "      <td>1</td>\n",
       "    </tr>\n",
       "    <tr>\n",
       "      <th>8</th>\n",
       "      <td>38</td>\n",
       "      <td>0</td>\n",
       "      <td>0</td>\n",
       "      <td>0</td>\n",
       "      <td>1</td>\n",
       "      <td>0</td>\n",
       "      <td>0</td>\n",
       "      <td>0</td>\n",
       "      <td>0</td>\n",
       "      <td>0</td>\n",
       "      <td>...</td>\n",
       "      <td>0</td>\n",
       "      <td>0</td>\n",
       "      <td>0</td>\n",
       "      <td>0</td>\n",
       "      <td>0</td>\n",
       "      <td>0</td>\n",
       "      <td>0</td>\n",
       "      <td>0</td>\n",
       "      <td>0</td>\n",
       "      <td>1</td>\n",
       "    </tr>\n",
       "    <tr>\n",
       "      <th>9</th>\n",
       "      <td>52</td>\n",
       "      <td>1</td>\n",
       "      <td>0</td>\n",
       "      <td>0</td>\n",
       "      <td>0</td>\n",
       "      <td>0</td>\n",
       "      <td>0</td>\n",
       "      <td>0</td>\n",
       "      <td>0</td>\n",
       "      <td>0</td>\n",
       "      <td>...</td>\n",
       "      <td>0</td>\n",
       "      <td>0</td>\n",
       "      <td>0</td>\n",
       "      <td>0</td>\n",
       "      <td>0</td>\n",
       "      <td>0</td>\n",
       "      <td>0</td>\n",
       "      <td>0</td>\n",
       "      <td>0</td>\n",
       "      <td>1</td>\n",
       "    </tr>\n",
       "  </tbody>\n",
       "</table>\n",
       "<p>10 rows × 104 columns</p>\n",
       "</div>"
      ],
      "text/plain": [
       "   age  workclass_1  workclass_2  workclass_3  workclass_4  workclass_5  \\\n",
       "0   82            1            0            0            0            0   \n",
       "1   54            1            0            0            0            0   \n",
       "2   41            1            0            0            0            0   \n",
       "3   34            1            0            0            0            0   \n",
       "4   38            1            0            0            0            0   \n",
       "5   74            0            1            0            0            0   \n",
       "6   68            0            0            1            0            0   \n",
       "7   45            1            0            0            0            0   \n",
       "8   38            0            0            0            1            0   \n",
       "9   52            1            0            0            0            0   \n",
       "\n",
       "   workclass_6  workclass_7  education_1  education_2  ...  native.country_33  \\\n",
       "0            0            0            1            0  ...                  0   \n",
       "1            0            0            0            1  ...                  0   \n",
       "2            0            0            0            0  ...                  0   \n",
       "3            0            0            1            0  ...                  0   \n",
       "4            0            0            0            0  ...                  0   \n",
       "5            0            0            0            0  ...                  0   \n",
       "6            0            0            1            0  ...                  0   \n",
       "7            0            0            0            0  ...                  0   \n",
       "8            0            0            0            0  ...                  0   \n",
       "9            0            0            0            0  ...                  0   \n",
       "\n",
       "   native.country_34  native.country_35  native.country_36  native.country_37  \\\n",
       "0                  0                  0                  0                  0   \n",
       "1                  0                  0                  0                  0   \n",
       "2                  0                  0                  0                  0   \n",
       "3                  0                  0                  0                  0   \n",
       "4                  0                  0                  0                  0   \n",
       "5                  0                  0                  0                  0   \n",
       "6                  0                  0                  0                  0   \n",
       "7                  0                  0                  0                  0   \n",
       "8                  0                  0                  0                  0   \n",
       "9                  0                  0                  0                  0   \n",
       "\n",
       "   native.country_38  native.country_39  native.country_40  native.country_41  \\\n",
       "0                  0                  0                  0                  0   \n",
       "1                  0                  0                  0                  0   \n",
       "2                  0                  0                  0                  0   \n",
       "3                  0                  0                  0                  0   \n",
       "4                  0                  0                  0                  0   \n",
       "5                  0                  0                  0                  0   \n",
       "6                  0                  0                  0                  0   \n",
       "7                  0                  0                  0                  0   \n",
       "8                  0                  0                  0                  0   \n",
       "9                  0                  0                  0                  0   \n",
       "\n",
       "   income  \n",
       "0       0  \n",
       "1       0  \n",
       "2       0  \n",
       "3       0  \n",
       "4       0  \n",
       "5       1  \n",
       "6       0  \n",
       "7       1  \n",
       "8       1  \n",
       "9       1  \n",
       "\n",
       "[10 rows x 104 columns]"
      ]
     },
     "execution_count": 13,
     "metadata": {},
     "output_type": "execute_result"
    }
   ],
   "source": [
    "# 不要カラムの削除と並べ替え\n",
    "'''\n",
    "df = df[[\"age\",\n",
    "         \"workclass\",\n",
    "         #\"fnlwgt\",\n",
    "         \"education\",\n",
    "         \"education.num\",\n",
    "         \"marital.status\",\n",
    "         \"occupation\",\n",
    "         \"relationship\",\n",
    "         \"race\",\n",
    "         \"sex\",\n",
    "         \"capital.gain\",\n",
    "         \"capital.loss\",\n",
    "         \"hours.per.week\",\n",
    "         \"native.country\",\n",
    "         \"income\",]]\n",
    "'''\n",
    "df = df.drop([\"fnlwgt\"], axis=1)\n",
    "df.head(10)"
   ]
  },
  {
   "cell_type": "code",
   "execution_count": 14,
   "id": "5b76a5f5-bd1b-4de7-8173-7975716c1be4",
   "metadata": {
    "tags": []
   },
   "outputs": [],
   "source": [
    "X = df.drop(['income'], axis=1)\n",
    "y = df['income']\n",
    "\n",
    "#Creation of Train and Test dataset\n",
    "X_train, X_test , y_train, y_test  = train_test_split(X      , y      , test_size=0.2, shuffle=False)\n",
    "\n",
    "#Creation of Train and validation dataset\n",
    "X_train, X_valid, y_train, y_valid = train_test_split(X_train, y_train, test_size=0.2, shuffle=False)"
   ]
  },
  {
   "cell_type": "code",
   "execution_count": 15,
   "id": "3871dfb1-1d1d-43b0-8dcb-cd8a4742e94f",
   "metadata": {
    "tags": []
   },
   "outputs": [
    {
     "name": "stdout",
     "output_type": "stream",
     "text": [
      "Train dataset: (19303, 103)(19303,)\n",
      "Validation dataset: (4826, 103)(4826,)\n",
      "Test dataset: (6033, 103)(6033,)\n"
     ]
    }
   ],
   "source": [
    "print (\"Train dataset: {0}{1}\".format(X_train.shape, y_train.shape))\n",
    "print (\"Validation dataset: {0}{1}\".format(X_valid.shape, y_valid.shape))\n",
    "print (\"Test dataset: {0}{1}\".format(X_test.shape, y_test.shape))"
   ]
  },
  {
   "cell_type": "code",
   "execution_count": 16,
   "id": "67533dfe-b063-4177-b44a-7e9794366994",
   "metadata": {
    "tags": []
   },
   "outputs": [],
   "source": [
    "# データセットを生成する\n",
    "lgb_train = lgb.Dataset(X_train, y_train)\n",
    "lgb_valid = lgb.Dataset(X_valid, y_valid, reference=lgb_train)"
   ]
  },
  {
   "cell_type": "code",
   "execution_count": 17,
   "id": "b7c8c6de-b208-47ac-af74-45fece3b7ea9",
   "metadata": {
    "tags": []
   },
   "outputs": [],
   "source": [
    "# LightGBM のハイパーパラメータ\n",
    "params = {\n",
    "    # 二値分類問題\n",
    "    'objective': 'binary',\n",
    "    # AUC の最大化を目指す\n",
    "    'metric': 'auc',\n",
    "    # 正答率 の最大化を目指す\n",
    "    #'metric': 'binary_error',\n",
    "    # Fatal の場合出力\n",
    "    'verbosity': -1,\n",
    "    # 学習率\n",
    "    'learning_rate': 0.02,\n",
    "    'boosting_type': 'gbdt',\n",
    "    'deterministic': True, #再現性確保用のパラメータ\n",
    "    'force_row_wise': True  #再現性確保用のパラメータ\n",
    "}"
   ]
  },
  {
   "cell_type": "code",
   "execution_count": 18,
   "id": "67822de6-4283-4b35-bec8-b37f7fb0d85c",
   "metadata": {
    "tags": []
   },
   "outputs": [],
   "source": [
    "def mytrain(seed=31):\n",
    "    booster = lgb.LightGBMTuner(\n",
    "        params = params,\n",
    "        train_set = lgb_train,\n",
    "        valid_sets = lgb_valid,\n",
    "        verbose_eval = 50,  # 50イテレーション毎に学習結果出力\n",
    "        num_boost_round = 10000,  # 最大イテレーション回数指定\n",
    "        early_stopping_rounds = 100,\n",
    "        optuna_seed = seed, #再現性確保用のパラメータ\n",
    "    )\n",
    "\n",
    "    # 上記のパラメータでモデルを学習する\n",
    "    booster.run()\n",
    "\n",
    "    # 最適なパラメータの表示\n",
    "    print(\"Best params:\", booster.best_params)\n",
    "\n",
    "    # 最適なモデル（Boosterオブジェクト）を取得する\n",
    "    model = booster.get_best_booster()\n",
    "\n",
    "    # 最適なパラメータの表示\n",
    "    best_params = model.params\n",
    "    print(\"Best params:\", best_params)\n",
    "\n",
    "    # 学習済みモデルを戻り値に\n",
    "    return model"
   ]
  },
  {
   "cell_type": "code",
   "execution_count": 19,
   "id": "ab63a258-7bd5-4d80-b86e-abb2dbdafa0f",
   "metadata": {
    "tags": []
   },
   "outputs": [
    {
     "name": "stderr",
     "output_type": "stream",
     "text": [
      "feature_fraction, val_score: -inf:   0%|                                                         | 0/7 [00:00<?, ?it/s]C:\\Python39\\lib\\site-packages\\lightgbm\\engine.py:181: UserWarning: 'early_stopping_rounds' argument is deprecated and will be removed in a future release of LightGBM. Pass 'early_stopping()' callback via 'callbacks' argument instead.\n",
      "  _log_warning(\"'early_stopping_rounds' argument is deprecated and will be removed in a future release of LightGBM. \"\n",
      "C:\\Python39\\lib\\site-packages\\lightgbm\\engine.py:239: UserWarning: 'verbose_eval' argument is deprecated and will be removed in a future release of LightGBM. Pass 'log_evaluation()' callback via 'callbacks' argument instead.\n",
      "  _log_warning(\"'verbose_eval' argument is deprecated and will be removed in a future release of LightGBM. \"\n"
     ]
    },
    {
     "name": "stdout",
     "output_type": "stream",
     "text": [
      "Training until validation scores don't improve for 100 rounds\n",
      "[50]\tvalid_0's auc: 0.8937\n",
      "[100]\tvalid_0's auc: 0.898028\n",
      "[150]\tvalid_0's auc: 0.901441\n",
      "[200]\tvalid_0's auc: 0.903275\n",
      "[250]\tvalid_0's auc: 0.903584\n",
      "[300]\tvalid_0's auc: 0.903794\n",
      "[350]\tvalid_0's auc: 0.903872\n",
      "[400]\tvalid_0's auc: 0.903912\n"
     ]
    },
    {
     "name": "stderr",
     "output_type": "stream",
     "text": [
      "feature_fraction, val_score: 0.903986:  14%|######4                                      | 1/7 [00:01<00:06,  1.09s/it]"
     ]
    },
    {
     "name": "stdout",
     "output_type": "stream",
     "text": [
      "[450]\tvalid_0's auc: 0.903888\n",
      "Early stopping, best iteration is:\n",
      "[368]\tvalid_0's auc: 0.903986\n",
      "Training until validation scores don't improve for 100 rounds\n"
     ]
    },
    {
     "name": "stderr",
     "output_type": "stream",
     "text": [
      "C:\\Python39\\lib\\site-packages\\lightgbm\\engine.py:181: UserWarning: 'early_stopping_rounds' argument is deprecated and will be removed in a future release of LightGBM. Pass 'early_stopping()' callback via 'callbacks' argument instead.\n",
      "  _log_warning(\"'early_stopping_rounds' argument is deprecated and will be removed in a future release of LightGBM. \"\n",
      "C:\\Python39\\lib\\site-packages\\lightgbm\\engine.py:239: UserWarning: 'verbose_eval' argument is deprecated and will be removed in a future release of LightGBM. Pass 'log_evaluation()' callback via 'callbacks' argument instead.\n",
      "  _log_warning(\"'verbose_eval' argument is deprecated and will be removed in a future release of LightGBM. \"\n"
     ]
    },
    {
     "name": "stdout",
     "output_type": "stream",
     "text": [
      "[50]\tvalid_0's auc: 0.897926\n",
      "[100]\tvalid_0's auc: 0.900882\n",
      "[150]\tvalid_0's auc: 0.902782\n",
      "[200]\tvalid_0's auc: 0.904125\n",
      "[250]\tvalid_0's auc: 0.904678\n",
      "[300]\tvalid_0's auc: 0.905054\n",
      "[350]\tvalid_0's auc: 0.905324\n",
      "[400]\tvalid_0's auc: 0.905358\n",
      "[450]\tvalid_0's auc: 0.905302\n",
      "Early stopping, best iteration is:\n",
      "[359]\tvalid_0's auc: 0.9054\n"
     ]
    },
    {
     "name": "stderr",
     "output_type": "stream",
     "text": [
      "feature_fraction, val_score: 0.905400:  29%|############8                                | 2/7 [00:02<00:05,  1.00s/it]C:\\Python39\\lib\\site-packages\\lightgbm\\engine.py:181: UserWarning: 'early_stopping_rounds' argument is deprecated and will be removed in a future release of LightGBM. Pass 'early_stopping()' callback via 'callbacks' argument instead.\n",
      "  _log_warning(\"'early_stopping_rounds' argument is deprecated and will be removed in a future release of LightGBM. \"\n",
      "C:\\Python39\\lib\\site-packages\\lightgbm\\engine.py:239: UserWarning: 'verbose_eval' argument is deprecated and will be removed in a future release of LightGBM. Pass 'log_evaluation()' callback via 'callbacks' argument instead.\n",
      "  _log_warning(\"'verbose_eval' argument is deprecated and will be removed in a future release of LightGBM. \"\n"
     ]
    },
    {
     "name": "stdout",
     "output_type": "stream",
     "text": [
      "Training until validation scores don't improve for 100 rounds\n",
      "[50]\tvalid_0's auc: 0.889524\n",
      "[100]\tvalid_0's auc: 0.895641\n",
      "[150]\tvalid_0's auc: 0.899847\n",
      "[200]\tvalid_0's auc: 0.901449\n",
      "[250]\tvalid_0's auc: 0.902116\n",
      "[300]\tvalid_0's auc: 0.902619\n",
      "[350]\tvalid_0's auc: 0.903006\n",
      "[400]\tvalid_0's auc: 0.903235\n",
      "[450]\tvalid_0's auc: 0.90335\n"
     ]
    },
    {
     "name": "stderr",
     "output_type": "stream",
     "text": [
      "feature_fraction, val_score: 0.905400:  43%|###################2                         | 3/7 [00:03<00:04,  1.04s/it]"
     ]
    },
    {
     "name": "stdout",
     "output_type": "stream",
     "text": [
      "[500]\tvalid_0's auc: 0.903194\n",
      "[550]\tvalid_0's auc: 0.902898\n",
      "Early stopping, best iteration is:\n",
      "[454]\tvalid_0's auc: 0.90337\n"
     ]
    },
    {
     "name": "stderr",
     "output_type": "stream",
     "text": [
      "C:\\Python39\\lib\\site-packages\\lightgbm\\engine.py:181: UserWarning: 'early_stopping_rounds' argument is deprecated and will be removed in a future release of LightGBM. Pass 'early_stopping()' callback via 'callbacks' argument instead.\n",
      "  _log_warning(\"'early_stopping_rounds' argument is deprecated and will be removed in a future release of LightGBM. \"\n",
      "C:\\Python39\\lib\\site-packages\\lightgbm\\engine.py:239: UserWarning: 'verbose_eval' argument is deprecated and will be removed in a future release of LightGBM. Pass 'log_evaluation()' callback via 'callbacks' argument instead.\n",
      "  _log_warning(\"'verbose_eval' argument is deprecated and will be removed in a future release of LightGBM. \"\n"
     ]
    },
    {
     "name": "stdout",
     "output_type": "stream",
     "text": [
      "Training until validation scores don't improve for 100 rounds\n",
      "[50]\tvalid_0's auc: 0.896219\n",
      "[100]\tvalid_0's auc: 0.899862\n",
      "[150]\tvalid_0's auc: 0.902059\n",
      "[200]\tvalid_0's auc: 0.903673\n",
      "[250]\tvalid_0's auc: 0.904419\n",
      "[300]\tvalid_0's auc: 0.904779\n",
      "[350]\tvalid_0's auc: 0.904731\n",
      "[400]\tvalid_0's auc: 0.904852\n"
     ]
    },
    {
     "name": "stderr",
     "output_type": "stream",
     "text": [
      "feature_fraction, val_score: 0.905400:  57%|#########################7                   | 4/7 [00:04<00:03,  1.03s/it]"
     ]
    },
    {
     "name": "stdout",
     "output_type": "stream",
     "text": [
      "[450]\tvalid_0's auc: 0.904708\n",
      "Early stopping, best iteration is:\n",
      "[399]\tvalid_0's auc: 0.904852\n"
     ]
    },
    {
     "name": "stderr",
     "output_type": "stream",
     "text": [
      "C:\\Python39\\lib\\site-packages\\lightgbm\\engine.py:181: UserWarning: 'early_stopping_rounds' argument is deprecated and will be removed in a future release of LightGBM. Pass 'early_stopping()' callback via 'callbacks' argument instead.\n",
      "  _log_warning(\"'early_stopping_rounds' argument is deprecated and will be removed in a future release of LightGBM. \"\n",
      "C:\\Python39\\lib\\site-packages\\lightgbm\\engine.py:239: UserWarning: 'verbose_eval' argument is deprecated and will be removed in a future release of LightGBM. Pass 'log_evaluation()' callback via 'callbacks' argument instead.\n",
      "  _log_warning(\"'verbose_eval' argument is deprecated and will be removed in a future release of LightGBM. \"\n"
     ]
    },
    {
     "name": "stdout",
     "output_type": "stream",
     "text": [
      "Training until validation scores don't improve for 100 rounds\n",
      "[50]\tvalid_0's auc: 0.891521\n",
      "[100]\tvalid_0's auc: 0.896627\n",
      "[150]\tvalid_0's auc: 0.900669\n",
      "[200]\tvalid_0's auc: 0.902519\n",
      "[250]\tvalid_0's auc: 0.902953\n",
      "[300]\tvalid_0's auc: 0.903131\n",
      "[350]\tvalid_0's auc: 0.903115\n",
      "[400]\tvalid_0's auc: 0.903094\n"
     ]
    },
    {
     "name": "stderr",
     "output_type": "stream",
     "text": [
      "feature_fraction, val_score: 0.905400:  71%|################################1            | 5/7 [00:05<00:02,  1.04s/it]"
     ]
    },
    {
     "name": "stdout",
     "output_type": "stream",
     "text": [
      "[450]\tvalid_0's auc: 0.903185\n",
      "[500]\tvalid_0's auc: 0.903131\n",
      "Early stopping, best iteration is:\n",
      "[434]\tvalid_0's auc: 0.903226\n"
     ]
    },
    {
     "name": "stderr",
     "output_type": "stream",
     "text": [
      "C:\\Python39\\lib\\site-packages\\lightgbm\\engine.py:181: UserWarning: 'early_stopping_rounds' argument is deprecated and will be removed in a future release of LightGBM. Pass 'early_stopping()' callback via 'callbacks' argument instead.\n",
      "  _log_warning(\"'early_stopping_rounds' argument is deprecated and will be removed in a future release of LightGBM. \"\n",
      "C:\\Python39\\lib\\site-packages\\lightgbm\\engine.py:239: UserWarning: 'verbose_eval' argument is deprecated and will be removed in a future release of LightGBM. Pass 'log_evaluation()' callback via 'callbacks' argument instead.\n",
      "  _log_warning(\"'verbose_eval' argument is deprecated and will be removed in a future release of LightGBM. \"\n"
     ]
    },
    {
     "name": "stdout",
     "output_type": "stream",
     "text": [
      "Training until validation scores don't improve for 100 rounds\n",
      "[50]\tvalid_0's auc: 0.898232\n",
      "[100]\tvalid_0's auc: 0.901139\n",
      "[150]\tvalid_0's auc: 0.903161\n",
      "[200]\tvalid_0's auc: 0.904371\n",
      "[250]\tvalid_0's auc: 0.905056\n",
      "[300]\tvalid_0's auc: 0.905421\n",
      "[350]\tvalid_0's auc: 0.905396\n",
      "[400]\tvalid_0's auc: 0.905427\n",
      "[450]\tvalid_0's auc: 0.905601\n",
      "[500]\tvalid_0's auc: 0.905658\n",
      "[550]\tvalid_0's auc: 0.905456\n",
      "Early stopping, best iteration is:\n",
      "[489]\tvalid_0's auc: 0.905694\n"
     ]
    },
    {
     "name": "stderr",
     "output_type": "stream",
     "text": [
      "feature_fraction, val_score: 0.905694:  86%|######################################5      | 6/7 [00:06<00:01,  1.09s/it]C:\\Python39\\lib\\site-packages\\lightgbm\\engine.py:181: UserWarning: 'early_stopping_rounds' argument is deprecated and will be removed in a future release of LightGBM. Pass 'early_stopping()' callback via 'callbacks' argument instead.\n",
      "  _log_warning(\"'early_stopping_rounds' argument is deprecated and will be removed in a future release of LightGBM. \"\n",
      "C:\\Python39\\lib\\site-packages\\lightgbm\\engine.py:239: UserWarning: 'verbose_eval' argument is deprecated and will be removed in a future release of LightGBM. Pass 'log_evaluation()' callback via 'callbacks' argument instead.\n",
      "  _log_warning(\"'verbose_eval' argument is deprecated and will be removed in a future release of LightGBM. \"\n"
     ]
    },
    {
     "name": "stdout",
     "output_type": "stream",
     "text": [
      "Training until validation scores don't improve for 100 rounds\n",
      "[50]\tvalid_0's auc: 0.895481\n",
      "[100]\tvalid_0's auc: 0.899061\n",
      "[150]\tvalid_0's auc: 0.901728\n",
      "[200]\tvalid_0's auc: 0.90346\n",
      "[250]\tvalid_0's auc: 0.904153\n",
      "[300]\tvalid_0's auc: 0.904424\n",
      "[350]\tvalid_0's auc: 0.904549\n",
      "[400]\tvalid_0's auc: 0.904709\n",
      "[450]\tvalid_0's auc: 0.904767\n",
      "[500]\tvalid_0's auc: 0.904665\n",
      "Early stopping, best iteration is:\n",
      "[434]\tvalid_0's auc: 0.904811\n"
     ]
    },
    {
     "name": "stderr",
     "output_type": "stream",
     "text": [
      "feature_fraction, val_score: 0.905694: 100%|#############################################| 7/7 [00:07<00:00,  1.06s/it]\n",
      "num_leaves, val_score: 0.905694:   0%|                                                          | 0/20 [00:00<?, ?it/s]C:\\Python39\\lib\\site-packages\\lightgbm\\engine.py:181: UserWarning: 'early_stopping_rounds' argument is deprecated and will be removed in a future release of LightGBM. Pass 'early_stopping()' callback via 'callbacks' argument instead.\n",
      "  _log_warning(\"'early_stopping_rounds' argument is deprecated and will be removed in a future release of LightGBM. \"\n",
      "C:\\Python39\\lib\\site-packages\\lightgbm\\engine.py:239: UserWarning: 'verbose_eval' argument is deprecated and will be removed in a future release of LightGBM. Pass 'log_evaluation()' callback via 'callbacks' argument instead.\n",
      "  _log_warning(\"'verbose_eval' argument is deprecated and will be removed in a future release of LightGBM. \"\n"
     ]
    },
    {
     "name": "stdout",
     "output_type": "stream",
     "text": [
      "Training until validation scores don't improve for 100 rounds\n",
      "[50]\tvalid_0's auc: 0.902425\n",
      "[100]\tvalid_0's auc: 0.90372\n",
      "[150]\tvalid_0's auc: 0.904117\n",
      "[200]\tvalid_0's auc: 0.903769\n"
     ]
    },
    {
     "name": "stderr",
     "output_type": "stream",
     "text": [
      "num_leaves, val_score: 0.905694:   5%|##5                                               | 1/20 [00:01<00:22,  1.19s/it]"
     ]
    },
    {
     "name": "stdout",
     "output_type": "stream",
     "text": [
      "Early stopping, best iteration is:\n",
      "[127]\tvalid_0's auc: 0.904291\n",
      "Training until validation scores don't improve for 100 rounds\n"
     ]
    },
    {
     "name": "stderr",
     "output_type": "stream",
     "text": [
      "C:\\Python39\\lib\\site-packages\\lightgbm\\engine.py:181: UserWarning: 'early_stopping_rounds' argument is deprecated and will be removed in a future release of LightGBM. Pass 'early_stopping()' callback via 'callbacks' argument instead.\n",
      "  _log_warning(\"'early_stopping_rounds' argument is deprecated and will be removed in a future release of LightGBM. \"\n",
      "C:\\Python39\\lib\\site-packages\\lightgbm\\engine.py:239: UserWarning: 'verbose_eval' argument is deprecated and will be removed in a future release of LightGBM. Pass 'log_evaluation()' callback via 'callbacks' argument instead.\n",
      "  _log_warning(\"'verbose_eval' argument is deprecated and will be removed in a future release of LightGBM. \"\n"
     ]
    },
    {
     "name": "stdout",
     "output_type": "stream",
     "text": [
      "[50]\tvalid_0's auc: 0.902326\n",
      "[100]\tvalid_0's auc: 0.903636\n",
      "[150]\tvalid_0's auc: 0.903607\n"
     ]
    },
    {
     "name": "stderr",
     "output_type": "stream",
     "text": [
      "num_leaves, val_score: 0.905694:  10%|#####                                             | 2/20 [00:02<00:24,  1.34s/it]"
     ]
    },
    {
     "name": "stdout",
     "output_type": "stream",
     "text": [
      "[200]\tvalid_0's auc: 0.902843\n",
      "Early stopping, best iteration is:\n",
      "[117]\tvalid_0's auc: 0.90391\n"
     ]
    },
    {
     "name": "stderr",
     "output_type": "stream",
     "text": [
      "C:\\Python39\\lib\\site-packages\\lightgbm\\engine.py:181: UserWarning: 'early_stopping_rounds' argument is deprecated and will be removed in a future release of LightGBM. Pass 'early_stopping()' callback via 'callbacks' argument instead.\n",
      "  _log_warning(\"'early_stopping_rounds' argument is deprecated and will be removed in a future release of LightGBM. \"\n",
      "C:\\Python39\\lib\\site-packages\\lightgbm\\engine.py:239: UserWarning: 'verbose_eval' argument is deprecated and will be removed in a future release of LightGBM. Pass 'log_evaluation()' callback via 'callbacks' argument instead.\n",
      "  _log_warning(\"'verbose_eval' argument is deprecated and will be removed in a future release of LightGBM. \"\n"
     ]
    },
    {
     "name": "stdout",
     "output_type": "stream",
     "text": [
      "Training until validation scores don't improve for 100 rounds\n",
      "[50]\tvalid_0's auc: 0.902538\n",
      "[100]\tvalid_0's auc: 0.903919\n",
      "[150]\tvalid_0's auc: 0.903979\n"
     ]
    },
    {
     "name": "stderr",
     "output_type": "stream",
     "text": [
      "num_leaves, val_score: 0.905694:  10%|#####                                             | 2/20 [00:03<00:24,  1.34s/it]"
     ]
    },
    {
     "name": "stdout",
     "output_type": "stream",
     "text": [
      "[200]\tvalid_0's auc: 0.903657\n",
      "Early stopping, best iteration is:\n",
      "[127]\tvalid_0's auc: 0.904331\n"
     ]
    },
    {
     "name": "stderr",
     "output_type": "stream",
     "text": [
      "num_leaves, val_score: 0.905694:  15%|#######5                                          | 3/20 [00:03<00:22,  1.33s/it]C:\\Python39\\lib\\site-packages\\lightgbm\\engine.py:181: UserWarning: 'early_stopping_rounds' argument is deprecated and will be removed in a future release of LightGBM. Pass 'early_stopping()' callback via 'callbacks' argument instead.\n",
      "  _log_warning(\"'early_stopping_rounds' argument is deprecated and will be removed in a future release of LightGBM. \"\n",
      "C:\\Python39\\lib\\site-packages\\lightgbm\\engine.py:239: UserWarning: 'verbose_eval' argument is deprecated and will be removed in a future release of LightGBM. Pass 'log_evaluation()' callback via 'callbacks' argument instead.\n",
      "  _log_warning(\"'verbose_eval' argument is deprecated and will be removed in a future release of LightGBM. \"\n"
     ]
    },
    {
     "name": "stdout",
     "output_type": "stream",
     "text": [
      "Training until validation scores don't improve for 100 rounds\n",
      "[50]\tvalid_0's auc: 0.90218\n",
      "[100]\tvalid_0's auc: 0.903941\n",
      "[150]\tvalid_0's auc: 0.904744\n",
      "[200]\tvalid_0's auc: 0.904827\n",
      "[250]\tvalid_0's auc: 0.904734\n"
     ]
    },
    {
     "name": "stderr",
     "output_type": "stream",
     "text": [
      "num_leaves, val_score: 0.905694:  20%|##########                                        | 4/20 [00:05<00:19,  1.24s/it]"
     ]
    },
    {
     "name": "stdout",
     "output_type": "stream",
     "text": [
      "[300]\tvalid_0's auc: 0.904632\n",
      "Early stopping, best iteration is:\n",
      "[205]\tvalid_0's auc: 0.904862\n",
      "Training until validation scores don't improve for 100 rounds\n"
     ]
    },
    {
     "name": "stderr",
     "output_type": "stream",
     "text": [
      "C:\\Python39\\lib\\site-packages\\lightgbm\\engine.py:181: UserWarning: 'early_stopping_rounds' argument is deprecated and will be removed in a future release of LightGBM. Pass 'early_stopping()' callback via 'callbacks' argument instead.\n",
      "  _log_warning(\"'early_stopping_rounds' argument is deprecated and will be removed in a future release of LightGBM. \"\n",
      "C:\\Python39\\lib\\site-packages\\lightgbm\\engine.py:239: UserWarning: 'verbose_eval' argument is deprecated and will be removed in a future release of LightGBM. Pass 'log_evaluation()' callback via 'callbacks' argument instead.\n",
      "  _log_warning(\"'verbose_eval' argument is deprecated and will be removed in a future release of LightGBM. \"\n"
     ]
    },
    {
     "name": "stdout",
     "output_type": "stream",
     "text": [
      "[50]\tvalid_0's auc: 0.894435\n",
      "[100]\tvalid_0's auc: 0.898635\n",
      "[150]\tvalid_0's auc: 0.90099\n",
      "[200]\tvalid_0's auc: 0.902616\n",
      "[250]\tvalid_0's auc: 0.903625\n",
      "[300]\tvalid_0's auc: 0.904479\n",
      "[350]\tvalid_0's auc: 0.905024\n",
      "[400]\tvalid_0's auc: 0.90521\n",
      "[450]\tvalid_0's auc: 0.905524\n",
      "[500]\tvalid_0's auc: 0.905679\n",
      "[550]\tvalid_0's auc: 0.90593\n",
      "[600]\tvalid_0's auc: 0.905999\n",
      "[650]\tvalid_0's auc: 0.906052\n",
      "[700]\tvalid_0's auc: 0.906086\n",
      "[750]\tvalid_0's auc: 0.90604\n",
      "[800]\tvalid_0's auc: 0.906131\n",
      "[850]\tvalid_0's auc: 0.906135\n",
      "[900]\tvalid_0's auc: 0.906103\n"
     ]
    },
    {
     "name": "stderr",
     "output_type": "stream",
     "text": [
      "num_leaves, val_score: 0.906173:  25%|############5                                     | 5/20 [00:06<00:20,  1.34s/it]"
     ]
    },
    {
     "name": "stdout",
     "output_type": "stream",
     "text": [
      "Early stopping, best iteration is:\n",
      "[834]\tvalid_0's auc: 0.906173\n",
      "Training until validation scores don't improve for 100 rounds\n"
     ]
    },
    {
     "name": "stderr",
     "output_type": "stream",
     "text": [
      "C:\\Python39\\lib\\site-packages\\lightgbm\\engine.py:181: UserWarning: 'early_stopping_rounds' argument is deprecated and will be removed in a future release of LightGBM. Pass 'early_stopping()' callback via 'callbacks' argument instead.\n",
      "  _log_warning(\"'early_stopping_rounds' argument is deprecated and will be removed in a future release of LightGBM. \"\n",
      "C:\\Python39\\lib\\site-packages\\lightgbm\\engine.py:239: UserWarning: 'verbose_eval' argument is deprecated and will be removed in a future release of LightGBM. Pass 'log_evaluation()' callback via 'callbacks' argument instead.\n",
      "  _log_warning(\"'verbose_eval' argument is deprecated and will be removed in a future release of LightGBM. \"\n"
     ]
    },
    {
     "name": "stdout",
     "output_type": "stream",
     "text": [
      "[50]\tvalid_0's auc: 0.90237\n",
      "[100]\tvalid_0's auc: 0.903993\n",
      "[150]\tvalid_0's auc: 0.904643\n",
      "[200]\tvalid_0's auc: 0.904614\n"
     ]
    },
    {
     "name": "stderr",
     "output_type": "stream",
     "text": [
      "num_leaves, val_score: 0.906173:  30%|###############                                   | 6/20 [00:07<00:17,  1.24s/it]"
     ]
    },
    {
     "name": "stdout",
     "output_type": "stream",
     "text": [
      "[250]\tvalid_0's auc: 0.904464\n",
      "Early stopping, best iteration is:\n",
      "[166]\tvalid_0's auc: 0.904733\n",
      "Training until validation scores don't improve for 100 rounds\n"
     ]
    },
    {
     "name": "stderr",
     "output_type": "stream",
     "text": [
      "C:\\Python39\\lib\\site-packages\\lightgbm\\engine.py:181: UserWarning: 'early_stopping_rounds' argument is deprecated and will be removed in a future release of LightGBM. Pass 'early_stopping()' callback via 'callbacks' argument instead.\n",
      "  _log_warning(\"'early_stopping_rounds' argument is deprecated and will be removed in a future release of LightGBM. \"\n",
      "C:\\Python39\\lib\\site-packages\\lightgbm\\engine.py:239: UserWarning: 'verbose_eval' argument is deprecated and will be removed in a future release of LightGBM. Pass 'log_evaluation()' callback via 'callbacks' argument instead.\n",
      "  _log_warning(\"'verbose_eval' argument is deprecated and will be removed in a future release of LightGBM. \"\n"
     ]
    },
    {
     "name": "stdout",
     "output_type": "stream",
     "text": [
      "[50]\tvalid_0's auc: 0.901205\n",
      "[100]\tvalid_0's auc: 0.903373\n",
      "[150]\tvalid_0's auc: 0.904663\n",
      "[200]\tvalid_0's auc: 0.905157\n",
      "[250]\tvalid_0's auc: 0.905234\n",
      "[300]\tvalid_0's auc: 0.905209\n"
     ]
    },
    {
     "name": "stderr",
     "output_type": "stream",
     "text": [
      "num_leaves, val_score: 0.906173:  35%|#################5                                | 7/20 [00:08<00:15,  1.17s/it]"
     ]
    },
    {
     "name": "stdout",
     "output_type": "stream",
     "text": [
      "[350]\tvalid_0's auc: 0.905038\n",
      "Early stopping, best iteration is:\n",
      "[266]\tvalid_0's auc: 0.905305\n",
      "Training until validation scores don't improve for 100 rounds\n"
     ]
    },
    {
     "name": "stderr",
     "output_type": "stream",
     "text": [
      "C:\\Python39\\lib\\site-packages\\lightgbm\\engine.py:181: UserWarning: 'early_stopping_rounds' argument is deprecated and will be removed in a future release of LightGBM. Pass 'early_stopping()' callback via 'callbacks' argument instead.\n",
      "  _log_warning(\"'early_stopping_rounds' argument is deprecated and will be removed in a future release of LightGBM. \"\n",
      "C:\\Python39\\lib\\site-packages\\lightgbm\\engine.py:239: UserWarning: 'verbose_eval' argument is deprecated and will be removed in a future release of LightGBM. Pass 'log_evaluation()' callback via 'callbacks' argument instead.\n",
      "  _log_warning(\"'verbose_eval' argument is deprecated and will be removed in a future release of LightGBM. \"\n"
     ]
    },
    {
     "name": "stdout",
     "output_type": "stream",
     "text": [
      "[50]\tvalid_0's auc: 0.902288\n",
      "[100]\tvalid_0's auc: 0.903609\n",
      "[150]\tvalid_0's auc: 0.903524\n"
     ]
    },
    {
     "name": "stderr",
     "output_type": "stream",
     "text": [
      "num_leaves, val_score: 0.906173:  40%|####################                              | 8/20 [00:09<00:14,  1.22s/it]"
     ]
    },
    {
     "name": "stdout",
     "output_type": "stream",
     "text": [
      "[200]\tvalid_0's auc: 0.902802\n",
      "Early stopping, best iteration is:\n",
      "[117]\tvalid_0's auc: 0.903859\n"
     ]
    },
    {
     "name": "stderr",
     "output_type": "stream",
     "text": [
      "C:\\Python39\\lib\\site-packages\\lightgbm\\engine.py:181: UserWarning: 'early_stopping_rounds' argument is deprecated and will be removed in a future release of LightGBM. Pass 'early_stopping()' callback via 'callbacks' argument instead.\n",
      "  _log_warning(\"'early_stopping_rounds' argument is deprecated and will be removed in a future release of LightGBM. \"\n",
      "C:\\Python39\\lib\\site-packages\\lightgbm\\engine.py:239: UserWarning: 'verbose_eval' argument is deprecated and will be removed in a future release of LightGBM. Pass 'log_evaluation()' callback via 'callbacks' argument instead.\n",
      "  _log_warning(\"'verbose_eval' argument is deprecated and will be removed in a future release of LightGBM. \"\n"
     ]
    },
    {
     "name": "stdout",
     "output_type": "stream",
     "text": [
      "Training until validation scores don't improve for 100 rounds\n",
      "[50]\tvalid_0's auc: 0.902485\n",
      "[100]\tvalid_0's auc: 0.903846\n",
      "[150]\tvalid_0's auc: 0.903974\n",
      "[200]\tvalid_0's auc: 0.903412\n",
      "Early stopping, best iteration is:\n",
      "[127]\tvalid_0's auc: 0.904282\n"
     ]
    },
    {
     "name": "stderr",
     "output_type": "stream",
     "text": [
      "num_leaves, val_score: 0.906173:  45%|######################5                           | 9/20 [00:11<00:13,  1.24s/it]C:\\Python39\\lib\\site-packages\\lightgbm\\engine.py:181: UserWarning: 'early_stopping_rounds' argument is deprecated and will be removed in a future release of LightGBM. Pass 'early_stopping()' callback via 'callbacks' argument instead.\n",
      "  _log_warning(\"'early_stopping_rounds' argument is deprecated and will be removed in a future release of LightGBM. \"\n",
      "C:\\Python39\\lib\\site-packages\\lightgbm\\engine.py:239: UserWarning: 'verbose_eval' argument is deprecated and will be removed in a future release of LightGBM. Pass 'log_evaluation()' callback via 'callbacks' argument instead.\n",
      "  _log_warning(\"'verbose_eval' argument is deprecated and will be removed in a future release of LightGBM. \"\n"
     ]
    },
    {
     "name": "stdout",
     "output_type": "stream",
     "text": [
      "Training until validation scores don't improve for 100 rounds\n",
      "[50]\tvalid_0's auc: 0.891237\n",
      "[100]\tvalid_0's auc: 0.896318\n",
      "[150]\tvalid_0's auc: 0.899098\n",
      "[200]\tvalid_0's auc: 0.901278\n",
      "[250]\tvalid_0's auc: 0.902387\n",
      "[300]\tvalid_0's auc: 0.903569\n",
      "[350]\tvalid_0's auc: 0.904201\n",
      "[400]\tvalid_0's auc: 0.90459\n",
      "[450]\tvalid_0's auc: 0.905073\n",
      "[500]\tvalid_0's auc: 0.905252\n",
      "[550]\tvalid_0's auc: 0.905504\n",
      "[600]\tvalid_0's auc: 0.905723\n",
      "[650]\tvalid_0's auc: 0.90584\n",
      "[700]\tvalid_0's auc: 0.905881\n",
      "[750]\tvalid_0's auc: 0.906009\n",
      "[800]\tvalid_0's auc: 0.906085\n",
      "[850]\tvalid_0's auc: 0.9062\n",
      "[900]\tvalid_0's auc: 0.906169\n",
      "[950]\tvalid_0's auc: 0.906196\n",
      "[1000]\tvalid_0's auc: 0.906217\n",
      "[1050]\tvalid_0's auc: 0.906172\n"
     ]
    },
    {
     "name": "stderr",
     "output_type": "stream",
     "text": [
      "num_leaves, val_score: 0.906238:  50%|########################5                        | 10/20 [00:12<00:12,  1.27s/it]"
     ]
    },
    {
     "name": "stdout",
     "output_type": "stream",
     "text": [
      "Early stopping, best iteration is:\n",
      "[999]\tvalid_0's auc: 0.906238\n",
      "Training until validation scores don't improve for 100 rounds\n"
     ]
    },
    {
     "name": "stderr",
     "output_type": "stream",
     "text": [
      "C:\\Python39\\lib\\site-packages\\lightgbm\\engine.py:181: UserWarning: 'early_stopping_rounds' argument is deprecated and will be removed in a future release of LightGBM. Pass 'early_stopping()' callback via 'callbacks' argument instead.\n",
      "  _log_warning(\"'early_stopping_rounds' argument is deprecated and will be removed in a future release of LightGBM. \"\n",
      "C:\\Python39\\lib\\site-packages\\lightgbm\\engine.py:239: UserWarning: 'verbose_eval' argument is deprecated and will be removed in a future release of LightGBM. Pass 'log_evaluation()' callback via 'callbacks' argument instead.\n",
      "  _log_warning(\"'verbose_eval' argument is deprecated and will be removed in a future release of LightGBM. \"\n"
     ]
    },
    {
     "name": "stdout",
     "output_type": "stream",
     "text": [
      "[50]\tvalid_0's auc: 0.885856\n",
      "[100]\tvalid_0's auc: 0.892986\n",
      "[150]\tvalid_0's auc: 0.896131\n",
      "[200]\tvalid_0's auc: 0.898676\n",
      "[250]\tvalid_0's auc: 0.900289\n",
      "[300]\tvalid_0's auc: 0.9017\n",
      "[350]\tvalid_0's auc: 0.902454\n",
      "[400]\tvalid_0's auc: 0.902983\n",
      "[450]\tvalid_0's auc: 0.903706\n",
      "[500]\tvalid_0's auc: 0.904062\n",
      "[550]\tvalid_0's auc: 0.904574\n",
      "[600]\tvalid_0's auc: 0.904913\n",
      "[650]\tvalid_0's auc: 0.905153\n",
      "[700]\tvalid_0's auc: 0.905181\n",
      "[750]\tvalid_0's auc: 0.905331\n",
      "[800]\tvalid_0's auc: 0.9055\n",
      "[850]\tvalid_0's auc: 0.90554\n",
      "[900]\tvalid_0's auc: 0.905709\n",
      "[950]\tvalid_0's auc: 0.905779\n",
      "[1000]\tvalid_0's auc: 0.905857\n",
      "[1050]\tvalid_0's auc: 0.905912\n",
      "[1100]\tvalid_0's auc: 0.905975\n",
      "[1150]\tvalid_0's auc: 0.906041\n",
      "[1200]\tvalid_0's auc: 0.90606\n",
      "[1250]\tvalid_0's auc: 0.906113\n",
      "[1300]\tvalid_0's auc: 0.906143\n",
      "[1350]\tvalid_0's auc: 0.906218\n",
      "[1400]\tvalid_0's auc: 0.906161\n"
     ]
    },
    {
     "name": "stderr",
     "output_type": "stream",
     "text": [
      "num_leaves, val_score: 0.906252:  55%|##########################9                      | 11/20 [00:14<00:12,  1.36s/it]"
     ]
    },
    {
     "name": "stdout",
     "output_type": "stream",
     "text": [
      "[1450]\tvalid_0's auc: 0.906156\n",
      "Early stopping, best iteration is:\n",
      "[1353]\tvalid_0's auc: 0.906252\n",
      "Training until validation scores don't improve for 100 rounds\n",
      "[50]\tvalid_0's auc: 0.86582\n"
     ]
    },
    {
     "name": "stderr",
     "output_type": "stream",
     "text": [
      "C:\\Python39\\lib\\site-packages\\lightgbm\\engine.py:181: UserWarning: 'early_stopping_rounds' argument is deprecated and will be removed in a future release of LightGBM. Pass 'early_stopping()' callback via 'callbacks' argument instead.\n",
      "  _log_warning(\"'early_stopping_rounds' argument is deprecated and will be removed in a future release of LightGBM. \"\n",
      "C:\\Python39\\lib\\site-packages\\lightgbm\\engine.py:239: UserWarning: 'verbose_eval' argument is deprecated and will be removed in a future release of LightGBM. Pass 'log_evaluation()' callback via 'callbacks' argument instead.\n",
      "  _log_warning(\"'verbose_eval' argument is deprecated and will be removed in a future release of LightGBM. \"\n"
     ]
    },
    {
     "name": "stdout",
     "output_type": "stream",
     "text": [
      "[100]\tvalid_0's auc: 0.873493\n",
      "[150]\tvalid_0's auc: 0.876679\n",
      "[200]\tvalid_0's auc: 0.882682\n",
      "[250]\tvalid_0's auc: 0.885739\n",
      "[300]\tvalid_0's auc: 0.88847\n",
      "[350]\tvalid_0's auc: 0.890049\n",
      "[400]\tvalid_0's auc: 0.891976\n",
      "[450]\tvalid_0's auc: 0.893885\n",
      "[500]\tvalid_0's auc: 0.894678\n",
      "[550]\tvalid_0's auc: 0.895733\n",
      "[600]\tvalid_0's auc: 0.896477\n",
      "[650]\tvalid_0's auc: 0.896853\n",
      "[700]\tvalid_0's auc: 0.897649\n",
      "[750]\tvalid_0's auc: 0.898327\n",
      "[800]\tvalid_0's auc: 0.898885\n",
      "[850]\tvalid_0's auc: 0.899364\n",
      "[900]\tvalid_0's auc: 0.899764\n",
      "[950]\tvalid_0's auc: 0.900186\n",
      "[1000]\tvalid_0's auc: 0.900583\n",
      "[1050]\tvalid_0's auc: 0.900857\n",
      "[1100]\tvalid_0's auc: 0.901203\n",
      "[1150]\tvalid_0's auc: 0.901396\n",
      "[1200]\tvalid_0's auc: 0.901632\n",
      "[1250]\tvalid_0's auc: 0.90178\n",
      "[1300]\tvalid_0's auc: 0.902001\n",
      "[1350]\tvalid_0's auc: 0.902178\n",
      "[1400]\tvalid_0's auc: 0.902364\n",
      "[1450]\tvalid_0's auc: 0.9025\n",
      "[1500]\tvalid_0's auc: 0.902614\n",
      "[1550]\tvalid_0's auc: 0.902752\n",
      "[1600]\tvalid_0's auc: 0.902806\n",
      "[1650]\tvalid_0's auc: 0.902854\n",
      "[1700]\tvalid_0's auc: 0.902908\n",
      "[1750]\tvalid_0's auc: 0.903002\n",
      "[1800]\tvalid_0's auc: 0.903074\n",
      "[1850]\tvalid_0's auc: 0.903142\n",
      "[1900]\tvalid_0's auc: 0.903164\n",
      "[1950]\tvalid_0's auc: 0.903211\n",
      "[2000]\tvalid_0's auc: 0.903278\n",
      "[2050]\tvalid_0's auc: 0.903393\n",
      "[2100]\tvalid_0's auc: 0.90349\n",
      "[2150]\tvalid_0's auc: 0.903591\n",
      "[2200]\tvalid_0's auc: 0.903596\n",
      "[2250]\tvalid_0's auc: 0.903649\n",
      "[2300]\tvalid_0's auc: 0.903721\n",
      "[2350]\tvalid_0's auc: 0.903791\n",
      "[2400]\tvalid_0's auc: 0.903835\n",
      "[2450]\tvalid_0's auc: 0.903923\n",
      "[2500]\tvalid_0's auc: 0.903962\n",
      "[2550]\tvalid_0's auc: 0.904047\n",
      "[2600]\tvalid_0's auc: 0.904082\n",
      "[2650]\tvalid_0's auc: 0.904149\n",
      "[2700]\tvalid_0's auc: 0.904216\n",
      "[2750]\tvalid_0's auc: 0.904275\n",
      "[2800]\tvalid_0's auc: 0.90431\n",
      "[2850]\tvalid_0's auc: 0.904359\n",
      "[2900]\tvalid_0's auc: 0.904452\n",
      "[2950]\tvalid_0's auc: 0.904497\n",
      "[3000]\tvalid_0's auc: 0.904527\n",
      "[3050]\tvalid_0's auc: 0.904529\n",
      "[3100]\tvalid_0's auc: 0.904565\n",
      "[3150]\tvalid_0's auc: 0.904569\n",
      "[3200]\tvalid_0's auc: 0.904648\n",
      "[3250]\tvalid_0's auc: 0.904684\n",
      "[3300]\tvalid_0's auc: 0.904715\n",
      "[3350]\tvalid_0's auc: 0.904722\n",
      "[3400]\tvalid_0's auc: 0.904765\n",
      "[3450]\tvalid_0's auc: 0.9048\n",
      "[3500]\tvalid_0's auc: 0.904827\n",
      "[3550]\tvalid_0's auc: 0.904849\n",
      "[3600]\tvalid_0's auc: 0.904857\n",
      "[3650]\tvalid_0's auc: 0.904836\n",
      "[3700]\tvalid_0's auc: 0.90488\n",
      "[3750]\tvalid_0's auc: 0.904889\n",
      "[3800]\tvalid_0's auc: 0.904935\n",
      "[3850]\tvalid_0's auc: 0.904936\n",
      "[3900]\tvalid_0's auc: 0.904962\n",
      "[3950]\tvalid_0's auc: 0.905006\n",
      "[4000]\tvalid_0's auc: 0.905001\n",
      "[4050]\tvalid_0's auc: 0.905019\n",
      "[4100]\tvalid_0's auc: 0.905009\n",
      "[4150]\tvalid_0's auc: 0.905038\n",
      "[4200]\tvalid_0's auc: 0.905024\n",
      "[4250]\tvalid_0's auc: 0.905034\n",
      "[4300]\tvalid_0's auc: 0.905058\n",
      "[4350]\tvalid_0's auc: 0.90506\n",
      "[4400]\tvalid_0's auc: 0.905084\n",
      "[4450]\tvalid_0's auc: 0.905071\n",
      "Early stopping, best iteration is:\n",
      "[4398]\tvalid_0's auc: 0.905089\n"
     ]
    },
    {
     "name": "stderr",
     "output_type": "stream",
     "text": [
      "num_leaves, val_score: 0.906252:  60%|#############################4                   | 12/20 [00:17<00:16,  2.06s/it]C:\\Python39\\lib\\site-packages\\lightgbm\\engine.py:181: UserWarning: 'early_stopping_rounds' argument is deprecated and will be removed in a future release of LightGBM. Pass 'early_stopping()' callback via 'callbacks' argument instead.\n",
      "  _log_warning(\"'early_stopping_rounds' argument is deprecated and will be removed in a future release of LightGBM. \"\n",
      "C:\\Python39\\lib\\site-packages\\lightgbm\\engine.py:239: UserWarning: 'verbose_eval' argument is deprecated and will be removed in a future release of LightGBM. Pass 'log_evaluation()' callback via 'callbacks' argument instead.\n",
      "  _log_warning(\"'verbose_eval' argument is deprecated and will be removed in a future release of LightGBM. \"\n"
     ]
    },
    {
     "name": "stdout",
     "output_type": "stream",
     "text": [
      "Training until validation scores don't improve for 100 rounds\n",
      "[50]\tvalid_0's auc: 0.899704\n",
      "[100]\tvalid_0's auc: 0.902368\n",
      "[150]\tvalid_0's auc: 0.903941\n",
      "[200]\tvalid_0's auc: 0.904772\n",
      "[250]\tvalid_0's auc: 0.905115\n",
      "[300]\tvalid_0's auc: 0.905391\n",
      "[350]\tvalid_0's auc: 0.905289\n",
      "Early stopping, best iteration is:\n",
      "[299]\tvalid_0's auc: 0.905398\n"
     ]
    },
    {
     "name": "stderr",
     "output_type": "stream",
     "text": [
      "num_leaves, val_score: 0.906252:  65%|###############################8                 | 13/20 [00:18<00:11,  1.70s/it]C:\\Python39\\lib\\site-packages\\lightgbm\\engine.py:181: UserWarning: 'early_stopping_rounds' argument is deprecated and will be removed in a future release of LightGBM. Pass 'early_stopping()' callback via 'callbacks' argument instead.\n",
      "  _log_warning(\"'early_stopping_rounds' argument is deprecated and will be removed in a future release of LightGBM. \"\n",
      "C:\\Python39\\lib\\site-packages\\lightgbm\\engine.py:239: UserWarning: 'verbose_eval' argument is deprecated and will be removed in a future release of LightGBM. Pass 'log_evaluation()' callback via 'callbacks' argument instead.\n",
      "  _log_warning(\"'verbose_eval' argument is deprecated and will be removed in a future release of LightGBM. \"\n"
     ]
    },
    {
     "name": "stdout",
     "output_type": "stream",
     "text": [
      "Training until validation scores don't improve for 100 rounds\n",
      "[50]\tvalid_0's auc: 0.901437\n",
      "[100]\tvalid_0's auc: 0.903473\n",
      "[150]\tvalid_0's auc: 0.90468\n",
      "[200]\tvalid_0's auc: 0.90516\n",
      "[250]\tvalid_0's auc: 0.905325\n"
     ]
    },
    {
     "name": "stderr",
     "output_type": "stream",
     "text": [
      "num_leaves, val_score: 0.906252:  65%|###############################8                 | 13/20 [00:19<00:11,  1.70s/it]"
     ]
    },
    {
     "name": "stdout",
     "output_type": "stream",
     "text": [
      "[300]\tvalid_0's auc: 0.905319\n",
      "[350]\tvalid_0's auc: 0.905075\n",
      "Early stopping, best iteration is:\n",
      "[265]\tvalid_0's auc: 0.905428\n"
     ]
    },
    {
     "name": "stderr",
     "output_type": "stream",
     "text": [
      "num_leaves, val_score: 0.906252:  70%|##################################3              | 14/20 [00:19<00:08,  1.47s/it]C:\\Python39\\lib\\site-packages\\lightgbm\\engine.py:181: UserWarning: 'early_stopping_rounds' argument is deprecated and will be removed in a future release of LightGBM. Pass 'early_stopping()' callback via 'callbacks' argument instead.\n",
      "  _log_warning(\"'early_stopping_rounds' argument is deprecated and will be removed in a future release of LightGBM. \"\n",
      "C:\\Python39\\lib\\site-packages\\lightgbm\\engine.py:239: UserWarning: 'verbose_eval' argument is deprecated and will be removed in a future release of LightGBM. Pass 'log_evaluation()' callback via 'callbacks' argument instead.\n",
      "  _log_warning(\"'verbose_eval' argument is deprecated and will be removed in a future release of LightGBM. \"\n"
     ]
    },
    {
     "name": "stdout",
     "output_type": "stream",
     "text": [
      "Training until validation scores don't improve for 100 rounds\n",
      "[50]\tvalid_0's auc: 0.86582\n",
      "[100]\tvalid_0's auc: 0.873493\n",
      "[150]\tvalid_0's auc: 0.876679\n",
      "[200]\tvalid_0's auc: 0.882682\n",
      "[250]\tvalid_0's auc: 0.885739\n",
      "[300]\tvalid_0's auc: 0.88847\n",
      "[350]\tvalid_0's auc: 0.890049\n",
      "[400]\tvalid_0's auc: 0.891976\n",
      "[450]\tvalid_0's auc: 0.893885\n",
      "[500]\tvalid_0's auc: 0.894678\n",
      "[550]\tvalid_0's auc: 0.895733\n",
      "[600]\tvalid_0's auc: 0.896477\n",
      "[650]\tvalid_0's auc: 0.896853\n",
      "[700]\tvalid_0's auc: 0.897649\n",
      "[750]\tvalid_0's auc: 0.898327\n",
      "[800]\tvalid_0's auc: 0.898885\n",
      "[850]\tvalid_0's auc: 0.899364\n",
      "[900]\tvalid_0's auc: 0.899764\n",
      "[950]\tvalid_0's auc: 0.900186\n",
      "[1000]\tvalid_0's auc: 0.900583\n",
      "[1050]\tvalid_0's auc: 0.900857\n",
      "[1100]\tvalid_0's auc: 0.901203\n",
      "[1150]\tvalid_0's auc: 0.901396\n",
      "[1200]\tvalid_0's auc: 0.901632\n",
      "[1250]\tvalid_0's auc: 0.90178\n",
      "[1300]\tvalid_0's auc: 0.902001\n",
      "[1350]\tvalid_0's auc: 0.902178\n",
      "[1400]\tvalid_0's auc: 0.902364\n",
      "[1450]\tvalid_0's auc: 0.9025\n",
      "[1500]\tvalid_0's auc: 0.902614\n",
      "[1550]\tvalid_0's auc: 0.902752\n",
      "[1600]\tvalid_0's auc: 0.902806\n",
      "[1650]\tvalid_0's auc: 0.902854\n",
      "[1700]\tvalid_0's auc: 0.902908\n",
      "[1750]\tvalid_0's auc: 0.903002\n",
      "[1800]\tvalid_0's auc: 0.903074\n",
      "[1850]\tvalid_0's auc: 0.903142\n",
      "[1900]\tvalid_0's auc: 0.903164\n",
      "[1950]\tvalid_0's auc: 0.903211\n",
      "[2000]\tvalid_0's auc: 0.903278\n",
      "[2050]\tvalid_0's auc: 0.903393\n",
      "[2100]\tvalid_0's auc: 0.90349\n",
      "[2150]\tvalid_0's auc: 0.903591\n",
      "[2200]\tvalid_0's auc: 0.903596\n",
      "[2250]\tvalid_0's auc: 0.903649\n",
      "[2300]\tvalid_0's auc: 0.903721\n",
      "[2350]\tvalid_0's auc: 0.903791\n",
      "[2400]\tvalid_0's auc: 0.903835\n",
      "[2450]\tvalid_0's auc: 0.903923\n",
      "[2500]\tvalid_0's auc: 0.903962\n",
      "[2550]\tvalid_0's auc: 0.904047\n",
      "[2600]\tvalid_0's auc: 0.904082\n",
      "[2650]\tvalid_0's auc: 0.904149\n",
      "[2700]\tvalid_0's auc: 0.904216\n",
      "[2750]\tvalid_0's auc: 0.904275\n",
      "[2800]\tvalid_0's auc: 0.90431\n",
      "[2850]\tvalid_0's auc: 0.904359\n",
      "[2900]\tvalid_0's auc: 0.904452\n",
      "[2950]\tvalid_0's auc: 0.904497\n",
      "[3000]\tvalid_0's auc: 0.904527\n",
      "[3050]\tvalid_0's auc: 0.904529\n",
      "[3100]\tvalid_0's auc: 0.904565\n",
      "[3150]\tvalid_0's auc: 0.904569\n",
      "[3200]\tvalid_0's auc: 0.904648\n",
      "[3250]\tvalid_0's auc: 0.904684\n",
      "[3300]\tvalid_0's auc: 0.904715\n",
      "[3350]\tvalid_0's auc: 0.904722\n",
      "[3400]\tvalid_0's auc: 0.904765\n",
      "[3450]\tvalid_0's auc: 0.9048\n",
      "[3500]\tvalid_0's auc: 0.904827\n",
      "[3550]\tvalid_0's auc: 0.904849\n",
      "[3600]\tvalid_0's auc: 0.904857\n",
      "[3650]\tvalid_0's auc: 0.904836\n",
      "[3700]\tvalid_0's auc: 0.90488\n",
      "[3750]\tvalid_0's auc: 0.904889\n",
      "[3800]\tvalid_0's auc: 0.904935\n",
      "[3850]\tvalid_0's auc: 0.904936\n",
      "[3900]\tvalid_0's auc: 0.904962\n",
      "[3950]\tvalid_0's auc: 0.905006\n",
      "[4000]\tvalid_0's auc: 0.905001\n",
      "[4050]\tvalid_0's auc: 0.905019\n",
      "[4100]\tvalid_0's auc: 0.905009\n",
      "[4150]\tvalid_0's auc: 0.905038\n",
      "[4200]\tvalid_0's auc: 0.905024\n",
      "[4250]\tvalid_0's auc: 0.905034\n",
      "[4300]\tvalid_0's auc: 0.905058\n",
      "[4350]\tvalid_0's auc: 0.90506\n",
      "[4400]\tvalid_0's auc: 0.905084\n",
      "[4450]\tvalid_0's auc: 0.905071\n",
      "Early stopping, best iteration is:\n",
      "[4398]\tvalid_0's auc: 0.905089\n"
     ]
    },
    {
     "name": "stderr",
     "output_type": "stream",
     "text": [
      "num_leaves, val_score: 0.906252:  75%|####################################7            | 15/20 [00:23<00:10,  2.14s/it]C:\\Python39\\lib\\site-packages\\lightgbm\\engine.py:181: UserWarning: 'early_stopping_rounds' argument is deprecated and will be removed in a future release of LightGBM. Pass 'early_stopping()' callback via 'callbacks' argument instead.\n",
      "  _log_warning(\"'early_stopping_rounds' argument is deprecated and will be removed in a future release of LightGBM. \"\n",
      "C:\\Python39\\lib\\site-packages\\lightgbm\\engine.py:239: UserWarning: 'verbose_eval' argument is deprecated and will be removed in a future release of LightGBM. Pass 'log_evaluation()' callback via 'callbacks' argument instead.\n",
      "  _log_warning(\"'verbose_eval' argument is deprecated and will be removed in a future release of LightGBM. \"\n"
     ]
    },
    {
     "name": "stdout",
     "output_type": "stream",
     "text": [
      "Training until validation scores don't improve for 100 rounds\n",
      "[50]\tvalid_0's auc: 0.902294\n",
      "[100]\tvalid_0's auc: 0.90399\n",
      "[150]\tvalid_0's auc: 0.904733\n",
      "[200]\tvalid_0's auc: 0.9048\n",
      "[250]\tvalid_0's auc: 0.904628\n",
      "Early stopping, best iteration is:\n",
      "[173]\tvalid_0's auc: 0.904887\n"
     ]
    },
    {
     "name": "stderr",
     "output_type": "stream",
     "text": [
      "num_leaves, val_score: 0.906252:  80%|#######################################2         | 16/20 [00:24<00:07,  1.76s/it]C:\\Python39\\lib\\site-packages\\lightgbm\\engine.py:181: UserWarning: 'early_stopping_rounds' argument is deprecated and will be removed in a future release of LightGBM. Pass 'early_stopping()' callback via 'callbacks' argument instead.\n",
      "  _log_warning(\"'early_stopping_rounds' argument is deprecated and will be removed in a future release of LightGBM. \"\n",
      "C:\\Python39\\lib\\site-packages\\lightgbm\\engine.py:239: UserWarning: 'verbose_eval' argument is deprecated and will be removed in a future release of LightGBM. Pass 'log_evaluation()' callback via 'callbacks' argument instead.\n",
      "  _log_warning(\"'verbose_eval' argument is deprecated and will be removed in a future release of LightGBM. \"\n"
     ]
    },
    {
     "name": "stdout",
     "output_type": "stream",
     "text": [
      "Training until validation scores don't improve for 100 rounds\n",
      "[50]\tvalid_0's auc: 0.899905\n",
      "[100]\tvalid_0's auc: 0.90245\n",
      "[150]\tvalid_0's auc: 0.903954\n",
      "[200]\tvalid_0's auc: 0.904876\n",
      "[250]\tvalid_0's auc: 0.905268\n",
      "[300]\tvalid_0's auc: 0.905493\n",
      "[350]\tvalid_0's auc: 0.905399\n",
      "Early stopping, best iteration is:\n",
      "[296]\tvalid_0's auc: 0.90553\n"
     ]
    },
    {
     "name": "stderr",
     "output_type": "stream",
     "text": [
      "num_leaves, val_score: 0.906252:  85%|#########################################6       | 17/20 [00:25<00:04,  1.57s/it]C:\\Python39\\lib\\site-packages\\lightgbm\\engine.py:181: UserWarning: 'early_stopping_rounds' argument is deprecated and will be removed in a future release of LightGBM. Pass 'early_stopping()' callback via 'callbacks' argument instead.\n",
      "  _log_warning(\"'early_stopping_rounds' argument is deprecated and will be removed in a future release of LightGBM. \"\n",
      "C:\\Python39\\lib\\site-packages\\lightgbm\\engine.py:239: UserWarning: 'verbose_eval' argument is deprecated and will be removed in a future release of LightGBM. Pass 'log_evaluation()' callback via 'callbacks' argument instead.\n",
      "  _log_warning(\"'verbose_eval' argument is deprecated and will be removed in a future release of LightGBM. \"\n"
     ]
    },
    {
     "name": "stdout",
     "output_type": "stream",
     "text": [
      "Training until validation scores don't improve for 100 rounds\n",
      "[50]\tvalid_0's auc: 0.902428\n",
      "[100]\tvalid_0's auc: 0.903911\n",
      "[150]\tvalid_0's auc: 0.904271\n",
      "[200]\tvalid_0's auc: 0.90412\n"
     ]
    },
    {
     "name": "stderr",
     "output_type": "stream",
     "text": [
      "num_leaves, val_score: 0.906252:  90%|############################################1    | 18/20 [00:26<00:02,  1.39s/it]"
     ]
    },
    {
     "name": "stdout",
     "output_type": "stream",
     "text": [
      "Early stopping, best iteration is:\n",
      "[127]\tvalid_0's auc: 0.904459\n",
      "Training until validation scores don't improve for 100 rounds\n"
     ]
    },
    {
     "name": "stderr",
     "output_type": "stream",
     "text": [
      "C:\\Python39\\lib\\site-packages\\lightgbm\\engine.py:181: UserWarning: 'early_stopping_rounds' argument is deprecated and will be removed in a future release of LightGBM. Pass 'early_stopping()' callback via 'callbacks' argument instead.\n",
      "  _log_warning(\"'early_stopping_rounds' argument is deprecated and will be removed in a future release of LightGBM. \"\n",
      "C:\\Python39\\lib\\site-packages\\lightgbm\\engine.py:239: UserWarning: 'verbose_eval' argument is deprecated and will be removed in a future release of LightGBM. Pass 'log_evaluation()' callback via 'callbacks' argument instead.\n",
      "  _log_warning(\"'verbose_eval' argument is deprecated and will be removed in a future release of LightGBM. \"\n"
     ]
    },
    {
     "name": "stdout",
     "output_type": "stream",
     "text": [
      "[50]\tvalid_0's auc: 0.897799\n",
      "[100]\tvalid_0's auc: 0.900922\n",
      "[150]\tvalid_0's auc: 0.902979\n",
      "[200]\tvalid_0's auc: 0.90426\n",
      "[250]\tvalid_0's auc: 0.904906\n",
      "[300]\tvalid_0's auc: 0.905432\n",
      "[350]\tvalid_0's auc: 0.905514\n",
      "[400]\tvalid_0's auc: 0.905527\n",
      "[450]\tvalid_0's auc: 0.905834\n",
      "[500]\tvalid_0's auc: 0.905903\n",
      "[550]\tvalid_0's auc: 0.905956\n",
      "[600]\tvalid_0's auc: 0.905759\n",
      "Early stopping, best iteration is:\n",
      "[544]\tvalid_0's auc: 0.905962\n"
     ]
    },
    {
     "name": "stderr",
     "output_type": "stream",
     "text": [
      "num_leaves, val_score: 0.906252:  95%|##############################################5  | 19/20 [00:27<00:01,  1.30s/it]C:\\Python39\\lib\\site-packages\\lightgbm\\engine.py:181: UserWarning: 'early_stopping_rounds' argument is deprecated and will be removed in a future release of LightGBM. Pass 'early_stopping()' callback via 'callbacks' argument instead.\n",
      "  _log_warning(\"'early_stopping_rounds' argument is deprecated and will be removed in a future release of LightGBM. \"\n",
      "C:\\Python39\\lib\\site-packages\\lightgbm\\engine.py:239: UserWarning: 'verbose_eval' argument is deprecated and will be removed in a future release of LightGBM. Pass 'log_evaluation()' callback via 'callbacks' argument instead.\n",
      "  _log_warning(\"'verbose_eval' argument is deprecated and will be removed in a future release of LightGBM. \"\n"
     ]
    },
    {
     "name": "stdout",
     "output_type": "stream",
     "text": [
      "Training until validation scores don't improve for 100 rounds\n",
      "[50]\tvalid_0's auc: 0.902004\n",
      "[100]\tvalid_0's auc: 0.903999\n",
      "[150]\tvalid_0's auc: 0.904878\n",
      "[200]\tvalid_0's auc: 0.905144\n",
      "[250]\tvalid_0's auc: 0.905082\n"
     ]
    },
    {
     "name": "stderr",
     "output_type": "stream",
     "text": [
      "num_leaves, val_score: 0.906252: 100%|#################################################| 20/20 [00:28<00:00,  1.42s/it]\n"
     ]
    },
    {
     "name": "stdout",
     "output_type": "stream",
     "text": [
      "[300]\tvalid_0's auc: 0.905103\n",
      "Early stopping, best iteration is:\n",
      "[233]\tvalid_0's auc: 0.905276\n"
     ]
    },
    {
     "name": "stderr",
     "output_type": "stream",
     "text": [
      "bagging, val_score: 0.906252:   0%|                                                             | 0/10 [00:00<?, ?it/s]C:\\Python39\\lib\\site-packages\\lightgbm\\engine.py:181: UserWarning: 'early_stopping_rounds' argument is deprecated and will be removed in a future release of LightGBM. Pass 'early_stopping()' callback via 'callbacks' argument instead.\n",
      "  _log_warning(\"'early_stopping_rounds' argument is deprecated and will be removed in a future release of LightGBM. \"\n",
      "C:\\Python39\\lib\\site-packages\\lightgbm\\engine.py:239: UserWarning: 'verbose_eval' argument is deprecated and will be removed in a future release of LightGBM. Pass 'log_evaluation()' callback via 'callbacks' argument instead.\n",
      "  _log_warning(\"'verbose_eval' argument is deprecated and will be removed in a future release of LightGBM. \"\n"
     ]
    },
    {
     "name": "stdout",
     "output_type": "stream",
     "text": [
      "Training until validation scores don't improve for 100 rounds\n",
      "[50]\tvalid_0's auc: 0.885977\n",
      "[100]\tvalid_0's auc: 0.892818\n",
      "[150]\tvalid_0's auc: 0.896486\n",
      "[200]\tvalid_0's auc: 0.899489\n",
      "[250]\tvalid_0's auc: 0.900934\n",
      "[300]\tvalid_0's auc: 0.902126\n",
      "[350]\tvalid_0's auc: 0.902887\n",
      "[400]\tvalid_0's auc: 0.90341\n",
      "[450]\tvalid_0's auc: 0.904024\n",
      "[500]\tvalid_0's auc: 0.904339\n",
      "[550]\tvalid_0's auc: 0.904793\n",
      "[600]\tvalid_0's auc: 0.905095\n",
      "[650]\tvalid_0's auc: 0.905428\n",
      "[700]\tvalid_0's auc: 0.90566\n",
      "[750]\tvalid_0's auc: 0.905821\n",
      "[800]\tvalid_0's auc: 0.905882\n",
      "[850]\tvalid_0's auc: 0.905925\n",
      "[900]\tvalid_0's auc: 0.906077\n",
      "[950]\tvalid_0's auc: 0.906161\n",
      "[1000]\tvalid_0's auc: 0.906161\n",
      "[1050]\tvalid_0's auc: 0.906183\n",
      "[1100]\tvalid_0's auc: 0.906242\n",
      "[1150]\tvalid_0's auc: 0.906233\n"
     ]
    },
    {
     "name": "stderr",
     "output_type": "stream",
     "text": [
      "bagging, val_score: 0.906315:   0%|                                                             | 0/10 [00:01<?, ?it/s]"
     ]
    },
    {
     "name": "stdout",
     "output_type": "stream",
     "text": [
      "[1200]\tvalid_0's auc: 0.906295\n",
      "[1250]\tvalid_0's auc: 0.906105\n",
      "[1300]\tvalid_0's auc: 0.906028\n",
      "Early stopping, best iteration is:\n",
      "[1215]\tvalid_0's auc: 0.906315\n"
     ]
    },
    {
     "name": "stderr",
     "output_type": "stream",
     "text": [
      "bagging, val_score: 0.906315:  10%|#####3                                               | 1/10 [00:01<00:15,  1.73s/it]C:\\Python39\\lib\\site-packages\\lightgbm\\engine.py:181: UserWarning: 'early_stopping_rounds' argument is deprecated and will be removed in a future release of LightGBM. Pass 'early_stopping()' callback via 'callbacks' argument instead.\n",
      "  _log_warning(\"'early_stopping_rounds' argument is deprecated and will be removed in a future release of LightGBM. \"\n",
      "C:\\Python39\\lib\\site-packages\\lightgbm\\engine.py:239: UserWarning: 'verbose_eval' argument is deprecated and will be removed in a future release of LightGBM. Pass 'log_evaluation()' callback via 'callbacks' argument instead.\n",
      "  _log_warning(\"'verbose_eval' argument is deprecated and will be removed in a future release of LightGBM. \"\n"
     ]
    },
    {
     "name": "stdout",
     "output_type": "stream",
     "text": [
      "Training until validation scores don't improve for 100 rounds\n",
      "[50]\tvalid_0's auc: 0.886259\n",
      "[100]\tvalid_0's auc: 0.893577\n",
      "[150]\tvalid_0's auc: 0.896755\n",
      "[200]\tvalid_0's auc: 0.899311\n",
      "[250]\tvalid_0's auc: 0.900806\n",
      "[300]\tvalid_0's auc: 0.902249\n",
      "[350]\tvalid_0's auc: 0.902807\n",
      "[400]\tvalid_0's auc: 0.903333\n",
      "[450]\tvalid_0's auc: 0.90398\n",
      "[500]\tvalid_0's auc: 0.904352\n",
      "[550]\tvalid_0's auc: 0.904683\n",
      "[600]\tvalid_0's auc: 0.904866\n",
      "[650]\tvalid_0's auc: 0.905062\n",
      "[700]\tvalid_0's auc: 0.905228\n",
      "[750]\tvalid_0's auc: 0.90552\n",
      "[800]\tvalid_0's auc: 0.905663\n",
      "[850]\tvalid_0's auc: 0.905817\n",
      "[900]\tvalid_0's auc: 0.905849\n",
      "[950]\tvalid_0's auc: 0.905913\n",
      "[1000]\tvalid_0's auc: 0.905942\n",
      "[1050]\tvalid_0's auc: 0.906096\n",
      "[1100]\tvalid_0's auc: 0.906115\n",
      "[1150]\tvalid_0's auc: 0.906184\n",
      "[1200]\tvalid_0's auc: 0.906215\n"
     ]
    },
    {
     "name": "stderr",
     "output_type": "stream",
     "text": [
      "bagging, val_score: 0.906315:  20%|##########6                                          | 2/10 [00:03<00:15,  1.92s/it]"
     ]
    },
    {
     "name": "stdout",
     "output_type": "stream",
     "text": [
      "[1250]\tvalid_0's auc: 0.906166\n",
      "[1300]\tvalid_0's auc: 0.906061\n",
      "Early stopping, best iteration is:\n",
      "[1234]\tvalid_0's auc: 0.906235\n"
     ]
    },
    {
     "name": "stderr",
     "output_type": "stream",
     "text": [
      "bagging, val_score: 0.906315:  20%|##########6                                          | 2/10 [00:03<00:15,  1.92s/it]C:\\Python39\\lib\\site-packages\\lightgbm\\engine.py:181: UserWarning: 'early_stopping_rounds' argument is deprecated and will be removed in a future release of LightGBM. Pass 'early_stopping()' callback via 'callbacks' argument instead.\n",
      "  _log_warning(\"'early_stopping_rounds' argument is deprecated and will be removed in a future release of LightGBM. \"\n",
      "C:\\Python39\\lib\\site-packages\\lightgbm\\engine.py:239: UserWarning: 'verbose_eval' argument is deprecated and will be removed in a future release of LightGBM. Pass 'log_evaluation()' callback via 'callbacks' argument instead.\n",
      "  _log_warning(\"'verbose_eval' argument is deprecated and will be removed in a future release of LightGBM. \"\n"
     ]
    },
    {
     "name": "stdout",
     "output_type": "stream",
     "text": [
      "Training until validation scores don't improve for 100 rounds\n",
      "[50]\tvalid_0's auc: 0.886988\n",
      "[100]\tvalid_0's auc: 0.894388\n",
      "[150]\tvalid_0's auc: 0.897921\n",
      "[200]\tvalid_0's auc: 0.900157\n",
      "[250]\tvalid_0's auc: 0.901462\n",
      "[300]\tvalid_0's auc: 0.902855\n",
      "[350]\tvalid_0's auc: 0.903496\n",
      "[400]\tvalid_0's auc: 0.904109\n",
      "[450]\tvalid_0's auc: 0.904794\n",
      "[500]\tvalid_0's auc: 0.90531\n",
      "[550]\tvalid_0's auc: 0.90577\n",
      "[600]\tvalid_0's auc: 0.905954\n",
      "[650]\tvalid_0's auc: 0.905996\n",
      "[700]\tvalid_0's auc: 0.906027\n",
      "[750]\tvalid_0's auc: 0.906291\n",
      "[800]\tvalid_0's auc: 0.906342\n",
      "[850]\tvalid_0's auc: 0.906339\n",
      "[900]\tvalid_0's auc: 0.906376\n",
      "[950]\tvalid_0's auc: 0.906406\n"
     ]
    },
    {
     "name": "stderr",
     "output_type": "stream",
     "text": [
      "bagging, val_score: 0.906469:  30%|###############9                                     | 3/10 [00:05<00:11,  1.67s/it]"
     ]
    },
    {
     "name": "stdout",
     "output_type": "stream",
     "text": [
      "[1000]\tvalid_0's auc: 0.906402\n",
      "Early stopping, best iteration is:\n",
      "[936]\tvalid_0's auc: 0.906469\n",
      "Training until validation scores don't improve for 100 rounds\n"
     ]
    },
    {
     "name": "stderr",
     "output_type": "stream",
     "text": [
      "C:\\Python39\\lib\\site-packages\\lightgbm\\engine.py:181: UserWarning: 'early_stopping_rounds' argument is deprecated and will be removed in a future release of LightGBM. Pass 'early_stopping()' callback via 'callbacks' argument instead.\n",
      "  _log_warning(\"'early_stopping_rounds' argument is deprecated and will be removed in a future release of LightGBM. \"\n",
      "C:\\Python39\\lib\\site-packages\\lightgbm\\engine.py:239: UserWarning: 'verbose_eval' argument is deprecated and will be removed in a future release of LightGBM. Pass 'log_evaluation()' callback via 'callbacks' argument instead.\n",
      "  _log_warning(\"'verbose_eval' argument is deprecated and will be removed in a future release of LightGBM. \"\n"
     ]
    },
    {
     "name": "stdout",
     "output_type": "stream",
     "text": [
      "[50]\tvalid_0's auc: 0.885858\n",
      "[100]\tvalid_0's auc: 0.892981\n",
      "[150]\tvalid_0's auc: 0.896376\n",
      "[200]\tvalid_0's auc: 0.899563\n",
      "[250]\tvalid_0's auc: 0.901141\n",
      "[300]\tvalid_0's auc: 0.902363\n",
      "[350]\tvalid_0's auc: 0.903276\n",
      "[400]\tvalid_0's auc: 0.90382\n",
      "[450]\tvalid_0's auc: 0.904313\n",
      "[500]\tvalid_0's auc: 0.904844\n",
      "[550]\tvalid_0's auc: 0.905199\n",
      "[600]\tvalid_0's auc: 0.905529\n",
      "[650]\tvalid_0's auc: 0.905636\n",
      "[700]\tvalid_0's auc: 0.905978\n",
      "[750]\tvalid_0's auc: 0.906148\n",
      "[800]\tvalid_0's auc: 0.906157\n"
     ]
    },
    {
     "name": "stderr",
     "output_type": "stream",
     "text": [
      "bagging, val_score: 0.906469:  40%|#####################2                               | 4/10 [00:06<00:08,  1.45s/it]"
     ]
    },
    {
     "name": "stdout",
     "output_type": "stream",
     "text": [
      "Early stopping, best iteration is:\n",
      "[744]\tvalid_0's auc: 0.906199\n",
      "Training until validation scores don't improve for 100 rounds\n",
      "[50]\tvalid_0's auc: 0.886668\n"
     ]
    },
    {
     "name": "stderr",
     "output_type": "stream",
     "text": [
      "C:\\Python39\\lib\\site-packages\\lightgbm\\engine.py:181: UserWarning: 'early_stopping_rounds' argument is deprecated and will be removed in a future release of LightGBM. Pass 'early_stopping()' callback via 'callbacks' argument instead.\n",
      "  _log_warning(\"'early_stopping_rounds' argument is deprecated and will be removed in a future release of LightGBM. \"\n",
      "C:\\Python39\\lib\\site-packages\\lightgbm\\engine.py:239: UserWarning: 'verbose_eval' argument is deprecated and will be removed in a future release of LightGBM. Pass 'log_evaluation()' callback via 'callbacks' argument instead.\n",
      "  _log_warning(\"'verbose_eval' argument is deprecated and will be removed in a future release of LightGBM. \"\n"
     ]
    },
    {
     "name": "stdout",
     "output_type": "stream",
     "text": [
      "[100]\tvalid_0's auc: 0.893265\n",
      "[150]\tvalid_0's auc: 0.896554\n",
      "[200]\tvalid_0's auc: 0.898938\n",
      "[250]\tvalid_0's auc: 0.900495\n",
      "[300]\tvalid_0's auc: 0.902107\n",
      "[350]\tvalid_0's auc: 0.902703\n",
      "[400]\tvalid_0's auc: 0.90325\n",
      "[450]\tvalid_0's auc: 0.904072\n",
      "[500]\tvalid_0's auc: 0.904417\n",
      "[550]\tvalid_0's auc: 0.904763\n",
      "[600]\tvalid_0's auc: 0.905035\n",
      "[650]\tvalid_0's auc: 0.905116\n",
      "[700]\tvalid_0's auc: 0.905322\n",
      "[750]\tvalid_0's auc: 0.905482\n",
      "[800]\tvalid_0's auc: 0.905694\n",
      "[850]\tvalid_0's auc: 0.905762\n",
      "[900]\tvalid_0's auc: 0.905889\n",
      "[950]\tvalid_0's auc: 0.905943\n",
      "[1000]\tvalid_0's auc: 0.90602\n",
      "[1050]\tvalid_0's auc: 0.906025\n",
      "[1100]\tvalid_0's auc: 0.905957\n",
      "Early stopping, best iteration is:\n",
      "[1041]\tvalid_0's auc: 0.906046\n"
     ]
    },
    {
     "name": "stderr",
     "output_type": "stream",
     "text": [
      "bagging, val_score: 0.906469:  50%|##########################5                          | 5/10 [00:07<00:07,  1.43s/it]C:\\Python39\\lib\\site-packages\\lightgbm\\engine.py:181: UserWarning: 'early_stopping_rounds' argument is deprecated and will be removed in a future release of LightGBM. Pass 'early_stopping()' callback via 'callbacks' argument instead.\n",
      "  _log_warning(\"'early_stopping_rounds' argument is deprecated and will be removed in a future release of LightGBM. \"\n",
      "C:\\Python39\\lib\\site-packages\\lightgbm\\engine.py:239: UserWarning: 'verbose_eval' argument is deprecated and will be removed in a future release of LightGBM. Pass 'log_evaluation()' callback via 'callbacks' argument instead.\n",
      "  _log_warning(\"'verbose_eval' argument is deprecated and will be removed in a future release of LightGBM. \"\n"
     ]
    },
    {
     "name": "stdout",
     "output_type": "stream",
     "text": [
      "Training until validation scores don't improve for 100 rounds\n",
      "[50]\tvalid_0's auc: 0.885987\n",
      "[100]\tvalid_0's auc: 0.89287\n",
      "[150]\tvalid_0's auc: 0.896534\n",
      "[200]\tvalid_0's auc: 0.89914\n",
      "[250]\tvalid_0's auc: 0.900615\n",
      "[300]\tvalid_0's auc: 0.901941\n",
      "[350]\tvalid_0's auc: 0.902649\n",
      "[400]\tvalid_0's auc: 0.903302\n",
      "[450]\tvalid_0's auc: 0.903878\n",
      "[500]\tvalid_0's auc: 0.904301\n",
      "[550]\tvalid_0's auc: 0.904641\n",
      "[600]\tvalid_0's auc: 0.90479\n",
      "[650]\tvalid_0's auc: 0.905124\n",
      "[700]\tvalid_0's auc: 0.905361\n",
      "[750]\tvalid_0's auc: 0.90564\n",
      "[800]\tvalid_0's auc: 0.905857\n",
      "[850]\tvalid_0's auc: 0.905894\n",
      "[900]\tvalid_0's auc: 0.90592\n",
      "[950]\tvalid_0's auc: 0.906052\n",
      "[1000]\tvalid_0's auc: 0.906097\n",
      "[1050]\tvalid_0's auc: 0.90623\n",
      "[1100]\tvalid_0's auc: 0.906169\n",
      "[1150]\tvalid_0's auc: 0.906225\n",
      "[1200]\tvalid_0's auc: 0.906223\n",
      "[1250]\tvalid_0's auc: 0.906155\n",
      "[1300]\tvalid_0's auc: 0.906257\n",
      "[1350]\tvalid_0's auc: 0.906291\n",
      "[1400]\tvalid_0's auc: 0.906328\n",
      "[1450]\tvalid_0's auc: 0.906381\n",
      "[1500]\tvalid_0's auc: 0.906384\n"
     ]
    },
    {
     "name": "stderr",
     "output_type": "stream",
     "text": [
      "bagging, val_score: 0.906469:  60%|###############################8                     | 6/10 [00:10<00:07,  1.76s/it]"
     ]
    },
    {
     "name": "stdout",
     "output_type": "stream",
     "text": [
      "[1550]\tvalid_0's auc: 0.906386\n",
      "Early stopping, best iteration is:\n",
      "[1488]\tvalid_0's auc: 0.906408\n"
     ]
    },
    {
     "name": "stderr",
     "output_type": "stream",
     "text": [
      "C:\\Python39\\lib\\site-packages\\lightgbm\\engine.py:181: UserWarning: 'early_stopping_rounds' argument is deprecated and will be removed in a future release of LightGBM. Pass 'early_stopping()' callback via 'callbacks' argument instead.\n",
      "  _log_warning(\"'early_stopping_rounds' argument is deprecated and will be removed in a future release of LightGBM. \"\n",
      "C:\\Python39\\lib\\site-packages\\lightgbm\\engine.py:239: UserWarning: 'verbose_eval' argument is deprecated and will be removed in a future release of LightGBM. Pass 'log_evaluation()' callback via 'callbacks' argument instead.\n",
      "  _log_warning(\"'verbose_eval' argument is deprecated and will be removed in a future release of LightGBM. \"\n"
     ]
    },
    {
     "name": "stdout",
     "output_type": "stream",
     "text": [
      "Training until validation scores don't improve for 100 rounds\n",
      "[50]\tvalid_0's auc: 0.887633\n",
      "[100]\tvalid_0's auc: 0.894484\n",
      "[150]\tvalid_0's auc: 0.897562\n",
      "[200]\tvalid_0's auc: 0.899848\n",
      "[250]\tvalid_0's auc: 0.901237\n",
      "[300]\tvalid_0's auc: 0.902771\n",
      "[350]\tvalid_0's auc: 0.903403\n",
      "[400]\tvalid_0's auc: 0.904007\n",
      "[450]\tvalid_0's auc: 0.904661\n",
      "[500]\tvalid_0's auc: 0.905071\n",
      "[550]\tvalid_0's auc: 0.905327\n",
      "[600]\tvalid_0's auc: 0.905504\n",
      "[650]\tvalid_0's auc: 0.905653\n",
      "[700]\tvalid_0's auc: 0.905718\n",
      "[750]\tvalid_0's auc: 0.906064\n",
      "[800]\tvalid_0's auc: 0.906159\n",
      "[850]\tvalid_0's auc: 0.906199\n",
      "[900]\tvalid_0's auc: 0.906326\n",
      "[950]\tvalid_0's auc: 0.906339\n",
      "[1000]\tvalid_0's auc: 0.906519\n",
      "[1050]\tvalid_0's auc: 0.906496\n",
      "[1100]\tvalid_0's auc: 0.906634\n",
      "[1150]\tvalid_0's auc: 0.906594\n",
      "[1200]\tvalid_0's auc: 0.906655\n",
      "[1250]\tvalid_0's auc: 0.906637\n"
     ]
    },
    {
     "name": "stderr",
     "output_type": "stream",
     "text": [
      "bagging, val_score: 0.906702:  60%|###############################8                     | 6/10 [00:12<00:07,  1.76s/it]"
     ]
    },
    {
     "name": "stdout",
     "output_type": "stream",
     "text": [
      "[1300]\tvalid_0's auc: 0.906618\n",
      "[1350]\tvalid_0's auc: 0.906531\n",
      "Early stopping, best iteration is:\n",
      "[1286]\tvalid_0's auc: 0.906702\n"
     ]
    },
    {
     "name": "stderr",
     "output_type": "stream",
     "text": [
      "bagging, val_score: 0.906702:  70%|#####################################                | 7/10 [00:12<00:05,  1.85s/it]C:\\Python39\\lib\\site-packages\\lightgbm\\engine.py:181: UserWarning: 'early_stopping_rounds' argument is deprecated and will be removed in a future release of LightGBM. Pass 'early_stopping()' callback via 'callbacks' argument instead.\n",
      "  _log_warning(\"'early_stopping_rounds' argument is deprecated and will be removed in a future release of LightGBM. \"\n",
      "C:\\Python39\\lib\\site-packages\\lightgbm\\engine.py:239: UserWarning: 'verbose_eval' argument is deprecated and will be removed in a future release of LightGBM. Pass 'log_evaluation()' callback via 'callbacks' argument instead.\n",
      "  _log_warning(\"'verbose_eval' argument is deprecated and will be removed in a future release of LightGBM. \"\n"
     ]
    },
    {
     "name": "stdout",
     "output_type": "stream",
     "text": [
      "Training until validation scores don't improve for 100 rounds\n",
      "[50]\tvalid_0's auc: 0.886717\n",
      "[100]\tvalid_0's auc: 0.89455\n",
      "[150]\tvalid_0's auc: 0.897844\n",
      "[200]\tvalid_0's auc: 0.900138\n",
      "[250]\tvalid_0's auc: 0.901465\n",
      "[300]\tvalid_0's auc: 0.903012\n",
      "[350]\tvalid_0's auc: 0.90365\n",
      "[400]\tvalid_0's auc: 0.904098\n",
      "[450]\tvalid_0's auc: 0.904644\n",
      "[500]\tvalid_0's auc: 0.904955\n",
      "[550]\tvalid_0's auc: 0.905086\n",
      "[600]\tvalid_0's auc: 0.905404\n",
      "[650]\tvalid_0's auc: 0.905605\n",
      "[700]\tvalid_0's auc: 0.905699\n",
      "[750]\tvalid_0's auc: 0.906069\n",
      "[800]\tvalid_0's auc: 0.906182\n",
      "[850]\tvalid_0's auc: 0.906245\n"
     ]
    },
    {
     "name": "stderr",
     "output_type": "stream",
     "text": [
      "bagging, val_score: 0.906702:  70%|#####################################                | 7/10 [00:13<00:05,  1.85s/it]"
     ]
    },
    {
     "name": "stdout",
     "output_type": "stream",
     "text": [
      "[900]\tvalid_0's auc: 0.906482\n",
      "[950]\tvalid_0's auc: 0.906319\n",
      "[1000]\tvalid_0's auc: 0.906262\n",
      "Early stopping, best iteration is:\n",
      "[909]\tvalid_0's auc: 0.906518\n"
     ]
    },
    {
     "name": "stderr",
     "output_type": "stream",
     "text": [
      "bagging, val_score: 0.906702:  80%|##########################################4          | 8/10 [00:13<00:03,  1.74s/it]C:\\Python39\\lib\\site-packages\\lightgbm\\engine.py:181: UserWarning: 'early_stopping_rounds' argument is deprecated and will be removed in a future release of LightGBM. Pass 'early_stopping()' callback via 'callbacks' argument instead.\n",
      "  _log_warning(\"'early_stopping_rounds' argument is deprecated and will be removed in a future release of LightGBM. \"\n",
      "C:\\Python39\\lib\\site-packages\\lightgbm\\engine.py:239: UserWarning: 'verbose_eval' argument is deprecated and will be removed in a future release of LightGBM. Pass 'log_evaluation()' callback via 'callbacks' argument instead.\n",
      "  _log_warning(\"'verbose_eval' argument is deprecated and will be removed in a future release of LightGBM. \"\n"
     ]
    },
    {
     "name": "stdout",
     "output_type": "stream",
     "text": [
      "Training until validation scores don't improve for 100 rounds\n",
      "[50]\tvalid_0's auc: 0.886903\n",
      "[100]\tvalid_0's auc: 0.893757\n",
      "[150]\tvalid_0's auc: 0.897286\n",
      "[200]\tvalid_0's auc: 0.899709\n",
      "[250]\tvalid_0's auc: 0.901096\n",
      "[300]\tvalid_0's auc: 0.902557\n",
      "[350]\tvalid_0's auc: 0.903418\n",
      "[400]\tvalid_0's auc: 0.903907\n",
      "[450]\tvalid_0's auc: 0.904559\n",
      "[500]\tvalid_0's auc: 0.904985\n",
      "[550]\tvalid_0's auc: 0.905417\n",
      "[600]\tvalid_0's auc: 0.90563\n",
      "[650]\tvalid_0's auc: 0.905799\n",
      "[700]\tvalid_0's auc: 0.905798\n",
      "[750]\tvalid_0's auc: 0.905785\n"
     ]
    },
    {
     "name": "stderr",
     "output_type": "stream",
     "text": [
      "bagging, val_score: 0.906702:  90%|###############################################7     | 9/10 [00:14<00:01,  1.58s/it]"
     ]
    },
    {
     "name": "stdout",
     "output_type": "stream",
     "text": [
      "[800]\tvalid_0's auc: 0.905929\n",
      "[850]\tvalid_0's auc: 0.905851\n",
      "[900]\tvalid_0's auc: 0.905816\n",
      "Early stopping, best iteration is:\n",
      "[806]\tvalid_0's auc: 0.905965\n"
     ]
    },
    {
     "name": "stderr",
     "output_type": "stream",
     "text": [
      "C:\\Python39\\lib\\site-packages\\lightgbm\\engine.py:181: UserWarning: 'early_stopping_rounds' argument is deprecated and will be removed in a future release of LightGBM. Pass 'early_stopping()' callback via 'callbacks' argument instead.\n",
      "  _log_warning(\"'early_stopping_rounds' argument is deprecated and will be removed in a future release of LightGBM. \"\n",
      "C:\\Python39\\lib\\site-packages\\lightgbm\\engine.py:239: UserWarning: 'verbose_eval' argument is deprecated and will be removed in a future release of LightGBM. Pass 'log_evaluation()' callback via 'callbacks' argument instead.\n",
      "  _log_warning(\"'verbose_eval' argument is deprecated and will be removed in a future release of LightGBM. \"\n"
     ]
    },
    {
     "name": "stdout",
     "output_type": "stream",
     "text": [
      "Training until validation scores don't improve for 100 rounds\n",
      "[50]\tvalid_0's auc: 0.88654\n",
      "[100]\tvalid_0's auc: 0.894613\n",
      "[150]\tvalid_0's auc: 0.897744\n",
      "[200]\tvalid_0's auc: 0.899903\n",
      "[250]\tvalid_0's auc: 0.901314\n",
      "[300]\tvalid_0's auc: 0.902641\n",
      "[350]\tvalid_0's auc: 0.903337\n",
      "[400]\tvalid_0's auc: 0.903745\n",
      "[450]\tvalid_0's auc: 0.904347\n",
      "[500]\tvalid_0's auc: 0.904727\n",
      "[550]\tvalid_0's auc: 0.905081\n",
      "[600]\tvalid_0's auc: 0.905377\n",
      "[650]\tvalid_0's auc: 0.905659\n",
      "[700]\tvalid_0's auc: 0.905794\n",
      "[750]\tvalid_0's auc: 0.906014\n",
      "[800]\tvalid_0's auc: 0.906054\n",
      "[850]\tvalid_0's auc: 0.906246\n",
      "[900]\tvalid_0's auc: 0.906379\n",
      "[950]\tvalid_0's auc: 0.906423\n",
      "[1000]\tvalid_0's auc: 0.906496\n",
      "[1050]\tvalid_0's auc: 0.906499\n",
      "[1100]\tvalid_0's auc: 0.906422\n",
      "Early stopping, best iteration is:\n",
      "[1002]\tvalid_0's auc: 0.906512\n"
     ]
    },
    {
     "name": "stderr",
     "output_type": "stream",
     "text": [
      "bagging, val_score: 0.906702: 100%|####################################################| 10/10 [00:16<00:00,  1.65s/it]\n",
      "feature_fraction_stage2, val_score: 0.906702:   0%|                                              | 0/3 [00:00<?, ?it/s]C:\\Python39\\lib\\site-packages\\lightgbm\\engine.py:181: UserWarning: 'early_stopping_rounds' argument is deprecated and will be removed in a future release of LightGBM. Pass 'early_stopping()' callback via 'callbacks' argument instead.\n",
      "  _log_warning(\"'early_stopping_rounds' argument is deprecated and will be removed in a future release of LightGBM. \"\n",
      "C:\\Python39\\lib\\site-packages\\lightgbm\\engine.py:239: UserWarning: 'verbose_eval' argument is deprecated and will be removed in a future release of LightGBM. Pass 'log_evaluation()' callback via 'callbacks' argument instead.\n",
      "  _log_warning(\"'verbose_eval' argument is deprecated and will be removed in a future release of LightGBM. \"\n"
     ]
    },
    {
     "name": "stdout",
     "output_type": "stream",
     "text": [
      "Training until validation scores don't improve for 100 rounds\n",
      "[50]\tvalid_0's auc: 0.888067\n",
      "[100]\tvalid_0's auc: 0.894606\n",
      "[150]\tvalid_0's auc: 0.897588\n",
      "[200]\tvalid_0's auc: 0.899762\n",
      "[250]\tvalid_0's auc: 0.90113\n",
      "[300]\tvalid_0's auc: 0.90255\n",
      "[350]\tvalid_0's auc: 0.903223\n",
      "[400]\tvalid_0's auc: 0.903798\n",
      "[450]\tvalid_0's auc: 0.904333\n",
      "[500]\tvalid_0's auc: 0.904763\n",
      "[550]\tvalid_0's auc: 0.904939\n",
      "[600]\tvalid_0's auc: 0.905084\n",
      "[650]\tvalid_0's auc: 0.905283\n",
      "[700]\tvalid_0's auc: 0.905401\n",
      "[750]\tvalid_0's auc: 0.905682\n",
      "[800]\tvalid_0's auc: 0.9058\n",
      "[850]\tvalid_0's auc: 0.905805\n",
      "[900]\tvalid_0's auc: 0.905959\n",
      "[950]\tvalid_0's auc: 0.906\n",
      "[1000]\tvalid_0's auc: 0.906181\n",
      "[1050]\tvalid_0's auc: 0.906291\n",
      "[1100]\tvalid_0's auc: 0.906424\n"
     ]
    },
    {
     "name": "stderr",
     "output_type": "stream",
     "text": [
      "feature_fraction_stage2, val_score: 0.906702:  33%|############6                         | 1/3 [00:01<00:03,  1.72s/it]"
     ]
    },
    {
     "name": "stdout",
     "output_type": "stream",
     "text": [
      "[1150]\tvalid_0's auc: 0.90646\n",
      "[1200]\tvalid_0's auc: 0.906425\n",
      "Early stopping, best iteration is:\n",
      "[1111]\tvalid_0's auc: 0.906483\n"
     ]
    },
    {
     "name": "stderr",
     "output_type": "stream",
     "text": [
      "C:\\Python39\\lib\\site-packages\\lightgbm\\engine.py:181: UserWarning: 'early_stopping_rounds' argument is deprecated and will be removed in a future release of LightGBM. Pass 'early_stopping()' callback via 'callbacks' argument instead.\n",
      "  _log_warning(\"'early_stopping_rounds' argument is deprecated and will be removed in a future release of LightGBM. \"\n",
      "C:\\Python39\\lib\\site-packages\\lightgbm\\engine.py:239: UserWarning: 'verbose_eval' argument is deprecated and will be removed in a future release of LightGBM. Pass 'log_evaluation()' callback via 'callbacks' argument instead.\n",
      "  _log_warning(\"'verbose_eval' argument is deprecated and will be removed in a future release of LightGBM. \"\n"
     ]
    },
    {
     "name": "stdout",
     "output_type": "stream",
     "text": [
      "Training until validation scores don't improve for 100 rounds\n",
      "[50]\tvalid_0's auc: 0.887499\n",
      "[100]\tvalid_0's auc: 0.893885\n",
      "[150]\tvalid_0's auc: 0.897079\n",
      "[200]\tvalid_0's auc: 0.899317\n",
      "[250]\tvalid_0's auc: 0.900838\n",
      "[300]\tvalid_0's auc: 0.902341\n",
      "[350]\tvalid_0's auc: 0.902946\n",
      "[400]\tvalid_0's auc: 0.903493\n",
      "[450]\tvalid_0's auc: 0.904098\n",
      "[500]\tvalid_0's auc: 0.904445\n",
      "[550]\tvalid_0's auc: 0.904775\n",
      "[600]\tvalid_0's auc: 0.905008\n",
      "[650]\tvalid_0's auc: 0.905193\n",
      "[700]\tvalid_0's auc: 0.905262\n",
      "[750]\tvalid_0's auc: 0.905524\n",
      "[800]\tvalid_0's auc: 0.905551\n",
      "[850]\tvalid_0's auc: 0.905699\n",
      "[900]\tvalid_0's auc: 0.905912\n",
      "[950]\tvalid_0's auc: 0.905928\n",
      "[1000]\tvalid_0's auc: 0.905951\n",
      "[1050]\tvalid_0's auc: 0.906053\n",
      "[1100]\tvalid_0's auc: 0.906087\n",
      "[1150]\tvalid_0's auc: 0.90608\n"
     ]
    },
    {
     "name": "stderr",
     "output_type": "stream",
     "text": [
      "feature_fraction_stage2, val_score: 0.906702:  33%|############6                         | 1/3 [00:03<00:03,  1.72s/it]"
     ]
    },
    {
     "name": "stdout",
     "output_type": "stream",
     "text": [
      "[1200]\tvalid_0's auc: 0.906142\n",
      "[1250]\tvalid_0's auc: 0.906212\n",
      "[1300]\tvalid_0's auc: 0.906069\n",
      "Early stopping, best iteration is:\n",
      "[1220]\tvalid_0's auc: 0.906221\n"
     ]
    },
    {
     "name": "stderr",
     "output_type": "stream",
     "text": [
      "feature_fraction_stage2, val_score: 0.906702:  67%|#########################3            | 2/3 [00:03<00:01,  1.74s/it]C:\\Python39\\lib\\site-packages\\lightgbm\\engine.py:181: UserWarning: 'early_stopping_rounds' argument is deprecated and will be removed in a future release of LightGBM. Pass 'early_stopping()' callback via 'callbacks' argument instead.\n",
      "  _log_warning(\"'early_stopping_rounds' argument is deprecated and will be removed in a future release of LightGBM. \"\n",
      "C:\\Python39\\lib\\site-packages\\lightgbm\\engine.py:239: UserWarning: 'verbose_eval' argument is deprecated and will be removed in a future release of LightGBM. Pass 'log_evaluation()' callback via 'callbacks' argument instead.\n",
      "  _log_warning(\"'verbose_eval' argument is deprecated and will be removed in a future release of LightGBM. \"\n"
     ]
    },
    {
     "name": "stdout",
     "output_type": "stream",
     "text": [
      "Training until validation scores don't improve for 100 rounds\n",
      "[50]\tvalid_0's auc: 0.887586\n",
      "[100]\tvalid_0's auc: 0.894086\n",
      "[150]\tvalid_0's auc: 0.897255\n",
      "[200]\tvalid_0's auc: 0.899567\n",
      "[250]\tvalid_0's auc: 0.901143\n",
      "[300]\tvalid_0's auc: 0.902475\n",
      "[350]\tvalid_0's auc: 0.903128\n",
      "[400]\tvalid_0's auc: 0.903655\n",
      "[450]\tvalid_0's auc: 0.904169\n",
      "[500]\tvalid_0's auc: 0.904647\n",
      "[550]\tvalid_0's auc: 0.905079\n",
      "[600]\tvalid_0's auc: 0.905178\n",
      "[650]\tvalid_0's auc: 0.905374\n",
      "[700]\tvalid_0's auc: 0.905397\n",
      "[750]\tvalid_0's auc: 0.905682\n",
      "[800]\tvalid_0's auc: 0.905815\n",
      "[850]\tvalid_0's auc: 0.905822\n",
      "[900]\tvalid_0's auc: 0.906022\n",
      "[950]\tvalid_0's auc: 0.906087\n",
      "[1000]\tvalid_0's auc: 0.906242\n",
      "[1050]\tvalid_0's auc: 0.906423\n",
      "[1100]\tvalid_0's auc: 0.906484\n",
      "[1150]\tvalid_0's auc: 0.906497\n",
      "[1200]\tvalid_0's auc: 0.906511\n",
      "[1250]\tvalid_0's auc: 0.906593\n",
      "[1300]\tvalid_0's auc: 0.906605\n"
     ]
    },
    {
     "name": "stderr",
     "output_type": "stream",
     "text": [
      "feature_fraction_stage2, val_score: 0.906702: 100%|######################################| 3/3 [00:05<00:00,  1.79s/it]\n"
     ]
    },
    {
     "name": "stdout",
     "output_type": "stream",
     "text": [
      "[1350]\tvalid_0's auc: 0.9065\n",
      "Early stopping, best iteration is:\n",
      "[1269]\tvalid_0's auc: 0.90662\n"
     ]
    },
    {
     "name": "stderr",
     "output_type": "stream",
     "text": [
      "regularization_factors, val_score: 0.906702:   0%|                                              | 0/20 [00:00<?, ?it/s]"
     ]
    },
    {
     "name": "stdout",
     "output_type": "stream",
     "text": [
      "Training until validation scores don't improve for 100 rounds\n"
     ]
    },
    {
     "name": "stderr",
     "output_type": "stream",
     "text": [
      "C:\\Python39\\lib\\site-packages\\lightgbm\\engine.py:181: UserWarning: 'early_stopping_rounds' argument is deprecated and will be removed in a future release of LightGBM. Pass 'early_stopping()' callback via 'callbacks' argument instead.\n",
      "  _log_warning(\"'early_stopping_rounds' argument is deprecated and will be removed in a future release of LightGBM. \"\n",
      "C:\\Python39\\lib\\site-packages\\lightgbm\\engine.py:239: UserWarning: 'verbose_eval' argument is deprecated and will be removed in a future release of LightGBM. Pass 'log_evaluation()' callback via 'callbacks' argument instead.\n",
      "  _log_warning(\"'verbose_eval' argument is deprecated and will be removed in a future release of LightGBM. \"\n"
     ]
    },
    {
     "name": "stdout",
     "output_type": "stream",
     "text": [
      "[50]\tvalid_0's auc: 0.887542\n",
      "[100]\tvalid_0's auc: 0.894714\n",
      "[150]\tvalid_0's auc: 0.897871\n",
      "[200]\tvalid_0's auc: 0.900012\n",
      "[250]\tvalid_0's auc: 0.901438\n",
      "[300]\tvalid_0's auc: 0.902981\n",
      "[350]\tvalid_0's auc: 0.903546\n",
      "[400]\tvalid_0's auc: 0.904094\n",
      "[450]\tvalid_0's auc: 0.904739\n",
      "[500]\tvalid_0's auc: 0.905151\n",
      "[550]\tvalid_0's auc: 0.905394\n",
      "[600]\tvalid_0's auc: 0.905628\n",
      "[650]\tvalid_0's auc: 0.905724\n",
      "[700]\tvalid_0's auc: 0.905836\n",
      "[750]\tvalid_0's auc: 0.906098\n",
      "[800]\tvalid_0's auc: 0.906187\n",
      "[850]\tvalid_0's auc: 0.906186\n",
      "[900]\tvalid_0's auc: 0.906356\n",
      "[950]\tvalid_0's auc: 0.906345\n",
      "[1000]\tvalid_0's auc: 0.90648\n",
      "[1050]\tvalid_0's auc: 0.906504\n",
      "[1100]\tvalid_0's auc: 0.906633\n",
      "[1150]\tvalid_0's auc: 0.906646\n",
      "[1200]\tvalid_0's auc: 0.906739\n"
     ]
    },
    {
     "name": "stderr",
     "output_type": "stream",
     "text": [
      "regularization_factors, val_score: 0.906761:   5%|#9                                    | 1/20 [00:01<00:36,  1.90s/it]"
     ]
    },
    {
     "name": "stdout",
     "output_type": "stream",
     "text": [
      "[1250]\tvalid_0's auc: 0.906699\n",
      "Early stopping, best iteration is:\n",
      "[1163]\tvalid_0's auc: 0.906761\n",
      "Training until validation scores don't improve for 100 rounds\n"
     ]
    },
    {
     "name": "stderr",
     "output_type": "stream",
     "text": [
      "C:\\Python39\\lib\\site-packages\\lightgbm\\engine.py:181: UserWarning: 'early_stopping_rounds' argument is deprecated and will be removed in a future release of LightGBM. Pass 'early_stopping()' callback via 'callbacks' argument instead.\n",
      "  _log_warning(\"'early_stopping_rounds' argument is deprecated and will be removed in a future release of LightGBM. \"\n",
      "C:\\Python39\\lib\\site-packages\\lightgbm\\engine.py:239: UserWarning: 'verbose_eval' argument is deprecated and will be removed in a future release of LightGBM. Pass 'log_evaluation()' callback via 'callbacks' argument instead.\n",
      "  _log_warning(\"'verbose_eval' argument is deprecated and will be removed in a future release of LightGBM. \"\n"
     ]
    },
    {
     "name": "stdout",
     "output_type": "stream",
     "text": [
      "[50]\tvalid_0's auc: 0.887631\n",
      "[100]\tvalid_0's auc: 0.894482\n",
      "[150]\tvalid_0's auc: 0.897558\n",
      "[200]\tvalid_0's auc: 0.899814\n",
      "[250]\tvalid_0's auc: 0.9012\n",
      "[300]\tvalid_0's auc: 0.902718\n",
      "[350]\tvalid_0's auc: 0.903265\n",
      "[400]\tvalid_0's auc: 0.903874\n",
      "[450]\tvalid_0's auc: 0.904516\n",
      "[500]\tvalid_0's auc: 0.904903\n",
      "[550]\tvalid_0's auc: 0.905138\n",
      "[600]\tvalid_0's auc: 0.905309\n",
      "[650]\tvalid_0's auc: 0.905497\n",
      "[700]\tvalid_0's auc: 0.905621\n",
      "[750]\tvalid_0's auc: 0.905908\n",
      "[800]\tvalid_0's auc: 0.905972\n",
      "[850]\tvalid_0's auc: 0.906051\n",
      "[900]\tvalid_0's auc: 0.906223\n",
      "[950]\tvalid_0's auc: 0.906223\n",
      "[1000]\tvalid_0's auc: 0.906405\n",
      "[1050]\tvalid_0's auc: 0.90643\n",
      "[1100]\tvalid_0's auc: 0.906495\n",
      "[1150]\tvalid_0's auc: 0.906521\n",
      "[1200]\tvalid_0's auc: 0.906534\n",
      "[1250]\tvalid_0's auc: 0.906456\n",
      "Early stopping, best iteration is:\n",
      "[1163]\tvalid_0's auc: 0.906567\n"
     ]
    },
    {
     "name": "stderr",
     "output_type": "stream",
     "text": [
      "regularization_factors, val_score: 0.906761:  10%|###8                                  | 2/20 [00:03<00:32,  1.83s/it]C:\\Python39\\lib\\site-packages\\lightgbm\\engine.py:181: UserWarning: 'early_stopping_rounds' argument is deprecated and will be removed in a future release of LightGBM. Pass 'early_stopping()' callback via 'callbacks' argument instead.\n",
      "  _log_warning(\"'early_stopping_rounds' argument is deprecated and will be removed in a future release of LightGBM. \"\n",
      "C:\\Python39\\lib\\site-packages\\lightgbm\\engine.py:239: UserWarning: 'verbose_eval' argument is deprecated and will be removed in a future release of LightGBM. Pass 'log_evaluation()' callback via 'callbacks' argument instead.\n",
      "  _log_warning(\"'verbose_eval' argument is deprecated and will be removed in a future release of LightGBM. \"\n"
     ]
    },
    {
     "name": "stdout",
     "output_type": "stream",
     "text": [
      "Training until validation scores don't improve for 100 rounds\n",
      "[50]\tvalid_0's auc: 0.887633\n",
      "[100]\tvalid_0's auc: 0.894484\n",
      "[150]\tvalid_0's auc: 0.897562\n",
      "[200]\tvalid_0's auc: 0.899848\n",
      "[250]\tvalid_0's auc: 0.901237\n",
      "[300]\tvalid_0's auc: 0.902771\n",
      "[350]\tvalid_0's auc: 0.903403\n",
      "[400]\tvalid_0's auc: 0.904007\n",
      "[450]\tvalid_0's auc: 0.904661\n",
      "[500]\tvalid_0's auc: 0.905071\n",
      "[550]\tvalid_0's auc: 0.905327\n",
      "[600]\tvalid_0's auc: 0.905504\n",
      "[650]\tvalid_0's auc: 0.905653\n",
      "[700]\tvalid_0's auc: 0.905718\n",
      "[750]\tvalid_0's auc: 0.906064\n",
      "[800]\tvalid_0's auc: 0.906159\n",
      "[850]\tvalid_0's auc: 0.906199\n",
      "[900]\tvalid_0's auc: 0.906326\n",
      "[950]\tvalid_0's auc: 0.906339\n",
      "[1000]\tvalid_0's auc: 0.906519\n",
      "[1050]\tvalid_0's auc: 0.906496\n",
      "[1100]\tvalid_0's auc: 0.906634\n",
      "[1150]\tvalid_0's auc: 0.906594\n",
      "[1200]\tvalid_0's auc: 0.906655\n",
      "[1250]\tvalid_0's auc: 0.906637\n",
      "[1300]\tvalid_0's auc: 0.906618\n",
      "[1350]\tvalid_0's auc: 0.906531\n",
      "Early stopping, best iteration is:\n",
      "[1286]\tvalid_0's auc: 0.906703\n"
     ]
    },
    {
     "name": "stderr",
     "output_type": "stream",
     "text": [
      "regularization_factors, val_score: 0.906761:  15%|#####7                                | 3/20 [00:05<00:32,  1.91s/it]C:\\Python39\\lib\\site-packages\\lightgbm\\engine.py:181: UserWarning: 'early_stopping_rounds' argument is deprecated and will be removed in a future release of LightGBM. Pass 'early_stopping()' callback via 'callbacks' argument instead.\n",
      "  _log_warning(\"'early_stopping_rounds' argument is deprecated and will be removed in a future release of LightGBM. \"\n",
      "C:\\Python39\\lib\\site-packages\\lightgbm\\engine.py:239: UserWarning: 'verbose_eval' argument is deprecated and will be removed in a future release of LightGBM. Pass 'log_evaluation()' callback via 'callbacks' argument instead.\n",
      "  _log_warning(\"'verbose_eval' argument is deprecated and will be removed in a future release of LightGBM. \"\n"
     ]
    },
    {
     "name": "stdout",
     "output_type": "stream",
     "text": [
      "Training until validation scores don't improve for 100 rounds\n",
      "[50]\tvalid_0's auc: 0.887548\n",
      "[100]\tvalid_0's auc: 0.894503\n",
      "[150]\tvalid_0's auc: 0.897533\n",
      "[200]\tvalid_0's auc: 0.89976\n",
      "[250]\tvalid_0's auc: 0.901295\n",
      "[300]\tvalid_0's auc: 0.90288\n",
      "[350]\tvalid_0's auc: 0.903513\n",
      "[400]\tvalid_0's auc: 0.904083\n",
      "[450]\tvalid_0's auc: 0.904747\n",
      "[500]\tvalid_0's auc: 0.905104\n",
      "[550]\tvalid_0's auc: 0.905401\n",
      "[600]\tvalid_0's auc: 0.905705\n",
      "[650]\tvalid_0's auc: 0.905898\n",
      "[700]\tvalid_0's auc: 0.906017\n",
      "[750]\tvalid_0's auc: 0.906294\n",
      "[800]\tvalid_0's auc: 0.906305\n",
      "[850]\tvalid_0's auc: 0.906378\n",
      "[900]\tvalid_0's auc: 0.9065\n",
      "[950]\tvalid_0's auc: 0.906588\n",
      "[1000]\tvalid_0's auc: 0.906704\n",
      "[1050]\tvalid_0's auc: 0.906851\n",
      "[1100]\tvalid_0's auc: 0.906911\n",
      "[1150]\tvalid_0's auc: 0.906897\n",
      "[1200]\tvalid_0's auc: 0.906921\n",
      "[1250]\tvalid_0's auc: 0.906848\n",
      "Early stopping, best iteration is:\n",
      "[1164]\tvalid_0's auc: 0.906994\n"
     ]
    },
    {
     "name": "stderr",
     "output_type": "stream",
     "text": [
      "regularization_factors, val_score: 0.906994:  20%|#######6                              | 4/20 [00:07<00:30,  1.88s/it]C:\\Python39\\lib\\site-packages\\lightgbm\\engine.py:181: UserWarning: 'early_stopping_rounds' argument is deprecated and will be removed in a future release of LightGBM. Pass 'early_stopping()' callback via 'callbacks' argument instead.\n",
      "  _log_warning(\"'early_stopping_rounds' argument is deprecated and will be removed in a future release of LightGBM. \"\n",
      "C:\\Python39\\lib\\site-packages\\lightgbm\\engine.py:239: UserWarning: 'verbose_eval' argument is deprecated and will be removed in a future release of LightGBM. Pass 'log_evaluation()' callback via 'callbacks' argument instead.\n",
      "  _log_warning(\"'verbose_eval' argument is deprecated and will be removed in a future release of LightGBM. \"\n"
     ]
    },
    {
     "name": "stdout",
     "output_type": "stream",
     "text": [
      "Training until validation scores don't improve for 100 rounds\n",
      "[50]\tvalid_0's auc: 0.887622\n",
      "[100]\tvalid_0's auc: 0.894506\n",
      "[150]\tvalid_0's auc: 0.897544\n",
      "[200]\tvalid_0's auc: 0.899828\n",
      "[250]\tvalid_0's auc: 0.901333\n",
      "[300]\tvalid_0's auc: 0.902847\n",
      "[350]\tvalid_0's auc: 0.903424\n",
      "[400]\tvalid_0's auc: 0.903933\n",
      "[450]\tvalid_0's auc: 0.90461\n",
      "[500]\tvalid_0's auc: 0.905066\n",
      "[550]\tvalid_0's auc: 0.905314\n",
      "[600]\tvalid_0's auc: 0.905539\n",
      "[650]\tvalid_0's auc: 0.905676\n",
      "[700]\tvalid_0's auc: 0.905782\n",
      "[750]\tvalid_0's auc: 0.906046\n",
      "[800]\tvalid_0's auc: 0.906122\n",
      "[850]\tvalid_0's auc: 0.906196\n",
      "[900]\tvalid_0's auc: 0.906316\n",
      "[950]\tvalid_0's auc: 0.906398\n",
      "[1000]\tvalid_0's auc: 0.906472\n",
      "[1050]\tvalid_0's auc: 0.906512\n",
      "[1100]\tvalid_0's auc: 0.90665\n",
      "[1150]\tvalid_0's auc: 0.90664\n",
      "[1200]\tvalid_0's auc: 0.906687\n",
      "[1250]\tvalid_0's auc: 0.906681\n",
      "[1300]\tvalid_0's auc: 0.906739\n",
      "[1350]\tvalid_0's auc: 0.906676\n"
     ]
    },
    {
     "name": "stderr",
     "output_type": "stream",
     "text": [
      "regularization_factors, val_score: 0.906994:  25%|#########5                            | 5/20 [00:09<00:28,  1.89s/it]"
     ]
    },
    {
     "name": "stdout",
     "output_type": "stream",
     "text": [
      "Early stopping, best iteration is:\n",
      "[1285]\tvalid_0's auc: 0.906783\n",
      "Training until validation scores don't improve for 100 rounds\n"
     ]
    },
    {
     "name": "stderr",
     "output_type": "stream",
     "text": [
      "C:\\Python39\\lib\\site-packages\\lightgbm\\engine.py:181: UserWarning: 'early_stopping_rounds' argument is deprecated and will be removed in a future release of LightGBM. Pass 'early_stopping()' callback via 'callbacks' argument instead.\n",
      "  _log_warning(\"'early_stopping_rounds' argument is deprecated and will be removed in a future release of LightGBM. \"\n",
      "C:\\Python39\\lib\\site-packages\\lightgbm\\engine.py:239: UserWarning: 'verbose_eval' argument is deprecated and will be removed in a future release of LightGBM. Pass 'log_evaluation()' callback via 'callbacks' argument instead.\n",
      "  _log_warning(\"'verbose_eval' argument is deprecated and will be removed in a future release of LightGBM. \"\n"
     ]
    },
    {
     "name": "stdout",
     "output_type": "stream",
     "text": [
      "[50]\tvalid_0's auc: 0.887618\n",
      "[100]\tvalid_0's auc: 0.894518\n",
      "[150]\tvalid_0's auc: 0.897635\n",
      "[200]\tvalid_0's auc: 0.899787\n",
      "[250]\tvalid_0's auc: 0.901365\n",
      "[300]\tvalid_0's auc: 0.902918\n",
      "[350]\tvalid_0's auc: 0.903576\n",
      "[400]\tvalid_0's auc: 0.904033\n",
      "[450]\tvalid_0's auc: 0.904684\n",
      "[500]\tvalid_0's auc: 0.905144\n",
      "[550]\tvalid_0's auc: 0.905396\n",
      "[600]\tvalid_0's auc: 0.905648\n",
      "[650]\tvalid_0's auc: 0.905704\n",
      "[700]\tvalid_0's auc: 0.905787\n",
      "[750]\tvalid_0's auc: 0.906032\n",
      "[800]\tvalid_0's auc: 0.906123\n",
      "[850]\tvalid_0's auc: 0.906184\n",
      "[900]\tvalid_0's auc: 0.906328\n",
      "[950]\tvalid_0's auc: 0.906388\n",
      "[1000]\tvalid_0's auc: 0.906572\n",
      "[1050]\tvalid_0's auc: 0.906588\n",
      "[1100]\tvalid_0's auc: 0.906633\n",
      "[1150]\tvalid_0's auc: 0.906625\n"
     ]
    },
    {
     "name": "stderr",
     "output_type": "stream",
     "text": [
      "regularization_factors, val_score: 0.906994:  30%|###########4                          | 6/20 [00:11<00:26,  1.87s/it]"
     ]
    },
    {
     "name": "stdout",
     "output_type": "stream",
     "text": [
      "[1200]\tvalid_0's auc: 0.906592\n",
      "[1250]\tvalid_0's auc: 0.906646\n",
      "Early stopping, best iteration is:\n",
      "[1161]\tvalid_0's auc: 0.9067\n"
     ]
    },
    {
     "name": "stderr",
     "output_type": "stream",
     "text": [
      "C:\\Python39\\lib\\site-packages\\lightgbm\\engine.py:181: UserWarning: 'early_stopping_rounds' argument is deprecated and will be removed in a future release of LightGBM. Pass 'early_stopping()' callback via 'callbacks' argument instead.\n",
      "  _log_warning(\"'early_stopping_rounds' argument is deprecated and will be removed in a future release of LightGBM. \"\n",
      "C:\\Python39\\lib\\site-packages\\lightgbm\\engine.py:239: UserWarning: 'verbose_eval' argument is deprecated and will be removed in a future release of LightGBM. Pass 'log_evaluation()' callback via 'callbacks' argument instead.\n",
      "  _log_warning(\"'verbose_eval' argument is deprecated and will be removed in a future release of LightGBM. \"\n"
     ]
    },
    {
     "name": "stdout",
     "output_type": "stream",
     "text": [
      "Training until validation scores don't improve for 100 rounds\n",
      "[50]\tvalid_0's auc: 0.887633\n",
      "[100]\tvalid_0's auc: 0.894484\n",
      "[150]\tvalid_0's auc: 0.897562\n",
      "[200]\tvalid_0's auc: 0.899848\n",
      "[250]\tvalid_0's auc: 0.901237\n",
      "[300]\tvalid_0's auc: 0.902771\n",
      "[350]\tvalid_0's auc: 0.903403\n",
      "[400]\tvalid_0's auc: 0.904007\n",
      "[450]\tvalid_0's auc: 0.904661\n",
      "[500]\tvalid_0's auc: 0.905071\n",
      "[550]\tvalid_0's auc: 0.905327\n",
      "[600]\tvalid_0's auc: 0.905504\n",
      "[650]\tvalid_0's auc: 0.905653\n",
      "[700]\tvalid_0's auc: 0.905718\n",
      "[750]\tvalid_0's auc: 0.906064\n",
      "[800]\tvalid_0's auc: 0.906159\n",
      "[850]\tvalid_0's auc: 0.906199\n",
      "[900]\tvalid_0's auc: 0.906326\n",
      "[950]\tvalid_0's auc: 0.906339\n",
      "[1000]\tvalid_0's auc: 0.906519\n",
      "[1050]\tvalid_0's auc: 0.906496\n",
      "[1100]\tvalid_0's auc: 0.906634\n",
      "[1150]\tvalid_0's auc: 0.906594\n",
      "[1200]\tvalid_0's auc: 0.906655\n",
      "[1250]\tvalid_0's auc: 0.906637\n",
      "[1300]\tvalid_0's auc: 0.906618\n"
     ]
    },
    {
     "name": "stderr",
     "output_type": "stream",
     "text": [
      "regularization_factors, val_score: 0.906994:  35%|#############3                        | 7/20 [00:13<00:24,  1.89s/it]"
     ]
    },
    {
     "name": "stdout",
     "output_type": "stream",
     "text": [
      "[1350]\tvalid_0's auc: 0.906531\n",
      "Early stopping, best iteration is:\n",
      "[1286]\tvalid_0's auc: 0.906703\n"
     ]
    },
    {
     "name": "stderr",
     "output_type": "stream",
     "text": [
      "C:\\Python39\\lib\\site-packages\\lightgbm\\engine.py:181: UserWarning: 'early_stopping_rounds' argument is deprecated and will be removed in a future release of LightGBM. Pass 'early_stopping()' callback via 'callbacks' argument instead.\n",
      "  _log_warning(\"'early_stopping_rounds' argument is deprecated and will be removed in a future release of LightGBM. \"\n",
      "C:\\Python39\\lib\\site-packages\\lightgbm\\engine.py:239: UserWarning: 'verbose_eval' argument is deprecated and will be removed in a future release of LightGBM. Pass 'log_evaluation()' callback via 'callbacks' argument instead.\n",
      "  _log_warning(\"'verbose_eval' argument is deprecated and will be removed in a future release of LightGBM. \"\n"
     ]
    },
    {
     "name": "stdout",
     "output_type": "stream",
     "text": [
      "Training until validation scores don't improve for 100 rounds\n",
      "[50]\tvalid_0's auc: 0.887633\n",
      "[100]\tvalid_0's auc: 0.894484\n",
      "[150]\tvalid_0's auc: 0.897562\n",
      "[200]\tvalid_0's auc: 0.899848\n",
      "[250]\tvalid_0's auc: 0.901237\n",
      "[300]\tvalid_0's auc: 0.902771\n",
      "[350]\tvalid_0's auc: 0.903403\n",
      "[400]\tvalid_0's auc: 0.904007\n",
      "[450]\tvalid_0's auc: 0.904661\n",
      "[500]\tvalid_0's auc: 0.905071\n",
      "[550]\tvalid_0's auc: 0.905327\n",
      "[600]\tvalid_0's auc: 0.905504\n",
      "[650]\tvalid_0's auc: 0.905653\n",
      "[700]\tvalid_0's auc: 0.905718\n",
      "[750]\tvalid_0's auc: 0.906064\n",
      "[800]\tvalid_0's auc: 0.906159\n",
      "[850]\tvalid_0's auc: 0.906199\n",
      "[900]\tvalid_0's auc: 0.906326\n",
      "[950]\tvalid_0's auc: 0.906339\n",
      "[1000]\tvalid_0's auc: 0.906519\n",
      "[1050]\tvalid_0's auc: 0.906496\n",
      "[1100]\tvalid_0's auc: 0.906634\n",
      "[1150]\tvalid_0's auc: 0.906594\n",
      "[1200]\tvalid_0's auc: 0.906655\n",
      "[1250]\tvalid_0's auc: 0.906637\n",
      "[1300]\tvalid_0's auc: 0.906618\n"
     ]
    },
    {
     "name": "stderr",
     "output_type": "stream",
     "text": [
      "regularization_factors, val_score: 0.906994:  40%|###############2                      | 8/20 [00:15<00:23,  1.94s/it]"
     ]
    },
    {
     "name": "stdout",
     "output_type": "stream",
     "text": [
      "[1350]\tvalid_0's auc: 0.906531\n",
      "Early stopping, best iteration is:\n",
      "[1286]\tvalid_0's auc: 0.906703\n",
      "Training until validation scores don't improve for 100 rounds\n"
     ]
    },
    {
     "name": "stderr",
     "output_type": "stream",
     "text": [
      "C:\\Python39\\lib\\site-packages\\lightgbm\\engine.py:181: UserWarning: 'early_stopping_rounds' argument is deprecated and will be removed in a future release of LightGBM. Pass 'early_stopping()' callback via 'callbacks' argument instead.\n",
      "  _log_warning(\"'early_stopping_rounds' argument is deprecated and will be removed in a future release of LightGBM. \"\n",
      "C:\\Python39\\lib\\site-packages\\lightgbm\\engine.py:239: UserWarning: 'verbose_eval' argument is deprecated and will be removed in a future release of LightGBM. Pass 'log_evaluation()' callback via 'callbacks' argument instead.\n",
      "  _log_warning(\"'verbose_eval' argument is deprecated and will be removed in a future release of LightGBM. \"\n"
     ]
    },
    {
     "name": "stdout",
     "output_type": "stream",
     "text": [
      "[50]\tvalid_0's auc: 0.887633\n",
      "[100]\tvalid_0's auc: 0.894484\n",
      "[150]\tvalid_0's auc: 0.897562\n",
      "[200]\tvalid_0's auc: 0.899848\n",
      "[250]\tvalid_0's auc: 0.901237\n",
      "[300]\tvalid_0's auc: 0.902771\n",
      "[350]\tvalid_0's auc: 0.903403\n",
      "[400]\tvalid_0's auc: 0.904007\n",
      "[450]\tvalid_0's auc: 0.904661\n",
      "[500]\tvalid_0's auc: 0.905071\n",
      "[550]\tvalid_0's auc: 0.905327\n",
      "[600]\tvalid_0's auc: 0.905504\n",
      "[650]\tvalid_0's auc: 0.905653\n",
      "[700]\tvalid_0's auc: 0.905718\n",
      "[750]\tvalid_0's auc: 0.906064\n",
      "[800]\tvalid_0's auc: 0.906159\n",
      "[850]\tvalid_0's auc: 0.906199\n",
      "[900]\tvalid_0's auc: 0.906326\n",
      "[950]\tvalid_0's auc: 0.906339\n",
      "[1000]\tvalid_0's auc: 0.906519\n",
      "[1050]\tvalid_0's auc: 0.906496\n",
      "[1100]\tvalid_0's auc: 0.906634\n",
      "[1150]\tvalid_0's auc: 0.906594\n",
      "[1200]\tvalid_0's auc: 0.906655\n",
      "[1250]\tvalid_0's auc: 0.906637\n",
      "[1300]\tvalid_0's auc: 0.906618\n",
      "[1350]\tvalid_0's auc: 0.906531\n"
     ]
    },
    {
     "name": "stderr",
     "output_type": "stream",
     "text": [
      "regularization_factors, val_score: 0.906994:  45%|#################1                    | 9/20 [00:17<00:21,  1.93s/it]"
     ]
    },
    {
     "name": "stdout",
     "output_type": "stream",
     "text": [
      "Early stopping, best iteration is:\n",
      "[1286]\tvalid_0's auc: 0.906702\n",
      "Training until validation scores don't improve for 100 rounds\n"
     ]
    },
    {
     "name": "stderr",
     "output_type": "stream",
     "text": [
      "C:\\Python39\\lib\\site-packages\\lightgbm\\engine.py:181: UserWarning: 'early_stopping_rounds' argument is deprecated and will be removed in a future release of LightGBM. Pass 'early_stopping()' callback via 'callbacks' argument instead.\n",
      "  _log_warning(\"'early_stopping_rounds' argument is deprecated and will be removed in a future release of LightGBM. \"\n",
      "C:\\Python39\\lib\\site-packages\\lightgbm\\engine.py:239: UserWarning: 'verbose_eval' argument is deprecated and will be removed in a future release of LightGBM. Pass 'log_evaluation()' callback via 'callbacks' argument instead.\n",
      "  _log_warning(\"'verbose_eval' argument is deprecated and will be removed in a future release of LightGBM. \"\n"
     ]
    },
    {
     "name": "stdout",
     "output_type": "stream",
     "text": [
      "[50]\tvalid_0's auc: 0.887633\n",
      "[100]\tvalid_0's auc: 0.894484\n",
      "[150]\tvalid_0's auc: 0.897562\n",
      "[200]\tvalid_0's auc: 0.899848\n",
      "[250]\tvalid_0's auc: 0.901237\n",
      "[300]\tvalid_0's auc: 0.902771\n",
      "[350]\tvalid_0's auc: 0.903403\n",
      "[400]\tvalid_0's auc: 0.904007\n",
      "[450]\tvalid_0's auc: 0.904661\n",
      "[500]\tvalid_0's auc: 0.905071\n",
      "[550]\tvalid_0's auc: 0.905327\n",
      "[600]\tvalid_0's auc: 0.905504\n",
      "[650]\tvalid_0's auc: 0.905653\n",
      "[700]\tvalid_0's auc: 0.905718\n",
      "[750]\tvalid_0's auc: 0.906064\n",
      "[800]\tvalid_0's auc: 0.906159\n",
      "[850]\tvalid_0's auc: 0.906199\n",
      "[900]\tvalid_0's auc: 0.906326\n",
      "[950]\tvalid_0's auc: 0.906339\n",
      "[1000]\tvalid_0's auc: 0.906512\n",
      "[1050]\tvalid_0's auc: 0.906492\n",
      "[1100]\tvalid_0's auc: 0.90663\n",
      "[1150]\tvalid_0's auc: 0.906616\n",
      "[1200]\tvalid_0's auc: 0.90664\n",
      "[1250]\tvalid_0's auc: 0.906627\n",
      "Early stopping, best iteration is:\n",
      "[1163]\tvalid_0's auc: 0.906711\n"
     ]
    },
    {
     "name": "stderr",
     "output_type": "stream",
     "text": [
      "regularization_factors, val_score: 0.906994:  50%|##################5                  | 10/20 [00:18<00:19,  1.90s/it]C:\\Python39\\lib\\site-packages\\lightgbm\\engine.py:181: UserWarning: 'early_stopping_rounds' argument is deprecated and will be removed in a future release of LightGBM. Pass 'early_stopping()' callback via 'callbacks' argument instead.\n",
      "  _log_warning(\"'early_stopping_rounds' argument is deprecated and will be removed in a future release of LightGBM. \"\n",
      "C:\\Python39\\lib\\site-packages\\lightgbm\\engine.py:239: UserWarning: 'verbose_eval' argument is deprecated and will be removed in a future release of LightGBM. Pass 'log_evaluation()' callback via 'callbacks' argument instead.\n",
      "  _log_warning(\"'verbose_eval' argument is deprecated and will be removed in a future release of LightGBM. \"\n"
     ]
    },
    {
     "name": "stdout",
     "output_type": "stream",
     "text": [
      "Training until validation scores don't improve for 100 rounds\n",
      "[50]\tvalid_0's auc: 0.885961\n",
      "[100]\tvalid_0's auc: 0.893501\n",
      "[150]\tvalid_0's auc: 0.896734\n",
      "[200]\tvalid_0's auc: 0.899067\n",
      "[250]\tvalid_0's auc: 0.900551\n",
      "[300]\tvalid_0's auc: 0.901931\n",
      "[350]\tvalid_0's auc: 0.902637\n",
      "[400]\tvalid_0's auc: 0.90325\n",
      "[450]\tvalid_0's auc: 0.903857\n",
      "[500]\tvalid_0's auc: 0.904114\n",
      "[550]\tvalid_0's auc: 0.904401\n",
      "[600]\tvalid_0's auc: 0.904611\n",
      "[650]\tvalid_0's auc: 0.904899\n",
      "[700]\tvalid_0's auc: 0.905086\n",
      "[750]\tvalid_0's auc: 0.90527\n",
      "[800]\tvalid_0's auc: 0.905371\n",
      "[850]\tvalid_0's auc: 0.905473\n",
      "[900]\tvalid_0's auc: 0.905612\n",
      "[950]\tvalid_0's auc: 0.90564\n",
      "[1000]\tvalid_0's auc: 0.905802\n",
      "[1050]\tvalid_0's auc: 0.905903\n",
      "[1100]\tvalid_0's auc: 0.90603\n",
      "[1150]\tvalid_0's auc: 0.906136\n",
      "[1200]\tvalid_0's auc: 0.90612\n",
      "[1250]\tvalid_0's auc: 0.906083\n",
      "Early stopping, best iteration is:\n",
      "[1152]\tvalid_0's auc: 0.906152\n"
     ]
    },
    {
     "name": "stderr",
     "output_type": "stream",
     "text": [
      "regularization_factors, val_score: 0.906994:  55%|####################3                | 11/20 [00:20<00:17,  1.90s/it]C:\\Python39\\lib\\site-packages\\lightgbm\\engine.py:181: UserWarning: 'early_stopping_rounds' argument is deprecated and will be removed in a future release of LightGBM. Pass 'early_stopping()' callback via 'callbacks' argument instead.\n",
      "  _log_warning(\"'early_stopping_rounds' argument is deprecated and will be removed in a future release of LightGBM. \"\n",
      "C:\\Python39\\lib\\site-packages\\lightgbm\\engine.py:239: UserWarning: 'verbose_eval' argument is deprecated and will be removed in a future release of LightGBM. Pass 'log_evaluation()' callback via 'callbacks' argument instead.\n",
      "  _log_warning(\"'verbose_eval' argument is deprecated and will be removed in a future release of LightGBM. \"\n"
     ]
    },
    {
     "name": "stdout",
     "output_type": "stream",
     "text": [
      "Training until validation scores don't improve for 100 rounds\n",
      "[50]\tvalid_0's auc: 0.887627\n",
      "[100]\tvalid_0's auc: 0.894481\n",
      "[150]\tvalid_0's auc: 0.89756\n",
      "[200]\tvalid_0's auc: 0.899844\n",
      "[250]\tvalid_0's auc: 0.901233\n",
      "[300]\tvalid_0's auc: 0.902765\n",
      "[350]\tvalid_0's auc: 0.903466\n",
      "[400]\tvalid_0's auc: 0.903991\n",
      "[450]\tvalid_0's auc: 0.90465\n",
      "[500]\tvalid_0's auc: 0.905021\n",
      "[550]\tvalid_0's auc: 0.90528\n",
      "[600]\tvalid_0's auc: 0.905423\n",
      "[650]\tvalid_0's auc: 0.90561\n",
      "[700]\tvalid_0's auc: 0.905722\n",
      "[750]\tvalid_0's auc: 0.905994\n",
      "[800]\tvalid_0's auc: 0.906125\n",
      "[850]\tvalid_0's auc: 0.906211\n",
      "[900]\tvalid_0's auc: 0.906331\n",
      "[950]\tvalid_0's auc: 0.906326\n",
      "[1000]\tvalid_0's auc: 0.906439\n",
      "[1050]\tvalid_0's auc: 0.9064\n",
      "[1100]\tvalid_0's auc: 0.906538\n"
     ]
    },
    {
     "name": "stderr",
     "output_type": "stream",
     "text": [
      "regularization_factors, val_score: 0.906994:  60%|######################2              | 12/20 [00:22<00:14,  1.87s/it]"
     ]
    },
    {
     "name": "stdout",
     "output_type": "stream",
     "text": [
      "[1150]\tvalid_0's auc: 0.906591\n",
      "[1200]\tvalid_0's auc: 0.906595\n",
      "Early stopping, best iteration is:\n",
      "[1138]\tvalid_0's auc: 0.906636\n"
     ]
    },
    {
     "name": "stderr",
     "output_type": "stream",
     "text": [
      "C:\\Python39\\lib\\site-packages\\lightgbm\\engine.py:181: UserWarning: 'early_stopping_rounds' argument is deprecated and will be removed in a future release of LightGBM. Pass 'early_stopping()' callback via 'callbacks' argument instead.\n",
      "  _log_warning(\"'early_stopping_rounds' argument is deprecated and will be removed in a future release of LightGBM. \"\n",
      "C:\\Python39\\lib\\site-packages\\lightgbm\\engine.py:239: UserWarning: 'verbose_eval' argument is deprecated and will be removed in a future release of LightGBM. Pass 'log_evaluation()' callback via 'callbacks' argument instead.\n",
      "  _log_warning(\"'verbose_eval' argument is deprecated and will be removed in a future release of LightGBM. \"\n"
     ]
    },
    {
     "name": "stdout",
     "output_type": "stream",
     "text": [
      "Training until validation scores don't improve for 100 rounds\n",
      "[50]\tvalid_0's auc: 0.887633\n",
      "[100]\tvalid_0's auc: 0.894484\n",
      "[150]\tvalid_0's auc: 0.897562\n",
      "[200]\tvalid_0's auc: 0.899848\n",
      "[250]\tvalid_0's auc: 0.901237\n",
      "[300]\tvalid_0's auc: 0.902771\n",
      "[350]\tvalid_0's auc: 0.903403\n",
      "[400]\tvalid_0's auc: 0.904007\n",
      "[450]\tvalid_0's auc: 0.904661\n",
      "[500]\tvalid_0's auc: 0.905071\n",
      "[550]\tvalid_0's auc: 0.905327\n",
      "[600]\tvalid_0's auc: 0.905504\n",
      "[650]\tvalid_0's auc: 0.905653\n",
      "[700]\tvalid_0's auc: 0.905718\n",
      "[750]\tvalid_0's auc: 0.906064\n",
      "[800]\tvalid_0's auc: 0.906159\n",
      "[850]\tvalid_0's auc: 0.906199\n",
      "[900]\tvalid_0's auc: 0.906326\n",
      "[950]\tvalid_0's auc: 0.906339\n",
      "[1000]\tvalid_0's auc: 0.906519\n",
      "[1050]\tvalid_0's auc: 0.906496\n",
      "[1100]\tvalid_0's auc: 0.906634\n",
      "[1150]\tvalid_0's auc: 0.906594\n",
      "[1200]\tvalid_0's auc: 0.906655\n",
      "[1250]\tvalid_0's auc: 0.906637\n",
      "[1300]\tvalid_0's auc: 0.906618\n"
     ]
    },
    {
     "name": "stderr",
     "output_type": "stream",
     "text": [
      "regularization_factors, val_score: 0.906994:  65%|########################             | 13/20 [00:24<00:13,  1.88s/it]"
     ]
    },
    {
     "name": "stdout",
     "output_type": "stream",
     "text": [
      "[1350]\tvalid_0's auc: 0.906531\n",
      "Early stopping, best iteration is:\n",
      "[1286]\tvalid_0's auc: 0.906702\n"
     ]
    },
    {
     "name": "stderr",
     "output_type": "stream",
     "text": [
      "C:\\Python39\\lib\\site-packages\\lightgbm\\engine.py:181: UserWarning: 'early_stopping_rounds' argument is deprecated and will be removed in a future release of LightGBM. Pass 'early_stopping()' callback via 'callbacks' argument instead.\n",
      "  _log_warning(\"'early_stopping_rounds' argument is deprecated and will be removed in a future release of LightGBM. \"\n",
      "C:\\Python39\\lib\\site-packages\\lightgbm\\engine.py:239: UserWarning: 'verbose_eval' argument is deprecated and will be removed in a future release of LightGBM. Pass 'log_evaluation()' callback via 'callbacks' argument instead.\n",
      "  _log_warning(\"'verbose_eval' argument is deprecated and will be removed in a future release of LightGBM. \"\n"
     ]
    },
    {
     "name": "stdout",
     "output_type": "stream",
     "text": [
      "Training until validation scores don't improve for 100 rounds\n",
      "[50]\tvalid_0's auc: 0.887621\n",
      "[100]\tvalid_0's auc: 0.8945\n",
      "[150]\tvalid_0's auc: 0.897533\n",
      "[200]\tvalid_0's auc: 0.899818\n",
      "[250]\tvalid_0's auc: 0.90126\n",
      "[300]\tvalid_0's auc: 0.90287\n",
      "[350]\tvalid_0's auc: 0.903461\n",
      "[400]\tvalid_0's auc: 0.903997\n",
      "[450]\tvalid_0's auc: 0.904659\n",
      "[500]\tvalid_0's auc: 0.905091\n",
      "[550]\tvalid_0's auc: 0.905247\n",
      "[600]\tvalid_0's auc: 0.905507\n",
      "[650]\tvalid_0's auc: 0.905637\n",
      "[700]\tvalid_0's auc: 0.90575\n",
      "[750]\tvalid_0's auc: 0.906081\n",
      "[800]\tvalid_0's auc: 0.906172\n",
      "[850]\tvalid_0's auc: 0.906258\n",
      "[900]\tvalid_0's auc: 0.906389\n",
      "[950]\tvalid_0's auc: 0.906426\n",
      "[1000]\tvalid_0's auc: 0.906571\n",
      "[1050]\tvalid_0's auc: 0.906577\n",
      "[1100]\tvalid_0's auc: 0.906698\n",
      "[1150]\tvalid_0's auc: 0.906672\n"
     ]
    },
    {
     "name": "stderr",
     "output_type": "stream",
     "text": [
      "regularization_factors, val_score: 0.906994:  70%|#########################9           | 14/20 [00:26<00:10,  1.81s/it]"
     ]
    },
    {
     "name": "stdout",
     "output_type": "stream",
     "text": [
      "Early stopping, best iteration is:\n",
      "[1078]\tvalid_0's auc: 0.906715\n",
      "Training until validation scores don't improve for 100 rounds\n",
      "[50]\tvalid_0's auc: 0.886493\n"
     ]
    },
    {
     "name": "stderr",
     "output_type": "stream",
     "text": [
      "C:\\Python39\\lib\\site-packages\\lightgbm\\engine.py:181: UserWarning: 'early_stopping_rounds' argument is deprecated and will be removed in a future release of LightGBM. Pass 'early_stopping()' callback via 'callbacks' argument instead.\n",
      "  _log_warning(\"'early_stopping_rounds' argument is deprecated and will be removed in a future release of LightGBM. \"\n",
      "C:\\Python39\\lib\\site-packages\\lightgbm\\engine.py:239: UserWarning: 'verbose_eval' argument is deprecated and will be removed in a future release of LightGBM. Pass 'log_evaluation()' callback via 'callbacks' argument instead.\n",
      "  _log_warning(\"'verbose_eval' argument is deprecated and will be removed in a future release of LightGBM. \"\n"
     ]
    },
    {
     "name": "stdout",
     "output_type": "stream",
     "text": [
      "[100]\tvalid_0's auc: 0.893922\n",
      "[150]\tvalid_0's auc: 0.897273\n",
      "[200]\tvalid_0's auc: 0.899524\n",
      "[250]\tvalid_0's auc: 0.901154\n",
      "[300]\tvalid_0's auc: 0.902744\n",
      "[350]\tvalid_0's auc: 0.903333\n",
      "[400]\tvalid_0's auc: 0.903888\n",
      "[450]\tvalid_0's auc: 0.904527\n",
      "[500]\tvalid_0's auc: 0.904946\n",
      "[550]\tvalid_0's auc: 0.905218\n",
      "[600]\tvalid_0's auc: 0.90544\n",
      "[650]\tvalid_0's auc: 0.905576\n",
      "[700]\tvalid_0's auc: 0.905698\n",
      "[750]\tvalid_0's auc: 0.905945\n",
      "[800]\tvalid_0's auc: 0.905991\n",
      "[850]\tvalid_0's auc: 0.906068\n",
      "[900]\tvalid_0's auc: 0.906193\n",
      "[950]\tvalid_0's auc: 0.906259\n",
      "[1000]\tvalid_0's auc: 0.906435\n",
      "[1050]\tvalid_0's auc: 0.906556\n",
      "[1100]\tvalid_0's auc: 0.906689\n",
      "[1150]\tvalid_0's auc: 0.906779\n",
      "[1200]\tvalid_0's auc: 0.906781\n"
     ]
    },
    {
     "name": "stderr",
     "output_type": "stream",
     "text": [
      "regularization_factors, val_score: 0.906994:  75%|###########################7         | 15/20 [00:28<00:09,  1.81s/it]"
     ]
    },
    {
     "name": "stdout",
     "output_type": "stream",
     "text": [
      "[1250]\tvalid_0's auc: 0.906744\n",
      "Early stopping, best iteration is:\n",
      "[1161]\tvalid_0's auc: 0.906832\n",
      "Training until validation scores don't improve for 100 rounds\n"
     ]
    },
    {
     "name": "stderr",
     "output_type": "stream",
     "text": [
      "C:\\Python39\\lib\\site-packages\\lightgbm\\engine.py:181: UserWarning: 'early_stopping_rounds' argument is deprecated and will be removed in a future release of LightGBM. Pass 'early_stopping()' callback via 'callbacks' argument instead.\n",
      "  _log_warning(\"'early_stopping_rounds' argument is deprecated and will be removed in a future release of LightGBM. \"\n",
      "C:\\Python39\\lib\\site-packages\\lightgbm\\engine.py:239: UserWarning: 'verbose_eval' argument is deprecated and will be removed in a future release of LightGBM. Pass 'log_evaluation()' callback via 'callbacks' argument instead.\n",
      "  _log_warning(\"'verbose_eval' argument is deprecated and will be removed in a future release of LightGBM. \"\n"
     ]
    },
    {
     "name": "stdout",
     "output_type": "stream",
     "text": [
      "[50]\tvalid_0's auc: 0.886581\n",
      "[100]\tvalid_0's auc: 0.893995\n",
      "[150]\tvalid_0's auc: 0.897244\n",
      "[200]\tvalid_0's auc: 0.899467\n",
      "[250]\tvalid_0's auc: 0.901085\n",
      "[300]\tvalid_0's auc: 0.902661\n",
      "[350]\tvalid_0's auc: 0.903321\n",
      "[400]\tvalid_0's auc: 0.903865\n",
      "[450]\tvalid_0's auc: 0.904469\n",
      "[500]\tvalid_0's auc: 0.904907\n",
      "[550]\tvalid_0's auc: 0.905204\n",
      "[600]\tvalid_0's auc: 0.90547\n",
      "[650]\tvalid_0's auc: 0.905625\n",
      "[700]\tvalid_0's auc: 0.905662\n",
      "[750]\tvalid_0's auc: 0.905935\n",
      "[800]\tvalid_0's auc: 0.906005\n",
      "[850]\tvalid_0's auc: 0.906091\n",
      "[900]\tvalid_0's auc: 0.906209\n",
      "[950]\tvalid_0's auc: 0.906278\n",
      "[1000]\tvalid_0's auc: 0.906442\n",
      "[1050]\tvalid_0's auc: 0.906606\n",
      "[1100]\tvalid_0's auc: 0.906713\n",
      "[1150]\tvalid_0's auc: 0.906796\n"
     ]
    },
    {
     "name": "stderr",
     "output_type": "stream",
     "text": [
      "regularization_factors, val_score: 0.906994:  80%|#############################6       | 16/20 [00:29<00:07,  1.81s/it]"
     ]
    },
    {
     "name": "stdout",
     "output_type": "stream",
     "text": [
      "[1200]\tvalid_0's auc: 0.906795\n",
      "[1250]\tvalid_0's auc: 0.906746\n",
      "Early stopping, best iteration is:\n",
      "[1164]\tvalid_0's auc: 0.906887\n"
     ]
    },
    {
     "name": "stderr",
     "output_type": "stream",
     "text": [
      "C:\\Python39\\lib\\site-packages\\lightgbm\\engine.py:181: UserWarning: 'early_stopping_rounds' argument is deprecated and will be removed in a future release of LightGBM. Pass 'early_stopping()' callback via 'callbacks' argument instead.\n",
      "  _log_warning(\"'early_stopping_rounds' argument is deprecated and will be removed in a future release of LightGBM. \"\n",
      "C:\\Python39\\lib\\site-packages\\lightgbm\\engine.py:239: UserWarning: 'verbose_eval' argument is deprecated and will be removed in a future release of LightGBM. Pass 'log_evaluation()' callback via 'callbacks' argument instead.\n",
      "  _log_warning(\"'verbose_eval' argument is deprecated and will be removed in a future release of LightGBM. \"\n"
     ]
    },
    {
     "name": "stdout",
     "output_type": "stream",
     "text": [
      "Training until validation scores don't improve for 100 rounds\n",
      "[50]\tvalid_0's auc: 0.887531\n",
      "[100]\tvalid_0's auc: 0.894607\n",
      "[150]\tvalid_0's auc: 0.897822\n",
      "[200]\tvalid_0's auc: 0.900002\n",
      "[250]\tvalid_0's auc: 0.901427\n",
      "[300]\tvalid_0's auc: 0.90291\n",
      "[350]\tvalid_0's auc: 0.903522\n",
      "[400]\tvalid_0's auc: 0.904005\n",
      "[450]\tvalid_0's auc: 0.904658\n",
      "[500]\tvalid_0's auc: 0.905089\n",
      "[550]\tvalid_0's auc: 0.905375\n",
      "[600]\tvalid_0's auc: 0.90565\n",
      "[650]\tvalid_0's auc: 0.905763\n",
      "[700]\tvalid_0's auc: 0.905917\n",
      "[750]\tvalid_0's auc: 0.906184\n",
      "[800]\tvalid_0's auc: 0.906251\n",
      "[850]\tvalid_0's auc: 0.906257\n",
      "[900]\tvalid_0's auc: 0.90641\n",
      "[950]\tvalid_0's auc: 0.906467\n",
      "[1000]\tvalid_0's auc: 0.906561\n",
      "[1050]\tvalid_0's auc: 0.906635\n",
      "[1100]\tvalid_0's auc: 0.906716\n",
      "[1150]\tvalid_0's auc: 0.906733\n",
      "[1200]\tvalid_0's auc: 0.906771\n",
      "[1250]\tvalid_0's auc: 0.906738\n",
      "Early stopping, best iteration is:\n",
      "[1183]\tvalid_0's auc: 0.906796\n"
     ]
    },
    {
     "name": "stderr",
     "output_type": "stream",
     "text": [
      "regularization_factors, val_score: 0.906994:  85%|###############################4     | 17/20 [00:31<00:05,  1.89s/it]C:\\Python39\\lib\\site-packages\\lightgbm\\engine.py:181: UserWarning: 'early_stopping_rounds' argument is deprecated and will be removed in a future release of LightGBM. Pass 'early_stopping()' callback via 'callbacks' argument instead.\n",
      "  _log_warning(\"'early_stopping_rounds' argument is deprecated and will be removed in a future release of LightGBM. \"\n",
      "C:\\Python39\\lib\\site-packages\\lightgbm\\engine.py:239: UserWarning: 'verbose_eval' argument is deprecated and will be removed in a future release of LightGBM. Pass 'log_evaluation()' callback via 'callbacks' argument instead.\n",
      "  _log_warning(\"'verbose_eval' argument is deprecated and will be removed in a future release of LightGBM. \"\n"
     ]
    },
    {
     "name": "stdout",
     "output_type": "stream",
     "text": [
      "Training until validation scores don't improve for 100 rounds\n",
      "[50]\tvalid_0's auc: 0.886799\n",
      "[100]\tvalid_0's auc: 0.894148\n",
      "[150]\tvalid_0's auc: 0.897497\n",
      "[200]\tvalid_0's auc: 0.899729\n",
      "[250]\tvalid_0's auc: 0.901325\n",
      "[300]\tvalid_0's auc: 0.902853\n",
      "[350]\tvalid_0's auc: 0.903468\n",
      "[400]\tvalid_0's auc: 0.903984\n",
      "[450]\tvalid_0's auc: 0.904671\n",
      "[500]\tvalid_0's auc: 0.90506\n",
      "[550]\tvalid_0's auc: 0.905322\n",
      "[600]\tvalid_0's auc: 0.905563\n",
      "[650]\tvalid_0's auc: 0.905662\n",
      "[700]\tvalid_0's auc: 0.905744\n",
      "[750]\tvalid_0's auc: 0.906048\n",
      "[800]\tvalid_0's auc: 0.906067\n",
      "[850]\tvalid_0's auc: 0.906212\n",
      "[900]\tvalid_0's auc: 0.906305\n",
      "[950]\tvalid_0's auc: 0.906377\n",
      "[1000]\tvalid_0's auc: 0.906527\n",
      "[1050]\tvalid_0's auc: 0.906641\n",
      "[1100]\tvalid_0's auc: 0.906791\n",
      "[1150]\tvalid_0's auc: 0.90683\n"
     ]
    },
    {
     "name": "stderr",
     "output_type": "stream",
     "text": [
      "regularization_factors, val_score: 0.906994:  90%|#################################3   | 18/20 [00:33<00:03,  1.89s/it]"
     ]
    },
    {
     "name": "stdout",
     "output_type": "stream",
     "text": [
      "[1200]\tvalid_0's auc: 0.906815\n",
      "[1250]\tvalid_0's auc: 0.906773\n",
      "Early stopping, best iteration is:\n",
      "[1163]\tvalid_0's auc: 0.906907\n"
     ]
    },
    {
     "name": "stderr",
     "output_type": "stream",
     "text": [
      "C:\\Python39\\lib\\site-packages\\lightgbm\\engine.py:181: UserWarning: 'early_stopping_rounds' argument is deprecated and will be removed in a future release of LightGBM. Pass 'early_stopping()' callback via 'callbacks' argument instead.\n",
      "  _log_warning(\"'early_stopping_rounds' argument is deprecated and will be removed in a future release of LightGBM. \"\n",
      "C:\\Python39\\lib\\site-packages\\lightgbm\\engine.py:239: UserWarning: 'verbose_eval' argument is deprecated and will be removed in a future release of LightGBM. Pass 'log_evaluation()' callback via 'callbacks' argument instead.\n",
      "  _log_warning(\"'verbose_eval' argument is deprecated and will be removed in a future release of LightGBM. \"\n"
     ]
    },
    {
     "name": "stdout",
     "output_type": "stream",
     "text": [
      "Training until validation scores don't improve for 100 rounds\n",
      "[50]\tvalid_0's auc: 0.887647\n",
      "[100]\tvalid_0's auc: 0.894578\n",
      "[150]\tvalid_0's auc: 0.897609\n",
      "[200]\tvalid_0's auc: 0.899925\n",
      "[250]\tvalid_0's auc: 0.901373\n",
      "[300]\tvalid_0's auc: 0.902951\n",
      "[350]\tvalid_0's auc: 0.903535\n",
      "[400]\tvalid_0's auc: 0.904097\n",
      "[450]\tvalid_0's auc: 0.904691\n",
      "[500]\tvalid_0's auc: 0.905155\n",
      "[550]\tvalid_0's auc: 0.905452\n",
      "[600]\tvalid_0's auc: 0.90558\n",
      "[650]\tvalid_0's auc: 0.905699\n",
      "[700]\tvalid_0's auc: 0.905861\n",
      "[750]\tvalid_0's auc: 0.90612\n",
      "[800]\tvalid_0's auc: 0.906197\n",
      "[850]\tvalid_0's auc: 0.906165\n",
      "[900]\tvalid_0's auc: 0.906344\n",
      "[950]\tvalid_0's auc: 0.906348\n",
      "[1000]\tvalid_0's auc: 0.906505\n",
      "[1050]\tvalid_0's auc: 0.906588\n",
      "[1100]\tvalid_0's auc: 0.906646\n",
      "[1150]\tvalid_0's auc: 0.906621\n",
      "[1200]\tvalid_0's auc: 0.90672\n",
      "[1250]\tvalid_0's auc: 0.906605\n",
      "[1300]\tvalid_0's auc: 0.906615\n",
      "Early stopping, best iteration is:\n",
      "[1200]\tvalid_0's auc: 0.90672\n"
     ]
    },
    {
     "name": "stderr",
     "output_type": "stream",
     "text": [
      "regularization_factors, val_score: 0.906994:  95%|###################################1 | 19/20 [00:35<00:01,  1.87s/it]C:\\Python39\\lib\\site-packages\\lightgbm\\engine.py:181: UserWarning: 'early_stopping_rounds' argument is deprecated and will be removed in a future release of LightGBM. Pass 'early_stopping()' callback via 'callbacks' argument instead.\n",
      "  _log_warning(\"'early_stopping_rounds' argument is deprecated and will be removed in a future release of LightGBM. \"\n",
      "C:\\Python39\\lib\\site-packages\\lightgbm\\engine.py:239: UserWarning: 'verbose_eval' argument is deprecated and will be removed in a future release of LightGBM. Pass 'log_evaluation()' callback via 'callbacks' argument instead.\n",
      "  _log_warning(\"'verbose_eval' argument is deprecated and will be removed in a future release of LightGBM. \"\n"
     ]
    },
    {
     "name": "stdout",
     "output_type": "stream",
     "text": [
      "Training until validation scores don't improve for 100 rounds\n",
      "[50]\tvalid_0's auc: 0.887633\n",
      "[100]\tvalid_0's auc: 0.894484\n",
      "[150]\tvalid_0's auc: 0.897561\n",
      "[200]\tvalid_0's auc: 0.899847\n",
      "[250]\tvalid_0's auc: 0.901233\n",
      "[300]\tvalid_0's auc: 0.90277\n",
      "[350]\tvalid_0's auc: 0.903401\n",
      "[400]\tvalid_0's auc: 0.904002\n",
      "[450]\tvalid_0's auc: 0.904653\n",
      "[500]\tvalid_0's auc: 0.905113\n",
      "[550]\tvalid_0's auc: 0.905354\n",
      "[600]\tvalid_0's auc: 0.905465\n",
      "[650]\tvalid_0's auc: 0.905603\n",
      "[700]\tvalid_0's auc: 0.905754\n",
      "[750]\tvalid_0's auc: 0.906054\n",
      "[800]\tvalid_0's auc: 0.906136\n",
      "[850]\tvalid_0's auc: 0.906215\n",
      "[900]\tvalid_0's auc: 0.906369\n",
      "[950]\tvalid_0's auc: 0.906385\n",
      "[1000]\tvalid_0's auc: 0.906532\n",
      "[1050]\tvalid_0's auc: 0.906555\n",
      "[1100]\tvalid_0's auc: 0.906709\n",
      "[1150]\tvalid_0's auc: 0.906701\n",
      "[1200]\tvalid_0's auc: 0.906786\n",
      "[1250]\tvalid_0's auc: 0.906796\n",
      "[1300]\tvalid_0's auc: 0.906847\n",
      "[1350]\tvalid_0's auc: 0.90674\n"
     ]
    },
    {
     "name": "stderr",
     "output_type": "stream",
     "text": [
      "regularization_factors, val_score: 0.906994: 100%|#####################################| 20/20 [00:37<00:00,  1.88s/it]\n"
     ]
    },
    {
     "name": "stdout",
     "output_type": "stream",
     "text": [
      "Early stopping, best iteration is:\n",
      "[1285]\tvalid_0's auc: 0.906891\n"
     ]
    },
    {
     "name": "stderr",
     "output_type": "stream",
     "text": [
      "min_data_in_leaf, val_score: 0.906994:   0%|                                                     | 0/5 [00:00<?, ?it/s]"
     ]
    },
    {
     "name": "stdout",
     "output_type": "stream",
     "text": [
      "Training until validation scores don't improve for 100 rounds\n"
     ]
    },
    {
     "name": "stderr",
     "output_type": "stream",
     "text": [
      "C:\\Python39\\lib\\site-packages\\lightgbm\\engine.py:181: UserWarning: 'early_stopping_rounds' argument is deprecated and will be removed in a future release of LightGBM. Pass 'early_stopping()' callback via 'callbacks' argument instead.\n",
      "  _log_warning(\"'early_stopping_rounds' argument is deprecated and will be removed in a future release of LightGBM. \"\n",
      "C:\\Python39\\lib\\site-packages\\lightgbm\\engine.py:239: UserWarning: 'verbose_eval' argument is deprecated and will be removed in a future release of LightGBM. Pass 'log_evaluation()' callback via 'callbacks' argument instead.\n",
      "  _log_warning(\"'verbose_eval' argument is deprecated and will be removed in a future release of LightGBM. \"\n"
     ]
    },
    {
     "name": "stdout",
     "output_type": "stream",
     "text": [
      "[50]\tvalid_0's auc: 0.888747\n",
      "[100]\tvalid_0's auc: 0.895485\n",
      "[150]\tvalid_0's auc: 0.8983\n",
      "[200]\tvalid_0's auc: 0.900422\n",
      "[250]\tvalid_0's auc: 0.901876\n",
      "[300]\tvalid_0's auc: 0.903343\n",
      "[350]\tvalid_0's auc: 0.903877\n",
      "[400]\tvalid_0's auc: 0.90436\n",
      "[450]\tvalid_0's auc: 0.904858\n",
      "[500]\tvalid_0's auc: 0.905169\n",
      "[550]\tvalid_0's auc: 0.905396\n",
      "[600]\tvalid_0's auc: 0.905501\n",
      "[650]\tvalid_0's auc: 0.905597\n",
      "[700]\tvalid_0's auc: 0.905704\n",
      "[750]\tvalid_0's auc: 0.905891\n",
      "[800]\tvalid_0's auc: 0.906006\n",
      "[850]\tvalid_0's auc: 0.905976\n",
      "[900]\tvalid_0's auc: 0.9061\n",
      "[950]\tvalid_0's auc: 0.906105\n",
      "[1000]\tvalid_0's auc: 0.906132\n",
      "[1050]\tvalid_0's auc: 0.906136\n",
      "[1100]\tvalid_0's auc: 0.906233\n",
      "[1150]\tvalid_0's auc: 0.906232\n",
      "[1200]\tvalid_0's auc: 0.906199\n",
      "Early stopping, best iteration is:\n",
      "[1119]\tvalid_0's auc: 0.906279\n"
     ]
    },
    {
     "name": "stderr",
     "output_type": "stream",
     "text": [
      "min_data_in_leaf, val_score: 0.906994:  20%|#########                                    | 1/5 [00:01<00:07,  1.77s/it]"
     ]
    },
    {
     "name": "stdout",
     "output_type": "stream",
     "text": [
      "Training until validation scores don't improve for 100 rounds\n"
     ]
    },
    {
     "name": "stderr",
     "output_type": "stream",
     "text": [
      "C:\\Python39\\lib\\site-packages\\lightgbm\\engine.py:181: UserWarning: 'early_stopping_rounds' argument is deprecated and will be removed in a future release of LightGBM. Pass 'early_stopping()' callback via 'callbacks' argument instead.\n",
      "  _log_warning(\"'early_stopping_rounds' argument is deprecated and will be removed in a future release of LightGBM. \"\n",
      "C:\\Python39\\lib\\site-packages\\lightgbm\\engine.py:239: UserWarning: 'verbose_eval' argument is deprecated and will be removed in a future release of LightGBM. Pass 'log_evaluation()' callback via 'callbacks' argument instead.\n",
      "  _log_warning(\"'verbose_eval' argument is deprecated and will be removed in a future release of LightGBM. \"\n"
     ]
    },
    {
     "name": "stdout",
     "output_type": "stream",
     "text": [
      "[50]\tvalid_0's auc: 0.887548\n",
      "[100]\tvalid_0's auc: 0.894503\n",
      "[150]\tvalid_0's auc: 0.897533\n",
      "[200]\tvalid_0's auc: 0.89979\n",
      "[250]\tvalid_0's auc: 0.90135\n",
      "[300]\tvalid_0's auc: 0.902985\n",
      "[350]\tvalid_0's auc: 0.903619\n",
      "[400]\tvalid_0's auc: 0.904187\n",
      "[450]\tvalid_0's auc: 0.904855\n",
      "[500]\tvalid_0's auc: 0.905245\n",
      "[550]\tvalid_0's auc: 0.90561\n",
      "[600]\tvalid_0's auc: 0.905841\n",
      "[650]\tvalid_0's auc: 0.905996\n",
      "[700]\tvalid_0's auc: 0.906074\n",
      "[750]\tvalid_0's auc: 0.906405\n",
      "[800]\tvalid_0's auc: 0.906438\n",
      "[850]\tvalid_0's auc: 0.906516\n",
      "[900]\tvalid_0's auc: 0.906685\n",
      "[950]\tvalid_0's auc: 0.906746\n",
      "[1000]\tvalid_0's auc: 0.906909\n",
      "[1050]\tvalid_0's auc: 0.906968\n",
      "[1100]\tvalid_0's auc: 0.907005\n"
     ]
    },
    {
     "name": "stderr",
     "output_type": "stream",
     "text": [
      "min_data_in_leaf, val_score: 0.907120:  40%|##################                           | 2/5 [00:03<00:05,  1.78s/it]"
     ]
    },
    {
     "name": "stdout",
     "output_type": "stream",
     "text": [
      "[1150]\tvalid_0's auc: 0.90704\n",
      "[1200]\tvalid_0's auc: 0.90701\n",
      "Early stopping, best iteration is:\n",
      "[1127]\tvalid_0's auc: 0.90712\n"
     ]
    },
    {
     "name": "stderr",
     "output_type": "stream",
     "text": [
      "C:\\Python39\\lib\\site-packages\\lightgbm\\engine.py:181: UserWarning: 'early_stopping_rounds' argument is deprecated and will be removed in a future release of LightGBM. Pass 'early_stopping()' callback via 'callbacks' argument instead.\n",
      "  _log_warning(\"'early_stopping_rounds' argument is deprecated and will be removed in a future release of LightGBM. \"\n",
      "C:\\Python39\\lib\\site-packages\\lightgbm\\engine.py:239: UserWarning: 'verbose_eval' argument is deprecated and will be removed in a future release of LightGBM. Pass 'log_evaluation()' callback via 'callbacks' argument instead.\n",
      "  _log_warning(\"'verbose_eval' argument is deprecated and will be removed in a future release of LightGBM. \"\n"
     ]
    },
    {
     "name": "stdout",
     "output_type": "stream",
     "text": [
      "Training until validation scores don't improve for 100 rounds\n",
      "[50]\tvalid_0's auc: 0.887611\n",
      "[100]\tvalid_0's auc: 0.894624\n",
      "[150]\tvalid_0's auc: 0.897805\n",
      "[200]\tvalid_0's auc: 0.899998\n",
      "[250]\tvalid_0's auc: 0.901582\n",
      "[300]\tvalid_0's auc: 0.903147\n",
      "[350]\tvalid_0's auc: 0.903674\n",
      "[400]\tvalid_0's auc: 0.904242\n",
      "[450]\tvalid_0's auc: 0.904904\n",
      "[500]\tvalid_0's auc: 0.905306\n",
      "[550]\tvalid_0's auc: 0.905557\n",
      "[600]\tvalid_0's auc: 0.90579\n",
      "[650]\tvalid_0's auc: 0.905986\n",
      "[700]\tvalid_0's auc: 0.906128\n",
      "[750]\tvalid_0's auc: 0.906393\n",
      "[800]\tvalid_0's auc: 0.906421\n",
      "[850]\tvalid_0's auc: 0.906501\n",
      "[900]\tvalid_0's auc: 0.906625\n",
      "[950]\tvalid_0's auc: 0.906665\n",
      "[1000]\tvalid_0's auc: 0.906713\n",
      "[1050]\tvalid_0's auc: 0.906778\n",
      "[1100]\tvalid_0's auc: 0.906889\n"
     ]
    },
    {
     "name": "stderr",
     "output_type": "stream",
     "text": [
      "min_data_in_leaf, val_score: 0.907120:  60%|###########################                  | 3/5 [00:05<00:03,  1.77s/it]"
     ]
    },
    {
     "name": "stdout",
     "output_type": "stream",
     "text": [
      "[1150]\tvalid_0's auc: 0.906895\n",
      "[1200]\tvalid_0's auc: 0.90689\n",
      "Early stopping, best iteration is:\n",
      "[1119]\tvalid_0's auc: 0.906956\n"
     ]
    },
    {
     "name": "stderr",
     "output_type": "stream",
     "text": [
      "C:\\Python39\\lib\\site-packages\\lightgbm\\engine.py:181: UserWarning: 'early_stopping_rounds' argument is deprecated and will be removed in a future release of LightGBM. Pass 'early_stopping()' callback via 'callbacks' argument instead.\n",
      "  _log_warning(\"'early_stopping_rounds' argument is deprecated and will be removed in a future release of LightGBM. \"\n",
      "C:\\Python39\\lib\\site-packages\\lightgbm\\engine.py:239: UserWarning: 'verbose_eval' argument is deprecated and will be removed in a future release of LightGBM. Pass 'log_evaluation()' callback via 'callbacks' argument instead.\n",
      "  _log_warning(\"'verbose_eval' argument is deprecated and will be removed in a future release of LightGBM. \"\n"
     ]
    },
    {
     "name": "stdout",
     "output_type": "stream",
     "text": [
      "Training until validation scores don't improve for 100 rounds\n",
      "[50]\tvalid_0's auc: 0.887548\n",
      "[100]\tvalid_0's auc: 0.894472\n",
      "[150]\tvalid_0's auc: 0.897592\n",
      "[200]\tvalid_0's auc: 0.899908\n",
      "[250]\tvalid_0's auc: 0.901422\n",
      "[300]\tvalid_0's auc: 0.902938\n",
      "[350]\tvalid_0's auc: 0.903616\n",
      "[400]\tvalid_0's auc: 0.904113\n",
      "[450]\tvalid_0's auc: 0.904793\n",
      "[500]\tvalid_0's auc: 0.905148\n",
      "[550]\tvalid_0's auc: 0.905485\n",
      "[600]\tvalid_0's auc: 0.905758\n",
      "[650]\tvalid_0's auc: 0.905947\n",
      "[700]\tvalid_0's auc: 0.906002\n",
      "[750]\tvalid_0's auc: 0.906246\n",
      "[800]\tvalid_0's auc: 0.90631\n",
      "[850]\tvalid_0's auc: 0.906509\n",
      "[900]\tvalid_0's auc: 0.906591\n",
      "[950]\tvalid_0's auc: 0.906656\n",
      "[1000]\tvalid_0's auc: 0.906826\n",
      "[1050]\tvalid_0's auc: 0.906954\n",
      "[1100]\tvalid_0's auc: 0.907052\n",
      "[1150]\tvalid_0's auc: 0.907101\n",
      "[1200]\tvalid_0's auc: 0.907087\n"
     ]
    },
    {
     "name": "stderr",
     "output_type": "stream",
     "text": [
      "min_data_in_leaf, val_score: 0.907153:  60%|###########################                  | 3/5 [00:07<00:03,  1.77s/it]"
     ]
    },
    {
     "name": "stdout",
     "output_type": "stream",
     "text": [
      "[1250]\tvalid_0's auc: 0.907104\n",
      "[1300]\tvalid_0's auc: 0.907115\n",
      "Early stopping, best iteration is:\n",
      "[1241]\tvalid_0's auc: 0.907153\n"
     ]
    },
    {
     "name": "stderr",
     "output_type": "stream",
     "text": [
      "min_data_in_leaf, val_score: 0.907153:  80%|####################################         | 4/5 [00:07<00:01,  1.82s/it]C:\\Python39\\lib\\site-packages\\lightgbm\\engine.py:181: UserWarning: 'early_stopping_rounds' argument is deprecated and will be removed in a future release of LightGBM. Pass 'early_stopping()' callback via 'callbacks' argument instead.\n",
      "  _log_warning(\"'early_stopping_rounds' argument is deprecated and will be removed in a future release of LightGBM. \"\n",
      "C:\\Python39\\lib\\site-packages\\lightgbm\\engine.py:239: UserWarning: 'verbose_eval' argument is deprecated and will be removed in a future release of LightGBM. Pass 'log_evaluation()' callback via 'callbacks' argument instead.\n",
      "  _log_warning(\"'verbose_eval' argument is deprecated and will be removed in a future release of LightGBM. \"\n"
     ]
    },
    {
     "name": "stdout",
     "output_type": "stream",
     "text": [
      "Training until validation scores don't improve for 100 rounds\n",
      "[50]\tvalid_0's auc: 0.887548\n",
      "[100]\tvalid_0's auc: 0.894472\n",
      "[150]\tvalid_0's auc: 0.89763\n",
      "[200]\tvalid_0's auc: 0.899925\n",
      "[250]\tvalid_0's auc: 0.901439\n",
      "[300]\tvalid_0's auc: 0.902928\n",
      "[350]\tvalid_0's auc: 0.90353\n",
      "[400]\tvalid_0's auc: 0.904084\n",
      "[450]\tvalid_0's auc: 0.904755\n",
      "[500]\tvalid_0's auc: 0.905154\n",
      "[550]\tvalid_0's auc: 0.905471\n",
      "[600]\tvalid_0's auc: 0.905763\n",
      "[650]\tvalid_0's auc: 0.905908\n",
      "[700]\tvalid_0's auc: 0.905958\n",
      "[750]\tvalid_0's auc: 0.906196\n",
      "[800]\tvalid_0's auc: 0.906248\n",
      "[850]\tvalid_0's auc: 0.906408\n",
      "[900]\tvalid_0's auc: 0.906533\n",
      "[950]\tvalid_0's auc: 0.906594\n",
      "[1000]\tvalid_0's auc: 0.906771\n",
      "[1050]\tvalid_0's auc: 0.906813\n",
      "[1100]\tvalid_0's auc: 0.906852\n",
      "[1150]\tvalid_0's auc: 0.906942\n",
      "[1200]\tvalid_0's auc: 0.906894\n"
     ]
    },
    {
     "name": "stderr",
     "output_type": "stream",
     "text": [
      "min_data_in_leaf, val_score: 0.907153: 100%|#############################################| 5/5 [00:08<00:00,  1.80s/it]"
     ]
    },
    {
     "name": "stdout",
     "output_type": "stream",
     "text": [
      "[1250]\tvalid_0's auc: 0.906889\n",
      "Early stopping, best iteration is:\n",
      "[1164]\tvalid_0's auc: 0.906976\n",
      "Best params: {'objective': 'binary', 'metric': 'auc', 'verbosity': -1, 'learning_rate': 0.02, 'boosting_type': 'gbdt', 'deterministic': True, 'force_row_wise': True, 'feature_pre_filter': False, 'lambda_l1': 8.286072486031322e-07, 'lambda_l2': 2.469220368184978, 'num_leaves': 9, 'feature_fraction': 0.4, 'bagging_fraction': 0.5512429050337958, 'bagging_freq': 3, 'min_child_samples': 5}\n",
      "Best params: {'objective': 'binary', 'metric': 'auc', 'verbosity': -1, 'learning_rate': 0.02, 'boosting_type': 'gbdt', 'deterministic': True, 'force_row_wise': True, 'feature_pre_filter': False, 'lambda_l1': 8.286072486031322e-07, 'lambda_l2': 2.469220368184978, 'num_leaves': 9, 'feature_fraction': 0.4, 'bagging_fraction': 0.5512429050337958, 'bagging_freq': 3, 'min_child_samples': 5, 'num_iterations': 10000, 'early_stopping_round': 100}\n"
     ]
    },
    {
     "name": "stderr",
     "output_type": "stream",
     "text": [
      "\n"
     ]
    }
   ],
   "source": [
    "model = mytrain(67)"
   ]
  },
  {
   "cell_type": "code",
   "execution_count": 20,
   "id": "44b4c2e8-3ae0-41df-879e-f05a59ebf3d8",
   "metadata": {},
   "outputs": [],
   "source": [
    "# テストデータを予測する\n",
    "y_pred = model.predict(X_test, num_iteration=model.best_iteration)"
   ]
  },
  {
   "cell_type": "code",
   "execution_count": 21,
   "id": "88f5c28c-c6bd-406d-b948-3cbe7310b963",
   "metadata": {},
   "outputs": [
    {
     "name": "stdout",
     "output_type": "stream",
     "text": [
      "AUC 0.8951266588532122\n"
     ]
    },
    {
     "data": {
      "image/png": "[encoded data removed]",
      "text/plain": [
       "<Figure size 640x480 with 1 Axes>"
      ]
     },
     "metadata": {},
     "output_type": "display_data"
    },
    {
     "name": "stdout",
     "output_type": "stream",
     "text": [
      "accuracy 0.8556273827283275\n",
      "precision 0.6832229580573952\n"
     ]
    },
    {
     "data": {
      "image/png": "[encoded data removed]",
      "text/plain": [
       "<Figure size 640x480 with 2 Axes>"
      ]
     },
     "metadata": {},
     "output_type": "display_data"
    }
   ],
   "source": [
    "# AUCを計算\n",
    "fpr, tpr, thresholds = roc_curve(np.asarray(y_test), y_pred)\n",
    "print(\"AUC\", auc(fpr, tpr))\n",
    "\n",
    "# ROC曲線をプロット\n",
    "plt.plot(fpr, tpr, label='ROC curve (area = %.2f)' %auc(fpr, tpr))\n",
    "plt.legend()\n",
    "plt.title('ROC curve')\n",
    "plt.xlabel('False Positive Rate')\n",
    "plt.ylabel('True Positive Rate')\n",
    "plt.grid(True)\n",
    "plt.show()\n",
    "\n",
    "# accuracy, precisionを計算\n",
    "acc = accuracy_score(np.asarray(y_test), np.round(y_pred))\n",
    "precision = precision_score(np.asarray(y_test), np.round(y_pred))\n",
    "print(\"accuracy\", acc)\n",
    "print(\"precision\", precision)\n",
    "\n",
    "# 混同行列をプロット\n",
    "y_pred = np.round(y_pred)\n",
    "cm = confusion_matrix(np.asarray(y_test), np.where(y_pred < 0.5, 0, 1))\n",
    "cmp = ConfusionMatrixDisplay(cm, display_labels=[0,1])\n",
    "cmp.plot(cmap=plt.cm.Blues)\n",
    "plt.show()"
   ]
  },
  {
   "cell_type": "code",
   "execution_count": 22,
   "id": "55906d95-86b9-495e-8b9a-88ea8bec3573",
   "metadata": {},
   "outputs": [
    {
     "data": {
      "text/plain": [
       "<AxesSubplot: title={'center': 'Feature importance'}, xlabel='Feature importance', ylabel='Features'>"
      ]
     },
     "execution_count": 22,
     "metadata": {},
     "output_type": "execute_result"
    },
    {
     "data": {
      "image/png": "[encoded data removed]",
      "text/plain": [
       "<Figure size 3000x1500 with 1 Axes>"
      ]
     },
     "metadata": {},
     "output_type": "display_data"
    }
   ],
   "source": [
    "# 重要度としては「特徴量が分岐（ノード）の条件式で使用された回数」（＝デフォルト）\n",
    "lgb.plot_importance(model, figsize=(30, 15), max_num_features=30, importance_type='split')"
   ]
  },
  {
   "cell_type": "code",
   "execution_count": 23,
   "id": "39fe2d34-7734-4b69-ab52-bbcc823fd522",
   "metadata": {},
   "outputs": [
    {
     "data": {
      "text/plain": [
       "<AxesSubplot: title={'center': 'Feature importance'}, xlabel='Feature importance', ylabel='Features'>"
      ]
     },
     "execution_count": 23,
     "metadata": {},
     "output_type": "execute_result"
    },
    {
     "data": {
      "image/png": "[encoded data removed]",
      "text/plain": [
       "<Figure size 3000x1500 with 1 Axes>"
      ]
     },
     "metadata": {},
     "output_type": "display_data"
    }
   ],
   "source": [
    "# 重要度としては「特徴量がある分岐（ノード）において目的関数の改善に寄与した度合い」\n",
    "lgb.plot_importance(model, figsize=(30, 15), max_num_features=30, importance_type='gain')"
   ]
  },
  {
   "cell_type": "code",
   "execution_count": 24,
   "id": "5644712e-ea89-4730-b5b6-5487ce1f43c7",
   "metadata": {},
   "outputs": [],
   "source": [
    "# データフレームを綺麗に出力する関数\n",
    "import IPython\n",
    "def display(*dfs, head=True):\n",
    "    for df in dfs:\n",
    "        IPython.display.display(df.head() if head else df)"
   ]
  },
  {
   "cell_type": "code",
   "execution_count": 25,
   "id": "09fa6d09-860f-4593-8331-ddb06d1ae509",
   "metadata": {},
   "outputs": [],
   "source": [
    "# 特徴量重要度を棒グラフでプロットする関数 \n",
    "def plot_feature_importance(df): \n",
    "    n_features = len(df)                              # 特徴量数(説明変数の個数) \n",
    "    df_plot = df.sort_values('importance')            # df_importanceをプロット用に特徴量重要度を昇順ソート \n",
    "    f_importance_plot = df_plot['importance'].values  # 特徴量重要度の取得 \n",
    "    plt.barh(range(n_features), f_importance_plot, align='center') \n",
    "    cols_plot = df_plot['feature'].values             # 特徴量の取得 \n",
    "    plt.yticks(np.arange(n_features), cols_plot)      # x軸,y軸の値の設定\n",
    "    plt.xlabel('Feature importance')                  # x軸のタイトル\n",
    "    plt.ylabel('Feature')                             # y軸のタイトル"
   ]
  },
  {
   "cell_type": "code",
   "execution_count": 26,
   "id": "a1dd560f-5598-4dbf-a7b5-b558ea70c9ff",
   "metadata": {},
   "outputs": [
    {
     "data": {
      "text/html": [
       "<div>\n",
       "<style scoped>\n",
       "    .dataframe tbody tr th:only-of-type {\n",
       "        vertical-align: middle;\n",
       "    }\n",
       "\n",
       "    .dataframe tbody tr th {\n",
       "        vertical-align: top;\n",
       "    }\n",
       "\n",
       "    .dataframe thead th {\n",
       "        text-align: right;\n",
       "    }\n",
       "</style>\n",
       "<table border=\"1\" class=\"dataframe\">\n",
       "  <thead>\n",
       "    <tr style=\"text-align: right;\">\n",
       "      <th></th>\n",
       "      <th>feature</th>\n",
       "      <th>importance</th>\n",
       "    </tr>\n",
       "  </thead>\n",
       "  <tbody>\n",
       "    <tr>\n",
       "      <th>59</th>\n",
       "      <td>capital.gain</td>\n",
       "      <td>0.263353</td>\n",
       "    </tr>\n",
       "    <tr>\n",
       "      <th>29</th>\n",
       "      <td>marital.status_5</td>\n",
       "      <td>0.139585</td>\n",
       "    </tr>\n",
       "    <tr>\n",
       "      <th>24</th>\n",
       "      <td>education.num</td>\n",
       "      <td>0.106465</td>\n",
       "    </tr>\n",
       "    <tr>\n",
       "      <th>60</th>\n",
       "      <td>capital.loss</td>\n",
       "      <td>0.085264</td>\n",
       "    </tr>\n",
       "    <tr>\n",
       "      <th>0</th>\n",
       "      <td>age</td>\n",
       "      <td>0.078620</td>\n",
       "    </tr>\n",
       "  </tbody>\n",
       "</table>\n",
       "</div>"
      ],
      "text/plain": [
       "             feature  importance\n",
       "59      capital.gain    0.263353\n",
       "29  marital.status_5    0.139585\n",
       "24     education.num    0.106465\n",
       "60      capital.loss    0.085264\n",
       "0                age    0.078620"
      ]
     },
     "metadata": {},
     "output_type": "display_data"
    }
   ],
   "source": [
    "# 特徴量重要度の算出 (データフレームで取得)\n",
    "cols = list(df.drop('income',axis=1).columns) # 特徴量名のリスト(目的変数target以外)\n",
    "# 特徴量重要度の算出方法 'gain'(推奨) : トレーニングデータの損失の減少量を評価\n",
    "f_importance = np.array(model.feature_importance(importance_type='gain')) # 特徴量重要度の算出 //\n",
    "f_importance = f_importance / np.sum(f_importance) # 正規化(必要ない場合はコメントアウト)\n",
    "df_importance = pd.DataFrame({'feature':cols, 'importance':f_importance})\n",
    "df_importance = df_importance.sort_values('importance', ascending=False) # 降順ソート\n",
    "display(df_importance)"
   ]
  },
  {
   "cell_type": "code",
   "execution_count": 27,
   "id": "544632d3-9436-4fc8-b2d9-fcb4af5a5bfa",
   "metadata": {},
   "outputs": [
    {
     "data": {
      "image/png": "[encoded data removed]",
      "text/plain": [
       "<Figure size 640x480 with 1 Axes>"
      ]
     },
     "metadata": {},
     "output_type": "display_data"
    }
   ],
   "source": [
    "# 特徴量重要度の可視化\n",
    "n_display = 5 # 上位10個に制限\n",
    "plot_feature_importance(df_importance.iloc[:n_display,:])"
   ]
  },
  {
   "cell_type": "code",
   "execution_count": 28,
   "id": "fc7bba11-4223-4a42-b120-308c9a22d5ba",
   "metadata": {},
   "outputs": [],
   "source": [
    "import csv\n",
    "# 決定木をDataFrameに変換\n",
    "model.trees_to_dataframe().to_csv('adult_uci_onehot-optuna-再現_decisiontree.csv', index=False, header=True, encoding='UTF-8', sep=',', quoting=csv.QUOTE_ALL)"
   ]
  },
  {
   "cell_type": "code",
   "execution_count": 29,
   "id": "862d9e7a-cb3c-4d72-a509-d88091d431cd",
   "metadata": {},
   "outputs": [],
   "source": [
    "df_tree = pd.read_csv('adult_uci_onehot-optuna-再現_decisiontree.csv')"
   ]
  },
  {
   "cell_type": "code",
   "execution_count": 30,
   "id": "57f2236a-411d-4fa5-b5d8-68dd96b8012b",
   "metadata": {},
   "outputs": [
    {
     "data": {
      "text/html": [
       "<div>\n",
       "<style scoped>\n",
       "    .dataframe tbody tr th:only-of-type {\n",
       "        vertical-align: middle;\n",
       "    }\n",
       "\n",
       "    .dataframe tbody tr th {\n",
       "        vertical-align: top;\n",
       "    }\n",
       "\n",
       "    .dataframe thead th {\n",
       "        text-align: right;\n",
       "    }\n",
       "</style>\n",
       "<table border=\"1\" class=\"dataframe\">\n",
       "  <thead>\n",
       "    <tr style=\"text-align: right;\">\n",
       "      <th></th>\n",
       "      <th>tree_index</th>\n",
       "      <th>node_depth</th>\n",
       "      <th>node_index</th>\n",
       "      <th>left_child</th>\n",
       "      <th>right_child</th>\n",
       "      <th>parent_index</th>\n",
       "      <th>split_feature</th>\n",
       "      <th>split_gain</th>\n",
       "      <th>threshold</th>\n",
       "      <th>decision_type</th>\n",
       "      <th>missing_direction</th>\n",
       "      <th>missing_type</th>\n",
       "      <th>value</th>\n",
       "      <th>weight</th>\n",
       "      <th>count</th>\n",
       "    </tr>\n",
       "  </thead>\n",
       "  <tbody>\n",
       "    <tr>\n",
       "      <th>0</th>\n",
       "      <td>0</td>\n",
       "      <td>1</td>\n",
       "      <td>0-S0</td>\n",
       "      <td>0-S4</td>\n",
       "      <td>0-S1</td>\n",
       "      <td>NaN</td>\n",
       "      <td>marital.status_5</td>\n",
       "      <td>2133.550049</td>\n",
       "      <td>1.000000e-35</td>\n",
       "      <td>&lt;=</td>\n",
       "      <td>left</td>\n",
       "      <td>None</td>\n",
       "      <td>-0.961185</td>\n",
       "      <td>0.000000</td>\n",
       "      <td>10588</td>\n",
       "    </tr>\n",
       "    <tr>\n",
       "      <th>1</th>\n",
       "      <td>0</td>\n",
       "      <td>2</td>\n",
       "      <td>0-S4</td>\n",
       "      <td>0-L0</td>\n",
       "      <td>0-L5</td>\n",
       "      <td>0-S0</td>\n",
       "      <td>hours.per.week</td>\n",
       "      <td>111.553001</td>\n",
       "      <td>4.250000e+01</td>\n",
       "      <td>&lt;=</td>\n",
       "      <td>left</td>\n",
       "      <td>None</td>\n",
       "      <td>-0.980688</td>\n",
       "      <td>1098.410000</td>\n",
       "      <td>5489</td>\n",
       "    </tr>\n",
       "    <tr>\n",
       "      <th>2</th>\n",
       "      <td>0</td>\n",
       "      <td>3</td>\n",
       "      <td>0-L0</td>\n",
       "      <td>NaN</td>\n",
       "      <td>NaN</td>\n",
       "      <td>0-S4</td>\n",
       "      <td>NaN</td>\n",
       "      <td>NaN</td>\n",
       "      <td>NaN</td>\n",
       "      <td>NaN</td>\n",
       "      <td>NaN</td>\n",
       "      <td>NaN</td>\n",
       "      <td>-0.984102</td>\n",
       "      <td>853.072057</td>\n",
       "      <td>4263</td>\n",
       "    </tr>\n",
       "    <tr>\n",
       "      <th>3</th>\n",
       "      <td>0</td>\n",
       "      <td>3</td>\n",
       "      <td>0-L5</td>\n",
       "      <td>NaN</td>\n",
       "      <td>NaN</td>\n",
       "      <td>0-S4</td>\n",
       "      <td>NaN</td>\n",
       "      <td>NaN</td>\n",
       "      <td>NaN</td>\n",
       "      <td>NaN</td>\n",
       "      <td>NaN</td>\n",
       "      <td>NaN</td>\n",
       "      <td>-0.968704</td>\n",
       "      <td>245.335759</td>\n",
       "      <td>1226</td>\n",
       "    </tr>\n",
       "    <tr>\n",
       "      <th>4</th>\n",
       "      <td>0</td>\n",
       "      <td>2</td>\n",
       "      <td>0-S1</td>\n",
       "      <td>0-S2</td>\n",
       "      <td>0-L2</td>\n",
       "      <td>0-S0</td>\n",
       "      <td>occupation_3</td>\n",
       "      <td>309.483002</td>\n",
       "      <td>1.000000e-35</td>\n",
       "      <td>&lt;=</td>\n",
       "      <td>left</td>\n",
       "      <td>None</td>\n",
       "      <td>-0.940568</td>\n",
       "      <td>1020.360000</td>\n",
       "      <td>5099</td>\n",
       "    </tr>\n",
       "    <tr>\n",
       "      <th>5</th>\n",
       "      <td>0</td>\n",
       "      <td>3</td>\n",
       "      <td>0-S2</td>\n",
       "      <td>0-S3</td>\n",
       "      <td>0-S6</td>\n",
       "      <td>0-S1</td>\n",
       "      <td>occupation_1</td>\n",
       "      <td>393.533997</td>\n",
       "      <td>1.000000e-35</td>\n",
       "      <td>&lt;=</td>\n",
       "      <td>left</td>\n",
       "      <td>None</td>\n",
       "      <td>-0.945383</td>\n",
       "      <td>861.677000</td>\n",
       "      <td>4306</td>\n",
       "    </tr>\n",
       "    <tr>\n",
       "      <th>6</th>\n",
       "      <td>0</td>\n",
       "      <td>4</td>\n",
       "      <td>0-S3</td>\n",
       "      <td>0-S5</td>\n",
       "      <td>0-L4</td>\n",
       "      <td>0-S2</td>\n",
       "      <td>education_7</td>\n",
       "      <td>139.363007</td>\n",
       "      <td>1.000000e-35</td>\n",
       "      <td>&lt;=</td>\n",
       "      <td>left</td>\n",
       "      <td>None</td>\n",
       "      <td>-0.952263</td>\n",
       "      <td>687.380000</td>\n",
       "      <td>3435</td>\n",
       "    </tr>\n",
       "    <tr>\n",
       "      <th>7</th>\n",
       "      <td>0</td>\n",
       "      <td>5</td>\n",
       "      <td>0-S5</td>\n",
       "      <td>0-L1</td>\n",
       "      <td>0-S7</td>\n",
       "      <td>0-S3</td>\n",
       "      <td>age</td>\n",
       "      <td>90.996399</td>\n",
       "      <td>3.550000e+01</td>\n",
       "      <td>&lt;=</td>\n",
       "      <td>left</td>\n",
       "      <td>None</td>\n",
       "      <td>-0.955764</td>\n",
       "      <td>600.132000</td>\n",
       "      <td>2999</td>\n",
       "    </tr>\n",
       "    <tr>\n",
       "      <th>8</th>\n",
       "      <td>0</td>\n",
       "      <td>6</td>\n",
       "      <td>0-L1</td>\n",
       "      <td>NaN</td>\n",
       "      <td>NaN</td>\n",
       "      <td>0-S5</td>\n",
       "      <td>NaN</td>\n",
       "      <td>NaN</td>\n",
       "      <td>NaN</td>\n",
       "      <td>NaN</td>\n",
       "      <td>NaN</td>\n",
       "      <td>NaN</td>\n",
       "      <td>-0.967045</td>\n",
       "      <td>192.506526</td>\n",
       "      <td>962</td>\n",
       "    </tr>\n",
       "    <tr>\n",
       "      <th>9</th>\n",
       "      <td>0</td>\n",
       "      <td>6</td>\n",
       "      <td>0-S7</td>\n",
       "      <td>0-L6</td>\n",
       "      <td>0-L8</td>\n",
       "      <td>0-S5</td>\n",
       "      <td>education_3</td>\n",
       "      <td>50.093800</td>\n",
       "      <td>1.000000e-35</td>\n",
       "      <td>&lt;=</td>\n",
       "      <td>left</td>\n",
       "      <td>None</td>\n",
       "      <td>-0.950433</td>\n",
       "      <td>407.626000</td>\n",
       "      <td>2037</td>\n",
       "    </tr>\n",
       "  </tbody>\n",
       "</table>\n",
       "</div>"
      ],
      "text/plain": [
       "   tree_index  node_depth node_index left_child right_child parent_index  \\\n",
       "0           0           1       0-S0       0-S4        0-S1          NaN   \n",
       "1           0           2       0-S4       0-L0        0-L5         0-S0   \n",
       "2           0           3       0-L0        NaN         NaN         0-S4   \n",
       "3           0           3       0-L5        NaN         NaN         0-S4   \n",
       "4           0           2       0-S1       0-S2        0-L2         0-S0   \n",
       "5           0           3       0-S2       0-S3        0-S6         0-S1   \n",
       "6           0           4       0-S3       0-S5        0-L4         0-S2   \n",
       "7           0           5       0-S5       0-L1        0-S7         0-S3   \n",
       "8           0           6       0-L1        NaN         NaN         0-S5   \n",
       "9           0           6       0-S7       0-L6        0-L8         0-S5   \n",
       "\n",
       "      split_feature   split_gain     threshold decision_type  \\\n",
       "0  marital.status_5  2133.550049  1.000000e-35            <=   \n",
       "1    hours.per.week   111.553001  4.250000e+01            <=   \n",
       "2               NaN          NaN           NaN           NaN   \n",
       "3               NaN          NaN           NaN           NaN   \n",
       "4      occupation_3   309.483002  1.000000e-35            <=   \n",
       "5      occupation_1   393.533997  1.000000e-35            <=   \n",
       "6       education_7   139.363007  1.000000e-35            <=   \n",
       "7               age    90.996399  3.550000e+01            <=   \n",
       "8               NaN          NaN           NaN           NaN   \n",
       "9       education_3    50.093800  1.000000e-35            <=   \n",
       "\n",
       "  missing_direction missing_type     value       weight  count  \n",
       "0              left         None -0.961185     0.000000  10588  \n",
       "1              left         None -0.980688  1098.410000   5489  \n",
       "2               NaN          NaN -0.984102   853.072057   4263  \n",
       "3               NaN          NaN -0.968704   245.335759   1226  \n",
       "4              left         None -0.940568  1020.360000   5099  \n",
       "5              left         None -0.945383   861.677000   4306  \n",
       "6              left         None -0.952263   687.380000   3435  \n",
       "7              left         None -0.955764   600.132000   2999  \n",
       "8               NaN          NaN -0.967045   192.506526    962  \n",
       "9              left         None -0.950433   407.626000   2037  "
      ]
     },
     "execution_count": 30,
     "metadata": {},
     "output_type": "execute_result"
    }
   ],
   "source": [
    "df_tree.head(10)"
   ]
  },
  {
   "cell_type": "code",
   "execution_count": 31,
   "id": "ab8d43db-cc8c-47cd-a000-40bcf8fa937d",
   "metadata": {},
   "outputs": [
    {
     "name": "stdout",
     "output_type": "stream",
     "text": [
      "<class 'pandas.core.frame.DataFrame'>\n",
      "RangeIndex: 21097 entries, 0 to 21096\n",
      "Data columns (total 15 columns):\n",
      " #   Column             Non-Null Count  Dtype  \n",
      "---  ------             --------------  -----  \n",
      " 0   tree_index         21097 non-null  int64  \n",
      " 1   node_depth         21097 non-null  int64  \n",
      " 2   node_index         21097 non-null  object \n",
      " 3   left_child         9928 non-null   object \n",
      " 4   right_child        9928 non-null   object \n",
      " 5   parent_index       19856 non-null  object \n",
      " 6   split_feature      9928 non-null   object \n",
      " 7   split_gain         9928 non-null   float64\n",
      " 8   threshold          9928 non-null   float64\n",
      " 9   decision_type      9928 non-null   object \n",
      " 10  missing_direction  9928 non-null   object \n",
      " 11  missing_type       9928 non-null   object \n",
      " 12  value              21097 non-null  float64\n",
      " 13  weight             21097 non-null  float64\n",
      " 14  count              21097 non-null  int64  \n",
      "dtypes: float64(4), int64(3), object(8)\n",
      "memory usage: 2.4+ MB\n"
     ]
    }
   ],
   "source": [
    "df_tree.info()"
   ]
  },
  {
   "cell_type": "code",
   "execution_count": null,
   "id": "d7728764-24c6-4f3a-aba1-c8f3e2b4163f",
   "metadata": {},
   "outputs": [],
   "source": []
  }
 ],
 "metadata": {
  "kernelspec": {
   "display_name": "Python 3 (ipykernel)",
   "language": "python",
   "name": "python3"
  },
  "language_info": {
   "codemirror_mode": {
    "name": "ipython",
    "version": 3
   },
   "file_extension": ".py",
   "mimetype": "text/x-python",
   "name": "python",
   "nbconvert_exporter": "python",
   "pygments_lexer": "ipython3",
   "version": "3.9.13"
  }
 },
 "nbformat": 4,
 "nbformat_minor": 5
}
