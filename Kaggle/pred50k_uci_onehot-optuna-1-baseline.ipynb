{
 "cells": [
  {
   "cell_type": "markdown",
   "id": "f8ae7dd2-b7ee-454a-8e93-956ecae2805e",
   "metadata": {},
   "source": [
    "# カテゴリ値を含むデータでのLightGBMを使った分析\n",
    "\n",
    "### データ\n",
    "[Adult Data Set](https://archive.ics.uci.edu/ml/datasets/adult) \\\n",
    "[Adult Census Income](https://www.kaggle.com/datasets/uciml/adult-census-income) \\\n",
    "[Adult income dataset](https://www.kaggle.com/datasets/wenruliu/adult-income-dataset)\n",
    "\n",
    "### 参考\n",
    "[lightgbmで二値分類の一連の流れをしたメモ](https://qiita.com/d_desuyon/items/807e01311ad08570ee78) \\\n",
    "[【初心者向け】特徴量重要度の算出 (LightGBM) 【Python】【機械学習】](https://mathmatical22.xyz/2020/04/12/%E3%80%90%E5%88%9D%E5%BF%83%E8%80%85%E5%90%91%E3%81%91%E3%80%91%E7%89%B9%E5%BE%B4%E9%87%8F%E9%87%8D%E8%A6%81%E5%BA%A6%E3%81%AE%E7%AE%97%E5%87%BA-lightgbm-%E3%80%90python%E3%80%91%E3%80%90%E6%A9%9F/) \\\n",
    "[LightGBMのCategorical Featureによって精度が向上するか？](https://qiita.com/sinchir0/items/b038757e578b790ec96a) \\\n",
    "[Pythonでしか描けない美しいデシジョンツリー（決定木）をlightGBMでも描こう！](https://qiita.com/hima2b4/items/b356e688ebdabc393da8) \\\n",
    "[LightGBM/XGBoostのtree構造可視化メモ](https://qiita.com/dyamaguc/items/70d4ce3548d49a6256fa) \\\n",
    "[Category Encodersでカテゴリ特徴量をストレスなく変換する](https://qiita.com/Hyperion13fleet/items/afa49a84bd5db65ffc31) \\\n",
    "[カテゴリ変数系特徴量の前処理(scikit-learnとcategory_encoders)](https://qiita.com/FukuharaYohei/items/06cc7b1c5eb124db6cdf) \\\n",
    "[LightGBMのCategorical Featureによって精度が向上するか？](https://qiita.com/sinchir0/items/b038757e578b790ec96a) \\\n",
    "[LightGBMでOptunaを使用するときの再現性確保について](https://book-read-yoshi.hatenablog.com/entry/2021/03/22/lightgbm_optuna_deterministic)"
   ]
  },
  {
   "cell_type": "code",
   "execution_count": 1,
   "id": "a351e39d-6b18-4c71-920b-c5dd28d5d025",
   "metadata": {
    "tags": []
   },
   "outputs": [
    {
     "name": "stdout",
     "output_type": "stream",
     "text": [
      "Python 3.9.13\n"
     ]
    }
   ],
   "source": [
    "!python -V"
   ]
  },
  {
   "cell_type": "code",
   "execution_count": 2,
   "id": "d69ebb53-1f16-4caf-8ce3-0ad7639bb24c",
   "metadata": {
    "tags": []
   },
   "outputs": [
    {
     "name": "stdout",
     "output_type": "stream",
     "text": [
      "pip 23.0.1 from C:\\Python39\\lib\\site-packages\\pip (python 3.9)\n",
      "\n"
     ]
    }
   ],
   "source": [
    "!python -m pip --version"
   ]
  },
  {
   "cell_type": "code",
   "execution_count": 3,
   "id": "d0045464-336b-4d7b-8bc8-4c05f19257f7",
   "metadata": {
    "tags": []
   },
   "outputs": [
    {
     "name": "stdout",
     "output_type": "stream",
     "text": [
      "Package                  Version\n",
      "------------------------ -----------\n",
      "aiofiles                 22.1.0\n",
      "aiosqlite                0.18.0\n",
      "alembic                  1.9.4\n",
      "anyio                    3.6.2\n",
      "argon2-cffi              21.3.0\n",
      "argon2-cffi-bindings     21.2.0\n",
      "arrow                    1.2.3\n",
      "asttokens                2.2.1\n",
      "attrs                    22.2.0\n",
      "Babel                    2.11.0\n",
      "backcall                 0.2.0\n",
      "beautifulsoup4           4.11.2\n",
      "bleach                   6.0.0\n",
      "bs4                      0.0.1\n",
      "category-encoders        2.6.0\n",
      "certifi                  2022.12.7\n",
      "cffi                     1.15.1\n",
      "charset-normalizer       3.0.1\n",
      "cmaes                    0.9.1\n",
      "colorama                 0.4.6\n",
      "colorlog                 6.7.0\n",
      "comm                     0.1.2\n",
      "contourpy                1.0.7\n",
      "cycler                   0.11.0\n",
      "debugpy                  1.6.6\n",
      "decorator                5.1.1\n",
      "defusedxml               0.7.1\n",
      "executing                1.2.0\n",
      "fastjsonschema           2.16.2\n",
      "fonttools                4.38.0\n",
      "fqdn                     1.5.1\n",
      "greenlet                 2.0.2\n",
      "idna                     3.4\n",
      "importlib-metadata       6.0.0\n",
      "ipykernel                6.21.1\n",
      "ipython                  8.10.0\n",
      "ipython-genutils         0.2.0\n",
      "ipywidgets               8.0.4\n",
      "isoduration              20.11.0\n",
      "jedi                     0.18.2\n",
      "Jinja2                   3.1.2\n",
      "joblib                   1.2.0\n",
      "json5                    0.9.11\n",
      "jsonpointer              2.3\n",
      "jsonschema               4.17.3\n",
      "jupyter                  1.0.0\n",
      "jupyter_client           8.0.2\n",
      "jupyter-console          6.5.0\n",
      "jupyter_core             5.2.0\n",
      "jupyter-events           0.5.0\n",
      "jupyter_server           2.2.1\n",
      "jupyter_server_fileid    0.6.0\n",
      "jupyter_server_terminals 0.4.4\n",
      "jupyter_server_ydoc      0.6.1\n",
      "jupyter-ydoc             0.2.2\n",
      "jupyterlab               3.6.1\n",
      "jupyterlab-pygments      0.2.2\n",
      "jupyterlab_server        2.19.0\n",
      "jupyterlab-widgets       3.0.5\n",
      "kiwisolver               1.4.4\n",
      "lightgbm                 3.3.5\n",
      "Mako                     1.2.4\n",
      "MarkupSafe               2.1.2\n",
      "matplotlib               3.6.3\n",
      "matplotlib-inline        0.1.6\n",
      "mistune                  2.0.5\n",
      "nbclassic                0.5.1\n",
      "nbclient                 0.7.2\n",
      "nbconvert                7.2.9\n",
      "nbformat                 5.7.3\n",
      "nest-asyncio             1.5.6\n",
      "notebook                 6.5.2\n",
      "notebook_shim            0.2.2\n",
      "numpy                    1.24.2\n",
      "optuna                   3.1.0\n",
      "packaging                23.0\n",
      "pandas                   1.5.3\n",
      "pandocfilters            1.5.0\n",
      "parso                    0.8.3\n",
      "patsy                    0.5.3\n",
      "pickleshare              0.7.5\n",
      "Pillow                   9.4.0\n",
      "pip                      23.0.1\n",
      "platformdirs             3.0.0\n",
      "plotly                   5.13.0\n",
      "prometheus-client        0.16.0\n",
      "prompt-toolkit           3.0.36\n",
      "psutil                   5.9.4\n",
      "pure-eval                0.2.2\n",
      "pycparser                2.21\n",
      "Pygments                 2.14.0\n",
      "pyparsing                3.0.9\n",
      "pyrsistent               0.19.3\n",
      "python-dateutil          2.8.2\n",
      "python-json-logger       2.0.5\n",
      "pytz                     2022.7.1\n",
      "pywin32                  305\n",
      "pywinpty                 2.0.10\n",
      "PyYAML                   6.0\n",
      "pyzmq                    25.0.0\n",
      "qtconsole                5.4.0\n",
      "QtPy                     2.3.0\n",
      "requests                 2.28.2\n",
      "rfc3339-validator        0.1.4\n",
      "rfc3986-validator        0.1.1\n",
      "scikit-learn             1.2.1\n",
      "scipy                    1.10.0\n",
      "seaborn                  0.12.2\n",
      "Send2Trash               1.8.0\n",
      "setuptools               58.1.0\n",
      "six                      1.16.0\n",
      "sniffio                  1.3.0\n",
      "soupsieve                2.3.2.post1\n",
      "SQLAlchemy               2.0.4\n",
      "stack-data               0.6.2\n",
      "statsmodels              0.13.5\n",
      "tenacity                 8.2.1\n",
      "terminado                0.17.1\n",
      "threadpoolctl            3.1.0\n",
      "tinycss2                 1.2.1\n",
      "tomli                    2.0.1\n",
      "tornado                  6.2\n",
      "tqdm                     4.64.1\n",
      "traitlets                5.9.0\n",
      "typing_extensions        4.5.0\n",
      "uri-template             1.2.0\n",
      "urllib3                  1.26.14\n",
      "wcwidth                  0.2.6\n",
      "webcolors                1.12\n",
      "webencodings             0.5.1\n",
      "websocket-client         1.5.1\n",
      "wheel                    0.38.4\n",
      "widgetsnbextension       4.0.5\n",
      "xgboost                  1.7.3\n",
      "y-py                     0.5.5\n",
      "ypy-websocket            0.8.2\n",
      "zipp                     3.13.0\n"
     ]
    }
   ],
   "source": [
    "!python -m pip list"
   ]
  },
  {
   "cell_type": "code",
   "execution_count": 4,
   "id": "6316f9a6-c11d-421d-849e-88ca0a8acd7f",
   "metadata": {
    "tags": []
   },
   "outputs": [],
   "source": [
    "import pandas as pd\n",
    "pd.set_option('display.max_rows', 100)\n",
    "import numpy as np\n",
    "from sklearn.model_selection import train_test_split\n",
    "#import lightgbm as lgb\n",
    "import optuna\n",
    "# ログを非表示にしたいときは、optuna.logging.disable_default_handler()\n",
    "# 逆に、表示にしたいときは、optuna.logging.enable_default_handler()\n",
    "optuna.logging.disable_default_handler()\n",
    "# optuna経由でLightGBMをインポート\n",
    "from optuna.integration import lightgbm as lgb\n",
    "from sklearn.metrics import accuracy_score, f1_score, auc, roc_curve, precision_score, confusion_matrix, ConfusionMatrixDisplay\n",
    "from matplotlib import pyplot as plt\n",
    "%matplotlib inline"
   ]
  },
  {
   "cell_type": "code",
   "execution_count": 5,
   "id": "64d9c06a-b7d2-42d9-b5d0-01ad1f12125c",
   "metadata": {
    "tags": []
   },
   "outputs": [],
   "source": [
    "df = pd.read_csv('adult_uci_onehot.csv')"
   ]
  },
  {
   "cell_type": "code",
   "execution_count": 6,
   "id": "a8c71871-9241-43d6-aefa-ed75c07bdcc0",
   "metadata": {
    "tags": []
   },
   "outputs": [
    {
     "data": {
      "text/html": [
       "<div>\n",
       "<style scoped>\n",
       "    .dataframe tbody tr th:only-of-type {\n",
       "        vertical-align: middle;\n",
       "    }\n",
       "\n",
       "    .dataframe tbody tr th {\n",
       "        vertical-align: top;\n",
       "    }\n",
       "\n",
       "    .dataframe thead th {\n",
       "        text-align: right;\n",
       "    }\n",
       "</style>\n",
       "<table border=\"1\" class=\"dataframe\">\n",
       "  <thead>\n",
       "    <tr style=\"text-align: right;\">\n",
       "      <th></th>\n",
       "      <th>age</th>\n",
       "      <th>workclass_1</th>\n",
       "      <th>workclass_2</th>\n",
       "      <th>workclass_3</th>\n",
       "      <th>workclass_4</th>\n",
       "      <th>workclass_5</th>\n",
       "      <th>workclass_6</th>\n",
       "      <th>workclass_7</th>\n",
       "      <th>fnlwgt</th>\n",
       "      <th>education_1</th>\n",
       "      <th>...</th>\n",
       "      <th>native.country_33</th>\n",
       "      <th>native.country_34</th>\n",
       "      <th>native.country_35</th>\n",
       "      <th>native.country_36</th>\n",
       "      <th>native.country_37</th>\n",
       "      <th>native.country_38</th>\n",
       "      <th>native.country_39</th>\n",
       "      <th>native.country_40</th>\n",
       "      <th>native.country_41</th>\n",
       "      <th>income</th>\n",
       "    </tr>\n",
       "  </thead>\n",
       "  <tbody>\n",
       "    <tr>\n",
       "      <th>0</th>\n",
       "      <td>82</td>\n",
       "      <td>1</td>\n",
       "      <td>0</td>\n",
       "      <td>0</td>\n",
       "      <td>0</td>\n",
       "      <td>0</td>\n",
       "      <td>0</td>\n",
       "      <td>0</td>\n",
       "      <td>132870</td>\n",
       "      <td>1</td>\n",
       "      <td>...</td>\n",
       "      <td>0</td>\n",
       "      <td>0</td>\n",
       "      <td>0</td>\n",
       "      <td>0</td>\n",
       "      <td>0</td>\n",
       "      <td>0</td>\n",
       "      <td>0</td>\n",
       "      <td>0</td>\n",
       "      <td>0</td>\n",
       "      <td>0</td>\n",
       "    </tr>\n",
       "    <tr>\n",
       "      <th>1</th>\n",
       "      <td>54</td>\n",
       "      <td>1</td>\n",
       "      <td>0</td>\n",
       "      <td>0</td>\n",
       "      <td>0</td>\n",
       "      <td>0</td>\n",
       "      <td>0</td>\n",
       "      <td>0</td>\n",
       "      <td>140359</td>\n",
       "      <td>0</td>\n",
       "      <td>...</td>\n",
       "      <td>0</td>\n",
       "      <td>0</td>\n",
       "      <td>0</td>\n",
       "      <td>0</td>\n",
       "      <td>0</td>\n",
       "      <td>0</td>\n",
       "      <td>0</td>\n",
       "      <td>0</td>\n",
       "      <td>0</td>\n",
       "      <td>0</td>\n",
       "    </tr>\n",
       "    <tr>\n",
       "      <th>2</th>\n",
       "      <td>41</td>\n",
       "      <td>1</td>\n",
       "      <td>0</td>\n",
       "      <td>0</td>\n",
       "      <td>0</td>\n",
       "      <td>0</td>\n",
       "      <td>0</td>\n",
       "      <td>0</td>\n",
       "      <td>264663</td>\n",
       "      <td>0</td>\n",
       "      <td>...</td>\n",
       "      <td>0</td>\n",
       "      <td>0</td>\n",
       "      <td>0</td>\n",
       "      <td>0</td>\n",
       "      <td>0</td>\n",
       "      <td>0</td>\n",
       "      <td>0</td>\n",
       "      <td>0</td>\n",
       "      <td>0</td>\n",
       "      <td>0</td>\n",
       "    </tr>\n",
       "    <tr>\n",
       "      <th>3</th>\n",
       "      <td>34</td>\n",
       "      <td>1</td>\n",
       "      <td>0</td>\n",
       "      <td>0</td>\n",
       "      <td>0</td>\n",
       "      <td>0</td>\n",
       "      <td>0</td>\n",
       "      <td>0</td>\n",
       "      <td>216864</td>\n",
       "      <td>1</td>\n",
       "      <td>...</td>\n",
       "      <td>0</td>\n",
       "      <td>0</td>\n",
       "      <td>0</td>\n",
       "      <td>0</td>\n",
       "      <td>0</td>\n",
       "      <td>0</td>\n",
       "      <td>0</td>\n",
       "      <td>0</td>\n",
       "      <td>0</td>\n",
       "      <td>0</td>\n",
       "    </tr>\n",
       "    <tr>\n",
       "      <th>4</th>\n",
       "      <td>38</td>\n",
       "      <td>1</td>\n",
       "      <td>0</td>\n",
       "      <td>0</td>\n",
       "      <td>0</td>\n",
       "      <td>0</td>\n",
       "      <td>0</td>\n",
       "      <td>0</td>\n",
       "      <td>150601</td>\n",
       "      <td>0</td>\n",
       "      <td>...</td>\n",
       "      <td>0</td>\n",
       "      <td>0</td>\n",
       "      <td>0</td>\n",
       "      <td>0</td>\n",
       "      <td>0</td>\n",
       "      <td>0</td>\n",
       "      <td>0</td>\n",
       "      <td>0</td>\n",
       "      <td>0</td>\n",
       "      <td>0</td>\n",
       "    </tr>\n",
       "    <tr>\n",
       "      <th>5</th>\n",
       "      <td>74</td>\n",
       "      <td>0</td>\n",
       "      <td>1</td>\n",
       "      <td>0</td>\n",
       "      <td>0</td>\n",
       "      <td>0</td>\n",
       "      <td>0</td>\n",
       "      <td>0</td>\n",
       "      <td>88638</td>\n",
       "      <td>0</td>\n",
       "      <td>...</td>\n",
       "      <td>0</td>\n",
       "      <td>0</td>\n",
       "      <td>0</td>\n",
       "      <td>0</td>\n",
       "      <td>0</td>\n",
       "      <td>0</td>\n",
       "      <td>0</td>\n",
       "      <td>0</td>\n",
       "      <td>0</td>\n",
       "      <td>1</td>\n",
       "    </tr>\n",
       "    <tr>\n",
       "      <th>6</th>\n",
       "      <td>68</td>\n",
       "      <td>0</td>\n",
       "      <td>0</td>\n",
       "      <td>1</td>\n",
       "      <td>0</td>\n",
       "      <td>0</td>\n",
       "      <td>0</td>\n",
       "      <td>0</td>\n",
       "      <td>422013</td>\n",
       "      <td>1</td>\n",
       "      <td>...</td>\n",
       "      <td>0</td>\n",
       "      <td>0</td>\n",
       "      <td>0</td>\n",
       "      <td>0</td>\n",
       "      <td>0</td>\n",
       "      <td>0</td>\n",
       "      <td>0</td>\n",
       "      <td>0</td>\n",
       "      <td>0</td>\n",
       "      <td>0</td>\n",
       "    </tr>\n",
       "    <tr>\n",
       "      <th>7</th>\n",
       "      <td>45</td>\n",
       "      <td>1</td>\n",
       "      <td>0</td>\n",
       "      <td>0</td>\n",
       "      <td>0</td>\n",
       "      <td>0</td>\n",
       "      <td>0</td>\n",
       "      <td>0</td>\n",
       "      <td>172274</td>\n",
       "      <td>0</td>\n",
       "      <td>...</td>\n",
       "      <td>0</td>\n",
       "      <td>0</td>\n",
       "      <td>0</td>\n",
       "      <td>0</td>\n",
       "      <td>0</td>\n",
       "      <td>0</td>\n",
       "      <td>0</td>\n",
       "      <td>0</td>\n",
       "      <td>0</td>\n",
       "      <td>1</td>\n",
       "    </tr>\n",
       "    <tr>\n",
       "      <th>8</th>\n",
       "      <td>38</td>\n",
       "      <td>0</td>\n",
       "      <td>0</td>\n",
       "      <td>0</td>\n",
       "      <td>1</td>\n",
       "      <td>0</td>\n",
       "      <td>0</td>\n",
       "      <td>0</td>\n",
       "      <td>164526</td>\n",
       "      <td>0</td>\n",
       "      <td>...</td>\n",
       "      <td>0</td>\n",
       "      <td>0</td>\n",
       "      <td>0</td>\n",
       "      <td>0</td>\n",
       "      <td>0</td>\n",
       "      <td>0</td>\n",
       "      <td>0</td>\n",
       "      <td>0</td>\n",
       "      <td>0</td>\n",
       "      <td>1</td>\n",
       "    </tr>\n",
       "    <tr>\n",
       "      <th>9</th>\n",
       "      <td>52</td>\n",
       "      <td>1</td>\n",
       "      <td>0</td>\n",
       "      <td>0</td>\n",
       "      <td>0</td>\n",
       "      <td>0</td>\n",
       "      <td>0</td>\n",
       "      <td>0</td>\n",
       "      <td>129177</td>\n",
       "      <td>0</td>\n",
       "      <td>...</td>\n",
       "      <td>0</td>\n",
       "      <td>0</td>\n",
       "      <td>0</td>\n",
       "      <td>0</td>\n",
       "      <td>0</td>\n",
       "      <td>0</td>\n",
       "      <td>0</td>\n",
       "      <td>0</td>\n",
       "      <td>0</td>\n",
       "      <td>1</td>\n",
       "    </tr>\n",
       "  </tbody>\n",
       "</table>\n",
       "<p>10 rows × 105 columns</p>\n",
       "</div>"
      ],
      "text/plain": [
       "   age  workclass_1  workclass_2  workclass_3  workclass_4  workclass_5  \\\n",
       "0   82            1            0            0            0            0   \n",
       "1   54            1            0            0            0            0   \n",
       "2   41            1            0            0            0            0   \n",
       "3   34            1            0            0            0            0   \n",
       "4   38            1            0            0            0            0   \n",
       "5   74            0            1            0            0            0   \n",
       "6   68            0            0            1            0            0   \n",
       "7   45            1            0            0            0            0   \n",
       "8   38            0            0            0            1            0   \n",
       "9   52            1            0            0            0            0   \n",
       "\n",
       "   workclass_6  workclass_7  fnlwgt  education_1  ...  native.country_33  \\\n",
       "0            0            0  132870            1  ...                  0   \n",
       "1            0            0  140359            0  ...                  0   \n",
       "2            0            0  264663            0  ...                  0   \n",
       "3            0            0  216864            1  ...                  0   \n",
       "4            0            0  150601            0  ...                  0   \n",
       "5            0            0   88638            0  ...                  0   \n",
       "6            0            0  422013            1  ...                  0   \n",
       "7            0            0  172274            0  ...                  0   \n",
       "8            0            0  164526            0  ...                  0   \n",
       "9            0            0  129177            0  ...                  0   \n",
       "\n",
       "   native.country_34  native.country_35  native.country_36  native.country_37  \\\n",
       "0                  0                  0                  0                  0   \n",
       "1                  0                  0                  0                  0   \n",
       "2                  0                  0                  0                  0   \n",
       "3                  0                  0                  0                  0   \n",
       "4                  0                  0                  0                  0   \n",
       "5                  0                  0                  0                  0   \n",
       "6                  0                  0                  0                  0   \n",
       "7                  0                  0                  0                  0   \n",
       "8                  0                  0                  0                  0   \n",
       "9                  0                  0                  0                  0   \n",
       "\n",
       "   native.country_38  native.country_39  native.country_40  native.country_41  \\\n",
       "0                  0                  0                  0                  0   \n",
       "1                  0                  0                  0                  0   \n",
       "2                  0                  0                  0                  0   \n",
       "3                  0                  0                  0                  0   \n",
       "4                  0                  0                  0                  0   \n",
       "5                  0                  0                  0                  0   \n",
       "6                  0                  0                  0                  0   \n",
       "7                  0                  0                  0                  0   \n",
       "8                  0                  0                  0                  0   \n",
       "9                  0                  0                  0                  0   \n",
       "\n",
       "   income  \n",
       "0       0  \n",
       "1       0  \n",
       "2       0  \n",
       "3       0  \n",
       "4       0  \n",
       "5       1  \n",
       "6       0  \n",
       "7       1  \n",
       "8       1  \n",
       "9       1  \n",
       "\n",
       "[10 rows x 105 columns]"
      ]
     },
     "execution_count": 6,
     "metadata": {},
     "output_type": "execute_result"
    }
   ],
   "source": [
    "df.head(10)"
   ]
  },
  {
   "cell_type": "code",
   "execution_count": 7,
   "id": "f410512f-dc2b-46ec-adc8-ae54c42b59c7",
   "metadata": {
    "tags": []
   },
   "outputs": [
    {
     "name": "stdout",
     "output_type": "stream",
     "text": [
      "<class 'pandas.core.frame.DataFrame'>\n",
      "RangeIndex: 30162 entries, 0 to 30161\n",
      "Columns: 105 entries, age to income\n",
      "dtypes: int64(105)\n",
      "memory usage: 24.2 MB\n"
     ]
    }
   ],
   "source": [
    "df.info()"
   ]
  },
  {
   "cell_type": "code",
   "execution_count": 8,
   "id": "29f736f8",
   "metadata": {
    "tags": []
   },
   "outputs": [
    {
     "data": {
      "text/plain": [
       "0    22654\n",
       "1     7508\n",
       "Name: income, dtype: int64"
      ]
     },
     "execution_count": 8,
     "metadata": {},
     "output_type": "execute_result"
    }
   ],
   "source": [
    "df['income'].value_counts()"
   ]
  },
  {
   "cell_type": "code",
   "execution_count": 9,
   "id": "95550de7-f32e-4d73-9c8a-9f776efb91b1",
   "metadata": {
    "tags": []
   },
   "outputs": [
    {
     "data": {
      "text/html": [
       "<div>\n",
       "<style scoped>\n",
       "    .dataframe tbody tr th:only-of-type {\n",
       "        vertical-align: middle;\n",
       "    }\n",
       "\n",
       "    .dataframe tbody tr th {\n",
       "        vertical-align: top;\n",
       "    }\n",
       "\n",
       "    .dataframe thead th {\n",
       "        text-align: right;\n",
       "    }\n",
       "</style>\n",
       "<table border=\"1\" class=\"dataframe\">\n",
       "  <thead>\n",
       "    <tr style=\"text-align: right;\">\n",
       "      <th></th>\n",
       "      <th>age</th>\n",
       "      <th>workclass_1</th>\n",
       "      <th>workclass_2</th>\n",
       "      <th>workclass_3</th>\n",
       "      <th>workclass_4</th>\n",
       "      <th>workclass_5</th>\n",
       "      <th>workclass_6</th>\n",
       "      <th>workclass_7</th>\n",
       "      <th>education_1</th>\n",
       "      <th>education_2</th>\n",
       "      <th>...</th>\n",
       "      <th>native.country_33</th>\n",
       "      <th>native.country_34</th>\n",
       "      <th>native.country_35</th>\n",
       "      <th>native.country_36</th>\n",
       "      <th>native.country_37</th>\n",
       "      <th>native.country_38</th>\n",
       "      <th>native.country_39</th>\n",
       "      <th>native.country_40</th>\n",
       "      <th>native.country_41</th>\n",
       "      <th>income</th>\n",
       "    </tr>\n",
       "  </thead>\n",
       "  <tbody>\n",
       "    <tr>\n",
       "      <th>0</th>\n",
       "      <td>82</td>\n",
       "      <td>1</td>\n",
       "      <td>0</td>\n",
       "      <td>0</td>\n",
       "      <td>0</td>\n",
       "      <td>0</td>\n",
       "      <td>0</td>\n",
       "      <td>0</td>\n",
       "      <td>1</td>\n",
       "      <td>0</td>\n",
       "      <td>...</td>\n",
       "      <td>0</td>\n",
       "      <td>0</td>\n",
       "      <td>0</td>\n",
       "      <td>0</td>\n",
       "      <td>0</td>\n",
       "      <td>0</td>\n",
       "      <td>0</td>\n",
       "      <td>0</td>\n",
       "      <td>0</td>\n",
       "      <td>0</td>\n",
       "    </tr>\n",
       "    <tr>\n",
       "      <th>1</th>\n",
       "      <td>54</td>\n",
       "      <td>1</td>\n",
       "      <td>0</td>\n",
       "      <td>0</td>\n",
       "      <td>0</td>\n",
       "      <td>0</td>\n",
       "      <td>0</td>\n",
       "      <td>0</td>\n",
       "      <td>0</td>\n",
       "      <td>1</td>\n",
       "      <td>...</td>\n",
       "      <td>0</td>\n",
       "      <td>0</td>\n",
       "      <td>0</td>\n",
       "      <td>0</td>\n",
       "      <td>0</td>\n",
       "      <td>0</td>\n",
       "      <td>0</td>\n",
       "      <td>0</td>\n",
       "      <td>0</td>\n",
       "      <td>0</td>\n",
       "    </tr>\n",
       "    <tr>\n",
       "      <th>2</th>\n",
       "      <td>41</td>\n",
       "      <td>1</td>\n",
       "      <td>0</td>\n",
       "      <td>0</td>\n",
       "      <td>0</td>\n",
       "      <td>0</td>\n",
       "      <td>0</td>\n",
       "      <td>0</td>\n",
       "      <td>0</td>\n",
       "      <td>0</td>\n",
       "      <td>...</td>\n",
       "      <td>0</td>\n",
       "      <td>0</td>\n",
       "      <td>0</td>\n",
       "      <td>0</td>\n",
       "      <td>0</td>\n",
       "      <td>0</td>\n",
       "      <td>0</td>\n",
       "      <td>0</td>\n",
       "      <td>0</td>\n",
       "      <td>0</td>\n",
       "    </tr>\n",
       "    <tr>\n",
       "      <th>3</th>\n",
       "      <td>34</td>\n",
       "      <td>1</td>\n",
       "      <td>0</td>\n",
       "      <td>0</td>\n",
       "      <td>0</td>\n",
       "      <td>0</td>\n",
       "      <td>0</td>\n",
       "      <td>0</td>\n",
       "      <td>1</td>\n",
       "      <td>0</td>\n",
       "      <td>...</td>\n",
       "      <td>0</td>\n",
       "      <td>0</td>\n",
       "      <td>0</td>\n",
       "      <td>0</td>\n",
       "      <td>0</td>\n",
       "      <td>0</td>\n",
       "      <td>0</td>\n",
       "      <td>0</td>\n",
       "      <td>0</td>\n",
       "      <td>0</td>\n",
       "    </tr>\n",
       "    <tr>\n",
       "      <th>4</th>\n",
       "      <td>38</td>\n",
       "      <td>1</td>\n",
       "      <td>0</td>\n",
       "      <td>0</td>\n",
       "      <td>0</td>\n",
       "      <td>0</td>\n",
       "      <td>0</td>\n",
       "      <td>0</td>\n",
       "      <td>0</td>\n",
       "      <td>0</td>\n",
       "      <td>...</td>\n",
       "      <td>0</td>\n",
       "      <td>0</td>\n",
       "      <td>0</td>\n",
       "      <td>0</td>\n",
       "      <td>0</td>\n",
       "      <td>0</td>\n",
       "      <td>0</td>\n",
       "      <td>0</td>\n",
       "      <td>0</td>\n",
       "      <td>0</td>\n",
       "    </tr>\n",
       "    <tr>\n",
       "      <th>5</th>\n",
       "      <td>74</td>\n",
       "      <td>0</td>\n",
       "      <td>1</td>\n",
       "      <td>0</td>\n",
       "      <td>0</td>\n",
       "      <td>0</td>\n",
       "      <td>0</td>\n",
       "      <td>0</td>\n",
       "      <td>0</td>\n",
       "      <td>0</td>\n",
       "      <td>...</td>\n",
       "      <td>0</td>\n",
       "      <td>0</td>\n",
       "      <td>0</td>\n",
       "      <td>0</td>\n",
       "      <td>0</td>\n",
       "      <td>0</td>\n",
       "      <td>0</td>\n",
       "      <td>0</td>\n",
       "      <td>0</td>\n",
       "      <td>1</td>\n",
       "    </tr>\n",
       "    <tr>\n",
       "      <th>6</th>\n",
       "      <td>68</td>\n",
       "      <td>0</td>\n",
       "      <td>0</td>\n",
       "      <td>1</td>\n",
       "      <td>0</td>\n",
       "      <td>0</td>\n",
       "      <td>0</td>\n",
       "      <td>0</td>\n",
       "      <td>1</td>\n",
       "      <td>0</td>\n",
       "      <td>...</td>\n",
       "      <td>0</td>\n",
       "      <td>0</td>\n",
       "      <td>0</td>\n",
       "      <td>0</td>\n",
       "      <td>0</td>\n",
       "      <td>0</td>\n",
       "      <td>0</td>\n",
       "      <td>0</td>\n",
       "      <td>0</td>\n",
       "      <td>0</td>\n",
       "    </tr>\n",
       "    <tr>\n",
       "      <th>7</th>\n",
       "      <td>45</td>\n",
       "      <td>1</td>\n",
       "      <td>0</td>\n",
       "      <td>0</td>\n",
       "      <td>0</td>\n",
       "      <td>0</td>\n",
       "      <td>0</td>\n",
       "      <td>0</td>\n",
       "      <td>0</td>\n",
       "      <td>0</td>\n",
       "      <td>...</td>\n",
       "      <td>0</td>\n",
       "      <td>0</td>\n",
       "      <td>0</td>\n",
       "      <td>0</td>\n",
       "      <td>0</td>\n",
       "      <td>0</td>\n",
       "      <td>0</td>\n",
       "      <td>0</td>\n",
       "      <td>0</td>\n",
       "      <td>1</td>\n",
       "    </tr>\n",
       "    <tr>\n",
       "      <th>8</th>\n",
       "      <td>38</td>\n",
       "      <td>0</td>\n",
       "      <td>0</td>\n",
       "      <td>0</td>\n",
       "      <td>1</td>\n",
       "      <td>0</td>\n",
       "      <td>0</td>\n",
       "      <td>0</td>\n",
       "      <td>0</td>\n",
       "      <td>0</td>\n",
       "      <td>...</td>\n",
       "      <td>0</td>\n",
       "      <td>0</td>\n",
       "      <td>0</td>\n",
       "      <td>0</td>\n",
       "      <td>0</td>\n",
       "      <td>0</td>\n",
       "      <td>0</td>\n",
       "      <td>0</td>\n",
       "      <td>0</td>\n",
       "      <td>1</td>\n",
       "    </tr>\n",
       "    <tr>\n",
       "      <th>9</th>\n",
       "      <td>52</td>\n",
       "      <td>1</td>\n",
       "      <td>0</td>\n",
       "      <td>0</td>\n",
       "      <td>0</td>\n",
       "      <td>0</td>\n",
       "      <td>0</td>\n",
       "      <td>0</td>\n",
       "      <td>0</td>\n",
       "      <td>0</td>\n",
       "      <td>...</td>\n",
       "      <td>0</td>\n",
       "      <td>0</td>\n",
       "      <td>0</td>\n",
       "      <td>0</td>\n",
       "      <td>0</td>\n",
       "      <td>0</td>\n",
       "      <td>0</td>\n",
       "      <td>0</td>\n",
       "      <td>0</td>\n",
       "      <td>1</td>\n",
       "    </tr>\n",
       "  </tbody>\n",
       "</table>\n",
       "<p>10 rows × 104 columns</p>\n",
       "</div>"
      ],
      "text/plain": [
       "   age  workclass_1  workclass_2  workclass_3  workclass_4  workclass_5  \\\n",
       "0   82            1            0            0            0            0   \n",
       "1   54            1            0            0            0            0   \n",
       "2   41            1            0            0            0            0   \n",
       "3   34            1            0            0            0            0   \n",
       "4   38            1            0            0            0            0   \n",
       "5   74            0            1            0            0            0   \n",
       "6   68            0            0            1            0            0   \n",
       "7   45            1            0            0            0            0   \n",
       "8   38            0            0            0            1            0   \n",
       "9   52            1            0            0            0            0   \n",
       "\n",
       "   workclass_6  workclass_7  education_1  education_2  ...  native.country_33  \\\n",
       "0            0            0            1            0  ...                  0   \n",
       "1            0            0            0            1  ...                  0   \n",
       "2            0            0            0            0  ...                  0   \n",
       "3            0            0            1            0  ...                  0   \n",
       "4            0            0            0            0  ...                  0   \n",
       "5            0            0            0            0  ...                  0   \n",
       "6            0            0            1            0  ...                  0   \n",
       "7            0            0            0            0  ...                  0   \n",
       "8            0            0            0            0  ...                  0   \n",
       "9            0            0            0            0  ...                  0   \n",
       "\n",
       "   native.country_34  native.country_35  native.country_36  native.country_37  \\\n",
       "0                  0                  0                  0                  0   \n",
       "1                  0                  0                  0                  0   \n",
       "2                  0                  0                  0                  0   \n",
       "3                  0                  0                  0                  0   \n",
       "4                  0                  0                  0                  0   \n",
       "5                  0                  0                  0                  0   \n",
       "6                  0                  0                  0                  0   \n",
       "7                  0                  0                  0                  0   \n",
       "8                  0                  0                  0                  0   \n",
       "9                  0                  0                  0                  0   \n",
       "\n",
       "   native.country_38  native.country_39  native.country_40  native.country_41  \\\n",
       "0                  0                  0                  0                  0   \n",
       "1                  0                  0                  0                  0   \n",
       "2                  0                  0                  0                  0   \n",
       "3                  0                  0                  0                  0   \n",
       "4                  0                  0                  0                  0   \n",
       "5                  0                  0                  0                  0   \n",
       "6                  0                  0                  0                  0   \n",
       "7                  0                  0                  0                  0   \n",
       "8                  0                  0                  0                  0   \n",
       "9                  0                  0                  0                  0   \n",
       "\n",
       "   income  \n",
       "0       0  \n",
       "1       0  \n",
       "2       0  \n",
       "3       0  \n",
       "4       0  \n",
       "5       1  \n",
       "6       0  \n",
       "7       1  \n",
       "8       1  \n",
       "9       1  \n",
       "\n",
       "[10 rows x 104 columns]"
      ]
     },
     "execution_count": 9,
     "metadata": {},
     "output_type": "execute_result"
    }
   ],
   "source": [
    "# 不要カラムの削除と並べ替え\n",
    "'''\n",
    "df = df[[\"age\",\n",
    "         \"workclass\",\n",
    "         #\"fnlwgt\",\n",
    "         \"education\",\n",
    "         \"education.num\",\n",
    "         \"marital.status\",\n",
    "         \"occupation\",\n",
    "         \"relationship\",\n",
    "         \"race\",\n",
    "         \"sex\",\n",
    "         \"capital.gain\",\n",
    "         \"capital.loss\",\n",
    "         \"hours.per.week\",\n",
    "         \"native.country\",\n",
    "         \"income\",]]\n",
    "'''\n",
    "df = df.drop([\"fnlwgt\"], axis=1)\n",
    "df.head(10)"
   ]
  },
  {
   "cell_type": "code",
   "execution_count": 10,
   "id": "5b76a5f5-bd1b-4de7-8173-7975716c1be4",
   "metadata": {
    "tags": []
   },
   "outputs": [],
   "source": [
    "X = df.drop(['income'], axis=1)\n",
    "y = df['income']\n",
    "\n",
    "#Creation of Train and Test dataset\n",
    "X_train, X_test , y_train, y_test  = train_test_split(X      , y      , test_size=0.2, shuffle=False)\n",
    "\n",
    "#Creation of Train and validation dataset\n",
    "X_train, X_valid, y_train, y_valid = train_test_split(X_train, y_train, test_size=0.2, shuffle=False)"
   ]
  },
  {
   "cell_type": "code",
   "execution_count": 11,
   "id": "3871dfb1-1d1d-43b0-8dcb-cd8a4742e94f",
   "metadata": {
    "tags": []
   },
   "outputs": [
    {
     "name": "stdout",
     "output_type": "stream",
     "text": [
      "Train dataset: (19303, 103)(19303,)\n",
      "Validation dataset: (4826, 103)(4826,)\n",
      "Test dataset: (6033, 103)(6033,)\n"
     ]
    }
   ],
   "source": [
    "print (\"Train dataset: {0}{1}\".format(X_train.shape, y_train.shape))\n",
    "print (\"Validation dataset: {0}{1}\".format(X_valid.shape, y_valid.shape))\n",
    "print (\"Test dataset: {0}{1}\".format(X_test.shape, y_test.shape))"
   ]
  },
  {
   "cell_type": "code",
   "execution_count": 12,
   "id": "67533dfe-b063-4177-b44a-7e9794366994",
   "metadata": {
    "tags": []
   },
   "outputs": [],
   "source": [
    "# データセットを生成する\n",
    "lgb_train = lgb.Dataset(X_train, y_train)\n",
    "lgb_valid = lgb.Dataset(X_valid, y_valid, reference=lgb_train)"
   ]
  },
  {
   "cell_type": "code",
   "execution_count": 13,
   "id": "b7c8c6de-b208-47ac-af74-45fece3b7ea9",
   "metadata": {
    "tags": []
   },
   "outputs": [],
   "source": [
    "# LightGBMのハイパーパラメータ\n",
    "params = {\n",
    "    # 勾配ブースティング木(GBDT:Gradient Boosting Decision Tree)\n",
    "    'boosting_type': 'gbdt',\n",
    "    # 二値分類問題\n",
    "    'objective': 'binary',\n",
    "    # AUCの最大化を目指す\n",
    "    'metric': 'auc',\n",
    "    # 正答率の最大化を目指す\n",
    "    #'metric': 'binary_error',\n",
    "    # Fatal の場合出力\n",
    "    'verbosity': -1,\n",
    "    # 学習率\n",
    "    'learning_rate': 0.02,\n",
    "    'deterministic': True, # 再現性確保用のパラメータ\n",
    "    'force_row_wise': True  # 再現性確保用のパラメータ\n",
    "}"
   ]
  },
  {
   "cell_type": "code",
   "execution_count": 14,
   "id": "67822de6-4283-4b35-bec8-b37f7fb0d85c",
   "metadata": {
    "tags": []
   },
   "outputs": [],
   "source": [
    "booster = lgb.LightGBMTuner(\n",
    "    params = params,\n",
    "    train_set = lgb_train,\n",
    "    valid_sets = lgb_valid,\n",
    "    verbose_eval = 50,  # 50イテレーション毎に学習結果出力\n",
    "    num_boost_round = 10000,  # 最大イテレーション回数指定\n",
    "    early_stopping_rounds = 100,\n",
    "    optuna_seed = 31, # 再現性確保用のパラメータ\n",
    ")"
   ]
  },
  {
   "cell_type": "code",
   "execution_count": 15,
   "id": "a2e59aef-eccd-4f4c-b65c-a5378bda35ce",
   "metadata": {
    "tags": []
   },
   "outputs": [
    {
     "name": "stderr",
     "output_type": "stream",
     "text": [
      "feature_fraction, val_score: -inf:   0%|                                                         | 0/7 [00:00<?, ?it/s]"
     ]
    },
    {
     "name": "stdout",
     "output_type": "stream",
     "text": [
      "Training until validation scores don't improve for 100 rounds\n"
     ]
    },
    {
     "name": "stderr",
     "output_type": "stream",
     "text": [
      "C:\\Python39\\lib\\site-packages\\lightgbm\\engine.py:181: UserWarning: 'early_stopping_rounds' argument is deprecated and will be removed in a future release of LightGBM. Pass 'early_stopping()' callback via 'callbacks' argument instead.\n",
      "  _log_warning(\"'early_stopping_rounds' argument is deprecated and will be removed in a future release of LightGBM. \"\n",
      "C:\\Python39\\lib\\site-packages\\lightgbm\\engine.py:239: UserWarning: 'verbose_eval' argument is deprecated and will be removed in a future release of LightGBM. Pass 'log_evaluation()' callback via 'callbacks' argument instead.\n",
      "  _log_warning(\"'verbose_eval' argument is deprecated and will be removed in a future release of LightGBM. \"\n"
     ]
    },
    {
     "name": "stdout",
     "output_type": "stream",
     "text": [
      "[50]\tvalid_0's auc: 0.889524\n",
      "[100]\tvalid_0's auc: 0.895641\n",
      "[150]\tvalid_0's auc: 0.899847\n",
      "[200]\tvalid_0's auc: 0.901449\n",
      "[250]\tvalid_0's auc: 0.902116\n",
      "[300]\tvalid_0's auc: 0.902619\n",
      "[350]\tvalid_0's auc: 0.903006\n",
      "[400]\tvalid_0's auc: 0.903235\n",
      "[450]\tvalid_0's auc: 0.90335\n",
      "[500]\tvalid_0's auc: 0.903194\n",
      "[550]\tvalid_0's auc: 0.902898\n",
      "Early stopping, best iteration is:\n",
      "[454]\tvalid_0's auc: 0.90337\n"
     ]
    },
    {
     "name": "stderr",
     "output_type": "stream",
     "text": [
      "feature_fraction, val_score: 0.903370:  14%|######4                                      | 1/7 [00:01<00:07,  1.19s/it]C:\\Python39\\lib\\site-packages\\lightgbm\\engine.py:181: UserWarning: 'early_stopping_rounds' argument is deprecated and will be removed in a future release of LightGBM. Pass 'early_stopping()' callback via 'callbacks' argument instead.\n",
      "  _log_warning(\"'early_stopping_rounds' argument is deprecated and will be removed in a future release of LightGBM. \"\n",
      "C:\\Python39\\lib\\site-packages\\lightgbm\\engine.py:239: UserWarning: 'verbose_eval' argument is deprecated and will be removed in a future release of LightGBM. Pass 'log_evaluation()' callback via 'callbacks' argument instead.\n",
      "  _log_warning(\"'verbose_eval' argument is deprecated and will be removed in a future release of LightGBM. \"\n"
     ]
    },
    {
     "name": "stdout",
     "output_type": "stream",
     "text": [
      "Training until validation scores don't improve for 100 rounds\n",
      "[50]\tvalid_0's auc: 0.891521\n",
      "[100]\tvalid_0's auc: 0.896627\n",
      "[150]\tvalid_0's auc: 0.900669\n",
      "[200]\tvalid_0's auc: 0.902519\n",
      "[250]\tvalid_0's auc: 0.902953\n",
      "[300]\tvalid_0's auc: 0.903131\n",
      "[350]\tvalid_0's auc: 0.903115\n",
      "[400]\tvalid_0's auc: 0.903094\n"
     ]
    },
    {
     "name": "stderr",
     "output_type": "stream",
     "text": [
      "feature_fraction, val_score: 0.903370:  29%|############8                                | 2/7 [00:02<00:05,  1.08s/it]"
     ]
    },
    {
     "name": "stdout",
     "output_type": "stream",
     "text": [
      "[450]\tvalid_0's auc: 0.903185\n",
      "[500]\tvalid_0's auc: 0.903131\n",
      "Early stopping, best iteration is:\n",
      "[434]\tvalid_0's auc: 0.903226\n"
     ]
    },
    {
     "name": "stderr",
     "output_type": "stream",
     "text": [
      "C:\\Python39\\lib\\site-packages\\lightgbm\\engine.py:181: UserWarning: 'early_stopping_rounds' argument is deprecated and will be removed in a future release of LightGBM. Pass 'early_stopping()' callback via 'callbacks' argument instead.\n",
      "  _log_warning(\"'early_stopping_rounds' argument is deprecated and will be removed in a future release of LightGBM. \"\n",
      "C:\\Python39\\lib\\site-packages\\lightgbm\\engine.py:239: UserWarning: 'verbose_eval' argument is deprecated and will be removed in a future release of LightGBM. Pass 'log_evaluation()' callback via 'callbacks' argument instead.\n",
      "  _log_warning(\"'verbose_eval' argument is deprecated and will be removed in a future release of LightGBM. \"\n"
     ]
    },
    {
     "name": "stdout",
     "output_type": "stream",
     "text": [
      "Training until validation scores don't improve for 100 rounds\n",
      "[50]\tvalid_0's auc: 0.896219\n",
      "[100]\tvalid_0's auc: 0.899862\n",
      "[150]\tvalid_0's auc: 0.902059\n",
      "[200]\tvalid_0's auc: 0.903673\n",
      "[250]\tvalid_0's auc: 0.904419\n",
      "[300]\tvalid_0's auc: 0.904779\n",
      "[350]\tvalid_0's auc: 0.904731\n",
      "[400]\tvalid_0's auc: 0.904852\n"
     ]
    },
    {
     "name": "stderr",
     "output_type": "stream",
     "text": [
      "feature_fraction, val_score: 0.904852:  43%|###################2                         | 3/7 [00:03<00:04,  1.03s/it]"
     ]
    },
    {
     "name": "stdout",
     "output_type": "stream",
     "text": [
      "[450]\tvalid_0's auc: 0.904708\n",
      "Early stopping, best iteration is:\n",
      "[399]\tvalid_0's auc: 0.904852\n"
     ]
    },
    {
     "name": "stderr",
     "output_type": "stream",
     "text": [
      "C:\\Python39\\lib\\site-packages\\lightgbm\\engine.py:181: UserWarning: 'early_stopping_rounds' argument is deprecated and will be removed in a future release of LightGBM. Pass 'early_stopping()' callback via 'callbacks' argument instead.\n",
      "  _log_warning(\"'early_stopping_rounds' argument is deprecated and will be removed in a future release of LightGBM. \"\n",
      "C:\\Python39\\lib\\site-packages\\lightgbm\\engine.py:239: UserWarning: 'verbose_eval' argument is deprecated and will be removed in a future release of LightGBM. Pass 'log_evaluation()' callback via 'callbacks' argument instead.\n",
      "  _log_warning(\"'verbose_eval' argument is deprecated and will be removed in a future release of LightGBM. \"\n"
     ]
    },
    {
     "name": "stdout",
     "output_type": "stream",
     "text": [
      "Training until validation scores don't improve for 100 rounds\n",
      "[50]\tvalid_0's auc: 0.898232\n",
      "[100]\tvalid_0's auc: 0.901139\n",
      "[150]\tvalid_0's auc: 0.903161\n",
      "[200]\tvalid_0's auc: 0.904371\n",
      "[250]\tvalid_0's auc: 0.905056\n",
      "[300]\tvalid_0's auc: 0.905421\n",
      "[350]\tvalid_0's auc: 0.905396\n",
      "[400]\tvalid_0's auc: 0.905427\n",
      "[450]\tvalid_0's auc: 0.905601\n",
      "[500]\tvalid_0's auc: 0.905658\n"
     ]
    },
    {
     "name": "stderr",
     "output_type": "stream",
     "text": [
      "feature_fraction, val_score: 0.905694:  57%|#########################7                   | 4/7 [00:04<00:03,  1.09s/it]"
     ]
    },
    {
     "name": "stdout",
     "output_type": "stream",
     "text": [
      "[550]\tvalid_0's auc: 0.905456\n",
      "Early stopping, best iteration is:\n",
      "[489]\tvalid_0's auc: 0.905694\n",
      "Training until validation scores don't improve for 100 rounds\n"
     ]
    },
    {
     "name": "stderr",
     "output_type": "stream",
     "text": [
      "C:\\Python39\\lib\\site-packages\\lightgbm\\engine.py:181: UserWarning: 'early_stopping_rounds' argument is deprecated and will be removed in a future release of LightGBM. Pass 'early_stopping()' callback via 'callbacks' argument instead.\n",
      "  _log_warning(\"'early_stopping_rounds' argument is deprecated and will be removed in a future release of LightGBM. \"\n",
      "C:\\Python39\\lib\\site-packages\\lightgbm\\engine.py:239: UserWarning: 'verbose_eval' argument is deprecated and will be removed in a future release of LightGBM. Pass 'log_evaluation()' callback via 'callbacks' argument instead.\n",
      "  _log_warning(\"'verbose_eval' argument is deprecated and will be removed in a future release of LightGBM. \"\n"
     ]
    },
    {
     "name": "stdout",
     "output_type": "stream",
     "text": [
      "[50]\tvalid_0's auc: 0.897926\n",
      "[100]\tvalid_0's auc: 0.900882\n",
      "[150]\tvalid_0's auc: 0.902782\n",
      "[200]\tvalid_0's auc: 0.904125\n",
      "[250]\tvalid_0's auc: 0.904678\n",
      "[300]\tvalid_0's auc: 0.905054\n",
      "[350]\tvalid_0's auc: 0.905324\n",
      "[400]\tvalid_0's auc: 0.905358\n",
      "[450]\tvalid_0's auc: 0.905302\n",
      "Early stopping, best iteration is:\n",
      "[359]\tvalid_0's auc: 0.9054\n"
     ]
    },
    {
     "name": "stderr",
     "output_type": "stream",
     "text": [
      "feature_fraction, val_score: 0.905694:  71%|################################1            | 5/7 [00:05<00:02,  1.04s/it]C:\\Python39\\lib\\site-packages\\lightgbm\\engine.py:181: UserWarning: 'early_stopping_rounds' argument is deprecated and will be removed in a future release of LightGBM. Pass 'early_stopping()' callback via 'callbacks' argument instead.\n",
      "  _log_warning(\"'early_stopping_rounds' argument is deprecated and will be removed in a future release of LightGBM. \"\n",
      "C:\\Python39\\lib\\site-packages\\lightgbm\\engine.py:239: UserWarning: 'verbose_eval' argument is deprecated and will be removed in a future release of LightGBM. Pass 'log_evaluation()' callback via 'callbacks' argument instead.\n",
      "  _log_warning(\"'verbose_eval' argument is deprecated and will be removed in a future release of LightGBM. \"\n"
     ]
    },
    {
     "name": "stdout",
     "output_type": "stream",
     "text": [
      "Training until validation scores don't improve for 100 rounds\n",
      "[50]\tvalid_0's auc: 0.8937\n",
      "[100]\tvalid_0's auc: 0.898028\n",
      "[150]\tvalid_0's auc: 0.901441\n",
      "[200]\tvalid_0's auc: 0.903275\n",
      "[250]\tvalid_0's auc: 0.903584\n",
      "[300]\tvalid_0's auc: 0.903794\n",
      "[350]\tvalid_0's auc: 0.903872\n"
     ]
    },
    {
     "name": "stderr",
     "output_type": "stream",
     "text": [
      "feature_fraction, val_score: 0.905694:  86%|######################################5      | 6/7 [00:06<00:01,  1.09s/it]"
     ]
    },
    {
     "name": "stdout",
     "output_type": "stream",
     "text": [
      "[400]\tvalid_0's auc: 0.903912\n",
      "[450]\tvalid_0's auc: 0.903888\n",
      "Early stopping, best iteration is:\n",
      "[368]\tvalid_0's auc: 0.903986\n"
     ]
    },
    {
     "name": "stderr",
     "output_type": "stream",
     "text": [
      "C:\\Python39\\lib\\site-packages\\lightgbm\\engine.py:181: UserWarning: 'early_stopping_rounds' argument is deprecated and will be removed in a future release of LightGBM. Pass 'early_stopping()' callback via 'callbacks' argument instead.\n",
      "  _log_warning(\"'early_stopping_rounds' argument is deprecated and will be removed in a future release of LightGBM. \"\n",
      "C:\\Python39\\lib\\site-packages\\lightgbm\\engine.py:239: UserWarning: 'verbose_eval' argument is deprecated and will be removed in a future release of LightGBM. Pass 'log_evaluation()' callback via 'callbacks' argument instead.\n",
      "  _log_warning(\"'verbose_eval' argument is deprecated and will be removed in a future release of LightGBM. \"\n"
     ]
    },
    {
     "name": "stdout",
     "output_type": "stream",
     "text": [
      "Training until validation scores don't improve for 100 rounds\n",
      "[50]\tvalid_0's auc: 0.895481\n",
      "[100]\tvalid_0's auc: 0.899061\n",
      "[150]\tvalid_0's auc: 0.901728\n",
      "[200]\tvalid_0's auc: 0.90346\n",
      "[250]\tvalid_0's auc: 0.904153\n",
      "[300]\tvalid_0's auc: 0.904424\n",
      "[350]\tvalid_0's auc: 0.904549\n",
      "[400]\tvalid_0's auc: 0.904709\n"
     ]
    },
    {
     "name": "stderr",
     "output_type": "stream",
     "text": [
      "feature_fraction, val_score: 0.905694:  86%|######################################5      | 6/7 [00:07<00:01,  1.09s/it]"
     ]
    },
    {
     "name": "stdout",
     "output_type": "stream",
     "text": [
      "[450]\tvalid_0's auc: 0.904767\n",
      "[500]\tvalid_0's auc: 0.904665\n",
      "Early stopping, best iteration is:\n",
      "[434]\tvalid_0's auc: 0.904811\n"
     ]
    },
    {
     "name": "stderr",
     "output_type": "stream",
     "text": [
      "feature_fraction, val_score: 0.905694: 100%|#############################################| 7/7 [00:07<00:00,  1.09s/it]\n",
      "num_leaves, val_score: 0.905694:   0%|                                                          | 0/20 [00:00<?, ?it/s]C:\\Python39\\lib\\site-packages\\lightgbm\\engine.py:181: UserWarning: 'early_stopping_rounds' argument is deprecated and will be removed in a future release of LightGBM. Pass 'early_stopping()' callback via 'callbacks' argument instead.\n",
      "  _log_warning(\"'early_stopping_rounds' argument is deprecated and will be removed in a future release of LightGBM. \"\n",
      "C:\\Python39\\lib\\site-packages\\lightgbm\\engine.py:239: UserWarning: 'verbose_eval' argument is deprecated and will be removed in a future release of LightGBM. Pass 'log_evaluation()' callback via 'callbacks' argument instead.\n",
      "  _log_warning(\"'verbose_eval' argument is deprecated and will be removed in a future release of LightGBM. \"\n"
     ]
    },
    {
     "name": "stdout",
     "output_type": "stream",
     "text": [
      "Training until validation scores don't improve for 100 rounds\n",
      "[50]\tvalid_0's auc: 0.902004\n",
      "[100]\tvalid_0's auc: 0.903999\n",
      "[150]\tvalid_0's auc: 0.904878\n",
      "[200]\tvalid_0's auc: 0.905144\n",
      "[250]\tvalid_0's auc: 0.905082\n"
     ]
    },
    {
     "name": "stderr",
     "output_type": "stream",
     "text": [
      "num_leaves, val_score: 0.905694:   5%|##5                                               | 1/20 [00:01<00:20,  1.10s/it]"
     ]
    },
    {
     "name": "stdout",
     "output_type": "stream",
     "text": [
      "[300]\tvalid_0's auc: 0.905103\n",
      "Early stopping, best iteration is:\n",
      "[233]\tvalid_0's auc: 0.905276\n"
     ]
    },
    {
     "name": "stderr",
     "output_type": "stream",
     "text": [
      "C:\\Python39\\lib\\site-packages\\lightgbm\\engine.py:181: UserWarning: 'early_stopping_rounds' argument is deprecated and will be removed in a future release of LightGBM. Pass 'early_stopping()' callback via 'callbacks' argument instead.\n",
      "  _log_warning(\"'early_stopping_rounds' argument is deprecated and will be removed in a future release of LightGBM. \"\n",
      "C:\\Python39\\lib\\site-packages\\lightgbm\\engine.py:239: UserWarning: 'verbose_eval' argument is deprecated and will be removed in a future release of LightGBM. Pass 'log_evaluation()' callback via 'callbacks' argument instead.\n",
      "  _log_warning(\"'verbose_eval' argument is deprecated and will be removed in a future release of LightGBM. \"\n"
     ]
    },
    {
     "name": "stdout",
     "output_type": "stream",
     "text": [
      "Training until validation scores don't improve for 100 rounds\n",
      "[50]\tvalid_0's auc: 0.902335\n",
      "[100]\tvalid_0's auc: 0.903581\n",
      "[150]\tvalid_0's auc: 0.90349\n",
      "[200]\tvalid_0's auc: 0.902785\n",
      "Early stopping, best iteration is:\n",
      "[127]\tvalid_0's auc: 0.903873\n"
     ]
    },
    {
     "name": "stderr",
     "output_type": "stream",
     "text": [
      "num_leaves, val_score: 0.905694:  10%|#####                                             | 2/20 [00:02<00:24,  1.38s/it]C:\\Python39\\lib\\site-packages\\lightgbm\\engine.py:181: UserWarning: 'early_stopping_rounds' argument is deprecated and will be removed in a future release of LightGBM. Pass 'early_stopping()' callback via 'callbacks' argument instead.\n",
      "  _log_warning(\"'early_stopping_rounds' argument is deprecated and will be removed in a future release of LightGBM. \"\n",
      "C:\\Python39\\lib\\site-packages\\lightgbm\\engine.py:239: UserWarning: 'verbose_eval' argument is deprecated and will be removed in a future release of LightGBM. Pass 'log_evaluation()' callback via 'callbacks' argument instead.\n",
      "  _log_warning(\"'verbose_eval' argument is deprecated and will be removed in a future release of LightGBM. \"\n"
     ]
    },
    {
     "name": "stdout",
     "output_type": "stream",
     "text": [
      "Training until validation scores don't improve for 100 rounds\n",
      "[50]\tvalid_0's auc: 0.902414\n",
      "[100]\tvalid_0's auc: 0.903793\n",
      "[150]\tvalid_0's auc: 0.903832\n",
      "[200]\tvalid_0's auc: 0.903293\n",
      "Early stopping, best iteration is:\n",
      "[127]\tvalid_0's auc: 0.904116\n"
     ]
    },
    {
     "name": "stderr",
     "output_type": "stream",
     "text": [
      "num_leaves, val_score: 0.905694:  15%|#######5                                          | 3/20 [00:04<00:23,  1.39s/it]C:\\Python39\\lib\\site-packages\\lightgbm\\engine.py:181: UserWarning: 'early_stopping_rounds' argument is deprecated and will be removed in a future release of LightGBM. Pass 'early_stopping()' callback via 'callbacks' argument instead.\n",
      "  _log_warning(\"'early_stopping_rounds' argument is deprecated and will be removed in a future release of LightGBM. \"\n",
      "C:\\Python39\\lib\\site-packages\\lightgbm\\engine.py:239: UserWarning: 'verbose_eval' argument is deprecated and will be removed in a future release of LightGBM. Pass 'log_evaluation()' callback via 'callbacks' argument instead.\n",
      "  _log_warning(\"'verbose_eval' argument is deprecated and will be removed in a future release of LightGBM. \"\n"
     ]
    },
    {
     "name": "stdout",
     "output_type": "stream",
     "text": [
      "Training until validation scores don't improve for 100 rounds\n",
      "[50]\tvalid_0's auc: 0.902346\n",
      "[100]\tvalid_0's auc: 0.903648\n",
      "[150]\tvalid_0's auc: 0.903563\n"
     ]
    },
    {
     "name": "stderr",
     "output_type": "stream",
     "text": [
      "num_leaves, val_score: 0.905694:  20%|##########                                        | 4/20 [00:05<00:22,  1.44s/it]"
     ]
    },
    {
     "name": "stdout",
     "output_type": "stream",
     "text": [
      "[200]\tvalid_0's auc: 0.902763\n",
      "Early stopping, best iteration is:\n",
      "[117]\tvalid_0's auc: 0.903903\n"
     ]
    },
    {
     "name": "stderr",
     "output_type": "stream",
     "text": [
      "num_leaves, val_score: 0.905694:  20%|##########                                        | 4/20 [00:05<00:22,  1.44s/it]C:\\Python39\\lib\\site-packages\\lightgbm\\engine.py:181: UserWarning: 'early_stopping_rounds' argument is deprecated and will be removed in a future release of LightGBM. Pass 'early_stopping()' callback via 'callbacks' argument instead.\n",
      "  _log_warning(\"'early_stopping_rounds' argument is deprecated and will be removed in a future release of LightGBM. \"\n",
      "C:\\Python39\\lib\\site-packages\\lightgbm\\engine.py:239: UserWarning: 'verbose_eval' argument is deprecated and will be removed in a future release of LightGBM. Pass 'log_evaluation()' callback via 'callbacks' argument instead.\n",
      "  _log_warning(\"'verbose_eval' argument is deprecated and will be removed in a future release of LightGBM. \"\n"
     ]
    },
    {
     "name": "stdout",
     "output_type": "stream",
     "text": [
      "Training until validation scores don't improve for 100 rounds\n",
      "[50]\tvalid_0's auc: 0.901106\n",
      "[100]\tvalid_0's auc: 0.903291\n",
      "[150]\tvalid_0's auc: 0.904628\n",
      "[200]\tvalid_0's auc: 0.905112\n",
      "[250]\tvalid_0's auc: 0.90528\n",
      "[300]\tvalid_0's auc: 0.90545\n",
      "[350]\tvalid_0's auc: 0.905287\n",
      "Early stopping, best iteration is:\n",
      "[274]\tvalid_0's auc: 0.905512\n"
     ]
    },
    {
     "name": "stderr",
     "output_type": "stream",
     "text": [
      "num_leaves, val_score: 0.905694:  25%|############5                                     | 5/20 [00:06<00:19,  1.30s/it]C:\\Python39\\lib\\site-packages\\lightgbm\\engine.py:181: UserWarning: 'early_stopping_rounds' argument is deprecated and will be removed in a future release of LightGBM. Pass 'early_stopping()' callback via 'callbacks' argument instead.\n",
      "  _log_warning(\"'early_stopping_rounds' argument is deprecated and will be removed in a future release of LightGBM. \"\n",
      "C:\\Python39\\lib\\site-packages\\lightgbm\\engine.py:239: UserWarning: 'verbose_eval' argument is deprecated and will be removed in a future release of LightGBM. Pass 'log_evaluation()' callback via 'callbacks' argument instead.\n",
      "  _log_warning(\"'verbose_eval' argument is deprecated and will be removed in a future release of LightGBM. \"\n"
     ]
    },
    {
     "name": "stdout",
     "output_type": "stream",
     "text": [
      "Training until validation scores don't improve for 100 rounds\n",
      "[50]\tvalid_0's auc: 0.899136\n",
      "[100]\tvalid_0's auc: 0.901821\n",
      "[150]\tvalid_0's auc: 0.903768\n",
      "[200]\tvalid_0's auc: 0.904823\n",
      "[250]\tvalid_0's auc: 0.905295\n",
      "[300]\tvalid_0's auc: 0.905643\n",
      "[350]\tvalid_0's auc: 0.905517\n"
     ]
    },
    {
     "name": "stderr",
     "output_type": "stream",
     "text": [
      "num_leaves, val_score: 0.905694:  30%|###############                                   | 6/20 [00:07<00:16,  1.16s/it]"
     ]
    },
    {
     "name": "stdout",
     "output_type": "stream",
     "text": [
      "[400]\tvalid_0's auc: 0.905492\n",
      "Early stopping, best iteration is:\n",
      "[305]\tvalid_0's auc: 0.905651\n",
      "Training until validation scores don't improve for 100 rounds\n"
     ]
    },
    {
     "name": "stderr",
     "output_type": "stream",
     "text": [
      "C:\\Python39\\lib\\site-packages\\lightgbm\\engine.py:181: UserWarning: 'early_stopping_rounds' argument is deprecated and will be removed in a future release of LightGBM. Pass 'early_stopping()' callback via 'callbacks' argument instead.\n",
      "  _log_warning(\"'early_stopping_rounds' argument is deprecated and will be removed in a future release of LightGBM. \"\n",
      "C:\\Python39\\lib\\site-packages\\lightgbm\\engine.py:239: UserWarning: 'verbose_eval' argument is deprecated and will be removed in a future release of LightGBM. Pass 'log_evaluation()' callback via 'callbacks' argument instead.\n",
      "  _log_warning(\"'verbose_eval' argument is deprecated and will be removed in a future release of LightGBM. \"\n"
     ]
    },
    {
     "name": "stdout",
     "output_type": "stream",
     "text": [
      "[50]\tvalid_0's auc: 0.902368\n",
      "[100]\tvalid_0's auc: 0.903719\n",
      "[150]\tvalid_0's auc: 0.903588\n"
     ]
    },
    {
     "name": "stderr",
     "output_type": "stream",
     "text": [
      "num_leaves, val_score: 0.905694:  35%|#################5                                | 7/20 [00:09<00:16,  1.27s/it]"
     ]
    },
    {
     "name": "stdout",
     "output_type": "stream",
     "text": [
      "[200]\tvalid_0's auc: 0.902823\n",
      "Early stopping, best iteration is:\n",
      "[117]\tvalid_0's auc: 0.904008\n"
     ]
    },
    {
     "name": "stderr",
     "output_type": "stream",
     "text": [
      "C:\\Python39\\lib\\site-packages\\lightgbm\\engine.py:181: UserWarning: 'early_stopping_rounds' argument is deprecated and will be removed in a future release of LightGBM. Pass 'early_stopping()' callback via 'callbacks' argument instead.\n",
      "  _log_warning(\"'early_stopping_rounds' argument is deprecated and will be removed in a future release of LightGBM. \"\n",
      "C:\\Python39\\lib\\site-packages\\lightgbm\\engine.py:239: UserWarning: 'verbose_eval' argument is deprecated and will be removed in a future release of LightGBM. Pass 'log_evaluation()' callback via 'callbacks' argument instead.\n",
      "  _log_warning(\"'verbose_eval' argument is deprecated and will be removed in a future release of LightGBM. \"\n"
     ]
    },
    {
     "name": "stdout",
     "output_type": "stream",
     "text": [
      "Training until validation scores don't improve for 100 rounds\n",
      "[50]\tvalid_0's auc: 0.895027\n",
      "[100]\tvalid_0's auc: 0.899124\n",
      "[150]\tvalid_0's auc: 0.901246\n",
      "[200]\tvalid_0's auc: 0.902866\n",
      "[250]\tvalid_0's auc: 0.903984\n",
      "[300]\tvalid_0's auc: 0.904951\n",
      "[350]\tvalid_0's auc: 0.905438\n",
      "[400]\tvalid_0's auc: 0.905605\n",
      "[450]\tvalid_0's auc: 0.905954\n",
      "[500]\tvalid_0's auc: 0.906077\n",
      "[550]\tvalid_0's auc: 0.906137\n",
      "[600]\tvalid_0's auc: 0.906193\n",
      "[650]\tvalid_0's auc: 0.90622\n"
     ]
    },
    {
     "name": "stderr",
     "output_type": "stream",
     "text": [
      "num_leaves, val_score: 0.906278:  40%|####################                              | 8/20 [00:10<00:14,  1.24s/it]"
     ]
    },
    {
     "name": "stdout",
     "output_type": "stream",
     "text": [
      "[700]\tvalid_0's auc: 0.90623\n",
      "[750]\tvalid_0's auc: 0.906199\n",
      "Early stopping, best iteration is:\n",
      "[656]\tvalid_0's auc: 0.906278\n"
     ]
    },
    {
     "name": "stderr",
     "output_type": "stream",
     "text": [
      "C:\\Python39\\lib\\site-packages\\lightgbm\\engine.py:181: UserWarning: 'early_stopping_rounds' argument is deprecated and will be removed in a future release of LightGBM. Pass 'early_stopping()' callback via 'callbacks' argument instead.\n",
      "  _log_warning(\"'early_stopping_rounds' argument is deprecated and will be removed in a future release of LightGBM. \"\n",
      "C:\\Python39\\lib\\site-packages\\lightgbm\\engine.py:239: UserWarning: 'verbose_eval' argument is deprecated and will be removed in a future release of LightGBM. Pass 'log_evaluation()' callback via 'callbacks' argument instead.\n",
      "  _log_warning(\"'verbose_eval' argument is deprecated and will be removed in a future release of LightGBM. \"\n"
     ]
    },
    {
     "name": "stdout",
     "output_type": "stream",
     "text": [
      "Training until validation scores don't improve for 100 rounds\n",
      "[50]\tvalid_0's auc: 0.895911\n",
      "[100]\tvalid_0's auc: 0.899758\n",
      "[150]\tvalid_0's auc: 0.901746\n",
      "[200]\tvalid_0's auc: 0.903235\n",
      "[250]\tvalid_0's auc: 0.904223\n",
      "[300]\tvalid_0's auc: 0.905054\n",
      "[350]\tvalid_0's auc: 0.905484\n",
      "[400]\tvalid_0's auc: 0.905689\n",
      "[450]\tvalid_0's auc: 0.906007\n",
      "[500]\tvalid_0's auc: 0.906176\n",
      "[550]\tvalid_0's auc: 0.906228\n"
     ]
    },
    {
     "name": "stderr",
     "output_type": "stream",
     "text": [
      "num_leaves, val_score: 0.906278:  45%|######################5                           | 9/20 [00:11<00:12,  1.15s/it]"
     ]
    },
    {
     "name": "stdout",
     "output_type": "stream",
     "text": [
      "[600]\tvalid_0's auc: 0.906139\n",
      "Early stopping, best iteration is:\n",
      "[509]\tvalid_0's auc: 0.906255\n",
      "Training until validation scores don't improve for 100 rounds\n"
     ]
    },
    {
     "name": "stderr",
     "output_type": "stream",
     "text": [
      "C:\\Python39\\lib\\site-packages\\lightgbm\\engine.py:181: UserWarning: 'early_stopping_rounds' argument is deprecated and will be removed in a future release of LightGBM. Pass 'early_stopping()' callback via 'callbacks' argument instead.\n",
      "  _log_warning(\"'early_stopping_rounds' argument is deprecated and will be removed in a future release of LightGBM. \"\n",
      "C:\\Python39\\lib\\site-packages\\lightgbm\\engine.py:239: UserWarning: 'verbose_eval' argument is deprecated and will be removed in a future release of LightGBM. Pass 'log_evaluation()' callback via 'callbacks' argument instead.\n",
      "  _log_warning(\"'verbose_eval' argument is deprecated and will be removed in a future release of LightGBM. \"\n"
     ]
    },
    {
     "name": "stdout",
     "output_type": "stream",
     "text": [
      "[50]\tvalid_0's auc: 0.902309\n",
      "[100]\tvalid_0's auc: 0.903689\n",
      "[150]\tvalid_0's auc: 0.904109\n",
      "[200]\tvalid_0's auc: 0.903795\n"
     ]
    },
    {
     "name": "stderr",
     "output_type": "stream",
     "text": [
      "num_leaves, val_score: 0.906278:  50%|########################5                        | 10/20 [00:12<00:10,  1.08s/it]"
     ]
    },
    {
     "name": "stdout",
     "output_type": "stream",
     "text": [
      "Early stopping, best iteration is:\n",
      "[127]\tvalid_0's auc: 0.904242\n",
      "Training until validation scores don't improve for 100 rounds\n"
     ]
    },
    {
     "name": "stderr",
     "output_type": "stream",
     "text": [
      "C:\\Python39\\lib\\site-packages\\lightgbm\\engine.py:181: UserWarning: 'early_stopping_rounds' argument is deprecated and will be removed in a future release of LightGBM. Pass 'early_stopping()' callback via 'callbacks' argument instead.\n",
      "  _log_warning(\"'early_stopping_rounds' argument is deprecated and will be removed in a future release of LightGBM. \"\n",
      "C:\\Python39\\lib\\site-packages\\lightgbm\\engine.py:239: UserWarning: 'verbose_eval' argument is deprecated and will be removed in a future release of LightGBM. Pass 'log_evaluation()' callback via 'callbacks' argument instead.\n",
      "  _log_warning(\"'verbose_eval' argument is deprecated and will be removed in a future release of LightGBM. \"\n"
     ]
    },
    {
     "name": "stdout",
     "output_type": "stream",
     "text": [
      "[50]\tvalid_0's auc: 0.902357\n",
      "[100]\tvalid_0's auc: 0.903802\n",
      "[150]\tvalid_0's auc: 0.904158\n",
      "[200]\tvalid_0's auc: 0.903978\n"
     ]
    },
    {
     "name": "stderr",
     "output_type": "stream",
     "text": [
      "num_leaves, val_score: 0.906278:  55%|##########################9                      | 11/20 [00:12<00:09,  1.03s/it]"
     ]
    },
    {
     "name": "stdout",
     "output_type": "stream",
     "text": [
      "Early stopping, best iteration is:\n",
      "[127]\tvalid_0's auc: 0.90438\n",
      "Training until validation scores don't improve for 100 rounds\n",
      "[50]\tvalid_0's auc: 0.879586\n"
     ]
    },
    {
     "name": "stderr",
     "output_type": "stream",
     "text": [
      "C:\\Python39\\lib\\site-packages\\lightgbm\\engine.py:181: UserWarning: 'early_stopping_rounds' argument is deprecated and will be removed in a future release of LightGBM. Pass 'early_stopping()' callback via 'callbacks' argument instead.\n",
      "  _log_warning(\"'early_stopping_rounds' argument is deprecated and will be removed in a future release of LightGBM. \"\n",
      "C:\\Python39\\lib\\site-packages\\lightgbm\\engine.py:239: UserWarning: 'verbose_eval' argument is deprecated and will be removed in a future release of LightGBM. Pass 'log_evaluation()' callback via 'callbacks' argument instead.\n",
      "  _log_warning(\"'verbose_eval' argument is deprecated and will be removed in a future release of LightGBM. \"\n"
     ]
    },
    {
     "name": "stdout",
     "output_type": "stream",
     "text": [
      "[100]\tvalid_0's auc: 0.887522\n",
      "[150]\tvalid_0's auc: 0.892082\n",
      "[200]\tvalid_0's auc: 0.895289\n",
      "[250]\tvalid_0's auc: 0.896851\n",
      "[300]\tvalid_0's auc: 0.898636\n",
      "[350]\tvalid_0's auc: 0.899584\n",
      "[400]\tvalid_0's auc: 0.900367\n",
      "[450]\tvalid_0's auc: 0.901473\n",
      "[500]\tvalid_0's auc: 0.902017\n",
      "[550]\tvalid_0's auc: 0.902581\n",
      "[600]\tvalid_0's auc: 0.902886\n",
      "[650]\tvalid_0's auc: 0.903082\n",
      "[700]\tvalid_0's auc: 0.903289\n",
      "[750]\tvalid_0's auc: 0.903626\n",
      "[800]\tvalid_0's auc: 0.903949\n",
      "[850]\tvalid_0's auc: 0.904198\n",
      "[900]\tvalid_0's auc: 0.904349\n",
      "[950]\tvalid_0's auc: 0.904635\n",
      "[1000]\tvalid_0's auc: 0.904839\n",
      "[1050]\tvalid_0's auc: 0.904929\n",
      "[1100]\tvalid_0's auc: 0.905066\n",
      "[1150]\tvalid_0's auc: 0.90519\n",
      "[1200]\tvalid_0's auc: 0.905361\n",
      "[1250]\tvalid_0's auc: 0.905413\n",
      "[1300]\tvalid_0's auc: 0.905484\n",
      "[1350]\tvalid_0's auc: 0.905545\n",
      "[1400]\tvalid_0's auc: 0.905648\n",
      "[1450]\tvalid_0's auc: 0.905699\n",
      "[1500]\tvalid_0's auc: 0.90569\n",
      "[1550]\tvalid_0's auc: 0.905749\n",
      "[1600]\tvalid_0's auc: 0.905773\n",
      "[1650]\tvalid_0's auc: 0.905815\n",
      "[1700]\tvalid_0's auc: 0.905873\n",
      "[1750]\tvalid_0's auc: 0.905903\n",
      "[1800]\tvalid_0's auc: 0.905952\n",
      "[1850]\tvalid_0's auc: 0.905969\n",
      "[1900]\tvalid_0's auc: 0.906016\n",
      "[1950]\tvalid_0's auc: 0.905989\n",
      "[2000]\tvalid_0's auc: 0.906016\n",
      "[2050]\tvalid_0's auc: 0.90601\n",
      "[2100]\tvalid_0's auc: 0.906048\n",
      "[2150]\tvalid_0's auc: 0.906062\n",
      "[2200]\tvalid_0's auc: 0.90617\n",
      "[2250]\tvalid_0's auc: 0.906162\n",
      "[2300]\tvalid_0's auc: 0.906182\n",
      "[2350]\tvalid_0's auc: 0.906171\n"
     ]
    },
    {
     "name": "stderr",
     "output_type": "stream",
     "text": [
      "num_leaves, val_score: 0.906278:  60%|#############################4                   | 12/20 [00:15<00:10,  1.37s/it]"
     ]
    },
    {
     "name": "stdout",
     "output_type": "stream",
     "text": [
      "Early stopping, best iteration is:\n",
      "[2268]\tvalid_0's auc: 0.906214\n",
      "Training until validation scores don't improve for 100 rounds\n"
     ]
    },
    {
     "name": "stderr",
     "output_type": "stream",
     "text": [
      "C:\\Python39\\lib\\site-packages\\lightgbm\\engine.py:181: UserWarning: 'early_stopping_rounds' argument is deprecated and will be removed in a future release of LightGBM. Pass 'early_stopping()' callback via 'callbacks' argument instead.\n",
      "  _log_warning(\"'early_stopping_rounds' argument is deprecated and will be removed in a future release of LightGBM. \"\n",
      "C:\\Python39\\lib\\site-packages\\lightgbm\\engine.py:239: UserWarning: 'verbose_eval' argument is deprecated and will be removed in a future release of LightGBM. Pass 'log_evaluation()' callback via 'callbacks' argument instead.\n",
      "  _log_warning(\"'verbose_eval' argument is deprecated and will be removed in a future release of LightGBM. \"\n"
     ]
    },
    {
     "name": "stdout",
     "output_type": "stream",
     "text": [
      "[50]\tvalid_0's auc: 0.902339\n",
      "[100]\tvalid_0's auc: 0.903916\n",
      "[150]\tvalid_0's auc: 0.90457\n",
      "[200]\tvalid_0's auc: 0.904617\n"
     ]
    },
    {
     "name": "stderr",
     "output_type": "stream",
     "text": [
      "num_leaves, val_score: 0.906278:  65%|###############################8                 | 13/20 [00:16<00:08,  1.23s/it]"
     ]
    },
    {
     "name": "stdout",
     "output_type": "stream",
     "text": [
      "[250]\tvalid_0's auc: 0.904426\n",
      "Early stopping, best iteration is:\n",
      "[173]\tvalid_0's auc: 0.904677\n"
     ]
    },
    {
     "name": "stderr",
     "output_type": "stream",
     "text": [
      "C:\\Python39\\lib\\site-packages\\lightgbm\\engine.py:181: UserWarning: 'early_stopping_rounds' argument is deprecated and will be removed in a future release of LightGBM. Pass 'early_stopping()' callback via 'callbacks' argument instead.\n",
      "  _log_warning(\"'early_stopping_rounds' argument is deprecated and will be removed in a future release of LightGBM. \"\n",
      "C:\\Python39\\lib\\site-packages\\lightgbm\\engine.py:239: UserWarning: 'verbose_eval' argument is deprecated and will be removed in a future release of LightGBM. Pass 'log_evaluation()' callback via 'callbacks' argument instead.\n",
      "  _log_warning(\"'verbose_eval' argument is deprecated and will be removed in a future release of LightGBM. \"\n"
     ]
    },
    {
     "name": "stdout",
     "output_type": "stream",
     "text": [
      "Training until validation scores don't improve for 100 rounds\n",
      "[50]\tvalid_0's auc: 0.872565\n",
      "[100]\tvalid_0's auc: 0.880405\n",
      "[150]\tvalid_0's auc: 0.885124\n",
      "[200]\tvalid_0's auc: 0.889373\n",
      "[250]\tvalid_0's auc: 0.892119\n",
      "[300]\tvalid_0's auc: 0.894565\n",
      "[350]\tvalid_0's auc: 0.895877\n",
      "[400]\tvalid_0's auc: 0.897267\n",
      "[450]\tvalid_0's auc: 0.898163\n",
      "[500]\tvalid_0's auc: 0.898838\n",
      "[550]\tvalid_0's auc: 0.899671\n",
      "[600]\tvalid_0's auc: 0.900221\n",
      "[650]\tvalid_0's auc: 0.900771\n",
      "[700]\tvalid_0's auc: 0.901246\n",
      "[750]\tvalid_0's auc: 0.901649\n",
      "[800]\tvalid_0's auc: 0.901861\n",
      "[850]\tvalid_0's auc: 0.902145\n",
      "[900]\tvalid_0's auc: 0.902359\n",
      "[950]\tvalid_0's auc: 0.902691\n",
      "[1000]\tvalid_0's auc: 0.902856\n",
      "[1050]\tvalid_0's auc: 0.903142\n",
      "[1100]\tvalid_0's auc: 0.903353\n",
      "[1150]\tvalid_0's auc: 0.903509\n",
      "[1200]\tvalid_0's auc: 0.903719\n",
      "[1250]\tvalid_0's auc: 0.903908\n",
      "[1300]\tvalid_0's auc: 0.904097\n",
      "[1350]\tvalid_0's auc: 0.90422\n",
      "[1400]\tvalid_0's auc: 0.904347\n",
      "[1450]\tvalid_0's auc: 0.904501\n",
      "[1500]\tvalid_0's auc: 0.904592\n",
      "[1550]\tvalid_0's auc: 0.904639\n",
      "[1600]\tvalid_0's auc: 0.904733\n",
      "[1650]\tvalid_0's auc: 0.904799\n",
      "[1700]\tvalid_0's auc: 0.904875\n",
      "[1750]\tvalid_0's auc: 0.904937\n",
      "[1800]\tvalid_0's auc: 0.904983\n",
      "[1850]\tvalid_0's auc: 0.905029\n",
      "[1900]\tvalid_0's auc: 0.905025\n",
      "[1950]\tvalid_0's auc: 0.905051\n",
      "[2000]\tvalid_0's auc: 0.9051\n",
      "[2050]\tvalid_0's auc: 0.90513\n",
      "[2100]\tvalid_0's auc: 0.905152\n",
      "[2150]\tvalid_0's auc: 0.905204\n",
      "[2200]\tvalid_0's auc: 0.905214\n",
      "[2250]\tvalid_0's auc: 0.905234\n",
      "[2300]\tvalid_0's auc: 0.905263\n",
      "[2350]\tvalid_0's auc: 0.90528\n",
      "[2400]\tvalid_0's auc: 0.905328\n",
      "[2450]\tvalid_0's auc: 0.905356\n",
      "[2500]\tvalid_0's auc: 0.905344\n",
      "[2550]\tvalid_0's auc: 0.905362\n",
      "[2600]\tvalid_0's auc: 0.905417\n",
      "[2650]\tvalid_0's auc: 0.905398\n"
     ]
    },
    {
     "name": "stderr",
     "output_type": "stream",
     "text": [
      "num_leaves, val_score: 0.906278:  70%|##################################3              | 14/20 [00:18<00:09,  1.55s/it]"
     ]
    },
    {
     "name": "stdout",
     "output_type": "stream",
     "text": [
      "[2700]\tvalid_0's auc: 0.905373\n",
      "Early stopping, best iteration is:\n",
      "[2606]\tvalid_0's auc: 0.905418\n",
      "Training until validation scores don't improve for 100 rounds\n"
     ]
    },
    {
     "name": "stderr",
     "output_type": "stream",
     "text": [
      "C:\\Python39\\lib\\site-packages\\lightgbm\\engine.py:181: UserWarning: 'early_stopping_rounds' argument is deprecated and will be removed in a future release of LightGBM. Pass 'early_stopping()' callback via 'callbacks' argument instead.\n",
      "  _log_warning(\"'early_stopping_rounds' argument is deprecated and will be removed in a future release of LightGBM. \"\n",
      "C:\\Python39\\lib\\site-packages\\lightgbm\\engine.py:239: UserWarning: 'verbose_eval' argument is deprecated and will be removed in a future release of LightGBM. Pass 'log_evaluation()' callback via 'callbacks' argument instead.\n",
      "  _log_warning(\"'verbose_eval' argument is deprecated and will be removed in a future release of LightGBM. \"\n"
     ]
    },
    {
     "name": "stdout",
     "output_type": "stream",
     "text": [
      "[50]\tvalid_0's auc: 0.902462\n",
      "[100]\tvalid_0's auc: 0.903925\n",
      "[150]\tvalid_0's auc: 0.90462\n",
      "[200]\tvalid_0's auc: 0.904617\n",
      "[250]\tvalid_0's auc: 0.904487\n",
      "Early stopping, best iteration is:\n",
      "[166]\tvalid_0's auc: 0.904718\n"
     ]
    },
    {
     "name": "stderr",
     "output_type": "stream",
     "text": [
      "num_leaves, val_score: 0.906278:  75%|####################################7            | 15/20 [00:19<00:06,  1.38s/it]C:\\Python39\\lib\\site-packages\\lightgbm\\engine.py:181: UserWarning: 'early_stopping_rounds' argument is deprecated and will be removed in a future release of LightGBM. Pass 'early_stopping()' callback via 'callbacks' argument instead.\n",
      "  _log_warning(\"'early_stopping_rounds' argument is deprecated and will be removed in a future release of LightGBM. \"\n",
      "C:\\Python39\\lib\\site-packages\\lightgbm\\engine.py:239: UserWarning: 'verbose_eval' argument is deprecated and will be removed in a future release of LightGBM. Pass 'log_evaluation()' callback via 'callbacks' argument instead.\n",
      "  _log_warning(\"'verbose_eval' argument is deprecated and will be removed in a future release of LightGBM. \"\n"
     ]
    },
    {
     "name": "stdout",
     "output_type": "stream",
     "text": [
      "Training until validation scores don't improve for 100 rounds\n",
      "[50]\tvalid_0's auc: 0.898818\n",
      "[100]\tvalid_0's auc: 0.901625\n",
      "[150]\tvalid_0's auc: 0.903515\n",
      "[200]\tvalid_0's auc: 0.904568\n",
      "[250]\tvalid_0's auc: 0.905099\n",
      "[300]\tvalid_0's auc: 0.905472\n",
      "[350]\tvalid_0's auc: 0.90554\n",
      "[400]\tvalid_0's auc: 0.905551\n",
      "[450]\tvalid_0's auc: 0.905681\n",
      "[500]\tvalid_0's auc: 0.905753\n",
      "[550]\tvalid_0's auc: 0.905611\n"
     ]
    },
    {
     "name": "stderr",
     "output_type": "stream",
     "text": [
      "num_leaves, val_score: 0.906278:  80%|#######################################2         | 16/20 [00:20<00:05,  1.31s/it]"
     ]
    },
    {
     "name": "stdout",
     "output_type": "stream",
     "text": [
      "[600]\tvalid_0's auc: 0.905267\n",
      "Early stopping, best iteration is:\n",
      "[506]\tvalid_0's auc: 0.905804\n"
     ]
    },
    {
     "name": "stderr",
     "output_type": "stream",
     "text": [
      "C:\\Python39\\lib\\site-packages\\lightgbm\\engine.py:181: UserWarning: 'early_stopping_rounds' argument is deprecated and will be removed in a future release of LightGBM. Pass 'early_stopping()' callback via 'callbacks' argument instead.\n",
      "  _log_warning(\"'early_stopping_rounds' argument is deprecated and will be removed in a future release of LightGBM. \"\n",
      "C:\\Python39\\lib\\site-packages\\lightgbm\\engine.py:239: UserWarning: 'verbose_eval' argument is deprecated and will be removed in a future release of LightGBM. Pass 'log_evaluation()' callback via 'callbacks' argument instead.\n",
      "  _log_warning(\"'verbose_eval' argument is deprecated and will be removed in a future release of LightGBM. \"\n"
     ]
    },
    {
     "name": "stdout",
     "output_type": "stream",
     "text": [
      "Training until validation scores don't improve for 100 rounds\n",
      "[50]\tvalid_0's auc: 0.902467\n",
      "[100]\tvalid_0's auc: 0.903812\n",
      "[150]\tvalid_0's auc: 0.904022\n"
     ]
    },
    {
     "name": "stderr",
     "output_type": "stream",
     "text": [
      "num_leaves, val_score: 0.906278:  85%|#########################################6       | 17/20 [00:21<00:03,  1.25s/it]"
     ]
    },
    {
     "name": "stdout",
     "output_type": "stream",
     "text": [
      "[200]\tvalid_0's auc: 0.903472\n",
      "Early stopping, best iteration is:\n",
      "[127]\tvalid_0's auc: 0.904229\n"
     ]
    },
    {
     "name": "stderr",
     "output_type": "stream",
     "text": [
      "C:\\Python39\\lib\\site-packages\\lightgbm\\engine.py:181: UserWarning: 'early_stopping_rounds' argument is deprecated and will be removed in a future release of LightGBM. Pass 'early_stopping()' callback via 'callbacks' argument instead.\n",
      "  _log_warning(\"'early_stopping_rounds' argument is deprecated and will be removed in a future release of LightGBM. \"\n",
      "C:\\Python39\\lib\\site-packages\\lightgbm\\engine.py:239: UserWarning: 'verbose_eval' argument is deprecated and will be removed in a future release of LightGBM. Pass 'log_evaluation()' callback via 'callbacks' argument instead.\n",
      "  _log_warning(\"'verbose_eval' argument is deprecated and will be removed in a future release of LightGBM. \"\n"
     ]
    },
    {
     "name": "stdout",
     "output_type": "stream",
     "text": [
      "Training until validation scores don't improve for 100 rounds\n",
      "[50]\tvalid_0's auc: 0.90205\n",
      "[100]\tvalid_0's auc: 0.903886\n",
      "[150]\tvalid_0's auc: 0.904731\n",
      "[200]\tvalid_0's auc: 0.904823\n",
      "[250]\tvalid_0's auc: 0.904773\n"
     ]
    },
    {
     "name": "stderr",
     "output_type": "stream",
     "text": [
      "num_leaves, val_score: 0.906278:  90%|############################################1    | 18/20 [00:22<00:02,  1.18s/it]"
     ]
    },
    {
     "name": "stdout",
     "output_type": "stream",
     "text": [
      "[300]\tvalid_0's auc: 0.904694\n",
      "Early stopping, best iteration is:\n",
      "[231]\tvalid_0's auc: 0.904965\n"
     ]
    },
    {
     "name": "stderr",
     "output_type": "stream",
     "text": [
      "C:\\Python39\\lib\\site-packages\\lightgbm\\engine.py:181: UserWarning: 'early_stopping_rounds' argument is deprecated and will be removed in a future release of LightGBM. Pass 'early_stopping()' callback via 'callbacks' argument instead.\n",
      "  _log_warning(\"'early_stopping_rounds' argument is deprecated and will be removed in a future release of LightGBM. \"\n",
      "C:\\Python39\\lib\\site-packages\\lightgbm\\engine.py:239: UserWarning: 'verbose_eval' argument is deprecated and will be removed in a future release of LightGBM. Pass 'log_evaluation()' callback via 'callbacks' argument instead.\n",
      "  _log_warning(\"'verbose_eval' argument is deprecated and will be removed in a future release of LightGBM. \"\n"
     ]
    },
    {
     "name": "stdout",
     "output_type": "stream",
     "text": [
      "Training until validation scores don't improve for 100 rounds\n",
      "[50]\tvalid_0's auc: 0.898576\n",
      "[100]\tvalid_0's auc: 0.901449\n",
      "[150]\tvalid_0's auc: 0.903326\n",
      "[200]\tvalid_0's auc: 0.904476\n",
      "[250]\tvalid_0's auc: 0.905058\n",
      "[300]\tvalid_0's auc: 0.90549\n",
      "[350]\tvalid_0's auc: 0.905495\n",
      "[400]\tvalid_0's auc: 0.905469\n",
      "[450]\tvalid_0's auc: 0.905651\n",
      "[500]\tvalid_0's auc: 0.905781\n",
      "[550]\tvalid_0's auc: 0.905661\n"
     ]
    },
    {
     "name": "stderr",
     "output_type": "stream",
     "text": [
      "num_leaves, val_score: 0.906278:  95%|##############################################5  | 19/20 [00:23<00:01,  1.20s/it]"
     ]
    },
    {
     "name": "stdout",
     "output_type": "stream",
     "text": [
      "[600]\tvalid_0's auc: 0.905533\n",
      "Early stopping, best iteration is:\n",
      "[507]\tvalid_0's auc: 0.905862\n"
     ]
    },
    {
     "name": "stderr",
     "output_type": "stream",
     "text": [
      "C:\\Python39\\lib\\site-packages\\lightgbm\\engine.py:181: UserWarning: 'early_stopping_rounds' argument is deprecated and will be removed in a future release of LightGBM. Pass 'early_stopping()' callback via 'callbacks' argument instead.\n",
      "  _log_warning(\"'early_stopping_rounds' argument is deprecated and will be removed in a future release of LightGBM. \"\n",
      "C:\\Python39\\lib\\site-packages\\lightgbm\\engine.py:239: UserWarning: 'verbose_eval' argument is deprecated and will be removed in a future release of LightGBM. Pass 'log_evaluation()' callback via 'callbacks' argument instead.\n",
      "  _log_warning(\"'verbose_eval' argument is deprecated and will be removed in a future release of LightGBM. \"\n"
     ]
    },
    {
     "name": "stdout",
     "output_type": "stream",
     "text": [
      "Training until validation scores don't improve for 100 rounds\n",
      "[50]\tvalid_0's auc: 0.901666\n",
      "[100]\tvalid_0's auc: 0.903644\n",
      "[150]\tvalid_0's auc: 0.904705\n",
      "[200]\tvalid_0's auc: 0.905134\n",
      "[250]\tvalid_0's auc: 0.90524\n"
     ]
    },
    {
     "name": "stderr",
     "output_type": "stream",
     "text": [
      "num_leaves, val_score: 0.906278: 100%|#################################################| 20/20 [00:24<00:00,  1.24s/it]\n"
     ]
    },
    {
     "name": "stdout",
     "output_type": "stream",
     "text": [
      "[300]\tvalid_0's auc: 0.905131\n",
      "Early stopping, best iteration is:\n",
      "[246]\tvalid_0's auc: 0.905332\n"
     ]
    },
    {
     "name": "stderr",
     "output_type": "stream",
     "text": [
      "bagging, val_score: 0.906278:   0%|                                                             | 0/10 [00:00<?, ?it/s]C:\\Python39\\lib\\site-packages\\lightgbm\\engine.py:181: UserWarning: 'early_stopping_rounds' argument is deprecated and will be removed in a future release of LightGBM. Pass 'early_stopping()' callback via 'callbacks' argument instead.\n",
      "  _log_warning(\"'early_stopping_rounds' argument is deprecated and will be removed in a future release of LightGBM. \"\n",
      "C:\\Python39\\lib\\site-packages\\lightgbm\\engine.py:239: UserWarning: 'verbose_eval' argument is deprecated and will be removed in a future release of LightGBM. Pass 'log_evaluation()' callback via 'callbacks' argument instead.\n",
      "  _log_warning(\"'verbose_eval' argument is deprecated and will be removed in a future release of LightGBM. \"\n"
     ]
    },
    {
     "name": "stdout",
     "output_type": "stream",
     "text": [
      "Training until validation scores don't improve for 100 rounds\n",
      "[50]\tvalid_0's auc: 0.895575\n",
      "[100]\tvalid_0's auc: 0.899203\n",
      "[150]\tvalid_0's auc: 0.90173\n",
      "[200]\tvalid_0's auc: 0.903823\n",
      "[250]\tvalid_0's auc: 0.904663\n",
      "[300]\tvalid_0's auc: 0.905282\n",
      "[350]\tvalid_0's auc: 0.905814\n",
      "[400]\tvalid_0's auc: 0.905993\n"
     ]
    },
    {
     "name": "stderr",
     "output_type": "stream",
     "text": [
      "bagging, val_score: 0.906278:  10%|#####3                                               | 1/10 [00:00<00:08,  1.10it/s]"
     ]
    },
    {
     "name": "stdout",
     "output_type": "stream",
     "text": [
      "[450]\tvalid_0's auc: 0.906034\n",
      "[500]\tvalid_0's auc: 0.906005\n",
      "Early stopping, best iteration is:\n",
      "[413]\tvalid_0's auc: 0.906167\n",
      "Training until validation scores don't improve for 100 rounds\n"
     ]
    },
    {
     "name": "stderr",
     "output_type": "stream",
     "text": [
      "C:\\Python39\\lib\\site-packages\\lightgbm\\engine.py:181: UserWarning: 'early_stopping_rounds' argument is deprecated and will be removed in a future release of LightGBM. Pass 'early_stopping()' callback via 'callbacks' argument instead.\n",
      "  _log_warning(\"'early_stopping_rounds' argument is deprecated and will be removed in a future release of LightGBM. \"\n",
      "C:\\Python39\\lib\\site-packages\\lightgbm\\engine.py:239: UserWarning: 'verbose_eval' argument is deprecated and will be removed in a future release of LightGBM. Pass 'log_evaluation()' callback via 'callbacks' argument instead.\n",
      "  _log_warning(\"'verbose_eval' argument is deprecated and will be removed in a future release of LightGBM. \"\n"
     ]
    },
    {
     "name": "stdout",
     "output_type": "stream",
     "text": [
      "[50]\tvalid_0's auc: 0.895136\n",
      "[100]\tvalid_0's auc: 0.898882\n",
      "[150]\tvalid_0's auc: 0.901232\n",
      "[200]\tvalid_0's auc: 0.903135\n",
      "[250]\tvalid_0's auc: 0.904218\n",
      "[300]\tvalid_0's auc: 0.904958\n",
      "[350]\tvalid_0's auc: 0.905337\n",
      "[400]\tvalid_0's auc: 0.905644\n",
      "[450]\tvalid_0's auc: 0.905829\n",
      "[500]\tvalid_0's auc: 0.90606\n",
      "[550]\tvalid_0's auc: 0.906228\n",
      "[600]\tvalid_0's auc: 0.906239\n"
     ]
    },
    {
     "name": "stderr",
     "output_type": "stream",
     "text": [
      "bagging, val_score: 0.906352:  20%|##########6                                          | 2/10 [00:02<00:09,  1.13s/it]"
     ]
    },
    {
     "name": "stdout",
     "output_type": "stream",
     "text": [
      "[650]\tvalid_0's auc: 0.906282\n",
      "Early stopping, best iteration is:\n",
      "[583]\tvalid_0's auc: 0.906352\n"
     ]
    },
    {
     "name": "stderr",
     "output_type": "stream",
     "text": [
      "C:\\Python39\\lib\\site-packages\\lightgbm\\engine.py:181: UserWarning: 'early_stopping_rounds' argument is deprecated and will be removed in a future release of LightGBM. Pass 'early_stopping()' callback via 'callbacks' argument instead.\n",
      "  _log_warning(\"'early_stopping_rounds' argument is deprecated and will be removed in a future release of LightGBM. \"\n",
      "C:\\Python39\\lib\\site-packages\\lightgbm\\engine.py:239: UserWarning: 'verbose_eval' argument is deprecated and will be removed in a future release of LightGBM. Pass 'log_evaluation()' callback via 'callbacks' argument instead.\n",
      "  _log_warning(\"'verbose_eval' argument is deprecated and will be removed in a future release of LightGBM. \"\n"
     ]
    },
    {
     "name": "stdout",
     "output_type": "stream",
     "text": [
      "Training until validation scores don't improve for 100 rounds\n",
      "[50]\tvalid_0's auc: 0.895481\n",
      "[100]\tvalid_0's auc: 0.899559\n",
      "[150]\tvalid_0's auc: 0.90203\n",
      "[200]\tvalid_0's auc: 0.903735\n",
      "[250]\tvalid_0's auc: 0.904745\n",
      "[300]\tvalid_0's auc: 0.905314\n",
      "[350]\tvalid_0's auc: 0.905841\n",
      "[400]\tvalid_0's auc: 0.906246\n",
      "[450]\tvalid_0's auc: 0.906367\n",
      "[500]\tvalid_0's auc: 0.906574\n"
     ]
    },
    {
     "name": "stderr",
     "output_type": "stream",
     "text": [
      "bagging, val_score: 0.906635:  30%|###############9                                     | 3/10 [00:03<00:08,  1.16s/it]"
     ]
    },
    {
     "name": "stdout",
     "output_type": "stream",
     "text": [
      "[550]\tvalid_0's auc: 0.906416\n",
      "[600]\tvalid_0's auc: 0.906481\n",
      "Early stopping, best iteration is:\n",
      "[510]\tvalid_0's auc: 0.906635\n"
     ]
    },
    {
     "name": "stderr",
     "output_type": "stream",
     "text": [
      "C:\\Python39\\lib\\site-packages\\lightgbm\\engine.py:181: UserWarning: 'early_stopping_rounds' argument is deprecated and will be removed in a future release of LightGBM. Pass 'early_stopping()' callback via 'callbacks' argument instead.\n",
      "  _log_warning(\"'early_stopping_rounds' argument is deprecated and will be removed in a future release of LightGBM. \"\n",
      "C:\\Python39\\lib\\site-packages\\lightgbm\\engine.py:239: UserWarning: 'verbose_eval' argument is deprecated and will be removed in a future release of LightGBM. Pass 'log_evaluation()' callback via 'callbacks' argument instead.\n",
      "  _log_warning(\"'verbose_eval' argument is deprecated and will be removed in a future release of LightGBM. \"\n"
     ]
    },
    {
     "name": "stdout",
     "output_type": "stream",
     "text": [
      "Training until validation scores don't improve for 100 rounds\n",
      "[50]\tvalid_0's auc: 0.894984\n",
      "[100]\tvalid_0's auc: 0.899185\n",
      "[150]\tvalid_0's auc: 0.901411\n",
      "[200]\tvalid_0's auc: 0.903041\n",
      "[250]\tvalid_0's auc: 0.904103\n",
      "[300]\tvalid_0's auc: 0.904968\n",
      "[350]\tvalid_0's auc: 0.905364\n",
      "[400]\tvalid_0's auc: 0.905604\n",
      "[450]\tvalid_0's auc: 0.906041\n",
      "[500]\tvalid_0's auc: 0.90606\n",
      "[550]\tvalid_0's auc: 0.906111\n",
      "[600]\tvalid_0's auc: 0.906112\n",
      "[650]\tvalid_0's auc: 0.906191\n",
      "[700]\tvalid_0's auc: 0.906179\n",
      "[750]\tvalid_0's auc: 0.906169\n",
      "[800]\tvalid_0's auc: 0.906192\n"
     ]
    },
    {
     "name": "stderr",
     "output_type": "stream",
     "text": [
      "bagging, val_score: 0.906635:  40%|#####################2                               | 4/10 [00:04<00:07,  1.25s/it]"
     ]
    },
    {
     "name": "stdout",
     "output_type": "stream",
     "text": [
      "[850]\tvalid_0's auc: 0.906136\n",
      "[900]\tvalid_0's auc: 0.906086\n",
      "Early stopping, best iteration is:\n",
      "[820]\tvalid_0's auc: 0.906255\n"
     ]
    },
    {
     "name": "stderr",
     "output_type": "stream",
     "text": [
      "C:\\Python39\\lib\\site-packages\\lightgbm\\engine.py:181: UserWarning: 'early_stopping_rounds' argument is deprecated and will be removed in a future release of LightGBM. Pass 'early_stopping()' callback via 'callbacks' argument instead.\n",
      "  _log_warning(\"'early_stopping_rounds' argument is deprecated and will be removed in a future release of LightGBM. \"\n",
      "C:\\Python39\\lib\\site-packages\\lightgbm\\engine.py:239: UserWarning: 'verbose_eval' argument is deprecated and will be removed in a future release of LightGBM. Pass 'log_evaluation()' callback via 'callbacks' argument instead.\n",
      "  _log_warning(\"'verbose_eval' argument is deprecated and will be removed in a future release of LightGBM. \"\n"
     ]
    },
    {
     "name": "stdout",
     "output_type": "stream",
     "text": [
      "Training until validation scores don't improve for 100 rounds\n",
      "[50]\tvalid_0's auc: 0.895403\n",
      "[100]\tvalid_0's auc: 0.899428\n",
      "[150]\tvalid_0's auc: 0.90179\n",
      "[200]\tvalid_0's auc: 0.903149\n",
      "[250]\tvalid_0's auc: 0.904023\n",
      "[300]\tvalid_0's auc: 0.904798\n",
      "[350]\tvalid_0's auc: 0.905124\n",
      "[400]\tvalid_0's auc: 0.905606\n"
     ]
    },
    {
     "name": "stderr",
     "output_type": "stream",
     "text": [
      "bagging, val_score: 0.906635:  50%|##########################5                          | 5/10 [00:05<00:05,  1.14s/it]"
     ]
    },
    {
     "name": "stdout",
     "output_type": "stream",
     "text": [
      "[450]\tvalid_0's auc: 0.905759\n",
      "[500]\tvalid_0's auc: 0.905737\n",
      "[550]\tvalid_0's auc: 0.905653\n",
      "Early stopping, best iteration is:\n",
      "[457]\tvalid_0's auc: 0.90585\n"
     ]
    },
    {
     "name": "stderr",
     "output_type": "stream",
     "text": [
      "bagging, val_score: 0.906635:  50%|##########################5                          | 5/10 [00:05<00:05,  1.14s/it]C:\\Python39\\lib\\site-packages\\lightgbm\\engine.py:181: UserWarning: 'early_stopping_rounds' argument is deprecated and will be removed in a future release of LightGBM. Pass 'early_stopping()' callback via 'callbacks' argument instead.\n",
      "  _log_warning(\"'early_stopping_rounds' argument is deprecated and will be removed in a future release of LightGBM. \"\n",
      "C:\\Python39\\lib\\site-packages\\lightgbm\\engine.py:239: UserWarning: 'verbose_eval' argument is deprecated and will be removed in a future release of LightGBM. Pass 'log_evaluation()' callback via 'callbacks' argument instead.\n",
      "  _log_warning(\"'verbose_eval' argument is deprecated and will be removed in a future release of LightGBM. \"\n"
     ]
    },
    {
     "name": "stdout",
     "output_type": "stream",
     "text": [
      "Training until validation scores don't improve for 100 rounds\n",
      "[50]\tvalid_0's auc: 0.895492\n",
      "[100]\tvalid_0's auc: 0.900354\n",
      "[150]\tvalid_0's auc: 0.902693\n",
      "[200]\tvalid_0's auc: 0.904059\n",
      "[250]\tvalid_0's auc: 0.904895\n",
      "[300]\tvalid_0's auc: 0.905552\n",
      "[350]\tvalid_0's auc: 0.90577\n",
      "[400]\tvalid_0's auc: 0.905861\n",
      "[450]\tvalid_0's auc: 0.906133\n",
      "[500]\tvalid_0's auc: 0.906227\n",
      "[550]\tvalid_0's auc: 0.906156\n"
     ]
    },
    {
     "name": "stderr",
     "output_type": "stream",
     "text": [
      "bagging, val_score: 0.906635:  60%|###############################8                     | 6/10 [00:06<00:04,  1.17s/it]"
     ]
    },
    {
     "name": "stdout",
     "output_type": "stream",
     "text": [
      "[600]\tvalid_0's auc: 0.906212\n",
      "[650]\tvalid_0's auc: 0.906116\n",
      "Early stopping, best iteration is:\n",
      "[587]\tvalid_0's auc: 0.906262\n"
     ]
    },
    {
     "name": "stderr",
     "output_type": "stream",
     "text": [
      "C:\\Python39\\lib\\site-packages\\lightgbm\\engine.py:181: UserWarning: 'early_stopping_rounds' argument is deprecated and will be removed in a future release of LightGBM. Pass 'early_stopping()' callback via 'callbacks' argument instead.\n",
      "  _log_warning(\"'early_stopping_rounds' argument is deprecated and will be removed in a future release of LightGBM. \"\n",
      "C:\\Python39\\lib\\site-packages\\lightgbm\\engine.py:239: UserWarning: 'verbose_eval' argument is deprecated and will be removed in a future release of LightGBM. Pass 'log_evaluation()' callback via 'callbacks' argument instead.\n",
      "  _log_warning(\"'verbose_eval' argument is deprecated and will be removed in a future release of LightGBM. \"\n"
     ]
    },
    {
     "name": "stdout",
     "output_type": "stream",
     "text": [
      "Training until validation scores don't improve for 100 rounds\n",
      "[50]\tvalid_0's auc: 0.895386\n",
      "[100]\tvalid_0's auc: 0.899535\n",
      "[150]\tvalid_0's auc: 0.901703\n",
      "[200]\tvalid_0's auc: 0.903196\n",
      "[250]\tvalid_0's auc: 0.904263\n",
      "[300]\tvalid_0's auc: 0.90514\n",
      "[350]\tvalid_0's auc: 0.905483\n",
      "[400]\tvalid_0's auc: 0.905831\n",
      "[450]\tvalid_0's auc: 0.905987\n",
      "[500]\tvalid_0's auc: 0.906084\n",
      "[550]\tvalid_0's auc: 0.90635\n"
     ]
    },
    {
     "name": "stderr",
     "output_type": "stream",
     "text": [
      "bagging, val_score: 0.906635:  70%|#####################################                | 7/10 [00:08<00:03,  1.18s/it]"
     ]
    },
    {
     "name": "stdout",
     "output_type": "stream",
     "text": [
      "[600]\tvalid_0's auc: 0.906254\n",
      "Early stopping, best iteration is:\n",
      "[549]\tvalid_0's auc: 0.906352\n"
     ]
    },
    {
     "name": "stderr",
     "output_type": "stream",
     "text": [
      "C:\\Python39\\lib\\site-packages\\lightgbm\\engine.py:181: UserWarning: 'early_stopping_rounds' argument is deprecated and will be removed in a future release of LightGBM. Pass 'early_stopping()' callback via 'callbacks' argument instead.\n",
      "  _log_warning(\"'early_stopping_rounds' argument is deprecated and will be removed in a future release of LightGBM. \"\n",
      "C:\\Python39\\lib\\site-packages\\lightgbm\\engine.py:239: UserWarning: 'verbose_eval' argument is deprecated and will be removed in a future release of LightGBM. Pass 'log_evaluation()' callback via 'callbacks' argument instead.\n",
      "  _log_warning(\"'verbose_eval' argument is deprecated and will be removed in a future release of LightGBM. \"\n"
     ]
    },
    {
     "name": "stdout",
     "output_type": "stream",
     "text": [
      "Training until validation scores don't improve for 100 rounds\n",
      "[50]\tvalid_0's auc: 0.896217\n",
      "[100]\tvalid_0's auc: 0.900158\n",
      "[150]\tvalid_0's auc: 0.902372\n",
      "[200]\tvalid_0's auc: 0.904038\n",
      "[250]\tvalid_0's auc: 0.905035\n",
      "[300]\tvalid_0's auc: 0.90552\n",
      "[350]\tvalid_0's auc: 0.905888\n",
      "[400]\tvalid_0's auc: 0.906175\n",
      "[450]\tvalid_0's auc: 0.906118\n",
      "[500]\tvalid_0's auc: 0.906322\n",
      "[550]\tvalid_0's auc: 0.906355\n"
     ]
    },
    {
     "name": "stderr",
     "output_type": "stream",
     "text": [
      "bagging, val_score: 0.906635:  80%|##########################################4          | 8/10 [00:09<00:02,  1.20s/it]"
     ]
    },
    {
     "name": "stdout",
     "output_type": "stream",
     "text": [
      "[600]\tvalid_0's auc: 0.906366\n",
      "[650]\tvalid_0's auc: 0.906175\n",
      "Early stopping, best iteration is:\n",
      "[553]\tvalid_0's auc: 0.906406\n",
      "Training until validation scores don't improve for 100 rounds\n"
     ]
    },
    {
     "name": "stderr",
     "output_type": "stream",
     "text": [
      "C:\\Python39\\lib\\site-packages\\lightgbm\\engine.py:181: UserWarning: 'early_stopping_rounds' argument is deprecated and will be removed in a future release of LightGBM. Pass 'early_stopping()' callback via 'callbacks' argument instead.\n",
      "  _log_warning(\"'early_stopping_rounds' argument is deprecated and will be removed in a future release of LightGBM. \"\n",
      "C:\\Python39\\lib\\site-packages\\lightgbm\\engine.py:239: UserWarning: 'verbose_eval' argument is deprecated and will be removed in a future release of LightGBM. Pass 'log_evaluation()' callback via 'callbacks' argument instead.\n",
      "  _log_warning(\"'verbose_eval' argument is deprecated and will be removed in a future release of LightGBM. \"\n"
     ]
    },
    {
     "name": "stdout",
     "output_type": "stream",
     "text": [
      "[50]\tvalid_0's auc: 0.89598\n",
      "[100]\tvalid_0's auc: 0.899383\n",
      "[150]\tvalid_0's auc: 0.90173\n",
      "[200]\tvalid_0's auc: 0.903418\n",
      "[250]\tvalid_0's auc: 0.904257\n",
      "[300]\tvalid_0's auc: 0.904889\n",
      "[350]\tvalid_0's auc: 0.905355\n",
      "[400]\tvalid_0's auc: 0.905704\n",
      "[450]\tvalid_0's auc: 0.906006\n",
      "[500]\tvalid_0's auc: 0.90616\n",
      "[550]\tvalid_0's auc: 0.906175\n",
      "[600]\tvalid_0's auc: 0.906157\n",
      "[650]\tvalid_0's auc: 0.906096\n"
     ]
    },
    {
     "name": "stderr",
     "output_type": "stream",
     "text": [
      "bagging, val_score: 0.906635:  90%|###############################################7     | 9/10 [00:10<00:01,  1.15s/it]"
     ]
    },
    {
     "name": "stdout",
     "output_type": "stream",
     "text": [
      "Early stopping, best iteration is:\n",
      "[565]\tvalid_0's auc: 0.906228\n",
      "Training until validation scores don't improve for 100 rounds\n"
     ]
    },
    {
     "name": "stderr",
     "output_type": "stream",
     "text": [
      "C:\\Python39\\lib\\site-packages\\lightgbm\\engine.py:181: UserWarning: 'early_stopping_rounds' argument is deprecated and will be removed in a future release of LightGBM. Pass 'early_stopping()' callback via 'callbacks' argument instead.\n",
      "  _log_warning(\"'early_stopping_rounds' argument is deprecated and will be removed in a future release of LightGBM. \"\n",
      "C:\\Python39\\lib\\site-packages\\lightgbm\\engine.py:239: UserWarning: 'verbose_eval' argument is deprecated and will be removed in a future release of LightGBM. Pass 'log_evaluation()' callback via 'callbacks' argument instead.\n",
      "  _log_warning(\"'verbose_eval' argument is deprecated and will be removed in a future release of LightGBM. \"\n"
     ]
    },
    {
     "name": "stdout",
     "output_type": "stream",
     "text": [
      "[50]\tvalid_0's auc: 0.895453\n",
      "[100]\tvalid_0's auc: 0.899286\n",
      "[150]\tvalid_0's auc: 0.901739\n",
      "[200]\tvalid_0's auc: 0.903878\n",
      "[250]\tvalid_0's auc: 0.904804\n",
      "[300]\tvalid_0's auc: 0.905346\n",
      "[350]\tvalid_0's auc: 0.905818\n",
      "[400]\tvalid_0's auc: 0.906037\n",
      "[450]\tvalid_0's auc: 0.906095\n",
      "[500]\tvalid_0's auc: 0.906051\n",
      "[550]\tvalid_0's auc: 0.906245\n",
      "[600]\tvalid_0's auc: 0.906184\n"
     ]
    },
    {
     "name": "stderr",
     "output_type": "stream",
     "text": [
      "bagging, val_score: 0.906635: 100%|####################################################| 10/10 [00:11<00:00,  1.16s/it]\n"
     ]
    },
    {
     "name": "stdout",
     "output_type": "stream",
     "text": [
      "[650]\tvalid_0's auc: 0.906297\n",
      "[700]\tvalid_0's auc: 0.905956\n",
      "Early stopping, best iteration is:\n",
      "[615]\tvalid_0's auc: 0.906354\n"
     ]
    },
    {
     "name": "stderr",
     "output_type": "stream",
     "text": [
      "feature_fraction_stage2, val_score: 0.906635:   0%|                                              | 0/3 [00:00<?, ?it/s]C:\\Python39\\lib\\site-packages\\lightgbm\\engine.py:181: UserWarning: 'early_stopping_rounds' argument is deprecated and will be removed in a future release of LightGBM. Pass 'early_stopping()' callback via 'callbacks' argument instead.\n",
      "  _log_warning(\"'early_stopping_rounds' argument is deprecated and will be removed in a future release of LightGBM. \"\n",
      "C:\\Python39\\lib\\site-packages\\lightgbm\\engine.py:239: UserWarning: 'verbose_eval' argument is deprecated and will be removed in a future release of LightGBM. Pass 'log_evaluation()' callback via 'callbacks' argument instead.\n",
      "  _log_warning(\"'verbose_eval' argument is deprecated and will be removed in a future release of LightGBM. \"\n"
     ]
    },
    {
     "name": "stdout",
     "output_type": "stream",
     "text": [
      "Training until validation scores don't improve for 100 rounds\n",
      "[50]\tvalid_0's auc: 0.896059\n",
      "[100]\tvalid_0's auc: 0.899438\n",
      "[150]\tvalid_0's auc: 0.902088\n",
      "[200]\tvalid_0's auc: 0.903751\n",
      "[250]\tvalid_0's auc: 0.904614\n",
      "[300]\tvalid_0's auc: 0.905284\n",
      "[350]\tvalid_0's auc: 0.905818\n",
      "[400]\tvalid_0's auc: 0.906132\n",
      "[450]\tvalid_0's auc: 0.906322\n",
      "[500]\tvalid_0's auc: 0.906389\n",
      "[550]\tvalid_0's auc: 0.90625\n"
     ]
    },
    {
     "name": "stderr",
     "output_type": "stream",
     "text": [
      "feature_fraction_stage2, val_score: 0.906635:  33%|############6                         | 1/3 [00:01<00:02,  1.11s/it]"
     ]
    },
    {
     "name": "stdout",
     "output_type": "stream",
     "text": [
      "[600]\tvalid_0's auc: 0.906306\n",
      "Early stopping, best iteration is:\n",
      "[503]\tvalid_0's auc: 0.906446\n",
      "Training until validation scores don't improve for 100 rounds\n",
      "[50]\tvalid_0's auc: 0.895601\n"
     ]
    },
    {
     "name": "stderr",
     "output_type": "stream",
     "text": [
      "C:\\Python39\\lib\\site-packages\\lightgbm\\engine.py:181: UserWarning: 'early_stopping_rounds' argument is deprecated and will be removed in a future release of LightGBM. Pass 'early_stopping()' callback via 'callbacks' argument instead.\n",
      "  _log_warning(\"'early_stopping_rounds' argument is deprecated and will be removed in a future release of LightGBM. \"\n",
      "C:\\Python39\\lib\\site-packages\\lightgbm\\engine.py:239: UserWarning: 'verbose_eval' argument is deprecated and will be removed in a future release of LightGBM. Pass 'log_evaluation()' callback via 'callbacks' argument instead.\n",
      "  _log_warning(\"'verbose_eval' argument is deprecated and will be removed in a future release of LightGBM. \"\n"
     ]
    },
    {
     "name": "stdout",
     "output_type": "stream",
     "text": [
      "[100]\tvalid_0's auc: 0.899664\n",
      "[150]\tvalid_0's auc: 0.902228\n",
      "[200]\tvalid_0's auc: 0.903819\n",
      "[250]\tvalid_0's auc: 0.904756\n",
      "[300]\tvalid_0's auc: 0.9053\n",
      "[350]\tvalid_0's auc: 0.905751\n",
      "[400]\tvalid_0's auc: 0.906116\n",
      "[450]\tvalid_0's auc: 0.906269\n",
      "[500]\tvalid_0's auc: 0.906392\n",
      "[550]\tvalid_0's auc: 0.906299\n",
      "[600]\tvalid_0's auc: 0.90633\n",
      "[650]\tvalid_0's auc: 0.906163\n",
      "Early stopping, best iteration is:\n",
      "[572]\tvalid_0's auc: 0.90645\n"
     ]
    },
    {
     "name": "stderr",
     "output_type": "stream",
     "text": [
      "feature_fraction_stage2, val_score: 0.906635:  67%|#########################3            | 2/3 [00:02<00:01,  1.11s/it]C:\\Python39\\lib\\site-packages\\lightgbm\\engine.py:181: UserWarning: 'early_stopping_rounds' argument is deprecated and will be removed in a future release of LightGBM. Pass 'early_stopping()' callback via 'callbacks' argument instead.\n",
      "  _log_warning(\"'early_stopping_rounds' argument is deprecated and will be removed in a future release of LightGBM. \"\n",
      "C:\\Python39\\lib\\site-packages\\lightgbm\\engine.py:239: UserWarning: 'verbose_eval' argument is deprecated and will be removed in a future release of LightGBM. Pass 'log_evaluation()' callback via 'callbacks' argument instead.\n",
      "  _log_warning(\"'verbose_eval' argument is deprecated and will be removed in a future release of LightGBM. \"\n"
     ]
    },
    {
     "name": "stdout",
     "output_type": "stream",
     "text": [
      "Training until validation scores don't improve for 100 rounds\n",
      "[50]\tvalid_0's auc: 0.895382\n",
      "[100]\tvalid_0's auc: 0.899375\n",
      "[150]\tvalid_0's auc: 0.901857\n",
      "[200]\tvalid_0's auc: 0.903462\n",
      "[250]\tvalid_0's auc: 0.904355\n",
      "[300]\tvalid_0's auc: 0.904941\n",
      "[350]\tvalid_0's auc: 0.905312\n",
      "[400]\tvalid_0's auc: 0.905642\n",
      "[450]\tvalid_0's auc: 0.905724\n",
      "[500]\tvalid_0's auc: 0.905828\n",
      "[550]\tvalid_0's auc: 0.905775\n",
      "[600]\tvalid_0's auc: 0.90592\n"
     ]
    },
    {
     "name": "stderr",
     "output_type": "stream",
     "text": [
      "feature_fraction_stage2, val_score: 0.906635: 100%|######################################| 3/3 [00:03<00:00,  1.10s/it]\n"
     ]
    },
    {
     "name": "stdout",
     "output_type": "stream",
     "text": [
      "[650]\tvalid_0's auc: 0.905703\n",
      "Early stopping, best iteration is:\n",
      "[582]\tvalid_0's auc: 0.906002\n"
     ]
    },
    {
     "name": "stderr",
     "output_type": "stream",
     "text": [
      "regularization_factors, val_score: 0.906635:   0%|                                              | 0/20 [00:00<?, ?it/s]"
     ]
    },
    {
     "name": "stdout",
     "output_type": "stream",
     "text": [
      "Training until validation scores don't improve for 100 rounds"
     ]
    },
    {
     "name": "stderr",
     "output_type": "stream",
     "text": [
      "C:\\Python39\\lib\\site-packages\\lightgbm\\engine.py:181: UserWarning: 'early_stopping_rounds' argument is deprecated and will be removed in a future release of LightGBM. Pass 'early_stopping()' callback via 'callbacks' argument instead.\n",
      "  _log_warning(\"'early_stopping_rounds' argument is deprecated and will be removed in a future release of LightGBM. \"\n",
      "C:\\Python39\\lib\\site-packages\\lightgbm\\engine.py:239: UserWarning: 'verbose_eval' argument is deprecated and will be removed in a future release of LightGBM. Pass 'log_evaluation()' callback via 'callbacks' argument instead.\n",
      "  _log_warning(\"'verbose_eval' argument is deprecated and will be removed in a future release of LightGBM. \"\n"
     ]
    },
    {
     "name": "stdout",
     "output_type": "stream",
     "text": [
      "\n",
      "[50]\tvalid_0's auc: 0.894686\n",
      "[100]\tvalid_0's auc: 0.898992\n",
      "[150]\tvalid_0's auc: 0.90146\n",
      "[200]\tvalid_0's auc: 0.903235\n",
      "[250]\tvalid_0's auc: 0.904264\n",
      "[300]\tvalid_0's auc: 0.905062\n",
      "[350]\tvalid_0's auc: 0.905506\n",
      "[400]\tvalid_0's auc: 0.905837\n",
      "[450]\tvalid_0's auc: 0.906\n",
      "[500]\tvalid_0's auc: 0.906169\n",
      "[550]\tvalid_0's auc: 0.906277\n",
      "[600]\tvalid_0's auc: 0.906399\n",
      "[650]\tvalid_0's auc: 0.906404\n",
      "[700]\tvalid_0's auc: 0.906323\n"
     ]
    },
    {
     "name": "stderr",
     "output_type": "stream",
     "text": [
      "regularization_factors, val_score: 0.906635:   5%|#9                                    | 1/20 [00:01<00:24,  1.29s/it]"
     ]
    },
    {
     "name": "stdout",
     "output_type": "stream",
     "text": [
      "[750]\tvalid_0's auc: 0.906275\n",
      "Early stopping, best iteration is:\n",
      "[665]\tvalid_0's auc: 0.906438\n",
      "Training until validation scores don't improve for 100 rounds\n"
     ]
    },
    {
     "name": "stderr",
     "output_type": "stream",
     "text": [
      "C:\\Python39\\lib\\site-packages\\lightgbm\\engine.py:181: UserWarning: 'early_stopping_rounds' argument is deprecated and will be removed in a future release of LightGBM. Pass 'early_stopping()' callback via 'callbacks' argument instead.\n",
      "  _log_warning(\"'early_stopping_rounds' argument is deprecated and will be removed in a future release of LightGBM. \"\n",
      "C:\\Python39\\lib\\site-packages\\lightgbm\\engine.py:239: UserWarning: 'verbose_eval' argument is deprecated and will be removed in a future release of LightGBM. Pass 'log_evaluation()' callback via 'callbacks' argument instead.\n",
      "  _log_warning(\"'verbose_eval' argument is deprecated and will be removed in a future release of LightGBM. \"\n"
     ]
    },
    {
     "name": "stdout",
     "output_type": "stream",
     "text": [
      "[50]\tvalid_0's auc: 0.893766\n",
      "[100]\tvalid_0's auc: 0.898393\n",
      "[150]\tvalid_0's auc: 0.900872\n",
      "[200]\tvalid_0's auc: 0.902665\n",
      "[250]\tvalid_0's auc: 0.904\n",
      "[300]\tvalid_0's auc: 0.904807\n",
      "[350]\tvalid_0's auc: 0.905266\n",
      "[400]\tvalid_0's auc: 0.905589\n",
      "[450]\tvalid_0's auc: 0.90581\n",
      "[500]\tvalid_0's auc: 0.905955\n",
      "[550]\tvalid_0's auc: 0.906052\n",
      "[600]\tvalid_0's auc: 0.906071\n",
      "[650]\tvalid_0's auc: 0.906073\n",
      "[700]\tvalid_0's auc: 0.906082\n",
      "[750]\tvalid_0's auc: 0.906052\n",
      "Early stopping, best iteration is:\n",
      "[664]\tvalid_0's auc: 0.906113\n"
     ]
    },
    {
     "name": "stderr",
     "output_type": "stream",
     "text": [
      "regularization_factors, val_score: 0.906635:  10%|###8                                  | 2/20 [00:02<00:23,  1.30s/it]C:\\Python39\\lib\\site-packages\\lightgbm\\engine.py:181: UserWarning: 'early_stopping_rounds' argument is deprecated and will be removed in a future release of LightGBM. Pass 'early_stopping()' callback via 'callbacks' argument instead.\n",
      "  _log_warning(\"'early_stopping_rounds' argument is deprecated and will be removed in a future release of LightGBM. \"\n",
      "C:\\Python39\\lib\\site-packages\\lightgbm\\engine.py:239: UserWarning: 'verbose_eval' argument is deprecated and will be removed in a future release of LightGBM. Pass 'log_evaluation()' callback via 'callbacks' argument instead.\n",
      "  _log_warning(\"'verbose_eval' argument is deprecated and will be removed in a future release of LightGBM. \"\n"
     ]
    },
    {
     "name": "stdout",
     "output_type": "stream",
     "text": [
      "Training until validation scores don't improve for 100 rounds\n",
      "[50]\tvalid_0's auc: 0.895481\n",
      "[100]\tvalid_0's auc: 0.899559\n",
      "[150]\tvalid_0's auc: 0.90203\n",
      "[200]\tvalid_0's auc: 0.903735\n",
      "[250]\tvalid_0's auc: 0.904745\n",
      "[300]\tvalid_0's auc: 0.905314\n",
      "[350]\tvalid_0's auc: 0.905841\n",
      "[400]\tvalid_0's auc: 0.906237\n",
      "[450]\tvalid_0's auc: 0.906385\n",
      "[500]\tvalid_0's auc: 0.906559\n",
      "[550]\tvalid_0's auc: 0.906441\n"
     ]
    },
    {
     "name": "stderr",
     "output_type": "stream",
     "text": [
      "regularization_factors, val_score: 0.906642:  15%|#####7                                | 3/20 [00:03<00:20,  1.19s/it]"
     ]
    },
    {
     "name": "stdout",
     "output_type": "stream",
     "text": [
      "[600]\tvalid_0's auc: 0.906544\n",
      "Early stopping, best iteration is:\n",
      "[515]\tvalid_0's auc: 0.906642\n",
      "Training until validation scores don't improve for 100 rounds\n"
     ]
    },
    {
     "name": "stderr",
     "output_type": "stream",
     "text": [
      "C:\\Python39\\lib\\site-packages\\lightgbm\\engine.py:181: UserWarning: 'early_stopping_rounds' argument is deprecated and will be removed in a future release of LightGBM. Pass 'early_stopping()' callback via 'callbacks' argument instead.\n",
      "  _log_warning(\"'early_stopping_rounds' argument is deprecated and will be removed in a future release of LightGBM. \"\n",
      "C:\\Python39\\lib\\site-packages\\lightgbm\\engine.py:239: UserWarning: 'verbose_eval' argument is deprecated and will be removed in a future release of LightGBM. Pass 'log_evaluation()' callback via 'callbacks' argument instead.\n",
      "  _log_warning(\"'verbose_eval' argument is deprecated and will be removed in a future release of LightGBM. \"\n"
     ]
    },
    {
     "name": "stdout",
     "output_type": "stream",
     "text": [
      "[50]\tvalid_0's auc: 0.894693\n",
      "[100]\tvalid_0's auc: 0.898989\n",
      "[150]\tvalid_0's auc: 0.901336\n",
      "[200]\tvalid_0's auc: 0.903058\n",
      "[250]\tvalid_0's auc: 0.90415\n",
      "[300]\tvalid_0's auc: 0.904818\n",
      "[350]\tvalid_0's auc: 0.90534\n",
      "[400]\tvalid_0's auc: 0.90552\n",
      "[450]\tvalid_0's auc: 0.905752\n",
      "[500]\tvalid_0's auc: 0.905906\n",
      "[550]\tvalid_0's auc: 0.90597\n",
      "[600]\tvalid_0's auc: 0.906069\n"
     ]
    },
    {
     "name": "stderr",
     "output_type": "stream",
     "text": [
      "regularization_factors, val_score: 0.906642:  20%|#######6                              | 4/20 [00:04<00:19,  1.21s/it]"
     ]
    },
    {
     "name": "stdout",
     "output_type": "stream",
     "text": [
      "[650]\tvalid_0's auc: 0.905943\n",
      "Early stopping, best iteration is:\n",
      "[570]\tvalid_0's auc: 0.906096\n",
      "Training until validation scores don't improve for 100 rounds\n"
     ]
    },
    {
     "name": "stderr",
     "output_type": "stream",
     "text": [
      "C:\\Python39\\lib\\site-packages\\lightgbm\\engine.py:181: UserWarning: 'early_stopping_rounds' argument is deprecated and will be removed in a future release of LightGBM. Pass 'early_stopping()' callback via 'callbacks' argument instead.\n",
      "  _log_warning(\"'early_stopping_rounds' argument is deprecated and will be removed in a future release of LightGBM. \"\n",
      "C:\\Python39\\lib\\site-packages\\lightgbm\\engine.py:239: UserWarning: 'verbose_eval' argument is deprecated and will be removed in a future release of LightGBM. Pass 'log_evaluation()' callback via 'callbacks' argument instead.\n",
      "  _log_warning(\"'verbose_eval' argument is deprecated and will be removed in a future release of LightGBM. \"\n"
     ]
    },
    {
     "name": "stdout",
     "output_type": "stream",
     "text": [
      "[50]\tvalid_0's auc: 0.895466\n",
      "[100]\tvalid_0's auc: 0.899551\n",
      "[150]\tvalid_0's auc: 0.902013\n",
      "[200]\tvalid_0's auc: 0.903627\n",
      "[250]\tvalid_0's auc: 0.904671\n",
      "[300]\tvalid_0's auc: 0.905281\n",
      "[350]\tvalid_0's auc: 0.905789\n",
      "[400]\tvalid_0's auc: 0.906183\n",
      "[450]\tvalid_0's auc: 0.906328\n",
      "[500]\tvalid_0's auc: 0.906524\n",
      "[550]\tvalid_0's auc: 0.906483\n",
      "[600]\tvalid_0's auc: 0.906457\n",
      "Early stopping, best iteration is:\n",
      "[515]\tvalid_0's auc: 0.906621\n"
     ]
    },
    {
     "name": "stderr",
     "output_type": "stream",
     "text": [
      "regularization_factors, val_score: 0.906642:  25%|#########5                            | 5/20 [00:05<00:17,  1.17s/it]C:\\Python39\\lib\\site-packages\\lightgbm\\engine.py:181: UserWarning: 'early_stopping_rounds' argument is deprecated and will be removed in a future release of LightGBM. Pass 'early_stopping()' callback via 'callbacks' argument instead.\n",
      "  _log_warning(\"'early_stopping_rounds' argument is deprecated and will be removed in a future release of LightGBM. \"\n",
      "C:\\Python39\\lib\\site-packages\\lightgbm\\engine.py:239: UserWarning: 'verbose_eval' argument is deprecated and will be removed in a future release of LightGBM. Pass 'log_evaluation()' callback via 'callbacks' argument instead.\n",
      "  _log_warning(\"'verbose_eval' argument is deprecated and will be removed in a future release of LightGBM. \"\n"
     ]
    },
    {
     "name": "stdout",
     "output_type": "stream",
     "text": [
      "Training until validation scores don't improve for 100 rounds\n",
      "[50]\tvalid_0's auc: 0.895481\n",
      "[100]\tvalid_0's auc: 0.899559\n",
      "[150]\tvalid_0's auc: 0.90203\n",
      "[200]\tvalid_0's auc: 0.903735\n",
      "[250]\tvalid_0's auc: 0.904745\n",
      "[300]\tvalid_0's auc: 0.905314\n",
      "[350]\tvalid_0's auc: 0.905841\n",
      "[400]\tvalid_0's auc: 0.906237\n",
      "[450]\tvalid_0's auc: 0.906385\n",
      "[500]\tvalid_0's auc: 0.906559\n",
      "[550]\tvalid_0's auc: 0.906445\n"
     ]
    },
    {
     "name": "stderr",
     "output_type": "stream",
     "text": [
      "regularization_factors, val_score: 0.906642:  30%|###########4                          | 6/20 [00:07<00:16,  1.17s/it]"
     ]
    },
    {
     "name": "stdout",
     "output_type": "stream",
     "text": [
      "[600]\tvalid_0's auc: 0.906474\n",
      "Early stopping, best iteration is:\n",
      "[515]\tvalid_0's auc: 0.906619\n",
      "Training until validation scores don't improve for 100 rounds\n"
     ]
    },
    {
     "name": "stderr",
     "output_type": "stream",
     "text": [
      "C:\\Python39\\lib\\site-packages\\lightgbm\\engine.py:181: UserWarning: 'early_stopping_rounds' argument is deprecated and will be removed in a future release of LightGBM. Pass 'early_stopping()' callback via 'callbacks' argument instead.\n",
      "  _log_warning(\"'early_stopping_rounds' argument is deprecated and will be removed in a future release of LightGBM. \"\n",
      "C:\\Python39\\lib\\site-packages\\lightgbm\\engine.py:239: UserWarning: 'verbose_eval' argument is deprecated and will be removed in a future release of LightGBM. Pass 'log_evaluation()' callback via 'callbacks' argument instead.\n",
      "  _log_warning(\"'verbose_eval' argument is deprecated and will be removed in a future release of LightGBM. \"\n"
     ]
    },
    {
     "name": "stdout",
     "output_type": "stream",
     "text": [
      "[50]\tvalid_0's auc: 0.895541\n",
      "[100]\tvalid_0's auc: 0.899501\n",
      "[150]\tvalid_0's auc: 0.901976\n",
      "[200]\tvalid_0's auc: 0.903656\n",
      "[250]\tvalid_0's auc: 0.904696\n",
      "[300]\tvalid_0's auc: 0.905203\n",
      "[350]\tvalid_0's auc: 0.905668\n",
      "[400]\tvalid_0's auc: 0.905948\n",
      "[450]\tvalid_0's auc: 0.906154\n",
      "[500]\tvalid_0's auc: 0.906399\n",
      "[550]\tvalid_0's auc: 0.906266\n"
     ]
    },
    {
     "name": "stderr",
     "output_type": "stream",
     "text": [
      "regularization_factors, val_score: 0.906642:  35%|#############3                        | 7/20 [00:08<00:15,  1.16s/it]"
     ]
    },
    {
     "name": "stdout",
     "output_type": "stream",
     "text": [
      "[600]\tvalid_0's auc: 0.906295\n",
      "Early stopping, best iteration is:\n",
      "[502]\tvalid_0's auc: 0.906425\n",
      "Training until validation scores don't improve for 100 rounds\n",
      "[50]\tvalid_0's auc: 0.895481\n"
     ]
    },
    {
     "name": "stderr",
     "output_type": "stream",
     "text": [
      "C:\\Python39\\lib\\site-packages\\lightgbm\\engine.py:181: UserWarning: 'early_stopping_rounds' argument is deprecated and will be removed in a future release of LightGBM. Pass 'early_stopping()' callback via 'callbacks' argument instead.\n",
      "  _log_warning(\"'early_stopping_rounds' argument is deprecated and will be removed in a future release of LightGBM. \"\n",
      "C:\\Python39\\lib\\site-packages\\lightgbm\\engine.py:239: UserWarning: 'verbose_eval' argument is deprecated and will be removed in a future release of LightGBM. Pass 'log_evaluation()' callback via 'callbacks' argument instead.\n",
      "  _log_warning(\"'verbose_eval' argument is deprecated and will be removed in a future release of LightGBM. \"\n"
     ]
    },
    {
     "name": "stdout",
     "output_type": "stream",
     "text": [
      "[100]\tvalid_0's auc: 0.899559\n",
      "[150]\tvalid_0's auc: 0.90203\n",
      "[200]\tvalid_0's auc: 0.903735\n",
      "[250]\tvalid_0's auc: 0.904745\n",
      "[300]\tvalid_0's auc: 0.905314\n",
      "[350]\tvalid_0's auc: 0.905841\n",
      "[400]\tvalid_0's auc: 0.906246\n",
      "[450]\tvalid_0's auc: 0.906367\n",
      "[500]\tvalid_0's auc: 0.906574\n"
     ]
    },
    {
     "name": "stderr",
     "output_type": "stream",
     "text": [
      "regularization_factors, val_score: 0.906642:  40%|###############2                      | 8/20 [00:09<00:13,  1.14s/it]"
     ]
    },
    {
     "name": "stdout",
     "output_type": "stream",
     "text": [
      "[550]\tvalid_0's auc: 0.906383\n",
      "[600]\tvalid_0's auc: 0.906498\n",
      "Early stopping, best iteration is:\n",
      "[510]\tvalid_0's auc: 0.906635\n"
     ]
    },
    {
     "name": "stderr",
     "output_type": "stream",
     "text": [
      "C:\\Python39\\lib\\site-packages\\lightgbm\\engine.py:181: UserWarning: 'early_stopping_rounds' argument is deprecated and will be removed in a future release of LightGBM. Pass 'early_stopping()' callback via 'callbacks' argument instead.\n",
      "  _log_warning(\"'early_stopping_rounds' argument is deprecated and will be removed in a future release of LightGBM. \"\n",
      "C:\\Python39\\lib\\site-packages\\lightgbm\\engine.py:239: UserWarning: 'verbose_eval' argument is deprecated and will be removed in a future release of LightGBM. Pass 'log_evaluation()' callback via 'callbacks' argument instead.\n",
      "  _log_warning(\"'verbose_eval' argument is deprecated and will be removed in a future release of LightGBM. \"\n"
     ]
    },
    {
     "name": "stdout",
     "output_type": "stream",
     "text": [
      "Training until validation scores don't improve for 100 rounds\n",
      "[50]\tvalid_0's auc: 0.895466\n",
      "[100]\tvalid_0's auc: 0.89955\n",
      "[150]\tvalid_0's auc: 0.902028\n",
      "[200]\tvalid_0's auc: 0.903636\n",
      "[250]\tvalid_0's auc: 0.904637\n",
      "[300]\tvalid_0's auc: 0.905229\n",
      "[350]\tvalid_0's auc: 0.905675\n",
      "[400]\tvalid_0's auc: 0.906084\n",
      "[450]\tvalid_0's auc: 0.906287\n",
      "[500]\tvalid_0's auc: 0.906521\n",
      "[550]\tvalid_0's auc: 0.90644\n"
     ]
    },
    {
     "name": "stderr",
     "output_type": "stream",
     "text": [
      "regularization_factors, val_score: 0.906642:  45%|#################1                    | 9/20 [00:10<00:12,  1.11s/it]"
     ]
    },
    {
     "name": "stdout",
     "output_type": "stream",
     "text": [
      "[600]\tvalid_0's auc: 0.906436\n",
      "Early stopping, best iteration is:\n",
      "[505]\tvalid_0's auc: 0.906567\n",
      "Training until validation scores don't improve for 100 rounds\n"
     ]
    },
    {
     "name": "stderr",
     "output_type": "stream",
     "text": [
      "C:\\Python39\\lib\\site-packages\\lightgbm\\engine.py:181: UserWarning: 'early_stopping_rounds' argument is deprecated and will be removed in a future release of LightGBM. Pass 'early_stopping()' callback via 'callbacks' argument instead.\n",
      "  _log_warning(\"'early_stopping_rounds' argument is deprecated and will be removed in a future release of LightGBM. \"\n",
      "C:\\Python39\\lib\\site-packages\\lightgbm\\engine.py:239: UserWarning: 'verbose_eval' argument is deprecated and will be removed in a future release of LightGBM. Pass 'log_evaluation()' callback via 'callbacks' argument instead.\n",
      "  _log_warning(\"'verbose_eval' argument is deprecated and will be removed in a future release of LightGBM. \"\n"
     ]
    },
    {
     "name": "stdout",
     "output_type": "stream",
     "text": [
      "[50]\tvalid_0's auc: 0.894544\n",
      "[100]\tvalid_0's auc: 0.89892\n",
      "[150]\tvalid_0's auc: 0.901442\n",
      "[200]\tvalid_0's auc: 0.903239\n",
      "[250]\tvalid_0's auc: 0.904381\n",
      "[300]\tvalid_0's auc: 0.905137\n",
      "[350]\tvalid_0's auc: 0.905612\n",
      "[400]\tvalid_0's auc: 0.905869\n",
      "[450]\tvalid_0's auc: 0.906054\n",
      "[500]\tvalid_0's auc: 0.906305\n",
      "[550]\tvalid_0's auc: 0.906314\n",
      "[600]\tvalid_0's auc: 0.906396\n"
     ]
    },
    {
     "name": "stderr",
     "output_type": "stream",
     "text": [
      "regularization_factors, val_score: 0.906642:  50%|##################5                  | 10/20 [00:11<00:11,  1.13s/it]"
     ]
    },
    {
     "name": "stdout",
     "output_type": "stream",
     "text": [
      "[650]\tvalid_0's auc: 0.906261\n",
      "Early stopping, best iteration is:\n",
      "[598]\tvalid_0's auc: 0.906427\n"
     ]
    },
    {
     "name": "stderr",
     "output_type": "stream",
     "text": [
      "C:\\Python39\\lib\\site-packages\\lightgbm\\engine.py:181: UserWarning: 'early_stopping_rounds' argument is deprecated and will be removed in a future release of LightGBM. Pass 'early_stopping()' callback via 'callbacks' argument instead.\n",
      "  _log_warning(\"'early_stopping_rounds' argument is deprecated and will be removed in a future release of LightGBM. \"\n",
      "C:\\Python39\\lib\\site-packages\\lightgbm\\engine.py:239: UserWarning: 'verbose_eval' argument is deprecated and will be removed in a future release of LightGBM. Pass 'log_evaluation()' callback via 'callbacks' argument instead.\n",
      "  _log_warning(\"'verbose_eval' argument is deprecated and will be removed in a future release of LightGBM. \"\n"
     ]
    },
    {
     "name": "stdout",
     "output_type": "stream",
     "text": [
      "Training until validation scores don't improve for 100 rounds\n",
      "[50]\tvalid_0's auc: 0.895466\n",
      "[100]\tvalid_0's auc: 0.8995\n",
      "[150]\tvalid_0's auc: 0.902021\n",
      "[200]\tvalid_0's auc: 0.903645\n",
      "[250]\tvalid_0's auc: 0.904688\n",
      "[300]\tvalid_0's auc: 0.905171\n",
      "[350]\tvalid_0's auc: 0.905719\n",
      "[400]\tvalid_0's auc: 0.906116\n",
      "[450]\tvalid_0's auc: 0.906355\n",
      "[500]\tvalid_0's auc: 0.906598\n",
      "[550]\tvalid_0's auc: 0.906463\n",
      "[600]\tvalid_0's auc: 0.906507\n"
     ]
    },
    {
     "name": "stderr",
     "output_type": "stream",
     "text": [
      "regularization_factors, val_score: 0.906648:  55%|####################3                | 11/20 [00:12<00:09,  1.10s/it]"
     ]
    },
    {
     "name": "stdout",
     "output_type": "stream",
     "text": [
      "Early stopping, best iteration is:\n",
      "[508]\tvalid_0's auc: 0.906648\n",
      "Training until validation scores don't improve for 100 rounds\n"
     ]
    },
    {
     "name": "stderr",
     "output_type": "stream",
     "text": [
      "C:\\Python39\\lib\\site-packages\\lightgbm\\engine.py:181: UserWarning: 'early_stopping_rounds' argument is deprecated and will be removed in a future release of LightGBM. Pass 'early_stopping()' callback via 'callbacks' argument instead.\n",
      "  _log_warning(\"'early_stopping_rounds' argument is deprecated and will be removed in a future release of LightGBM. \"\n",
      "C:\\Python39\\lib\\site-packages\\lightgbm\\engine.py:239: UserWarning: 'verbose_eval' argument is deprecated and will be removed in a future release of LightGBM. Pass 'log_evaluation()' callback via 'callbacks' argument instead.\n",
      "  _log_warning(\"'verbose_eval' argument is deprecated and will be removed in a future release of LightGBM. \"\n"
     ]
    },
    {
     "name": "stdout",
     "output_type": "stream",
     "text": [
      "[50]\tvalid_0's auc: 0.895467\n",
      "[100]\tvalid_0's auc: 0.899538\n",
      "[150]\tvalid_0's auc: 0.902009\n",
      "[200]\tvalid_0's auc: 0.90362\n",
      "[250]\tvalid_0's auc: 0.904644\n",
      "[300]\tvalid_0's auc: 0.905161\n",
      "[350]\tvalid_0's auc: 0.905645\n",
      "[400]\tvalid_0's auc: 0.905983\n",
      "[450]\tvalid_0's auc: 0.906112\n",
      "[500]\tvalid_0's auc: 0.90628\n",
      "[550]\tvalid_0's auc: 0.90618\n",
      "[600]\tvalid_0's auc: 0.906199\n",
      "Early stopping, best iteration is:\n",
      "[503]\tvalid_0's auc: 0.90633\n"
     ]
    },
    {
     "name": "stderr",
     "output_type": "stream",
     "text": [
      "regularization_factors, val_score: 0.906648:  60%|######################2              | 12/20 [00:13<00:08,  1.09s/it]C:\\Python39\\lib\\site-packages\\lightgbm\\engine.py:181: UserWarning: 'early_stopping_rounds' argument is deprecated and will be removed in a future release of LightGBM. Pass 'early_stopping()' callback via 'callbacks' argument instead.\n",
      "  _log_warning(\"'early_stopping_rounds' argument is deprecated and will be removed in a future release of LightGBM. \"\n",
      "C:\\Python39\\lib\\site-packages\\lightgbm\\engine.py:239: UserWarning: 'verbose_eval' argument is deprecated and will be removed in a future release of LightGBM. Pass 'log_evaluation()' callback via 'callbacks' argument instead.\n",
      "  _log_warning(\"'verbose_eval' argument is deprecated and will be removed in a future release of LightGBM. \"\n"
     ]
    },
    {
     "name": "stdout",
     "output_type": "stream",
     "text": [
      "Training until validation scores don't improve for 100 rounds\n",
      "[50]\tvalid_0's auc: 0.895466\n",
      "[100]\tvalid_0's auc: 0.89955\n",
      "[150]\tvalid_0's auc: 0.902013\n",
      "[200]\tvalid_0's auc: 0.903628\n",
      "[250]\tvalid_0's auc: 0.904659\n",
      "[300]\tvalid_0's auc: 0.905283\n",
      "[350]\tvalid_0's auc: 0.905823\n",
      "[400]\tvalid_0's auc: 0.906196\n",
      "[450]\tvalid_0's auc: 0.906389\n",
      "[500]\tvalid_0's auc: 0.906564\n",
      "[550]\tvalid_0's auc: 0.906481\n"
     ]
    },
    {
     "name": "stderr",
     "output_type": "stream",
     "text": [
      "regularization_factors, val_score: 0.906648:  65%|########################             | 13/20 [00:14<00:07,  1.12s/it]"
     ]
    },
    {
     "name": "stdout",
     "output_type": "stream",
     "text": [
      "[600]\tvalid_0's auc: 0.906529\n",
      "Early stopping, best iteration is:\n",
      "[515]\tvalid_0's auc: 0.906633\n",
      "Training until validation scores don't improve for 100 rounds\n"
     ]
    },
    {
     "name": "stderr",
     "output_type": "stream",
     "text": [
      "C:\\Python39\\lib\\site-packages\\lightgbm\\engine.py:181: UserWarning: 'early_stopping_rounds' argument is deprecated and will be removed in a future release of LightGBM. Pass 'early_stopping()' callback via 'callbacks' argument instead.\n",
      "  _log_warning(\"'early_stopping_rounds' argument is deprecated and will be removed in a future release of LightGBM. \"\n",
      "C:\\Python39\\lib\\site-packages\\lightgbm\\engine.py:239: UserWarning: 'verbose_eval' argument is deprecated and will be removed in a future release of LightGBM. Pass 'log_evaluation()' callback via 'callbacks' argument instead.\n",
      "  _log_warning(\"'verbose_eval' argument is deprecated and will be removed in a future release of LightGBM. \"\n"
     ]
    },
    {
     "name": "stdout",
     "output_type": "stream",
     "text": [
      "[50]\tvalid_0's auc: 0.895481\n",
      "[100]\tvalid_0's auc: 0.899559\n",
      "[150]\tvalid_0's auc: 0.90203\n",
      "[200]\tvalid_0's auc: 0.903735\n",
      "[250]\tvalid_0's auc: 0.904745\n",
      "[300]\tvalid_0's auc: 0.905314\n",
      "[350]\tvalid_0's auc: 0.905841\n",
      "[400]\tvalid_0's auc: 0.906237\n",
      "[450]\tvalid_0's auc: 0.906385\n",
      "[500]\tvalid_0's auc: 0.906559\n",
      "[550]\tvalid_0's auc: 0.906441\n",
      "[600]\tvalid_0's auc: 0.906515\n",
      "Early stopping, best iteration is:\n",
      "[515]\tvalid_0's auc: 0.906642\n"
     ]
    },
    {
     "name": "stderr",
     "output_type": "stream",
     "text": [
      "regularization_factors, val_score: 0.906648:  70%|#########################9           | 14/20 [00:15<00:06,  1.11s/it]C:\\Python39\\lib\\site-packages\\lightgbm\\engine.py:181: UserWarning: 'early_stopping_rounds' argument is deprecated and will be removed in a future release of LightGBM. Pass 'early_stopping()' callback via 'callbacks' argument instead.\n",
      "  _log_warning(\"'early_stopping_rounds' argument is deprecated and will be removed in a future release of LightGBM. \"\n",
      "C:\\Python39\\lib\\site-packages\\lightgbm\\engine.py:239: UserWarning: 'verbose_eval' argument is deprecated and will be removed in a future release of LightGBM. Pass 'log_evaluation()' callback via 'callbacks' argument instead.\n",
      "  _log_warning(\"'verbose_eval' argument is deprecated and will be removed in a future release of LightGBM. \"\n"
     ]
    },
    {
     "name": "stdout",
     "output_type": "stream",
     "text": [
      "Training until validation scores don't improve for 100 rounds\n",
      "[50]\tvalid_0's auc: 0.895467\n",
      "[100]\tvalid_0's auc: 0.899548\n",
      "[150]\tvalid_0's auc: 0.902023\n",
      "[200]\tvalid_0's auc: 0.903685\n",
      "[250]\tvalid_0's auc: 0.90477\n",
      "[300]\tvalid_0's auc: 0.905327\n",
      "[350]\tvalid_0's auc: 0.905673\n",
      "[400]\tvalid_0's auc: 0.90609\n",
      "[450]\tvalid_0's auc: 0.9063\n",
      "[500]\tvalid_0's auc: 0.906558\n",
      "[550]\tvalid_0's auc: 0.9065\n",
      "[600]\tvalid_0's auc: 0.906517\n"
     ]
    },
    {
     "name": "stderr",
     "output_type": "stream",
     "text": [
      "regularization_factors, val_score: 0.906648:  75%|###########################7         | 15/20 [00:17<00:05,  1.09s/it]"
     ]
    },
    {
     "name": "stdout",
     "output_type": "stream",
     "text": [
      "Early stopping, best iteration is:\n",
      "[513]\tvalid_0's auc: 0.906643\n",
      "Training until validation scores don't improve for 100 rounds\n"
     ]
    },
    {
     "name": "stderr",
     "output_type": "stream",
     "text": [
      "C:\\Python39\\lib\\site-packages\\lightgbm\\engine.py:181: UserWarning: 'early_stopping_rounds' argument is deprecated and will be removed in a future release of LightGBM. Pass 'early_stopping()' callback via 'callbacks' argument instead.\n",
      "  _log_warning(\"'early_stopping_rounds' argument is deprecated and will be removed in a future release of LightGBM. \"\n",
      "C:\\Python39\\lib\\site-packages\\lightgbm\\engine.py:239: UserWarning: 'verbose_eval' argument is deprecated and will be removed in a future release of LightGBM. Pass 'log_evaluation()' callback via 'callbacks' argument instead.\n",
      "  _log_warning(\"'verbose_eval' argument is deprecated and will be removed in a future release of LightGBM. \"\n"
     ]
    },
    {
     "name": "stdout",
     "output_type": "stream",
     "text": [
      "[50]\tvalid_0's auc: 0.895468\n",
      "[100]\tvalid_0's auc: 0.899548\n",
      "[150]\tvalid_0's auc: 0.902001\n",
      "[200]\tvalid_0's auc: 0.903658\n",
      "[250]\tvalid_0's auc: 0.904682\n",
      "[300]\tvalid_0's auc: 0.9052\n",
      "[350]\tvalid_0's auc: 0.905716\n",
      "[400]\tvalid_0's auc: 0.906067\n",
      "[450]\tvalid_0's auc: 0.906214\n"
     ]
    },
    {
     "name": "stderr",
     "output_type": "stream",
     "text": [
      "regularization_factors, val_score: 0.906648:  75%|###########################7         | 15/20 [00:18<00:05,  1.09s/it]"
     ]
    },
    {
     "name": "stdout",
     "output_type": "stream",
     "text": [
      "[500]\tvalid_0's auc: 0.906414\n",
      "[550]\tvalid_0's auc: 0.906312\n",
      "[600]\tvalid_0's auc: 0.906414\n",
      "Early stopping, best iteration is:\n",
      "[505]\tvalid_0's auc: 0.906472\n"
     ]
    },
    {
     "name": "stderr",
     "output_type": "stream",
     "text": [
      "regularization_factors, val_score: 0.906648:  80%|#############################6       | 16/20 [00:18<00:04,  1.08s/it]C:\\Python39\\lib\\site-packages\\lightgbm\\engine.py:181: UserWarning: 'early_stopping_rounds' argument is deprecated and will be removed in a future release of LightGBM. Pass 'early_stopping()' callback via 'callbacks' argument instead.\n",
      "  _log_warning(\"'early_stopping_rounds' argument is deprecated and will be removed in a future release of LightGBM. \"\n",
      "C:\\Python39\\lib\\site-packages\\lightgbm\\engine.py:239: UserWarning: 'verbose_eval' argument is deprecated and will be removed in a future release of LightGBM. Pass 'log_evaluation()' callback via 'callbacks' argument instead.\n",
      "  _log_warning(\"'verbose_eval' argument is deprecated and will be removed in a future release of LightGBM. \"\n"
     ]
    },
    {
     "name": "stdout",
     "output_type": "stream",
     "text": [
      "Training until validation scores don't improve for 100 rounds\n",
      "[50]\tvalid_0's auc: 0.893452\n",
      "[100]\tvalid_0's auc: 0.897615\n",
      "[150]\tvalid_0's auc: 0.899952\n",
      "[200]\tvalid_0's auc: 0.901559\n",
      "[250]\tvalid_0's auc: 0.902659\n",
      "[300]\tvalid_0's auc: 0.9034\n",
      "[350]\tvalid_0's auc: 0.904026\n",
      "[400]\tvalid_0's auc: 0.904427\n",
      "[450]\tvalid_0's auc: 0.90499\n",
      "[500]\tvalid_0's auc: 0.905237\n",
      "[550]\tvalid_0's auc: 0.905377\n",
      "[600]\tvalid_0's auc: 0.90545\n",
      "[650]\tvalid_0's auc: 0.905515\n",
      "[700]\tvalid_0's auc: 0.905612\n",
      "[750]\tvalid_0's auc: 0.905638\n",
      "[800]\tvalid_0's auc: 0.905687\n",
      "[850]\tvalid_0's auc: 0.905739\n",
      "[900]\tvalid_0's auc: 0.905716\n",
      "[950]\tvalid_0's auc: 0.905732\n",
      "[1000]\tvalid_0's auc: 0.905758\n",
      "[1050]\tvalid_0's auc: 0.905684\n",
      "[1100]\tvalid_0's auc: 0.905625\n",
      "Early stopping, best iteration is:\n",
      "[1001]\tvalid_0's auc: 0.905774\n"
     ]
    },
    {
     "name": "stderr",
     "output_type": "stream",
     "text": [
      "regularization_factors, val_score: 0.906648:  85%|###############################4     | 17/20 [00:19<00:03,  1.29s/it]C:\\Python39\\lib\\site-packages\\lightgbm\\engine.py:181: UserWarning: 'early_stopping_rounds' argument is deprecated and will be removed in a future release of LightGBM. Pass 'early_stopping()' callback via 'callbacks' argument instead.\n",
      "  _log_warning(\"'early_stopping_rounds' argument is deprecated and will be removed in a future release of LightGBM. \"\n",
      "C:\\Python39\\lib\\site-packages\\lightgbm\\engine.py:239: UserWarning: 'verbose_eval' argument is deprecated and will be removed in a future release of LightGBM. Pass 'log_evaluation()' callback via 'callbacks' argument instead.\n",
      "  _log_warning(\"'verbose_eval' argument is deprecated and will be removed in a future release of LightGBM. \"\n"
     ]
    },
    {
     "name": "stdout",
     "output_type": "stream",
     "text": [
      "Training until validation scores don't improve for 100 rounds\n",
      "[50]\tvalid_0's auc: 0.895466\n",
      "[100]\tvalid_0's auc: 0.89955\n",
      "[150]\tvalid_0's auc: 0.902029\n",
      "[200]\tvalid_0's auc: 0.903636\n",
      "[250]\tvalid_0's auc: 0.904636\n",
      "[300]\tvalid_0's auc: 0.905264\n",
      "[350]\tvalid_0's auc: 0.905755\n",
      "[400]\tvalid_0's auc: 0.906081\n",
      "[450]\tvalid_0's auc: 0.906246\n",
      "[500]\tvalid_0's auc: 0.906517\n",
      "[550]\tvalid_0's auc: 0.906356\n",
      "[600]\tvalid_0's auc: 0.906378\n"
     ]
    },
    {
     "name": "stderr",
     "output_type": "stream",
     "text": [
      "regularization_factors, val_score: 0.906648:  90%|#################################3   | 18/20 [00:20<00:02,  1.21s/it]"
     ]
    },
    {
     "name": "stdout",
     "output_type": "stream",
     "text": [
      "Early stopping, best iteration is:\n",
      "[515]\tvalid_0's auc: 0.906589\n",
      "Training until validation scores don't improve for 100 rounds\n"
     ]
    },
    {
     "name": "stderr",
     "output_type": "stream",
     "text": [
      "C:\\Python39\\lib\\site-packages\\lightgbm\\engine.py:181: UserWarning: 'early_stopping_rounds' argument is deprecated and will be removed in a future release of LightGBM. Pass 'early_stopping()' callback via 'callbacks' argument instead.\n",
      "  _log_warning(\"'early_stopping_rounds' argument is deprecated and will be removed in a future release of LightGBM. \"\n",
      "C:\\Python39\\lib\\site-packages\\lightgbm\\engine.py:239: UserWarning: 'verbose_eval' argument is deprecated and will be removed in a future release of LightGBM. Pass 'log_evaluation()' callback via 'callbacks' argument instead.\n",
      "  _log_warning(\"'verbose_eval' argument is deprecated and will be removed in a future release of LightGBM. \"\n"
     ]
    },
    {
     "name": "stdout",
     "output_type": "stream",
     "text": [
      "[50]\tvalid_0's auc: 0.895467\n",
      "[100]\tvalid_0's auc: 0.899548\n",
      "[150]\tvalid_0's auc: 0.902024\n",
      "[200]\tvalid_0's auc: 0.903684\n",
      "[250]\tvalid_0's auc: 0.90477\n",
      "[300]\tvalid_0's auc: 0.905334\n",
      "[350]\tvalid_0's auc: 0.905827\n",
      "[400]\tvalid_0's auc: 0.906157\n",
      "[450]\tvalid_0's auc: 0.906375\n",
      "[500]\tvalid_0's auc: 0.906534\n",
      "[550]\tvalid_0's auc: 0.906444\n",
      "[600]\tvalid_0's auc: 0.906493\n",
      "Early stopping, best iteration is:\n",
      "[503]\tvalid_0's auc: 0.906586\n"
     ]
    },
    {
     "name": "stderr",
     "output_type": "stream",
     "text": [
      "regularization_factors, val_score: 0.906648:  95%|###################################1 | 19/20 [00:21<00:01,  1.17s/it]C:\\Python39\\lib\\site-packages\\lightgbm\\engine.py:181: UserWarning: 'early_stopping_rounds' argument is deprecated and will be removed in a future release of LightGBM. Pass 'early_stopping()' callback via 'callbacks' argument instead.\n",
      "  _log_warning(\"'early_stopping_rounds' argument is deprecated and will be removed in a future release of LightGBM. \"\n",
      "C:\\Python39\\lib\\site-packages\\lightgbm\\engine.py:239: UserWarning: 'verbose_eval' argument is deprecated and will be removed in a future release of LightGBM. Pass 'log_evaluation()' callback via 'callbacks' argument instead.\n",
      "  _log_warning(\"'verbose_eval' argument is deprecated and will be removed in a future release of LightGBM. \"\n"
     ]
    },
    {
     "name": "stdout",
     "output_type": "stream",
     "text": [
      "Training until validation scores don't improve for 100 rounds\n",
      "[50]\tvalid_0's auc: 0.895376\n",
      "[100]\tvalid_0's auc: 0.899343\n",
      "[150]\tvalid_0's auc: 0.901876\n",
      "[200]\tvalid_0's auc: 0.903545\n",
      "[250]\tvalid_0's auc: 0.904573\n",
      "[300]\tvalid_0's auc: 0.90518\n",
      "[350]\tvalid_0's auc: 0.905626\n",
      "[400]\tvalid_0's auc: 0.90587\n",
      "[450]\tvalid_0's auc: 0.906144\n",
      "[500]\tvalid_0's auc: 0.906306\n",
      "[550]\tvalid_0's auc: 0.906291\n",
      "[600]\tvalid_0's auc: 0.906424\n",
      "[650]\tvalid_0's auc: 0.906248\n",
      "[700]\tvalid_0's auc: 0.905891\n",
      "Early stopping, best iteration is:\n",
      "[603]\tvalid_0's auc: 0.906441\n"
     ]
    },
    {
     "name": "stderr",
     "output_type": "stream",
     "text": [
      "regularization_factors, val_score: 0.906648: 100%|#####################################| 20/20 [00:23<00:00,  1.16s/it]\n",
      "min_data_in_leaf, val_score: 0.906648:   0%|                                                     | 0/5 [00:00<?, ?it/s]C:\\Python39\\lib\\site-packages\\lightgbm\\engine.py:181: UserWarning: 'early_stopping_rounds' argument is deprecated and will be removed in a future release of LightGBM. Pass 'early_stopping()' callback via 'callbacks' argument instead.\n",
      "  _log_warning(\"'early_stopping_rounds' argument is deprecated and will be removed in a future release of LightGBM. \"\n",
      "C:\\Python39\\lib\\site-packages\\lightgbm\\engine.py:239: UserWarning: 'verbose_eval' argument is deprecated and will be removed in a future release of LightGBM. Pass 'log_evaluation()' callback via 'callbacks' argument instead.\n",
      "  _log_warning(\"'verbose_eval' argument is deprecated and will be removed in a future release of LightGBM. \"\n"
     ]
    },
    {
     "name": "stdout",
     "output_type": "stream",
     "text": [
      "Training until validation scores don't improve for 100 rounds\n",
      "[50]\tvalid_0's auc: 0.895008\n",
      "[100]\tvalid_0's auc: 0.899342\n",
      "[150]\tvalid_0's auc: 0.901832\n",
      "[200]\tvalid_0's auc: 0.903457\n",
      "[250]\tvalid_0's auc: 0.904554\n",
      "[300]\tvalid_0's auc: 0.905258\n",
      "[350]\tvalid_0's auc: 0.905818\n",
      "[400]\tvalid_0's auc: 0.906142\n",
      "[450]\tvalid_0's auc: 0.906407\n",
      "[500]\tvalid_0's auc: 0.906635\n",
      "[550]\tvalid_0's auc: 0.906755\n"
     ]
    },
    {
     "name": "stderr",
     "output_type": "stream",
     "text": [
      "min_data_in_leaf, val_score: 0.906918:  20%|#########                                    | 1/5 [00:01<00:04,  1.16s/it]"
     ]
    },
    {
     "name": "stdout",
     "output_type": "stream",
     "text": [
      "[600]\tvalid_0's auc: 0.906867\n",
      "[650]\tvalid_0's auc: 0.906734\n",
      "Early stopping, best iteration is:\n",
      "[598]\tvalid_0's auc: 0.906918\n"
     ]
    },
    {
     "name": "stderr",
     "output_type": "stream",
     "text": [
      "min_data_in_leaf, val_score: 0.906918:  20%|#########                                    | 1/5 [00:01<00:04,  1.16s/it]C:\\Python39\\lib\\site-packages\\lightgbm\\engine.py:181: UserWarning: 'early_stopping_rounds' argument is deprecated and will be removed in a future release of LightGBM. Pass 'early_stopping()' callback via 'callbacks' argument instead.\n",
      "  _log_warning(\"'early_stopping_rounds' argument is deprecated and will be removed in a future release of LightGBM. \"\n",
      "C:\\Python39\\lib\\site-packages\\lightgbm\\engine.py:239: UserWarning: 'verbose_eval' argument is deprecated and will be removed in a future release of LightGBM. Pass 'log_evaluation()' callback via 'callbacks' argument instead.\n",
      "  _log_warning(\"'verbose_eval' argument is deprecated and will be removed in a future release of LightGBM. \"\n"
     ]
    },
    {
     "name": "stdout",
     "output_type": "stream",
     "text": [
      "Training until validation scores don't improve for 100 rounds\n",
      "[50]\tvalid_0's auc: 0.896699\n",
      "[100]\tvalid_0's auc: 0.900598\n",
      "[150]\tvalid_0's auc: 0.902722\n",
      "[200]\tvalid_0's auc: 0.904467\n",
      "[250]\tvalid_0's auc: 0.90537\n",
      "[300]\tvalid_0's auc: 0.905954\n",
      "[350]\tvalid_0's auc: 0.906264\n",
      "[400]\tvalid_0's auc: 0.90635\n"
     ]
    },
    {
     "name": "stderr",
     "output_type": "stream",
     "text": [
      "min_data_in_leaf, val_score: 0.906918:  40%|##################                           | 2/5 [00:02<00:03,  1.05s/it]"
     ]
    },
    {
     "name": "stdout",
     "output_type": "stream",
     "text": [
      "[450]\tvalid_0's auc: 0.906583\n",
      "[500]\tvalid_0's auc: 0.906445\n",
      "Early stopping, best iteration is:\n",
      "[437]\tvalid_0's auc: 0.906617\n"
     ]
    },
    {
     "name": "stderr",
     "output_type": "stream",
     "text": [
      "C:\\Python39\\lib\\site-packages\\lightgbm\\engine.py:181: UserWarning: 'early_stopping_rounds' argument is deprecated and will be removed in a future release of LightGBM. Pass 'early_stopping()' callback via 'callbacks' argument instead.\n",
      "  _log_warning(\"'early_stopping_rounds' argument is deprecated and will be removed in a future release of LightGBM. \"\n",
      "C:\\Python39\\lib\\site-packages\\lightgbm\\engine.py:239: UserWarning: 'verbose_eval' argument is deprecated and will be removed in a future release of LightGBM. Pass 'log_evaluation()' callback via 'callbacks' argument instead.\n",
      "  _log_warning(\"'verbose_eval' argument is deprecated and will be removed in a future release of LightGBM. \"\n"
     ]
    },
    {
     "name": "stdout",
     "output_type": "stream",
     "text": [
      "Training until validation scores don't improve for 100 rounds\n",
      "[50]\tvalid_0's auc: 0.895497\n",
      "[100]\tvalid_0's auc: 0.899606\n",
      "[150]\tvalid_0's auc: 0.902006\n",
      "[200]\tvalid_0's auc: 0.903704\n",
      "[250]\tvalid_0's auc: 0.904736\n",
      "[300]\tvalid_0's auc: 0.905211\n",
      "[350]\tvalid_0's auc: 0.905608\n",
      "[400]\tvalid_0's auc: 0.905965\n",
      "[450]\tvalid_0's auc: 0.906193\n",
      "[500]\tvalid_0's auc: 0.906319\n",
      "[550]\tvalid_0's auc: 0.906137\n"
     ]
    },
    {
     "name": "stderr",
     "output_type": "stream",
     "text": [
      "min_data_in_leaf, val_score: 0.906918:  60%|###########################                  | 3/5 [00:03<00:02,  1.05s/it]"
     ]
    },
    {
     "name": "stdout",
     "output_type": "stream",
     "text": [
      "[600]\tvalid_0's auc: 0.906195\n",
      "Early stopping, best iteration is:\n",
      "[506]\tvalid_0's auc: 0.906341\n",
      "Training until validation scores don't improve for 100 rounds\n"
     ]
    },
    {
     "name": "stderr",
     "output_type": "stream",
     "text": [
      "C:\\Python39\\lib\\site-packages\\lightgbm\\engine.py:181: UserWarning: 'early_stopping_rounds' argument is deprecated and will be removed in a future release of LightGBM. Pass 'early_stopping()' callback via 'callbacks' argument instead.\n",
      "  _log_warning(\"'early_stopping_rounds' argument is deprecated and will be removed in a future release of LightGBM. \"\n",
      "C:\\Python39\\lib\\site-packages\\lightgbm\\engine.py:239: UserWarning: 'verbose_eval' argument is deprecated and will be removed in a future release of LightGBM. Pass 'log_evaluation()' callback via 'callbacks' argument instead.\n",
      "  _log_warning(\"'verbose_eval' argument is deprecated and will be removed in a future release of LightGBM. \"\n"
     ]
    },
    {
     "name": "stdout",
     "output_type": "stream",
     "text": [
      "[50]\tvalid_0's auc: 0.896209\n",
      "[100]\tvalid_0's auc: 0.900136\n",
      "[150]\tvalid_0's auc: 0.902215\n",
      "[200]\tvalid_0's auc: 0.903832\n",
      "[250]\tvalid_0's auc: 0.904802\n",
      "[300]\tvalid_0's auc: 0.905348\n",
      "[350]\tvalid_0's auc: 0.90577\n",
      "[400]\tvalid_0's auc: 0.906072\n",
      "[450]\tvalid_0's auc: 0.906267\n",
      "[500]\tvalid_0's auc: 0.906463\n",
      "[550]\tvalid_0's auc: 0.90655\n",
      "[600]\tvalid_0's auc: 0.906588\n"
     ]
    },
    {
     "name": "stderr",
     "output_type": "stream",
     "text": [
      "min_data_in_leaf, val_score: 0.906918:  80%|####################################         | 4/5 [00:04<00:01,  1.13s/it]"
     ]
    },
    {
     "name": "stdout",
     "output_type": "stream",
     "text": [
      "[650]\tvalid_0's auc: 0.906336\n",
      "Early stopping, best iteration is:\n",
      "[571]\tvalid_0's auc: 0.906709\n",
      "Training until validation scores don't improve for 100 rounds\n"
     ]
    },
    {
     "name": "stderr",
     "output_type": "stream",
     "text": [
      "C:\\Python39\\lib\\site-packages\\lightgbm\\engine.py:181: UserWarning: 'early_stopping_rounds' argument is deprecated and will be removed in a future release of LightGBM. Pass 'early_stopping()' callback via 'callbacks' argument instead.\n",
      "  _log_warning(\"'early_stopping_rounds' argument is deprecated and will be removed in a future release of LightGBM. \"\n",
      "C:\\Python39\\lib\\site-packages\\lightgbm\\engine.py:239: UserWarning: 'verbose_eval' argument is deprecated and will be removed in a future release of LightGBM. Pass 'log_evaluation()' callback via 'callbacks' argument instead.\n",
      "  _log_warning(\"'verbose_eval' argument is deprecated and will be removed in a future release of LightGBM. \"\n"
     ]
    },
    {
     "name": "stdout",
     "output_type": "stream",
     "text": [
      "[50]\tvalid_0's auc: 0.89492\n",
      "[100]\tvalid_0's auc: 0.899216\n",
      "[150]\tvalid_0's auc: 0.901805\n",
      "[200]\tvalid_0's auc: 0.903429\n",
      "[250]\tvalid_0's auc: 0.904495\n",
      "[300]\tvalid_0's auc: 0.905088\n",
      "[350]\tvalid_0's auc: 0.905807\n",
      "[400]\tvalid_0's auc: 0.906209\n",
      "[450]\tvalid_0's auc: 0.906437\n",
      "[500]\tvalid_0's auc: 0.906774\n",
      "[550]\tvalid_0's auc: 0.90686\n",
      "[600]\tvalid_0's auc: 0.906853\n",
      "[650]\tvalid_0's auc: 0.9068\n",
      "Early stopping, best iteration is:\n",
      "[577]\tvalid_0's auc: 0.906948\n"
     ]
    },
    {
     "name": "stderr",
     "output_type": "stream",
     "text": [
      "min_data_in_leaf, val_score: 0.906948: 100%|#############################################| 5/5 [00:05<00:00,  1.12s/it]\n"
     ]
    }
   ],
   "source": [
    "'''\n",
    "lgb.trainを利用すると再現性を確保できない\n",
    "# 上記のパラメータでモデルを学習する\n",
    "model = lgb.train(params, train_set=lgb_train, valid_sets=lgb_valid,\n",
    "                  verbose_eval = 50,  # 50イテレーション毎に学習結果出力\n",
    "                  num_boost_round = 10000,  # 最大イテレーション回数指定\n",
    "                  early_stopping_rounds = 100\n",
    "                 )\n",
    "'''\n",
    "# 上記のパラメータでモデルを学習する\n",
    "booster.run()"
   ]
  },
  {
   "cell_type": "code",
   "execution_count": 16,
   "id": "aa88a7d3-f7d6-48d6-9056-b07209a9d0c2",
   "metadata": {
    "tags": []
   },
   "outputs": [
    {
     "name": "stdout",
     "output_type": "stream",
     "text": [
      "Best params: {'boosting_type': 'gbdt', 'objective': 'binary', 'metric': 'auc', 'verbosity': -1, 'learning_rate': 0.02, 'deterministic': True, 'force_row_wise': True, 'feature_pre_filter': False, 'lambda_l1': 0.0004943442717655035, 'lambda_l2': 1.7461995929067122e-06, 'num_leaves': 19, 'feature_fraction': 0.4, 'bagging_fraction': 0.524899277143041, 'bagging_freq': 1, 'min_child_samples': 5}\n"
     ]
    }
   ],
   "source": [
    "# 最適なパラメータの表示\n",
    "print(\"Best params:\", booster.best_params)"
   ]
  },
  {
   "cell_type": "code",
   "execution_count": 17,
   "id": "a1624cc2-96b6-4cc3-8648-3e7b087581cc",
   "metadata": {
    "tags": []
   },
   "outputs": [],
   "source": [
    "# 最適なモデル（Boosterオブジェクト）を取得する\n",
    "model = booster.get_best_booster()"
   ]
  },
  {
   "cell_type": "code",
   "execution_count": 18,
   "id": "de07a052-5c0d-4946-899d-5d2bf782343a",
   "metadata": {
    "tags": []
   },
   "outputs": [
    {
     "name": "stdout",
     "output_type": "stream",
     "text": [
      "Best params: {'boosting_type': 'gbdt', 'objective': 'binary', 'metric': 'auc', 'verbosity': -1, 'learning_rate': 0.02, 'deterministic': True, 'force_row_wise': True, 'feature_pre_filter': False, 'lambda_l1': 0.0004943442717655035, 'lambda_l2': 1.7461995929067122e-06, 'num_leaves': 19, 'feature_fraction': 0.4, 'bagging_fraction': 0.524899277143041, 'bagging_freq': 1, 'min_child_samples': 5, 'num_iterations': 10000, 'early_stopping_round': 100}\n"
     ]
    }
   ],
   "source": [
    "# 最適なパラメータの表示\n",
    "best_params = model.params\n",
    "print(\"Best params:\", best_params)"
   ]
  },
  {
   "cell_type": "code",
   "execution_count": 19,
   "id": "d2faead5-ef91-4675-a694-7ba4c2042f92",
   "metadata": {
    "tags": []
   },
   "outputs": [],
   "source": [
    "# テストデータを予測する\n",
    "y_pred = model.predict(X_test, num_iteration=model.best_iteration)"
   ]
  },
  {
   "cell_type": "code",
   "execution_count": 20,
   "id": "1e06ecfd-f51e-4803-bb53-bd3c08e94ffc",
   "metadata": {
    "tags": []
   },
   "outputs": [
    {
     "name": "stdout",
     "output_type": "stream",
     "text": [
      "AUC 0.8946890881836128\n"
     ]
    },
    {
     "data": {
      "image/png": "[encoded data removed]",
      "text/plain": [
       "<Figure size 640x480 with 1 Axes>"
      ]
     },
     "metadata": {},
     "output_type": "display_data"
    },
    {
     "name": "stdout",
     "output_type": "stream",
     "text": [
      "accuracy 0.8546328526437925\n",
      "precision 0.6803097345132744\n"
     ]
    },
    {
     "data": {
      "image/png": "[encoded data removed]",
      "text/plain": [
       "<Figure size 640x480 with 2 Axes>"
      ]
     },
     "metadata": {},
     "output_type": "display_data"
    }
   ],
   "source": [
    "# AUCを計算\n",
    "fpr, tpr, thresholds = roc_curve(np.asarray(y_test), y_pred)\n",
    "print(\"AUC\", auc(fpr, tpr))\n",
    "\n",
    "# ROC曲線をプロット\n",
    "plt.plot(fpr, tpr, label='ROC curve (area = %.2f)' %auc(fpr, tpr))\n",
    "plt.legend()\n",
    "plt.title('ROC curve')\n",
    "plt.xlabel('False Positive Rate')\n",
    "plt.ylabel('True Positive Rate')\n",
    "plt.grid(True)\n",
    "plt.show()\n",
    "\n",
    "# accuracy, precisionを計算\n",
    "acc = accuracy_score(np.asarray(y_test), np.round(y_pred))\n",
    "precision = precision_score(np.asarray(y_test), np.round(y_pred))\n",
    "print(\"accuracy\", acc)\n",
    "print(\"precision\", precision)\n",
    "\n",
    "# 混同行列をプロット\n",
    "y_pred = np.round(y_pred)\n",
    "cm = confusion_matrix(np.asarray(y_test), np.where(y_pred < 0.5, 0, 1))\n",
    "cmp = ConfusionMatrixDisplay(cm, display_labels=[0,1])\n",
    "cmp.plot(cmap=plt.cm.Blues)\n",
    "plt.show()"
   ]
  },
  {
   "cell_type": "code",
   "execution_count": 21,
   "id": "d1e85129-233a-4507-a1dc-61dd103d6d37",
   "metadata": {
    "tags": []
   },
   "outputs": [
    {
     "data": {
      "text/plain": [
       "<AxesSubplot: title={'center': 'Feature importance'}, xlabel='Feature importance', ylabel='Features'>"
      ]
     },
     "execution_count": 21,
     "metadata": {},
     "output_type": "execute_result"
    },
    {
     "data": {
      "image/png": "[encoded data removed]",
      "text/plain": [
       "<Figure size 3000x1500 with 1 Axes>"
      ]
     },
     "metadata": {},
     "output_type": "display_data"
    }
   ],
   "source": [
    "# 重要度としては「特徴量が分岐（ノード）の条件式で使用された回数」（＝デフォルト）\n",
    "lgb.plot_importance(model, figsize=(30, 15), max_num_features=30, importance_type='split')"
   ]
  },
  {
   "cell_type": "code",
   "execution_count": 22,
   "id": "df079c02-8653-4f45-b968-8dfbe4589c70",
   "metadata": {
    "tags": []
   },
   "outputs": [
    {
     "data": {
      "text/plain": [
       "<AxesSubplot: title={'center': 'Feature importance'}, xlabel='Feature importance', ylabel='Features'>"
      ]
     },
     "execution_count": 22,
     "metadata": {},
     "output_type": "execute_result"
    },
    {
     "data": {
      "image/png": "[encoded data removed]",
      "text/plain": [
       "<Figure size 3000x1500 with 1 Axes>"
      ]
     },
     "metadata": {},
     "output_type": "display_data"
    }
   ],
   "source": [
    "# 重要度としては「特徴量がある分岐（ノード）において目的関数の改善に寄与した度合い」\n",
    "lgb.plot_importance(model, figsize=(30, 15), max_num_features=30, importance_type='gain')"
   ]
  },
  {
   "cell_type": "code",
   "execution_count": 23,
   "id": "9591d4c7-2735-49a0-87a8-2e46a4168e11",
   "metadata": {
    "tags": []
   },
   "outputs": [],
   "source": [
    "# 特徴量重要度を棒グラフでプロットする関数 \n",
    "def plot_feature_importance(df): \n",
    "    n_features = len(df)                              # 特徴量数(説明変数の個数) \n",
    "    df_plot = df.sort_values('importance')            # df_importanceをプロット用に特徴量重要度を昇順ソート \n",
    "    f_importance_plot = df_plot['importance'].values  # 特徴量重要度の取得 \n",
    "    plt.barh(range(n_features), f_importance_plot, align='center') \n",
    "    cols_plot = df_plot['feature'].values             # 特徴量の取得 \n",
    "    plt.yticks(np.arange(n_features), cols_plot)      # x軸,y軸の値の設定\n",
    "    plt.xlabel('Feature importance')                  # x軸のタイトル\n",
    "    plt.ylabel('Feature')                             # y軸のタイトル"
   ]
  },
  {
   "cell_type": "code",
   "execution_count": 24,
   "id": "50236fed-d6af-450e-b94a-1b289e73d878",
   "metadata": {
    "tags": []
   },
   "outputs": [],
   "source": [
    "# 特徴量重要度の算出 (データフレームで取得)\n",
    "cols = list(df.drop('income',axis=1).columns) # 特徴量名のリスト(目的変数target以外)\n",
    "# 特徴量重要度の算出方法 'gain'(推奨) : トレーニングデータの損失の減少量を評価\n",
    "f_importance = np.array(model.feature_importance(importance_type='gain')) # 特徴量重要度の算出\n",
    "f_importance = f_importance / np.sum(f_importance) # 正規化(必要ない場合はコメントアウト)\n",
    "df_importance = pd.DataFrame({'feature':cols, 'importance':f_importance})\n",
    "df_importance = df_importance.sort_values('importance', ascending=False) # 降順ソート"
   ]
  },
  {
   "cell_type": "code",
   "execution_count": 25,
   "id": "a0dd0bb5-0e0f-46c6-83e6-7b1fdcf45eb9",
   "metadata": {
    "tags": []
   },
   "outputs": [
    {
     "data": {
      "image/png": "[encoded data removed]",
      "text/plain": [
       "<Figure size 640x480 with 1 Axes>"
      ]
     },
     "metadata": {},
     "output_type": "display_data"
    }
   ],
   "source": [
    "# 特徴量重要度の可視化\n",
    "n_display = 5 # 上位10個に制限\n",
    "plot_feature_importance(df_importance.iloc[:n_display,:])"
   ]
  },
  {
   "cell_type": "code",
   "execution_count": null,
   "id": "0336d574-26c7-4376-b095-3ab444c65550",
   "metadata": {},
   "outputs": [],
   "source": []
  }
 ],
 "metadata": {
  "kernelspec": {
   "display_name": "Python 3 (ipykernel)",
   "language": "python",
   "name": "python3"
  },
  "language_info": {
   "codemirror_mode": {
    "name": "ipython",
    "version": 3
   },
   "file_extension": ".py",
   "mimetype": "text/x-python",
   "name": "python",
   "nbconvert_exporter": "python",
   "pygments_lexer": "ipython3",
   "version": "3.9.13"
  }
 },
 "nbformat": 4,
 "nbformat_minor": 5
}
