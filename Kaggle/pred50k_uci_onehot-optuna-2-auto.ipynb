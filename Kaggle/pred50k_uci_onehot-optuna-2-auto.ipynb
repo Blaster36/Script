{
 "cells": [
  {
   "cell_type": "markdown",
   "id": "f8ae7dd2-b7ee-454a-8e93-956ecae2805e",
   "metadata": {},
   "source": [
    "# カテゴリ値を含むデータでのLightGBMを使った分析\n",
    "\n",
    "### データ\n",
    "[Adult Data Set](https://archive.ics.uci.edu/ml/datasets/adult) \\\n",
    "[Adult Census Income](https://www.kaggle.com/datasets/uciml/adult-census-income) \\\n",
    "[Adult income dataset](https://www.kaggle.com/datasets/wenruliu/adult-income-dataset)\n",
    "\n",
    "### 参考\n",
    "[lightgbmで二値分類の一連の流れをしたメモ](https://qiita.com/d_desuyon/items/807e01311ad08570ee78) \\\n",
    "[【初心者向け】特徴量重要度の算出 (LightGBM) 【Python】【機械学習】](https://mathmatical22.xyz/2020/04/12/%E3%80%90%E5%88%9D%E5%BF%83%E8%80%85%E5%90%91%E3%81%91%E3%80%91%E7%89%B9%E5%BE%B4%E9%87%8F%E9%87%8D%E8%A6%81%E5%BA%A6%E3%81%AE%E7%AE%97%E5%87%BA-lightgbm-%E3%80%90python%E3%80%91%E3%80%90%E6%A9%9F/) \\\n",
    "[LightGBMのCategorical Featureによって精度が向上するか？](https://qiita.com/sinchir0/items/b038757e578b790ec96a) \\\n",
    "[Pythonでしか描けない美しいデシジョンツリー（決定木）をlightGBMでも描こう！](https://qiita.com/hima2b4/items/b356e688ebdabc393da8) \\\n",
    "[LightGBM/XGBoostのtree構造可視化メモ](https://qiita.com/dyamaguc/items/70d4ce3548d49a6256fa) \\\n",
    "[Category Encodersでカテゴリ特徴量をストレスなく変換する](https://qiita.com/Hyperion13fleet/items/afa49a84bd5db65ffc31) \\\n",
    "[カテゴリ変数系特徴量の前処理(scikit-learnとcategory_encoders)](https://qiita.com/FukuharaYohei/items/06cc7b1c5eb124db6cdf) \\\n",
    "[LightGBMのCategorical Featureによって精度が向上するか？](https://qiita.com/sinchir0/items/b038757e578b790ec96a) \\\n",
    "[LightGBMでOptunaを使用するときの再現性確保について](https://book-read-yoshi.hatenablog.com/entry/2021/03/22/lightgbm_optuna_deterministic)"
   ]
  },
  {
   "cell_type": "code",
   "execution_count": 1,
   "id": "a351e39d-6b18-4c71-920b-c5dd28d5d025",
   "metadata": {
    "tags": []
   },
   "outputs": [
    {
     "name": "stdout",
     "output_type": "stream",
     "text": [
      "Python 3.9.13\n"
     ]
    }
   ],
   "source": [
    "!python -V"
   ]
  },
  {
   "cell_type": "code",
   "execution_count": 2,
   "id": "d69ebb53-1f16-4caf-8ce3-0ad7639bb24c",
   "metadata": {
    "tags": []
   },
   "outputs": [
    {
     "name": "stdout",
     "output_type": "stream",
     "text": [
      "pip 23.0.1 from C:\\Python39\\lib\\site-packages\\pip (python 3.9)\n",
      "\n"
     ]
    }
   ],
   "source": [
    "!python -m pip --version"
   ]
  },
  {
   "cell_type": "code",
   "execution_count": 3,
   "id": "d0045464-336b-4d7b-8bc8-4c05f19257f7",
   "metadata": {
    "tags": []
   },
   "outputs": [
    {
     "name": "stdout",
     "output_type": "stream",
     "text": [
      "Package                  Version\n",
      "------------------------ -----------\n",
      "aiofiles                 22.1.0\n",
      "aiosqlite                0.18.0\n",
      "alembic                  1.9.4\n",
      "anyio                    3.6.2\n",
      "argon2-cffi              21.3.0\n",
      "argon2-cffi-bindings     21.2.0\n",
      "arrow                    1.2.3\n",
      "asttokens                2.2.1\n",
      "attrs                    22.2.0\n",
      "Babel                    2.11.0\n",
      "backcall                 0.2.0\n",
      "beautifulsoup4           4.11.2\n",
      "bleach                   6.0.0\n",
      "bs4                      0.0.1\n",
      "category-encoders        2.6.0\n",
      "certifi                  2022.12.7\n",
      "cffi                     1.15.1\n",
      "charset-normalizer       3.0.1\n",
      "cmaes                    0.9.1\n",
      "colorama                 0.4.6\n",
      "colorlog                 6.7.0\n",
      "comm                     0.1.2\n",
      "contourpy                1.0.7\n",
      "cycler                   0.11.0\n",
      "debugpy                  1.6.6\n",
      "decorator                5.1.1\n",
      "defusedxml               0.7.1\n",
      "executing                1.2.0\n",
      "fastjsonschema           2.16.2\n",
      "fonttools                4.38.0\n",
      "fqdn                     1.5.1\n",
      "greenlet                 2.0.2\n",
      "idna                     3.4\n",
      "importlib-metadata       6.0.0\n",
      "ipykernel                6.21.1\n",
      "ipython                  8.10.0\n",
      "ipython-genutils         0.2.0\n",
      "ipywidgets               8.0.4\n",
      "isoduration              20.11.0\n",
      "jedi                     0.18.2\n",
      "Jinja2                   3.1.2\n",
      "joblib                   1.2.0\n",
      "json5                    0.9.11\n",
      "jsonpointer              2.3\n",
      "jsonschema               4.17.3\n",
      "jupyter                  1.0.0\n",
      "jupyter_client           8.0.2\n",
      "jupyter-console          6.5.0\n",
      "jupyter_core             5.2.0\n",
      "jupyter-events           0.5.0\n",
      "jupyter_server           2.2.1\n",
      "jupyter_server_fileid    0.6.0\n",
      "jupyter_server_terminals 0.4.4\n",
      "jupyter_server_ydoc      0.6.1\n",
      "jupyter-ydoc             0.2.2\n",
      "jupyterlab               3.6.1\n",
      "jupyterlab-pygments      0.2.2\n",
      "jupyterlab_server        2.19.0\n",
      "jupyterlab-widgets       3.0.5\n",
      "kiwisolver               1.4.4\n",
      "lightgbm                 3.3.5\n",
      "Mako                     1.2.4\n",
      "MarkupSafe               2.1.2\n",
      "matplotlib               3.6.3\n",
      "matplotlib-inline        0.1.6\n",
      "mistune                  2.0.5\n",
      "nbclassic                0.5.1\n",
      "nbclient                 0.7.2\n",
      "nbconvert                7.2.9\n",
      "nbformat                 5.7.3\n",
      "nest-asyncio             1.5.6\n",
      "notebook                 6.5.2\n",
      "notebook_shim            0.2.2\n",
      "numpy                    1.24.2\n",
      "optuna                   3.1.0\n",
      "packaging                23.0\n",
      "pandas                   1.5.3\n",
      "pandocfilters            1.5.0\n",
      "parso                    0.8.3\n",
      "patsy                    0.5.3\n",
      "pickleshare              0.7.5\n",
      "Pillow                   9.4.0\n",
      "pip                      23.0.1\n",
      "platformdirs             3.0.0\n",
      "plotly                   5.13.0\n",
      "prometheus-client        0.16.0\n",
      "prompt-toolkit           3.0.36\n",
      "psutil                   5.9.4\n",
      "pure-eval                0.2.2\n",
      "pycparser                2.21\n",
      "Pygments                 2.14.0\n",
      "pyparsing                3.0.9\n",
      "pyrsistent               0.19.3\n",
      "python-dateutil          2.8.2\n",
      "python-json-logger       2.0.5\n",
      "pytz                     2022.7.1\n",
      "pywin32                  305\n",
      "pywinpty                 2.0.10\n",
      "PyYAML                   6.0\n",
      "pyzmq                    25.0.0\n",
      "qtconsole                5.4.0\n",
      "QtPy                     2.3.0\n",
      "requests                 2.28.2\n",
      "rfc3339-validator        0.1.4\n",
      "rfc3986-validator        0.1.1\n",
      "scikit-learn             1.2.1\n",
      "scipy                    1.10.0\n",
      "seaborn                  0.12.2\n",
      "Send2Trash               1.8.0\n",
      "setuptools               58.1.0\n",
      "six                      1.16.0\n",
      "sniffio                  1.3.0\n",
      "soupsieve                2.3.2.post1\n",
      "SQLAlchemy               2.0.4\n",
      "stack-data               0.6.2\n",
      "statsmodels              0.13.5\n",
      "tenacity                 8.2.1\n",
      "terminado                0.17.1\n",
      "threadpoolctl            3.1.0\n",
      "tinycss2                 1.2.1\n",
      "tomli                    2.0.1\n",
      "tornado                  6.2\n",
      "tqdm                     4.64.1\n",
      "traitlets                5.9.0\n",
      "typing_extensions        4.5.0\n",
      "uri-template             1.2.0\n",
      "urllib3                  1.26.14\n",
      "wcwidth                  0.2.6\n",
      "webcolors                1.12\n",
      "webencodings             0.5.1\n",
      "websocket-client         1.5.1\n",
      "wheel                    0.38.4\n",
      "widgetsnbextension       4.0.5\n",
      "xgboost                  1.7.3\n",
      "y-py                     0.5.5\n",
      "ypy-websocket            0.8.2\n",
      "zipp                     3.13.0\n"
     ]
    }
   ],
   "source": [
    "!python -m pip list"
   ]
  },
  {
   "cell_type": "code",
   "execution_count": 4,
   "id": "6316f9a6-c11d-421d-849e-88ca0a8acd7f",
   "metadata": {
    "tags": []
   },
   "outputs": [],
   "source": [
    "import pandas as pd\n",
    "pd.set_option('display.max_rows', 100)\n",
    "import numpy as np\n",
    "from sklearn.model_selection import train_test_split\n",
    "#import lightgbm as lgb\n",
    "import optuna\n",
    "# ログを非表示にしたいときは、optuna.logging.disable_default_handler()\n",
    "# 逆に、表示にしたいときは、optuna.logging.enable_default_handler()\n",
    "optuna.logging.disable_default_handler()\n",
    "# optuna経由でLightGBMをインポート\n",
    "from optuna.integration import lightgbm as lgb\n",
    "from sklearn.metrics import accuracy_score, f1_score, auc, roc_curve, precision_score, confusion_matrix, ConfusionMatrixDisplay\n",
    "from matplotlib import pyplot as plt\n",
    "%matplotlib inline"
   ]
  },
  {
   "cell_type": "code",
   "execution_count": 5,
   "id": "64d9c06a-b7d2-42d9-b5d0-01ad1f12125c",
   "metadata": {
    "tags": []
   },
   "outputs": [],
   "source": [
    "df = pd.read_csv('adult_uci_onehot.csv')"
   ]
  },
  {
   "cell_type": "code",
   "execution_count": 6,
   "id": "a8c71871-9241-43d6-aefa-ed75c07bdcc0",
   "metadata": {
    "tags": []
   },
   "outputs": [
    {
     "data": {
      "text/html": [
       "<div>\n",
       "<style scoped>\n",
       "    .dataframe tbody tr th:only-of-type {\n",
       "        vertical-align: middle;\n",
       "    }\n",
       "\n",
       "    .dataframe tbody tr th {\n",
       "        vertical-align: top;\n",
       "    }\n",
       "\n",
       "    .dataframe thead th {\n",
       "        text-align: right;\n",
       "    }\n",
       "</style>\n",
       "<table border=\"1\" class=\"dataframe\">\n",
       "  <thead>\n",
       "    <tr style=\"text-align: right;\">\n",
       "      <th></th>\n",
       "      <th>age</th>\n",
       "      <th>workclass_1</th>\n",
       "      <th>workclass_2</th>\n",
       "      <th>workclass_3</th>\n",
       "      <th>workclass_4</th>\n",
       "      <th>workclass_5</th>\n",
       "      <th>workclass_6</th>\n",
       "      <th>workclass_7</th>\n",
       "      <th>fnlwgt</th>\n",
       "      <th>education_1</th>\n",
       "      <th>...</th>\n",
       "      <th>native.country_33</th>\n",
       "      <th>native.country_34</th>\n",
       "      <th>native.country_35</th>\n",
       "      <th>native.country_36</th>\n",
       "      <th>native.country_37</th>\n",
       "      <th>native.country_38</th>\n",
       "      <th>native.country_39</th>\n",
       "      <th>native.country_40</th>\n",
       "      <th>native.country_41</th>\n",
       "      <th>income</th>\n",
       "    </tr>\n",
       "  </thead>\n",
       "  <tbody>\n",
       "    <tr>\n",
       "      <th>0</th>\n",
       "      <td>82</td>\n",
       "      <td>1</td>\n",
       "      <td>0</td>\n",
       "      <td>0</td>\n",
       "      <td>0</td>\n",
       "      <td>0</td>\n",
       "      <td>0</td>\n",
       "      <td>0</td>\n",
       "      <td>132870</td>\n",
       "      <td>1</td>\n",
       "      <td>...</td>\n",
       "      <td>0</td>\n",
       "      <td>0</td>\n",
       "      <td>0</td>\n",
       "      <td>0</td>\n",
       "      <td>0</td>\n",
       "      <td>0</td>\n",
       "      <td>0</td>\n",
       "      <td>0</td>\n",
       "      <td>0</td>\n",
       "      <td>0</td>\n",
       "    </tr>\n",
       "    <tr>\n",
       "      <th>1</th>\n",
       "      <td>54</td>\n",
       "      <td>1</td>\n",
       "      <td>0</td>\n",
       "      <td>0</td>\n",
       "      <td>0</td>\n",
       "      <td>0</td>\n",
       "      <td>0</td>\n",
       "      <td>0</td>\n",
       "      <td>140359</td>\n",
       "      <td>0</td>\n",
       "      <td>...</td>\n",
       "      <td>0</td>\n",
       "      <td>0</td>\n",
       "      <td>0</td>\n",
       "      <td>0</td>\n",
       "      <td>0</td>\n",
       "      <td>0</td>\n",
       "      <td>0</td>\n",
       "      <td>0</td>\n",
       "      <td>0</td>\n",
       "      <td>0</td>\n",
       "    </tr>\n",
       "    <tr>\n",
       "      <th>2</th>\n",
       "      <td>41</td>\n",
       "      <td>1</td>\n",
       "      <td>0</td>\n",
       "      <td>0</td>\n",
       "      <td>0</td>\n",
       "      <td>0</td>\n",
       "      <td>0</td>\n",
       "      <td>0</td>\n",
       "      <td>264663</td>\n",
       "      <td>0</td>\n",
       "      <td>...</td>\n",
       "      <td>0</td>\n",
       "      <td>0</td>\n",
       "      <td>0</td>\n",
       "      <td>0</td>\n",
       "      <td>0</td>\n",
       "      <td>0</td>\n",
       "      <td>0</td>\n",
       "      <td>0</td>\n",
       "      <td>0</td>\n",
       "      <td>0</td>\n",
       "    </tr>\n",
       "    <tr>\n",
       "      <th>3</th>\n",
       "      <td>34</td>\n",
       "      <td>1</td>\n",
       "      <td>0</td>\n",
       "      <td>0</td>\n",
       "      <td>0</td>\n",
       "      <td>0</td>\n",
       "      <td>0</td>\n",
       "      <td>0</td>\n",
       "      <td>216864</td>\n",
       "      <td>1</td>\n",
       "      <td>...</td>\n",
       "      <td>0</td>\n",
       "      <td>0</td>\n",
       "      <td>0</td>\n",
       "      <td>0</td>\n",
       "      <td>0</td>\n",
       "      <td>0</td>\n",
       "      <td>0</td>\n",
       "      <td>0</td>\n",
       "      <td>0</td>\n",
       "      <td>0</td>\n",
       "    </tr>\n",
       "    <tr>\n",
       "      <th>4</th>\n",
       "      <td>38</td>\n",
       "      <td>1</td>\n",
       "      <td>0</td>\n",
       "      <td>0</td>\n",
       "      <td>0</td>\n",
       "      <td>0</td>\n",
       "      <td>0</td>\n",
       "      <td>0</td>\n",
       "      <td>150601</td>\n",
       "      <td>0</td>\n",
       "      <td>...</td>\n",
       "      <td>0</td>\n",
       "      <td>0</td>\n",
       "      <td>0</td>\n",
       "      <td>0</td>\n",
       "      <td>0</td>\n",
       "      <td>0</td>\n",
       "      <td>0</td>\n",
       "      <td>0</td>\n",
       "      <td>0</td>\n",
       "      <td>0</td>\n",
       "    </tr>\n",
       "    <tr>\n",
       "      <th>5</th>\n",
       "      <td>74</td>\n",
       "      <td>0</td>\n",
       "      <td>1</td>\n",
       "      <td>0</td>\n",
       "      <td>0</td>\n",
       "      <td>0</td>\n",
       "      <td>0</td>\n",
       "      <td>0</td>\n",
       "      <td>88638</td>\n",
       "      <td>0</td>\n",
       "      <td>...</td>\n",
       "      <td>0</td>\n",
       "      <td>0</td>\n",
       "      <td>0</td>\n",
       "      <td>0</td>\n",
       "      <td>0</td>\n",
       "      <td>0</td>\n",
       "      <td>0</td>\n",
       "      <td>0</td>\n",
       "      <td>0</td>\n",
       "      <td>1</td>\n",
       "    </tr>\n",
       "    <tr>\n",
       "      <th>6</th>\n",
       "      <td>68</td>\n",
       "      <td>0</td>\n",
       "      <td>0</td>\n",
       "      <td>1</td>\n",
       "      <td>0</td>\n",
       "      <td>0</td>\n",
       "      <td>0</td>\n",
       "      <td>0</td>\n",
       "      <td>422013</td>\n",
       "      <td>1</td>\n",
       "      <td>...</td>\n",
       "      <td>0</td>\n",
       "      <td>0</td>\n",
       "      <td>0</td>\n",
       "      <td>0</td>\n",
       "      <td>0</td>\n",
       "      <td>0</td>\n",
       "      <td>0</td>\n",
       "      <td>0</td>\n",
       "      <td>0</td>\n",
       "      <td>0</td>\n",
       "    </tr>\n",
       "    <tr>\n",
       "      <th>7</th>\n",
       "      <td>45</td>\n",
       "      <td>1</td>\n",
       "      <td>0</td>\n",
       "      <td>0</td>\n",
       "      <td>0</td>\n",
       "      <td>0</td>\n",
       "      <td>0</td>\n",
       "      <td>0</td>\n",
       "      <td>172274</td>\n",
       "      <td>0</td>\n",
       "      <td>...</td>\n",
       "      <td>0</td>\n",
       "      <td>0</td>\n",
       "      <td>0</td>\n",
       "      <td>0</td>\n",
       "      <td>0</td>\n",
       "      <td>0</td>\n",
       "      <td>0</td>\n",
       "      <td>0</td>\n",
       "      <td>0</td>\n",
       "      <td>1</td>\n",
       "    </tr>\n",
       "    <tr>\n",
       "      <th>8</th>\n",
       "      <td>38</td>\n",
       "      <td>0</td>\n",
       "      <td>0</td>\n",
       "      <td>0</td>\n",
       "      <td>1</td>\n",
       "      <td>0</td>\n",
       "      <td>0</td>\n",
       "      <td>0</td>\n",
       "      <td>164526</td>\n",
       "      <td>0</td>\n",
       "      <td>...</td>\n",
       "      <td>0</td>\n",
       "      <td>0</td>\n",
       "      <td>0</td>\n",
       "      <td>0</td>\n",
       "      <td>0</td>\n",
       "      <td>0</td>\n",
       "      <td>0</td>\n",
       "      <td>0</td>\n",
       "      <td>0</td>\n",
       "      <td>1</td>\n",
       "    </tr>\n",
       "    <tr>\n",
       "      <th>9</th>\n",
       "      <td>52</td>\n",
       "      <td>1</td>\n",
       "      <td>0</td>\n",
       "      <td>0</td>\n",
       "      <td>0</td>\n",
       "      <td>0</td>\n",
       "      <td>0</td>\n",
       "      <td>0</td>\n",
       "      <td>129177</td>\n",
       "      <td>0</td>\n",
       "      <td>...</td>\n",
       "      <td>0</td>\n",
       "      <td>0</td>\n",
       "      <td>0</td>\n",
       "      <td>0</td>\n",
       "      <td>0</td>\n",
       "      <td>0</td>\n",
       "      <td>0</td>\n",
       "      <td>0</td>\n",
       "      <td>0</td>\n",
       "      <td>1</td>\n",
       "    </tr>\n",
       "  </tbody>\n",
       "</table>\n",
       "<p>10 rows × 105 columns</p>\n",
       "</div>"
      ],
      "text/plain": [
       "   age  workclass_1  workclass_2  workclass_3  workclass_4  workclass_5  \\\n",
       "0   82            1            0            0            0            0   \n",
       "1   54            1            0            0            0            0   \n",
       "2   41            1            0            0            0            0   \n",
       "3   34            1            0            0            0            0   \n",
       "4   38            1            0            0            0            0   \n",
       "5   74            0            1            0            0            0   \n",
       "6   68            0            0            1            0            0   \n",
       "7   45            1            0            0            0            0   \n",
       "8   38            0            0            0            1            0   \n",
       "9   52            1            0            0            0            0   \n",
       "\n",
       "   workclass_6  workclass_7  fnlwgt  education_1  ...  native.country_33  \\\n",
       "0            0            0  132870            1  ...                  0   \n",
       "1            0            0  140359            0  ...                  0   \n",
       "2            0            0  264663            0  ...                  0   \n",
       "3            0            0  216864            1  ...                  0   \n",
       "4            0            0  150601            0  ...                  0   \n",
       "5            0            0   88638            0  ...                  0   \n",
       "6            0            0  422013            1  ...                  0   \n",
       "7            0            0  172274            0  ...                  0   \n",
       "8            0            0  164526            0  ...                  0   \n",
       "9            0            0  129177            0  ...                  0   \n",
       "\n",
       "   native.country_34  native.country_35  native.country_36  native.country_37  \\\n",
       "0                  0                  0                  0                  0   \n",
       "1                  0                  0                  0                  0   \n",
       "2                  0                  0                  0                  0   \n",
       "3                  0                  0                  0                  0   \n",
       "4                  0                  0                  0                  0   \n",
       "5                  0                  0                  0                  0   \n",
       "6                  0                  0                  0                  0   \n",
       "7                  0                  0                  0                  0   \n",
       "8                  0                  0                  0                  0   \n",
       "9                  0                  0                  0                  0   \n",
       "\n",
       "   native.country_38  native.country_39  native.country_40  native.country_41  \\\n",
       "0                  0                  0                  0                  0   \n",
       "1                  0                  0                  0                  0   \n",
       "2                  0                  0                  0                  0   \n",
       "3                  0                  0                  0                  0   \n",
       "4                  0                  0                  0                  0   \n",
       "5                  0                  0                  0                  0   \n",
       "6                  0                  0                  0                  0   \n",
       "7                  0                  0                  0                  0   \n",
       "8                  0                  0                  0                  0   \n",
       "9                  0                  0                  0                  0   \n",
       "\n",
       "   income  \n",
       "0       0  \n",
       "1       0  \n",
       "2       0  \n",
       "3       0  \n",
       "4       0  \n",
       "5       1  \n",
       "6       0  \n",
       "7       1  \n",
       "8       1  \n",
       "9       1  \n",
       "\n",
       "[10 rows x 105 columns]"
      ]
     },
     "execution_count": 6,
     "metadata": {},
     "output_type": "execute_result"
    }
   ],
   "source": [
    "df.head(10)"
   ]
  },
  {
   "cell_type": "code",
   "execution_count": 7,
   "id": "f410512f-dc2b-46ec-adc8-ae54c42b59c7",
   "metadata": {
    "tags": []
   },
   "outputs": [
    {
     "name": "stdout",
     "output_type": "stream",
     "text": [
      "<class 'pandas.core.frame.DataFrame'>\n",
      "RangeIndex: 30162 entries, 0 to 30161\n",
      "Columns: 105 entries, age to income\n",
      "dtypes: int64(105)\n",
      "memory usage: 24.2 MB\n"
     ]
    }
   ],
   "source": [
    "df.info()"
   ]
  },
  {
   "cell_type": "code",
   "execution_count": 8,
   "id": "29f736f8",
   "metadata": {
    "tags": []
   },
   "outputs": [
    {
     "data": {
      "text/plain": [
       "0    22654\n",
       "1     7508\n",
       "Name: income, dtype: int64"
      ]
     },
     "execution_count": 8,
     "metadata": {},
     "output_type": "execute_result"
    }
   ],
   "source": [
    "df['income'].value_counts()"
   ]
  },
  {
   "cell_type": "code",
   "execution_count": 9,
   "id": "95550de7-f32e-4d73-9c8a-9f776efb91b1",
   "metadata": {
    "tags": []
   },
   "outputs": [
    {
     "data": {
      "text/html": [
       "<div>\n",
       "<style scoped>\n",
       "    .dataframe tbody tr th:only-of-type {\n",
       "        vertical-align: middle;\n",
       "    }\n",
       "\n",
       "    .dataframe tbody tr th {\n",
       "        vertical-align: top;\n",
       "    }\n",
       "\n",
       "    .dataframe thead th {\n",
       "        text-align: right;\n",
       "    }\n",
       "</style>\n",
       "<table border=\"1\" class=\"dataframe\">\n",
       "  <thead>\n",
       "    <tr style=\"text-align: right;\">\n",
       "      <th></th>\n",
       "      <th>age</th>\n",
       "      <th>workclass_1</th>\n",
       "      <th>workclass_2</th>\n",
       "      <th>workclass_3</th>\n",
       "      <th>workclass_4</th>\n",
       "      <th>workclass_5</th>\n",
       "      <th>workclass_6</th>\n",
       "      <th>workclass_7</th>\n",
       "      <th>education_1</th>\n",
       "      <th>education_2</th>\n",
       "      <th>...</th>\n",
       "      <th>native.country_33</th>\n",
       "      <th>native.country_34</th>\n",
       "      <th>native.country_35</th>\n",
       "      <th>native.country_36</th>\n",
       "      <th>native.country_37</th>\n",
       "      <th>native.country_38</th>\n",
       "      <th>native.country_39</th>\n",
       "      <th>native.country_40</th>\n",
       "      <th>native.country_41</th>\n",
       "      <th>income</th>\n",
       "    </tr>\n",
       "  </thead>\n",
       "  <tbody>\n",
       "    <tr>\n",
       "      <th>0</th>\n",
       "      <td>82</td>\n",
       "      <td>1</td>\n",
       "      <td>0</td>\n",
       "      <td>0</td>\n",
       "      <td>0</td>\n",
       "      <td>0</td>\n",
       "      <td>0</td>\n",
       "      <td>0</td>\n",
       "      <td>1</td>\n",
       "      <td>0</td>\n",
       "      <td>...</td>\n",
       "      <td>0</td>\n",
       "      <td>0</td>\n",
       "      <td>0</td>\n",
       "      <td>0</td>\n",
       "      <td>0</td>\n",
       "      <td>0</td>\n",
       "      <td>0</td>\n",
       "      <td>0</td>\n",
       "      <td>0</td>\n",
       "      <td>0</td>\n",
       "    </tr>\n",
       "    <tr>\n",
       "      <th>1</th>\n",
       "      <td>54</td>\n",
       "      <td>1</td>\n",
       "      <td>0</td>\n",
       "      <td>0</td>\n",
       "      <td>0</td>\n",
       "      <td>0</td>\n",
       "      <td>0</td>\n",
       "      <td>0</td>\n",
       "      <td>0</td>\n",
       "      <td>1</td>\n",
       "      <td>...</td>\n",
       "      <td>0</td>\n",
       "      <td>0</td>\n",
       "      <td>0</td>\n",
       "      <td>0</td>\n",
       "      <td>0</td>\n",
       "      <td>0</td>\n",
       "      <td>0</td>\n",
       "      <td>0</td>\n",
       "      <td>0</td>\n",
       "      <td>0</td>\n",
       "    </tr>\n",
       "    <tr>\n",
       "      <th>2</th>\n",
       "      <td>41</td>\n",
       "      <td>1</td>\n",
       "      <td>0</td>\n",
       "      <td>0</td>\n",
       "      <td>0</td>\n",
       "      <td>0</td>\n",
       "      <td>0</td>\n",
       "      <td>0</td>\n",
       "      <td>0</td>\n",
       "      <td>0</td>\n",
       "      <td>...</td>\n",
       "      <td>0</td>\n",
       "      <td>0</td>\n",
       "      <td>0</td>\n",
       "      <td>0</td>\n",
       "      <td>0</td>\n",
       "      <td>0</td>\n",
       "      <td>0</td>\n",
       "      <td>0</td>\n",
       "      <td>0</td>\n",
       "      <td>0</td>\n",
       "    </tr>\n",
       "    <tr>\n",
       "      <th>3</th>\n",
       "      <td>34</td>\n",
       "      <td>1</td>\n",
       "      <td>0</td>\n",
       "      <td>0</td>\n",
       "      <td>0</td>\n",
       "      <td>0</td>\n",
       "      <td>0</td>\n",
       "      <td>0</td>\n",
       "      <td>1</td>\n",
       "      <td>0</td>\n",
       "      <td>...</td>\n",
       "      <td>0</td>\n",
       "      <td>0</td>\n",
       "      <td>0</td>\n",
       "      <td>0</td>\n",
       "      <td>0</td>\n",
       "      <td>0</td>\n",
       "      <td>0</td>\n",
       "      <td>0</td>\n",
       "      <td>0</td>\n",
       "      <td>0</td>\n",
       "    </tr>\n",
       "    <tr>\n",
       "      <th>4</th>\n",
       "      <td>38</td>\n",
       "      <td>1</td>\n",
       "      <td>0</td>\n",
       "      <td>0</td>\n",
       "      <td>0</td>\n",
       "      <td>0</td>\n",
       "      <td>0</td>\n",
       "      <td>0</td>\n",
       "      <td>0</td>\n",
       "      <td>0</td>\n",
       "      <td>...</td>\n",
       "      <td>0</td>\n",
       "      <td>0</td>\n",
       "      <td>0</td>\n",
       "      <td>0</td>\n",
       "      <td>0</td>\n",
       "      <td>0</td>\n",
       "      <td>0</td>\n",
       "      <td>0</td>\n",
       "      <td>0</td>\n",
       "      <td>0</td>\n",
       "    </tr>\n",
       "    <tr>\n",
       "      <th>5</th>\n",
       "      <td>74</td>\n",
       "      <td>0</td>\n",
       "      <td>1</td>\n",
       "      <td>0</td>\n",
       "      <td>0</td>\n",
       "      <td>0</td>\n",
       "      <td>0</td>\n",
       "      <td>0</td>\n",
       "      <td>0</td>\n",
       "      <td>0</td>\n",
       "      <td>...</td>\n",
       "      <td>0</td>\n",
       "      <td>0</td>\n",
       "      <td>0</td>\n",
       "      <td>0</td>\n",
       "      <td>0</td>\n",
       "      <td>0</td>\n",
       "      <td>0</td>\n",
       "      <td>0</td>\n",
       "      <td>0</td>\n",
       "      <td>1</td>\n",
       "    </tr>\n",
       "    <tr>\n",
       "      <th>6</th>\n",
       "      <td>68</td>\n",
       "      <td>0</td>\n",
       "      <td>0</td>\n",
       "      <td>1</td>\n",
       "      <td>0</td>\n",
       "      <td>0</td>\n",
       "      <td>0</td>\n",
       "      <td>0</td>\n",
       "      <td>1</td>\n",
       "      <td>0</td>\n",
       "      <td>...</td>\n",
       "      <td>0</td>\n",
       "      <td>0</td>\n",
       "      <td>0</td>\n",
       "      <td>0</td>\n",
       "      <td>0</td>\n",
       "      <td>0</td>\n",
       "      <td>0</td>\n",
       "      <td>0</td>\n",
       "      <td>0</td>\n",
       "      <td>0</td>\n",
       "    </tr>\n",
       "    <tr>\n",
       "      <th>7</th>\n",
       "      <td>45</td>\n",
       "      <td>1</td>\n",
       "      <td>0</td>\n",
       "      <td>0</td>\n",
       "      <td>0</td>\n",
       "      <td>0</td>\n",
       "      <td>0</td>\n",
       "      <td>0</td>\n",
       "      <td>0</td>\n",
       "      <td>0</td>\n",
       "      <td>...</td>\n",
       "      <td>0</td>\n",
       "      <td>0</td>\n",
       "      <td>0</td>\n",
       "      <td>0</td>\n",
       "      <td>0</td>\n",
       "      <td>0</td>\n",
       "      <td>0</td>\n",
       "      <td>0</td>\n",
       "      <td>0</td>\n",
       "      <td>1</td>\n",
       "    </tr>\n",
       "    <tr>\n",
       "      <th>8</th>\n",
       "      <td>38</td>\n",
       "      <td>0</td>\n",
       "      <td>0</td>\n",
       "      <td>0</td>\n",
       "      <td>1</td>\n",
       "      <td>0</td>\n",
       "      <td>0</td>\n",
       "      <td>0</td>\n",
       "      <td>0</td>\n",
       "      <td>0</td>\n",
       "      <td>...</td>\n",
       "      <td>0</td>\n",
       "      <td>0</td>\n",
       "      <td>0</td>\n",
       "      <td>0</td>\n",
       "      <td>0</td>\n",
       "      <td>0</td>\n",
       "      <td>0</td>\n",
       "      <td>0</td>\n",
       "      <td>0</td>\n",
       "      <td>1</td>\n",
       "    </tr>\n",
       "    <tr>\n",
       "      <th>9</th>\n",
       "      <td>52</td>\n",
       "      <td>1</td>\n",
       "      <td>0</td>\n",
       "      <td>0</td>\n",
       "      <td>0</td>\n",
       "      <td>0</td>\n",
       "      <td>0</td>\n",
       "      <td>0</td>\n",
       "      <td>0</td>\n",
       "      <td>0</td>\n",
       "      <td>...</td>\n",
       "      <td>0</td>\n",
       "      <td>0</td>\n",
       "      <td>0</td>\n",
       "      <td>0</td>\n",
       "      <td>0</td>\n",
       "      <td>0</td>\n",
       "      <td>0</td>\n",
       "      <td>0</td>\n",
       "      <td>0</td>\n",
       "      <td>1</td>\n",
       "    </tr>\n",
       "  </tbody>\n",
       "</table>\n",
       "<p>10 rows × 104 columns</p>\n",
       "</div>"
      ],
      "text/plain": [
       "   age  workclass_1  workclass_2  workclass_3  workclass_4  workclass_5  \\\n",
       "0   82            1            0            0            0            0   \n",
       "1   54            1            0            0            0            0   \n",
       "2   41            1            0            0            0            0   \n",
       "3   34            1            0            0            0            0   \n",
       "4   38            1            0            0            0            0   \n",
       "5   74            0            1            0            0            0   \n",
       "6   68            0            0            1            0            0   \n",
       "7   45            1            0            0            0            0   \n",
       "8   38            0            0            0            1            0   \n",
       "9   52            1            0            0            0            0   \n",
       "\n",
       "   workclass_6  workclass_7  education_1  education_2  ...  native.country_33  \\\n",
       "0            0            0            1            0  ...                  0   \n",
       "1            0            0            0            1  ...                  0   \n",
       "2            0            0            0            0  ...                  0   \n",
       "3            0            0            1            0  ...                  0   \n",
       "4            0            0            0            0  ...                  0   \n",
       "5            0            0            0            0  ...                  0   \n",
       "6            0            0            1            0  ...                  0   \n",
       "7            0            0            0            0  ...                  0   \n",
       "8            0            0            0            0  ...                  0   \n",
       "9            0            0            0            0  ...                  0   \n",
       "\n",
       "   native.country_34  native.country_35  native.country_36  native.country_37  \\\n",
       "0                  0                  0                  0                  0   \n",
       "1                  0                  0                  0                  0   \n",
       "2                  0                  0                  0                  0   \n",
       "3                  0                  0                  0                  0   \n",
       "4                  0                  0                  0                  0   \n",
       "5                  0                  0                  0                  0   \n",
       "6                  0                  0                  0                  0   \n",
       "7                  0                  0                  0                  0   \n",
       "8                  0                  0                  0                  0   \n",
       "9                  0                  0                  0                  0   \n",
       "\n",
       "   native.country_38  native.country_39  native.country_40  native.country_41  \\\n",
       "0                  0                  0                  0                  0   \n",
       "1                  0                  0                  0                  0   \n",
       "2                  0                  0                  0                  0   \n",
       "3                  0                  0                  0                  0   \n",
       "4                  0                  0                  0                  0   \n",
       "5                  0                  0                  0                  0   \n",
       "6                  0                  0                  0                  0   \n",
       "7                  0                  0                  0                  0   \n",
       "8                  0                  0                  0                  0   \n",
       "9                  0                  0                  0                  0   \n",
       "\n",
       "   income  \n",
       "0       0  \n",
       "1       0  \n",
       "2       0  \n",
       "3       0  \n",
       "4       0  \n",
       "5       1  \n",
       "6       0  \n",
       "7       1  \n",
       "8       1  \n",
       "9       1  \n",
       "\n",
       "[10 rows x 104 columns]"
      ]
     },
     "execution_count": 9,
     "metadata": {},
     "output_type": "execute_result"
    }
   ],
   "source": [
    "# 不要カラムの削除と並べ替え\n",
    "'''\n",
    "df = df[[\"age\",\n",
    "         \"workclass\",\n",
    "         #\"fnlwgt\",\n",
    "         \"education\",\n",
    "         \"education.num\",\n",
    "         \"marital.status\",\n",
    "         \"occupation\",\n",
    "         \"relationship\",\n",
    "         \"race\",\n",
    "         \"sex\",\n",
    "         \"capital.gain\",\n",
    "         \"capital.loss\",\n",
    "         \"hours.per.week\",\n",
    "         \"native.country\",\n",
    "         \"income\",]]\n",
    "'''\n",
    "df = df.drop([\"fnlwgt\"], axis=1)\n",
    "df.head(10)"
   ]
  },
  {
   "cell_type": "code",
   "execution_count": 10,
   "id": "5b76a5f5-bd1b-4de7-8173-7975716c1be4",
   "metadata": {
    "tags": []
   },
   "outputs": [],
   "source": [
    "X = df.drop(['income'], axis=1)\n",
    "y = df['income']\n",
    "\n",
    "#Creation of Train and Test dataset\n",
    "X_train, X_test , y_train, y_test  = train_test_split(X      , y      , test_size=0.2, shuffle=False)\n",
    "\n",
    "#Creation of Train and validation dataset\n",
    "X_train, X_valid, y_train, y_valid = train_test_split(X_train, y_train, test_size=0.2, shuffle=False)"
   ]
  },
  {
   "cell_type": "code",
   "execution_count": 11,
   "id": "3871dfb1-1d1d-43b0-8dcb-cd8a4742e94f",
   "metadata": {
    "tags": []
   },
   "outputs": [
    {
     "name": "stdout",
     "output_type": "stream",
     "text": [
      "Train dataset: (19303, 103)(19303,)\n",
      "Validation dataset: (4826, 103)(4826,)\n",
      "Test dataset: (6033, 103)(6033,)\n"
     ]
    }
   ],
   "source": [
    "print (\"Train dataset: {0}{1}\".format(X_train.shape, y_train.shape))\n",
    "print (\"Validation dataset: {0}{1}\".format(X_valid.shape, y_valid.shape))\n",
    "print (\"Test dataset: {0}{1}\".format(X_test.shape, y_test.shape))"
   ]
  },
  {
   "cell_type": "code",
   "execution_count": 12,
   "id": "67533dfe-b063-4177-b44a-7e9794366994",
   "metadata": {
    "tags": []
   },
   "outputs": [],
   "source": [
    "# データセットを生成する\n",
    "lgb_train = lgb.Dataset(X_train, y_train)\n",
    "lgb_valid = lgb.Dataset(X_valid, y_valid, reference=lgb_train)"
   ]
  },
  {
   "cell_type": "code",
   "execution_count": 13,
   "id": "b7c8c6de-b208-47ac-af74-45fece3b7ea9",
   "metadata": {
    "tags": []
   },
   "outputs": [],
   "source": [
    "# LightGBMのハイパーパラメータ\n",
    "params = {\n",
    "    # 勾配ブースティング木(GBDT:Gradient Boosting Decision Tree)\n",
    "    'boosting_type': 'gbdt',\n",
    "    # 二値分類問題\n",
    "    'objective': 'binary',\n",
    "    # AUCの最大化を目指す\n",
    "    'metric': 'auc',\n",
    "    # 正答率の最大化を目指す\n",
    "    #'metric': 'binary_error',\n",
    "    # Fatal の場合出力\n",
    "    'verbosity': -1,\n",
    "    # 学習率\n",
    "    'learning_rate': 0.02,\n",
    "    'deterministic': True, # 再現性確保用のパラメータ\n",
    "    'force_row_wise': True  # 再現性確保用のパラメータ\n",
    "}"
   ]
  },
  {
   "cell_type": "code",
   "execution_count": 14,
   "id": "67822de6-4283-4b35-bec8-b37f7fb0d85c",
   "metadata": {
    "tags": []
   },
   "outputs": [],
   "source": [
    "# 乱数Seedを指定した試行\n",
    "# LightGBMTunerのインスタンス化、学習（≒探索）、最適モデル（およびパラメータ）取得などの流れは前節に同じ\n",
    "# 更にモデル精度指標算出を追加\n",
    "def autotuning(seed=31):\n",
    "    booster = lgb.LightGBMTuner(\n",
    "        params = params,\n",
    "        train_set = lgb_train,\n",
    "        valid_sets = lgb_valid,\n",
    "        verbose_eval = 50,  # 50イテレーション毎に学習結果出力\n",
    "        num_boost_round = 10000,  # 最大イテレーション回数指定\n",
    "        early_stopping_rounds = 100,\n",
    "        optuna_seed = seed, # 再現性確保用のパラメータ\n",
    "    )\n",
    "\n",
    "    # 上記のパラメータでモデルを学習する\n",
    "    booster.run()\n",
    "\n",
    "    # 最適なパラメータの表示\n",
    "    #print(\"Best params:\", booster.best_params)\n",
    "\n",
    "    # 最適なモデル（Boosterオブジェクト）を取得する\n",
    "    model = booster.get_best_booster()\n",
    "\n",
    "    # 最適なパラメータの表示\n",
    "    best_params = model.params\n",
    "    print(\"Best params:\", best_params)\n",
    "\n",
    "    # テストデータを予測する\n",
    "    y_pred = model.predict(X_test, num_iteration=model.best_iteration)\n",
    "\n",
    "    # AUCを計算\n",
    "    fpr, tpr, thresholds = roc_curve(np.asarray(y_test), y_pred)\n",
    "    #print(\"AUC\", auc(fpr, tpr))\n",
    "\n",
    "    metrics = {\n",
    "        \"seed\": seed,\n",
    "        \"auc\": auc(fpr, tpr),\n",
    "        \"accuracy\": accuracy_score(np.asarray(y_test), np.round(y_pred)),\n",
    "        \"precision\": precision_score(np.asarray(y_test), np.round(y_pred)),\n",
    "    }\n",
    "\n",
    "    # Tupleとして戻り値に\n",
    "    return (best_params, metrics)"
   ]
  },
  {
   "cell_type": "code",
   "execution_count": 15,
   "id": "ab63a258-7bd5-4d80-b86e-abb2dbdafa0f",
   "metadata": {
    "tags": []
   },
   "outputs": [],
   "source": [
    "# 乱数シードを指定（from 素数を取得するワンライナー）\n",
    "seeds = (lambda n:[x for x in range(2, n) if not 0 in map(lambda z: x%z, range(2, x))])(10)"
   ]
  },
  {
   "cell_type": "code",
   "execution_count": 16,
   "id": "fca12805-137c-4344-ae57-21f585504302",
   "metadata": {
    "tags": []
   },
   "outputs": [
    {
     "name": "stdout",
     "output_type": "stream",
     "text": [
      "### seed:  2 ###\n"
     ]
    },
    {
     "name": "stderr",
     "output_type": "stream",
     "text": [
      "feature_fraction, val_score: -inf:   0%|                                                         | 0/7 [00:00<?, ?it/s]C:\\Python39\\lib\\site-packages\\lightgbm\\engine.py:181: UserWarning: 'early_stopping_rounds' argument is deprecated and will be removed in a future release of LightGBM. Pass 'early_stopping()' callback via 'callbacks' argument instead.\n",
      "  _log_warning(\"'early_stopping_rounds' argument is deprecated and will be removed in a future release of LightGBM. \"\n",
      "C:\\Python39\\lib\\site-packages\\lightgbm\\engine.py:239: UserWarning: 'verbose_eval' argument is deprecated and will be removed in a future release of LightGBM. Pass 'log_evaluation()' callback via 'callbacks' argument instead.\n",
      "  _log_warning(\"'verbose_eval' argument is deprecated and will be removed in a future release of LightGBM. \"\n"
     ]
    },
    {
     "name": "stdout",
     "output_type": "stream",
     "text": [
      "Training until validation scores don't improve for 100 rounds\n",
      "[50]\tvalid_0's auc: 0.895481\n",
      "[100]\tvalid_0's auc: 0.899061\n",
      "[150]\tvalid_0's auc: 0.901728\n",
      "[200]\tvalid_0's auc: 0.90346\n",
      "[250]\tvalid_0's auc: 0.904153\n",
      "[300]\tvalid_0's auc: 0.904424\n",
      "[350]\tvalid_0's auc: 0.904549\n",
      "[400]\tvalid_0's auc: 0.904709\n",
      "[450]\tvalid_0's auc: 0.904767\n",
      "[500]\tvalid_0's auc: 0.904665\n"
     ]
    },
    {
     "name": "stderr",
     "output_type": "stream",
     "text": [
      "feature_fraction, val_score: 0.904811:  14%|######4                                      | 1/7 [00:01<00:06,  1.16s/it]"
     ]
    },
    {
     "name": "stdout",
     "output_type": "stream",
     "text": [
      "Early stopping, best iteration is:\n",
      "[434]\tvalid_0's auc: 0.904811\n",
      "Training until validation scores don't improve for 100 rounds\n"
     ]
    },
    {
     "name": "stderr",
     "output_type": "stream",
     "text": [
      "C:\\Python39\\lib\\site-packages\\lightgbm\\engine.py:181: UserWarning: 'early_stopping_rounds' argument is deprecated and will be removed in a future release of LightGBM. Pass 'early_stopping()' callback via 'callbacks' argument instead.\n",
      "  _log_warning(\"'early_stopping_rounds' argument is deprecated and will be removed in a future release of LightGBM. \"\n",
      "C:\\Python39\\lib\\site-packages\\lightgbm\\engine.py:239: UserWarning: 'verbose_eval' argument is deprecated and will be removed in a future release of LightGBM. Pass 'log_evaluation()' callback via 'callbacks' argument instead.\n",
      "  _log_warning(\"'verbose_eval' argument is deprecated and will be removed in a future release of LightGBM. \"\n"
     ]
    },
    {
     "name": "stdout",
     "output_type": "stream",
     "text": [
      "[50]\tvalid_0's auc: 0.889524\n",
      "[100]\tvalid_0's auc: 0.895641\n",
      "[150]\tvalid_0's auc: 0.899847\n",
      "[200]\tvalid_0's auc: 0.901449\n",
      "[250]\tvalid_0's auc: 0.902116\n",
      "[300]\tvalid_0's auc: 0.902619\n",
      "[350]\tvalid_0's auc: 0.903006\n",
      "[400]\tvalid_0's auc: 0.903235\n",
      "[450]\tvalid_0's auc: 0.90335\n",
      "[500]\tvalid_0's auc: 0.903194\n",
      "[550]\tvalid_0's auc: 0.902898\n",
      "Early stopping, best iteration is:\n",
      "[454]\tvalid_0's auc: 0.90337\n"
     ]
    },
    {
     "name": "stderr",
     "output_type": "stream",
     "text": [
      "feature_fraction, val_score: 0.904811:  29%|############8                                | 2/7 [00:02<00:05,  1.12s/it]C:\\Python39\\lib\\site-packages\\lightgbm\\engine.py:181: UserWarning: 'early_stopping_rounds' argument is deprecated and will be removed in a future release of LightGBM. Pass 'early_stopping()' callback via 'callbacks' argument instead.\n",
      "  _log_warning(\"'early_stopping_rounds' argument is deprecated and will be removed in a future release of LightGBM. \"\n",
      "C:\\Python39\\lib\\site-packages\\lightgbm\\engine.py:239: UserWarning: 'verbose_eval' argument is deprecated and will be removed in a future release of LightGBM. Pass 'log_evaluation()' callback via 'callbacks' argument instead.\n",
      "  _log_warning(\"'verbose_eval' argument is deprecated and will be removed in a future release of LightGBM. \"\n"
     ]
    },
    {
     "name": "stdout",
     "output_type": "stream",
     "text": [
      "Training until validation scores don't improve for 100 rounds\n",
      "[50]\tvalid_0's auc: 0.891521\n",
      "[100]\tvalid_0's auc: 0.896627\n",
      "[150]\tvalid_0's auc: 0.900669\n",
      "[200]\tvalid_0's auc: 0.902519\n",
      "[250]\tvalid_0's auc: 0.902953\n",
      "[300]\tvalid_0's auc: 0.903131\n",
      "[350]\tvalid_0's auc: 0.903115\n",
      "[400]\tvalid_0's auc: 0.903094\n",
      "[450]\tvalid_0's auc: 0.903185\n"
     ]
    },
    {
     "name": "stderr",
     "output_type": "stream",
     "text": [
      "feature_fraction, val_score: 0.904811:  43%|###################2                         | 3/7 [00:03<00:04,  1.17s/it]"
     ]
    },
    {
     "name": "stdout",
     "output_type": "stream",
     "text": [
      "[500]\tvalid_0's auc: 0.903131\n",
      "Early stopping, best iteration is:\n",
      "[434]\tvalid_0's auc: 0.903226\n",
      "Training until validation scores don't improve for 100 rounds\n"
     ]
    },
    {
     "name": "stderr",
     "output_type": "stream",
     "text": [
      "C:\\Python39\\lib\\site-packages\\lightgbm\\engine.py:181: UserWarning: 'early_stopping_rounds' argument is deprecated and will be removed in a future release of LightGBM. Pass 'early_stopping()' callback via 'callbacks' argument instead.\n",
      "  _log_warning(\"'early_stopping_rounds' argument is deprecated and will be removed in a future release of LightGBM. \"\n",
      "C:\\Python39\\lib\\site-packages\\lightgbm\\engine.py:239: UserWarning: 'verbose_eval' argument is deprecated and will be removed in a future release of LightGBM. Pass 'log_evaluation()' callback via 'callbacks' argument instead.\n",
      "  _log_warning(\"'verbose_eval' argument is deprecated and will be removed in a future release of LightGBM. \"\n"
     ]
    },
    {
     "name": "stdout",
     "output_type": "stream",
     "text": [
      "[50]\tvalid_0's auc: 0.8937\n",
      "[100]\tvalid_0's auc: 0.898028\n",
      "[150]\tvalid_0's auc: 0.901441\n",
      "[200]\tvalid_0's auc: 0.903275\n",
      "[250]\tvalid_0's auc: 0.903584\n",
      "[300]\tvalid_0's auc: 0.903794\n",
      "[350]\tvalid_0's auc: 0.903872\n",
      "[400]\tvalid_0's auc: 0.903912\n",
      "[450]\tvalid_0's auc: 0.903888\n",
      "Early stopping, best iteration is:\n",
      "[368]\tvalid_0's auc: 0.903986\n"
     ]
    },
    {
     "name": "stderr",
     "output_type": "stream",
     "text": [
      "feature_fraction, val_score: 0.904811:  57%|#########################7                   | 4/7 [00:04<00:03,  1.11s/it]C:\\Python39\\lib\\site-packages\\lightgbm\\engine.py:181: UserWarning: 'early_stopping_rounds' argument is deprecated and will be removed in a future release of LightGBM. Pass 'early_stopping()' callback via 'callbacks' argument instead.\n",
      "  _log_warning(\"'early_stopping_rounds' argument is deprecated and will be removed in a future release of LightGBM. \"\n",
      "C:\\Python39\\lib\\site-packages\\lightgbm\\engine.py:239: UserWarning: 'verbose_eval' argument is deprecated and will be removed in a future release of LightGBM. Pass 'log_evaluation()' callback via 'callbacks' argument instead.\n",
      "  _log_warning(\"'verbose_eval' argument is deprecated and will be removed in a future release of LightGBM. \"\n"
     ]
    },
    {
     "name": "stdout",
     "output_type": "stream",
     "text": [
      "Training until validation scores don't improve for 100 rounds\n",
      "[50]\tvalid_0's auc: 0.898232\n",
      "[100]\tvalid_0's auc: 0.901139\n",
      "[150]\tvalid_0's auc: 0.903161\n",
      "[200]\tvalid_0's auc: 0.904371\n",
      "[250]\tvalid_0's auc: 0.905056\n",
      "[300]\tvalid_0's auc: 0.905421\n",
      "[350]\tvalid_0's auc: 0.905396\n",
      "[400]\tvalid_0's auc: 0.905427\n",
      "[450]\tvalid_0's auc: 0.905601\n",
      "[500]\tvalid_0's auc: 0.905658\n",
      "[550]\tvalid_0's auc: 0.905456\n",
      "Early stopping, best iteration is:\n",
      "[489]\tvalid_0's auc: 0.905694\n"
     ]
    },
    {
     "name": "stderr",
     "output_type": "stream",
     "text": [
      "feature_fraction, val_score: 0.905694:  71%|################################1            | 5/7 [00:06<00:03,  1.55s/it]C:\\Python39\\lib\\site-packages\\lightgbm\\engine.py:181: UserWarning: 'early_stopping_rounds' argument is deprecated and will be removed in a future release of LightGBM. Pass 'early_stopping()' callback via 'callbacks' argument instead.\n",
      "  _log_warning(\"'early_stopping_rounds' argument is deprecated and will be removed in a future release of LightGBM. \"\n",
      "C:\\Python39\\lib\\site-packages\\lightgbm\\engine.py:239: UserWarning: 'verbose_eval' argument is deprecated and will be removed in a future release of LightGBM. Pass 'log_evaluation()' callback via 'callbacks' argument instead.\n",
      "  _log_warning(\"'verbose_eval' argument is deprecated and will be removed in a future release of LightGBM. \"\n"
     ]
    },
    {
     "name": "stdout",
     "output_type": "stream",
     "text": [
      "Training until validation scores don't improve for 100 rounds\n",
      "[50]\tvalid_0's auc: 0.897926\n",
      "[100]\tvalid_0's auc: 0.900882\n",
      "[150]\tvalid_0's auc: 0.902782\n",
      "[200]\tvalid_0's auc: 0.904125\n",
      "[250]\tvalid_0's auc: 0.904678\n",
      "[300]\tvalid_0's auc: 0.905054\n",
      "[350]\tvalid_0's auc: 0.905324\n",
      "[400]\tvalid_0's auc: 0.905358\n"
     ]
    },
    {
     "name": "stderr",
     "output_type": "stream",
     "text": [
      "feature_fraction, val_score: 0.905694:  86%|######################################5      | 6/7 [00:08<00:01,  1.70s/it]"
     ]
    },
    {
     "name": "stdout",
     "output_type": "stream",
     "text": [
      "[450]\tvalid_0's auc: 0.905302\n",
      "Early stopping, best iteration is:\n",
      "[359]\tvalid_0's auc: 0.9054\n"
     ]
    },
    {
     "name": "stderr",
     "output_type": "stream",
     "text": [
      "C:\\Python39\\lib\\site-packages\\lightgbm\\engine.py:181: UserWarning: 'early_stopping_rounds' argument is deprecated and will be removed in a future release of LightGBM. Pass 'early_stopping()' callback via 'callbacks' argument instead.\n",
      "  _log_warning(\"'early_stopping_rounds' argument is deprecated and will be removed in a future release of LightGBM. \"\n",
      "C:\\Python39\\lib\\site-packages\\lightgbm\\engine.py:239: UserWarning: 'verbose_eval' argument is deprecated and will be removed in a future release of LightGBM. Pass 'log_evaluation()' callback via 'callbacks' argument instead.\n",
      "  _log_warning(\"'verbose_eval' argument is deprecated and will be removed in a future release of LightGBM. \"\n"
     ]
    },
    {
     "name": "stdout",
     "output_type": "stream",
     "text": [
      "Training until validation scores don't improve for 100 rounds\n",
      "[50]\tvalid_0's auc: 0.896219\n",
      "[100]\tvalid_0's auc: 0.899862\n",
      "[150]\tvalid_0's auc: 0.902059\n",
      "[200]\tvalid_0's auc: 0.903673\n",
      "[250]\tvalid_0's auc: 0.904419\n",
      "[300]\tvalid_0's auc: 0.904779\n",
      "[350]\tvalid_0's auc: 0.904731\n",
      "[400]\tvalid_0's auc: 0.904852\n"
     ]
    },
    {
     "name": "stderr",
     "output_type": "stream",
     "text": [
      "feature_fraction, val_score: 0.905694: 100%|#############################################| 7/7 [00:10<00:00,  1.47s/it]\n"
     ]
    },
    {
     "name": "stdout",
     "output_type": "stream",
     "text": [
      "[450]\tvalid_0's auc: 0.904708\n",
      "Early stopping, best iteration is:\n",
      "[399]\tvalid_0's auc: 0.904852\n"
     ]
    },
    {
     "name": "stderr",
     "output_type": "stream",
     "text": [
      "num_leaves, val_score: 0.905694:   0%|                                                          | 0/20 [00:00<?, ?it/s]C:\\Python39\\lib\\site-packages\\lightgbm\\engine.py:181: UserWarning: 'early_stopping_rounds' argument is deprecated and will be removed in a future release of LightGBM. Pass 'early_stopping()' callback via 'callbacks' argument instead.\n",
      "  _log_warning(\"'early_stopping_rounds' argument is deprecated and will be removed in a future release of LightGBM. \"\n",
      "C:\\Python39\\lib\\site-packages\\lightgbm\\engine.py:239: UserWarning: 'verbose_eval' argument is deprecated and will be removed in a future release of LightGBM. Pass 'log_evaluation()' callback via 'callbacks' argument instead.\n",
      "  _log_warning(\"'verbose_eval' argument is deprecated and will be removed in a future release of LightGBM. \"\n"
     ]
    },
    {
     "name": "stdout",
     "output_type": "stream",
     "text": [
      "Training until validation scores don't improve for 100 rounds\n",
      "[50]\tvalid_0's auc: 0.90228\n",
      "[100]\tvalid_0's auc: 0.903815\n",
      "[150]\tvalid_0's auc: 0.904457\n",
      "[200]\tvalid_0's auc: 0.904323\n",
      "[250]\tvalid_0's auc: 0.904018\n"
     ]
    },
    {
     "name": "stderr",
     "output_type": "stream",
     "text": [
      "num_leaves, val_score: 0.905694:   5%|##5                                               | 1/20 [00:01<00:28,  1.48s/it]"
     ]
    },
    {
     "name": "stdout",
     "output_type": "stream",
     "text": [
      "Early stopping, best iteration is:\n",
      "[173]\tvalid_0's auc: 0.904551\n"
     ]
    },
    {
     "name": "stderr",
     "output_type": "stream",
     "text": [
      "C:\\Python39\\lib\\site-packages\\lightgbm\\engine.py:181: UserWarning: 'early_stopping_rounds' argument is deprecated and will be removed in a future release of LightGBM. Pass 'early_stopping()' callback via 'callbacks' argument instead.\n",
      "  _log_warning(\"'early_stopping_rounds' argument is deprecated and will be removed in a future release of LightGBM. \"\n",
      "C:\\Python39\\lib\\site-packages\\lightgbm\\engine.py:239: UserWarning: 'verbose_eval' argument is deprecated and will be removed in a future release of LightGBM. Pass 'log_evaluation()' callback via 'callbacks' argument instead.\n",
      "  _log_warning(\"'verbose_eval' argument is deprecated and will be removed in a future release of LightGBM. \"\n"
     ]
    },
    {
     "name": "stdout",
     "output_type": "stream",
     "text": [
      "Training until validation scores don't improve for 100 rounds\n",
      "[50]\tvalid_0's auc: 0.883735\n",
      "[100]\tvalid_0's auc: 0.891323\n",
      "[150]\tvalid_0's auc: 0.894814\n",
      "[200]\tvalid_0's auc: 0.897515\n",
      "[250]\tvalid_0's auc: 0.899352\n",
      "[300]\tvalid_0's auc: 0.900979\n",
      "[350]\tvalid_0's auc: 0.901837\n",
      "[400]\tvalid_0's auc: 0.902357\n",
      "[450]\tvalid_0's auc: 0.903129\n",
      "[500]\tvalid_0's auc: 0.903454\n",
      "[550]\tvalid_0's auc: 0.903877\n",
      "[600]\tvalid_0's auc: 0.904188\n",
      "[650]\tvalid_0's auc: 0.904473\n",
      "[700]\tvalid_0's auc: 0.904664\n",
      "[750]\tvalid_0's auc: 0.904813\n",
      "[800]\tvalid_0's auc: 0.905026\n",
      "[850]\tvalid_0's auc: 0.905226\n",
      "[900]\tvalid_0's auc: 0.905513\n",
      "[950]\tvalid_0's auc: 0.905625\n",
      "[1000]\tvalid_0's auc: 0.905736\n",
      "[1050]\tvalid_0's auc: 0.905785\n",
      "[1100]\tvalid_0's auc: 0.905831\n",
      "[1150]\tvalid_0's auc: 0.905894\n",
      "[1200]\tvalid_0's auc: 0.905982\n",
      "[1250]\tvalid_0's auc: 0.906089\n",
      "[1300]\tvalid_0's auc: 0.906108\n",
      "[1350]\tvalid_0's auc: 0.906186\n",
      "[1400]\tvalid_0's auc: 0.906212\n",
      "[1450]\tvalid_0's auc: 0.906202\n",
      "[1500]\tvalid_0's auc: 0.906155\n",
      "Early stopping, best iteration is:\n",
      "[1436]\tvalid_0's auc: 0.906237\n"
     ]
    },
    {
     "name": "stderr",
     "output_type": "stream",
     "text": [
      "num_leaves, val_score: 0.906237:  10%|#####                                             | 2/20 [00:03<00:31,  1.73s/it]C:\\Python39\\lib\\site-packages\\lightgbm\\engine.py:181: UserWarning: 'early_stopping_rounds' argument is deprecated and will be removed in a future release of LightGBM. Pass 'early_stopping()' callback via 'callbacks' argument instead.\n",
      "  _log_warning(\"'early_stopping_rounds' argument is deprecated and will be removed in a future release of LightGBM. \"\n",
      "C:\\Python39\\lib\\site-packages\\lightgbm\\engine.py:239: UserWarning: 'verbose_eval' argument is deprecated and will be removed in a future release of LightGBM. Pass 'log_evaluation()' callback via 'callbacks' argument instead.\n",
      "  _log_warning(\"'verbose_eval' argument is deprecated and will be removed in a future release of LightGBM. \"\n"
     ]
    },
    {
     "name": "stdout",
     "output_type": "stream",
     "text": [
      "Training until validation scores don't improve for 100 rounds\n",
      "[50]\tvalid_0's auc: 0.902445\n",
      "[100]\tvalid_0's auc: 0.903796\n",
      "[150]\tvalid_0's auc: 0.904151\n",
      "[200]\tvalid_0's auc: 0.903881\n"
     ]
    },
    {
     "name": "stderr",
     "output_type": "stream",
     "text": [
      "num_leaves, val_score: 0.906237:  15%|#######5                                          | 3/20 [00:04<00:24,  1.43s/it]"
     ]
    },
    {
     "name": "stdout",
     "output_type": "stream",
     "text": [
      "Early stopping, best iteration is:\n",
      "[127]\tvalid_0's auc: 0.904347\n",
      "Training until validation scores don't improve for 100 rounds\n"
     ]
    },
    {
     "name": "stderr",
     "output_type": "stream",
     "text": [
      "C:\\Python39\\lib\\site-packages\\lightgbm\\engine.py:181: UserWarning: 'early_stopping_rounds' argument is deprecated and will be removed in a future release of LightGBM. Pass 'early_stopping()' callback via 'callbacks' argument instead.\n",
      "  _log_warning(\"'early_stopping_rounds' argument is deprecated and will be removed in a future release of LightGBM. \"\n",
      "C:\\Python39\\lib\\site-packages\\lightgbm\\engine.py:239: UserWarning: 'verbose_eval' argument is deprecated and will be removed in a future release of LightGBM. Pass 'log_evaluation()' callback via 'callbacks' argument instead.\n",
      "  _log_warning(\"'verbose_eval' argument is deprecated and will be removed in a future release of LightGBM. \"\n"
     ]
    },
    {
     "name": "stdout",
     "output_type": "stream",
     "text": [
      "[50]\tvalid_0's auc: 0.90228\n",
      "[100]\tvalid_0's auc: 0.903815\n",
      "[150]\tvalid_0's auc: 0.904457\n",
      "[200]\tvalid_0's auc: 0.904323\n"
     ]
    },
    {
     "name": "stderr",
     "output_type": "stream",
     "text": [
      "num_leaves, val_score: 0.906237:  20%|##########                                        | 4/20 [00:05<00:20,  1.30s/it]"
     ]
    },
    {
     "name": "stdout",
     "output_type": "stream",
     "text": [
      "[250]\tvalid_0's auc: 0.904018\n",
      "Early stopping, best iteration is:\n",
      "[173]\tvalid_0's auc: 0.904551\n"
     ]
    },
    {
     "name": "stderr",
     "output_type": "stream",
     "text": [
      "C:\\Python39\\lib\\site-packages\\lightgbm\\engine.py:181: UserWarning: 'early_stopping_rounds' argument is deprecated and will be removed in a future release of LightGBM. Pass 'early_stopping()' callback via 'callbacks' argument instead.\n",
      "  _log_warning(\"'early_stopping_rounds' argument is deprecated and will be removed in a future release of LightGBM. \"\n",
      "C:\\Python39\\lib\\site-packages\\lightgbm\\engine.py:239: UserWarning: 'verbose_eval' argument is deprecated and will be removed in a future release of LightGBM. Pass 'log_evaluation()' callback via 'callbacks' argument instead.\n",
      "  _log_warning(\"'verbose_eval' argument is deprecated and will be removed in a future release of LightGBM. \"\n"
     ]
    },
    {
     "name": "stdout",
     "output_type": "stream",
     "text": [
      "Training until validation scores don't improve for 100 rounds\n",
      "[50]\tvalid_0's auc: 0.902372\n",
      "[100]\tvalid_0's auc: 0.903867\n",
      "[150]\tvalid_0's auc: 0.904498\n",
      "[200]\tvalid_0's auc: 0.904365\n",
      "[250]\tvalid_0's auc: 0.90419\n"
     ]
    },
    {
     "name": "stderr",
     "output_type": "stream",
     "text": [
      "num_leaves, val_score: 0.906237:  25%|############5                                     | 5/20 [00:06<00:18,  1.20s/it]"
     ]
    },
    {
     "name": "stdout",
     "output_type": "stream",
     "text": [
      "Early stopping, best iteration is:\n",
      "[166]\tvalid_0's auc: 0.904571\n",
      "Training until validation scores don't improve for 100 rounds\n"
     ]
    },
    {
     "name": "stderr",
     "output_type": "stream",
     "text": [
      "C:\\Python39\\lib\\site-packages\\lightgbm\\engine.py:181: UserWarning: 'early_stopping_rounds' argument is deprecated and will be removed in a future release of LightGBM. Pass 'early_stopping()' callback via 'callbacks' argument instead.\n",
      "  _log_warning(\"'early_stopping_rounds' argument is deprecated and will be removed in a future release of LightGBM. \"\n",
      "C:\\Python39\\lib\\site-packages\\lightgbm\\engine.py:239: UserWarning: 'verbose_eval' argument is deprecated and will be removed in a future release of LightGBM. Pass 'log_evaluation()' callback via 'callbacks' argument instead.\n",
      "  _log_warning(\"'verbose_eval' argument is deprecated and will be removed in a future release of LightGBM. \"\n"
     ]
    },
    {
     "name": "stdout",
     "output_type": "stream",
     "text": [
      "[50]\tvalid_0's auc: 0.90218\n",
      "[100]\tvalid_0's auc: 0.903941\n",
      "[150]\tvalid_0's auc: 0.904744\n",
      "[200]\tvalid_0's auc: 0.904827\n",
      "[250]\tvalid_0's auc: 0.904734\n",
      "[300]\tvalid_0's auc: 0.904632\n",
      "Early stopping, best iteration is:\n",
      "[205]\tvalid_0's auc: 0.904862\n"
     ]
    },
    {
     "name": "stderr",
     "output_type": "stream",
     "text": [
      "num_leaves, val_score: 0.906237:  30%|###############                                   | 6/20 [00:07<00:16,  1.16s/it]C:\\Python39\\lib\\site-packages\\lightgbm\\engine.py:181: UserWarning: 'early_stopping_rounds' argument is deprecated and will be removed in a future release of LightGBM. Pass 'early_stopping()' callback via 'callbacks' argument instead.\n",
      "  _log_warning(\"'early_stopping_rounds' argument is deprecated and will be removed in a future release of LightGBM. \"\n",
      "C:\\Python39\\lib\\site-packages\\lightgbm\\engine.py:239: UserWarning: 'verbose_eval' argument is deprecated and will be removed in a future release of LightGBM. Pass 'log_evaluation()' callback via 'callbacks' argument instead.\n",
      "  _log_warning(\"'verbose_eval' argument is deprecated and will be removed in a future release of LightGBM. \"\n"
     ]
    },
    {
     "name": "stdout",
     "output_type": "stream",
     "text": [
      "Training until validation scores don't improve for 100 rounds\n",
      "[50]\tvalid_0's auc: 0.901008\n",
      "[100]\tvalid_0's auc: 0.903241\n",
      "[150]\tvalid_0's auc: 0.904579\n",
      "[200]\tvalid_0's auc: 0.905178\n",
      "[250]\tvalid_0's auc: 0.905347\n",
      "[300]\tvalid_0's auc: 0.905383\n",
      "[350]\tvalid_0's auc: 0.90513\n",
      "Early stopping, best iteration is:\n",
      "[266]\tvalid_0's auc: 0.905437\n"
     ]
    },
    {
     "name": "stderr",
     "output_type": "stream",
     "text": [
      "num_leaves, val_score: 0.906237:  35%|#################5                                | 7/20 [00:08<00:14,  1.09s/it]C:\\Python39\\lib\\site-packages\\lightgbm\\engine.py:181: UserWarning: 'early_stopping_rounds' argument is deprecated and will be removed in a future release of LightGBM. Pass 'early_stopping()' callback via 'callbacks' argument instead.\n",
      "  _log_warning(\"'early_stopping_rounds' argument is deprecated and will be removed in a future release of LightGBM. \"\n",
      "C:\\Python39\\lib\\site-packages\\lightgbm\\engine.py:239: UserWarning: 'verbose_eval' argument is deprecated and will be removed in a future release of LightGBM. Pass 'log_evaluation()' callback via 'callbacks' argument instead.\n",
      "  _log_warning(\"'verbose_eval' argument is deprecated and will be removed in a future release of LightGBM. \"\n"
     ]
    },
    {
     "name": "stdout",
     "output_type": "stream",
     "text": [
      "Training until validation scores don't improve for 100 rounds\n",
      "[50]\tvalid_0's auc: 0.902629\n",
      "[100]\tvalid_0's auc: 0.903981\n",
      "[150]\tvalid_0's auc: 0.904145\n",
      "[200]\tvalid_0's auc: 0.903778\n",
      "Early stopping, best iteration is:\n",
      "[127]\tvalid_0's auc: 0.904408\n"
     ]
    },
    {
     "name": "stderr",
     "output_type": "stream",
     "text": [
      "num_leaves, val_score: 0.906237:  40%|####################                              | 8/20 [00:09<00:13,  1.12s/it]C:\\Python39\\lib\\site-packages\\lightgbm\\engine.py:181: UserWarning: 'early_stopping_rounds' argument is deprecated and will be removed in a future release of LightGBM. Pass 'early_stopping()' callback via 'callbacks' argument instead.\n",
      "  _log_warning(\"'early_stopping_rounds' argument is deprecated and will be removed in a future release of LightGBM. \"\n",
      "C:\\Python39\\lib\\site-packages\\lightgbm\\engine.py:239: UserWarning: 'verbose_eval' argument is deprecated and will be removed in a future release of LightGBM. Pass 'log_evaluation()' callback via 'callbacks' argument instead.\n",
      "  _log_warning(\"'verbose_eval' argument is deprecated and will be removed in a future release of LightGBM. \"\n"
     ]
    },
    {
     "name": "stdout",
     "output_type": "stream",
     "text": [
      "Training until validation scores don't improve for 100 rounds\n",
      "[50]\tvalid_0's auc: 0.902019\n",
      "[100]\tvalid_0's auc: 0.90392\n",
      "[150]\tvalid_0's auc: 0.904767\n",
      "[200]\tvalid_0's auc: 0.90486\n",
      "[250]\tvalid_0's auc: 0.90481\n"
     ]
    },
    {
     "name": "stderr",
     "output_type": "stream",
     "text": [
      "num_leaves, val_score: 0.906237:  45%|######################5                           | 9/20 [00:10<00:12,  1.11s/it]"
     ]
    },
    {
     "name": "stdout",
     "output_type": "stream",
     "text": [
      "[300]\tvalid_0's auc: 0.904684\n",
      "Early stopping, best iteration is:\n",
      "[231]\tvalid_0's auc: 0.904981\n"
     ]
    },
    {
     "name": "stderr",
     "output_type": "stream",
     "text": [
      "C:\\Python39\\lib\\site-packages\\lightgbm\\engine.py:181: UserWarning: 'early_stopping_rounds' argument is deprecated and will be removed in a future release of LightGBM. Pass 'early_stopping()' callback via 'callbacks' argument instead.\n",
      "  _log_warning(\"'early_stopping_rounds' argument is deprecated and will be removed in a future release of LightGBM. \"\n",
      "C:\\Python39\\lib\\site-packages\\lightgbm\\engine.py:239: UserWarning: 'verbose_eval' argument is deprecated and will be removed in a future release of LightGBM. Pass 'log_evaluation()' callback via 'callbacks' argument instead.\n",
      "  _log_warning(\"'verbose_eval' argument is deprecated and will be removed in a future release of LightGBM. \"\n"
     ]
    },
    {
     "name": "stdout",
     "output_type": "stream",
     "text": [
      "Training until validation scores don't improve for 100 rounds\n",
      "[50]\tvalid_0's auc: 0.901781\n",
      "[100]\tvalid_0's auc: 0.903867\n",
      "[150]\tvalid_0's auc: 0.904739\n",
      "[200]\tvalid_0's auc: 0.905178\n",
      "[250]\tvalid_0's auc: 0.905062\n"
     ]
    },
    {
     "name": "stderr",
     "output_type": "stream",
     "text": [
      "num_leaves, val_score: 0.906237:  50%|########################5                        | 10/20 [00:12<00:11,  1.13s/it]"
     ]
    },
    {
     "name": "stdout",
     "output_type": "stream",
     "text": [
      "[300]\tvalid_0's auc: 0.90494\n",
      "Early stopping, best iteration is:\n",
      "[205]\tvalid_0's auc: 0.905227\n",
      "Training until validation scores don't improve for 100 rounds\n"
     ]
    },
    {
     "name": "stderr",
     "output_type": "stream",
     "text": [
      "C:\\Python39\\lib\\site-packages\\lightgbm\\engine.py:181: UserWarning: 'early_stopping_rounds' argument is deprecated and will be removed in a future release of LightGBM. Pass 'early_stopping()' callback via 'callbacks' argument instead.\n",
      "  _log_warning(\"'early_stopping_rounds' argument is deprecated and will be removed in a future release of LightGBM. \"\n",
      "C:\\Python39\\lib\\site-packages\\lightgbm\\engine.py:239: UserWarning: 'verbose_eval' argument is deprecated and will be removed in a future release of LightGBM. Pass 'log_evaluation()' callback via 'callbacks' argument instead.\n",
      "  _log_warning(\"'verbose_eval' argument is deprecated and will be removed in a future release of LightGBM. \"\n"
     ]
    },
    {
     "name": "stdout",
     "output_type": "stream",
     "text": [
      "[50]\tvalid_0's auc: 0.902354\n",
      "[100]\tvalid_0's auc: 0.903694\n",
      "[150]\tvalid_0's auc: 0.903608\n"
     ]
    },
    {
     "name": "stderr",
     "output_type": "stream",
     "text": [
      "num_leaves, val_score: 0.906237:  55%|##########################9                      | 11/20 [00:13<00:10,  1.19s/it]"
     ]
    },
    {
     "name": "stdout",
     "output_type": "stream",
     "text": [
      "[200]\tvalid_0's auc: 0.902863\n",
      "Early stopping, best iteration is:\n",
      "[117]\tvalid_0's auc: 0.903946\n"
     ]
    },
    {
     "name": "stderr",
     "output_type": "stream",
     "text": [
      "C:\\Python39\\lib\\site-packages\\lightgbm\\engine.py:181: UserWarning: 'early_stopping_rounds' argument is deprecated and will be removed in a future release of LightGBM. Pass 'early_stopping()' callback via 'callbacks' argument instead.\n",
      "  _log_warning(\"'early_stopping_rounds' argument is deprecated and will be removed in a future release of LightGBM. \"\n",
      "C:\\Python39\\lib\\site-packages\\lightgbm\\engine.py:239: UserWarning: 'verbose_eval' argument is deprecated and will be removed in a future release of LightGBM. Pass 'log_evaluation()' callback via 'callbacks' argument instead.\n",
      "  _log_warning(\"'verbose_eval' argument is deprecated and will be removed in a future release of LightGBM. \"\n"
     ]
    },
    {
     "name": "stdout",
     "output_type": "stream",
     "text": [
      "Training until validation scores don't improve for 100 rounds\n",
      "[50]\tvalid_0's auc: 0.872565\n",
      "[100]\tvalid_0's auc: 0.880405\n",
      "[150]\tvalid_0's auc: 0.885124\n",
      "[200]\tvalid_0's auc: 0.889373\n",
      "[250]\tvalid_0's auc: 0.892119\n",
      "[300]\tvalid_0's auc: 0.894565\n",
      "[350]\tvalid_0's auc: 0.895877\n",
      "[400]\tvalid_0's auc: 0.897267\n",
      "[450]\tvalid_0's auc: 0.898163\n",
      "[500]\tvalid_0's auc: 0.898838\n",
      "[550]\tvalid_0's auc: 0.899671\n",
      "[600]\tvalid_0's auc: 0.900221\n",
      "[650]\tvalid_0's auc: 0.900771\n",
      "[700]\tvalid_0's auc: 0.901246\n",
      "[750]\tvalid_0's auc: 0.901649\n",
      "[800]\tvalid_0's auc: 0.901861\n",
      "[850]\tvalid_0's auc: 0.902145\n",
      "[900]\tvalid_0's auc: 0.902359\n",
      "[950]\tvalid_0's auc: 0.902691\n",
      "[1000]\tvalid_0's auc: 0.902856\n",
      "[1050]\tvalid_0's auc: 0.903142\n",
      "[1100]\tvalid_0's auc: 0.903353\n",
      "[1150]\tvalid_0's auc: 0.903509\n",
      "[1200]\tvalid_0's auc: 0.903719\n",
      "[1250]\tvalid_0's auc: 0.903908\n",
      "[1300]\tvalid_0's auc: 0.904097\n",
      "[1350]\tvalid_0's auc: 0.90422\n",
      "[1400]\tvalid_0's auc: 0.904347\n",
      "[1450]\tvalid_0's auc: 0.904501\n",
      "[1500]\tvalid_0's auc: 0.904592\n",
      "[1550]\tvalid_0's auc: 0.904639\n",
      "[1600]\tvalid_0's auc: 0.904733\n",
      "[1650]\tvalid_0's auc: 0.904799\n",
      "[1700]\tvalid_0's auc: 0.904875\n",
      "[1750]\tvalid_0's auc: 0.904937\n",
      "[1800]\tvalid_0's auc: 0.904983\n",
      "[1850]\tvalid_0's auc: 0.905029\n",
      "[1900]\tvalid_0's auc: 0.905025\n",
      "[1950]\tvalid_0's auc: 0.905051\n",
      "[2000]\tvalid_0's auc: 0.9051\n",
      "[2050]\tvalid_0's auc: 0.90513\n",
      "[2100]\tvalid_0's auc: 0.905152\n",
      "[2150]\tvalid_0's auc: 0.905204\n",
      "[2200]\tvalid_0's auc: 0.905214\n",
      "[2250]\tvalid_0's auc: 0.905234\n",
      "[2300]\tvalid_0's auc: 0.905263\n",
      "[2350]\tvalid_0's auc: 0.90528\n",
      "[2400]\tvalid_0's auc: 0.905328\n",
      "[2450]\tvalid_0's auc: 0.905356\n",
      "[2500]\tvalid_0's auc: 0.905344\n",
      "[2550]\tvalid_0's auc: 0.905362\n",
      "[2600]\tvalid_0's auc: 0.905417\n",
      "[2650]\tvalid_0's auc: 0.905398\n",
      "[2700]\tvalid_0's auc: 0.905373\n",
      "Early stopping, best iteration is:\n",
      "[2606]\tvalid_0's auc: 0.905418\n"
     ]
    },
    {
     "name": "stderr",
     "output_type": "stream",
     "text": [
      "num_leaves, val_score: 0.906237:  60%|#############################4                   | 12/20 [00:16<00:13,  1.73s/it]C:\\Python39\\lib\\site-packages\\lightgbm\\engine.py:181: UserWarning: 'early_stopping_rounds' argument is deprecated and will be removed in a future release of LightGBM. Pass 'early_stopping()' callback via 'callbacks' argument instead.\n",
      "  _log_warning(\"'early_stopping_rounds' argument is deprecated and will be removed in a future release of LightGBM. \"\n",
      "C:\\Python39\\lib\\site-packages\\lightgbm\\engine.py:239: UserWarning: 'verbose_eval' argument is deprecated and will be removed in a future release of LightGBM. Pass 'log_evaluation()' callback via 'callbacks' argument instead.\n",
      "  _log_warning(\"'verbose_eval' argument is deprecated and will be removed in a future release of LightGBM. \"\n"
     ]
    },
    {
     "name": "stdout",
     "output_type": "stream",
     "text": [
      "Training until validation scores don't improve for 100 rounds\n",
      "[50]\tvalid_0's auc: 0.872565\n",
      "[100]\tvalid_0's auc: 0.880405\n",
      "[150]\tvalid_0's auc: 0.885124\n",
      "[200]\tvalid_0's auc: 0.889373\n",
      "[250]\tvalid_0's auc: 0.892119\n",
      "[300]\tvalid_0's auc: 0.894565\n",
      "[350]\tvalid_0's auc: 0.895877\n",
      "[400]\tvalid_0's auc: 0.897267\n",
      "[450]\tvalid_0's auc: 0.898163\n",
      "[500]\tvalid_0's auc: 0.898838\n",
      "[550]\tvalid_0's auc: 0.899671\n",
      "[600]\tvalid_0's auc: 0.900221\n",
      "[650]\tvalid_0's auc: 0.900771\n",
      "[700]\tvalid_0's auc: 0.901246\n",
      "[750]\tvalid_0's auc: 0.901649\n",
      "[800]\tvalid_0's auc: 0.901861\n",
      "[850]\tvalid_0's auc: 0.902145\n",
      "[900]\tvalid_0's auc: 0.902359\n",
      "[950]\tvalid_0's auc: 0.902691\n",
      "[1000]\tvalid_0's auc: 0.902856\n",
      "[1050]\tvalid_0's auc: 0.903142\n",
      "[1100]\tvalid_0's auc: 0.903353\n",
      "[1150]\tvalid_0's auc: 0.903509\n",
      "[1200]\tvalid_0's auc: 0.903719\n",
      "[1250]\tvalid_0's auc: 0.903908\n",
      "[1300]\tvalid_0's auc: 0.904097\n",
      "[1350]\tvalid_0's auc: 0.90422\n",
      "[1400]\tvalid_0's auc: 0.904347\n",
      "[1450]\tvalid_0's auc: 0.904501\n",
      "[1500]\tvalid_0's auc: 0.904592\n",
      "[1550]\tvalid_0's auc: 0.904639\n",
      "[1600]\tvalid_0's auc: 0.904733\n",
      "[1650]\tvalid_0's auc: 0.904799\n",
      "[1700]\tvalid_0's auc: 0.904875\n",
      "[1750]\tvalid_0's auc: 0.904937\n",
      "[1800]\tvalid_0's auc: 0.904983\n",
      "[1850]\tvalid_0's auc: 0.905029\n",
      "[1900]\tvalid_0's auc: 0.905025\n",
      "[1950]\tvalid_0's auc: 0.905051\n",
      "[2000]\tvalid_0's auc: 0.9051\n",
      "[2050]\tvalid_0's auc: 0.90513\n",
      "[2100]\tvalid_0's auc: 0.905152\n",
      "[2150]\tvalid_0's auc: 0.905204\n",
      "[2200]\tvalid_0's auc: 0.905214\n",
      "[2250]\tvalid_0's auc: 0.905234\n",
      "[2300]\tvalid_0's auc: 0.905263\n",
      "[2350]\tvalid_0's auc: 0.90528\n",
      "[2400]\tvalid_0's auc: 0.905328\n",
      "[2450]\tvalid_0's auc: 0.905356\n",
      "[2500]\tvalid_0's auc: 0.905344\n",
      "[2550]\tvalid_0's auc: 0.905362\n",
      "[2600]\tvalid_0's auc: 0.905417\n",
      "[2650]\tvalid_0's auc: 0.905398\n",
      "[2700]\tvalid_0's auc: 0.905373\n",
      "Early stopping, best iteration is:\n",
      "[2606]\tvalid_0's auc: 0.905418\n"
     ]
    },
    {
     "name": "stderr",
     "output_type": "stream",
     "text": [
      "num_leaves, val_score: 0.906237:  65%|###############################8                 | 13/20 [00:18<00:13,  1.98s/it]C:\\Python39\\lib\\site-packages\\lightgbm\\engine.py:181: UserWarning: 'early_stopping_rounds' argument is deprecated and will be removed in a future release of LightGBM. Pass 'early_stopping()' callback via 'callbacks' argument instead.\n",
      "  _log_warning(\"'early_stopping_rounds' argument is deprecated and will be removed in a future release of LightGBM. \"\n",
      "C:\\Python39\\lib\\site-packages\\lightgbm\\engine.py:239: UserWarning: 'verbose_eval' argument is deprecated and will be removed in a future release of LightGBM. Pass 'log_evaluation()' callback via 'callbacks' argument instead.\n",
      "  _log_warning(\"'verbose_eval' argument is deprecated and will be removed in a future release of LightGBM. \"\n"
     ]
    },
    {
     "name": "stdout",
     "output_type": "stream",
     "text": [
      "Training until validation scores don't improve for 100 rounds\n",
      "[50]\tvalid_0's auc: 0.899858\n",
      "[100]\tvalid_0's auc: 0.902474\n",
      "[150]\tvalid_0's auc: 0.903989\n",
      "[200]\tvalid_0's auc: 0.904866\n",
      "[250]\tvalid_0's auc: 0.905249\n",
      "[300]\tvalid_0's auc: 0.905406\n"
     ]
    },
    {
     "name": "stderr",
     "output_type": "stream",
     "text": [
      "num_leaves, val_score: 0.906237:  70%|##################################3              | 14/20 [00:20<00:10,  1.75s/it]"
     ]
    },
    {
     "name": "stdout",
     "output_type": "stream",
     "text": [
      "[350]\tvalid_0's auc: 0.905279\n",
      "Early stopping, best iteration is:\n",
      "[299]\tvalid_0's auc: 0.905408\n"
     ]
    },
    {
     "name": "stderr",
     "output_type": "stream",
     "text": [
      "C:\\Python39\\lib\\site-packages\\lightgbm\\engine.py:181: UserWarning: 'early_stopping_rounds' argument is deprecated and will be removed in a future release of LightGBM. Pass 'early_stopping()' callback via 'callbacks' argument instead.\n",
      "  _log_warning(\"'early_stopping_rounds' argument is deprecated and will be removed in a future release of LightGBM. \"\n",
      "C:\\Python39\\lib\\site-packages\\lightgbm\\engine.py:239: UserWarning: 'verbose_eval' argument is deprecated and will be removed in a future release of LightGBM. Pass 'log_evaluation()' callback via 'callbacks' argument instead.\n",
      "  _log_warning(\"'verbose_eval' argument is deprecated and will be removed in a future release of LightGBM. \"\n"
     ]
    },
    {
     "name": "stdout",
     "output_type": "stream",
     "text": [
      "Training until validation scores don't improve for 100 rounds\n",
      "[50]\tvalid_0's auc: 0.899666\n",
      "[100]\tvalid_0's auc: 0.902251\n",
      "[150]\tvalid_0's auc: 0.90394\n",
      "[200]\tvalid_0's auc: 0.904975\n",
      "[250]\tvalid_0's auc: 0.905384\n",
      "[300]\tvalid_0's auc: 0.905553\n",
      "[350]\tvalid_0's auc: 0.905479\n",
      "[400]\tvalid_0's auc: 0.905291\n",
      "Early stopping, best iteration is:\n",
      "[300]\tvalid_0's auc: 0.905553\n"
     ]
    },
    {
     "name": "stderr",
     "output_type": "stream",
     "text": [
      "num_leaves, val_score: 0.906237:  75%|####################################7            | 15/20 [00:21<00:07,  1.50s/it]C:\\Python39\\lib\\site-packages\\lightgbm\\engine.py:181: UserWarning: 'early_stopping_rounds' argument is deprecated and will be removed in a future release of LightGBM. Pass 'early_stopping()' callback via 'callbacks' argument instead.\n",
      "  _log_warning(\"'early_stopping_rounds' argument is deprecated and will be removed in a future release of LightGBM. \"\n",
      "C:\\Python39\\lib\\site-packages\\lightgbm\\engine.py:239: UserWarning: 'verbose_eval' argument is deprecated and will be removed in a future release of LightGBM. Pass 'log_evaluation()' callback via 'callbacks' argument instead.\n",
      "  _log_warning(\"'verbose_eval' argument is deprecated and will be removed in a future release of LightGBM. \"\n"
     ]
    },
    {
     "name": "stdout",
     "output_type": "stream",
     "text": [
      "Training until validation scores don't improve for 100 rounds\n",
      "[50]\tvalid_0's auc: 0.897602\n",
      "[100]\tvalid_0's auc: 0.90076\n",
      "[150]\tvalid_0's auc: 0.902991\n",
      "[200]\tvalid_0's auc: 0.904449\n",
      "[250]\tvalid_0's auc: 0.905045\n",
      "[300]\tvalid_0's auc: 0.905581\n",
      "[350]\tvalid_0's auc: 0.9057\n",
      "[400]\tvalid_0's auc: 0.905659\n",
      "[450]\tvalid_0's auc: 0.905827\n",
      "[500]\tvalid_0's auc: 0.905845\n",
      "[550]\tvalid_0's auc: 0.905981\n",
      "[600]\tvalid_0's auc: 0.905861\n",
      "[650]\tvalid_0's auc: 0.905603\n",
      "Early stopping, best iteration is:\n",
      "[562]\tvalid_0's auc: 0.90601\n"
     ]
    },
    {
     "name": "stderr",
     "output_type": "stream",
     "text": [
      "num_leaves, val_score: 0.906237:  80%|#######################################2         | 16/20 [00:22<00:05,  1.45s/it]C:\\Python39\\lib\\site-packages\\lightgbm\\engine.py:181: UserWarning: 'early_stopping_rounds' argument is deprecated and will be removed in a future release of LightGBM. Pass 'early_stopping()' callback via 'callbacks' argument instead.\n",
      "  _log_warning(\"'early_stopping_rounds' argument is deprecated and will be removed in a future release of LightGBM. \"\n",
      "C:\\Python39\\lib\\site-packages\\lightgbm\\engine.py:239: UserWarning: 'verbose_eval' argument is deprecated and will be removed in a future release of LightGBM. Pass 'log_evaluation()' callback via 'callbacks' argument instead.\n",
      "  _log_warning(\"'verbose_eval' argument is deprecated and will be removed in a future release of LightGBM. \"\n"
     ]
    },
    {
     "name": "stdout",
     "output_type": "stream",
     "text": [
      "Training until validation scores don't improve for 100 rounds\n",
      "[50]\tvalid_0's auc: 0.902441\n",
      "[100]\tvalid_0's auc: 0.903802\n",
      "[150]\tvalid_0's auc: 0.903743\n",
      "[200]\tvalid_0's auc: 0.903125\n",
      "Early stopping, best iteration is:\n",
      "[127]\tvalid_0's auc: 0.904078\n"
     ]
    },
    {
     "name": "stderr",
     "output_type": "stream",
     "text": [
      "num_leaves, val_score: 0.906237:  85%|#########################################6       | 17/20 [00:23<00:04,  1.41s/it]C:\\Python39\\lib\\site-packages\\lightgbm\\engine.py:181: UserWarning: 'early_stopping_rounds' argument is deprecated and will be removed in a future release of LightGBM. Pass 'early_stopping()' callback via 'callbacks' argument instead.\n",
      "  _log_warning(\"'early_stopping_rounds' argument is deprecated and will be removed in a future release of LightGBM. \"\n",
      "C:\\Python39\\lib\\site-packages\\lightgbm\\engine.py:239: UserWarning: 'verbose_eval' argument is deprecated and will be removed in a future release of LightGBM. Pass 'log_evaluation()' callback via 'callbacks' argument instead.\n",
      "  _log_warning(\"'verbose_eval' argument is deprecated and will be removed in a future release of LightGBM. \"\n"
     ]
    },
    {
     "name": "stdout",
     "output_type": "stream",
     "text": [
      "Training until validation scores don't improve for 100 rounds\n",
      "[50]\tvalid_0's auc: 0.896714\n",
      "[100]\tvalid_0's auc: 0.900304\n",
      "[150]\tvalid_0's auc: 0.902321\n",
      "[200]\tvalid_0's auc: 0.903772\n",
      "[250]\tvalid_0's auc: 0.904635\n",
      "[300]\tvalid_0's auc: 0.905299\n",
      "[350]\tvalid_0's auc: 0.905612\n",
      "[400]\tvalid_0's auc: 0.905794\n",
      "[450]\tvalid_0's auc: 0.906082\n",
      "[500]\tvalid_0's auc: 0.906066\n",
      "[550]\tvalid_0's auc: 0.906086\n",
      "Early stopping, best iteration is:\n",
      "[487]\tvalid_0's auc: 0.906138\n"
     ]
    },
    {
     "name": "stderr",
     "output_type": "stream",
     "text": [
      "num_leaves, val_score: 0.906237:  90%|############################################1    | 18/20 [00:24<00:02,  1.29s/it]C:\\Python39\\lib\\site-packages\\lightgbm\\engine.py:181: UserWarning: 'early_stopping_rounds' argument is deprecated and will be removed in a future release of LightGBM. Pass 'early_stopping()' callback via 'callbacks' argument instead.\n",
      "  _log_warning(\"'early_stopping_rounds' argument is deprecated and will be removed in a future release of LightGBM. \"\n",
      "C:\\Python39\\lib\\site-packages\\lightgbm\\engine.py:239: UserWarning: 'verbose_eval' argument is deprecated and will be removed in a future release of LightGBM. Pass 'log_evaluation()' callback via 'callbacks' argument instead.\n",
      "  _log_warning(\"'verbose_eval' argument is deprecated and will be removed in a future release of LightGBM. \"\n"
     ]
    },
    {
     "name": "stdout",
     "output_type": "stream",
     "text": [
      "Training until validation scores don't improve for 100 rounds\n",
      "[50]\tvalid_0's auc: 0.90252\n",
      "[100]\tvalid_0's auc: 0.903908\n",
      "[150]\tvalid_0's auc: 0.904034\n",
      "[200]\tvalid_0's auc: 0.903468\n",
      "Early stopping, best iteration is:\n",
      "[127]\tvalid_0's auc: 0.904284\n"
     ]
    },
    {
     "name": "stderr",
     "output_type": "stream",
     "text": [
      "num_leaves, val_score: 0.906237:  95%|##############################################5  | 19/20 [00:25<00:01,  1.27s/it]C:\\Python39\\lib\\site-packages\\lightgbm\\engine.py:181: UserWarning: 'early_stopping_rounds' argument is deprecated and will be removed in a future release of LightGBM. Pass 'early_stopping()' callback via 'callbacks' argument instead.\n",
      "  _log_warning(\"'early_stopping_rounds' argument is deprecated and will be removed in a future release of LightGBM. \"\n",
      "C:\\Python39\\lib\\site-packages\\lightgbm\\engine.py:239: UserWarning: 'verbose_eval' argument is deprecated and will be removed in a future release of LightGBM. Pass 'log_evaluation()' callback via 'callbacks' argument instead.\n",
      "  _log_warning(\"'verbose_eval' argument is deprecated and will be removed in a future release of LightGBM. \"\n"
     ]
    },
    {
     "name": "stdout",
     "output_type": "stream",
     "text": [
      "Training until validation scores don't improve for 100 rounds\n",
      "[50]\tvalid_0's auc: 0.902328\n",
      "[100]\tvalid_0's auc: 0.903643\n",
      "[150]\tvalid_0's auc: 0.903562\n",
      "[200]\tvalid_0's auc: 0.902705\n",
      "Early stopping, best iteration is:\n",
      "[117]\tvalid_0's auc: 0.903889\n"
     ]
    },
    {
     "name": "stderr",
     "output_type": "stream",
     "text": [
      "num_leaves, val_score: 0.906237: 100%|#################################################| 20/20 [00:27<00:00,  1.37s/it]\n",
      "bagging, val_score: 0.906237:   0%|                                                             | 0/10 [00:00<?, ?it/s]C:\\Python39\\lib\\site-packages\\lightgbm\\engine.py:181: UserWarning: 'early_stopping_rounds' argument is deprecated and will be removed in a future release of LightGBM. Pass 'early_stopping()' callback via 'callbacks' argument instead.\n",
      "  _log_warning(\"'early_stopping_rounds' argument is deprecated and will be removed in a future release of LightGBM. \"\n",
      "C:\\Python39\\lib\\site-packages\\lightgbm\\engine.py:239: UserWarning: 'verbose_eval' argument is deprecated and will be removed in a future release of LightGBM. Pass 'log_evaluation()' callback via 'callbacks' argument instead.\n",
      "  _log_warning(\"'verbose_eval' argument is deprecated and will be removed in a future release of LightGBM. \"\n"
     ]
    },
    {
     "name": "stdout",
     "output_type": "stream",
     "text": [
      "Training until validation scores don't improve for 100 rounds\n",
      "[50]\tvalid_0's auc: 0.884751\n",
      "[100]\tvalid_0's auc: 0.891581\n",
      "[150]\tvalid_0's auc: 0.895701\n",
      "[200]\tvalid_0's auc: 0.898308\n",
      "[250]\tvalid_0's auc: 0.899711\n",
      "[300]\tvalid_0's auc: 0.901467\n",
      "[350]\tvalid_0's auc: 0.902368\n",
      "[400]\tvalid_0's auc: 0.902931\n",
      "[450]\tvalid_0's auc: 0.903695\n",
      "[500]\tvalid_0's auc: 0.904106\n",
      "[550]\tvalid_0's auc: 0.904568\n",
      "[600]\tvalid_0's auc: 0.904775\n",
      "[650]\tvalid_0's auc: 0.90509\n",
      "[700]\tvalid_0's auc: 0.905342\n",
      "[750]\tvalid_0's auc: 0.905489\n",
      "[800]\tvalid_0's auc: 0.905718\n",
      "[850]\tvalid_0's auc: 0.905958\n",
      "[900]\tvalid_0's auc: 0.905955\n",
      "[950]\tvalid_0's auc: 0.906082\n",
      "[1000]\tvalid_0's auc: 0.906115\n",
      "[1050]\tvalid_0's auc: 0.906087\n",
      "[1100]\tvalid_0's auc: 0.906183\n",
      "[1150]\tvalid_0's auc: 0.906215\n",
      "[1200]\tvalid_0's auc: 0.906241\n",
      "[1250]\tvalid_0's auc: 0.906301\n",
      "[1300]\tvalid_0's auc: 0.906296\n",
      "Early stopping, best iteration is:\n",
      "[1214]\tvalid_0's auc: 0.906334\n"
     ]
    },
    {
     "name": "stderr",
     "output_type": "stream",
     "text": [
      "bagging, val_score: 0.906334:  10%|#####3                                               | 1/10 [00:01<00:16,  1.83s/it]C:\\Python39\\lib\\site-packages\\lightgbm\\engine.py:181: UserWarning: 'early_stopping_rounds' argument is deprecated and will be removed in a future release of LightGBM. Pass 'early_stopping()' callback via 'callbacks' argument instead.\n",
      "  _log_warning(\"'early_stopping_rounds' argument is deprecated and will be removed in a future release of LightGBM. \"\n",
      "C:\\Python39\\lib\\site-packages\\lightgbm\\engine.py:239: UserWarning: 'verbose_eval' argument is deprecated and will be removed in a future release of LightGBM. Pass 'log_evaluation()' callback via 'callbacks' argument instead.\n",
      "  _log_warning(\"'verbose_eval' argument is deprecated and will be removed in a future release of LightGBM. \"\n"
     ]
    },
    {
     "name": "stdout",
     "output_type": "stream",
     "text": [
      "Training until validation scores don't improve for 100 rounds\n",
      "[50]\tvalid_0's auc: 0.884562\n",
      "[100]\tvalid_0's auc: 0.8916\n",
      "[150]\tvalid_0's auc: 0.895577\n",
      "[200]\tvalid_0's auc: 0.898307\n",
      "[250]\tvalid_0's auc: 0.900053\n",
      "[300]\tvalid_0's auc: 0.901376\n",
      "[350]\tvalid_0's auc: 0.902344\n",
      "[400]\tvalid_0's auc: 0.903087\n",
      "[450]\tvalid_0's auc: 0.90379\n",
      "[500]\tvalid_0's auc: 0.90415\n",
      "[550]\tvalid_0's auc: 0.904504\n",
      "[600]\tvalid_0's auc: 0.904791\n",
      "[650]\tvalid_0's auc: 0.90494\n",
      "[700]\tvalid_0's auc: 0.905216\n",
      "[750]\tvalid_0's auc: 0.905527\n",
      "[800]\tvalid_0's auc: 0.905698\n",
      "[850]\tvalid_0's auc: 0.905836\n",
      "[900]\tvalid_0's auc: 0.905954\n",
      "[950]\tvalid_0's auc: 0.906115\n",
      "[1000]\tvalid_0's auc: 0.906275\n",
      "[1050]\tvalid_0's auc: 0.906248\n",
      "[1100]\tvalid_0's auc: 0.906458\n",
      "[1150]\tvalid_0's auc: 0.906471\n",
      "[1200]\tvalid_0's auc: 0.906423\n",
      "[1250]\tvalid_0's auc: 0.906523\n",
      "[1300]\tvalid_0's auc: 0.906422\n"
     ]
    },
    {
     "name": "stderr",
     "output_type": "stream",
     "text": [
      "bagging, val_score: 0.906530:  20%|##########6                                          | 2/10 [00:03<00:15,  1.99s/it]"
     ]
    },
    {
     "name": "stdout",
     "output_type": "stream",
     "text": [
      "Early stopping, best iteration is:\n",
      "[1239]\tvalid_0's auc: 0.90653\n",
      "Training until validation scores don't improve for 100 rounds\n"
     ]
    },
    {
     "name": "stderr",
     "output_type": "stream",
     "text": [
      "C:\\Python39\\lib\\site-packages\\lightgbm\\engine.py:181: UserWarning: 'early_stopping_rounds' argument is deprecated and will be removed in a future release of LightGBM. Pass 'early_stopping()' callback via 'callbacks' argument instead.\n",
      "  _log_warning(\"'early_stopping_rounds' argument is deprecated and will be removed in a future release of LightGBM. \"\n",
      "C:\\Python39\\lib\\site-packages\\lightgbm\\engine.py:239: UserWarning: 'verbose_eval' argument is deprecated and will be removed in a future release of LightGBM. Pass 'log_evaluation()' callback via 'callbacks' argument instead.\n",
      "  _log_warning(\"'verbose_eval' argument is deprecated and will be removed in a future release of LightGBM. \"\n"
     ]
    },
    {
     "name": "stdout",
     "output_type": "stream",
     "text": [
      "[50]\tvalid_0's auc: 0.884313\n",
      "[100]\tvalid_0's auc: 0.892709\n",
      "[150]\tvalid_0's auc: 0.896175\n",
      "[200]\tvalid_0's auc: 0.898666\n",
      "[250]\tvalid_0's auc: 0.900214\n",
      "[300]\tvalid_0's auc: 0.9018\n",
      "[350]\tvalid_0's auc: 0.902556\n",
      "[400]\tvalid_0's auc: 0.903001\n",
      "[450]\tvalid_0's auc: 0.903568\n",
      "[500]\tvalid_0's auc: 0.90405\n",
      "[550]\tvalid_0's auc: 0.904358\n",
      "[600]\tvalid_0's auc: 0.90465\n",
      "[650]\tvalid_0's auc: 0.904966\n",
      "[700]\tvalid_0's auc: 0.90517\n",
      "[750]\tvalid_0's auc: 0.905454\n",
      "[800]\tvalid_0's auc: 0.905559\n",
      "[850]\tvalid_0's auc: 0.90584\n",
      "[900]\tvalid_0's auc: 0.90604\n",
      "[950]\tvalid_0's auc: 0.906133\n",
      "[1000]\tvalid_0's auc: 0.906316\n",
      "[1050]\tvalid_0's auc: 0.906351\n",
      "[1100]\tvalid_0's auc: 0.906324\n",
      "[1150]\tvalid_0's auc: 0.906427\n",
      "[1200]\tvalid_0's auc: 0.906439\n",
      "[1250]\tvalid_0's auc: 0.90649\n",
      "[1300]\tvalid_0's auc: 0.906526\n",
      "[1350]\tvalid_0's auc: 0.906417\n"
     ]
    },
    {
     "name": "stderr",
     "output_type": "stream",
     "text": [
      "bagging, val_score: 0.906537:  30%|###############9                                     | 3/10 [00:06<00:14,  2.05s/it]"
     ]
    },
    {
     "name": "stdout",
     "output_type": "stream",
     "text": [
      "Early stopping, best iteration is:\n",
      "[1296]\tvalid_0's auc: 0.906537\n",
      "Training until validation scores don't improve for 100 rounds\n"
     ]
    },
    {
     "name": "stderr",
     "output_type": "stream",
     "text": [
      "C:\\Python39\\lib\\site-packages\\lightgbm\\engine.py:181: UserWarning: 'early_stopping_rounds' argument is deprecated and will be removed in a future release of LightGBM. Pass 'early_stopping()' callback via 'callbacks' argument instead.\n",
      "  _log_warning(\"'early_stopping_rounds' argument is deprecated and will be removed in a future release of LightGBM. \"\n",
      "C:\\Python39\\lib\\site-packages\\lightgbm\\engine.py:239: UserWarning: 'verbose_eval' argument is deprecated and will be removed in a future release of LightGBM. Pass 'log_evaluation()' callback via 'callbacks' argument instead.\n",
      "  _log_warning(\"'verbose_eval' argument is deprecated and will be removed in a future release of LightGBM. \"\n"
     ]
    },
    {
     "name": "stdout",
     "output_type": "stream",
     "text": [
      "[50]\tvalid_0's auc: 0.885318\n",
      "[100]\tvalid_0's auc: 0.892503\n",
      "[150]\tvalid_0's auc: 0.896667\n",
      "[200]\tvalid_0's auc: 0.898987\n",
      "[250]\tvalid_0's auc: 0.90045\n",
      "[300]\tvalid_0's auc: 0.901768\n",
      "[350]\tvalid_0's auc: 0.902634\n",
      "[400]\tvalid_0's auc: 0.903161\n",
      "[450]\tvalid_0's auc: 0.903712\n",
      "[500]\tvalid_0's auc: 0.904085\n",
      "[550]\tvalid_0's auc: 0.904367\n",
      "[600]\tvalid_0's auc: 0.904581\n",
      "[650]\tvalid_0's auc: 0.905021\n",
      "[700]\tvalid_0's auc: 0.905325\n",
      "[750]\tvalid_0's auc: 0.905528\n",
      "[800]\tvalid_0's auc: 0.905583\n",
      "[850]\tvalid_0's auc: 0.905713\n",
      "[900]\tvalid_0's auc: 0.905831\n",
      "[950]\tvalid_0's auc: 0.905895\n",
      "[1000]\tvalid_0's auc: 0.905932\n",
      "[1050]\tvalid_0's auc: 0.905997\n",
      "[1100]\tvalid_0's auc: 0.906075\n",
      "[1150]\tvalid_0's auc: 0.906053\n",
      "[1200]\tvalid_0's auc: 0.905977\n",
      "Early stopping, best iteration is:\n",
      "[1128]\tvalid_0's auc: 0.906149\n"
     ]
    },
    {
     "name": "stderr",
     "output_type": "stream",
     "text": [
      "bagging, val_score: 0.906537:  40%|#####################2                               | 4/10 [00:08<00:12,  2.01s/it]C:\\Python39\\lib\\site-packages\\lightgbm\\engine.py:181: UserWarning: 'early_stopping_rounds' argument is deprecated and will be removed in a future release of LightGBM. Pass 'early_stopping()' callback via 'callbacks' argument instead.\n",
      "  _log_warning(\"'early_stopping_rounds' argument is deprecated and will be removed in a future release of LightGBM. \"\n",
      "C:\\Python39\\lib\\site-packages\\lightgbm\\engine.py:239: UserWarning: 'verbose_eval' argument is deprecated and will be removed in a future release of LightGBM. Pass 'log_evaluation()' callback via 'callbacks' argument instead.\n",
      "  _log_warning(\"'verbose_eval' argument is deprecated and will be removed in a future release of LightGBM. \"\n"
     ]
    },
    {
     "name": "stdout",
     "output_type": "stream",
     "text": [
      "Training until validation scores don't improve for 100 rounds\n",
      "[50]\tvalid_0's auc: 0.885086\n",
      "[100]\tvalid_0's auc: 0.893141\n",
      "[150]\tvalid_0's auc: 0.89628\n",
      "[200]\tvalid_0's auc: 0.898965\n",
      "[250]\tvalid_0's auc: 0.900419\n",
      "[300]\tvalid_0's auc: 0.901874\n",
      "[350]\tvalid_0's auc: 0.902775\n",
      "[400]\tvalid_0's auc: 0.903309\n",
      "[450]\tvalid_0's auc: 0.903905\n",
      "[500]\tvalid_0's auc: 0.904359\n",
      "[550]\tvalid_0's auc: 0.904723\n",
      "[600]\tvalid_0's auc: 0.905046\n",
      "[650]\tvalid_0's auc: 0.905251\n",
      "[700]\tvalid_0's auc: 0.905679\n",
      "[750]\tvalid_0's auc: 0.905757\n",
      "[800]\tvalid_0's auc: 0.905862\n",
      "[850]\tvalid_0's auc: 0.90606\n",
      "[900]\tvalid_0's auc: 0.906186\n",
      "[950]\tvalid_0's auc: 0.906483\n",
      "[1000]\tvalid_0's auc: 0.906555\n",
      "[1050]\tvalid_0's auc: 0.906585\n",
      "[1100]\tvalid_0's auc: 0.906754\n",
      "[1150]\tvalid_0's auc: 0.906615\n"
     ]
    },
    {
     "name": "stderr",
     "output_type": "stream",
     "text": [
      "bagging, val_score: 0.906804:  50%|##########################5                          | 5/10 [00:10<00:11,  2.29s/it]"
     ]
    },
    {
     "name": "stdout",
     "output_type": "stream",
     "text": [
      "Early stopping, best iteration is:\n",
      "[1093]\tvalid_0's auc: 0.906804\n",
      "Training until validation scores don't improve for 100 rounds\n"
     ]
    },
    {
     "name": "stderr",
     "output_type": "stream",
     "text": [
      "C:\\Python39\\lib\\site-packages\\lightgbm\\engine.py:181: UserWarning: 'early_stopping_rounds' argument is deprecated and will be removed in a future release of LightGBM. Pass 'early_stopping()' callback via 'callbacks' argument instead.\n",
      "  _log_warning(\"'early_stopping_rounds' argument is deprecated and will be removed in a future release of LightGBM. \"\n",
      "C:\\Python39\\lib\\site-packages\\lightgbm\\engine.py:239: UserWarning: 'verbose_eval' argument is deprecated and will be removed in a future release of LightGBM. Pass 'log_evaluation()' callback via 'callbacks' argument instead.\n",
      "  _log_warning(\"'verbose_eval' argument is deprecated and will be removed in a future release of LightGBM. \"\n"
     ]
    },
    {
     "name": "stdout",
     "output_type": "stream",
     "text": [
      "[50]\tvalid_0's auc: 0.884263\n",
      "[100]\tvalid_0's auc: 0.891529\n",
      "[150]\tvalid_0's auc: 0.895428\n",
      "[200]\tvalid_0's auc: 0.897936\n",
      "[250]\tvalid_0's auc: 0.899608\n",
      "[300]\tvalid_0's auc: 0.901061\n",
      "[350]\tvalid_0's auc: 0.90204\n",
      "[400]\tvalid_0's auc: 0.902801\n",
      "[450]\tvalid_0's auc: 0.903516\n",
      "[500]\tvalid_0's auc: 0.903907\n",
      "[550]\tvalid_0's auc: 0.904358\n",
      "[600]\tvalid_0's auc: 0.90469\n",
      "[650]\tvalid_0's auc: 0.9048\n",
      "[700]\tvalid_0's auc: 0.905054\n",
      "[750]\tvalid_0's auc: 0.905408\n",
      "[800]\tvalid_0's auc: 0.905511\n",
      "[850]\tvalid_0's auc: 0.905704\n",
      "[900]\tvalid_0's auc: 0.90593\n",
      "[950]\tvalid_0's auc: 0.906053\n",
      "[1000]\tvalid_0's auc: 0.906215\n",
      "[1050]\tvalid_0's auc: 0.906207\n",
      "[1100]\tvalid_0's auc: 0.906315\n",
      "[1150]\tvalid_0's auc: 0.906322\n",
      "[1200]\tvalid_0's auc: 0.906341\n",
      "Early stopping, best iteration is:\n",
      "[1139]\tvalid_0's auc: 0.906371\n"
     ]
    },
    {
     "name": "stderr",
     "output_type": "stream",
     "text": [
      "bagging, val_score: 0.906804:  60%|###############################8                     | 6/10 [00:12<00:08,  2.24s/it]C:\\Python39\\lib\\site-packages\\lightgbm\\engine.py:181: UserWarning: 'early_stopping_rounds' argument is deprecated and will be removed in a future release of LightGBM. Pass 'early_stopping()' callback via 'callbacks' argument instead.\n",
      "  _log_warning(\"'early_stopping_rounds' argument is deprecated and will be removed in a future release of LightGBM. \"\n",
      "C:\\Python39\\lib\\site-packages\\lightgbm\\engine.py:239: UserWarning: 'verbose_eval' argument is deprecated and will be removed in a future release of LightGBM. Pass 'log_evaluation()' callback via 'callbacks' argument instead.\n",
      "  _log_warning(\"'verbose_eval' argument is deprecated and will be removed in a future release of LightGBM. \"\n"
     ]
    },
    {
     "name": "stdout",
     "output_type": "stream",
     "text": [
      "Training until validation scores don't improve for 100 rounds\n",
      "[50]\tvalid_0's auc: 0.884739\n",
      "[100]\tvalid_0's auc: 0.89211\n",
      "[150]\tvalid_0's auc: 0.896297\n",
      "[200]\tvalid_0's auc: 0.899104\n",
      "[250]\tvalid_0's auc: 0.900734\n",
      "[300]\tvalid_0's auc: 0.902166\n",
      "[350]\tvalid_0's auc: 0.902884\n",
      "[400]\tvalid_0's auc: 0.903532\n",
      "[450]\tvalid_0's auc: 0.904209\n",
      "[500]\tvalid_0's auc: 0.904767\n",
      "[550]\tvalid_0's auc: 0.905215\n",
      "[600]\tvalid_0's auc: 0.905489\n",
      "[650]\tvalid_0's auc: 0.905759\n",
      "[700]\tvalid_0's auc: 0.905848\n",
      "[750]\tvalid_0's auc: 0.90614\n",
      "[800]\tvalid_0's auc: 0.9063\n",
      "[850]\tvalid_0's auc: 0.906308\n",
      "[900]\tvalid_0's auc: 0.906437\n",
      "[950]\tvalid_0's auc: 0.906439\n",
      "[1000]\tvalid_0's auc: 0.906494\n",
      "[1050]\tvalid_0's auc: 0.906505\n",
      "[1100]\tvalid_0's auc: 0.906565\n",
      "[1150]\tvalid_0's auc: 0.906578\n",
      "[1200]\tvalid_0's auc: 0.906638\n"
     ]
    },
    {
     "name": "stderr",
     "output_type": "stream",
     "text": [
      "bagging, val_score: 0.906804:  60%|###############################8                     | 6/10 [00:14<00:08,  2.24s/it]"
     ]
    },
    {
     "name": "stdout",
     "output_type": "stream",
     "text": [
      "[1250]\tvalid_0's auc: 0.90676\n",
      "[1300]\tvalid_0's auc: 0.906657\n",
      "Early stopping, best iteration is:\n",
      "[1248]\tvalid_0's auc: 0.906788\n"
     ]
    },
    {
     "name": "stderr",
     "output_type": "stream",
     "text": [
      "bagging, val_score: 0.906804:  70%|#####################################                | 7/10 [00:14<00:06,  2.17s/it]C:\\Python39\\lib\\site-packages\\lightgbm\\engine.py:181: UserWarning: 'early_stopping_rounds' argument is deprecated and will be removed in a future release of LightGBM. Pass 'early_stopping()' callback via 'callbacks' argument instead.\n",
      "  _log_warning(\"'early_stopping_rounds' argument is deprecated and will be removed in a future release of LightGBM. \"\n",
      "C:\\Python39\\lib\\site-packages\\lightgbm\\engine.py:239: UserWarning: 'verbose_eval' argument is deprecated and will be removed in a future release of LightGBM. Pass 'log_evaluation()' callback via 'callbacks' argument instead.\n",
      "  _log_warning(\"'verbose_eval' argument is deprecated and will be removed in a future release of LightGBM. \"\n"
     ]
    },
    {
     "name": "stdout",
     "output_type": "stream",
     "text": [
      "Training until validation scores don't improve for 100 rounds\n",
      "[50]\tvalid_0's auc: 0.884764\n",
      "[100]\tvalid_0's auc: 0.89198\n",
      "[150]\tvalid_0's auc: 0.896051\n",
      "[200]\tvalid_0's auc: 0.899022\n",
      "[250]\tvalid_0's auc: 0.900378\n",
      "[300]\tvalid_0's auc: 0.901761\n",
      "[350]\tvalid_0's auc: 0.902446\n",
      "[400]\tvalid_0's auc: 0.902903\n",
      "[450]\tvalid_0's auc: 0.903765\n",
      "[500]\tvalid_0's auc: 0.904139\n",
      "[550]\tvalid_0's auc: 0.904621\n",
      "[600]\tvalid_0's auc: 0.905053\n",
      "[650]\tvalid_0's auc: 0.905387\n",
      "[700]\tvalid_0's auc: 0.905489\n",
      "[750]\tvalid_0's auc: 0.905724\n",
      "[800]\tvalid_0's auc: 0.90583\n",
      "[850]\tvalid_0's auc: 0.906006\n",
      "[900]\tvalid_0's auc: 0.90606\n",
      "[950]\tvalid_0's auc: 0.906011\n"
     ]
    },
    {
     "name": "stderr",
     "output_type": "stream",
     "text": [
      "bagging, val_score: 0.906804:  80%|##########################################4          | 8/10 [00:16<00:03,  1.96s/it]"
     ]
    },
    {
     "name": "stdout",
     "output_type": "stream",
     "text": [
      "[1000]\tvalid_0's auc: 0.906152\n",
      "[1050]\tvalid_0's auc: 0.905985\n",
      "Early stopping, best iteration is:\n",
      "[996]\tvalid_0's auc: 0.906192\n"
     ]
    },
    {
     "name": "stderr",
     "output_type": "stream",
     "text": [
      "C:\\Python39\\lib\\site-packages\\lightgbm\\engine.py:181: UserWarning: 'early_stopping_rounds' argument is deprecated and will be removed in a future release of LightGBM. Pass 'early_stopping()' callback via 'callbacks' argument instead.\n",
      "  _log_warning(\"'early_stopping_rounds' argument is deprecated and will be removed in a future release of LightGBM. \"\n",
      "C:\\Python39\\lib\\site-packages\\lightgbm\\engine.py:239: UserWarning: 'verbose_eval' argument is deprecated and will be removed in a future release of LightGBM. Pass 'log_evaluation()' callback via 'callbacks' argument instead.\n",
      "  _log_warning(\"'verbose_eval' argument is deprecated and will be removed in a future release of LightGBM. \"\n"
     ]
    },
    {
     "name": "stdout",
     "output_type": "stream",
     "text": [
      "Training until validation scores don't improve for 100 rounds\n",
      "[50]\tvalid_0's auc: 0.883592\n",
      "[100]\tvalid_0's auc: 0.891561\n",
      "[150]\tvalid_0's auc: 0.895489\n",
      "[200]\tvalid_0's auc: 0.898177\n",
      "[250]\tvalid_0's auc: 0.899752\n",
      "[300]\tvalid_0's auc: 0.90118\n",
      "[350]\tvalid_0's auc: 0.901979\n",
      "[400]\tvalid_0's auc: 0.902647\n",
      "[450]\tvalid_0's auc: 0.903284\n",
      "[500]\tvalid_0's auc: 0.903737\n",
      "[550]\tvalid_0's auc: 0.904239\n",
      "[600]\tvalid_0's auc: 0.904448\n",
      "[650]\tvalid_0's auc: 0.904621\n",
      "[700]\tvalid_0's auc: 0.904909\n",
      "[750]\tvalid_0's auc: 0.905096\n",
      "[800]\tvalid_0's auc: 0.905404\n",
      "[850]\tvalid_0's auc: 0.905533\n",
      "[900]\tvalid_0's auc: 0.905703\n",
      "[950]\tvalid_0's auc: 0.905708\n",
      "[1000]\tvalid_0's auc: 0.90585\n",
      "[1050]\tvalid_0's auc: 0.905824\n",
      "[1100]\tvalid_0's auc: 0.905915\n",
      "[1150]\tvalid_0's auc: 0.905963\n",
      "[1200]\tvalid_0's auc: 0.906009\n",
      "[1250]\tvalid_0's auc: 0.906091\n",
      "[1300]\tvalid_0's auc: 0.906221\n",
      "[1350]\tvalid_0's auc: 0.906263\n",
      "[1400]\tvalid_0's auc: 0.906335\n",
      "[1450]\tvalid_0's auc: 0.906328\n"
     ]
    },
    {
     "name": "stderr",
     "output_type": "stream",
     "text": [
      "bagging, val_score: 0.906804:  80%|##########################################4          | 8/10 [00:19<00:03,  1.96s/it]"
     ]
    },
    {
     "name": "stdout",
     "output_type": "stream",
     "text": [
      "[1500]\tvalid_0's auc: 0.906329\n",
      "[1550]\tvalid_0's auc: 0.90628\n",
      "Early stopping, best iteration is:\n",
      "[1477]\tvalid_0's auc: 0.906387\n"
     ]
    },
    {
     "name": "stderr",
     "output_type": "stream",
     "text": [
      "bagging, val_score: 0.906804:  90%|###############################################7     | 9/10 [00:19<00:02,  2.25s/it]C:\\Python39\\lib\\site-packages\\lightgbm\\engine.py:181: UserWarning: 'early_stopping_rounds' argument is deprecated and will be removed in a future release of LightGBM. Pass 'early_stopping()' callback via 'callbacks' argument instead.\n",
      "  _log_warning(\"'early_stopping_rounds' argument is deprecated and will be removed in a future release of LightGBM. \"\n",
      "C:\\Python39\\lib\\site-packages\\lightgbm\\engine.py:239: UserWarning: 'verbose_eval' argument is deprecated and will be removed in a future release of LightGBM. Pass 'log_evaluation()' callback via 'callbacks' argument instead.\n",
      "  _log_warning(\"'verbose_eval' argument is deprecated and will be removed in a future release of LightGBM. \"\n"
     ]
    },
    {
     "name": "stdout",
     "output_type": "stream",
     "text": [
      "Training until validation scores don't improve for 100 rounds\n",
      "[50]\tvalid_0's auc: 0.883321\n",
      "[100]\tvalid_0's auc: 0.891685\n",
      "[150]\tvalid_0's auc: 0.895112\n",
      "[200]\tvalid_0's auc: 0.897835\n",
      "[250]\tvalid_0's auc: 0.8996\n",
      "[300]\tvalid_0's auc: 0.90126\n",
      "[350]\tvalid_0's auc: 0.902051\n",
      "[400]\tvalid_0's auc: 0.902581\n",
      "[450]\tvalid_0's auc: 0.903378\n",
      "[500]\tvalid_0's auc: 0.903766\n",
      "[550]\tvalid_0's auc: 0.90422\n",
      "[600]\tvalid_0's auc: 0.904506\n",
      "[650]\tvalid_0's auc: 0.904797\n",
      "[700]\tvalid_0's auc: 0.905034\n",
      "[750]\tvalid_0's auc: 0.9052\n",
      "[800]\tvalid_0's auc: 0.905298\n",
      "[850]\tvalid_0's auc: 0.905459\n",
      "[900]\tvalid_0's auc: 0.905683\n",
      "[950]\tvalid_0's auc: 0.905811\n",
      "[1000]\tvalid_0's auc: 0.905883\n",
      "[1050]\tvalid_0's auc: 0.905938\n",
      "[1100]\tvalid_0's auc: 0.905889\n",
      "[1150]\tvalid_0's auc: 0.906026\n",
      "[1200]\tvalid_0's auc: 0.906234\n",
      "[1250]\tvalid_0's auc: 0.906315\n",
      "[1300]\tvalid_0's auc: 0.906323\n",
      "[1350]\tvalid_0's auc: 0.906342\n",
      "[1400]\tvalid_0's auc: 0.906325\n",
      "[1450]\tvalid_0's auc: 0.906388\n",
      "[1500]\tvalid_0's auc: 0.906399\n",
      "[1550]\tvalid_0's auc: 0.906374\n",
      "Early stopping, best iteration is:\n",
      "[1489]\tvalid_0's auc: 0.906435\n"
     ]
    },
    {
     "name": "stderr",
     "output_type": "stream",
     "text": [
      "bagging, val_score: 0.906804: 100%|####################################################| 10/10 [00:21<00:00,  2.17s/it]\n",
      "feature_fraction_stage2, val_score: 0.906804:   0%|                                              | 0/3 [00:00<?, ?it/s]C:\\Python39\\lib\\site-packages\\lightgbm\\engine.py:181: UserWarning: 'early_stopping_rounds' argument is deprecated and will be removed in a future release of LightGBM. Pass 'early_stopping()' callback via 'callbacks' argument instead.\n",
      "  _log_warning(\"'early_stopping_rounds' argument is deprecated and will be removed in a future release of LightGBM. \"\n",
      "C:\\Python39\\lib\\site-packages\\lightgbm\\engine.py:239: UserWarning: 'verbose_eval' argument is deprecated and will be removed in a future release of LightGBM. Pass 'log_evaluation()' callback via 'callbacks' argument instead.\n",
      "  _log_warning(\"'verbose_eval' argument is deprecated and will be removed in a future release of LightGBM. \"\n"
     ]
    },
    {
     "name": "stdout",
     "output_type": "stream",
     "text": [
      "Training until validation scores don't improve for 100 rounds\n",
      "[50]\tvalid_0's auc: 0.886736\n",
      "[100]\tvalid_0's auc: 0.893329\n",
      "[150]\tvalid_0's auc: 0.896108\n",
      "[200]\tvalid_0's auc: 0.898725\n",
      "[250]\tvalid_0's auc: 0.900669\n",
      "[300]\tvalid_0's auc: 0.901989\n",
      "[350]\tvalid_0's auc: 0.902702\n",
      "[400]\tvalid_0's auc: 0.903357\n",
      "[450]\tvalid_0's auc: 0.903907\n",
      "[500]\tvalid_0's auc: 0.904394\n",
      "[550]\tvalid_0's auc: 0.904764\n",
      "[600]\tvalid_0's auc: 0.905269\n",
      "[650]\tvalid_0's auc: 0.905516\n",
      "[700]\tvalid_0's auc: 0.90581\n",
      "[750]\tvalid_0's auc: 0.906015\n",
      "[800]\tvalid_0's auc: 0.906259\n",
      "[850]\tvalid_0's auc: 0.906436\n",
      "[900]\tvalid_0's auc: 0.906517\n",
      "[950]\tvalid_0's auc: 0.906677\n",
      "[1000]\tvalid_0's auc: 0.906769\n",
      "[1050]\tvalid_0's auc: 0.906854\n",
      "[1100]\tvalid_0's auc: 0.906922\n"
     ]
    },
    {
     "name": "stderr",
     "output_type": "stream",
     "text": [
      "feature_fraction_stage2, val_score: 0.906946:  33%|############6                         | 1/3 [00:01<00:03,  1.88s/it]"
     ]
    },
    {
     "name": "stdout",
     "output_type": "stream",
     "text": [
      "[1150]\tvalid_0's auc: 0.906822\n",
      "Early stopping, best iteration is:\n",
      "[1096]\tvalid_0's auc: 0.906946\n"
     ]
    },
    {
     "name": "stderr",
     "output_type": "stream",
     "text": [
      "C:\\Python39\\lib\\site-packages\\lightgbm\\engine.py:181: UserWarning: 'early_stopping_rounds' argument is deprecated and will be removed in a future release of LightGBM. Pass 'early_stopping()' callback via 'callbacks' argument instead.\n",
      "  _log_warning(\"'early_stopping_rounds' argument is deprecated and will be removed in a future release of LightGBM. \"\n",
      "C:\\Python39\\lib\\site-packages\\lightgbm\\engine.py:239: UserWarning: 'verbose_eval' argument is deprecated and will be removed in a future release of LightGBM. Pass 'log_evaluation()' callback via 'callbacks' argument instead.\n",
      "  _log_warning(\"'verbose_eval' argument is deprecated and will be removed in a future release of LightGBM. \"\n"
     ]
    },
    {
     "name": "stdout",
     "output_type": "stream",
     "text": [
      "Training until validation scores don't improve for 100 rounds\n",
      "[50]\tvalid_0's auc: 0.885291\n",
      "[100]\tvalid_0's auc: 0.892915\n",
      "[150]\tvalid_0's auc: 0.896129\n",
      "[200]\tvalid_0's auc: 0.898689\n",
      "[250]\tvalid_0's auc: 0.900268\n",
      "[300]\tvalid_0's auc: 0.901764\n",
      "[350]\tvalid_0's auc: 0.902694\n",
      "[400]\tvalid_0's auc: 0.903332\n",
      "[450]\tvalid_0's auc: 0.903922\n",
      "[500]\tvalid_0's auc: 0.904356\n",
      "[550]\tvalid_0's auc: 0.904703\n",
      "[600]\tvalid_0's auc: 0.904966\n",
      "[650]\tvalid_0's auc: 0.905267\n",
      "[700]\tvalid_0's auc: 0.905664\n",
      "[750]\tvalid_0's auc: 0.905774\n",
      "[800]\tvalid_0's auc: 0.905879\n",
      "[850]\tvalid_0's auc: 0.906077\n",
      "[900]\tvalid_0's auc: 0.906234\n",
      "[950]\tvalid_0's auc: 0.906363\n",
      "[1000]\tvalid_0's auc: 0.90647\n",
      "[1050]\tvalid_0's auc: 0.906509\n",
      "[1100]\tvalid_0's auc: 0.906624\n",
      "[1150]\tvalid_0's auc: 0.906511\n"
     ]
    },
    {
     "name": "stderr",
     "output_type": "stream",
     "text": [
      "feature_fraction_stage2, val_score: 0.906946:  67%|#########################3            | 2/3 [00:04<00:02,  2.03s/it]"
     ]
    },
    {
     "name": "stdout",
     "output_type": "stream",
     "text": [
      "Early stopping, best iteration is:\n",
      "[1093]\tvalid_0's auc: 0.90666\n",
      "Training until validation scores don't improve for 100 rounds\n"
     ]
    },
    {
     "name": "stderr",
     "output_type": "stream",
     "text": [
      "C:\\Python39\\lib\\site-packages\\lightgbm\\engine.py:181: UserWarning: 'early_stopping_rounds' argument is deprecated and will be removed in a future release of LightGBM. Pass 'early_stopping()' callback via 'callbacks' argument instead.\n",
      "  _log_warning(\"'early_stopping_rounds' argument is deprecated and will be removed in a future release of LightGBM. \"\n",
      "C:\\Python39\\lib\\site-packages\\lightgbm\\engine.py:239: UserWarning: 'verbose_eval' argument is deprecated and will be removed in a future release of LightGBM. Pass 'log_evaluation()' callback via 'callbacks' argument instead.\n",
      "  _log_warning(\"'verbose_eval' argument is deprecated and will be removed in a future release of LightGBM. \"\n"
     ]
    },
    {
     "name": "stdout",
     "output_type": "stream",
     "text": [
      "[50]\tvalid_0's auc: 0.885857\n",
      "[100]\tvalid_0's auc: 0.893113\n",
      "[150]\tvalid_0's auc: 0.896164\n",
      "[200]\tvalid_0's auc: 0.898595\n",
      "[250]\tvalid_0's auc: 0.900406\n",
      "[300]\tvalid_0's auc: 0.901695\n",
      "[350]\tvalid_0's auc: 0.902569\n",
      "[400]\tvalid_0's auc: 0.903212\n",
      "[450]\tvalid_0's auc: 0.90378\n",
      "[500]\tvalid_0's auc: 0.90431\n",
      "[550]\tvalid_0's auc: 0.904724\n",
      "[600]\tvalid_0's auc: 0.905157\n",
      "[650]\tvalid_0's auc: 0.905374\n",
      "[700]\tvalid_0's auc: 0.905701\n",
      "[750]\tvalid_0's auc: 0.905802\n",
      "[800]\tvalid_0's auc: 0.905962\n",
      "[850]\tvalid_0's auc: 0.906113\n",
      "[900]\tvalid_0's auc: 0.906265\n",
      "[950]\tvalid_0's auc: 0.906381\n",
      "[1000]\tvalid_0's auc: 0.906471\n",
      "[1050]\tvalid_0's auc: 0.906595\n",
      "[1100]\tvalid_0's auc: 0.906683\n"
     ]
    },
    {
     "name": "stderr",
     "output_type": "stream",
     "text": [
      "feature_fraction_stage2, val_score: 0.906946: 100%|######################################| 3/3 [00:06<00:00,  2.03s/it]\n"
     ]
    },
    {
     "name": "stdout",
     "output_type": "stream",
     "text": [
      "[1150]\tvalid_0's auc: 0.90649\n",
      "Early stopping, best iteration is:\n",
      "[1093]\tvalid_0's auc: 0.906734\n"
     ]
    },
    {
     "name": "stderr",
     "output_type": "stream",
     "text": [
      "regularization_factors, val_score: 0.906946:   0%|                                              | 0/20 [00:00<?, ?it/s]C:\\Python39\\lib\\site-packages\\lightgbm\\engine.py:181: UserWarning: 'early_stopping_rounds' argument is deprecated and will be removed in a future release of LightGBM. Pass 'early_stopping()' callback via 'callbacks' argument instead.\n",
      "  _log_warning(\"'early_stopping_rounds' argument is deprecated and will be removed in a future release of LightGBM. \"\n",
      "C:\\Python39\\lib\\site-packages\\lightgbm\\engine.py:239: UserWarning: 'verbose_eval' argument is deprecated and will be removed in a future release of LightGBM. Pass 'log_evaluation()' callback via 'callbacks' argument instead.\n",
      "  _log_warning(\"'verbose_eval' argument is deprecated and will be removed in a future release of LightGBM. \"\n"
     ]
    },
    {
     "name": "stdout",
     "output_type": "stream",
     "text": [
      "Training until validation scores don't improve for 100 rounds\n",
      "[50]\tvalid_0's auc: 0.886736\n",
      "[100]\tvalid_0's auc: 0.893329\n",
      "[150]\tvalid_0's auc: 0.896108\n",
      "[200]\tvalid_0's auc: 0.898725\n",
      "[250]\tvalid_0's auc: 0.900669\n",
      "[300]\tvalid_0's auc: 0.901989\n",
      "[350]\tvalid_0's auc: 0.902702\n",
      "[400]\tvalid_0's auc: 0.903357\n",
      "[450]\tvalid_0's auc: 0.903907\n",
      "[500]\tvalid_0's auc: 0.904394\n",
      "[550]\tvalid_0's auc: 0.904764\n",
      "[600]\tvalid_0's auc: 0.905269\n",
      "[650]\tvalid_0's auc: 0.905516\n",
      "[700]\tvalid_0's auc: 0.905797\n",
      "[750]\tvalid_0's auc: 0.906002\n",
      "[800]\tvalid_0's auc: 0.906245\n",
      "[850]\tvalid_0's auc: 0.906419\n",
      "[900]\tvalid_0's auc: 0.906522\n",
      "[950]\tvalid_0's auc: 0.906688\n",
      "[1000]\tvalid_0's auc: 0.90676\n",
      "[1050]\tvalid_0's auc: 0.906863\n",
      "[1100]\tvalid_0's auc: 0.906932\n",
      "[1150]\tvalid_0's auc: 0.906751\n",
      "Early stopping, best iteration is:\n",
      "[1093]\tvalid_0's auc: 0.906955\n"
     ]
    },
    {
     "name": "stderr",
     "output_type": "stream",
     "text": [
      "regularization_factors, val_score: 0.906955:   5%|#9                                    | 1/20 [00:01<00:37,  1.97s/it]C:\\Python39\\lib\\site-packages\\lightgbm\\engine.py:181: UserWarning: 'early_stopping_rounds' argument is deprecated and will be removed in a future release of LightGBM. Pass 'early_stopping()' callback via 'callbacks' argument instead.\n",
      "  _log_warning(\"'early_stopping_rounds' argument is deprecated and will be removed in a future release of LightGBM. \"\n",
      "C:\\Python39\\lib\\site-packages\\lightgbm\\engine.py:239: UserWarning: 'verbose_eval' argument is deprecated and will be removed in a future release of LightGBM. Pass 'log_evaluation()' callback via 'callbacks' argument instead.\n",
      "  _log_warning(\"'verbose_eval' argument is deprecated and will be removed in a future release of LightGBM. \"\n"
     ]
    },
    {
     "name": "stdout",
     "output_type": "stream",
     "text": [
      "Training until validation scores don't improve for 100 rounds\n",
      "[50]\tvalid_0's auc: 0.886738\n",
      "[100]\tvalid_0's auc: 0.893329\n",
      "[150]\tvalid_0's auc: 0.896108\n",
      "[200]\tvalid_0's auc: 0.898725\n",
      "[250]\tvalid_0's auc: 0.900668\n",
      "[300]\tvalid_0's auc: 0.901988\n",
      "[350]\tvalid_0's auc: 0.902702\n",
      "[400]\tvalid_0's auc: 0.903357\n",
      "[450]\tvalid_0's auc: 0.90393\n",
      "[500]\tvalid_0's auc: 0.904413\n",
      "[550]\tvalid_0's auc: 0.904784\n",
      "[600]\tvalid_0's auc: 0.905267\n",
      "[650]\tvalid_0's auc: 0.905532\n",
      "[700]\tvalid_0's auc: 0.905845\n",
      "[750]\tvalid_0's auc: 0.906034\n",
      "[800]\tvalid_0's auc: 0.906235\n",
      "[850]\tvalid_0's auc: 0.90637\n",
      "[900]\tvalid_0's auc: 0.906477\n",
      "[950]\tvalid_0's auc: 0.906683\n",
      "[1000]\tvalid_0's auc: 0.906776\n",
      "[1050]\tvalid_0's auc: 0.906863\n",
      "[1100]\tvalid_0's auc: 0.906886\n"
     ]
    },
    {
     "name": "stderr",
     "output_type": "stream",
     "text": [
      "regularization_factors, val_score: 0.906955:   5%|#9                                    | 1/20 [00:04<00:37,  1.97s/it]"
     ]
    },
    {
     "name": "stdout",
     "output_type": "stream",
     "text": [
      "[1150]\tvalid_0's auc: 0.906782\n",
      "[1200]\tvalid_0's auc: 0.90671\n",
      "Early stopping, best iteration is:\n",
      "[1117]\tvalid_0's auc: 0.906926\n"
     ]
    },
    {
     "name": "stderr",
     "output_type": "stream",
     "text": [
      "regularization_factors, val_score: 0.906955:  10%|###8                                  | 2/20 [00:04<00:36,  2.05s/it]C:\\Python39\\lib\\site-packages\\lightgbm\\engine.py:181: UserWarning: 'early_stopping_rounds' argument is deprecated and will be removed in a future release of LightGBM. Pass 'early_stopping()' callback via 'callbacks' argument instead.\n",
      "  _log_warning(\"'early_stopping_rounds' argument is deprecated and will be removed in a future release of LightGBM. \"\n",
      "C:\\Python39\\lib\\site-packages\\lightgbm\\engine.py:239: UserWarning: 'verbose_eval' argument is deprecated and will be removed in a future release of LightGBM. Pass 'log_evaluation()' callback via 'callbacks' argument instead.\n",
      "  _log_warning(\"'verbose_eval' argument is deprecated and will be removed in a future release of LightGBM. \"\n"
     ]
    },
    {
     "name": "stdout",
     "output_type": "stream",
     "text": [
      "Training until validation scores don't improve for 100 rounds\n",
      "[50]\tvalid_0's auc: 0.886736\n",
      "[100]\tvalid_0's auc: 0.893329\n",
      "[150]\tvalid_0's auc: 0.896108\n",
      "[200]\tvalid_0's auc: 0.898725\n",
      "[250]\tvalid_0's auc: 0.900669\n",
      "[300]\tvalid_0's auc: 0.901989\n",
      "[350]\tvalid_0's auc: 0.902702\n",
      "[400]\tvalid_0's auc: 0.903357\n",
      "[450]\tvalid_0's auc: 0.903907\n",
      "[500]\tvalid_0's auc: 0.904394\n",
      "[550]\tvalid_0's auc: 0.904764\n",
      "[600]\tvalid_0's auc: 0.905269\n",
      "[650]\tvalid_0's auc: 0.905516\n",
      "[700]\tvalid_0's auc: 0.905797\n",
      "[750]\tvalid_0's auc: 0.906002\n",
      "[800]\tvalid_0's auc: 0.906245\n",
      "[850]\tvalid_0's auc: 0.906419\n",
      "[900]\tvalid_0's auc: 0.906522\n",
      "[950]\tvalid_0's auc: 0.906688\n",
      "[1000]\tvalid_0's auc: 0.90676\n",
      "[1050]\tvalid_0's auc: 0.906863\n"
     ]
    },
    {
     "name": "stderr",
     "output_type": "stream",
     "text": [
      "regularization_factors, val_score: 0.906955:  10%|###8                                  | 2/20 [00:06<00:36,  2.05s/it]"
     ]
    },
    {
     "name": "stdout",
     "output_type": "stream",
     "text": [
      "[1100]\tvalid_0's auc: 0.906932\n",
      "[1150]\tvalid_0's auc: 0.906751\n",
      "Early stopping, best iteration is:\n",
      "[1093]\tvalid_0's auc: 0.906955\n"
     ]
    },
    {
     "name": "stderr",
     "output_type": "stream",
     "text": [
      "regularization_factors, val_score: 0.906955:  15%|#####7                                | 3/20 [00:06<00:34,  2.03s/it]C:\\Python39\\lib\\site-packages\\lightgbm\\engine.py:181: UserWarning: 'early_stopping_rounds' argument is deprecated and will be removed in a future release of LightGBM. Pass 'early_stopping()' callback via 'callbacks' argument instead.\n",
      "  _log_warning(\"'early_stopping_rounds' argument is deprecated and will be removed in a future release of LightGBM. \"\n",
      "C:\\Python39\\lib\\site-packages\\lightgbm\\engine.py:239: UserWarning: 'verbose_eval' argument is deprecated and will be removed in a future release of LightGBM. Pass 'log_evaluation()' callback via 'callbacks' argument instead.\n",
      "  _log_warning(\"'verbose_eval' argument is deprecated and will be removed in a future release of LightGBM. \"\n"
     ]
    },
    {
     "name": "stdout",
     "output_type": "stream",
     "text": [
      "Training until validation scores don't improve for 100 rounds\n",
      "[50]\tvalid_0's auc: 0.886738\n",
      "[100]\tvalid_0's auc: 0.893329\n",
      "[150]\tvalid_0's auc: 0.896115\n",
      "[200]\tvalid_0's auc: 0.89873\n",
      "[250]\tvalid_0's auc: 0.900674\n",
      "[300]\tvalid_0's auc: 0.902036\n",
      "[350]\tvalid_0's auc: 0.902788\n",
      "[400]\tvalid_0's auc: 0.903436\n",
      "[450]\tvalid_0's auc: 0.903993\n",
      "[500]\tvalid_0's auc: 0.904487\n",
      "[550]\tvalid_0's auc: 0.904821\n",
      "[600]\tvalid_0's auc: 0.905276\n",
      "[650]\tvalid_0's auc: 0.905584\n",
      "[700]\tvalid_0's auc: 0.905912\n",
      "[750]\tvalid_0's auc: 0.906095\n",
      "[800]\tvalid_0's auc: 0.906298\n",
      "[850]\tvalid_0's auc: 0.906454\n",
      "[900]\tvalid_0's auc: 0.906575\n",
      "[950]\tvalid_0's auc: 0.906628\n",
      "[1000]\tvalid_0's auc: 0.90679\n",
      "[1050]\tvalid_0's auc: 0.906954\n",
      "[1100]\tvalid_0's auc: 0.907016\n"
     ]
    },
    {
     "name": "stderr",
     "output_type": "stream",
     "text": [
      "regularization_factors, val_score: 0.907030:  20%|#######6                              | 4/20 [00:08<00:32,  2.04s/it]"
     ]
    },
    {
     "name": "stdout",
     "output_type": "stream",
     "text": [
      "[1150]\tvalid_0's auc: 0.906893\n",
      "Early stopping, best iteration is:\n",
      "[1098]\tvalid_0's auc: 0.90703\n"
     ]
    },
    {
     "name": "stderr",
     "output_type": "stream",
     "text": [
      "C:\\Python39\\lib\\site-packages\\lightgbm\\engine.py:181: UserWarning: 'early_stopping_rounds' argument is deprecated and will be removed in a future release of LightGBM. Pass 'early_stopping()' callback via 'callbacks' argument instead.\n",
      "  _log_warning(\"'early_stopping_rounds' argument is deprecated and will be removed in a future release of LightGBM. \"\n",
      "C:\\Python39\\lib\\site-packages\\lightgbm\\engine.py:239: UserWarning: 'verbose_eval' argument is deprecated and will be removed in a future release of LightGBM. Pass 'log_evaluation()' callback via 'callbacks' argument instead.\n",
      "  _log_warning(\"'verbose_eval' argument is deprecated and will be removed in a future release of LightGBM. \"\n"
     ]
    },
    {
     "name": "stdout",
     "output_type": "stream",
     "text": [
      "Training until validation scores don't improve for 100 rounds\n",
      "[50]\tvalid_0's auc: 0.886736\n",
      "[100]\tvalid_0's auc: 0.893329\n",
      "[150]\tvalid_0's auc: 0.896108\n",
      "[200]\tvalid_0's auc: 0.898725\n",
      "[250]\tvalid_0's auc: 0.900669\n",
      "[300]\tvalid_0's auc: 0.901989\n",
      "[350]\tvalid_0's auc: 0.902702\n",
      "[400]\tvalid_0's auc: 0.903357\n",
      "[450]\tvalid_0's auc: 0.903907\n",
      "[500]\tvalid_0's auc: 0.904394\n",
      "[550]\tvalid_0's auc: 0.904764\n",
      "[600]\tvalid_0's auc: 0.905269\n",
      "[650]\tvalid_0's auc: 0.905516\n",
      "[700]\tvalid_0's auc: 0.90581\n",
      "[750]\tvalid_0's auc: 0.906015\n",
      "[800]\tvalid_0's auc: 0.906259\n",
      "[850]\tvalid_0's auc: 0.906436\n",
      "[900]\tvalid_0's auc: 0.906517\n",
      "[950]\tvalid_0's auc: 0.906677\n",
      "[1000]\tvalid_0's auc: 0.906769\n",
      "[1050]\tvalid_0's auc: 0.906854\n",
      "[1100]\tvalid_0's auc: 0.906919\n",
      "[1150]\tvalid_0's auc: 0.906789\n"
     ]
    },
    {
     "name": "stderr",
     "output_type": "stream",
     "text": [
      "regularization_factors, val_score: 0.907030:  25%|#########5                            | 5/20 [00:10<00:30,  2.01s/it]"
     ]
    },
    {
     "name": "stdout",
     "output_type": "stream",
     "text": [
      "Early stopping, best iteration is:\n",
      "[1097]\tvalid_0's auc: 0.906938\n",
      "Training until validation scores don't improve for 100 rounds\n"
     ]
    },
    {
     "name": "stderr",
     "output_type": "stream",
     "text": [
      "C:\\Python39\\lib\\site-packages\\lightgbm\\engine.py:181: UserWarning: 'early_stopping_rounds' argument is deprecated and will be removed in a future release of LightGBM. Pass 'early_stopping()' callback via 'callbacks' argument instead.\n",
      "  _log_warning(\"'early_stopping_rounds' argument is deprecated and will be removed in a future release of LightGBM. \"\n",
      "C:\\Python39\\lib\\site-packages\\lightgbm\\engine.py:239: UserWarning: 'verbose_eval' argument is deprecated and will be removed in a future release of LightGBM. Pass 'log_evaluation()' callback via 'callbacks' argument instead.\n",
      "  _log_warning(\"'verbose_eval' argument is deprecated and will be removed in a future release of LightGBM. \"\n"
     ]
    },
    {
     "name": "stdout",
     "output_type": "stream",
     "text": [
      "[50]\tvalid_0's auc: 0.886738\n",
      "[100]\tvalid_0's auc: 0.893332\n",
      "[150]\tvalid_0's auc: 0.896115\n",
      "[200]\tvalid_0's auc: 0.89873\n",
      "[250]\tvalid_0's auc: 0.900673\n",
      "[300]\tvalid_0's auc: 0.902036\n",
      "[350]\tvalid_0's auc: 0.902789\n",
      "[400]\tvalid_0's auc: 0.903436\n",
      "[450]\tvalid_0's auc: 0.903993\n",
      "[500]\tvalid_0's auc: 0.904486\n",
      "[550]\tvalid_0's auc: 0.904822\n",
      "[600]\tvalid_0's auc: 0.905289\n",
      "[650]\tvalid_0's auc: 0.905551\n",
      "[700]\tvalid_0's auc: 0.905902\n",
      "[750]\tvalid_0's auc: 0.906095\n",
      "[800]\tvalid_0's auc: 0.906259\n",
      "[850]\tvalid_0's auc: 0.906368\n",
      "[900]\tvalid_0's auc: 0.90643\n",
      "[950]\tvalid_0's auc: 0.906561\n",
      "[1000]\tvalid_0's auc: 0.906712\n",
      "[1050]\tvalid_0's auc: 0.906801\n",
      "[1100]\tvalid_0's auc: 0.906865\n",
      "[1150]\tvalid_0's auc: 0.906785\n",
      "Early stopping, best iteration is:\n",
      "[1080]\tvalid_0's auc: 0.906906\n"
     ]
    },
    {
     "name": "stderr",
     "output_type": "stream",
     "text": [
      "regularization_factors, val_score: 0.907030:  30%|###########4                          | 6/20 [00:11<00:27,  1.94s/it]C:\\Python39\\lib\\site-packages\\lightgbm\\engine.py:181: UserWarning: 'early_stopping_rounds' argument is deprecated and will be removed in a future release of LightGBM. Pass 'early_stopping()' callback via 'callbacks' argument instead.\n",
      "  _log_warning(\"'early_stopping_rounds' argument is deprecated and will be removed in a future release of LightGBM. \"\n",
      "C:\\Python39\\lib\\site-packages\\lightgbm\\engine.py:239: UserWarning: 'verbose_eval' argument is deprecated and will be removed in a future release of LightGBM. Pass 'log_evaluation()' callback via 'callbacks' argument instead.\n",
      "  _log_warning(\"'verbose_eval' argument is deprecated and will be removed in a future release of LightGBM. \"\n"
     ]
    },
    {
     "name": "stdout",
     "output_type": "stream",
     "text": [
      "Training until validation scores don't improve for 100 rounds\n",
      "[50]\tvalid_0's auc: 0.886738\n",
      "[100]\tvalid_0's auc: 0.893329\n",
      "[150]\tvalid_0's auc: 0.896108\n",
      "[200]\tvalid_0's auc: 0.898725\n",
      "[250]\tvalid_0's auc: 0.900669\n",
      "[300]\tvalid_0's auc: 0.901988\n",
      "[350]\tvalid_0's auc: 0.902702\n",
      "[400]\tvalid_0's auc: 0.903357\n",
      "[450]\tvalid_0's auc: 0.903907\n",
      "[500]\tvalid_0's auc: 0.904393\n",
      "[550]\tvalid_0's auc: 0.904764\n",
      "[600]\tvalid_0's auc: 0.90527\n",
      "[650]\tvalid_0's auc: 0.905515\n",
      "[700]\tvalid_0's auc: 0.905797\n",
      "[750]\tvalid_0's auc: 0.906002\n",
      "[800]\tvalid_0's auc: 0.906245\n",
      "[850]\tvalid_0's auc: 0.906419\n",
      "[900]\tvalid_0's auc: 0.906521\n",
      "[950]\tvalid_0's auc: 0.906686\n",
      "[1000]\tvalid_0's auc: 0.906754\n",
      "[1050]\tvalid_0's auc: 0.906861\n"
     ]
    },
    {
     "name": "stderr",
     "output_type": "stream",
     "text": [
      "regularization_factors, val_score: 0.907030:  30%|###########4                          | 6/20 [00:14<00:27,  1.94s/it]"
     ]
    },
    {
     "name": "stdout",
     "output_type": "stream",
     "text": [
      "[1100]\tvalid_0's auc: 0.906921\n",
      "[1150]\tvalid_0's auc: 0.906744\n",
      "Early stopping, best iteration is:\n",
      "[1093]\tvalid_0's auc: 0.90695\n"
     ]
    },
    {
     "name": "stderr",
     "output_type": "stream",
     "text": [
      "regularization_factors, val_score: 0.907030:  35%|#############3                        | 7/20 [00:14<00:26,  2.03s/it]C:\\Python39\\lib\\site-packages\\lightgbm\\engine.py:181: UserWarning: 'early_stopping_rounds' argument is deprecated and will be removed in a future release of LightGBM. Pass 'early_stopping()' callback via 'callbacks' argument instead.\n",
      "  _log_warning(\"'early_stopping_rounds' argument is deprecated and will be removed in a future release of LightGBM. \"\n",
      "C:\\Python39\\lib\\site-packages\\lightgbm\\engine.py:239: UserWarning: 'verbose_eval' argument is deprecated and will be removed in a future release of LightGBM. Pass 'log_evaluation()' callback via 'callbacks' argument instead.\n",
      "  _log_warning(\"'verbose_eval' argument is deprecated and will be removed in a future release of LightGBM. \"\n"
     ]
    },
    {
     "name": "stdout",
     "output_type": "stream",
     "text": [
      "Training until validation scores don't improve for 100 rounds\n",
      "[50]\tvalid_0's auc: 0.886771\n",
      "[100]\tvalid_0's auc: 0.893384\n",
      "[150]\tvalid_0's auc: 0.896087\n",
      "[200]\tvalid_0's auc: 0.898815\n",
      "[250]\tvalid_0's auc: 0.900646\n",
      "[300]\tvalid_0's auc: 0.901902\n",
      "[350]\tvalid_0's auc: 0.90279\n",
      "[400]\tvalid_0's auc: 0.903529\n",
      "[450]\tvalid_0's auc: 0.9041\n",
      "[500]\tvalid_0's auc: 0.904558\n",
      "[550]\tvalid_0's auc: 0.904825\n",
      "[600]\tvalid_0's auc: 0.905316\n",
      "[650]\tvalid_0's auc: 0.905533\n",
      "[700]\tvalid_0's auc: 0.905866\n",
      "[750]\tvalid_0's auc: 0.906039\n",
      "[800]\tvalid_0's auc: 0.90618\n",
      "[850]\tvalid_0's auc: 0.906384\n",
      "[900]\tvalid_0's auc: 0.906517\n",
      "[950]\tvalid_0's auc: 0.906644\n",
      "[1000]\tvalid_0's auc: 0.906789\n",
      "[1050]\tvalid_0's auc: 0.906892\n",
      "[1100]\tvalid_0's auc: 0.906992\n",
      "[1150]\tvalid_0's auc: 0.906847\n",
      "Early stopping, best iteration is:\n",
      "[1093]\tvalid_0's auc: 0.90703\n"
     ]
    },
    {
     "name": "stderr",
     "output_type": "stream",
     "text": [
      "regularization_factors, val_score: 0.907030:  40%|###############2                      | 8/20 [00:16<00:24,  2.04s/it]C:\\Python39\\lib\\site-packages\\lightgbm\\engine.py:181: UserWarning: 'early_stopping_rounds' argument is deprecated and will be removed in a future release of LightGBM. Pass 'early_stopping()' callback via 'callbacks' argument instead.\n",
      "  _log_warning(\"'early_stopping_rounds' argument is deprecated and will be removed in a future release of LightGBM. \"\n",
      "C:\\Python39\\lib\\site-packages\\lightgbm\\engine.py:239: UserWarning: 'verbose_eval' argument is deprecated and will be removed in a future release of LightGBM. Pass 'log_evaluation()' callback via 'callbacks' argument instead.\n",
      "  _log_warning(\"'verbose_eval' argument is deprecated and will be removed in a future release of LightGBM. \"\n"
     ]
    },
    {
     "name": "stdout",
     "output_type": "stream",
     "text": [
      "Training until validation scores don't improve for 100 rounds\n",
      "[50]\tvalid_0's auc: 0.886778\n",
      "[100]\tvalid_0's auc: 0.893297\n",
      "[150]\tvalid_0's auc: 0.896264\n",
      "[200]\tvalid_0's auc: 0.898643\n",
      "[250]\tvalid_0's auc: 0.900535\n",
      "[300]\tvalid_0's auc: 0.901944\n",
      "[350]\tvalid_0's auc: 0.902893\n",
      "[400]\tvalid_0's auc: 0.903522\n",
      "[450]\tvalid_0's auc: 0.90412\n",
      "[500]\tvalid_0's auc: 0.904568\n",
      "[550]\tvalid_0's auc: 0.904968\n",
      "[600]\tvalid_0's auc: 0.905433\n",
      "[650]\tvalid_0's auc: 0.905649\n",
      "[700]\tvalid_0's auc: 0.905941\n",
      "[750]\tvalid_0's auc: 0.906135\n",
      "[800]\tvalid_0's auc: 0.906281\n",
      "[850]\tvalid_0's auc: 0.906461\n",
      "[900]\tvalid_0's auc: 0.90664\n",
      "[950]\tvalid_0's auc: 0.906745\n",
      "[1000]\tvalid_0's auc: 0.906886\n"
     ]
    },
    {
     "name": "stderr",
     "output_type": "stream",
     "text": [
      "regularization_factors, val_score: 0.907030:  45%|#################1                    | 9/20 [00:17<00:21,  1.96s/it]"
     ]
    },
    {
     "name": "stdout",
     "output_type": "stream",
     "text": [
      "[1050]\tvalid_0's auc: 0.906947\n",
      "[1100]\tvalid_0's auc: 0.90692\n",
      "Early stopping, best iteration is:\n",
      "[1038]\tvalid_0's auc: 0.907026\n"
     ]
    },
    {
     "name": "stderr",
     "output_type": "stream",
     "text": [
      "C:\\Python39\\lib\\site-packages\\lightgbm\\engine.py:181: UserWarning: 'early_stopping_rounds' argument is deprecated and will be removed in a future release of LightGBM. Pass 'early_stopping()' callback via 'callbacks' argument instead.\n",
      "  _log_warning(\"'early_stopping_rounds' argument is deprecated and will be removed in a future release of LightGBM. \"\n",
      "C:\\Python39\\lib\\site-packages\\lightgbm\\engine.py:239: UserWarning: 'verbose_eval' argument is deprecated and will be removed in a future release of LightGBM. Pass 'log_evaluation()' callback via 'callbacks' argument instead.\n",
      "  _log_warning(\"'verbose_eval' argument is deprecated and will be removed in a future release of LightGBM. \"\n"
     ]
    },
    {
     "name": "stdout",
     "output_type": "stream",
     "text": [
      "Training until validation scores don't improve for 100 rounds\n",
      "[50]\tvalid_0's auc: 0.886772\n",
      "[100]\tvalid_0's auc: 0.893283\n",
      "[150]\tvalid_0's auc: 0.896163\n",
      "[200]\tvalid_0's auc: 0.898805\n",
      "[250]\tvalid_0's auc: 0.900574\n",
      "[300]\tvalid_0's auc: 0.901961\n",
      "[350]\tvalid_0's auc: 0.902782\n",
      "[400]\tvalid_0's auc: 0.903425\n",
      "[450]\tvalid_0's auc: 0.90407\n",
      "[500]\tvalid_0's auc: 0.904551\n",
      "[550]\tvalid_0's auc: 0.904897\n",
      "[600]\tvalid_0's auc: 0.905377\n",
      "[650]\tvalid_0's auc: 0.905637\n",
      "[700]\tvalid_0's auc: 0.905924\n",
      "[750]\tvalid_0's auc: 0.90614\n",
      "[800]\tvalid_0's auc: 0.906277\n",
      "[850]\tvalid_0's auc: 0.906459\n",
      "[900]\tvalid_0's auc: 0.906623\n",
      "[950]\tvalid_0's auc: 0.906707\n",
      "[1000]\tvalid_0's auc: 0.906779\n",
      "[1050]\tvalid_0's auc: 0.906846\n",
      "[1100]\tvalid_0's auc: 0.90689\n",
      "[1150]\tvalid_0's auc: 0.906738\n",
      "Early stopping, best iteration is:\n",
      "[1094]\tvalid_0's auc: 0.906935\n"
     ]
    },
    {
     "name": "stderr",
     "output_type": "stream",
     "text": [
      "regularization_factors, val_score: 0.907030:  50%|##################5                  | 10/20 [00:20<00:20,  2.06s/it]C:\\Python39\\lib\\site-packages\\lightgbm\\engine.py:181: UserWarning: 'early_stopping_rounds' argument is deprecated and will be removed in a future release of LightGBM. Pass 'early_stopping()' callback via 'callbacks' argument instead.\n",
      "  _log_warning(\"'early_stopping_rounds' argument is deprecated and will be removed in a future release of LightGBM. \"\n",
      "C:\\Python39\\lib\\site-packages\\lightgbm\\engine.py:239: UserWarning: 'verbose_eval' argument is deprecated and will be removed in a future release of LightGBM. Pass 'log_evaluation()' callback via 'callbacks' argument instead.\n",
      "  _log_warning(\"'verbose_eval' argument is deprecated and will be removed in a future release of LightGBM. \"\n"
     ]
    },
    {
     "name": "stdout",
     "output_type": "stream",
     "text": [
      "Training until validation scores don't improve for 100 rounds\n",
      "[50]\tvalid_0's auc: 0.88674\n",
      "[100]\tvalid_0's auc: 0.893478\n",
      "[150]\tvalid_0's auc: 0.896124\n",
      "[200]\tvalid_0's auc: 0.898383\n",
      "[250]\tvalid_0's auc: 0.90025\n",
      "[300]\tvalid_0's auc: 0.901709\n",
      "[350]\tvalid_0's auc: 0.902525\n",
      "[400]\tvalid_0's auc: 0.903188\n",
      "[450]\tvalid_0's auc: 0.90379\n",
      "[500]\tvalid_0's auc: 0.904248\n",
      "[550]\tvalid_0's auc: 0.904601\n",
      "[600]\tvalid_0's auc: 0.90502\n",
      "[650]\tvalid_0's auc: 0.905345\n",
      "[700]\tvalid_0's auc: 0.905615\n",
      "[750]\tvalid_0's auc: 0.905883\n",
      "[800]\tvalid_0's auc: 0.905972\n",
      "[850]\tvalid_0's auc: 0.906126\n",
      "[900]\tvalid_0's auc: 0.906314\n",
      "[950]\tvalid_0's auc: 0.906411\n",
      "[1000]\tvalid_0's auc: 0.90666\n",
      "[1050]\tvalid_0's auc: 0.906761\n"
     ]
    },
    {
     "name": "stderr",
     "output_type": "stream",
     "text": [
      "regularization_factors, val_score: 0.907030:  55%|####################3                | 11/20 [00:22<00:18,  2.09s/it]"
     ]
    },
    {
     "name": "stdout",
     "output_type": "stream",
     "text": [
      "[1100]\tvalid_0's auc: 0.906712\n",
      "[1150]\tvalid_0's auc: 0.906574\n",
      "Early stopping, best iteration is:\n",
      "[1082]\tvalid_0's auc: 0.90678\n"
     ]
    },
    {
     "name": "stderr",
     "output_type": "stream",
     "text": [
      "C:\\Python39\\lib\\site-packages\\lightgbm\\engine.py:181: UserWarning: 'early_stopping_rounds' argument is deprecated and will be removed in a future release of LightGBM. Pass 'early_stopping()' callback via 'callbacks' argument instead.\n",
      "  _log_warning(\"'early_stopping_rounds' argument is deprecated and will be removed in a future release of LightGBM. \"\n",
      "C:\\Python39\\lib\\site-packages\\lightgbm\\engine.py:239: UserWarning: 'verbose_eval' argument is deprecated and will be removed in a future release of LightGBM. Pass 'log_evaluation()' callback via 'callbacks' argument instead.\n",
      "  _log_warning(\"'verbose_eval' argument is deprecated and will be removed in a future release of LightGBM. \"\n"
     ]
    },
    {
     "name": "stdout",
     "output_type": "stream",
     "text": [
      "Training until validation scores don't improve for 100 rounds\n",
      "[50]\tvalid_0's auc: 0.886745\n",
      "[100]\tvalid_0's auc: 0.893327\n",
      "[150]\tvalid_0's auc: 0.896111\n",
      "[200]\tvalid_0's auc: 0.898721\n",
      "[250]\tvalid_0's auc: 0.900671\n",
      "[300]\tvalid_0's auc: 0.902031\n",
      "[350]\tvalid_0's auc: 0.902812\n",
      "[400]\tvalid_0's auc: 0.903416\n",
      "[450]\tvalid_0's auc: 0.904044\n",
      "[500]\tvalid_0's auc: 0.904555\n",
      "[550]\tvalid_0's auc: 0.904863\n",
      "[600]\tvalid_0's auc: 0.905311\n",
      "[650]\tvalid_0's auc: 0.905574\n",
      "[700]\tvalid_0's auc: 0.9059\n",
      "[750]\tvalid_0's auc: 0.906112\n",
      "[800]\tvalid_0's auc: 0.906272\n",
      "[850]\tvalid_0's auc: 0.906388\n",
      "[900]\tvalid_0's auc: 0.906511\n",
      "[950]\tvalid_0's auc: 0.906707\n",
      "[1000]\tvalid_0's auc: 0.906847\n",
      "[1050]\tvalid_0's auc: 0.90697\n",
      "[1100]\tvalid_0's auc: 0.907076\n",
      "[1150]\tvalid_0's auc: 0.906925\n",
      "Early stopping, best iteration is:\n",
      "[1093]\tvalid_0's auc: 0.907114\n"
     ]
    },
    {
     "name": "stderr",
     "output_type": "stream",
     "text": [
      "regularization_factors, val_score: 0.907114:  60%|######################2              | 12/20 [00:24<00:16,  2.04s/it]C:\\Python39\\lib\\site-packages\\lightgbm\\engine.py:181: UserWarning: 'early_stopping_rounds' argument is deprecated and will be removed in a future release of LightGBM. Pass 'early_stopping()' callback via 'callbacks' argument instead.\n",
      "  _log_warning(\"'early_stopping_rounds' argument is deprecated and will be removed in a future release of LightGBM. \"\n",
      "C:\\Python39\\lib\\site-packages\\lightgbm\\engine.py:239: UserWarning: 'verbose_eval' argument is deprecated and will be removed in a future release of LightGBM. Pass 'log_evaluation()' callback via 'callbacks' argument instead.\n",
      "  _log_warning(\"'verbose_eval' argument is deprecated and will be removed in a future release of LightGBM. \"\n"
     ]
    },
    {
     "name": "stdout",
     "output_type": "stream",
     "text": [
      "Training until validation scores don't improve for 100 rounds\n",
      "[50]\tvalid_0's auc: 0.886736\n",
      "[100]\tvalid_0's auc: 0.893329\n",
      "[150]\tvalid_0's auc: 0.896111\n",
      "[200]\tvalid_0's auc: 0.898727\n",
      "[250]\tvalid_0's auc: 0.900674\n",
      "[300]\tvalid_0's auc: 0.902021\n",
      "[350]\tvalid_0's auc: 0.902779\n",
      "[400]\tvalid_0's auc: 0.903411\n",
      "[450]\tvalid_0's auc: 0.904006\n",
      "[500]\tvalid_0's auc: 0.904548\n",
      "[550]\tvalid_0's auc: 0.904865\n",
      "[600]\tvalid_0's auc: 0.905345\n",
      "[650]\tvalid_0's auc: 0.905644\n",
      "[700]\tvalid_0's auc: 0.905919\n",
      "[750]\tvalid_0's auc: 0.906102\n",
      "[800]\tvalid_0's auc: 0.906204\n",
      "[850]\tvalid_0's auc: 0.906325\n",
      "[900]\tvalid_0's auc: 0.906489\n",
      "[950]\tvalid_0's auc: 0.906634\n",
      "[1000]\tvalid_0's auc: 0.906776\n",
      "[1050]\tvalid_0's auc: 0.906882\n"
     ]
    },
    {
     "name": "stderr",
     "output_type": "stream",
     "text": [
      "regularization_factors, val_score: 0.907114:  65%|########################             | 13/20 [00:26<00:13,  1.97s/it]"
     ]
    },
    {
     "name": "stdout",
     "output_type": "stream",
     "text": [
      "[1100]\tvalid_0's auc: 0.906939\n",
      "[1150]\tvalid_0's auc: 0.906866\n",
      "Early stopping, best iteration is:\n",
      "[1094]\tvalid_0's auc: 0.906977\n"
     ]
    },
    {
     "name": "stderr",
     "output_type": "stream",
     "text": [
      "C:\\Python39\\lib\\site-packages\\lightgbm\\engine.py:181: UserWarning: 'early_stopping_rounds' argument is deprecated and will be removed in a future release of LightGBM. Pass 'early_stopping()' callback via 'callbacks' argument instead.\n",
      "  _log_warning(\"'early_stopping_rounds' argument is deprecated and will be removed in a future release of LightGBM. \"\n",
      "C:\\Python39\\lib\\site-packages\\lightgbm\\engine.py:239: UserWarning: 'verbose_eval' argument is deprecated and will be removed in a future release of LightGBM. Pass 'log_evaluation()' callback via 'callbacks' argument instead.\n",
      "  _log_warning(\"'verbose_eval' argument is deprecated and will be removed in a future release of LightGBM. \"\n"
     ]
    },
    {
     "name": "stdout",
     "output_type": "stream",
     "text": [
      "Training until validation scores don't improve for 100 rounds\n",
      "[50]\tvalid_0's auc: 0.886738\n",
      "[100]\tvalid_0's auc: 0.893333\n",
      "[150]\tvalid_0's auc: 0.896112\n",
      "[200]\tvalid_0's auc: 0.898728\n",
      "[250]\tvalid_0's auc: 0.900674\n",
      "[300]\tvalid_0's auc: 0.902033\n",
      "[350]\tvalid_0's auc: 0.90279\n",
      "[400]\tvalid_0's auc: 0.90341\n",
      "[450]\tvalid_0's auc: 0.903934\n",
      "[500]\tvalid_0's auc: 0.904452\n",
      "[550]\tvalid_0's auc: 0.904827\n",
      "[600]\tvalid_0's auc: 0.905282\n",
      "[650]\tvalid_0's auc: 0.905496\n",
      "[700]\tvalid_0's auc: 0.905865\n",
      "[750]\tvalid_0's auc: 0.906059\n",
      "[800]\tvalid_0's auc: 0.906255\n",
      "[850]\tvalid_0's auc: 0.906419\n",
      "[900]\tvalid_0's auc: 0.906526\n",
      "[950]\tvalid_0's auc: 0.906598\n",
      "[1000]\tvalid_0's auc: 0.906709\n",
      "[1050]\tvalid_0's auc: 0.906857\n",
      "[1100]\tvalid_0's auc: 0.906907\n",
      "[1150]\tvalid_0's auc: 0.906755\n"
     ]
    },
    {
     "name": "stderr",
     "output_type": "stream",
     "text": [
      "regularization_factors, val_score: 0.907114:  70%|#########################9           | 14/20 [00:28<00:12,  2.00s/it]"
     ]
    },
    {
     "name": "stdout",
     "output_type": "stream",
     "text": [
      "Early stopping, best iteration is:\n",
      "[1097]\tvalid_0's auc: 0.906927\n",
      "Training until validation scores don't improve for 100 rounds\n"
     ]
    },
    {
     "name": "stderr",
     "output_type": "stream",
     "text": [
      "C:\\Python39\\lib\\site-packages\\lightgbm\\engine.py:181: UserWarning: 'early_stopping_rounds' argument is deprecated and will be removed in a future release of LightGBM. Pass 'early_stopping()' callback via 'callbacks' argument instead.\n",
      "  _log_warning(\"'early_stopping_rounds' argument is deprecated and will be removed in a future release of LightGBM. \"\n",
      "C:\\Python39\\lib\\site-packages\\lightgbm\\engine.py:239: UserWarning: 'verbose_eval' argument is deprecated and will be removed in a future release of LightGBM. Pass 'log_evaluation()' callback via 'callbacks' argument instead.\n",
      "  _log_warning(\"'verbose_eval' argument is deprecated and will be removed in a future release of LightGBM. \"\n"
     ]
    },
    {
     "name": "stdout",
     "output_type": "stream",
     "text": [
      "[50]\tvalid_0's auc: 0.88676\n",
      "[100]\tvalid_0's auc: 0.893273\n",
      "[150]\tvalid_0's auc: 0.89614\n",
      "[200]\tvalid_0's auc: 0.898713\n",
      "[250]\tvalid_0's auc: 0.900474\n",
      "[300]\tvalid_0's auc: 0.90192\n",
      "[350]\tvalid_0's auc: 0.902823\n",
      "[400]\tvalid_0's auc: 0.903541\n",
      "[450]\tvalid_0's auc: 0.904003\n",
      "[500]\tvalid_0's auc: 0.904465\n",
      "[550]\tvalid_0's auc: 0.904845\n",
      "[600]\tvalid_0's auc: 0.90534\n",
      "[650]\tvalid_0's auc: 0.905556\n",
      "[700]\tvalid_0's auc: 0.905882\n",
      "[750]\tvalid_0's auc: 0.906058\n",
      "[800]\tvalid_0's auc: 0.906193\n",
      "[850]\tvalid_0's auc: 0.906433\n",
      "[900]\tvalid_0's auc: 0.906528\n",
      "[950]\tvalid_0's auc: 0.906689\n",
      "[1000]\tvalid_0's auc: 0.906836\n",
      "[1050]\tvalid_0's auc: 0.90689\n",
      "[1100]\tvalid_0's auc: 0.906912\n"
     ]
    },
    {
     "name": "stderr",
     "output_type": "stream",
     "text": [
      "regularization_factors, val_score: 0.907114:  75%|###########################7         | 15/20 [00:30<00:10,  2.01s/it]"
     ]
    },
    {
     "name": "stdout",
     "output_type": "stream",
     "text": [
      "[1150]\tvalid_0's auc: 0.906828\n",
      "Early stopping, best iteration is:\n",
      "[1083]\tvalid_0's auc: 0.90695\n"
     ]
    },
    {
     "name": "stderr",
     "output_type": "stream",
     "text": [
      "C:\\Python39\\lib\\site-packages\\lightgbm\\engine.py:181: UserWarning: 'early_stopping_rounds' argument is deprecated and will be removed in a future release of LightGBM. Pass 'early_stopping()' callback via 'callbacks' argument instead.\n",
      "  _log_warning(\"'early_stopping_rounds' argument is deprecated and will be removed in a future release of LightGBM. \"\n",
      "C:\\Python39\\lib\\site-packages\\lightgbm\\engine.py:239: UserWarning: 'verbose_eval' argument is deprecated and will be removed in a future release of LightGBM. Pass 'log_evaluation()' callback via 'callbacks' argument instead.\n",
      "  _log_warning(\"'verbose_eval' argument is deprecated and will be removed in a future release of LightGBM. \"\n"
     ]
    },
    {
     "name": "stdout",
     "output_type": "stream",
     "text": [
      "Training until validation scores don't improve for 100 rounds\n",
      "[50]\tvalid_0's auc: 0.886738\n",
      "[100]\tvalid_0's auc: 0.893329\n",
      "[150]\tvalid_0's auc: 0.896115\n",
      "[200]\tvalid_0's auc: 0.89873\n",
      "[250]\tvalid_0's auc: 0.900674\n",
      "[300]\tvalid_0's auc: 0.902036\n",
      "[350]\tvalid_0's auc: 0.902788\n",
      "[400]\tvalid_0's auc: 0.903436\n",
      "[450]\tvalid_0's auc: 0.903993\n",
      "[500]\tvalid_0's auc: 0.904487\n",
      "[550]\tvalid_0's auc: 0.904821\n",
      "[600]\tvalid_0's auc: 0.905276\n",
      "[650]\tvalid_0's auc: 0.905584\n",
      "[700]\tvalid_0's auc: 0.905912\n",
      "[750]\tvalid_0's auc: 0.906094\n",
      "[800]\tvalid_0's auc: 0.906298\n",
      "[850]\tvalid_0's auc: 0.906454\n",
      "[900]\tvalid_0's auc: 0.906575\n",
      "[950]\tvalid_0's auc: 0.906628\n",
      "[1000]\tvalid_0's auc: 0.90679\n",
      "[1050]\tvalid_0's auc: 0.906953\n",
      "[1100]\tvalid_0's auc: 0.907015\n",
      "[1150]\tvalid_0's auc: 0.906894\n"
     ]
    },
    {
     "name": "stderr",
     "output_type": "stream",
     "text": [
      "regularization_factors, val_score: 0.907114:  80%|#############################6       | 16/20 [00:32<00:08,  2.05s/it]"
     ]
    },
    {
     "name": "stdout",
     "output_type": "stream",
     "text": [
      "Early stopping, best iteration is:\n",
      "[1098]\tvalid_0's auc: 0.90703\n",
      "Training until validation scores don't improve for 100 rounds\n"
     ]
    },
    {
     "name": "stderr",
     "output_type": "stream",
     "text": [
      "C:\\Python39\\lib\\site-packages\\lightgbm\\engine.py:181: UserWarning: 'early_stopping_rounds' argument is deprecated and will be removed in a future release of LightGBM. Pass 'early_stopping()' callback via 'callbacks' argument instead.\n",
      "  _log_warning(\"'early_stopping_rounds' argument is deprecated and will be removed in a future release of LightGBM. \"\n",
      "C:\\Python39\\lib\\site-packages\\lightgbm\\engine.py:239: UserWarning: 'verbose_eval' argument is deprecated and will be removed in a future release of LightGBM. Pass 'log_evaluation()' callback via 'callbacks' argument instead.\n",
      "  _log_warning(\"'verbose_eval' argument is deprecated and will be removed in a future release of LightGBM. \"\n"
     ]
    },
    {
     "name": "stdout",
     "output_type": "stream",
     "text": [
      "[50]\tvalid_0's auc: 0.886679\n",
      "[100]\tvalid_0's auc: 0.893242\n",
      "[150]\tvalid_0's auc: 0.896187\n",
      "[200]\tvalid_0's auc: 0.898775\n",
      "[250]\tvalid_0's auc: 0.900378\n",
      "[300]\tvalid_0's auc: 0.901753\n",
      "[350]\tvalid_0's auc: 0.902672\n",
      "[400]\tvalid_0's auc: 0.903349\n",
      "[450]\tvalid_0's auc: 0.903924\n",
      "[500]\tvalid_0's auc: 0.904384\n",
      "[550]\tvalid_0's auc: 0.904733\n",
      "[600]\tvalid_0's auc: 0.905194\n",
      "[650]\tvalid_0's auc: 0.905467\n",
      "[700]\tvalid_0's auc: 0.905765\n",
      "[750]\tvalid_0's auc: 0.906025\n",
      "[800]\tvalid_0's auc: 0.906202\n",
      "[850]\tvalid_0's auc: 0.906354\n",
      "[900]\tvalid_0's auc: 0.906466\n",
      "[950]\tvalid_0's auc: 0.906597\n",
      "[1000]\tvalid_0's auc: 0.906682\n",
      "[1050]\tvalid_0's auc: 0.906721\n",
      "[1100]\tvalid_0's auc: 0.906734\n",
      "[1150]\tvalid_0's auc: 0.906665\n",
      "Early stopping, best iteration is:\n",
      "[1093]\tvalid_0's auc: 0.906816\n"
     ]
    },
    {
     "name": "stderr",
     "output_type": "stream",
     "text": [
      "regularization_factors, val_score: 0.907114:  85%|###############################4     | 17/20 [00:34<00:05,  1.99s/it]C:\\Python39\\lib\\site-packages\\lightgbm\\engine.py:181: UserWarning: 'early_stopping_rounds' argument is deprecated and will be removed in a future release of LightGBM. Pass 'early_stopping()' callback via 'callbacks' argument instead.\n",
      "  _log_warning(\"'early_stopping_rounds' argument is deprecated and will be removed in a future release of LightGBM. \"\n",
      "C:\\Python39\\lib\\site-packages\\lightgbm\\engine.py:239: UserWarning: 'verbose_eval' argument is deprecated and will be removed in a future release of LightGBM. Pass 'log_evaluation()' callback via 'callbacks' argument instead.\n",
      "  _log_warning(\"'verbose_eval' argument is deprecated and will be removed in a future release of LightGBM. \"\n"
     ]
    },
    {
     "name": "stdout",
     "output_type": "stream",
     "text": [
      "Training until validation scores don't improve for 100 rounds\n",
      "[50]\tvalid_0's auc: 0.886738\n",
      "[100]\tvalid_0's auc: 0.893333\n",
      "[150]\tvalid_0's auc: 0.896112\n",
      "[200]\tvalid_0's auc: 0.898728\n",
      "[250]\tvalid_0's auc: 0.900673\n",
      "[300]\tvalid_0's auc: 0.902036\n",
      "[350]\tvalid_0's auc: 0.902787\n",
      "[400]\tvalid_0's auc: 0.903418\n",
      "[450]\tvalid_0's auc: 0.903978\n",
      "[500]\tvalid_0's auc: 0.904459\n",
      "[550]\tvalid_0's auc: 0.904763\n",
      "[600]\tvalid_0's auc: 0.905257\n",
      "[650]\tvalid_0's auc: 0.905486\n",
      "[700]\tvalid_0's auc: 0.905834\n",
      "[750]\tvalid_0's auc: 0.90606\n",
      "[800]\tvalid_0's auc: 0.906238\n",
      "[850]\tvalid_0's auc: 0.906411\n",
      "[900]\tvalid_0's auc: 0.90652\n",
      "[950]\tvalid_0's auc: 0.906598\n",
      "[1000]\tvalid_0's auc: 0.90675\n",
      "[1050]\tvalid_0's auc: 0.906849\n",
      "[1100]\tvalid_0's auc: 0.906923\n"
     ]
    },
    {
     "name": "stderr",
     "output_type": "stream",
     "text": [
      "regularization_factors, val_score: 0.907114:  90%|#################################3   | 18/20 [00:36<00:03,  1.94s/it]"
     ]
    },
    {
     "name": "stdout",
     "output_type": "stream",
     "text": [
      "[1150]\tvalid_0's auc: 0.906809\n",
      "Early stopping, best iteration is:\n",
      "[1093]\tvalid_0's auc: 0.906957\n",
      "Training until validation scores don't improve for 100 rounds\n"
     ]
    },
    {
     "name": "stderr",
     "output_type": "stream",
     "text": [
      "C:\\Python39\\lib\\site-packages\\lightgbm\\engine.py:181: UserWarning: 'early_stopping_rounds' argument is deprecated and will be removed in a future release of LightGBM. Pass 'early_stopping()' callback via 'callbacks' argument instead.\n",
      "  _log_warning(\"'early_stopping_rounds' argument is deprecated and will be removed in a future release of LightGBM. \"\n",
      "C:\\Python39\\lib\\site-packages\\lightgbm\\engine.py:239: UserWarning: 'verbose_eval' argument is deprecated and will be removed in a future release of LightGBM. Pass 'log_evaluation()' callback via 'callbacks' argument instead.\n",
      "  _log_warning(\"'verbose_eval' argument is deprecated and will be removed in a future release of LightGBM. \"\n"
     ]
    },
    {
     "name": "stdout",
     "output_type": "stream",
     "text": [
      "[50]\tvalid_0's auc: 0.886738\n",
      "[100]\tvalid_0's auc: 0.893329\n",
      "[150]\tvalid_0's auc: 0.896108\n",
      "[200]\tvalid_0's auc: 0.898725\n",
      "[250]\tvalid_0's auc: 0.900668\n",
      "[300]\tvalid_0's auc: 0.902037\n",
      "[350]\tvalid_0's auc: 0.902811\n",
      "[400]\tvalid_0's auc: 0.903406\n",
      "[450]\tvalid_0's auc: 0.903913\n",
      "[500]\tvalid_0's auc: 0.904393\n",
      "[550]\tvalid_0's auc: 0.904784\n",
      "[600]\tvalid_0's auc: 0.90526\n",
      "[650]\tvalid_0's auc: 0.90548\n",
      "[700]\tvalid_0's auc: 0.905865\n",
      "[750]\tvalid_0's auc: 0.906063\n",
      "[800]\tvalid_0's auc: 0.906245\n",
      "[850]\tvalid_0's auc: 0.906401\n",
      "[900]\tvalid_0's auc: 0.906513\n",
      "[950]\tvalid_0's auc: 0.906699\n",
      "[1000]\tvalid_0's auc: 0.90683\n",
      "[1050]\tvalid_0's auc: 0.906922\n",
      "[1100]\tvalid_0's auc: 0.906964\n"
     ]
    },
    {
     "name": "stderr",
     "output_type": "stream",
     "text": [
      "regularization_factors, val_score: 0.907114:  95%|###################################1 | 19/20 [00:37<00:01,  1.90s/it]"
     ]
    },
    {
     "name": "stdout",
     "output_type": "stream",
     "text": [
      "[1150]\tvalid_0's auc: 0.906799\n",
      "Early stopping, best iteration is:\n",
      "[1080]\tvalid_0's auc: 0.906982\n",
      "Training until validation scores don't improve for 100 rounds\n"
     ]
    },
    {
     "name": "stderr",
     "output_type": "stream",
     "text": [
      "C:\\Python39\\lib\\site-packages\\lightgbm\\engine.py:181: UserWarning: 'early_stopping_rounds' argument is deprecated and will be removed in a future release of LightGBM. Pass 'early_stopping()' callback via 'callbacks' argument instead.\n",
      "  _log_warning(\"'early_stopping_rounds' argument is deprecated and will be removed in a future release of LightGBM. \"\n",
      "C:\\Python39\\lib\\site-packages\\lightgbm\\engine.py:239: UserWarning: 'verbose_eval' argument is deprecated and will be removed in a future release of LightGBM. Pass 'log_evaluation()' callback via 'callbacks' argument instead.\n",
      "  _log_warning(\"'verbose_eval' argument is deprecated and will be removed in a future release of LightGBM. \"\n"
     ]
    },
    {
     "name": "stdout",
     "output_type": "stream",
     "text": [
      "[50]\tvalid_0's auc: 0.886767\n",
      "[100]\tvalid_0's auc: 0.893436\n",
      "[150]\tvalid_0's auc: 0.896222\n",
      "[200]\tvalid_0's auc: 0.89844\n",
      "[250]\tvalid_0's auc: 0.90024\n",
      "[300]\tvalid_0's auc: 0.901577\n",
      "[350]\tvalid_0's auc: 0.902352\n",
      "[400]\tvalid_0's auc: 0.903001\n",
      "[450]\tvalid_0's auc: 0.903685\n",
      "[500]\tvalid_0's auc: 0.904152\n",
      "[550]\tvalid_0's auc: 0.904501\n",
      "[600]\tvalid_0's auc: 0.90485\n",
      "[650]\tvalid_0's auc: 0.905162\n",
      "[700]\tvalid_0's auc: 0.905477\n",
      "[750]\tvalid_0's auc: 0.905739\n",
      "[800]\tvalid_0's auc: 0.905899\n",
      "[850]\tvalid_0's auc: 0.906017\n",
      "[900]\tvalid_0's auc: 0.906117\n",
      "[950]\tvalid_0's auc: 0.906224\n",
      "[1000]\tvalid_0's auc: 0.906428\n",
      "[1050]\tvalid_0's auc: 0.906529\n",
      "[1100]\tvalid_0's auc: 0.906516\n",
      "[1150]\tvalid_0's auc: 0.906483\n",
      "Early stopping, best iteration is:\n",
      "[1082]\tvalid_0's auc: 0.906579\n"
     ]
    },
    {
     "name": "stderr",
     "output_type": "stream",
     "text": [
      "regularization_factors, val_score: 0.907114: 100%|#####################################| 20/20 [00:39<00:00,  1.99s/it]\n",
      "min_data_in_leaf, val_score: 0.907114:   0%|                                                     | 0/5 [00:00<?, ?it/s]C:\\Python39\\lib\\site-packages\\lightgbm\\engine.py:181: UserWarning: 'early_stopping_rounds' argument is deprecated and will be removed in a future release of LightGBM. Pass 'early_stopping()' callback via 'callbacks' argument instead.\n",
      "  _log_warning(\"'early_stopping_rounds' argument is deprecated and will be removed in a future release of LightGBM. \"\n",
      "C:\\Python39\\lib\\site-packages\\lightgbm\\engine.py:239: UserWarning: 'verbose_eval' argument is deprecated and will be removed in a future release of LightGBM. Pass 'log_evaluation()' callback via 'callbacks' argument instead.\n",
      "  _log_warning(\"'verbose_eval' argument is deprecated and will be removed in a future release of LightGBM. \"\n"
     ]
    },
    {
     "name": "stdout",
     "output_type": "stream",
     "text": [
      "Training until validation scores don't improve for 100 rounds\n",
      "[50]\tvalid_0's auc: 0.886759\n",
      "[100]\tvalid_0's auc: 0.89332\n",
      "[150]\tvalid_0's auc: 0.896351\n",
      "[200]\tvalid_0's auc: 0.898861\n",
      "[250]\tvalid_0's auc: 0.900709\n",
      "[300]\tvalid_0's auc: 0.902007\n",
      "[350]\tvalid_0's auc: 0.902785\n",
      "[400]\tvalid_0's auc: 0.903536\n",
      "[450]\tvalid_0's auc: 0.904195\n",
      "[500]\tvalid_0's auc: 0.904602\n",
      "[550]\tvalid_0's auc: 0.905012\n",
      "[600]\tvalid_0's auc: 0.905499\n",
      "[650]\tvalid_0's auc: 0.905778\n",
      "[700]\tvalid_0's auc: 0.906061\n",
      "[750]\tvalid_0's auc: 0.906299\n",
      "[800]\tvalid_0's auc: 0.906402\n",
      "[850]\tvalid_0's auc: 0.906656\n",
      "[900]\tvalid_0's auc: 0.906814\n",
      "[950]\tvalid_0's auc: 0.906862\n",
      "[1000]\tvalid_0's auc: 0.907016\n",
      "[1050]\tvalid_0's auc: 0.907105\n",
      "[1100]\tvalid_0's auc: 0.907155\n",
      "[1150]\tvalid_0's auc: 0.907035\n"
     ]
    },
    {
     "name": "stderr",
     "output_type": "stream",
     "text": [
      "min_data_in_leaf, val_score: 0.907169:  20%|#########                                    | 1/5 [00:01<00:07,  1.83s/it]"
     ]
    },
    {
     "name": "stdout",
     "output_type": "stream",
     "text": [
      "Early stopping, best iteration is:\n",
      "[1095]\tvalid_0's auc: 0.907169\n",
      "Training until validation scores don't improve for 100 rounds\n"
     ]
    },
    {
     "name": "stderr",
     "output_type": "stream",
     "text": [
      "C:\\Python39\\lib\\site-packages\\lightgbm\\engine.py:181: UserWarning: 'early_stopping_rounds' argument is deprecated and will be removed in a future release of LightGBM. Pass 'early_stopping()' callback via 'callbacks' argument instead.\n",
      "  _log_warning(\"'early_stopping_rounds' argument is deprecated and will be removed in a future release of LightGBM. \"\n",
      "C:\\Python39\\lib\\site-packages\\lightgbm\\engine.py:239: UserWarning: 'verbose_eval' argument is deprecated and will be removed in a future release of LightGBM. Pass 'log_evaluation()' callback via 'callbacks' argument instead.\n",
      "  _log_warning(\"'verbose_eval' argument is deprecated and will be removed in a future release of LightGBM. \"\n"
     ]
    },
    {
     "name": "stdout",
     "output_type": "stream",
     "text": [
      "[50]\tvalid_0's auc: 0.886745\n",
      "[100]\tvalid_0's auc: 0.893046\n",
      "[150]\tvalid_0's auc: 0.895832\n",
      "[200]\tvalid_0's auc: 0.898624\n",
      "[250]\tvalid_0's auc: 0.900409\n",
      "[300]\tvalid_0's auc: 0.901775\n",
      "[350]\tvalid_0's auc: 0.902707\n",
      "[400]\tvalid_0's auc: 0.903435\n",
      "[450]\tvalid_0's auc: 0.90408\n",
      "[500]\tvalid_0's auc: 0.904552\n",
      "[550]\tvalid_0's auc: 0.904993\n",
      "[600]\tvalid_0's auc: 0.90541\n",
      "[650]\tvalid_0's auc: 0.905763\n",
      "[700]\tvalid_0's auc: 0.906025\n",
      "[750]\tvalid_0's auc: 0.906294\n",
      "[800]\tvalid_0's auc: 0.90649\n",
      "[850]\tvalid_0's auc: 0.906656\n",
      "[900]\tvalid_0's auc: 0.906819\n",
      "[950]\tvalid_0's auc: 0.906917\n",
      "[1000]\tvalid_0's auc: 0.907117\n",
      "[1050]\tvalid_0's auc: 0.90727\n",
      "[1100]\tvalid_0's auc: 0.90732\n",
      "[1150]\tvalid_0's auc: 0.907267\n",
      "Early stopping, best iteration is:\n",
      "[1093]\tvalid_0's auc: 0.907357\n"
     ]
    },
    {
     "name": "stderr",
     "output_type": "stream",
     "text": [
      "min_data_in_leaf, val_score: 0.907357:  40%|##################                           | 2/5 [00:03<00:05,  1.84s/it]C:\\Python39\\lib\\site-packages\\lightgbm\\engine.py:181: UserWarning: 'early_stopping_rounds' argument is deprecated and will be removed in a future release of LightGBM. Pass 'early_stopping()' callback via 'callbacks' argument instead.\n",
      "  _log_warning(\"'early_stopping_rounds' argument is deprecated and will be removed in a future release of LightGBM. \"\n",
      "C:\\Python39\\lib\\site-packages\\lightgbm\\engine.py:239: UserWarning: 'verbose_eval' argument is deprecated and will be removed in a future release of LightGBM. Pass 'log_evaluation()' callback via 'callbacks' argument instead.\n",
      "  _log_warning(\"'verbose_eval' argument is deprecated and will be removed in a future release of LightGBM. \"\n"
     ]
    },
    {
     "name": "stdout",
     "output_type": "stream",
     "text": [
      "Training until validation scores don't improve for 100 rounds\n",
      "[50]\tvalid_0's auc: 0.886761\n",
      "[100]\tvalid_0's auc: 0.89332\n",
      "[150]\tvalid_0's auc: 0.896114\n",
      "[200]\tvalid_0's auc: 0.898789\n",
      "[250]\tvalid_0's auc: 0.900559\n",
      "[300]\tvalid_0's auc: 0.901869\n",
      "[350]\tvalid_0's auc: 0.902835\n",
      "[400]\tvalid_0's auc: 0.903477\n",
      "[450]\tvalid_0's auc: 0.904005\n",
      "[500]\tvalid_0's auc: 0.904508\n",
      "[550]\tvalid_0's auc: 0.904814\n",
      "[600]\tvalid_0's auc: 0.905228\n",
      "[650]\tvalid_0's auc: 0.905492\n",
      "[700]\tvalid_0's auc: 0.905814\n",
      "[750]\tvalid_0's auc: 0.90601\n",
      "[800]\tvalid_0's auc: 0.906207\n",
      "[850]\tvalid_0's auc: 0.906377\n",
      "[900]\tvalid_0's auc: 0.906474\n",
      "[950]\tvalid_0's auc: 0.906505\n",
      "[1000]\tvalid_0's auc: 0.90666\n",
      "[1050]\tvalid_0's auc: 0.906718\n"
     ]
    },
    {
     "name": "stderr",
     "output_type": "stream",
     "text": [
      "min_data_in_leaf, val_score: 0.907357:  40%|##################                           | 2/5 [00:05<00:05,  1.84s/it]"
     ]
    },
    {
     "name": "stdout",
     "output_type": "stream",
     "text": [
      "[1100]\tvalid_0's auc: 0.906904\n",
      "[1150]\tvalid_0's auc: 0.906853\n",
      "Early stopping, best iteration is:\n",
      "[1091]\tvalid_0's auc: 0.906932\n"
     ]
    },
    {
     "name": "stderr",
     "output_type": "stream",
     "text": [
      "min_data_in_leaf, val_score: 0.907357:  60%|###########################                  | 3/5 [00:05<00:03,  1.83s/it]C:\\Python39\\lib\\site-packages\\lightgbm\\engine.py:181: UserWarning: 'early_stopping_rounds' argument is deprecated and will be removed in a future release of LightGBM. Pass 'early_stopping()' callback via 'callbacks' argument instead.\n",
      "  _log_warning(\"'early_stopping_rounds' argument is deprecated and will be removed in a future release of LightGBM. \"\n",
      "C:\\Python39\\lib\\site-packages\\lightgbm\\engine.py:239: UserWarning: 'verbose_eval' argument is deprecated and will be removed in a future release of LightGBM. Pass 'log_evaluation()' callback via 'callbacks' argument instead.\n",
      "  _log_warning(\"'verbose_eval' argument is deprecated and will be removed in a future release of LightGBM. \"\n"
     ]
    },
    {
     "name": "stdout",
     "output_type": "stream",
     "text": [
      "Training until validation scores don't improve for 100 rounds\n",
      "[50]\tvalid_0's auc: 0.886745\n",
      "[100]\tvalid_0's auc: 0.893089\n",
      "[150]\tvalid_0's auc: 0.895816\n",
      "[200]\tvalid_0's auc: 0.898544\n",
      "[250]\tvalid_0's auc: 0.900358\n",
      "[300]\tvalid_0's auc: 0.901615\n",
      "[350]\tvalid_0's auc: 0.902565\n",
      "[400]\tvalid_0's auc: 0.903251\n",
      "[450]\tvalid_0's auc: 0.903837\n",
      "[500]\tvalid_0's auc: 0.904316\n",
      "[550]\tvalid_0's auc: 0.904709\n",
      "[600]\tvalid_0's auc: 0.90526\n",
      "[650]\tvalid_0's auc: 0.905517\n",
      "[700]\tvalid_0's auc: 0.90596\n",
      "[750]\tvalid_0's auc: 0.906352\n",
      "[800]\tvalid_0's auc: 0.906548\n",
      "[850]\tvalid_0's auc: 0.906749\n",
      "[900]\tvalid_0's auc: 0.906919\n",
      "[950]\tvalid_0's auc: 0.907054\n",
      "[1000]\tvalid_0's auc: 0.907183\n",
      "[1050]\tvalid_0's auc: 0.907279\n",
      "[1100]\tvalid_0's auc: 0.907314\n",
      "[1150]\tvalid_0's auc: 0.907252\n",
      "Early stopping, best iteration is:\n",
      "[1093]\tvalid_0's auc: 0.907357\n"
     ]
    },
    {
     "name": "stderr",
     "output_type": "stream",
     "text": [
      "min_data_in_leaf, val_score: 0.907357:  80%|####################################         | 4/5 [00:07<00:01,  1.80s/it]C:\\Python39\\lib\\site-packages\\lightgbm\\engine.py:181: UserWarning: 'early_stopping_rounds' argument is deprecated and will be removed in a future release of LightGBM. Pass 'early_stopping()' callback via 'callbacks' argument instead.\n",
      "  _log_warning(\"'early_stopping_rounds' argument is deprecated and will be removed in a future release of LightGBM. \"\n",
      "C:\\Python39\\lib\\site-packages\\lightgbm\\engine.py:239: UserWarning: 'verbose_eval' argument is deprecated and will be removed in a future release of LightGBM. Pass 'log_evaluation()' callback via 'callbacks' argument instead.\n",
      "  _log_warning(\"'verbose_eval' argument is deprecated and will be removed in a future release of LightGBM. \"\n"
     ]
    },
    {
     "name": "stdout",
     "output_type": "stream",
     "text": [
      "Training until validation scores don't improve for 100 rounds\n",
      "[50]\tvalid_0's auc: 0.888425\n",
      "[100]\tvalid_0's auc: 0.894385\n",
      "[150]\tvalid_0's auc: 0.897241\n",
      "[200]\tvalid_0's auc: 0.89952\n",
      "[250]\tvalid_0's auc: 0.901406\n",
      "[300]\tvalid_0's auc: 0.902681\n",
      "[350]\tvalid_0's auc: 0.903334\n",
      "[400]\tvalid_0's auc: 0.90392\n",
      "[450]\tvalid_0's auc: 0.904502\n",
      "[500]\tvalid_0's auc: 0.904797\n",
      "[550]\tvalid_0's auc: 0.905053\n",
      "[600]\tvalid_0's auc: 0.905341\n",
      "[650]\tvalid_0's auc: 0.90548\n",
      "[700]\tvalid_0's auc: 0.905768\n",
      "[750]\tvalid_0's auc: 0.905972\n",
      "[800]\tvalid_0's auc: 0.905934\n",
      "[850]\tvalid_0's auc: 0.906058\n",
      "[900]\tvalid_0's auc: 0.906092\n",
      "[950]\tvalid_0's auc: 0.906135\n",
      "[1000]\tvalid_0's auc: 0.906201\n",
      "[1050]\tvalid_0's auc: 0.906193\n",
      "[1100]\tvalid_0's auc: 0.906135\n"
     ]
    },
    {
     "name": "stderr",
     "output_type": "stream",
     "text": [
      "min_data_in_leaf, val_score: 0.907357: 100%|#############################################| 5/5 [00:09<00:00,  1.89s/it]"
     ]
    },
    {
     "name": "stdout",
     "output_type": "stream",
     "text": [
      "[1150]\tvalid_0's auc: 0.905994\n",
      "Early stopping, best iteration is:\n",
      "[1083]\tvalid_0's auc: 0.906244\n",
      "Best params: {'boosting_type': 'gbdt', 'objective': 'binary', 'metric': 'auc', 'verbosity': -1, 'learning_rate': 0.02, 'deterministic': True, 'force_row_wise': True, 'feature_pre_filter': False, 'lambda_l1': 1.2590988351136922e-08, 'lambda_l2': 0.046382703472496054, 'num_leaves': 8, 'feature_fraction': 0.48000000000000004, 'bagging_fraction': 0.5797928042050136, 'bagging_freq': 2, 'min_child_samples': 10, 'num_iterations': 10000, 'early_stopping_round': 100}\n"
     ]
    },
    {
     "name": "stderr",
     "output_type": "stream",
     "text": [
      "\n"
     ]
    },
    {
     "name": "stdout",
     "output_type": "stream",
     "text": [
      "### seed:  3 ###\n"
     ]
    },
    {
     "name": "stderr",
     "output_type": "stream",
     "text": [
      "feature_fraction, val_score: -inf:   0%|                                                         | 0/7 [00:00<?, ?it/s]C:\\Python39\\lib\\site-packages\\lightgbm\\engine.py:181: UserWarning: 'early_stopping_rounds' argument is deprecated and will be removed in a future release of LightGBM. Pass 'early_stopping()' callback via 'callbacks' argument instead.\n",
      "  _log_warning(\"'early_stopping_rounds' argument is deprecated and will be removed in a future release of LightGBM. \"\n",
      "C:\\Python39\\lib\\site-packages\\lightgbm\\engine.py:239: UserWarning: 'verbose_eval' argument is deprecated and will be removed in a future release of LightGBM. Pass 'log_evaluation()' callback via 'callbacks' argument instead.\n",
      "  _log_warning(\"'verbose_eval' argument is deprecated and will be removed in a future release of LightGBM. \"\n"
     ]
    },
    {
     "name": "stdout",
     "output_type": "stream",
     "text": [
      "Training until validation scores don't improve for 100 rounds\n",
      "[50]\tvalid_0's auc: 0.897926\n",
      "[100]\tvalid_0's auc: 0.900882\n",
      "[150]\tvalid_0's auc: 0.902782\n",
      "[200]\tvalid_0's auc: 0.904125\n",
      "[250]\tvalid_0's auc: 0.904678\n",
      "[300]\tvalid_0's auc: 0.905054\n",
      "[350]\tvalid_0's auc: 0.905324\n",
      "[400]\tvalid_0's auc: 0.905358\n"
     ]
    },
    {
     "name": "stderr",
     "output_type": "stream",
     "text": [
      "feature_fraction, val_score: 0.905400:  14%|######4                                      | 1/7 [00:00<00:05,  1.03it/s]"
     ]
    },
    {
     "name": "stdout",
     "output_type": "stream",
     "text": [
      "[450]\tvalid_0's auc: 0.905302\n",
      "Early stopping, best iteration is:\n",
      "[359]\tvalid_0's auc: 0.9054\n",
      "Training until validation scores don't improve for 100 rounds\n"
     ]
    },
    {
     "name": "stderr",
     "output_type": "stream",
     "text": [
      "C:\\Python39\\lib\\site-packages\\lightgbm\\engine.py:181: UserWarning: 'early_stopping_rounds' argument is deprecated and will be removed in a future release of LightGBM. Pass 'early_stopping()' callback via 'callbacks' argument instead.\n",
      "  _log_warning(\"'early_stopping_rounds' argument is deprecated and will be removed in a future release of LightGBM. \"\n",
      "C:\\Python39\\lib\\site-packages\\lightgbm\\engine.py:239: UserWarning: 'verbose_eval' argument is deprecated and will be removed in a future release of LightGBM. Pass 'log_evaluation()' callback via 'callbacks' argument instead.\n",
      "  _log_warning(\"'verbose_eval' argument is deprecated and will be removed in a future release of LightGBM. \"\n"
     ]
    },
    {
     "name": "stdout",
     "output_type": "stream",
     "text": [
      "[50]\tvalid_0's auc: 0.896219\n",
      "[100]\tvalid_0's auc: 0.899862\n",
      "[150]\tvalid_0's auc: 0.902059\n",
      "[200]\tvalid_0's auc: 0.903673\n",
      "[250]\tvalid_0's auc: 0.904419\n",
      "[300]\tvalid_0's auc: 0.904779\n",
      "[350]\tvalid_0's auc: 0.904731\n",
      "[400]\tvalid_0's auc: 0.904852\n",
      "[450]\tvalid_0's auc: 0.904708\n",
      "Early stopping, best iteration is:\n",
      "[399]\tvalid_0's auc: 0.904852\n"
     ]
    },
    {
     "name": "stderr",
     "output_type": "stream",
     "text": [
      "feature_fraction, val_score: 0.905400:  29%|############8                                | 2/7 [00:02<00:05,  1.03s/it]"
     ]
    },
    {
     "name": "stdout",
     "output_type": "stream",
     "text": [
      "Training until validation scores don't improve for 100 rounds\n"
     ]
    },
    {
     "name": "stderr",
     "output_type": "stream",
     "text": [
      "C:\\Python39\\lib\\site-packages\\lightgbm\\engine.py:181: UserWarning: 'early_stopping_rounds' argument is deprecated and will be removed in a future release of LightGBM. Pass 'early_stopping()' callback via 'callbacks' argument instead.\n",
      "  _log_warning(\"'early_stopping_rounds' argument is deprecated and will be removed in a future release of LightGBM. \"\n",
      "C:\\Python39\\lib\\site-packages\\lightgbm\\engine.py:239: UserWarning: 'verbose_eval' argument is deprecated and will be removed in a future release of LightGBM. Pass 'log_evaluation()' callback via 'callbacks' argument instead.\n",
      "  _log_warning(\"'verbose_eval' argument is deprecated and will be removed in a future release of LightGBM. \"\n"
     ]
    },
    {
     "name": "stdout",
     "output_type": "stream",
     "text": [
      "[50]\tvalid_0's auc: 0.891521\n",
      "[100]\tvalid_0's auc: 0.896627\n",
      "[150]\tvalid_0's auc: 0.900669\n",
      "[200]\tvalid_0's auc: 0.902519\n",
      "[250]\tvalid_0's auc: 0.902953\n",
      "[300]\tvalid_0's auc: 0.903131\n",
      "[350]\tvalid_0's auc: 0.903115\n",
      "[400]\tvalid_0's auc: 0.903094\n",
      "[450]\tvalid_0's auc: 0.903185\n",
      "[500]\tvalid_0's auc: 0.903131\n"
     ]
    },
    {
     "name": "stderr",
     "output_type": "stream",
     "text": [
      "feature_fraction, val_score: 0.905400:  43%|###################2                         | 3/7 [00:03<00:04,  1.01s/it]"
     ]
    },
    {
     "name": "stdout",
     "output_type": "stream",
     "text": [
      "Early stopping, best iteration is:\n",
      "[434]\tvalid_0's auc: 0.903226\n",
      "Training until validation scores don't improve for 100 rounds\n"
     ]
    },
    {
     "name": "stderr",
     "output_type": "stream",
     "text": [
      "C:\\Python39\\lib\\site-packages\\lightgbm\\engine.py:181: UserWarning: 'early_stopping_rounds' argument is deprecated and will be removed in a future release of LightGBM. Pass 'early_stopping()' callback via 'callbacks' argument instead.\n",
      "  _log_warning(\"'early_stopping_rounds' argument is deprecated and will be removed in a future release of LightGBM. \"\n",
      "C:\\Python39\\lib\\site-packages\\lightgbm\\engine.py:239: UserWarning: 'verbose_eval' argument is deprecated and will be removed in a future release of LightGBM. Pass 'log_evaluation()' callback via 'callbacks' argument instead.\n",
      "  _log_warning(\"'verbose_eval' argument is deprecated and will be removed in a future release of LightGBM. \"\n"
     ]
    },
    {
     "name": "stdout",
     "output_type": "stream",
     "text": [
      "[50]\tvalid_0's auc: 0.8937\n",
      "[100]\tvalid_0's auc: 0.898028\n",
      "[150]\tvalid_0's auc: 0.901441\n",
      "[200]\tvalid_0's auc: 0.903275\n",
      "[250]\tvalid_0's auc: 0.903584\n",
      "[300]\tvalid_0's auc: 0.903794\n",
      "[350]\tvalid_0's auc: 0.903872\n",
      "[400]\tvalid_0's auc: 0.903912\n"
     ]
    },
    {
     "name": "stderr",
     "output_type": "stream",
     "text": [
      "feature_fraction, val_score: 0.905400:  57%|#########################7                   | 4/7 [00:04<00:03,  1.00s/it]"
     ]
    },
    {
     "name": "stdout",
     "output_type": "stream",
     "text": [
      "[450]\tvalid_0's auc: 0.903888\n",
      "Early stopping, best iteration is:\n",
      "[368]\tvalid_0's auc: 0.903986\n",
      "Training until validation scores don't improve for 100 rounds\n"
     ]
    },
    {
     "name": "stderr",
     "output_type": "stream",
     "text": [
      "C:\\Python39\\lib\\site-packages\\lightgbm\\engine.py:181: UserWarning: 'early_stopping_rounds' argument is deprecated and will be removed in a future release of LightGBM. Pass 'early_stopping()' callback via 'callbacks' argument instead.\n",
      "  _log_warning(\"'early_stopping_rounds' argument is deprecated and will be removed in a future release of LightGBM. \"\n",
      "C:\\Python39\\lib\\site-packages\\lightgbm\\engine.py:239: UserWarning: 'verbose_eval' argument is deprecated and will be removed in a future release of LightGBM. Pass 'log_evaluation()' callback via 'callbacks' argument instead.\n",
      "  _log_warning(\"'verbose_eval' argument is deprecated and will be removed in a future release of LightGBM. \"\n"
     ]
    },
    {
     "name": "stdout",
     "output_type": "stream",
     "text": [
      "[50]\tvalid_0's auc: 0.898232\n",
      "[100]\tvalid_0's auc: 0.901139\n",
      "[150]\tvalid_0's auc: 0.903161\n",
      "[200]\tvalid_0's auc: 0.904371\n",
      "[250]\tvalid_0's auc: 0.905056\n",
      "[300]\tvalid_0's auc: 0.905421\n",
      "[350]\tvalid_0's auc: 0.905396\n",
      "[400]\tvalid_0's auc: 0.905427\n",
      "[450]\tvalid_0's auc: 0.905601\n",
      "[500]\tvalid_0's auc: 0.905658\n",
      "[550]\tvalid_0's auc: 0.905456\n",
      "Early stopping, best iteration is:\n",
      "[489]\tvalid_0's auc: 0.905694\n"
     ]
    },
    {
     "name": "stderr",
     "output_type": "stream",
     "text": [
      "feature_fraction, val_score: 0.905694:  71%|################################1            | 5/7 [00:05<00:02,  1.06s/it]C:\\Python39\\lib\\site-packages\\lightgbm\\engine.py:181: UserWarning: 'early_stopping_rounds' argument is deprecated and will be removed in a future release of LightGBM. Pass 'early_stopping()' callback via 'callbacks' argument instead.\n",
      "  _log_warning(\"'early_stopping_rounds' argument is deprecated and will be removed in a future release of LightGBM. \"\n",
      "C:\\Python39\\lib\\site-packages\\lightgbm\\engine.py:239: UserWarning: 'verbose_eval' argument is deprecated and will be removed in a future release of LightGBM. Pass 'log_evaluation()' callback via 'callbacks' argument instead.\n",
      "  _log_warning(\"'verbose_eval' argument is deprecated and will be removed in a future release of LightGBM. \"\n"
     ]
    },
    {
     "name": "stdout",
     "output_type": "stream",
     "text": [
      "Training until validation scores don't improve for 100 rounds\n",
      "[50]\tvalid_0's auc: 0.889524\n",
      "[100]\tvalid_0's auc: 0.895641\n",
      "[150]\tvalid_0's auc: 0.899847\n",
      "[200]\tvalid_0's auc: 0.901449\n",
      "[250]\tvalid_0's auc: 0.902116\n",
      "[300]\tvalid_0's auc: 0.902619\n",
      "[350]\tvalid_0's auc: 0.903006\n",
      "[400]\tvalid_0's auc: 0.903235\n"
     ]
    },
    {
     "name": "stderr",
     "output_type": "stream",
     "text": [
      "feature_fraction, val_score: 0.905694:  71%|################################1            | 5/7 [00:06<00:02,  1.06s/it]"
     ]
    },
    {
     "name": "stdout",
     "output_type": "stream",
     "text": [
      "[450]\tvalid_0's auc: 0.90335\n",
      "[500]\tvalid_0's auc: 0.903194\n",
      "[550]\tvalid_0's auc: 0.902898\n",
      "Early stopping, best iteration is:\n",
      "[454]\tvalid_0's auc: 0.90337\n"
     ]
    },
    {
     "name": "stderr",
     "output_type": "stream",
     "text": [
      "feature_fraction, val_score: 0.905694:  86%|######################################5      | 6/7 [00:06<00:01,  1.05s/it]C:\\Python39\\lib\\site-packages\\lightgbm\\engine.py:181: UserWarning: 'early_stopping_rounds' argument is deprecated and will be removed in a future release of LightGBM. Pass 'early_stopping()' callback via 'callbacks' argument instead.\n",
      "  _log_warning(\"'early_stopping_rounds' argument is deprecated and will be removed in a future release of LightGBM. \"\n",
      "C:\\Python39\\lib\\site-packages\\lightgbm\\engine.py:239: UserWarning: 'verbose_eval' argument is deprecated and will be removed in a future release of LightGBM. Pass 'log_evaluation()' callback via 'callbacks' argument instead.\n",
      "  _log_warning(\"'verbose_eval' argument is deprecated and will be removed in a future release of LightGBM. \"\n"
     ]
    },
    {
     "name": "stdout",
     "output_type": "stream",
     "text": [
      "Training until validation scores don't improve for 100 rounds\n",
      "[50]\tvalid_0's auc: 0.895481\n",
      "[100]\tvalid_0's auc: 0.899061\n",
      "[150]\tvalid_0's auc: 0.901728\n",
      "[200]\tvalid_0's auc: 0.90346\n",
      "[250]\tvalid_0's auc: 0.904153\n",
      "[300]\tvalid_0's auc: 0.904424\n",
      "[350]\tvalid_0's auc: 0.904549\n",
      "[400]\tvalid_0's auc: 0.904709\n",
      "[450]\tvalid_0's auc: 0.904767\n"
     ]
    },
    {
     "name": "stderr",
     "output_type": "stream",
     "text": [
      "feature_fraction, val_score: 0.905694: 100%|#############################################| 7/7 [00:07<00:00,  1.02s/it]\n"
     ]
    },
    {
     "name": "stdout",
     "output_type": "stream",
     "text": [
      "[500]\tvalid_0's auc: 0.904665\n",
      "Early stopping, best iteration is:\n",
      "[434]\tvalid_0's auc: 0.904811\n"
     ]
    },
    {
     "name": "stderr",
     "output_type": "stream",
     "text": [
      "num_leaves, val_score: 0.905694:   0%|                                                          | 0/20 [00:00<?, ?it/s]"
     ]
    },
    {
     "name": "stdout",
     "output_type": "stream",
     "text": [
      "Training until validation scores don't improve for 100 rounds\n"
     ]
    },
    {
     "name": "stderr",
     "output_type": "stream",
     "text": [
      "C:\\Python39\\lib\\site-packages\\lightgbm\\engine.py:181: UserWarning: 'early_stopping_rounds' argument is deprecated and will be removed in a future release of LightGBM. Pass 'early_stopping()' callback via 'callbacks' argument instead.\n",
      "  _log_warning(\"'early_stopping_rounds' argument is deprecated and will be removed in a future release of LightGBM. \"\n",
      "C:\\Python39\\lib\\site-packages\\lightgbm\\engine.py:239: UserWarning: 'verbose_eval' argument is deprecated and will be removed in a future release of LightGBM. Pass 'log_evaluation()' callback via 'callbacks' argument instead.\n",
      "  _log_warning(\"'verbose_eval' argument is deprecated and will be removed in a future release of LightGBM. \"\n"
     ]
    },
    {
     "name": "stdout",
     "output_type": "stream",
     "text": [
      "[50]\tvalid_0's auc: 0.902445\n",
      "[100]\tvalid_0's auc: 0.903796\n",
      "[150]\tvalid_0's auc: 0.904151\n",
      "[200]\tvalid_0's auc: 0.903881\n"
     ]
    },
    {
     "name": "stderr",
     "output_type": "stream",
     "text": [
      "num_leaves, val_score: 0.905694:   5%|##5                                               | 1/20 [00:00<00:18,  1.04it/s]"
     ]
    },
    {
     "name": "stdout",
     "output_type": "stream",
     "text": [
      "Early stopping, best iteration is:\n",
      "[127]\tvalid_0's auc: 0.904347\n",
      "Training until validation scores don't improve for 100 rounds\n"
     ]
    },
    {
     "name": "stderr",
     "output_type": "stream",
     "text": [
      "C:\\Python39\\lib\\site-packages\\lightgbm\\engine.py:181: UserWarning: 'early_stopping_rounds' argument is deprecated and will be removed in a future release of LightGBM. Pass 'early_stopping()' callback via 'callbacks' argument instead.\n",
      "  _log_warning(\"'early_stopping_rounds' argument is deprecated and will be removed in a future release of LightGBM. \"\n",
      "C:\\Python39\\lib\\site-packages\\lightgbm\\engine.py:239: UserWarning: 'verbose_eval' argument is deprecated and will be removed in a future release of LightGBM. Pass 'log_evaluation()' callback via 'callbacks' argument instead.\n",
      "  _log_warning(\"'verbose_eval' argument is deprecated and will be removed in a future release of LightGBM. \"\n"
     ]
    },
    {
     "name": "stdout",
     "output_type": "stream",
     "text": [
      "[50]\tvalid_0's auc: 0.902546\n",
      "[100]\tvalid_0's auc: 0.903822\n",
      "[150]\tvalid_0's auc: 0.903856\n"
     ]
    },
    {
     "name": "stderr",
     "output_type": "stream",
     "text": [
      "num_leaves, val_score: 0.905694:   5%|##5                                               | 1/20 [00:02<00:18,  1.04it/s]"
     ]
    },
    {
     "name": "stdout",
     "output_type": "stream",
     "text": [
      "[200]\tvalid_0's auc: 0.903468\n",
      "Early stopping, best iteration is:\n",
      "[127]\tvalid_0's auc: 0.904236\n"
     ]
    },
    {
     "name": "stderr",
     "output_type": "stream",
     "text": [
      "num_leaves, val_score: 0.905694:  10%|#####                                             | 2/20 [00:02<00:19,  1.06s/it]C:\\Python39\\lib\\site-packages\\lightgbm\\engine.py:181: UserWarning: 'early_stopping_rounds' argument is deprecated and will be removed in a future release of LightGBM. Pass 'early_stopping()' callback via 'callbacks' argument instead.\n",
      "  _log_warning(\"'early_stopping_rounds' argument is deprecated and will be removed in a future release of LightGBM. \"\n",
      "C:\\Python39\\lib\\site-packages\\lightgbm\\engine.py:239: UserWarning: 'verbose_eval' argument is deprecated and will be removed in a future release of LightGBM. Pass 'log_evaluation()' callback via 'callbacks' argument instead.\n",
      "  _log_warning(\"'verbose_eval' argument is deprecated and will be removed in a future release of LightGBM. \"\n"
     ]
    },
    {
     "name": "stdout",
     "output_type": "stream",
     "text": [
      "Training until validation scores don't improve for 100 rounds\n",
      "[50]\tvalid_0's auc: 0.902057\n",
      "[100]\tvalid_0's auc: 0.903905\n",
      "[150]\tvalid_0's auc: 0.904812\n",
      "[200]\tvalid_0's auc: 0.905017\n",
      "[250]\tvalid_0's auc: 0.90504\n"
     ]
    },
    {
     "name": "stderr",
     "output_type": "stream",
     "text": [
      "num_leaves, val_score: 0.905694:  15%|#######5                                          | 3/20 [00:03<00:17,  1.02s/it]"
     ]
    },
    {
     "name": "stdout",
     "output_type": "stream",
     "text": [
      "[300]\tvalid_0's auc: 0.904924\n",
      "Early stopping, best iteration is:\n",
      "[233]\tvalid_0's auc: 0.905185\n"
     ]
    },
    {
     "name": "stderr",
     "output_type": "stream",
     "text": [
      "C:\\Python39\\lib\\site-packages\\lightgbm\\engine.py:181: UserWarning: 'early_stopping_rounds' argument is deprecated and will be removed in a future release of LightGBM. Pass 'early_stopping()' callback via 'callbacks' argument instead.\n",
      "  _log_warning(\"'early_stopping_rounds' argument is deprecated and will be removed in a future release of LightGBM. \"\n",
      "C:\\Python39\\lib\\site-packages\\lightgbm\\engine.py:239: UserWarning: 'verbose_eval' argument is deprecated and will be removed in a future release of LightGBM. Pass 'log_evaluation()' callback via 'callbacks' argument instead.\n",
      "  _log_warning(\"'verbose_eval' argument is deprecated and will be removed in a future release of LightGBM. \"\n"
     ]
    },
    {
     "name": "stdout",
     "output_type": "stream",
     "text": [
      "Training until validation scores don't improve for 100 rounds\n",
      "[50]\tvalid_0's auc: 0.902319\n",
      "[100]\tvalid_0's auc: 0.903808\n",
      "[150]\tvalid_0's auc: 0.904226\n"
     ]
    },
    {
     "name": "stderr",
     "output_type": "stream",
     "text": [
      "num_leaves, val_score: 0.905694:  20%|##########                                        | 4/20 [00:03<00:15,  1.02it/s]"
     ]
    },
    {
     "name": "stdout",
     "output_type": "stream",
     "text": [
      "[200]\tvalid_0's auc: 0.90391\n",
      "Early stopping, best iteration is:\n",
      "[127]\tvalid_0's auc: 0.904376\n"
     ]
    },
    {
     "name": "stderr",
     "output_type": "stream",
     "text": [
      "C:\\Python39\\lib\\site-packages\\lightgbm\\engine.py:181: UserWarning: 'early_stopping_rounds' argument is deprecated and will be removed in a future release of LightGBM. Pass 'early_stopping()' callback via 'callbacks' argument instead.\n",
      "  _log_warning(\"'early_stopping_rounds' argument is deprecated and will be removed in a future release of LightGBM. \"\n",
      "C:\\Python39\\lib\\site-packages\\lightgbm\\engine.py:239: UserWarning: 'verbose_eval' argument is deprecated and will be removed in a future release of LightGBM. Pass 'log_evaluation()' callback via 'callbacks' argument instead.\n",
      "  _log_warning(\"'verbose_eval' argument is deprecated and will be removed in a future release of LightGBM. \"\n"
     ]
    },
    {
     "name": "stdout",
     "output_type": "stream",
     "text": [
      "Training until validation scores don't improve for 100 rounds\n",
      "[50]\tvalid_0's auc: 0.902316\n",
      "[100]\tvalid_0's auc: 0.903634\n",
      "[150]\tvalid_0's auc: 0.903616\n",
      "[200]\tvalid_0's auc: 0.902838\n",
      "Early stopping, best iteration is:\n",
      "[117]\tvalid_0's auc: 0.903926\n"
     ]
    },
    {
     "name": "stderr",
     "output_type": "stream",
     "text": [
      "num_leaves, val_score: 0.905694:  25%|############5                                     | 5/20 [00:05<00:17,  1.16s/it]C:\\Python39\\lib\\site-packages\\lightgbm\\engine.py:181: UserWarning: 'early_stopping_rounds' argument is deprecated and will be removed in a future release of LightGBM. Pass 'early_stopping()' callback via 'callbacks' argument instead.\n",
      "  _log_warning(\"'early_stopping_rounds' argument is deprecated and will be removed in a future release of LightGBM. \"\n",
      "C:\\Python39\\lib\\site-packages\\lightgbm\\engine.py:239: UserWarning: 'verbose_eval' argument is deprecated and will be removed in a future release of LightGBM. Pass 'log_evaluation()' callback via 'callbacks' argument instead.\n",
      "  _log_warning(\"'verbose_eval' argument is deprecated and will be removed in a future release of LightGBM. \"\n"
     ]
    },
    {
     "name": "stdout",
     "output_type": "stream",
     "text": [
      "Training until validation scores don't improve for 100 rounds\n",
      "[50]\tvalid_0's auc: 0.902358\n",
      "[100]\tvalid_0's auc: 0.903651\n",
      "[150]\tvalid_0's auc: 0.903608\n"
     ]
    },
    {
     "name": "stderr",
     "output_type": "stream",
     "text": [
      "num_leaves, val_score: 0.905694:  30%|###############                                   | 6/20 [00:07<00:18,  1.31s/it]"
     ]
    },
    {
     "name": "stdout",
     "output_type": "stream",
     "text": [
      "[200]\tvalid_0's auc: 0.902795\n",
      "Early stopping, best iteration is:\n",
      "[117]\tvalid_0's auc: 0.903964\n"
     ]
    },
    {
     "name": "stderr",
     "output_type": "stream",
     "text": [
      "C:\\Python39\\lib\\site-packages\\lightgbm\\engine.py:181: UserWarning: 'early_stopping_rounds' argument is deprecated and will be removed in a future release of LightGBM. Pass 'early_stopping()' callback via 'callbacks' argument instead.\n",
      "  _log_warning(\"'early_stopping_rounds' argument is deprecated and will be removed in a future release of LightGBM. \"\n",
      "C:\\Python39\\lib\\site-packages\\lightgbm\\engine.py:239: UserWarning: 'verbose_eval' argument is deprecated and will be removed in a future release of LightGBM. Pass 'log_evaluation()' callback via 'callbacks' argument instead.\n",
      "  _log_warning(\"'verbose_eval' argument is deprecated and will be removed in a future release of LightGBM. \"\n"
     ]
    },
    {
     "name": "stdout",
     "output_type": "stream",
     "text": [
      "Training until validation scores don't improve for 100 rounds\n",
      "[50]\tvalid_0's auc: 0.898676\n",
      "[100]\tvalid_0's auc: 0.901532\n",
      "[150]\tvalid_0's auc: 0.903423\n",
      "[200]\tvalid_0's auc: 0.904532\n",
      "[250]\tvalid_0's auc: 0.905115\n",
      "[300]\tvalid_0's auc: 0.905498\n",
      "[350]\tvalid_0's auc: 0.905489\n",
      "[400]\tvalid_0's auc: 0.905422\n",
      "[450]\tvalid_0's auc: 0.905578\n",
      "[500]\tvalid_0's auc: 0.905627\n",
      "[550]\tvalid_0's auc: 0.905592\n",
      "[600]\tvalid_0's auc: 0.905438\n"
     ]
    },
    {
     "name": "stderr",
     "output_type": "stream",
     "text": [
      "num_leaves, val_score: 0.905694:  35%|#################5                                | 7/20 [00:08<00:16,  1.24s/it]"
     ]
    },
    {
     "name": "stdout",
     "output_type": "stream",
     "text": [
      "Early stopping, best iteration is:\n",
      "[522]\tvalid_0's auc: 0.905684\n",
      "Training until validation scores don't improve for 100 rounds\n"
     ]
    },
    {
     "name": "stderr",
     "output_type": "stream",
     "text": [
      "C:\\Python39\\lib\\site-packages\\lightgbm\\engine.py:181: UserWarning: 'early_stopping_rounds' argument is deprecated and will be removed in a future release of LightGBM. Pass 'early_stopping()' callback via 'callbacks' argument instead.\n",
      "  _log_warning(\"'early_stopping_rounds' argument is deprecated and will be removed in a future release of LightGBM. \"\n",
      "C:\\Python39\\lib\\site-packages\\lightgbm\\engine.py:239: UserWarning: 'verbose_eval' argument is deprecated and will be removed in a future release of LightGBM. Pass 'log_evaluation()' callback via 'callbacks' argument instead.\n",
      "  _log_warning(\"'verbose_eval' argument is deprecated and will be removed in a future release of LightGBM. \"\n"
     ]
    },
    {
     "name": "stdout",
     "output_type": "stream",
     "text": [
      "[50]\tvalid_0's auc: 0.901008\n",
      "[100]\tvalid_0's auc: 0.903241\n",
      "[150]\tvalid_0's auc: 0.904579\n",
      "[200]\tvalid_0's auc: 0.905178\n",
      "[250]\tvalid_0's auc: 0.905347\n",
      "[300]\tvalid_0's auc: 0.905383\n",
      "[350]\tvalid_0's auc: 0.90513\n",
      "Early stopping, best iteration is:\n",
      "[266]\tvalid_0's auc: 0.905437\n"
     ]
    },
    {
     "name": "stderr",
     "output_type": "stream",
     "text": [
      "num_leaves, val_score: 0.905694:  40%|####################                              | 8/20 [00:09<00:14,  1.24s/it]C:\\Python39\\lib\\site-packages\\lightgbm\\engine.py:181: UserWarning: 'early_stopping_rounds' argument is deprecated and will be removed in a future release of LightGBM. Pass 'early_stopping()' callback via 'callbacks' argument instead.\n",
      "  _log_warning(\"'early_stopping_rounds' argument is deprecated and will be removed in a future release of LightGBM. \"\n",
      "C:\\Python39\\lib\\site-packages\\lightgbm\\engine.py:239: UserWarning: 'verbose_eval' argument is deprecated and will be removed in a future release of LightGBM. Pass 'log_evaluation()' callback via 'callbacks' argument instead.\n",
      "  _log_warning(\"'verbose_eval' argument is deprecated and will be removed in a future release of LightGBM. \"\n"
     ]
    },
    {
     "name": "stdout",
     "output_type": "stream",
     "text": [
      "Training until validation scores don't improve for 100 rounds\n",
      "[50]\tvalid_0's auc: 0.89303\n",
      "[100]\tvalid_0's auc: 0.897831\n",
      "[150]\tvalid_0's auc: 0.900417\n",
      "[200]\tvalid_0's auc: 0.902039\n",
      "[250]\tvalid_0's auc: 0.903241\n",
      "[300]\tvalid_0's auc: 0.904176\n",
      "[350]\tvalid_0's auc: 0.904757\n",
      "[400]\tvalid_0's auc: 0.904988\n",
      "[450]\tvalid_0's auc: 0.905393\n",
      "[500]\tvalid_0's auc: 0.905653\n",
      "[550]\tvalid_0's auc: 0.905859\n",
      "[600]\tvalid_0's auc: 0.906029\n",
      "[650]\tvalid_0's auc: 0.906123\n",
      "[700]\tvalid_0's auc: 0.906173\n",
      "[750]\tvalid_0's auc: 0.906135\n",
      "[800]\tvalid_0's auc: 0.906202\n",
      "[850]\tvalid_0's auc: 0.906179\n",
      "[900]\tvalid_0's auc: 0.906229\n",
      "[950]\tvalid_0's auc: 0.90618\n"
     ]
    },
    {
     "name": "stderr",
     "output_type": "stream",
     "text": [
      "num_leaves, val_score: 0.906250:  45%|######################5                           | 9/20 [00:11<00:15,  1.42s/it]"
     ]
    },
    {
     "name": "stdout",
     "output_type": "stream",
     "text": [
      "Early stopping, best iteration is:\n",
      "[885]\tvalid_0's auc: 0.90625\n",
      "Training until validation scores don't improve for 100 rounds\n"
     ]
    },
    {
     "name": "stderr",
     "output_type": "stream",
     "text": [
      "C:\\Python39\\lib\\site-packages\\lightgbm\\engine.py:181: UserWarning: 'early_stopping_rounds' argument is deprecated and will be removed in a future release of LightGBM. Pass 'early_stopping()' callback via 'callbacks' argument instead.\n",
      "  _log_warning(\"'early_stopping_rounds' argument is deprecated and will be removed in a future release of LightGBM. \"\n",
      "C:\\Python39\\lib\\site-packages\\lightgbm\\engine.py:239: UserWarning: 'verbose_eval' argument is deprecated and will be removed in a future release of LightGBM. Pass 'log_evaluation()' callback via 'callbacks' argument instead.\n",
      "  _log_warning(\"'verbose_eval' argument is deprecated and will be removed in a future release of LightGBM. \"\n"
     ]
    },
    {
     "name": "stdout",
     "output_type": "stream",
     "text": [
      "[50]\tvalid_0's auc: 0.902294\n",
      "[100]\tvalid_0's auc: 0.903839\n",
      "[150]\tvalid_0's auc: 0.904396\n",
      "[200]\tvalid_0's auc: 0.904337\n"
     ]
    },
    {
     "name": "stderr",
     "output_type": "stream",
     "text": [
      "num_leaves, val_score: 0.906250:  50%|########################5                        | 10/20 [00:12<00:12,  1.30s/it]"
     ]
    },
    {
     "name": "stdout",
     "output_type": "stream",
     "text": [
      "[250]\tvalid_0's auc: 0.9041\n",
      "Early stopping, best iteration is:\n",
      "[173]\tvalid_0's auc: 0.904519\n",
      "Training until validation scores don't improve for 100 rounds\n"
     ]
    },
    {
     "name": "stderr",
     "output_type": "stream",
     "text": [
      "C:\\Python39\\lib\\site-packages\\lightgbm\\engine.py:181: UserWarning: 'early_stopping_rounds' argument is deprecated and will be removed in a future release of LightGBM. Pass 'early_stopping()' callback via 'callbacks' argument instead.\n",
      "  _log_warning(\"'early_stopping_rounds' argument is deprecated and will be removed in a future release of LightGBM. \"\n",
      "C:\\Python39\\lib\\site-packages\\lightgbm\\engine.py:239: UserWarning: 'verbose_eval' argument is deprecated and will be removed in a future release of LightGBM. Pass 'log_evaluation()' callback via 'callbacks' argument instead.\n",
      "  _log_warning(\"'verbose_eval' argument is deprecated and will be removed in a future release of LightGBM. \"\n"
     ]
    },
    {
     "name": "stdout",
     "output_type": "stream",
     "text": [
      "[50]\tvalid_0's auc: 0.89303\n",
      "[100]\tvalid_0's auc: 0.897831\n",
      "[150]\tvalid_0's auc: 0.900417\n",
      "[200]\tvalid_0's auc: 0.902039\n",
      "[250]\tvalid_0's auc: 0.903241\n",
      "[300]\tvalid_0's auc: 0.904176\n",
      "[350]\tvalid_0's auc: 0.904757\n",
      "[400]\tvalid_0's auc: 0.904988\n",
      "[450]\tvalid_0's auc: 0.905393\n",
      "[500]\tvalid_0's auc: 0.905653\n",
      "[550]\tvalid_0's auc: 0.905859\n",
      "[600]\tvalid_0's auc: 0.906029\n",
      "[650]\tvalid_0's auc: 0.906123\n",
      "[700]\tvalid_0's auc: 0.906173\n",
      "[750]\tvalid_0's auc: 0.906135\n",
      "[800]\tvalid_0's auc: 0.906202\n",
      "[850]\tvalid_0's auc: 0.906179\n"
     ]
    },
    {
     "name": "stderr",
     "output_type": "stream",
     "text": [
      "num_leaves, val_score: 0.906250:  50%|########################5                        | 10/20 [00:13<00:12,  1.30s/it]"
     ]
    },
    {
     "name": "stdout",
     "output_type": "stream",
     "text": [
      "[900]\tvalid_0's auc: 0.906229\n",
      "[950]\tvalid_0's auc: 0.90618\n",
      "Early stopping, best iteration is:\n",
      "[885]\tvalid_0's auc: 0.90625\n"
     ]
    },
    {
     "name": "stderr",
     "output_type": "stream",
     "text": [
      "num_leaves, val_score: 0.906250:  55%|##########################9                      | 11/20 [00:13<00:12,  1.42s/it]C:\\Python39\\lib\\site-packages\\lightgbm\\engine.py:181: UserWarning: 'early_stopping_rounds' argument is deprecated and will be removed in a future release of LightGBM. Pass 'early_stopping()' callback via 'callbacks' argument instead.\n",
      "  _log_warning(\"'early_stopping_rounds' argument is deprecated and will be removed in a future release of LightGBM. \"\n",
      "C:\\Python39\\lib\\site-packages\\lightgbm\\engine.py:239: UserWarning: 'verbose_eval' argument is deprecated and will be removed in a future release of LightGBM. Pass 'log_evaluation()' callback via 'callbacks' argument instead.\n",
      "  _log_warning(\"'verbose_eval' argument is deprecated and will be removed in a future release of LightGBM. \"\n"
     ]
    },
    {
     "name": "stdout",
     "output_type": "stream",
     "text": [
      "Training until validation scores don't improve for 100 rounds\n",
      "[50]\tvalid_0's auc: 0.883735\n",
      "[100]\tvalid_0's auc: 0.891323\n",
      "[150]\tvalid_0's auc: 0.894814\n",
      "[200]\tvalid_0's auc: 0.897515\n",
      "[250]\tvalid_0's auc: 0.899352\n",
      "[300]\tvalid_0's auc: 0.900979\n",
      "[350]\tvalid_0's auc: 0.901837\n",
      "[400]\tvalid_0's auc: 0.902357\n",
      "[450]\tvalid_0's auc: 0.903129\n",
      "[500]\tvalid_0's auc: 0.903454\n",
      "[550]\tvalid_0's auc: 0.903877\n",
      "[600]\tvalid_0's auc: 0.904188\n",
      "[650]\tvalid_0's auc: 0.904473\n",
      "[700]\tvalid_0's auc: 0.904664\n",
      "[750]\tvalid_0's auc: 0.904813\n",
      "[800]\tvalid_0's auc: 0.905026\n",
      "[850]\tvalid_0's auc: 0.905226\n",
      "[900]\tvalid_0's auc: 0.905513\n",
      "[950]\tvalid_0's auc: 0.905625\n",
      "[1000]\tvalid_0's auc: 0.905736\n",
      "[1050]\tvalid_0's auc: 0.905785\n",
      "[1100]\tvalid_0's auc: 0.905831\n",
      "[1150]\tvalid_0's auc: 0.905894\n",
      "[1200]\tvalid_0's auc: 0.905982\n",
      "[1250]\tvalid_0's auc: 0.906089\n",
      "[1300]\tvalid_0's auc: 0.906108\n",
      "[1350]\tvalid_0's auc: 0.906186\n",
      "[1400]\tvalid_0's auc: 0.906212\n",
      "[1450]\tvalid_0's auc: 0.906202\n"
     ]
    },
    {
     "name": "stderr",
     "output_type": "stream",
     "text": [
      "num_leaves, val_score: 0.906250:  60%|#############################4                   | 12/20 [00:15<00:12,  1.54s/it]"
     ]
    },
    {
     "name": "stdout",
     "output_type": "stream",
     "text": [
      "[1500]\tvalid_0's auc: 0.906155\n",
      "Early stopping, best iteration is:\n",
      "[1436]\tvalid_0's auc: 0.906237\n",
      "Training until validation scores don't improve for 100 rounds\n"
     ]
    },
    {
     "name": "stderr",
     "output_type": "stream",
     "text": [
      "C:\\Python39\\lib\\site-packages\\lightgbm\\engine.py:181: UserWarning: 'early_stopping_rounds' argument is deprecated and will be removed in a future release of LightGBM. Pass 'early_stopping()' callback via 'callbacks' argument instead.\n",
      "  _log_warning(\"'early_stopping_rounds' argument is deprecated and will be removed in a future release of LightGBM. \"\n",
      "C:\\Python39\\lib\\site-packages\\lightgbm\\engine.py:239: UserWarning: 'verbose_eval' argument is deprecated and will be removed in a future release of LightGBM. Pass 'log_evaluation()' callback via 'callbacks' argument instead.\n",
      "  _log_warning(\"'verbose_eval' argument is deprecated and will be removed in a future release of LightGBM. \"\n"
     ]
    },
    {
     "name": "stdout",
     "output_type": "stream",
     "text": [
      "[50]\tvalid_0's auc: 0.885856\n",
      "[100]\tvalid_0's auc: 0.892986\n",
      "[150]\tvalid_0's auc: 0.896131\n",
      "[200]\tvalid_0's auc: 0.898676\n",
      "[250]\tvalid_0's auc: 0.900289\n",
      "[300]\tvalid_0's auc: 0.9017\n",
      "[350]\tvalid_0's auc: 0.902454\n",
      "[400]\tvalid_0's auc: 0.902983\n",
      "[450]\tvalid_0's auc: 0.903706\n",
      "[500]\tvalid_0's auc: 0.904062\n",
      "[550]\tvalid_0's auc: 0.904574\n",
      "[600]\tvalid_0's auc: 0.904913\n",
      "[650]\tvalid_0's auc: 0.905153\n",
      "[700]\tvalid_0's auc: 0.905181\n",
      "[750]\tvalid_0's auc: 0.905331\n",
      "[800]\tvalid_0's auc: 0.9055\n",
      "[850]\tvalid_0's auc: 0.90554\n",
      "[900]\tvalid_0's auc: 0.905709\n",
      "[950]\tvalid_0's auc: 0.905779\n",
      "[1000]\tvalid_0's auc: 0.905857\n",
      "[1050]\tvalid_0's auc: 0.905912\n",
      "[1100]\tvalid_0's auc: 0.905975\n",
      "[1150]\tvalid_0's auc: 0.906041\n",
      "[1200]\tvalid_0's auc: 0.90606\n",
      "[1250]\tvalid_0's auc: 0.906113\n",
      "[1300]\tvalid_0's auc: 0.906143\n",
      "[1350]\tvalid_0's auc: 0.906218\n",
      "[1400]\tvalid_0's auc: 0.906161\n"
     ]
    },
    {
     "name": "stderr",
     "output_type": "stream",
     "text": [
      "num_leaves, val_score: 0.906252:  65%|###############################8                 | 13/20 [00:17<00:10,  1.54s/it]"
     ]
    },
    {
     "name": "stdout",
     "output_type": "stream",
     "text": [
      "[1450]\tvalid_0's auc: 0.906156\n",
      "Early stopping, best iteration is:\n",
      "[1353]\tvalid_0's auc: 0.906252\n",
      "Training until validation scores don't improve for 100 rounds\n"
     ]
    },
    {
     "name": "stderr",
     "output_type": "stream",
     "text": [
      "C:\\Python39\\lib\\site-packages\\lightgbm\\engine.py:181: UserWarning: 'early_stopping_rounds' argument is deprecated and will be removed in a future release of LightGBM. Pass 'early_stopping()' callback via 'callbacks' argument instead.\n",
      "  _log_warning(\"'early_stopping_rounds' argument is deprecated and will be removed in a future release of LightGBM. \"\n",
      "C:\\Python39\\lib\\site-packages\\lightgbm\\engine.py:239: UserWarning: 'verbose_eval' argument is deprecated and will be removed in a future release of LightGBM. Pass 'log_evaluation()' callback via 'callbacks' argument instead.\n",
      "  _log_warning(\"'verbose_eval' argument is deprecated and will be removed in a future release of LightGBM. \"\n"
     ]
    },
    {
     "name": "stdout",
     "output_type": "stream",
     "text": [
      "[50]\tvalid_0's auc: 0.90205\n",
      "[100]\tvalid_0's auc: 0.903886\n",
      "[150]\tvalid_0's auc: 0.904731\n",
      "[200]\tvalid_0's auc: 0.904823\n",
      "[250]\tvalid_0's auc: 0.904773\n",
      "[300]\tvalid_0's auc: 0.904694\n",
      "Early stopping, best iteration is:\n",
      "[231]\tvalid_0's auc: 0.904965\n"
     ]
    },
    {
     "name": "stderr",
     "output_type": "stream",
     "text": [
      "num_leaves, val_score: 0.906252:  70%|##################################3              | 14/20 [00:18<00:08,  1.37s/it]C:\\Python39\\lib\\site-packages\\lightgbm\\engine.py:181: UserWarning: 'early_stopping_rounds' argument is deprecated and will be removed in a future release of LightGBM. Pass 'early_stopping()' callback via 'callbacks' argument instead.\n",
      "  _log_warning(\"'early_stopping_rounds' argument is deprecated and will be removed in a future release of LightGBM. \"\n",
      "C:\\Python39\\lib\\site-packages\\lightgbm\\engine.py:239: UserWarning: 'verbose_eval' argument is deprecated and will be removed in a future release of LightGBM. Pass 'log_evaluation()' callback via 'callbacks' argument instead.\n",
      "  _log_warning(\"'verbose_eval' argument is deprecated and will be removed in a future release of LightGBM. \"\n"
     ]
    },
    {
     "name": "stdout",
     "output_type": "stream",
     "text": [
      "Training until validation scores don't improve for 100 rounds\n",
      "[50]\tvalid_0's auc: 0.844005\n",
      "[100]\tvalid_0's auc: 0.862228\n",
      "[150]\tvalid_0's auc: 0.865763\n",
      "[200]\tvalid_0's auc: 0.871108\n",
      "[250]\tvalid_0's auc: 0.873943\n",
      "[300]\tvalid_0's auc: 0.87812\n",
      "[350]\tvalid_0's auc: 0.880207\n",
      "[400]\tvalid_0's auc: 0.88182\n",
      "[450]\tvalid_0's auc: 0.883712\n",
      "[500]\tvalid_0's auc: 0.885871\n",
      "[550]\tvalid_0's auc: 0.887656\n",
      "[600]\tvalid_0's auc: 0.889086\n",
      "[650]\tvalid_0's auc: 0.890237\n",
      "[700]\tvalid_0's auc: 0.891012\n",
      "[750]\tvalid_0's auc: 0.892232\n",
      "[800]\tvalid_0's auc: 0.89283\n",
      "[850]\tvalid_0's auc: 0.893283\n",
      "[900]\tvalid_0's auc: 0.893794\n",
      "[950]\tvalid_0's auc: 0.894276\n",
      "[1000]\tvalid_0's auc: 0.894667\n",
      "[1050]\tvalid_0's auc: 0.894964\n",
      "[1100]\tvalid_0's auc: 0.895302\n",
      "[1150]\tvalid_0's auc: 0.895603\n",
      "[1200]\tvalid_0's auc: 0.895875\n",
      "[1250]\tvalid_0's auc: 0.896237\n",
      "[1300]\tvalid_0's auc: 0.896551\n",
      "[1350]\tvalid_0's auc: 0.896869\n",
      "[1400]\tvalid_0's auc: 0.897123\n",
      "[1450]\tvalid_0's auc: 0.897356\n",
      "[1500]\tvalid_0's auc: 0.897568\n",
      "[1550]\tvalid_0's auc: 0.897735\n",
      "[1600]\tvalid_0's auc: 0.897957\n",
      "[1650]\tvalid_0's auc: 0.898181\n",
      "[1700]\tvalid_0's auc: 0.898368\n",
      "[1750]\tvalid_0's auc: 0.89853\n",
      "[1800]\tvalid_0's auc: 0.898676\n",
      "[1850]\tvalid_0's auc: 0.898846\n",
      "[1900]\tvalid_0's auc: 0.898866\n",
      "[1950]\tvalid_0's auc: 0.899011\n",
      "[2000]\tvalid_0's auc: 0.899079\n",
      "[2050]\tvalid_0's auc: 0.899201\n",
      "[2100]\tvalid_0's auc: 0.899288\n",
      "[2150]\tvalid_0's auc: 0.899409\n",
      "[2200]\tvalid_0's auc: 0.899503\n",
      "[2250]\tvalid_0's auc: 0.8996\n",
      "[2300]\tvalid_0's auc: 0.89964\n",
      "[2350]\tvalid_0's auc: 0.899674\n",
      "[2400]\tvalid_0's auc: 0.89971\n",
      "[2450]\tvalid_0's auc: 0.899762\n",
      "[2500]\tvalid_0's auc: 0.899854\n",
      "[2550]\tvalid_0's auc: 0.899925\n",
      "[2600]\tvalid_0's auc: 0.899993\n",
      "[2650]\tvalid_0's auc: 0.900037\n",
      "[2700]\tvalid_0's auc: 0.900084\n",
      "[2750]\tvalid_0's auc: 0.900123\n",
      "[2800]\tvalid_0's auc: 0.900144\n",
      "[2850]\tvalid_0's auc: 0.900209\n",
      "[2900]\tvalid_0's auc: 0.900279\n",
      "[2950]\tvalid_0's auc: 0.900302\n",
      "[3000]\tvalid_0's auc: 0.900359\n",
      "[3050]\tvalid_0's auc: 0.900417\n",
      "[3100]\tvalid_0's auc: 0.900448\n",
      "[3150]\tvalid_0's auc: 0.900499\n",
      "[3200]\tvalid_0's auc: 0.900536\n",
      "[3250]\tvalid_0's auc: 0.900571\n",
      "[3300]\tvalid_0's auc: 0.900631\n",
      "[3350]\tvalid_0's auc: 0.90066\n",
      "[3400]\tvalid_0's auc: 0.90075\n",
      "[3450]\tvalid_0's auc: 0.900765\n",
      "[3500]\tvalid_0's auc: 0.900806\n",
      "[3550]\tvalid_0's auc: 0.90081\n",
      "[3600]\tvalid_0's auc: 0.90086\n",
      "[3650]\tvalid_0's auc: 0.900879\n",
      "[3700]\tvalid_0's auc: 0.900932\n",
      "[3750]\tvalid_0's auc: 0.900963\n",
      "[3800]\tvalid_0's auc: 0.900997\n",
      "[3850]\tvalid_0's auc: 0.90101\n",
      "[3900]\tvalid_0's auc: 0.901066\n",
      "[3950]\tvalid_0's auc: 0.901098\n",
      "[4000]\tvalid_0's auc: 0.901131\n",
      "[4050]\tvalid_0's auc: 0.90119\n",
      "[4100]\tvalid_0's auc: 0.901215\n",
      "[4150]\tvalid_0's auc: 0.901269\n",
      "[4200]\tvalid_0's auc: 0.901309\n",
      "[4250]\tvalid_0's auc: 0.901331\n",
      "[4300]\tvalid_0's auc: 0.901371\n",
      "[4350]\tvalid_0's auc: 0.901407\n",
      "[4400]\tvalid_0's auc: 0.901424\n",
      "[4450]\tvalid_0's auc: 0.901453\n",
      "[4500]\tvalid_0's auc: 0.901513\n",
      "[4550]\tvalid_0's auc: 0.901544\n",
      "[4600]\tvalid_0's auc: 0.901583\n",
      "[4650]\tvalid_0's auc: 0.901629\n",
      "[4700]\tvalid_0's auc: 0.901659\n",
      "[4750]\tvalid_0's auc: 0.901694\n",
      "[4800]\tvalid_0's auc: 0.901706\n",
      "[4850]\tvalid_0's auc: 0.901732\n",
      "[4900]\tvalid_0's auc: 0.901735\n",
      "[4950]\tvalid_0's auc: 0.901757\n",
      "[5000]\tvalid_0's auc: 0.901794\n",
      "[5050]\tvalid_0's auc: 0.901807\n",
      "[5100]\tvalid_0's auc: 0.90183\n",
      "[5150]\tvalid_0's auc: 0.901867\n",
      "[5200]\tvalid_0's auc: 0.901891\n",
      "[5250]\tvalid_0's auc: 0.901905\n",
      "[5300]\tvalid_0's auc: 0.901917\n",
      "[5350]\tvalid_0's auc: 0.901946\n",
      "[5400]\tvalid_0's auc: 0.901968\n",
      "[5450]\tvalid_0's auc: 0.901971\n",
      "[5500]\tvalid_0's auc: 0.902003\n",
      "[5550]\tvalid_0's auc: 0.902023\n",
      "[5600]\tvalid_0's auc: 0.902066\n",
      "[5650]\tvalid_0's auc: 0.902073\n",
      "[5700]\tvalid_0's auc: 0.9021\n",
      "[5750]\tvalid_0's auc: 0.902105\n",
      "[5800]\tvalid_0's auc: 0.902121\n",
      "[5850]\tvalid_0's auc: 0.902142\n",
      "[5900]\tvalid_0's auc: 0.902146\n",
      "[5950]\tvalid_0's auc: 0.902199\n",
      "[6000]\tvalid_0's auc: 0.902207\n",
      "[6050]\tvalid_0's auc: 0.902233\n",
      "[6100]\tvalid_0's auc: 0.902235\n",
      "[6150]\tvalid_0's auc: 0.902263\n",
      "[6200]\tvalid_0's auc: 0.902276\n",
      "[6250]\tvalid_0's auc: 0.902299\n",
      "[6300]\tvalid_0's auc: 0.902323\n",
      "[6350]\tvalid_0's auc: 0.902332\n",
      "[6400]\tvalid_0's auc: 0.902354\n",
      "[6450]\tvalid_0's auc: 0.90237\n",
      "[6500]\tvalid_0's auc: 0.902394\n",
      "[6550]\tvalid_0's auc: 0.902407\n",
      "[6600]\tvalid_0's auc: 0.902414\n",
      "[6650]\tvalid_0's auc: 0.902447\n",
      "[6700]\tvalid_0's auc: 0.902451\n",
      "[6750]\tvalid_0's auc: 0.902473\n",
      "[6800]\tvalid_0's auc: 0.902491\n",
      "[6850]\tvalid_0's auc: 0.902498\n",
      "[6900]\tvalid_0's auc: 0.902517\n",
      "[6950]\tvalid_0's auc: 0.902529\n",
      "[7000]\tvalid_0's auc: 0.902558\n",
      "[7050]\tvalid_0's auc: 0.902577\n",
      "[7100]\tvalid_0's auc: 0.902582\n",
      "[7150]\tvalid_0's auc: 0.902605\n",
      "[7200]\tvalid_0's auc: 0.9026\n",
      "[7250]\tvalid_0's auc: 0.902616\n",
      "[7300]\tvalid_0's auc: 0.902635\n",
      "[7350]\tvalid_0's auc: 0.902633\n",
      "[7400]\tvalid_0's auc: 0.902663\n",
      "[7450]\tvalid_0's auc: 0.902667\n",
      "[7500]\tvalid_0's auc: 0.902678\n",
      "[7550]\tvalid_0's auc: 0.902676\n",
      "[7600]\tvalid_0's auc: 0.902717\n",
      "[7650]\tvalid_0's auc: 0.902729\n",
      "[7700]\tvalid_0's auc: 0.902735\n",
      "[7750]\tvalid_0's auc: 0.902747\n",
      "[7800]\tvalid_0's auc: 0.902758\n",
      "[7850]\tvalid_0's auc: 0.902767\n",
      "[7900]\tvalid_0's auc: 0.902774\n",
      "[7950]\tvalid_0's auc: 0.902793\n",
      "[8000]\tvalid_0's auc: 0.902809\n",
      "[8050]\tvalid_0's auc: 0.902819\n",
      "[8100]\tvalid_0's auc: 0.902822\n",
      "[8150]\tvalid_0's auc: 0.902841\n",
      "[8200]\tvalid_0's auc: 0.902858\n",
      "[8250]\tvalid_0's auc: 0.902864\n",
      "[8300]\tvalid_0's auc: 0.90289\n",
      "[8350]\tvalid_0's auc: 0.902904\n",
      "[8400]\tvalid_0's auc: 0.902921\n",
      "[8450]\tvalid_0's auc: 0.902913\n",
      "Early stopping, best iteration is:\n",
      "[8378]\tvalid_0's auc: 0.902927\n"
     ]
    },
    {
     "name": "stderr",
     "output_type": "stream",
     "text": [
      "num_leaves, val_score: 0.906252:  75%|####################################7            | 15/20 [00:25<00:14,  2.99s/it]C:\\Python39\\lib\\site-packages\\lightgbm\\engine.py:181: UserWarning: 'early_stopping_rounds' argument is deprecated and will be removed in a future release of LightGBM. Pass 'early_stopping()' callback via 'callbacks' argument instead.\n",
      "  _log_warning(\"'early_stopping_rounds' argument is deprecated and will be removed in a future release of LightGBM. \"\n",
      "C:\\Python39\\lib\\site-packages\\lightgbm\\engine.py:239: UserWarning: 'verbose_eval' argument is deprecated and will be removed in a future release of LightGBM. Pass 'log_evaluation()' callback via 'callbacks' argument instead.\n",
      "  _log_warning(\"'verbose_eval' argument is deprecated and will be removed in a future release of LightGBM. \"\n"
     ]
    },
    {
     "name": "stdout",
     "output_type": "stream",
     "text": [
      "Training until validation scores don't improve for 100 rounds\n",
      "[50]\tvalid_0's auc: 0.901106\n",
      "[100]\tvalid_0's auc: 0.903291\n",
      "[150]\tvalid_0's auc: 0.904628\n",
      "[200]\tvalid_0's auc: 0.905112\n",
      "[250]\tvalid_0's auc: 0.90528\n"
     ]
    },
    {
     "name": "stderr",
     "output_type": "stream",
     "text": [
      "num_leaves, val_score: 0.906252:  75%|####################################7            | 15/20 [00:26<00:14,  2.99s/it]"
     ]
    },
    {
     "name": "stdout",
     "output_type": "stream",
     "text": [
      "[300]\tvalid_0's auc: 0.90545\n",
      "[350]\tvalid_0's auc: 0.905287\n",
      "Early stopping, best iteration is:\n",
      "[274]\tvalid_0's auc: 0.905512\n"
     ]
    },
    {
     "name": "stderr",
     "output_type": "stream",
     "text": [
      "num_leaves, val_score: 0.906252:  80%|#######################################2         | 16/20 [00:26<00:09,  2.48s/it]C:\\Python39\\lib\\site-packages\\lightgbm\\engine.py:181: UserWarning: 'early_stopping_rounds' argument is deprecated and will be removed in a future release of LightGBM. Pass 'early_stopping()' callback via 'callbacks' argument instead.\n",
      "  _log_warning(\"'early_stopping_rounds' argument is deprecated and will be removed in a future release of LightGBM. \"\n",
      "C:\\Python39\\lib\\site-packages\\lightgbm\\engine.py:239: UserWarning: 'verbose_eval' argument is deprecated and will be removed in a future release of LightGBM. Pass 'log_evaluation()' callback via 'callbacks' argument instead.\n",
      "  _log_warning(\"'verbose_eval' argument is deprecated and will be removed in a future release of LightGBM. \"\n"
     ]
    },
    {
     "name": "stdout",
     "output_type": "stream",
     "text": [
      "Training until validation scores don't improve for 100 rounds\n",
      "[50]\tvalid_0's auc: 0.902347\n",
      "[100]\tvalid_0's auc: 0.903964\n",
      "[150]\tvalid_0's auc: 0.904756\n",
      "[200]\tvalid_0's auc: 0.90469\n"
     ]
    },
    {
     "name": "stderr",
     "output_type": "stream",
     "text": [
      "num_leaves, val_score: 0.906252:  85%|#########################################6       | 17/20 [00:27<00:06,  2.06s/it]"
     ]
    },
    {
     "name": "stdout",
     "output_type": "stream",
     "text": [
      "[250]\tvalid_0's auc: 0.904506\n",
      "Early stopping, best iteration is:\n",
      "[166]\tvalid_0's auc: 0.904808\n",
      "Training until validation scores don't improve for 100 rounds\n"
     ]
    },
    {
     "name": "stderr",
     "output_type": "stream",
     "text": [
      "C:\\Python39\\lib\\site-packages\\lightgbm\\engine.py:181: UserWarning: 'early_stopping_rounds' argument is deprecated and will be removed in a future release of LightGBM. Pass 'early_stopping()' callback via 'callbacks' argument instead.\n",
      "  _log_warning(\"'early_stopping_rounds' argument is deprecated and will be removed in a future release of LightGBM. \"\n",
      "C:\\Python39\\lib\\site-packages\\lightgbm\\engine.py:239: UserWarning: 'verbose_eval' argument is deprecated and will be removed in a future release of LightGBM. Pass 'log_evaluation()' callback via 'callbacks' argument instead.\n",
      "  _log_warning(\"'verbose_eval' argument is deprecated and will be removed in a future release of LightGBM. \"\n"
     ]
    },
    {
     "name": "stdout",
     "output_type": "stream",
     "text": [
      "[50]\tvalid_0's auc: 0.899666\n",
      "[100]\tvalid_0's auc: 0.902251\n",
      "[150]\tvalid_0's auc: 0.90394\n",
      "[200]\tvalid_0's auc: 0.904975\n",
      "[250]\tvalid_0's auc: 0.905384\n",
      "[300]\tvalid_0's auc: 0.905553\n",
      "[350]\tvalid_0's auc: 0.905479\n",
      "[400]\tvalid_0's auc: 0.905291\n",
      "Early stopping, best iteration is:\n",
      "[300]\tvalid_0's auc: 0.905553\n"
     ]
    },
    {
     "name": "stderr",
     "output_type": "stream",
     "text": [
      "num_leaves, val_score: 0.906252:  90%|############################################1    | 18/20 [00:28<00:03,  1.81s/it]C:\\Python39\\lib\\site-packages\\lightgbm\\engine.py:181: UserWarning: 'early_stopping_rounds' argument is deprecated and will be removed in a future release of LightGBM. Pass 'early_stopping()' callback via 'callbacks' argument instead.\n",
      "  _log_warning(\"'early_stopping_rounds' argument is deprecated and will be removed in a future release of LightGBM. \"\n",
      "C:\\Python39\\lib\\site-packages\\lightgbm\\engine.py:239: UserWarning: 'verbose_eval' argument is deprecated and will be removed in a future release of LightGBM. Pass 'log_evaluation()' callback via 'callbacks' argument instead.\n",
      "  _log_warning(\"'verbose_eval' argument is deprecated and will be removed in a future release of LightGBM. \"\n"
     ]
    },
    {
     "name": "stdout",
     "output_type": "stream",
     "text": [
      "Training until validation scores don't improve for 100 rounds\n",
      "[50]\tvalid_0's auc: 0.90254\n",
      "[100]\tvalid_0's auc: 0.903866\n",
      "[150]\tvalid_0's auc: 0.903985\n"
     ]
    },
    {
     "name": "stderr",
     "output_type": "stream",
     "text": [
      "num_leaves, val_score: 0.906252:  90%|############################################1    | 18/20 [00:30<00:03,  1.81s/it]"
     ]
    },
    {
     "name": "stdout",
     "output_type": "stream",
     "text": [
      "[200]\tvalid_0's auc: 0.903564\n",
      "Early stopping, best iteration is:\n",
      "[127]\tvalid_0's auc: 0.904252\n"
     ]
    },
    {
     "name": "stderr",
     "output_type": "stream",
     "text": [
      "num_leaves, val_score: 0.906252:  95%|##############################################5  | 19/20 [00:30<00:01,  1.69s/it]C:\\Python39\\lib\\site-packages\\lightgbm\\engine.py:181: UserWarning: 'early_stopping_rounds' argument is deprecated and will be removed in a future release of LightGBM. Pass 'early_stopping()' callback via 'callbacks' argument instead.\n",
      "  _log_warning(\"'early_stopping_rounds' argument is deprecated and will be removed in a future release of LightGBM. \"\n",
      "C:\\Python39\\lib\\site-packages\\lightgbm\\engine.py:239: UserWarning: 'verbose_eval' argument is deprecated and will be removed in a future release of LightGBM. Pass 'log_evaluation()' callback via 'callbacks' argument instead.\n",
      "  _log_warning(\"'verbose_eval' argument is deprecated and will be removed in a future release of LightGBM. \"\n"
     ]
    },
    {
     "name": "stdout",
     "output_type": "stream",
     "text": [
      "Training until validation scores don't improve for 100 rounds\n",
      "[50]\tvalid_0's auc: 0.899253\n",
      "[100]\tvalid_0's auc: 0.901851\n",
      "[150]\tvalid_0's auc: 0.903841\n",
      "[200]\tvalid_0's auc: 0.904873\n",
      "[250]\tvalid_0's auc: 0.90544\n",
      "[300]\tvalid_0's auc: 0.905759\n",
      "[350]\tvalid_0's auc: 0.905579\n"
     ]
    },
    {
     "name": "stderr",
     "output_type": "stream",
     "text": [
      "num_leaves, val_score: 0.906252: 100%|#################################################| 20/20 [00:30<00:00,  1.55s/it]\n"
     ]
    },
    {
     "name": "stdout",
     "output_type": "stream",
     "text": [
      "[400]\tvalid_0's auc: 0.905416\n",
      "Early stopping, best iteration is:\n",
      "[300]\tvalid_0's auc: 0.905759\n"
     ]
    },
    {
     "name": "stderr",
     "output_type": "stream",
     "text": [
      "bagging, val_score: 0.906252:   0%|                                                             | 0/10 [00:00<?, ?it/s]"
     ]
    },
    {
     "name": "stdout",
     "output_type": "stream",
     "text": [
      "Training until validation scores don't improve for 100 rounds\n",
      "[50]\tvalid_0's auc: 0.885908\n"
     ]
    },
    {
     "name": "stderr",
     "output_type": "stream",
     "text": [
      "C:\\Python39\\lib\\site-packages\\lightgbm\\engine.py:181: UserWarning: 'early_stopping_rounds' argument is deprecated and will be removed in a future release of LightGBM. Pass 'early_stopping()' callback via 'callbacks' argument instead.\n",
      "  _log_warning(\"'early_stopping_rounds' argument is deprecated and will be removed in a future release of LightGBM. \"\n",
      "C:\\Python39\\lib\\site-packages\\lightgbm\\engine.py:239: UserWarning: 'verbose_eval' argument is deprecated and will be removed in a future release of LightGBM. Pass 'log_evaluation()' callback via 'callbacks' argument instead.\n",
      "  _log_warning(\"'verbose_eval' argument is deprecated and will be removed in a future release of LightGBM. \"\n"
     ]
    },
    {
     "name": "stdout",
     "output_type": "stream",
     "text": [
      "[100]\tvalid_0's auc: 0.893009\n",
      "[150]\tvalid_0's auc: 0.896789\n",
      "[200]\tvalid_0's auc: 0.899362\n",
      "[250]\tvalid_0's auc: 0.900753\n",
      "[300]\tvalid_0's auc: 0.902178\n",
      "[350]\tvalid_0's auc: 0.903021\n",
      "[400]\tvalid_0's auc: 0.903613\n",
      "[450]\tvalid_0's auc: 0.904052\n",
      "[500]\tvalid_0's auc: 0.904443\n",
      "[550]\tvalid_0's auc: 0.904805\n",
      "[600]\tvalid_0's auc: 0.905053\n",
      "[650]\tvalid_0's auc: 0.905354\n",
      "[700]\tvalid_0's auc: 0.905665\n",
      "[750]\tvalid_0's auc: 0.905872\n",
      "[800]\tvalid_0's auc: 0.905931\n",
      "[850]\tvalid_0's auc: 0.906091\n",
      "[900]\tvalid_0's auc: 0.906189\n",
      "[950]\tvalid_0's auc: 0.906161\n",
      "[1000]\tvalid_0's auc: 0.906288\n",
      "[1050]\tvalid_0's auc: 0.906319\n",
      "[1100]\tvalid_0's auc: 0.906333\n",
      "[1150]\tvalid_0's auc: 0.906426\n",
      "[1200]\tvalid_0's auc: 0.906425\n",
      "[1250]\tvalid_0's auc: 0.906438\n"
     ]
    },
    {
     "name": "stderr",
     "output_type": "stream",
     "text": [
      "bagging, val_score: 0.906495:  10%|#####3                                               | 1/10 [00:01<00:15,  1.75s/it]"
     ]
    },
    {
     "name": "stdout",
     "output_type": "stream",
     "text": [
      "Early stopping, best iteration is:\n",
      "[1180]\tvalid_0's auc: 0.906495\n",
      "Training until validation scores don't improve for 100 rounds\n"
     ]
    },
    {
     "name": "stderr",
     "output_type": "stream",
     "text": [
      "C:\\Python39\\lib\\site-packages\\lightgbm\\engine.py:181: UserWarning: 'early_stopping_rounds' argument is deprecated and will be removed in a future release of LightGBM. Pass 'early_stopping()' callback via 'callbacks' argument instead.\n",
      "  _log_warning(\"'early_stopping_rounds' argument is deprecated and will be removed in a future release of LightGBM. \"\n",
      "C:\\Python39\\lib\\site-packages\\lightgbm\\engine.py:239: UserWarning: 'verbose_eval' argument is deprecated and will be removed in a future release of LightGBM. Pass 'log_evaluation()' callback via 'callbacks' argument instead.\n",
      "  _log_warning(\"'verbose_eval' argument is deprecated and will be removed in a future release of LightGBM. \"\n"
     ]
    },
    {
     "name": "stdout",
     "output_type": "stream",
     "text": [
      "[50]\tvalid_0's auc: 0.885807\n",
      "[100]\tvalid_0's auc: 0.893442\n",
      "[150]\tvalid_0's auc: 0.896968\n",
      "[200]\tvalid_0's auc: 0.899759\n",
      "[250]\tvalid_0's auc: 0.901421\n",
      "[300]\tvalid_0's auc: 0.902681\n",
      "[350]\tvalid_0's auc: 0.903357\n",
      "[400]\tvalid_0's auc: 0.903896\n",
      "[450]\tvalid_0's auc: 0.904532\n",
      "[500]\tvalid_0's auc: 0.904925\n",
      "[550]\tvalid_0's auc: 0.905251\n",
      "[600]\tvalid_0's auc: 0.905601\n",
      "[650]\tvalid_0's auc: 0.905918\n",
      "[700]\tvalid_0's auc: 0.906034\n",
      "[750]\tvalid_0's auc: 0.906299\n",
      "[800]\tvalid_0's auc: 0.90634\n",
      "[850]\tvalid_0's auc: 0.906327\n",
      "[900]\tvalid_0's auc: 0.906486\n",
      "[950]\tvalid_0's auc: 0.906588\n",
      "[1000]\tvalid_0's auc: 0.906664\n"
     ]
    },
    {
     "name": "stderr",
     "output_type": "stream",
     "text": [
      "bagging, val_score: 0.906666:  20%|##########6                                          | 2/10 [00:03<00:12,  1.60s/it]"
     ]
    },
    {
     "name": "stdout",
     "output_type": "stream",
     "text": [
      "[1050]\tvalid_0's auc: 0.906508\n",
      "[1100]\tvalid_0's auc: 0.906547\n",
      "Early stopping, best iteration is:\n",
      "[1001]\tvalid_0's auc: 0.906666\n"
     ]
    },
    {
     "name": "stderr",
     "output_type": "stream",
     "text": [
      "C:\\Python39\\lib\\site-packages\\lightgbm\\engine.py:181: UserWarning: 'early_stopping_rounds' argument is deprecated and will be removed in a future release of LightGBM. Pass 'early_stopping()' callback via 'callbacks' argument instead.\n",
      "  _log_warning(\"'early_stopping_rounds' argument is deprecated and will be removed in a future release of LightGBM. \"\n",
      "C:\\Python39\\lib\\site-packages\\lightgbm\\engine.py:239: UserWarning: 'verbose_eval' argument is deprecated and will be removed in a future release of LightGBM. Pass 'log_evaluation()' callback via 'callbacks' argument instead.\n",
      "  _log_warning(\"'verbose_eval' argument is deprecated and will be removed in a future release of LightGBM. \"\n"
     ]
    },
    {
     "name": "stdout",
     "output_type": "stream",
     "text": [
      "Training until validation scores don't improve for 100 rounds\n",
      "[50]\tvalid_0's auc: 0.886072\n",
      "[100]\tvalid_0's auc: 0.893019\n",
      "[150]\tvalid_0's auc: 0.896081\n",
      "[200]\tvalid_0's auc: 0.898771\n",
      "[250]\tvalid_0's auc: 0.900353\n",
      "[300]\tvalid_0's auc: 0.901778\n",
      "[350]\tvalid_0's auc: 0.902717\n",
      "[400]\tvalid_0's auc: 0.903261\n",
      "[450]\tvalid_0's auc: 0.903905\n",
      "[500]\tvalid_0's auc: 0.904235\n",
      "[550]\tvalid_0's auc: 0.90473\n",
      "[600]\tvalid_0's auc: 0.904963\n",
      "[650]\tvalid_0's auc: 0.905308\n",
      "[700]\tvalid_0's auc: 0.905436\n",
      "[750]\tvalid_0's auc: 0.905647\n",
      "[800]\tvalid_0's auc: 0.905795\n",
      "[850]\tvalid_0's auc: 0.905981\n",
      "[900]\tvalid_0's auc: 0.906196\n",
      "[950]\tvalid_0's auc: 0.906299\n",
      "[1000]\tvalid_0's auc: 0.906397\n",
      "[1050]\tvalid_0's auc: 0.906444\n",
      "[1100]\tvalid_0's auc: 0.906516\n",
      "[1150]\tvalid_0's auc: 0.906649\n",
      "[1200]\tvalid_0's auc: 0.906772\n",
      "[1250]\tvalid_0's auc: 0.906747\n",
      "[1300]\tvalid_0's auc: 0.906749\n",
      "Early stopping, best iteration is:\n",
      "[1213]\tvalid_0's auc: 0.906824\n"
     ]
    },
    {
     "name": "stderr",
     "output_type": "stream",
     "text": [
      "bagging, val_score: 0.906824:  30%|###############9                                     | 3/10 [00:05<00:12,  1.75s/it]C:\\Python39\\lib\\site-packages\\lightgbm\\engine.py:181: UserWarning: 'early_stopping_rounds' argument is deprecated and will be removed in a future release of LightGBM. Pass 'early_stopping()' callback via 'callbacks' argument instead.\n",
      "  _log_warning(\"'early_stopping_rounds' argument is deprecated and will be removed in a future release of LightGBM. \"\n",
      "C:\\Python39\\lib\\site-packages\\lightgbm\\engine.py:239: UserWarning: 'verbose_eval' argument is deprecated and will be removed in a future release of LightGBM. Pass 'log_evaluation()' callback via 'callbacks' argument instead.\n",
      "  _log_warning(\"'verbose_eval' argument is deprecated and will be removed in a future release of LightGBM. \"\n"
     ]
    },
    {
     "name": "stdout",
     "output_type": "stream",
     "text": [
      "Training until validation scores don't improve for 100 rounds\n",
      "[50]\tvalid_0's auc: 0.886863\n",
      "[100]\tvalid_0's auc: 0.894475\n",
      "[150]\tvalid_0's auc: 0.897461\n",
      "[200]\tvalid_0's auc: 0.900068\n",
      "[250]\tvalid_0's auc: 0.901398\n",
      "[300]\tvalid_0's auc: 0.902724\n",
      "[350]\tvalid_0's auc: 0.903441\n",
      "[400]\tvalid_0's auc: 0.903808\n",
      "[450]\tvalid_0's auc: 0.904157\n",
      "[500]\tvalid_0's auc: 0.904501\n",
      "[550]\tvalid_0's auc: 0.90492\n",
      "[600]\tvalid_0's auc: 0.905294\n",
      "[650]\tvalid_0's auc: 0.905557\n",
      "[700]\tvalid_0's auc: 0.905783\n",
      "[750]\tvalid_0's auc: 0.90606\n",
      "[800]\tvalid_0's auc: 0.906198\n",
      "[850]\tvalid_0's auc: 0.906347\n",
      "[900]\tvalid_0's auc: 0.906507\n",
      "[950]\tvalid_0's auc: 0.906646\n"
     ]
    },
    {
     "name": "stderr",
     "output_type": "stream",
     "text": [
      "bagging, val_score: 0.906824:  30%|###############9                                     | 3/10 [00:06<00:12,  1.75s/it]"
     ]
    },
    {
     "name": "stdout",
     "output_type": "stream",
     "text": [
      "[1000]\tvalid_0's auc: 0.906771\n",
      "[1050]\tvalid_0's auc: 0.906682\n",
      "[1100]\tvalid_0's auc: 0.906667\n",
      "Early stopping, best iteration is:\n",
      "[1006]\tvalid_0's auc: 0.906817\n"
     ]
    },
    {
     "name": "stderr",
     "output_type": "stream",
     "text": [
      "bagging, val_score: 0.906824:  40%|#####################2                               | 4/10 [00:06<00:10,  1.71s/it]C:\\Python39\\lib\\site-packages\\lightgbm\\engine.py:181: UserWarning: 'early_stopping_rounds' argument is deprecated and will be removed in a future release of LightGBM. Pass 'early_stopping()' callback via 'callbacks' argument instead.\n",
      "  _log_warning(\"'early_stopping_rounds' argument is deprecated and will be removed in a future release of LightGBM. \"\n",
      "C:\\Python39\\lib\\site-packages\\lightgbm\\engine.py:239: UserWarning: 'verbose_eval' argument is deprecated and will be removed in a future release of LightGBM. Pass 'log_evaluation()' callback via 'callbacks' argument instead.\n",
      "  _log_warning(\"'verbose_eval' argument is deprecated and will be removed in a future release of LightGBM. \"\n"
     ]
    },
    {
     "name": "stdout",
     "output_type": "stream",
     "text": [
      "Training until validation scores don't improve for 100 rounds\n",
      "[50]\tvalid_0's auc: 0.886387\n",
      "[100]\tvalid_0's auc: 0.893254\n",
      "[150]\tvalid_0's auc: 0.897604\n",
      "[200]\tvalid_0's auc: 0.900057\n",
      "[250]\tvalid_0's auc: 0.901418\n",
      "[300]\tvalid_0's auc: 0.902646\n",
      "[350]\tvalid_0's auc: 0.903386\n",
      "[400]\tvalid_0's auc: 0.904057\n",
      "[450]\tvalid_0's auc: 0.904516\n",
      "[500]\tvalid_0's auc: 0.904998\n",
      "[550]\tvalid_0's auc: 0.905412\n",
      "[600]\tvalid_0's auc: 0.905739\n",
      "[650]\tvalid_0's auc: 0.905914\n",
      "[700]\tvalid_0's auc: 0.905959\n",
      "[750]\tvalid_0's auc: 0.90617\n"
     ]
    },
    {
     "name": "stderr",
     "output_type": "stream",
     "text": [
      "bagging, val_score: 0.906824:  50%|##########################5                          | 5/10 [00:07<00:07,  1.50s/it]"
     ]
    },
    {
     "name": "stdout",
     "output_type": "stream",
     "text": [
      "[800]\tvalid_0's auc: 0.906103\n",
      "Early stopping, best iteration is:\n",
      "[749]\tvalid_0's auc: 0.906179\n",
      "Training until validation scores don't improve for 100 rounds\n"
     ]
    },
    {
     "name": "stderr",
     "output_type": "stream",
     "text": [
      "C:\\Python39\\lib\\site-packages\\lightgbm\\engine.py:181: UserWarning: 'early_stopping_rounds' argument is deprecated and will be removed in a future release of LightGBM. Pass 'early_stopping()' callback via 'callbacks' argument instead.\n",
      "  _log_warning(\"'early_stopping_rounds' argument is deprecated and will be removed in a future release of LightGBM. \"\n",
      "C:\\Python39\\lib\\site-packages\\lightgbm\\engine.py:239: UserWarning: 'verbose_eval' argument is deprecated and will be removed in a future release of LightGBM. Pass 'log_evaluation()' callback via 'callbacks' argument instead.\n",
      "  _log_warning(\"'verbose_eval' argument is deprecated and will be removed in a future release of LightGBM. \"\n"
     ]
    },
    {
     "name": "stdout",
     "output_type": "stream",
     "text": [
      "[50]\tvalid_0's auc: 0.886567\n",
      "[100]\tvalid_0's auc: 0.893425\n",
      "[150]\tvalid_0's auc: 0.89783\n",
      "[200]\tvalid_0's auc: 0.900151\n",
      "[250]\tvalid_0's auc: 0.901615\n",
      "[300]\tvalid_0's auc: 0.902803\n",
      "[350]\tvalid_0's auc: 0.903487\n",
      "[400]\tvalid_0's auc: 0.904019\n",
      "[450]\tvalid_0's auc: 0.90464\n",
      "[500]\tvalid_0's auc: 0.905105\n",
      "[550]\tvalid_0's auc: 0.905428\n",
      "[600]\tvalid_0's auc: 0.905794\n",
      "[650]\tvalid_0's auc: 0.905794\n",
      "[700]\tvalid_0's auc: 0.90589\n",
      "[750]\tvalid_0's auc: 0.906058\n",
      "[800]\tvalid_0's auc: 0.906139\n",
      "[850]\tvalid_0's auc: 0.906156\n",
      "[900]\tvalid_0's auc: 0.906138\n",
      "[950]\tvalid_0's auc: 0.906119\n",
      "[1000]\tvalid_0's auc: 0.906301\n"
     ]
    },
    {
     "name": "stderr",
     "output_type": "stream",
     "text": [
      "bagging, val_score: 0.906824:  60%|###############################8                     | 6/10 [00:09<00:06,  1.50s/it]"
     ]
    },
    {
     "name": "stdout",
     "output_type": "stream",
     "text": [
      "[1050]\tvalid_0's auc: 0.906184\n",
      "[1100]\tvalid_0's auc: 0.906219\n",
      "Early stopping, best iteration is:\n",
      "[1027]\tvalid_0's auc: 0.906421\n"
     ]
    },
    {
     "name": "stderr",
     "output_type": "stream",
     "text": [
      "C:\\Python39\\lib\\site-packages\\lightgbm\\engine.py:181: UserWarning: 'early_stopping_rounds' argument is deprecated and will be removed in a future release of LightGBM. Pass 'early_stopping()' callback via 'callbacks' argument instead.\n",
      "  _log_warning(\"'early_stopping_rounds' argument is deprecated and will be removed in a future release of LightGBM. \"\n",
      "C:\\Python39\\lib\\site-packages\\lightgbm\\engine.py:239: UserWarning: 'verbose_eval' argument is deprecated and will be removed in a future release of LightGBM. Pass 'log_evaluation()' callback via 'callbacks' argument instead.\n",
      "  _log_warning(\"'verbose_eval' argument is deprecated and will be removed in a future release of LightGBM. \"\n"
     ]
    },
    {
     "name": "stdout",
     "output_type": "stream",
     "text": [
      "Training until validation scores don't improve for 100 rounds\n",
      "[50]\tvalid_0's auc: 0.885891\n",
      "[100]\tvalid_0's auc: 0.893357\n",
      "[150]\tvalid_0's auc: 0.896612\n",
      "[200]\tvalid_0's auc: 0.899093\n",
      "[250]\tvalid_0's auc: 0.9007\n",
      "[300]\tvalid_0's auc: 0.902116\n",
      "[350]\tvalid_0's auc: 0.9029\n",
      "[400]\tvalid_0's auc: 0.903462\n",
      "[450]\tvalid_0's auc: 0.90418\n",
      "[500]\tvalid_0's auc: 0.904585\n",
      "[550]\tvalid_0's auc: 0.904977\n",
      "[600]\tvalid_0's auc: 0.90521\n",
      "[650]\tvalid_0's auc: 0.90542\n",
      "[700]\tvalid_0's auc: 0.905709\n",
      "[750]\tvalid_0's auc: 0.905898\n",
      "[800]\tvalid_0's auc: 0.906001\n",
      "[850]\tvalid_0's auc: 0.906159\n",
      "[900]\tvalid_0's auc: 0.906307\n",
      "[950]\tvalid_0's auc: 0.906456\n",
      "[1000]\tvalid_0's auc: 0.906572\n"
     ]
    },
    {
     "name": "stderr",
     "output_type": "stream",
     "text": [
      "bagging, val_score: 0.906824:  70%|#####################################                | 7/10 [00:11<00:04,  1.59s/it]"
     ]
    },
    {
     "name": "stdout",
     "output_type": "stream",
     "text": [
      "[1050]\tvalid_0's auc: 0.906474\n",
      "[1100]\tvalid_0's auc: 0.906524\n",
      "Early stopping, best iteration is:\n",
      "[1006]\tvalid_0's auc: 0.906623\n"
     ]
    },
    {
     "name": "stderr",
     "output_type": "stream",
     "text": [
      "C:\\Python39\\lib\\site-packages\\lightgbm\\engine.py:181: UserWarning: 'early_stopping_rounds' argument is deprecated and will be removed in a future release of LightGBM. Pass 'early_stopping()' callback via 'callbacks' argument instead.\n",
      "  _log_warning(\"'early_stopping_rounds' argument is deprecated and will be removed in a future release of LightGBM. \"\n",
      "C:\\Python39\\lib\\site-packages\\lightgbm\\engine.py:239: UserWarning: 'verbose_eval' argument is deprecated and will be removed in a future release of LightGBM. Pass 'log_evaluation()' callback via 'callbacks' argument instead.\n",
      "  _log_warning(\"'verbose_eval' argument is deprecated and will be removed in a future release of LightGBM. \"\n"
     ]
    },
    {
     "name": "stdout",
     "output_type": "stream",
     "text": [
      "Training until validation scores don't improve for 100 rounds\n",
      "[50]\tvalid_0's auc: 0.885994\n",
      "[100]\tvalid_0's auc: 0.893345\n",
      "[150]\tvalid_0's auc: 0.896681\n",
      "[200]\tvalid_0's auc: 0.899175\n",
      "[250]\tvalid_0's auc: 0.900634\n",
      "[300]\tvalid_0's auc: 0.901819\n",
      "[350]\tvalid_0's auc: 0.902503\n",
      "[400]\tvalid_0's auc: 0.903323\n",
      "[450]\tvalid_0's auc: 0.903836\n",
      "[500]\tvalid_0's auc: 0.904311\n",
      "[550]\tvalid_0's auc: 0.904735\n",
      "[600]\tvalid_0's auc: 0.904956\n",
      "[650]\tvalid_0's auc: 0.905223\n",
      "[700]\tvalid_0's auc: 0.905569\n",
      "[750]\tvalid_0's auc: 0.905791\n",
      "[800]\tvalid_0's auc: 0.905962\n",
      "[850]\tvalid_0's auc: 0.906052\n",
      "[900]\tvalid_0's auc: 0.906199\n",
      "[950]\tvalid_0's auc: 0.906239\n",
      "[1000]\tvalid_0's auc: 0.906314\n",
      "[1050]\tvalid_0's auc: 0.90637\n",
      "[1100]\tvalid_0's auc: 0.90636\n",
      "[1150]\tvalid_0's auc: 0.906429\n",
      "[1200]\tvalid_0's auc: 0.906418\n",
      "[1250]\tvalid_0's auc: 0.90633\n"
     ]
    },
    {
     "name": "stderr",
     "output_type": "stream",
     "text": [
      "bagging, val_score: 0.906824:  80%|##########################################4          | 8/10 [00:13<00:03,  1.66s/it]"
     ]
    },
    {
     "name": "stdout",
     "output_type": "stream",
     "text": [
      "Early stopping, best iteration is:\n",
      "[1180]\tvalid_0's auc: 0.906487\n",
      "Training until validation scores don't improve for 100 rounds\n"
     ]
    },
    {
     "name": "stderr",
     "output_type": "stream",
     "text": [
      "C:\\Python39\\lib\\site-packages\\lightgbm\\engine.py:181: UserWarning: 'early_stopping_rounds' argument is deprecated and will be removed in a future release of LightGBM. Pass 'early_stopping()' callback via 'callbacks' argument instead.\n",
      "  _log_warning(\"'early_stopping_rounds' argument is deprecated and will be removed in a future release of LightGBM. \"\n",
      "C:\\Python39\\lib\\site-packages\\lightgbm\\engine.py:239: UserWarning: 'verbose_eval' argument is deprecated and will be removed in a future release of LightGBM. Pass 'log_evaluation()' callback via 'callbacks' argument instead.\n",
      "  _log_warning(\"'verbose_eval' argument is deprecated and will be removed in a future release of LightGBM. \"\n"
     ]
    },
    {
     "name": "stdout",
     "output_type": "stream",
     "text": [
      "[50]\tvalid_0's auc: 0.886883\n",
      "[100]\tvalid_0's auc: 0.893278\n",
      "[150]\tvalid_0's auc: 0.897823\n",
      "[200]\tvalid_0's auc: 0.900209\n",
      "[250]\tvalid_0's auc: 0.901557\n",
      "[300]\tvalid_0's auc: 0.902838\n",
      "[350]\tvalid_0's auc: 0.903627\n",
      "[400]\tvalid_0's auc: 0.904323\n",
      "[450]\tvalid_0's auc: 0.905094\n",
      "[500]\tvalid_0's auc: 0.905531\n",
      "[550]\tvalid_0's auc: 0.905811\n",
      "[600]\tvalid_0's auc: 0.906215\n",
      "[650]\tvalid_0's auc: 0.906304\n",
      "[700]\tvalid_0's auc: 0.906313\n"
     ]
    },
    {
     "name": "stderr",
     "output_type": "stream",
     "text": [
      "bagging, val_score: 0.906824:  90%|###############################################7     | 9/10 [00:14<00:01,  1.53s/it]"
     ]
    },
    {
     "name": "stdout",
     "output_type": "stream",
     "text": [
      "[750]\tvalid_0's auc: 0.906462\n",
      "[800]\tvalid_0's auc: 0.906399\n",
      "[850]\tvalid_0's auc: 0.906455\n",
      "Early stopping, best iteration is:\n",
      "[759]\tvalid_0's auc: 0.906491\n"
     ]
    },
    {
     "name": "stderr",
     "output_type": "stream",
     "text": [
      "C:\\Python39\\lib\\site-packages\\lightgbm\\engine.py:181: UserWarning: 'early_stopping_rounds' argument is deprecated and will be removed in a future release of LightGBM. Pass 'early_stopping()' callback via 'callbacks' argument instead.\n",
      "  _log_warning(\"'early_stopping_rounds' argument is deprecated and will be removed in a future release of LightGBM. \"\n",
      "C:\\Python39\\lib\\site-packages\\lightgbm\\engine.py:239: UserWarning: 'verbose_eval' argument is deprecated and will be removed in a future release of LightGBM. Pass 'log_evaluation()' callback via 'callbacks' argument instead.\n",
      "  _log_warning(\"'verbose_eval' argument is deprecated and will be removed in a future release of LightGBM. \"\n"
     ]
    },
    {
     "name": "stdout",
     "output_type": "stream",
     "text": [
      "Training until validation scores don't improve for 100 rounds\n",
      "[50]\tvalid_0's auc: 0.887594\n",
      "[100]\tvalid_0's auc: 0.89466\n",
      "[150]\tvalid_0's auc: 0.897616\n",
      "[200]\tvalid_0's auc: 0.899949\n",
      "[250]\tvalid_0's auc: 0.901334\n",
      "[300]\tvalid_0's auc: 0.902881\n",
      "[350]\tvalid_0's auc: 0.903532\n",
      "[400]\tvalid_0's auc: 0.904031\n",
      "[450]\tvalid_0's auc: 0.904653\n",
      "[500]\tvalid_0's auc: 0.905094\n",
      "[550]\tvalid_0's auc: 0.905458\n",
      "[600]\tvalid_0's auc: 0.90564\n",
      "[650]\tvalid_0's auc: 0.905819\n",
      "[700]\tvalid_0's auc: 0.905881\n",
      "[750]\tvalid_0's auc: 0.906167\n",
      "[800]\tvalid_0's auc: 0.906274\n",
      "[850]\tvalid_0's auc: 0.906368\n",
      "[900]\tvalid_0's auc: 0.906479\n",
      "[950]\tvalid_0's auc: 0.906486\n",
      "[1000]\tvalid_0's auc: 0.906548\n",
      "[1050]\tvalid_0's auc: 0.906538\n",
      "[1100]\tvalid_0's auc: 0.906656\n",
      "[1150]\tvalid_0's auc: 0.906667\n",
      "[1200]\tvalid_0's auc: 0.906759\n"
     ]
    },
    {
     "name": "stderr",
     "output_type": "stream",
     "text": [
      "bagging, val_score: 0.906824: 100%|####################################################| 10/10 [00:16<00:00,  1.62s/it]\n"
     ]
    },
    {
     "name": "stdout",
     "output_type": "stream",
     "text": [
      "[1250]\tvalid_0's auc: 0.906712\n",
      "Early stopping, best iteration is:\n",
      "[1173]\tvalid_0's auc: 0.90678\n"
     ]
    },
    {
     "name": "stderr",
     "output_type": "stream",
     "text": [
      "feature_fraction_stage2, val_score: 0.906824:   0%|                                              | 0/3 [00:00<?, ?it/s]"
     ]
    },
    {
     "name": "stdout",
     "output_type": "stream",
     "text": [
      "Training until validation scores don't improve for 100 rounds\n"
     ]
    },
    {
     "name": "stderr",
     "output_type": "stream",
     "text": [
      "C:\\Python39\\lib\\site-packages\\lightgbm\\engine.py:181: UserWarning: 'early_stopping_rounds' argument is deprecated and will be removed in a future release of LightGBM. Pass 'early_stopping()' callback via 'callbacks' argument instead.\n",
      "  _log_warning(\"'early_stopping_rounds' argument is deprecated and will be removed in a future release of LightGBM. \"\n",
      "C:\\Python39\\lib\\site-packages\\lightgbm\\engine.py:239: UserWarning: 'verbose_eval' argument is deprecated and will be removed in a future release of LightGBM. Pass 'log_evaluation()' callback via 'callbacks' argument instead.\n",
      "  _log_warning(\"'verbose_eval' argument is deprecated and will be removed in a future release of LightGBM. \"\n"
     ]
    },
    {
     "name": "stdout",
     "output_type": "stream",
     "text": [
      "[50]\tvalid_0's auc: 0.885865\n",
      "[100]\tvalid_0's auc: 0.893396\n",
      "[150]\tvalid_0's auc: 0.896102\n",
      "[200]\tvalid_0's auc: 0.898606\n",
      "[250]\tvalid_0's auc: 0.900294\n",
      "[300]\tvalid_0's auc: 0.901874\n",
      "[350]\tvalid_0's auc: 0.902613\n",
      "[400]\tvalid_0's auc: 0.903115\n",
      "[450]\tvalid_0's auc: 0.903822\n",
      "[500]\tvalid_0's auc: 0.904127\n",
      "[550]\tvalid_0's auc: 0.904671\n",
      "[600]\tvalid_0's auc: 0.904949\n",
      "[650]\tvalid_0's auc: 0.905224\n",
      "[700]\tvalid_0's auc: 0.905322\n",
      "[750]\tvalid_0's auc: 0.905543\n",
      "[800]\tvalid_0's auc: 0.905752\n",
      "[850]\tvalid_0's auc: 0.905892\n",
      "[900]\tvalid_0's auc: 0.906027\n",
      "[950]\tvalid_0's auc: 0.906154\n",
      "[1000]\tvalid_0's auc: 0.906288\n",
      "[1050]\tvalid_0's auc: 0.906297\n",
      "[1100]\tvalid_0's auc: 0.906313\n",
      "[1150]\tvalid_0's auc: 0.906367\n",
      "[1200]\tvalid_0's auc: 0.906423\n",
      "[1250]\tvalid_0's auc: 0.906412\n"
     ]
    },
    {
     "name": "stderr",
     "output_type": "stream",
     "text": [
      "feature_fraction_stage2, val_score: 0.906824:  33%|############6                         | 1/3 [00:01<00:03,  1.83s/it]"
     ]
    },
    {
     "name": "stdout",
     "output_type": "stream",
     "text": [
      "[1300]\tvalid_0's auc: 0.906362\n",
      "Early stopping, best iteration is:\n",
      "[1218]\tvalid_0's auc: 0.906486\n",
      "Training until validation scores don't improve for 100 rounds\n"
     ]
    },
    {
     "name": "stderr",
     "output_type": "stream",
     "text": [
      "C:\\Python39\\lib\\site-packages\\lightgbm\\engine.py:181: UserWarning: 'early_stopping_rounds' argument is deprecated and will be removed in a future release of LightGBM. Pass 'early_stopping()' callback via 'callbacks' argument instead.\n",
      "  _log_warning(\"'early_stopping_rounds' argument is deprecated and will be removed in a future release of LightGBM. \"\n",
      "C:\\Python39\\lib\\site-packages\\lightgbm\\engine.py:239: UserWarning: 'verbose_eval' argument is deprecated and will be removed in a future release of LightGBM. Pass 'log_evaluation()' callback via 'callbacks' argument instead.\n",
      "  _log_warning(\"'verbose_eval' argument is deprecated and will be removed in a future release of LightGBM. \"\n"
     ]
    },
    {
     "name": "stdout",
     "output_type": "stream",
     "text": [
      "[50]\tvalid_0's auc: 0.886457\n",
      "[100]\tvalid_0's auc: 0.893018\n",
      "[150]\tvalid_0's auc: 0.896078\n",
      "[200]\tvalid_0's auc: 0.89843\n",
      "[250]\tvalid_0's auc: 0.900223\n",
      "[300]\tvalid_0's auc: 0.901719\n",
      "[350]\tvalid_0's auc: 0.902384\n",
      "[400]\tvalid_0's auc: 0.902981\n",
      "[450]\tvalid_0's auc: 0.903702\n",
      "[500]\tvalid_0's auc: 0.904008\n",
      "[550]\tvalid_0's auc: 0.904513\n",
      "[600]\tvalid_0's auc: 0.904791\n",
      "[650]\tvalid_0's auc: 0.905056\n",
      "[700]\tvalid_0's auc: 0.905183\n",
      "[750]\tvalid_0's auc: 0.905311\n",
      "[800]\tvalid_0's auc: 0.905479\n",
      "[850]\tvalid_0's auc: 0.905562\n",
      "[900]\tvalid_0's auc: 0.905741\n",
      "[950]\tvalid_0's auc: 0.905834\n"
     ]
    },
    {
     "name": "stderr",
     "output_type": "stream",
     "text": [
      "feature_fraction_stage2, val_score: 0.906824:  67%|#########################3            | 2/3 [00:03<00:01,  1.61s/it]"
     ]
    },
    {
     "name": "stdout",
     "output_type": "stream",
     "text": [
      "[1000]\tvalid_0's auc: 0.905866\n",
      "[1050]\tvalid_0's auc: 0.905871\n",
      "Early stopping, best iteration is:\n",
      "[973]\tvalid_0's auc: 0.905911\n"
     ]
    },
    {
     "name": "stderr",
     "output_type": "stream",
     "text": [
      "C:\\Python39\\lib\\site-packages\\lightgbm\\engine.py:181: UserWarning: 'early_stopping_rounds' argument is deprecated and will be removed in a future release of LightGBM. Pass 'early_stopping()' callback via 'callbacks' argument instead.\n",
      "  _log_warning(\"'early_stopping_rounds' argument is deprecated and will be removed in a future release of LightGBM. \"\n",
      "C:\\Python39\\lib\\site-packages\\lightgbm\\engine.py:239: UserWarning: 'verbose_eval' argument is deprecated and will be removed in a future release of LightGBM. Pass 'log_evaluation()' callback via 'callbacks' argument instead.\n",
      "  _log_warning(\"'verbose_eval' argument is deprecated and will be removed in a future release of LightGBM. \"\n"
     ]
    },
    {
     "name": "stdout",
     "output_type": "stream",
     "text": [
      "Training until validation scores don't improve for 100 rounds\n",
      "[50]\tvalid_0's auc: 0.88667\n",
      "[100]\tvalid_0's auc: 0.893155\n",
      "[150]\tvalid_0's auc: 0.896131\n",
      "[200]\tvalid_0's auc: 0.898512\n",
      "[250]\tvalid_0's auc: 0.900332\n",
      "[300]\tvalid_0's auc: 0.901674\n",
      "[350]\tvalid_0's auc: 0.902542\n",
      "[400]\tvalid_0's auc: 0.903112\n",
      "[450]\tvalid_0's auc: 0.903762\n",
      "[500]\tvalid_0's auc: 0.90411\n",
      "[550]\tvalid_0's auc: 0.904635\n",
      "[600]\tvalid_0's auc: 0.904886\n",
      "[650]\tvalid_0's auc: 0.905097\n",
      "[700]\tvalid_0's auc: 0.905288\n",
      "[750]\tvalid_0's auc: 0.905421\n",
      "[800]\tvalid_0's auc: 0.905577\n",
      "[850]\tvalid_0's auc: 0.905661\n",
      "[900]\tvalid_0's auc: 0.905885\n",
      "[950]\tvalid_0's auc: 0.905937\n",
      "[1000]\tvalid_0's auc: 0.906093\n",
      "[1050]\tvalid_0's auc: 0.906161\n",
      "[1100]\tvalid_0's auc: 0.906255\n",
      "[1150]\tvalid_0's auc: 0.906317\n",
      "[1200]\tvalid_0's auc: 0.906403\n",
      "[1250]\tvalid_0's auc: 0.906366\n",
      "[1300]\tvalid_0's auc: 0.906308\n",
      "Early stopping, best iteration is:\n",
      "[1218]\tvalid_0's auc: 0.90644\n"
     ]
    },
    {
     "name": "stderr",
     "output_type": "stream",
     "text": [
      "feature_fraction_stage2, val_score: 0.906824: 100%|######################################| 3/3 [00:05<00:00,  1.70s/it]\n",
      "regularization_factors, val_score: 0.906824:   0%|                                              | 0/20 [00:00<?, ?it/s]C:\\Python39\\lib\\site-packages\\lightgbm\\engine.py:181: UserWarning: 'early_stopping_rounds' argument is deprecated and will be removed in a future release of LightGBM. Pass 'early_stopping()' callback via 'callbacks' argument instead.\n",
      "  _log_warning(\"'early_stopping_rounds' argument is deprecated and will be removed in a future release of LightGBM. \"\n",
      "C:\\Python39\\lib\\site-packages\\lightgbm\\engine.py:239: UserWarning: 'verbose_eval' argument is deprecated and will be removed in a future release of LightGBM. Pass 'log_evaluation()' callback via 'callbacks' argument instead.\n",
      "  _log_warning(\"'verbose_eval' argument is deprecated and will be removed in a future release of LightGBM. \"\n"
     ]
    },
    {
     "name": "stdout",
     "output_type": "stream",
     "text": [
      "Training until validation scores don't improve for 100 rounds\n",
      "[50]\tvalid_0's auc: 0.886069\n",
      "[100]\tvalid_0's auc: 0.893024\n",
      "[150]\tvalid_0's auc: 0.896082\n",
      "[200]\tvalid_0's auc: 0.89877\n",
      "[250]\tvalid_0's auc: 0.90035\n",
      "[300]\tvalid_0's auc: 0.901804\n",
      "[350]\tvalid_0's auc: 0.902711\n",
      "[400]\tvalid_0's auc: 0.903284\n",
      "[450]\tvalid_0's auc: 0.903927\n",
      "[500]\tvalid_0's auc: 0.90429\n",
      "[550]\tvalid_0's auc: 0.904785\n",
      "[600]\tvalid_0's auc: 0.905066\n",
      "[650]\tvalid_0's auc: 0.905345\n",
      "[700]\tvalid_0's auc: 0.905449\n",
      "[750]\tvalid_0's auc: 0.905658\n",
      "[800]\tvalid_0's auc: 0.905831\n",
      "[850]\tvalid_0's auc: 0.905961\n",
      "[900]\tvalid_0's auc: 0.906089\n",
      "[950]\tvalid_0's auc: 0.906236\n",
      "[1000]\tvalid_0's auc: 0.906368\n",
      "[1050]\tvalid_0's auc: 0.906427\n",
      "[1100]\tvalid_0's auc: 0.906476\n",
      "[1150]\tvalid_0's auc: 0.906617\n",
      "[1200]\tvalid_0's auc: 0.906674\n",
      "[1250]\tvalid_0's auc: 0.906653\n",
      "Early stopping, best iteration is:\n",
      "[1179]\tvalid_0's auc: 0.906695\n"
     ]
    },
    {
     "name": "stderr",
     "output_type": "stream",
     "text": [
      "regularization_factors, val_score: 0.906824:   5%|#9                                    | 1/20 [00:02<00:41,  2.16s/it]C:\\Python39\\lib\\site-packages\\lightgbm\\engine.py:181: UserWarning: 'early_stopping_rounds' argument is deprecated and will be removed in a future release of LightGBM. Pass 'early_stopping()' callback via 'callbacks' argument instead.\n",
      "  _log_warning(\"'early_stopping_rounds' argument is deprecated and will be removed in a future release of LightGBM. \"\n",
      "C:\\Python39\\lib\\site-packages\\lightgbm\\engine.py:239: UserWarning: 'verbose_eval' argument is deprecated and will be removed in a future release of LightGBM. Pass 'log_evaluation()' callback via 'callbacks' argument instead.\n",
      "  _log_warning(\"'verbose_eval' argument is deprecated and will be removed in a future release of LightGBM. \"\n"
     ]
    },
    {
     "name": "stdout",
     "output_type": "stream",
     "text": [
      "Training until validation scores don't improve for 100 rounds\n",
      "[50]\tvalid_0's auc: 0.886072\n",
      "[100]\tvalid_0's auc: 0.893019\n",
      "[150]\tvalid_0's auc: 0.896081\n",
      "[200]\tvalid_0's auc: 0.898771\n",
      "[250]\tvalid_0's auc: 0.900353\n",
      "[300]\tvalid_0's auc: 0.901778\n",
      "[350]\tvalid_0's auc: 0.902717\n",
      "[400]\tvalid_0's auc: 0.90326\n",
      "[450]\tvalid_0's auc: 0.903905\n",
      "[500]\tvalid_0's auc: 0.904235\n",
      "[550]\tvalid_0's auc: 0.90473\n",
      "[600]\tvalid_0's auc: 0.904963\n",
      "[650]\tvalid_0's auc: 0.905308\n",
      "[700]\tvalid_0's auc: 0.905438\n",
      "[750]\tvalid_0's auc: 0.905646\n",
      "[800]\tvalid_0's auc: 0.905795\n",
      "[850]\tvalid_0's auc: 0.905988\n",
      "[900]\tvalid_0's auc: 0.906201\n",
      "[950]\tvalid_0's auc: 0.906268\n",
      "[1000]\tvalid_0's auc: 0.906383\n",
      "[1050]\tvalid_0's auc: 0.906426\n",
      "[1100]\tvalid_0's auc: 0.906523\n",
      "[1150]\tvalid_0's auc: 0.906647\n",
      "[1200]\tvalid_0's auc: 0.906696\n",
      "[1250]\tvalid_0's auc: 0.90664\n",
      "[1300]\tvalid_0's auc: 0.906588\n",
      "Early stopping, best iteration is:\n",
      "[1207]\tvalid_0's auc: 0.906729\n"
     ]
    },
    {
     "name": "stderr",
     "output_type": "stream",
     "text": [
      "regularization_factors, val_score: 0.906824:  10%|###8                                  | 2/20 [00:04<00:43,  2.40s/it]C:\\Python39\\lib\\site-packages\\lightgbm\\engine.py:181: UserWarning: 'early_stopping_rounds' argument is deprecated and will be removed in a future release of LightGBM. Pass 'early_stopping()' callback via 'callbacks' argument instead.\n",
      "  _log_warning(\"'early_stopping_rounds' argument is deprecated and will be removed in a future release of LightGBM. \"\n",
      "C:\\Python39\\lib\\site-packages\\lightgbm\\engine.py:239: UserWarning: 'verbose_eval' argument is deprecated and will be removed in a future release of LightGBM. Pass 'log_evaluation()' callback via 'callbacks' argument instead.\n",
      "  _log_warning(\"'verbose_eval' argument is deprecated and will be removed in a future release of LightGBM. \"\n"
     ]
    },
    {
     "name": "stdout",
     "output_type": "stream",
     "text": [
      "Training until validation scores don't improve for 100 rounds\n",
      "[50]\tvalid_0's auc: 0.886052\n",
      "[100]\tvalid_0's auc: 0.89311\n",
      "[150]\tvalid_0's auc: 0.896354\n",
      "[200]\tvalid_0's auc: 0.898753\n",
      "[250]\tvalid_0's auc: 0.900319\n",
      "[300]\tvalid_0's auc: 0.901763\n",
      "[350]\tvalid_0's auc: 0.902632\n",
      "[400]\tvalid_0's auc: 0.903198\n",
      "[450]\tvalid_0's auc: 0.90401\n",
      "[500]\tvalid_0's auc: 0.904307\n",
      "[550]\tvalid_0's auc: 0.904801\n",
      "[600]\tvalid_0's auc: 0.905053\n",
      "[650]\tvalid_0's auc: 0.905294\n",
      "[700]\tvalid_0's auc: 0.905443\n",
      "[750]\tvalid_0's auc: 0.905536\n",
      "[800]\tvalid_0's auc: 0.905699\n",
      "[850]\tvalid_0's auc: 0.90579\n",
      "[900]\tvalid_0's auc: 0.905916\n",
      "[950]\tvalid_0's auc: 0.905999\n",
      "[1000]\tvalid_0's auc: 0.906163\n",
      "[1050]\tvalid_0's auc: 0.906191\n",
      "[1100]\tvalid_0's auc: 0.906138\n",
      "[1150]\tvalid_0's auc: 0.906281\n",
      "[1200]\tvalid_0's auc: 0.906263\n",
      "[1250]\tvalid_0's auc: 0.906304\n",
      "[1300]\tvalid_0's auc: 0.906322\n",
      "[1350]\tvalid_0's auc: 0.90632\n",
      "[1400]\tvalid_0's auc: 0.906317\n",
      "[1450]\tvalid_0's auc: 0.906368\n",
      "[1500]\tvalid_0's auc: 0.906393\n",
      "[1550]\tvalid_0's auc: 0.90635\n",
      "[1600]\tvalid_0's auc: 0.906422\n",
      "[1650]\tvalid_0's auc: 0.906395\n",
      "[1700]\tvalid_0's auc: 0.906331\n"
     ]
    },
    {
     "name": "stderr",
     "output_type": "stream",
     "text": [
      "regularization_factors, val_score: 0.906824:  15%|#####7                                | 3/20 [00:07<00:44,  2.59s/it]"
     ]
    },
    {
     "name": "stdout",
     "output_type": "stream",
     "text": [
      "Early stopping, best iteration is:\n",
      "[1634]\tvalid_0's auc: 0.906459\n",
      "Training until validation scores don't improve for 100 rounds\n"
     ]
    },
    {
     "name": "stderr",
     "output_type": "stream",
     "text": [
      "C:\\Python39\\lib\\site-packages\\lightgbm\\engine.py:181: UserWarning: 'early_stopping_rounds' argument is deprecated and will be removed in a future release of LightGBM. Pass 'early_stopping()' callback via 'callbacks' argument instead.\n",
      "  _log_warning(\"'early_stopping_rounds' argument is deprecated and will be removed in a future release of LightGBM. \"\n",
      "C:\\Python39\\lib\\site-packages\\lightgbm\\engine.py:239: UserWarning: 'verbose_eval' argument is deprecated and will be removed in a future release of LightGBM. Pass 'log_evaluation()' callback via 'callbacks' argument instead.\n",
      "  _log_warning(\"'verbose_eval' argument is deprecated and will be removed in a future release of LightGBM. \"\n"
     ]
    },
    {
     "name": "stdout",
     "output_type": "stream",
     "text": [
      "[50]\tvalid_0's auc: 0.886072\n",
      "[100]\tvalid_0's auc: 0.893019\n",
      "[150]\tvalid_0's auc: 0.896081\n",
      "[200]\tvalid_0's auc: 0.898771\n",
      "[250]\tvalid_0's auc: 0.900353\n",
      "[300]\tvalid_0's auc: 0.901778\n",
      "[350]\tvalid_0's auc: 0.902717\n",
      "[400]\tvalid_0's auc: 0.903261\n",
      "[450]\tvalid_0's auc: 0.903905\n",
      "[500]\tvalid_0's auc: 0.904235\n",
      "[550]\tvalid_0's auc: 0.90473\n",
      "[600]\tvalid_0's auc: 0.904963\n",
      "[650]\tvalid_0's auc: 0.905308\n",
      "[700]\tvalid_0's auc: 0.905436\n",
      "[750]\tvalid_0's auc: 0.905647\n",
      "[800]\tvalid_0's auc: 0.905795\n",
      "[850]\tvalid_0's auc: 0.905981\n",
      "[900]\tvalid_0's auc: 0.906196\n",
      "[950]\tvalid_0's auc: 0.906299\n",
      "[1000]\tvalid_0's auc: 0.906397\n",
      "[1050]\tvalid_0's auc: 0.906439\n",
      "[1100]\tvalid_0's auc: 0.906495\n",
      "[1150]\tvalid_0's auc: 0.906651\n",
      "[1200]\tvalid_0's auc: 0.906763\n",
      "[1250]\tvalid_0's auc: 0.906716\n",
      "Early stopping, best iteration is:\n",
      "[1177]\tvalid_0's auc: 0.9068\n"
     ]
    },
    {
     "name": "stderr",
     "output_type": "stream",
     "text": [
      "regularization_factors, val_score: 0.906824:  20%|#######6                              | 4/20 [00:09<00:36,  2.31s/it]C:\\Python39\\lib\\site-packages\\lightgbm\\engine.py:181: UserWarning: 'early_stopping_rounds' argument is deprecated and will be removed in a future release of LightGBM. Pass 'early_stopping()' callback via 'callbacks' argument instead.\n",
      "  _log_warning(\"'early_stopping_rounds' argument is deprecated and will be removed in a future release of LightGBM. \"\n",
      "C:\\Python39\\lib\\site-packages\\lightgbm\\engine.py:239: UserWarning: 'verbose_eval' argument is deprecated and will be removed in a future release of LightGBM. Pass 'log_evaluation()' callback via 'callbacks' argument instead.\n",
      "  _log_warning(\"'verbose_eval' argument is deprecated and will be removed in a future release of LightGBM. \"\n"
     ]
    },
    {
     "name": "stdout",
     "output_type": "stream",
     "text": [
      "Training until validation scores don't improve for 100 rounds\n",
      "[50]\tvalid_0's auc: 0.886072\n",
      "[100]\tvalid_0's auc: 0.893019\n",
      "[150]\tvalid_0's auc: 0.896081\n",
      "[200]\tvalid_0's auc: 0.898771\n",
      "[250]\tvalid_0's auc: 0.900353\n",
      "[300]\tvalid_0's auc: 0.901778\n",
      "[350]\tvalid_0's auc: 0.902717\n",
      "[400]\tvalid_0's auc: 0.903261\n",
      "[450]\tvalid_0's auc: 0.903905\n",
      "[500]\tvalid_0's auc: 0.904235\n",
      "[550]\tvalid_0's auc: 0.90473\n",
      "[600]\tvalid_0's auc: 0.904963\n",
      "[650]\tvalid_0's auc: 0.905308\n",
      "[700]\tvalid_0's auc: 0.905437\n",
      "[750]\tvalid_0's auc: 0.905647\n",
      "[800]\tvalid_0's auc: 0.905795\n",
      "[850]\tvalid_0's auc: 0.905981\n",
      "[900]\tvalid_0's auc: 0.906196\n",
      "[950]\tvalid_0's auc: 0.906299\n",
      "[1000]\tvalid_0's auc: 0.906398\n",
      "[1050]\tvalid_0's auc: 0.906439\n",
      "[1100]\tvalid_0's auc: 0.906495\n",
      "[1150]\tvalid_0's auc: 0.906651\n",
      "[1200]\tvalid_0's auc: 0.906762\n"
     ]
    },
    {
     "name": "stderr",
     "output_type": "stream",
     "text": [
      "regularization_factors, val_score: 0.906824:  25%|#########5                            | 5/20 [00:11<00:32,  2.14s/it]"
     ]
    },
    {
     "name": "stdout",
     "output_type": "stream",
     "text": [
      "[1250]\tvalid_0's auc: 0.906716\n",
      "Early stopping, best iteration is:\n",
      "[1177]\tvalid_0's auc: 0.9068\n",
      "Training until validation scores don't improve for 100 rounds\n"
     ]
    },
    {
     "name": "stderr",
     "output_type": "stream",
     "text": [
      "C:\\Python39\\lib\\site-packages\\lightgbm\\engine.py:181: UserWarning: 'early_stopping_rounds' argument is deprecated and will be removed in a future release of LightGBM. Pass 'early_stopping()' callback via 'callbacks' argument instead.\n",
      "  _log_warning(\"'early_stopping_rounds' argument is deprecated and will be removed in a future release of LightGBM. \"\n",
      "C:\\Python39\\lib\\site-packages\\lightgbm\\engine.py:239: UserWarning: 'verbose_eval' argument is deprecated and will be removed in a future release of LightGBM. Pass 'log_evaluation()' callback via 'callbacks' argument instead.\n",
      "  _log_warning(\"'verbose_eval' argument is deprecated and will be removed in a future release of LightGBM. \"\n"
     ]
    },
    {
     "name": "stdout",
     "output_type": "stream",
     "text": [
      "[50]\tvalid_0's auc: 0.886072\n",
      "[100]\tvalid_0's auc: 0.893019\n",
      "[150]\tvalid_0's auc: 0.896081\n",
      "[200]\tvalid_0's auc: 0.898771\n",
      "[250]\tvalid_0's auc: 0.900353\n",
      "[300]\tvalid_0's auc: 0.901778\n",
      "[350]\tvalid_0's auc: 0.902717\n",
      "[400]\tvalid_0's auc: 0.903261\n",
      "[450]\tvalid_0's auc: 0.903905\n",
      "[500]\tvalid_0's auc: 0.904235\n",
      "[550]\tvalid_0's auc: 0.90473\n",
      "[600]\tvalid_0's auc: 0.904963\n",
      "[650]\tvalid_0's auc: 0.905308\n",
      "[700]\tvalid_0's auc: 0.905437\n",
      "[750]\tvalid_0's auc: 0.905647\n",
      "[800]\tvalid_0's auc: 0.905795\n",
      "[850]\tvalid_0's auc: 0.905981\n",
      "[900]\tvalid_0's auc: 0.906196\n",
      "[950]\tvalid_0's auc: 0.906299\n",
      "[1000]\tvalid_0's auc: 0.906398\n",
      "[1050]\tvalid_0's auc: 0.906439\n",
      "[1100]\tvalid_0's auc: 0.906495\n",
      "[1150]\tvalid_0's auc: 0.906651\n",
      "[1200]\tvalid_0's auc: 0.906767\n",
      "[1250]\tvalid_0's auc: 0.906718\n",
      "[1300]\tvalid_0's auc: 0.906736\n",
      "Early stopping, best iteration is:\n",
      "[1207]\tvalid_0's auc: 0.906797\n"
     ]
    },
    {
     "name": "stderr",
     "output_type": "stream",
     "text": [
      "regularization_factors, val_score: 0.906824:  30%|###########4                          | 6/20 [00:13<00:28,  2.04s/it]C:\\Python39\\lib\\site-packages\\lightgbm\\engine.py:181: UserWarning: 'early_stopping_rounds' argument is deprecated and will be removed in a future release of LightGBM. Pass 'early_stopping()' callback via 'callbacks' argument instead.\n",
      "  _log_warning(\"'early_stopping_rounds' argument is deprecated and will be removed in a future release of LightGBM. \"\n",
      "C:\\Python39\\lib\\site-packages\\lightgbm\\engine.py:239: UserWarning: 'verbose_eval' argument is deprecated and will be removed in a future release of LightGBM. Pass 'log_evaluation()' callback via 'callbacks' argument instead.\n",
      "  _log_warning(\"'verbose_eval' argument is deprecated and will be removed in a future release of LightGBM. \"\n"
     ]
    },
    {
     "name": "stdout",
     "output_type": "stream",
     "text": [
      "Training until validation scores don't improve for 100 rounds\n",
      "[50]\tvalid_0's auc: 0.886072\n",
      "[100]\tvalid_0's auc: 0.893016\n",
      "[150]\tvalid_0's auc: 0.896083\n",
      "[200]\tvalid_0's auc: 0.898771\n",
      "[250]\tvalid_0's auc: 0.900361\n",
      "[300]\tvalid_0's auc: 0.901805\n",
      "[350]\tvalid_0's auc: 0.902711\n",
      "[400]\tvalid_0's auc: 0.903252\n",
      "[450]\tvalid_0's auc: 0.903875\n",
      "[500]\tvalid_0's auc: 0.904224\n",
      "[550]\tvalid_0's auc: 0.904738\n",
      "[600]\tvalid_0's auc: 0.905063\n",
      "[650]\tvalid_0's auc: 0.905347\n",
      "[700]\tvalid_0's auc: 0.905456\n",
      "[750]\tvalid_0's auc: 0.905598\n",
      "[800]\tvalid_0's auc: 0.905751\n",
      "[850]\tvalid_0's auc: 0.905879\n",
      "[900]\tvalid_0's auc: 0.906013\n",
      "[950]\tvalid_0's auc: 0.906154\n",
      "[1000]\tvalid_0's auc: 0.906278\n",
      "[1050]\tvalid_0's auc: 0.906335\n",
      "[1100]\tvalid_0's auc: 0.906402\n",
      "[1150]\tvalid_0's auc: 0.906528\n",
      "[1200]\tvalid_0's auc: 0.906573\n"
     ]
    },
    {
     "name": "stderr",
     "output_type": "stream",
     "text": [
      "regularization_factors, val_score: 0.906824:  30%|###########4                          | 6/20 [00:15<00:28,  2.04s/it]"
     ]
    },
    {
     "name": "stdout",
     "output_type": "stream",
     "text": [
      "[1250]\tvalid_0's auc: 0.906561\n",
      "[1300]\tvalid_0's auc: 0.906577\n",
      "Early stopping, best iteration is:\n",
      "[1213]\tvalid_0's auc: 0.906624\n"
     ]
    },
    {
     "name": "stderr",
     "output_type": "stream",
     "text": [
      "regularization_factors, val_score: 0.906824:  35%|#############3                        | 7/20 [00:15<00:26,  2.01s/it]C:\\Python39\\lib\\site-packages\\lightgbm\\engine.py:181: UserWarning: 'early_stopping_rounds' argument is deprecated and will be removed in a future release of LightGBM. Pass 'early_stopping()' callback via 'callbacks' argument instead.\n",
      "  _log_warning(\"'early_stopping_rounds' argument is deprecated and will be removed in a future release of LightGBM. \"\n",
      "C:\\Python39\\lib\\site-packages\\lightgbm\\engine.py:239: UserWarning: 'verbose_eval' argument is deprecated and will be removed in a future release of LightGBM. Pass 'log_evaluation()' callback via 'callbacks' argument instead.\n",
      "  _log_warning(\"'verbose_eval' argument is deprecated and will be removed in a future release of LightGBM. \"\n"
     ]
    },
    {
     "name": "stdout",
     "output_type": "stream",
     "text": [
      "Training until validation scores don't improve for 100 rounds\n",
      "[50]\tvalid_0's auc: 0.88607\n",
      "[100]\tvalid_0's auc: 0.893016\n",
      "[150]\tvalid_0's auc: 0.896082\n",
      "[200]\tvalid_0's auc: 0.89877\n",
      "[250]\tvalid_0's auc: 0.900362\n",
      "[300]\tvalid_0's auc: 0.901806\n",
      "[350]\tvalid_0's auc: 0.902702\n",
      "[400]\tvalid_0's auc: 0.903283\n",
      "[450]\tvalid_0's auc: 0.903898\n",
      "[500]\tvalid_0's auc: 0.904286\n",
      "[550]\tvalid_0's auc: 0.904757\n",
      "[600]\tvalid_0's auc: 0.905012\n",
      "[650]\tvalid_0's auc: 0.905275\n",
      "[700]\tvalid_0's auc: 0.905396\n",
      "[750]\tvalid_0's auc: 0.905683\n",
      "[800]\tvalid_0's auc: 0.905819\n",
      "[850]\tvalid_0's auc: 0.906036\n",
      "[900]\tvalid_0's auc: 0.906171\n",
      "[950]\tvalid_0's auc: 0.906256\n",
      "[1000]\tvalid_0's auc: 0.906406\n",
      "[1050]\tvalid_0's auc: 0.906492\n",
      "[1100]\tvalid_0's auc: 0.906551\n",
      "[1150]\tvalid_0's auc: 0.906672\n",
      "[1200]\tvalid_0's auc: 0.90676\n",
      "[1250]\tvalid_0's auc: 0.906741\n",
      "[1300]\tvalid_0's auc: 0.906673\n",
      "Early stopping, best iteration is:\n",
      "[1215]\tvalid_0's auc: 0.906816\n"
     ]
    },
    {
     "name": "stderr",
     "output_type": "stream",
     "text": [
      "regularization_factors, val_score: 0.906824:  40%|###############2                      | 8/20 [00:17<00:24,  2.02s/it]C:\\Python39\\lib\\site-packages\\lightgbm\\engine.py:181: UserWarning: 'early_stopping_rounds' argument is deprecated and will be removed in a future release of LightGBM. Pass 'early_stopping()' callback via 'callbacks' argument instead.\n",
      "  _log_warning(\"'early_stopping_rounds' argument is deprecated and will be removed in a future release of LightGBM. \"\n",
      "C:\\Python39\\lib\\site-packages\\lightgbm\\engine.py:239: UserWarning: 'verbose_eval' argument is deprecated and will be removed in a future release of LightGBM. Pass 'log_evaluation()' callback via 'callbacks' argument instead.\n",
      "  _log_warning(\"'verbose_eval' argument is deprecated and will be removed in a future release of LightGBM. \"\n"
     ]
    },
    {
     "name": "stdout",
     "output_type": "stream",
     "text": [
      "Training until validation scores don't improve for 100 rounds\n",
      "[50]\tvalid_0's auc: 0.886072\n",
      "[100]\tvalid_0's auc: 0.893019\n",
      "[150]\tvalid_0's auc: 0.89608\n",
      "[200]\tvalid_0's auc: 0.898771\n",
      "[250]\tvalid_0's auc: 0.900353\n",
      "[300]\tvalid_0's auc: 0.901778\n",
      "[350]\tvalid_0's auc: 0.902717\n",
      "[400]\tvalid_0's auc: 0.903261\n",
      "[450]\tvalid_0's auc: 0.903905\n",
      "[500]\tvalid_0's auc: 0.904235\n",
      "[550]\tvalid_0's auc: 0.90473\n",
      "[600]\tvalid_0's auc: 0.904963\n",
      "[650]\tvalid_0's auc: 0.90531\n",
      "[700]\tvalid_0's auc: 0.905456\n",
      "[750]\tvalid_0's auc: 0.905671\n",
      "[800]\tvalid_0's auc: 0.905843\n",
      "[850]\tvalid_0's auc: 0.905992\n",
      "[900]\tvalid_0's auc: 0.906134\n",
      "[950]\tvalid_0's auc: 0.906273\n",
      "[1000]\tvalid_0's auc: 0.906424\n",
      "[1050]\tvalid_0's auc: 0.906462\n",
      "[1100]\tvalid_0's auc: 0.906517\n",
      "[1150]\tvalid_0's auc: 0.906658\n",
      "[1200]\tvalid_0's auc: 0.906773\n",
      "[1250]\tvalid_0's auc: 0.906722\n",
      "[1300]\tvalid_0's auc: 0.906696\n",
      "Early stopping, best iteration is:\n",
      "[1206]\tvalid_0's auc: 0.906785\n"
     ]
    },
    {
     "name": "stderr",
     "output_type": "stream",
     "text": [
      "regularization_factors, val_score: 0.906824:  45%|#################1                    | 9/20 [00:19<00:23,  2.16s/it]C:\\Python39\\lib\\site-packages\\lightgbm\\engine.py:181: UserWarning: 'early_stopping_rounds' argument is deprecated and will be removed in a future release of LightGBM. Pass 'early_stopping()' callback via 'callbacks' argument instead.\n",
      "  _log_warning(\"'early_stopping_rounds' argument is deprecated and will be removed in a future release of LightGBM. \"\n",
      "C:\\Python39\\lib\\site-packages\\lightgbm\\engine.py:239: UserWarning: 'verbose_eval' argument is deprecated and will be removed in a future release of LightGBM. Pass 'log_evaluation()' callback via 'callbacks' argument instead.\n",
      "  _log_warning(\"'verbose_eval' argument is deprecated and will be removed in a future release of LightGBM. \"\n"
     ]
    },
    {
     "name": "stdout",
     "output_type": "stream",
     "text": [
      "Training until validation scores don't improve for 100 rounds\n",
      "[50]\tvalid_0's auc: 0.886072\n",
      "[100]\tvalid_0's auc: 0.893019\n",
      "[150]\tvalid_0's auc: 0.896081\n",
      "[200]\tvalid_0's auc: 0.898771\n",
      "[250]\tvalid_0's auc: 0.900353\n",
      "[300]\tvalid_0's auc: 0.901778\n",
      "[350]\tvalid_0's auc: 0.902717\n",
      "[400]\tvalid_0's auc: 0.903261\n",
      "[450]\tvalid_0's auc: 0.903905\n",
      "[500]\tvalid_0's auc: 0.904235\n",
      "[550]\tvalid_0's auc: 0.90473\n",
      "[600]\tvalid_0's auc: 0.904963\n",
      "[650]\tvalid_0's auc: 0.905308\n",
      "[700]\tvalid_0's auc: 0.905436\n",
      "[750]\tvalid_0's auc: 0.905647\n",
      "[800]\tvalid_0's auc: 0.905795\n",
      "[850]\tvalid_0's auc: 0.905981\n",
      "[900]\tvalid_0's auc: 0.906196\n",
      "[950]\tvalid_0's auc: 0.906299\n",
      "[1000]\tvalid_0's auc: 0.906397\n",
      "[1050]\tvalid_0's auc: 0.906439\n",
      "[1100]\tvalid_0's auc: 0.906495\n",
      "[1150]\tvalid_0's auc: 0.906651\n",
      "[1200]\tvalid_0's auc: 0.906763\n",
      "[1250]\tvalid_0's auc: 0.906716\n",
      "Early stopping, best iteration is:\n",
      "[1177]\tvalid_0's auc: 0.9068\n"
     ]
    },
    {
     "name": "stderr",
     "output_type": "stream",
     "text": [
      "regularization_factors, val_score: 0.906824:  50%|##################5                  | 10/20 [00:21<00:21,  2.13s/it]C:\\Python39\\lib\\site-packages\\lightgbm\\engine.py:181: UserWarning: 'early_stopping_rounds' argument is deprecated and will be removed in a future release of LightGBM. Pass 'early_stopping()' callback via 'callbacks' argument instead.\n",
      "  _log_warning(\"'early_stopping_rounds' argument is deprecated and will be removed in a future release of LightGBM. \"\n",
      "C:\\Python39\\lib\\site-packages\\lightgbm\\engine.py:239: UserWarning: 'verbose_eval' argument is deprecated and will be removed in a future release of LightGBM. Pass 'log_evaluation()' callback via 'callbacks' argument instead.\n",
      "  _log_warning(\"'verbose_eval' argument is deprecated and will be removed in a future release of LightGBM. \"\n"
     ]
    },
    {
     "name": "stdout",
     "output_type": "stream",
     "text": [
      "Training until validation scores don't improve for 100 rounds\n",
      "[50]\tvalid_0's auc: 0.885441\n",
      "[100]\tvalid_0's auc: 0.892802\n",
      "[150]\tvalid_0's auc: 0.896222\n",
      "[200]\tvalid_0's auc: 0.898469\n",
      "[250]\tvalid_0's auc: 0.900048\n",
      "[300]\tvalid_0's auc: 0.901477\n",
      "[350]\tvalid_0's auc: 0.902416\n",
      "[400]\tvalid_0's auc: 0.902926\n",
      "[450]\tvalid_0's auc: 0.903705\n",
      "[500]\tvalid_0's auc: 0.904062\n",
      "[550]\tvalid_0's auc: 0.904552\n",
      "[600]\tvalid_0's auc: 0.904789\n",
      "[650]\tvalid_0's auc: 0.905052\n",
      "[700]\tvalid_0's auc: 0.90525\n",
      "[750]\tvalid_0's auc: 0.905438\n",
      "[800]\tvalid_0's auc: 0.905627\n",
      "[850]\tvalid_0's auc: 0.905736\n",
      "[900]\tvalid_0's auc: 0.905787\n",
      "[950]\tvalid_0's auc: 0.905922\n",
      "[1000]\tvalid_0's auc: 0.906017\n",
      "[1050]\tvalid_0's auc: 0.906082\n",
      "[1100]\tvalid_0's auc: 0.906133\n",
      "[1150]\tvalid_0's auc: 0.90619\n",
      "[1200]\tvalid_0's auc: 0.906212\n",
      "[1250]\tvalid_0's auc: 0.906235\n",
      "[1300]\tvalid_0's auc: 0.906237\n",
      "[1350]\tvalid_0's auc: 0.90626\n",
      "[1400]\tvalid_0's auc: 0.906262\n",
      "[1450]\tvalid_0's auc: 0.90626\n",
      "[1500]\tvalid_0's auc: 0.906238\n",
      "[1550]\tvalid_0's auc: 0.906287\n",
      "[1600]\tvalid_0's auc: 0.90626\n"
     ]
    },
    {
     "name": "stderr",
     "output_type": "stream",
     "text": [
      "regularization_factors, val_score: 0.906824:  55%|####################3                | 11/20 [00:24<00:22,  2.48s/it]"
     ]
    },
    {
     "name": "stdout",
     "output_type": "stream",
     "text": [
      "[1650]\tvalid_0's auc: 0.906267\n",
      "Early stopping, best iteration is:\n",
      "[1556]\tvalid_0's auc: 0.906303\n"
     ]
    },
    {
     "name": "stderr",
     "output_type": "stream",
     "text": [
      "C:\\Python39\\lib\\site-packages\\lightgbm\\engine.py:181: UserWarning: 'early_stopping_rounds' argument is deprecated and will be removed in a future release of LightGBM. Pass 'early_stopping()' callback via 'callbacks' argument instead.\n",
      "  _log_warning(\"'early_stopping_rounds' argument is deprecated and will be removed in a future release of LightGBM. \"\n",
      "C:\\Python39\\lib\\site-packages\\lightgbm\\engine.py:239: UserWarning: 'verbose_eval' argument is deprecated and will be removed in a future release of LightGBM. Pass 'log_evaluation()' callback via 'callbacks' argument instead.\n",
      "  _log_warning(\"'verbose_eval' argument is deprecated and will be removed in a future release of LightGBM. \"\n"
     ]
    },
    {
     "name": "stdout",
     "output_type": "stream",
     "text": [
      "Training until validation scores don't improve for 100 rounds\n",
      "[50]\tvalid_0's auc: 0.886064\n",
      "[100]\tvalid_0's auc: 0.893021\n",
      "[150]\tvalid_0's auc: 0.89605\n",
      "[200]\tvalid_0's auc: 0.898745\n",
      "[250]\tvalid_0's auc: 0.900307\n",
      "[300]\tvalid_0's auc: 0.901794\n",
      "[350]\tvalid_0's auc: 0.902571\n",
      "[400]\tvalid_0's auc: 0.903126\n",
      "[450]\tvalid_0's auc: 0.903798\n",
      "[500]\tvalid_0's auc: 0.904179\n",
      "[550]\tvalid_0's auc: 0.904731\n",
      "[600]\tvalid_0's auc: 0.904946\n",
      "[650]\tvalid_0's auc: 0.905262\n",
      "[700]\tvalid_0's auc: 0.905395\n",
      "[750]\tvalid_0's auc: 0.905594\n",
      "[800]\tvalid_0's auc: 0.905797\n",
      "[850]\tvalid_0's auc: 0.905966\n",
      "[900]\tvalid_0's auc: 0.906064\n",
      "[950]\tvalid_0's auc: 0.906121\n",
      "[1000]\tvalid_0's auc: 0.90624\n",
      "[1050]\tvalid_0's auc: 0.906291\n",
      "[1100]\tvalid_0's auc: 0.906369\n",
      "[1150]\tvalid_0's auc: 0.906468\n",
      "[1200]\tvalid_0's auc: 0.906501\n"
     ]
    },
    {
     "name": "stderr",
     "output_type": "stream",
     "text": [
      "regularization_factors, val_score: 0.906824:  60%|######################2              | 12/20 [00:27<00:19,  2.42s/it]"
     ]
    },
    {
     "name": "stdout",
     "output_type": "stream",
     "text": [
      "[1250]\tvalid_0's auc: 0.906497\n",
      "[1300]\tvalid_0's auc: 0.906457\n",
      "Early stopping, best iteration is:\n",
      "[1213]\tvalid_0's auc: 0.906536\n"
     ]
    },
    {
     "name": "stderr",
     "output_type": "stream",
     "text": [
      "C:\\Python39\\lib\\site-packages\\lightgbm\\engine.py:181: UserWarning: 'early_stopping_rounds' argument is deprecated and will be removed in a future release of LightGBM. Pass 'early_stopping()' callback via 'callbacks' argument instead.\n",
      "  _log_warning(\"'early_stopping_rounds' argument is deprecated and will be removed in a future release of LightGBM. \"\n",
      "C:\\Python39\\lib\\site-packages\\lightgbm\\engine.py:239: UserWarning: 'verbose_eval' argument is deprecated and will be removed in a future release of LightGBM. Pass 'log_evaluation()' callback via 'callbacks' argument instead.\n",
      "  _log_warning(\"'verbose_eval' argument is deprecated and will be removed in a future release of LightGBM. \"\n"
     ]
    },
    {
     "name": "stdout",
     "output_type": "stream",
     "text": [
      "Training until validation scores don't improve for 100 rounds\n",
      "[50]\tvalid_0's auc: 0.886072\n",
      "[100]\tvalid_0's auc: 0.893019\n",
      "[150]\tvalid_0's auc: 0.896081\n",
      "[200]\tvalid_0's auc: 0.898771\n",
      "[250]\tvalid_0's auc: 0.900353\n",
      "[300]\tvalid_0's auc: 0.901778\n",
      "[350]\tvalid_0's auc: 0.902717\n",
      "[400]\tvalid_0's auc: 0.903261\n",
      "[450]\tvalid_0's auc: 0.903905\n",
      "[500]\tvalid_0's auc: 0.904235\n",
      "[550]\tvalid_0's auc: 0.90473\n",
      "[600]\tvalid_0's auc: 0.904963\n",
      "[650]\tvalid_0's auc: 0.905311\n",
      "[700]\tvalid_0's auc: 0.905456\n",
      "[750]\tvalid_0's auc: 0.905671\n",
      "[800]\tvalid_0's auc: 0.90585\n",
      "[850]\tvalid_0's auc: 0.905985\n",
      "[900]\tvalid_0's auc: 0.90614\n",
      "[950]\tvalid_0's auc: 0.906288\n",
      "[1000]\tvalid_0's auc: 0.906412\n",
      "[1050]\tvalid_0's auc: 0.906441\n",
      "[1100]\tvalid_0's auc: 0.906484\n",
      "[1150]\tvalid_0's auc: 0.906613\n",
      "[1200]\tvalid_0's auc: 0.90673\n",
      "[1250]\tvalid_0's auc: 0.906665\n"
     ]
    },
    {
     "name": "stderr",
     "output_type": "stream",
     "text": [
      "regularization_factors, val_score: 0.906824:  65%|########################             | 13/20 [00:29<00:15,  2.25s/it]"
     ]
    },
    {
     "name": "stdout",
     "output_type": "stream",
     "text": [
      "[1300]\tvalid_0's auc: 0.906609\n",
      "Early stopping, best iteration is:\n",
      "[1212]\tvalid_0's auc: 0.906769\n",
      "Training until validation scores don't improve for 100 rounds\n"
     ]
    },
    {
     "name": "stderr",
     "output_type": "stream",
     "text": [
      "C:\\Python39\\lib\\site-packages\\lightgbm\\engine.py:181: UserWarning: 'early_stopping_rounds' argument is deprecated and will be removed in a future release of LightGBM. Pass 'early_stopping()' callback via 'callbacks' argument instead.\n",
      "  _log_warning(\"'early_stopping_rounds' argument is deprecated and will be removed in a future release of LightGBM. \"\n",
      "C:\\Python39\\lib\\site-packages\\lightgbm\\engine.py:239: UserWarning: 'verbose_eval' argument is deprecated and will be removed in a future release of LightGBM. Pass 'log_evaluation()' callback via 'callbacks' argument instead.\n",
      "  _log_warning(\"'verbose_eval' argument is deprecated and will be removed in a future release of LightGBM. \"\n"
     ]
    },
    {
     "name": "stdout",
     "output_type": "stream",
     "text": [
      "[50]\tvalid_0's auc: 0.886063\n",
      "[100]\tvalid_0's auc: 0.893021\n",
      "[150]\tvalid_0's auc: 0.896055\n",
      "[200]\tvalid_0's auc: 0.898753\n",
      "[250]\tvalid_0's auc: 0.900275\n",
      "[300]\tvalid_0's auc: 0.901745\n",
      "[350]\tvalid_0's auc: 0.902586\n",
      "[400]\tvalid_0's auc: 0.903118\n",
      "[450]\tvalid_0's auc: 0.903778\n",
      "[500]\tvalid_0's auc: 0.904079\n",
      "[550]\tvalid_0's auc: 0.904726\n",
      "[600]\tvalid_0's auc: 0.904978\n",
      "[650]\tvalid_0's auc: 0.905284\n",
      "[700]\tvalid_0's auc: 0.905442\n",
      "[750]\tvalid_0's auc: 0.905615\n",
      "[800]\tvalid_0's auc: 0.905734\n",
      "[850]\tvalid_0's auc: 0.905849\n",
      "[900]\tvalid_0's auc: 0.90599\n",
      "[950]\tvalid_0's auc: 0.906118\n",
      "[1000]\tvalid_0's auc: 0.906244\n",
      "[1050]\tvalid_0's auc: 0.906267\n",
      "[1100]\tvalid_0's auc: 0.906327\n",
      "[1150]\tvalid_0's auc: 0.90645\n",
      "[1200]\tvalid_0's auc: 0.906506\n",
      "[1250]\tvalid_0's auc: 0.906454\n",
      "[1300]\tvalid_0's auc: 0.906462\n",
      "Early stopping, best iteration is:\n",
      "[1207]\tvalid_0's auc: 0.906535\n"
     ]
    },
    {
     "name": "stderr",
     "output_type": "stream",
     "text": [
      "regularization_factors, val_score: 0.906824:  70%|#########################9           | 14/20 [00:30<00:12,  2.12s/it]C:\\Python39\\lib\\site-packages\\lightgbm\\engine.py:181: UserWarning: 'early_stopping_rounds' argument is deprecated and will be removed in a future release of LightGBM. Pass 'early_stopping()' callback via 'callbacks' argument instead.\n",
      "  _log_warning(\"'early_stopping_rounds' argument is deprecated and will be removed in a future release of LightGBM. \"\n",
      "C:\\Python39\\lib\\site-packages\\lightgbm\\engine.py:239: UserWarning: 'verbose_eval' argument is deprecated and will be removed in a future release of LightGBM. Pass 'log_evaluation()' callback via 'callbacks' argument instead.\n",
      "  _log_warning(\"'verbose_eval' argument is deprecated and will be removed in a future release of LightGBM. \"\n"
     ]
    },
    {
     "name": "stdout",
     "output_type": "stream",
     "text": [
      "Training until validation scores don't improve for 100 rounds\n",
      "[50]\tvalid_0's auc: 0.886072\n",
      "[100]\tvalid_0's auc: 0.893019\n",
      "[150]\tvalid_0's auc: 0.896081\n",
      "[200]\tvalid_0's auc: 0.898771\n",
      "[250]\tvalid_0's auc: 0.900353\n",
      "[300]\tvalid_0's auc: 0.901778\n",
      "[350]\tvalid_0's auc: 0.902717\n",
      "[400]\tvalid_0's auc: 0.903261\n",
      "[450]\tvalid_0's auc: 0.903905\n",
      "[500]\tvalid_0's auc: 0.904235\n",
      "[550]\tvalid_0's auc: 0.90473\n",
      "[600]\tvalid_0's auc: 0.904963\n",
      "[650]\tvalid_0's auc: 0.905311\n",
      "[700]\tvalid_0's auc: 0.905456\n",
      "[750]\tvalid_0's auc: 0.905671\n",
      "[800]\tvalid_0's auc: 0.90585\n",
      "[850]\tvalid_0's auc: 0.905985\n",
      "[900]\tvalid_0's auc: 0.90614\n",
      "[950]\tvalid_0's auc: 0.906288\n",
      "[1000]\tvalid_0's auc: 0.906412\n",
      "[1050]\tvalid_0's auc: 0.906441\n",
      "[1100]\tvalid_0's auc: 0.906484\n",
      "[1150]\tvalid_0's auc: 0.906613\n",
      "[1200]\tvalid_0's auc: 0.90673\n",
      "[1250]\tvalid_0's auc: 0.906665\n"
     ]
    },
    {
     "name": "stderr",
     "output_type": "stream",
     "text": [
      "regularization_factors, val_score: 0.906824:  75%|###########################7         | 15/20 [00:32<00:10,  2.05s/it]"
     ]
    },
    {
     "name": "stdout",
     "output_type": "stream",
     "text": [
      "[1300]\tvalid_0's auc: 0.906609\n",
      "Early stopping, best iteration is:\n",
      "[1212]\tvalid_0's auc: 0.90677\n",
      "Training until validation scores don't improve for 100 rounds\n"
     ]
    },
    {
     "name": "stderr",
     "output_type": "stream",
     "text": [
      "C:\\Python39\\lib\\site-packages\\lightgbm\\engine.py:181: UserWarning: 'early_stopping_rounds' argument is deprecated and will be removed in a future release of LightGBM. Pass 'early_stopping()' callback via 'callbacks' argument instead.\n",
      "  _log_warning(\"'early_stopping_rounds' argument is deprecated and will be removed in a future release of LightGBM. \"\n",
      "C:\\Python39\\lib\\site-packages\\lightgbm\\engine.py:239: UserWarning: 'verbose_eval' argument is deprecated and will be removed in a future release of LightGBM. Pass 'log_evaluation()' callback via 'callbacks' argument instead.\n",
      "  _log_warning(\"'verbose_eval' argument is deprecated and will be removed in a future release of LightGBM. \"\n"
     ]
    },
    {
     "name": "stdout",
     "output_type": "stream",
     "text": [
      "[50]\tvalid_0's auc: 0.886195\n",
      "[100]\tvalid_0's auc: 0.89292\n",
      "[150]\tvalid_0's auc: 0.89613\n",
      "[200]\tvalid_0's auc: 0.89876\n",
      "[250]\tvalid_0's auc: 0.900313\n",
      "[300]\tvalid_0's auc: 0.901762\n",
      "[350]\tvalid_0's auc: 0.902663\n",
      "[400]\tvalid_0's auc: 0.90329\n",
      "[450]\tvalid_0's auc: 0.903957\n",
      "[500]\tvalid_0's auc: 0.904231\n",
      "[550]\tvalid_0's auc: 0.904797\n",
      "[600]\tvalid_0's auc: 0.905054\n",
      "[650]\tvalid_0's auc: 0.90535\n",
      "[700]\tvalid_0's auc: 0.905463\n",
      "[750]\tvalid_0's auc: 0.905676\n",
      "[800]\tvalid_0's auc: 0.905806\n",
      "[850]\tvalid_0's auc: 0.905962\n",
      "[900]\tvalid_0's auc: 0.906105\n",
      "[950]\tvalid_0's auc: 0.906193\n",
      "[1000]\tvalid_0's auc: 0.906305\n",
      "[1050]\tvalid_0's auc: 0.906363\n",
      "[1100]\tvalid_0's auc: 0.906401\n",
      "[1150]\tvalid_0's auc: 0.906525\n"
     ]
    },
    {
     "name": "stderr",
     "output_type": "stream",
     "text": [
      "regularization_factors, val_score: 0.906824:  80%|#############################6       | 16/20 [00:35<00:08,  2.22s/it]"
     ]
    },
    {
     "name": "stdout",
     "output_type": "stream",
     "text": [
      "[1200]\tvalid_0's auc: 0.90656\n",
      "[1250]\tvalid_0's auc: 0.906527\n",
      "Early stopping, best iteration is:\n",
      "[1176]\tvalid_0's auc: 0.906596\n"
     ]
    },
    {
     "name": "stderr",
     "output_type": "stream",
     "text": [
      "regularization_factors, val_score: 0.906824:  80%|#############################6       | 16/20 [00:35<00:08,  2.22s/it]C:\\Python39\\lib\\site-packages\\lightgbm\\engine.py:181: UserWarning: 'early_stopping_rounds' argument is deprecated and will be removed in a future release of LightGBM. Pass 'early_stopping()' callback via 'callbacks' argument instead.\n",
      "  _log_warning(\"'early_stopping_rounds' argument is deprecated and will be removed in a future release of LightGBM. \"\n",
      "C:\\Python39\\lib\\site-packages\\lightgbm\\engine.py:239: UserWarning: 'verbose_eval' argument is deprecated and will be removed in a future release of LightGBM. Pass 'log_evaluation()' callback via 'callbacks' argument instead.\n",
      "  _log_warning(\"'verbose_eval' argument is deprecated and will be removed in a future release of LightGBM. \"\n"
     ]
    },
    {
     "name": "stdout",
     "output_type": "stream",
     "text": [
      "Training until validation scores don't improve for 100 rounds\n",
      "[50]\tvalid_0's auc: 0.885495\n",
      "[100]\tvalid_0's auc: 0.893083\n",
      "[150]\tvalid_0's auc: 0.896573\n",
      "[200]\tvalid_0's auc: 0.898934\n",
      "[250]\tvalid_0's auc: 0.900345\n",
      "[300]\tvalid_0's auc: 0.901736\n",
      "[350]\tvalid_0's auc: 0.902596\n",
      "[400]\tvalid_0's auc: 0.903282\n",
      "[450]\tvalid_0's auc: 0.904038\n",
      "[500]\tvalid_0's auc: 0.904306\n",
      "[550]\tvalid_0's auc: 0.904804\n",
      "[600]\tvalid_0's auc: 0.905059\n",
      "[650]\tvalid_0's auc: 0.905199\n",
      "[700]\tvalid_0's auc: 0.905311\n",
      "[750]\tvalid_0's auc: 0.905445\n",
      "[800]\tvalid_0's auc: 0.90553\n",
      "[850]\tvalid_0's auc: 0.905602\n",
      "[900]\tvalid_0's auc: 0.905761\n",
      "[950]\tvalid_0's auc: 0.905874\n",
      "[1000]\tvalid_0's auc: 0.905998\n",
      "[1050]\tvalid_0's auc: 0.906046\n",
      "[1100]\tvalid_0's auc: 0.906059\n",
      "[1150]\tvalid_0's auc: 0.90614\n"
     ]
    },
    {
     "name": "stderr",
     "output_type": "stream",
     "text": [
      "regularization_factors, val_score: 0.906824:  85%|###############################4     | 17/20 [00:37<00:06,  2.11s/it]"
     ]
    },
    {
     "name": "stdout",
     "output_type": "stream",
     "text": [
      "[1200]\tvalid_0's auc: 0.906135\n",
      "Early stopping, best iteration is:\n",
      "[1148]\tvalid_0's auc: 0.906165\n"
     ]
    },
    {
     "name": "stderr",
     "output_type": "stream",
     "text": [
      "C:\\Python39\\lib\\site-packages\\lightgbm\\engine.py:181: UserWarning: 'early_stopping_rounds' argument is deprecated and will be removed in a future release of LightGBM. Pass 'early_stopping()' callback via 'callbacks' argument instead.\n",
      "  _log_warning(\"'early_stopping_rounds' argument is deprecated and will be removed in a future release of LightGBM. \"\n",
      "C:\\Python39\\lib\\site-packages\\lightgbm\\engine.py:239: UserWarning: 'verbose_eval' argument is deprecated and will be removed in a future release of LightGBM. Pass 'log_evaluation()' callback via 'callbacks' argument instead.\n",
      "  _log_warning(\"'verbose_eval' argument is deprecated and will be removed in a future release of LightGBM. \"\n"
     ]
    },
    {
     "name": "stdout",
     "output_type": "stream",
     "text": [
      "Training until validation scores don't improve for 100 rounds\n",
      "[50]\tvalid_0's auc: 0.886072\n",
      "[100]\tvalid_0's auc: 0.893017\n",
      "[150]\tvalid_0's auc: 0.89608\n",
      "[200]\tvalid_0's auc: 0.898771\n",
      "[250]\tvalid_0's auc: 0.900353\n",
      "[300]\tvalid_0's auc: 0.901779\n",
      "[350]\tvalid_0's auc: 0.902717\n",
      "[400]\tvalid_0's auc: 0.903261\n",
      "[450]\tvalid_0's auc: 0.903905\n",
      "[500]\tvalid_0's auc: 0.904235\n",
      "[550]\tvalid_0's auc: 0.904729\n",
      "[600]\tvalid_0's auc: 0.904962\n",
      "[650]\tvalid_0's auc: 0.905307\n",
      "[700]\tvalid_0's auc: 0.905443\n",
      "[750]\tvalid_0's auc: 0.905658\n",
      "[800]\tvalid_0's auc: 0.905809\n",
      "[850]\tvalid_0's auc: 0.905954\n",
      "[900]\tvalid_0's auc: 0.906093\n",
      "[950]\tvalid_0's auc: 0.906173\n",
      "[1000]\tvalid_0's auc: 0.906315\n",
      "[1050]\tvalid_0's auc: 0.906398\n",
      "[1100]\tvalid_0's auc: 0.906486\n",
      "[1150]\tvalid_0's auc: 0.90663\n",
      "[1200]\tvalid_0's auc: 0.906651\n"
     ]
    },
    {
     "name": "stderr",
     "output_type": "stream",
     "text": [
      "regularization_factors, val_score: 0.906824:  90%|#################################3   | 18/20 [00:39<00:04,  2.02s/it]"
     ]
    },
    {
     "name": "stdout",
     "output_type": "stream",
     "text": [
      "[1250]\tvalid_0's auc: 0.906575\n",
      "[1300]\tvalid_0's auc: 0.906573\n",
      "Early stopping, best iteration is:\n",
      "[1207]\tvalid_0's auc: 0.906683\n"
     ]
    },
    {
     "name": "stderr",
     "output_type": "stream",
     "text": [
      "C:\\Python39\\lib\\site-packages\\lightgbm\\engine.py:181: UserWarning: 'early_stopping_rounds' argument is deprecated and will be removed in a future release of LightGBM. Pass 'early_stopping()' callback via 'callbacks' argument instead.\n",
      "  _log_warning(\"'early_stopping_rounds' argument is deprecated and will be removed in a future release of LightGBM. \"\n",
      "C:\\Python39\\lib\\site-packages\\lightgbm\\engine.py:239: UserWarning: 'verbose_eval' argument is deprecated and will be removed in a future release of LightGBM. Pass 'log_evaluation()' callback via 'callbacks' argument instead.\n",
      "  _log_warning(\"'verbose_eval' argument is deprecated and will be removed in a future release of LightGBM. \"\n"
     ]
    },
    {
     "name": "stdout",
     "output_type": "stream",
     "text": [
      "Training until validation scores don't improve for 100 rounds\n",
      "[50]\tvalid_0's auc: 0.886068\n",
      "[100]\tvalid_0's auc: 0.893023\n",
      "[150]\tvalid_0's auc: 0.896056\n",
      "[200]\tvalid_0's auc: 0.898755\n",
      "[250]\tvalid_0's auc: 0.900276\n",
      "[300]\tvalid_0's auc: 0.90172\n",
      "[350]\tvalid_0's auc: 0.902535\n",
      "[400]\tvalid_0's auc: 0.903\n",
      "[450]\tvalid_0's auc: 0.903684\n",
      "[500]\tvalid_0's auc: 0.904047\n",
      "[550]\tvalid_0's auc: 0.904611\n",
      "[600]\tvalid_0's auc: 0.904883\n",
      "[650]\tvalid_0's auc: 0.90515\n",
      "[700]\tvalid_0's auc: 0.905226\n",
      "[750]\tvalid_0's auc: 0.905392\n",
      "[800]\tvalid_0's auc: 0.905582\n",
      "[850]\tvalid_0's auc: 0.905686\n",
      "[900]\tvalid_0's auc: 0.905859\n",
      "[950]\tvalid_0's auc: 0.906031\n",
      "[1000]\tvalid_0's auc: 0.906173\n",
      "[1050]\tvalid_0's auc: 0.906207\n",
      "[1100]\tvalid_0's auc: 0.906275\n",
      "[1150]\tvalid_0's auc: 0.906357\n",
      "[1200]\tvalid_0's auc: 0.906427\n",
      "[1250]\tvalid_0's auc: 0.906414\n",
      "[1300]\tvalid_0's auc: 0.906397\n",
      "Early stopping, best iteration is:\n",
      "[1234]\tvalid_0's auc: 0.906476\n"
     ]
    },
    {
     "name": "stderr",
     "output_type": "stream",
     "text": [
      "regularization_factors, val_score: 0.906824:  95%|###################################1 | 19/20 [00:40<00:01,  1.97s/it]C:\\Python39\\lib\\site-packages\\lightgbm\\engine.py:181: UserWarning: 'early_stopping_rounds' argument is deprecated and will be removed in a future release of LightGBM. Pass 'early_stopping()' callback via 'callbacks' argument instead.\n",
      "  _log_warning(\"'early_stopping_rounds' argument is deprecated and will be removed in a future release of LightGBM. \"\n",
      "C:\\Python39\\lib\\site-packages\\lightgbm\\engine.py:239: UserWarning: 'verbose_eval' argument is deprecated and will be removed in a future release of LightGBM. Pass 'log_evaluation()' callback via 'callbacks' argument instead.\n",
      "  _log_warning(\"'verbose_eval' argument is deprecated and will be removed in a future release of LightGBM. \"\n"
     ]
    },
    {
     "name": "stdout",
     "output_type": "stream",
     "text": [
      "Training until validation scores don't improve for 100 rounds\n",
      "[50]\tvalid_0's auc: 0.886072\n",
      "[100]\tvalid_0's auc: 0.893019\n",
      "[150]\tvalid_0's auc: 0.896081\n",
      "[200]\tvalid_0's auc: 0.898771\n",
      "[250]\tvalid_0's auc: 0.900353\n",
      "[300]\tvalid_0's auc: 0.901778\n",
      "[350]\tvalid_0's auc: 0.902717\n",
      "[400]\tvalid_0's auc: 0.903261\n",
      "[450]\tvalid_0's auc: 0.903905\n",
      "[500]\tvalid_0's auc: 0.904235\n",
      "[550]\tvalid_0's auc: 0.90473\n",
      "[600]\tvalid_0's auc: 0.904963\n",
      "[650]\tvalid_0's auc: 0.905308\n",
      "[700]\tvalid_0's auc: 0.905436\n",
      "[750]\tvalid_0's auc: 0.905647\n",
      "[800]\tvalid_0's auc: 0.905795\n",
      "[850]\tvalid_0's auc: 0.905981\n",
      "[900]\tvalid_0's auc: 0.906196\n",
      "[950]\tvalid_0's auc: 0.906299\n",
      "[1000]\tvalid_0's auc: 0.906406\n",
      "[1050]\tvalid_0's auc: 0.906445\n",
      "[1100]\tvalid_0's auc: 0.906542\n",
      "[1150]\tvalid_0's auc: 0.9067\n",
      "[1200]\tvalid_0's auc: 0.906755\n"
     ]
    },
    {
     "name": "stderr",
     "output_type": "stream",
     "text": [
      "regularization_factors, val_score: 0.906824: 100%|#####################################| 20/20 [00:42<00:00,  2.15s/it]\n"
     ]
    },
    {
     "name": "stdout",
     "output_type": "stream",
     "text": [
      "[1250]\tvalid_0's auc: 0.906689\n",
      "[1300]\tvalid_0's auc: 0.906683\n",
      "Early stopping, best iteration is:\n",
      "[1207]\tvalid_0's auc: 0.9068\n"
     ]
    },
    {
     "name": "stderr",
     "output_type": "stream",
     "text": [
      "min_data_in_leaf, val_score: 0.906824:   0%|                                                     | 0/5 [00:00<?, ?it/s]C:\\Python39\\lib\\site-packages\\lightgbm\\engine.py:181: UserWarning: 'early_stopping_rounds' argument is deprecated and will be removed in a future release of LightGBM. Pass 'early_stopping()' callback via 'callbacks' argument instead.\n",
      "  _log_warning(\"'early_stopping_rounds' argument is deprecated and will be removed in a future release of LightGBM. \"\n",
      "C:\\Python39\\lib\\site-packages\\lightgbm\\engine.py:239: UserWarning: 'verbose_eval' argument is deprecated and will be removed in a future release of LightGBM. Pass 'log_evaluation()' callback via 'callbacks' argument instead.\n",
      "  _log_warning(\"'verbose_eval' argument is deprecated and will be removed in a future release of LightGBM. \"\n"
     ]
    },
    {
     "name": "stdout",
     "output_type": "stream",
     "text": [
      "Training until validation scores don't improve for 100 rounds\n",
      "[50]\tvalid_0's auc: 0.887192\n",
      "[100]\tvalid_0's auc: 0.893479\n",
      "[150]\tvalid_0's auc: 0.896825\n",
      "[200]\tvalid_0's auc: 0.899386\n",
      "[250]\tvalid_0's auc: 0.900947\n",
      "[300]\tvalid_0's auc: 0.902361\n",
      "[350]\tvalid_0's auc: 0.903139\n",
      "[400]\tvalid_0's auc: 0.903792\n",
      "[450]\tvalid_0's auc: 0.904483\n",
      "[500]\tvalid_0's auc: 0.904789\n",
      "[550]\tvalid_0's auc: 0.905197\n",
      "[600]\tvalid_0's auc: 0.905401\n",
      "[650]\tvalid_0's auc: 0.905562\n",
      "[700]\tvalid_0's auc: 0.905585\n",
      "[750]\tvalid_0's auc: 0.905752\n",
      "[800]\tvalid_0's auc: 0.905858\n",
      "[850]\tvalid_0's auc: 0.905943\n",
      "[900]\tvalid_0's auc: 0.905983\n"
     ]
    },
    {
     "name": "stderr",
     "output_type": "stream",
     "text": [
      "min_data_in_leaf, val_score: 0.906824:  20%|#########                                    | 1/5 [00:01<00:05,  1.44s/it]"
     ]
    },
    {
     "name": "stdout",
     "output_type": "stream",
     "text": [
      "[950]\tvalid_0's auc: 0.90609\n",
      "[1000]\tvalid_0's auc: 0.90608\n",
      "Early stopping, best iteration is:\n",
      "[932]\tvalid_0's auc: 0.906154\n"
     ]
    },
    {
     "name": "stderr",
     "output_type": "stream",
     "text": [
      "C:\\Python39\\lib\\site-packages\\lightgbm\\engine.py:181: UserWarning: 'early_stopping_rounds' argument is deprecated and will be removed in a future release of LightGBM. Pass 'early_stopping()' callback via 'callbacks' argument instead.\n",
      "  _log_warning(\"'early_stopping_rounds' argument is deprecated and will be removed in a future release of LightGBM. \"\n",
      "C:\\Python39\\lib\\site-packages\\lightgbm\\engine.py:239: UserWarning: 'verbose_eval' argument is deprecated and will be removed in a future release of LightGBM. Pass 'log_evaluation()' callback via 'callbacks' argument instead.\n",
      "  _log_warning(\"'verbose_eval' argument is deprecated and will be removed in a future release of LightGBM. \"\n"
     ]
    },
    {
     "name": "stdout",
     "output_type": "stream",
     "text": [
      "Training until validation scores don't improve for 100 rounds\n",
      "[50]\tvalid_0's auc: 0.886161\n",
      "[100]\tvalid_0's auc: 0.892949\n",
      "[150]\tvalid_0's auc: 0.896158\n",
      "[200]\tvalid_0's auc: 0.898758\n",
      "[250]\tvalid_0's auc: 0.900282\n",
      "[300]\tvalid_0's auc: 0.901805\n",
      "[350]\tvalid_0's auc: 0.90264\n",
      "[400]\tvalid_0's auc: 0.903133\n",
      "[450]\tvalid_0's auc: 0.903876\n",
      "[500]\tvalid_0's auc: 0.904202\n",
      "[550]\tvalid_0's auc: 0.904769\n",
      "[600]\tvalid_0's auc: 0.904991\n",
      "[650]\tvalid_0's auc: 0.905245\n",
      "[700]\tvalid_0's auc: 0.905372\n",
      "[750]\tvalid_0's auc: 0.905498\n",
      "[800]\tvalid_0's auc: 0.905688\n",
      "[850]\tvalid_0's auc: 0.905831\n",
      "[900]\tvalid_0's auc: 0.905995\n",
      "[950]\tvalid_0's auc: 0.906099\n",
      "[1000]\tvalid_0's auc: 0.906237\n",
      "[1050]\tvalid_0's auc: 0.906301\n",
      "[1100]\tvalid_0's auc: 0.906394\n",
      "[1150]\tvalid_0's auc: 0.906543\n",
      "[1200]\tvalid_0's auc: 0.906619\n"
     ]
    },
    {
     "name": "stderr",
     "output_type": "stream",
     "text": [
      "min_data_in_leaf, val_score: 0.906824:  40%|##################                           | 2/5 [00:03<00:04,  1.61s/it]"
     ]
    },
    {
     "name": "stdout",
     "output_type": "stream",
     "text": [
      "[1250]\tvalid_0's auc: 0.906578\n",
      "Early stopping, best iteration is:\n",
      "[1179]\tvalid_0's auc: 0.906637\n",
      "Training until validation scores don't improve for 100 rounds\n"
     ]
    },
    {
     "name": "stderr",
     "output_type": "stream",
     "text": [
      "C:\\Python39\\lib\\site-packages\\lightgbm\\engine.py:181: UserWarning: 'early_stopping_rounds' argument is deprecated and will be removed in a future release of LightGBM. Pass 'early_stopping()' callback via 'callbacks' argument instead.\n",
      "  _log_warning(\"'early_stopping_rounds' argument is deprecated and will be removed in a future release of LightGBM. \"\n",
      "C:\\Python39\\lib\\site-packages\\lightgbm\\engine.py:239: UserWarning: 'verbose_eval' argument is deprecated and will be removed in a future release of LightGBM. Pass 'log_evaluation()' callback via 'callbacks' argument instead.\n",
      "  _log_warning(\"'verbose_eval' argument is deprecated and will be removed in a future release of LightGBM. \"\n"
     ]
    },
    {
     "name": "stdout",
     "output_type": "stream",
     "text": [
      "[50]\tvalid_0's auc: 0.88626\n",
      "[100]\tvalid_0's auc: 0.892993\n",
      "[150]\tvalid_0's auc: 0.896557\n",
      "[200]\tvalid_0's auc: 0.899013\n",
      "[250]\tvalid_0's auc: 0.900658\n",
      "[300]\tvalid_0's auc: 0.902018\n",
      "[350]\tvalid_0's auc: 0.902805\n",
      "[400]\tvalid_0's auc: 0.903287\n",
      "[450]\tvalid_0's auc: 0.903938\n",
      "[500]\tvalid_0's auc: 0.904293\n",
      "[550]\tvalid_0's auc: 0.904685\n",
      "[600]\tvalid_0's auc: 0.904896\n",
      "[650]\tvalid_0's auc: 0.905092\n",
      "[700]\tvalid_0's auc: 0.905164\n",
      "[750]\tvalid_0's auc: 0.905323\n",
      "[800]\tvalid_0's auc: 0.905438\n",
      "[850]\tvalid_0's auc: 0.905571\n",
      "[900]\tvalid_0's auc: 0.905677\n",
      "[950]\tvalid_0's auc: 0.905766\n",
      "[1000]\tvalid_0's auc: 0.905852\n",
      "[1050]\tvalid_0's auc: 0.905917\n",
      "[1100]\tvalid_0's auc: 0.906011\n",
      "[1150]\tvalid_0's auc: 0.906076\n",
      "[1200]\tvalid_0's auc: 0.906087\n"
     ]
    },
    {
     "name": "stderr",
     "output_type": "stream",
     "text": [
      "min_data_in_leaf, val_score: 0.906824:  60%|###########################                  | 3/5 [00:04<00:03,  1.68s/it]"
     ]
    },
    {
     "name": "stdout",
     "output_type": "stream",
     "text": [
      "[1250]\tvalid_0's auc: 0.906081\n",
      "[1300]\tvalid_0's auc: 0.906029\n",
      "Early stopping, best iteration is:\n",
      "[1219]\tvalid_0's auc: 0.90613\n"
     ]
    },
    {
     "name": "stderr",
     "output_type": "stream",
     "text": [
      "C:\\Python39\\lib\\site-packages\\lightgbm\\engine.py:181: UserWarning: 'early_stopping_rounds' argument is deprecated and will be removed in a future release of LightGBM. Pass 'early_stopping()' callback via 'callbacks' argument instead.\n",
      "  _log_warning(\"'early_stopping_rounds' argument is deprecated and will be removed in a future release of LightGBM. \"\n",
      "C:\\Python39\\lib\\site-packages\\lightgbm\\engine.py:239: UserWarning: 'verbose_eval' argument is deprecated and will be removed in a future release of LightGBM. Pass 'log_evaluation()' callback via 'callbacks' argument instead.\n",
      "  _log_warning(\"'verbose_eval' argument is deprecated and will be removed in a future release of LightGBM. \"\n"
     ]
    },
    {
     "name": "stdout",
     "output_type": "stream",
     "text": [
      "Training until validation scores don't improve for 100 rounds\n",
      "[50]\tvalid_0's auc: 0.886072\n",
      "[100]\tvalid_0's auc: 0.893019\n",
      "[150]\tvalid_0's auc: 0.896062\n",
      "[200]\tvalid_0's auc: 0.898804\n",
      "[250]\tvalid_0's auc: 0.900434\n",
      "[300]\tvalid_0's auc: 0.901931\n",
      "[350]\tvalid_0's auc: 0.902801\n",
      "[400]\tvalid_0's auc: 0.903281\n",
      "[450]\tvalid_0's auc: 0.903972\n",
      "[500]\tvalid_0's auc: 0.904325\n",
      "[550]\tvalid_0's auc: 0.904901\n",
      "[600]\tvalid_0's auc: 0.905082\n",
      "[650]\tvalid_0's auc: 0.905422\n",
      "[700]\tvalid_0's auc: 0.905549\n",
      "[750]\tvalid_0's auc: 0.905823\n",
      "[800]\tvalid_0's auc: 0.906039\n",
      "[850]\tvalid_0's auc: 0.906173\n",
      "[900]\tvalid_0's auc: 0.906449\n",
      "[950]\tvalid_0's auc: 0.906528\n",
      "[1000]\tvalid_0's auc: 0.906722\n",
      "[1050]\tvalid_0's auc: 0.906777\n",
      "[1100]\tvalid_0's auc: 0.906897\n",
      "[1150]\tvalid_0's auc: 0.907076\n",
      "[1200]\tvalid_0's auc: 0.907229\n",
      "[1250]\tvalid_0's auc: 0.907199\n"
     ]
    },
    {
     "name": "stderr",
     "output_type": "stream",
     "text": [
      "min_data_in_leaf, val_score: 0.907233:  80%|####################################         | 4/5 [00:06<00:01,  1.71s/it]"
     ]
    },
    {
     "name": "stdout",
     "output_type": "stream",
     "text": [
      "[1300]\tvalid_0's auc: 0.907156\n",
      "Early stopping, best iteration is:\n",
      "[1207]\tvalid_0's auc: 0.907233\n",
      "Training until validation scores don't improve for 100 rounds\n"
     ]
    },
    {
     "name": "stderr",
     "output_type": "stream",
     "text": [
      "C:\\Python39\\lib\\site-packages\\lightgbm\\engine.py:181: UserWarning: 'early_stopping_rounds' argument is deprecated and will be removed in a future release of LightGBM. Pass 'early_stopping()' callback via 'callbacks' argument instead.\n",
      "  _log_warning(\"'early_stopping_rounds' argument is deprecated and will be removed in a future release of LightGBM. \"\n",
      "C:\\Python39\\lib\\site-packages\\lightgbm\\engine.py:239: UserWarning: 'verbose_eval' argument is deprecated and will be removed in a future release of LightGBM. Pass 'log_evaluation()' callback via 'callbacks' argument instead.\n",
      "  _log_warning(\"'verbose_eval' argument is deprecated and will be removed in a future release of LightGBM. \"\n"
     ]
    },
    {
     "name": "stdout",
     "output_type": "stream",
     "text": [
      "[50]\tvalid_0's auc: 0.886072\n",
      "[100]\tvalid_0's auc: 0.893019\n",
      "[150]\tvalid_0's auc: 0.896045\n",
      "[200]\tvalid_0's auc: 0.898787\n",
      "[250]\tvalid_0's auc: 0.900399\n",
      "[300]\tvalid_0's auc: 0.901849\n",
      "[350]\tvalid_0's auc: 0.902678\n",
      "[400]\tvalid_0's auc: 0.90324\n",
      "[450]\tvalid_0's auc: 0.903953\n",
      "[500]\tvalid_0's auc: 0.904326\n",
      "[550]\tvalid_0's auc: 0.904843\n",
      "[600]\tvalid_0's auc: 0.905064\n",
      "[650]\tvalid_0's auc: 0.905399\n",
      "[700]\tvalid_0's auc: 0.905589\n",
      "[750]\tvalid_0's auc: 0.905897\n",
      "[800]\tvalid_0's auc: 0.906116\n",
      "[850]\tvalid_0's auc: 0.906223\n",
      "[900]\tvalid_0's auc: 0.90651\n",
      "[950]\tvalid_0's auc: 0.906613\n",
      "[1000]\tvalid_0's auc: 0.906811\n",
      "[1050]\tvalid_0's auc: 0.906904\n",
      "[1100]\tvalid_0's auc: 0.907166\n",
      "[1150]\tvalid_0's auc: 0.907406\n",
      "[1200]\tvalid_0's auc: 0.907506\n",
      "[1250]\tvalid_0's auc: 0.907562\n",
      "[1300]\tvalid_0's auc: 0.907643\n",
      "[1350]\tvalid_0's auc: 0.907709\n",
      "[1400]\tvalid_0's auc: 0.907736\n",
      "[1450]\tvalid_0's auc: 0.907734\n",
      "[1500]\tvalid_0's auc: 0.907676\n",
      "Early stopping, best iteration is:\n",
      "[1408]\tvalid_0's auc: 0.907783\n"
     ]
    },
    {
     "name": "stderr",
     "output_type": "stream",
     "text": [
      "min_data_in_leaf, val_score: 0.907783: 100%|#############################################| 5/5 [00:08<00:00,  1.76s/it]\n"
     ]
    },
    {
     "name": "stdout",
     "output_type": "stream",
     "text": [
      "Best params: {'boosting_type': 'gbdt', 'objective': 'binary', 'metric': 'auc', 'verbosity': -1, 'learning_rate': 0.02, 'deterministic': True, 'force_row_wise': True, 'feature_pre_filter': False, 'lambda_l1': 0.0, 'lambda_l2': 0.0, 'num_leaves': 9, 'feature_fraction': 0.4, 'bagging_fraction': 0.9357681726094859, 'bagging_freq': 7, 'min_child_samples': 5, 'num_iterations': 10000, 'early_stopping_round': 100}\n",
      "### seed:  5 ###\n"
     ]
    },
    {
     "name": "stderr",
     "output_type": "stream",
     "text": [
      "feature_fraction, val_score: -inf:   0%|                                                         | 0/7 [00:00<?, ?it/s]"
     ]
    },
    {
     "name": "stdout",
     "output_type": "stream",
     "text": [
      "Training until validation scores don't improve for 100 rounds\n",
      "[50]\tvalid_0's auc: 0.897926\n"
     ]
    },
    {
     "name": "stderr",
     "output_type": "stream",
     "text": [
      "C:\\Python39\\lib\\site-packages\\lightgbm\\engine.py:181: UserWarning: 'early_stopping_rounds' argument is deprecated and will be removed in a future release of LightGBM. Pass 'early_stopping()' callback via 'callbacks' argument instead.\n",
      "  _log_warning(\"'early_stopping_rounds' argument is deprecated and will be removed in a future release of LightGBM. \"\n",
      "C:\\Python39\\lib\\site-packages\\lightgbm\\engine.py:239: UserWarning: 'verbose_eval' argument is deprecated and will be removed in a future release of LightGBM. Pass 'log_evaluation()' callback via 'callbacks' argument instead.\n",
      "  _log_warning(\"'verbose_eval' argument is deprecated and will be removed in a future release of LightGBM. \"\n"
     ]
    },
    {
     "name": "stdout",
     "output_type": "stream",
     "text": [
      "[100]\tvalid_0's auc: 0.900882\n",
      "[150]\tvalid_0's auc: 0.902782\n",
      "[200]\tvalid_0's auc: 0.904125\n",
      "[250]\tvalid_0's auc: 0.904678\n",
      "[300]\tvalid_0's auc: 0.905054\n",
      "[350]\tvalid_0's auc: 0.905324\n",
      "[400]\tvalid_0's auc: 0.905358\n"
     ]
    },
    {
     "name": "stderr",
     "output_type": "stream",
     "text": [
      "feature_fraction, val_score: 0.905400:  14%|######4                                      | 1/7 [00:00<00:04,  1.25it/s]"
     ]
    },
    {
     "name": "stdout",
     "output_type": "stream",
     "text": [
      "[450]\tvalid_0's auc: 0.905302\n",
      "Early stopping, best iteration is:\n",
      "[359]\tvalid_0's auc: 0.9054\n",
      "Training until validation scores don't improve for 100 rounds\n"
     ]
    },
    {
     "name": "stderr",
     "output_type": "stream",
     "text": [
      "C:\\Python39\\lib\\site-packages\\lightgbm\\engine.py:181: UserWarning: 'early_stopping_rounds' argument is deprecated and will be removed in a future release of LightGBM. Pass 'early_stopping()' callback via 'callbacks' argument instead.\n",
      "  _log_warning(\"'early_stopping_rounds' argument is deprecated and will be removed in a future release of LightGBM. \"\n",
      "C:\\Python39\\lib\\site-packages\\lightgbm\\engine.py:239: UserWarning: 'verbose_eval' argument is deprecated and will be removed in a future release of LightGBM. Pass 'log_evaluation()' callback via 'callbacks' argument instead.\n",
      "  _log_warning(\"'verbose_eval' argument is deprecated and will be removed in a future release of LightGBM. \"\n"
     ]
    },
    {
     "name": "stdout",
     "output_type": "stream",
     "text": [
      "[50]\tvalid_0's auc: 0.898232\n",
      "[100]\tvalid_0's auc: 0.901139\n",
      "[150]\tvalid_0's auc: 0.903161\n",
      "[200]\tvalid_0's auc: 0.904371\n",
      "[250]\tvalid_0's auc: 0.905056\n",
      "[300]\tvalid_0's auc: 0.905421\n",
      "[350]\tvalid_0's auc: 0.905396\n",
      "[400]\tvalid_0's auc: 0.905427\n",
      "[450]\tvalid_0's auc: 0.905601\n",
      "[500]\tvalid_0's auc: 0.905658\n",
      "[550]\tvalid_0's auc: 0.905456\n",
      "Early stopping, best iteration is:\n",
      "[489]\tvalid_0's auc: 0.905694\n"
     ]
    },
    {
     "name": "stderr",
     "output_type": "stream",
     "text": [
      "feature_fraction, val_score: 0.905694:  29%|############8                                | 2/7 [00:01<00:04,  1.07it/s]"
     ]
    },
    {
     "name": "stdout",
     "output_type": "stream",
     "text": [
      "Training until validation scores don't improve for 100 rounds\n"
     ]
    },
    {
     "name": "stderr",
     "output_type": "stream",
     "text": [
      "C:\\Python39\\lib\\site-packages\\lightgbm\\engine.py:181: UserWarning: 'early_stopping_rounds' argument is deprecated and will be removed in a future release of LightGBM. Pass 'early_stopping()' callback via 'callbacks' argument instead.\n",
      "  _log_warning(\"'early_stopping_rounds' argument is deprecated and will be removed in a future release of LightGBM. \"\n",
      "C:\\Python39\\lib\\site-packages\\lightgbm\\engine.py:239: UserWarning: 'verbose_eval' argument is deprecated and will be removed in a future release of LightGBM. Pass 'log_evaluation()' callback via 'callbacks' argument instead.\n",
      "  _log_warning(\"'verbose_eval' argument is deprecated and will be removed in a future release of LightGBM. \"\n"
     ]
    },
    {
     "name": "stdout",
     "output_type": "stream",
     "text": [
      "[50]\tvalid_0's auc: 0.895481\n",
      "[100]\tvalid_0's auc: 0.899061\n",
      "[150]\tvalid_0's auc: 0.901728\n",
      "[200]\tvalid_0's auc: 0.90346\n",
      "[250]\tvalid_0's auc: 0.904153\n",
      "[300]\tvalid_0's auc: 0.904424\n",
      "[350]\tvalid_0's auc: 0.904549\n",
      "[400]\tvalid_0's auc: 0.904709\n",
      "[450]\tvalid_0's auc: 0.904767\n",
      "[500]\tvalid_0's auc: 0.904665\n",
      "Early stopping, best iteration is:\n",
      "[434]\tvalid_0's auc: 0.904811\n"
     ]
    },
    {
     "name": "stderr",
     "output_type": "stream",
     "text": [
      "feature_fraction, val_score: 0.905694:  43%|###################2                         | 3/7 [00:02<00:03,  1.01it/s]C:\\Python39\\lib\\site-packages\\lightgbm\\engine.py:181: UserWarning: 'early_stopping_rounds' argument is deprecated and will be removed in a future release of LightGBM. Pass 'early_stopping()' callback via 'callbacks' argument instead.\n",
      "  _log_warning(\"'early_stopping_rounds' argument is deprecated and will be removed in a future release of LightGBM. \"\n",
      "C:\\Python39\\lib\\site-packages\\lightgbm\\engine.py:239: UserWarning: 'verbose_eval' argument is deprecated and will be removed in a future release of LightGBM. Pass 'log_evaluation()' callback via 'callbacks' argument instead.\n",
      "  _log_warning(\"'verbose_eval' argument is deprecated and will be removed in a future release of LightGBM. \"\n"
     ]
    },
    {
     "name": "stdout",
     "output_type": "stream",
     "text": [
      "Training until validation scores don't improve for 100 rounds\n",
      "[50]\tvalid_0's auc: 0.896219\n",
      "[100]\tvalid_0's auc: 0.899862\n",
      "[150]\tvalid_0's auc: 0.902059\n",
      "[200]\tvalid_0's auc: 0.903673\n",
      "[250]\tvalid_0's auc: 0.904419\n",
      "[300]\tvalid_0's auc: 0.904779\n",
      "[350]\tvalid_0's auc: 0.904731\n",
      "[400]\tvalid_0's auc: 0.904852\n"
     ]
    },
    {
     "name": "stderr",
     "output_type": "stream",
     "text": [
      "feature_fraction, val_score: 0.905694:  57%|#########################7                   | 4/7 [00:03<00:03,  1.00s/it]"
     ]
    },
    {
     "name": "stdout",
     "output_type": "stream",
     "text": [
      "[450]\tvalid_0's auc: 0.904708\n",
      "Early stopping, best iteration is:\n",
      "[399]\tvalid_0's auc: 0.904852\n"
     ]
    },
    {
     "name": "stderr",
     "output_type": "stream",
     "text": [
      "C:\\Python39\\lib\\site-packages\\lightgbm\\engine.py:181: UserWarning: 'early_stopping_rounds' argument is deprecated and will be removed in a future release of LightGBM. Pass 'early_stopping()' callback via 'callbacks' argument instead.\n",
      "  _log_warning(\"'early_stopping_rounds' argument is deprecated and will be removed in a future release of LightGBM. \"\n",
      "C:\\Python39\\lib\\site-packages\\lightgbm\\engine.py:239: UserWarning: 'verbose_eval' argument is deprecated and will be removed in a future release of LightGBM. Pass 'log_evaluation()' callback via 'callbacks' argument instead.\n",
      "  _log_warning(\"'verbose_eval' argument is deprecated and will be removed in a future release of LightGBM. \"\n"
     ]
    },
    {
     "name": "stdout",
     "output_type": "stream",
     "text": [
      "Training until validation scores don't improve for 100 rounds\n",
      "[50]\tvalid_0's auc: 0.889524\n",
      "[100]\tvalid_0's auc: 0.895641\n",
      "[150]\tvalid_0's auc: 0.899847\n",
      "[200]\tvalid_0's auc: 0.901449\n",
      "[250]\tvalid_0's auc: 0.902116\n",
      "[300]\tvalid_0's auc: 0.902619\n",
      "[350]\tvalid_0's auc: 0.903006\n",
      "[400]\tvalid_0's auc: 0.903235\n",
      "[450]\tvalid_0's auc: 0.90335\n"
     ]
    },
    {
     "name": "stderr",
     "output_type": "stream",
     "text": [
      "feature_fraction, val_score: 0.905694:  71%|################################1            | 5/7 [00:04<00:01,  1.00it/s]"
     ]
    },
    {
     "name": "stdout",
     "output_type": "stream",
     "text": [
      "[500]\tvalid_0's auc: 0.903194\n",
      "[550]\tvalid_0's auc: 0.902898\n",
      "Early stopping, best iteration is:\n",
      "[454]\tvalid_0's auc: 0.90337\n"
     ]
    },
    {
     "name": "stderr",
     "output_type": "stream",
     "text": [
      "C:\\Python39\\lib\\site-packages\\lightgbm\\engine.py:181: UserWarning: 'early_stopping_rounds' argument is deprecated and will be removed in a future release of LightGBM. Pass 'early_stopping()' callback via 'callbacks' argument instead.\n",
      "  _log_warning(\"'early_stopping_rounds' argument is deprecated and will be removed in a future release of LightGBM. \"\n",
      "C:\\Python39\\lib\\site-packages\\lightgbm\\engine.py:239: UserWarning: 'verbose_eval' argument is deprecated and will be removed in a future release of LightGBM. Pass 'log_evaluation()' callback via 'callbacks' argument instead.\n",
      "  _log_warning(\"'verbose_eval' argument is deprecated and will be removed in a future release of LightGBM. \"\n"
     ]
    },
    {
     "name": "stdout",
     "output_type": "stream",
     "text": [
      "Training until validation scores don't improve for 100 rounds\n",
      "[50]\tvalid_0's auc: 0.891521\n",
      "[100]\tvalid_0's auc: 0.896627\n",
      "[150]\tvalid_0's auc: 0.900669\n",
      "[200]\tvalid_0's auc: 0.902519\n",
      "[250]\tvalid_0's auc: 0.902953\n",
      "[300]\tvalid_0's auc: 0.903131\n",
      "[350]\tvalid_0's auc: 0.903115\n",
      "[400]\tvalid_0's auc: 0.903094\n"
     ]
    },
    {
     "name": "stderr",
     "output_type": "stream",
     "text": [
      "feature_fraction, val_score: 0.905694:  86%|######################################5      | 6/7 [00:05<00:00,  1.03it/s]"
     ]
    },
    {
     "name": "stdout",
     "output_type": "stream",
     "text": [
      "[450]\tvalid_0's auc: 0.903185\n",
      "[500]\tvalid_0's auc: 0.903131\n",
      "Early stopping, best iteration is:\n",
      "[434]\tvalid_0's auc: 0.903226\n"
     ]
    },
    {
     "name": "stderr",
     "output_type": "stream",
     "text": [
      "feature_fraction, val_score: 0.905694:  86%|######################################5      | 6/7 [00:05<00:00,  1.03it/s]C:\\Python39\\lib\\site-packages\\lightgbm\\engine.py:181: UserWarning: 'early_stopping_rounds' argument is deprecated and will be removed in a future release of LightGBM. Pass 'early_stopping()' callback via 'callbacks' argument instead.\n",
      "  _log_warning(\"'early_stopping_rounds' argument is deprecated and will be removed in a future release of LightGBM. \"\n",
      "C:\\Python39\\lib\\site-packages\\lightgbm\\engine.py:239: UserWarning: 'verbose_eval' argument is deprecated and will be removed in a future release of LightGBM. Pass 'log_evaluation()' callback via 'callbacks' argument instead.\n",
      "  _log_warning(\"'verbose_eval' argument is deprecated and will be removed in a future release of LightGBM. \"\n"
     ]
    },
    {
     "name": "stdout",
     "output_type": "stream",
     "text": [
      "Training until validation scores don't improve for 100 rounds\n",
      "[50]\tvalid_0's auc: 0.8937\n",
      "[100]\tvalid_0's auc: 0.898028\n",
      "[150]\tvalid_0's auc: 0.901441\n",
      "[200]\tvalid_0's auc: 0.903275\n",
      "[250]\tvalid_0's auc: 0.903584\n",
      "[300]\tvalid_0's auc: 0.903794\n",
      "[350]\tvalid_0's auc: 0.903872\n"
     ]
    },
    {
     "name": "stderr",
     "output_type": "stream",
     "text": [
      "feature_fraction, val_score: 0.905694: 100%|#############################################| 7/7 [00:06<00:00,  1.04it/s]\n"
     ]
    },
    {
     "name": "stdout",
     "output_type": "stream",
     "text": [
      "[400]\tvalid_0's auc: 0.903912\n",
      "[450]\tvalid_0's auc: 0.903888\n",
      "Early stopping, best iteration is:\n",
      "[368]\tvalid_0's auc: 0.903986\n"
     ]
    },
    {
     "name": "stderr",
     "output_type": "stream",
     "text": [
      "num_leaves, val_score: 0.905694:   0%|                                                          | 0/20 [00:00<?, ?it/s]C:\\Python39\\lib\\site-packages\\lightgbm\\engine.py:181: UserWarning: 'early_stopping_rounds' argument is deprecated and will be removed in a future release of LightGBM. Pass 'early_stopping()' callback via 'callbacks' argument instead.\n",
      "  _log_warning(\"'early_stopping_rounds' argument is deprecated and will be removed in a future release of LightGBM. \"\n",
      "C:\\Python39\\lib\\site-packages\\lightgbm\\engine.py:239: UserWarning: 'verbose_eval' argument is deprecated and will be removed in a future release of LightGBM. Pass 'log_evaluation()' callback via 'callbacks' argument instead.\n",
      "  _log_warning(\"'verbose_eval' argument is deprecated and will be removed in a future release of LightGBM. \"\n"
     ]
    },
    {
     "name": "stdout",
     "output_type": "stream",
     "text": [
      "Training until validation scores don't improve for 100 rounds\n",
      "[50]\tvalid_0's auc: 0.901437\n",
      "[100]\tvalid_0's auc: 0.903473\n",
      "[150]\tvalid_0's auc: 0.90468\n",
      "[200]\tvalid_0's auc: 0.90516\n",
      "[250]\tvalid_0's auc: 0.905325\n",
      "[300]\tvalid_0's auc: 0.905319\n"
     ]
    },
    {
     "name": "stderr",
     "output_type": "stream",
     "text": [
      "num_leaves, val_score: 0.905694:   5%|##5                                               | 1/20 [00:00<00:16,  1.14it/s]"
     ]
    },
    {
     "name": "stdout",
     "output_type": "stream",
     "text": [
      "[350]\tvalid_0's auc: 0.905075\n",
      "Early stopping, best iteration is:\n",
      "[265]\tvalid_0's auc: 0.905428\n",
      "Training until validation scores don't improve for 100 rounds\n"
     ]
    },
    {
     "name": "stderr",
     "output_type": "stream",
     "text": [
      "C:\\Python39\\lib\\site-packages\\lightgbm\\engine.py:181: UserWarning: 'early_stopping_rounds' argument is deprecated and will be removed in a future release of LightGBM. Pass 'early_stopping()' callback via 'callbacks' argument instead.\n",
      "  _log_warning(\"'early_stopping_rounds' argument is deprecated and will be removed in a future release of LightGBM. \"\n",
      "C:\\Python39\\lib\\site-packages\\lightgbm\\engine.py:239: UserWarning: 'verbose_eval' argument is deprecated and will be removed in a future release of LightGBM. Pass 'log_evaluation()' callback via 'callbacks' argument instead.\n",
      "  _log_warning(\"'verbose_eval' argument is deprecated and will be removed in a future release of LightGBM. \"\n"
     ]
    },
    {
     "name": "stdout",
     "output_type": "stream",
     "text": [
      "[50]\tvalid_0's auc: 0.902309\n",
      "[100]\tvalid_0's auc: 0.903687\n",
      "[150]\tvalid_0's auc: 0.903656\n"
     ]
    },
    {
     "name": "stderr",
     "output_type": "stream",
     "text": [
      "num_leaves, val_score: 0.905694:  10%|#####                                             | 2/20 [00:02<00:18,  1.05s/it]"
     ]
    },
    {
     "name": "stdout",
     "output_type": "stream",
     "text": [
      "[200]\tvalid_0's auc: 0.902955\n",
      "Early stopping, best iteration is:\n",
      "[117]\tvalid_0's auc: 0.903992\n"
     ]
    },
    {
     "name": "stderr",
     "output_type": "stream",
     "text": [
      "C:\\Python39\\lib\\site-packages\\lightgbm\\engine.py:181: UserWarning: 'early_stopping_rounds' argument is deprecated and will be removed in a future release of LightGBM. Pass 'early_stopping()' callback via 'callbacks' argument instead.\n",
      "  _log_warning(\"'early_stopping_rounds' argument is deprecated and will be removed in a future release of LightGBM. \"\n",
      "C:\\Python39\\lib\\site-packages\\lightgbm\\engine.py:239: UserWarning: 'verbose_eval' argument is deprecated and will be removed in a future release of LightGBM. Pass 'log_evaluation()' callback via 'callbacks' argument instead.\n",
      "  _log_warning(\"'verbose_eval' argument is deprecated and will be removed in a future release of LightGBM. \"\n"
     ]
    },
    {
     "name": "stdout",
     "output_type": "stream",
     "text": [
      "Training until validation scores don't improve for 100 rounds\n",
      "[50]\tvalid_0's auc: 0.901008\n",
      "[100]\tvalid_0's auc: 0.903241\n",
      "[150]\tvalid_0's auc: 0.904579\n",
      "[200]\tvalid_0's auc: 0.905178\n",
      "[250]\tvalid_0's auc: 0.905347\n",
      "[300]\tvalid_0's auc: 0.905383\n",
      "[350]\tvalid_0's auc: 0.90513\n"
     ]
    },
    {
     "name": "stderr",
     "output_type": "stream",
     "text": [
      "num_leaves, val_score: 0.905694:  15%|#######5                                          | 3/20 [00:02<00:16,  1.05it/s]"
     ]
    },
    {
     "name": "stdout",
     "output_type": "stream",
     "text": [
      "Early stopping, best iteration is:\n",
      "[266]\tvalid_0's auc: 0.905437\n",
      "Training until validation scores don't improve for 100 rounds\n"
     ]
    },
    {
     "name": "stderr",
     "output_type": "stream",
     "text": [
      "C:\\Python39\\lib\\site-packages\\lightgbm\\engine.py:181: UserWarning: 'early_stopping_rounds' argument is deprecated and will be removed in a future release of LightGBM. Pass 'early_stopping()' callback via 'callbacks' argument instead.\n",
      "  _log_warning(\"'early_stopping_rounds' argument is deprecated and will be removed in a future release of LightGBM. \"\n",
      "C:\\Python39\\lib\\site-packages\\lightgbm\\engine.py:239: UserWarning: 'verbose_eval' argument is deprecated and will be removed in a future release of LightGBM. Pass 'log_evaluation()' callback via 'callbacks' argument instead.\n",
      "  _log_warning(\"'verbose_eval' argument is deprecated and will be removed in a future release of LightGBM. \"\n"
     ]
    },
    {
     "name": "stdout",
     "output_type": "stream",
     "text": [
      "[50]\tvalid_0's auc: 0.902377\n",
      "[100]\tvalid_0's auc: 0.903708\n",
      "[150]\tvalid_0's auc: 0.903543\n"
     ]
    },
    {
     "name": "stderr",
     "output_type": "stream",
     "text": [
      "num_leaves, val_score: 0.905694:  20%|##########                                        | 4/20 [00:04<00:17,  1.07s/it]"
     ]
    },
    {
     "name": "stdout",
     "output_type": "stream",
     "text": [
      "[200]\tvalid_0's auc: 0.902801\n",
      "Early stopping, best iteration is:\n",
      "[117]\tvalid_0's auc: 0.903935\n"
     ]
    },
    {
     "name": "stderr",
     "output_type": "stream",
     "text": [
      "C:\\Python39\\lib\\site-packages\\lightgbm\\engine.py:181: UserWarning: 'early_stopping_rounds' argument is deprecated and will be removed in a future release of LightGBM. Pass 'early_stopping()' callback via 'callbacks' argument instead.\n",
      "  _log_warning(\"'early_stopping_rounds' argument is deprecated and will be removed in a future release of LightGBM. \"\n",
      "C:\\Python39\\lib\\site-packages\\lightgbm\\engine.py:239: UserWarning: 'verbose_eval' argument is deprecated and will be removed in a future release of LightGBM. Pass 'log_evaluation()' callback via 'callbacks' argument instead.\n",
      "  _log_warning(\"'verbose_eval' argument is deprecated and will be removed in a future release of LightGBM. \"\n"
     ]
    },
    {
     "name": "stdout",
     "output_type": "stream",
     "text": [
      "Training until validation scores don't improve for 100 rounds\n",
      "[50]\tvalid_0's auc: 0.902413\n",
      "[100]\tvalid_0's auc: 0.903921\n",
      "[150]\tvalid_0's auc: 0.904312\n"
     ]
    },
    {
     "name": "stderr",
     "output_type": "stream",
     "text": [
      "num_leaves, val_score: 0.905694:  25%|############5                                     | 5/20 [00:04<00:14,  1.01it/s]"
     ]
    },
    {
     "name": "stdout",
     "output_type": "stream",
     "text": [
      "[200]\tvalid_0's auc: 0.904085\n",
      "Early stopping, best iteration is:\n",
      "[127]\tvalid_0's auc: 0.90452\n"
     ]
    },
    {
     "name": "stderr",
     "output_type": "stream",
     "text": [
      "C:\\Python39\\lib\\site-packages\\lightgbm\\engine.py:181: UserWarning: 'early_stopping_rounds' argument is deprecated and will be removed in a future release of LightGBM. Pass 'early_stopping()' callback via 'callbacks' argument instead.\n",
      "  _log_warning(\"'early_stopping_rounds' argument is deprecated and will be removed in a future release of LightGBM. \"\n",
      "C:\\Python39\\lib\\site-packages\\lightgbm\\engine.py:239: UserWarning: 'verbose_eval' argument is deprecated and will be removed in a future release of LightGBM. Pass 'log_evaluation()' callback via 'callbacks' argument instead.\n",
      "  _log_warning(\"'verbose_eval' argument is deprecated and will be removed in a future release of LightGBM. \"\n"
     ]
    },
    {
     "name": "stdout",
     "output_type": "stream",
     "text": [
      "Training until validation scores don't improve for 100 rounds\n",
      "[50]\tvalid_0's auc: 0.902539\n",
      "[100]\tvalid_0's auc: 0.90399\n",
      "[150]\tvalid_0's auc: 0.904134\n"
     ]
    },
    {
     "name": "stderr",
     "output_type": "stream",
     "text": [
      "num_leaves, val_score: 0.905694:  30%|###############                                   | 6/20 [00:06<00:14,  1.01s/it]"
     ]
    },
    {
     "name": "stdout",
     "output_type": "stream",
     "text": [
      "[200]\tvalid_0's auc: 0.903736\n",
      "Early stopping, best iteration is:\n",
      "[127]\tvalid_0's auc: 0.9044\n"
     ]
    },
    {
     "name": "stderr",
     "output_type": "stream",
     "text": [
      "C:\\Python39\\lib\\site-packages\\lightgbm\\engine.py:181: UserWarning: 'early_stopping_rounds' argument is deprecated and will be removed in a future release of LightGBM. Pass 'early_stopping()' callback via 'callbacks' argument instead.\n",
      "  _log_warning(\"'early_stopping_rounds' argument is deprecated and will be removed in a future release of LightGBM. \"\n",
      "C:\\Python39\\lib\\site-packages\\lightgbm\\engine.py:239: UserWarning: 'verbose_eval' argument is deprecated and will be removed in a future release of LightGBM. Pass 'log_evaluation()' callback via 'callbacks' argument instead.\n",
      "  _log_warning(\"'verbose_eval' argument is deprecated and will be removed in a future release of LightGBM. \"\n"
     ]
    },
    {
     "name": "stdout",
     "output_type": "stream",
     "text": [
      "Training until validation scores don't improve for 100 rounds\n",
      "[50]\tvalid_0's auc: 0.902408\n",
      "[100]\tvalid_0's auc: 0.90379\n",
      "[150]\tvalid_0's auc: 0.90377\n",
      "[200]\tvalid_0's auc: 0.9033\n",
      "Early stopping, best iteration is:\n",
      "[127]\tvalid_0's auc: 0.90411\n"
     ]
    },
    {
     "name": "stderr",
     "output_type": "stream",
     "text": [
      "num_leaves, val_score: 0.905694:  35%|#################5                                | 7/20 [00:07<00:13,  1.07s/it]C:\\Python39\\lib\\site-packages\\lightgbm\\engine.py:181: UserWarning: 'early_stopping_rounds' argument is deprecated and will be removed in a future release of LightGBM. Pass 'early_stopping()' callback via 'callbacks' argument instead.\n",
      "  _log_warning(\"'early_stopping_rounds' argument is deprecated and will be removed in a future release of LightGBM. \"\n",
      "C:\\Python39\\lib\\site-packages\\lightgbm\\engine.py:239: UserWarning: 'verbose_eval' argument is deprecated and will be removed in a future release of LightGBM. Pass 'log_evaluation()' callback via 'callbacks' argument instead.\n",
      "  _log_warning(\"'verbose_eval' argument is deprecated and will be removed in a future release of LightGBM. \"\n"
     ]
    },
    {
     "name": "stdout",
     "output_type": "stream",
     "text": [
      "Training until validation scores don't improve for 100 rounds\n",
      "[50]\tvalid_0's auc: 0.902357\n",
      "[100]\tvalid_0's auc: 0.903802\n",
      "[150]\tvalid_0's auc: 0.904158\n"
     ]
    },
    {
     "name": "stderr",
     "output_type": "stream",
     "text": [
      "num_leaves, val_score: 0.905694:  40%|####################                              | 8/20 [00:08<00:12,  1.01s/it]"
     ]
    },
    {
     "name": "stdout",
     "output_type": "stream",
     "text": [
      "[200]\tvalid_0's auc: 0.903978\n",
      "Early stopping, best iteration is:\n",
      "[127]\tvalid_0's auc: 0.90438\n"
     ]
    },
    {
     "name": "stderr",
     "output_type": "stream",
     "text": [
      "C:\\Python39\\lib\\site-packages\\lightgbm\\engine.py:181: UserWarning: 'early_stopping_rounds' argument is deprecated and will be removed in a future release of LightGBM. Pass 'early_stopping()' callback via 'callbacks' argument instead.\n",
      "  _log_warning(\"'early_stopping_rounds' argument is deprecated and will be removed in a future release of LightGBM. \"\n",
      "C:\\Python39\\lib\\site-packages\\lightgbm\\engine.py:239: UserWarning: 'verbose_eval' argument is deprecated and will be removed in a future release of LightGBM. Pass 'log_evaluation()' callback via 'callbacks' argument instead.\n",
      "  _log_warning(\"'verbose_eval' argument is deprecated and will be removed in a future release of LightGBM. \"\n"
     ]
    },
    {
     "name": "stdout",
     "output_type": "stream",
     "text": [
      "Training until validation scores don't improve for 100 rounds\n",
      "[50]\tvalid_0's auc: 0.901995\n",
      "[100]\tvalid_0's auc: 0.903941\n",
      "[150]\tvalid_0's auc: 0.904747\n",
      "[200]\tvalid_0's auc: 0.905\n",
      "[250]\tvalid_0's auc: 0.904898\n"
     ]
    },
    {
     "name": "stderr",
     "output_type": "stream",
     "text": [
      "num_leaves, val_score: 0.905694:  45%|######################5                           | 9/20 [00:09<00:10,  1.01it/s]"
     ]
    },
    {
     "name": "stdout",
     "output_type": "stream",
     "text": [
      "[300]\tvalid_0's auc: 0.904843\n",
      "Early stopping, best iteration is:\n",
      "[233]\tvalid_0's auc: 0.905107\n"
     ]
    },
    {
     "name": "stderr",
     "output_type": "stream",
     "text": [
      "C:\\Python39\\lib\\site-packages\\lightgbm\\engine.py:181: UserWarning: 'early_stopping_rounds' argument is deprecated and will be removed in a future release of LightGBM. Pass 'early_stopping()' callback via 'callbacks' argument instead.\n",
      "  _log_warning(\"'early_stopping_rounds' argument is deprecated and will be removed in a future release of LightGBM. \"\n",
      "C:\\Python39\\lib\\site-packages\\lightgbm\\engine.py:239: UserWarning: 'verbose_eval' argument is deprecated and will be removed in a future release of LightGBM. Pass 'log_evaluation()' callback via 'callbacks' argument instead.\n",
      "  _log_warning(\"'verbose_eval' argument is deprecated and will be removed in a future release of LightGBM. \"\n"
     ]
    },
    {
     "name": "stdout",
     "output_type": "stream",
     "text": [
      "Training until validation scores don't improve for 100 rounds\n",
      "[50]\tvalid_0's auc: 0.900592\n",
      "[100]\tvalid_0's auc: 0.902814\n",
      "[150]\tvalid_0's auc: 0.90423\n",
      "[200]\tvalid_0's auc: 0.90496\n",
      "[250]\tvalid_0's auc: 0.905099\n",
      "[300]\tvalid_0's auc: 0.905255\n",
      "[350]\tvalid_0's auc: 0.905186\n"
     ]
    },
    {
     "name": "stderr",
     "output_type": "stream",
     "text": [
      "num_leaves, val_score: 0.905694:  50%|########################5                        | 10/20 [00:09<00:09,  1.03it/s]"
     ]
    },
    {
     "name": "stdout",
     "output_type": "stream",
     "text": [
      "[400]\tvalid_0's auc: 0.904907\n",
      "Early stopping, best iteration is:\n",
      "[313]\tvalid_0's auc: 0.905287\n",
      "Training until validation scores don't improve for 100 rounds\n",
      "[50]\tvalid_0's auc: 0.844005\n"
     ]
    },
    {
     "name": "stderr",
     "output_type": "stream",
     "text": [
      "C:\\Python39\\lib\\site-packages\\lightgbm\\engine.py:181: UserWarning: 'early_stopping_rounds' argument is deprecated and will be removed in a future release of LightGBM. Pass 'early_stopping()' callback via 'callbacks' argument instead.\n",
      "  _log_warning(\"'early_stopping_rounds' argument is deprecated and will be removed in a future release of LightGBM. \"\n",
      "C:\\Python39\\lib\\site-packages\\lightgbm\\engine.py:239: UserWarning: 'verbose_eval' argument is deprecated and will be removed in a future release of LightGBM. Pass 'log_evaluation()' callback via 'callbacks' argument instead.\n",
      "  _log_warning(\"'verbose_eval' argument is deprecated and will be removed in a future release of LightGBM. \"\n"
     ]
    },
    {
     "name": "stdout",
     "output_type": "stream",
     "text": [
      "[100]\tvalid_0's auc: 0.862228\n",
      "[150]\tvalid_0's auc: 0.865763\n",
      "[200]\tvalid_0's auc: 0.871108\n",
      "[250]\tvalid_0's auc: 0.873943\n",
      "[300]\tvalid_0's auc: 0.87812\n",
      "[350]\tvalid_0's auc: 0.880207\n",
      "[400]\tvalid_0's auc: 0.88182\n",
      "[450]\tvalid_0's auc: 0.883712\n",
      "[500]\tvalid_0's auc: 0.885871\n",
      "[550]\tvalid_0's auc: 0.887656\n",
      "[600]\tvalid_0's auc: 0.889086\n",
      "[650]\tvalid_0's auc: 0.890237\n",
      "[700]\tvalid_0's auc: 0.891012\n",
      "[750]\tvalid_0's auc: 0.892232\n",
      "[800]\tvalid_0's auc: 0.89283\n",
      "[850]\tvalid_0's auc: 0.893283\n",
      "[900]\tvalid_0's auc: 0.893794\n",
      "[950]\tvalid_0's auc: 0.894276\n",
      "[1000]\tvalid_0's auc: 0.894667\n",
      "[1050]\tvalid_0's auc: 0.894964\n",
      "[1100]\tvalid_0's auc: 0.895302\n",
      "[1150]\tvalid_0's auc: 0.895603\n",
      "[1200]\tvalid_0's auc: 0.895875\n",
      "[1250]\tvalid_0's auc: 0.896237\n",
      "[1300]\tvalid_0's auc: 0.896551\n",
      "[1350]\tvalid_0's auc: 0.896869\n",
      "[1400]\tvalid_0's auc: 0.897123\n",
      "[1450]\tvalid_0's auc: 0.897356\n",
      "[1500]\tvalid_0's auc: 0.897568\n",
      "[1550]\tvalid_0's auc: 0.897735\n",
      "[1600]\tvalid_0's auc: 0.897957\n",
      "[1650]\tvalid_0's auc: 0.898181\n",
      "[1700]\tvalid_0's auc: 0.898368\n",
      "[1750]\tvalid_0's auc: 0.89853\n",
      "[1800]\tvalid_0's auc: 0.898676\n",
      "[1850]\tvalid_0's auc: 0.898846\n",
      "[1900]\tvalid_0's auc: 0.898866\n",
      "[1950]\tvalid_0's auc: 0.899011\n",
      "[2000]\tvalid_0's auc: 0.899079\n",
      "[2050]\tvalid_0's auc: 0.899201\n",
      "[2100]\tvalid_0's auc: 0.899288\n",
      "[2150]\tvalid_0's auc: 0.899409\n",
      "[2200]\tvalid_0's auc: 0.899503\n",
      "[2250]\tvalid_0's auc: 0.8996\n",
      "[2300]\tvalid_0's auc: 0.89964\n",
      "[2350]\tvalid_0's auc: 0.899674\n",
      "[2400]\tvalid_0's auc: 0.89971\n",
      "[2450]\tvalid_0's auc: 0.899762\n",
      "[2500]\tvalid_0's auc: 0.899854\n",
      "[2550]\tvalid_0's auc: 0.899925\n",
      "[2600]\tvalid_0's auc: 0.899993\n",
      "[2650]\tvalid_0's auc: 0.900037\n",
      "[2700]\tvalid_0's auc: 0.900084\n",
      "[2750]\tvalid_0's auc: 0.900123\n",
      "[2800]\tvalid_0's auc: 0.900144\n",
      "[2850]\tvalid_0's auc: 0.900209\n",
      "[2900]\tvalid_0's auc: 0.900279\n",
      "[2950]\tvalid_0's auc: 0.900302\n",
      "[3000]\tvalid_0's auc: 0.900359\n",
      "[3050]\tvalid_0's auc: 0.900417\n",
      "[3100]\tvalid_0's auc: 0.900448\n",
      "[3150]\tvalid_0's auc: 0.900499\n",
      "[3200]\tvalid_0's auc: 0.900536\n",
      "[3250]\tvalid_0's auc: 0.900571\n",
      "[3300]\tvalid_0's auc: 0.900631\n",
      "[3350]\tvalid_0's auc: 0.90066\n",
      "[3400]\tvalid_0's auc: 0.90075\n",
      "[3450]\tvalid_0's auc: 0.900765\n",
      "[3500]\tvalid_0's auc: 0.900806\n",
      "[3550]\tvalid_0's auc: 0.90081\n",
      "[3600]\tvalid_0's auc: 0.90086\n",
      "[3650]\tvalid_0's auc: 0.900879\n",
      "[3700]\tvalid_0's auc: 0.900932\n",
      "[3750]\tvalid_0's auc: 0.900963\n",
      "[3800]\tvalid_0's auc: 0.900997\n",
      "[3850]\tvalid_0's auc: 0.90101\n",
      "[3900]\tvalid_0's auc: 0.901066\n",
      "[3950]\tvalid_0's auc: 0.901098\n",
      "[4000]\tvalid_0's auc: 0.901131\n",
      "[4050]\tvalid_0's auc: 0.90119\n",
      "[4100]\tvalid_0's auc: 0.901215\n",
      "[4150]\tvalid_0's auc: 0.901269\n",
      "[4200]\tvalid_0's auc: 0.901309\n",
      "[4250]\tvalid_0's auc: 0.901331\n",
      "[4300]\tvalid_0's auc: 0.901371\n",
      "[4350]\tvalid_0's auc: 0.901407\n",
      "[4400]\tvalid_0's auc: 0.901424\n",
      "[4450]\tvalid_0's auc: 0.901453\n",
      "[4500]\tvalid_0's auc: 0.901513\n",
      "[4550]\tvalid_0's auc: 0.901544\n",
      "[4600]\tvalid_0's auc: 0.901583\n",
      "[4650]\tvalid_0's auc: 0.901629\n",
      "[4700]\tvalid_0's auc: 0.901659\n",
      "[4750]\tvalid_0's auc: 0.901694\n",
      "[4800]\tvalid_0's auc: 0.901706\n",
      "[4850]\tvalid_0's auc: 0.901732\n",
      "[4900]\tvalid_0's auc: 0.901735\n",
      "[4950]\tvalid_0's auc: 0.901757\n",
      "[5000]\tvalid_0's auc: 0.901794\n",
      "[5050]\tvalid_0's auc: 0.901807\n",
      "[5100]\tvalid_0's auc: 0.90183\n",
      "[5150]\tvalid_0's auc: 0.901867\n",
      "[5200]\tvalid_0's auc: 0.901891\n",
      "[5250]\tvalid_0's auc: 0.901905\n",
      "[5300]\tvalid_0's auc: 0.901917\n",
      "[5350]\tvalid_0's auc: 0.901946\n",
      "[5400]\tvalid_0's auc: 0.901968\n",
      "[5450]\tvalid_0's auc: 0.901971\n",
      "[5500]\tvalid_0's auc: 0.902003\n",
      "[5550]\tvalid_0's auc: 0.902023\n",
      "[5600]\tvalid_0's auc: 0.902066\n",
      "[5650]\tvalid_0's auc: 0.902073\n",
      "[5700]\tvalid_0's auc: 0.9021\n",
      "[5750]\tvalid_0's auc: 0.902105\n",
      "[5800]\tvalid_0's auc: 0.902121\n",
      "[5850]\tvalid_0's auc: 0.902142\n",
      "[5900]\tvalid_0's auc: 0.902146\n",
      "[5950]\tvalid_0's auc: 0.902199\n",
      "[6000]\tvalid_0's auc: 0.902207\n",
      "[6050]\tvalid_0's auc: 0.902233\n",
      "[6100]\tvalid_0's auc: 0.902235\n",
      "[6150]\tvalid_0's auc: 0.902263\n",
      "[6200]\tvalid_0's auc: 0.902276\n",
      "[6250]\tvalid_0's auc: 0.902299\n",
      "[6300]\tvalid_0's auc: 0.902323\n",
      "[6350]\tvalid_0's auc: 0.902332\n",
      "[6400]\tvalid_0's auc: 0.902354\n",
      "[6450]\tvalid_0's auc: 0.90237\n",
      "[6500]\tvalid_0's auc: 0.902394\n",
      "[6550]\tvalid_0's auc: 0.902407\n",
      "[6600]\tvalid_0's auc: 0.902414\n",
      "[6650]\tvalid_0's auc: 0.902447\n",
      "[6700]\tvalid_0's auc: 0.902451\n",
      "[6750]\tvalid_0's auc: 0.902473\n",
      "[6800]\tvalid_0's auc: 0.902491\n",
      "[6850]\tvalid_0's auc: 0.902498\n",
      "[6900]\tvalid_0's auc: 0.902517\n",
      "[6950]\tvalid_0's auc: 0.902529\n",
      "[7000]\tvalid_0's auc: 0.902558\n",
      "[7050]\tvalid_0's auc: 0.902577\n",
      "[7100]\tvalid_0's auc: 0.902582\n",
      "[7150]\tvalid_0's auc: 0.902605\n",
      "[7200]\tvalid_0's auc: 0.9026\n",
      "[7250]\tvalid_0's auc: 0.902616\n",
      "[7300]\tvalid_0's auc: 0.902635\n",
      "[7350]\tvalid_0's auc: 0.902633\n",
      "[7400]\tvalid_0's auc: 0.902663\n",
      "[7450]\tvalid_0's auc: 0.902667\n",
      "[7500]\tvalid_0's auc: 0.902678\n",
      "[7550]\tvalid_0's auc: 0.902676\n",
      "[7600]\tvalid_0's auc: 0.902717\n",
      "[7650]\tvalid_0's auc: 0.902729\n",
      "[7700]\tvalid_0's auc: 0.902735\n",
      "[7750]\tvalid_0's auc: 0.902747\n",
      "[7800]\tvalid_0's auc: 0.902758\n",
      "[7850]\tvalid_0's auc: 0.902767\n",
      "[7900]\tvalid_0's auc: 0.902774\n",
      "[7950]\tvalid_0's auc: 0.902793\n",
      "[8000]\tvalid_0's auc: 0.902809\n",
      "[8050]\tvalid_0's auc: 0.902819\n",
      "[8100]\tvalid_0's auc: 0.902822\n",
      "[8150]\tvalid_0's auc: 0.902841\n",
      "[8200]\tvalid_0's auc: 0.902858\n",
      "[8250]\tvalid_0's auc: 0.902864\n",
      "[8300]\tvalid_0's auc: 0.90289\n",
      "[8350]\tvalid_0's auc: 0.902904\n",
      "[8400]\tvalid_0's auc: 0.902921\n",
      "[8450]\tvalid_0's auc: 0.902913\n",
      "Early stopping, best iteration is:\n",
      "[8378]\tvalid_0's auc: 0.902927\n"
     ]
    },
    {
     "name": "stderr",
     "output_type": "stream",
     "text": [
      "num_leaves, val_score: 0.905694:  55%|##########################9                      | 11/20 [00:16<00:22,  2.54s/it]C:\\Python39\\lib\\site-packages\\lightgbm\\engine.py:181: UserWarning: 'early_stopping_rounds' argument is deprecated and will be removed in a future release of LightGBM. Pass 'early_stopping()' callback via 'callbacks' argument instead.\n",
      "  _log_warning(\"'early_stopping_rounds' argument is deprecated and will be removed in a future release of LightGBM. \"\n",
      "C:\\Python39\\lib\\site-packages\\lightgbm\\engine.py:239: UserWarning: 'verbose_eval' argument is deprecated and will be removed in a future release of LightGBM. Pass 'log_evaluation()' callback via 'callbacks' argument instead.\n",
      "  _log_warning(\"'verbose_eval' argument is deprecated and will be removed in a future release of LightGBM. \"\n"
     ]
    },
    {
     "name": "stdout",
     "output_type": "stream",
     "text": [
      "Training until validation scores don't improve for 100 rounds\n",
      "[50]\tvalid_0's auc: 0.901728\n",
      "[100]\tvalid_0's auc: 0.903802\n",
      "[150]\tvalid_0's auc: 0.904826\n",
      "[200]\tvalid_0's auc: 0.905182\n",
      "[250]\tvalid_0's auc: 0.905228\n"
     ]
    },
    {
     "name": "stderr",
     "output_type": "stream",
     "text": [
      "num_leaves, val_score: 0.905694:  60%|#############################4                   | 12/20 [00:16<00:16,  2.03s/it]"
     ]
    },
    {
     "name": "stdout",
     "output_type": "stream",
     "text": [
      "[300]\tvalid_0's auc: 0.90519\n",
      "Early stopping, best iteration is:\n",
      "[234]\tvalid_0's auc: 0.905331\n"
     ]
    },
    {
     "name": "stderr",
     "output_type": "stream",
     "text": [
      "C:\\Python39\\lib\\site-packages\\lightgbm\\engine.py:181: UserWarning: 'early_stopping_rounds' argument is deprecated and will be removed in a future release of LightGBM. Pass 'early_stopping()' callback via 'callbacks' argument instead.\n",
      "  _log_warning(\"'early_stopping_rounds' argument is deprecated and will be removed in a future release of LightGBM. \"\n",
      "C:\\Python39\\lib\\site-packages\\lightgbm\\engine.py:239: UserWarning: 'verbose_eval' argument is deprecated and will be removed in a future release of LightGBM. Pass 'log_evaluation()' callback via 'callbacks' argument instead.\n",
      "  _log_warning(\"'verbose_eval' argument is deprecated and will be removed in a future release of LightGBM. \"\n"
     ]
    },
    {
     "name": "stdout",
     "output_type": "stream",
     "text": [
      "Training until validation scores don't improve for 100 rounds\n",
      "[50]\tvalid_0's auc: 0.890335\n",
      "[100]\tvalid_0's auc: 0.895807\n",
      "[150]\tvalid_0's auc: 0.898616\n",
      "[200]\tvalid_0's auc: 0.900888\n",
      "[250]\tvalid_0's auc: 0.902142\n",
      "[300]\tvalid_0's auc: 0.90324\n",
      "[350]\tvalid_0's auc: 0.903975\n",
      "[400]\tvalid_0's auc: 0.90433\n",
      "[450]\tvalid_0's auc: 0.904867\n",
      "[500]\tvalid_0's auc: 0.905116\n",
      "[550]\tvalid_0's auc: 0.905416\n",
      "[600]\tvalid_0's auc: 0.905687\n",
      "[650]\tvalid_0's auc: 0.905901\n",
      "[700]\tvalid_0's auc: 0.905943\n",
      "[750]\tvalid_0's auc: 0.905973\n",
      "[800]\tvalid_0's auc: 0.906079\n",
      "[850]\tvalid_0's auc: 0.906199\n",
      "[900]\tvalid_0's auc: 0.90636\n",
      "[950]\tvalid_0's auc: 0.906428\n",
      "[1000]\tvalid_0's auc: 0.906466\n",
      "[1050]\tvalid_0's auc: 0.90649\n",
      "[1100]\tvalid_0's auc: 0.906526\n",
      "[1150]\tvalid_0's auc: 0.906624\n",
      "[1200]\tvalid_0's auc: 0.906581\n",
      "[1250]\tvalid_0's auc: 0.906559\n",
      "Early stopping, best iteration is:\n",
      "[1151]\tvalid_0's auc: 0.906633\n"
     ]
    },
    {
     "name": "stderr",
     "output_type": "stream",
     "text": [
      "num_leaves, val_score: 0.906633:  65%|###############################8                 | 13/20 [00:18<00:12,  1.85s/it]C:\\Python39\\lib\\site-packages\\lightgbm\\engine.py:181: UserWarning: 'early_stopping_rounds' argument is deprecated and will be removed in a future release of LightGBM. Pass 'early_stopping()' callback via 'callbacks' argument instead.\n",
      "  _log_warning(\"'early_stopping_rounds' argument is deprecated and will be removed in a future release of LightGBM. \"\n",
      "C:\\Python39\\lib\\site-packages\\lightgbm\\engine.py:239: UserWarning: 'verbose_eval' argument is deprecated and will be removed in a future release of LightGBM. Pass 'log_evaluation()' callback via 'callbacks' argument instead.\n",
      "  _log_warning(\"'verbose_eval' argument is deprecated and will be removed in a future release of LightGBM. \"\n"
     ]
    },
    {
     "name": "stdout",
     "output_type": "stream",
     "text": [
      "Training until validation scores don't improve for 100 rounds\n",
      "[50]\tvalid_0's auc: 0.892221\n",
      "[100]\tvalid_0's auc: 0.897169\n",
      "[150]\tvalid_0's auc: 0.899955\n",
      "[200]\tvalid_0's auc: 0.901842\n",
      "[250]\tvalid_0's auc: 0.902992\n",
      "[300]\tvalid_0's auc: 0.904026\n",
      "[350]\tvalid_0's auc: 0.904599\n",
      "[400]\tvalid_0's auc: 0.904835\n",
      "[450]\tvalid_0's auc: 0.905262\n",
      "[500]\tvalid_0's auc: 0.905478\n",
      "[550]\tvalid_0's auc: 0.905746\n",
      "[600]\tvalid_0's auc: 0.905871\n",
      "[650]\tvalid_0's auc: 0.905895\n",
      "[700]\tvalid_0's auc: 0.905914\n",
      "[750]\tvalid_0's auc: 0.906022\n"
     ]
    },
    {
     "name": "stderr",
     "output_type": "stream",
     "text": [
      "num_leaves, val_score: 0.906633:  70%|##################################3              | 14/20 [00:19<00:09,  1.62s/it]"
     ]
    },
    {
     "name": "stdout",
     "output_type": "stream",
     "text": [
      "[800]\tvalid_0's auc: 0.906074\n",
      "[850]\tvalid_0's auc: 0.905984\n",
      "[900]\tvalid_0's auc: 0.906005\n",
      "Early stopping, best iteration is:\n",
      "[814]\tvalid_0's auc: 0.906087\n"
     ]
    },
    {
     "name": "stderr",
     "output_type": "stream",
     "text": [
      "C:\\Python39\\lib\\site-packages\\lightgbm\\engine.py:181: UserWarning: 'early_stopping_rounds' argument is deprecated and will be removed in a future release of LightGBM. Pass 'early_stopping()' callback via 'callbacks' argument instead.\n",
      "  _log_warning(\"'early_stopping_rounds' argument is deprecated and will be removed in a future release of LightGBM. \"\n",
      "C:\\Python39\\lib\\site-packages\\lightgbm\\engine.py:239: UserWarning: 'verbose_eval' argument is deprecated and will be removed in a future release of LightGBM. Pass 'log_evaluation()' callback via 'callbacks' argument instead.\n",
      "  _log_warning(\"'verbose_eval' argument is deprecated and will be removed in a future release of LightGBM. \"\n"
     ]
    },
    {
     "name": "stdout",
     "output_type": "stream",
     "text": [
      "Training until validation scores don't improve for 100 rounds\n",
      "[50]\tvalid_0's auc: 0.844005\n",
      "[100]\tvalid_0's auc: 0.862228\n",
      "[150]\tvalid_0's auc: 0.865763\n",
      "[200]\tvalid_0's auc: 0.871108\n",
      "[250]\tvalid_0's auc: 0.873943\n",
      "[300]\tvalid_0's auc: 0.87812\n",
      "[350]\tvalid_0's auc: 0.880207\n",
      "[400]\tvalid_0's auc: 0.88182\n",
      "[450]\tvalid_0's auc: 0.883712\n",
      "[500]\tvalid_0's auc: 0.885871\n",
      "[550]\tvalid_0's auc: 0.887656\n",
      "[600]\tvalid_0's auc: 0.889086\n",
      "[650]\tvalid_0's auc: 0.890237\n",
      "[700]\tvalid_0's auc: 0.891012\n",
      "[750]\tvalid_0's auc: 0.892232\n",
      "[800]\tvalid_0's auc: 0.89283\n",
      "[850]\tvalid_0's auc: 0.893283\n",
      "[900]\tvalid_0's auc: 0.893794\n",
      "[950]\tvalid_0's auc: 0.894276\n",
      "[1000]\tvalid_0's auc: 0.894667\n",
      "[1050]\tvalid_0's auc: 0.894964\n",
      "[1100]\tvalid_0's auc: 0.895302\n",
      "[1150]\tvalid_0's auc: 0.895603\n",
      "[1200]\tvalid_0's auc: 0.895875\n",
      "[1250]\tvalid_0's auc: 0.896237\n",
      "[1300]\tvalid_0's auc: 0.896551\n",
      "[1350]\tvalid_0's auc: 0.896869\n",
      "[1400]\tvalid_0's auc: 0.897123\n",
      "[1450]\tvalid_0's auc: 0.897356\n",
      "[1500]\tvalid_0's auc: 0.897568\n",
      "[1550]\tvalid_0's auc: 0.897735\n",
      "[1600]\tvalid_0's auc: 0.897957\n",
      "[1650]\tvalid_0's auc: 0.898181\n",
      "[1700]\tvalid_0's auc: 0.898368\n",
      "[1750]\tvalid_0's auc: 0.89853\n",
      "[1800]\tvalid_0's auc: 0.898676\n",
      "[1850]\tvalid_0's auc: 0.898846\n",
      "[1900]\tvalid_0's auc: 0.898866\n",
      "[1950]\tvalid_0's auc: 0.899011\n",
      "[2000]\tvalid_0's auc: 0.899079\n",
      "[2050]\tvalid_0's auc: 0.899201\n",
      "[2100]\tvalid_0's auc: 0.899288\n",
      "[2150]\tvalid_0's auc: 0.899409\n",
      "[2200]\tvalid_0's auc: 0.899503\n",
      "[2250]\tvalid_0's auc: 0.8996\n",
      "[2300]\tvalid_0's auc: 0.89964\n",
      "[2350]\tvalid_0's auc: 0.899674\n",
      "[2400]\tvalid_0's auc: 0.89971\n",
      "[2450]\tvalid_0's auc: 0.899762\n",
      "[2500]\tvalid_0's auc: 0.899854\n",
      "[2550]\tvalid_0's auc: 0.899925\n",
      "[2600]\tvalid_0's auc: 0.899993\n",
      "[2650]\tvalid_0's auc: 0.900037\n",
      "[2700]\tvalid_0's auc: 0.900084\n",
      "[2750]\tvalid_0's auc: 0.900123\n",
      "[2800]\tvalid_0's auc: 0.900144\n",
      "[2850]\tvalid_0's auc: 0.900209\n",
      "[2900]\tvalid_0's auc: 0.900279\n",
      "[2950]\tvalid_0's auc: 0.900302\n",
      "[3000]\tvalid_0's auc: 0.900359\n",
      "[3050]\tvalid_0's auc: 0.900417\n",
      "[3100]\tvalid_0's auc: 0.900448\n",
      "[3150]\tvalid_0's auc: 0.900499\n",
      "[3200]\tvalid_0's auc: 0.900536\n",
      "[3250]\tvalid_0's auc: 0.900571\n",
      "[3300]\tvalid_0's auc: 0.900631\n",
      "[3350]\tvalid_0's auc: 0.90066\n",
      "[3400]\tvalid_0's auc: 0.90075\n",
      "[3450]\tvalid_0's auc: 0.900765\n",
      "[3500]\tvalid_0's auc: 0.900806\n",
      "[3550]\tvalid_0's auc: 0.90081\n",
      "[3600]\tvalid_0's auc: 0.90086\n",
      "[3650]\tvalid_0's auc: 0.900879\n",
      "[3700]\tvalid_0's auc: 0.900932\n",
      "[3750]\tvalid_0's auc: 0.900963\n",
      "[3800]\tvalid_0's auc: 0.900997\n",
      "[3850]\tvalid_0's auc: 0.90101\n",
      "[3900]\tvalid_0's auc: 0.901066\n",
      "[3950]\tvalid_0's auc: 0.901098\n",
      "[4000]\tvalid_0's auc: 0.901131\n",
      "[4050]\tvalid_0's auc: 0.90119\n",
      "[4100]\tvalid_0's auc: 0.901215\n",
      "[4150]\tvalid_0's auc: 0.901269\n",
      "[4200]\tvalid_0's auc: 0.901309\n",
      "[4250]\tvalid_0's auc: 0.901331\n",
      "[4300]\tvalid_0's auc: 0.901371\n",
      "[4350]\tvalid_0's auc: 0.901407\n",
      "[4400]\tvalid_0's auc: 0.901424\n",
      "[4450]\tvalid_0's auc: 0.901453\n",
      "[4500]\tvalid_0's auc: 0.901513\n",
      "[4550]\tvalid_0's auc: 0.901544\n",
      "[4600]\tvalid_0's auc: 0.901583\n",
      "[4650]\tvalid_0's auc: 0.901629\n",
      "[4700]\tvalid_0's auc: 0.901659\n",
      "[4750]\tvalid_0's auc: 0.901694\n",
      "[4800]\tvalid_0's auc: 0.901706\n",
      "[4850]\tvalid_0's auc: 0.901732\n",
      "[4900]\tvalid_0's auc: 0.901735\n",
      "[4950]\tvalid_0's auc: 0.901757\n",
      "[5000]\tvalid_0's auc: 0.901794\n",
      "[5050]\tvalid_0's auc: 0.901807\n",
      "[5100]\tvalid_0's auc: 0.90183\n",
      "[5150]\tvalid_0's auc: 0.901867\n",
      "[5200]\tvalid_0's auc: 0.901891\n",
      "[5250]\tvalid_0's auc: 0.901905\n",
      "[5300]\tvalid_0's auc: 0.901917\n",
      "[5350]\tvalid_0's auc: 0.901946\n",
      "[5400]\tvalid_0's auc: 0.901968\n",
      "[5450]\tvalid_0's auc: 0.901971\n",
      "[5500]\tvalid_0's auc: 0.902003\n",
      "[5550]\tvalid_0's auc: 0.902023\n",
      "[5600]\tvalid_0's auc: 0.902066\n",
      "[5650]\tvalid_0's auc: 0.902073\n",
      "[5700]\tvalid_0's auc: 0.9021\n",
      "[5750]\tvalid_0's auc: 0.902105\n",
      "[5800]\tvalid_0's auc: 0.902121\n",
      "[5850]\tvalid_0's auc: 0.902142\n",
      "[5900]\tvalid_0's auc: 0.902146\n",
      "[5950]\tvalid_0's auc: 0.902199\n",
      "[6000]\tvalid_0's auc: 0.902207\n",
      "[6050]\tvalid_0's auc: 0.902233\n",
      "[6100]\tvalid_0's auc: 0.902235\n",
      "[6150]\tvalid_0's auc: 0.902263\n",
      "[6200]\tvalid_0's auc: 0.902276\n",
      "[6250]\tvalid_0's auc: 0.902299\n",
      "[6300]\tvalid_0's auc: 0.902323\n",
      "[6350]\tvalid_0's auc: 0.902332\n",
      "[6400]\tvalid_0's auc: 0.902354\n",
      "[6450]\tvalid_0's auc: 0.90237\n",
      "[6500]\tvalid_0's auc: 0.902394\n",
      "[6550]\tvalid_0's auc: 0.902407\n",
      "[6600]\tvalid_0's auc: 0.902414\n",
      "[6650]\tvalid_0's auc: 0.902447\n",
      "[6700]\tvalid_0's auc: 0.902451\n",
      "[6750]\tvalid_0's auc: 0.902473\n",
      "[6800]\tvalid_0's auc: 0.902491\n",
      "[6850]\tvalid_0's auc: 0.902498\n",
      "[6900]\tvalid_0's auc: 0.902517\n",
      "[6950]\tvalid_0's auc: 0.902529\n",
      "[7000]\tvalid_0's auc: 0.902558\n",
      "[7050]\tvalid_0's auc: 0.902577\n",
      "[7100]\tvalid_0's auc: 0.902582\n",
      "[7150]\tvalid_0's auc: 0.902605\n",
      "[7200]\tvalid_0's auc: 0.9026\n",
      "[7250]\tvalid_0's auc: 0.902616\n",
      "[7300]\tvalid_0's auc: 0.902635\n",
      "[7350]\tvalid_0's auc: 0.902633\n",
      "[7400]\tvalid_0's auc: 0.902663\n",
      "[7450]\tvalid_0's auc: 0.902667\n",
      "[7500]\tvalid_0's auc: 0.902678\n",
      "[7550]\tvalid_0's auc: 0.902676\n",
      "[7600]\tvalid_0's auc: 0.902717\n",
      "[7650]\tvalid_0's auc: 0.902729\n",
      "[7700]\tvalid_0's auc: 0.902735\n",
      "[7750]\tvalid_0's auc: 0.902747\n",
      "[7800]\tvalid_0's auc: 0.902758\n",
      "[7850]\tvalid_0's auc: 0.902767\n",
      "[7900]\tvalid_0's auc: 0.902774\n",
      "[7950]\tvalid_0's auc: 0.902793\n",
      "[8000]\tvalid_0's auc: 0.902809\n",
      "[8050]\tvalid_0's auc: 0.902819\n",
      "[8100]\tvalid_0's auc: 0.902822\n",
      "[8150]\tvalid_0's auc: 0.902841\n",
      "[8200]\tvalid_0's auc: 0.902858\n",
      "[8250]\tvalid_0's auc: 0.902864\n",
      "[8300]\tvalid_0's auc: 0.90289\n",
      "[8350]\tvalid_0's auc: 0.902904\n",
      "[8400]\tvalid_0's auc: 0.902921\n",
      "[8450]\tvalid_0's auc: 0.902913\n",
      "Early stopping, best iteration is:\n",
      "[8378]\tvalid_0's auc: 0.902927\n"
     ]
    },
    {
     "name": "stderr",
     "output_type": "stream",
     "text": [
      "num_leaves, val_score: 0.906633:  75%|####################################7            | 15/20 [00:25<00:14,  2.98s/it]C:\\Python39\\lib\\site-packages\\lightgbm\\engine.py:181: UserWarning: 'early_stopping_rounds' argument is deprecated and will be removed in a future release of LightGBM. Pass 'early_stopping()' callback via 'callbacks' argument instead.\n",
      "  _log_warning(\"'early_stopping_rounds' argument is deprecated and will be removed in a future release of LightGBM. \"\n",
      "C:\\Python39\\lib\\site-packages\\lightgbm\\engine.py:239: UserWarning: 'verbose_eval' argument is deprecated and will be removed in a future release of LightGBM. Pass 'log_evaluation()' callback via 'callbacks' argument instead.\n",
      "  _log_warning(\"'verbose_eval' argument is deprecated and will be removed in a future release of LightGBM. \"\n"
     ]
    },
    {
     "name": "stdout",
     "output_type": "stream",
     "text": [
      "Training until validation scores don't improve for 100 rounds\n",
      "[50]\tvalid_0's auc: 0.897602\n",
      "[100]\tvalid_0's auc: 0.90076\n",
      "[150]\tvalid_0's auc: 0.902991\n",
      "[200]\tvalid_0's auc: 0.904449\n",
      "[250]\tvalid_0's auc: 0.905045\n",
      "[300]\tvalid_0's auc: 0.905581\n",
      "[350]\tvalid_0's auc: 0.9057\n",
      "[400]\tvalid_0's auc: 0.905659\n",
      "[450]\tvalid_0's auc: 0.905827\n",
      "[500]\tvalid_0's auc: 0.905845\n",
      "[550]\tvalid_0's auc: 0.905981\n",
      "[600]\tvalid_0's auc: 0.905861\n"
     ]
    },
    {
     "name": "stderr",
     "output_type": "stream",
     "text": [
      "num_leaves, val_score: 0.906633:  80%|#######################################2         | 16/20 [00:26<00:09,  2.41s/it]"
     ]
    },
    {
     "name": "stdout",
     "output_type": "stream",
     "text": [
      "[650]\tvalid_0's auc: 0.905603\n",
      "Early stopping, best iteration is:\n",
      "[562]\tvalid_0's auc: 0.90601\n",
      "Training until validation scores don't improve for 100 rounds\n"
     ]
    },
    {
     "name": "stderr",
     "output_type": "stream",
     "text": [
      "C:\\Python39\\lib\\site-packages\\lightgbm\\engine.py:181: UserWarning: 'early_stopping_rounds' argument is deprecated and will be removed in a future release of LightGBM. Pass 'early_stopping()' callback via 'callbacks' argument instead.\n",
      "  _log_warning(\"'early_stopping_rounds' argument is deprecated and will be removed in a future release of LightGBM. \"\n",
      "C:\\Python39\\lib\\site-packages\\lightgbm\\engine.py:239: UserWarning: 'verbose_eval' argument is deprecated and will be removed in a future release of LightGBM. Pass 'log_evaluation()' callback via 'callbacks' argument instead.\n",
      "  _log_warning(\"'verbose_eval' argument is deprecated and will be removed in a future release of LightGBM. \"\n"
     ]
    },
    {
     "name": "stdout",
     "output_type": "stream",
     "text": [
      "[50]\tvalid_0's auc: 0.902475\n",
      "[100]\tvalid_0's auc: 0.903992\n",
      "[150]\tvalid_0's auc: 0.904635\n",
      "[200]\tvalid_0's auc: 0.904638\n",
      "[250]\tvalid_0's auc: 0.904486\n",
      "Early stopping, best iteration is:\n",
      "[166]\tvalid_0's auc: 0.904731\n"
     ]
    },
    {
     "name": "stderr",
     "output_type": "stream",
     "text": [
      "num_leaves, val_score: 0.906633:  85%|#########################################6       | 17/20 [00:27<00:06,  2.00s/it]C:\\Python39\\lib\\site-packages\\lightgbm\\engine.py:181: UserWarning: 'early_stopping_rounds' argument is deprecated and will be removed in a future release of LightGBM. Pass 'early_stopping()' callback via 'callbacks' argument instead.\n",
      "  _log_warning(\"'early_stopping_rounds' argument is deprecated and will be removed in a future release of LightGBM. \"\n",
      "C:\\Python39\\lib\\site-packages\\lightgbm\\engine.py:239: UserWarning: 'verbose_eval' argument is deprecated and will be removed in a future release of LightGBM. Pass 'log_evaluation()' callback via 'callbacks' argument instead.\n",
      "  _log_warning(\"'verbose_eval' argument is deprecated and will be removed in a future release of LightGBM. \"\n"
     ]
    },
    {
     "name": "stdout",
     "output_type": "stream",
     "text": [
      "Training until validation scores don't improve for 100 rounds\n",
      "[50]\tvalid_0's auc: 0.897602\n",
      "[100]\tvalid_0's auc: 0.90076\n",
      "[150]\tvalid_0's auc: 0.902991\n",
      "[200]\tvalid_0's auc: 0.904449\n",
      "[250]\tvalid_0's auc: 0.905045\n",
      "[300]\tvalid_0's auc: 0.905581\n",
      "[350]\tvalid_0's auc: 0.9057\n",
      "[400]\tvalid_0's auc: 0.905659\n",
      "[450]\tvalid_0's auc: 0.905827\n",
      "[500]\tvalid_0's auc: 0.905845\n",
      "[550]\tvalid_0's auc: 0.905981\n"
     ]
    },
    {
     "name": "stderr",
     "output_type": "stream",
     "text": [
      "num_leaves, val_score: 0.906633:  90%|############################################1    | 18/20 [00:28<00:03,  1.71s/it]"
     ]
    },
    {
     "name": "stdout",
     "output_type": "stream",
     "text": [
      "[600]\tvalid_0's auc: 0.905861\n",
      "[650]\tvalid_0's auc: 0.905603\n",
      "Early stopping, best iteration is:\n",
      "[562]\tvalid_0's auc: 0.90601\n"
     ]
    },
    {
     "name": "stderr",
     "output_type": "stream",
     "text": [
      "C:\\Python39\\lib\\site-packages\\lightgbm\\engine.py:181: UserWarning: 'early_stopping_rounds' argument is deprecated and will be removed in a future release of LightGBM. Pass 'early_stopping()' callback via 'callbacks' argument instead.\n",
      "  _log_warning(\"'early_stopping_rounds' argument is deprecated and will be removed in a future release of LightGBM. \"\n",
      "C:\\Python39\\lib\\site-packages\\lightgbm\\engine.py:239: UserWarning: 'verbose_eval' argument is deprecated and will be removed in a future release of LightGBM. Pass 'log_evaluation()' callback via 'callbacks' argument instead.\n",
      "  _log_warning(\"'verbose_eval' argument is deprecated and will be removed in a future release of LightGBM. \"\n"
     ]
    },
    {
     "name": "stdout",
     "output_type": "stream",
     "text": [
      "Training until validation scores don't improve for 100 rounds\n",
      "[50]\tvalid_0's auc: 0.902266\n",
      "[100]\tvalid_0's auc: 0.904083\n",
      "[150]\tvalid_0's auc: 0.904813\n",
      "[200]\tvalid_0's auc: 0.904865\n",
      "[250]\tvalid_0's auc: 0.90463\n",
      "Early stopping, best iteration is:\n",
      "[169]\tvalid_0's auc: 0.904905\n"
     ]
    },
    {
     "name": "stderr",
     "output_type": "stream",
     "text": [
      "num_leaves, val_score: 0.906633:  95%|##############################################5  | 19/20 [00:29<00:01,  1.45s/it]C:\\Python39\\lib\\site-packages\\lightgbm\\engine.py:181: UserWarning: 'early_stopping_rounds' argument is deprecated and will be removed in a future release of LightGBM. Pass 'early_stopping()' callback via 'callbacks' argument instead.\n",
      "  _log_warning(\"'early_stopping_rounds' argument is deprecated and will be removed in a future release of LightGBM. \"\n",
      "C:\\Python39\\lib\\site-packages\\lightgbm\\engine.py:239: UserWarning: 'verbose_eval' argument is deprecated and will be removed in a future release of LightGBM. Pass 'log_evaluation()' callback via 'callbacks' argument instead.\n",
      "  _log_warning(\"'verbose_eval' argument is deprecated and will be removed in a future release of LightGBM. \"\n"
     ]
    },
    {
     "name": "stdout",
     "output_type": "stream",
     "text": [
      "Training until validation scores don't improve for 100 rounds\n",
      "[50]\tvalid_0's auc: 0.896747\n",
      "[100]\tvalid_0's auc: 0.90031\n",
      "[150]\tvalid_0's auc: 0.902368\n",
      "[200]\tvalid_0's auc: 0.903764\n",
      "[250]\tvalid_0's auc: 0.90466\n",
      "[300]\tvalid_0's auc: 0.905281\n",
      "[350]\tvalid_0's auc: 0.905482\n",
      "[400]\tvalid_0's auc: 0.905552\n",
      "[450]\tvalid_0's auc: 0.905975\n",
      "[500]\tvalid_0's auc: 0.906067\n",
      "[550]\tvalid_0's auc: 0.906176\n",
      "[600]\tvalid_0's auc: 0.906078\n"
     ]
    },
    {
     "name": "stderr",
     "output_type": "stream",
     "text": [
      "num_leaves, val_score: 0.906633: 100%|#################################################| 20/20 [00:30<00:00,  1.53s/it]\n"
     ]
    },
    {
     "name": "stdout",
     "output_type": "stream",
     "text": [
      "[650]\tvalid_0's auc: 0.905988\n",
      "Early stopping, best iteration is:\n",
      "[551]\tvalid_0's auc: 0.906182\n"
     ]
    },
    {
     "name": "stderr",
     "output_type": "stream",
     "text": [
      "bagging, val_score: 0.906633:   0%|                                                             | 0/10 [00:00<?, ?it/s]"
     ]
    },
    {
     "name": "stdout",
     "output_type": "stream",
     "text": [
      "Training until validation scores don't improve for 100 rounds\n"
     ]
    },
    {
     "name": "stderr",
     "output_type": "stream",
     "text": [
      "C:\\Python39\\lib\\site-packages\\lightgbm\\engine.py:181: UserWarning: 'early_stopping_rounds' argument is deprecated and will be removed in a future release of LightGBM. Pass 'early_stopping()' callback via 'callbacks' argument instead.\n",
      "  _log_warning(\"'early_stopping_rounds' argument is deprecated and will be removed in a future release of LightGBM. \"\n",
      "C:\\Python39\\lib\\site-packages\\lightgbm\\engine.py:239: UserWarning: 'verbose_eval' argument is deprecated and will be removed in a future release of LightGBM. Pass 'log_evaluation()' callback via 'callbacks' argument instead.\n",
      "  _log_warning(\"'verbose_eval' argument is deprecated and will be removed in a future release of LightGBM. \"\n"
     ]
    },
    {
     "name": "stdout",
     "output_type": "stream",
     "text": [
      "[50]\tvalid_0's auc: 0.890426\n",
      "[100]\tvalid_0's auc: 0.895869\n",
      "[150]\tvalid_0's auc: 0.898961\n",
      "[200]\tvalid_0's auc: 0.901455\n",
      "[250]\tvalid_0's auc: 0.902673\n",
      "[300]\tvalid_0's auc: 0.903648\n",
      "[350]\tvalid_0's auc: 0.90429\n",
      "[400]\tvalid_0's auc: 0.904685\n",
      "[450]\tvalid_0's auc: 0.9051\n",
      "[500]\tvalid_0's auc: 0.905388\n",
      "[550]\tvalid_0's auc: 0.905755\n",
      "[600]\tvalid_0's auc: 0.906051\n",
      "[650]\tvalid_0's auc: 0.906183\n",
      "[700]\tvalid_0's auc: 0.906281\n",
      "[750]\tvalid_0's auc: 0.906269\n",
      "[800]\tvalid_0's auc: 0.906046\n"
     ]
    },
    {
     "name": "stderr",
     "output_type": "stream",
     "text": [
      "bagging, val_score: 0.906633:  10%|#####3                                               | 1/10 [00:01<00:10,  1.16s/it]"
     ]
    },
    {
     "name": "stdout",
     "output_type": "stream",
     "text": [
      "Early stopping, best iteration is:\n",
      "[739]\tvalid_0's auc: 0.906332\n",
      "Training until validation scores don't improve for 100 rounds\n",
      "[50]\tvalid_0's auc: 0.890285\n"
     ]
    },
    {
     "name": "stderr",
     "output_type": "stream",
     "text": [
      "C:\\Python39\\lib\\site-packages\\lightgbm\\engine.py:181: UserWarning: 'early_stopping_rounds' argument is deprecated and will be removed in a future release of LightGBM. Pass 'early_stopping()' callback via 'callbacks' argument instead.\n",
      "  _log_warning(\"'early_stopping_rounds' argument is deprecated and will be removed in a future release of LightGBM. \"\n",
      "C:\\Python39\\lib\\site-packages\\lightgbm\\engine.py:239: UserWarning: 'verbose_eval' argument is deprecated and will be removed in a future release of LightGBM. Pass 'log_evaluation()' callback via 'callbacks' argument instead.\n",
      "  _log_warning(\"'verbose_eval' argument is deprecated and will be removed in a future release of LightGBM. \"\n"
     ]
    },
    {
     "name": "stdout",
     "output_type": "stream",
     "text": [
      "[100]\tvalid_0's auc: 0.895819\n",
      "[150]\tvalid_0's auc: 0.898964\n",
      "[200]\tvalid_0's auc: 0.901582\n",
      "[250]\tvalid_0's auc: 0.90282\n",
      "[300]\tvalid_0's auc: 0.903664\n",
      "[350]\tvalid_0's auc: 0.904276\n",
      "[400]\tvalid_0's auc: 0.904744\n",
      "[450]\tvalid_0's auc: 0.905169\n",
      "[500]\tvalid_0's auc: 0.905524\n",
      "[550]\tvalid_0's auc: 0.905797\n",
      "[600]\tvalid_0's auc: 0.906023\n",
      "[650]\tvalid_0's auc: 0.906337\n",
      "[700]\tvalid_0's auc: 0.906512\n",
      "[750]\tvalid_0's auc: 0.906471\n",
      "[800]\tvalid_0's auc: 0.9063\n",
      "Early stopping, best iteration is:\n",
      "[706]\tvalid_0's auc: 0.906536\n"
     ]
    },
    {
     "name": "stderr",
     "output_type": "stream",
     "text": [
      "bagging, val_score: 0.906633:  20%|##########6                                          | 2/10 [00:02<00:09,  1.17s/it]"
     ]
    },
    {
     "name": "stdout",
     "output_type": "stream",
     "text": [
      "Training until validation scores don't improve for 100 rounds\n"
     ]
    },
    {
     "name": "stderr",
     "output_type": "stream",
     "text": [
      "C:\\Python39\\lib\\site-packages\\lightgbm\\engine.py:181: UserWarning: 'early_stopping_rounds' argument is deprecated and will be removed in a future release of LightGBM. Pass 'early_stopping()' callback via 'callbacks' argument instead.\n",
      "  _log_warning(\"'early_stopping_rounds' argument is deprecated and will be removed in a future release of LightGBM. \"\n",
      "C:\\Python39\\lib\\site-packages\\lightgbm\\engine.py:239: UserWarning: 'verbose_eval' argument is deprecated and will be removed in a future release of LightGBM. Pass 'log_evaluation()' callback via 'callbacks' argument instead.\n",
      "  _log_warning(\"'verbose_eval' argument is deprecated and will be removed in a future release of LightGBM. \"\n"
     ]
    },
    {
     "name": "stdout",
     "output_type": "stream",
     "text": [
      "[50]\tvalid_0's auc: 0.890998\n",
      "[100]\tvalid_0's auc: 0.896052\n",
      "[150]\tvalid_0's auc: 0.899225\n",
      "[200]\tvalid_0's auc: 0.901427\n",
      "[250]\tvalid_0's auc: 0.902728\n",
      "[300]\tvalid_0's auc: 0.903773\n",
      "[350]\tvalid_0's auc: 0.904483\n",
      "[400]\tvalid_0's auc: 0.904977\n",
      "[450]\tvalid_0's auc: 0.905227\n",
      "[500]\tvalid_0's auc: 0.905438\n",
      "[550]\tvalid_0's auc: 0.905711\n",
      "[600]\tvalid_0's auc: 0.905836\n",
      "[650]\tvalid_0's auc: 0.905865\n",
      "[700]\tvalid_0's auc: 0.905945\n",
      "[750]\tvalid_0's auc: 0.906132\n",
      "[800]\tvalid_0's auc: 0.906205\n",
      "[850]\tvalid_0's auc: 0.906246\n",
      "[900]\tvalid_0's auc: 0.906193\n",
      "[950]\tvalid_0's auc: 0.906163\n",
      "[1000]\tvalid_0's auc: 0.906184\n"
     ]
    },
    {
     "name": "stderr",
     "output_type": "stream",
     "text": [
      "bagging, val_score: 0.906633:  30%|###############9                                     | 3/10 [00:03<00:09,  1.32s/it]"
     ]
    },
    {
     "name": "stdout",
     "output_type": "stream",
     "text": [
      "Early stopping, best iteration is:\n",
      "[918]\tvalid_0's auc: 0.906295\n",
      "Training until validation scores don't improve for 100 rounds\n"
     ]
    },
    {
     "name": "stderr",
     "output_type": "stream",
     "text": [
      "C:\\Python39\\lib\\site-packages\\lightgbm\\engine.py:181: UserWarning: 'early_stopping_rounds' argument is deprecated and will be removed in a future release of LightGBM. Pass 'early_stopping()' callback via 'callbacks' argument instead.\n",
      "  _log_warning(\"'early_stopping_rounds' argument is deprecated and will be removed in a future release of LightGBM. \"\n",
      "C:\\Python39\\lib\\site-packages\\lightgbm\\engine.py:239: UserWarning: 'verbose_eval' argument is deprecated and will be removed in a future release of LightGBM. Pass 'log_evaluation()' callback via 'callbacks' argument instead.\n",
      "  _log_warning(\"'verbose_eval' argument is deprecated and will be removed in a future release of LightGBM. \"\n"
     ]
    },
    {
     "name": "stdout",
     "output_type": "stream",
     "text": [
      "[50]\tvalid_0's auc: 0.8908\n",
      "[100]\tvalid_0's auc: 0.895895\n",
      "[150]\tvalid_0's auc: 0.898898\n",
      "[200]\tvalid_0's auc: 0.90104\n",
      "[250]\tvalid_0's auc: 0.902471\n",
      "[300]\tvalid_0's auc: 0.903524\n",
      "[350]\tvalid_0's auc: 0.9041\n",
      "[400]\tvalid_0's auc: 0.904638\n",
      "[450]\tvalid_0's auc: 0.90505\n",
      "[500]\tvalid_0's auc: 0.905414\n",
      "[550]\tvalid_0's auc: 0.905788\n",
      "[600]\tvalid_0's auc: 0.905967\n",
      "[650]\tvalid_0's auc: 0.906236\n",
      "[700]\tvalid_0's auc: 0.906289\n",
      "[750]\tvalid_0's auc: 0.906402\n",
      "[800]\tvalid_0's auc: 0.906475\n",
      "[850]\tvalid_0's auc: 0.906564\n",
      "[900]\tvalid_0's auc: 0.90665\n",
      "[950]\tvalid_0's auc: 0.906718\n"
     ]
    },
    {
     "name": "stderr",
     "output_type": "stream",
     "text": [
      "bagging, val_score: 0.906772:  40%|#####################2                               | 4/10 [00:05<00:08,  1.46s/it]"
     ]
    },
    {
     "name": "stdout",
     "output_type": "stream",
     "text": [
      "[1000]\tvalid_0's auc: 0.906742\n",
      "[1050]\tvalid_0's auc: 0.90673\n",
      "Early stopping, best iteration is:\n",
      "[986]\tvalid_0's auc: 0.906772\n"
     ]
    },
    {
     "name": "stderr",
     "output_type": "stream",
     "text": [
      "C:\\Python39\\lib\\site-packages\\lightgbm\\engine.py:181: UserWarning: 'early_stopping_rounds' argument is deprecated and will be removed in a future release of LightGBM. Pass 'early_stopping()' callback via 'callbacks' argument instead.\n",
      "  _log_warning(\"'early_stopping_rounds' argument is deprecated and will be removed in a future release of LightGBM. \"\n",
      "C:\\Python39\\lib\\site-packages\\lightgbm\\engine.py:239: UserWarning: 'verbose_eval' argument is deprecated and will be removed in a future release of LightGBM. Pass 'log_evaluation()' callback via 'callbacks' argument instead.\n",
      "  _log_warning(\"'verbose_eval' argument is deprecated and will be removed in a future release of LightGBM. \"\n"
     ]
    },
    {
     "name": "stdout",
     "output_type": "stream",
     "text": [
      "Training until validation scores don't improve for 100 rounds\n",
      "[50]\tvalid_0's auc: 0.890768\n",
      "[100]\tvalid_0's auc: 0.896568\n",
      "[150]\tvalid_0's auc: 0.899806\n",
      "[200]\tvalid_0's auc: 0.901866\n",
      "[250]\tvalid_0's auc: 0.903074\n",
      "[300]\tvalid_0's auc: 0.904084\n",
      "[350]\tvalid_0's auc: 0.904601\n",
      "[400]\tvalid_0's auc: 0.904717\n",
      "[450]\tvalid_0's auc: 0.90512\n",
      "[500]\tvalid_0's auc: 0.905475\n",
      "[550]\tvalid_0's auc: 0.905709\n",
      "[600]\tvalid_0's auc: 0.905822\n",
      "[650]\tvalid_0's auc: 0.905906\n",
      "[700]\tvalid_0's auc: 0.906164\n",
      "[750]\tvalid_0's auc: 0.906262\n",
      "[800]\tvalid_0's auc: 0.906221\n",
      "[850]\tvalid_0's auc: 0.906303\n",
      "[900]\tvalid_0's auc: 0.906405\n",
      "[950]\tvalid_0's auc: 0.906306\n",
      "Early stopping, best iteration is:\n",
      "[870]\tvalid_0's auc: 0.906472\n"
     ]
    },
    {
     "name": "stderr",
     "output_type": "stream",
     "text": [
      "bagging, val_score: 0.906772:  50%|##########################5                          | 5/10 [00:07<00:07,  1.55s/it]C:\\Python39\\lib\\site-packages\\lightgbm\\engine.py:181: UserWarning: 'early_stopping_rounds' argument is deprecated and will be removed in a future release of LightGBM. Pass 'early_stopping()' callback via 'callbacks' argument instead.\n",
      "  _log_warning(\"'early_stopping_rounds' argument is deprecated and will be removed in a future release of LightGBM. \"\n",
      "C:\\Python39\\lib\\site-packages\\lightgbm\\engine.py:239: UserWarning: 'verbose_eval' argument is deprecated and will be removed in a future release of LightGBM. Pass 'log_evaluation()' callback via 'callbacks' argument instead.\n",
      "  _log_warning(\"'verbose_eval' argument is deprecated and will be removed in a future release of LightGBM. \"\n"
     ]
    },
    {
     "name": "stdout",
     "output_type": "stream",
     "text": [
      "Training until validation scores don't improve for 100 rounds\n",
      "[50]\tvalid_0's auc: 0.891333\n",
      "[100]\tvalid_0's auc: 0.896372\n",
      "[150]\tvalid_0's auc: 0.899645\n",
      "[200]\tvalid_0's auc: 0.901754\n",
      "[250]\tvalid_0's auc: 0.90286\n",
      "[300]\tvalid_0's auc: 0.90413\n",
      "[350]\tvalid_0's auc: 0.904584\n",
      "[400]\tvalid_0's auc: 0.904952\n",
      "[450]\tvalid_0's auc: 0.905422\n",
      "[500]\tvalid_0's auc: 0.905604\n",
      "[550]\tvalid_0's auc: 0.905945\n",
      "[600]\tvalid_0's auc: 0.906365\n",
      "[650]\tvalid_0's auc: 0.906456\n",
      "[700]\tvalid_0's auc: 0.906249\n",
      "Early stopping, best iteration is:\n",
      "[607]\tvalid_0's auc: 0.906513\n"
     ]
    },
    {
     "name": "stderr",
     "output_type": "stream",
     "text": [
      "bagging, val_score: 0.906772:  60%|###############################8                     | 6/10 [00:08<00:05,  1.36s/it]C:\\Python39\\lib\\site-packages\\lightgbm\\engine.py:181: UserWarning: 'early_stopping_rounds' argument is deprecated and will be removed in a future release of LightGBM. Pass 'early_stopping()' callback via 'callbacks' argument instead.\n",
      "  _log_warning(\"'early_stopping_rounds' argument is deprecated and will be removed in a future release of LightGBM. \"\n",
      "C:\\Python39\\lib\\site-packages\\lightgbm\\engine.py:239: UserWarning: 'verbose_eval' argument is deprecated and will be removed in a future release of LightGBM. Pass 'log_evaluation()' callback via 'callbacks' argument instead.\n",
      "  _log_warning(\"'verbose_eval' argument is deprecated and will be removed in a future release of LightGBM. \"\n"
     ]
    },
    {
     "name": "stdout",
     "output_type": "stream",
     "text": [
      "Training until validation scores don't improve for 100 rounds\n",
      "[50]\tvalid_0's auc: 0.890199\n",
      "[100]\tvalid_0's auc: 0.896409\n",
      "[150]\tvalid_0's auc: 0.899395\n",
      "[200]\tvalid_0's auc: 0.901419\n",
      "[250]\tvalid_0's auc: 0.902819\n",
      "[300]\tvalid_0's auc: 0.903825\n",
      "[350]\tvalid_0's auc: 0.904456\n",
      "[400]\tvalid_0's auc: 0.904865\n",
      "[450]\tvalid_0's auc: 0.905261\n",
      "[500]\tvalid_0's auc: 0.905592\n",
      "[550]\tvalid_0's auc: 0.905974\n",
      "[600]\tvalid_0's auc: 0.90609\n",
      "[650]\tvalid_0's auc: 0.906279\n",
      "[700]\tvalid_0's auc: 0.906395\n",
      "[750]\tvalid_0's auc: 0.906377\n",
      "[800]\tvalid_0's auc: 0.906462\n",
      "[850]\tvalid_0's auc: 0.906468\n"
     ]
    },
    {
     "name": "stderr",
     "output_type": "stream",
     "text": [
      "bagging, val_score: 0.906772:  70%|#####################################                | 7/10 [00:09<00:04,  1.45s/it]"
     ]
    },
    {
     "name": "stdout",
     "output_type": "stream",
     "text": [
      "[900]\tvalid_0's auc: 0.906523\n",
      "[950]\tvalid_0's auc: 0.906493\n",
      "Early stopping, best iteration is:\n",
      "[868]\tvalid_0's auc: 0.906563\n"
     ]
    },
    {
     "name": "stderr",
     "output_type": "stream",
     "text": [
      "C:\\Python39\\lib\\site-packages\\lightgbm\\engine.py:181: UserWarning: 'early_stopping_rounds' argument is deprecated and will be removed in a future release of LightGBM. Pass 'early_stopping()' callback via 'callbacks' argument instead.\n",
      "  _log_warning(\"'early_stopping_rounds' argument is deprecated and will be removed in a future release of LightGBM. \"\n",
      "C:\\Python39\\lib\\site-packages\\lightgbm\\engine.py:239: UserWarning: 'verbose_eval' argument is deprecated and will be removed in a future release of LightGBM. Pass 'log_evaluation()' callback via 'callbacks' argument instead.\n",
      "  _log_warning(\"'verbose_eval' argument is deprecated and will be removed in a future release of LightGBM. \"\n"
     ]
    },
    {
     "name": "stdout",
     "output_type": "stream",
     "text": [
      "Training until validation scores don't improve for 100 rounds\n",
      "[50]\tvalid_0's auc: 0.890402\n",
      "[100]\tvalid_0's auc: 0.895635\n",
      "[150]\tvalid_0's auc: 0.898672\n",
      "[200]\tvalid_0's auc: 0.900853\n",
      "[250]\tvalid_0's auc: 0.902183\n",
      "[300]\tvalid_0's auc: 0.903271\n",
      "[350]\tvalid_0's auc: 0.903907\n",
      "[400]\tvalid_0's auc: 0.904413\n",
      "[450]\tvalid_0's auc: 0.904907\n",
      "[500]\tvalid_0's auc: 0.905212\n",
      "[550]\tvalid_0's auc: 0.90555\n",
      "[600]\tvalid_0's auc: 0.905649\n",
      "[650]\tvalid_0's auc: 0.905801\n",
      "[700]\tvalid_0's auc: 0.905926\n",
      "[750]\tvalid_0's auc: 0.906062\n",
      "[800]\tvalid_0's auc: 0.906046\n",
      "Early stopping, best iteration is:\n",
      "[741]\tvalid_0's auc: 0.906088\n"
     ]
    },
    {
     "name": "stderr",
     "output_type": "stream",
     "text": [
      "bagging, val_score: 0.906772:  80%|##########################################4          | 8/10 [00:11<00:02,  1.48s/it]C:\\Python39\\lib\\site-packages\\lightgbm\\engine.py:181: UserWarning: 'early_stopping_rounds' argument is deprecated and will be removed in a future release of LightGBM. Pass 'early_stopping()' callback via 'callbacks' argument instead.\n",
      "  _log_warning(\"'early_stopping_rounds' argument is deprecated and will be removed in a future release of LightGBM. \"\n",
      "C:\\Python39\\lib\\site-packages\\lightgbm\\engine.py:239: UserWarning: 'verbose_eval' argument is deprecated and will be removed in a future release of LightGBM. Pass 'log_evaluation()' callback via 'callbacks' argument instead.\n",
      "  _log_warning(\"'verbose_eval' argument is deprecated and will be removed in a future release of LightGBM. \"\n"
     ]
    },
    {
     "name": "stdout",
     "output_type": "stream",
     "text": [
      "Training until validation scores don't improve for 100 rounds\n",
      "[50]\tvalid_0's auc: 0.890941\n",
      "[100]\tvalid_0's auc: 0.896862\n",
      "[150]\tvalid_0's auc: 0.899583\n",
      "[200]\tvalid_0's auc: 0.901425\n",
      "[250]\tvalid_0's auc: 0.902713\n",
      "[300]\tvalid_0's auc: 0.904002\n",
      "[350]\tvalid_0's auc: 0.904518\n",
      "[400]\tvalid_0's auc: 0.904823\n",
      "[450]\tvalid_0's auc: 0.905269\n",
      "[500]\tvalid_0's auc: 0.905519\n",
      "[550]\tvalid_0's auc: 0.905778\n",
      "[600]\tvalid_0's auc: 0.906043\n",
      "[650]\tvalid_0's auc: 0.90616\n",
      "[700]\tvalid_0's auc: 0.90615\n",
      "[750]\tvalid_0's auc: 0.906208\n"
     ]
    },
    {
     "name": "stderr",
     "output_type": "stream",
     "text": [
      "bagging, val_score: 0.906772:  90%|###############################################7     | 9/10 [00:12<00:01,  1.40s/it]"
     ]
    },
    {
     "name": "stdout",
     "output_type": "stream",
     "text": [
      "Early stopping, best iteration is:\n",
      "[684]\tvalid_0's auc: 0.906263\n",
      "Training until validation scores don't improve for 100 rounds\n",
      "[50]\tvalid_0's auc: 0.890594\n"
     ]
    },
    {
     "name": "stderr",
     "output_type": "stream",
     "text": [
      "C:\\Python39\\lib\\site-packages\\lightgbm\\engine.py:181: UserWarning: 'early_stopping_rounds' argument is deprecated and will be removed in a future release of LightGBM. Pass 'early_stopping()' callback via 'callbacks' argument instead.\n",
      "  _log_warning(\"'early_stopping_rounds' argument is deprecated and will be removed in a future release of LightGBM. \"\n",
      "C:\\Python39\\lib\\site-packages\\lightgbm\\engine.py:239: UserWarning: 'verbose_eval' argument is deprecated and will be removed in a future release of LightGBM. Pass 'log_evaluation()' callback via 'callbacks' argument instead.\n",
      "  _log_warning(\"'verbose_eval' argument is deprecated and will be removed in a future release of LightGBM. \"\n"
     ]
    },
    {
     "name": "stdout",
     "output_type": "stream",
     "text": [
      "[100]\tvalid_0's auc: 0.89599\n",
      "[150]\tvalid_0's auc: 0.899097\n",
      "[200]\tvalid_0's auc: 0.901135\n",
      "[250]\tvalid_0's auc: 0.902605\n",
      "[300]\tvalid_0's auc: 0.903659\n",
      "[350]\tvalid_0's auc: 0.904269\n",
      "[400]\tvalid_0's auc: 0.904705\n",
      "[450]\tvalid_0's auc: 0.905135\n",
      "[500]\tvalid_0's auc: 0.90547\n",
      "[550]\tvalid_0's auc: 0.905759\n",
      "[600]\tvalid_0's auc: 0.905864\n",
      "[650]\tvalid_0's auc: 0.906059\n",
      "[700]\tvalid_0's auc: 0.906163\n",
      "[750]\tvalid_0's auc: 0.906299\n",
      "[800]\tvalid_0's auc: 0.906339\n",
      "[850]\tvalid_0's auc: 0.906379\n",
      "[900]\tvalid_0's auc: 0.906291\n"
     ]
    },
    {
     "name": "stderr",
     "output_type": "stream",
     "text": [
      "bagging, val_score: 0.906772: 100%|####################################################| 10/10 [00:14<00:00,  1.41s/it]\n"
     ]
    },
    {
     "name": "stdout",
     "output_type": "stream",
     "text": [
      "Early stopping, best iteration is:\n",
      "[842]\tvalid_0's auc: 0.906408\n"
     ]
    },
    {
     "name": "stderr",
     "output_type": "stream",
     "text": [
      "feature_fraction_stage2, val_score: 0.906772:   0%|                                              | 0/3 [00:00<?, ?it/s]"
     ]
    },
    {
     "name": "stdout",
     "output_type": "stream",
     "text": [
      "Training until validation scores don't improve for 100 rounds\n"
     ]
    },
    {
     "name": "stderr",
     "output_type": "stream",
     "text": [
      "C:\\Python39\\lib\\site-packages\\lightgbm\\engine.py:181: UserWarning: 'early_stopping_rounds' argument is deprecated and will be removed in a future release of LightGBM. Pass 'early_stopping()' callback via 'callbacks' argument instead.\n",
      "  _log_warning(\"'early_stopping_rounds' argument is deprecated and will be removed in a future release of LightGBM. \"\n",
      "C:\\Python39\\lib\\site-packages\\lightgbm\\engine.py:239: UserWarning: 'verbose_eval' argument is deprecated and will be removed in a future release of LightGBM. Pass 'log_evaluation()' callback via 'callbacks' argument instead.\n",
      "  _log_warning(\"'verbose_eval' argument is deprecated and will be removed in a future release of LightGBM. \"\n"
     ]
    },
    {
     "name": "stdout",
     "output_type": "stream",
     "text": [
      "[50]\tvalid_0's auc: 0.890183\n",
      "[100]\tvalid_0's auc: 0.895399\n",
      "[150]\tvalid_0's auc: 0.898307\n",
      "[200]\tvalid_0's auc: 0.900697\n",
      "[250]\tvalid_0's auc: 0.902281\n",
      "[300]\tvalid_0's auc: 0.903208\n",
      "[350]\tvalid_0's auc: 0.903892\n",
      "[400]\tvalid_0's auc: 0.90449\n",
      "[450]\tvalid_0's auc: 0.904927\n",
      "[500]\tvalid_0's auc: 0.905198\n",
      "[550]\tvalid_0's auc: 0.905544\n",
      "[600]\tvalid_0's auc: 0.905794\n",
      "[650]\tvalid_0's auc: 0.905951\n",
      "[700]\tvalid_0's auc: 0.906035\n",
      "[750]\tvalid_0's auc: 0.906153\n",
      "[800]\tvalid_0's auc: 0.906233\n",
      "[850]\tvalid_0's auc: 0.906284\n",
      "[900]\tvalid_0's auc: 0.906363\n",
      "[950]\tvalid_0's auc: 0.906343\n",
      "[1000]\tvalid_0's auc: 0.906358\n"
     ]
    },
    {
     "name": "stderr",
     "output_type": "stream",
     "text": [
      "feature_fraction_stage2, val_score: 0.906772:  33%|############6                         | 1/3 [00:01<00:03,  1.58s/it]"
     ]
    },
    {
     "name": "stdout",
     "output_type": "stream",
     "text": [
      "Early stopping, best iteration is:\n",
      "[931]\tvalid_0's auc: 0.906386\n",
      "Training until validation scores don't improve for 100 rounds\n"
     ]
    },
    {
     "name": "stderr",
     "output_type": "stream",
     "text": [
      "C:\\Python39\\lib\\site-packages\\lightgbm\\engine.py:181: UserWarning: 'early_stopping_rounds' argument is deprecated and will be removed in a future release of LightGBM. Pass 'early_stopping()' callback via 'callbacks' argument instead.\n",
      "  _log_warning(\"'early_stopping_rounds' argument is deprecated and will be removed in a future release of LightGBM. \"\n",
      "C:\\Python39\\lib\\site-packages\\lightgbm\\engine.py:239: UserWarning: 'verbose_eval' argument is deprecated and will be removed in a future release of LightGBM. Pass 'log_evaluation()' callback via 'callbacks' argument instead.\n",
      "  _log_warning(\"'verbose_eval' argument is deprecated and will be removed in a future release of LightGBM. \"\n"
     ]
    },
    {
     "name": "stdout",
     "output_type": "stream",
     "text": [
      "[50]\tvalid_0's auc: 0.890022\n",
      "[100]\tvalid_0's auc: 0.895893\n",
      "[150]\tvalid_0's auc: 0.898658\n",
      "[200]\tvalid_0's auc: 0.900891\n",
      "[250]\tvalid_0's auc: 0.902422\n",
      "[300]\tvalid_0's auc: 0.903417\n",
      "[350]\tvalid_0's auc: 0.904068\n",
      "[400]\tvalid_0's auc: 0.904603\n",
      "[450]\tvalid_0's auc: 0.905061\n",
      "[500]\tvalid_0's auc: 0.905358\n",
      "[550]\tvalid_0's auc: 0.905691\n",
      "[600]\tvalid_0's auc: 0.905843\n",
      "[650]\tvalid_0's auc: 0.906084\n",
      "[700]\tvalid_0's auc: 0.906116\n",
      "[750]\tvalid_0's auc: 0.90621\n",
      "[800]\tvalid_0's auc: 0.906268\n",
      "[850]\tvalid_0's auc: 0.906248\n",
      "[900]\tvalid_0's auc: 0.90637\n",
      "[950]\tvalid_0's auc: 0.906481\n"
     ]
    },
    {
     "name": "stderr",
     "output_type": "stream",
     "text": [
      "feature_fraction_stage2, val_score: 0.906772:  33%|############6                         | 1/3 [00:03<00:03,  1.58s/it]"
     ]
    },
    {
     "name": "stdout",
     "output_type": "stream",
     "text": [
      "[1000]\tvalid_0's auc: 0.90651\n",
      "[1050]\tvalid_0's auc: 0.906461\n",
      "Early stopping, best iteration is:\n",
      "[992]\tvalid_0's auc: 0.906552\n"
     ]
    },
    {
     "name": "stderr",
     "output_type": "stream",
     "text": [
      "feature_fraction_stage2, val_score: 0.906772:  67%|#########################3            | 2/3 [00:03<00:01,  1.66s/it]C:\\Python39\\lib\\site-packages\\lightgbm\\engine.py:181: UserWarning: 'early_stopping_rounds' argument is deprecated and will be removed in a future release of LightGBM. Pass 'early_stopping()' callback via 'callbacks' argument instead.\n",
      "  _log_warning(\"'early_stopping_rounds' argument is deprecated and will be removed in a future release of LightGBM. \"\n",
      "C:\\Python39\\lib\\site-packages\\lightgbm\\engine.py:239: UserWarning: 'verbose_eval' argument is deprecated and will be removed in a future release of LightGBM. Pass 'log_evaluation()' callback via 'callbacks' argument instead.\n",
      "  _log_warning(\"'verbose_eval' argument is deprecated and will be removed in a future release of LightGBM. \"\n"
     ]
    },
    {
     "name": "stdout",
     "output_type": "stream",
     "text": [
      "Training until validation scores don't improve for 100 rounds\n",
      "[50]\tvalid_0's auc: 0.889925\n",
      "[100]\tvalid_0's auc: 0.895576\n",
      "[150]\tvalid_0's auc: 0.898397\n",
      "[200]\tvalid_0's auc: 0.900683\n",
      "[250]\tvalid_0's auc: 0.902256\n",
      "[300]\tvalid_0's auc: 0.903167\n",
      "[350]\tvalid_0's auc: 0.903817\n",
      "[400]\tvalid_0's auc: 0.90439\n",
      "[450]\tvalid_0's auc: 0.90487\n",
      "[500]\tvalid_0's auc: 0.905049\n",
      "[550]\tvalid_0's auc: 0.905274\n",
      "[600]\tvalid_0's auc: 0.905495\n",
      "[650]\tvalid_0's auc: 0.905603\n",
      "[700]\tvalid_0's auc: 0.90569\n",
      "[750]\tvalid_0's auc: 0.905835\n",
      "[800]\tvalid_0's auc: 0.905909\n",
      "[850]\tvalid_0's auc: 0.905841\n",
      "[900]\tvalid_0's auc: 0.906013\n",
      "[950]\tvalid_0's auc: 0.906083\n",
      "[1000]\tvalid_0's auc: 0.906177\n",
      "[1050]\tvalid_0's auc: 0.906087\n",
      "Early stopping, best iteration is:\n",
      "[996]\tvalid_0's auc: 0.906182\n"
     ]
    },
    {
     "name": "stderr",
     "output_type": "stream",
     "text": [
      "feature_fraction_stage2, val_score: 0.906772: 100%|######################################| 3/3 [00:04<00:00,  1.66s/it]\n",
      "regularization_factors, val_score: 0.906772:   0%|                                              | 0/20 [00:00<?, ?it/s]C:\\Python39\\lib\\site-packages\\lightgbm\\engine.py:181: UserWarning: 'early_stopping_rounds' argument is deprecated and will be removed in a future release of LightGBM. Pass 'early_stopping()' callback via 'callbacks' argument instead.\n",
      "  _log_warning(\"'early_stopping_rounds' argument is deprecated and will be removed in a future release of LightGBM. \"\n",
      "C:\\Python39\\lib\\site-packages\\lightgbm\\engine.py:239: UserWarning: 'verbose_eval' argument is deprecated and will be removed in a future release of LightGBM. Pass 'log_evaluation()' callback via 'callbacks' argument instead.\n",
      "  _log_warning(\"'verbose_eval' argument is deprecated and will be removed in a future release of LightGBM. \"\n"
     ]
    },
    {
     "name": "stdout",
     "output_type": "stream",
     "text": [
      "Training until validation scores don't improve for 100 rounds\n",
      "[50]\tvalid_0's auc: 0.890907\n",
      "[100]\tvalid_0's auc: 0.896015\n",
      "[150]\tvalid_0's auc: 0.898886\n",
      "[200]\tvalid_0's auc: 0.90088\n",
      "[250]\tvalid_0's auc: 0.902348\n",
      "[300]\tvalid_0's auc: 0.903495\n",
      "[350]\tvalid_0's auc: 0.904089\n",
      "[400]\tvalid_0's auc: 0.904566\n",
      "[450]\tvalid_0's auc: 0.904992\n",
      "[500]\tvalid_0's auc: 0.905346\n",
      "[550]\tvalid_0's auc: 0.905654\n",
      "[600]\tvalid_0's auc: 0.905883\n",
      "[650]\tvalid_0's auc: 0.906115\n",
      "[700]\tvalid_0's auc: 0.906152\n",
      "[750]\tvalid_0's auc: 0.90627\n",
      "[800]\tvalid_0's auc: 0.906332\n",
      "[850]\tvalid_0's auc: 0.906401\n",
      "[900]\tvalid_0's auc: 0.906488\n",
      "[950]\tvalid_0's auc: 0.906556\n",
      "[1000]\tvalid_0's auc: 0.906614\n",
      "[1050]\tvalid_0's auc: 0.906584\n",
      "[1100]\tvalid_0's auc: 0.906559\n",
      "Early stopping, best iteration is:\n",
      "[1001]\tvalid_0's auc: 0.906616\n"
     ]
    },
    {
     "name": "stderr",
     "output_type": "stream",
     "text": [
      "regularization_factors, val_score: 0.906772:   5%|#9                                    | 1/20 [00:02<00:46,  2.43s/it]C:\\Python39\\lib\\site-packages\\lightgbm\\engine.py:181: UserWarning: 'early_stopping_rounds' argument is deprecated and will be removed in a future release of LightGBM. Pass 'early_stopping()' callback via 'callbacks' argument instead.\n",
      "  _log_warning(\"'early_stopping_rounds' argument is deprecated and will be removed in a future release of LightGBM. \"\n",
      "C:\\Python39\\lib\\site-packages\\lightgbm\\engine.py:239: UserWarning: 'verbose_eval' argument is deprecated and will be removed in a future release of LightGBM. Pass 'log_evaluation()' callback via 'callbacks' argument instead.\n",
      "  _log_warning(\"'verbose_eval' argument is deprecated and will be removed in a future release of LightGBM. \"\n"
     ]
    },
    {
     "name": "stdout",
     "output_type": "stream",
     "text": [
      "Training until validation scores don't improve for 100 rounds\n",
      "[50]\tvalid_0's auc: 0.890835\n",
      "[100]\tvalid_0's auc: 0.895909\n",
      "[150]\tvalid_0's auc: 0.898793\n",
      "[200]\tvalid_0's auc: 0.900953\n",
      "[250]\tvalid_0's auc: 0.90248\n",
      "[300]\tvalid_0's auc: 0.903518\n",
      "[350]\tvalid_0's auc: 0.904207\n",
      "[400]\tvalid_0's auc: 0.904656\n",
      "[450]\tvalid_0's auc: 0.905073\n",
      "[500]\tvalid_0's auc: 0.905344\n",
      "[550]\tvalid_0's auc: 0.905771\n",
      "[600]\tvalid_0's auc: 0.905974\n",
      "[650]\tvalid_0's auc: 0.90614\n",
      "[700]\tvalid_0's auc: 0.906259\n",
      "[750]\tvalid_0's auc: 0.906374\n",
      "[800]\tvalid_0's auc: 0.906408\n",
      "[850]\tvalid_0's auc: 0.906415\n",
      "[900]\tvalid_0's auc: 0.90652\n",
      "[950]\tvalid_0's auc: 0.906527\n",
      "[1000]\tvalid_0's auc: 0.906635\n",
      "[1050]\tvalid_0's auc: 0.906649\n",
      "[1100]\tvalid_0's auc: 0.906704\n",
      "[1150]\tvalid_0's auc: 0.906647\n"
     ]
    },
    {
     "name": "stderr",
     "output_type": "stream",
     "text": [
      "regularization_factors, val_score: 0.906772:  10%|###8                                  | 2/20 [00:04<00:40,  2.25s/it]"
     ]
    },
    {
     "name": "stdout",
     "output_type": "stream",
     "text": [
      "Early stopping, best iteration is:\n",
      "[1095]\tvalid_0's auc: 0.906715\n",
      "Training until validation scores don't improve for 100 rounds\n"
     ]
    },
    {
     "name": "stderr",
     "output_type": "stream",
     "text": [
      "C:\\Python39\\lib\\site-packages\\lightgbm\\engine.py:181: UserWarning: 'early_stopping_rounds' argument is deprecated and will be removed in a future release of LightGBM. Pass 'early_stopping()' callback via 'callbacks' argument instead.\n",
      "  _log_warning(\"'early_stopping_rounds' argument is deprecated and will be removed in a future release of LightGBM. \"\n",
      "C:\\Python39\\lib\\site-packages\\lightgbm\\engine.py:239: UserWarning: 'verbose_eval' argument is deprecated and will be removed in a future release of LightGBM. Pass 'log_evaluation()' callback via 'callbacks' argument instead.\n",
      "  _log_warning(\"'verbose_eval' argument is deprecated and will be removed in a future release of LightGBM. \"\n"
     ]
    },
    {
     "name": "stdout",
     "output_type": "stream",
     "text": [
      "[50]\tvalid_0's auc: 0.8908\n",
      "[100]\tvalid_0's auc: 0.895895\n",
      "[150]\tvalid_0's auc: 0.898899\n",
      "[200]\tvalid_0's auc: 0.901001\n",
      "[250]\tvalid_0's auc: 0.902492\n",
      "[300]\tvalid_0's auc: 0.903501\n",
      "[350]\tvalid_0's auc: 0.904125\n",
      "[400]\tvalid_0's auc: 0.904701\n",
      "[450]\tvalid_0's auc: 0.905148\n",
      "[500]\tvalid_0's auc: 0.905507\n",
      "[550]\tvalid_0's auc: 0.905936\n",
      "[600]\tvalid_0's auc: 0.90615\n",
      "[650]\tvalid_0's auc: 0.906396\n",
      "[700]\tvalid_0's auc: 0.906532\n",
      "[750]\tvalid_0's auc: 0.906659\n",
      "[800]\tvalid_0's auc: 0.906718\n",
      "[850]\tvalid_0's auc: 0.906776\n",
      "[900]\tvalid_0's auc: 0.906857\n",
      "[950]\tvalid_0's auc: 0.906931\n",
      "[1000]\tvalid_0's auc: 0.906957\n"
     ]
    },
    {
     "name": "stderr",
     "output_type": "stream",
     "text": [
      "regularization_factors, val_score: 0.906995:  15%|#####7                                | 3/20 [00:06<00:36,  2.14s/it]"
     ]
    },
    {
     "name": "stdout",
     "output_type": "stream",
     "text": [
      "[1050]\tvalid_0's auc: 0.906944\n",
      "Early stopping, best iteration is:\n",
      "[985]\tvalid_0's auc: 0.906995\n"
     ]
    },
    {
     "name": "stderr",
     "output_type": "stream",
     "text": [
      "C:\\Python39\\lib\\site-packages\\lightgbm\\engine.py:181: UserWarning: 'early_stopping_rounds' argument is deprecated and will be removed in a future release of LightGBM. Pass 'early_stopping()' callback via 'callbacks' argument instead.\n",
      "  _log_warning(\"'early_stopping_rounds' argument is deprecated and will be removed in a future release of LightGBM. \"\n",
      "C:\\Python39\\lib\\site-packages\\lightgbm\\engine.py:239: UserWarning: 'verbose_eval' argument is deprecated and will be removed in a future release of LightGBM. Pass 'log_evaluation()' callback via 'callbacks' argument instead.\n",
      "  _log_warning(\"'verbose_eval' argument is deprecated and will be removed in a future release of LightGBM. \"\n"
     ]
    },
    {
     "name": "stdout",
     "output_type": "stream",
     "text": [
      "Training until validation scores don't improve for 100 rounds\n",
      "[50]\tvalid_0's auc: 0.890837\n",
      "[100]\tvalid_0's auc: 0.895908\n",
      "[150]\tvalid_0's auc: 0.898902\n",
      "[200]\tvalid_0's auc: 0.900931\n",
      "[250]\tvalid_0's auc: 0.902459\n",
      "[300]\tvalid_0's auc: 0.903499\n",
      "[350]\tvalid_0's auc: 0.904152\n",
      "[400]\tvalid_0's auc: 0.904698\n",
      "[450]\tvalid_0's auc: 0.905159\n",
      "[500]\tvalid_0's auc: 0.905483\n",
      "[550]\tvalid_0's auc: 0.905932\n",
      "[600]\tvalid_0's auc: 0.906119\n",
      "[650]\tvalid_0's auc: 0.906311\n",
      "[700]\tvalid_0's auc: 0.906425\n",
      "[750]\tvalid_0's auc: 0.906576\n",
      "[800]\tvalid_0's auc: 0.906633\n",
      "[850]\tvalid_0's auc: 0.906728\n",
      "[900]\tvalid_0's auc: 0.906755\n",
      "[950]\tvalid_0's auc: 0.906841\n",
      "[1000]\tvalid_0's auc: 0.906901\n",
      "[1050]\tvalid_0's auc: 0.906825\n",
      "Early stopping, best iteration is:\n",
      "[986]\tvalid_0's auc: 0.906931\n"
     ]
    },
    {
     "name": "stderr",
     "output_type": "stream",
     "text": [
      "regularization_factors, val_score: 0.906995:  20%|#######6                              | 4/20 [00:08<00:33,  2.12s/it]C:\\Python39\\lib\\site-packages\\lightgbm\\engine.py:181: UserWarning: 'early_stopping_rounds' argument is deprecated and will be removed in a future release of LightGBM. Pass 'early_stopping()' callback via 'callbacks' argument instead.\n",
      "  _log_warning(\"'early_stopping_rounds' argument is deprecated and will be removed in a future release of LightGBM. \"\n",
      "C:\\Python39\\lib\\site-packages\\lightgbm\\engine.py:239: UserWarning: 'verbose_eval' argument is deprecated and will be removed in a future release of LightGBM. Pass 'log_evaluation()' callback via 'callbacks' argument instead.\n",
      "  _log_warning(\"'verbose_eval' argument is deprecated and will be removed in a future release of LightGBM. \"\n"
     ]
    },
    {
     "name": "stdout",
     "output_type": "stream",
     "text": [
      "Training until validation scores don't improve for 100 rounds\n",
      "[50]\tvalid_0's auc: 0.8908\n",
      "[100]\tvalid_0's auc: 0.895895\n",
      "[150]\tvalid_0's auc: 0.898898\n",
      "[200]\tvalid_0's auc: 0.90104\n",
      "[250]\tvalid_0's auc: 0.902471\n",
      "[300]\tvalid_0's auc: 0.903524\n",
      "[350]\tvalid_0's auc: 0.9041\n",
      "[400]\tvalid_0's auc: 0.904638\n",
      "[450]\tvalid_0's auc: 0.90505\n",
      "[500]\tvalid_0's auc: 0.905415\n",
      "[550]\tvalid_0's auc: 0.905785\n",
      "[600]\tvalid_0's auc: 0.905973\n",
      "[650]\tvalid_0's auc: 0.906233\n",
      "[700]\tvalid_0's auc: 0.906296\n",
      "[750]\tvalid_0's auc: 0.906474\n",
      "[800]\tvalid_0's auc: 0.906537\n",
      "[850]\tvalid_0's auc: 0.906572\n",
      "[900]\tvalid_0's auc: 0.906631\n",
      "[950]\tvalid_0's auc: 0.906721\n",
      "[1000]\tvalid_0's auc: 0.90675\n"
     ]
    },
    {
     "name": "stderr",
     "output_type": "stream",
     "text": [
      "regularization_factors, val_score: 0.906995:  25%|#########5                            | 5/20 [00:10<00:31,  2.12s/it]"
     ]
    },
    {
     "name": "stdout",
     "output_type": "stream",
     "text": [
      "[1050]\tvalid_0's auc: 0.906701\n",
      "Early stopping, best iteration is:\n",
      "[986]\tvalid_0's auc: 0.906758\n",
      "Training until validation scores don't improve for 100 rounds\n"
     ]
    },
    {
     "name": "stderr",
     "output_type": "stream",
     "text": [
      "C:\\Python39\\lib\\site-packages\\lightgbm\\engine.py:181: UserWarning: 'early_stopping_rounds' argument is deprecated and will be removed in a future release of LightGBM. Pass 'early_stopping()' callback via 'callbacks' argument instead.\n",
      "  _log_warning(\"'early_stopping_rounds' argument is deprecated and will be removed in a future release of LightGBM. \"\n",
      "C:\\Python39\\lib\\site-packages\\lightgbm\\engine.py:239: UserWarning: 'verbose_eval' argument is deprecated and will be removed in a future release of LightGBM. Pass 'log_evaluation()' callback via 'callbacks' argument instead.\n",
      "  _log_warning(\"'verbose_eval' argument is deprecated and will be removed in a future release of LightGBM. \"\n"
     ]
    },
    {
     "name": "stdout",
     "output_type": "stream",
     "text": [
      "[50]\tvalid_0's auc: 0.890814\n",
      "[100]\tvalid_0's auc: 0.895848\n",
      "[150]\tvalid_0's auc: 0.898873\n",
      "[200]\tvalid_0's auc: 0.90103\n",
      "[250]\tvalid_0's auc: 0.902476\n",
      "[300]\tvalid_0's auc: 0.903441\n",
      "[350]\tvalid_0's auc: 0.904074\n",
      "[400]\tvalid_0's auc: 0.904673\n",
      "[450]\tvalid_0's auc: 0.905123\n",
      "[500]\tvalid_0's auc: 0.905419\n",
      "[550]\tvalid_0's auc: 0.905825\n",
      "[600]\tvalid_0's auc: 0.906036\n",
      "[650]\tvalid_0's auc: 0.906248\n",
      "[700]\tvalid_0's auc: 0.906327\n",
      "[750]\tvalid_0's auc: 0.90645\n",
      "[800]\tvalid_0's auc: 0.906497\n",
      "[850]\tvalid_0's auc: 0.906538\n",
      "[900]\tvalid_0's auc: 0.906568\n",
      "[950]\tvalid_0's auc: 0.906623\n",
      "[1000]\tvalid_0's auc: 0.906669\n",
      "[1050]\tvalid_0's auc: 0.906727\n",
      "[1100]\tvalid_0's auc: 0.90663\n",
      "Early stopping, best iteration is:\n",
      "[1046]\tvalid_0's auc: 0.906764\n"
     ]
    },
    {
     "name": "stderr",
     "output_type": "stream",
     "text": [
      "regularization_factors, val_score: 0.906995:  30%|###########4                          | 6/20 [00:12<00:28,  2.02s/it]C:\\Python39\\lib\\site-packages\\lightgbm\\engine.py:181: UserWarning: 'early_stopping_rounds' argument is deprecated and will be removed in a future release of LightGBM. Pass 'early_stopping()' callback via 'callbacks' argument instead.\n",
      "  _log_warning(\"'early_stopping_rounds' argument is deprecated and will be removed in a future release of LightGBM. \"\n",
      "C:\\Python39\\lib\\site-packages\\lightgbm\\engine.py:239: UserWarning: 'verbose_eval' argument is deprecated and will be removed in a future release of LightGBM. Pass 'log_evaluation()' callback via 'callbacks' argument instead.\n",
      "  _log_warning(\"'verbose_eval' argument is deprecated and will be removed in a future release of LightGBM. \"\n"
     ]
    },
    {
     "name": "stdout",
     "output_type": "stream",
     "text": [
      "Training until validation scores don't improve for 100 rounds\n",
      "[50]\tvalid_0's auc: 0.8908\n",
      "[100]\tvalid_0's auc: 0.895895\n",
      "[150]\tvalid_0's auc: 0.898898\n",
      "[200]\tvalid_0's auc: 0.901041\n",
      "[250]\tvalid_0's auc: 0.902471\n",
      "[300]\tvalid_0's auc: 0.903519\n",
      "[350]\tvalid_0's auc: 0.904096\n",
      "[400]\tvalid_0's auc: 0.904641\n",
      "[450]\tvalid_0's auc: 0.905045\n",
      "[500]\tvalid_0's auc: 0.905434\n",
      "[550]\tvalid_0's auc: 0.905801\n",
      "[600]\tvalid_0's auc: 0.906026\n",
      "[650]\tvalid_0's auc: 0.906264\n",
      "[700]\tvalid_0's auc: 0.906317\n",
      "[750]\tvalid_0's auc: 0.906456\n",
      "[800]\tvalid_0's auc: 0.906534\n",
      "[850]\tvalid_0's auc: 0.90661\n",
      "[900]\tvalid_0's auc: 0.906716\n",
      "[950]\tvalid_0's auc: 0.90673\n",
      "[1000]\tvalid_0's auc: 0.906771\n",
      "[1050]\tvalid_0's auc: 0.906791\n"
     ]
    },
    {
     "name": "stderr",
     "output_type": "stream",
     "text": [
      "regularization_factors, val_score: 0.906995:  35%|#############3                        | 7/20 [00:14<00:25,  1.94s/it]"
     ]
    },
    {
     "name": "stdout",
     "output_type": "stream",
     "text": [
      "[1100]\tvalid_0's auc: 0.906714\n",
      "Early stopping, best iteration is:\n",
      "[1042]\tvalid_0's auc: 0.906813\n",
      "Training until validation scores don't improve for 100 rounds\n"
     ]
    },
    {
     "name": "stderr",
     "output_type": "stream",
     "text": [
      "C:\\Python39\\lib\\site-packages\\lightgbm\\engine.py:181: UserWarning: 'early_stopping_rounds' argument is deprecated and will be removed in a future release of LightGBM. Pass 'early_stopping()' callback via 'callbacks' argument instead.\n",
      "  _log_warning(\"'early_stopping_rounds' argument is deprecated and will be removed in a future release of LightGBM. \"\n",
      "C:\\Python39\\lib\\site-packages\\lightgbm\\engine.py:239: UserWarning: 'verbose_eval' argument is deprecated and will be removed in a future release of LightGBM. Pass 'log_evaluation()' callback via 'callbacks' argument instead.\n",
      "  _log_warning(\"'verbose_eval' argument is deprecated and will be removed in a future release of LightGBM. \"\n"
     ]
    },
    {
     "name": "stdout",
     "output_type": "stream",
     "text": [
      "[50]\tvalid_0's auc: 0.890716\n",
      "[100]\tvalid_0's auc: 0.895766\n",
      "[150]\tvalid_0's auc: 0.898786\n",
      "[200]\tvalid_0's auc: 0.900936\n",
      "[250]\tvalid_0's auc: 0.902368\n",
      "[300]\tvalid_0's auc: 0.90348\n",
      "[350]\tvalid_0's auc: 0.904206\n",
      "[400]\tvalid_0's auc: 0.904693\n",
      "[450]\tvalid_0's auc: 0.905212\n",
      "[500]\tvalid_0's auc: 0.905487\n",
      "[550]\tvalid_0's auc: 0.905949\n",
      "[600]\tvalid_0's auc: 0.906227\n",
      "[650]\tvalid_0's auc: 0.906398\n",
      "[700]\tvalid_0's auc: 0.906516\n",
      "[750]\tvalid_0's auc: 0.906575\n",
      "[800]\tvalid_0's auc: 0.906635\n",
      "[850]\tvalid_0's auc: 0.906651\n",
      "[900]\tvalid_0's auc: 0.906748\n",
      "[950]\tvalid_0's auc: 0.906809\n",
      "[1000]\tvalid_0's auc: 0.906833\n",
      "[1050]\tvalid_0's auc: 0.906758\n",
      "Early stopping, best iteration is:\n",
      "[992]\tvalid_0's auc: 0.906844\n"
     ]
    },
    {
     "name": "stderr",
     "output_type": "stream",
     "text": [
      "regularization_factors, val_score: 0.906995:  40%|###############2                      | 8/20 [00:16<00:22,  1.87s/it]C:\\Python39\\lib\\site-packages\\lightgbm\\engine.py:181: UserWarning: 'early_stopping_rounds' argument is deprecated and will be removed in a future release of LightGBM. Pass 'early_stopping()' callback via 'callbacks' argument instead.\n",
      "  _log_warning(\"'early_stopping_rounds' argument is deprecated and will be removed in a future release of LightGBM. \"\n",
      "C:\\Python39\\lib\\site-packages\\lightgbm\\engine.py:239: UserWarning: 'verbose_eval' argument is deprecated and will be removed in a future release of LightGBM. Pass 'log_evaluation()' callback via 'callbacks' argument instead.\n",
      "  _log_warning(\"'verbose_eval' argument is deprecated and will be removed in a future release of LightGBM. \"\n"
     ]
    },
    {
     "name": "stdout",
     "output_type": "stream",
     "text": [
      "Training until validation scores don't improve for 100 rounds\n",
      "[50]\tvalid_0's auc: 0.8908\n",
      "[100]\tvalid_0's auc: 0.895895\n",
      "[150]\tvalid_0's auc: 0.898898\n",
      "[200]\tvalid_0's auc: 0.901041\n",
      "[250]\tvalid_0's auc: 0.902471\n",
      "[300]\tvalid_0's auc: 0.903519\n",
      "[350]\tvalid_0's auc: 0.904096\n",
      "[400]\tvalid_0's auc: 0.904641\n",
      "[450]\tvalid_0's auc: 0.905045\n",
      "[500]\tvalid_0's auc: 0.905434\n",
      "[550]\tvalid_0's auc: 0.905801\n",
      "[600]\tvalid_0's auc: 0.906026\n",
      "[650]\tvalid_0's auc: 0.906268\n",
      "[700]\tvalid_0's auc: 0.906302\n",
      "[750]\tvalid_0's auc: 0.906426\n",
      "[800]\tvalid_0's auc: 0.906472\n",
      "[850]\tvalid_0's auc: 0.906603\n",
      "[900]\tvalid_0's auc: 0.906691\n",
      "[950]\tvalid_0's auc: 0.906676\n",
      "[1000]\tvalid_0's auc: 0.906703\n",
      "[1050]\tvalid_0's auc: 0.906814\n",
      "[1100]\tvalid_0's auc: 0.906764\n"
     ]
    },
    {
     "name": "stderr",
     "output_type": "stream",
     "text": [
      "regularization_factors, val_score: 0.906995:  45%|#################1                    | 9/20 [00:17<00:20,  1.84s/it]"
     ]
    },
    {
     "name": "stdout",
     "output_type": "stream",
     "text": [
      "Early stopping, best iteration is:\n",
      "[1042]\tvalid_0's auc: 0.906861\n",
      "Training until validation scores don't improve for 100 rounds\n"
     ]
    },
    {
     "name": "stderr",
     "output_type": "stream",
     "text": [
      "C:\\Python39\\lib\\site-packages\\lightgbm\\engine.py:181: UserWarning: 'early_stopping_rounds' argument is deprecated and will be removed in a future release of LightGBM. Pass 'early_stopping()' callback via 'callbacks' argument instead.\n",
      "  _log_warning(\"'early_stopping_rounds' argument is deprecated and will be removed in a future release of LightGBM. \"\n",
      "C:\\Python39\\lib\\site-packages\\lightgbm\\engine.py:239: UserWarning: 'verbose_eval' argument is deprecated and will be removed in a future release of LightGBM. Pass 'log_evaluation()' callback via 'callbacks' argument instead.\n",
      "  _log_warning(\"'verbose_eval' argument is deprecated and will be removed in a future release of LightGBM. \"\n"
     ]
    },
    {
     "name": "stdout",
     "output_type": "stream",
     "text": [
      "[50]\tvalid_0's auc: 0.8908\n",
      "[100]\tvalid_0's auc: 0.895893\n",
      "[150]\tvalid_0's auc: 0.898899\n",
      "[200]\tvalid_0's auc: 0.901001\n",
      "[250]\tvalid_0's auc: 0.902508\n",
      "[300]\tvalid_0's auc: 0.9035\n",
      "[350]\tvalid_0's auc: 0.90412\n",
      "[400]\tvalid_0's auc: 0.904717\n",
      "[450]\tvalid_0's auc: 0.905111\n",
      "[500]\tvalid_0's auc: 0.905494\n",
      "[550]\tvalid_0's auc: 0.905844\n",
      "[600]\tvalid_0's auc: 0.906001\n",
      "[650]\tvalid_0's auc: 0.906231\n",
      "[700]\tvalid_0's auc: 0.906352\n",
      "[750]\tvalid_0's auc: 0.906484\n",
      "[800]\tvalid_0's auc: 0.906572\n",
      "[850]\tvalid_0's auc: 0.906593\n",
      "[900]\tvalid_0's auc: 0.906692\n",
      "[950]\tvalid_0's auc: 0.906735\n",
      "[1000]\tvalid_0's auc: 0.906723\n"
     ]
    },
    {
     "name": "stderr",
     "output_type": "stream",
     "text": [
      "regularization_factors, val_score: 0.906995:  50%|##################5                  | 10/20 [00:19<00:18,  1.83s/it]"
     ]
    },
    {
     "name": "stdout",
     "output_type": "stream",
     "text": [
      "[1050]\tvalid_0's auc: 0.906722\n",
      "Early stopping, best iteration is:\n",
      "[957]\tvalid_0's auc: 0.90676\n",
      "Training until validation scores don't improve for 100 rounds\n"
     ]
    },
    {
     "name": "stderr",
     "output_type": "stream",
     "text": [
      "C:\\Python39\\lib\\site-packages\\lightgbm\\engine.py:181: UserWarning: 'early_stopping_rounds' argument is deprecated and will be removed in a future release of LightGBM. Pass 'early_stopping()' callback via 'callbacks' argument instead.\n",
      "  _log_warning(\"'early_stopping_rounds' argument is deprecated and will be removed in a future release of LightGBM. \"\n",
      "C:\\Python39\\lib\\site-packages\\lightgbm\\engine.py:239: UserWarning: 'verbose_eval' argument is deprecated and will be removed in a future release of LightGBM. Pass 'log_evaluation()' callback via 'callbacks' argument instead.\n",
      "  _log_warning(\"'verbose_eval' argument is deprecated and will be removed in a future release of LightGBM. \"\n"
     ]
    },
    {
     "name": "stdout",
     "output_type": "stream",
     "text": [
      "[50]\tvalid_0's auc: 0.8908\n",
      "[100]\tvalid_0's auc: 0.895893\n",
      "[150]\tvalid_0's auc: 0.898899\n",
      "[200]\tvalid_0's auc: 0.901001\n",
      "[250]\tvalid_0's auc: 0.902493\n",
      "[300]\tvalid_0's auc: 0.903501\n",
      "[350]\tvalid_0's auc: 0.904157\n",
      "[400]\tvalid_0's auc: 0.904712\n",
      "[450]\tvalid_0's auc: 0.905148\n",
      "[500]\tvalid_0's auc: 0.905507\n",
      "[550]\tvalid_0's auc: 0.905928\n",
      "[600]\tvalid_0's auc: 0.906097\n",
      "[650]\tvalid_0's auc: 0.906277\n",
      "[700]\tvalid_0's auc: 0.90644\n",
      "[750]\tvalid_0's auc: 0.906586\n",
      "[800]\tvalid_0's auc: 0.906667\n",
      "[850]\tvalid_0's auc: 0.906711\n",
      "[900]\tvalid_0's auc: 0.906786\n",
      "[950]\tvalid_0's auc: 0.906814\n",
      "[1000]\tvalid_0's auc: 0.906873\n",
      "[1050]\tvalid_0's auc: 0.906913\n",
      "[1100]\tvalid_0's auc: 0.906922\n"
     ]
    },
    {
     "name": "stderr",
     "output_type": "stream",
     "text": [
      "regularization_factors, val_score: 0.906995:  55%|####################3                | 11/20 [00:21<00:16,  1.88s/it]"
     ]
    },
    {
     "name": "stdout",
     "output_type": "stream",
     "text": [
      "[1150]\tvalid_0's auc: 0.906876\n",
      "Early stopping, best iteration is:\n",
      "[1068]\tvalid_0's auc: 0.906953\n",
      "Training until validation scores don't improve for 100 rounds\n"
     ]
    },
    {
     "name": "stderr",
     "output_type": "stream",
     "text": [
      "C:\\Python39\\lib\\site-packages\\lightgbm\\engine.py:181: UserWarning: 'early_stopping_rounds' argument is deprecated and will be removed in a future release of LightGBM. Pass 'early_stopping()' callback via 'callbacks' argument instead.\n",
      "  _log_warning(\"'early_stopping_rounds' argument is deprecated and will be removed in a future release of LightGBM. \"\n",
      "C:\\Python39\\lib\\site-packages\\lightgbm\\engine.py:239: UserWarning: 'verbose_eval' argument is deprecated and will be removed in a future release of LightGBM. Pass 'log_evaluation()' callback via 'callbacks' argument instead.\n",
      "  _log_warning(\"'verbose_eval' argument is deprecated and will be removed in a future release of LightGBM. \"\n"
     ]
    },
    {
     "name": "stdout",
     "output_type": "stream",
     "text": [
      "[50]\tvalid_0's auc: 0.8908\n",
      "[100]\tvalid_0's auc: 0.895895\n",
      "[150]\tvalid_0's auc: 0.898899\n",
      "[200]\tvalid_0's auc: 0.901002\n",
      "[250]\tvalid_0's auc: 0.902493\n",
      "[300]\tvalid_0's auc: 0.903501\n",
      "[350]\tvalid_0's auc: 0.904165\n",
      "[400]\tvalid_0's auc: 0.90475\n",
      "[450]\tvalid_0's auc: 0.90517\n",
      "[500]\tvalid_0's auc: 0.905491\n",
      "[550]\tvalid_0's auc: 0.905889\n",
      "[600]\tvalid_0's auc: 0.906016\n",
      "[650]\tvalid_0's auc: 0.906221\n",
      "[700]\tvalid_0's auc: 0.906349\n",
      "[750]\tvalid_0's auc: 0.906456\n",
      "[800]\tvalid_0's auc: 0.906486\n",
      "[850]\tvalid_0's auc: 0.90655\n",
      "[900]\tvalid_0's auc: 0.906636\n",
      "[950]\tvalid_0's auc: 0.906638\n",
      "[1000]\tvalid_0's auc: 0.906685\n",
      "[1050]\tvalid_0's auc: 0.906741\n",
      "[1100]\tvalid_0's auc: 0.90667\n"
     ]
    },
    {
     "name": "stderr",
     "output_type": "stream",
     "text": [
      "regularization_factors, val_score: 0.906995:  60%|######################2              | 12/20 [00:23<00:15,  1.97s/it]"
     ]
    },
    {
     "name": "stdout",
     "output_type": "stream",
     "text": [
      "Early stopping, best iteration is:\n",
      "[1046]\tvalid_0's auc: 0.90677\n",
      "Training until validation scores don't improve for 100 rounds\n"
     ]
    },
    {
     "name": "stderr",
     "output_type": "stream",
     "text": [
      "C:\\Python39\\lib\\site-packages\\lightgbm\\engine.py:181: UserWarning: 'early_stopping_rounds' argument is deprecated and will be removed in a future release of LightGBM. Pass 'early_stopping()' callback via 'callbacks' argument instead.\n",
      "  _log_warning(\"'early_stopping_rounds' argument is deprecated and will be removed in a future release of LightGBM. \"\n",
      "C:\\Python39\\lib\\site-packages\\lightgbm\\engine.py:239: UserWarning: 'verbose_eval' argument is deprecated and will be removed in a future release of LightGBM. Pass 'log_evaluation()' callback via 'callbacks' argument instead.\n",
      "  _log_warning(\"'verbose_eval' argument is deprecated and will be removed in a future release of LightGBM. \"\n"
     ]
    },
    {
     "name": "stdout",
     "output_type": "stream",
     "text": [
      "[50]\tvalid_0's auc: 0.889761\n",
      "[100]\tvalid_0's auc: 0.895191\n",
      "[150]\tvalid_0's auc: 0.898029\n",
      "[200]\tvalid_0's auc: 0.899944\n",
      "[250]\tvalid_0's auc: 0.901425\n",
      "[300]\tvalid_0's auc: 0.902663\n",
      "[350]\tvalid_0's auc: 0.903439\n",
      "[400]\tvalid_0's auc: 0.904002\n",
      "[450]\tvalid_0's auc: 0.904495\n",
      "[500]\tvalid_0's auc: 0.904846\n",
      "[550]\tvalid_0's auc: 0.905191\n",
      "[600]\tvalid_0's auc: 0.905379\n",
      "[650]\tvalid_0's auc: 0.905578\n",
      "[700]\tvalid_0's auc: 0.90568\n",
      "[750]\tvalid_0's auc: 0.905791\n",
      "[800]\tvalid_0's auc: 0.90586\n",
      "[850]\tvalid_0's auc: 0.905849\n",
      "[900]\tvalid_0's auc: 0.905992\n",
      "[950]\tvalid_0's auc: 0.905996\n",
      "[1000]\tvalid_0's auc: 0.906051\n",
      "[1050]\tvalid_0's auc: 0.905996\n"
     ]
    },
    {
     "name": "stderr",
     "output_type": "stream",
     "text": [
      "regularization_factors, val_score: 0.906995:  65%|########################             | 13/20 [00:25<00:13,  1.98s/it]"
     ]
    },
    {
     "name": "stdout",
     "output_type": "stream",
     "text": [
      "Early stopping, best iteration is:\n",
      "[989]\tvalid_0's auc: 0.906077\n",
      "Training until validation scores don't improve for 100 rounds\n"
     ]
    },
    {
     "name": "stderr",
     "output_type": "stream",
     "text": [
      "C:\\Python39\\lib\\site-packages\\lightgbm\\engine.py:181: UserWarning: 'early_stopping_rounds' argument is deprecated and will be removed in a future release of LightGBM. Pass 'early_stopping()' callback via 'callbacks' argument instead.\n",
      "  _log_warning(\"'early_stopping_rounds' argument is deprecated and will be removed in a future release of LightGBM. \"\n",
      "C:\\Python39\\lib\\site-packages\\lightgbm\\engine.py:239: UserWarning: 'verbose_eval' argument is deprecated and will be removed in a future release of LightGBM. Pass 'log_evaluation()' callback via 'callbacks' argument instead.\n",
      "  _log_warning(\"'verbose_eval' argument is deprecated and will be removed in a future release of LightGBM. \"\n"
     ]
    },
    {
     "name": "stdout",
     "output_type": "stream",
     "text": [
      "[50]\tvalid_0's auc: 0.8908\n",
      "[100]\tvalid_0's auc: 0.895895\n",
      "[150]\tvalid_0's auc: 0.898899\n",
      "[200]\tvalid_0's auc: 0.901001\n",
      "[250]\tvalid_0's auc: 0.902493\n",
      "[300]\tvalid_0's auc: 0.903502\n",
      "[350]\tvalid_0's auc: 0.904178\n",
      "[400]\tvalid_0's auc: 0.904772\n",
      "[450]\tvalid_0's auc: 0.905208\n",
      "[500]\tvalid_0's auc: 0.905567\n",
      "[550]\tvalid_0's auc: 0.905923\n",
      "[600]\tvalid_0's auc: 0.906113\n",
      "[650]\tvalid_0's auc: 0.906294\n",
      "[700]\tvalid_0's auc: 0.906355\n",
      "[750]\tvalid_0's auc: 0.906405\n",
      "[800]\tvalid_0's auc: 0.906401\n",
      "[850]\tvalid_0's auc: 0.906491\n",
      "[900]\tvalid_0's auc: 0.906562\n",
      "[950]\tvalid_0's auc: 0.906601\n"
     ]
    },
    {
     "name": "stderr",
     "output_type": "stream",
     "text": [
      "regularization_factors, val_score: 0.906995:  70%|#########################9           | 14/20 [00:27<00:11,  1.90s/it]"
     ]
    },
    {
     "name": "stdout",
     "output_type": "stream",
     "text": [
      "[1000]\tvalid_0's auc: 0.906585\n",
      "[1050]\tvalid_0's auc: 0.906603\n",
      "Early stopping, best iteration is:\n",
      "[958]\tvalid_0's auc: 0.90665\n"
     ]
    },
    {
     "name": "stderr",
     "output_type": "stream",
     "text": [
      "C:\\Python39\\lib\\site-packages\\lightgbm\\engine.py:181: UserWarning: 'early_stopping_rounds' argument is deprecated and will be removed in a future release of LightGBM. Pass 'early_stopping()' callback via 'callbacks' argument instead.\n",
      "  _log_warning(\"'early_stopping_rounds' argument is deprecated and will be removed in a future release of LightGBM. \"\n",
      "C:\\Python39\\lib\\site-packages\\lightgbm\\engine.py:239: UserWarning: 'verbose_eval' argument is deprecated and will be removed in a future release of LightGBM. Pass 'log_evaluation()' callback via 'callbacks' argument instead.\n",
      "  _log_warning(\"'verbose_eval' argument is deprecated and will be removed in a future release of LightGBM. \"\n"
     ]
    },
    {
     "name": "stdout",
     "output_type": "stream",
     "text": [
      "Training until validation scores don't improve for 100 rounds\n",
      "[50]\tvalid_0's auc: 0.890814\n",
      "[100]\tvalid_0's auc: 0.895838\n",
      "[150]\tvalid_0's auc: 0.898859\n",
      "[200]\tvalid_0's auc: 0.901007\n",
      "[250]\tvalid_0's auc: 0.902442\n",
      "[300]\tvalid_0's auc: 0.903423\n",
      "[350]\tvalid_0's auc: 0.904081\n",
      "[400]\tvalid_0's auc: 0.904672\n",
      "[450]\tvalid_0's auc: 0.90516\n",
      "[500]\tvalid_0's auc: 0.905456\n",
      "[550]\tvalid_0's auc: 0.905812\n",
      "[600]\tvalid_0's auc: 0.906034\n",
      "[650]\tvalid_0's auc: 0.906259\n",
      "[700]\tvalid_0's auc: 0.906357\n",
      "[750]\tvalid_0's auc: 0.906464\n",
      "[800]\tvalid_0's auc: 0.906468\n",
      "[850]\tvalid_0's auc: 0.906528\n",
      "[900]\tvalid_0's auc: 0.906551\n",
      "[950]\tvalid_0's auc: 0.906614\n",
      "[1000]\tvalid_0's auc: 0.906649\n",
      "[1050]\tvalid_0's auc: 0.906696\n"
     ]
    },
    {
     "name": "stderr",
     "output_type": "stream",
     "text": [
      "regularization_factors, val_score: 0.906995:  75%|###########################7         | 15/20 [00:29<00:09,  1.91s/it]"
     ]
    },
    {
     "name": "stdout",
     "output_type": "stream",
     "text": [
      "[1100]\tvalid_0's auc: 0.906591\n",
      "Early stopping, best iteration is:\n",
      "[1046]\tvalid_0's auc: 0.906711\n"
     ]
    },
    {
     "name": "stderr",
     "output_type": "stream",
     "text": [
      "C:\\Python39\\lib\\site-packages\\lightgbm\\engine.py:181: UserWarning: 'early_stopping_rounds' argument is deprecated and will be removed in a future release of LightGBM. Pass 'early_stopping()' callback via 'callbacks' argument instead.\n",
      "  _log_warning(\"'early_stopping_rounds' argument is deprecated and will be removed in a future release of LightGBM. \"\n",
      "C:\\Python39\\lib\\site-packages\\lightgbm\\engine.py:239: UserWarning: 'verbose_eval' argument is deprecated and will be removed in a future release of LightGBM. Pass 'log_evaluation()' callback via 'callbacks' argument instead.\n",
      "  _log_warning(\"'verbose_eval' argument is deprecated and will be removed in a future release of LightGBM. \"\n"
     ]
    },
    {
     "name": "stdout",
     "output_type": "stream",
     "text": [
      "Training until validation scores don't improve for 100 rounds\n",
      "[50]\tvalid_0's auc: 0.8908\n",
      "[100]\tvalid_0's auc: 0.895893\n",
      "[150]\tvalid_0's auc: 0.898898\n",
      "[200]\tvalid_0's auc: 0.901001\n",
      "[250]\tvalid_0's auc: 0.902508\n",
      "[300]\tvalid_0's auc: 0.903499\n",
      "[350]\tvalid_0's auc: 0.904106\n",
      "[400]\tvalid_0's auc: 0.904712\n",
      "[450]\tvalid_0's auc: 0.905166\n",
      "[500]\tvalid_0's auc: 0.905485\n",
      "[550]\tvalid_0's auc: 0.905862\n",
      "[600]\tvalid_0's auc: 0.906011\n",
      "[650]\tvalid_0's auc: 0.90626\n",
      "[700]\tvalid_0's auc: 0.906299\n",
      "[750]\tvalid_0's auc: 0.906383\n",
      "[800]\tvalid_0's auc: 0.906514\n",
      "[850]\tvalid_0's auc: 0.906559\n",
      "[900]\tvalid_0's auc: 0.906575\n",
      "[950]\tvalid_0's auc: 0.906659\n",
      "[1000]\tvalid_0's auc: 0.906637\n",
      "[1050]\tvalid_0's auc: 0.906642\n"
     ]
    },
    {
     "name": "stderr",
     "output_type": "stream",
     "text": [
      "regularization_factors, val_score: 0.906995:  80%|#############################6       | 16/20 [00:31<00:07,  1.96s/it]"
     ]
    },
    {
     "name": "stdout",
     "output_type": "stream",
     "text": [
      "[1100]\tvalid_0's auc: 0.906626\n",
      "[1150]\tvalid_0's auc: 0.906628\n",
      "Early stopping, best iteration is:\n",
      "[1066]\tvalid_0's auc: 0.906682\n"
     ]
    },
    {
     "name": "stderr",
     "output_type": "stream",
     "text": [
      "C:\\Python39\\lib\\site-packages\\lightgbm\\engine.py:181: UserWarning: 'early_stopping_rounds' argument is deprecated and will be removed in a future release of LightGBM. Pass 'early_stopping()' callback via 'callbacks' argument instead.\n",
      "  _log_warning(\"'early_stopping_rounds' argument is deprecated and will be removed in a future release of LightGBM. \"\n",
      "C:\\Python39\\lib\\site-packages\\lightgbm\\engine.py:239: UserWarning: 'verbose_eval' argument is deprecated and will be removed in a future release of LightGBM. Pass 'log_evaluation()' callback via 'callbacks' argument instead.\n",
      "  _log_warning(\"'verbose_eval' argument is deprecated and will be removed in a future release of LightGBM. \"\n"
     ]
    },
    {
     "name": "stdout",
     "output_type": "stream",
     "text": [
      "Training until validation scores don't improve for 100 rounds\n",
      "[50]\tvalid_0's auc: 0.8908\n",
      "[100]\tvalid_0's auc: 0.895895\n",
      "[150]\tvalid_0's auc: 0.898898\n",
      "[200]\tvalid_0's auc: 0.901041\n",
      "[250]\tvalid_0's auc: 0.902471\n",
      "[300]\tvalid_0's auc: 0.903519\n",
      "[350]\tvalid_0's auc: 0.904096\n",
      "[400]\tvalid_0's auc: 0.904641\n",
      "[450]\tvalid_0's auc: 0.905045\n",
      "[500]\tvalid_0's auc: 0.905434\n",
      "[550]\tvalid_0's auc: 0.905801\n",
      "[600]\tvalid_0's auc: 0.906026\n",
      "[650]\tvalid_0's auc: 0.906268\n",
      "[700]\tvalid_0's auc: 0.906302\n",
      "[750]\tvalid_0's auc: 0.906426\n",
      "[800]\tvalid_0's auc: 0.906474\n",
      "[850]\tvalid_0's auc: 0.906603\n",
      "[900]\tvalid_0's auc: 0.906686\n"
     ]
    },
    {
     "name": "stderr",
     "output_type": "stream",
     "text": [
      "regularization_factors, val_score: 0.906995:  85%|###############################4     | 17/20 [00:33<00:05,  1.90s/it]"
     ]
    },
    {
     "name": "stdout",
     "output_type": "stream",
     "text": [
      "[950]\tvalid_0's auc: 0.906684\n",
      "[1000]\tvalid_0's auc: 0.906685\n",
      "Early stopping, best iteration is:\n",
      "[940]\tvalid_0's auc: 0.906746\n"
     ]
    },
    {
     "name": "stderr",
     "output_type": "stream",
     "text": [
      "regularization_factors, val_score: 0.906995:  85%|###############################4     | 17/20 [00:33<00:05,  1.90s/it]C:\\Python39\\lib\\site-packages\\lightgbm\\engine.py:181: UserWarning: 'early_stopping_rounds' argument is deprecated and will be removed in a future release of LightGBM. Pass 'early_stopping()' callback via 'callbacks' argument instead.\n",
      "  _log_warning(\"'early_stopping_rounds' argument is deprecated and will be removed in a future release of LightGBM. \"\n",
      "C:\\Python39\\lib\\site-packages\\lightgbm\\engine.py:239: UserWarning: 'verbose_eval' argument is deprecated and will be removed in a future release of LightGBM. Pass 'log_evaluation()' callback via 'callbacks' argument instead.\n",
      "  _log_warning(\"'verbose_eval' argument is deprecated and will be removed in a future release of LightGBM. \"\n"
     ]
    },
    {
     "name": "stdout",
     "output_type": "stream",
     "text": [
      "Training until validation scores don't improve for 100 rounds\n",
      "[50]\tvalid_0's auc: 0.8908\n",
      "[100]\tvalid_0's auc: 0.895894\n",
      "[150]\tvalid_0's auc: 0.898899\n",
      "[200]\tvalid_0's auc: 0.901001\n",
      "[250]\tvalid_0's auc: 0.902492\n",
      "[300]\tvalid_0's auc: 0.903503\n",
      "[350]\tvalid_0's auc: 0.904178\n",
      "[400]\tvalid_0's auc: 0.904744\n",
      "[450]\tvalid_0's auc: 0.905194\n",
      "[500]\tvalid_0's auc: 0.905564\n",
      "[550]\tvalid_0's auc: 0.905837\n",
      "[600]\tvalid_0's auc: 0.906068\n",
      "[650]\tvalid_0's auc: 0.906297\n",
      "[700]\tvalid_0's auc: 0.906357\n",
      "[750]\tvalid_0's auc: 0.906426\n"
     ]
    },
    {
     "name": "stderr",
     "output_type": "stream",
     "text": [
      "regularization_factors, val_score: 0.906995:  90%|#################################3   | 18/20 [00:34<00:03,  1.76s/it]"
     ]
    },
    {
     "name": "stdout",
     "output_type": "stream",
     "text": [
      "[800]\tvalid_0's auc: 0.906495\n",
      "[850]\tvalid_0's auc: 0.906494\n",
      "Early stopping, best iteration is:\n",
      "[779]\tvalid_0's auc: 0.906524\n"
     ]
    },
    {
     "name": "stderr",
     "output_type": "stream",
     "text": [
      "C:\\Python39\\lib\\site-packages\\lightgbm\\engine.py:181: UserWarning: 'early_stopping_rounds' argument is deprecated and will be removed in a future release of LightGBM. Pass 'early_stopping()' callback via 'callbacks' argument instead.\n",
      "  _log_warning(\"'early_stopping_rounds' argument is deprecated and will be removed in a future release of LightGBM. \"\n",
      "C:\\Python39\\lib\\site-packages\\lightgbm\\engine.py:239: UserWarning: 'verbose_eval' argument is deprecated and will be removed in a future release of LightGBM. Pass 'log_evaluation()' callback via 'callbacks' argument instead.\n",
      "  _log_warning(\"'verbose_eval' argument is deprecated and will be removed in a future release of LightGBM. \"\n"
     ]
    },
    {
     "name": "stdout",
     "output_type": "stream",
     "text": [
      "Training until validation scores don't improve for 100 rounds\n",
      "[50]\tvalid_0's auc: 0.890814\n",
      "[100]\tvalid_0's auc: 0.895838\n",
      "[150]\tvalid_0's auc: 0.898858\n",
      "[200]\tvalid_0's auc: 0.901025\n",
      "[250]\tvalid_0's auc: 0.902437\n",
      "[300]\tvalid_0's auc: 0.903447\n",
      "[350]\tvalid_0's auc: 0.904075\n",
      "[400]\tvalid_0's auc: 0.904675\n",
      "[450]\tvalid_0's auc: 0.905151\n",
      "[500]\tvalid_0's auc: 0.905493\n",
      "[550]\tvalid_0's auc: 0.905944\n",
      "[600]\tvalid_0's auc: 0.906097\n",
      "[650]\tvalid_0's auc: 0.906405\n",
      "[700]\tvalid_0's auc: 0.906514\n",
      "[750]\tvalid_0's auc: 0.906608\n",
      "[800]\tvalid_0's auc: 0.906708\n",
      "[850]\tvalid_0's auc: 0.90674\n",
      "[900]\tvalid_0's auc: 0.906783\n"
     ]
    },
    {
     "name": "stderr",
     "output_type": "stream",
     "text": [
      "regularization_factors, val_score: 0.906995:  95%|###################################1 | 19/20 [00:36<00:01,  1.72s/it]"
     ]
    },
    {
     "name": "stdout",
     "output_type": "stream",
     "text": [
      "[950]\tvalid_0's auc: 0.906838\n",
      "[1000]\tvalid_0's auc: 0.906838\n",
      "Early stopping, best iteration is:\n",
      "[940]\tvalid_0's auc: 0.906863\n"
     ]
    },
    {
     "name": "stderr",
     "output_type": "stream",
     "text": [
      "C:\\Python39\\lib\\site-packages\\lightgbm\\engine.py:181: UserWarning: 'early_stopping_rounds' argument is deprecated and will be removed in a future release of LightGBM. Pass 'early_stopping()' callback via 'callbacks' argument instead.\n",
      "  _log_warning(\"'early_stopping_rounds' argument is deprecated and will be removed in a future release of LightGBM. \"\n",
      "C:\\Python39\\lib\\site-packages\\lightgbm\\engine.py:239: UserWarning: 'verbose_eval' argument is deprecated and will be removed in a future release of LightGBM. Pass 'log_evaluation()' callback via 'callbacks' argument instead.\n",
      "  _log_warning(\"'verbose_eval' argument is deprecated and will be removed in a future release of LightGBM. \"\n"
     ]
    },
    {
     "name": "stdout",
     "output_type": "stream",
     "text": [
      "Training until validation scores don't improve for 100 rounds\n",
      "[50]\tvalid_0's auc: 0.89084\n",
      "[100]\tvalid_0's auc: 0.895868\n",
      "[150]\tvalid_0's auc: 0.898883\n",
      "[200]\tvalid_0's auc: 0.900871\n",
      "[250]\tvalid_0's auc: 0.90244\n",
      "[300]\tvalid_0's auc: 0.903513\n",
      "[350]\tvalid_0's auc: 0.90412\n",
      "[400]\tvalid_0's auc: 0.904671\n",
      "[450]\tvalid_0's auc: 0.905186\n",
      "[500]\tvalid_0's auc: 0.90554\n",
      "[550]\tvalid_0's auc: 0.905894\n",
      "[600]\tvalid_0's auc: 0.906105\n",
      "[650]\tvalid_0's auc: 0.906273\n",
      "[700]\tvalid_0's auc: 0.906391\n",
      "[750]\tvalid_0's auc: 0.906496\n",
      "[800]\tvalid_0's auc: 0.906569\n",
      "[850]\tvalid_0's auc: 0.906611\n",
      "[900]\tvalid_0's auc: 0.906698\n",
      "[950]\tvalid_0's auc: 0.906784\n",
      "[1000]\tvalid_0's auc: 0.90683\n",
      "[1050]\tvalid_0's auc: 0.906884\n",
      "[1100]\tvalid_0's auc: 0.906804\n"
     ]
    },
    {
     "name": "stderr",
     "output_type": "stream",
     "text": [
      "regularization_factors, val_score: 0.906995: 100%|#####################################| 20/20 [00:38<00:00,  1.91s/it]\n"
     ]
    },
    {
     "name": "stdout",
     "output_type": "stream",
     "text": [
      "Early stopping, best iteration is:\n",
      "[1042]\tvalid_0's auc: 0.906921\n"
     ]
    },
    {
     "name": "stderr",
     "output_type": "stream",
     "text": [
      "min_data_in_leaf, val_score: 0.906995:   0%|                                                     | 0/5 [00:00<?, ?it/s]"
     ]
    },
    {
     "name": "stdout",
     "output_type": "stream",
     "text": [
      "Training until validation scores don't improve for 100 rounds\n"
     ]
    },
    {
     "name": "stderr",
     "output_type": "stream",
     "text": [
      "C:\\Python39\\lib\\site-packages\\lightgbm\\engine.py:181: UserWarning: 'early_stopping_rounds' argument is deprecated and will be removed in a future release of LightGBM. Pass 'early_stopping()' callback via 'callbacks' argument instead.\n",
      "  _log_warning(\"'early_stopping_rounds' argument is deprecated and will be removed in a future release of LightGBM. \"\n",
      "C:\\Python39\\lib\\site-packages\\lightgbm\\engine.py:239: UserWarning: 'verbose_eval' argument is deprecated and will be removed in a future release of LightGBM. Pass 'log_evaluation()' callback via 'callbacks' argument instead.\n",
      "  _log_warning(\"'verbose_eval' argument is deprecated and will be removed in a future release of LightGBM. \"\n"
     ]
    },
    {
     "name": "stdout",
     "output_type": "stream",
     "text": [
      "[50]\tvalid_0's auc: 0.890797\n",
      "[100]\tvalid_0's auc: 0.895829\n",
      "[150]\tvalid_0's auc: 0.898781\n",
      "[200]\tvalid_0's auc: 0.900895\n",
      "[250]\tvalid_0's auc: 0.902245\n",
      "[300]\tvalid_0's auc: 0.903382\n",
      "[350]\tvalid_0's auc: 0.904117\n",
      "[400]\tvalid_0's auc: 0.904546\n",
      "[450]\tvalid_0's auc: 0.905158\n",
      "[500]\tvalid_0's auc: 0.905451\n",
      "[550]\tvalid_0's auc: 0.905794\n",
      "[600]\tvalid_0's auc: 0.906108\n",
      "[650]\tvalid_0's auc: 0.906311\n",
      "[700]\tvalid_0's auc: 0.906519\n",
      "[750]\tvalid_0's auc: 0.90669\n",
      "[800]\tvalid_0's auc: 0.906963\n",
      "[850]\tvalid_0's auc: 0.907164\n",
      "[900]\tvalid_0's auc: 0.907253\n",
      "[950]\tvalid_0's auc: 0.907472\n",
      "[1000]\tvalid_0's auc: 0.907557\n",
      "[1050]\tvalid_0's auc: 0.907482\n"
     ]
    },
    {
     "name": "stderr",
     "output_type": "stream",
     "text": [
      "min_data_in_leaf, val_score: 0.907572:  20%|#########                                    | 1/5 [00:01<00:07,  1.95s/it]"
     ]
    },
    {
     "name": "stdout",
     "output_type": "stream",
     "text": [
      "Early stopping, best iteration is:\n",
      "[985]\tvalid_0's auc: 0.907572\n",
      "Training until validation scores don't improve for 100 rounds\n"
     ]
    },
    {
     "name": "stderr",
     "output_type": "stream",
     "text": [
      "C:\\Python39\\lib\\site-packages\\lightgbm\\engine.py:181: UserWarning: 'early_stopping_rounds' argument is deprecated and will be removed in a future release of LightGBM. Pass 'early_stopping()' callback via 'callbacks' argument instead.\n",
      "  _log_warning(\"'early_stopping_rounds' argument is deprecated and will be removed in a future release of LightGBM. \"\n",
      "C:\\Python39\\lib\\site-packages\\lightgbm\\engine.py:239: UserWarning: 'verbose_eval' argument is deprecated and will be removed in a future release of LightGBM. Pass 'log_evaluation()' callback via 'callbacks' argument instead.\n",
      "  _log_warning(\"'verbose_eval' argument is deprecated and will be removed in a future release of LightGBM. \"\n"
     ]
    },
    {
     "name": "stdout",
     "output_type": "stream",
     "text": [
      "[50]\tvalid_0's auc: 0.890797\n",
      "[100]\tvalid_0's auc: 0.895819\n",
      "[150]\tvalid_0's auc: 0.898849\n",
      "[200]\tvalid_0's auc: 0.9009\n",
      "[250]\tvalid_0's auc: 0.902449\n",
      "[300]\tvalid_0's auc: 0.90358\n",
      "[350]\tvalid_0's auc: 0.904216\n",
      "[400]\tvalid_0's auc: 0.904793\n",
      "[450]\tvalid_0's auc: 0.905222\n",
      "[500]\tvalid_0's auc: 0.905584\n",
      "[550]\tvalid_0's auc: 0.905898\n",
      "[600]\tvalid_0's auc: 0.906159\n",
      "[650]\tvalid_0's auc: 0.906405\n",
      "[700]\tvalid_0's auc: 0.906686\n",
      "[750]\tvalid_0's auc: 0.906915\n",
      "[800]\tvalid_0's auc: 0.907133\n",
      "[850]\tvalid_0's auc: 0.907182\n",
      "[900]\tvalid_0's auc: 0.907349\n",
      "[950]\tvalid_0's auc: 0.907451\n",
      "[1000]\tvalid_0's auc: 0.907465\n",
      "[1050]\tvalid_0's auc: 0.907509\n",
      "[1100]\tvalid_0's auc: 0.907574\n",
      "[1150]\tvalid_0's auc: 0.907537\n",
      "Early stopping, best iteration is:\n",
      "[1079]\tvalid_0's auc: 0.907594\n"
     ]
    },
    {
     "name": "stderr",
     "output_type": "stream",
     "text": [
      "min_data_in_leaf, val_score: 0.907594:  40%|##################                           | 2/5 [00:03<00:05,  1.99s/it]"
     ]
    },
    {
     "name": "stdout",
     "output_type": "stream",
     "text": [
      "Training until validation scores don't improve for 100 rounds\n"
     ]
    },
    {
     "name": "stderr",
     "output_type": "stream",
     "text": [
      "C:\\Python39\\lib\\site-packages\\lightgbm\\engine.py:181: UserWarning: 'early_stopping_rounds' argument is deprecated and will be removed in a future release of LightGBM. Pass 'early_stopping()' callback via 'callbacks' argument instead.\n",
      "  _log_warning(\"'early_stopping_rounds' argument is deprecated and will be removed in a future release of LightGBM. \"\n",
      "C:\\Python39\\lib\\site-packages\\lightgbm\\engine.py:239: UserWarning: 'verbose_eval' argument is deprecated and will be removed in a future release of LightGBM. Pass 'log_evaluation()' callback via 'callbacks' argument instead.\n",
      "  _log_warning(\"'verbose_eval' argument is deprecated and will be removed in a future release of LightGBM. \"\n"
     ]
    },
    {
     "name": "stdout",
     "output_type": "stream",
     "text": [
      "[50]\tvalid_0's auc: 0.891042\n",
      "[100]\tvalid_0's auc: 0.896224\n",
      "[150]\tvalid_0's auc: 0.899145\n",
      "[200]\tvalid_0's auc: 0.901052\n",
      "[250]\tvalid_0's auc: 0.902572\n",
      "[300]\tvalid_0's auc: 0.903723\n",
      "[350]\tvalid_0's auc: 0.904308\n",
      "[400]\tvalid_0's auc: 0.904858\n",
      "[450]\tvalid_0's auc: 0.905215\n",
      "[500]\tvalid_0's auc: 0.905491\n",
      "[550]\tvalid_0's auc: 0.905954\n",
      "[600]\tvalid_0's auc: 0.906141\n",
      "[650]\tvalid_0's auc: 0.906338\n",
      "[700]\tvalid_0's auc: 0.906337\n",
      "[750]\tvalid_0's auc: 0.906435\n",
      "[800]\tvalid_0's auc: 0.906379\n",
      "[850]\tvalid_0's auc: 0.906391\n",
      "Early stopping, best iteration is:\n",
      "[752]\tvalid_0's auc: 0.906439\n"
     ]
    },
    {
     "name": "stderr",
     "output_type": "stream",
     "text": [
      "min_data_in_leaf, val_score: 0.907594:  60%|###########################                  | 3/5 [00:05<00:03,  1.80s/it]"
     ]
    },
    {
     "name": "stdout",
     "output_type": "stream",
     "text": [
      "Training until validation scores don't improve for 100 rounds\n"
     ]
    },
    {
     "name": "stderr",
     "output_type": "stream",
     "text": [
      "C:\\Python39\\lib\\site-packages\\lightgbm\\engine.py:181: UserWarning: 'early_stopping_rounds' argument is deprecated and will be removed in a future release of LightGBM. Pass 'early_stopping()' callback via 'callbacks' argument instead.\n",
      "  _log_warning(\"'early_stopping_rounds' argument is deprecated and will be removed in a future release of LightGBM. \"\n",
      "C:\\Python39\\lib\\site-packages\\lightgbm\\engine.py:239: UserWarning: 'verbose_eval' argument is deprecated and will be removed in a future release of LightGBM. Pass 'log_evaluation()' callback via 'callbacks' argument instead.\n",
      "  _log_warning(\"'verbose_eval' argument is deprecated and will be removed in a future release of LightGBM. \"\n"
     ]
    },
    {
     "name": "stdout",
     "output_type": "stream",
     "text": [
      "[50]\tvalid_0's auc: 0.89078\n",
      "[100]\tvalid_0's auc: 0.895926\n",
      "[150]\tvalid_0's auc: 0.899004\n",
      "[200]\tvalid_0's auc: 0.901058\n",
      "[250]\tvalid_0's auc: 0.902471\n",
      "[300]\tvalid_0's auc: 0.903522\n",
      "[350]\tvalid_0's auc: 0.90414\n",
      "[400]\tvalid_0's auc: 0.904685\n",
      "[450]\tvalid_0's auc: 0.905183\n",
      "[500]\tvalid_0's auc: 0.905543\n",
      "[550]\tvalid_0's auc: 0.905858\n",
      "[600]\tvalid_0's auc: 0.906129\n",
      "[650]\tvalid_0's auc: 0.906281\n",
      "[700]\tvalid_0's auc: 0.906304\n",
      "[750]\tvalid_0's auc: 0.906416\n",
      "[800]\tvalid_0's auc: 0.90633\n",
      "Early stopping, best iteration is:\n",
      "[737]\tvalid_0's auc: 0.906432\n"
     ]
    },
    {
     "name": "stderr",
     "output_type": "stream",
     "text": [
      "min_data_in_leaf, val_score: 0.907594:  80%|####################################         | 4/5 [00:07<00:01,  1.70s/it]C:\\Python39\\lib\\site-packages\\lightgbm\\engine.py:181: UserWarning: 'early_stopping_rounds' argument is deprecated and will be removed in a future release of LightGBM. Pass 'early_stopping()' callback via 'callbacks' argument instead.\n",
      "  _log_warning(\"'early_stopping_rounds' argument is deprecated and will be removed in a future release of LightGBM. \"\n",
      "C:\\Python39\\lib\\site-packages\\lightgbm\\engine.py:239: UserWarning: 'verbose_eval' argument is deprecated and will be removed in a future release of LightGBM. Pass 'log_evaluation()' callback via 'callbacks' argument instead.\n",
      "  _log_warning(\"'verbose_eval' argument is deprecated and will be removed in a future release of LightGBM. \"\n"
     ]
    },
    {
     "name": "stdout",
     "output_type": "stream",
     "text": [
      "Training until validation scores don't improve for 100 rounds\n",
      "[50]\tvalid_0's auc: 0.892022\n",
      "[100]\tvalid_0's auc: 0.896714\n",
      "[150]\tvalid_0's auc: 0.89961\n",
      "[200]\tvalid_0's auc: 0.901334\n",
      "[250]\tvalid_0's auc: 0.902818\n",
      "[300]\tvalid_0's auc: 0.903828\n",
      "[350]\tvalid_0's auc: 0.904506\n",
      "[400]\tvalid_0's auc: 0.904933\n",
      "[450]\tvalid_0's auc: 0.90533\n",
      "[500]\tvalid_0's auc: 0.90561\n",
      "[550]\tvalid_0's auc: 0.90595\n",
      "[600]\tvalid_0's auc: 0.90612\n",
      "[650]\tvalid_0's auc: 0.906075\n",
      "[700]\tvalid_0's auc: 0.906157\n"
     ]
    },
    {
     "name": "stderr",
     "output_type": "stream",
     "text": [
      "min_data_in_leaf, val_score: 0.907594: 100%|#############################################| 5/5 [00:08<00:00,  1.70s/it]"
     ]
    },
    {
     "name": "stdout",
     "output_type": "stream",
     "text": [
      "[750]\tvalid_0's auc: 0.906219\n",
      "[800]\tvalid_0's auc: 0.906208\n",
      "Early stopping, best iteration is:\n",
      "[737]\tvalid_0's auc: 0.906267\n",
      "Best params: {'boosting_type': 'gbdt', 'objective': 'binary', 'metric': 'auc', 'verbosity': -1, 'learning_rate': 0.02, 'deterministic': True, 'force_row_wise': True, 'feature_pre_filter': False, 'lambda_l1': 0.00024871426741719714, 'lambda_l2': 0.0032040166636490273, 'num_leaves': 12, 'feature_fraction': 0.4, 'bagging_fraction': 0.8595447138889554, 'bagging_freq': 4, 'min_child_samples': 10, 'num_iterations': 10000, 'early_stopping_round': 100}\n"
     ]
    },
    {
     "name": "stderr",
     "output_type": "stream",
     "text": [
      "\n"
     ]
    },
    {
     "name": "stdout",
     "output_type": "stream",
     "text": [
      "### seed:  7 ###\n"
     ]
    },
    {
     "name": "stderr",
     "output_type": "stream",
     "text": [
      "feature_fraction, val_score: -inf:   0%|                                                         | 0/7 [00:00<?, ?it/s]C:\\Python39\\lib\\site-packages\\lightgbm\\engine.py:181: UserWarning: 'early_stopping_rounds' argument is deprecated and will be removed in a future release of LightGBM. Pass 'early_stopping()' callback via 'callbacks' argument instead.\n",
      "  _log_warning(\"'early_stopping_rounds' argument is deprecated and will be removed in a future release of LightGBM. \"\n",
      "C:\\Python39\\lib\\site-packages\\lightgbm\\engine.py:239: UserWarning: 'verbose_eval' argument is deprecated and will be removed in a future release of LightGBM. Pass 'log_evaluation()' callback via 'callbacks' argument instead.\n",
      "  _log_warning(\"'verbose_eval' argument is deprecated and will be removed in a future release of LightGBM. \"\n"
     ]
    },
    {
     "name": "stdout",
     "output_type": "stream",
     "text": [
      "Training until validation scores don't improve for 100 rounds\n",
      "[50]\tvalid_0's auc: 0.897926\n",
      "[100]\tvalid_0's auc: 0.900882\n",
      "[150]\tvalid_0's auc: 0.902782\n",
      "[200]\tvalid_0's auc: 0.904125\n",
      "[250]\tvalid_0's auc: 0.904678\n",
      "[300]\tvalid_0's auc: 0.905054\n",
      "[350]\tvalid_0's auc: 0.905324\n",
      "[400]\tvalid_0's auc: 0.905358\n"
     ]
    },
    {
     "name": "stderr",
     "output_type": "stream",
     "text": [
      "feature_fraction, val_score: 0.905400:  14%|######4                                      | 1/7 [00:00<00:04,  1.21it/s]"
     ]
    },
    {
     "name": "stdout",
     "output_type": "stream",
     "text": [
      "[450]\tvalid_0's auc: 0.905302\n",
      "Early stopping, best iteration is:\n",
      "[359]\tvalid_0's auc: 0.9054\n",
      "Training until validation scores don't improve for 100 rounds\n"
     ]
    },
    {
     "name": "stderr",
     "output_type": "stream",
     "text": [
      "C:\\Python39\\lib\\site-packages\\lightgbm\\engine.py:181: UserWarning: 'early_stopping_rounds' argument is deprecated and will be removed in a future release of LightGBM. Pass 'early_stopping()' callback via 'callbacks' argument instead.\n",
      "  _log_warning(\"'early_stopping_rounds' argument is deprecated and will be removed in a future release of LightGBM. \"\n",
      "C:\\Python39\\lib\\site-packages\\lightgbm\\engine.py:239: UserWarning: 'verbose_eval' argument is deprecated and will be removed in a future release of LightGBM. Pass 'log_evaluation()' callback via 'callbacks' argument instead.\n",
      "  _log_warning(\"'verbose_eval' argument is deprecated and will be removed in a future release of LightGBM. \"\n"
     ]
    },
    {
     "name": "stdout",
     "output_type": "stream",
     "text": [
      "[50]\tvalid_0's auc: 0.891521\n",
      "[100]\tvalid_0's auc: 0.896627\n",
      "[150]\tvalid_0's auc: 0.900669\n",
      "[200]\tvalid_0's auc: 0.902519\n",
      "[250]\tvalid_0's auc: 0.902953\n",
      "[300]\tvalid_0's auc: 0.903131\n",
      "[350]\tvalid_0's auc: 0.903115\n",
      "[400]\tvalid_0's auc: 0.903094\n",
      "[450]\tvalid_0's auc: 0.903185\n",
      "[500]\tvalid_0's auc: 0.903131\n"
     ]
    },
    {
     "name": "stderr",
     "output_type": "stream",
     "text": [
      "feature_fraction, val_score: 0.905400:  29%|############8                                | 2/7 [00:01<00:04,  1.13it/s]"
     ]
    },
    {
     "name": "stdout",
     "output_type": "stream",
     "text": [
      "Early stopping, best iteration is:\n",
      "[434]\tvalid_0's auc: 0.903226\n",
      "Training until validation scores don't improve for 100 rounds\n",
      "[50]\tvalid_0's auc: 0.896219\n"
     ]
    },
    {
     "name": "stderr",
     "output_type": "stream",
     "text": [
      "C:\\Python39\\lib\\site-packages\\lightgbm\\engine.py:181: UserWarning: 'early_stopping_rounds' argument is deprecated and will be removed in a future release of LightGBM. Pass 'early_stopping()' callback via 'callbacks' argument instead.\n",
      "  _log_warning(\"'early_stopping_rounds' argument is deprecated and will be removed in a future release of LightGBM. \"\n",
      "C:\\Python39\\lib\\site-packages\\lightgbm\\engine.py:239: UserWarning: 'verbose_eval' argument is deprecated and will be removed in a future release of LightGBM. Pass 'log_evaluation()' callback via 'callbacks' argument instead.\n",
      "  _log_warning(\"'verbose_eval' argument is deprecated and will be removed in a future release of LightGBM. \"\n"
     ]
    },
    {
     "name": "stdout",
     "output_type": "stream",
     "text": [
      "[100]\tvalid_0's auc: 0.899862\n",
      "[150]\tvalid_0's auc: 0.902059\n",
      "[200]\tvalid_0's auc: 0.903673\n",
      "[250]\tvalid_0's auc: 0.904419\n",
      "[300]\tvalid_0's auc: 0.904779\n",
      "[350]\tvalid_0's auc: 0.904731\n",
      "[400]\tvalid_0's auc: 0.904852\n",
      "[450]\tvalid_0's auc: 0.904708\n",
      "Early stopping, best iteration is:\n",
      "[399]\tvalid_0's auc: 0.904852\n"
     ]
    },
    {
     "name": "stderr",
     "output_type": "stream",
     "text": [
      "feature_fraction, val_score: 0.905400:  43%|###################2                         | 3/7 [00:02<00:03,  1.13it/s]C:\\Python39\\lib\\site-packages\\lightgbm\\engine.py:181: UserWarning: 'early_stopping_rounds' argument is deprecated and will be removed in a future release of LightGBM. Pass 'early_stopping()' callback via 'callbacks' argument instead.\n",
      "  _log_warning(\"'early_stopping_rounds' argument is deprecated and will be removed in a future release of LightGBM. \"\n",
      "C:\\Python39\\lib\\site-packages\\lightgbm\\engine.py:239: UserWarning: 'verbose_eval' argument is deprecated and will be removed in a future release of LightGBM. Pass 'log_evaluation()' callback via 'callbacks' argument instead.\n",
      "  _log_warning(\"'verbose_eval' argument is deprecated and will be removed in a future release of LightGBM. \"\n"
     ]
    },
    {
     "name": "stdout",
     "output_type": "stream",
     "text": [
      "Training until validation scores don't improve for 100 rounds\n",
      "[50]\tvalid_0's auc: 0.898232\n",
      "[100]\tvalid_0's auc: 0.901139\n",
      "[150]\tvalid_0's auc: 0.903161\n",
      "[200]\tvalid_0's auc: 0.904371\n",
      "[250]\tvalid_0's auc: 0.905056\n",
      "[300]\tvalid_0's auc: 0.905421\n",
      "[350]\tvalid_0's auc: 0.905396\n",
      "[400]\tvalid_0's auc: 0.905427\n",
      "[450]\tvalid_0's auc: 0.905601\n",
      "[500]\tvalid_0's auc: 0.905658\n",
      "[550]\tvalid_0's auc: 0.905456\n",
      "Early stopping, best iteration is:\n",
      "[489]\tvalid_0's auc: 0.905694\n"
     ]
    },
    {
     "name": "stderr",
     "output_type": "stream",
     "text": [
      "feature_fraction, val_score: 0.905694:  57%|#########################7                   | 4/7 [00:03<00:02,  1.06it/s]C:\\Python39\\lib\\site-packages\\lightgbm\\engine.py:181: UserWarning: 'early_stopping_rounds' argument is deprecated and will be removed in a future release of LightGBM. Pass 'early_stopping()' callback via 'callbacks' argument instead.\n",
      "  _log_warning(\"'early_stopping_rounds' argument is deprecated and will be removed in a future release of LightGBM. \"\n",
      "C:\\Python39\\lib\\site-packages\\lightgbm\\engine.py:239: UserWarning: 'verbose_eval' argument is deprecated and will be removed in a future release of LightGBM. Pass 'log_evaluation()' callback via 'callbacks' argument instead.\n",
      "  _log_warning(\"'verbose_eval' argument is deprecated and will be removed in a future release of LightGBM. \"\n"
     ]
    },
    {
     "name": "stdout",
     "output_type": "stream",
     "text": [
      "Training until validation scores don't improve for 100 rounds\n",
      "[50]\tvalid_0's auc: 0.895481\n",
      "[100]\tvalid_0's auc: 0.899061\n",
      "[150]\tvalid_0's auc: 0.901728\n",
      "[200]\tvalid_0's auc: 0.90346\n",
      "[250]\tvalid_0's auc: 0.904153\n",
      "[300]\tvalid_0's auc: 0.904424\n",
      "[350]\tvalid_0's auc: 0.904549\n",
      "[400]\tvalid_0's auc: 0.904709\n",
      "[450]\tvalid_0's auc: 0.904767\n",
      "[500]\tvalid_0's auc: 0.904665\n"
     ]
    },
    {
     "name": "stderr",
     "output_type": "stream",
     "text": [
      "feature_fraction, val_score: 0.905694:  71%|################################1            | 5/7 [00:04<00:02,  1.01s/it]"
     ]
    },
    {
     "name": "stdout",
     "output_type": "stream",
     "text": [
      "Early stopping, best iteration is:\n",
      "[434]\tvalid_0's auc: 0.904811\n"
     ]
    },
    {
     "name": "stderr",
     "output_type": "stream",
     "text": [
      "C:\\Python39\\lib\\site-packages\\lightgbm\\engine.py:181: UserWarning: 'early_stopping_rounds' argument is deprecated and will be removed in a future release of LightGBM. Pass 'early_stopping()' callback via 'callbacks' argument instead.\n",
      "  _log_warning(\"'early_stopping_rounds' argument is deprecated and will be removed in a future release of LightGBM. \"\n",
      "C:\\Python39\\lib\\site-packages\\lightgbm\\engine.py:239: UserWarning: 'verbose_eval' argument is deprecated and will be removed in a future release of LightGBM. Pass 'log_evaluation()' callback via 'callbacks' argument instead.\n",
      "  _log_warning(\"'verbose_eval' argument is deprecated and will be removed in a future release of LightGBM. \"\n"
     ]
    },
    {
     "name": "stdout",
     "output_type": "stream",
     "text": [
      "Training until validation scores don't improve for 100 rounds\n",
      "[50]\tvalid_0's auc: 0.8937\n",
      "[100]\tvalid_0's auc: 0.898028\n",
      "[150]\tvalid_0's auc: 0.901441\n",
      "[200]\tvalid_0's auc: 0.903275\n",
      "[250]\tvalid_0's auc: 0.903584\n",
      "[300]\tvalid_0's auc: 0.903794\n",
      "[350]\tvalid_0's auc: 0.903872\n",
      "[400]\tvalid_0's auc: 0.903912\n"
     ]
    },
    {
     "name": "stderr",
     "output_type": "stream",
     "text": [
      "feature_fraction, val_score: 0.905694:  86%|######################################5      | 6/7 [00:06<00:01,  1.11s/it]"
     ]
    },
    {
     "name": "stdout",
     "output_type": "stream",
     "text": [
      "[450]\tvalid_0's auc: 0.903888\n",
      "Early stopping, best iteration is:\n",
      "[368]\tvalid_0's auc: 0.903986\n",
      "Training until validation scores don't improve for 100 rounds\n"
     ]
    },
    {
     "name": "stderr",
     "output_type": "stream",
     "text": [
      "C:\\Python39\\lib\\site-packages\\lightgbm\\engine.py:181: UserWarning: 'early_stopping_rounds' argument is deprecated and will be removed in a future release of LightGBM. Pass 'early_stopping()' callback via 'callbacks' argument instead.\n",
      "  _log_warning(\"'early_stopping_rounds' argument is deprecated and will be removed in a future release of LightGBM. \"\n",
      "C:\\Python39\\lib\\site-packages\\lightgbm\\engine.py:239: UserWarning: 'verbose_eval' argument is deprecated and will be removed in a future release of LightGBM. Pass 'log_evaluation()' callback via 'callbacks' argument instead.\n",
      "  _log_warning(\"'verbose_eval' argument is deprecated and will be removed in a future release of LightGBM. \"\n"
     ]
    },
    {
     "name": "stdout",
     "output_type": "stream",
     "text": [
      "[50]\tvalid_0's auc: 0.889524\n",
      "[100]\tvalid_0's auc: 0.895641\n",
      "[150]\tvalid_0's auc: 0.899847\n",
      "[200]\tvalid_0's auc: 0.901449\n",
      "[250]\tvalid_0's auc: 0.902116\n",
      "[300]\tvalid_0's auc: 0.902619\n",
      "[350]\tvalid_0's auc: 0.903006\n",
      "[400]\tvalid_0's auc: 0.903235\n",
      "[450]\tvalid_0's auc: 0.90335\n"
     ]
    },
    {
     "name": "stderr",
     "output_type": "stream",
     "text": [
      "feature_fraction, val_score: 0.905694: 100%|#############################################| 7/7 [00:07<00:00,  1.03s/it]\n"
     ]
    },
    {
     "name": "stdout",
     "output_type": "stream",
     "text": [
      "[500]\tvalid_0's auc: 0.903194\n",
      "[550]\tvalid_0's auc: 0.902898\n",
      "Early stopping, best iteration is:\n",
      "[454]\tvalid_0's auc: 0.90337\n"
     ]
    },
    {
     "name": "stderr",
     "output_type": "stream",
     "text": [
      "num_leaves, val_score: 0.905694:   0%|                                                          | 0/20 [00:00<?, ?it/s]C:\\Python39\\lib\\site-packages\\lightgbm\\engine.py:181: UserWarning: 'early_stopping_rounds' argument is deprecated and will be removed in a future release of LightGBM. Pass 'early_stopping()' callback via 'callbacks' argument instead.\n",
      "  _log_warning(\"'early_stopping_rounds' argument is deprecated and will be removed in a future release of LightGBM. \"\n",
      "C:\\Python39\\lib\\site-packages\\lightgbm\\engine.py:239: UserWarning: 'verbose_eval' argument is deprecated and will be removed in a future release of LightGBM. Pass 'log_evaluation()' callback via 'callbacks' argument instead.\n",
      "  _log_warning(\"'verbose_eval' argument is deprecated and will be removed in a future release of LightGBM. \"\n"
     ]
    },
    {
     "name": "stdout",
     "output_type": "stream",
     "text": [
      "Training until validation scores don't improve for 100 rounds\n",
      "[50]\tvalid_0's auc: 0.895911\n",
      "[100]\tvalid_0's auc: 0.899758\n",
      "[150]\tvalid_0's auc: 0.901746\n",
      "[200]\tvalid_0's auc: 0.903235\n",
      "[250]\tvalid_0's auc: 0.904223\n",
      "[300]\tvalid_0's auc: 0.905054\n",
      "[350]\tvalid_0's auc: 0.905484\n",
      "[400]\tvalid_0's auc: 0.905689\n",
      "[450]\tvalid_0's auc: 0.906007\n",
      "[500]\tvalid_0's auc: 0.906176\n",
      "[550]\tvalid_0's auc: 0.906228\n"
     ]
    },
    {
     "name": "stderr",
     "output_type": "stream",
     "text": [
      "num_leaves, val_score: 0.906255:   5%|##5                                               | 1/20 [00:01<00:20,  1.10s/it]"
     ]
    },
    {
     "name": "stdout",
     "output_type": "stream",
     "text": [
      "[600]\tvalid_0's auc: 0.906139\n",
      "Early stopping, best iteration is:\n",
      "[509]\tvalid_0's auc: 0.906255\n",
      "Training until validation scores don't improve for 100 rounds\n"
     ]
    },
    {
     "name": "stderr",
     "output_type": "stream",
     "text": [
      "C:\\Python39\\lib\\site-packages\\lightgbm\\engine.py:181: UserWarning: 'early_stopping_rounds' argument is deprecated and will be removed in a future release of LightGBM. Pass 'early_stopping()' callback via 'callbacks' argument instead.\n",
      "  _log_warning(\"'early_stopping_rounds' argument is deprecated and will be removed in a future release of LightGBM. \"\n",
      "C:\\Python39\\lib\\site-packages\\lightgbm\\engine.py:239: UserWarning: 'verbose_eval' argument is deprecated and will be removed in a future release of LightGBM. Pass 'log_evaluation()' callback via 'callbacks' argument instead.\n",
      "  _log_warning(\"'verbose_eval' argument is deprecated and will be removed in a future release of LightGBM. \"\n"
     ]
    },
    {
     "name": "stdout",
     "output_type": "stream",
     "text": [
      "[50]\tvalid_0's auc: 0.902409\n",
      "[100]\tvalid_0's auc: 0.903789\n",
      "[150]\tvalid_0's auc: 0.903751\n",
      "[200]\tvalid_0's auc: 0.903221\n",
      "Early stopping, best iteration is:\n",
      "[127]\tvalid_0's auc: 0.904025\n"
     ]
    },
    {
     "name": "stderr",
     "output_type": "stream",
     "text": [
      "num_leaves, val_score: 0.906255:  10%|#####                                             | 2/20 [00:02<00:20,  1.16s/it]C:\\Python39\\lib\\site-packages\\lightgbm\\engine.py:181: UserWarning: 'early_stopping_rounds' argument is deprecated and will be removed in a future release of LightGBM. Pass 'early_stopping()' callback via 'callbacks' argument instead.\n",
      "  _log_warning(\"'early_stopping_rounds' argument is deprecated and will be removed in a future release of LightGBM. \"\n",
      "C:\\Python39\\lib\\site-packages\\lightgbm\\engine.py:239: UserWarning: 'verbose_eval' argument is deprecated and will be removed in a future release of LightGBM. Pass 'log_evaluation()' callback via 'callbacks' argument instead.\n",
      "  _log_warning(\"'verbose_eval' argument is deprecated and will be removed in a future release of LightGBM. \"\n"
     ]
    },
    {
     "name": "stdout",
     "output_type": "stream",
     "text": [
      "Training until validation scores don't improve for 100 rounds\n",
      "[50]\tvalid_0's auc: 0.90228\n",
      "[100]\tvalid_0's auc: 0.903815\n",
      "[150]\tvalid_0's auc: 0.904457\n",
      "[200]\tvalid_0's auc: 0.904323\n",
      "[250]\tvalid_0's auc: 0.904018\n"
     ]
    },
    {
     "name": "stderr",
     "output_type": "stream",
     "text": [
      "num_leaves, val_score: 0.906255:  15%|#######5                                          | 3/20 [00:03<00:18,  1.10s/it]"
     ]
    },
    {
     "name": "stdout",
     "output_type": "stream",
     "text": [
      "Early stopping, best iteration is:\n",
      "[173]\tvalid_0's auc: 0.904551\n",
      "Training until validation scores don't improve for 100 rounds\n"
     ]
    },
    {
     "name": "stderr",
     "output_type": "stream",
     "text": [
      "C:\\Python39\\lib\\site-packages\\lightgbm\\engine.py:181: UserWarning: 'early_stopping_rounds' argument is deprecated and will be removed in a future release of LightGBM. Pass 'early_stopping()' callback via 'callbacks' argument instead.\n",
      "  _log_warning(\"'early_stopping_rounds' argument is deprecated and will be removed in a future release of LightGBM. \"\n",
      "C:\\Python39\\lib\\site-packages\\lightgbm\\engine.py:239: UserWarning: 'verbose_eval' argument is deprecated and will be removed in a future release of LightGBM. Pass 'log_evaluation()' callback via 'callbacks' argument instead.\n",
      "  _log_warning(\"'verbose_eval' argument is deprecated and will be removed in a future release of LightGBM. \"\n"
     ]
    },
    {
     "name": "stdout",
     "output_type": "stream",
     "text": [
      "[50]\tvalid_0's auc: 0.902485\n",
      "[100]\tvalid_0's auc: 0.903846\n",
      "[150]\tvalid_0's auc: 0.903974\n",
      "[200]\tvalid_0's auc: 0.903412\n"
     ]
    },
    {
     "name": "stderr",
     "output_type": "stream",
     "text": [
      "num_leaves, val_score: 0.906255:  20%|##########                                        | 4/20 [00:04<00:18,  1.14s/it]"
     ]
    },
    {
     "name": "stdout",
     "output_type": "stream",
     "text": [
      "Early stopping, best iteration is:\n",
      "[127]\tvalid_0's auc: 0.904282\n",
      "Training until validation scores don't improve for 100 rounds\n"
     ]
    },
    {
     "name": "stderr",
     "output_type": "stream",
     "text": [
      "C:\\Python39\\lib\\site-packages\\lightgbm\\engine.py:181: UserWarning: 'early_stopping_rounds' argument is deprecated and will be removed in a future release of LightGBM. Pass 'early_stopping()' callback via 'callbacks' argument instead.\n",
      "  _log_warning(\"'early_stopping_rounds' argument is deprecated and will be removed in a future release of LightGBM. \"\n",
      "C:\\Python39\\lib\\site-packages\\lightgbm\\engine.py:239: UserWarning: 'verbose_eval' argument is deprecated and will be removed in a future release of LightGBM. Pass 'log_evaluation()' callback via 'callbacks' argument instead.\n",
      "  _log_warning(\"'verbose_eval' argument is deprecated and will be removed in a future release of LightGBM. \"\n"
     ]
    },
    {
     "name": "stdout",
     "output_type": "stream",
     "text": [
      "[50]\tvalid_0's auc: 0.902306\n",
      "[100]\tvalid_0's auc: 0.903618\n",
      "[150]\tvalid_0's auc: 0.903552\n",
      "[200]\tvalid_0's auc: 0.902728\n",
      "Early stopping, best iteration is:\n",
      "[127]\tvalid_0's auc: 0.903892\n"
     ]
    },
    {
     "name": "stderr",
     "output_type": "stream",
     "text": [
      "num_leaves, val_score: 0.906255:  25%|############5                                     | 5/20 [00:06<00:18,  1.26s/it]C:\\Python39\\lib\\site-packages\\lightgbm\\engine.py:181: UserWarning: 'early_stopping_rounds' argument is deprecated and will be removed in a future release of LightGBM. Pass 'early_stopping()' callback via 'callbacks' argument instead.\n",
      "  _log_warning(\"'early_stopping_rounds' argument is deprecated and will be removed in a future release of LightGBM. \"\n",
      "C:\\Python39\\lib\\site-packages\\lightgbm\\engine.py:239: UserWarning: 'verbose_eval' argument is deprecated and will be removed in a future release of LightGBM. Pass 'log_evaluation()' callback via 'callbacks' argument instead.\n",
      "  _log_warning(\"'verbose_eval' argument is deprecated and will be removed in a future release of LightGBM. \"\n"
     ]
    },
    {
     "name": "stdout",
     "output_type": "stream",
     "text": [
      "Training until validation scores don't improve for 100 rounds\n",
      "[50]\tvalid_0's auc: 0.902319\n",
      "[100]\tvalid_0's auc: 0.903735\n",
      "[150]\tvalid_0's auc: 0.904107\n"
     ]
    },
    {
     "name": "stderr",
     "output_type": "stream",
     "text": [
      "num_leaves, val_score: 0.906255:  30%|###############                                   | 6/20 [00:07<00:16,  1.17s/it]"
     ]
    },
    {
     "name": "stdout",
     "output_type": "stream",
     "text": [
      "[200]\tvalid_0's auc: 0.903818\n",
      "Early stopping, best iteration is:\n",
      "[127]\tvalid_0's auc: 0.904283\n"
     ]
    },
    {
     "name": "stderr",
     "output_type": "stream",
     "text": [
      "C:\\Python39\\lib\\site-packages\\lightgbm\\engine.py:181: UserWarning: 'early_stopping_rounds' argument is deprecated and will be removed in a future release of LightGBM. Pass 'early_stopping()' callback via 'callbacks' argument instead.\n",
      "  _log_warning(\"'early_stopping_rounds' argument is deprecated and will be removed in a future release of LightGBM. \"\n",
      "C:\\Python39\\lib\\site-packages\\lightgbm\\engine.py:239: UserWarning: 'verbose_eval' argument is deprecated and will be removed in a future release of LightGBM. Pass 'log_evaluation()' callback via 'callbacks' argument instead.\n",
      "  _log_warning(\"'verbose_eval' argument is deprecated and will be removed in a future release of LightGBM. \"\n"
     ]
    },
    {
     "name": "stdout",
     "output_type": "stream",
     "text": [
      "Training until validation scores don't improve for 100 rounds\n",
      "[50]\tvalid_0's auc: 0.902311\n",
      "[100]\tvalid_0's auc: 0.903773\n",
      "[150]\tvalid_0's auc: 0.904214\n"
     ]
    },
    {
     "name": "stderr",
     "output_type": "stream",
     "text": [
      "num_leaves, val_score: 0.906255:  35%|#################5                                | 7/20 [00:07<00:14,  1.09s/it]"
     ]
    },
    {
     "name": "stdout",
     "output_type": "stream",
     "text": [
      "[200]\tvalid_0's auc: 0.903999\n",
      "Early stopping, best iteration is:\n",
      "[127]\tvalid_0's auc: 0.904338\n"
     ]
    },
    {
     "name": "stderr",
     "output_type": "stream",
     "text": [
      "C:\\Python39\\lib\\site-packages\\lightgbm\\engine.py:181: UserWarning: 'early_stopping_rounds' argument is deprecated and will be removed in a future release of LightGBM. Pass 'early_stopping()' callback via 'callbacks' argument instead.\n",
      "  _log_warning(\"'early_stopping_rounds' argument is deprecated and will be removed in a future release of LightGBM. \"\n",
      "C:\\Python39\\lib\\site-packages\\lightgbm\\engine.py:239: UserWarning: 'verbose_eval' argument is deprecated and will be removed in a future release of LightGBM. Pass 'log_evaluation()' callback via 'callbacks' argument instead.\n",
      "  _log_warning(\"'verbose_eval' argument is deprecated and will be removed in a future release of LightGBM. \"\n"
     ]
    },
    {
     "name": "stdout",
     "output_type": "stream",
     "text": [
      "Training until validation scores don't improve for 100 rounds\n",
      "[50]\tvalid_0's auc: 0.89531\n",
      "[100]\tvalid_0's auc: 0.899439\n",
      "[150]\tvalid_0's auc: 0.901413\n",
      "[200]\tvalid_0's auc: 0.903094\n",
      "[250]\tvalid_0's auc: 0.904146\n",
      "[300]\tvalid_0's auc: 0.904967\n",
      "[350]\tvalid_0's auc: 0.905427\n",
      "[400]\tvalid_0's auc: 0.905632\n",
      "[450]\tvalid_0's auc: 0.905925\n",
      "[500]\tvalid_0's auc: 0.906095\n",
      "[550]\tvalid_0's auc: 0.906237\n",
      "[600]\tvalid_0's auc: 0.906252\n",
      "[650]\tvalid_0's auc: 0.906204\n",
      "Early stopping, best iteration is:\n",
      "[597]\tvalid_0's auc: 0.906283\n"
     ]
    },
    {
     "name": "stderr",
     "output_type": "stream",
     "text": [
      "num_leaves, val_score: 0.906283:  40%|####################                              | 8/20 [00:08<00:12,  1.08s/it]C:\\Python39\\lib\\site-packages\\lightgbm\\engine.py:181: UserWarning: 'early_stopping_rounds' argument is deprecated and will be removed in a future release of LightGBM. Pass 'early_stopping()' callback via 'callbacks' argument instead.\n",
      "  _log_warning(\"'early_stopping_rounds' argument is deprecated and will be removed in a future release of LightGBM. \"\n",
      "C:\\Python39\\lib\\site-packages\\lightgbm\\engine.py:239: UserWarning: 'verbose_eval' argument is deprecated and will be removed in a future release of LightGBM. Pass 'log_evaluation()' callback via 'callbacks' argument instead.\n",
      "  _log_warning(\"'verbose_eval' argument is deprecated and will be removed in a future release of LightGBM. \"\n"
     ]
    },
    {
     "name": "stdout",
     "output_type": "stream",
     "text": [
      "Training until validation scores don't improve for 100 rounds\n",
      "[50]\tvalid_0's auc: 0.901781\n",
      "[100]\tvalid_0's auc: 0.903867\n",
      "[150]\tvalid_0's auc: 0.904739\n",
      "[200]\tvalid_0's auc: 0.905178\n",
      "[250]\tvalid_0's auc: 0.905062\n"
     ]
    },
    {
     "name": "stderr",
     "output_type": "stream",
     "text": [
      "num_leaves, val_score: 0.906283:  45%|######################5                           | 9/20 [00:09<00:11,  1.01s/it]"
     ]
    },
    {
     "name": "stdout",
     "output_type": "stream",
     "text": [
      "[300]\tvalid_0's auc: 0.90494\n",
      "Early stopping, best iteration is:\n",
      "[205]\tvalid_0's auc: 0.905227\n",
      "Training until validation scores don't improve for 100 rounds\n"
     ]
    },
    {
     "name": "stderr",
     "output_type": "stream",
     "text": [
      "C:\\Python39\\lib\\site-packages\\lightgbm\\engine.py:181: UserWarning: 'early_stopping_rounds' argument is deprecated and will be removed in a future release of LightGBM. Pass 'early_stopping()' callback via 'callbacks' argument instead.\n",
      "  _log_warning(\"'early_stopping_rounds' argument is deprecated and will be removed in a future release of LightGBM. \"\n",
      "C:\\Python39\\lib\\site-packages\\lightgbm\\engine.py:239: UserWarning: 'verbose_eval' argument is deprecated and will be removed in a future release of LightGBM. Pass 'log_evaluation()' callback via 'callbacks' argument instead.\n",
      "  _log_warning(\"'verbose_eval' argument is deprecated and will be removed in a future release of LightGBM. \"\n"
     ]
    },
    {
     "name": "stdout",
     "output_type": "stream",
     "text": [
      "[50]\tvalid_0's auc: 0.902311\n",
      "[100]\tvalid_0's auc: 0.903773\n",
      "[150]\tvalid_0's auc: 0.904214\n"
     ]
    },
    {
     "name": "stderr",
     "output_type": "stream",
     "text": [
      "num_leaves, val_score: 0.906283:  50%|########################5                        | 10/20 [00:10<00:09,  1.01it/s]"
     ]
    },
    {
     "name": "stdout",
     "output_type": "stream",
     "text": [
      "[200]\tvalid_0's auc: 0.903999\n",
      "Early stopping, best iteration is:\n",
      "[127]\tvalid_0's auc: 0.904338\n"
     ]
    },
    {
     "name": "stderr",
     "output_type": "stream",
     "text": [
      "C:\\Python39\\lib\\site-packages\\lightgbm\\engine.py:181: UserWarning: 'early_stopping_rounds' argument is deprecated and will be removed in a future release of LightGBM. Pass 'early_stopping()' callback via 'callbacks' argument instead.\n",
      "  _log_warning(\"'early_stopping_rounds' argument is deprecated and will be removed in a future release of LightGBM. \"\n",
      "C:\\Python39\\lib\\site-packages\\lightgbm\\engine.py:239: UserWarning: 'verbose_eval' argument is deprecated and will be removed in a future release of LightGBM. Pass 'log_evaluation()' callback via 'callbacks' argument instead.\n",
      "  _log_warning(\"'verbose_eval' argument is deprecated and will be removed in a future release of LightGBM. \"\n"
     ]
    },
    {
     "name": "stdout",
     "output_type": "stream",
     "text": [
      "Training until validation scores don't improve for 100 rounds\n",
      "[50]\tvalid_0's auc: 0.899253\n",
      "[100]\tvalid_0's auc: 0.901851\n",
      "[150]\tvalid_0's auc: 0.903841\n",
      "[200]\tvalid_0's auc: 0.904873\n",
      "[250]\tvalid_0's auc: 0.90544\n",
      "[300]\tvalid_0's auc: 0.905759\n",
      "[350]\tvalid_0's auc: 0.905579\n"
     ]
    },
    {
     "name": "stderr",
     "output_type": "stream",
     "text": [
      "num_leaves, val_score: 0.906283:  55%|##########################9                      | 11/20 [00:11<00:08,  1.07it/s]"
     ]
    },
    {
     "name": "stdout",
     "output_type": "stream",
     "text": [
      "[400]\tvalid_0's auc: 0.905416\n",
      "Early stopping, best iteration is:\n",
      "[300]\tvalid_0's auc: 0.905759\n",
      "Training until validation scores don't improve for 100 rounds\n",
      "[50]\tvalid_0's auc: 0.891237\n"
     ]
    },
    {
     "name": "stderr",
     "output_type": "stream",
     "text": [
      "C:\\Python39\\lib\\site-packages\\lightgbm\\engine.py:181: UserWarning: 'early_stopping_rounds' argument is deprecated and will be removed in a future release of LightGBM. Pass 'early_stopping()' callback via 'callbacks' argument instead.\n",
      "  _log_warning(\"'early_stopping_rounds' argument is deprecated and will be removed in a future release of LightGBM. \"\n",
      "C:\\Python39\\lib\\site-packages\\lightgbm\\engine.py:239: UserWarning: 'verbose_eval' argument is deprecated and will be removed in a future release of LightGBM. Pass 'log_evaluation()' callback via 'callbacks' argument instead.\n",
      "  _log_warning(\"'verbose_eval' argument is deprecated and will be removed in a future release of LightGBM. \"\n"
     ]
    },
    {
     "name": "stdout",
     "output_type": "stream",
     "text": [
      "[100]\tvalid_0's auc: 0.896318\n",
      "[150]\tvalid_0's auc: 0.899098\n",
      "[200]\tvalid_0's auc: 0.901278\n",
      "[250]\tvalid_0's auc: 0.902387\n",
      "[300]\tvalid_0's auc: 0.903569\n",
      "[350]\tvalid_0's auc: 0.904201\n",
      "[400]\tvalid_0's auc: 0.90459\n",
      "[450]\tvalid_0's auc: 0.905073\n",
      "[500]\tvalid_0's auc: 0.905252\n",
      "[550]\tvalid_0's auc: 0.905504\n",
      "[600]\tvalid_0's auc: 0.905723\n",
      "[650]\tvalid_0's auc: 0.90584\n",
      "[700]\tvalid_0's auc: 0.905881\n",
      "[750]\tvalid_0's auc: 0.906009\n",
      "[800]\tvalid_0's auc: 0.906085\n",
      "[850]\tvalid_0's auc: 0.9062\n",
      "[900]\tvalid_0's auc: 0.906169\n",
      "[950]\tvalid_0's auc: 0.906196\n",
      "[1000]\tvalid_0's auc: 0.906217\n",
      "[1050]\tvalid_0's auc: 0.906172\n",
      "Early stopping, best iteration is:\n",
      "[999]\tvalid_0's auc: 0.906238\n"
     ]
    },
    {
     "name": "stderr",
     "output_type": "stream",
     "text": [
      "num_leaves, val_score: 0.906283:  60%|#############################4                   | 12/20 [00:12<00:08,  1.06s/it]C:\\Python39\\lib\\site-packages\\lightgbm\\engine.py:181: UserWarning: 'early_stopping_rounds' argument is deprecated and will be removed in a future release of LightGBM. Pass 'early_stopping()' callback via 'callbacks' argument instead.\n",
      "  _log_warning(\"'early_stopping_rounds' argument is deprecated and will be removed in a future release of LightGBM. \"\n",
      "C:\\Python39\\lib\\site-packages\\lightgbm\\engine.py:239: UserWarning: 'verbose_eval' argument is deprecated and will be removed in a future release of LightGBM. Pass 'log_evaluation()' callback via 'callbacks' argument instead.\n",
      "  _log_warning(\"'verbose_eval' argument is deprecated and will be removed in a future release of LightGBM. \"\n"
     ]
    },
    {
     "name": "stdout",
     "output_type": "stream",
     "text": [
      "Training until validation scores don't improve for 100 rounds\n",
      "[50]\tvalid_0's auc: 0.901565\n",
      "[100]\tvalid_0's auc: 0.903594\n",
      "[150]\tvalid_0's auc: 0.904788\n",
      "[200]\tvalid_0's auc: 0.905163\n",
      "[250]\tvalid_0's auc: 0.905184\n"
     ]
    },
    {
     "name": "stderr",
     "output_type": "stream",
     "text": [
      "num_leaves, val_score: 0.906283:  65%|###############################8                 | 13/20 [00:13<00:07,  1.04s/it]"
     ]
    },
    {
     "name": "stdout",
     "output_type": "stream",
     "text": [
      "[300]\tvalid_0's auc: 0.905183\n",
      "Early stopping, best iteration is:\n",
      "[247]\tvalid_0's auc: 0.905266\n"
     ]
    },
    {
     "name": "stderr",
     "output_type": "stream",
     "text": [
      "C:\\Python39\\lib\\site-packages\\lightgbm\\engine.py:181: UserWarning: 'early_stopping_rounds' argument is deprecated and will be removed in a future release of LightGBM. Pass 'early_stopping()' callback via 'callbacks' argument instead.\n",
      "  _log_warning(\"'early_stopping_rounds' argument is deprecated and will be removed in a future release of LightGBM. \"\n",
      "C:\\Python39\\lib\\site-packages\\lightgbm\\engine.py:239: UserWarning: 'verbose_eval' argument is deprecated and will be removed in a future release of LightGBM. Pass 'log_evaluation()' callback via 'callbacks' argument instead.\n",
      "  _log_warning(\"'verbose_eval' argument is deprecated and will be removed in a future release of LightGBM. \"\n"
     ]
    },
    {
     "name": "stdout",
     "output_type": "stream",
     "text": [
      "Training until validation scores don't improve for 100 rounds\n",
      "[50]\tvalid_0's auc: 0.879586\n",
      "[100]\tvalid_0's auc: 0.887522\n",
      "[150]\tvalid_0's auc: 0.892082\n",
      "[200]\tvalid_0's auc: 0.895289\n",
      "[250]\tvalid_0's auc: 0.896851\n",
      "[300]\tvalid_0's auc: 0.898636\n",
      "[350]\tvalid_0's auc: 0.899584\n",
      "[400]\tvalid_0's auc: 0.900367\n",
      "[450]\tvalid_0's auc: 0.901473\n",
      "[500]\tvalid_0's auc: 0.902017\n",
      "[550]\tvalid_0's auc: 0.902581\n",
      "[600]\tvalid_0's auc: 0.902886\n",
      "[650]\tvalid_0's auc: 0.903082\n",
      "[700]\tvalid_0's auc: 0.903289\n",
      "[750]\tvalid_0's auc: 0.903626\n",
      "[800]\tvalid_0's auc: 0.903949\n",
      "[850]\tvalid_0's auc: 0.904198\n",
      "[900]\tvalid_0's auc: 0.904349\n",
      "[950]\tvalid_0's auc: 0.904635\n",
      "[1000]\tvalid_0's auc: 0.904839\n",
      "[1050]\tvalid_0's auc: 0.904929\n",
      "[1100]\tvalid_0's auc: 0.905066\n",
      "[1150]\tvalid_0's auc: 0.90519\n",
      "[1200]\tvalid_0's auc: 0.905361\n",
      "[1250]\tvalid_0's auc: 0.905413\n",
      "[1300]\tvalid_0's auc: 0.905484\n",
      "[1350]\tvalid_0's auc: 0.905545\n",
      "[1400]\tvalid_0's auc: 0.905648\n",
      "[1450]\tvalid_0's auc: 0.905699\n",
      "[1500]\tvalid_0's auc: 0.90569\n",
      "[1550]\tvalid_0's auc: 0.905749\n",
      "[1600]\tvalid_0's auc: 0.905773\n",
      "[1650]\tvalid_0's auc: 0.905815\n",
      "[1700]\tvalid_0's auc: 0.905873\n",
      "[1750]\tvalid_0's auc: 0.905903\n",
      "[1800]\tvalid_0's auc: 0.905952\n",
      "[1850]\tvalid_0's auc: 0.905969\n",
      "[1900]\tvalid_0's auc: 0.906016\n",
      "[1950]\tvalid_0's auc: 0.905989\n",
      "[2000]\tvalid_0's auc: 0.906016\n",
      "[2050]\tvalid_0's auc: 0.90601\n",
      "[2100]\tvalid_0's auc: 0.906048\n",
      "[2150]\tvalid_0's auc: 0.906062\n",
      "[2200]\tvalid_0's auc: 0.90617\n",
      "[2250]\tvalid_0's auc: 0.906162\n",
      "[2300]\tvalid_0's auc: 0.906182\n",
      "[2350]\tvalid_0's auc: 0.906171\n",
      "Early stopping, best iteration is:\n",
      "[2268]\tvalid_0's auc: 0.906214\n"
     ]
    },
    {
     "name": "stderr",
     "output_type": "stream",
     "text": [
      "num_leaves, val_score: 0.906283:  70%|##################################3              | 14/20 [00:16<00:08,  1.45s/it]C:\\Python39\\lib\\site-packages\\lightgbm\\engine.py:181: UserWarning: 'early_stopping_rounds' argument is deprecated and will be removed in a future release of LightGBM. Pass 'early_stopping()' callback via 'callbacks' argument instead.\n",
      "  _log_warning(\"'early_stopping_rounds' argument is deprecated and will be removed in a future release of LightGBM. \"\n",
      "C:\\Python39\\lib\\site-packages\\lightgbm\\engine.py:239: UserWarning: 'verbose_eval' argument is deprecated and will be removed in a future release of LightGBM. Pass 'log_evaluation()' callback via 'callbacks' argument instead.\n",
      "  _log_warning(\"'verbose_eval' argument is deprecated and will be removed in a future release of LightGBM. \"\n"
     ]
    },
    {
     "name": "stdout",
     "output_type": "stream",
     "text": [
      "Training until validation scores don't improve for 100 rounds\n",
      "[50]\tvalid_0's auc: 0.901971\n",
      "[100]\tvalid_0's auc: 0.90385\n",
      "[150]\tvalid_0's auc: 0.904625\n",
      "[200]\tvalid_0's auc: 0.904858\n",
      "[250]\tvalid_0's auc: 0.904735\n"
     ]
    },
    {
     "name": "stderr",
     "output_type": "stream",
     "text": [
      "num_leaves, val_score: 0.906283:  75%|####################################7            | 15/20 [00:17<00:07,  1.43s/it]"
     ]
    },
    {
     "name": "stdout",
     "output_type": "stream",
     "text": [
      "[300]\tvalid_0's auc: 0.904606\n",
      "Early stopping, best iteration is:\n",
      "[233]\tvalid_0's auc: 0.904909\n"
     ]
    },
    {
     "name": "stderr",
     "output_type": "stream",
     "text": [
      "C:\\Python39\\lib\\site-packages\\lightgbm\\engine.py:181: UserWarning: 'early_stopping_rounds' argument is deprecated and will be removed in a future release of LightGBM. Pass 'early_stopping()' callback via 'callbacks' argument instead.\n",
      "  _log_warning(\"'early_stopping_rounds' argument is deprecated and will be removed in a future release of LightGBM. \"\n",
      "C:\\Python39\\lib\\site-packages\\lightgbm\\engine.py:239: UserWarning: 'verbose_eval' argument is deprecated and will be removed in a future release of LightGBM. Pass 'log_evaluation()' callback via 'callbacks' argument instead.\n",
      "  _log_warning(\"'verbose_eval' argument is deprecated and will be removed in a future release of LightGBM. \"\n"
     ]
    },
    {
     "name": "stdout",
     "output_type": "stream",
     "text": [
      "Training until validation scores don't improve for 100 rounds\n",
      "[50]\tvalid_0's auc: 0.899253\n",
      "[100]\tvalid_0's auc: 0.901851\n",
      "[150]\tvalid_0's auc: 0.903841\n",
      "[200]\tvalid_0's auc: 0.904873\n",
      "[250]\tvalid_0's auc: 0.90544\n",
      "[300]\tvalid_0's auc: 0.905759\n",
      "[350]\tvalid_0's auc: 0.905579\n"
     ]
    },
    {
     "name": "stderr",
     "output_type": "stream",
     "text": [
      "num_leaves, val_score: 0.906283:  80%|#######################################2         | 16/20 [00:18<00:05,  1.26s/it]"
     ]
    },
    {
     "name": "stdout",
     "output_type": "stream",
     "text": [
      "[400]\tvalid_0's auc: 0.905416\n",
      "Early stopping, best iteration is:\n",
      "[300]\tvalid_0's auc: 0.905759\n",
      "Training until validation scores don't improve for 100 rounds\n"
     ]
    },
    {
     "name": "stderr",
     "output_type": "stream",
     "text": [
      "C:\\Python39\\lib\\site-packages\\lightgbm\\engine.py:181: UserWarning: 'early_stopping_rounds' argument is deprecated and will be removed in a future release of LightGBM. Pass 'early_stopping()' callback via 'callbacks' argument instead.\n",
      "  _log_warning(\"'early_stopping_rounds' argument is deprecated and will be removed in a future release of LightGBM. \"\n",
      "C:\\Python39\\lib\\site-packages\\lightgbm\\engine.py:239: UserWarning: 'verbose_eval' argument is deprecated and will be removed in a future release of LightGBM. Pass 'log_evaluation()' callback via 'callbacks' argument instead.\n",
      "  _log_warning(\"'verbose_eval' argument is deprecated and will be removed in a future release of LightGBM. \"\n"
     ]
    },
    {
     "name": "stdout",
     "output_type": "stream",
     "text": [
      "[50]\tvalid_0's auc: 0.902364\n",
      "[100]\tvalid_0's auc: 0.904069\n",
      "[150]\tvalid_0's auc: 0.904802\n",
      "[200]\tvalid_0's auc: 0.904852\n"
     ]
    },
    {
     "name": "stderr",
     "output_type": "stream",
     "text": [
      "num_leaves, val_score: 0.906283:  85%|#########################################6       | 17/20 [00:19<00:03,  1.19s/it]"
     ]
    },
    {
     "name": "stdout",
     "output_type": "stream",
     "text": [
      "[250]\tvalid_0's auc: 0.90468\n",
      "Early stopping, best iteration is:\n",
      "[173]\tvalid_0's auc: 0.904888\n"
     ]
    },
    {
     "name": "stderr",
     "output_type": "stream",
     "text": [
      "C:\\Python39\\lib\\site-packages\\lightgbm\\engine.py:181: UserWarning: 'early_stopping_rounds' argument is deprecated and will be removed in a future release of LightGBM. Pass 'early_stopping()' callback via 'callbacks' argument instead.\n",
      "  _log_warning(\"'early_stopping_rounds' argument is deprecated and will be removed in a future release of LightGBM. \"\n",
      "C:\\Python39\\lib\\site-packages\\lightgbm\\engine.py:239: UserWarning: 'verbose_eval' argument is deprecated and will be removed in a future release of LightGBM. Pass 'log_evaluation()' callback via 'callbacks' argument instead.\n",
      "  _log_warning(\"'verbose_eval' argument is deprecated and will be removed in a future release of LightGBM. \"\n"
     ]
    },
    {
     "name": "stdout",
     "output_type": "stream",
     "text": [
      "Training until validation scores don't improve for 100 rounds\n",
      "[50]\tvalid_0's auc: 0.899704\n",
      "[100]\tvalid_0's auc: 0.902368\n",
      "[150]\tvalid_0's auc: 0.903941\n",
      "[200]\tvalid_0's auc: 0.904772\n",
      "[250]\tvalid_0's auc: 0.905115\n",
      "[300]\tvalid_0's auc: 0.905391\n",
      "[350]\tvalid_0's auc: 0.905289\n",
      "Early stopping, best iteration is:\n",
      "[299]\tvalid_0's auc: 0.905398\n"
     ]
    },
    {
     "name": "stderr",
     "output_type": "stream",
     "text": [
      "num_leaves, val_score: 0.906283:  90%|############################################1    | 18/20 [00:20<00:02,  1.11s/it]C:\\Python39\\lib\\site-packages\\lightgbm\\engine.py:181: UserWarning: 'early_stopping_rounds' argument is deprecated and will be removed in a future release of LightGBM. Pass 'early_stopping()' callback via 'callbacks' argument instead.\n",
      "  _log_warning(\"'early_stopping_rounds' argument is deprecated and will be removed in a future release of LightGBM. \"\n",
      "C:\\Python39\\lib\\site-packages\\lightgbm\\engine.py:239: UserWarning: 'verbose_eval' argument is deprecated and will be removed in a future release of LightGBM. Pass 'log_evaluation()' callback via 'callbacks' argument instead.\n",
      "  _log_warning(\"'verbose_eval' argument is deprecated and will be removed in a future release of LightGBM. \"\n"
     ]
    },
    {
     "name": "stdout",
     "output_type": "stream",
     "text": [
      "Training until validation scores don't improve for 100 rounds\n",
      "[50]\tvalid_0's auc: 0.879586\n",
      "[100]\tvalid_0's auc: 0.887522\n",
      "[150]\tvalid_0's auc: 0.892082\n",
      "[200]\tvalid_0's auc: 0.895289\n",
      "[250]\tvalid_0's auc: 0.896851\n",
      "[300]\tvalid_0's auc: 0.898636\n",
      "[350]\tvalid_0's auc: 0.899584\n",
      "[400]\tvalid_0's auc: 0.900367\n",
      "[450]\tvalid_0's auc: 0.901473\n",
      "[500]\tvalid_0's auc: 0.902017\n",
      "[550]\tvalid_0's auc: 0.902581\n",
      "[600]\tvalid_0's auc: 0.902886\n",
      "[650]\tvalid_0's auc: 0.903082\n",
      "[700]\tvalid_0's auc: 0.903289\n",
      "[750]\tvalid_0's auc: 0.903626\n",
      "[800]\tvalid_0's auc: 0.903949\n",
      "[850]\tvalid_0's auc: 0.904198\n",
      "[900]\tvalid_0's auc: 0.904349\n",
      "[950]\tvalid_0's auc: 0.904635\n",
      "[1000]\tvalid_0's auc: 0.904839\n",
      "[1050]\tvalid_0's auc: 0.904929\n",
      "[1100]\tvalid_0's auc: 0.905066\n",
      "[1150]\tvalid_0's auc: 0.90519\n",
      "[1200]\tvalid_0's auc: 0.905361\n",
      "[1250]\tvalid_0's auc: 0.905413\n",
      "[1300]\tvalid_0's auc: 0.905484\n",
      "[1350]\tvalid_0's auc: 0.905545\n",
      "[1400]\tvalid_0's auc: 0.905648\n",
      "[1450]\tvalid_0's auc: 0.905699\n",
      "[1500]\tvalid_0's auc: 0.90569\n",
      "[1550]\tvalid_0's auc: 0.905749\n",
      "[1600]\tvalid_0's auc: 0.905773\n",
      "[1650]\tvalid_0's auc: 0.905815\n",
      "[1700]\tvalid_0's auc: 0.905873\n",
      "[1750]\tvalid_0's auc: 0.905903\n",
      "[1800]\tvalid_0's auc: 0.905952\n",
      "[1850]\tvalid_0's auc: 0.905969\n",
      "[1900]\tvalid_0's auc: 0.906016\n",
      "[1950]\tvalid_0's auc: 0.905989\n",
      "[2000]\tvalid_0's auc: 0.906016\n",
      "[2050]\tvalid_0's auc: 0.90601\n",
      "[2100]\tvalid_0's auc: 0.906048\n",
      "[2150]\tvalid_0's auc: 0.906062\n",
      "[2200]\tvalid_0's auc: 0.90617\n"
     ]
    },
    {
     "name": "stderr",
     "output_type": "stream",
     "text": [
      "num_leaves, val_score: 0.906283:  90%|############################################1    | 18/20 [00:23<00:02,  1.11s/it]"
     ]
    },
    {
     "name": "stdout",
     "output_type": "stream",
     "text": [
      "[2250]\tvalid_0's auc: 0.906162\n",
      "[2300]\tvalid_0's auc: 0.906182\n",
      "[2350]\tvalid_0's auc: 0.906171\n",
      "Early stopping, best iteration is:\n",
      "[2268]\tvalid_0's auc: 0.906214\n"
     ]
    },
    {
     "name": "stderr",
     "output_type": "stream",
     "text": [
      "num_leaves, val_score: 0.906283:  95%|##############################################5  | 19/20 [00:23<00:01,  1.71s/it]C:\\Python39\\lib\\site-packages\\lightgbm\\engine.py:181: UserWarning: 'early_stopping_rounds' argument is deprecated and will be removed in a future release of LightGBM. Pass 'early_stopping()' callback via 'callbacks' argument instead.\n",
      "  _log_warning(\"'early_stopping_rounds' argument is deprecated and will be removed in a future release of LightGBM. \"\n",
      "C:\\Python39\\lib\\site-packages\\lightgbm\\engine.py:239: UserWarning: 'verbose_eval' argument is deprecated and will be removed in a future release of LightGBM. Pass 'log_evaluation()' callback via 'callbacks' argument instead.\n",
      "  _log_warning(\"'verbose_eval' argument is deprecated and will be removed in a future release of LightGBM. \"\n"
     ]
    },
    {
     "name": "stdout",
     "output_type": "stream",
     "text": [
      "Training until validation scores don't improve for 100 rounds\n",
      "[50]\tvalid_0's auc: 0.901008\n",
      "[100]\tvalid_0's auc: 0.903241\n",
      "[150]\tvalid_0's auc: 0.904579\n",
      "[200]\tvalid_0's auc: 0.905178\n",
      "[250]\tvalid_0's auc: 0.905347\n",
      "[300]\tvalid_0's auc: 0.905383\n"
     ]
    },
    {
     "name": "stderr",
     "output_type": "stream",
     "text": [
      "num_leaves, val_score: 0.906283: 100%|#################################################| 20/20 [00:24<00:00,  1.23s/it]\n"
     ]
    },
    {
     "name": "stdout",
     "output_type": "stream",
     "text": [
      "[350]\tvalid_0's auc: 0.90513\n",
      "Early stopping, best iteration is:\n",
      "[266]\tvalid_0's auc: 0.905437\n"
     ]
    },
    {
     "name": "stderr",
     "output_type": "stream",
     "text": [
      "bagging, val_score: 0.906283:   0%|                                                             | 0/10 [00:00<?, ?it/s]"
     ]
    },
    {
     "name": "stdout",
     "output_type": "stream",
     "text": [
      "Training until validation scores don't improve for 100 rounds"
     ]
    },
    {
     "name": "stderr",
     "output_type": "stream",
     "text": [
      "C:\\Python39\\lib\\site-packages\\lightgbm\\engine.py:181: UserWarning: 'early_stopping_rounds' argument is deprecated and will be removed in a future release of LightGBM. Pass 'early_stopping()' callback via 'callbacks' argument instead.\n",
      "  _log_warning(\"'early_stopping_rounds' argument is deprecated and will be removed in a future release of LightGBM. \"\n",
      "C:\\Python39\\lib\\site-packages\\lightgbm\\engine.py:239: UserWarning: 'verbose_eval' argument is deprecated and will be removed in a future release of LightGBM. Pass 'log_evaluation()' callback via 'callbacks' argument instead.\n",
      "  _log_warning(\"'verbose_eval' argument is deprecated and will be removed in a future release of LightGBM. \"\n"
     ]
    },
    {
     "name": "stdout",
     "output_type": "stream",
     "text": [
      "\n",
      "[50]\tvalid_0's auc: 0.896643\n",
      "[100]\tvalid_0's auc: 0.900083\n",
      "[150]\tvalid_0's auc: 0.902393\n",
      "[200]\tvalid_0's auc: 0.903677\n",
      "[250]\tvalid_0's auc: 0.904286\n",
      "[300]\tvalid_0's auc: 0.905061\n",
      "[350]\tvalid_0's auc: 0.90535\n",
      "[400]\tvalid_0's auc: 0.905607\n",
      "[450]\tvalid_0's auc: 0.90576\n",
      "[500]\tvalid_0's auc: 0.905768\n",
      "[550]\tvalid_0's auc: 0.90579\n",
      "Early stopping, best iteration is:\n",
      "[473]\tvalid_0's auc: 0.905888\n"
     ]
    },
    {
     "name": "stderr",
     "output_type": "stream",
     "text": [
      "bagging, val_score: 0.906283:  10%|#####3                                               | 1/10 [00:00<00:08,  1.00it/s]C:\\Python39\\lib\\site-packages\\lightgbm\\engine.py:181: UserWarning: 'early_stopping_rounds' argument is deprecated and will be removed in a future release of LightGBM. Pass 'early_stopping()' callback via 'callbacks' argument instead.\n",
      "  _log_warning(\"'early_stopping_rounds' argument is deprecated and will be removed in a future release of LightGBM. \"\n",
      "C:\\Python39\\lib\\site-packages\\lightgbm\\engine.py:239: UserWarning: 'verbose_eval' argument is deprecated and will be removed in a future release of LightGBM. Pass 'log_evaluation()' callback via 'callbacks' argument instead.\n",
      "  _log_warning(\"'verbose_eval' argument is deprecated and will be removed in a future release of LightGBM. \"\n"
     ]
    },
    {
     "name": "stdout",
     "output_type": "stream",
     "text": [
      "Training until validation scores don't improve for 100 rounds\n",
      "[50]\tvalid_0's auc: 0.896338\n",
      "[100]\tvalid_0's auc: 0.900161\n",
      "[150]\tvalid_0's auc: 0.902325\n",
      "[200]\tvalid_0's auc: 0.9038\n",
      "[250]\tvalid_0's auc: 0.904628\n",
      "[300]\tvalid_0's auc: 0.905358\n",
      "[350]\tvalid_0's auc: 0.905701\n",
      "[400]\tvalid_0's auc: 0.905868\n",
      "[450]\tvalid_0's auc: 0.906259\n",
      "[500]\tvalid_0's auc: 0.906347\n",
      "[550]\tvalid_0's auc: 0.906335\n"
     ]
    },
    {
     "name": "stderr",
     "output_type": "stream",
     "text": [
      "bagging, val_score: 0.906466:  20%|##########6                                          | 2/10 [00:02<00:08,  1.11s/it]"
     ]
    },
    {
     "name": "stdout",
     "output_type": "stream",
     "text": [
      "[600]\tvalid_0's auc: 0.906362\n",
      "[650]\tvalid_0's auc: 0.906305\n",
      "Early stopping, best iteration is:\n",
      "[578]\tvalid_0's auc: 0.906466\n"
     ]
    },
    {
     "name": "stderr",
     "output_type": "stream",
     "text": [
      "C:\\Python39\\lib\\site-packages\\lightgbm\\engine.py:181: UserWarning: 'early_stopping_rounds' argument is deprecated and will be removed in a future release of LightGBM. Pass 'early_stopping()' callback via 'callbacks' argument instead.\n",
      "  _log_warning(\"'early_stopping_rounds' argument is deprecated and will be removed in a future release of LightGBM. \"\n",
      "C:\\Python39\\lib\\site-packages\\lightgbm\\engine.py:239: UserWarning: 'verbose_eval' argument is deprecated and will be removed in a future release of LightGBM. Pass 'log_evaluation()' callback via 'callbacks' argument instead.\n",
      "  _log_warning(\"'verbose_eval' argument is deprecated and will be removed in a future release of LightGBM. \"\n"
     ]
    },
    {
     "name": "stdout",
     "output_type": "stream",
     "text": [
      "Training until validation scores don't improve for 100 rounds\n",
      "[50]\tvalid_0's auc: 0.895571\n",
      "[100]\tvalid_0's auc: 0.899727\n",
      "[150]\tvalid_0's auc: 0.901574\n",
      "[200]\tvalid_0's auc: 0.903178\n",
      "[250]\tvalid_0's auc: 0.904185\n",
      "[300]\tvalid_0's auc: 0.905015\n",
      "[350]\tvalid_0's auc: 0.905355\n",
      "[400]\tvalid_0's auc: 0.905659\n",
      "[450]\tvalid_0's auc: 0.905856\n",
      "[500]\tvalid_0's auc: 0.906009\n",
      "[550]\tvalid_0's auc: 0.906088\n",
      "[600]\tvalid_0's auc: 0.90613\n",
      "[650]\tvalid_0's auc: 0.906112\n"
     ]
    },
    {
     "name": "stderr",
     "output_type": "stream",
     "text": [
      "bagging, val_score: 0.906466:  30%|###############9                                     | 3/10 [00:03<00:09,  1.41s/it]"
     ]
    },
    {
     "name": "stdout",
     "output_type": "stream",
     "text": [
      "Early stopping, best iteration is:\n",
      "[597]\tvalid_0's auc: 0.906146\n",
      "Training until validation scores don't improve for 100 rounds\n"
     ]
    },
    {
     "name": "stderr",
     "output_type": "stream",
     "text": [
      "C:\\Python39\\lib\\site-packages\\lightgbm\\engine.py:181: UserWarning: 'early_stopping_rounds' argument is deprecated and will be removed in a future release of LightGBM. Pass 'early_stopping()' callback via 'callbacks' argument instead.\n",
      "  _log_warning(\"'early_stopping_rounds' argument is deprecated and will be removed in a future release of LightGBM. \"\n",
      "C:\\Python39\\lib\\site-packages\\lightgbm\\engine.py:239: UserWarning: 'verbose_eval' argument is deprecated and will be removed in a future release of LightGBM. Pass 'log_evaluation()' callback via 'callbacks' argument instead.\n",
      "  _log_warning(\"'verbose_eval' argument is deprecated and will be removed in a future release of LightGBM. \"\n"
     ]
    },
    {
     "name": "stdout",
     "output_type": "stream",
     "text": [
      "[50]\tvalid_0's auc: 0.895762\n",
      "[100]\tvalid_0's auc: 0.899392\n",
      "[150]\tvalid_0's auc: 0.901803\n",
      "[200]\tvalid_0's auc: 0.903322\n",
      "[250]\tvalid_0's auc: 0.904256\n",
      "[300]\tvalid_0's auc: 0.90494\n",
      "[350]\tvalid_0's auc: 0.905217\n",
      "[400]\tvalid_0's auc: 0.905643\n",
      "[450]\tvalid_0's auc: 0.90604\n",
      "[500]\tvalid_0's auc: 0.906166\n",
      "[550]\tvalid_0's auc: 0.90608\n",
      "[600]\tvalid_0's auc: 0.905921\n",
      "Early stopping, best iteration is:\n",
      "[508]\tvalid_0's auc: 0.906226\n"
     ]
    },
    {
     "name": "stderr",
     "output_type": "stream",
     "text": [
      "bagging, val_score: 0.906466:  40%|#####################2                               | 4/10 [00:05<00:07,  1.28s/it]C:\\Python39\\lib\\site-packages\\lightgbm\\engine.py:181: UserWarning: 'early_stopping_rounds' argument is deprecated and will be removed in a future release of LightGBM. Pass 'early_stopping()' callback via 'callbacks' argument instead.\n",
      "  _log_warning(\"'early_stopping_rounds' argument is deprecated and will be removed in a future release of LightGBM. \"\n",
      "C:\\Python39\\lib\\site-packages\\lightgbm\\engine.py:239: UserWarning: 'verbose_eval' argument is deprecated and will be removed in a future release of LightGBM. Pass 'log_evaluation()' callback via 'callbacks' argument instead.\n",
      "  _log_warning(\"'verbose_eval' argument is deprecated and will be removed in a future release of LightGBM. \"\n"
     ]
    },
    {
     "name": "stdout",
     "output_type": "stream",
     "text": [
      "Training until validation scores don't improve for 100 rounds\n",
      "[50]\tvalid_0's auc: 0.895987\n",
      "[100]\tvalid_0's auc: 0.899938\n",
      "[150]\tvalid_0's auc: 0.902203\n",
      "[200]\tvalid_0's auc: 0.903616\n",
      "[250]\tvalid_0's auc: 0.904483\n",
      "[300]\tvalid_0's auc: 0.905305\n",
      "[350]\tvalid_0's auc: 0.905585\n",
      "[400]\tvalid_0's auc: 0.905754\n",
      "[450]\tvalid_0's auc: 0.906049\n",
      "[500]\tvalid_0's auc: 0.906099\n",
      "[550]\tvalid_0's auc: 0.906329\n",
      "[600]\tvalid_0's auc: 0.906232\n",
      "[650]\tvalid_0's auc: 0.906254\n",
      "Early stopping, best iteration is:\n",
      "[559]\tvalid_0's auc: 0.906366\n"
     ]
    },
    {
     "name": "stderr",
     "output_type": "stream",
     "text": [
      "bagging, val_score: 0.906466:  50%|##########################5                          | 5/10 [00:06<00:07,  1.43s/it]C:\\Python39\\lib\\site-packages\\lightgbm\\engine.py:181: UserWarning: 'early_stopping_rounds' argument is deprecated and will be removed in a future release of LightGBM. Pass 'early_stopping()' callback via 'callbacks' argument instead.\n",
      "  _log_warning(\"'early_stopping_rounds' argument is deprecated and will be removed in a future release of LightGBM. \"\n",
      "C:\\Python39\\lib\\site-packages\\lightgbm\\engine.py:239: UserWarning: 'verbose_eval' argument is deprecated and will be removed in a future release of LightGBM. Pass 'log_evaluation()' callback via 'callbacks' argument instead.\n",
      "  _log_warning(\"'verbose_eval' argument is deprecated and will be removed in a future release of LightGBM. \"\n"
     ]
    },
    {
     "name": "stdout",
     "output_type": "stream",
     "text": [
      "Training until validation scores don't improve for 100 rounds\n",
      "[50]\tvalid_0's auc: 0.895801\n",
      "[100]\tvalid_0's auc: 0.899864\n",
      "[150]\tvalid_0's auc: 0.902178\n",
      "[200]\tvalid_0's auc: 0.903752\n",
      "[250]\tvalid_0's auc: 0.904872\n",
      "[300]\tvalid_0's auc: 0.905492\n",
      "[350]\tvalid_0's auc: 0.905813\n",
      "[400]\tvalid_0's auc: 0.906048\n",
      "[450]\tvalid_0's auc: 0.906339\n",
      "[500]\tvalid_0's auc: 0.906584\n",
      "[550]\tvalid_0's auc: 0.906586\n",
      "[600]\tvalid_0's auc: 0.906735\n"
     ]
    },
    {
     "name": "stderr",
     "output_type": "stream",
     "text": [
      "bagging, val_score: 0.906745:  50%|##########################5                          | 5/10 [00:08<00:07,  1.43s/it]"
     ]
    },
    {
     "name": "stdout",
     "output_type": "stream",
     "text": [
      "[650]\tvalid_0's auc: 0.90669\n",
      "[700]\tvalid_0's auc: 0.906615\n",
      "Early stopping, best iteration is:\n",
      "[612]\tvalid_0's auc: 0.906745\n"
     ]
    },
    {
     "name": "stderr",
     "output_type": "stream",
     "text": [
      "bagging, val_score: 0.906745:  60%|###############################8                     | 6/10 [00:08<00:06,  1.59s/it]C:\\Python39\\lib\\site-packages\\lightgbm\\engine.py:181: UserWarning: 'early_stopping_rounds' argument is deprecated and will be removed in a future release of LightGBM. Pass 'early_stopping()' callback via 'callbacks' argument instead.\n",
      "  _log_warning(\"'early_stopping_rounds' argument is deprecated and will be removed in a future release of LightGBM. \"\n",
      "C:\\Python39\\lib\\site-packages\\lightgbm\\engine.py:239: UserWarning: 'verbose_eval' argument is deprecated and will be removed in a future release of LightGBM. Pass 'log_evaluation()' callback via 'callbacks' argument instead.\n",
      "  _log_warning(\"'verbose_eval' argument is deprecated and will be removed in a future release of LightGBM. \"\n"
     ]
    },
    {
     "name": "stdout",
     "output_type": "stream",
     "text": [
      "Training until validation scores don't improve for 100 rounds\n",
      "[50]\tvalid_0's auc: 0.896594\n",
      "[100]\tvalid_0's auc: 0.899907\n",
      "[150]\tvalid_0's auc: 0.902142\n",
      "[200]\tvalid_0's auc: 0.903711\n",
      "[250]\tvalid_0's auc: 0.904501\n",
      "[300]\tvalid_0's auc: 0.905321\n",
      "[350]\tvalid_0's auc: 0.905625\n",
      "[400]\tvalid_0's auc: 0.905889\n",
      "[450]\tvalid_0's auc: 0.90619\n",
      "[500]\tvalid_0's auc: 0.90643\n",
      "[550]\tvalid_0's auc: 0.906404\n",
      "[600]\tvalid_0's auc: 0.90636\n",
      "Early stopping, best iteration is:\n",
      "[508]\tvalid_0's auc: 0.906463\n"
     ]
    },
    {
     "name": "stderr",
     "output_type": "stream",
     "text": [
      "bagging, val_score: 0.906745:  70%|#####################################                | 7/10 [00:09<00:04,  1.49s/it]C:\\Python39\\lib\\site-packages\\lightgbm\\engine.py:181: UserWarning: 'early_stopping_rounds' argument is deprecated and will be removed in a future release of LightGBM. Pass 'early_stopping()' callback via 'callbacks' argument instead.\n",
      "  _log_warning(\"'early_stopping_rounds' argument is deprecated and will be removed in a future release of LightGBM. \"\n",
      "C:\\Python39\\lib\\site-packages\\lightgbm\\engine.py:239: UserWarning: 'verbose_eval' argument is deprecated and will be removed in a future release of LightGBM. Pass 'log_evaluation()' callback via 'callbacks' argument instead.\n",
      "  _log_warning(\"'verbose_eval' argument is deprecated and will be removed in a future release of LightGBM. \"\n"
     ]
    },
    {
     "name": "stdout",
     "output_type": "stream",
     "text": [
      "Training until validation scores don't improve for 100 rounds\n",
      "[50]\tvalid_0's auc: 0.895704\n",
      "[100]\tvalid_0's auc: 0.899498\n",
      "[150]\tvalid_0's auc: 0.901757\n",
      "[200]\tvalid_0's auc: 0.903866\n",
      "[250]\tvalid_0's auc: 0.904763\n",
      "[300]\tvalid_0's auc: 0.905385\n",
      "[350]\tvalid_0's auc: 0.905817\n",
      "[400]\tvalid_0's auc: 0.905952\n"
     ]
    },
    {
     "name": "stderr",
     "output_type": "stream",
     "text": [
      "bagging, val_score: 0.906745:  80%|##########################################4          | 8/10 [00:10<00:02,  1.33s/it]"
     ]
    },
    {
     "name": "stdout",
     "output_type": "stream",
     "text": [
      "[450]\tvalid_0's auc: 0.905947\n",
      "[500]\tvalid_0's auc: 0.905918\n",
      "Early stopping, best iteration is:\n",
      "[413]\tvalid_0's auc: 0.906088\n"
     ]
    },
    {
     "name": "stderr",
     "output_type": "stream",
     "text": [
      "C:\\Python39\\lib\\site-packages\\lightgbm\\engine.py:181: UserWarning: 'early_stopping_rounds' argument is deprecated and will be removed in a future release of LightGBM. Pass 'early_stopping()' callback via 'callbacks' argument instead.\n",
      "  _log_warning(\"'early_stopping_rounds' argument is deprecated and will be removed in a future release of LightGBM. \"\n",
      "C:\\Python39\\lib\\site-packages\\lightgbm\\engine.py:239: UserWarning: 'verbose_eval' argument is deprecated and will be removed in a future release of LightGBM. Pass 'log_evaluation()' callback via 'callbacks' argument instead.\n",
      "  _log_warning(\"'verbose_eval' argument is deprecated and will be removed in a future release of LightGBM. \"\n"
     ]
    },
    {
     "name": "stdout",
     "output_type": "stream",
     "text": [
      "Training until validation scores don't improve for 100 rounds\n",
      "[50]\tvalid_0's auc: 0.896071\n",
      "[100]\tvalid_0's auc: 0.899889\n",
      "[150]\tvalid_0's auc: 0.902228\n",
      "[200]\tvalid_0's auc: 0.903477\n",
      "[250]\tvalid_0's auc: 0.904393\n",
      "[300]\tvalid_0's auc: 0.905112\n",
      "[350]\tvalid_0's auc: 0.905489\n",
      "[400]\tvalid_0's auc: 0.905663\n",
      "[450]\tvalid_0's auc: 0.905892\n",
      "[500]\tvalid_0's auc: 0.906105\n",
      "[550]\tvalid_0's auc: 0.905985\n"
     ]
    },
    {
     "name": "stderr",
     "output_type": "stream",
     "text": [
      "bagging, val_score: 0.906745:  90%|###############################################7     | 9/10 [00:12<00:01,  1.37s/it]"
     ]
    },
    {
     "name": "stdout",
     "output_type": "stream",
     "text": [
      "[600]\tvalid_0's auc: 0.906031\n",
      "Early stopping, best iteration is:\n",
      "[514]\tvalid_0's auc: 0.906243\n",
      "Training until validation scores don't improve for 100 rounds\n"
     ]
    },
    {
     "name": "stderr",
     "output_type": "stream",
     "text": [
      "C:\\Python39\\lib\\site-packages\\lightgbm\\engine.py:181: UserWarning: 'early_stopping_rounds' argument is deprecated and will be removed in a future release of LightGBM. Pass 'early_stopping()' callback via 'callbacks' argument instead.\n",
      "  _log_warning(\"'early_stopping_rounds' argument is deprecated and will be removed in a future release of LightGBM. \"\n",
      "C:\\Python39\\lib\\site-packages\\lightgbm\\engine.py:239: UserWarning: 'verbose_eval' argument is deprecated and will be removed in a future release of LightGBM. Pass 'log_evaluation()' callback via 'callbacks' argument instead.\n",
      "  _log_warning(\"'verbose_eval' argument is deprecated and will be removed in a future release of LightGBM. \"\n"
     ]
    },
    {
     "name": "stdout",
     "output_type": "stream",
     "text": [
      "[50]\tvalid_0's auc: 0.895582\n",
      "[100]\tvalid_0's auc: 0.899657\n",
      "[150]\tvalid_0's auc: 0.901731\n",
      "[200]\tvalid_0's auc: 0.903271\n",
      "[250]\tvalid_0's auc: 0.904334\n",
      "[300]\tvalid_0's auc: 0.905137\n",
      "[350]\tvalid_0's auc: 0.905538\n",
      "[400]\tvalid_0's auc: 0.905732\n",
      "[450]\tvalid_0's auc: 0.906021\n",
      "[500]\tvalid_0's auc: 0.906149\n",
      "[550]\tvalid_0's auc: 0.906275\n",
      "[600]\tvalid_0's auc: 0.906305\n",
      "[650]\tvalid_0's auc: 0.906333\n",
      "[700]\tvalid_0's auc: 0.906237\n"
     ]
    },
    {
     "name": "stderr",
     "output_type": "stream",
     "text": [
      "bagging, val_score: 0.906745: 100%|####################################################| 10/10 [00:13<00:00,  1.36s/it]\n"
     ]
    },
    {
     "name": "stdout",
     "output_type": "stream",
     "text": [
      "Early stopping, best iteration is:\n",
      "[627]\tvalid_0's auc: 0.906385\n"
     ]
    },
    {
     "name": "stderr",
     "output_type": "stream",
     "text": [
      "feature_fraction_stage2, val_score: 0.906745:   0%|                                              | 0/3 [00:00<?, ?it/s]"
     ]
    },
    {
     "name": "stdout",
     "output_type": "stream",
     "text": [
      "Training until validation scores don't improve for 100 rounds\n"
     ]
    },
    {
     "name": "stderr",
     "output_type": "stream",
     "text": [
      "C:\\Python39\\lib\\site-packages\\lightgbm\\engine.py:181: UserWarning: 'early_stopping_rounds' argument is deprecated and will be removed in a future release of LightGBM. Pass 'early_stopping()' callback via 'callbacks' argument instead.\n",
      "  _log_warning(\"'early_stopping_rounds' argument is deprecated and will be removed in a future release of LightGBM. \"\n",
      "C:\\Python39\\lib\\site-packages\\lightgbm\\engine.py:239: UserWarning: 'verbose_eval' argument is deprecated and will be removed in a future release of LightGBM. Pass 'log_evaluation()' callback via 'callbacks' argument instead.\n",
      "  _log_warning(\"'verbose_eval' argument is deprecated and will be removed in a future release of LightGBM. \"\n"
     ]
    },
    {
     "name": "stdout",
     "output_type": "stream",
     "text": [
      "[50]\tvalid_0's auc: 0.894905\n",
      "[100]\tvalid_0's auc: 0.899061\n",
      "[150]\tvalid_0's auc: 0.901446\n",
      "[200]\tvalid_0's auc: 0.903171\n",
      "[250]\tvalid_0's auc: 0.904076\n",
      "[300]\tvalid_0's auc: 0.904813\n",
      "[350]\tvalid_0's auc: 0.905096\n",
      "[400]\tvalid_0's auc: 0.905318\n",
      "[450]\tvalid_0's auc: 0.905558\n",
      "[500]\tvalid_0's auc: 0.9059\n",
      "[550]\tvalid_0's auc: 0.905986\n",
      "[600]\tvalid_0's auc: 0.905977\n"
     ]
    },
    {
     "name": "stderr",
     "output_type": "stream",
     "text": [
      "feature_fraction_stage2, val_score: 0.906745:  33%|############6                         | 1/3 [00:01<00:02,  1.43s/it]"
     ]
    },
    {
     "name": "stdout",
     "output_type": "stream",
     "text": [
      "Early stopping, best iteration is:\n",
      "[528]\tvalid_0's auc: 0.906055\n",
      "Training until validation scores don't improve for 100 rounds\n"
     ]
    },
    {
     "name": "stderr",
     "output_type": "stream",
     "text": [
      "C:\\Python39\\lib\\site-packages\\lightgbm\\engine.py:181: UserWarning: 'early_stopping_rounds' argument is deprecated and will be removed in a future release of LightGBM. Pass 'early_stopping()' callback via 'callbacks' argument instead.\n",
      "  _log_warning(\"'early_stopping_rounds' argument is deprecated and will be removed in a future release of LightGBM. \"\n",
      "C:\\Python39\\lib\\site-packages\\lightgbm\\engine.py:239: UserWarning: 'verbose_eval' argument is deprecated and will be removed in a future release of LightGBM. Pass 'log_evaluation()' callback via 'callbacks' argument instead.\n",
      "  _log_warning(\"'verbose_eval' argument is deprecated and will be removed in a future release of LightGBM. \"\n"
     ]
    },
    {
     "name": "stdout",
     "output_type": "stream",
     "text": [
      "[50]\tvalid_0's auc: 0.895519\n",
      "[100]\tvalid_0's auc: 0.899901\n",
      "[150]\tvalid_0's auc: 0.902004\n",
      "[200]\tvalid_0's auc: 0.903826\n",
      "[250]\tvalid_0's auc: 0.904828\n",
      "[300]\tvalid_0's auc: 0.905527\n",
      "[350]\tvalid_0's auc: 0.905809\n",
      "[400]\tvalid_0's auc: 0.905919\n",
      "[450]\tvalid_0's auc: 0.906121\n",
      "[500]\tvalid_0's auc: 0.906327\n",
      "[550]\tvalid_0's auc: 0.906263\n",
      "[600]\tvalid_0's auc: 0.906389\n"
     ]
    },
    {
     "name": "stderr",
     "output_type": "stream",
     "text": [
      "feature_fraction_stage2, val_score: 0.906745:  67%|#########################3            | 2/3 [00:02<00:01,  1.38s/it]"
     ]
    },
    {
     "name": "stdout",
     "output_type": "stream",
     "text": [
      "[650]\tvalid_0's auc: 0.906385\n",
      "[700]\tvalid_0's auc: 0.906224\n",
      "Early stopping, best iteration is:\n",
      "[618]\tvalid_0's auc: 0.906487\n"
     ]
    },
    {
     "name": "stderr",
     "output_type": "stream",
     "text": [
      "C:\\Python39\\lib\\site-packages\\lightgbm\\engine.py:181: UserWarning: 'early_stopping_rounds' argument is deprecated and will be removed in a future release of LightGBM. Pass 'early_stopping()' callback via 'callbacks' argument instead.\n",
      "  _log_warning(\"'early_stopping_rounds' argument is deprecated and will be removed in a future release of LightGBM. \"\n",
      "C:\\Python39\\lib\\site-packages\\lightgbm\\engine.py:239: UserWarning: 'verbose_eval' argument is deprecated and will be removed in a future release of LightGBM. Pass 'log_evaluation()' callback via 'callbacks' argument instead.\n",
      "  _log_warning(\"'verbose_eval' argument is deprecated and will be removed in a future release of LightGBM. \"\n"
     ]
    },
    {
     "name": "stdout",
     "output_type": "stream",
     "text": [
      "Training until validation scores don't improve for 100 rounds\n",
      "[50]\tvalid_0's auc: 0.895505\n",
      "[100]\tvalid_0's auc: 0.899505\n",
      "[150]\tvalid_0's auc: 0.901541\n",
      "[200]\tvalid_0's auc: 0.903287\n",
      "[250]\tvalid_0's auc: 0.904426\n",
      "[300]\tvalid_0's auc: 0.905027\n",
      "[350]\tvalid_0's auc: 0.905302\n",
      "[400]\tvalid_0's auc: 0.905584\n",
      "[450]\tvalid_0's auc: 0.905661\n",
      "[500]\tvalid_0's auc: 0.905956\n",
      "[550]\tvalid_0's auc: 0.906056\n",
      "[600]\tvalid_0's auc: 0.906098\n",
      "[650]\tvalid_0's auc: 0.90617\n",
      "[700]\tvalid_0's auc: 0.906067\n"
     ]
    },
    {
     "name": "stderr",
     "output_type": "stream",
     "text": [
      "feature_fraction_stage2, val_score: 0.906745: 100%|######################################| 3/3 [00:04<00:00,  1.38s/it]\n"
     ]
    },
    {
     "name": "stdout",
     "output_type": "stream",
     "text": [
      "[750]\tvalid_0's auc: 0.905965\n",
      "Early stopping, best iteration is:\n",
      "[652]\tvalid_0's auc: 0.906181\n"
     ]
    },
    {
     "name": "stderr",
     "output_type": "stream",
     "text": [
      "regularization_factors, val_score: 0.906745:   0%|                                              | 0/20 [00:00<?, ?it/s]"
     ]
    },
    {
     "name": "stdout",
     "output_type": "stream",
     "text": [
      "Training until validation scores don't improve for 100 rounds\n"
     ]
    },
    {
     "name": "stderr",
     "output_type": "stream",
     "text": [
      "C:\\Python39\\lib\\site-packages\\lightgbm\\engine.py:181: UserWarning: 'early_stopping_rounds' argument is deprecated and will be removed in a future release of LightGBM. Pass 'early_stopping()' callback via 'callbacks' argument instead.\n",
      "  _log_warning(\"'early_stopping_rounds' argument is deprecated and will be removed in a future release of LightGBM. \"\n",
      "C:\\Python39\\lib\\site-packages\\lightgbm\\engine.py:239: UserWarning: 'verbose_eval' argument is deprecated and will be removed in a future release of LightGBM. Pass 'log_evaluation()' callback via 'callbacks' argument instead.\n",
      "  _log_warning(\"'verbose_eval' argument is deprecated and will be removed in a future release of LightGBM. \"\n"
     ]
    },
    {
     "name": "stdout",
     "output_type": "stream",
     "text": [
      "[50]\tvalid_0's auc: 0.89573\n",
      "[100]\tvalid_0's auc: 0.899836\n",
      "[150]\tvalid_0's auc: 0.902134\n",
      "[200]\tvalid_0's auc: 0.903657\n",
      "[250]\tvalid_0's auc: 0.904836\n",
      "[300]\tvalid_0's auc: 0.905512\n",
      "[350]\tvalid_0's auc: 0.905781\n",
      "[400]\tvalid_0's auc: 0.905956\n",
      "[450]\tvalid_0's auc: 0.906203\n",
      "[500]\tvalid_0's auc: 0.906363\n",
      "[550]\tvalid_0's auc: 0.906339\n",
      "[600]\tvalid_0's auc: 0.9066\n",
      "[650]\tvalid_0's auc: 0.906496\n",
      "[700]\tvalid_0's auc: 0.906465\n",
      "Early stopping, best iteration is:\n",
      "[618]\tvalid_0's auc: 0.906652\n"
     ]
    },
    {
     "name": "stderr",
     "output_type": "stream",
     "text": [
      "regularization_factors, val_score: 0.906745:   5%|#9                                    | 1/20 [00:01<00:26,  1.38s/it]C:\\Python39\\lib\\site-packages\\lightgbm\\engine.py:181: UserWarning: 'early_stopping_rounds' argument is deprecated and will be removed in a future release of LightGBM. Pass 'early_stopping()' callback via 'callbacks' argument instead.\n",
      "  _log_warning(\"'early_stopping_rounds' argument is deprecated and will be removed in a future release of LightGBM. \"\n",
      "C:\\Python39\\lib\\site-packages\\lightgbm\\engine.py:239: UserWarning: 'verbose_eval' argument is deprecated and will be removed in a future release of LightGBM. Pass 'log_evaluation()' callback via 'callbacks' argument instead.\n",
      "  _log_warning(\"'verbose_eval' argument is deprecated and will be removed in a future release of LightGBM. \"\n"
     ]
    },
    {
     "name": "stdout",
     "output_type": "stream",
     "text": [
      "Training until validation scores don't improve for 100 rounds\n",
      "[50]\tvalid_0's auc: 0.895751\n",
      "[100]\tvalid_0's auc: 0.899878\n",
      "[150]\tvalid_0's auc: 0.902154\n",
      "[200]\tvalid_0's auc: 0.903747\n",
      "[250]\tvalid_0's auc: 0.904779\n",
      "[300]\tvalid_0's auc: 0.905505\n",
      "[350]\tvalid_0's auc: 0.905853\n",
      "[400]\tvalid_0's auc: 0.906019\n",
      "[450]\tvalid_0's auc: 0.906297\n",
      "[500]\tvalid_0's auc: 0.906545\n",
      "[550]\tvalid_0's auc: 0.906571\n",
      "[600]\tvalid_0's auc: 0.906711\n",
      "[650]\tvalid_0's auc: 0.906655\n",
      "[700]\tvalid_0's auc: 0.906559\n",
      "Early stopping, best iteration is:\n",
      "[617]\tvalid_0's auc: 0.906784\n"
     ]
    },
    {
     "name": "stderr",
     "output_type": "stream",
     "text": [
      "regularization_factors, val_score: 0.906784:  10%|###8                                  | 2/20 [00:02<00:24,  1.35s/it]C:\\Python39\\lib\\site-packages\\lightgbm\\engine.py:181: UserWarning: 'early_stopping_rounds' argument is deprecated and will be removed in a future release of LightGBM. Pass 'early_stopping()' callback via 'callbacks' argument instead.\n",
      "  _log_warning(\"'early_stopping_rounds' argument is deprecated and will be removed in a future release of LightGBM. \"\n",
      "C:\\Python39\\lib\\site-packages\\lightgbm\\engine.py:239: UserWarning: 'verbose_eval' argument is deprecated and will be removed in a future release of LightGBM. Pass 'log_evaluation()' callback via 'callbacks' argument instead.\n",
      "  _log_warning(\"'verbose_eval' argument is deprecated and will be removed in a future release of LightGBM. \"\n"
     ]
    },
    {
     "name": "stdout",
     "output_type": "stream",
     "text": [
      "Training until validation scores don't improve for 100 rounds\n",
      "[50]\tvalid_0's auc: 0.893945\n",
      "[100]\tvalid_0's auc: 0.898319\n",
      "[150]\tvalid_0's auc: 0.900501\n",
      "[200]\tvalid_0's auc: 0.902145\n",
      "[250]\tvalid_0's auc: 0.90317\n",
      "[300]\tvalid_0's auc: 0.904023\n",
      "[350]\tvalid_0's auc: 0.904483\n",
      "[400]\tvalid_0's auc: 0.904762\n",
      "[450]\tvalid_0's auc: 0.905112\n",
      "[500]\tvalid_0's auc: 0.905362\n",
      "[550]\tvalid_0's auc: 0.905466\n",
      "[600]\tvalid_0's auc: 0.905662\n",
      "[650]\tvalid_0's auc: 0.905792\n",
      "[700]\tvalid_0's auc: 0.905819\n",
      "[750]\tvalid_0's auc: 0.905826\n",
      "[800]\tvalid_0's auc: 0.905876\n",
      "[850]\tvalid_0's auc: 0.905928\n",
      "[900]\tvalid_0's auc: 0.905842\n",
      "[950]\tvalid_0's auc: 0.90583\n",
      "Early stopping, best iteration is:\n",
      "[864]\tvalid_0's auc: 0.905964\n"
     ]
    },
    {
     "name": "stderr",
     "output_type": "stream",
     "text": [
      "regularization_factors, val_score: 0.906784:  15%|#####7                                | 3/20 [00:04<00:26,  1.57s/it]C:\\Python39\\lib\\site-packages\\lightgbm\\engine.py:181: UserWarning: 'early_stopping_rounds' argument is deprecated and will be removed in a future release of LightGBM. Pass 'early_stopping()' callback via 'callbacks' argument instead.\n",
      "  _log_warning(\"'early_stopping_rounds' argument is deprecated and will be removed in a future release of LightGBM. \"\n",
      "C:\\Python39\\lib\\site-packages\\lightgbm\\engine.py:239: UserWarning: 'verbose_eval' argument is deprecated and will be removed in a future release of LightGBM. Pass 'log_evaluation()' callback via 'callbacks' argument instead.\n",
      "  _log_warning(\"'verbose_eval' argument is deprecated and will be removed in a future release of LightGBM. \"\n"
     ]
    },
    {
     "name": "stdout",
     "output_type": "stream",
     "text": [
      "Training until validation scores don't improve for 100 rounds\n",
      "[50]\tvalid_0's auc: 0.895741\n",
      "[100]\tvalid_0's auc: 0.899836\n",
      "[150]\tvalid_0's auc: 0.902144\n",
      "[200]\tvalid_0's auc: 0.903688\n",
      "[250]\tvalid_0's auc: 0.904827\n",
      "[300]\tvalid_0's auc: 0.905527\n",
      "[350]\tvalid_0's auc: 0.905836\n",
      "[400]\tvalid_0's auc: 0.905982\n",
      "[450]\tvalid_0's auc: 0.906209\n",
      "[500]\tvalid_0's auc: 0.906506\n",
      "[550]\tvalid_0's auc: 0.906555\n",
      "[600]\tvalid_0's auc: 0.906667\n",
      "[650]\tvalid_0's auc: 0.906631\n"
     ]
    },
    {
     "name": "stderr",
     "output_type": "stream",
     "text": [
      "regularization_factors, val_score: 0.906784:  20%|#######6                              | 4/20 [00:05<00:24,  1.52s/it]"
     ]
    },
    {
     "name": "stdout",
     "output_type": "stream",
     "text": [
      "[700]\tvalid_0's auc: 0.906543\n",
      "Early stopping, best iteration is:\n",
      "[618]\tvalid_0's auc: 0.906732\n",
      "Training until validation scores don't improve for 100 rounds\n"
     ]
    },
    {
     "name": "stderr",
     "output_type": "stream",
     "text": [
      "C:\\Python39\\lib\\site-packages\\lightgbm\\engine.py:181: UserWarning: 'early_stopping_rounds' argument is deprecated and will be removed in a future release of LightGBM. Pass 'early_stopping()' callback via 'callbacks' argument instead.\n",
      "  _log_warning(\"'early_stopping_rounds' argument is deprecated and will be removed in a future release of LightGBM. \"\n",
      "C:\\Python39\\lib\\site-packages\\lightgbm\\engine.py:239: UserWarning: 'verbose_eval' argument is deprecated and will be removed in a future release of LightGBM. Pass 'log_evaluation()' callback via 'callbacks' argument instead.\n",
      "  _log_warning(\"'verbose_eval' argument is deprecated and will be removed in a future release of LightGBM. \"\n"
     ]
    },
    {
     "name": "stdout",
     "output_type": "stream",
     "text": [
      "[50]\tvalid_0's auc: 0.895801\n",
      "[100]\tvalid_0's auc: 0.899864\n",
      "[150]\tvalid_0's auc: 0.902177\n",
      "[200]\tvalid_0's auc: 0.903757\n",
      "[250]\tvalid_0's auc: 0.904852\n",
      "[300]\tvalid_0's auc: 0.905588\n",
      "[350]\tvalid_0's auc: 0.905876\n",
      "[400]\tvalid_0's auc: 0.906047\n",
      "[450]\tvalid_0's auc: 0.906303\n",
      "[500]\tvalid_0's auc: 0.906563\n",
      "[550]\tvalid_0's auc: 0.906564\n",
      "[600]\tvalid_0's auc: 0.906747\n"
     ]
    },
    {
     "name": "stderr",
     "output_type": "stream",
     "text": [
      "regularization_factors, val_score: 0.906817:  20%|#######6                              | 4/20 [00:07<00:24,  1.52s/it]"
     ]
    },
    {
     "name": "stdout",
     "output_type": "stream",
     "text": [
      "[650]\tvalid_0's auc: 0.906777\n",
      "[700]\tvalid_0's auc: 0.906721\n",
      "Early stopping, best iteration is:\n",
      "[642]\tvalid_0's auc: 0.906817\n"
     ]
    },
    {
     "name": "stderr",
     "output_type": "stream",
     "text": [
      "regularization_factors, val_score: 0.906817:  25%|#########5                            | 5/20 [00:07<00:22,  1.47s/it]C:\\Python39\\lib\\site-packages\\lightgbm\\engine.py:181: UserWarning: 'early_stopping_rounds' argument is deprecated and will be removed in a future release of LightGBM. Pass 'early_stopping()' callback via 'callbacks' argument instead.\n",
      "  _log_warning(\"'early_stopping_rounds' argument is deprecated and will be removed in a future release of LightGBM. \"\n",
      "C:\\Python39\\lib\\site-packages\\lightgbm\\engine.py:239: UserWarning: 'verbose_eval' argument is deprecated and will be removed in a future release of LightGBM. Pass 'log_evaluation()' callback via 'callbacks' argument instead.\n",
      "  _log_warning(\"'verbose_eval' argument is deprecated and will be removed in a future release of LightGBM. \"\n"
     ]
    },
    {
     "name": "stdout",
     "output_type": "stream",
     "text": [
      "Training until validation scores don't improve for 100 rounds\n",
      "[50]\tvalid_0's auc: 0.895658\n",
      "[100]\tvalid_0's auc: 0.899808\n",
      "[150]\tvalid_0's auc: 0.902119\n",
      "[200]\tvalid_0's auc: 0.903687\n",
      "[250]\tvalid_0's auc: 0.904739\n",
      "[300]\tvalid_0's auc: 0.905467\n",
      "[350]\tvalid_0's auc: 0.905816\n",
      "[400]\tvalid_0's auc: 0.906032\n",
      "[450]\tvalid_0's auc: 0.906321\n",
      "[500]\tvalid_0's auc: 0.906534\n",
      "[550]\tvalid_0's auc: 0.906549\n",
      "[600]\tvalid_0's auc: 0.906697\n",
      "[650]\tvalid_0's auc: 0.906612\n"
     ]
    },
    {
     "name": "stderr",
     "output_type": "stream",
     "text": [
      "regularization_factors, val_score: 0.906817:  30%|###########4                          | 6/20 [00:08<00:20,  1.45s/it]"
     ]
    },
    {
     "name": "stdout",
     "output_type": "stream",
     "text": [
      "[700]\tvalid_0's auc: 0.906508\n",
      "Early stopping, best iteration is:\n",
      "[613]\tvalid_0's auc: 0.90674\n",
      "Training until validation scores don't improve for 100 rounds\n"
     ]
    },
    {
     "name": "stderr",
     "output_type": "stream",
     "text": [
      "C:\\Python39\\lib\\site-packages\\lightgbm\\engine.py:181: UserWarning: 'early_stopping_rounds' argument is deprecated and will be removed in a future release of LightGBM. Pass 'early_stopping()' callback via 'callbacks' argument instead.\n",
      "  _log_warning(\"'early_stopping_rounds' argument is deprecated and will be removed in a future release of LightGBM. \"\n",
      "C:\\Python39\\lib\\site-packages\\lightgbm\\engine.py:239: UserWarning: 'verbose_eval' argument is deprecated and will be removed in a future release of LightGBM. Pass 'log_evaluation()' callback via 'callbacks' argument instead.\n",
      "  _log_warning(\"'verbose_eval' argument is deprecated and will be removed in a future release of LightGBM. \"\n"
     ]
    },
    {
     "name": "stdout",
     "output_type": "stream",
     "text": [
      "[50]\tvalid_0's auc: 0.895801\n",
      "[100]\tvalid_0's auc: 0.899864\n",
      "[150]\tvalid_0's auc: 0.902178\n",
      "[200]\tvalid_0's auc: 0.903757\n",
      "[250]\tvalid_0's auc: 0.904852\n",
      "[300]\tvalid_0's auc: 0.905587\n",
      "[350]\tvalid_0's auc: 0.905871\n",
      "[400]\tvalid_0's auc: 0.906055\n",
      "[450]\tvalid_0's auc: 0.906235\n",
      "[500]\tvalid_0's auc: 0.906456\n",
      "[550]\tvalid_0's auc: 0.906546\n",
      "[600]\tvalid_0's auc: 0.906749\n",
      "[650]\tvalid_0's auc: 0.906806\n",
      "[700]\tvalid_0's auc: 0.906747\n"
     ]
    },
    {
     "name": "stderr",
     "output_type": "stream",
     "text": [
      "regularization_factors, val_score: 0.906845:  35%|#############3                        | 7/20 [00:10<00:19,  1.48s/it]"
     ]
    },
    {
     "name": "stdout",
     "output_type": "stream",
     "text": [
      "Early stopping, best iteration is:\n",
      "[642]\tvalid_0's auc: 0.906845\n",
      "Training until validation scores don't improve for 100 rounds\n"
     ]
    },
    {
     "name": "stderr",
     "output_type": "stream",
     "text": [
      "C:\\Python39\\lib\\site-packages\\lightgbm\\engine.py:181: UserWarning: 'early_stopping_rounds' argument is deprecated and will be removed in a future release of LightGBM. Pass 'early_stopping()' callback via 'callbacks' argument instead.\n",
      "  _log_warning(\"'early_stopping_rounds' argument is deprecated and will be removed in a future release of LightGBM. \"\n",
      "C:\\Python39\\lib\\site-packages\\lightgbm\\engine.py:239: UserWarning: 'verbose_eval' argument is deprecated and will be removed in a future release of LightGBM. Pass 'log_evaluation()' callback via 'callbacks' argument instead.\n",
      "  _log_warning(\"'verbose_eval' argument is deprecated and will be removed in a future release of LightGBM. \"\n"
     ]
    },
    {
     "name": "stdout",
     "output_type": "stream",
     "text": [
      "[50]\tvalid_0's auc: 0.895354\n",
      "[100]\tvalid_0's auc: 0.89971\n",
      "[150]\tvalid_0's auc: 0.902075\n",
      "[200]\tvalid_0's auc: 0.903643\n",
      "[250]\tvalid_0's auc: 0.904835\n",
      "[300]\tvalid_0's auc: 0.905545\n",
      "[350]\tvalid_0's auc: 0.90587\n",
      "[400]\tvalid_0's auc: 0.906061\n",
      "[450]\tvalid_0's auc: 0.906208\n",
      "[500]\tvalid_0's auc: 0.906273\n",
      "[550]\tvalid_0's auc: 0.906321\n",
      "[600]\tvalid_0's auc: 0.906551\n"
     ]
    },
    {
     "name": "stderr",
     "output_type": "stream",
     "text": [
      "regularization_factors, val_score: 0.906845:  40%|###############2                      | 8/20 [00:11<00:17,  1.46s/it]"
     ]
    },
    {
     "name": "stdout",
     "output_type": "stream",
     "text": [
      "[650]\tvalid_0's auc: 0.906543\n",
      "[700]\tvalid_0's auc: 0.906454\n",
      "Early stopping, best iteration is:\n",
      "[626]\tvalid_0's auc: 0.906596\n"
     ]
    },
    {
     "name": "stderr",
     "output_type": "stream",
     "text": [
      "regularization_factors, val_score: 0.906845:  40%|###############2                      | 8/20 [00:11<00:17,  1.46s/it]C:\\Python39\\lib\\site-packages\\lightgbm\\engine.py:181: UserWarning: 'early_stopping_rounds' argument is deprecated and will be removed in a future release of LightGBM. Pass 'early_stopping()' callback via 'callbacks' argument instead.\n",
      "  _log_warning(\"'early_stopping_rounds' argument is deprecated and will be removed in a future release of LightGBM. \"\n",
      "C:\\Python39\\lib\\site-packages\\lightgbm\\engine.py:239: UserWarning: 'verbose_eval' argument is deprecated and will be removed in a future release of LightGBM. Pass 'log_evaluation()' callback via 'callbacks' argument instead.\n",
      "  _log_warning(\"'verbose_eval' argument is deprecated and will be removed in a future release of LightGBM. \"\n"
     ]
    },
    {
     "name": "stdout",
     "output_type": "stream",
     "text": [
      "Training until validation scores don't improve for 100 rounds\n",
      "[50]\tvalid_0's auc: 0.895801\n",
      "[100]\tvalid_0's auc: 0.899865\n",
      "[150]\tvalid_0's auc: 0.902178\n",
      "[200]\tvalid_0's auc: 0.903757\n",
      "[250]\tvalid_0's auc: 0.904852\n",
      "[300]\tvalid_0's auc: 0.905587\n",
      "[350]\tvalid_0's auc: 0.905875\n",
      "[400]\tvalid_0's auc: 0.906047\n",
      "[450]\tvalid_0's auc: 0.906304\n",
      "[500]\tvalid_0's auc: 0.906563\n",
      "[550]\tvalid_0's auc: 0.906571\n",
      "[600]\tvalid_0's auc: 0.906776\n",
      "[650]\tvalid_0's auc: 0.906744\n",
      "[700]\tvalid_0's auc: 0.906732\n",
      "Early stopping, best iteration is:\n",
      "[618]\tvalid_0's auc: 0.906846\n"
     ]
    },
    {
     "name": "stderr",
     "output_type": "stream",
     "text": [
      "regularization_factors, val_score: 0.906846:  45%|#################1                    | 9/20 [00:13<00:15,  1.45s/it]C:\\Python39\\lib\\site-packages\\lightgbm\\engine.py:181: UserWarning: 'early_stopping_rounds' argument is deprecated and will be removed in a future release of LightGBM. Pass 'early_stopping()' callback via 'callbacks' argument instead.\n",
      "  _log_warning(\"'early_stopping_rounds' argument is deprecated and will be removed in a future release of LightGBM. \"\n",
      "C:\\Python39\\lib\\site-packages\\lightgbm\\engine.py:239: UserWarning: 'verbose_eval' argument is deprecated and will be removed in a future release of LightGBM. Pass 'log_evaluation()' callback via 'callbacks' argument instead.\n",
      "  _log_warning(\"'verbose_eval' argument is deprecated and will be removed in a future release of LightGBM. \"\n"
     ]
    },
    {
     "name": "stdout",
     "output_type": "stream",
     "text": [
      "Training until validation scores don't improve for 100 rounds\n",
      "[50]\tvalid_0's auc: 0.895031\n",
      "[100]\tvalid_0's auc: 0.899272\n",
      "[150]\tvalid_0's auc: 0.901602\n",
      "[200]\tvalid_0's auc: 0.903125\n",
      "[250]\tvalid_0's auc: 0.90428\n",
      "[300]\tvalid_0's auc: 0.904992\n",
      "[350]\tvalid_0's auc: 0.905423\n",
      "[400]\tvalid_0's auc: 0.905786\n",
      "[450]\tvalid_0's auc: 0.905987\n",
      "[500]\tvalid_0's auc: 0.906208\n",
      "[550]\tvalid_0's auc: 0.906261\n",
      "[600]\tvalid_0's auc: 0.906448\n",
      "[650]\tvalid_0's auc: 0.906514\n",
      "[700]\tvalid_0's auc: 0.906492\n"
     ]
    },
    {
     "name": "stderr",
     "output_type": "stream",
     "text": [
      "regularization_factors, val_score: 0.906846:  50%|##################5                  | 10/20 [00:14<00:14,  1.45s/it]"
     ]
    },
    {
     "name": "stdout",
     "output_type": "stream",
     "text": [
      "Early stopping, best iteration is:\n",
      "[620]\tvalid_0's auc: 0.906546\n",
      "Training until validation scores don't improve for 100 rounds\n"
     ]
    },
    {
     "name": "stderr",
     "output_type": "stream",
     "text": [
      "C:\\Python39\\lib\\site-packages\\lightgbm\\engine.py:181: UserWarning: 'early_stopping_rounds' argument is deprecated and will be removed in a future release of LightGBM. Pass 'early_stopping()' callback via 'callbacks' argument instead.\n",
      "  _log_warning(\"'early_stopping_rounds' argument is deprecated and will be removed in a future release of LightGBM. \"\n",
      "C:\\Python39\\lib\\site-packages\\lightgbm\\engine.py:239: UserWarning: 'verbose_eval' argument is deprecated and will be removed in a future release of LightGBM. Pass 'log_evaluation()' callback via 'callbacks' argument instead.\n",
      "  _log_warning(\"'verbose_eval' argument is deprecated and will be removed in a future release of LightGBM. \"\n"
     ]
    },
    {
     "name": "stdout",
     "output_type": "stream",
     "text": [
      "[50]\tvalid_0's auc: 0.895801\n",
      "[100]\tvalid_0's auc: 0.899864\n",
      "[150]\tvalid_0's auc: 0.902178\n",
      "[200]\tvalid_0's auc: 0.903752\n",
      "[250]\tvalid_0's auc: 0.904872\n",
      "[300]\tvalid_0's auc: 0.905492\n",
      "[350]\tvalid_0's auc: 0.905813\n",
      "[400]\tvalid_0's auc: 0.906048\n",
      "[450]\tvalid_0's auc: 0.906336\n",
      "[500]\tvalid_0's auc: 0.906582\n",
      "[550]\tvalid_0's auc: 0.906609\n",
      "[600]\tvalid_0's auc: 0.906788\n"
     ]
    },
    {
     "name": "stderr",
     "output_type": "stream",
     "text": [
      "regularization_factors, val_score: 0.906846:  55%|####################3                | 11/20 [00:15<00:12,  1.42s/it]"
     ]
    },
    {
     "name": "stdout",
     "output_type": "stream",
     "text": [
      "[650]\tvalid_0's auc: 0.906783\n",
      "[700]\tvalid_0's auc: 0.90669\n",
      "Early stopping, best iteration is:\n",
      "[618]\tvalid_0's auc: 0.906838\n"
     ]
    },
    {
     "name": "stderr",
     "output_type": "stream",
     "text": [
      "C:\\Python39\\lib\\site-packages\\lightgbm\\engine.py:181: UserWarning: 'early_stopping_rounds' argument is deprecated and will be removed in a future release of LightGBM. Pass 'early_stopping()' callback via 'callbacks' argument instead.\n",
      "  _log_warning(\"'early_stopping_rounds' argument is deprecated and will be removed in a future release of LightGBM. \"\n",
      "C:\\Python39\\lib\\site-packages\\lightgbm\\engine.py:239: UserWarning: 'verbose_eval' argument is deprecated and will be removed in a future release of LightGBM. Pass 'log_evaluation()' callback via 'callbacks' argument instead.\n",
      "  _log_warning(\"'verbose_eval' argument is deprecated and will be removed in a future release of LightGBM. \"\n"
     ]
    },
    {
     "name": "stdout",
     "output_type": "stream",
     "text": [
      "Training until validation scores don't improve for 100 rounds\n",
      "[50]\tvalid_0's auc: 0.895801\n",
      "[100]\tvalid_0's auc: 0.899864\n",
      "[150]\tvalid_0's auc: 0.902178\n",
      "[200]\tvalid_0's auc: 0.903752\n",
      "[250]\tvalid_0's auc: 0.904872\n",
      "[300]\tvalid_0's auc: 0.905492\n",
      "[350]\tvalid_0's auc: 0.905813\n",
      "[400]\tvalid_0's auc: 0.906048\n",
      "[450]\tvalid_0's auc: 0.906339\n",
      "[500]\tvalid_0's auc: 0.906584\n",
      "[550]\tvalid_0's auc: 0.906588\n",
      "[600]\tvalid_0's auc: 0.906733\n",
      "[650]\tvalid_0's auc: 0.906689\n",
      "[700]\tvalid_0's auc: 0.90655\n",
      "Early stopping, best iteration is:\n",
      "[607]\tvalid_0's auc: 0.906739\n"
     ]
    },
    {
     "name": "stderr",
     "output_type": "stream",
     "text": [
      "regularization_factors, val_score: 0.906846:  60%|######################2              | 12/20 [00:17<00:11,  1.40s/it]C:\\Python39\\lib\\site-packages\\lightgbm\\engine.py:181: UserWarning: 'early_stopping_rounds' argument is deprecated and will be removed in a future release of LightGBM. Pass 'early_stopping()' callback via 'callbacks' argument instead.\n",
      "  _log_warning(\"'early_stopping_rounds' argument is deprecated and will be removed in a future release of LightGBM. \"\n",
      "C:\\Python39\\lib\\site-packages\\lightgbm\\engine.py:239: UserWarning: 'verbose_eval' argument is deprecated and will be removed in a future release of LightGBM. Pass 'log_evaluation()' callback via 'callbacks' argument instead.\n",
      "  _log_warning(\"'verbose_eval' argument is deprecated and will be removed in a future release of LightGBM. \"\n"
     ]
    },
    {
     "name": "stdout",
     "output_type": "stream",
     "text": [
      "Training until validation scores don't improve for 100 rounds\n",
      "[50]\tvalid_0's auc: 0.895801\n",
      "[100]\tvalid_0's auc: 0.899864\n",
      "[150]\tvalid_0's auc: 0.902178\n",
      "[200]\tvalid_0's auc: 0.903752\n",
      "[250]\tvalid_0's auc: 0.904872\n",
      "[300]\tvalid_0's auc: 0.905492\n",
      "[350]\tvalid_0's auc: 0.905813\n",
      "[400]\tvalid_0's auc: 0.906048\n",
      "[450]\tvalid_0's auc: 0.906294\n",
      "[500]\tvalid_0's auc: 0.906522\n",
      "[550]\tvalid_0's auc: 0.906577\n",
      "[600]\tvalid_0's auc: 0.906702\n",
      "[650]\tvalid_0's auc: 0.906696\n",
      "[700]\tvalid_0's auc: 0.906633\n",
      "Early stopping, best iteration is:\n",
      "[618]\tvalid_0's auc: 0.906739\n"
     ]
    },
    {
     "name": "stderr",
     "output_type": "stream",
     "text": [
      "regularization_factors, val_score: 0.906846:  65%|########################             | 13/20 [00:18<00:09,  1.40s/it]C:\\Python39\\lib\\site-packages\\lightgbm\\engine.py:181: UserWarning: 'early_stopping_rounds' argument is deprecated and will be removed in a future release of LightGBM. Pass 'early_stopping()' callback via 'callbacks' argument instead.\n",
      "  _log_warning(\"'early_stopping_rounds' argument is deprecated and will be removed in a future release of LightGBM. \"\n",
      "C:\\Python39\\lib\\site-packages\\lightgbm\\engine.py:239: UserWarning: 'verbose_eval' argument is deprecated and will be removed in a future release of LightGBM. Pass 'log_evaluation()' callback via 'callbacks' argument instead.\n",
      "  _log_warning(\"'verbose_eval' argument is deprecated and will be removed in a future release of LightGBM. \"\n"
     ]
    },
    {
     "name": "stdout",
     "output_type": "stream",
     "text": [
      "Training until validation scores don't improve for 100 rounds\n",
      "[50]\tvalid_0's auc: 0.895801\n",
      "[100]\tvalid_0's auc: 0.899865\n",
      "[150]\tvalid_0's auc: 0.902178\n",
      "[200]\tvalid_0's auc: 0.903757\n",
      "[250]\tvalid_0's auc: 0.904852\n",
      "[300]\tvalid_0's auc: 0.905576\n",
      "[350]\tvalid_0's auc: 0.905897\n",
      "[400]\tvalid_0's auc: 0.906077\n",
      "[450]\tvalid_0's auc: 0.906233\n",
      "[500]\tvalid_0's auc: 0.906454\n",
      "[550]\tvalid_0's auc: 0.906464\n",
      "[600]\tvalid_0's auc: 0.906582\n",
      "[650]\tvalid_0's auc: 0.906661\n"
     ]
    },
    {
     "name": "stderr",
     "output_type": "stream",
     "text": [
      "regularization_factors, val_score: 0.906846:  70%|#########################9           | 14/20 [00:20<00:08,  1.44s/it]"
     ]
    },
    {
     "name": "stdout",
     "output_type": "stream",
     "text": [
      "[700]\tvalid_0's auc: 0.906638\n",
      "[750]\tvalid_0's auc: 0.906565\n",
      "Early stopping, best iteration is:\n",
      "[656]\tvalid_0's auc: 0.906709\n"
     ]
    },
    {
     "name": "stderr",
     "output_type": "stream",
     "text": [
      "C:\\Python39\\lib\\site-packages\\lightgbm\\engine.py:181: UserWarning: 'early_stopping_rounds' argument is deprecated and will be removed in a future release of LightGBM. Pass 'early_stopping()' callback via 'callbacks' argument instead.\n",
      "  _log_warning(\"'early_stopping_rounds' argument is deprecated and will be removed in a future release of LightGBM. \"\n",
      "C:\\Python39\\lib\\site-packages\\lightgbm\\engine.py:239: UserWarning: 'verbose_eval' argument is deprecated and will be removed in a future release of LightGBM. Pass 'log_evaluation()' callback via 'callbacks' argument instead.\n",
      "  _log_warning(\"'verbose_eval' argument is deprecated and will be removed in a future release of LightGBM. \"\n"
     ]
    },
    {
     "name": "stdout",
     "output_type": "stream",
     "text": [
      "Training until validation scores don't improve for 100 rounds\n",
      "[50]\tvalid_0's auc: 0.895801\n",
      "[100]\tvalid_0's auc: 0.899864\n",
      "[150]\tvalid_0's auc: 0.902178\n",
      "[200]\tvalid_0's auc: 0.903752\n",
      "[250]\tvalid_0's auc: 0.904872\n",
      "[300]\tvalid_0's auc: 0.905492\n",
      "[350]\tvalid_0's auc: 0.905813\n",
      "[400]\tvalid_0's auc: 0.906048\n",
      "[450]\tvalid_0's auc: 0.906341\n",
      "[500]\tvalid_0's auc: 0.906587\n",
      "[550]\tvalid_0's auc: 0.9066\n",
      "[600]\tvalid_0's auc: 0.90678\n",
      "[650]\tvalid_0's auc: 0.906729\n",
      "[700]\tvalid_0's auc: 0.906657\n",
      "Early stopping, best iteration is:\n",
      "[618]\tvalid_0's auc: 0.906828\n"
     ]
    },
    {
     "name": "stderr",
     "output_type": "stream",
     "text": [
      "regularization_factors, val_score: 0.906846:  75%|###########################7         | 15/20 [00:21<00:07,  1.41s/it]C:\\Python39\\lib\\site-packages\\lightgbm\\engine.py:181: UserWarning: 'early_stopping_rounds' argument is deprecated and will be removed in a future release of LightGBM. Pass 'early_stopping()' callback via 'callbacks' argument instead.\n",
      "  _log_warning(\"'early_stopping_rounds' argument is deprecated and will be removed in a future release of LightGBM. \"\n",
      "C:\\Python39\\lib\\site-packages\\lightgbm\\engine.py:239: UserWarning: 'verbose_eval' argument is deprecated and will be removed in a future release of LightGBM. Pass 'log_evaluation()' callback via 'callbacks' argument instead.\n",
      "  _log_warning(\"'verbose_eval' argument is deprecated and will be removed in a future release of LightGBM. \"\n"
     ]
    },
    {
     "name": "stdout",
     "output_type": "stream",
     "text": [
      "Training until validation scores don't improve for 100 rounds\n",
      "[50]\tvalid_0's auc: 0.895801\n",
      "[100]\tvalid_0's auc: 0.899864\n",
      "[150]\tvalid_0's auc: 0.902178\n",
      "[200]\tvalid_0's auc: 0.903752\n",
      "[250]\tvalid_0's auc: 0.904872\n",
      "[300]\tvalid_0's auc: 0.905492\n",
      "[350]\tvalid_0's auc: 0.905813\n",
      "[400]\tvalid_0's auc: 0.906048\n",
      "[450]\tvalid_0's auc: 0.906339\n",
      "[500]\tvalid_0's auc: 0.906584\n",
      "[550]\tvalid_0's auc: 0.906588\n",
      "[600]\tvalid_0's auc: 0.906733\n",
      "[650]\tvalid_0's auc: 0.906689\n",
      "[700]\tvalid_0's auc: 0.90655\n",
      "Early stopping, best iteration is:\n",
      "[607]\tvalid_0's auc: 0.906739\n"
     ]
    },
    {
     "name": "stderr",
     "output_type": "stream",
     "text": [
      "regularization_factors, val_score: 0.906846:  80%|#############################6       | 16/20 [00:22<00:05,  1.38s/it]C:\\Python39\\lib\\site-packages\\lightgbm\\engine.py:181: UserWarning: 'early_stopping_rounds' argument is deprecated and will be removed in a future release of LightGBM. Pass 'early_stopping()' callback via 'callbacks' argument instead.\n",
      "  _log_warning(\"'early_stopping_rounds' argument is deprecated and will be removed in a future release of LightGBM. \"\n",
      "C:\\Python39\\lib\\site-packages\\lightgbm\\engine.py:239: UserWarning: 'verbose_eval' argument is deprecated and will be removed in a future release of LightGBM. Pass 'log_evaluation()' callback via 'callbacks' argument instead.\n",
      "  _log_warning(\"'verbose_eval' argument is deprecated and will be removed in a future release of LightGBM. \"\n"
     ]
    },
    {
     "name": "stdout",
     "output_type": "stream",
     "text": [
      "Training until validation scores don't improve for 100 rounds\n",
      "[50]\tvalid_0's auc: 0.895801\n",
      "[100]\tvalid_0's auc: 0.899864\n",
      "[150]\tvalid_0's auc: 0.902178\n",
      "[200]\tvalid_0's auc: 0.903757\n",
      "[250]\tvalid_0's auc: 0.904852\n",
      "[300]\tvalid_0's auc: 0.905576\n",
      "[350]\tvalid_0's auc: 0.905887\n",
      "[400]\tvalid_0's auc: 0.906085\n",
      "[450]\tvalid_0's auc: 0.906326\n",
      "[500]\tvalid_0's auc: 0.906529\n",
      "[550]\tvalid_0's auc: 0.906506\n",
      "[600]\tvalid_0's auc: 0.906679\n",
      "[650]\tvalid_0's auc: 0.906676\n",
      "[700]\tvalid_0's auc: 0.906594\n",
      "Early stopping, best iteration is:\n",
      "[618]\tvalid_0's auc: 0.906723\n"
     ]
    },
    {
     "name": "stderr",
     "output_type": "stream",
     "text": [
      "regularization_factors, val_score: 0.906846:  85%|###############################4     | 17/20 [00:24<00:04,  1.36s/it]C:\\Python39\\lib\\site-packages\\lightgbm\\engine.py:181: UserWarning: 'early_stopping_rounds' argument is deprecated and will be removed in a future release of LightGBM. Pass 'early_stopping()' callback via 'callbacks' argument instead.\n",
      "  _log_warning(\"'early_stopping_rounds' argument is deprecated and will be removed in a future release of LightGBM. \"\n",
      "C:\\Python39\\lib\\site-packages\\lightgbm\\engine.py:239: UserWarning: 'verbose_eval' argument is deprecated and will be removed in a future release of LightGBM. Pass 'log_evaluation()' callback via 'callbacks' argument instead.\n",
      "  _log_warning(\"'verbose_eval' argument is deprecated and will be removed in a future release of LightGBM. \"\n"
     ]
    },
    {
     "name": "stdout",
     "output_type": "stream",
     "text": [
      "Training until validation scores don't improve for 100 rounds\n",
      "[50]\tvalid_0's auc: 0.895747\n",
      "[100]\tvalid_0's auc: 0.899833\n",
      "[150]\tvalid_0's auc: 0.902154\n",
      "[200]\tvalid_0's auc: 0.90371\n",
      "[250]\tvalid_0's auc: 0.904777\n",
      "[300]\tvalid_0's auc: 0.905488\n",
      "[350]\tvalid_0's auc: 0.905783\n",
      "[400]\tvalid_0's auc: 0.905931\n",
      "[450]\tvalid_0's auc: 0.906161\n",
      "[500]\tvalid_0's auc: 0.906366\n",
      "[550]\tvalid_0's auc: 0.906407\n",
      "[600]\tvalid_0's auc: 0.906545\n",
      "[650]\tvalid_0's auc: 0.906593\n"
     ]
    },
    {
     "name": "stderr",
     "output_type": "stream",
     "text": [
      "regularization_factors, val_score: 0.906846:  90%|#################################3   | 18/20 [00:25<00:02,  1.39s/it]"
     ]
    },
    {
     "name": "stdout",
     "output_type": "stream",
     "text": [
      "[700]\tvalid_0's auc: 0.906616\n",
      "[750]\tvalid_0's auc: 0.906461\n",
      "Early stopping, best iteration is:\n",
      "[656]\tvalid_0's auc: 0.906668\n"
     ]
    },
    {
     "name": "stderr",
     "output_type": "stream",
     "text": [
      "C:\\Python39\\lib\\site-packages\\lightgbm\\engine.py:181: UserWarning: 'early_stopping_rounds' argument is deprecated and will be removed in a future release of LightGBM. Pass 'early_stopping()' callback via 'callbacks' argument instead.\n",
      "  _log_warning(\"'early_stopping_rounds' argument is deprecated and will be removed in a future release of LightGBM. \"\n",
      "C:\\Python39\\lib\\site-packages\\lightgbm\\engine.py:239: UserWarning: 'verbose_eval' argument is deprecated and will be removed in a future release of LightGBM. Pass 'log_evaluation()' callback via 'callbacks' argument instead.\n",
      "  _log_warning(\"'verbose_eval' argument is deprecated and will be removed in a future release of LightGBM. \"\n"
     ]
    },
    {
     "name": "stdout",
     "output_type": "stream",
     "text": [
      "Training until validation scores don't improve for 100 rounds\n",
      "[50]\tvalid_0's auc: 0.895801\n",
      "[100]\tvalid_0's auc: 0.899864\n",
      "[150]\tvalid_0's auc: 0.902178\n",
      "[200]\tvalid_0's auc: 0.903757\n",
      "[250]\tvalid_0's auc: 0.904852\n",
      "[300]\tvalid_0's auc: 0.905587\n",
      "[350]\tvalid_0's auc: 0.90588\n",
      "[400]\tvalid_0's auc: 0.906097\n",
      "[450]\tvalid_0's auc: 0.906296\n",
      "[500]\tvalid_0's auc: 0.906463\n",
      "[550]\tvalid_0's auc: 0.906545\n",
      "[600]\tvalid_0's auc: 0.906666\n",
      "[650]\tvalid_0's auc: 0.90669\n",
      "[700]\tvalid_0's auc: 0.906584\n",
      "Early stopping, best iteration is:\n",
      "[618]\tvalid_0's auc: 0.906736\n"
     ]
    },
    {
     "name": "stderr",
     "output_type": "stream",
     "text": [
      "regularization_factors, val_score: 0.906846:  95%|###################################1 | 19/20 [00:27<00:01,  1.38s/it]C:\\Python39\\lib\\site-packages\\lightgbm\\engine.py:181: UserWarning: 'early_stopping_rounds' argument is deprecated and will be removed in a future release of LightGBM. Pass 'early_stopping()' callback via 'callbacks' argument instead.\n",
      "  _log_warning(\"'early_stopping_rounds' argument is deprecated and will be removed in a future release of LightGBM. \"\n",
      "C:\\Python39\\lib\\site-packages\\lightgbm\\engine.py:239: UserWarning: 'verbose_eval' argument is deprecated and will be removed in a future release of LightGBM. Pass 'log_evaluation()' callback via 'callbacks' argument instead.\n",
      "  _log_warning(\"'verbose_eval' argument is deprecated and will be removed in a future release of LightGBM. \"\n"
     ]
    },
    {
     "name": "stdout",
     "output_type": "stream",
     "text": [
      "Training until validation scores don't improve for 100 rounds\n",
      "[50]\tvalid_0's auc: 0.895801\n",
      "[100]\tvalid_0's auc: 0.899864\n",
      "[150]\tvalid_0's auc: 0.902178\n",
      "[200]\tvalid_0's auc: 0.903752\n",
      "[250]\tvalid_0's auc: 0.904872\n",
      "[300]\tvalid_0's auc: 0.905492\n",
      "[350]\tvalid_0's auc: 0.905813\n",
      "[400]\tvalid_0's auc: 0.906048\n",
      "[450]\tvalid_0's auc: 0.906336\n",
      "[500]\tvalid_0's auc: 0.906582\n",
      "[550]\tvalid_0's auc: 0.906608\n",
      "[600]\tvalid_0's auc: 0.90678\n",
      "[650]\tvalid_0's auc: 0.906737\n",
      "[700]\tvalid_0's auc: 0.906635\n",
      "Early stopping, best iteration is:\n",
      "[618]\tvalid_0's auc: 0.906827\n"
     ]
    },
    {
     "name": "stderr",
     "output_type": "stream",
     "text": [
      "regularization_factors, val_score: 0.906846: 100%|#####################################| 20/20 [00:28<00:00,  1.42s/it]\n",
      "min_data_in_leaf, val_score: 0.906846:   0%|                                                     | 0/5 [00:00<?, ?it/s]C:\\Python39\\lib\\site-packages\\lightgbm\\engine.py:181: UserWarning: 'early_stopping_rounds' argument is deprecated and will be removed in a future release of LightGBM. Pass 'early_stopping()' callback via 'callbacks' argument instead.\n",
      "  _log_warning(\"'early_stopping_rounds' argument is deprecated and will be removed in a future release of LightGBM. \"\n",
      "C:\\Python39\\lib\\site-packages\\lightgbm\\engine.py:239: UserWarning: 'verbose_eval' argument is deprecated and will be removed in a future release of LightGBM. Pass 'log_evaluation()' callback via 'callbacks' argument instead.\n",
      "  _log_warning(\"'verbose_eval' argument is deprecated and will be removed in a future release of LightGBM. \"\n"
     ]
    },
    {
     "name": "stdout",
     "output_type": "stream",
     "text": [
      "Training until validation scores don't improve for 100 rounds\n",
      "[50]\tvalid_0's auc: 0.895655\n",
      "[100]\tvalid_0's auc: 0.899963\n",
      "[150]\tvalid_0's auc: 0.902111\n",
      "[200]\tvalid_0's auc: 0.903771\n",
      "[250]\tvalid_0's auc: 0.904847\n",
      "[300]\tvalid_0's auc: 0.905567\n",
      "[350]\tvalid_0's auc: 0.905809\n",
      "[400]\tvalid_0's auc: 0.906039\n",
      "[450]\tvalid_0's auc: 0.90647\n",
      "[500]\tvalid_0's auc: 0.906729\n",
      "[550]\tvalid_0's auc: 0.906901\n",
      "[600]\tvalid_0's auc: 0.907182\n",
      "[650]\tvalid_0's auc: 0.907266\n",
      "[700]\tvalid_0's auc: 0.907241\n"
     ]
    },
    {
     "name": "stderr",
     "output_type": "stream",
     "text": [
      "min_data_in_leaf, val_score: 0.907303:  20%|#########                                    | 1/5 [00:01<00:05,  1.38s/it]"
     ]
    },
    {
     "name": "stdout",
     "output_type": "stream",
     "text": [
      "[750]\tvalid_0's auc: 0.907221\n",
      "Early stopping, best iteration is:\n",
      "[656]\tvalid_0's auc: 0.907303\n",
      "Training until validation scores don't improve for 100 rounds\n"
     ]
    },
    {
     "name": "stderr",
     "output_type": "stream",
     "text": [
      "C:\\Python39\\lib\\site-packages\\lightgbm\\engine.py:181: UserWarning: 'early_stopping_rounds' argument is deprecated and will be removed in a future release of LightGBM. Pass 'early_stopping()' callback via 'callbacks' argument instead.\n",
      "  _log_warning(\"'early_stopping_rounds' argument is deprecated and will be removed in a future release of LightGBM. \"\n",
      "C:\\Python39\\lib\\site-packages\\lightgbm\\engine.py:239: UserWarning: 'verbose_eval' argument is deprecated and will be removed in a future release of LightGBM. Pass 'log_evaluation()' callback via 'callbacks' argument instead.\n",
      "  _log_warning(\"'verbose_eval' argument is deprecated and will be removed in a future release of LightGBM. \"\n"
     ]
    },
    {
     "name": "stdout",
     "output_type": "stream",
     "text": [
      "[50]\tvalid_0's auc: 0.895692\n",
      "[100]\tvalid_0's auc: 0.899892\n",
      "[150]\tvalid_0's auc: 0.902051\n",
      "[200]\tvalid_0's auc: 0.903649\n",
      "[250]\tvalid_0's auc: 0.904736\n",
      "[300]\tvalid_0's auc: 0.905518\n",
      "[350]\tvalid_0's auc: 0.905934\n",
      "[400]\tvalid_0's auc: 0.906199\n",
      "[450]\tvalid_0's auc: 0.906668\n",
      "[500]\tvalid_0's auc: 0.906921\n",
      "[550]\tvalid_0's auc: 0.90705\n",
      "[600]\tvalid_0's auc: 0.907258\n",
      "[650]\tvalid_0's auc: 0.907275\n",
      "[700]\tvalid_0's auc: 0.907282\n",
      "[750]\tvalid_0's auc: 0.907345\n"
     ]
    },
    {
     "name": "stderr",
     "output_type": "stream",
     "text": [
      "min_data_in_leaf, val_score: 0.907403:  40%|##################                           | 2/5 [00:02<00:04,  1.44s/it]"
     ]
    },
    {
     "name": "stdout",
     "output_type": "stream",
     "text": [
      "[800]\tvalid_0's auc: 0.907322\n",
      "Early stopping, best iteration is:\n",
      "[744]\tvalid_0's auc: 0.907403\n"
     ]
    },
    {
     "name": "stderr",
     "output_type": "stream",
     "text": [
      "C:\\Python39\\lib\\site-packages\\lightgbm\\engine.py:181: UserWarning: 'early_stopping_rounds' argument is deprecated and will be removed in a future release of LightGBM. Pass 'early_stopping()' callback via 'callbacks' argument instead.\n",
      "  _log_warning(\"'early_stopping_rounds' argument is deprecated and will be removed in a future release of LightGBM. \"\n",
      "C:\\Python39\\lib\\site-packages\\lightgbm\\engine.py:239: UserWarning: 'verbose_eval' argument is deprecated and will be removed in a future release of LightGBM. Pass 'log_evaluation()' callback via 'callbacks' argument instead.\n",
      "  _log_warning(\"'verbose_eval' argument is deprecated and will be removed in a future release of LightGBM. \"\n"
     ]
    },
    {
     "name": "stdout",
     "output_type": "stream",
     "text": [
      "Training until validation scores don't improve for 100 rounds\n",
      "[50]\tvalid_0's auc: 0.895874\n",
      "[100]\tvalid_0's auc: 0.899857\n",
      "[150]\tvalid_0's auc: 0.902096\n",
      "[200]\tvalid_0's auc: 0.90369\n",
      "[250]\tvalid_0's auc: 0.904745\n",
      "[300]\tvalid_0's auc: 0.905447\n",
      "[350]\tvalid_0's auc: 0.905774\n",
      "[400]\tvalid_0's auc: 0.905986\n",
      "[450]\tvalid_0's auc: 0.906101\n",
      "[500]\tvalid_0's auc: 0.906308\n",
      "[550]\tvalid_0's auc: 0.906393\n",
      "[600]\tvalid_0's auc: 0.906544\n",
      "[650]\tvalid_0's auc: 0.906422\n",
      "[700]\tvalid_0's auc: 0.906304\n",
      "Early stopping, best iteration is:\n",
      "[616]\tvalid_0's auc: 0.906583\n"
     ]
    },
    {
     "name": "stderr",
     "output_type": "stream",
     "text": [
      "min_data_in_leaf, val_score: 0.907403:  60%|###########################                  | 3/5 [00:04<00:02,  1.40s/it]C:\\Python39\\lib\\site-packages\\lightgbm\\engine.py:181: UserWarning: 'early_stopping_rounds' argument is deprecated and will be removed in a future release of LightGBM. Pass 'early_stopping()' callback via 'callbacks' argument instead.\n",
      "  _log_warning(\"'early_stopping_rounds' argument is deprecated and will be removed in a future release of LightGBM. \"\n",
      "C:\\Python39\\lib\\site-packages\\lightgbm\\engine.py:239: UserWarning: 'verbose_eval' argument is deprecated and will be removed in a future release of LightGBM. Pass 'log_evaluation()' callback via 'callbacks' argument instead.\n",
      "  _log_warning(\"'verbose_eval' argument is deprecated and will be removed in a future release of LightGBM. \"\n"
     ]
    },
    {
     "name": "stdout",
     "output_type": "stream",
     "text": [
      "Training until validation scores don't improve for 100 rounds\n",
      "[50]\tvalid_0's auc: 0.89703\n",
      "[100]\tvalid_0's auc: 0.900869\n",
      "[150]\tvalid_0's auc: 0.903051\n",
      "[200]\tvalid_0's auc: 0.904458\n",
      "[250]\tvalid_0's auc: 0.905175\n",
      "[300]\tvalid_0's auc: 0.905814\n",
      "[350]\tvalid_0's auc: 0.906076\n",
      "[400]\tvalid_0's auc: 0.906334\n",
      "[450]\tvalid_0's auc: 0.906426\n",
      "[500]\tvalid_0's auc: 0.90656\n",
      "[550]\tvalid_0's auc: 0.906543\n"
     ]
    },
    {
     "name": "stderr",
     "output_type": "stream",
     "text": [
      "min_data_in_leaf, val_score: 0.907403:  80%|####################################         | 4/5 [00:05<00:01,  1.32s/it]"
     ]
    },
    {
     "name": "stdout",
     "output_type": "stream",
     "text": [
      "[600]\tvalid_0's auc: 0.906544\n",
      "Early stopping, best iteration is:\n",
      "[505]\tvalid_0's auc: 0.906605\n",
      "Training until validation scores don't improve for 100 rounds\n"
     ]
    },
    {
     "name": "stderr",
     "output_type": "stream",
     "text": [
      "C:\\Python39\\lib\\site-packages\\lightgbm\\engine.py:181: UserWarning: 'early_stopping_rounds' argument is deprecated and will be removed in a future release of LightGBM. Pass 'early_stopping()' callback via 'callbacks' argument instead.\n",
      "  _log_warning(\"'early_stopping_rounds' argument is deprecated and will be removed in a future release of LightGBM. \"\n",
      "C:\\Python39\\lib\\site-packages\\lightgbm\\engine.py:239: UserWarning: 'verbose_eval' argument is deprecated and will be removed in a future release of LightGBM. Pass 'log_evaluation()' callback via 'callbacks' argument instead.\n",
      "  _log_warning(\"'verbose_eval' argument is deprecated and will be removed in a future release of LightGBM. \"\n"
     ]
    },
    {
     "name": "stdout",
     "output_type": "stream",
     "text": [
      "[50]\tvalid_0's auc: 0.896579\n",
      "[100]\tvalid_0's auc: 0.900298\n",
      "[150]\tvalid_0's auc: 0.902498\n",
      "[200]\tvalid_0's auc: 0.903953\n",
      "[250]\tvalid_0's auc: 0.905009\n",
      "[300]\tvalid_0's auc: 0.905552\n",
      "[350]\tvalid_0's auc: 0.905933\n",
      "[400]\tvalid_0's auc: 0.906071\n",
      "[450]\tvalid_0's auc: 0.906277\n",
      "[500]\tvalid_0's auc: 0.906386\n",
      "[550]\tvalid_0's auc: 0.906442\n",
      "[600]\tvalid_0's auc: 0.906511\n"
     ]
    },
    {
     "name": "stderr",
     "output_type": "stream",
     "text": [
      "min_data_in_leaf, val_score: 0.907403: 100%|#############################################| 5/5 [00:06<00:00,  1.37s/it]"
     ]
    },
    {
     "name": "stdout",
     "output_type": "stream",
     "text": [
      "[650]\tvalid_0's auc: 0.906475\n",
      "[700]\tvalid_0's auc: 0.906321\n",
      "Early stopping, best iteration is:\n",
      "[617]\tvalid_0's auc: 0.906564\n",
      "Best params: {'boosting_type': 'gbdt', 'objective': 'binary', 'metric': 'auc', 'verbosity': -1, 'learning_rate': 0.02, 'deterministic': True, 'force_row_wise': True, 'feature_pre_filter': False, 'lambda_l1': 8.326609203905651e-07, 'lambda_l2': 0.00011725075728346999, 'num_leaves': 20, 'feature_fraction': 0.4, 'bagging_fraction': 0.8075379976732435, 'bagging_freq': 6, 'min_child_samples': 5, 'num_iterations': 10000, 'early_stopping_round': 100}\n"
     ]
    },
    {
     "name": "stderr",
     "output_type": "stream",
     "text": [
      "\n"
     ]
    }
   ],
   "source": [
    "import csv\n",
    "\n",
    "# 各試行での情報を保存\n",
    "listParams = []\n",
    "listMetrics = []\n",
    "\n",
    "# 乱数Seedを指定した試行を自動化\n",
    "for s in seeds:\n",
    "    print(\"### seed:%3s ###\" %s)\n",
    "    tunedparam, metrics = autotuning(s)\n",
    "    tunedparam[\"seed\"] = s\n",
    "    listParams.append(tunedparam)\n",
    "    listMetrics.append(metrics)\n",
    "\n",
    "# DataFrameからCSVファイルを生成\n",
    "# encoding=\"SJIS\"だとJupyterLab（CSVTable）上で表示不可なことに注意\n",
    "df_params = pd.DataFrame(listParams)\n",
    "df_params.to_csv('lightgbm_onehot_params.csv', index=False, header=True, encoding='UTF-8', sep=',', quotechar='\"', quoting=csv.QUOTE_ALL)\n",
    "df_metrics = pd.DataFrame(listMetrics)\n",
    "df_metrics.to_csv('lightgbm_onehot_metrics.csv', index=False, header=True, encoding='UTF-8', sep=',', quotechar='\"', quoting=csv.QUOTE_ALL)"
   ]
  },
  {
   "cell_type": "code",
   "execution_count": 17,
   "id": "0336d574-26c7-4376-b095-3ab444c65550",
   "metadata": {},
   "outputs": [
    {
     "data": {
      "text/html": [
       "<div>\n",
       "<style scoped>\n",
       "    .dataframe tbody tr th:only-of-type {\n",
       "        vertical-align: middle;\n",
       "    }\n",
       "\n",
       "    .dataframe tbody tr th {\n",
       "        vertical-align: top;\n",
       "    }\n",
       "\n",
       "    .dataframe thead th {\n",
       "        text-align: right;\n",
       "    }\n",
       "</style>\n",
       "<table border=\"1\" class=\"dataframe\">\n",
       "  <thead>\n",
       "    <tr style=\"text-align: right;\">\n",
       "      <th></th>\n",
       "      <th>boosting_type</th>\n",
       "      <th>objective</th>\n",
       "      <th>metric</th>\n",
       "      <th>verbosity</th>\n",
       "      <th>learning_rate</th>\n",
       "      <th>deterministic</th>\n",
       "      <th>force_row_wise</th>\n",
       "      <th>feature_pre_filter</th>\n",
       "      <th>lambda_l1</th>\n",
       "      <th>lambda_l2</th>\n",
       "      <th>num_leaves</th>\n",
       "      <th>feature_fraction</th>\n",
       "      <th>bagging_fraction</th>\n",
       "      <th>bagging_freq</th>\n",
       "      <th>min_child_samples</th>\n",
       "      <th>num_iterations</th>\n",
       "      <th>early_stopping_round</th>\n",
       "      <th>seed</th>\n",
       "    </tr>\n",
       "  </thead>\n",
       "  <tbody>\n",
       "    <tr>\n",
       "      <th>0</th>\n",
       "      <td>gbdt</td>\n",
       "      <td>binary</td>\n",
       "      <td>auc</td>\n",
       "      <td>-1</td>\n",
       "      <td>0.02</td>\n",
       "      <td>True</td>\n",
       "      <td>True</td>\n",
       "      <td>False</td>\n",
       "      <td>1.259099e-08</td>\n",
       "      <td>0.046383</td>\n",
       "      <td>8</td>\n",
       "      <td>0.48</td>\n",
       "      <td>0.579793</td>\n",
       "      <td>2</td>\n",
       "      <td>10</td>\n",
       "      <td>10000</td>\n",
       "      <td>100</td>\n",
       "      <td>2</td>\n",
       "    </tr>\n",
       "    <tr>\n",
       "      <th>1</th>\n",
       "      <td>gbdt</td>\n",
       "      <td>binary</td>\n",
       "      <td>auc</td>\n",
       "      <td>-1</td>\n",
       "      <td>0.02</td>\n",
       "      <td>True</td>\n",
       "      <td>True</td>\n",
       "      <td>False</td>\n",
       "      <td>0.000000e+00</td>\n",
       "      <td>0.000000</td>\n",
       "      <td>9</td>\n",
       "      <td>0.40</td>\n",
       "      <td>0.935768</td>\n",
       "      <td>7</td>\n",
       "      <td>5</td>\n",
       "      <td>10000</td>\n",
       "      <td>100</td>\n",
       "      <td>3</td>\n",
       "    </tr>\n",
       "    <tr>\n",
       "      <th>2</th>\n",
       "      <td>gbdt</td>\n",
       "      <td>binary</td>\n",
       "      <td>auc</td>\n",
       "      <td>-1</td>\n",
       "      <td>0.02</td>\n",
       "      <td>True</td>\n",
       "      <td>True</td>\n",
       "      <td>False</td>\n",
       "      <td>2.487143e-04</td>\n",
       "      <td>0.003204</td>\n",
       "      <td>12</td>\n",
       "      <td>0.40</td>\n",
       "      <td>0.859545</td>\n",
       "      <td>4</td>\n",
       "      <td>10</td>\n",
       "      <td>10000</td>\n",
       "      <td>100</td>\n",
       "      <td>5</td>\n",
       "    </tr>\n",
       "    <tr>\n",
       "      <th>3</th>\n",
       "      <td>gbdt</td>\n",
       "      <td>binary</td>\n",
       "      <td>auc</td>\n",
       "      <td>-1</td>\n",
       "      <td>0.02</td>\n",
       "      <td>True</td>\n",
       "      <td>True</td>\n",
       "      <td>False</td>\n",
       "      <td>8.326609e-07</td>\n",
       "      <td>0.000117</td>\n",
       "      <td>20</td>\n",
       "      <td>0.40</td>\n",
       "      <td>0.807538</td>\n",
       "      <td>6</td>\n",
       "      <td>5</td>\n",
       "      <td>10000</td>\n",
       "      <td>100</td>\n",
       "      <td>7</td>\n",
       "    </tr>\n",
       "  </tbody>\n",
       "</table>\n",
       "</div>"
      ],
      "text/plain": [
       "  boosting_type objective metric  verbosity  learning_rate  deterministic  \\\n",
       "0          gbdt    binary    auc         -1           0.02           True   \n",
       "1          gbdt    binary    auc         -1           0.02           True   \n",
       "2          gbdt    binary    auc         -1           0.02           True   \n",
       "3          gbdt    binary    auc         -1           0.02           True   \n",
       "\n",
       "   force_row_wise  feature_pre_filter     lambda_l1  lambda_l2  num_leaves  \\\n",
       "0            True               False  1.259099e-08   0.046383           8   \n",
       "1            True               False  0.000000e+00   0.000000           9   \n",
       "2            True               False  2.487143e-04   0.003204          12   \n",
       "3            True               False  8.326609e-07   0.000117          20   \n",
       "\n",
       "   feature_fraction  bagging_fraction  bagging_freq  min_child_samples  \\\n",
       "0              0.48          0.579793             2                 10   \n",
       "1              0.40          0.935768             7                  5   \n",
       "2              0.40          0.859545             4                 10   \n",
       "3              0.40          0.807538             6                  5   \n",
       "\n",
       "   num_iterations  early_stopping_round  seed  \n",
       "0           10000                   100     2  \n",
       "1           10000                   100     3  \n",
       "2           10000                   100     5  \n",
       "3           10000                   100     7  "
      ]
     },
     "execution_count": 17,
     "metadata": {},
     "output_type": "execute_result"
    }
   ],
   "source": [
    "# 乱数シードで照準にソート\n",
    "df_params.sort_values(\"seed\", ascending=True)"
   ]
  },
  {
   "cell_type": "code",
   "execution_count": 18,
   "id": "ccd1a1eb-0c5b-411e-8401-ebf4c14e144e",
   "metadata": {
    "tags": []
   },
   "outputs": [
    {
     "data": {
      "text/html": [
       "<div>\n",
       "<style scoped>\n",
       "    .dataframe tbody tr th:only-of-type {\n",
       "        vertical-align: middle;\n",
       "    }\n",
       "\n",
       "    .dataframe tbody tr th {\n",
       "        vertical-align: top;\n",
       "    }\n",
       "\n",
       "    .dataframe thead th {\n",
       "        text-align: right;\n",
       "    }\n",
       "</style>\n",
       "<table border=\"1\" class=\"dataframe\">\n",
       "  <thead>\n",
       "    <tr style=\"text-align: right;\">\n",
       "      <th></th>\n",
       "      <th>seed</th>\n",
       "      <th>auc</th>\n",
       "      <th>accuracy</th>\n",
       "      <th>precision</th>\n",
       "    </tr>\n",
       "  </thead>\n",
       "  <tbody>\n",
       "    <tr>\n",
       "      <th>3</th>\n",
       "      <td>7</td>\n",
       "      <td>0.894543</td>\n",
       "      <td>0.855627</td>\n",
       "      <td>0.681619</td>\n",
       "    </tr>\n",
       "    <tr>\n",
       "      <th>0</th>\n",
       "      <td>2</td>\n",
       "      <td>0.894479</td>\n",
       "      <td>0.853473</td>\n",
       "      <td>0.678611</td>\n",
       "    </tr>\n",
       "    <tr>\n",
       "      <th>2</th>\n",
       "      <td>5</td>\n",
       "      <td>0.894344</td>\n",
       "      <td>0.855793</td>\n",
       "      <td>0.683168</td>\n",
       "    </tr>\n",
       "    <tr>\n",
       "      <th>1</th>\n",
       "      <td>3</td>\n",
       "      <td>0.894129</td>\n",
       "      <td>0.855462</td>\n",
       "      <td>0.685330</td>\n",
       "    </tr>\n",
       "  </tbody>\n",
       "</table>\n",
       "</div>"
      ],
      "text/plain": [
       "   seed       auc  accuracy  precision\n",
       "3     7  0.894543  0.855627   0.681619\n",
       "0     2  0.894479  0.853473   0.678611\n",
       "2     5  0.894344  0.855793   0.683168\n",
       "1     3  0.894129  0.855462   0.685330"
      ]
     },
     "execution_count": 18,
     "metadata": {},
     "output_type": "execute_result"
    }
   ],
   "source": [
    "# AUCで降順にソート\n",
    "df_metrics.sort_values(\"auc\", ascending=False)"
   ]
  },
  {
   "cell_type": "code",
   "execution_count": null,
   "id": "44b4c2e8-3ae0-41df-879e-f05a59ebf3d8",
   "metadata": {},
   "outputs": [],
   "source": []
  }
 ],
 "metadata": {
  "kernelspec": {
   "display_name": "Python 3 (ipykernel)",
   "language": "python",
   "name": "python3"
  },
  "language_info": {
   "codemirror_mode": {
    "name": "ipython",
    "version": 3
   },
   "file_extension": ".py",
   "mimetype": "text/x-python",
   "name": "python",
   "nbconvert_exporter": "python",
   "pygments_lexer": "ipython3",
   "version": "3.9.13"
  }
 },
 "nbformat": 4,
 "nbformat_minor": 5
}
