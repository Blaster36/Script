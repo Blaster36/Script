{
 "cells": [
  {
   "cell_type": "markdown",
   "id": "f8ae7dd2-b7ee-454a-8e93-956ecae2805e",
   "metadata": {},
   "source": [
    "# カテゴリ値を含むデータでのLightGBMを使った分析\n",
    "\n",
    "### データ\n",
    "[Adult Data Set](https://archive.ics.uci.edu/ml/datasets/adult) \\\n",
    "[Adult Census Income](https://www.kaggle.com/datasets/uciml/adult-census-income) \\\n",
    "[Adult income dataset](https://www.kaggle.com/datasets/wenruliu/adult-income-dataset)\n",
    "\n",
    "### 参考\n",
    "[lightgbmで二値分類の一連の流れをしたメモ](https://qiita.com/d_desuyon/items/807e01311ad08570ee78) \\\n",
    "[【初心者向け】特徴量重要度の算出 (LightGBM) 【Python】【機械学習】](https://mathmatical22.xyz/2020/04/12/%E3%80%90%E5%88%9D%E5%BF%83%E8%80%85%E5%90%91%E3%81%91%E3%80%91%E7%89%B9%E5%BE%B4%E9%87%8F%E9%87%8D%E8%A6%81%E5%BA%A6%E3%81%AE%E7%AE%97%E5%87%BA-lightgbm-%E3%80%90python%E3%80%91%E3%80%90%E6%A9%9F/) \\\n",
    "[LightGBMのCategorical Featureによって精度が向上するか？](https://qiita.com/sinchir0/items/b038757e578b790ec96a) \\\n",
    "[Pythonでしか描けない美しいデシジョンツリー（決定木）をlightGBMでも描こう！](https://qiita.com/hima2b4/items/b356e688ebdabc393da8) \\\n",
    "[LightGBM/XGBoostのtree構造可視化メモ](https://qiita.com/dyamaguc/items/70d4ce3548d49a6256fa) \\\n",
    "[Category Encodersでカテゴリ特徴量をストレスなく変換する](https://qiita.com/Hyperion13fleet/items/afa49a84bd5db65ffc31) \\\n",
    "[カテゴリ変数系特徴量の前処理(scikit-learnとcategory_encoders)](https://qiita.com/FukuharaYohei/items/06cc7b1c5eb124db6cdf) \\\n",
    "[LightGBMのCategorical Featureによって精度が向上するか？](https://qiita.com/sinchir0/items/b038757e578b790ec96a) \\\n",
    "[LightGBMでOptunaを使用するときの再現性確保について](https://book-read-yoshi.hatenablog.com/entry/2021/03/22/lightgbm_optuna_deterministic)"
   ]
  },
  {
   "cell_type": "code",
   "execution_count": 1,
   "id": "a351e39d-6b18-4c71-920b-c5dd28d5d025",
   "metadata": {
    "tags": []
   },
   "outputs": [
    {
     "name": "stdout",
     "output_type": "stream",
     "text": [
      "Python 3.9.13\n"
     ]
    }
   ],
   "source": [
    "!python -V"
   ]
  },
  {
   "cell_type": "code",
   "execution_count": 2,
   "id": "d69ebb53-1f16-4caf-8ce3-0ad7639bb24c",
   "metadata": {
    "tags": []
   },
   "outputs": [
    {
     "name": "stdout",
     "output_type": "stream",
     "text": [
      "pip 23.0.1 from C:\\Python39\\lib\\site-packages\\pip (python 3.9)\n",
      "\n"
     ]
    }
   ],
   "source": [
    "!python -m pip --version"
   ]
  },
  {
   "cell_type": "code",
   "execution_count": 3,
   "id": "d0045464-336b-4d7b-8bc8-4c05f19257f7",
   "metadata": {
    "tags": []
   },
   "outputs": [
    {
     "name": "stdout",
     "output_type": "stream",
     "text": [
      "Package                  Version\n",
      "------------------------ -----------\n",
      "aiofiles                 22.1.0\n",
      "aiosqlite                0.18.0\n",
      "alembic                  1.9.4\n",
      "anyio                    3.6.2\n",
      "argon2-cffi              21.3.0\n",
      "argon2-cffi-bindings     21.2.0\n",
      "arrow                    1.2.3\n",
      "asttokens                2.2.1\n",
      "attrs                    22.2.0\n",
      "Babel                    2.11.0\n",
      "backcall                 0.2.0\n",
      "beautifulsoup4           4.11.2\n",
      "bleach                   6.0.0\n",
      "bs4                      0.0.1\n",
      "category-encoders        2.6.0\n",
      "certifi                  2022.12.7\n",
      "cffi                     1.15.1\n",
      "charset-normalizer       3.0.1\n",
      "cmaes                    0.9.1\n",
      "colorama                 0.4.6\n",
      "colorlog                 6.7.0\n",
      "comm                     0.1.2\n",
      "contourpy                1.0.7\n",
      "cycler                   0.11.0\n",
      "debugpy                  1.6.6\n",
      "decorator                5.1.1\n",
      "defusedxml               0.7.1\n",
      "executing                1.2.0\n",
      "fastjsonschema           2.16.2\n",
      "fonttools                4.38.0\n",
      "fqdn                     1.5.1\n",
      "greenlet                 2.0.2\n",
      "idna                     3.4\n",
      "importlib-metadata       6.0.0\n",
      "ipykernel                6.21.1\n",
      "ipython                  8.10.0\n",
      "ipython-genutils         0.2.0\n",
      "ipywidgets               8.0.4\n",
      "isoduration              20.11.0\n",
      "jedi                     0.18.2\n",
      "Jinja2                   3.1.2\n",
      "joblib                   1.2.0\n",
      "json5                    0.9.11\n",
      "jsonpointer              2.3\n",
      "jsonschema               4.17.3\n",
      "jupyter                  1.0.0\n",
      "jupyter_client           8.0.2\n",
      "jupyter-console          6.5.0\n",
      "jupyter_core             5.2.0\n",
      "jupyter-events           0.5.0\n",
      "jupyter_server           2.2.1\n",
      "jupyter_server_fileid    0.6.0\n",
      "jupyter_server_terminals 0.4.4\n",
      "jupyter_server_ydoc      0.6.1\n",
      "jupyter-ydoc             0.2.2\n",
      "jupyterlab               3.6.1\n",
      "jupyterlab-pygments      0.2.2\n",
      "jupyterlab_server        2.19.0\n",
      "jupyterlab-widgets       3.0.5\n",
      "kiwisolver               1.4.4\n",
      "lightgbm                 3.3.5\n",
      "Mako                     1.2.4\n",
      "MarkupSafe               2.1.2\n",
      "matplotlib               3.6.3\n",
      "matplotlib-inline        0.1.6\n",
      "mistune                  2.0.5\n",
      "nbclassic                0.5.1\n",
      "nbclient                 0.7.2\n",
      "nbconvert                7.2.9\n",
      "nbformat                 5.7.3\n",
      "nest-asyncio             1.5.6\n",
      "notebook                 6.5.2\n",
      "notebook_shim            0.2.2\n",
      "numpy                    1.24.2\n",
      "optuna                   3.1.0\n",
      "packaging                23.0\n",
      "pandas                   1.5.3\n",
      "pandocfilters            1.5.0\n",
      "parso                    0.8.3\n",
      "patsy                    0.5.3\n",
      "pickleshare              0.7.5\n",
      "Pillow                   9.4.0\n",
      "pip                      23.0.1\n",
      "platformdirs             3.0.0\n",
      "plotly                   5.13.0\n",
      "prometheus-client        0.16.0\n",
      "prompt-toolkit           3.0.36\n",
      "psutil                   5.9.4\n",
      "pure-eval                0.2.2\n",
      "pycparser                2.21\n",
      "Pygments                 2.14.0\n",
      "pyparsing                3.0.9\n",
      "pyrsistent               0.19.3\n",
      "python-dateutil          2.8.2\n",
      "python-json-logger       2.0.5\n",
      "pytz                     2022.7.1\n",
      "pywin32                  305\n",
      "pywinpty                 2.0.10\n",
      "PyYAML                   6.0\n",
      "pyzmq                    25.0.0\n",
      "qtconsole                5.4.0\n",
      "QtPy                     2.3.0\n",
      "requests                 2.28.2\n",
      "rfc3339-validator        0.1.4\n",
      "rfc3986-validator        0.1.1\n",
      "scikit-learn             1.2.1\n",
      "scipy                    1.10.0\n",
      "seaborn                  0.12.2\n",
      "Send2Trash               1.8.0\n",
      "setuptools               58.1.0\n",
      "six                      1.16.0\n",
      "sniffio                  1.3.0\n",
      "soupsieve                2.3.2.post1\n",
      "SQLAlchemy               2.0.4\n",
      "stack-data               0.6.2\n",
      "statsmodels              0.13.5\n",
      "tenacity                 8.2.1\n",
      "terminado                0.17.1\n",
      "threadpoolctl            3.1.0\n",
      "tinycss2                 1.2.1\n",
      "tomli                    2.0.1\n",
      "tornado                  6.2\n",
      "tqdm                     4.64.1\n",
      "traitlets                5.9.0\n",
      "typing_extensions        4.5.0\n",
      "uri-template             1.2.0\n",
      "urllib3                  1.26.14\n",
      "wcwidth                  0.2.6\n",
      "webcolors                1.12\n",
      "webencodings             0.5.1\n",
      "websocket-client         1.5.1\n",
      "wheel                    0.38.4\n",
      "widgetsnbextension       4.0.5\n",
      "xgboost                  1.7.3\n",
      "y-py                     0.5.5\n",
      "ypy-websocket            0.8.2\n",
      "zipp                     3.13.0\n"
     ]
    }
   ],
   "source": [
    "!python -m pip list"
   ]
  },
  {
   "cell_type": "code",
   "execution_count": 4,
   "id": "6316f9a6-c11d-421d-849e-88ca0a8acd7f",
   "metadata": {
    "tags": []
   },
   "outputs": [],
   "source": [
    "import pandas as pd\n",
    "pd.set_option('display.max_rows', 100)\n",
    "import numpy as np\n",
    "from sklearn.model_selection import train_test_split\n",
    "#import lightgbm as lgb\n",
    "import optuna\n",
    "# ログを非表示にしたいときは、optuna.logging.disable_default_handler()\n",
    "# 逆に、表示にしたいときは、optuna.logging.enable_default_handler()\n",
    "optuna.logging.disable_default_handler()\n",
    "# optuna経由でLightGBMをインポート\n",
    "from optuna.integration import lightgbm as lgb\n",
    "from sklearn.metrics import accuracy_score, f1_score, auc, roc_curve, precision_score, confusion_matrix, ConfusionMatrixDisplay\n",
    "from matplotlib import pyplot as plt\n",
    "%matplotlib inline"
   ]
  },
  {
   "cell_type": "code",
   "execution_count": 5,
   "id": "64d9c06a-b7d2-42d9-b5d0-01ad1f12125c",
   "metadata": {
    "tags": []
   },
   "outputs": [],
   "source": [
    "df = pd.read_csv('adult_uci_label.csv')"
   ]
  },
  {
   "cell_type": "code",
   "execution_count": 6,
   "id": "a8c71871-9241-43d6-aefa-ed75c07bdcc0",
   "metadata": {
    "tags": []
   },
   "outputs": [
    {
     "data": {
      "text/html": [
       "<div>\n",
       "<style scoped>\n",
       "    .dataframe tbody tr th:only-of-type {\n",
       "        vertical-align: middle;\n",
       "    }\n",
       "\n",
       "    .dataframe tbody tr th {\n",
       "        vertical-align: top;\n",
       "    }\n",
       "\n",
       "    .dataframe thead th {\n",
       "        text-align: right;\n",
       "    }\n",
       "</style>\n",
       "<table border=\"1\" class=\"dataframe\">\n",
       "  <thead>\n",
       "    <tr style=\"text-align: right;\">\n",
       "      <th></th>\n",
       "      <th>age</th>\n",
       "      <th>workclass</th>\n",
       "      <th>fnlwgt</th>\n",
       "      <th>education</th>\n",
       "      <th>education.num</th>\n",
       "      <th>marital.status</th>\n",
       "      <th>occupation</th>\n",
       "      <th>relationship</th>\n",
       "      <th>race</th>\n",
       "      <th>sex</th>\n",
       "      <th>capital.gain</th>\n",
       "      <th>capital.loss</th>\n",
       "      <th>hours.per.week</th>\n",
       "      <th>native.country</th>\n",
       "      <th>income</th>\n",
       "    </tr>\n",
       "  </thead>\n",
       "  <tbody>\n",
       "    <tr>\n",
       "      <th>0</th>\n",
       "      <td>82</td>\n",
       "      <td>3</td>\n",
       "      <td>132870</td>\n",
       "      <td>11</td>\n",
       "      <td>9</td>\n",
       "      <td>6</td>\n",
       "      <td>3</td>\n",
       "      <td>1</td>\n",
       "      <td>4</td>\n",
       "      <td>0</td>\n",
       "      <td>0</td>\n",
       "      <td>4356</td>\n",
       "      <td>18</td>\n",
       "      <td>38</td>\n",
       "      <td>0</td>\n",
       "    </tr>\n",
       "    <tr>\n",
       "      <th>1</th>\n",
       "      <td>54</td>\n",
       "      <td>3</td>\n",
       "      <td>140359</td>\n",
       "      <td>5</td>\n",
       "      <td>4</td>\n",
       "      <td>0</td>\n",
       "      <td>6</td>\n",
       "      <td>4</td>\n",
       "      <td>4</td>\n",
       "      <td>0</td>\n",
       "      <td>0</td>\n",
       "      <td>3900</td>\n",
       "      <td>40</td>\n",
       "      <td>38</td>\n",
       "      <td>0</td>\n",
       "    </tr>\n",
       "    <tr>\n",
       "      <th>2</th>\n",
       "      <td>41</td>\n",
       "      <td>3</td>\n",
       "      <td>264663</td>\n",
       "      <td>15</td>\n",
       "      <td>10</td>\n",
       "      <td>5</td>\n",
       "      <td>9</td>\n",
       "      <td>3</td>\n",
       "      <td>4</td>\n",
       "      <td>0</td>\n",
       "      <td>0</td>\n",
       "      <td>3900</td>\n",
       "      <td>40</td>\n",
       "      <td>38</td>\n",
       "      <td>0</td>\n",
       "    </tr>\n",
       "    <tr>\n",
       "      <th>3</th>\n",
       "      <td>34</td>\n",
       "      <td>3</td>\n",
       "      <td>216864</td>\n",
       "      <td>11</td>\n",
       "      <td>9</td>\n",
       "      <td>0</td>\n",
       "      <td>7</td>\n",
       "      <td>4</td>\n",
       "      <td>4</td>\n",
       "      <td>0</td>\n",
       "      <td>0</td>\n",
       "      <td>3770</td>\n",
       "      <td>45</td>\n",
       "      <td>38</td>\n",
       "      <td>0</td>\n",
       "    </tr>\n",
       "    <tr>\n",
       "      <th>4</th>\n",
       "      <td>38</td>\n",
       "      <td>3</td>\n",
       "      <td>150601</td>\n",
       "      <td>0</td>\n",
       "      <td>6</td>\n",
       "      <td>5</td>\n",
       "      <td>0</td>\n",
       "      <td>4</td>\n",
       "      <td>4</td>\n",
       "      <td>1</td>\n",
       "      <td>0</td>\n",
       "      <td>3770</td>\n",
       "      <td>40</td>\n",
       "      <td>38</td>\n",
       "      <td>0</td>\n",
       "    </tr>\n",
       "    <tr>\n",
       "      <th>5</th>\n",
       "      <td>74</td>\n",
       "      <td>6</td>\n",
       "      <td>88638</td>\n",
       "      <td>10</td>\n",
       "      <td>16</td>\n",
       "      <td>4</td>\n",
       "      <td>9</td>\n",
       "      <td>2</td>\n",
       "      <td>4</td>\n",
       "      <td>0</td>\n",
       "      <td>0</td>\n",
       "      <td>3683</td>\n",
       "      <td>20</td>\n",
       "      <td>38</td>\n",
       "      <td>1</td>\n",
       "    </tr>\n",
       "    <tr>\n",
       "      <th>6</th>\n",
       "      <td>68</td>\n",
       "      <td>0</td>\n",
       "      <td>422013</td>\n",
       "      <td>11</td>\n",
       "      <td>9</td>\n",
       "      <td>0</td>\n",
       "      <td>9</td>\n",
       "      <td>1</td>\n",
       "      <td>4</td>\n",
       "      <td>0</td>\n",
       "      <td>0</td>\n",
       "      <td>3683</td>\n",
       "      <td>40</td>\n",
       "      <td>38</td>\n",
       "      <td>0</td>\n",
       "    </tr>\n",
       "    <tr>\n",
       "      <th>7</th>\n",
       "      <td>45</td>\n",
       "      <td>3</td>\n",
       "      <td>172274</td>\n",
       "      <td>10</td>\n",
       "      <td>16</td>\n",
       "      <td>0</td>\n",
       "      <td>9</td>\n",
       "      <td>4</td>\n",
       "      <td>2</td>\n",
       "      <td>0</td>\n",
       "      <td>0</td>\n",
       "      <td>3004</td>\n",
       "      <td>35</td>\n",
       "      <td>38</td>\n",
       "      <td>1</td>\n",
       "    </tr>\n",
       "    <tr>\n",
       "      <th>8</th>\n",
       "      <td>38</td>\n",
       "      <td>5</td>\n",
       "      <td>164526</td>\n",
       "      <td>14</td>\n",
       "      <td>15</td>\n",
       "      <td>4</td>\n",
       "      <td>9</td>\n",
       "      <td>1</td>\n",
       "      <td>4</td>\n",
       "      <td>1</td>\n",
       "      <td>0</td>\n",
       "      <td>2824</td>\n",
       "      <td>45</td>\n",
       "      <td>38</td>\n",
       "      <td>1</td>\n",
       "    </tr>\n",
       "    <tr>\n",
       "      <th>9</th>\n",
       "      <td>52</td>\n",
       "      <td>3</td>\n",
       "      <td>129177</td>\n",
       "      <td>9</td>\n",
       "      <td>13</td>\n",
       "      <td>6</td>\n",
       "      <td>7</td>\n",
       "      <td>1</td>\n",
       "      <td>4</td>\n",
       "      <td>0</td>\n",
       "      <td>0</td>\n",
       "      <td>2824</td>\n",
       "      <td>20</td>\n",
       "      <td>38</td>\n",
       "      <td>1</td>\n",
       "    </tr>\n",
       "  </tbody>\n",
       "</table>\n",
       "</div>"
      ],
      "text/plain": [
       "   age  workclass  fnlwgt  education  education.num  marital.status  \\\n",
       "0   82          3  132870         11              9               6   \n",
       "1   54          3  140359          5              4               0   \n",
       "2   41          3  264663         15             10               5   \n",
       "3   34          3  216864         11              9               0   \n",
       "4   38          3  150601          0              6               5   \n",
       "5   74          6   88638         10             16               4   \n",
       "6   68          0  422013         11              9               0   \n",
       "7   45          3  172274         10             16               0   \n",
       "8   38          5  164526         14             15               4   \n",
       "9   52          3  129177          9             13               6   \n",
       "\n",
       "   occupation  relationship  race  sex  capital.gain  capital.loss  \\\n",
       "0           3             1     4    0             0          4356   \n",
       "1           6             4     4    0             0          3900   \n",
       "2           9             3     4    0             0          3900   \n",
       "3           7             4     4    0             0          3770   \n",
       "4           0             4     4    1             0          3770   \n",
       "5           9             2     4    0             0          3683   \n",
       "6           9             1     4    0             0          3683   \n",
       "7           9             4     2    0             0          3004   \n",
       "8           9             1     4    1             0          2824   \n",
       "9           7             1     4    0             0          2824   \n",
       "\n",
       "   hours.per.week  native.country  income  \n",
       "0              18              38       0  \n",
       "1              40              38       0  \n",
       "2              40              38       0  \n",
       "3              45              38       0  \n",
       "4              40              38       0  \n",
       "5              20              38       1  \n",
       "6              40              38       0  \n",
       "7              35              38       1  \n",
       "8              45              38       1  \n",
       "9              20              38       1  "
      ]
     },
     "execution_count": 6,
     "metadata": {},
     "output_type": "execute_result"
    }
   ],
   "source": [
    "df.head(10)"
   ]
  },
  {
   "cell_type": "code",
   "execution_count": 7,
   "id": "f410512f-dc2b-46ec-adc8-ae54c42b59c7",
   "metadata": {
    "tags": []
   },
   "outputs": [
    {
     "name": "stdout",
     "output_type": "stream",
     "text": [
      "<class 'pandas.core.frame.DataFrame'>\n",
      "RangeIndex: 30162 entries, 0 to 30161\n",
      "Data columns (total 15 columns):\n",
      " #   Column          Non-Null Count  Dtype\n",
      "---  ------          --------------  -----\n",
      " 0   age             30162 non-null  int64\n",
      " 1   workclass       30162 non-null  int64\n",
      " 2   fnlwgt          30162 non-null  int64\n",
      " 3   education       30162 non-null  int64\n",
      " 4   education.num   30162 non-null  int64\n",
      " 5   marital.status  30162 non-null  int64\n",
      " 6   occupation      30162 non-null  int64\n",
      " 7   relationship    30162 non-null  int64\n",
      " 8   race            30162 non-null  int64\n",
      " 9   sex             30162 non-null  int64\n",
      " 10  capital.gain    30162 non-null  int64\n",
      " 11  capital.loss    30162 non-null  int64\n",
      " 12  hours.per.week  30162 non-null  int64\n",
      " 13  native.country  30162 non-null  int64\n",
      " 14  income          30162 non-null  int64\n",
      "dtypes: int64(15)\n",
      "memory usage: 3.5 MB\n"
     ]
    }
   ],
   "source": [
    "df.info()"
   ]
  },
  {
   "cell_type": "code",
   "execution_count": 8,
   "id": "7c021f66-b5ea-4499-8ca5-178d340a6035",
   "metadata": {
    "tags": []
   },
   "outputs": [],
   "source": [
    "columns_cat = [\n",
    "    'workclass',\n",
    "    'education',\n",
    "    'marital.status',\n",
    "    'occupation',\n",
    "    'relationship',\n",
    "    'race',\n",
    "    'sex',\n",
    "    'native.country',\n",
    "    #'income',\n",
    "]"
   ]
  },
  {
   "cell_type": "code",
   "execution_count": 9,
   "id": "7d1bb7d7-0112-4490-9cd9-f55efeacde28",
   "metadata": {
    "tags": []
   },
   "outputs": [
    {
     "data": {
      "text/plain": [
       "{'workclass': 'category',\n",
       " 'education': 'category',\n",
       " 'marital.status': 'category',\n",
       " 'occupation': 'category',\n",
       " 'relationship': 'category',\n",
       " 'race': 'category',\n",
       " 'sex': 'category',\n",
       " 'native.country': 'category'}"
      ]
     },
     "execution_count": 9,
     "metadata": {},
     "output_type": "execute_result"
    }
   ],
   "source": [
    "{cat:'category' for cat in columns_cat}"
   ]
  },
  {
   "cell_type": "code",
   "execution_count": 10,
   "id": "8f7584fb-9bf6-4018-82ee-3646620191b2",
   "metadata": {
    "tags": []
   },
   "outputs": [],
   "source": [
    "df = df.astype({cat:'category' for cat in columns_cat})"
   ]
  },
  {
   "cell_type": "code",
   "execution_count": 11,
   "id": "8ec7ff65-ff26-4a47-8c8f-c40c7dc58574",
   "metadata": {
    "tags": []
   },
   "outputs": [
    {
     "name": "stdout",
     "output_type": "stream",
     "text": [
      "workclass Int64Index([0, 1, 3, 4, 5, 6, 7], dtype='int64')\n",
      "education Int64Index([0, 1, 2, 3, 4, 5, 6, 7, 8, 9, 10, 11, 12, 13, 14, 15], dtype='int64')\n",
      "marital.status Int64Index([0, 1, 2, 3, 4, 5, 6], dtype='int64')\n",
      "occupation Int64Index([0, 1, 2, 3, 4, 5, 6, 7, 8, 9, 10, 11, 12, 13], dtype='int64')\n",
      "relationship Int64Index([0, 1, 2, 3, 4, 5], dtype='int64')\n",
      "race Int64Index([0, 1, 2, 3, 4], dtype='int64')\n",
      "sex Int64Index([0, 1], dtype='int64')\n",
      "native.country Int64Index([ 0,  1,  2,  3,  4,  5,  6,  7,  8,  9, 10, 11, 12, 13, 14, 15, 16,\n",
      "            17, 18, 19, 20, 21, 22, 23, 24, 25, 26, 27, 28, 29, 30, 31, 32, 33,\n",
      "            34, 35, 36, 37, 38, 39, 40],\n",
      "           dtype='int64')\n"
     ]
    }
   ],
   "source": [
    "for cat in columns_cat:\n",
    "    print(cat, df[cat].cat.categories)"
   ]
  },
  {
   "cell_type": "code",
   "execution_count": 12,
   "id": "29f736f8",
   "metadata": {
    "tags": []
   },
   "outputs": [
    {
     "data": {
      "text/plain": [
       "0    22654\n",
       "1     7508\n",
       "Name: income, dtype: int64"
      ]
     },
     "execution_count": 12,
     "metadata": {},
     "output_type": "execute_result"
    }
   ],
   "source": [
    "df['income'].value_counts()"
   ]
  },
  {
   "cell_type": "code",
   "execution_count": 13,
   "id": "fb5137b0-f4c9-4eb3-91a8-ea08811e37cb",
   "metadata": {
    "tags": []
   },
   "outputs": [
    {
     "data": {
      "text/html": [
       "<div>\n",
       "<style scoped>\n",
       "    .dataframe tbody tr th:only-of-type {\n",
       "        vertical-align: middle;\n",
       "    }\n",
       "\n",
       "    .dataframe tbody tr th {\n",
       "        vertical-align: top;\n",
       "    }\n",
       "\n",
       "    .dataframe thead th {\n",
       "        text-align: right;\n",
       "    }\n",
       "</style>\n",
       "<table border=\"1\" class=\"dataframe\">\n",
       "  <thead>\n",
       "    <tr style=\"text-align: right;\">\n",
       "      <th></th>\n",
       "      <th>age</th>\n",
       "      <th>workclass</th>\n",
       "      <th>fnlwgt</th>\n",
       "      <th>education</th>\n",
       "      <th>education.num</th>\n",
       "      <th>marital.status</th>\n",
       "      <th>occupation</th>\n",
       "      <th>relationship</th>\n",
       "      <th>race</th>\n",
       "      <th>sex</th>\n",
       "      <th>capital.gain</th>\n",
       "      <th>capital.loss</th>\n",
       "      <th>hours.per.week</th>\n",
       "      <th>native.country</th>\n",
       "      <th>income</th>\n",
       "    </tr>\n",
       "  </thead>\n",
       "  <tbody>\n",
       "    <tr>\n",
       "      <th>0</th>\n",
       "      <td>82</td>\n",
       "      <td>3</td>\n",
       "      <td>132870</td>\n",
       "      <td>11</td>\n",
       "      <td>9</td>\n",
       "      <td>6</td>\n",
       "      <td>3</td>\n",
       "      <td>1</td>\n",
       "      <td>4</td>\n",
       "      <td>0</td>\n",
       "      <td>0</td>\n",
       "      <td>4356</td>\n",
       "      <td>18</td>\n",
       "      <td>38</td>\n",
       "      <td>0</td>\n",
       "    </tr>\n",
       "    <tr>\n",
       "      <th>1</th>\n",
       "      <td>54</td>\n",
       "      <td>3</td>\n",
       "      <td>140359</td>\n",
       "      <td>5</td>\n",
       "      <td>4</td>\n",
       "      <td>0</td>\n",
       "      <td>6</td>\n",
       "      <td>4</td>\n",
       "      <td>4</td>\n",
       "      <td>0</td>\n",
       "      <td>0</td>\n",
       "      <td>3900</td>\n",
       "      <td>40</td>\n",
       "      <td>38</td>\n",
       "      <td>0</td>\n",
       "    </tr>\n",
       "    <tr>\n",
       "      <th>2</th>\n",
       "      <td>41</td>\n",
       "      <td>3</td>\n",
       "      <td>264663</td>\n",
       "      <td>15</td>\n",
       "      <td>10</td>\n",
       "      <td>5</td>\n",
       "      <td>9</td>\n",
       "      <td>3</td>\n",
       "      <td>4</td>\n",
       "      <td>0</td>\n",
       "      <td>0</td>\n",
       "      <td>3900</td>\n",
       "      <td>40</td>\n",
       "      <td>38</td>\n",
       "      <td>0</td>\n",
       "    </tr>\n",
       "    <tr>\n",
       "      <th>3</th>\n",
       "      <td>34</td>\n",
       "      <td>3</td>\n",
       "      <td>216864</td>\n",
       "      <td>11</td>\n",
       "      <td>9</td>\n",
       "      <td>0</td>\n",
       "      <td>7</td>\n",
       "      <td>4</td>\n",
       "      <td>4</td>\n",
       "      <td>0</td>\n",
       "      <td>0</td>\n",
       "      <td>3770</td>\n",
       "      <td>45</td>\n",
       "      <td>38</td>\n",
       "      <td>0</td>\n",
       "    </tr>\n",
       "    <tr>\n",
       "      <th>4</th>\n",
       "      <td>38</td>\n",
       "      <td>3</td>\n",
       "      <td>150601</td>\n",
       "      <td>0</td>\n",
       "      <td>6</td>\n",
       "      <td>5</td>\n",
       "      <td>0</td>\n",
       "      <td>4</td>\n",
       "      <td>4</td>\n",
       "      <td>1</td>\n",
       "      <td>0</td>\n",
       "      <td>3770</td>\n",
       "      <td>40</td>\n",
       "      <td>38</td>\n",
       "      <td>0</td>\n",
       "    </tr>\n",
       "    <tr>\n",
       "      <th>5</th>\n",
       "      <td>74</td>\n",
       "      <td>6</td>\n",
       "      <td>88638</td>\n",
       "      <td>10</td>\n",
       "      <td>16</td>\n",
       "      <td>4</td>\n",
       "      <td>9</td>\n",
       "      <td>2</td>\n",
       "      <td>4</td>\n",
       "      <td>0</td>\n",
       "      <td>0</td>\n",
       "      <td>3683</td>\n",
       "      <td>20</td>\n",
       "      <td>38</td>\n",
       "      <td>1</td>\n",
       "    </tr>\n",
       "    <tr>\n",
       "      <th>6</th>\n",
       "      <td>68</td>\n",
       "      <td>0</td>\n",
       "      <td>422013</td>\n",
       "      <td>11</td>\n",
       "      <td>9</td>\n",
       "      <td>0</td>\n",
       "      <td>9</td>\n",
       "      <td>1</td>\n",
       "      <td>4</td>\n",
       "      <td>0</td>\n",
       "      <td>0</td>\n",
       "      <td>3683</td>\n",
       "      <td>40</td>\n",
       "      <td>38</td>\n",
       "      <td>0</td>\n",
       "    </tr>\n",
       "    <tr>\n",
       "      <th>7</th>\n",
       "      <td>45</td>\n",
       "      <td>3</td>\n",
       "      <td>172274</td>\n",
       "      <td>10</td>\n",
       "      <td>16</td>\n",
       "      <td>0</td>\n",
       "      <td>9</td>\n",
       "      <td>4</td>\n",
       "      <td>2</td>\n",
       "      <td>0</td>\n",
       "      <td>0</td>\n",
       "      <td>3004</td>\n",
       "      <td>35</td>\n",
       "      <td>38</td>\n",
       "      <td>1</td>\n",
       "    </tr>\n",
       "    <tr>\n",
       "      <th>8</th>\n",
       "      <td>38</td>\n",
       "      <td>5</td>\n",
       "      <td>164526</td>\n",
       "      <td>14</td>\n",
       "      <td>15</td>\n",
       "      <td>4</td>\n",
       "      <td>9</td>\n",
       "      <td>1</td>\n",
       "      <td>4</td>\n",
       "      <td>1</td>\n",
       "      <td>0</td>\n",
       "      <td>2824</td>\n",
       "      <td>45</td>\n",
       "      <td>38</td>\n",
       "      <td>1</td>\n",
       "    </tr>\n",
       "    <tr>\n",
       "      <th>9</th>\n",
       "      <td>52</td>\n",
       "      <td>3</td>\n",
       "      <td>129177</td>\n",
       "      <td>9</td>\n",
       "      <td>13</td>\n",
       "      <td>6</td>\n",
       "      <td>7</td>\n",
       "      <td>1</td>\n",
       "      <td>4</td>\n",
       "      <td>0</td>\n",
       "      <td>0</td>\n",
       "      <td>2824</td>\n",
       "      <td>20</td>\n",
       "      <td>38</td>\n",
       "      <td>1</td>\n",
       "    </tr>\n",
       "  </tbody>\n",
       "</table>\n",
       "</div>"
      ],
      "text/plain": [
       "   age workclass  fnlwgt education  education.num marital.status occupation  \\\n",
       "0   82         3  132870        11              9              6          3   \n",
       "1   54         3  140359         5              4              0          6   \n",
       "2   41         3  264663        15             10              5          9   \n",
       "3   34         3  216864        11              9              0          7   \n",
       "4   38         3  150601         0              6              5          0   \n",
       "5   74         6   88638        10             16              4          9   \n",
       "6   68         0  422013        11              9              0          9   \n",
       "7   45         3  172274        10             16              0          9   \n",
       "8   38         5  164526        14             15              4          9   \n",
       "9   52         3  129177         9             13              6          7   \n",
       "\n",
       "  relationship race sex  capital.gain  capital.loss  hours.per.week  \\\n",
       "0            1    4   0             0          4356              18   \n",
       "1            4    4   0             0          3900              40   \n",
       "2            3    4   0             0          3900              40   \n",
       "3            4    4   0             0          3770              45   \n",
       "4            4    4   1             0          3770              40   \n",
       "5            2    4   0             0          3683              20   \n",
       "6            1    4   0             0          3683              40   \n",
       "7            4    2   0             0          3004              35   \n",
       "8            1    4   1             0          2824              45   \n",
       "9            1    4   0             0          2824              20   \n",
       "\n",
       "  native.country  income  \n",
       "0             38       0  \n",
       "1             38       0  \n",
       "2             38       0  \n",
       "3             38       0  \n",
       "4             38       0  \n",
       "5             38       1  \n",
       "6             38       0  \n",
       "7             38       1  \n",
       "8             38       1  \n",
       "9             38       1  "
      ]
     },
     "execution_count": 13,
     "metadata": {},
     "output_type": "execute_result"
    }
   ],
   "source": [
    "df.head(10)"
   ]
  },
  {
   "cell_type": "code",
   "execution_count": 14,
   "id": "6c8b0cfc-de71-4591-b839-e498f26e8143",
   "metadata": {
    "tags": []
   },
   "outputs": [
    {
     "name": "stdout",
     "output_type": "stream",
     "text": [
      "<class 'pandas.core.frame.DataFrame'>\n",
      "RangeIndex: 30162 entries, 0 to 30161\n",
      "Data columns (total 15 columns):\n",
      " #   Column          Non-Null Count  Dtype   \n",
      "---  ------          --------------  -----   \n",
      " 0   age             30162 non-null  int64   \n",
      " 1   workclass       30162 non-null  category\n",
      " 2   fnlwgt          30162 non-null  int64   \n",
      " 3   education       30162 non-null  category\n",
      " 4   education.num   30162 non-null  int64   \n",
      " 5   marital.status  30162 non-null  category\n",
      " 6   occupation      30162 non-null  category\n",
      " 7   relationship    30162 non-null  category\n",
      " 8   race            30162 non-null  category\n",
      " 9   sex             30162 non-null  category\n",
      " 10  capital.gain    30162 non-null  int64   \n",
      " 11  capital.loss    30162 non-null  int64   \n",
      " 12  hours.per.week  30162 non-null  int64   \n",
      " 13  native.country  30162 non-null  category\n",
      " 14  income          30162 non-null  int64   \n",
      "dtypes: category(8), int64(7)\n",
      "memory usage: 1.8 MB\n"
     ]
    }
   ],
   "source": [
    "df.info()"
   ]
  },
  {
   "cell_type": "code",
   "execution_count": 15,
   "id": "95550de7-f32e-4d73-9c8a-9f776efb91b1",
   "metadata": {
    "tags": []
   },
   "outputs": [
    {
     "data": {
      "text/html": [
       "<div>\n",
       "<style scoped>\n",
       "    .dataframe tbody tr th:only-of-type {\n",
       "        vertical-align: middle;\n",
       "    }\n",
       "\n",
       "    .dataframe tbody tr th {\n",
       "        vertical-align: top;\n",
       "    }\n",
       "\n",
       "    .dataframe thead th {\n",
       "        text-align: right;\n",
       "    }\n",
       "</style>\n",
       "<table border=\"1\" class=\"dataframe\">\n",
       "  <thead>\n",
       "    <tr style=\"text-align: right;\">\n",
       "      <th></th>\n",
       "      <th>age</th>\n",
       "      <th>workclass</th>\n",
       "      <th>education</th>\n",
       "      <th>education.num</th>\n",
       "      <th>marital.status</th>\n",
       "      <th>occupation</th>\n",
       "      <th>relationship</th>\n",
       "      <th>race</th>\n",
       "      <th>sex</th>\n",
       "      <th>capital.gain</th>\n",
       "      <th>capital.loss</th>\n",
       "      <th>hours.per.week</th>\n",
       "      <th>native.country</th>\n",
       "      <th>income</th>\n",
       "    </tr>\n",
       "  </thead>\n",
       "  <tbody>\n",
       "    <tr>\n",
       "      <th>0</th>\n",
       "      <td>82</td>\n",
       "      <td>3</td>\n",
       "      <td>11</td>\n",
       "      <td>9</td>\n",
       "      <td>6</td>\n",
       "      <td>3</td>\n",
       "      <td>1</td>\n",
       "      <td>4</td>\n",
       "      <td>0</td>\n",
       "      <td>0</td>\n",
       "      <td>4356</td>\n",
       "      <td>18</td>\n",
       "      <td>38</td>\n",
       "      <td>0</td>\n",
       "    </tr>\n",
       "    <tr>\n",
       "      <th>1</th>\n",
       "      <td>54</td>\n",
       "      <td>3</td>\n",
       "      <td>5</td>\n",
       "      <td>4</td>\n",
       "      <td>0</td>\n",
       "      <td>6</td>\n",
       "      <td>4</td>\n",
       "      <td>4</td>\n",
       "      <td>0</td>\n",
       "      <td>0</td>\n",
       "      <td>3900</td>\n",
       "      <td>40</td>\n",
       "      <td>38</td>\n",
       "      <td>0</td>\n",
       "    </tr>\n",
       "    <tr>\n",
       "      <th>2</th>\n",
       "      <td>41</td>\n",
       "      <td>3</td>\n",
       "      <td>15</td>\n",
       "      <td>10</td>\n",
       "      <td>5</td>\n",
       "      <td>9</td>\n",
       "      <td>3</td>\n",
       "      <td>4</td>\n",
       "      <td>0</td>\n",
       "      <td>0</td>\n",
       "      <td>3900</td>\n",
       "      <td>40</td>\n",
       "      <td>38</td>\n",
       "      <td>0</td>\n",
       "    </tr>\n",
       "    <tr>\n",
       "      <th>3</th>\n",
       "      <td>34</td>\n",
       "      <td>3</td>\n",
       "      <td>11</td>\n",
       "      <td>9</td>\n",
       "      <td>0</td>\n",
       "      <td>7</td>\n",
       "      <td>4</td>\n",
       "      <td>4</td>\n",
       "      <td>0</td>\n",
       "      <td>0</td>\n",
       "      <td>3770</td>\n",
       "      <td>45</td>\n",
       "      <td>38</td>\n",
       "      <td>0</td>\n",
       "    </tr>\n",
       "    <tr>\n",
       "      <th>4</th>\n",
       "      <td>38</td>\n",
       "      <td>3</td>\n",
       "      <td>0</td>\n",
       "      <td>6</td>\n",
       "      <td>5</td>\n",
       "      <td>0</td>\n",
       "      <td>4</td>\n",
       "      <td>4</td>\n",
       "      <td>1</td>\n",
       "      <td>0</td>\n",
       "      <td>3770</td>\n",
       "      <td>40</td>\n",
       "      <td>38</td>\n",
       "      <td>0</td>\n",
       "    </tr>\n",
       "    <tr>\n",
       "      <th>5</th>\n",
       "      <td>74</td>\n",
       "      <td>6</td>\n",
       "      <td>10</td>\n",
       "      <td>16</td>\n",
       "      <td>4</td>\n",
       "      <td>9</td>\n",
       "      <td>2</td>\n",
       "      <td>4</td>\n",
       "      <td>0</td>\n",
       "      <td>0</td>\n",
       "      <td>3683</td>\n",
       "      <td>20</td>\n",
       "      <td>38</td>\n",
       "      <td>1</td>\n",
       "    </tr>\n",
       "    <tr>\n",
       "      <th>6</th>\n",
       "      <td>68</td>\n",
       "      <td>0</td>\n",
       "      <td>11</td>\n",
       "      <td>9</td>\n",
       "      <td>0</td>\n",
       "      <td>9</td>\n",
       "      <td>1</td>\n",
       "      <td>4</td>\n",
       "      <td>0</td>\n",
       "      <td>0</td>\n",
       "      <td>3683</td>\n",
       "      <td>40</td>\n",
       "      <td>38</td>\n",
       "      <td>0</td>\n",
       "    </tr>\n",
       "    <tr>\n",
       "      <th>7</th>\n",
       "      <td>45</td>\n",
       "      <td>3</td>\n",
       "      <td>10</td>\n",
       "      <td>16</td>\n",
       "      <td>0</td>\n",
       "      <td>9</td>\n",
       "      <td>4</td>\n",
       "      <td>2</td>\n",
       "      <td>0</td>\n",
       "      <td>0</td>\n",
       "      <td>3004</td>\n",
       "      <td>35</td>\n",
       "      <td>38</td>\n",
       "      <td>1</td>\n",
       "    </tr>\n",
       "    <tr>\n",
       "      <th>8</th>\n",
       "      <td>38</td>\n",
       "      <td>5</td>\n",
       "      <td>14</td>\n",
       "      <td>15</td>\n",
       "      <td>4</td>\n",
       "      <td>9</td>\n",
       "      <td>1</td>\n",
       "      <td>4</td>\n",
       "      <td>1</td>\n",
       "      <td>0</td>\n",
       "      <td>2824</td>\n",
       "      <td>45</td>\n",
       "      <td>38</td>\n",
       "      <td>1</td>\n",
       "    </tr>\n",
       "    <tr>\n",
       "      <th>9</th>\n",
       "      <td>52</td>\n",
       "      <td>3</td>\n",
       "      <td>9</td>\n",
       "      <td>13</td>\n",
       "      <td>6</td>\n",
       "      <td>7</td>\n",
       "      <td>1</td>\n",
       "      <td>4</td>\n",
       "      <td>0</td>\n",
       "      <td>0</td>\n",
       "      <td>2824</td>\n",
       "      <td>20</td>\n",
       "      <td>38</td>\n",
       "      <td>1</td>\n",
       "    </tr>\n",
       "  </tbody>\n",
       "</table>\n",
       "</div>"
      ],
      "text/plain": [
       "   age workclass education  education.num marital.status occupation  \\\n",
       "0   82         3        11              9              6          3   \n",
       "1   54         3         5              4              0          6   \n",
       "2   41         3        15             10              5          9   \n",
       "3   34         3        11              9              0          7   \n",
       "4   38         3         0              6              5          0   \n",
       "5   74         6        10             16              4          9   \n",
       "6   68         0        11              9              0          9   \n",
       "7   45         3        10             16              0          9   \n",
       "8   38         5        14             15              4          9   \n",
       "9   52         3         9             13              6          7   \n",
       "\n",
       "  relationship race sex  capital.gain  capital.loss  hours.per.week  \\\n",
       "0            1    4   0             0          4356              18   \n",
       "1            4    4   0             0          3900              40   \n",
       "2            3    4   0             0          3900              40   \n",
       "3            4    4   0             0          3770              45   \n",
       "4            4    4   1             0          3770              40   \n",
       "5            2    4   0             0          3683              20   \n",
       "6            1    4   0             0          3683              40   \n",
       "7            4    2   0             0          3004              35   \n",
       "8            1    4   1             0          2824              45   \n",
       "9            1    4   0             0          2824              20   \n",
       "\n",
       "  native.country  income  \n",
       "0             38       0  \n",
       "1             38       0  \n",
       "2             38       0  \n",
       "3             38       0  \n",
       "4             38       0  \n",
       "5             38       1  \n",
       "6             38       0  \n",
       "7             38       1  \n",
       "8             38       1  \n",
       "9             38       1  "
      ]
     },
     "execution_count": 15,
     "metadata": {},
     "output_type": "execute_result"
    }
   ],
   "source": [
    "# 不要カラムの削除と並べ替え\n",
    "df = df[[\"age\",\n",
    "         \"workclass\",\n",
    "         #\"fnlwgt\",\n",
    "         \"education\",\n",
    "         \"education.num\",\n",
    "         \"marital.status\",\n",
    "         \"occupation\",\n",
    "         \"relationship\",\n",
    "         \"race\",\n",
    "         \"sex\",\n",
    "         \"capital.gain\",\n",
    "         \"capital.loss\",\n",
    "         \"hours.per.week\",\n",
    "         \"native.country\",\n",
    "         \"income\",]]\n",
    "df.head(10)"
   ]
  },
  {
   "cell_type": "code",
   "execution_count": 16,
   "id": "5b76a5f5-bd1b-4de7-8173-7975716c1be4",
   "metadata": {
    "tags": []
   },
   "outputs": [],
   "source": [
    "X = df.drop(['income'], axis=1)\n",
    "y = df['income']\n",
    "\n",
    "#Creation of Train and Test dataset\n",
    "X_train, X_test , y_train, y_test  = train_test_split(X      , y      , test_size=0.2, shuffle=False)\n",
    "\n",
    "#Creation of Train and validation dataset\n",
    "X_train, X_valid, y_train, y_valid = train_test_split(X_train, y_train, test_size=0.2, shuffle=False)"
   ]
  },
  {
   "cell_type": "code",
   "execution_count": 17,
   "id": "3871dfb1-1d1d-43b0-8dcb-cd8a4742e94f",
   "metadata": {
    "tags": []
   },
   "outputs": [
    {
     "name": "stdout",
     "output_type": "stream",
     "text": [
      "Train dataset: (19303, 13)(19303,)\n",
      "Validation dataset: (4826, 13)(4826,)\n",
      "Test dataset: (6033, 13)(6033,)\n"
     ]
    }
   ],
   "source": [
    "print (\"Train dataset: {0}{1}\".format(X_train.shape, y_train.shape))\n",
    "print (\"Validation dataset: {0}{1}\".format(X_valid.shape, y_valid.shape))\n",
    "print (\"Test dataset: {0}{1}\".format(X_test.shape, y_test.shape))"
   ]
  },
  {
   "cell_type": "code",
   "execution_count": 18,
   "id": "67533dfe-b063-4177-b44a-7e9794366994",
   "metadata": {
    "tags": []
   },
   "outputs": [],
   "source": [
    "# データセットを生成する\n",
    "lgb_train = lgb.Dataset(X_train, y_train)\n",
    "lgb_valid = lgb.Dataset(X_valid, y_valid, reference=lgb_train)"
   ]
  },
  {
   "cell_type": "code",
   "execution_count": 19,
   "id": "b7c8c6de-b208-47ac-af74-45fece3b7ea9",
   "metadata": {
    "tags": []
   },
   "outputs": [],
   "source": [
    "# LightGBMのハイパーパラメータ\n",
    "params = {\n",
    "    # 勾配ブースティング木(GBDT:Gradient Boosting Decision Tree)\n",
    "    'boosting_type': 'gbdt',\n",
    "    # 二値分類問題\n",
    "    'objective': 'binary',\n",
    "    # AUCの最大化を目指す\n",
    "    'metric': 'auc',\n",
    "    # 正答率の最大化を目指す\n",
    "    #'metric': 'binary_error',\n",
    "    # Fatal の場合出力\n",
    "    'verbosity': -1,\n",
    "    # 学習率\n",
    "    'learning_rate': 0.02,\n",
    "    'deterministic': True, # 再現性確保用のパラメータ\n",
    "    'force_row_wise': True  # 再現性確保用のパラメータ\n",
    "}"
   ]
  },
  {
   "cell_type": "code",
   "execution_count": 20,
   "id": "67822de6-4283-4b35-bec8-b37f7fb0d85c",
   "metadata": {
    "tags": []
   },
   "outputs": [],
   "source": [
    "# 乱数Seedを指定した試行\n",
    "# LightGBMTunerのインスタンス化、学習（≒探索）、最適モデル（およびパラメータ）取得などの流れは前節に同じ\n",
    "# 更にモデル精度指標算出を追加\n",
    "def autotuning(seed=31):\n",
    "    booster = lgb.LightGBMTuner(\n",
    "        params = params,\n",
    "        train_set = lgb_train,\n",
    "        valid_sets = lgb_valid,\n",
    "        verbose_eval = 50,  # 50イテレーション毎に学習結果出力\n",
    "        num_boost_round = 10000,  # 最大イテレーション回数指定\n",
    "        early_stopping_rounds = 100,\n",
    "        categorical_feature = columns_cat, # categorical_featureを設定\n",
    "        optuna_seed = seed, # 再現性確保用のパラメータ\n",
    "    )\n",
    "\n",
    "    # 上記のパラメータでモデルを学習する\n",
    "    booster.run()\n",
    "\n",
    "    # 最適なパラメータの表示\n",
    "    #print(\"Best params:\", booster.best_params)\n",
    "\n",
    "    # 最適なモデル（Boosterオブジェクト）を取得する\n",
    "    model = booster.get_best_booster()\n",
    "\n",
    "    # 最適なパラメータの表示\n",
    "    best_params = model.params\n",
    "    print(\"Best params:\", best_params)\n",
    "\n",
    "    # テストデータを予測する\n",
    "    y_pred = model.predict(X_test, num_iteration=model.best_iteration)\n",
    "\n",
    "    # AUCを計算\n",
    "    fpr, tpr, thresholds = roc_curve(np.asarray(y_test), y_pred)\n",
    "    #print(\"AUC\", auc(fpr, tpr))\n",
    "\n",
    "    metrics = {\n",
    "        \"seed\": seed,\n",
    "        \"auc\": auc(fpr, tpr),\n",
    "        \"accuracy\": accuracy_score(np.asarray(y_test), np.round(y_pred)),\n",
    "        \"precision\": precision_score(np.asarray(y_test), np.round(y_pred)),\n",
    "    }\n",
    "\n",
    "    # Tupleとして戻り値に\n",
    "    return (best_params, metrics)"
   ]
  },
  {
   "cell_type": "code",
   "execution_count": 21,
   "id": "ab63a258-7bd5-4d80-b86e-abb2dbdafa0f",
   "metadata": {
    "tags": []
   },
   "outputs": [],
   "source": [
    "# 乱数シードを指定（from 素数を取得するワンライナー）\n",
    "seeds = (lambda n:[x for x in range(2, n) if not 0 in map(lambda z: x%z, range(2, x))])(10)"
   ]
  },
  {
   "cell_type": "code",
   "execution_count": 22,
   "id": "fca12805-137c-4344-ae57-21f585504302",
   "metadata": {
    "tags": []
   },
   "outputs": [
    {
     "name": "stdout",
     "output_type": "stream",
     "text": [
      "### seed:  2 ###\n"
     ]
    },
    {
     "name": "stderr",
     "output_type": "stream",
     "text": [
      "feature_fraction, val_score: -inf:   0%|                                                         | 0/7 [00:00<?, ?it/s]"
     ]
    },
    {
     "name": "stdout",
     "output_type": "stream",
     "text": [
      "Training until validation scores don't improve for 100 rounds\n"
     ]
    },
    {
     "name": "stderr",
     "output_type": "stream",
     "text": [
      "C:\\Python39\\lib\\site-packages\\lightgbm\\engine.py:181: UserWarning: 'early_stopping_rounds' argument is deprecated and will be removed in a future release of LightGBM. Pass 'early_stopping()' callback via 'callbacks' argument instead.\n",
      "  _log_warning(\"'early_stopping_rounds' argument is deprecated and will be removed in a future release of LightGBM. \"\n",
      "C:\\Python39\\lib\\site-packages\\lightgbm\\basic.py:2068: UserWarning: categorical_feature in Dataset is overridden.\n",
      "New categorical_feature is ['education', 'marital.status', 'native.country', 'occupation', 'race', 'relationship', 'sex', 'workclass']\n",
      "  _log_warning('categorical_feature in Dataset is overridden.\\n'\n",
      "C:\\Python39\\lib\\site-packages\\lightgbm\\engine.py:239: UserWarning: 'verbose_eval' argument is deprecated and will be removed in a future release of LightGBM. Pass 'log_evaluation()' callback via 'callbacks' argument instead.\n",
      "  _log_warning(\"'verbose_eval' argument is deprecated and will be removed in a future release of LightGBM. \"\n",
      "C:\\Python39\\lib\\site-packages\\lightgbm\\basic.py:1780: UserWarning: Overriding the parameters from Reference Dataset.\n",
      "  _log_warning('Overriding the parameters from Reference Dataset.')\n",
      "C:\\Python39\\lib\\site-packages\\lightgbm\\basic.py:1513: UserWarning: categorical_column in param dict is overridden.\n",
      "  _log_warning(f'{cat_alias} in param dict is overridden.')\n"
     ]
    },
    {
     "name": "stdout",
     "output_type": "stream",
     "text": [
      "[50]\tvalid_0's auc: 0.902664\n",
      "[100]\tvalid_0's auc: 0.904155\n",
      "[150]\tvalid_0's auc: 0.90514\n",
      "[200]\tvalid_0's auc: 0.905737\n",
      "[250]\tvalid_0's auc: 0.906364\n",
      "[300]\tvalid_0's auc: 0.90656\n",
      "[350]\tvalid_0's auc: 0.906693\n",
      "[400]\tvalid_0's auc: 0.906715\n",
      "[450]\tvalid_0's auc: 0.906831\n"
     ]
    },
    {
     "name": "stderr",
     "output_type": "stream",
     "text": [
      "feature_fraction, val_score: 0.906875:  14%|######4                                      | 1/7 [00:01<00:07,  1.17s/it]"
     ]
    },
    {
     "name": "stdout",
     "output_type": "stream",
     "text": [
      "[500]\tvalid_0's auc: 0.906693\n",
      "Early stopping, best iteration is:\n",
      "[434]\tvalid_0's auc: 0.906875\n",
      "Training until validation scores don't improve for 100 rounds\n"
     ]
    },
    {
     "name": "stderr",
     "output_type": "stream",
     "text": [
      "C:\\Python39\\lib\\site-packages\\lightgbm\\engine.py:181: UserWarning: 'early_stopping_rounds' argument is deprecated and will be removed in a future release of LightGBM. Pass 'early_stopping()' callback via 'callbacks' argument instead.\n",
      "  _log_warning(\"'early_stopping_rounds' argument is deprecated and will be removed in a future release of LightGBM. \"\n",
      "C:\\Python39\\lib\\site-packages\\lightgbm\\basic.py:2068: UserWarning: categorical_feature in Dataset is overridden.\n",
      "New categorical_feature is ['education', 'marital.status', 'native.country', 'occupation', 'race', 'relationship', 'sex', 'workclass']\n",
      "  _log_warning('categorical_feature in Dataset is overridden.\\n'\n",
      "C:\\Python39\\lib\\site-packages\\lightgbm\\engine.py:239: UserWarning: 'verbose_eval' argument is deprecated and will be removed in a future release of LightGBM. Pass 'log_evaluation()' callback via 'callbacks' argument instead.\n",
      "  _log_warning(\"'verbose_eval' argument is deprecated and will be removed in a future release of LightGBM. \"\n",
      "C:\\Python39\\lib\\site-packages\\lightgbm\\basic.py:1780: UserWarning: Overriding the parameters from Reference Dataset.\n",
      "  _log_warning('Overriding the parameters from Reference Dataset.')\n",
      "C:\\Python39\\lib\\site-packages\\lightgbm\\basic.py:1513: UserWarning: categorical_column in param dict is overridden.\n",
      "  _log_warning(f'{cat_alias} in param dict is overridden.')\n"
     ]
    },
    {
     "name": "stdout",
     "output_type": "stream",
     "text": [
      "[50]\tvalid_0's auc: 0.899916\n",
      "[100]\tvalid_0's auc: 0.901258\n",
      "[150]\tvalid_0's auc: 0.903585\n",
      "[200]\tvalid_0's auc: 0.904763\n",
      "[250]\tvalid_0's auc: 0.905475\n",
      "[300]\tvalid_0's auc: 0.905748\n",
      "[350]\tvalid_0's auc: 0.905854\n",
      "[400]\tvalid_0's auc: 0.905631\n",
      "[450]\tvalid_0's auc: 0.905481\n",
      "Early stopping, best iteration is:\n",
      "[360]\tvalid_0's auc: 0.905875\n"
     ]
    },
    {
     "name": "stderr",
     "output_type": "stream",
     "text": [
      "feature_fraction, val_score: 0.906875:  29%|############8                                | 2/7 [00:02<00:05,  1.06s/it]C:\\Python39\\lib\\site-packages\\lightgbm\\engine.py:181: UserWarning: 'early_stopping_rounds' argument is deprecated and will be removed in a future release of LightGBM. Pass 'early_stopping()' callback via 'callbacks' argument instead.\n",
      "  _log_warning(\"'early_stopping_rounds' argument is deprecated and will be removed in a future release of LightGBM. \"\n",
      "C:\\Python39\\lib\\site-packages\\lightgbm\\basic.py:2068: UserWarning: categorical_feature in Dataset is overridden.\n",
      "New categorical_feature is ['education', 'marital.status', 'native.country', 'occupation', 'race', 'relationship', 'sex', 'workclass']\n",
      "  _log_warning('categorical_feature in Dataset is overridden.\\n'\n",
      "C:\\Python39\\lib\\site-packages\\lightgbm\\engine.py:239: UserWarning: 'verbose_eval' argument is deprecated and will be removed in a future release of LightGBM. Pass 'log_evaluation()' callback via 'callbacks' argument instead.\n",
      "  _log_warning(\"'verbose_eval' argument is deprecated and will be removed in a future release of LightGBM. \"\n",
      "C:\\Python39\\lib\\site-packages\\lightgbm\\basic.py:1780: UserWarning: Overriding the parameters from Reference Dataset.\n",
      "  _log_warning('Overriding the parameters from Reference Dataset.')\n",
      "C:\\Python39\\lib\\site-packages\\lightgbm\\basic.py:1513: UserWarning: categorical_column in param dict is overridden.\n",
      "  _log_warning(f'{cat_alias} in param dict is overridden.')\n"
     ]
    },
    {
     "name": "stdout",
     "output_type": "stream",
     "text": [
      "Training until validation scores don't improve for 100 rounds\n",
      "[50]\tvalid_0's auc: 0.896263\n",
      "[100]\tvalid_0's auc: 0.899584\n",
      "[150]\tvalid_0's auc: 0.902213\n",
      "[200]\tvalid_0's auc: 0.903541\n",
      "[250]\tvalid_0's auc: 0.904386\n"
     ]
    },
    {
     "name": "stderr",
     "output_type": "stream",
     "text": [
      "feature_fraction, val_score: 0.906875:  43%|###################2                         | 3/7 [00:02<00:03,  1.05it/s]"
     ]
    },
    {
     "name": "stdout",
     "output_type": "stream",
     "text": [
      "[300]\tvalid_0's auc: 0.904599\n",
      "[350]\tvalid_0's auc: 0.904416\n",
      "Early stopping, best iteration is:\n",
      "[299]\tvalid_0's auc: 0.904604\n"
     ]
    },
    {
     "name": "stderr",
     "output_type": "stream",
     "text": [
      "C:\\Python39\\lib\\site-packages\\lightgbm\\engine.py:181: UserWarning: 'early_stopping_rounds' argument is deprecated and will be removed in a future release of LightGBM. Pass 'early_stopping()' callback via 'callbacks' argument instead.\n",
      "  _log_warning(\"'early_stopping_rounds' argument is deprecated and will be removed in a future release of LightGBM. \"\n",
      "C:\\Python39\\lib\\site-packages\\lightgbm\\basic.py:2068: UserWarning: categorical_feature in Dataset is overridden.\n",
      "New categorical_feature is ['education', 'marital.status', 'native.country', 'occupation', 'race', 'relationship', 'sex', 'workclass']\n",
      "  _log_warning('categorical_feature in Dataset is overridden.\\n'\n",
      "C:\\Python39\\lib\\site-packages\\lightgbm\\engine.py:239: UserWarning: 'verbose_eval' argument is deprecated and will be removed in a future release of LightGBM. Pass 'log_evaluation()' callback via 'callbacks' argument instead.\n",
      "  _log_warning(\"'verbose_eval' argument is deprecated and will be removed in a future release of LightGBM. \"\n",
      "C:\\Python39\\lib\\site-packages\\lightgbm\\basic.py:1780: UserWarning: Overriding the parameters from Reference Dataset.\n",
      "  _log_warning('Overriding the parameters from Reference Dataset.')\n",
      "C:\\Python39\\lib\\site-packages\\lightgbm\\basic.py:1513: UserWarning: categorical_column in param dict is overridden.\n",
      "  _log_warning(f'{cat_alias} in param dict is overridden.')\n"
     ]
    },
    {
     "name": "stdout",
     "output_type": "stream",
     "text": [
      "Training until validation scores don't improve for 100 rounds\n",
      "[50]\tvalid_0's auc: 0.900977\n",
      "[100]\tvalid_0's auc: 0.901689\n",
      "[150]\tvalid_0's auc: 0.903351\n",
      "[200]\tvalid_0's auc: 0.904775\n",
      "[250]\tvalid_0's auc: 0.905418\n",
      "[300]\tvalid_0's auc: 0.905652\n",
      "[350]\tvalid_0's auc: 0.905724\n",
      "[400]\tvalid_0's auc: 0.905779\n"
     ]
    },
    {
     "name": "stderr",
     "output_type": "stream",
     "text": [
      "feature_fraction, val_score: 0.906875:  57%|#########################7                   | 4/7 [00:04<00:02,  1.01it/s]"
     ]
    },
    {
     "name": "stdout",
     "output_type": "stream",
     "text": [
      "[450]\tvalid_0's auc: 0.905621\n",
      "Early stopping, best iteration is:\n",
      "[378]\tvalid_0's auc: 0.905858\n",
      "Training until validation scores don't improve for 100 rounds\n"
     ]
    },
    {
     "name": "stderr",
     "output_type": "stream",
     "text": [
      "C:\\Python39\\lib\\site-packages\\lightgbm\\engine.py:181: UserWarning: 'early_stopping_rounds' argument is deprecated and will be removed in a future release of LightGBM. Pass 'early_stopping()' callback via 'callbacks' argument instead.\n",
      "  _log_warning(\"'early_stopping_rounds' argument is deprecated and will be removed in a future release of LightGBM. \"\n",
      "C:\\Python39\\lib\\site-packages\\lightgbm\\basic.py:2068: UserWarning: categorical_feature in Dataset is overridden.\n",
      "New categorical_feature is ['education', 'marital.status', 'native.country', 'occupation', 'race', 'relationship', 'sex', 'workclass']\n",
      "  _log_warning('categorical_feature in Dataset is overridden.\\n'\n",
      "C:\\Python39\\lib\\site-packages\\lightgbm\\engine.py:239: UserWarning: 'verbose_eval' argument is deprecated and will be removed in a future release of LightGBM. Pass 'log_evaluation()' callback via 'callbacks' argument instead.\n",
      "  _log_warning(\"'verbose_eval' argument is deprecated and will be removed in a future release of LightGBM. \"\n",
      "C:\\Python39\\lib\\site-packages\\lightgbm\\basic.py:1780: UserWarning: Overriding the parameters from Reference Dataset.\n",
      "  _log_warning('Overriding the parameters from Reference Dataset.')\n",
      "C:\\Python39\\lib\\site-packages\\lightgbm\\basic.py:1513: UserWarning: categorical_column in param dict is overridden.\n",
      "  _log_warning(f'{cat_alias} in param dict is overridden.')\n"
     ]
    },
    {
     "name": "stdout",
     "output_type": "stream",
     "text": [
      "[50]\tvalid_0's auc: 0.897806\n",
      "[100]\tvalid_0's auc: 0.900479\n",
      "[150]\tvalid_0's auc: 0.903007\n",
      "[200]\tvalid_0's auc: 0.904523\n",
      "[250]\tvalid_0's auc: 0.905004\n",
      "[300]\tvalid_0's auc: 0.90514\n"
     ]
    },
    {
     "name": "stderr",
     "output_type": "stream",
     "text": [
      "feature_fraction, val_score: 0.906875:  71%|################################1            | 5/7 [00:04<00:01,  1.05it/s]"
     ]
    },
    {
     "name": "stdout",
     "output_type": "stream",
     "text": [
      "[350]\tvalid_0's auc: 0.905146\n",
      "[400]\tvalid_0's auc: 0.905071\n",
      "Early stopping, best iteration is:\n",
      "[322]\tvalid_0's auc: 0.905196\n"
     ]
    },
    {
     "name": "stderr",
     "output_type": "stream",
     "text": [
      "C:\\Python39\\lib\\site-packages\\lightgbm\\engine.py:181: UserWarning: 'early_stopping_rounds' argument is deprecated and will be removed in a future release of LightGBM. Pass 'early_stopping()' callback via 'callbacks' argument instead.\n",
      "  _log_warning(\"'early_stopping_rounds' argument is deprecated and will be removed in a future release of LightGBM. \"\n",
      "C:\\Python39\\lib\\site-packages\\lightgbm\\basic.py:2068: UserWarning: categorical_feature in Dataset is overridden.\n",
      "New categorical_feature is ['education', 'marital.status', 'native.country', 'occupation', 'race', 'relationship', 'sex', 'workclass']\n",
      "  _log_warning('categorical_feature in Dataset is overridden.\\n'\n",
      "C:\\Python39\\lib\\site-packages\\lightgbm\\engine.py:239: UserWarning: 'verbose_eval' argument is deprecated and will be removed in a future release of LightGBM. Pass 'log_evaluation()' callback via 'callbacks' argument instead.\n",
      "  _log_warning(\"'verbose_eval' argument is deprecated and will be removed in a future release of LightGBM. \"\n",
      "C:\\Python39\\lib\\site-packages\\lightgbm\\basic.py:1780: UserWarning: Overriding the parameters from Reference Dataset.\n",
      "  _log_warning('Overriding the parameters from Reference Dataset.')\n",
      "C:\\Python39\\lib\\site-packages\\lightgbm\\basic.py:1513: UserWarning: categorical_column in param dict is overridden.\n",
      "  _log_warning(f'{cat_alias} in param dict is overridden.')\n"
     ]
    },
    {
     "name": "stdout",
     "output_type": "stream",
     "text": [
      "Training until validation scores don't improve for 100 rounds\n",
      "[50]\tvalid_0's auc: 0.898819\n",
      "[100]\tvalid_0's auc: 0.900922\n",
      "[150]\tvalid_0's auc: 0.903147\n",
      "[200]\tvalid_0's auc: 0.904448\n",
      "[250]\tvalid_0's auc: 0.904945\n",
      "[300]\tvalid_0's auc: 0.905102\n",
      "[350]\tvalid_0's auc: 0.905161\n",
      "[400]\tvalid_0's auc: 0.905013\n"
     ]
    },
    {
     "name": "stderr",
     "output_type": "stream",
     "text": [
      "feature_fraction, val_score: 0.906875:  86%|######################################5      | 6/7 [00:05<00:00,  1.06it/s]"
     ]
    },
    {
     "name": "stdout",
     "output_type": "stream",
     "text": [
      "Early stopping, best iteration is:\n",
      "[338]\tvalid_0's auc: 0.905191\n",
      "Training until validation scores don't improve for 100 rounds\n",
      "[50]\tvalid_0's auc: 0.895159\n"
     ]
    },
    {
     "name": "stderr",
     "output_type": "stream",
     "text": [
      "C:\\Python39\\lib\\site-packages\\lightgbm\\engine.py:181: UserWarning: 'early_stopping_rounds' argument is deprecated and will be removed in a future release of LightGBM. Pass 'early_stopping()' callback via 'callbacks' argument instead.\n",
      "  _log_warning(\"'early_stopping_rounds' argument is deprecated and will be removed in a future release of LightGBM. \"\n",
      "C:\\Python39\\lib\\site-packages\\lightgbm\\basic.py:2068: UserWarning: categorical_feature in Dataset is overridden.\n",
      "New categorical_feature is ['education', 'marital.status', 'native.country', 'occupation', 'race', 'relationship', 'sex', 'workclass']\n",
      "  _log_warning('categorical_feature in Dataset is overridden.\\n'\n",
      "C:\\Python39\\lib\\site-packages\\lightgbm\\engine.py:239: UserWarning: 'verbose_eval' argument is deprecated and will be removed in a future release of LightGBM. Pass 'log_evaluation()' callback via 'callbacks' argument instead.\n",
      "  _log_warning(\"'verbose_eval' argument is deprecated and will be removed in a future release of LightGBM. \"\n",
      "C:\\Python39\\lib\\site-packages\\lightgbm\\basic.py:1780: UserWarning: Overriding the parameters from Reference Dataset.\n",
      "  _log_warning('Overriding the parameters from Reference Dataset.')\n",
      "C:\\Python39\\lib\\site-packages\\lightgbm\\basic.py:1513: UserWarning: categorical_column in param dict is overridden.\n",
      "  _log_warning(f'{cat_alias} in param dict is overridden.')\n"
     ]
    },
    {
     "name": "stdout",
     "output_type": "stream",
     "text": [
      "[100]\tvalid_0's auc: 0.899195\n",
      "[150]\tvalid_0's auc: 0.902019\n",
      "[200]\tvalid_0's auc: 0.903495\n"
     ]
    },
    {
     "name": "stderr",
     "output_type": "stream",
     "text": [
      "feature_fraction, val_score: 0.906875: 100%|#############################################| 7/7 [00:06<00:00,  1.18it/s]"
     ]
    },
    {
     "name": "stdout",
     "output_type": "stream",
     "text": [
      "[250]\tvalid_0's auc: 0.904103\n",
      "[300]\tvalid_0's auc: 0.904035\n",
      "[350]\tvalid_0's auc: 0.904001\n",
      "Early stopping, best iteration is:\n",
      "[257]\tvalid_0's auc: 0.904144\n"
     ]
    },
    {
     "name": "stderr",
     "output_type": "stream",
     "text": [
      "feature_fraction, val_score: 0.906875: 100%|#############################################| 7/7 [00:06<00:00,  1.07it/s]\n",
      "num_leaves, val_score: 0.906875:   0%|                                                          | 0/20 [00:00<?, ?it/s]C:\\Python39\\lib\\site-packages\\lightgbm\\engine.py:181: UserWarning: 'early_stopping_rounds' argument is deprecated and will be removed in a future release of LightGBM. Pass 'early_stopping()' callback via 'callbacks' argument instead.\n",
      "  _log_warning(\"'early_stopping_rounds' argument is deprecated and will be removed in a future release of LightGBM. \"\n",
      "C:\\Python39\\lib\\site-packages\\lightgbm\\basic.py:2068: UserWarning: categorical_feature in Dataset is overridden.\n",
      "New categorical_feature is ['education', 'marital.status', 'native.country', 'occupation', 'race', 'relationship', 'sex', 'workclass']\n",
      "  _log_warning('categorical_feature in Dataset is overridden.\\n'\n",
      "C:\\Python39\\lib\\site-packages\\lightgbm\\engine.py:239: UserWarning: 'verbose_eval' argument is deprecated and will be removed in a future release of LightGBM. Pass 'log_evaluation()' callback via 'callbacks' argument instead.\n",
      "  _log_warning(\"'verbose_eval' argument is deprecated and will be removed in a future release of LightGBM. \"\n",
      "C:\\Python39\\lib\\site-packages\\lightgbm\\basic.py:1780: UserWarning: Overriding the parameters from Reference Dataset.\n",
      "  _log_warning('Overriding the parameters from Reference Dataset.')\n",
      "C:\\Python39\\lib\\site-packages\\lightgbm\\basic.py:1513: UserWarning: categorical_column in param dict is overridden.\n",
      "  _log_warning(f'{cat_alias} in param dict is overridden.')\n"
     ]
    },
    {
     "name": "stdout",
     "output_type": "stream",
     "text": [
      "Training until validation scores don't improve for 100 rounds\n",
      "[50]\tvalid_0's auc: 0.903502\n",
      "[100]\tvalid_0's auc: 0.904274\n",
      "[150]\tvalid_0's auc: 0.904716\n",
      "[200]\tvalid_0's auc: 0.904798\n",
      "[250]\tvalid_0's auc: 0.904761\n"
     ]
    },
    {
     "name": "stderr",
     "output_type": "stream",
     "text": [
      "num_leaves, val_score: 0.906875:   5%|##5                                               | 1/20 [00:00<00:16,  1.12it/s]"
     ]
    },
    {
     "name": "stdout",
     "output_type": "stream",
     "text": [
      "Early stopping, best iteration is:\n",
      "[166]\tvalid_0's auc: 0.904974\n",
      "Training until validation scores don't improve for 100 rounds\n",
      "[50]\tvalid_0's auc: 0.897698\n"
     ]
    },
    {
     "name": "stderr",
     "output_type": "stream",
     "text": [
      "C:\\Python39\\lib\\site-packages\\lightgbm\\engine.py:181: UserWarning: 'early_stopping_rounds' argument is deprecated and will be removed in a future release of LightGBM. Pass 'early_stopping()' callback via 'callbacks' argument instead.\n",
      "  _log_warning(\"'early_stopping_rounds' argument is deprecated and will be removed in a future release of LightGBM. \"\n",
      "C:\\Python39\\lib\\site-packages\\lightgbm\\basic.py:2068: UserWarning: categorical_feature in Dataset is overridden.\n",
      "New categorical_feature is ['education', 'marital.status', 'native.country', 'occupation', 'race', 'relationship', 'sex', 'workclass']\n",
      "  _log_warning('categorical_feature in Dataset is overridden.\\n'\n",
      "C:\\Python39\\lib\\site-packages\\lightgbm\\engine.py:239: UserWarning: 'verbose_eval' argument is deprecated and will be removed in a future release of LightGBM. Pass 'log_evaluation()' callback via 'callbacks' argument instead.\n",
      "  _log_warning(\"'verbose_eval' argument is deprecated and will be removed in a future release of LightGBM. \"\n",
      "C:\\Python39\\lib\\site-packages\\lightgbm\\basic.py:1780: UserWarning: Overriding the parameters from Reference Dataset.\n",
      "  _log_warning('Overriding the parameters from Reference Dataset.')\n",
      "C:\\Python39\\lib\\site-packages\\lightgbm\\basic.py:1513: UserWarning: categorical_column in param dict is overridden.\n",
      "  _log_warning(f'{cat_alias} in param dict is overridden.')\n"
     ]
    },
    {
     "name": "stdout",
     "output_type": "stream",
     "text": [
      "[100]\tvalid_0's auc: 0.897968\n",
      "[150]\tvalid_0's auc: 0.898991\n",
      "[200]\tvalid_0's auc: 0.900586\n",
      "[250]\tvalid_0's auc: 0.901881\n",
      "[300]\tvalid_0's auc: 0.902939\n",
      "[350]\tvalid_0's auc: 0.903695\n",
      "[400]\tvalid_0's auc: 0.904178\n",
      "[450]\tvalid_0's auc: 0.904649\n",
      "[500]\tvalid_0's auc: 0.905011\n",
      "[550]\tvalid_0's auc: 0.905323\n",
      "[600]\tvalid_0's auc: 0.905478\n",
      "[650]\tvalid_0's auc: 0.905576\n",
      "[700]\tvalid_0's auc: 0.905604\n",
      "[750]\tvalid_0's auc: 0.905666\n",
      "[800]\tvalid_0's auc: 0.905761\n",
      "[850]\tvalid_0's auc: 0.905809\n",
      "[900]\tvalid_0's auc: 0.905852\n",
      "[950]\tvalid_0's auc: 0.905896\n",
      "[1000]\tvalid_0's auc: 0.905872\n",
      "[1050]\tvalid_0's auc: 0.905926\n",
      "[1100]\tvalid_0's auc: 0.906003\n",
      "[1150]\tvalid_0's auc: 0.906013\n",
      "[1200]\tvalid_0's auc: 0.905975\n",
      "Early stopping, best iteration is:\n",
      "[1149]\tvalid_0's auc: 0.906019\n"
     ]
    },
    {
     "name": "stderr",
     "output_type": "stream",
     "text": [
      "num_leaves, val_score: 0.906875:  10%|#####                                             | 2/20 [00:02<00:23,  1.31s/it]C:\\Python39\\lib\\site-packages\\lightgbm\\engine.py:181: UserWarning: 'early_stopping_rounds' argument is deprecated and will be removed in a future release of LightGBM. Pass 'early_stopping()' callback via 'callbacks' argument instead.\n",
      "  _log_warning(\"'early_stopping_rounds' argument is deprecated and will be removed in a future release of LightGBM. \"\n",
      "C:\\Python39\\lib\\site-packages\\lightgbm\\basic.py:2068: UserWarning: categorical_feature in Dataset is overridden.\n",
      "New categorical_feature is ['education', 'marital.status', 'native.country', 'occupation', 'race', 'relationship', 'sex', 'workclass']\n",
      "  _log_warning('categorical_feature in Dataset is overridden.\\n'\n",
      "C:\\Python39\\lib\\site-packages\\lightgbm\\engine.py:239: UserWarning: 'verbose_eval' argument is deprecated and will be removed in a future release of LightGBM. Pass 'log_evaluation()' callback via 'callbacks' argument instead.\n",
      "  _log_warning(\"'verbose_eval' argument is deprecated and will be removed in a future release of LightGBM. \"\n",
      "C:\\Python39\\lib\\site-packages\\lightgbm\\basic.py:1780: UserWarning: Overriding the parameters from Reference Dataset.\n",
      "  _log_warning('Overriding the parameters from Reference Dataset.')\n",
      "C:\\Python39\\lib\\site-packages\\lightgbm\\basic.py:1513: UserWarning: categorical_column in param dict is overridden.\n",
      "  _log_warning(f'{cat_alias} in param dict is overridden.')\n"
     ]
    },
    {
     "name": "stdout",
     "output_type": "stream",
     "text": [
      "Training until validation scores don't improve for 100 rounds\n",
      "[50]\tvalid_0's auc: 0.903505\n",
      "[100]\tvalid_0's auc: 0.904199\n",
      "[150]\tvalid_0's auc: 0.904468\n",
      "[200]\tvalid_0's auc: 0.904589\n",
      "[250]\tvalid_0's auc: 0.904441\n"
     ]
    },
    {
     "name": "stderr",
     "output_type": "stream",
     "text": [
      "num_leaves, val_score: 0.906875:  15%|#######5                                          | 3/20 [00:03<00:20,  1.21s/it]"
     ]
    },
    {
     "name": "stdout",
     "output_type": "stream",
     "text": [
      "Early stopping, best iteration is:\n",
      "[181]\tvalid_0's auc: 0.904749\n",
      "Training until validation scores don't improve for 100 rounds\n"
     ]
    },
    {
     "name": "stderr",
     "output_type": "stream",
     "text": [
      "C:\\Python39\\lib\\site-packages\\lightgbm\\engine.py:181: UserWarning: 'early_stopping_rounds' argument is deprecated and will be removed in a future release of LightGBM. Pass 'early_stopping()' callback via 'callbacks' argument instead.\n",
      "  _log_warning(\"'early_stopping_rounds' argument is deprecated and will be removed in a future release of LightGBM. \"\n",
      "C:\\Python39\\lib\\site-packages\\lightgbm\\basic.py:2068: UserWarning: categorical_feature in Dataset is overridden.\n",
      "New categorical_feature is ['education', 'marital.status', 'native.country', 'occupation', 'race', 'relationship', 'sex', 'workclass']\n",
      "  _log_warning('categorical_feature in Dataset is overridden.\\n'\n",
      "C:\\Python39\\lib\\site-packages\\lightgbm\\engine.py:239: UserWarning: 'verbose_eval' argument is deprecated and will be removed in a future release of LightGBM. Pass 'log_evaluation()' callback via 'callbacks' argument instead.\n",
      "  _log_warning(\"'verbose_eval' argument is deprecated and will be removed in a future release of LightGBM. \"\n",
      "C:\\Python39\\lib\\site-packages\\lightgbm\\basic.py:1780: UserWarning: Overriding the parameters from Reference Dataset.\n",
      "  _log_warning('Overriding the parameters from Reference Dataset.')\n",
      "C:\\Python39\\lib\\site-packages\\lightgbm\\basic.py:1513: UserWarning: categorical_column in param dict is overridden.\n",
      "  _log_warning(f'{cat_alias} in param dict is overridden.')\n"
     ]
    },
    {
     "name": "stdout",
     "output_type": "stream",
     "text": [
      "[50]\tvalid_0's auc: 0.903502\n",
      "[100]\tvalid_0's auc: 0.904274\n",
      "[150]\tvalid_0's auc: 0.904716\n",
      "[200]\tvalid_0's auc: 0.904798\n"
     ]
    },
    {
     "name": "stderr",
     "output_type": "stream",
     "text": [
      "num_leaves, val_score: 0.906875:  20%|##########                                        | 4/20 [00:04<00:17,  1.11s/it]"
     ]
    },
    {
     "name": "stdout",
     "output_type": "stream",
     "text": [
      "[250]\tvalid_0's auc: 0.904761\n",
      "Early stopping, best iteration is:\n",
      "[166]\tvalid_0's auc: 0.904974\n",
      "Training until validation scores don't improve for 100 rounds\n"
     ]
    },
    {
     "name": "stderr",
     "output_type": "stream",
     "text": [
      "C:\\Python39\\lib\\site-packages\\lightgbm\\engine.py:181: UserWarning: 'early_stopping_rounds' argument is deprecated and will be removed in a future release of LightGBM. Pass 'early_stopping()' callback via 'callbacks' argument instead.\n",
      "  _log_warning(\"'early_stopping_rounds' argument is deprecated and will be removed in a future release of LightGBM. \"\n",
      "C:\\Python39\\lib\\site-packages\\lightgbm\\basic.py:2068: UserWarning: categorical_feature in Dataset is overridden.\n",
      "New categorical_feature is ['education', 'marital.status', 'native.country', 'occupation', 'race', 'relationship', 'sex', 'workclass']\n",
      "  _log_warning('categorical_feature in Dataset is overridden.\\n'\n",
      "C:\\Python39\\lib\\site-packages\\lightgbm\\engine.py:239: UserWarning: 'verbose_eval' argument is deprecated and will be removed in a future release of LightGBM. Pass 'log_evaluation()' callback via 'callbacks' argument instead.\n",
      "  _log_warning(\"'verbose_eval' argument is deprecated and will be removed in a future release of LightGBM. \"\n",
      "C:\\Python39\\lib\\site-packages\\lightgbm\\basic.py:1780: UserWarning: Overriding the parameters from Reference Dataset.\n",
      "  _log_warning('Overriding the parameters from Reference Dataset.')\n",
      "C:\\Python39\\lib\\site-packages\\lightgbm\\basic.py:1513: UserWarning: categorical_column in param dict is overridden.\n",
      "  _log_warning(f'{cat_alias} in param dict is overridden.')\n"
     ]
    },
    {
     "name": "stdout",
     "output_type": "stream",
     "text": [
      "[50]\tvalid_0's auc: 0.903498\n",
      "[100]\tvalid_0's auc: 0.904279\n",
      "[150]\tvalid_0's auc: 0.90478\n",
      "[200]\tvalid_0's auc: 0.904849\n"
     ]
    },
    {
     "name": "stderr",
     "output_type": "stream",
     "text": [
      "num_leaves, val_score: 0.906875:  25%|############5                                     | 5/20 [00:05<00:16,  1.09s/it]"
     ]
    },
    {
     "name": "stdout",
     "output_type": "stream",
     "text": [
      "[250]\tvalid_0's auc: 0.904936\n",
      "Early stopping, best iteration is:\n",
      "[166]\tvalid_0's auc: 0.905087\n"
     ]
    },
    {
     "name": "stderr",
     "output_type": "stream",
     "text": [
      "C:\\Python39\\lib\\site-packages\\lightgbm\\engine.py:181: UserWarning: 'early_stopping_rounds' argument is deprecated and will be removed in a future release of LightGBM. Pass 'early_stopping()' callback via 'callbacks' argument instead.\n",
      "  _log_warning(\"'early_stopping_rounds' argument is deprecated and will be removed in a future release of LightGBM. \"\n",
      "C:\\Python39\\lib\\site-packages\\lightgbm\\basic.py:2068: UserWarning: categorical_feature in Dataset is overridden.\n",
      "New categorical_feature is ['education', 'marital.status', 'native.country', 'occupation', 'race', 'relationship', 'sex', 'workclass']\n",
      "  _log_warning('categorical_feature in Dataset is overridden.\\n'\n",
      "C:\\Python39\\lib\\site-packages\\lightgbm\\engine.py:239: UserWarning: 'verbose_eval' argument is deprecated and will be removed in a future release of LightGBM. Pass 'log_evaluation()' callback via 'callbacks' argument instead.\n",
      "  _log_warning(\"'verbose_eval' argument is deprecated and will be removed in a future release of LightGBM. \"\n",
      "C:\\Python39\\lib\\site-packages\\lightgbm\\basic.py:1780: UserWarning: Overriding the parameters from Reference Dataset.\n",
      "  _log_warning('Overriding the parameters from Reference Dataset.')\n",
      "C:\\Python39\\lib\\site-packages\\lightgbm\\basic.py:1513: UserWarning: categorical_column in param dict is overridden.\n",
      "  _log_warning(f'{cat_alias} in param dict is overridden.')\n"
     ]
    },
    {
     "name": "stdout",
     "output_type": "stream",
     "text": [
      "Training until validation scores don't improve for 100 rounds\n",
      "[50]\tvalid_0's auc: 0.903721\n",
      "[100]\tvalid_0's auc: 0.904535\n",
      "[150]\tvalid_0's auc: 0.905106\n",
      "[200]\tvalid_0's auc: 0.905311\n",
      "[250]\tvalid_0's auc: 0.905436\n",
      "[300]\tvalid_0's auc: 0.905216\n",
      "[350]\tvalid_0's auc: 0.905139\n",
      "Early stopping, best iteration is:\n",
      "[259]\tvalid_0's auc: 0.905538\n"
     ]
    },
    {
     "name": "stderr",
     "output_type": "stream",
     "text": [
      "num_leaves, val_score: 0.906875:  30%|###############                                   | 6/20 [00:06<00:15,  1.14s/it]C:\\Python39\\lib\\site-packages\\lightgbm\\engine.py:181: UserWarning: 'early_stopping_rounds' argument is deprecated and will be removed in a future release of LightGBM. Pass 'early_stopping()' callback via 'callbacks' argument instead.\n",
      "  _log_warning(\"'early_stopping_rounds' argument is deprecated and will be removed in a future release of LightGBM. \"\n",
      "C:\\Python39\\lib\\site-packages\\lightgbm\\basic.py:2068: UserWarning: categorical_feature in Dataset is overridden.\n",
      "New categorical_feature is ['education', 'marital.status', 'native.country', 'occupation', 'race', 'relationship', 'sex', 'workclass']\n",
      "  _log_warning('categorical_feature in Dataset is overridden.\\n'\n",
      "C:\\Python39\\lib\\site-packages\\lightgbm\\engine.py:239: UserWarning: 'verbose_eval' argument is deprecated and will be removed in a future release of LightGBM. Pass 'log_evaluation()' callback via 'callbacks' argument instead.\n",
      "  _log_warning(\"'verbose_eval' argument is deprecated and will be removed in a future release of LightGBM. \"\n",
      "C:\\Python39\\lib\\site-packages\\lightgbm\\basic.py:1780: UserWarning: Overriding the parameters from Reference Dataset.\n",
      "  _log_warning('Overriding the parameters from Reference Dataset.')\n",
      "C:\\Python39\\lib\\site-packages\\lightgbm\\basic.py:1513: UserWarning: categorical_column in param dict is overridden.\n",
      "  _log_warning(f'{cat_alias} in param dict is overridden.')\n"
     ]
    },
    {
     "name": "stdout",
     "output_type": "stream",
     "text": [
      "Training until validation scores don't improve for 100 rounds\n",
      "[50]\tvalid_0's auc: 0.903383\n",
      "[100]\tvalid_0's auc: 0.904842\n",
      "[150]\tvalid_0's auc: 0.905486\n",
      "[200]\tvalid_0's auc: 0.905891\n",
      "[250]\tvalid_0's auc: 0.906247\n"
     ]
    },
    {
     "name": "stderr",
     "output_type": "stream",
     "text": [
      "num_leaves, val_score: 0.906875:  35%|#################5                                | 7/20 [00:07<00:13,  1.05s/it]"
     ]
    },
    {
     "name": "stdout",
     "output_type": "stream",
     "text": [
      "[300]\tvalid_0's auc: 0.90622\n",
      "[350]\tvalid_0's auc: 0.906141\n",
      "Early stopping, best iteration is:\n",
      "[260]\tvalid_0's auc: 0.906314\n"
     ]
    },
    {
     "name": "stderr",
     "output_type": "stream",
     "text": [
      "C:\\Python39\\lib\\site-packages\\lightgbm\\engine.py:181: UserWarning: 'early_stopping_rounds' argument is deprecated and will be removed in a future release of LightGBM. Pass 'early_stopping()' callback via 'callbacks' argument instead.\n",
      "  _log_warning(\"'early_stopping_rounds' argument is deprecated and will be removed in a future release of LightGBM. \"\n",
      "C:\\Python39\\lib\\site-packages\\lightgbm\\basic.py:2068: UserWarning: categorical_feature in Dataset is overridden.\n",
      "New categorical_feature is ['education', 'marital.status', 'native.country', 'occupation', 'race', 'relationship', 'sex', 'workclass']\n",
      "  _log_warning('categorical_feature in Dataset is overridden.\\n'\n",
      "C:\\Python39\\lib\\site-packages\\lightgbm\\engine.py:239: UserWarning: 'verbose_eval' argument is deprecated and will be removed in a future release of LightGBM. Pass 'log_evaluation()' callback via 'callbacks' argument instead.\n",
      "  _log_warning(\"'verbose_eval' argument is deprecated and will be removed in a future release of LightGBM. \"\n",
      "C:\\Python39\\lib\\site-packages\\lightgbm\\basic.py:1780: UserWarning: Overriding the parameters from Reference Dataset.\n",
      "  _log_warning('Overriding the parameters from Reference Dataset.')\n",
      "C:\\Python39\\lib\\site-packages\\lightgbm\\basic.py:1513: UserWarning: categorical_column in param dict is overridden.\n",
      "  _log_warning(f'{cat_alias} in param dict is overridden.')\n"
     ]
    },
    {
     "name": "stdout",
     "output_type": "stream",
     "text": [
      "Training until validation scores don't improve for 100 rounds\n",
      "[50]\tvalid_0's auc: 0.903461\n",
      "[100]\tvalid_0's auc: 0.90406\n",
      "[150]\tvalid_0's auc: 0.904342\n",
      "[200]\tvalid_0's auc: 0.904478\n",
      "[250]\tvalid_0's auc: 0.904266\n"
     ]
    },
    {
     "name": "stderr",
     "output_type": "stream",
     "text": [
      "num_leaves, val_score: 0.906875:  40%|####################                              | 8/20 [00:08<00:12,  1.06s/it]"
     ]
    },
    {
     "name": "stdout",
     "output_type": "stream",
     "text": [
      "Early stopping, best iteration is:\n",
      "[185]\tvalid_0's auc: 0.904683\n",
      "Training until validation scores don't improve for 100 rounds\n"
     ]
    },
    {
     "name": "stderr",
     "output_type": "stream",
     "text": [
      "C:\\Python39\\lib\\site-packages\\lightgbm\\engine.py:181: UserWarning: 'early_stopping_rounds' argument is deprecated and will be removed in a future release of LightGBM. Pass 'early_stopping()' callback via 'callbacks' argument instead.\n",
      "  _log_warning(\"'early_stopping_rounds' argument is deprecated and will be removed in a future release of LightGBM. \"\n",
      "C:\\Python39\\lib\\site-packages\\lightgbm\\basic.py:2068: UserWarning: categorical_feature in Dataset is overridden.\n",
      "New categorical_feature is ['education', 'marital.status', 'native.country', 'occupation', 'race', 'relationship', 'sex', 'workclass']\n",
      "  _log_warning('categorical_feature in Dataset is overridden.\\n'\n",
      "C:\\Python39\\lib\\site-packages\\lightgbm\\engine.py:239: UserWarning: 'verbose_eval' argument is deprecated and will be removed in a future release of LightGBM. Pass 'log_evaluation()' callback via 'callbacks' argument instead.\n",
      "  _log_warning(\"'verbose_eval' argument is deprecated and will be removed in a future release of LightGBM. \"\n",
      "C:\\Python39\\lib\\site-packages\\lightgbm\\basic.py:1780: UserWarning: Overriding the parameters from Reference Dataset.\n",
      "  _log_warning('Overriding the parameters from Reference Dataset.')\n",
      "C:\\Python39\\lib\\site-packages\\lightgbm\\basic.py:1513: UserWarning: categorical_column in param dict is overridden.\n",
      "  _log_warning(f'{cat_alias} in param dict is overridden.')\n"
     ]
    },
    {
     "name": "stdout",
     "output_type": "stream",
     "text": [
      "[50]\tvalid_0's auc: 0.90363\n",
      "[100]\tvalid_0's auc: 0.904642\n",
      "[150]\tvalid_0's auc: 0.905212\n",
      "[200]\tvalid_0's auc: 0.905406\n",
      "[250]\tvalid_0's auc: 0.905501\n",
      "[300]\tvalid_0's auc: 0.905251\n"
     ]
    },
    {
     "name": "stderr",
     "output_type": "stream",
     "text": [
      "num_leaves, val_score: 0.906875:  45%|######################5                           | 9/20 [00:09<00:11,  1.04s/it]"
     ]
    },
    {
     "name": "stdout",
     "output_type": "stream",
     "text": [
      "[350]\tvalid_0's auc: 0.905226\n",
      "Early stopping, best iteration is:\n",
      "[260]\tvalid_0's auc: 0.905611\n",
      "Training until validation scores don't improve for 100 rounds\n"
     ]
    },
    {
     "name": "stderr",
     "output_type": "stream",
     "text": [
      "C:\\Python39\\lib\\site-packages\\lightgbm\\engine.py:181: UserWarning: 'early_stopping_rounds' argument is deprecated and will be removed in a future release of LightGBM. Pass 'early_stopping()' callback via 'callbacks' argument instead.\n",
      "  _log_warning(\"'early_stopping_rounds' argument is deprecated and will be removed in a future release of LightGBM. \"\n",
      "C:\\Python39\\lib\\site-packages\\lightgbm\\basic.py:2068: UserWarning: categorical_feature in Dataset is overridden.\n",
      "New categorical_feature is ['education', 'marital.status', 'native.country', 'occupation', 'race', 'relationship', 'sex', 'workclass']\n",
      "  _log_warning('categorical_feature in Dataset is overridden.\\n'\n",
      "C:\\Python39\\lib\\site-packages\\lightgbm\\engine.py:239: UserWarning: 'verbose_eval' argument is deprecated and will be removed in a future release of LightGBM. Pass 'log_evaluation()' callback via 'callbacks' argument instead.\n",
      "  _log_warning(\"'verbose_eval' argument is deprecated and will be removed in a future release of LightGBM. \"\n",
      "C:\\Python39\\lib\\site-packages\\lightgbm\\basic.py:1780: UserWarning: Overriding the parameters from Reference Dataset.\n",
      "  _log_warning('Overriding the parameters from Reference Dataset.')\n",
      "C:\\Python39\\lib\\site-packages\\lightgbm\\basic.py:1513: UserWarning: categorical_column in param dict is overridden.\n",
      "  _log_warning(f'{cat_alias} in param dict is overridden.')\n"
     ]
    },
    {
     "name": "stdout",
     "output_type": "stream",
     "text": [
      "[50]\tvalid_0's auc: 0.903619\n",
      "[100]\tvalid_0's auc: 0.904654\n",
      "[150]\tvalid_0's auc: 0.90519\n",
      "[200]\tvalid_0's auc: 0.905523\n",
      "[250]\tvalid_0's auc: 0.905713\n",
      "[300]\tvalid_0's auc: 0.90566\n"
     ]
    },
    {
     "name": "stderr",
     "output_type": "stream",
     "text": [
      "num_leaves, val_score: 0.906875:  50%|########################5                        | 10/20 [00:10<00:10,  1.02s/it]"
     ]
    },
    {
     "name": "stdout",
     "output_type": "stream",
     "text": [
      "[350]\tvalid_0's auc: 0.905416\n",
      "Early stopping, best iteration is:\n",
      "[264]\tvalid_0's auc: 0.905836\n",
      "Training until validation scores don't improve for 100 rounds\n"
     ]
    },
    {
     "name": "stderr",
     "output_type": "stream",
     "text": [
      "C:\\Python39\\lib\\site-packages\\lightgbm\\engine.py:181: UserWarning: 'early_stopping_rounds' argument is deprecated and will be removed in a future release of LightGBM. Pass 'early_stopping()' callback via 'callbacks' argument instead.\n",
      "  _log_warning(\"'early_stopping_rounds' argument is deprecated and will be removed in a future release of LightGBM. \"\n",
      "C:\\Python39\\lib\\site-packages\\lightgbm\\basic.py:2068: UserWarning: categorical_feature in Dataset is overridden.\n",
      "New categorical_feature is ['education', 'marital.status', 'native.country', 'occupation', 'race', 'relationship', 'sex', 'workclass']\n",
      "  _log_warning('categorical_feature in Dataset is overridden.\\n'\n",
      "C:\\Python39\\lib\\site-packages\\lightgbm\\engine.py:239: UserWarning: 'verbose_eval' argument is deprecated and will be removed in a future release of LightGBM. Pass 'log_evaluation()' callback via 'callbacks' argument instead.\n",
      "  _log_warning(\"'verbose_eval' argument is deprecated and will be removed in a future release of LightGBM. \"\n",
      "C:\\Python39\\lib\\site-packages\\lightgbm\\basic.py:1780: UserWarning: Overriding the parameters from Reference Dataset.\n",
      "  _log_warning('Overriding the parameters from Reference Dataset.')\n",
      "C:\\Python39\\lib\\site-packages\\lightgbm\\basic.py:1513: UserWarning: categorical_column in param dict is overridden.\n",
      "  _log_warning(f'{cat_alias} in param dict is overridden.')\n"
     ]
    },
    {
     "name": "stdout",
     "output_type": "stream",
     "text": [
      "[50]\tvalid_0's auc: 0.903002\n",
      "[100]\tvalid_0's auc: 0.903535\n",
      "[150]\tvalid_0's auc: 0.903724\n",
      "[200]\tvalid_0's auc: 0.903525\n",
      "[250]\tvalid_0's auc: 0.90322\n",
      "Early stopping, best iteration is:\n",
      "[179]\tvalid_0's auc: 0.903977\n"
     ]
    },
    {
     "name": "stderr",
     "output_type": "stream",
     "text": [
      "num_leaves, val_score: 0.906875:  55%|##########################9                      | 11/20 [00:12<00:11,  1.27s/it]C:\\Python39\\lib\\site-packages\\lightgbm\\engine.py:181: UserWarning: 'early_stopping_rounds' argument is deprecated and will be removed in a future release of LightGBM. Pass 'early_stopping()' callback via 'callbacks' argument instead.\n",
      "  _log_warning(\"'early_stopping_rounds' argument is deprecated and will be removed in a future release of LightGBM. \"\n",
      "C:\\Python39\\lib\\site-packages\\lightgbm\\basic.py:2068: UserWarning: categorical_feature in Dataset is overridden.\n",
      "New categorical_feature is ['education', 'marital.status', 'native.country', 'occupation', 'race', 'relationship', 'sex', 'workclass']\n",
      "  _log_warning('categorical_feature in Dataset is overridden.\\n'\n",
      "C:\\Python39\\lib\\site-packages\\lightgbm\\engine.py:239: UserWarning: 'verbose_eval' argument is deprecated and will be removed in a future release of LightGBM. Pass 'log_evaluation()' callback via 'callbacks' argument instead.\n",
      "  _log_warning(\"'verbose_eval' argument is deprecated and will be removed in a future release of LightGBM. \"\n",
      "C:\\Python39\\lib\\site-packages\\lightgbm\\basic.py:1780: UserWarning: Overriding the parameters from Reference Dataset.\n",
      "  _log_warning('Overriding the parameters from Reference Dataset.')\n",
      "C:\\Python39\\lib\\site-packages\\lightgbm\\basic.py:1513: UserWarning: categorical_column in param dict is overridden.\n",
      "  _log_warning(f'{cat_alias} in param dict is overridden.')\n"
     ]
    },
    {
     "name": "stdout",
     "output_type": "stream",
     "text": [
      "Training until validation scores don't improve for 100 rounds\n",
      "[50]\tvalid_0's auc: 0.890146\n",
      "[100]\tvalid_0's auc: 0.889987\n",
      "[150]\tvalid_0's auc: 0.892721\n",
      "[200]\tvalid_0's auc: 0.895035\n",
      "[250]\tvalid_0's auc: 0.896834\n",
      "[300]\tvalid_0's auc: 0.897673\n",
      "[350]\tvalid_0's auc: 0.898754\n",
      "[400]\tvalid_0's auc: 0.899592\n",
      "[450]\tvalid_0's auc: 0.900267\n",
      "[500]\tvalid_0's auc: 0.901013\n",
      "[550]\tvalid_0's auc: 0.901813\n",
      "[600]\tvalid_0's auc: 0.902332\n",
      "[650]\tvalid_0's auc: 0.902729\n",
      "[700]\tvalid_0's auc: 0.902977\n",
      "[750]\tvalid_0's auc: 0.903316\n",
      "[800]\tvalid_0's auc: 0.903587\n",
      "[850]\tvalid_0's auc: 0.903787\n",
      "[900]\tvalid_0's auc: 0.903893\n",
      "[950]\tvalid_0's auc: 0.904014\n",
      "[1000]\tvalid_0's auc: 0.904205\n",
      "[1050]\tvalid_0's auc: 0.904322\n",
      "[1100]\tvalid_0's auc: 0.904445\n",
      "[1150]\tvalid_0's auc: 0.904492\n",
      "[1200]\tvalid_0's auc: 0.904582\n",
      "[1250]\tvalid_0's auc: 0.904702\n",
      "[1300]\tvalid_0's auc: 0.904805\n",
      "[1350]\tvalid_0's auc: 0.904915\n",
      "[1400]\tvalid_0's auc: 0.904956\n",
      "[1450]\tvalid_0's auc: 0.904954\n",
      "[1500]\tvalid_0's auc: 0.905069\n",
      "[1550]\tvalid_0's auc: 0.905123\n",
      "[1600]\tvalid_0's auc: 0.905126\n",
      "[1650]\tvalid_0's auc: 0.905176\n",
      "[1700]\tvalid_0's auc: 0.905221\n",
      "[1750]\tvalid_0's auc: 0.905286\n",
      "[1800]\tvalid_0's auc: 0.905317\n",
      "[1850]\tvalid_0's auc: 0.90536\n",
      "[1900]\tvalid_0's auc: 0.905399\n",
      "[1950]\tvalid_0's auc: 0.905473\n",
      "[2000]\tvalid_0's auc: 0.905493\n",
      "[2050]\tvalid_0's auc: 0.905484\n",
      "[2100]\tvalid_0's auc: 0.905494\n"
     ]
    },
    {
     "name": "stderr",
     "output_type": "stream",
     "text": [
      "num_leaves, val_score: 0.906875:  60%|#############################4                   | 12/20 [00:15<00:13,  1.63s/it]"
     ]
    },
    {
     "name": "stdout",
     "output_type": "stream",
     "text": [
      "Early stopping, best iteration is:\n",
      "[2003]\tvalid_0's auc: 0.905519\n",
      "Training until validation scores don't improve for 100 rounds\n"
     ]
    },
    {
     "name": "stderr",
     "output_type": "stream",
     "text": [
      "C:\\Python39\\lib\\site-packages\\lightgbm\\engine.py:181: UserWarning: 'early_stopping_rounds' argument is deprecated and will be removed in a future release of LightGBM. Pass 'early_stopping()' callback via 'callbacks' argument instead.\n",
      "  _log_warning(\"'early_stopping_rounds' argument is deprecated and will be removed in a future release of LightGBM. \"\n",
      "C:\\Python39\\lib\\site-packages\\lightgbm\\basic.py:2068: UserWarning: categorical_feature in Dataset is overridden.\n",
      "New categorical_feature is ['education', 'marital.status', 'native.country', 'occupation', 'race', 'relationship', 'sex', 'workclass']\n",
      "  _log_warning('categorical_feature in Dataset is overridden.\\n'\n",
      "C:\\Python39\\lib\\site-packages\\lightgbm\\engine.py:239: UserWarning: 'verbose_eval' argument is deprecated and will be removed in a future release of LightGBM. Pass 'log_evaluation()' callback via 'callbacks' argument instead.\n",
      "  _log_warning(\"'verbose_eval' argument is deprecated and will be removed in a future release of LightGBM. \"\n",
      "C:\\Python39\\lib\\site-packages\\lightgbm\\basic.py:1780: UserWarning: Overriding the parameters from Reference Dataset.\n",
      "  _log_warning('Overriding the parameters from Reference Dataset.')\n",
      "C:\\Python39\\lib\\site-packages\\lightgbm\\basic.py:1513: UserWarning: categorical_column in param dict is overridden.\n",
      "  _log_warning(f'{cat_alias} in param dict is overridden.')\n"
     ]
    },
    {
     "name": "stdout",
     "output_type": "stream",
     "text": [
      "[50]\tvalid_0's auc: 0.890146\n",
      "[100]\tvalid_0's auc: 0.889987\n",
      "[150]\tvalid_0's auc: 0.892721\n",
      "[200]\tvalid_0's auc: 0.895035\n",
      "[250]\tvalid_0's auc: 0.896834\n",
      "[300]\tvalid_0's auc: 0.897673\n",
      "[350]\tvalid_0's auc: 0.898754\n",
      "[400]\tvalid_0's auc: 0.899592\n",
      "[450]\tvalid_0's auc: 0.900267\n",
      "[500]\tvalid_0's auc: 0.901013\n",
      "[550]\tvalid_0's auc: 0.901813\n",
      "[600]\tvalid_0's auc: 0.902332\n",
      "[650]\tvalid_0's auc: 0.902729\n",
      "[700]\tvalid_0's auc: 0.902977\n",
      "[750]\tvalid_0's auc: 0.903316\n",
      "[800]\tvalid_0's auc: 0.903587\n",
      "[850]\tvalid_0's auc: 0.903787\n",
      "[900]\tvalid_0's auc: 0.903893\n",
      "[950]\tvalid_0's auc: 0.904014\n",
      "[1000]\tvalid_0's auc: 0.904205\n",
      "[1050]\tvalid_0's auc: 0.904322\n",
      "[1100]\tvalid_0's auc: 0.904445\n",
      "[1150]\tvalid_0's auc: 0.904492\n",
      "[1200]\tvalid_0's auc: 0.904582\n",
      "[1250]\tvalid_0's auc: 0.904702\n",
      "[1300]\tvalid_0's auc: 0.904805\n",
      "[1350]\tvalid_0's auc: 0.904915\n",
      "[1400]\tvalid_0's auc: 0.904956\n",
      "[1450]\tvalid_0's auc: 0.904954\n",
      "[1500]\tvalid_0's auc: 0.905069\n",
      "[1550]\tvalid_0's auc: 0.905123\n",
      "[1600]\tvalid_0's auc: 0.905126\n",
      "[1650]\tvalid_0's auc: 0.905176\n",
      "[1700]\tvalid_0's auc: 0.905221\n",
      "[1750]\tvalid_0's auc: 0.905286\n",
      "[1800]\tvalid_0's auc: 0.905317\n",
      "[1850]\tvalid_0's auc: 0.90536\n",
      "[1900]\tvalid_0's auc: 0.905399\n",
      "[1950]\tvalid_0's auc: 0.905473\n"
     ]
    },
    {
     "name": "stderr",
     "output_type": "stream",
     "text": [
      "num_leaves, val_score: 0.906875:  60%|#############################4                   | 12/20 [00:17<00:13,  1.63s/it]"
     ]
    },
    {
     "name": "stdout",
     "output_type": "stream",
     "text": [
      "[2000]\tvalid_0's auc: 0.905493\n",
      "[2050]\tvalid_0's auc: 0.905484\n",
      "[2100]\tvalid_0's auc: 0.905494\n",
      "Early stopping, best iteration is:\n",
      "[2003]\tvalid_0's auc: 0.905519\n"
     ]
    },
    {
     "name": "stderr",
     "output_type": "stream",
     "text": [
      "num_leaves, val_score: 0.906875:  65%|###############################8                 | 13/20 [00:17<00:12,  1.80s/it]C:\\Python39\\lib\\site-packages\\lightgbm\\engine.py:181: UserWarning: 'early_stopping_rounds' argument is deprecated and will be removed in a future release of LightGBM. Pass 'early_stopping()' callback via 'callbacks' argument instead.\n",
      "  _log_warning(\"'early_stopping_rounds' argument is deprecated and will be removed in a future release of LightGBM. \"\n",
      "C:\\Python39\\lib\\site-packages\\lightgbm\\basic.py:2068: UserWarning: categorical_feature in Dataset is overridden.\n",
      "New categorical_feature is ['education', 'marital.status', 'native.country', 'occupation', 'race', 'relationship', 'sex', 'workclass']\n",
      "  _log_warning('categorical_feature in Dataset is overridden.\\n'\n",
      "C:\\Python39\\lib\\site-packages\\lightgbm\\engine.py:239: UserWarning: 'verbose_eval' argument is deprecated and will be removed in a future release of LightGBM. Pass 'log_evaluation()' callback via 'callbacks' argument instead.\n",
      "  _log_warning(\"'verbose_eval' argument is deprecated and will be removed in a future release of LightGBM. \"\n",
      "C:\\Python39\\lib\\site-packages\\lightgbm\\basic.py:1780: UserWarning: Overriding the parameters from Reference Dataset.\n",
      "  _log_warning('Overriding the parameters from Reference Dataset.')\n",
      "C:\\Python39\\lib\\site-packages\\lightgbm\\basic.py:1513: UserWarning: categorical_column in param dict is overridden.\n",
      "  _log_warning(f'{cat_alias} in param dict is overridden.')\n"
     ]
    },
    {
     "name": "stdout",
     "output_type": "stream",
     "text": [
      "Training until validation scores don't improve for 100 rounds\n",
      "[50]\tvalid_0's auc: 0.903177\n",
      "[100]\tvalid_0's auc: 0.904586\n",
      "[150]\tvalid_0's auc: 0.905414\n",
      "[200]\tvalid_0's auc: 0.905927\n",
      "[250]\tvalid_0's auc: 0.906311\n",
      "[300]\tvalid_0's auc: 0.90639\n",
      "[350]\tvalid_0's auc: 0.906496\n",
      "[400]\tvalid_0's auc: 0.90649\n",
      "[450]\tvalid_0's auc: 0.906454\n",
      "[500]\tvalid_0's auc: 0.906163\n",
      "Early stopping, best iteration is:\n",
      "[419]\tvalid_0's auc: 0.906586\n"
     ]
    },
    {
     "name": "stderr",
     "output_type": "stream",
     "text": [
      "num_leaves, val_score: 0.906875:  70%|##################################3              | 14/20 [00:18<00:09,  1.60s/it]C:\\Python39\\lib\\site-packages\\lightgbm\\engine.py:181: UserWarning: 'early_stopping_rounds' argument is deprecated and will be removed in a future release of LightGBM. Pass 'early_stopping()' callback via 'callbacks' argument instead.\n",
      "  _log_warning(\"'early_stopping_rounds' argument is deprecated and will be removed in a future release of LightGBM. \"\n",
      "C:\\Python39\\lib\\site-packages\\lightgbm\\basic.py:2068: UserWarning: categorical_feature in Dataset is overridden.\n",
      "New categorical_feature is ['education', 'marital.status', 'native.country', 'occupation', 'race', 'relationship', 'sex', 'workclass']\n",
      "  _log_warning('categorical_feature in Dataset is overridden.\\n'\n",
      "C:\\Python39\\lib\\site-packages\\lightgbm\\engine.py:239: UserWarning: 'verbose_eval' argument is deprecated and will be removed in a future release of LightGBM. Pass 'log_evaluation()' callback via 'callbacks' argument instead.\n",
      "  _log_warning(\"'verbose_eval' argument is deprecated and will be removed in a future release of LightGBM. \"\n",
      "C:\\Python39\\lib\\site-packages\\lightgbm\\basic.py:1780: UserWarning: Overriding the parameters from Reference Dataset.\n",
      "  _log_warning('Overriding the parameters from Reference Dataset.')\n",
      "C:\\Python39\\lib\\site-packages\\lightgbm\\basic.py:1513: UserWarning: categorical_column in param dict is overridden.\n",
      "  _log_warning(f'{cat_alias} in param dict is overridden.')\n"
     ]
    },
    {
     "name": "stdout",
     "output_type": "stream",
     "text": [
      "Training until validation scores don't improve for 100 rounds\n",
      "[50]\tvalid_0's auc: 0.902954\n",
      "[100]\tvalid_0's auc: 0.904408\n",
      "[150]\tvalid_0's auc: 0.905258\n",
      "[200]\tvalid_0's auc: 0.905833\n",
      "[250]\tvalid_0's auc: 0.906249\n",
      "[300]\tvalid_0's auc: 0.906441\n",
      "[350]\tvalid_0's auc: 0.906483\n",
      "[400]\tvalid_0's auc: 0.906448\n"
     ]
    },
    {
     "name": "stderr",
     "output_type": "stream",
     "text": [
      "num_leaves, val_score: 0.906875:  75%|####################################7            | 15/20 [00:19<00:07,  1.42s/it]"
     ]
    },
    {
     "name": "stdout",
     "output_type": "stream",
     "text": [
      "[450]\tvalid_0's auc: 0.906449\n",
      "Early stopping, best iteration is:\n",
      "[367]\tvalid_0's auc: 0.906575\n",
      "Training until validation scores don't improve for 100 rounds\n"
     ]
    },
    {
     "name": "stderr",
     "output_type": "stream",
     "text": [
      "C:\\Python39\\lib\\site-packages\\lightgbm\\engine.py:181: UserWarning: 'early_stopping_rounds' argument is deprecated and will be removed in a future release of LightGBM. Pass 'early_stopping()' callback via 'callbacks' argument instead.\n",
      "  _log_warning(\"'early_stopping_rounds' argument is deprecated and will be removed in a future release of LightGBM. \"\n",
      "C:\\Python39\\lib\\site-packages\\lightgbm\\basic.py:2068: UserWarning: categorical_feature in Dataset is overridden.\n",
      "New categorical_feature is ['education', 'marital.status', 'native.country', 'occupation', 'race', 'relationship', 'sex', 'workclass']\n",
      "  _log_warning('categorical_feature in Dataset is overridden.\\n'\n",
      "C:\\Python39\\lib\\site-packages\\lightgbm\\engine.py:239: UserWarning: 'verbose_eval' argument is deprecated and will be removed in a future release of LightGBM. Pass 'log_evaluation()' callback via 'callbacks' argument instead.\n",
      "  _log_warning(\"'verbose_eval' argument is deprecated and will be removed in a future release of LightGBM. \"\n",
      "C:\\Python39\\lib\\site-packages\\lightgbm\\basic.py:1780: UserWarning: Overriding the parameters from Reference Dataset.\n",
      "  _log_warning('Overriding the parameters from Reference Dataset.')\n",
      "C:\\Python39\\lib\\site-packages\\lightgbm\\basic.py:1513: UserWarning: categorical_column in param dict is overridden.\n",
      "  _log_warning(f'{cat_alias} in param dict is overridden.')\n"
     ]
    },
    {
     "name": "stdout",
     "output_type": "stream",
     "text": [
      "[50]\tvalid_0's auc: 0.903135\n",
      "[100]\tvalid_0's auc: 0.904553\n",
      "[150]\tvalid_0's auc: 0.905418\n",
      "[200]\tvalid_0's auc: 0.905895\n",
      "[250]\tvalid_0's auc: 0.9063\n",
      "[300]\tvalid_0's auc: 0.906399\n",
      "[350]\tvalid_0's auc: 0.90645\n",
      "[400]\tvalid_0's auc: 0.906516\n",
      "[450]\tvalid_0's auc: 0.906432\n",
      "[500]\tvalid_0's auc: 0.906253\n",
      "Early stopping, best iteration is:\n",
      "[422]\tvalid_0's auc: 0.906599\n"
     ]
    },
    {
     "name": "stderr",
     "output_type": "stream",
     "text": [
      "num_leaves, val_score: 0.906875:  80%|#######################################2         | 16/20 [00:20<00:05,  1.34s/it]C:\\Python39\\lib\\site-packages\\lightgbm\\engine.py:181: UserWarning: 'early_stopping_rounds' argument is deprecated and will be removed in a future release of LightGBM. Pass 'early_stopping()' callback via 'callbacks' argument instead.\n",
      "  _log_warning(\"'early_stopping_rounds' argument is deprecated and will be removed in a future release of LightGBM. \"\n",
      "C:\\Python39\\lib\\site-packages\\lightgbm\\basic.py:2068: UserWarning: categorical_feature in Dataset is overridden.\n",
      "New categorical_feature is ['education', 'marital.status', 'native.country', 'occupation', 'race', 'relationship', 'sex', 'workclass']\n",
      "  _log_warning('categorical_feature in Dataset is overridden.\\n'\n",
      "C:\\Python39\\lib\\site-packages\\lightgbm\\engine.py:239: UserWarning: 'verbose_eval' argument is deprecated and will be removed in a future release of LightGBM. Pass 'log_evaluation()' callback via 'callbacks' argument instead.\n",
      "  _log_warning(\"'verbose_eval' argument is deprecated and will be removed in a future release of LightGBM. \"\n",
      "C:\\Python39\\lib\\site-packages\\lightgbm\\basic.py:1780: UserWarning: Overriding the parameters from Reference Dataset.\n",
      "  _log_warning('Overriding the parameters from Reference Dataset.')\n",
      "C:\\Python39\\lib\\site-packages\\lightgbm\\basic.py:1513: UserWarning: categorical_column in param dict is overridden.\n",
      "  _log_warning(f'{cat_alias} in param dict is overridden.')\n"
     ]
    },
    {
     "name": "stdout",
     "output_type": "stream",
     "text": [
      "Training until validation scores don't improve for 100 rounds\n",
      "[50]\tvalid_0's auc: 0.90326\n",
      "[100]\tvalid_0's auc: 0.903785\n",
      "[150]\tvalid_0's auc: 0.904118\n",
      "[200]\tvalid_0's auc: 0.90401\n",
      "[250]\tvalid_0's auc: 0.903765\n"
     ]
    },
    {
     "name": "stderr",
     "output_type": "stream",
     "text": [
      "num_leaves, val_score: 0.906875:  85%|#########################################6       | 17/20 [00:21<00:03,  1.31s/it]"
     ]
    },
    {
     "name": "stdout",
     "output_type": "stream",
     "text": [
      "Early stopping, best iteration is:\n",
      "[185]\tvalid_0's auc: 0.904309\n",
      "Training until validation scores don't improve for 100 rounds\n"
     ]
    },
    {
     "name": "stderr",
     "output_type": "stream",
     "text": [
      "C:\\Python39\\lib\\site-packages\\lightgbm\\engine.py:181: UserWarning: 'early_stopping_rounds' argument is deprecated and will be removed in a future release of LightGBM. Pass 'early_stopping()' callback via 'callbacks' argument instead.\n",
      "  _log_warning(\"'early_stopping_rounds' argument is deprecated and will be removed in a future release of LightGBM. \"\n",
      "C:\\Python39\\lib\\site-packages\\lightgbm\\basic.py:2068: UserWarning: categorical_feature in Dataset is overridden.\n",
      "New categorical_feature is ['education', 'marital.status', 'native.country', 'occupation', 'race', 'relationship', 'sex', 'workclass']\n",
      "  _log_warning('categorical_feature in Dataset is overridden.\\n'\n",
      "C:\\Python39\\lib\\site-packages\\lightgbm\\engine.py:239: UserWarning: 'verbose_eval' argument is deprecated and will be removed in a future release of LightGBM. Pass 'log_evaluation()' callback via 'callbacks' argument instead.\n",
      "  _log_warning(\"'verbose_eval' argument is deprecated and will be removed in a future release of LightGBM. \"\n",
      "C:\\Python39\\lib\\site-packages\\lightgbm\\basic.py:1780: UserWarning: Overriding the parameters from Reference Dataset.\n",
      "  _log_warning('Overriding the parameters from Reference Dataset.')\n",
      "C:\\Python39\\lib\\site-packages\\lightgbm\\basic.py:1513: UserWarning: categorical_column in param dict is overridden.\n",
      "  _log_warning(f'{cat_alias} in param dict is overridden.')\n"
     ]
    },
    {
     "name": "stdout",
     "output_type": "stream",
     "text": [
      "[50]\tvalid_0's auc: 0.903018\n",
      "[100]\tvalid_0's auc: 0.904561\n",
      "[150]\tvalid_0's auc: 0.905447\n",
      "[200]\tvalid_0's auc: 0.905971\n",
      "[250]\tvalid_0's auc: 0.90645\n",
      "[300]\tvalid_0's auc: 0.906538\n",
      "[350]\tvalid_0's auc: 0.906683\n",
      "[400]\tvalid_0's auc: 0.906728\n",
      "[450]\tvalid_0's auc: 0.906646\n",
      "[500]\tvalid_0's auc: 0.906384\n"
     ]
    },
    {
     "name": "stderr",
     "output_type": "stream",
     "text": [
      "num_leaves, val_score: 0.906875:  90%|############################################1    | 18/20 [00:22<00:02,  1.25s/it]"
     ]
    },
    {
     "name": "stdout",
     "output_type": "stream",
     "text": [
      "Early stopping, best iteration is:\n",
      "[421]\tvalid_0's auc: 0.906835\n",
      "Training until validation scores don't improve for 100 rounds\n"
     ]
    },
    {
     "name": "stderr",
     "output_type": "stream",
     "text": [
      "C:\\Python39\\lib\\site-packages\\lightgbm\\engine.py:181: UserWarning: 'early_stopping_rounds' argument is deprecated and will be removed in a future release of LightGBM. Pass 'early_stopping()' callback via 'callbacks' argument instead.\n",
      "  _log_warning(\"'early_stopping_rounds' argument is deprecated and will be removed in a future release of LightGBM. \"\n",
      "C:\\Python39\\lib\\site-packages\\lightgbm\\basic.py:2068: UserWarning: categorical_feature in Dataset is overridden.\n",
      "New categorical_feature is ['education', 'marital.status', 'native.country', 'occupation', 'race', 'relationship', 'sex', 'workclass']\n",
      "  _log_warning('categorical_feature in Dataset is overridden.\\n'\n",
      "C:\\Python39\\lib\\site-packages\\lightgbm\\engine.py:239: UserWarning: 'verbose_eval' argument is deprecated and will be removed in a future release of LightGBM. Pass 'log_evaluation()' callback via 'callbacks' argument instead.\n",
      "  _log_warning(\"'verbose_eval' argument is deprecated and will be removed in a future release of LightGBM. \"\n",
      "C:\\Python39\\lib\\site-packages\\lightgbm\\basic.py:1780: UserWarning: Overriding the parameters from Reference Dataset.\n",
      "  _log_warning('Overriding the parameters from Reference Dataset.')\n",
      "C:\\Python39\\lib\\site-packages\\lightgbm\\basic.py:1513: UserWarning: categorical_column in param dict is overridden.\n",
      "  _log_warning(f'{cat_alias} in param dict is overridden.')\n"
     ]
    },
    {
     "name": "stdout",
     "output_type": "stream",
     "text": [
      "[50]\tvalid_0's auc: 0.903208\n",
      "[100]\tvalid_0's auc: 0.903734\n",
      "[150]\tvalid_0's auc: 0.904096\n",
      "[200]\tvalid_0's auc: 0.904052\n",
      "[250]\tvalid_0's auc: 0.903836\n"
     ]
    },
    {
     "name": "stderr",
     "output_type": "stream",
     "text": [
      "num_leaves, val_score: 0.906875:  95%|##############################################5  | 19/20 [00:24<00:01,  1.26s/it]"
     ]
    },
    {
     "name": "stdout",
     "output_type": "stream",
     "text": [
      "Early stopping, best iteration is:\n",
      "[185]\tvalid_0's auc: 0.904302\n",
      "Training until validation scores don't improve for 100 rounds\n"
     ]
    },
    {
     "name": "stderr",
     "output_type": "stream",
     "text": [
      "C:\\Python39\\lib\\site-packages\\lightgbm\\engine.py:181: UserWarning: 'early_stopping_rounds' argument is deprecated and will be removed in a future release of LightGBM. Pass 'early_stopping()' callback via 'callbacks' argument instead.\n",
      "  _log_warning(\"'early_stopping_rounds' argument is deprecated and will be removed in a future release of LightGBM. \"\n",
      "C:\\Python39\\lib\\site-packages\\lightgbm\\basic.py:2068: UserWarning: categorical_feature in Dataset is overridden.\n",
      "New categorical_feature is ['education', 'marital.status', 'native.country', 'occupation', 'race', 'relationship', 'sex', 'workclass']\n",
      "  _log_warning('categorical_feature in Dataset is overridden.\\n'\n",
      "C:\\Python39\\lib\\site-packages\\lightgbm\\engine.py:239: UserWarning: 'verbose_eval' argument is deprecated and will be removed in a future release of LightGBM. Pass 'log_evaluation()' callback via 'callbacks' argument instead.\n",
      "  _log_warning(\"'verbose_eval' argument is deprecated and will be removed in a future release of LightGBM. \"\n",
      "C:\\Python39\\lib\\site-packages\\lightgbm\\basic.py:1780: UserWarning: Overriding the parameters from Reference Dataset.\n",
      "  _log_warning('Overriding the parameters from Reference Dataset.')\n",
      "C:\\Python39\\lib\\site-packages\\lightgbm\\basic.py:1513: UserWarning: categorical_column in param dict is overridden.\n",
      "  _log_warning(f'{cat_alias} in param dict is overridden.')\n"
     ]
    },
    {
     "name": "stdout",
     "output_type": "stream",
     "text": [
      "[50]\tvalid_0's auc: 0.902078\n",
      "[100]\tvalid_0's auc: 0.903437\n",
      "[150]\tvalid_0's auc: 0.904489\n",
      "[200]\tvalid_0's auc: 0.905307\n",
      "[250]\tvalid_0's auc: 0.905916\n",
      "[300]\tvalid_0's auc: 0.906215\n",
      "[350]\tvalid_0's auc: 0.906407\n",
      "[400]\tvalid_0's auc: 0.906611\n",
      "[450]\tvalid_0's auc: 0.906662\n"
     ]
    },
    {
     "name": "stderr",
     "output_type": "stream",
     "text": [
      "num_leaves, val_score: 0.906875: 100%|#################################################| 20/20 [00:25<00:00,  1.26s/it]\n"
     ]
    },
    {
     "name": "stdout",
     "output_type": "stream",
     "text": [
      "[500]\tvalid_0's auc: 0.90668\n",
      "Early stopping, best iteration is:\n",
      "[421]\tvalid_0's auc: 0.906721\n"
     ]
    },
    {
     "name": "stderr",
     "output_type": "stream",
     "text": [
      "bagging, val_score: 0.906875:   0%|                                                             | 0/10 [00:00<?, ?it/s]"
     ]
    },
    {
     "name": "stdout",
     "output_type": "stream",
     "text": [
      "Training until validation scores don't improve for 100 rounds\n"
     ]
    },
    {
     "name": "stderr",
     "output_type": "stream",
     "text": [
      "C:\\Python39\\lib\\site-packages\\lightgbm\\engine.py:181: UserWarning: 'early_stopping_rounds' argument is deprecated and will be removed in a future release of LightGBM. Pass 'early_stopping()' callback via 'callbacks' argument instead.\n",
      "  _log_warning(\"'early_stopping_rounds' argument is deprecated and will be removed in a future release of LightGBM. \"\n",
      "C:\\Python39\\lib\\site-packages\\lightgbm\\basic.py:2068: UserWarning: categorical_feature in Dataset is overridden.\n",
      "New categorical_feature is ['education', 'marital.status', 'native.country', 'occupation', 'race', 'relationship', 'sex', 'workclass']\n",
      "  _log_warning('categorical_feature in Dataset is overridden.\\n'\n",
      "C:\\Python39\\lib\\site-packages\\lightgbm\\engine.py:239: UserWarning: 'verbose_eval' argument is deprecated and will be removed in a future release of LightGBM. Pass 'log_evaluation()' callback via 'callbacks' argument instead.\n",
      "  _log_warning(\"'verbose_eval' argument is deprecated and will be removed in a future release of LightGBM. \"\n",
      "C:\\Python39\\lib\\site-packages\\lightgbm\\basic.py:1780: UserWarning: Overriding the parameters from Reference Dataset.\n",
      "  _log_warning('Overriding the parameters from Reference Dataset.')\n",
      "C:\\Python39\\lib\\site-packages\\lightgbm\\basic.py:1513: UserWarning: categorical_column in param dict is overridden.\n",
      "  _log_warning(f'{cat_alias} in param dict is overridden.')\n"
     ]
    },
    {
     "name": "stdout",
     "output_type": "stream",
     "text": [
      "[50]\tvalid_0's auc: 0.902675\n",
      "[100]\tvalid_0's auc: 0.904157\n",
      "[150]\tvalid_0's auc: 0.904925\n",
      "[200]\tvalid_0's auc: 0.90553\n",
      "[250]\tvalid_0's auc: 0.906205\n",
      "[300]\tvalid_0's auc: 0.906684\n",
      "[350]\tvalid_0's auc: 0.906928\n",
      "[400]\tvalid_0's auc: 0.907085\n",
      "[450]\tvalid_0's auc: 0.907095\n"
     ]
    },
    {
     "name": "stderr",
     "output_type": "stream",
     "text": [
      "bagging, val_score: 0.907200:  10%|#####3                                               | 1/10 [00:01<00:10,  1.16s/it]"
     ]
    },
    {
     "name": "stdout",
     "output_type": "stream",
     "text": [
      "[500]\tvalid_0's auc: 0.906812\n",
      "Early stopping, best iteration is:\n",
      "[430]\tvalid_0's auc: 0.9072\n",
      "Training until validation scores don't improve for 100 rounds\n"
     ]
    },
    {
     "name": "stderr",
     "output_type": "stream",
     "text": [
      "C:\\Python39\\lib\\site-packages\\lightgbm\\engine.py:181: UserWarning: 'early_stopping_rounds' argument is deprecated and will be removed in a future release of LightGBM. Pass 'early_stopping()' callback via 'callbacks' argument instead.\n",
      "  _log_warning(\"'early_stopping_rounds' argument is deprecated and will be removed in a future release of LightGBM. \"\n",
      "C:\\Python39\\lib\\site-packages\\lightgbm\\basic.py:2068: UserWarning: categorical_feature in Dataset is overridden.\n",
      "New categorical_feature is ['education', 'marital.status', 'native.country', 'occupation', 'race', 'relationship', 'sex', 'workclass']\n",
      "  _log_warning('categorical_feature in Dataset is overridden.\\n'\n",
      "C:\\Python39\\lib\\site-packages\\lightgbm\\engine.py:239: UserWarning: 'verbose_eval' argument is deprecated and will be removed in a future release of LightGBM. Pass 'log_evaluation()' callback via 'callbacks' argument instead.\n",
      "  _log_warning(\"'verbose_eval' argument is deprecated and will be removed in a future release of LightGBM. \"\n",
      "C:\\Python39\\lib\\site-packages\\lightgbm\\basic.py:1780: UserWarning: Overriding the parameters from Reference Dataset.\n",
      "  _log_warning('Overriding the parameters from Reference Dataset.')\n",
      "C:\\Python39\\lib\\site-packages\\lightgbm\\basic.py:1513: UserWarning: categorical_column in param dict is overridden.\n",
      "  _log_warning(f'{cat_alias} in param dict is overridden.')\n"
     ]
    },
    {
     "name": "stdout",
     "output_type": "stream",
     "text": [
      "[50]\tvalid_0's auc: 0.902717\n",
      "[100]\tvalid_0's auc: 0.904066\n",
      "[150]\tvalid_0's auc: 0.904841\n",
      "[200]\tvalid_0's auc: 0.905356\n",
      "[250]\tvalid_0's auc: 0.905781\n",
      "[300]\tvalid_0's auc: 0.906126\n",
      "[350]\tvalid_0's auc: 0.906359\n",
      "[400]\tvalid_0's auc: 0.906511\n",
      "[450]\tvalid_0's auc: 0.906461\n",
      "[500]\tvalid_0's auc: 0.906308\n",
      "Early stopping, best iteration is:\n",
      "[439]\tvalid_0's auc: 0.906619\n"
     ]
    },
    {
     "name": "stderr",
     "output_type": "stream",
     "text": [
      "bagging, val_score: 0.907200:  20%|##########6                                          | 2/10 [00:02<00:09,  1.17s/it]C:\\Python39\\lib\\site-packages\\lightgbm\\engine.py:181: UserWarning: 'early_stopping_rounds' argument is deprecated and will be removed in a future release of LightGBM. Pass 'early_stopping()' callback via 'callbacks' argument instead.\n",
      "  _log_warning(\"'early_stopping_rounds' argument is deprecated and will be removed in a future release of LightGBM. \"\n",
      "C:\\Python39\\lib\\site-packages\\lightgbm\\basic.py:2068: UserWarning: categorical_feature in Dataset is overridden.\n",
      "New categorical_feature is ['education', 'marital.status', 'native.country', 'occupation', 'race', 'relationship', 'sex', 'workclass']\n",
      "  _log_warning('categorical_feature in Dataset is overridden.\\n'\n",
      "C:\\Python39\\lib\\site-packages\\lightgbm\\engine.py:239: UserWarning: 'verbose_eval' argument is deprecated and will be removed in a future release of LightGBM. Pass 'log_evaluation()' callback via 'callbacks' argument instead.\n",
      "  _log_warning(\"'verbose_eval' argument is deprecated and will be removed in a future release of LightGBM. \"\n",
      "C:\\Python39\\lib\\site-packages\\lightgbm\\basic.py:1780: UserWarning: Overriding the parameters from Reference Dataset.\n",
      "  _log_warning('Overriding the parameters from Reference Dataset.')\n",
      "C:\\Python39\\lib\\site-packages\\lightgbm\\basic.py:1513: UserWarning: categorical_column in param dict is overridden.\n",
      "  _log_warning(f'{cat_alias} in param dict is overridden.')\n"
     ]
    },
    {
     "name": "stdout",
     "output_type": "stream",
     "text": [
      "Training until validation scores don't improve for 100 rounds\n",
      "[50]\tvalid_0's auc: 0.902721\n",
      "[100]\tvalid_0's auc: 0.904006\n",
      "[150]\tvalid_0's auc: 0.904624\n",
      "[200]\tvalid_0's auc: 0.90533\n",
      "[250]\tvalid_0's auc: 0.905948\n",
      "[300]\tvalid_0's auc: 0.906229\n",
      "[350]\tvalid_0's auc: 0.906246\n"
     ]
    },
    {
     "name": "stderr",
     "output_type": "stream",
     "text": [
      "bagging, val_score: 0.907200:  30%|###############9                                     | 3/10 [00:03<00:07,  1.07s/it]"
     ]
    },
    {
     "name": "stdout",
     "output_type": "stream",
     "text": [
      "[400]\tvalid_0's auc: 0.906212\n",
      "Early stopping, best iteration is:\n",
      "[331]\tvalid_0's auc: 0.906389\n",
      "Training until validation scores don't improve for 100 rounds\n"
     ]
    },
    {
     "name": "stderr",
     "output_type": "stream",
     "text": [
      "C:\\Python39\\lib\\site-packages\\lightgbm\\engine.py:181: UserWarning: 'early_stopping_rounds' argument is deprecated and will be removed in a future release of LightGBM. Pass 'early_stopping()' callback via 'callbacks' argument instead.\n",
      "  _log_warning(\"'early_stopping_rounds' argument is deprecated and will be removed in a future release of LightGBM. \"\n",
      "C:\\Python39\\lib\\site-packages\\lightgbm\\basic.py:2068: UserWarning: categorical_feature in Dataset is overridden.\n",
      "New categorical_feature is ['education', 'marital.status', 'native.country', 'occupation', 'race', 'relationship', 'sex', 'workclass']\n",
      "  _log_warning('categorical_feature in Dataset is overridden.\\n'\n",
      "C:\\Python39\\lib\\site-packages\\lightgbm\\engine.py:239: UserWarning: 'verbose_eval' argument is deprecated and will be removed in a future release of LightGBM. Pass 'log_evaluation()' callback via 'callbacks' argument instead.\n",
      "  _log_warning(\"'verbose_eval' argument is deprecated and will be removed in a future release of LightGBM. \"\n",
      "C:\\Python39\\lib\\site-packages\\lightgbm\\basic.py:1780: UserWarning: Overriding the parameters from Reference Dataset.\n",
      "  _log_warning('Overriding the parameters from Reference Dataset.')\n",
      "C:\\Python39\\lib\\site-packages\\lightgbm\\basic.py:1513: UserWarning: categorical_column in param dict is overridden.\n",
      "  _log_warning(f'{cat_alias} in param dict is overridden.')\n"
     ]
    },
    {
     "name": "stdout",
     "output_type": "stream",
     "text": [
      "[50]\tvalid_0's auc: 0.902264\n",
      "[100]\tvalid_0's auc: 0.903504\n",
      "[150]\tvalid_0's auc: 0.904425\n",
      "[200]\tvalid_0's auc: 0.90514\n",
      "[250]\tvalid_0's auc: 0.905662\n",
      "[300]\tvalid_0's auc: 0.905951\n"
     ]
    },
    {
     "name": "stderr",
     "output_type": "stream",
     "text": [
      "bagging, val_score: 0.907200:  40%|#####################2                               | 4/10 [00:04<00:05,  1.05it/s]"
     ]
    },
    {
     "name": "stdout",
     "output_type": "stream",
     "text": [
      "[350]\tvalid_0's auc: 0.905825\n",
      "Early stopping, best iteration is:\n",
      "[295]\tvalid_0's auc: 0.905966\n",
      "Training until validation scores don't improve for 100 rounds\n"
     ]
    },
    {
     "name": "stderr",
     "output_type": "stream",
     "text": [
      "C:\\Python39\\lib\\site-packages\\lightgbm\\engine.py:181: UserWarning: 'early_stopping_rounds' argument is deprecated and will be removed in a future release of LightGBM. Pass 'early_stopping()' callback via 'callbacks' argument instead.\n",
      "  _log_warning(\"'early_stopping_rounds' argument is deprecated and will be removed in a future release of LightGBM. \"\n",
      "C:\\Python39\\lib\\site-packages\\lightgbm\\basic.py:2068: UserWarning: categorical_feature in Dataset is overridden.\n",
      "New categorical_feature is ['education', 'marital.status', 'native.country', 'occupation', 'race', 'relationship', 'sex', 'workclass']\n",
      "  _log_warning('categorical_feature in Dataset is overridden.\\n'\n",
      "C:\\Python39\\lib\\site-packages\\lightgbm\\engine.py:239: UserWarning: 'verbose_eval' argument is deprecated and will be removed in a future release of LightGBM. Pass 'log_evaluation()' callback via 'callbacks' argument instead.\n",
      "  _log_warning(\"'verbose_eval' argument is deprecated and will be removed in a future release of LightGBM. \"\n",
      "C:\\Python39\\lib\\site-packages\\lightgbm\\basic.py:1780: UserWarning: Overriding the parameters from Reference Dataset.\n",
      "  _log_warning('Overriding the parameters from Reference Dataset.')\n",
      "C:\\Python39\\lib\\site-packages\\lightgbm\\basic.py:1513: UserWarning: categorical_column in param dict is overridden.\n",
      "  _log_warning(f'{cat_alias} in param dict is overridden.')\n"
     ]
    },
    {
     "name": "stdout",
     "output_type": "stream",
     "text": [
      "[50]\tvalid_0's auc: 0.902674\n",
      "[100]\tvalid_0's auc: 0.903945\n",
      "[150]\tvalid_0's auc: 0.904801\n",
      "[200]\tvalid_0's auc: 0.905418\n",
      "[250]\tvalid_0's auc: 0.905834\n",
      "[300]\tvalid_0's auc: 0.906191\n",
      "[350]\tvalid_0's auc: 0.906266\n",
      "[400]\tvalid_0's auc: 0.906485\n",
      "[450]\tvalid_0's auc: 0.906478\n",
      "[500]\tvalid_0's auc: 0.906445\n"
     ]
    },
    {
     "name": "stderr",
     "output_type": "stream",
     "text": [
      "bagging, val_score: 0.907200:  50%|##########################5                          | 5/10 [00:05<00:06,  1.21s/it]"
     ]
    },
    {
     "name": "stdout",
     "output_type": "stream",
     "text": [
      "[550]\tvalid_0's auc: 0.906231\n",
      "Early stopping, best iteration is:\n",
      "[468]\tvalid_0's auc: 0.906586\n",
      "Training until validation scores don't improve for 100 rounds\n"
     ]
    },
    {
     "name": "stderr",
     "output_type": "stream",
     "text": [
      "C:\\Python39\\lib\\site-packages\\lightgbm\\engine.py:181: UserWarning: 'early_stopping_rounds' argument is deprecated and will be removed in a future release of LightGBM. Pass 'early_stopping()' callback via 'callbacks' argument instead.\n",
      "  _log_warning(\"'early_stopping_rounds' argument is deprecated and will be removed in a future release of LightGBM. \"\n",
      "C:\\Python39\\lib\\site-packages\\lightgbm\\basic.py:2068: UserWarning: categorical_feature in Dataset is overridden.\n",
      "New categorical_feature is ['education', 'marital.status', 'native.country', 'occupation', 'race', 'relationship', 'sex', 'workclass']\n",
      "  _log_warning('categorical_feature in Dataset is overridden.\\n'\n",
      "C:\\Python39\\lib\\site-packages\\lightgbm\\engine.py:239: UserWarning: 'verbose_eval' argument is deprecated and will be removed in a future release of LightGBM. Pass 'log_evaluation()' callback via 'callbacks' argument instead.\n",
      "  _log_warning(\"'verbose_eval' argument is deprecated and will be removed in a future release of LightGBM. \"\n",
      "C:\\Python39\\lib\\site-packages\\lightgbm\\basic.py:1780: UserWarning: Overriding the parameters from Reference Dataset.\n",
      "  _log_warning('Overriding the parameters from Reference Dataset.')\n",
      "C:\\Python39\\lib\\site-packages\\lightgbm\\basic.py:1513: UserWarning: categorical_column in param dict is overridden.\n",
      "  _log_warning(f'{cat_alias} in param dict is overridden.')\n"
     ]
    },
    {
     "name": "stdout",
     "output_type": "stream",
     "text": [
      "[50]\tvalid_0's auc: 0.902644\n",
      "[100]\tvalid_0's auc: 0.904048\n",
      "[150]\tvalid_0's auc: 0.904999\n",
      "[200]\tvalid_0's auc: 0.90552\n",
      "[250]\tvalid_0's auc: 0.90601\n",
      "[300]\tvalid_0's auc: 0.906267\n",
      "[350]\tvalid_0's auc: 0.90645\n",
      "[400]\tvalid_0's auc: 0.906402\n",
      "[450]\tvalid_0's auc: 0.906374\n",
      "[500]\tvalid_0's auc: 0.90633\n"
     ]
    },
    {
     "name": "stderr",
     "output_type": "stream",
     "text": [
      "bagging, val_score: 0.907200:  60%|###############################8                     | 6/10 [00:07<00:04,  1.24s/it]"
     ]
    },
    {
     "name": "stdout",
     "output_type": "stream",
     "text": [
      "Early stopping, best iteration is:\n",
      "[427]\tvalid_0's auc: 0.906522\n",
      "Training until validation scores don't improve for 100 rounds\n"
     ]
    },
    {
     "name": "stderr",
     "output_type": "stream",
     "text": [
      "C:\\Python39\\lib\\site-packages\\lightgbm\\engine.py:181: UserWarning: 'early_stopping_rounds' argument is deprecated and will be removed in a future release of LightGBM. Pass 'early_stopping()' callback via 'callbacks' argument instead.\n",
      "  _log_warning(\"'early_stopping_rounds' argument is deprecated and will be removed in a future release of LightGBM. \"\n",
      "C:\\Python39\\lib\\site-packages\\lightgbm\\basic.py:2068: UserWarning: categorical_feature in Dataset is overridden.\n",
      "New categorical_feature is ['education', 'marital.status', 'native.country', 'occupation', 'race', 'relationship', 'sex', 'workclass']\n",
      "  _log_warning('categorical_feature in Dataset is overridden.\\n'\n",
      "C:\\Python39\\lib\\site-packages\\lightgbm\\engine.py:239: UserWarning: 'verbose_eval' argument is deprecated and will be removed in a future release of LightGBM. Pass 'log_evaluation()' callback via 'callbacks' argument instead.\n",
      "  _log_warning(\"'verbose_eval' argument is deprecated and will be removed in a future release of LightGBM. \"\n",
      "C:\\Python39\\lib\\site-packages\\lightgbm\\basic.py:1780: UserWarning: Overriding the parameters from Reference Dataset.\n",
      "  _log_warning('Overriding the parameters from Reference Dataset.')\n",
      "C:\\Python39\\lib\\site-packages\\lightgbm\\basic.py:1513: UserWarning: categorical_column in param dict is overridden.\n",
      "  _log_warning(f'{cat_alias} in param dict is overridden.')\n"
     ]
    },
    {
     "name": "stdout",
     "output_type": "stream",
     "text": [
      "[50]\tvalid_0's auc: 0.902723\n",
      "[100]\tvalid_0's auc: 0.903373\n",
      "[150]\tvalid_0's auc: 0.904392\n",
      "[200]\tvalid_0's auc: 0.905056\n",
      "[250]\tvalid_0's auc: 0.905498\n",
      "[300]\tvalid_0's auc: 0.906036\n",
      "[350]\tvalid_0's auc: 0.905961\n",
      "[400]\tvalid_0's auc: 0.9061\n",
      "[450]\tvalid_0's auc: 0.905919\n",
      "[500]\tvalid_0's auc: 0.90605\n"
     ]
    },
    {
     "name": "stderr",
     "output_type": "stream",
     "text": [
      "bagging, val_score: 0.907200:  70%|#####################################                | 7/10 [00:08<00:03,  1.23s/it]"
     ]
    },
    {
     "name": "stdout",
     "output_type": "stream",
     "text": [
      "Early stopping, best iteration is:\n",
      "[425]\tvalid_0's auc: 0.906177\n",
      "Training until validation scores don't improve for 100 rounds\n"
     ]
    },
    {
     "name": "stderr",
     "output_type": "stream",
     "text": [
      "C:\\Python39\\lib\\site-packages\\lightgbm\\engine.py:181: UserWarning: 'early_stopping_rounds' argument is deprecated and will be removed in a future release of LightGBM. Pass 'early_stopping()' callback via 'callbacks' argument instead.\n",
      "  _log_warning(\"'early_stopping_rounds' argument is deprecated and will be removed in a future release of LightGBM. \"\n",
      "C:\\Python39\\lib\\site-packages\\lightgbm\\basic.py:2068: UserWarning: categorical_feature in Dataset is overridden.\n",
      "New categorical_feature is ['education', 'marital.status', 'native.country', 'occupation', 'race', 'relationship', 'sex', 'workclass']\n",
      "  _log_warning('categorical_feature in Dataset is overridden.\\n'\n",
      "C:\\Python39\\lib\\site-packages\\lightgbm\\engine.py:239: UserWarning: 'verbose_eval' argument is deprecated and will be removed in a future release of LightGBM. Pass 'log_evaluation()' callback via 'callbacks' argument instead.\n",
      "  _log_warning(\"'verbose_eval' argument is deprecated and will be removed in a future release of LightGBM. \"\n",
      "C:\\Python39\\lib\\site-packages\\lightgbm\\basic.py:1780: UserWarning: Overriding the parameters from Reference Dataset.\n",
      "  _log_warning('Overriding the parameters from Reference Dataset.')\n",
      "C:\\Python39\\lib\\site-packages\\lightgbm\\basic.py:1513: UserWarning: categorical_column in param dict is overridden.\n",
      "  _log_warning(f'{cat_alias} in param dict is overridden.')\n"
     ]
    },
    {
     "name": "stdout",
     "output_type": "stream",
     "text": [
      "[50]\tvalid_0's auc: 0.902679\n",
      "[100]\tvalid_0's auc: 0.903549\n",
      "[150]\tvalid_0's auc: 0.904636\n",
      "[200]\tvalid_0's auc: 0.905454\n",
      "[250]\tvalid_0's auc: 0.905738\n",
      "[300]\tvalid_0's auc: 0.906126\n",
      "[350]\tvalid_0's auc: 0.906272\n",
      "[400]\tvalid_0's auc: 0.906177\n",
      "[450]\tvalid_0's auc: 0.906142\n",
      "[500]\tvalid_0's auc: 0.905797\n"
     ]
    },
    {
     "name": "stderr",
     "output_type": "stream",
     "text": [
      "bagging, val_score: 0.907200:  80%|##########################################4          | 8/10 [00:09<00:02,  1.21s/it]"
     ]
    },
    {
     "name": "stdout",
     "output_type": "stream",
     "text": [
      "Early stopping, best iteration is:\n",
      "[416]\tvalid_0's auc: 0.906357\n",
      "Training until validation scores don't improve for 100 rounds\n"
     ]
    },
    {
     "name": "stderr",
     "output_type": "stream",
     "text": [
      "C:\\Python39\\lib\\site-packages\\lightgbm\\engine.py:181: UserWarning: 'early_stopping_rounds' argument is deprecated and will be removed in a future release of LightGBM. Pass 'early_stopping()' callback via 'callbacks' argument instead.\n",
      "  _log_warning(\"'early_stopping_rounds' argument is deprecated and will be removed in a future release of LightGBM. \"\n",
      "C:\\Python39\\lib\\site-packages\\lightgbm\\basic.py:2068: UserWarning: categorical_feature in Dataset is overridden.\n",
      "New categorical_feature is ['education', 'marital.status', 'native.country', 'occupation', 'race', 'relationship', 'sex', 'workclass']\n",
      "  _log_warning('categorical_feature in Dataset is overridden.\\n'\n",
      "C:\\Python39\\lib\\site-packages\\lightgbm\\engine.py:239: UserWarning: 'verbose_eval' argument is deprecated and will be removed in a future release of LightGBM. Pass 'log_evaluation()' callback via 'callbacks' argument instead.\n",
      "  _log_warning(\"'verbose_eval' argument is deprecated and will be removed in a future release of LightGBM. \"\n",
      "C:\\Python39\\lib\\site-packages\\lightgbm\\basic.py:1780: UserWarning: Overriding the parameters from Reference Dataset.\n",
      "  _log_warning('Overriding the parameters from Reference Dataset.')\n",
      "C:\\Python39\\lib\\site-packages\\lightgbm\\basic.py:1513: UserWarning: categorical_column in param dict is overridden.\n",
      "  _log_warning(f'{cat_alias} in param dict is overridden.')\n"
     ]
    },
    {
     "name": "stdout",
     "output_type": "stream",
     "text": [
      "[50]\tvalid_0's auc: 0.902768\n",
      "[100]\tvalid_0's auc: 0.904015\n",
      "[150]\tvalid_0's auc: 0.904947\n",
      "[200]\tvalid_0's auc: 0.905424\n",
      "[250]\tvalid_0's auc: 0.906185\n",
      "[300]\tvalid_0's auc: 0.906455\n",
      "[350]\tvalid_0's auc: 0.906655\n",
      "[400]\tvalid_0's auc: 0.906654\n",
      "[450]\tvalid_0's auc: 0.906717\n"
     ]
    },
    {
     "name": "stderr",
     "output_type": "stream",
     "text": [
      "bagging, val_score: 0.907200:  90%|###############################################7     | 9/10 [00:10<00:01,  1.29s/it]"
     ]
    },
    {
     "name": "stdout",
     "output_type": "stream",
     "text": [
      "[500]\tvalid_0's auc: 0.906533\n",
      "Early stopping, best iteration is:\n",
      "[434]\tvalid_0's auc: 0.906741\n",
      "Training until validation scores don't improve for 100 rounds\n"
     ]
    },
    {
     "name": "stderr",
     "output_type": "stream",
     "text": [
      "C:\\Python39\\lib\\site-packages\\lightgbm\\engine.py:181: UserWarning: 'early_stopping_rounds' argument is deprecated and will be removed in a future release of LightGBM. Pass 'early_stopping()' callback via 'callbacks' argument instead.\n",
      "  _log_warning(\"'early_stopping_rounds' argument is deprecated and will be removed in a future release of LightGBM. \"\n",
      "C:\\Python39\\lib\\site-packages\\lightgbm\\basic.py:2068: UserWarning: categorical_feature in Dataset is overridden.\n",
      "New categorical_feature is ['education', 'marital.status', 'native.country', 'occupation', 'race', 'relationship', 'sex', 'workclass']\n",
      "  _log_warning('categorical_feature in Dataset is overridden.\\n'\n",
      "C:\\Python39\\lib\\site-packages\\lightgbm\\engine.py:239: UserWarning: 'verbose_eval' argument is deprecated and will be removed in a future release of LightGBM. Pass 'log_evaluation()' callback via 'callbacks' argument instead.\n",
      "  _log_warning(\"'verbose_eval' argument is deprecated and will be removed in a future release of LightGBM. \"\n",
      "C:\\Python39\\lib\\site-packages\\lightgbm\\basic.py:1780: UserWarning: Overriding the parameters from Reference Dataset.\n",
      "  _log_warning('Overriding the parameters from Reference Dataset.')\n",
      "C:\\Python39\\lib\\site-packages\\lightgbm\\basic.py:1513: UserWarning: categorical_column in param dict is overridden.\n",
      "  _log_warning(f'{cat_alias} in param dict is overridden.')\n"
     ]
    },
    {
     "name": "stdout",
     "output_type": "stream",
     "text": [
      "[50]\tvalid_0's auc: 0.902685\n",
      "[100]\tvalid_0's auc: 0.903976\n",
      "[150]\tvalid_0's auc: 0.90494\n",
      "[200]\tvalid_0's auc: 0.905582\n",
      "[250]\tvalid_0's auc: 0.906135\n",
      "[300]\tvalid_0's auc: 0.906364\n",
      "[350]\tvalid_0's auc: 0.906478\n",
      "[400]\tvalid_0's auc: 0.906367\n",
      "[450]\tvalid_0's auc: 0.906357\n",
      "Early stopping, best iteration is:\n",
      "[355]\tvalid_0's auc: 0.906493\n"
     ]
    },
    {
     "name": "stderr",
     "output_type": "stream",
     "text": [
      "bagging, val_score: 0.907200: 100%|####################################################| 10/10 [00:11<00:00,  1.18s/it]\n",
      "feature_fraction_stage2, val_score: 0.907200:   0%|                                              | 0/3 [00:00<?, ?it/s]C:\\Python39\\lib\\site-packages\\lightgbm\\engine.py:181: UserWarning: 'early_stopping_rounds' argument is deprecated and will be removed in a future release of LightGBM. Pass 'early_stopping()' callback via 'callbacks' argument instead.\n",
      "  _log_warning(\"'early_stopping_rounds' argument is deprecated and will be removed in a future release of LightGBM. \"\n",
      "C:\\Python39\\lib\\site-packages\\lightgbm\\basic.py:2068: UserWarning: categorical_feature in Dataset is overridden.\n",
      "New categorical_feature is ['education', 'marital.status', 'native.country', 'occupation', 'race', 'relationship', 'sex', 'workclass']\n",
      "  _log_warning('categorical_feature in Dataset is overridden.\\n'\n",
      "C:\\Python39\\lib\\site-packages\\lightgbm\\engine.py:239: UserWarning: 'verbose_eval' argument is deprecated and will be removed in a future release of LightGBM. Pass 'log_evaluation()' callback via 'callbacks' argument instead.\n",
      "  _log_warning(\"'verbose_eval' argument is deprecated and will be removed in a future release of LightGBM. \"\n",
      "C:\\Python39\\lib\\site-packages\\lightgbm\\basic.py:1780: UserWarning: Overriding the parameters from Reference Dataset.\n",
      "  _log_warning('Overriding the parameters from Reference Dataset.')\n",
      "C:\\Python39\\lib\\site-packages\\lightgbm\\basic.py:1513: UserWarning: categorical_column in param dict is overridden.\n",
      "  _log_warning(f'{cat_alias} in param dict is overridden.')\n"
     ]
    },
    {
     "name": "stdout",
     "output_type": "stream",
     "text": [
      "Training until validation scores don't improve for 100 rounds\n",
      "[50]\tvalid_0's auc: 0.902113\n",
      "[100]\tvalid_0's auc: 0.902659\n",
      "[150]\tvalid_0's auc: 0.904404\n",
      "[200]\tvalid_0's auc: 0.905179\n",
      "[250]\tvalid_0's auc: 0.905751\n",
      "[300]\tvalid_0's auc: 0.905734\n",
      "[350]\tvalid_0's auc: 0.906041\n"
     ]
    },
    {
     "name": "stderr",
     "output_type": "stream",
     "text": [
      "feature_fraction_stage2, val_score: 0.907200:  33%|############6                         | 1/3 [00:01<00:02,  1.01s/it]"
     ]
    },
    {
     "name": "stdout",
     "output_type": "stream",
     "text": [
      "[400]\tvalid_0's auc: 0.905958\n",
      "[450]\tvalid_0's auc: 0.905608\n",
      "Early stopping, best iteration is:\n",
      "[359]\tvalid_0's auc: 0.906123\n"
     ]
    },
    {
     "name": "stderr",
     "output_type": "stream",
     "text": [
      "C:\\Python39\\lib\\site-packages\\lightgbm\\engine.py:181: UserWarning: 'early_stopping_rounds' argument is deprecated and will be removed in a future release of LightGBM. Pass 'early_stopping()' callback via 'callbacks' argument instead.\n",
      "  _log_warning(\"'early_stopping_rounds' argument is deprecated and will be removed in a future release of LightGBM. \"\n",
      "C:\\Python39\\lib\\site-packages\\lightgbm\\basic.py:2068: UserWarning: categorical_feature in Dataset is overridden.\n",
      "New categorical_feature is ['education', 'marital.status', 'native.country', 'occupation', 'race', 'relationship', 'sex', 'workclass']\n",
      "  _log_warning('categorical_feature in Dataset is overridden.\\n'\n",
      "C:\\Python39\\lib\\site-packages\\lightgbm\\engine.py:239: UserWarning: 'verbose_eval' argument is deprecated and will be removed in a future release of LightGBM. Pass 'log_evaluation()' callback via 'callbacks' argument instead.\n",
      "  _log_warning(\"'verbose_eval' argument is deprecated and will be removed in a future release of LightGBM. \"\n",
      "C:\\Python39\\lib\\site-packages\\lightgbm\\basic.py:1780: UserWarning: Overriding the parameters from Reference Dataset.\n",
      "  _log_warning('Overriding the parameters from Reference Dataset.')\n",
      "C:\\Python39\\lib\\site-packages\\lightgbm\\basic.py:1513: UserWarning: categorical_column in param dict is overridden.\n",
      "  _log_warning(f'{cat_alias} in param dict is overridden.')\n"
     ]
    },
    {
     "name": "stdout",
     "output_type": "stream",
     "text": [
      "Training until validation scores don't improve for 100 rounds\n",
      "[50]\tvalid_0's auc: 0.902113\n",
      "[100]\tvalid_0's auc: 0.902659\n",
      "[150]\tvalid_0's auc: 0.904404\n",
      "[200]\tvalid_0's auc: 0.905179\n",
      "[250]\tvalid_0's auc: 0.905751\n",
      "[300]\tvalid_0's auc: 0.905734\n",
      "[350]\tvalid_0's auc: 0.906041\n",
      "[400]\tvalid_0's auc: 0.905958\n"
     ]
    },
    {
     "name": "stderr",
     "output_type": "stream",
     "text": [
      "feature_fraction_stage2, val_score: 0.907200:  67%|#########################3            | 2/3 [00:02<00:01,  1.03s/it]"
     ]
    },
    {
     "name": "stdout",
     "output_type": "stream",
     "text": [
      "[450]\tvalid_0's auc: 0.905608\n",
      "Early stopping, best iteration is:\n",
      "[359]\tvalid_0's auc: 0.906123\n",
      "Training until validation scores don't improve for 100 rounds\n"
     ]
    },
    {
     "name": "stderr",
     "output_type": "stream",
     "text": [
      "C:\\Python39\\lib\\site-packages\\lightgbm\\engine.py:181: UserWarning: 'early_stopping_rounds' argument is deprecated and will be removed in a future release of LightGBM. Pass 'early_stopping()' callback via 'callbacks' argument instead.\n",
      "  _log_warning(\"'early_stopping_rounds' argument is deprecated and will be removed in a future release of LightGBM. \"\n",
      "C:\\Python39\\lib\\site-packages\\lightgbm\\basic.py:2068: UserWarning: categorical_feature in Dataset is overridden.\n",
      "New categorical_feature is ['education', 'marital.status', 'native.country', 'occupation', 'race', 'relationship', 'sex', 'workclass']\n",
      "  _log_warning('categorical_feature in Dataset is overridden.\\n'\n",
      "C:\\Python39\\lib\\site-packages\\lightgbm\\engine.py:239: UserWarning: 'verbose_eval' argument is deprecated and will be removed in a future release of LightGBM. Pass 'log_evaluation()' callback via 'callbacks' argument instead.\n",
      "  _log_warning(\"'verbose_eval' argument is deprecated and will be removed in a future release of LightGBM. \"\n",
      "C:\\Python39\\lib\\site-packages\\lightgbm\\basic.py:1780: UserWarning: Overriding the parameters from Reference Dataset.\n",
      "  _log_warning('Overriding the parameters from Reference Dataset.')\n",
      "C:\\Python39\\lib\\site-packages\\lightgbm\\basic.py:1513: UserWarning: categorical_column in param dict is overridden.\n",
      "  _log_warning(f'{cat_alias} in param dict is overridden.')\n"
     ]
    },
    {
     "name": "stdout",
     "output_type": "stream",
     "text": [
      "[50]\tvalid_0's auc: 0.902675\n",
      "[100]\tvalid_0's auc: 0.904157\n",
      "[150]\tvalid_0's auc: 0.904925\n",
      "[200]\tvalid_0's auc: 0.90553\n",
      "[250]\tvalid_0's auc: 0.906205\n",
      "[300]\tvalid_0's auc: 0.906684\n",
      "[350]\tvalid_0's auc: 0.906928\n",
      "[400]\tvalid_0's auc: 0.907085\n",
      "[450]\tvalid_0's auc: 0.907095\n",
      "[500]\tvalid_0's auc: 0.906812\n"
     ]
    },
    {
     "name": "stderr",
     "output_type": "stream",
     "text": [
      "feature_fraction_stage2, val_score: 0.907200: 100%|######################################| 3/3 [00:03<00:00,  1.11s/it]\n"
     ]
    },
    {
     "name": "stdout",
     "output_type": "stream",
     "text": [
      "Early stopping, best iteration is:\n",
      "[430]\tvalid_0's auc: 0.9072\n"
     ]
    },
    {
     "name": "stderr",
     "output_type": "stream",
     "text": [
      "regularization_factors, val_score: 0.907200:   0%|                                              | 0/20 [00:00<?, ?it/s]"
     ]
    },
    {
     "name": "stdout",
     "output_type": "stream",
     "text": [
      "Training until validation scores don't improve for 100 rounds\n"
     ]
    },
    {
     "name": "stderr",
     "output_type": "stream",
     "text": [
      "C:\\Python39\\lib\\site-packages\\lightgbm\\engine.py:181: UserWarning: 'early_stopping_rounds' argument is deprecated and will be removed in a future release of LightGBM. Pass 'early_stopping()' callback via 'callbacks' argument instead.\n",
      "  _log_warning(\"'early_stopping_rounds' argument is deprecated and will be removed in a future release of LightGBM. \"\n",
      "C:\\Python39\\lib\\site-packages\\lightgbm\\basic.py:2068: UserWarning: categorical_feature in Dataset is overridden.\n",
      "New categorical_feature is ['education', 'marital.status', 'native.country', 'occupation', 'race', 'relationship', 'sex', 'workclass']\n",
      "  _log_warning('categorical_feature in Dataset is overridden.\\n'\n",
      "C:\\Python39\\lib\\site-packages\\lightgbm\\engine.py:239: UserWarning: 'verbose_eval' argument is deprecated and will be removed in a future release of LightGBM. Pass 'log_evaluation()' callback via 'callbacks' argument instead.\n",
      "  _log_warning(\"'verbose_eval' argument is deprecated and will be removed in a future release of LightGBM. \"\n",
      "C:\\Python39\\lib\\site-packages\\lightgbm\\basic.py:1780: UserWarning: Overriding the parameters from Reference Dataset.\n",
      "  _log_warning('Overriding the parameters from Reference Dataset.')\n",
      "C:\\Python39\\lib\\site-packages\\lightgbm\\basic.py:1513: UserWarning: categorical_column in param dict is overridden.\n",
      "  _log_warning(f'{cat_alias} in param dict is overridden.')\n"
     ]
    },
    {
     "name": "stdout",
     "output_type": "stream",
     "text": [
      "[50]\tvalid_0's auc: 0.902675\n",
      "[100]\tvalid_0's auc: 0.904157\n",
      "[150]\tvalid_0's auc: 0.904913\n",
      "[200]\tvalid_0's auc: 0.905562\n",
      "[250]\tvalid_0's auc: 0.906183\n",
      "[300]\tvalid_0's auc: 0.90672\n",
      "[350]\tvalid_0's auc: 0.906962\n",
      "[400]\tvalid_0's auc: 0.907114\n",
      "[450]\tvalid_0's auc: 0.907156\n",
      "[500]\tvalid_0's auc: 0.906783"
     ]
    },
    {
     "name": "stderr",
     "output_type": "stream",
     "text": [
      "regularization_factors, val_score: 0.907258:   5%|#9                                    | 1/20 [00:01<00:23,  1.25s/it]"
     ]
    },
    {
     "name": "stdout",
     "output_type": "stream",
     "text": [
      "\n",
      "Early stopping, best iteration is:\n",
      "[433]\tvalid_0's auc: 0.907258\n",
      "Training until validation scores don't improve for 100 rounds\n"
     ]
    },
    {
     "name": "stderr",
     "output_type": "stream",
     "text": [
      "C:\\Python39\\lib\\site-packages\\lightgbm\\engine.py:181: UserWarning: 'early_stopping_rounds' argument is deprecated and will be removed in a future release of LightGBM. Pass 'early_stopping()' callback via 'callbacks' argument instead.\n",
      "  _log_warning(\"'early_stopping_rounds' argument is deprecated and will be removed in a future release of LightGBM. \"\n",
      "C:\\Python39\\lib\\site-packages\\lightgbm\\basic.py:2068: UserWarning: categorical_feature in Dataset is overridden.\n",
      "New categorical_feature is ['education', 'marital.status', 'native.country', 'occupation', 'race', 'relationship', 'sex', 'workclass']\n",
      "  _log_warning('categorical_feature in Dataset is overridden.\\n'\n",
      "C:\\Python39\\lib\\site-packages\\lightgbm\\engine.py:239: UserWarning: 'verbose_eval' argument is deprecated and will be removed in a future release of LightGBM. Pass 'log_evaluation()' callback via 'callbacks' argument instead.\n",
      "  _log_warning(\"'verbose_eval' argument is deprecated and will be removed in a future release of LightGBM. \"\n",
      "C:\\Python39\\lib\\site-packages\\lightgbm\\basic.py:1780: UserWarning: Overriding the parameters from Reference Dataset.\n",
      "  _log_warning('Overriding the parameters from Reference Dataset.')\n",
      "C:\\Python39\\lib\\site-packages\\lightgbm\\basic.py:1513: UserWarning: categorical_column in param dict is overridden.\n",
      "  _log_warning(f'{cat_alias} in param dict is overridden.')\n"
     ]
    },
    {
     "name": "stdout",
     "output_type": "stream",
     "text": [
      "[50]\tvalid_0's auc: 0.902675\n",
      "[100]\tvalid_0's auc: 0.904165\n",
      "[150]\tvalid_0's auc: 0.904914\n",
      "[200]\tvalid_0's auc: 0.905562\n",
      "[250]\tvalid_0's auc: 0.906244\n",
      "[300]\tvalid_0's auc: 0.906671\n",
      "[350]\tvalid_0's auc: 0.906914\n",
      "[400]\tvalid_0's auc: 0.907025\n",
      "[450]\tvalid_0's auc: 0.907052\n",
      "[500]\tvalid_0's auc: 0.906656\n"
     ]
    },
    {
     "name": "stderr",
     "output_type": "stream",
     "text": [
      "regularization_factors, val_score: 0.907258:  10%|###8                                  | 2/20 [00:02<00:21,  1.20s/it]"
     ]
    },
    {
     "name": "stdout",
     "output_type": "stream",
     "text": [
      "Early stopping, best iteration is:\n",
      "[433]\tvalid_0's auc: 0.907178\n",
      "Training until validation scores don't improve for 100 rounds\n"
     ]
    },
    {
     "name": "stderr",
     "output_type": "stream",
     "text": [
      "C:\\Python39\\lib\\site-packages\\lightgbm\\engine.py:181: UserWarning: 'early_stopping_rounds' argument is deprecated and will be removed in a future release of LightGBM. Pass 'early_stopping()' callback via 'callbacks' argument instead.\n",
      "  _log_warning(\"'early_stopping_rounds' argument is deprecated and will be removed in a future release of LightGBM. \"\n",
      "C:\\Python39\\lib\\site-packages\\lightgbm\\basic.py:2068: UserWarning: categorical_feature in Dataset is overridden.\n",
      "New categorical_feature is ['education', 'marital.status', 'native.country', 'occupation', 'race', 'relationship', 'sex', 'workclass']\n",
      "  _log_warning('categorical_feature in Dataset is overridden.\\n'\n",
      "C:\\Python39\\lib\\site-packages\\lightgbm\\engine.py:239: UserWarning: 'verbose_eval' argument is deprecated and will be removed in a future release of LightGBM. Pass 'log_evaluation()' callback via 'callbacks' argument instead.\n",
      "  _log_warning(\"'verbose_eval' argument is deprecated and will be removed in a future release of LightGBM. \"\n",
      "C:\\Python39\\lib\\site-packages\\lightgbm\\basic.py:1780: UserWarning: Overriding the parameters from Reference Dataset.\n",
      "  _log_warning('Overriding the parameters from Reference Dataset.')\n",
      "C:\\Python39\\lib\\site-packages\\lightgbm\\basic.py:1513: UserWarning: categorical_column in param dict is overridden.\n",
      "  _log_warning(f'{cat_alias} in param dict is overridden.')\n"
     ]
    },
    {
     "name": "stdout",
     "output_type": "stream",
     "text": [
      "[50]\tvalid_0's auc: 0.902675\n",
      "[100]\tvalid_0's auc: 0.904157\n",
      "[150]\tvalid_0's auc: 0.904914\n",
      "[200]\tvalid_0's auc: 0.905562\n",
      "[250]\tvalid_0's auc: 0.906183\n",
      "[300]\tvalid_0's auc: 0.90672\n",
      "[350]\tvalid_0's auc: 0.906962\n",
      "[400]\tvalid_0's auc: 0.907114\n",
      "[450]\tvalid_0's auc: 0.907156\n",
      "[500]\tvalid_0's auc: 0.906783\n"
     ]
    },
    {
     "name": "stderr",
     "output_type": "stream",
     "text": [
      "regularization_factors, val_score: 0.907258:  15%|#####7                                | 3/20 [00:03<00:20,  1.19s/it]"
     ]
    },
    {
     "name": "stdout",
     "output_type": "stream",
     "text": [
      "Early stopping, best iteration is:\n",
      "[433]\tvalid_0's auc: 0.907258\n",
      "Training until validation scores don't improve for 100 rounds\n"
     ]
    },
    {
     "name": "stderr",
     "output_type": "stream",
     "text": [
      "C:\\Python39\\lib\\site-packages\\lightgbm\\engine.py:181: UserWarning: 'early_stopping_rounds' argument is deprecated and will be removed in a future release of LightGBM. Pass 'early_stopping()' callback via 'callbacks' argument instead.\n",
      "  _log_warning(\"'early_stopping_rounds' argument is deprecated and will be removed in a future release of LightGBM. \"\n",
      "C:\\Python39\\lib\\site-packages\\lightgbm\\basic.py:2068: UserWarning: categorical_feature in Dataset is overridden.\n",
      "New categorical_feature is ['education', 'marital.status', 'native.country', 'occupation', 'race', 'relationship', 'sex', 'workclass']\n",
      "  _log_warning('categorical_feature in Dataset is overridden.\\n'\n",
      "C:\\Python39\\lib\\site-packages\\lightgbm\\engine.py:239: UserWarning: 'verbose_eval' argument is deprecated and will be removed in a future release of LightGBM. Pass 'log_evaluation()' callback via 'callbacks' argument instead.\n",
      "  _log_warning(\"'verbose_eval' argument is deprecated and will be removed in a future release of LightGBM. \"\n",
      "C:\\Python39\\lib\\site-packages\\lightgbm\\basic.py:1780: UserWarning: Overriding the parameters from Reference Dataset.\n",
      "  _log_warning('Overriding the parameters from Reference Dataset.')\n",
      "C:\\Python39\\lib\\site-packages\\lightgbm\\basic.py:1513: UserWarning: categorical_column in param dict is overridden.\n",
      "  _log_warning(f'{cat_alias} in param dict is overridden.')\n"
     ]
    },
    {
     "name": "stdout",
     "output_type": "stream",
     "text": [
      "[50]\tvalid_0's auc: 0.902675\n",
      "[100]\tvalid_0's auc: 0.904148\n",
      "[150]\tvalid_0's auc: 0.904923\n",
      "[200]\tvalid_0's auc: 0.905557\n",
      "[250]\tvalid_0's auc: 0.906173\n",
      "[300]\tvalid_0's auc: 0.90672\n",
      "[350]\tvalid_0's auc: 0.90699\n",
      "[400]\tvalid_0's auc: 0.907127\n",
      "[450]\tvalid_0's auc: 0.907036\n",
      "[500]\tvalid_0's auc: 0.906661\n",
      "Early stopping, best iteration is:\n",
      "[430]\tvalid_0's auc: 0.907185\n"
     ]
    },
    {
     "name": "stderr",
     "output_type": "stream",
     "text": [
      "regularization_factors, val_score: 0.907258:  20%|#######6                              | 4/20 [00:04<00:18,  1.15s/it]C:\\Python39\\lib\\site-packages\\lightgbm\\engine.py:181: UserWarning: 'early_stopping_rounds' argument is deprecated and will be removed in a future release of LightGBM. Pass 'early_stopping()' callback via 'callbacks' argument instead.\n",
      "  _log_warning(\"'early_stopping_rounds' argument is deprecated and will be removed in a future release of LightGBM. \"\n",
      "C:\\Python39\\lib\\site-packages\\lightgbm\\basic.py:2068: UserWarning: categorical_feature in Dataset is overridden.\n",
      "New categorical_feature is ['education', 'marital.status', 'native.country', 'occupation', 'race', 'relationship', 'sex', 'workclass']\n",
      "  _log_warning('categorical_feature in Dataset is overridden.\\n'\n",
      "C:\\Python39\\lib\\site-packages\\lightgbm\\engine.py:239: UserWarning: 'verbose_eval' argument is deprecated and will be removed in a future release of LightGBM. Pass 'log_evaluation()' callback via 'callbacks' argument instead.\n",
      "  _log_warning(\"'verbose_eval' argument is deprecated and will be removed in a future release of LightGBM. \"\n",
      "C:\\Python39\\lib\\site-packages\\lightgbm\\basic.py:1780: UserWarning: Overriding the parameters from Reference Dataset.\n",
      "  _log_warning('Overriding the parameters from Reference Dataset.')\n",
      "C:\\Python39\\lib\\site-packages\\lightgbm\\basic.py:1513: UserWarning: categorical_column in param dict is overridden.\n",
      "  _log_warning(f'{cat_alias} in param dict is overridden.')\n"
     ]
    },
    {
     "name": "stdout",
     "output_type": "stream",
     "text": [
      "Training until validation scores don't improve for 100 rounds\n",
      "[50]\tvalid_0's auc: 0.902675\n",
      "[100]\tvalid_0's auc: 0.904157\n",
      "[150]\tvalid_0's auc: 0.904912\n",
      "[200]\tvalid_0's auc: 0.90556\n",
      "[250]\tvalid_0's auc: 0.906182\n",
      "[300]\tvalid_0's auc: 0.906717\n",
      "[350]\tvalid_0's auc: 0.906933\n",
      "[400]\tvalid_0's auc: 0.907114\n",
      "[450]\tvalid_0's auc: 0.907124\n"
     ]
    },
    {
     "name": "stderr",
     "output_type": "stream",
     "text": [
      "regularization_factors, val_score: 0.907270:  25%|#########5                            | 5/20 [00:05<00:17,  1.15s/it]"
     ]
    },
    {
     "name": "stdout",
     "output_type": "stream",
     "text": [
      "[500]\tvalid_0's auc: 0.906785\n",
      "Early stopping, best iteration is:\n",
      "[433]\tvalid_0's auc: 0.90727\n",
      "Training until validation scores don't improve for 100 rounds\n"
     ]
    },
    {
     "name": "stderr",
     "output_type": "stream",
     "text": [
      "C:\\Python39\\lib\\site-packages\\lightgbm\\engine.py:181: UserWarning: 'early_stopping_rounds' argument is deprecated and will be removed in a future release of LightGBM. Pass 'early_stopping()' callback via 'callbacks' argument instead.\n",
      "  _log_warning(\"'early_stopping_rounds' argument is deprecated and will be removed in a future release of LightGBM. \"\n",
      "C:\\Python39\\lib\\site-packages\\lightgbm\\basic.py:2068: UserWarning: categorical_feature in Dataset is overridden.\n",
      "New categorical_feature is ['education', 'marital.status', 'native.country', 'occupation', 'race', 'relationship', 'sex', 'workclass']\n",
      "  _log_warning('categorical_feature in Dataset is overridden.\\n'\n",
      "C:\\Python39\\lib\\site-packages\\lightgbm\\engine.py:239: UserWarning: 'verbose_eval' argument is deprecated and will be removed in a future release of LightGBM. Pass 'log_evaluation()' callback via 'callbacks' argument instead.\n",
      "  _log_warning(\"'verbose_eval' argument is deprecated and will be removed in a future release of LightGBM. \"\n",
      "C:\\Python39\\lib\\site-packages\\lightgbm\\basic.py:1780: UserWarning: Overriding the parameters from Reference Dataset.\n",
      "  _log_warning('Overriding the parameters from Reference Dataset.')\n",
      "C:\\Python39\\lib\\site-packages\\lightgbm\\basic.py:1513: UserWarning: categorical_column in param dict is overridden.\n",
      "  _log_warning(f'{cat_alias} in param dict is overridden.')\n"
     ]
    },
    {
     "name": "stdout",
     "output_type": "stream",
     "text": [
      "[50]\tvalid_0's auc: 0.902679\n",
      "[100]\tvalid_0's auc: 0.904154\n",
      "[150]\tvalid_0's auc: 0.904886\n",
      "[200]\tvalid_0's auc: 0.905557\n",
      "[250]\tvalid_0's auc: 0.906226\n",
      "[300]\tvalid_0's auc: 0.906735\n",
      "[350]\tvalid_0's auc: 0.906956\n",
      "[400]\tvalid_0's auc: 0.907069\n",
      "[450]\tvalid_0's auc: 0.907008\n",
      "[500]\tvalid_0's auc: 0.906755\n"
     ]
    },
    {
     "name": "stderr",
     "output_type": "stream",
     "text": [
      "regularization_factors, val_score: 0.907270:  30%|###########4                          | 6/20 [00:07<00:16,  1.20s/it]"
     ]
    },
    {
     "name": "stdout",
     "output_type": "stream",
     "text": [
      "Early stopping, best iteration is:\n",
      "[430]\tvalid_0's auc: 0.907159\n",
      "Training until validation scores don't improve for 100 rounds\n"
     ]
    },
    {
     "name": "stderr",
     "output_type": "stream",
     "text": [
      "C:\\Python39\\lib\\site-packages\\lightgbm\\engine.py:181: UserWarning: 'early_stopping_rounds' argument is deprecated and will be removed in a future release of LightGBM. Pass 'early_stopping()' callback via 'callbacks' argument instead.\n",
      "  _log_warning(\"'early_stopping_rounds' argument is deprecated and will be removed in a future release of LightGBM. \"\n",
      "C:\\Python39\\lib\\site-packages\\lightgbm\\basic.py:2068: UserWarning: categorical_feature in Dataset is overridden.\n",
      "New categorical_feature is ['education', 'marital.status', 'native.country', 'occupation', 'race', 'relationship', 'sex', 'workclass']\n",
      "  _log_warning('categorical_feature in Dataset is overridden.\\n'\n",
      "C:\\Python39\\lib\\site-packages\\lightgbm\\engine.py:239: UserWarning: 'verbose_eval' argument is deprecated and will be removed in a future release of LightGBM. Pass 'log_evaluation()' callback via 'callbacks' argument instead.\n",
      "  _log_warning(\"'verbose_eval' argument is deprecated and will be removed in a future release of LightGBM. \"\n",
      "C:\\Python39\\lib\\site-packages\\lightgbm\\basic.py:1780: UserWarning: Overriding the parameters from Reference Dataset.\n",
      "  _log_warning('Overriding the parameters from Reference Dataset.')\n",
      "C:\\Python39\\lib\\site-packages\\lightgbm\\basic.py:1513: UserWarning: categorical_column in param dict is overridden.\n",
      "  _log_warning(f'{cat_alias} in param dict is overridden.')\n"
     ]
    },
    {
     "name": "stdout",
     "output_type": "stream",
     "text": [
      "[50]\tvalid_0's auc: 0.902675\n",
      "[100]\tvalid_0's auc: 0.904157\n",
      "[150]\tvalid_0's auc: 0.904914\n",
      "[200]\tvalid_0's auc: 0.905562\n",
      "[250]\tvalid_0's auc: 0.906183\n",
      "[300]\tvalid_0's auc: 0.90672\n",
      "[350]\tvalid_0's auc: 0.906961\n",
      "[400]\tvalid_0's auc: 0.907114\n",
      "[450]\tvalid_0's auc: 0.907156\n",
      "[500]\tvalid_0's auc: 0.906783\n",
      "Early stopping, best iteration is:\n",
      "[433]\tvalid_0's auc: 0.907259\n"
     ]
    },
    {
     "name": "stderr",
     "output_type": "stream",
     "text": [
      "regularization_factors, val_score: 0.907270:  35%|#############3                        | 7/20 [00:08<00:15,  1.19s/it]C:\\Python39\\lib\\site-packages\\lightgbm\\engine.py:181: UserWarning: 'early_stopping_rounds' argument is deprecated and will be removed in a future release of LightGBM. Pass 'early_stopping()' callback via 'callbacks' argument instead.\n",
      "  _log_warning(\"'early_stopping_rounds' argument is deprecated and will be removed in a future release of LightGBM. \"\n",
      "C:\\Python39\\lib\\site-packages\\lightgbm\\basic.py:2068: UserWarning: categorical_feature in Dataset is overridden.\n",
      "New categorical_feature is ['education', 'marital.status', 'native.country', 'occupation', 'race', 'relationship', 'sex', 'workclass']\n",
      "  _log_warning('categorical_feature in Dataset is overridden.\\n'\n",
      "C:\\Python39\\lib\\site-packages\\lightgbm\\engine.py:239: UserWarning: 'verbose_eval' argument is deprecated and will be removed in a future release of LightGBM. Pass 'log_evaluation()' callback via 'callbacks' argument instead.\n",
      "  _log_warning(\"'verbose_eval' argument is deprecated and will be removed in a future release of LightGBM. \"\n",
      "C:\\Python39\\lib\\site-packages\\lightgbm\\basic.py:1780: UserWarning: Overriding the parameters from Reference Dataset.\n",
      "  _log_warning('Overriding the parameters from Reference Dataset.')\n",
      "C:\\Python39\\lib\\site-packages\\lightgbm\\basic.py:1513: UserWarning: categorical_column in param dict is overridden.\n",
      "  _log_warning(f'{cat_alias} in param dict is overridden.')\n"
     ]
    },
    {
     "name": "stdout",
     "output_type": "stream",
     "text": [
      "Training until validation scores don't improve for 100 rounds\n",
      "[50]\tvalid_0's auc: 0.902616\n",
      "[100]\tvalid_0's auc: 0.904063\n",
      "[150]\tvalid_0's auc: 0.904911\n",
      "[200]\tvalid_0's auc: 0.90552\n",
      "[250]\tvalid_0's auc: 0.906212\n",
      "[300]\tvalid_0's auc: 0.906729\n",
      "[350]\tvalid_0's auc: 0.906919\n",
      "[400]\tvalid_0's auc: 0.907094\n"
     ]
    },
    {
     "name": "stderr",
     "output_type": "stream",
     "text": [
      "regularization_factors, val_score: 0.907270:  40%|###############2                      | 8/20 [00:09<00:13,  1.16s/it]"
     ]
    },
    {
     "name": "stdout",
     "output_type": "stream",
     "text": [
      "[450]\tvalid_0's auc: 0.907076\n",
      "Early stopping, best iteration is:\n",
      "[397]\tvalid_0's auc: 0.907142\n",
      "Training until validation scores don't improve for 100 rounds\n"
     ]
    },
    {
     "name": "stderr",
     "output_type": "stream",
     "text": [
      "C:\\Python39\\lib\\site-packages\\lightgbm\\engine.py:181: UserWarning: 'early_stopping_rounds' argument is deprecated and will be removed in a future release of LightGBM. Pass 'early_stopping()' callback via 'callbacks' argument instead.\n",
      "  _log_warning(\"'early_stopping_rounds' argument is deprecated and will be removed in a future release of LightGBM. \"\n",
      "C:\\Python39\\lib\\site-packages\\lightgbm\\basic.py:2068: UserWarning: categorical_feature in Dataset is overridden.\n",
      "New categorical_feature is ['education', 'marital.status', 'native.country', 'occupation', 'race', 'relationship', 'sex', 'workclass']\n",
      "  _log_warning('categorical_feature in Dataset is overridden.\\n'\n",
      "C:\\Python39\\lib\\site-packages\\lightgbm\\engine.py:239: UserWarning: 'verbose_eval' argument is deprecated and will be removed in a future release of LightGBM. Pass 'log_evaluation()' callback via 'callbacks' argument instead.\n",
      "  _log_warning(\"'verbose_eval' argument is deprecated and will be removed in a future release of LightGBM. \"\n",
      "C:\\Python39\\lib\\site-packages\\lightgbm\\basic.py:1780: UserWarning: Overriding the parameters from Reference Dataset.\n",
      "  _log_warning('Overriding the parameters from Reference Dataset.')\n",
      "C:\\Python39\\lib\\site-packages\\lightgbm\\basic.py:1513: UserWarning: categorical_column in param dict is overridden.\n",
      "  _log_warning(f'{cat_alias} in param dict is overridden.')\n"
     ]
    },
    {
     "name": "stdout",
     "output_type": "stream",
     "text": [
      "[50]\tvalid_0's auc: 0.902892\n",
      "[100]\tvalid_0's auc: 0.904284\n",
      "[150]\tvalid_0's auc: 0.905097\n",
      "[200]\tvalid_0's auc: 0.905626\n",
      "[250]\tvalid_0's auc: 0.906337\n",
      "[300]\tvalid_0's auc: 0.906779\n",
      "[350]\tvalid_0's auc: 0.906857\n",
      "[400]\tvalid_0's auc: 0.906928\n",
      "[450]\tvalid_0's auc: 0.906972\n",
      "[500]\tvalid_0's auc: 0.906653\n",
      "Early stopping, best iteration is:\n",
      "[433]\tvalid_0's auc: 0.907048\n"
     ]
    },
    {
     "name": "stderr",
     "output_type": "stream",
     "text": [
      "regularization_factors, val_score: 0.907270:  45%|#################1                    | 9/20 [00:10<00:12,  1.17s/it]C:\\Python39\\lib\\site-packages\\lightgbm\\engine.py:181: UserWarning: 'early_stopping_rounds' argument is deprecated and will be removed in a future release of LightGBM. Pass 'early_stopping()' callback via 'callbacks' argument instead.\n",
      "  _log_warning(\"'early_stopping_rounds' argument is deprecated and will be removed in a future release of LightGBM. \"\n",
      "C:\\Python39\\lib\\site-packages\\lightgbm\\basic.py:2068: UserWarning: categorical_feature in Dataset is overridden.\n",
      "New categorical_feature is ['education', 'marital.status', 'native.country', 'occupation', 'race', 'relationship', 'sex', 'workclass']\n",
      "  _log_warning('categorical_feature in Dataset is overridden.\\n'\n",
      "C:\\Python39\\lib\\site-packages\\lightgbm\\engine.py:239: UserWarning: 'verbose_eval' argument is deprecated and will be removed in a future release of LightGBM. Pass 'log_evaluation()' callback via 'callbacks' argument instead.\n",
      "  _log_warning(\"'verbose_eval' argument is deprecated and will be removed in a future release of LightGBM. \"\n",
      "C:\\Python39\\lib\\site-packages\\lightgbm\\basic.py:1780: UserWarning: Overriding the parameters from Reference Dataset.\n",
      "  _log_warning('Overriding the parameters from Reference Dataset.')\n",
      "C:\\Python39\\lib\\site-packages\\lightgbm\\basic.py:1513: UserWarning: categorical_column in param dict is overridden.\n",
      "  _log_warning(f'{cat_alias} in param dict is overridden.')\n"
     ]
    },
    {
     "name": "stdout",
     "output_type": "stream",
     "text": [
      "Training until validation scores don't improve for 100 rounds\n",
      "[50]\tvalid_0's auc: 0.902939\n",
      "[100]\tvalid_0's auc: 0.904291\n",
      "[150]\tvalid_0's auc: 0.905105\n",
      "[200]\tvalid_0's auc: 0.905619\n",
      "[250]\tvalid_0's auc: 0.906307\n",
      "[300]\tvalid_0's auc: 0.906777\n",
      "[350]\tvalid_0's auc: 0.906954\n",
      "[400]\tvalid_0's auc: 0.907095\n",
      "[450]\tvalid_0's auc: 0.907077\n",
      "[500]\tvalid_0's auc: 0.906734\n",
      "Early stopping, best iteration is:\n",
      "[432]\tvalid_0's auc: 0.907185\n"
     ]
    },
    {
     "name": "stderr",
     "output_type": "stream",
     "text": [
      "regularization_factors, val_score: 0.907270:  50%|##################5                  | 10/20 [00:11<00:11,  1.17s/it]C:\\Python39\\lib\\site-packages\\lightgbm\\engine.py:181: UserWarning: 'early_stopping_rounds' argument is deprecated and will be removed in a future release of LightGBM. Pass 'early_stopping()' callback via 'callbacks' argument instead.\n",
      "  _log_warning(\"'early_stopping_rounds' argument is deprecated and will be removed in a future release of LightGBM. \"\n",
      "C:\\Python39\\lib\\site-packages\\lightgbm\\basic.py:2068: UserWarning: categorical_feature in Dataset is overridden.\n",
      "New categorical_feature is ['education', 'marital.status', 'native.country', 'occupation', 'race', 'relationship', 'sex', 'workclass']\n",
      "  _log_warning('categorical_feature in Dataset is overridden.\\n'\n",
      "C:\\Python39\\lib\\site-packages\\lightgbm\\engine.py:239: UserWarning: 'verbose_eval' argument is deprecated and will be removed in a future release of LightGBM. Pass 'log_evaluation()' callback via 'callbacks' argument instead.\n",
      "  _log_warning(\"'verbose_eval' argument is deprecated and will be removed in a future release of LightGBM. \"\n",
      "C:\\Python39\\lib\\site-packages\\lightgbm\\basic.py:1780: UserWarning: Overriding the parameters from Reference Dataset.\n",
      "  _log_warning('Overriding the parameters from Reference Dataset.')\n",
      "C:\\Python39\\lib\\site-packages\\lightgbm\\basic.py:1513: UserWarning: categorical_column in param dict is overridden.\n",
      "  _log_warning(f'{cat_alias} in param dict is overridden.')\n"
     ]
    },
    {
     "name": "stdout",
     "output_type": "stream",
     "text": [
      "Training until validation scores don't improve for 100 rounds\n",
      "[50]\tvalid_0's auc: 0.902675\n",
      "[100]\tvalid_0's auc: 0.904157\n",
      "[150]\tvalid_0's auc: 0.904914\n",
      "[200]\tvalid_0's auc: 0.905561\n",
      "[250]\tvalid_0's auc: 0.906183\n",
      "[300]\tvalid_0's auc: 0.90672\n",
      "[350]\tvalid_0's auc: 0.906926\n",
      "[400]\tvalid_0's auc: 0.907112\n",
      "[450]\tvalid_0's auc: 0.907068\n",
      "[500]\tvalid_0's auc: 0.906773\n",
      "Early stopping, best iteration is:\n",
      "[430]\tvalid_0's auc: 0.907223\n"
     ]
    },
    {
     "name": "stderr",
     "output_type": "stream",
     "text": [
      "regularization_factors, val_score: 0.907270:  55%|####################3                | 11/20 [00:12<00:10,  1.16s/it]C:\\Python39\\lib\\site-packages\\lightgbm\\engine.py:181: UserWarning: 'early_stopping_rounds' argument is deprecated and will be removed in a future release of LightGBM. Pass 'early_stopping()' callback via 'callbacks' argument instead.\n",
      "  _log_warning(\"'early_stopping_rounds' argument is deprecated and will be removed in a future release of LightGBM. \"\n",
      "C:\\Python39\\lib\\site-packages\\lightgbm\\basic.py:2068: UserWarning: categorical_feature in Dataset is overridden.\n",
      "New categorical_feature is ['education', 'marital.status', 'native.country', 'occupation', 'race', 'relationship', 'sex', 'workclass']\n",
      "  _log_warning('categorical_feature in Dataset is overridden.\\n'\n",
      "C:\\Python39\\lib\\site-packages\\lightgbm\\engine.py:239: UserWarning: 'verbose_eval' argument is deprecated and will be removed in a future release of LightGBM. Pass 'log_evaluation()' callback via 'callbacks' argument instead.\n",
      "  _log_warning(\"'verbose_eval' argument is deprecated and will be removed in a future release of LightGBM. \"\n",
      "C:\\Python39\\lib\\site-packages\\lightgbm\\basic.py:1780: UserWarning: Overriding the parameters from Reference Dataset.\n",
      "  _log_warning('Overriding the parameters from Reference Dataset.')\n",
      "C:\\Python39\\lib\\site-packages\\lightgbm\\basic.py:1513: UserWarning: categorical_column in param dict is overridden.\n",
      "  _log_warning(f'{cat_alias} in param dict is overridden.')\n"
     ]
    },
    {
     "name": "stdout",
     "output_type": "stream",
     "text": [
      "Training until validation scores don't improve for 100 rounds\n",
      "[50]\tvalid_0's auc: 0.902675\n",
      "[100]\tvalid_0's auc: 0.904157\n",
      "[150]\tvalid_0's auc: 0.904912\n",
      "[200]\tvalid_0's auc: 0.90556\n",
      "[250]\tvalid_0's auc: 0.906182\n",
      "[300]\tvalid_0's auc: 0.906717\n",
      "[350]\tvalid_0's auc: 0.906933\n",
      "[400]\tvalid_0's auc: 0.907114\n",
      "[450]\tvalid_0's auc: 0.907124\n"
     ]
    },
    {
     "name": "stderr",
     "output_type": "stream",
     "text": [
      "regularization_factors, val_score: 0.907270:  60%|######################2              | 12/20 [00:14<00:09,  1.19s/it]"
     ]
    },
    {
     "name": "stdout",
     "output_type": "stream",
     "text": [
      "[500]\tvalid_0's auc: 0.906785\n",
      "Early stopping, best iteration is:\n",
      "[433]\tvalid_0's auc: 0.90727\n",
      "Training until validation scores don't improve for 100 rounds\n"
     ]
    },
    {
     "name": "stderr",
     "output_type": "stream",
     "text": [
      "C:\\Python39\\lib\\site-packages\\lightgbm\\engine.py:181: UserWarning: 'early_stopping_rounds' argument is deprecated and will be removed in a future release of LightGBM. Pass 'early_stopping()' callback via 'callbacks' argument instead.\n",
      "  _log_warning(\"'early_stopping_rounds' argument is deprecated and will be removed in a future release of LightGBM. \"\n",
      "C:\\Python39\\lib\\site-packages\\lightgbm\\basic.py:2068: UserWarning: categorical_feature in Dataset is overridden.\n",
      "New categorical_feature is ['education', 'marital.status', 'native.country', 'occupation', 'race', 'relationship', 'sex', 'workclass']\n",
      "  _log_warning('categorical_feature in Dataset is overridden.\\n'\n",
      "C:\\Python39\\lib\\site-packages\\lightgbm\\engine.py:239: UserWarning: 'verbose_eval' argument is deprecated and will be removed in a future release of LightGBM. Pass 'log_evaluation()' callback via 'callbacks' argument instead.\n",
      "  _log_warning(\"'verbose_eval' argument is deprecated and will be removed in a future release of LightGBM. \"\n",
      "C:\\Python39\\lib\\site-packages\\lightgbm\\basic.py:1780: UserWarning: Overriding the parameters from Reference Dataset.\n",
      "  _log_warning('Overriding the parameters from Reference Dataset.')\n",
      "C:\\Python39\\lib\\site-packages\\lightgbm\\basic.py:1513: UserWarning: categorical_column in param dict is overridden.\n",
      "  _log_warning(f'{cat_alias} in param dict is overridden.')\n"
     ]
    },
    {
     "name": "stdout",
     "output_type": "stream",
     "text": [
      "[50]\tvalid_0's auc: 0.902675\n",
      "[100]\tvalid_0's auc: 0.904157\n",
      "[150]\tvalid_0's auc: 0.904912\n",
      "[200]\tvalid_0's auc: 0.90556\n",
      "[250]\tvalid_0's auc: 0.906182\n",
      "[300]\tvalid_0's auc: 0.906717\n",
      "[350]\tvalid_0's auc: 0.906933\n",
      "[400]\tvalid_0's auc: 0.907114\n"
     ]
    },
    {
     "name": "stderr",
     "output_type": "stream",
     "text": [
      "regularization_factors, val_score: 0.907270:  60%|######################2              | 12/20 [00:15<00:09,  1.19s/it]"
     ]
    },
    {
     "name": "stdout",
     "output_type": "stream",
     "text": [
      "[450]\tvalid_0's auc: 0.907124\n",
      "[500]\tvalid_0's auc: 0.906785\n",
      "Early stopping, best iteration is:\n",
      "[433]\tvalid_0's auc: 0.90727\n"
     ]
    },
    {
     "name": "stderr",
     "output_type": "stream",
     "text": [
      "regularization_factors, val_score: 0.907270:  65%|########################             | 13/20 [00:15<00:08,  1.21s/it]C:\\Python39\\lib\\site-packages\\lightgbm\\engine.py:181: UserWarning: 'early_stopping_rounds' argument is deprecated and will be removed in a future release of LightGBM. Pass 'early_stopping()' callback via 'callbacks' argument instead.\n",
      "  _log_warning(\"'early_stopping_rounds' argument is deprecated and will be removed in a future release of LightGBM. \"\n",
      "C:\\Python39\\lib\\site-packages\\lightgbm\\basic.py:2068: UserWarning: categorical_feature in Dataset is overridden.\n",
      "New categorical_feature is ['education', 'marital.status', 'native.country', 'occupation', 'race', 'relationship', 'sex', 'workclass']\n",
      "  _log_warning('categorical_feature in Dataset is overridden.\\n'\n",
      "C:\\Python39\\lib\\site-packages\\lightgbm\\engine.py:239: UserWarning: 'verbose_eval' argument is deprecated and will be removed in a future release of LightGBM. Pass 'log_evaluation()' callback via 'callbacks' argument instead.\n",
      "  _log_warning(\"'verbose_eval' argument is deprecated and will be removed in a future release of LightGBM. \"\n",
      "C:\\Python39\\lib\\site-packages\\lightgbm\\basic.py:1780: UserWarning: Overriding the parameters from Reference Dataset.\n",
      "  _log_warning('Overriding the parameters from Reference Dataset.')\n",
      "C:\\Python39\\lib\\site-packages\\lightgbm\\basic.py:1513: UserWarning: categorical_column in param dict is overridden.\n",
      "  _log_warning(f'{cat_alias} in param dict is overridden.')\n"
     ]
    },
    {
     "name": "stdout",
     "output_type": "stream",
     "text": [
      "Training until validation scores don't improve for 100 rounds\n",
      "[50]\tvalid_0's auc: 0.902675\n",
      "[100]\tvalid_0's auc: 0.904157\n",
      "[150]\tvalid_0's auc: 0.904912\n",
      "[200]\tvalid_0's auc: 0.90556\n",
      "[250]\tvalid_0's auc: 0.906182\n",
      "[300]\tvalid_0's auc: 0.906717\n",
      "[350]\tvalid_0's auc: 0.906933\n",
      "[400]\tvalid_0's auc: 0.907114\n",
      "[450]\tvalid_0's auc: 0.907124\n"
     ]
    },
    {
     "name": "stderr",
     "output_type": "stream",
     "text": [
      "regularization_factors, val_score: 0.907270:  70%|#########################9           | 14/20 [00:16<00:07,  1.21s/it]"
     ]
    },
    {
     "name": "stdout",
     "output_type": "stream",
     "text": [
      "[500]\tvalid_0's auc: 0.906785\n",
      "Early stopping, best iteration is:\n",
      "[433]\tvalid_0's auc: 0.90727\n",
      "Training until validation scores don't improve for 100 rounds\n"
     ]
    },
    {
     "name": "stderr",
     "output_type": "stream",
     "text": [
      "C:\\Python39\\lib\\site-packages\\lightgbm\\engine.py:181: UserWarning: 'early_stopping_rounds' argument is deprecated and will be removed in a future release of LightGBM. Pass 'early_stopping()' callback via 'callbacks' argument instead.\n",
      "  _log_warning(\"'early_stopping_rounds' argument is deprecated and will be removed in a future release of LightGBM. \"\n",
      "C:\\Python39\\lib\\site-packages\\lightgbm\\basic.py:2068: UserWarning: categorical_feature in Dataset is overridden.\n",
      "New categorical_feature is ['education', 'marital.status', 'native.country', 'occupation', 'race', 'relationship', 'sex', 'workclass']\n",
      "  _log_warning('categorical_feature in Dataset is overridden.\\n'\n",
      "C:\\Python39\\lib\\site-packages\\lightgbm\\engine.py:239: UserWarning: 'verbose_eval' argument is deprecated and will be removed in a future release of LightGBM. Pass 'log_evaluation()' callback via 'callbacks' argument instead.\n",
      "  _log_warning(\"'verbose_eval' argument is deprecated and will be removed in a future release of LightGBM. \"\n",
      "C:\\Python39\\lib\\site-packages\\lightgbm\\basic.py:1780: UserWarning: Overriding the parameters from Reference Dataset.\n",
      "  _log_warning('Overriding the parameters from Reference Dataset.')\n",
      "C:\\Python39\\lib\\site-packages\\lightgbm\\basic.py:1513: UserWarning: categorical_column in param dict is overridden.\n",
      "  _log_warning(f'{cat_alias} in param dict is overridden.')\n"
     ]
    },
    {
     "name": "stdout",
     "output_type": "stream",
     "text": [
      "[50]\tvalid_0's auc: 0.902292\n",
      "[100]\tvalid_0's auc: 0.903511\n",
      "[150]\tvalid_0's auc: 0.9043\n",
      "[200]\tvalid_0's auc: 0.905001\n",
      "[250]\tvalid_0's auc: 0.905779\n",
      "[300]\tvalid_0's auc: 0.906322\n",
      "[350]\tvalid_0's auc: 0.906557\n",
      "[400]\tvalid_0's auc: 0.906675\n",
      "[450]\tvalid_0's auc: 0.906764\n",
      "[500]\tvalid_0's auc: 0.906643\n",
      "Early stopping, best iteration is:\n",
      "[430]\tvalid_0's auc: 0.906871\n"
     ]
    },
    {
     "name": "stderr",
     "output_type": "stream",
     "text": [
      "regularization_factors, val_score: 0.907270:  75%|###########################7         | 15/20 [00:17<00:06,  1.20s/it]C:\\Python39\\lib\\site-packages\\lightgbm\\engine.py:181: UserWarning: 'early_stopping_rounds' argument is deprecated and will be removed in a future release of LightGBM. Pass 'early_stopping()' callback via 'callbacks' argument instead.\n",
      "  _log_warning(\"'early_stopping_rounds' argument is deprecated and will be removed in a future release of LightGBM. \"\n",
      "C:\\Python39\\lib\\site-packages\\lightgbm\\basic.py:2068: UserWarning: categorical_feature in Dataset is overridden.\n",
      "New categorical_feature is ['education', 'marital.status', 'native.country', 'occupation', 'race', 'relationship', 'sex', 'workclass']\n",
      "  _log_warning('categorical_feature in Dataset is overridden.\\n'\n",
      "C:\\Python39\\lib\\site-packages\\lightgbm\\engine.py:239: UserWarning: 'verbose_eval' argument is deprecated and will be removed in a future release of LightGBM. Pass 'log_evaluation()' callback via 'callbacks' argument instead.\n",
      "  _log_warning(\"'verbose_eval' argument is deprecated and will be removed in a future release of LightGBM. \"\n",
      "C:\\Python39\\lib\\site-packages\\lightgbm\\basic.py:1780: UserWarning: Overriding the parameters from Reference Dataset.\n",
      "  _log_warning('Overriding the parameters from Reference Dataset.')\n",
      "C:\\Python39\\lib\\site-packages\\lightgbm\\basic.py:1513: UserWarning: categorical_column in param dict is overridden.\n",
      "  _log_warning(f'{cat_alias} in param dict is overridden.')\n"
     ]
    },
    {
     "name": "stdout",
     "output_type": "stream",
     "text": [
      "Training until validation scores don't improve for 100 rounds\n",
      "[50]\tvalid_0's auc: 0.902675\n",
      "[100]\tvalid_0's auc: 0.904157\n",
      "[150]\tvalid_0's auc: 0.904912\n",
      "[200]\tvalid_0's auc: 0.90556\n",
      "[250]\tvalid_0's auc: 0.906182\n",
      "[300]\tvalid_0's auc: 0.906717\n",
      "[350]\tvalid_0's auc: 0.906933\n",
      "[400]\tvalid_0's auc: 0.907114\n",
      "[450]\tvalid_0's auc: 0.907124\n"
     ]
    },
    {
     "name": "stderr",
     "output_type": "stream",
     "text": [
      "regularization_factors, val_score: 0.907270:  80%|#############################6       | 16/20 [00:18<00:04,  1.20s/it]"
     ]
    },
    {
     "name": "stdout",
     "output_type": "stream",
     "text": [
      "[500]\tvalid_0's auc: 0.906785\n",
      "Early stopping, best iteration is:\n",
      "[433]\tvalid_0's auc: 0.90727\n",
      "Training until validation scores don't improve for 100 rounds\n"
     ]
    },
    {
     "name": "stderr",
     "output_type": "stream",
     "text": [
      "C:\\Python39\\lib\\site-packages\\lightgbm\\engine.py:181: UserWarning: 'early_stopping_rounds' argument is deprecated and will be removed in a future release of LightGBM. Pass 'early_stopping()' callback via 'callbacks' argument instead.\n",
      "  _log_warning(\"'early_stopping_rounds' argument is deprecated and will be removed in a future release of LightGBM. \"\n",
      "C:\\Python39\\lib\\site-packages\\lightgbm\\basic.py:2068: UserWarning: categorical_feature in Dataset is overridden.\n",
      "New categorical_feature is ['education', 'marital.status', 'native.country', 'occupation', 'race', 'relationship', 'sex', 'workclass']\n",
      "  _log_warning('categorical_feature in Dataset is overridden.\\n'\n",
      "C:\\Python39\\lib\\site-packages\\lightgbm\\engine.py:239: UserWarning: 'verbose_eval' argument is deprecated and will be removed in a future release of LightGBM. Pass 'log_evaluation()' callback via 'callbacks' argument instead.\n",
      "  _log_warning(\"'verbose_eval' argument is deprecated and will be removed in a future release of LightGBM. \"\n",
      "C:\\Python39\\lib\\site-packages\\lightgbm\\basic.py:1780: UserWarning: Overriding the parameters from Reference Dataset.\n",
      "  _log_warning('Overriding the parameters from Reference Dataset.')\n",
      "C:\\Python39\\lib\\site-packages\\lightgbm\\basic.py:1513: UserWarning: categorical_column in param dict is overridden.\n",
      "  _log_warning(f'{cat_alias} in param dict is overridden.')\n"
     ]
    },
    {
     "name": "stdout",
     "output_type": "stream",
     "text": [
      "[50]\tvalid_0's auc: 0.902675\n",
      "[100]\tvalid_0's auc: 0.904157\n",
      "[150]\tvalid_0's auc: 0.904912\n",
      "[200]\tvalid_0's auc: 0.90556\n",
      "[250]\tvalid_0's auc: 0.906182\n",
      "[300]\tvalid_0's auc: 0.906717\n",
      "[350]\tvalid_0's auc: 0.906933\n",
      "[400]\tvalid_0's auc: 0.907114\n",
      "[450]\tvalid_0's auc: 0.907124\n",
      "[500]\tvalid_0's auc: 0.906785\n",
      "Early stopping, best iteration is:\n",
      "[433]\tvalid_0's auc: 0.90727\n"
     ]
    },
    {
     "name": "stderr",
     "output_type": "stream",
     "text": [
      "regularization_factors, val_score: 0.907270:  85%|###############################4     | 17/20 [00:20<00:03,  1.22s/it]C:\\Python39\\lib\\site-packages\\lightgbm\\engine.py:181: UserWarning: 'early_stopping_rounds' argument is deprecated and will be removed in a future release of LightGBM. Pass 'early_stopping()' callback via 'callbacks' argument instead.\n",
      "  _log_warning(\"'early_stopping_rounds' argument is deprecated and will be removed in a future release of LightGBM. \"\n",
      "C:\\Python39\\lib\\site-packages\\lightgbm\\basic.py:2068: UserWarning: categorical_feature in Dataset is overridden.\n",
      "New categorical_feature is ['education', 'marital.status', 'native.country', 'occupation', 'race', 'relationship', 'sex', 'workclass']\n",
      "  _log_warning('categorical_feature in Dataset is overridden.\\n'\n",
      "C:\\Python39\\lib\\site-packages\\lightgbm\\engine.py:239: UserWarning: 'verbose_eval' argument is deprecated and will be removed in a future release of LightGBM. Pass 'log_evaluation()' callback via 'callbacks' argument instead.\n",
      "  _log_warning(\"'verbose_eval' argument is deprecated and will be removed in a future release of LightGBM. \"\n",
      "C:\\Python39\\lib\\site-packages\\lightgbm\\basic.py:1780: UserWarning: Overriding the parameters from Reference Dataset.\n",
      "  _log_warning('Overriding the parameters from Reference Dataset.')\n",
      "C:\\Python39\\lib\\site-packages\\lightgbm\\basic.py:1513: UserWarning: categorical_column in param dict is overridden.\n",
      "  _log_warning(f'{cat_alias} in param dict is overridden.')\n"
     ]
    },
    {
     "name": "stdout",
     "output_type": "stream",
     "text": [
      "Training until validation scores don't improve for 100 rounds\n",
      "[50]\tvalid_0's auc: 0.902675\n",
      "[100]\tvalid_0's auc: 0.904157\n",
      "[150]\tvalid_0's auc: 0.904912\n",
      "[200]\tvalid_0's auc: 0.90556\n",
      "[250]\tvalid_0's auc: 0.906182\n",
      "[300]\tvalid_0's auc: 0.906717\n",
      "[350]\tvalid_0's auc: 0.906933\n",
      "[400]\tvalid_0's auc: 0.907114\n",
      "[450]\tvalid_0's auc: 0.907124\n",
      "[500]\tvalid_0's auc: 0.906785\n",
      "Early stopping, best iteration is:\n",
      "[433]\tvalid_0's auc: 0.90727\n"
     ]
    },
    {
     "name": "stderr",
     "output_type": "stream",
     "text": [
      "regularization_factors, val_score: 0.907270:  90%|#################################3   | 18/20 [00:21<00:02,  1.21s/it]C:\\Python39\\lib\\site-packages\\lightgbm\\engine.py:181: UserWarning: 'early_stopping_rounds' argument is deprecated and will be removed in a future release of LightGBM. Pass 'early_stopping()' callback via 'callbacks' argument instead.\n",
      "  _log_warning(\"'early_stopping_rounds' argument is deprecated and will be removed in a future release of LightGBM. \"\n",
      "C:\\Python39\\lib\\site-packages\\lightgbm\\basic.py:2068: UserWarning: categorical_feature in Dataset is overridden.\n",
      "New categorical_feature is ['education', 'marital.status', 'native.country', 'occupation', 'race', 'relationship', 'sex', 'workclass']\n",
      "  _log_warning('categorical_feature in Dataset is overridden.\\n'\n",
      "C:\\Python39\\lib\\site-packages\\lightgbm\\engine.py:239: UserWarning: 'verbose_eval' argument is deprecated and will be removed in a future release of LightGBM. Pass 'log_evaluation()' callback via 'callbacks' argument instead.\n",
      "  _log_warning(\"'verbose_eval' argument is deprecated and will be removed in a future release of LightGBM. \"\n",
      "C:\\Python39\\lib\\site-packages\\lightgbm\\basic.py:1780: UserWarning: Overriding the parameters from Reference Dataset.\n",
      "  _log_warning('Overriding the parameters from Reference Dataset.')\n",
      "C:\\Python39\\lib\\site-packages\\lightgbm\\basic.py:1513: UserWarning: categorical_column in param dict is overridden.\n",
      "  _log_warning(f'{cat_alias} in param dict is overridden.')\n"
     ]
    },
    {
     "name": "stdout",
     "output_type": "stream",
     "text": [
      "Training until validation scores don't improve for 100 rounds\n",
      "[50]\tvalid_0's auc: 0.902675\n",
      "[100]\tvalid_0's auc: 0.904157\n",
      "[150]\tvalid_0's auc: 0.904912\n",
      "[200]\tvalid_0's auc: 0.90556\n",
      "[250]\tvalid_0's auc: 0.906182\n",
      "[300]\tvalid_0's auc: 0.906717\n",
      "[350]\tvalid_0's auc: 0.906933\n",
      "[400]\tvalid_0's auc: 0.907114\n",
      "[450]\tvalid_0's auc: 0.907124\n"
     ]
    },
    {
     "name": "stderr",
     "output_type": "stream",
     "text": [
      "regularization_factors, val_score: 0.907270:  95%|###################################1 | 19/20 [00:22<00:01,  1.20s/it]"
     ]
    },
    {
     "name": "stdout",
     "output_type": "stream",
     "text": [
      "[500]\tvalid_0's auc: 0.906785\n",
      "Early stopping, best iteration is:\n",
      "[433]\tvalid_0's auc: 0.90727\n",
      "Training until validation scores don't improve for 100 rounds\n"
     ]
    },
    {
     "name": "stderr",
     "output_type": "stream",
     "text": [
      "C:\\Python39\\lib\\site-packages\\lightgbm\\engine.py:181: UserWarning: 'early_stopping_rounds' argument is deprecated and will be removed in a future release of LightGBM. Pass 'early_stopping()' callback via 'callbacks' argument instead.\n",
      "  _log_warning(\"'early_stopping_rounds' argument is deprecated and will be removed in a future release of LightGBM. \"\n",
      "C:\\Python39\\lib\\site-packages\\lightgbm\\basic.py:2068: UserWarning: categorical_feature in Dataset is overridden.\n",
      "New categorical_feature is ['education', 'marital.status', 'native.country', 'occupation', 'race', 'relationship', 'sex', 'workclass']\n",
      "  _log_warning('categorical_feature in Dataset is overridden.\\n'\n",
      "C:\\Python39\\lib\\site-packages\\lightgbm\\engine.py:239: UserWarning: 'verbose_eval' argument is deprecated and will be removed in a future release of LightGBM. Pass 'log_evaluation()' callback via 'callbacks' argument instead.\n",
      "  _log_warning(\"'verbose_eval' argument is deprecated and will be removed in a future release of LightGBM. \"\n",
      "C:\\Python39\\lib\\site-packages\\lightgbm\\basic.py:1780: UserWarning: Overriding the parameters from Reference Dataset.\n",
      "  _log_warning('Overriding the parameters from Reference Dataset.')\n",
      "C:\\Python39\\lib\\site-packages\\lightgbm\\basic.py:1513: UserWarning: categorical_column in param dict is overridden.\n",
      "  _log_warning(f'{cat_alias} in param dict is overridden.')\n"
     ]
    },
    {
     "name": "stdout",
     "output_type": "stream",
     "text": [
      "[50]\tvalid_0's auc: 0.902675\n",
      "[100]\tvalid_0's auc: 0.904157\n",
      "[150]\tvalid_0's auc: 0.904912\n",
      "[200]\tvalid_0's auc: 0.90556\n",
      "[250]\tvalid_0's auc: 0.906182\n",
      "[300]\tvalid_0's auc: 0.906717\n",
      "[350]\tvalid_0's auc: 0.906933\n",
      "[400]\tvalid_0's auc: 0.907114\n",
      "[450]\tvalid_0's auc: 0.907124\n",
      "[500]\tvalid_0's auc: 0.906785\n"
     ]
    },
    {
     "name": "stderr",
     "output_type": "stream",
     "text": [
      "regularization_factors, val_score: 0.907270: 100%|#####################################| 20/20 [00:24<00:00,  1.20s/it]\n"
     ]
    },
    {
     "name": "stdout",
     "output_type": "stream",
     "text": [
      "Early stopping, best iteration is:\n",
      "[433]\tvalid_0's auc: 0.90727\n"
     ]
    },
    {
     "name": "stderr",
     "output_type": "stream",
     "text": [
      "min_data_in_leaf, val_score: 0.907270:   0%|                                                     | 0/5 [00:00<?, ?it/s]"
     ]
    },
    {
     "name": "stdout",
     "output_type": "stream",
     "text": [
      "Training until validation scores don't improve for 100 rounds\n"
     ]
    },
    {
     "name": "stderr",
     "output_type": "stream",
     "text": [
      "C:\\Python39\\lib\\site-packages\\lightgbm\\engine.py:181: UserWarning: 'early_stopping_rounds' argument is deprecated and will be removed in a future release of LightGBM. Pass 'early_stopping()' callback via 'callbacks' argument instead.\n",
      "  _log_warning(\"'early_stopping_rounds' argument is deprecated and will be removed in a future release of LightGBM. \"\n",
      "C:\\Python39\\lib\\site-packages\\lightgbm\\basic.py:2068: UserWarning: categorical_feature in Dataset is overridden.\n",
      "New categorical_feature is ['education', 'marital.status', 'native.country', 'occupation', 'race', 'relationship', 'sex', 'workclass']\n",
      "  _log_warning('categorical_feature in Dataset is overridden.\\n'\n",
      "C:\\Python39\\lib\\site-packages\\lightgbm\\engine.py:239: UserWarning: 'verbose_eval' argument is deprecated and will be removed in a future release of LightGBM. Pass 'log_evaluation()' callback via 'callbacks' argument instead.\n",
      "  _log_warning(\"'verbose_eval' argument is deprecated and will be removed in a future release of LightGBM. \"\n",
      "C:\\Python39\\lib\\site-packages\\lightgbm\\basic.py:1780: UserWarning: Overriding the parameters from Reference Dataset.\n",
      "  _log_warning('Overriding the parameters from Reference Dataset.')\n",
      "C:\\Python39\\lib\\site-packages\\lightgbm\\basic.py:1513: UserWarning: categorical_column in param dict is overridden.\n",
      "  _log_warning(f'{cat_alias} in param dict is overridden.')\n"
     ]
    },
    {
     "name": "stdout",
     "output_type": "stream",
     "text": [
      "[50]\tvalid_0's auc: 0.902372\n",
      "[100]\tvalid_0's auc: 0.903807\n",
      "[150]\tvalid_0's auc: 0.904811\n",
      "[200]\tvalid_0's auc: 0.905521\n",
      "[250]\tvalid_0's auc: 0.906184\n",
      "[300]\tvalid_0's auc: 0.906751\n",
      "[350]\tvalid_0's auc: 0.90677\n",
      "[400]\tvalid_0's auc: 0.906824\n",
      "[450]\tvalid_0's auc: 0.906703\n",
      "[500]\tvalid_0's auc: 0.906407\n",
      "Early stopping, best iteration is:\n",
      "[430]\tvalid_0's auc: 0.906892\n"
     ]
    },
    {
     "name": "stderr",
     "output_type": "stream",
     "text": [
      "min_data_in_leaf, val_score: 0.907270:  20%|#########                                    | 1/5 [00:01<00:04,  1.24s/it]"
     ]
    },
    {
     "name": "stdout",
     "output_type": "stream",
     "text": [
      "Training until validation scores don't improve for 100 rounds\n",
      "[50]\tvalid_0's auc: 0.902317\n"
     ]
    },
    {
     "name": "stderr",
     "output_type": "stream",
     "text": [
      "C:\\Python39\\lib\\site-packages\\lightgbm\\engine.py:181: UserWarning: 'early_stopping_rounds' argument is deprecated and will be removed in a future release of LightGBM. Pass 'early_stopping()' callback via 'callbacks' argument instead.\n",
      "  _log_warning(\"'early_stopping_rounds' argument is deprecated and will be removed in a future release of LightGBM. \"\n",
      "C:\\Python39\\lib\\site-packages\\lightgbm\\basic.py:2068: UserWarning: categorical_feature in Dataset is overridden.\n",
      "New categorical_feature is ['education', 'marital.status', 'native.country', 'occupation', 'race', 'relationship', 'sex', 'workclass']\n",
      "  _log_warning('categorical_feature in Dataset is overridden.\\n'\n",
      "C:\\Python39\\lib\\site-packages\\lightgbm\\engine.py:239: UserWarning: 'verbose_eval' argument is deprecated and will be removed in a future release of LightGBM. Pass 'log_evaluation()' callback via 'callbacks' argument instead.\n",
      "  _log_warning(\"'verbose_eval' argument is deprecated and will be removed in a future release of LightGBM. \"\n",
      "C:\\Python39\\lib\\site-packages\\lightgbm\\basic.py:1780: UserWarning: Overriding the parameters from Reference Dataset.\n",
      "  _log_warning('Overriding the parameters from Reference Dataset.')\n",
      "C:\\Python39\\lib\\site-packages\\lightgbm\\basic.py:1513: UserWarning: categorical_column in param dict is overridden.\n",
      "  _log_warning(f'{cat_alias} in param dict is overridden.')\n"
     ]
    },
    {
     "name": "stdout",
     "output_type": "stream",
     "text": [
      "[100]\tvalid_0's auc: 0.903836\n",
      "[150]\tvalid_0's auc: 0.904766\n",
      "[200]\tvalid_0's auc: 0.90546\n",
      "[250]\tvalid_0's auc: 0.906011\n",
      "[300]\tvalid_0's auc: 0.906608\n",
      "[350]\tvalid_0's auc: 0.906661\n",
      "[400]\tvalid_0's auc: 0.906713\n",
      "[450]\tvalid_0's auc: 0.906649\n"
     ]
    },
    {
     "name": "stderr",
     "output_type": "stream",
     "text": [
      "min_data_in_leaf, val_score: 0.907270:  40%|##################                           | 2/5 [00:02<00:03,  1.27s/it]"
     ]
    },
    {
     "name": "stdout",
     "output_type": "stream",
     "text": [
      "[500]\tvalid_0's auc: 0.906397\n",
      "Early stopping, best iteration is:\n",
      "[433]\tvalid_0's auc: 0.906828\n",
      "Training until validation scores don't improve for 100 rounds\n"
     ]
    },
    {
     "name": "stderr",
     "output_type": "stream",
     "text": [
      "C:\\Python39\\lib\\site-packages\\lightgbm\\engine.py:181: UserWarning: 'early_stopping_rounds' argument is deprecated and will be removed in a future release of LightGBM. Pass 'early_stopping()' callback via 'callbacks' argument instead.\n",
      "  _log_warning(\"'early_stopping_rounds' argument is deprecated and will be removed in a future release of LightGBM. \"\n",
      "C:\\Python39\\lib\\site-packages\\lightgbm\\basic.py:2068: UserWarning: categorical_feature in Dataset is overridden.\n",
      "New categorical_feature is ['education', 'marital.status', 'native.country', 'occupation', 'race', 'relationship', 'sex', 'workclass']\n",
      "  _log_warning('categorical_feature in Dataset is overridden.\\n'\n",
      "C:\\Python39\\lib\\site-packages\\lightgbm\\engine.py:239: UserWarning: 'verbose_eval' argument is deprecated and will be removed in a future release of LightGBM. Pass 'log_evaluation()' callback via 'callbacks' argument instead.\n",
      "  _log_warning(\"'verbose_eval' argument is deprecated and will be removed in a future release of LightGBM. \"\n",
      "C:\\Python39\\lib\\site-packages\\lightgbm\\basic.py:1780: UserWarning: Overriding the parameters from Reference Dataset.\n",
      "  _log_warning('Overriding the parameters from Reference Dataset.')\n",
      "C:\\Python39\\lib\\site-packages\\lightgbm\\basic.py:1513: UserWarning: categorical_column in param dict is overridden.\n",
      "  _log_warning(f'{cat_alias} in param dict is overridden.')\n"
     ]
    },
    {
     "name": "stdout",
     "output_type": "stream",
     "text": [
      "[50]\tvalid_0's auc: 0.902581\n",
      "[100]\tvalid_0's auc: 0.904024\n",
      "[150]\tvalid_0's auc: 0.904893\n",
      "[200]\tvalid_0's auc: 0.905421\n",
      "[250]\tvalid_0's auc: 0.906036\n",
      "[300]\tvalid_0's auc: 0.906401\n",
      "[350]\tvalid_0's auc: 0.90649\n",
      "[400]\tvalid_0's auc: 0.906594\n",
      "[450]\tvalid_0's auc: 0.906632\n"
     ]
    },
    {
     "name": "stderr",
     "output_type": "stream",
     "text": [
      "min_data_in_leaf, val_score: 0.907270:  60%|###########################                  | 3/5 [00:03<00:02,  1.27s/it]"
     ]
    },
    {
     "name": "stdout",
     "output_type": "stream",
     "text": [
      "[500]\tvalid_0's auc: 0.906232\n",
      "[550]\tvalid_0's auc: 0.905936\n",
      "Early stopping, best iteration is:\n",
      "[452]\tvalid_0's auc: 0.906655\n"
     ]
    },
    {
     "name": "stderr",
     "output_type": "stream",
     "text": [
      "C:\\Python39\\lib\\site-packages\\lightgbm\\engine.py:181: UserWarning: 'early_stopping_rounds' argument is deprecated and will be removed in a future release of LightGBM. Pass 'early_stopping()' callback via 'callbacks' argument instead.\n",
      "  _log_warning(\"'early_stopping_rounds' argument is deprecated and will be removed in a future release of LightGBM. \"\n",
      "C:\\Python39\\lib\\site-packages\\lightgbm\\basic.py:2068: UserWarning: categorical_feature in Dataset is overridden.\n",
      "New categorical_feature is ['education', 'marital.status', 'native.country', 'occupation', 'race', 'relationship', 'sex', 'workclass']\n",
      "  _log_warning('categorical_feature in Dataset is overridden.\\n'\n",
      "C:\\Python39\\lib\\site-packages\\lightgbm\\engine.py:239: UserWarning: 'verbose_eval' argument is deprecated and will be removed in a future release of LightGBM. Pass 'log_evaluation()' callback via 'callbacks' argument instead.\n",
      "  _log_warning(\"'verbose_eval' argument is deprecated and will be removed in a future release of LightGBM. \"\n",
      "C:\\Python39\\lib\\site-packages\\lightgbm\\basic.py:1780: UserWarning: Overriding the parameters from Reference Dataset.\n",
      "  _log_warning('Overriding the parameters from Reference Dataset.')\n",
      "C:\\Python39\\lib\\site-packages\\lightgbm\\basic.py:1513: UserWarning: categorical_column in param dict is overridden.\n",
      "  _log_warning(f'{cat_alias} in param dict is overridden.')\n"
     ]
    },
    {
     "name": "stdout",
     "output_type": "stream",
     "text": [
      "Training until validation scores don't improve for 100 rounds\n",
      "[50]\tvalid_0's auc: 0.902878\n",
      "[100]\tvalid_0's auc: 0.90419\n",
      "[150]\tvalid_0's auc: 0.904916\n",
      "[200]\tvalid_0's auc: 0.905473\n",
      "[250]\tvalid_0's auc: 0.906151\n",
      "[300]\tvalid_0's auc: 0.906626\n",
      "[350]\tvalid_0's auc: 0.906877\n",
      "[400]\tvalid_0's auc: 0.906965\n",
      "[450]\tvalid_0's auc: 0.906911\n",
      "[500]\tvalid_0's auc: 0.906642\n"
     ]
    },
    {
     "name": "stderr",
     "output_type": "stream",
     "text": [
      "min_data_in_leaf, val_score: 0.907270:  80%|####################################         | 4/5 [00:04<00:01,  1.21s/it]"
     ]
    },
    {
     "name": "stdout",
     "output_type": "stream",
     "text": [
      "Early stopping, best iteration is:\n",
      "[408]\tvalid_0's auc: 0.907023\n",
      "Training until validation scores don't improve for 100 rounds\n",
      "[50]\tvalid_0's auc: 0.90278\n"
     ]
    },
    {
     "name": "stderr",
     "output_type": "stream",
     "text": [
      "C:\\Python39\\lib\\site-packages\\lightgbm\\engine.py:181: UserWarning: 'early_stopping_rounds' argument is deprecated and will be removed in a future release of LightGBM. Pass 'early_stopping()' callback via 'callbacks' argument instead.\n",
      "  _log_warning(\"'early_stopping_rounds' argument is deprecated and will be removed in a future release of LightGBM. \"\n",
      "C:\\Python39\\lib\\site-packages\\lightgbm\\basic.py:2068: UserWarning: categorical_feature in Dataset is overridden.\n",
      "New categorical_feature is ['education', 'marital.status', 'native.country', 'occupation', 'race', 'relationship', 'sex', 'workclass']\n",
      "  _log_warning('categorical_feature in Dataset is overridden.\\n'\n",
      "C:\\Python39\\lib\\site-packages\\lightgbm\\engine.py:239: UserWarning: 'verbose_eval' argument is deprecated and will be removed in a future release of LightGBM. Pass 'log_evaluation()' callback via 'callbacks' argument instead.\n",
      "  _log_warning(\"'verbose_eval' argument is deprecated and will be removed in a future release of LightGBM. \"\n",
      "C:\\Python39\\lib\\site-packages\\lightgbm\\basic.py:1780: UserWarning: Overriding the parameters from Reference Dataset.\n",
      "  _log_warning('Overriding the parameters from Reference Dataset.')\n",
      "C:\\Python39\\lib\\site-packages\\lightgbm\\basic.py:1513: UserWarning: categorical_column in param dict is overridden.\n",
      "  _log_warning(f'{cat_alias} in param dict is overridden.')\n"
     ]
    },
    {
     "name": "stdout",
     "output_type": "stream",
     "text": [
      "[100]\tvalid_0's auc: 0.904117\n",
      "[150]\tvalid_0's auc: 0.904827\n",
      "[200]\tvalid_0's auc: 0.905333\n",
      "[250]\tvalid_0's auc: 0.906015\n",
      "[300]\tvalid_0's auc: 0.906369\n",
      "[350]\tvalid_0's auc: 0.906502\n",
      "[400]\tvalid_0's auc: 0.906512\n",
      "[450]\tvalid_0's auc: 0.906482\n",
      "[500]\tvalid_0's auc: 0.906219\n"
     ]
    },
    {
     "name": "stderr",
     "output_type": "stream",
     "text": [
      "min_data_in_leaf, val_score: 0.907270: 100%|#############################################| 5/5 [00:06<00:00,  1.21s/it]\n"
     ]
    },
    {
     "name": "stdout",
     "output_type": "stream",
     "text": [
      "Early stopping, best iteration is:\n",
      "[424]\tvalid_0's auc: 0.906663\n",
      "Best params: {'boosting_type': 'gbdt', 'objective': 'binary', 'metric': 'auc', 'verbosity': -1, 'learning_rate': 0.02, 'deterministic': True, 'force_row_wise': True, 'feature_pre_filter': False, 'lambda_l1': 4.976133957791116e-06, 'lambda_l2': 2.5202607503124433e-06, 'num_leaves': 31, 'feature_fraction': 0.4, 'bagging_fraction': 0.6615969412856383, 'bagging_freq': 1, 'min_child_samples': 20, 'num_iterations': 10000, 'early_stopping_round': 100, 'categorical_column': [1, 2, 4, 5, 6, 7, 8, 12]}\n",
      "### seed:  3 ###\n"
     ]
    },
    {
     "name": "stderr",
     "output_type": "stream",
     "text": [
      "feature_fraction, val_score: -inf:   0%|                                                         | 0/7 [00:00<?, ?it/s]C:\\Python39\\lib\\site-packages\\lightgbm\\engine.py:181: UserWarning: 'early_stopping_rounds' argument is deprecated and will be removed in a future release of LightGBM. Pass 'early_stopping()' callback via 'callbacks' argument instead.\n",
      "  _log_warning(\"'early_stopping_rounds' argument is deprecated and will be removed in a future release of LightGBM. \"\n",
      "C:\\Python39\\lib\\site-packages\\lightgbm\\basic.py:2068: UserWarning: categorical_feature in Dataset is overridden.\n",
      "New categorical_feature is ['education', 'marital.status', 'native.country', 'occupation', 'race', 'relationship', 'sex', 'workclass']\n",
      "  _log_warning('categorical_feature in Dataset is overridden.\\n'\n",
      "C:\\Python39\\lib\\site-packages\\lightgbm\\engine.py:239: UserWarning: 'verbose_eval' argument is deprecated and will be removed in a future release of LightGBM. Pass 'log_evaluation()' callback via 'callbacks' argument instead.\n",
      "  _log_warning(\"'verbose_eval' argument is deprecated and will be removed in a future release of LightGBM. \"\n",
      "C:\\Python39\\lib\\site-packages\\lightgbm\\basic.py:1780: UserWarning: Overriding the parameters from Reference Dataset.\n",
      "  _log_warning('Overriding the parameters from Reference Dataset.')\n",
      "C:\\Python39\\lib\\site-packages\\lightgbm\\basic.py:1513: UserWarning: categorical_column in param dict is overridden.\n",
      "  _log_warning(f'{cat_alias} in param dict is overridden.')\n"
     ]
    },
    {
     "name": "stdout",
     "output_type": "stream",
     "text": [
      "Training until validation scores don't improve for 100 rounds\n",
      "[50]\tvalid_0's auc: 0.895159\n",
      "[100]\tvalid_0's auc: 0.899195\n",
      "[150]\tvalid_0's auc: 0.902019\n",
      "[200]\tvalid_0's auc: 0.903495\n",
      "[250]\tvalid_0's auc: 0.904103\n"
     ]
    },
    {
     "name": "stderr",
     "output_type": "stream",
     "text": [
      "feature_fraction, val_score: 0.904144:  14%|######4                                      | 1/7 [00:00<00:04,  1.49it/s]"
     ]
    },
    {
     "name": "stdout",
     "output_type": "stream",
     "text": [
      "[300]\tvalid_0's auc: 0.904035\n",
      "[350]\tvalid_0's auc: 0.904001\n",
      "Early stopping, best iteration is:\n",
      "[257]\tvalid_0's auc: 0.904144\n",
      "Training until validation scores don't improve for 100 rounds\n"
     ]
    },
    {
     "name": "stderr",
     "output_type": "stream",
     "text": [
      "C:\\Python39\\lib\\site-packages\\lightgbm\\engine.py:181: UserWarning: 'early_stopping_rounds' argument is deprecated and will be removed in a future release of LightGBM. Pass 'early_stopping()' callback via 'callbacks' argument instead.\n",
      "  _log_warning(\"'early_stopping_rounds' argument is deprecated and will be removed in a future release of LightGBM. \"\n",
      "C:\\Python39\\lib\\site-packages\\lightgbm\\basic.py:2068: UserWarning: categorical_feature in Dataset is overridden.\n",
      "New categorical_feature is ['education', 'marital.status', 'native.country', 'occupation', 'race', 'relationship', 'sex', 'workclass']\n",
      "  _log_warning('categorical_feature in Dataset is overridden.\\n'\n",
      "C:\\Python39\\lib\\site-packages\\lightgbm\\engine.py:239: UserWarning: 'verbose_eval' argument is deprecated and will be removed in a future release of LightGBM. Pass 'log_evaluation()' callback via 'callbacks' argument instead.\n",
      "  _log_warning(\"'verbose_eval' argument is deprecated and will be removed in a future release of LightGBM. \"\n",
      "C:\\Python39\\lib\\site-packages\\lightgbm\\basic.py:1780: UserWarning: Overriding the parameters from Reference Dataset.\n",
      "  _log_warning('Overriding the parameters from Reference Dataset.')\n",
      "C:\\Python39\\lib\\site-packages\\lightgbm\\basic.py:1513: UserWarning: categorical_column in param dict is overridden.\n",
      "  _log_warning(f'{cat_alias} in param dict is overridden.')\n"
     ]
    },
    {
     "name": "stdout",
     "output_type": "stream",
     "text": [
      "[50]\tvalid_0's auc: 0.896263\n",
      "[100]\tvalid_0's auc: 0.899584\n",
      "[150]\tvalid_0's auc: 0.902213\n",
      "[200]\tvalid_0's auc: 0.903541\n",
      "[250]\tvalid_0's auc: 0.904386\n",
      "[300]\tvalid_0's auc: 0.904599\n"
     ]
    },
    {
     "name": "stderr",
     "output_type": "stream",
     "text": [
      "feature_fraction, val_score: 0.904604:  29%|############8                                | 2/7 [00:01<00:03,  1.39it/s]"
     ]
    },
    {
     "name": "stdout",
     "output_type": "stream",
     "text": [
      "[350]\tvalid_0's auc: 0.904416\n",
      "Early stopping, best iteration is:\n",
      "[299]\tvalid_0's auc: 0.904604\n",
      "Training until validation scores don't improve for 100 rounds\n"
     ]
    },
    {
     "name": "stderr",
     "output_type": "stream",
     "text": [
      "C:\\Python39\\lib\\site-packages\\lightgbm\\engine.py:181: UserWarning: 'early_stopping_rounds' argument is deprecated and will be removed in a future release of LightGBM. Pass 'early_stopping()' callback via 'callbacks' argument instead.\n",
      "  _log_warning(\"'early_stopping_rounds' argument is deprecated and will be removed in a future release of LightGBM. \"\n",
      "C:\\Python39\\lib\\site-packages\\lightgbm\\basic.py:2068: UserWarning: categorical_feature in Dataset is overridden.\n",
      "New categorical_feature is ['education', 'marital.status', 'native.country', 'occupation', 'race', 'relationship', 'sex', 'workclass']\n",
      "  _log_warning('categorical_feature in Dataset is overridden.\\n'\n",
      "C:\\Python39\\lib\\site-packages\\lightgbm\\engine.py:239: UserWarning: 'verbose_eval' argument is deprecated and will be removed in a future release of LightGBM. Pass 'log_evaluation()' callback via 'callbacks' argument instead.\n",
      "  _log_warning(\"'verbose_eval' argument is deprecated and will be removed in a future release of LightGBM. \"\n",
      "C:\\Python39\\lib\\site-packages\\lightgbm\\basic.py:1780: UserWarning: Overriding the parameters from Reference Dataset.\n",
      "  _log_warning('Overriding the parameters from Reference Dataset.')\n",
      "C:\\Python39\\lib\\site-packages\\lightgbm\\basic.py:1513: UserWarning: categorical_column in param dict is overridden.\n",
      "  _log_warning(f'{cat_alias} in param dict is overridden.')\n"
     ]
    },
    {
     "name": "stdout",
     "output_type": "stream",
     "text": [
      "[50]\tvalid_0's auc: 0.899916\n",
      "[100]\tvalid_0's auc: 0.901258\n",
      "[150]\tvalid_0's auc: 0.903585\n",
      "[200]\tvalid_0's auc: 0.904763\n",
      "[250]\tvalid_0's auc: 0.905475\n",
      "[300]\tvalid_0's auc: 0.905748\n",
      "[350]\tvalid_0's auc: 0.905854\n",
      "[400]\tvalid_0's auc: 0.905631\n",
      "[450]\tvalid_0's auc: 0.905481\n"
     ]
    },
    {
     "name": "stderr",
     "output_type": "stream",
     "text": [
      "feature_fraction, val_score: 0.905875:  43%|###################2                         | 3/7 [00:02<00:03,  1.20it/s]"
     ]
    },
    {
     "name": "stdout",
     "output_type": "stream",
     "text": [
      "Early stopping, best iteration is:\n",
      "[360]\tvalid_0's auc: 0.905875\n",
      "Training until validation scores don't improve for 100 rounds\n",
      "[50]\tvalid_0's auc: 0.897806\n"
     ]
    },
    {
     "name": "stderr",
     "output_type": "stream",
     "text": [
      "C:\\Python39\\lib\\site-packages\\lightgbm\\engine.py:181: UserWarning: 'early_stopping_rounds' argument is deprecated and will be removed in a future release of LightGBM. Pass 'early_stopping()' callback via 'callbacks' argument instead.\n",
      "  _log_warning(\"'early_stopping_rounds' argument is deprecated and will be removed in a future release of LightGBM. \"\n",
      "C:\\Python39\\lib\\site-packages\\lightgbm\\basic.py:2068: UserWarning: categorical_feature in Dataset is overridden.\n",
      "New categorical_feature is ['education', 'marital.status', 'native.country', 'occupation', 'race', 'relationship', 'sex', 'workclass']\n",
      "  _log_warning('categorical_feature in Dataset is overridden.\\n'\n",
      "C:\\Python39\\lib\\site-packages\\lightgbm\\engine.py:239: UserWarning: 'verbose_eval' argument is deprecated and will be removed in a future release of LightGBM. Pass 'log_evaluation()' callback via 'callbacks' argument instead.\n",
      "  _log_warning(\"'verbose_eval' argument is deprecated and will be removed in a future release of LightGBM. \"\n",
      "C:\\Python39\\lib\\site-packages\\lightgbm\\basic.py:1780: UserWarning: Overriding the parameters from Reference Dataset.\n",
      "  _log_warning('Overriding the parameters from Reference Dataset.')\n",
      "C:\\Python39\\lib\\site-packages\\lightgbm\\basic.py:1513: UserWarning: categorical_column in param dict is overridden.\n",
      "  _log_warning(f'{cat_alias} in param dict is overridden.')\n"
     ]
    },
    {
     "name": "stdout",
     "output_type": "stream",
     "text": [
      "[100]\tvalid_0's auc: 0.900479\n",
      "[150]\tvalid_0's auc: 0.903007\n",
      "[200]\tvalid_0's auc: 0.904523\n",
      "[250]\tvalid_0's auc: 0.905004\n",
      "[300]\tvalid_0's auc: 0.90514\n",
      "[350]\tvalid_0's auc: 0.905146\n"
     ]
    },
    {
     "name": "stderr",
     "output_type": "stream",
     "text": [
      "feature_fraction, val_score: 0.905875:  57%|#########################7                   | 4/7 [00:03<00:02,  1.23it/s]"
     ]
    },
    {
     "name": "stdout",
     "output_type": "stream",
     "text": [
      "[400]\tvalid_0's auc: 0.905071\n",
      "Early stopping, best iteration is:\n",
      "[322]\tvalid_0's auc: 0.905196\n",
      "Training until validation scores don't improve for 100 rounds\n"
     ]
    },
    {
     "name": "stderr",
     "output_type": "stream",
     "text": [
      "C:\\Python39\\lib\\site-packages\\lightgbm\\engine.py:181: UserWarning: 'early_stopping_rounds' argument is deprecated and will be removed in a future release of LightGBM. Pass 'early_stopping()' callback via 'callbacks' argument instead.\n",
      "  _log_warning(\"'early_stopping_rounds' argument is deprecated and will be removed in a future release of LightGBM. \"\n",
      "C:\\Python39\\lib\\site-packages\\lightgbm\\basic.py:2068: UserWarning: categorical_feature in Dataset is overridden.\n",
      "New categorical_feature is ['education', 'marital.status', 'native.country', 'occupation', 'race', 'relationship', 'sex', 'workclass']\n",
      "  _log_warning('categorical_feature in Dataset is overridden.\\n'\n",
      "C:\\Python39\\lib\\site-packages\\lightgbm\\engine.py:239: UserWarning: 'verbose_eval' argument is deprecated and will be removed in a future release of LightGBM. Pass 'log_evaluation()' callback via 'callbacks' argument instead.\n",
      "  _log_warning(\"'verbose_eval' argument is deprecated and will be removed in a future release of LightGBM. \"\n",
      "C:\\Python39\\lib\\site-packages\\lightgbm\\basic.py:1780: UserWarning: Overriding the parameters from Reference Dataset.\n",
      "  _log_warning('Overriding the parameters from Reference Dataset.')\n",
      "C:\\Python39\\lib\\site-packages\\lightgbm\\basic.py:1513: UserWarning: categorical_column in param dict is overridden.\n",
      "  _log_warning(f'{cat_alias} in param dict is overridden.')\n"
     ]
    },
    {
     "name": "stdout",
     "output_type": "stream",
     "text": [
      "[50]\tvalid_0's auc: 0.898819\n",
      "[100]\tvalid_0's auc: 0.900922\n",
      "[150]\tvalid_0's auc: 0.903147\n",
      "[200]\tvalid_0's auc: 0.904448\n",
      "[250]\tvalid_0's auc: 0.904945\n",
      "[300]\tvalid_0's auc: 0.905102\n"
     ]
    },
    {
     "name": "stderr",
     "output_type": "stream",
     "text": [
      "feature_fraction, val_score: 0.905875:  57%|#########################7                   | 4/7 [00:03<00:02,  1.23it/s]"
     ]
    },
    {
     "name": "stdout",
     "output_type": "stream",
     "text": [
      "[350]\tvalid_0's auc: 0.905161\n",
      "[400]\tvalid_0's auc: 0.905013\n",
      "Early stopping, best iteration is:\n",
      "[338]\tvalid_0's auc: 0.905191\n"
     ]
    },
    {
     "name": "stderr",
     "output_type": "stream",
     "text": [
      "feature_fraction, val_score: 0.905875:  71%|################################1            | 5/7 [00:04<00:01,  1.22it/s]C:\\Python39\\lib\\site-packages\\lightgbm\\engine.py:181: UserWarning: 'early_stopping_rounds' argument is deprecated and will be removed in a future release of LightGBM. Pass 'early_stopping()' callback via 'callbacks' argument instead.\n",
      "  _log_warning(\"'early_stopping_rounds' argument is deprecated and will be removed in a future release of LightGBM. \"\n",
      "C:\\Python39\\lib\\site-packages\\lightgbm\\basic.py:2068: UserWarning: categorical_feature in Dataset is overridden.\n",
      "New categorical_feature is ['education', 'marital.status', 'native.country', 'occupation', 'race', 'relationship', 'sex', 'workclass']\n",
      "  _log_warning('categorical_feature in Dataset is overridden.\\n'\n",
      "C:\\Python39\\lib\\site-packages\\lightgbm\\engine.py:239: UserWarning: 'verbose_eval' argument is deprecated and will be removed in a future release of LightGBM. Pass 'log_evaluation()' callback via 'callbacks' argument instead.\n",
      "  _log_warning(\"'verbose_eval' argument is deprecated and will be removed in a future release of LightGBM. \"\n",
      "C:\\Python39\\lib\\site-packages\\lightgbm\\basic.py:1780: UserWarning: Overriding the parameters from Reference Dataset.\n",
      "  _log_warning('Overriding the parameters from Reference Dataset.')\n",
      "C:\\Python39\\lib\\site-packages\\lightgbm\\basic.py:1513: UserWarning: categorical_column in param dict is overridden.\n",
      "  _log_warning(f'{cat_alias} in param dict is overridden.')\n"
     ]
    },
    {
     "name": "stdout",
     "output_type": "stream",
     "text": [
      "Training until validation scores don't improve for 100 rounds\n",
      "[50]\tvalid_0's auc: 0.900977\n",
      "[100]\tvalid_0's auc: 0.901689\n",
      "[150]\tvalid_0's auc: 0.903351\n",
      "[200]\tvalid_0's auc: 0.904775\n",
      "[250]\tvalid_0's auc: 0.905418\n",
      "[300]\tvalid_0's auc: 0.905652\n",
      "[350]\tvalid_0's auc: 0.905724\n",
      "[400]\tvalid_0's auc: 0.905779\n"
     ]
    },
    {
     "name": "stderr",
     "output_type": "stream",
     "text": [
      "feature_fraction, val_score: 0.905875:  86%|######################################5      | 6/7 [00:05<00:00,  1.08it/s]"
     ]
    },
    {
     "name": "stdout",
     "output_type": "stream",
     "text": [
      "[450]\tvalid_0's auc: 0.905621\n",
      "Early stopping, best iteration is:\n",
      "[378]\tvalid_0's auc: 0.905858\n",
      "Training until validation scores don't improve for 100 rounds\n"
     ]
    },
    {
     "name": "stderr",
     "output_type": "stream",
     "text": [
      "C:\\Python39\\lib\\site-packages\\lightgbm\\engine.py:181: UserWarning: 'early_stopping_rounds' argument is deprecated and will be removed in a future release of LightGBM. Pass 'early_stopping()' callback via 'callbacks' argument instead.\n",
      "  _log_warning(\"'early_stopping_rounds' argument is deprecated and will be removed in a future release of LightGBM. \"\n",
      "C:\\Python39\\lib\\site-packages\\lightgbm\\basic.py:2068: UserWarning: categorical_feature in Dataset is overridden.\n",
      "New categorical_feature is ['education', 'marital.status', 'native.country', 'occupation', 'race', 'relationship', 'sex', 'workclass']\n",
      "  _log_warning('categorical_feature in Dataset is overridden.\\n'\n",
      "C:\\Python39\\lib\\site-packages\\lightgbm\\engine.py:239: UserWarning: 'verbose_eval' argument is deprecated and will be removed in a future release of LightGBM. Pass 'log_evaluation()' callback via 'callbacks' argument instead.\n",
      "  _log_warning(\"'verbose_eval' argument is deprecated and will be removed in a future release of LightGBM. \"\n",
      "C:\\Python39\\lib\\site-packages\\lightgbm\\basic.py:1780: UserWarning: Overriding the parameters from Reference Dataset.\n",
      "  _log_warning('Overriding the parameters from Reference Dataset.')\n",
      "C:\\Python39\\lib\\site-packages\\lightgbm\\basic.py:1513: UserWarning: categorical_column in param dict is overridden.\n",
      "  _log_warning(f'{cat_alias} in param dict is overridden.')\n"
     ]
    },
    {
     "name": "stdout",
     "output_type": "stream",
     "text": [
      "[50]\tvalid_0's auc: 0.902664\n",
      "[100]\tvalid_0's auc: 0.904155\n",
      "[150]\tvalid_0's auc: 0.90514\n",
      "[200]\tvalid_0's auc: 0.905737\n",
      "[250]\tvalid_0's auc: 0.906364\n",
      "[300]\tvalid_0's auc: 0.90656\n",
      "[350]\tvalid_0's auc: 0.906693\n",
      "[400]\tvalid_0's auc: 0.906715\n",
      "[450]\tvalid_0's auc: 0.906831\n",
      "[500]\tvalid_0's auc: 0.906693\n"
     ]
    },
    {
     "name": "stderr",
     "output_type": "stream",
     "text": [
      "feature_fraction, val_score: 0.906875: 100%|#############################################| 7/7 [00:06<00:00,  1.10it/s]\n"
     ]
    },
    {
     "name": "stdout",
     "output_type": "stream",
     "text": [
      "Early stopping, best iteration is:\n",
      "[434]\tvalid_0's auc: 0.906875\n"
     ]
    },
    {
     "name": "stderr",
     "output_type": "stream",
     "text": [
      "num_leaves, val_score: 0.906875:   0%|                                                          | 0/20 [00:00<?, ?it/s]"
     ]
    },
    {
     "name": "stdout",
     "output_type": "stream",
     "text": [
      "Training until validation scores don't improve for 100 rounds\n"
     ]
    },
    {
     "name": "stderr",
     "output_type": "stream",
     "text": [
      "C:\\Python39\\lib\\site-packages\\lightgbm\\engine.py:181: UserWarning: 'early_stopping_rounds' argument is deprecated and will be removed in a future release of LightGBM. Pass 'early_stopping()' callback via 'callbacks' argument instead.\n",
      "  _log_warning(\"'early_stopping_rounds' argument is deprecated and will be removed in a future release of LightGBM. \"\n",
      "C:\\Python39\\lib\\site-packages\\lightgbm\\basic.py:2068: UserWarning: categorical_feature in Dataset is overridden.\n",
      "New categorical_feature is ['education', 'marital.status', 'native.country', 'occupation', 'race', 'relationship', 'sex', 'workclass']\n",
      "  _log_warning('categorical_feature in Dataset is overridden.\\n'\n",
      "C:\\Python39\\lib\\site-packages\\lightgbm\\engine.py:239: UserWarning: 'verbose_eval' argument is deprecated and will be removed in a future release of LightGBM. Pass 'log_evaluation()' callback via 'callbacks' argument instead.\n",
      "  _log_warning(\"'verbose_eval' argument is deprecated and will be removed in a future release of LightGBM. \"\n",
      "C:\\Python39\\lib\\site-packages\\lightgbm\\basic.py:1780: UserWarning: Overriding the parameters from Reference Dataset.\n",
      "  _log_warning('Overriding the parameters from Reference Dataset.')\n",
      "C:\\Python39\\lib\\site-packages\\lightgbm\\basic.py:1513: UserWarning: categorical_column in param dict is overridden.\n",
      "  _log_warning(f'{cat_alias} in param dict is overridden.')\n"
     ]
    },
    {
     "name": "stdout",
     "output_type": "stream",
     "text": [
      "[50]\tvalid_0's auc: 0.903505\n",
      "[100]\tvalid_0's auc: 0.904199\n",
      "[150]\tvalid_0's auc: 0.904468\n",
      "[200]\tvalid_0's auc: 0.904589\n",
      "[250]\tvalid_0's auc: 0.904441\n"
     ]
    },
    {
     "name": "stderr",
     "output_type": "stream",
     "text": [
      "num_leaves, val_score: 0.906875:   5%|##5                                               | 1/20 [00:01<00:21,  1.12s/it]"
     ]
    },
    {
     "name": "stdout",
     "output_type": "stream",
     "text": [
      "Early stopping, best iteration is:\n",
      "[181]\tvalid_0's auc: 0.904749\n",
      "Training until validation scores don't improve for 100 rounds\n"
     ]
    },
    {
     "name": "stderr",
     "output_type": "stream",
     "text": [
      "C:\\Python39\\lib\\site-packages\\lightgbm\\engine.py:181: UserWarning: 'early_stopping_rounds' argument is deprecated and will be removed in a future release of LightGBM. Pass 'early_stopping()' callback via 'callbacks' argument instead.\n",
      "  _log_warning(\"'early_stopping_rounds' argument is deprecated and will be removed in a future release of LightGBM. \"\n",
      "C:\\Python39\\lib\\site-packages\\lightgbm\\basic.py:2068: UserWarning: categorical_feature in Dataset is overridden.\n",
      "New categorical_feature is ['education', 'marital.status', 'native.country', 'occupation', 'race', 'relationship', 'sex', 'workclass']\n",
      "  _log_warning('categorical_feature in Dataset is overridden.\\n'\n",
      "C:\\Python39\\lib\\site-packages\\lightgbm\\engine.py:239: UserWarning: 'verbose_eval' argument is deprecated and will be removed in a future release of LightGBM. Pass 'log_evaluation()' callback via 'callbacks' argument instead.\n",
      "  _log_warning(\"'verbose_eval' argument is deprecated and will be removed in a future release of LightGBM. \"\n",
      "C:\\Python39\\lib\\site-packages\\lightgbm\\basic.py:1780: UserWarning: Overriding the parameters from Reference Dataset.\n",
      "  _log_warning('Overriding the parameters from Reference Dataset.')\n",
      "C:\\Python39\\lib\\site-packages\\lightgbm\\basic.py:1513: UserWarning: categorical_column in param dict is overridden.\n",
      "  _log_warning(f'{cat_alias} in param dict is overridden.')\n"
     ]
    },
    {
     "name": "stdout",
     "output_type": "stream",
     "text": [
      "[50]\tvalid_0's auc: 0.903308\n",
      "[100]\tvalid_0's auc: 0.903802\n",
      "[150]\tvalid_0's auc: 0.904127\n",
      "[200]\tvalid_0's auc: 0.904028\n",
      "[250]\tvalid_0's auc: 0.903718\n"
     ]
    },
    {
     "name": "stderr",
     "output_type": "stream",
     "text": [
      "num_leaves, val_score: 0.906875:  10%|#####                                             | 2/20 [00:02<00:24,  1.35s/it]"
     ]
    },
    {
     "name": "stdout",
     "output_type": "stream",
     "text": [
      "Early stopping, best iteration is:\n",
      "[179]\tvalid_0's auc: 0.904337\n",
      "Training until validation scores don't improve for 100 rounds\n"
     ]
    },
    {
     "name": "stderr",
     "output_type": "stream",
     "text": [
      "C:\\Python39\\lib\\site-packages\\lightgbm\\engine.py:181: UserWarning: 'early_stopping_rounds' argument is deprecated and will be removed in a future release of LightGBM. Pass 'early_stopping()' callback via 'callbacks' argument instead.\n",
      "  _log_warning(\"'early_stopping_rounds' argument is deprecated and will be removed in a future release of LightGBM. \"\n",
      "C:\\Python39\\lib\\site-packages\\lightgbm\\basic.py:2068: UserWarning: categorical_feature in Dataset is overridden.\n",
      "New categorical_feature is ['education', 'marital.status', 'native.country', 'occupation', 'race', 'relationship', 'sex', 'workclass']\n",
      "  _log_warning('categorical_feature in Dataset is overridden.\\n'\n",
      "C:\\Python39\\lib\\site-packages\\lightgbm\\engine.py:239: UserWarning: 'verbose_eval' argument is deprecated and will be removed in a future release of LightGBM. Pass 'log_evaluation()' callback via 'callbacks' argument instead.\n",
      "  _log_warning(\"'verbose_eval' argument is deprecated and will be removed in a future release of LightGBM. \"\n",
      "C:\\Python39\\lib\\site-packages\\lightgbm\\basic.py:1780: UserWarning: Overriding the parameters from Reference Dataset.\n",
      "  _log_warning('Overriding the parameters from Reference Dataset.')\n",
      "C:\\Python39\\lib\\site-packages\\lightgbm\\basic.py:1513: UserWarning: categorical_column in param dict is overridden.\n",
      "  _log_warning(f'{cat_alias} in param dict is overridden.')\n"
     ]
    },
    {
     "name": "stdout",
     "output_type": "stream",
     "text": [
      "[50]\tvalid_0's auc: 0.90369\n",
      "[100]\tvalid_0's auc: 0.90465\n",
      "[150]\tvalid_0's auc: 0.905229\n",
      "[200]\tvalid_0's auc: 0.905412\n",
      "[250]\tvalid_0's auc: 0.905629\n",
      "[300]\tvalid_0's auc: 0.905513\n"
     ]
    },
    {
     "name": "stderr",
     "output_type": "stream",
     "text": [
      "num_leaves, val_score: 0.906875:  15%|#######5                                          | 3/20 [00:03<00:20,  1.22s/it]"
     ]
    },
    {
     "name": "stdout",
     "output_type": "stream",
     "text": [
      "[350]\tvalid_0's auc: 0.905242\n",
      "Early stopping, best iteration is:\n",
      "[264]\tvalid_0's auc: 0.905719\n",
      "Training until validation scores don't improve for 100 rounds\n"
     ]
    },
    {
     "name": "stderr",
     "output_type": "stream",
     "text": [
      "C:\\Python39\\lib\\site-packages\\lightgbm\\engine.py:181: UserWarning: 'early_stopping_rounds' argument is deprecated and will be removed in a future release of LightGBM. Pass 'early_stopping()' callback via 'callbacks' argument instead.\n",
      "  _log_warning(\"'early_stopping_rounds' argument is deprecated and will be removed in a future release of LightGBM. \"\n",
      "C:\\Python39\\lib\\site-packages\\lightgbm\\basic.py:2068: UserWarning: categorical_feature in Dataset is overridden.\n",
      "New categorical_feature is ['education', 'marital.status', 'native.country', 'occupation', 'race', 'relationship', 'sex', 'workclass']\n",
      "  _log_warning('categorical_feature in Dataset is overridden.\\n'\n",
      "C:\\Python39\\lib\\site-packages\\lightgbm\\engine.py:239: UserWarning: 'verbose_eval' argument is deprecated and will be removed in a future release of LightGBM. Pass 'log_evaluation()' callback via 'callbacks' argument instead.\n",
      "  _log_warning(\"'verbose_eval' argument is deprecated and will be removed in a future release of LightGBM. \"\n",
      "C:\\Python39\\lib\\site-packages\\lightgbm\\basic.py:1780: UserWarning: Overriding the parameters from Reference Dataset.\n",
      "  _log_warning('Overriding the parameters from Reference Dataset.')\n",
      "C:\\Python39\\lib\\site-packages\\lightgbm\\basic.py:1513: UserWarning: categorical_column in param dict is overridden.\n",
      "  _log_warning(f'{cat_alias} in param dict is overridden.')\n"
     ]
    },
    {
     "name": "stdout",
     "output_type": "stream",
     "text": [
      "[50]\tvalid_0's auc: 0.903529\n",
      "[100]\tvalid_0's auc: 0.904231\n",
      "[150]\tvalid_0's auc: 0.90451\n",
      "[200]\tvalid_0's auc: 0.904727\n",
      "[250]\tvalid_0's auc: 0.904602\n",
      "Early stopping, best iteration is:\n",
      "[179]\tvalid_0's auc: 0.904841\n"
     ]
    },
    {
     "name": "stderr",
     "output_type": "stream",
     "text": [
      "num_leaves, val_score: 0.906875:  20%|##########                                        | 4/20 [00:04<00:18,  1.15s/it]C:\\Python39\\lib\\site-packages\\lightgbm\\engine.py:181: UserWarning: 'early_stopping_rounds' argument is deprecated and will be removed in a future release of LightGBM. Pass 'early_stopping()' callback via 'callbacks' argument instead.\n",
      "  _log_warning(\"'early_stopping_rounds' argument is deprecated and will be removed in a future release of LightGBM. \"\n",
      "C:\\Python39\\lib\\site-packages\\lightgbm\\basic.py:2068: UserWarning: categorical_feature in Dataset is overridden.\n",
      "New categorical_feature is ['education', 'marital.status', 'native.country', 'occupation', 'race', 'relationship', 'sex', 'workclass']\n",
      "  _log_warning('categorical_feature in Dataset is overridden.\\n'\n",
      "C:\\Python39\\lib\\site-packages\\lightgbm\\engine.py:239: UserWarning: 'verbose_eval' argument is deprecated and will be removed in a future release of LightGBM. Pass 'log_evaluation()' callback via 'callbacks' argument instead.\n",
      "  _log_warning(\"'verbose_eval' argument is deprecated and will be removed in a future release of LightGBM. \"\n",
      "C:\\Python39\\lib\\site-packages\\lightgbm\\basic.py:1780: UserWarning: Overriding the parameters from Reference Dataset.\n",
      "  _log_warning('Overriding the parameters from Reference Dataset.')\n",
      "C:\\Python39\\lib\\site-packages\\lightgbm\\basic.py:1513: UserWarning: categorical_column in param dict is overridden.\n",
      "  _log_warning(f'{cat_alias} in param dict is overridden.')\n"
     ]
    },
    {
     "name": "stdout",
     "output_type": "stream",
     "text": [
      "Training until validation scores don't improve for 100 rounds\n",
      "[50]\tvalid_0's auc: 0.903157\n",
      "[100]\tvalid_0's auc: 0.903643\n",
      "[150]\tvalid_0's auc: 0.903891\n",
      "[200]\tvalid_0's auc: 0.903806\n",
      "[250]\tvalid_0's auc: 0.903409\n",
      "Early stopping, best iteration is:\n",
      "[179]\tvalid_0's auc: 0.9041\n"
     ]
    },
    {
     "name": "stderr",
     "output_type": "stream",
     "text": [
      "num_leaves, val_score: 0.906875:  25%|############5                                     | 5/20 [00:06<00:18,  1.20s/it]C:\\Python39\\lib\\site-packages\\lightgbm\\engine.py:181: UserWarning: 'early_stopping_rounds' argument is deprecated and will be removed in a future release of LightGBM. Pass 'early_stopping()' callback via 'callbacks' argument instead.\n",
      "  _log_warning(\"'early_stopping_rounds' argument is deprecated and will be removed in a future release of LightGBM. \"\n",
      "C:\\Python39\\lib\\site-packages\\lightgbm\\basic.py:2068: UserWarning: categorical_feature in Dataset is overridden.\n",
      "New categorical_feature is ['education', 'marital.status', 'native.country', 'occupation', 'race', 'relationship', 'sex', 'workclass']\n",
      "  _log_warning('categorical_feature in Dataset is overridden.\\n'\n",
      "C:\\Python39\\lib\\site-packages\\lightgbm\\engine.py:239: UserWarning: 'verbose_eval' argument is deprecated and will be removed in a future release of LightGBM. Pass 'log_evaluation()' callback via 'callbacks' argument instead.\n",
      "  _log_warning(\"'verbose_eval' argument is deprecated and will be removed in a future release of LightGBM. \"\n",
      "C:\\Python39\\lib\\site-packages\\lightgbm\\basic.py:1780: UserWarning: Overriding the parameters from Reference Dataset.\n",
      "  _log_warning('Overriding the parameters from Reference Dataset.')\n",
      "C:\\Python39\\lib\\site-packages\\lightgbm\\basic.py:1513: UserWarning: categorical_column in param dict is overridden.\n",
      "  _log_warning(f'{cat_alias} in param dict is overridden.')\n"
     ]
    },
    {
     "name": "stdout",
     "output_type": "stream",
     "text": [
      "Training until validation scores don't improve for 100 rounds\n",
      "[50]\tvalid_0's auc: 0.903182\n",
      "[100]\tvalid_0's auc: 0.903663\n",
      "[150]\tvalid_0's auc: 0.903796\n",
      "[200]\tvalid_0's auc: 0.903801\n",
      "[250]\tvalid_0's auc: 0.90349\n"
     ]
    },
    {
     "name": "stderr",
     "output_type": "stream",
     "text": [
      "num_leaves, val_score: 0.906875:  30%|###############                                   | 6/20 [00:07<00:17,  1.22s/it]"
     ]
    },
    {
     "name": "stdout",
     "output_type": "stream",
     "text": [
      "Early stopping, best iteration is:\n",
      "[179]\tvalid_0's auc: 0.904092\n",
      "Training until validation scores don't improve for 100 rounds\n"
     ]
    },
    {
     "name": "stderr",
     "output_type": "stream",
     "text": [
      "C:\\Python39\\lib\\site-packages\\lightgbm\\engine.py:181: UserWarning: 'early_stopping_rounds' argument is deprecated and will be removed in a future release of LightGBM. Pass 'early_stopping()' callback via 'callbacks' argument instead.\n",
      "  _log_warning(\"'early_stopping_rounds' argument is deprecated and will be removed in a future release of LightGBM. \"\n",
      "C:\\Python39\\lib\\site-packages\\lightgbm\\basic.py:2068: UserWarning: categorical_feature in Dataset is overridden.\n",
      "New categorical_feature is ['education', 'marital.status', 'native.country', 'occupation', 'race', 'relationship', 'sex', 'workclass']\n",
      "  _log_warning('categorical_feature in Dataset is overridden.\\n'\n",
      "C:\\Python39\\lib\\site-packages\\lightgbm\\engine.py:239: UserWarning: 'verbose_eval' argument is deprecated and will be removed in a future release of LightGBM. Pass 'log_evaluation()' callback via 'callbacks' argument instead.\n",
      "  _log_warning(\"'verbose_eval' argument is deprecated and will be removed in a future release of LightGBM. \"\n",
      "C:\\Python39\\lib\\site-packages\\lightgbm\\basic.py:1780: UserWarning: Overriding the parameters from Reference Dataset.\n",
      "  _log_warning('Overriding the parameters from Reference Dataset.')\n",
      "C:\\Python39\\lib\\site-packages\\lightgbm\\basic.py:1513: UserWarning: categorical_column in param dict is overridden.\n",
      "  _log_warning(f'{cat_alias} in param dict is overridden.')\n"
     ]
    },
    {
     "name": "stdout",
     "output_type": "stream",
     "text": [
      "[50]\tvalid_0's auc: 0.902841\n",
      "[100]\tvalid_0's auc: 0.904311\n",
      "[150]\tvalid_0's auc: 0.905251\n",
      "[200]\tvalid_0's auc: 0.905834\n",
      "[250]\tvalid_0's auc: 0.906276\n",
      "[300]\tvalid_0's auc: 0.906402\n",
      "[350]\tvalid_0's auc: 0.906523\n",
      "[400]\tvalid_0's auc: 0.906552\n",
      "[450]\tvalid_0's auc: 0.906611\n"
     ]
    },
    {
     "name": "stderr",
     "output_type": "stream",
     "text": [
      "num_leaves, val_score: 0.906875:  35%|#################5                                | 7/20 [00:08<00:15,  1.16s/it]"
     ]
    },
    {
     "name": "stdout",
     "output_type": "stream",
     "text": [
      "[500]\tvalid_0's auc: 0.906488\n",
      "Early stopping, best iteration is:\n",
      "[425]\tvalid_0's auc: 0.906654\n",
      "Training until validation scores don't improve for 100 rounds\n"
     ]
    },
    {
     "name": "stderr",
     "output_type": "stream",
     "text": [
      "C:\\Python39\\lib\\site-packages\\lightgbm\\engine.py:181: UserWarning: 'early_stopping_rounds' argument is deprecated and will be removed in a future release of LightGBM. Pass 'early_stopping()' callback via 'callbacks' argument instead.\n",
      "  _log_warning(\"'early_stopping_rounds' argument is deprecated and will be removed in a future release of LightGBM. \"\n",
      "C:\\Python39\\lib\\site-packages\\lightgbm\\basic.py:2068: UserWarning: categorical_feature in Dataset is overridden.\n",
      "New categorical_feature is ['education', 'marital.status', 'native.country', 'occupation', 'race', 'relationship', 'sex', 'workclass']\n",
      "  _log_warning('categorical_feature in Dataset is overridden.\\n'\n",
      "C:\\Python39\\lib\\site-packages\\lightgbm\\engine.py:239: UserWarning: 'verbose_eval' argument is deprecated and will be removed in a future release of LightGBM. Pass 'log_evaluation()' callback via 'callbacks' argument instead.\n",
      "  _log_warning(\"'verbose_eval' argument is deprecated and will be removed in a future release of LightGBM. \"\n",
      "C:\\Python39\\lib\\site-packages\\lightgbm\\basic.py:1780: UserWarning: Overriding the parameters from Reference Dataset.\n",
      "  _log_warning('Overriding the parameters from Reference Dataset.')\n",
      "C:\\Python39\\lib\\site-packages\\lightgbm\\basic.py:1513: UserWarning: categorical_column in param dict is overridden.\n",
      "  _log_warning(f'{cat_alias} in param dict is overridden.')\n"
     ]
    },
    {
     "name": "stdout",
     "output_type": "stream",
     "text": [
      "[50]\tvalid_0's auc: 0.903383\n",
      "[100]\tvalid_0's auc: 0.904842\n",
      "[150]\tvalid_0's auc: 0.905486\n",
      "[200]\tvalid_0's auc: 0.905891\n",
      "[250]\tvalid_0's auc: 0.906247\n",
      "[300]\tvalid_0's auc: 0.90622\n"
     ]
    },
    {
     "name": "stderr",
     "output_type": "stream",
     "text": [
      "num_leaves, val_score: 0.906875:  40%|####################                              | 8/20 [00:09<00:13,  1.10s/it]"
     ]
    },
    {
     "name": "stdout",
     "output_type": "stream",
     "text": [
      "[350]\tvalid_0's auc: 0.906141\n",
      "Early stopping, best iteration is:\n",
      "[260]\tvalid_0's auc: 0.906314\n",
      "Training until validation scores don't improve for 100 rounds\n",
      "[50]\tvalid_0's auc: 0.900443\n"
     ]
    },
    {
     "name": "stderr",
     "output_type": "stream",
     "text": [
      "C:\\Python39\\lib\\site-packages\\lightgbm\\engine.py:181: UserWarning: 'early_stopping_rounds' argument is deprecated and will be removed in a future release of LightGBM. Pass 'early_stopping()' callback via 'callbacks' argument instead.\n",
      "  _log_warning(\"'early_stopping_rounds' argument is deprecated and will be removed in a future release of LightGBM. \"\n",
      "C:\\Python39\\lib\\site-packages\\lightgbm\\basic.py:2068: UserWarning: categorical_feature in Dataset is overridden.\n",
      "New categorical_feature is ['education', 'marital.status', 'native.country', 'occupation', 'race', 'relationship', 'sex', 'workclass']\n",
      "  _log_warning('categorical_feature in Dataset is overridden.\\n'\n",
      "C:\\Python39\\lib\\site-packages\\lightgbm\\engine.py:239: UserWarning: 'verbose_eval' argument is deprecated and will be removed in a future release of LightGBM. Pass 'log_evaluation()' callback via 'callbacks' argument instead.\n",
      "  _log_warning(\"'verbose_eval' argument is deprecated and will be removed in a future release of LightGBM. \"\n",
      "C:\\Python39\\lib\\site-packages\\lightgbm\\basic.py:1780: UserWarning: Overriding the parameters from Reference Dataset.\n",
      "  _log_warning('Overriding the parameters from Reference Dataset.')\n",
      "C:\\Python39\\lib\\site-packages\\lightgbm\\basic.py:1513: UserWarning: categorical_column in param dict is overridden.\n",
      "  _log_warning(f'{cat_alias} in param dict is overridden.')\n"
     ]
    },
    {
     "name": "stdout",
     "output_type": "stream",
     "text": [
      "[100]\tvalid_0's auc: 0.901431\n",
      "[150]\tvalid_0's auc: 0.902696\n",
      "[200]\tvalid_0's auc: 0.903842\n",
      "[250]\tvalid_0's auc: 0.904778\n",
      "[300]\tvalid_0's auc: 0.9054\n",
      "[350]\tvalid_0's auc: 0.905886\n",
      "[400]\tvalid_0's auc: 0.906245\n",
      "[450]\tvalid_0's auc: 0.906455\n",
      "[500]\tvalid_0's auc: 0.90656\n",
      "[550]\tvalid_0's auc: 0.906565\n",
      "[600]\tvalid_0's auc: 0.90658\n",
      "[650]\tvalid_0's auc: 0.906588\n"
     ]
    },
    {
     "name": "stderr",
     "output_type": "stream",
     "text": [
      "num_leaves, val_score: 0.906875:  45%|######################5                           | 9/20 [00:10<00:12,  1.14s/it]"
     ]
    },
    {
     "name": "stdout",
     "output_type": "stream",
     "text": [
      "[700]\tvalid_0's auc: 0.906481\n",
      "Early stopping, best iteration is:\n",
      "[641]\tvalid_0's auc: 0.906639\n",
      "Training until validation scores don't improve for 100 rounds\n"
     ]
    },
    {
     "name": "stderr",
     "output_type": "stream",
     "text": [
      "C:\\Python39\\lib\\site-packages\\lightgbm\\engine.py:181: UserWarning: 'early_stopping_rounds' argument is deprecated and will be removed in a future release of LightGBM. Pass 'early_stopping()' callback via 'callbacks' argument instead.\n",
      "  _log_warning(\"'early_stopping_rounds' argument is deprecated and will be removed in a future release of LightGBM. \"\n",
      "C:\\Python39\\lib\\site-packages\\lightgbm\\basic.py:2068: UserWarning: categorical_feature in Dataset is overridden.\n",
      "New categorical_feature is ['education', 'marital.status', 'native.country', 'occupation', 'race', 'relationship', 'sex', 'workclass']\n",
      "  _log_warning('categorical_feature in Dataset is overridden.\\n'\n",
      "C:\\Python39\\lib\\site-packages\\lightgbm\\engine.py:239: UserWarning: 'verbose_eval' argument is deprecated and will be removed in a future release of LightGBM. Pass 'log_evaluation()' callback via 'callbacks' argument instead.\n",
      "  _log_warning(\"'verbose_eval' argument is deprecated and will be removed in a future release of LightGBM. \"\n",
      "C:\\Python39\\lib\\site-packages\\lightgbm\\basic.py:1780: UserWarning: Overriding the parameters from Reference Dataset.\n",
      "  _log_warning('Overriding the parameters from Reference Dataset.')\n",
      "C:\\Python39\\lib\\site-packages\\lightgbm\\basic.py:1513: UserWarning: categorical_column in param dict is overridden.\n",
      "  _log_warning(f'{cat_alias} in param dict is overridden.')\n"
     ]
    },
    {
     "name": "stdout",
     "output_type": "stream",
     "text": [
      "[50]\tvalid_0's auc: 0.903518\n",
      "[100]\tvalid_0's auc: 0.904286\n",
      "[150]\tvalid_0's auc: 0.904717\n",
      "[200]\tvalid_0's auc: 0.904806\n"
     ]
    },
    {
     "name": "stderr",
     "output_type": "stream",
     "text": [
      "num_leaves, val_score: 0.906875:  50%|########################5                        | 10/20 [00:11<00:10,  1.08s/it]"
     ]
    },
    {
     "name": "stdout",
     "output_type": "stream",
     "text": [
      "[250]\tvalid_0's auc: 0.904794\n",
      "Early stopping, best iteration is:\n",
      "[166]\tvalid_0's auc: 0.904976\n",
      "Training until validation scores don't improve for 100 rounds\n"
     ]
    },
    {
     "name": "stderr",
     "output_type": "stream",
     "text": [
      "C:\\Python39\\lib\\site-packages\\lightgbm\\engine.py:181: UserWarning: 'early_stopping_rounds' argument is deprecated and will be removed in a future release of LightGBM. Pass 'early_stopping()' callback via 'callbacks' argument instead.\n",
      "  _log_warning(\"'early_stopping_rounds' argument is deprecated and will be removed in a future release of LightGBM. \"\n",
      "C:\\Python39\\lib\\site-packages\\lightgbm\\basic.py:2068: UserWarning: categorical_feature in Dataset is overridden.\n",
      "New categorical_feature is ['education', 'marital.status', 'native.country', 'occupation', 'race', 'relationship', 'sex', 'workclass']\n",
      "  _log_warning('categorical_feature in Dataset is overridden.\\n'\n",
      "C:\\Python39\\lib\\site-packages\\lightgbm\\engine.py:239: UserWarning: 'verbose_eval' argument is deprecated and will be removed in a future release of LightGBM. Pass 'log_evaluation()' callback via 'callbacks' argument instead.\n",
      "  _log_warning(\"'verbose_eval' argument is deprecated and will be removed in a future release of LightGBM. \"\n",
      "C:\\Python39\\lib\\site-packages\\lightgbm\\basic.py:1780: UserWarning: Overriding the parameters from Reference Dataset.\n",
      "  _log_warning('Overriding the parameters from Reference Dataset.')\n",
      "C:\\Python39\\lib\\site-packages\\lightgbm\\basic.py:1513: UserWarning: categorical_column in param dict is overridden.\n",
      "  _log_warning(f'{cat_alias} in param dict is overridden.')\n"
     ]
    },
    {
     "name": "stdout",
     "output_type": "stream",
     "text": [
      "[50]\tvalid_0's auc: 0.900858\n",
      "[100]\tvalid_0's auc: 0.901754\n",
      "[150]\tvalid_0's auc: 0.902969\n",
      "[200]\tvalid_0's auc: 0.90398\n",
      "[250]\tvalid_0's auc: 0.905014\n",
      "[300]\tvalid_0's auc: 0.905635\n",
      "[350]\tvalid_0's auc: 0.906017\n",
      "[400]\tvalid_0's auc: 0.906368\n",
      "[450]\tvalid_0's auc: 0.906526\n",
      "[500]\tvalid_0's auc: 0.906581\n",
      "[550]\tvalid_0's auc: 0.906561\n",
      "[600]\tvalid_0's auc: 0.906607\n",
      "[650]\tvalid_0's auc: 0.906518\n"
     ]
    },
    {
     "name": "stderr",
     "output_type": "stream",
     "text": [
      "num_leaves, val_score: 0.906875:  55%|##########################9                      | 11/20 [00:12<00:09,  1.05s/it]"
     ]
    },
    {
     "name": "stdout",
     "output_type": "stream",
     "text": [
      "Early stopping, best iteration is:\n",
      "[561]\tvalid_0's auc: 0.906622\n",
      "Training until validation scores don't improve for 100 rounds\n",
      "[50]\tvalid_0's auc: 0.897698\n"
     ]
    },
    {
     "name": "stderr",
     "output_type": "stream",
     "text": [
      "C:\\Python39\\lib\\site-packages\\lightgbm\\engine.py:181: UserWarning: 'early_stopping_rounds' argument is deprecated and will be removed in a future release of LightGBM. Pass 'early_stopping()' callback via 'callbacks' argument instead.\n",
      "  _log_warning(\"'early_stopping_rounds' argument is deprecated and will be removed in a future release of LightGBM. \"\n",
      "C:\\Python39\\lib\\site-packages\\lightgbm\\basic.py:2068: UserWarning: categorical_feature in Dataset is overridden.\n",
      "New categorical_feature is ['education', 'marital.status', 'native.country', 'occupation', 'race', 'relationship', 'sex', 'workclass']\n",
      "  _log_warning('categorical_feature in Dataset is overridden.\\n'\n",
      "C:\\Python39\\lib\\site-packages\\lightgbm\\engine.py:239: UserWarning: 'verbose_eval' argument is deprecated and will be removed in a future release of LightGBM. Pass 'log_evaluation()' callback via 'callbacks' argument instead.\n",
      "  _log_warning(\"'verbose_eval' argument is deprecated and will be removed in a future release of LightGBM. \"\n",
      "C:\\Python39\\lib\\site-packages\\lightgbm\\basic.py:1780: UserWarning: Overriding the parameters from Reference Dataset.\n",
      "  _log_warning('Overriding the parameters from Reference Dataset.')\n",
      "C:\\Python39\\lib\\site-packages\\lightgbm\\basic.py:1513: UserWarning: categorical_column in param dict is overridden.\n",
      "  _log_warning(f'{cat_alias} in param dict is overridden.')\n"
     ]
    },
    {
     "name": "stdout",
     "output_type": "stream",
     "text": [
      "[100]\tvalid_0's auc: 0.897968\n",
      "[150]\tvalid_0's auc: 0.898991\n",
      "[200]\tvalid_0's auc: 0.900586\n",
      "[250]\tvalid_0's auc: 0.901881\n",
      "[300]\tvalid_0's auc: 0.902939\n",
      "[350]\tvalid_0's auc: 0.903695\n",
      "[400]\tvalid_0's auc: 0.904178\n",
      "[450]\tvalid_0's auc: 0.904649\n",
      "[500]\tvalid_0's auc: 0.905011\n",
      "[550]\tvalid_0's auc: 0.905323\n",
      "[600]\tvalid_0's auc: 0.905478\n",
      "[650]\tvalid_0's auc: 0.905576\n",
      "[700]\tvalid_0's auc: 0.905604\n",
      "[750]\tvalid_0's auc: 0.905666\n",
      "[800]\tvalid_0's auc: 0.905761\n",
      "[850]\tvalid_0's auc: 0.905809\n",
      "[900]\tvalid_0's auc: 0.905852\n",
      "[950]\tvalid_0's auc: 0.905896\n",
      "[1000]\tvalid_0's auc: 0.905872\n",
      "[1050]\tvalid_0's auc: 0.905926\n",
      "[1100]\tvalid_0's auc: 0.906003\n",
      "[1150]\tvalid_0's auc: 0.906013\n",
      "[1200]\tvalid_0's auc: 0.905975\n",
      "Early stopping, best iteration is:\n",
      "[1149]\tvalid_0's auc: 0.906019\n"
     ]
    },
    {
     "name": "stderr",
     "output_type": "stream",
     "text": [
      "num_leaves, val_score: 0.906875:  60%|#############################4                   | 12/20 [00:13<00:09,  1.19s/it]C:\\Python39\\lib\\site-packages\\lightgbm\\engine.py:181: UserWarning: 'early_stopping_rounds' argument is deprecated and will be removed in a future release of LightGBM. Pass 'early_stopping()' callback via 'callbacks' argument instead.\n",
      "  _log_warning(\"'early_stopping_rounds' argument is deprecated and will be removed in a future release of LightGBM. \"\n",
      "C:\\Python39\\lib\\site-packages\\lightgbm\\basic.py:2068: UserWarning: categorical_feature in Dataset is overridden.\n",
      "New categorical_feature is ['education', 'marital.status', 'native.country', 'occupation', 'race', 'relationship', 'sex', 'workclass']\n",
      "  _log_warning('categorical_feature in Dataset is overridden.\\n'\n",
      "C:\\Python39\\lib\\site-packages\\lightgbm\\engine.py:239: UserWarning: 'verbose_eval' argument is deprecated and will be removed in a future release of LightGBM. Pass 'log_evaluation()' callback via 'callbacks' argument instead.\n",
      "  _log_warning(\"'verbose_eval' argument is deprecated and will be removed in a future release of LightGBM. \"\n",
      "C:\\Python39\\lib\\site-packages\\lightgbm\\basic.py:1780: UserWarning: Overriding the parameters from Reference Dataset.\n",
      "  _log_warning('Overriding the parameters from Reference Dataset.')\n",
      "C:\\Python39\\lib\\site-packages\\lightgbm\\basic.py:1513: UserWarning: categorical_column in param dict is overridden.\n",
      "  _log_warning(f'{cat_alias} in param dict is overridden.')\n"
     ]
    },
    {
     "name": "stdout",
     "output_type": "stream",
     "text": [
      "Training until validation scores don't improve for 100 rounds\n",
      "[50]\tvalid_0's auc: 0.903334\n",
      "[100]\tvalid_0's auc: 0.904769\n",
      "[150]\tvalid_0's auc: 0.905524\n",
      "[200]\tvalid_0's auc: 0.905876\n",
      "[250]\tvalid_0's auc: 0.906188\n",
      "[300]\tvalid_0's auc: 0.90635\n",
      "[350]\tvalid_0's auc: 0.906317\n"
     ]
    },
    {
     "name": "stderr",
     "output_type": "stream",
     "text": [
      "num_leaves, val_score: 0.906875:  65%|###############################8                 | 13/20 [00:14<00:07,  1.11s/it]"
     ]
    },
    {
     "name": "stdout",
     "output_type": "stream",
     "text": [
      "[400]\tvalid_0's auc: 0.906208\n",
      "Early stopping, best iteration is:\n",
      "[301]\tvalid_0's auc: 0.906391\n",
      "Training until validation scores don't improve for 100 rounds\n"
     ]
    },
    {
     "name": "stderr",
     "output_type": "stream",
     "text": [
      "C:\\Python39\\lib\\site-packages\\lightgbm\\engine.py:181: UserWarning: 'early_stopping_rounds' argument is deprecated and will be removed in a future release of LightGBM. Pass 'early_stopping()' callback via 'callbacks' argument instead.\n",
      "  _log_warning(\"'early_stopping_rounds' argument is deprecated and will be removed in a future release of LightGBM. \"\n",
      "C:\\Python39\\lib\\site-packages\\lightgbm\\basic.py:2068: UserWarning: categorical_feature in Dataset is overridden.\n",
      "New categorical_feature is ['education', 'marital.status', 'native.country', 'occupation', 'race', 'relationship', 'sex', 'workclass']\n",
      "  _log_warning('categorical_feature in Dataset is overridden.\\n'\n",
      "C:\\Python39\\lib\\site-packages\\lightgbm\\engine.py:239: UserWarning: 'verbose_eval' argument is deprecated and will be removed in a future release of LightGBM. Pass 'log_evaluation()' callback via 'callbacks' argument instead.\n",
      "  _log_warning(\"'verbose_eval' argument is deprecated and will be removed in a future release of LightGBM. \"\n",
      "C:\\Python39\\lib\\site-packages\\lightgbm\\basic.py:1780: UserWarning: Overriding the parameters from Reference Dataset.\n",
      "  _log_warning('Overriding the parameters from Reference Dataset.')\n",
      "C:\\Python39\\lib\\site-packages\\lightgbm\\basic.py:1513: UserWarning: categorical_column in param dict is overridden.\n",
      "  _log_warning(f'{cat_alias} in param dict is overridden.')\n"
     ]
    },
    {
     "name": "stdout",
     "output_type": "stream",
     "text": [
      "[50]\tvalid_0's auc: 0.903706\n",
      "[100]\tvalid_0's auc: 0.904614\n",
      "[150]\tvalid_0's auc: 0.905132\n",
      "[200]\tvalid_0's auc: 0.90533\n",
      "[250]\tvalid_0's auc: 0.9054\n",
      "[300]\tvalid_0's auc: 0.905205\n",
      "Early stopping, best iteration is:\n",
      "[236]\tvalid_0's auc: 0.90554\n"
     ]
    },
    {
     "name": "stderr",
     "output_type": "stream",
     "text": [
      "num_leaves, val_score: 0.906875:  70%|##################################3              | 14/20 [00:15<00:06,  1.05s/it]C:\\Python39\\lib\\site-packages\\lightgbm\\engine.py:181: UserWarning: 'early_stopping_rounds' argument is deprecated and will be removed in a future release of LightGBM. Pass 'early_stopping()' callback via 'callbacks' argument instead.\n",
      "  _log_warning(\"'early_stopping_rounds' argument is deprecated and will be removed in a future release of LightGBM. \"\n",
      "C:\\Python39\\lib\\site-packages\\lightgbm\\basic.py:2068: UserWarning: categorical_feature in Dataset is overridden.\n",
      "New categorical_feature is ['education', 'marital.status', 'native.country', 'occupation', 'race', 'relationship', 'sex', 'workclass']\n",
      "  _log_warning('categorical_feature in Dataset is overridden.\\n'\n",
      "C:\\Python39\\lib\\site-packages\\lightgbm\\engine.py:239: UserWarning: 'verbose_eval' argument is deprecated and will be removed in a future release of LightGBM. Pass 'log_evaluation()' callback via 'callbacks' argument instead.\n",
      "  _log_warning(\"'verbose_eval' argument is deprecated and will be removed in a future release of LightGBM. \"\n",
      "C:\\Python39\\lib\\site-packages\\lightgbm\\basic.py:1780: UserWarning: Overriding the parameters from Reference Dataset.\n",
      "  _log_warning('Overriding the parameters from Reference Dataset.')\n",
      "C:\\Python39\\lib\\site-packages\\lightgbm\\basic.py:1513: UserWarning: categorical_column in param dict is overridden.\n",
      "  _log_warning(f'{cat_alias} in param dict is overridden.')\n"
     ]
    },
    {
     "name": "stdout",
     "output_type": "stream",
     "text": [
      "Training until validation scores don't improve for 100 rounds\n",
      "[50]\tvalid_0's auc: 0.868618\n",
      "[100]\tvalid_0's auc: 0.874028\n",
      "[150]\tvalid_0's auc: 0.876819\n",
      "[200]\tvalid_0's auc: 0.879295\n",
      "[250]\tvalid_0's auc: 0.882984\n",
      "[300]\tvalid_0's auc: 0.884658\n",
      "[350]\tvalid_0's auc: 0.887474\n",
      "[400]\tvalid_0's auc: 0.889871\n",
      "[450]\tvalid_0's auc: 0.891211\n",
      "[500]\tvalid_0's auc: 0.892323\n",
      "[550]\tvalid_0's auc: 0.893353\n",
      "[600]\tvalid_0's auc: 0.893989\n",
      "[650]\tvalid_0's auc: 0.894628\n",
      "[700]\tvalid_0's auc: 0.895407\n",
      "[750]\tvalid_0's auc: 0.895848\n",
      "[800]\tvalid_0's auc: 0.896407\n",
      "[850]\tvalid_0's auc: 0.896956\n",
      "[900]\tvalid_0's auc: 0.897397\n",
      "[950]\tvalid_0's auc: 0.89761\n",
      "[1000]\tvalid_0's auc: 0.897961\n",
      "[1050]\tvalid_0's auc: 0.898152\n",
      "[1100]\tvalid_0's auc: 0.898554\n",
      "[1150]\tvalid_0's auc: 0.898878\n",
      "[1200]\tvalid_0's auc: 0.899117\n",
      "[1250]\tvalid_0's auc: 0.899454\n",
      "[1300]\tvalid_0's auc: 0.899677\n",
      "[1350]\tvalid_0's auc: 0.899853\n",
      "[1400]\tvalid_0's auc: 0.900028\n",
      "[1450]\tvalid_0's auc: 0.900177\n",
      "[1500]\tvalid_0's auc: 0.900286\n",
      "[1550]\tvalid_0's auc: 0.900443\n",
      "[1600]\tvalid_0's auc: 0.900511\n",
      "[1650]\tvalid_0's auc: 0.900582\n",
      "[1700]\tvalid_0's auc: 0.900713\n",
      "[1750]\tvalid_0's auc: 0.900778\n",
      "[1800]\tvalid_0's auc: 0.90088\n",
      "[1850]\tvalid_0's auc: 0.900927\n",
      "[1900]\tvalid_0's auc: 0.901002\n",
      "[1950]\tvalid_0's auc: 0.901081\n",
      "[2000]\tvalid_0's auc: 0.901162\n",
      "[2050]\tvalid_0's auc: 0.901253\n",
      "[2100]\tvalid_0's auc: 0.901271\n",
      "[2150]\tvalid_0's auc: 0.901328\n",
      "[2200]\tvalid_0's auc: 0.901395\n",
      "[2250]\tvalid_0's auc: 0.901506\n",
      "[2300]\tvalid_0's auc: 0.90155\n",
      "[2350]\tvalid_0's auc: 0.901618\n",
      "[2400]\tvalid_0's auc: 0.901641\n",
      "[2450]\tvalid_0's auc: 0.901684\n",
      "[2500]\tvalid_0's auc: 0.901731\n",
      "[2550]\tvalid_0's auc: 0.901792\n",
      "[2600]\tvalid_0's auc: 0.901821\n",
      "[2650]\tvalid_0's auc: 0.901852\n",
      "[2700]\tvalid_0's auc: 0.901907\n",
      "[2750]\tvalid_0's auc: 0.901949\n",
      "[2800]\tvalid_0's auc: 0.902023\n",
      "[2850]\tvalid_0's auc: 0.902069\n",
      "[2900]\tvalid_0's auc: 0.902128\n",
      "[2950]\tvalid_0's auc: 0.90215\n",
      "[3000]\tvalid_0's auc: 0.902186\n",
      "[3050]\tvalid_0's auc: 0.902216\n",
      "[3100]\tvalid_0's auc: 0.902302\n",
      "[3150]\tvalid_0's auc: 0.902346\n",
      "[3200]\tvalid_0's auc: 0.902407\n",
      "[3250]\tvalid_0's auc: 0.902428\n",
      "[3300]\tvalid_0's auc: 0.902457\n",
      "[3350]\tvalid_0's auc: 0.902502\n",
      "[3400]\tvalid_0's auc: 0.902536\n",
      "[3450]\tvalid_0's auc: 0.902554\n",
      "[3500]\tvalid_0's auc: 0.902593\n",
      "[3550]\tvalid_0's auc: 0.902623\n",
      "[3600]\tvalid_0's auc: 0.902638\n",
      "[3650]\tvalid_0's auc: 0.902657\n",
      "[3700]\tvalid_0's auc: 0.902676\n",
      "[3750]\tvalid_0's auc: 0.902723\n",
      "[3800]\tvalid_0's auc: 0.902751\n",
      "[3850]\tvalid_0's auc: 0.902756\n",
      "[3900]\tvalid_0's auc: 0.902776\n",
      "[3950]\tvalid_0's auc: 0.902815\n",
      "[4000]\tvalid_0's auc: 0.902839\n",
      "[4050]\tvalid_0's auc: 0.902869\n",
      "[4100]\tvalid_0's auc: 0.902909\n",
      "[4150]\tvalid_0's auc: 0.902921\n",
      "[4200]\tvalid_0's auc: 0.902942\n",
      "[4250]\tvalid_0's auc: 0.902949\n",
      "[4300]\tvalid_0's auc: 0.902983\n",
      "[4350]\tvalid_0's auc: 0.903023\n",
      "[4400]\tvalid_0's auc: 0.903027\n",
      "[4450]\tvalid_0's auc: 0.903037\n",
      "[4500]\tvalid_0's auc: 0.903052\n",
      "[4550]\tvalid_0's auc: 0.903065\n",
      "[4600]\tvalid_0's auc: 0.9031\n",
      "[4650]\tvalid_0's auc: 0.903107\n",
      "[4700]\tvalid_0's auc: 0.903126\n",
      "[4750]\tvalid_0's auc: 0.903154\n",
      "[4800]\tvalid_0's auc: 0.903171\n",
      "[4850]\tvalid_0's auc: 0.903193\n",
      "[4900]\tvalid_0's auc: 0.903231\n",
      "[4950]\tvalid_0's auc: 0.903243\n",
      "[5000]\tvalid_0's auc: 0.903264\n",
      "[5050]\tvalid_0's auc: 0.903287\n",
      "[5100]\tvalid_0's auc: 0.903299\n",
      "[5150]\tvalid_0's auc: 0.903317\n",
      "[5200]\tvalid_0's auc: 0.903331\n",
      "[5250]\tvalid_0's auc: 0.903358\n",
      "[5300]\tvalid_0's auc: 0.903384\n",
      "[5350]\tvalid_0's auc: 0.903398\n",
      "[5400]\tvalid_0's auc: 0.903423\n",
      "[5450]\tvalid_0's auc: 0.903443\n",
      "[5500]\tvalid_0's auc: 0.903446\n",
      "[5550]\tvalid_0's auc: 0.903472\n",
      "[5600]\tvalid_0's auc: 0.903499\n",
      "[5650]\tvalid_0's auc: 0.903528\n",
      "[5700]\tvalid_0's auc: 0.903545\n",
      "[5750]\tvalid_0's auc: 0.903559\n",
      "[5800]\tvalid_0's auc: 0.903584\n",
      "[5850]\tvalid_0's auc: 0.903607\n",
      "[5900]\tvalid_0's auc: 0.90362\n",
      "[5950]\tvalid_0's auc: 0.903628\n",
      "[6000]\tvalid_0's auc: 0.903639\n",
      "[6050]\tvalid_0's auc: 0.903655\n",
      "[6100]\tvalid_0's auc: 0.903669\n",
      "[6150]\tvalid_0's auc: 0.903694\n",
      "[6200]\tvalid_0's auc: 0.903687\n",
      "[6250]\tvalid_0's auc: 0.903701\n",
      "[6300]\tvalid_0's auc: 0.90372\n",
      "[6350]\tvalid_0's auc: 0.903729\n",
      "[6400]\tvalid_0's auc: 0.903751\n",
      "[6450]\tvalid_0's auc: 0.903767\n",
      "[6500]\tvalid_0's auc: 0.903769\n",
      "[6550]\tvalid_0's auc: 0.903789\n",
      "[6600]\tvalid_0's auc: 0.903782\n",
      "[6650]\tvalid_0's auc: 0.90378\n",
      "[6700]\tvalid_0's auc: 0.9038\n",
      "[6750]\tvalid_0's auc: 0.903819\n",
      "[6800]\tvalid_0's auc: 0.903828\n",
      "[6850]\tvalid_0's auc: 0.903827\n",
      "[6900]\tvalid_0's auc: 0.903842\n",
      "[6950]\tvalid_0's auc: 0.903853\n",
      "[7000]\tvalid_0's auc: 0.903858\n",
      "[7050]\tvalid_0's auc: 0.90385\n",
      "[7100]\tvalid_0's auc: 0.903867\n",
      "[7150]\tvalid_0's auc: 0.903881\n",
      "[7200]\tvalid_0's auc: 0.903887\n",
      "[7250]\tvalid_0's auc: 0.903881\n",
      "Early stopping, best iteration is:\n",
      "[7193]\tvalid_0's auc: 0.903887\n"
     ]
    },
    {
     "name": "stderr",
     "output_type": "stream",
     "text": [
      "num_leaves, val_score: 0.906875:  75%|####################################7            | 15/20 [00:22<00:13,  2.73s/it]C:\\Python39\\lib\\site-packages\\lightgbm\\engine.py:181: UserWarning: 'early_stopping_rounds' argument is deprecated and will be removed in a future release of LightGBM. Pass 'early_stopping()' callback via 'callbacks' argument instead.\n",
      "  _log_warning(\"'early_stopping_rounds' argument is deprecated and will be removed in a future release of LightGBM. \"\n",
      "C:\\Python39\\lib\\site-packages\\lightgbm\\basic.py:2068: UserWarning: categorical_feature in Dataset is overridden.\n",
      "New categorical_feature is ['education', 'marital.status', 'native.country', 'occupation', 'race', 'relationship', 'sex', 'workclass']\n",
      "  _log_warning('categorical_feature in Dataset is overridden.\\n'\n",
      "C:\\Python39\\lib\\site-packages\\lightgbm\\engine.py:239: UserWarning: 'verbose_eval' argument is deprecated and will be removed in a future release of LightGBM. Pass 'log_evaluation()' callback via 'callbacks' argument instead.\n",
      "  _log_warning(\"'verbose_eval' argument is deprecated and will be removed in a future release of LightGBM. \"\n",
      "C:\\Python39\\lib\\site-packages\\lightgbm\\basic.py:1780: UserWarning: Overriding the parameters from Reference Dataset.\n",
      "  _log_warning('Overriding the parameters from Reference Dataset.')\n",
      "C:\\Python39\\lib\\site-packages\\lightgbm\\basic.py:1513: UserWarning: categorical_column in param dict is overridden.\n",
      "  _log_warning(f'{cat_alias} in param dict is overridden.')\n"
     ]
    },
    {
     "name": "stdout",
     "output_type": "stream",
     "text": [
      "Training until validation scores don't improve for 100 rounds\n",
      "[50]\tvalid_0's auc: 0.903208\n",
      "[100]\tvalid_0's auc: 0.904539\n",
      "[150]\tvalid_0's auc: 0.90546\n",
      "[200]\tvalid_0's auc: 0.905936\n",
      "[250]\tvalid_0's auc: 0.90624\n",
      "[300]\tvalid_0's auc: 0.906506\n",
      "[350]\tvalid_0's auc: 0.906548\n",
      "[400]\tvalid_0's auc: 0.906527\n"
     ]
    },
    {
     "name": "stderr",
     "output_type": "stream",
     "text": [
      "num_leaves, val_score: 0.906875:  75%|####################################7            | 15/20 [00:23<00:13,  2.73s/it]"
     ]
    },
    {
     "name": "stdout",
     "output_type": "stream",
     "text": [
      "[450]\tvalid_0's auc: 0.906616\n",
      "[500]\tvalid_0's auc: 0.906307\n",
      "Early stopping, best iteration is:\n",
      "[421]\tvalid_0's auc: 0.906664\n"
     ]
    },
    {
     "name": "stderr",
     "output_type": "stream",
     "text": [
      "num_leaves, val_score: 0.906875:  80%|#######################################2         | 16/20 [00:23<00:08,  2.23s/it]C:\\Python39\\lib\\site-packages\\lightgbm\\engine.py:181: UserWarning: 'early_stopping_rounds' argument is deprecated and will be removed in a future release of LightGBM. Pass 'early_stopping()' callback via 'callbacks' argument instead.\n",
      "  _log_warning(\"'early_stopping_rounds' argument is deprecated and will be removed in a future release of LightGBM. \"\n",
      "C:\\Python39\\lib\\site-packages\\lightgbm\\basic.py:2068: UserWarning: categorical_feature in Dataset is overridden.\n",
      "New categorical_feature is ['education', 'marital.status', 'native.country', 'occupation', 'race', 'relationship', 'sex', 'workclass']\n",
      "  _log_warning('categorical_feature in Dataset is overridden.\\n'\n",
      "C:\\Python39\\lib\\site-packages\\lightgbm\\engine.py:239: UserWarning: 'verbose_eval' argument is deprecated and will be removed in a future release of LightGBM. Pass 'log_evaluation()' callback via 'callbacks' argument instead.\n",
      "  _log_warning(\"'verbose_eval' argument is deprecated and will be removed in a future release of LightGBM. \"\n",
      "C:\\Python39\\lib\\site-packages\\lightgbm\\basic.py:1780: UserWarning: Overriding the parameters from Reference Dataset.\n",
      "  _log_warning('Overriding the parameters from Reference Dataset.')\n",
      "C:\\Python39\\lib\\site-packages\\lightgbm\\basic.py:1513: UserWarning: categorical_column in param dict is overridden.\n",
      "  _log_warning(f'{cat_alias} in param dict is overridden.')\n"
     ]
    },
    {
     "name": "stdout",
     "output_type": "stream",
     "text": [
      "Training until validation scores don't improve for 100 rounds\n",
      "[50]\tvalid_0's auc: 0.903262\n",
      "[100]\tvalid_0's auc: 0.904627\n",
      "[150]\tvalid_0's auc: 0.905441\n",
      "[200]\tvalid_0's auc: 0.905964\n",
      "[250]\tvalid_0's auc: 0.906383\n",
      "[300]\tvalid_0's auc: 0.906543\n",
      "[350]\tvalid_0's auc: 0.906631\n",
      "[400]\tvalid_0's auc: 0.906689\n",
      "[450]\tvalid_0's auc: 0.906731\n"
     ]
    },
    {
     "name": "stderr",
     "output_type": "stream",
     "text": [
      "num_leaves, val_score: 0.906875:  85%|#########################################6       | 17/20 [00:24<00:05,  1.93s/it]"
     ]
    },
    {
     "name": "stdout",
     "output_type": "stream",
     "text": [
      "[500]\tvalid_0's auc: 0.906396\n",
      "Early stopping, best iteration is:\n",
      "[425]\tvalid_0's auc: 0.906768\n",
      "Training until validation scores don't improve for 100 rounds\n"
     ]
    },
    {
     "name": "stderr",
     "output_type": "stream",
     "text": [
      "C:\\Python39\\lib\\site-packages\\lightgbm\\engine.py:181: UserWarning: 'early_stopping_rounds' argument is deprecated and will be removed in a future release of LightGBM. Pass 'early_stopping()' callback via 'callbacks' argument instead.\n",
      "  _log_warning(\"'early_stopping_rounds' argument is deprecated and will be removed in a future release of LightGBM. \"\n",
      "C:\\Python39\\lib\\site-packages\\lightgbm\\basic.py:2068: UserWarning: categorical_feature in Dataset is overridden.\n",
      "New categorical_feature is ['education', 'marital.status', 'native.country', 'occupation', 'race', 'relationship', 'sex', 'workclass']\n",
      "  _log_warning('categorical_feature in Dataset is overridden.\\n'\n",
      "C:\\Python39\\lib\\site-packages\\lightgbm\\engine.py:239: UserWarning: 'verbose_eval' argument is deprecated and will be removed in a future release of LightGBM. Pass 'log_evaluation()' callback via 'callbacks' argument instead.\n",
      "  _log_warning(\"'verbose_eval' argument is deprecated and will be removed in a future release of LightGBM. \"\n",
      "C:\\Python39\\lib\\site-packages\\lightgbm\\basic.py:1780: UserWarning: Overriding the parameters from Reference Dataset.\n",
      "  _log_warning('Overriding the parameters from Reference Dataset.')\n",
      "C:\\Python39\\lib\\site-packages\\lightgbm\\basic.py:1513: UserWarning: categorical_column in param dict is overridden.\n",
      "  _log_warning(f'{cat_alias} in param dict is overridden.')\n"
     ]
    },
    {
     "name": "stdout",
     "output_type": "stream",
     "text": [
      "[50]\tvalid_0's auc: 0.903683\n",
      "[100]\tvalid_0's auc: 0.904486\n",
      "[150]\tvalid_0's auc: 0.905027\n",
      "[200]\tvalid_0's auc: 0.905157\n",
      "[250]\tvalid_0's auc: 0.905274\n",
      "[300]\tvalid_0's auc: 0.905048\n"
     ]
    },
    {
     "name": "stderr",
     "output_type": "stream",
     "text": [
      "num_leaves, val_score: 0.906875:  90%|############################################1    | 18/20 [00:25<00:03,  1.68s/it]"
     ]
    },
    {
     "name": "stdout",
     "output_type": "stream",
     "text": [
      "[350]\tvalid_0's auc: 0.904872\n",
      "Early stopping, best iteration is:\n",
      "[260]\tvalid_0's auc: 0.905368\n",
      "Training until validation scores don't improve for 100 rounds\n"
     ]
    },
    {
     "name": "stderr",
     "output_type": "stream",
     "text": [
      "C:\\Python39\\lib\\site-packages\\lightgbm\\engine.py:181: UserWarning: 'early_stopping_rounds' argument is deprecated and will be removed in a future release of LightGBM. Pass 'early_stopping()' callback via 'callbacks' argument instead.\n",
      "  _log_warning(\"'early_stopping_rounds' argument is deprecated and will be removed in a future release of LightGBM. \"\n",
      "C:\\Python39\\lib\\site-packages\\lightgbm\\basic.py:2068: UserWarning: categorical_feature in Dataset is overridden.\n",
      "New categorical_feature is ['education', 'marital.status', 'native.country', 'occupation', 'race', 'relationship', 'sex', 'workclass']\n",
      "  _log_warning('categorical_feature in Dataset is overridden.\\n'\n",
      "C:\\Python39\\lib\\site-packages\\lightgbm\\engine.py:239: UserWarning: 'verbose_eval' argument is deprecated and will be removed in a future release of LightGBM. Pass 'log_evaluation()' callback via 'callbacks' argument instead.\n",
      "  _log_warning(\"'verbose_eval' argument is deprecated and will be removed in a future release of LightGBM. \"\n",
      "C:\\Python39\\lib\\site-packages\\lightgbm\\basic.py:1780: UserWarning: Overriding the parameters from Reference Dataset.\n",
      "  _log_warning('Overriding the parameters from Reference Dataset.')\n",
      "C:\\Python39\\lib\\site-packages\\lightgbm\\basic.py:1513: UserWarning: categorical_column in param dict is overridden.\n",
      "  _log_warning(f'{cat_alias} in param dict is overridden.')\n"
     ]
    },
    {
     "name": "stdout",
     "output_type": "stream",
     "text": [
      "[50]\tvalid_0's auc: 0.903365\n",
      "[100]\tvalid_0's auc: 0.903913\n",
      "[150]\tvalid_0's auc: 0.90428\n",
      "[200]\tvalid_0's auc: 0.904344\n",
      "[250]\tvalid_0's auc: 0.904019\n",
      "Early stopping, best iteration is:\n",
      "[185]\tvalid_0's auc: 0.904521\n"
     ]
    },
    {
     "name": "stderr",
     "output_type": "stream",
     "text": [
      "num_leaves, val_score: 0.906875:  95%|##############################################5  | 19/20 [00:27<00:01,  1.58s/it]C:\\Python39\\lib\\site-packages\\lightgbm\\engine.py:181: UserWarning: 'early_stopping_rounds' argument is deprecated and will be removed in a future release of LightGBM. Pass 'early_stopping()' callback via 'callbacks' argument instead.\n",
      "  _log_warning(\"'early_stopping_rounds' argument is deprecated and will be removed in a future release of LightGBM. \"\n",
      "C:\\Python39\\lib\\site-packages\\lightgbm\\basic.py:2068: UserWarning: categorical_feature in Dataset is overridden.\n",
      "New categorical_feature is ['education', 'marital.status', 'native.country', 'occupation', 'race', 'relationship', 'sex', 'workclass']\n",
      "  _log_warning('categorical_feature in Dataset is overridden.\\n'\n",
      "C:\\Python39\\lib\\site-packages\\lightgbm\\engine.py:239: UserWarning: 'verbose_eval' argument is deprecated and will be removed in a future release of LightGBM. Pass 'log_evaluation()' callback via 'callbacks' argument instead.\n",
      "  _log_warning(\"'verbose_eval' argument is deprecated and will be removed in a future release of LightGBM. \"\n",
      "C:\\Python39\\lib\\site-packages\\lightgbm\\basic.py:1780: UserWarning: Overriding the parameters from Reference Dataset.\n",
      "  _log_warning('Overriding the parameters from Reference Dataset.')\n",
      "C:\\Python39\\lib\\site-packages\\lightgbm\\basic.py:1513: UserWarning: categorical_column in param dict is overridden.\n",
      "  _log_warning(f'{cat_alias} in param dict is overridden.')\n"
     ]
    },
    {
     "name": "stdout",
     "output_type": "stream",
     "text": [
      "Training until validation scores don't improve for 100 rounds\n",
      "[50]\tvalid_0's auc: 0.903349\n",
      "[100]\tvalid_0's auc: 0.904632\n",
      "[150]\tvalid_0's auc: 0.905396\n",
      "[200]\tvalid_0's auc: 0.90585\n",
      "[250]\tvalid_0's auc: 0.906207\n",
      "[300]\tvalid_0's auc: 0.906426\n"
     ]
    },
    {
     "name": "stderr",
     "output_type": "stream",
     "text": [
      "num_leaves, val_score: 0.906875: 100%|#################################################| 20/20 [00:28<00:00,  1.41s/it]\n"
     ]
    },
    {
     "name": "stdout",
     "output_type": "stream",
     "text": [
      "[350]\tvalid_0's auc: 0.906357\n",
      "[400]\tvalid_0's auc: 0.906259\n",
      "Early stopping, best iteration is:\n",
      "[301]\tvalid_0's auc: 0.906453\n"
     ]
    },
    {
     "name": "stderr",
     "output_type": "stream",
     "text": [
      "bagging, val_score: 0.906875:   0%|                                                             | 0/10 [00:00<?, ?it/s]C:\\Python39\\lib\\site-packages\\lightgbm\\engine.py:181: UserWarning: 'early_stopping_rounds' argument is deprecated and will be removed in a future release of LightGBM. Pass 'early_stopping()' callback via 'callbacks' argument instead.\n",
      "  _log_warning(\"'early_stopping_rounds' argument is deprecated and will be removed in a future release of LightGBM. \"\n",
      "C:\\Python39\\lib\\site-packages\\lightgbm\\basic.py:2068: UserWarning: categorical_feature in Dataset is overridden.\n",
      "New categorical_feature is ['education', 'marital.status', 'native.country', 'occupation', 'race', 'relationship', 'sex', 'workclass']\n",
      "  _log_warning('categorical_feature in Dataset is overridden.\\n'\n",
      "C:\\Python39\\lib\\site-packages\\lightgbm\\engine.py:239: UserWarning: 'verbose_eval' argument is deprecated and will be removed in a future release of LightGBM. Pass 'log_evaluation()' callback via 'callbacks' argument instead.\n",
      "  _log_warning(\"'verbose_eval' argument is deprecated and will be removed in a future release of LightGBM. \"\n",
      "C:\\Python39\\lib\\site-packages\\lightgbm\\basic.py:1780: UserWarning: Overriding the parameters from Reference Dataset.\n",
      "  _log_warning('Overriding the parameters from Reference Dataset.')\n",
      "C:\\Python39\\lib\\site-packages\\lightgbm\\basic.py:1513: UserWarning: categorical_column in param dict is overridden.\n",
      "  _log_warning(f'{cat_alias} in param dict is overridden.')\n"
     ]
    },
    {
     "name": "stdout",
     "output_type": "stream",
     "text": [
      "Training until validation scores don't improve for 100 rounds\n",
      "[50]\tvalid_0's auc: 0.902455\n",
      "[100]\tvalid_0's auc: 0.904022\n",
      "[150]\tvalid_0's auc: 0.904923\n",
      "[200]\tvalid_0's auc: 0.905522\n",
      "[250]\tvalid_0's auc: 0.905994\n",
      "[300]\tvalid_0's auc: 0.906269\n",
      "[350]\tvalid_0's auc: 0.906408\n",
      "[400]\tvalid_0's auc: 0.906364\n",
      "[450]\tvalid_0's auc: 0.906212\n",
      "[500]\tvalid_0's auc: 0.906107\n"
     ]
    },
    {
     "name": "stderr",
     "output_type": "stream",
     "text": [
      "bagging, val_score: 0.906875:  10%|#####3                                               | 1/10 [00:01<00:10,  1.13s/it]"
     ]
    },
    {
     "name": "stdout",
     "output_type": "stream",
     "text": [
      "Early stopping, best iteration is:\n",
      "[422]\tvalid_0's auc: 0.906416\n",
      "Training until validation scores don't improve for 100 rounds\n",
      "[50]\tvalid_0's auc: 0.902565\n"
     ]
    },
    {
     "name": "stderr",
     "output_type": "stream",
     "text": [
      "C:\\Python39\\lib\\site-packages\\lightgbm\\engine.py:181: UserWarning: 'early_stopping_rounds' argument is deprecated and will be removed in a future release of LightGBM. Pass 'early_stopping()' callback via 'callbacks' argument instead.\n",
      "  _log_warning(\"'early_stopping_rounds' argument is deprecated and will be removed in a future release of LightGBM. \"\n",
      "C:\\Python39\\lib\\site-packages\\lightgbm\\basic.py:2068: UserWarning: categorical_feature in Dataset is overridden.\n",
      "New categorical_feature is ['education', 'marital.status', 'native.country', 'occupation', 'race', 'relationship', 'sex', 'workclass']\n",
      "  _log_warning('categorical_feature in Dataset is overridden.\\n'\n",
      "C:\\Python39\\lib\\site-packages\\lightgbm\\engine.py:239: UserWarning: 'verbose_eval' argument is deprecated and will be removed in a future release of LightGBM. Pass 'log_evaluation()' callback via 'callbacks' argument instead.\n",
      "  _log_warning(\"'verbose_eval' argument is deprecated and will be removed in a future release of LightGBM. \"\n",
      "C:\\Python39\\lib\\site-packages\\lightgbm\\basic.py:1780: UserWarning: Overriding the parameters from Reference Dataset.\n",
      "  _log_warning('Overriding the parameters from Reference Dataset.')\n",
      "C:\\Python39\\lib\\site-packages\\lightgbm\\basic.py:1513: UserWarning: categorical_column in param dict is overridden.\n",
      "  _log_warning(f'{cat_alias} in param dict is overridden.')\n"
     ]
    },
    {
     "name": "stdout",
     "output_type": "stream",
     "text": [
      "[100]\tvalid_0's auc: 0.903914\n",
      "[150]\tvalid_0's auc: 0.90497\n",
      "[200]\tvalid_0's auc: 0.905646\n",
      "[250]\tvalid_0's auc: 0.905906\n",
      "[300]\tvalid_0's auc: 0.906275\n",
      "[350]\tvalid_0's auc: 0.906432\n",
      "[400]\tvalid_0's auc: 0.906231\n",
      "Early stopping, best iteration is:\n",
      "[343]\tvalid_0's auc: 0.906462\n"
     ]
    },
    {
     "name": "stderr",
     "output_type": "stream",
     "text": [
      "bagging, val_score: 0.906875:  20%|##########6                                          | 2/10 [00:02<00:08,  1.01s/it]C:\\Python39\\lib\\site-packages\\lightgbm\\engine.py:181: UserWarning: 'early_stopping_rounds' argument is deprecated and will be removed in a future release of LightGBM. Pass 'early_stopping()' callback via 'callbacks' argument instead.\n",
      "  _log_warning(\"'early_stopping_rounds' argument is deprecated and will be removed in a future release of LightGBM. \"\n",
      "C:\\Python39\\lib\\site-packages\\lightgbm\\basic.py:2068: UserWarning: categorical_feature in Dataset is overridden.\n",
      "New categorical_feature is ['education', 'marital.status', 'native.country', 'occupation', 'race', 'relationship', 'sex', 'workclass']\n",
      "  _log_warning('categorical_feature in Dataset is overridden.\\n'\n",
      "C:\\Python39\\lib\\site-packages\\lightgbm\\engine.py:239: UserWarning: 'verbose_eval' argument is deprecated and will be removed in a future release of LightGBM. Pass 'log_evaluation()' callback via 'callbacks' argument instead.\n",
      "  _log_warning(\"'verbose_eval' argument is deprecated and will be removed in a future release of LightGBM. \"\n",
      "C:\\Python39\\lib\\site-packages\\lightgbm\\basic.py:1780: UserWarning: Overriding the parameters from Reference Dataset.\n",
      "  _log_warning('Overriding the parameters from Reference Dataset.')\n",
      "C:\\Python39\\lib\\site-packages\\lightgbm\\basic.py:1513: UserWarning: categorical_column in param dict is overridden.\n",
      "  _log_warning(f'{cat_alias} in param dict is overridden.')\n"
     ]
    },
    {
     "name": "stdout",
     "output_type": "stream",
     "text": [
      "Training until validation scores don't improve for 100 rounds\n",
      "[50]\tvalid_0's auc: 0.903061\n",
      "[100]\tvalid_0's auc: 0.904408\n",
      "[150]\tvalid_0's auc: 0.905243\n",
      "[200]\tvalid_0's auc: 0.905914\n",
      "[250]\tvalid_0's auc: 0.906569\n",
      "[300]\tvalid_0's auc: 0.906708\n",
      "[350]\tvalid_0's auc: 0.90679\n",
      "[400]\tvalid_0's auc: 0.906853\n"
     ]
    },
    {
     "name": "stderr",
     "output_type": "stream",
     "text": [
      "bagging, val_score: 0.906912:  30%|###############9                                     | 3/10 [00:03<00:07,  1.05s/it]"
     ]
    },
    {
     "name": "stdout",
     "output_type": "stream",
     "text": [
      "[450]\tvalid_0's auc: 0.906714\n",
      "Early stopping, best iteration is:\n",
      "[377]\tvalid_0's auc: 0.906912\n",
      "Training until validation scores don't improve for 100 rounds\n"
     ]
    },
    {
     "name": "stderr",
     "output_type": "stream",
     "text": [
      "C:\\Python39\\lib\\site-packages\\lightgbm\\engine.py:181: UserWarning: 'early_stopping_rounds' argument is deprecated and will be removed in a future release of LightGBM. Pass 'early_stopping()' callback via 'callbacks' argument instead.\n",
      "  _log_warning(\"'early_stopping_rounds' argument is deprecated and will be removed in a future release of LightGBM. \"\n",
      "C:\\Python39\\lib\\site-packages\\lightgbm\\basic.py:2068: UserWarning: categorical_feature in Dataset is overridden.\n",
      "New categorical_feature is ['education', 'marital.status', 'native.country', 'occupation', 'race', 'relationship', 'sex', 'workclass']\n",
      "  _log_warning('categorical_feature in Dataset is overridden.\\n'\n",
      "C:\\Python39\\lib\\site-packages\\lightgbm\\engine.py:239: UserWarning: 'verbose_eval' argument is deprecated and will be removed in a future release of LightGBM. Pass 'log_evaluation()' callback via 'callbacks' argument instead.\n",
      "  _log_warning(\"'verbose_eval' argument is deprecated and will be removed in a future release of LightGBM. \"\n",
      "C:\\Python39\\lib\\site-packages\\lightgbm\\basic.py:1780: UserWarning: Overriding the parameters from Reference Dataset.\n",
      "  _log_warning('Overriding the parameters from Reference Dataset.')\n",
      "C:\\Python39\\lib\\site-packages\\lightgbm\\basic.py:1513: UserWarning: categorical_column in param dict is overridden.\n",
      "  _log_warning(f'{cat_alias} in param dict is overridden.')\n"
     ]
    },
    {
     "name": "stdout",
     "output_type": "stream",
     "text": [
      "[50]\tvalid_0's auc: 0.902448\n",
      "[100]\tvalid_0's auc: 0.903412\n",
      "[150]\tvalid_0's auc: 0.904318\n",
      "[200]\tvalid_0's auc: 0.904974\n",
      "[250]\tvalid_0's auc: 0.905533\n",
      "[300]\tvalid_0's auc: 0.905892\n"
     ]
    },
    {
     "name": "stderr",
     "output_type": "stream",
     "text": [
      "bagging, val_score: 0.906912:  40%|#####################2                               | 4/10 [00:04<00:05,  1.03it/s]"
     ]
    },
    {
     "name": "stdout",
     "output_type": "stream",
     "text": [
      "[350]\tvalid_0's auc: 0.905695\n",
      "[400]\tvalid_0's auc: 0.905692\n",
      "Early stopping, best iteration is:\n",
      "[300]\tvalid_0's auc: 0.905892\n",
      "Training until validation scores don't improve for 100 rounds\n"
     ]
    },
    {
     "name": "stderr",
     "output_type": "stream",
     "text": [
      "C:\\Python39\\lib\\site-packages\\lightgbm\\engine.py:181: UserWarning: 'early_stopping_rounds' argument is deprecated and will be removed in a future release of LightGBM. Pass 'early_stopping()' callback via 'callbacks' argument instead.\n",
      "  _log_warning(\"'early_stopping_rounds' argument is deprecated and will be removed in a future release of LightGBM. \"\n",
      "C:\\Python39\\lib\\site-packages\\lightgbm\\basic.py:2068: UserWarning: categorical_feature in Dataset is overridden.\n",
      "New categorical_feature is ['education', 'marital.status', 'native.country', 'occupation', 'race', 'relationship', 'sex', 'workclass']\n",
      "  _log_warning('categorical_feature in Dataset is overridden.\\n'\n",
      "C:\\Python39\\lib\\site-packages\\lightgbm\\engine.py:239: UserWarning: 'verbose_eval' argument is deprecated and will be removed in a future release of LightGBM. Pass 'log_evaluation()' callback via 'callbacks' argument instead.\n",
      "  _log_warning(\"'verbose_eval' argument is deprecated and will be removed in a future release of LightGBM. \"\n",
      "C:\\Python39\\lib\\site-packages\\lightgbm\\basic.py:1780: UserWarning: Overriding the parameters from Reference Dataset.\n",
      "  _log_warning('Overriding the parameters from Reference Dataset.')\n",
      "C:\\Python39\\lib\\site-packages\\lightgbm\\basic.py:1513: UserWarning: categorical_column in param dict is overridden.\n",
      "  _log_warning(f'{cat_alias} in param dict is overridden.')\n"
     ]
    },
    {
     "name": "stdout",
     "output_type": "stream",
     "text": [
      "[50]\tvalid_0's auc: 0.902198\n",
      "[100]\tvalid_0's auc: 0.903191\n",
      "[150]\tvalid_0's auc: 0.904235\n",
      "[200]\tvalid_0's auc: 0.904893\n",
      "[250]\tvalid_0's auc: 0.905436\n",
      "[300]\tvalid_0's auc: 0.906\n",
      "[350]\tvalid_0's auc: 0.906116\n",
      "[400]\tvalid_0's auc: 0.906277\n",
      "[450]\tvalid_0's auc: 0.906061\n"
     ]
    },
    {
     "name": "stderr",
     "output_type": "stream",
     "text": [
      "bagging, val_score: 0.906912:  50%|##########################5                          | 5/10 [00:05<00:04,  1.01it/s]"
     ]
    },
    {
     "name": "stdout",
     "output_type": "stream",
     "text": [
      "[500]\tvalid_0's auc: 0.905845\n",
      "Early stopping, best iteration is:\n",
      "[414]\tvalid_0's auc: 0.906357\n",
      "Training until validation scores don't improve for 100 rounds\n"
     ]
    },
    {
     "name": "stderr",
     "output_type": "stream",
     "text": [
      "C:\\Python39\\lib\\site-packages\\lightgbm\\engine.py:181: UserWarning: 'early_stopping_rounds' argument is deprecated and will be removed in a future release of LightGBM. Pass 'early_stopping()' callback via 'callbacks' argument instead.\n",
      "  _log_warning(\"'early_stopping_rounds' argument is deprecated and will be removed in a future release of LightGBM. \"\n",
      "C:\\Python39\\lib\\site-packages\\lightgbm\\basic.py:2068: UserWarning: categorical_feature in Dataset is overridden.\n",
      "New categorical_feature is ['education', 'marital.status', 'native.country', 'occupation', 'race', 'relationship', 'sex', 'workclass']\n",
      "  _log_warning('categorical_feature in Dataset is overridden.\\n'\n",
      "C:\\Python39\\lib\\site-packages\\lightgbm\\engine.py:239: UserWarning: 'verbose_eval' argument is deprecated and will be removed in a future release of LightGBM. Pass 'log_evaluation()' callback via 'callbacks' argument instead.\n",
      "  _log_warning(\"'verbose_eval' argument is deprecated and will be removed in a future release of LightGBM. \"\n",
      "C:\\Python39\\lib\\site-packages\\lightgbm\\basic.py:1780: UserWarning: Overriding the parameters from Reference Dataset.\n",
      "  _log_warning('Overriding the parameters from Reference Dataset.')\n",
      "C:\\Python39\\lib\\site-packages\\lightgbm\\basic.py:1513: UserWarning: categorical_column in param dict is overridden.\n",
      "  _log_warning(f'{cat_alias} in param dict is overridden.')\n"
     ]
    },
    {
     "name": "stdout",
     "output_type": "stream",
     "text": [
      "[50]\tvalid_0's auc: 0.902373\n",
      "[100]\tvalid_0's auc: 0.903275\n",
      "[150]\tvalid_0's auc: 0.904304\n",
      "[200]\tvalid_0's auc: 0.904855\n",
      "[250]\tvalid_0's auc: 0.905393\n",
      "[300]\tvalid_0's auc: 0.90587\n",
      "[350]\tvalid_0's auc: 0.905963\n",
      "[400]\tvalid_0's auc: 0.906217\n",
      "[450]\tvalid_0's auc: 0.906035\n"
     ]
    },
    {
     "name": "stderr",
     "output_type": "stream",
     "text": [
      "bagging, val_score: 0.906912:  60%|###############################8                     | 6/10 [00:06<00:03,  1.01it/s]"
     ]
    },
    {
     "name": "stdout",
     "output_type": "stream",
     "text": [
      "[500]\tvalid_0's auc: 0.905834\n",
      "Early stopping, best iteration is:\n",
      "[413]\tvalid_0's auc: 0.906301\n",
      "Training until validation scores don't improve for 100 rounds\n"
     ]
    },
    {
     "name": "stderr",
     "output_type": "stream",
     "text": [
      "C:\\Python39\\lib\\site-packages\\lightgbm\\engine.py:181: UserWarning: 'early_stopping_rounds' argument is deprecated and will be removed in a future release of LightGBM. Pass 'early_stopping()' callback via 'callbacks' argument instead.\n",
      "  _log_warning(\"'early_stopping_rounds' argument is deprecated and will be removed in a future release of LightGBM. \"\n",
      "C:\\Python39\\lib\\site-packages\\lightgbm\\basic.py:2068: UserWarning: categorical_feature in Dataset is overridden.\n",
      "New categorical_feature is ['education', 'marital.status', 'native.country', 'occupation', 'race', 'relationship', 'sex', 'workclass']\n",
      "  _log_warning('categorical_feature in Dataset is overridden.\\n'\n",
      "C:\\Python39\\lib\\site-packages\\lightgbm\\engine.py:239: UserWarning: 'verbose_eval' argument is deprecated and will be removed in a future release of LightGBM. Pass 'log_evaluation()' callback via 'callbacks' argument instead.\n",
      "  _log_warning(\"'verbose_eval' argument is deprecated and will be removed in a future release of LightGBM. \"\n",
      "C:\\Python39\\lib\\site-packages\\lightgbm\\basic.py:1780: UserWarning: Overriding the parameters from Reference Dataset.\n",
      "  _log_warning('Overriding the parameters from Reference Dataset.')\n",
      "C:\\Python39\\lib\\site-packages\\lightgbm\\basic.py:1513: UserWarning: categorical_column in param dict is overridden.\n",
      "  _log_warning(f'{cat_alias} in param dict is overridden.')\n"
     ]
    },
    {
     "name": "stdout",
     "output_type": "stream",
     "text": [
      "[50]\tvalid_0's auc: 0.902756\n",
      "[100]\tvalid_0's auc: 0.903914\n",
      "[150]\tvalid_0's auc: 0.904833\n",
      "[200]\tvalid_0's auc: 0.905388\n",
      "[250]\tvalid_0's auc: 0.906064\n",
      "[300]\tvalid_0's auc: 0.906424\n",
      "[350]\tvalid_0's auc: 0.90649\n",
      "[400]\tvalid_0's auc: 0.906441\n",
      "Early stopping, best iteration is:\n",
      "[320]\tvalid_0's auc: 0.906562\n"
     ]
    },
    {
     "name": "stderr",
     "output_type": "stream",
     "text": [
      "bagging, val_score: 0.906912:  70%|#####################################                | 7/10 [00:07<00:03,  1.04s/it]C:\\Python39\\lib\\site-packages\\lightgbm\\engine.py:181: UserWarning: 'early_stopping_rounds' argument is deprecated and will be removed in a future release of LightGBM. Pass 'early_stopping()' callback via 'callbacks' argument instead.\n",
      "  _log_warning(\"'early_stopping_rounds' argument is deprecated and will be removed in a future release of LightGBM. \"\n",
      "C:\\Python39\\lib\\site-packages\\lightgbm\\basic.py:2068: UserWarning: categorical_feature in Dataset is overridden.\n",
      "New categorical_feature is ['education', 'marital.status', 'native.country', 'occupation', 'race', 'relationship', 'sex', 'workclass']\n",
      "  _log_warning('categorical_feature in Dataset is overridden.\\n'\n",
      "C:\\Python39\\lib\\site-packages\\lightgbm\\engine.py:239: UserWarning: 'verbose_eval' argument is deprecated and will be removed in a future release of LightGBM. Pass 'log_evaluation()' callback via 'callbacks' argument instead.\n",
      "  _log_warning(\"'verbose_eval' argument is deprecated and will be removed in a future release of LightGBM. \"\n",
      "C:\\Python39\\lib\\site-packages\\lightgbm\\basic.py:1780: UserWarning: Overriding the parameters from Reference Dataset.\n",
      "  _log_warning('Overriding the parameters from Reference Dataset.')\n",
      "C:\\Python39\\lib\\site-packages\\lightgbm\\basic.py:1513: UserWarning: categorical_column in param dict is overridden.\n",
      "  _log_warning(f'{cat_alias} in param dict is overridden.')\n"
     ]
    },
    {
     "name": "stdout",
     "output_type": "stream",
     "text": [
      "Training until validation scores don't improve for 100 rounds\n",
      "[50]\tvalid_0's auc: 0.902207\n",
      "[100]\tvalid_0's auc: 0.903786\n",
      "[150]\tvalid_0's auc: 0.904837\n",
      "[200]\tvalid_0's auc: 0.905531\n",
      "[250]\tvalid_0's auc: 0.906174\n",
      "[300]\tvalid_0's auc: 0.90643\n",
      "[350]\tvalid_0's auc: 0.906674\n",
      "[400]\tvalid_0's auc: 0.906825\n",
      "[450]\tvalid_0's auc: 0.906614\n",
      "[500]\tvalid_0's auc: 0.906329\n",
      "Early stopping, best iteration is:\n",
      "[422]\tvalid_0's auc: 0.906866\n"
     ]
    },
    {
     "name": "stderr",
     "output_type": "stream",
     "text": [
      "bagging, val_score: 0.906912:  80%|##########################################4          | 8/10 [00:08<00:02,  1.10s/it]C:\\Python39\\lib\\site-packages\\lightgbm\\engine.py:181: UserWarning: 'early_stopping_rounds' argument is deprecated and will be removed in a future release of LightGBM. Pass 'early_stopping()' callback via 'callbacks' argument instead.\n",
      "  _log_warning(\"'early_stopping_rounds' argument is deprecated and will be removed in a future release of LightGBM. \"\n",
      "C:\\Python39\\lib\\site-packages\\lightgbm\\basic.py:2068: UserWarning: categorical_feature in Dataset is overridden.\n",
      "New categorical_feature is ['education', 'marital.status', 'native.country', 'occupation', 'race', 'relationship', 'sex', 'workclass']\n",
      "  _log_warning('categorical_feature in Dataset is overridden.\\n'\n",
      "C:\\Python39\\lib\\site-packages\\lightgbm\\engine.py:239: UserWarning: 'verbose_eval' argument is deprecated and will be removed in a future release of LightGBM. Pass 'log_evaluation()' callback via 'callbacks' argument instead.\n",
      "  _log_warning(\"'verbose_eval' argument is deprecated and will be removed in a future release of LightGBM. \"\n",
      "C:\\Python39\\lib\\site-packages\\lightgbm\\basic.py:1780: UserWarning: Overriding the parameters from Reference Dataset.\n",
      "  _log_warning('Overriding the parameters from Reference Dataset.')\n",
      "C:\\Python39\\lib\\site-packages\\lightgbm\\basic.py:1513: UserWarning: categorical_column in param dict is overridden.\n",
      "  _log_warning(f'{cat_alias} in param dict is overridden.')\n"
     ]
    },
    {
     "name": "stdout",
     "output_type": "stream",
     "text": [
      "Training until validation scores don't improve for 100 rounds\n",
      "[50]\tvalid_0's auc: 0.902258\n",
      "[100]\tvalid_0's auc: 0.903304\n",
      "[150]\tvalid_0's auc: 0.904195\n",
      "[200]\tvalid_0's auc: 0.90464\n",
      "[250]\tvalid_0's auc: 0.90524\n",
      "[300]\tvalid_0's auc: 0.905864\n",
      "[350]\tvalid_0's auc: 0.906086\n",
      "[400]\tvalid_0's auc: 0.906393\n"
     ]
    },
    {
     "name": "stderr",
     "output_type": "stream",
     "text": [
      "bagging, val_score: 0.906912:  90%|###############################################7     | 9/10 [00:09<00:01,  1.09s/it]"
     ]
    },
    {
     "name": "stdout",
     "output_type": "stream",
     "text": [
      "[450]\tvalid_0's auc: 0.90616\n",
      "[500]\tvalid_0's auc: 0.90603\n",
      "Early stopping, best iteration is:\n",
      "[413]\tvalid_0's auc: 0.906554\n"
     ]
    },
    {
     "name": "stderr",
     "output_type": "stream",
     "text": [
      "bagging, val_score: 0.906912:  90%|###############################################7     | 9/10 [00:09<00:01,  1.09s/it]C:\\Python39\\lib\\site-packages\\lightgbm\\engine.py:181: UserWarning: 'early_stopping_rounds' argument is deprecated and will be removed in a future release of LightGBM. Pass 'early_stopping()' callback via 'callbacks' argument instead.\n",
      "  _log_warning(\"'early_stopping_rounds' argument is deprecated and will be removed in a future release of LightGBM. \"\n",
      "C:\\Python39\\lib\\site-packages\\lightgbm\\basic.py:2068: UserWarning: categorical_feature in Dataset is overridden.\n",
      "New categorical_feature is ['education', 'marital.status', 'native.country', 'occupation', 'race', 'relationship', 'sex', 'workclass']\n",
      "  _log_warning('categorical_feature in Dataset is overridden.\\n'\n",
      "C:\\Python39\\lib\\site-packages\\lightgbm\\engine.py:239: UserWarning: 'verbose_eval' argument is deprecated and will be removed in a future release of LightGBM. Pass 'log_evaluation()' callback via 'callbacks' argument instead.\n",
      "  _log_warning(\"'verbose_eval' argument is deprecated and will be removed in a future release of LightGBM. \"\n",
      "C:\\Python39\\lib\\site-packages\\lightgbm\\basic.py:1780: UserWarning: Overriding the parameters from Reference Dataset.\n",
      "  _log_warning('Overriding the parameters from Reference Dataset.')\n",
      "C:\\Python39\\lib\\site-packages\\lightgbm\\basic.py:1513: UserWarning: categorical_column in param dict is overridden.\n",
      "  _log_warning(f'{cat_alias} in param dict is overridden.')\n"
     ]
    },
    {
     "name": "stdout",
     "output_type": "stream",
     "text": [
      "Training until validation scores don't improve for 100 rounds\n",
      "[50]\tvalid_0's auc: 0.902664\n",
      "[100]\tvalid_0's auc: 0.90378\n",
      "[150]\tvalid_0's auc: 0.904462\n",
      "[200]\tvalid_0's auc: 0.905065\n",
      "[250]\tvalid_0's auc: 0.905742\n",
      "[300]\tvalid_0's auc: 0.906041\n",
      "[350]\tvalid_0's auc: 0.906057\n"
     ]
    },
    {
     "name": "stderr",
     "output_type": "stream",
     "text": [
      "bagging, val_score: 0.906912: 100%|####################################################| 10/10 [00:10<00:00,  1.04s/it]\n"
     ]
    },
    {
     "name": "stdout",
     "output_type": "stream",
     "text": [
      "[400]\tvalid_0's auc: 0.906\n",
      "Early stopping, best iteration is:\n",
      "[322]\tvalid_0's auc: 0.906138\n"
     ]
    },
    {
     "name": "stderr",
     "output_type": "stream",
     "text": [
      "feature_fraction_stage2, val_score: 0.906912:   0%|                                              | 0/3 [00:00<?, ?it/s]"
     ]
    },
    {
     "name": "stdout",
     "output_type": "stream",
     "text": [
      "Training until validation scores don't improve for 100 rounds\n"
     ]
    },
    {
     "name": "stderr",
     "output_type": "stream",
     "text": [
      "C:\\Python39\\lib\\site-packages\\lightgbm\\engine.py:181: UserWarning: 'early_stopping_rounds' argument is deprecated and will be removed in a future release of LightGBM. Pass 'early_stopping()' callback via 'callbacks' argument instead.\n",
      "  _log_warning(\"'early_stopping_rounds' argument is deprecated and will be removed in a future release of LightGBM. \"\n",
      "C:\\Python39\\lib\\site-packages\\lightgbm\\basic.py:2068: UserWarning: categorical_feature in Dataset is overridden.\n",
      "New categorical_feature is ['education', 'marital.status', 'native.country', 'occupation', 'race', 'relationship', 'sex', 'workclass']\n",
      "  _log_warning('categorical_feature in Dataset is overridden.\\n'\n",
      "C:\\Python39\\lib\\site-packages\\lightgbm\\engine.py:239: UserWarning: 'verbose_eval' argument is deprecated and will be removed in a future release of LightGBM. Pass 'log_evaluation()' callback via 'callbacks' argument instead.\n",
      "  _log_warning(\"'verbose_eval' argument is deprecated and will be removed in a future release of LightGBM. \"\n",
      "C:\\Python39\\lib\\site-packages\\lightgbm\\basic.py:1780: UserWarning: Overriding the parameters from Reference Dataset.\n",
      "  _log_warning('Overriding the parameters from Reference Dataset.')\n",
      "C:\\Python39\\lib\\site-packages\\lightgbm\\basic.py:1513: UserWarning: categorical_column in param dict is overridden.\n",
      "  _log_warning(f'{cat_alias} in param dict is overridden.')\n"
     ]
    },
    {
     "name": "stdout",
     "output_type": "stream",
     "text": [
      "[50]\tvalid_0's auc: 0.903061\n",
      "[100]\tvalid_0's auc: 0.904408\n",
      "[150]\tvalid_0's auc: 0.905243\n",
      "[200]\tvalid_0's auc: 0.905914\n",
      "[250]\tvalid_0's auc: 0.906569\n",
      "[300]\tvalid_0's auc: 0.906708\n",
      "[350]\tvalid_0's auc: 0.90679\n",
      "[400]\tvalid_0's auc: 0.906853\n",
      "[450]\tvalid_0's auc: 0.906714\n",
      "Early stopping, best iteration is:\n",
      "[377]\tvalid_0's auc: 0.906912\n"
     ]
    },
    {
     "name": "stderr",
     "output_type": "stream",
     "text": [
      "feature_fraction_stage2, val_score: 0.906912:  33%|############6                         | 1/3 [00:01<00:02,  1.13s/it]"
     ]
    },
    {
     "name": "stdout",
     "output_type": "stream",
     "text": [
      "Training until validation scores don't improve for 100 rounds\n"
     ]
    },
    {
     "name": "stderr",
     "output_type": "stream",
     "text": [
      "C:\\Python39\\lib\\site-packages\\lightgbm\\engine.py:181: UserWarning: 'early_stopping_rounds' argument is deprecated and will be removed in a future release of LightGBM. Pass 'early_stopping()' callback via 'callbacks' argument instead.\n",
      "  _log_warning(\"'early_stopping_rounds' argument is deprecated and will be removed in a future release of LightGBM. \"\n",
      "C:\\Python39\\lib\\site-packages\\lightgbm\\basic.py:2068: UserWarning: categorical_feature in Dataset is overridden.\n",
      "New categorical_feature is ['education', 'marital.status', 'native.country', 'occupation', 'race', 'relationship', 'sex', 'workclass']\n",
      "  _log_warning('categorical_feature in Dataset is overridden.\\n'\n",
      "C:\\Python39\\lib\\site-packages\\lightgbm\\engine.py:239: UserWarning: 'verbose_eval' argument is deprecated and will be removed in a future release of LightGBM. Pass 'log_evaluation()' callback via 'callbacks' argument instead.\n",
      "  _log_warning(\"'verbose_eval' argument is deprecated and will be removed in a future release of LightGBM. \"\n",
      "C:\\Python39\\lib\\site-packages\\lightgbm\\basic.py:1780: UserWarning: Overriding the parameters from Reference Dataset.\n",
      "  _log_warning('Overriding the parameters from Reference Dataset.')\n",
      "C:\\Python39\\lib\\site-packages\\lightgbm\\basic.py:1513: UserWarning: categorical_column in param dict is overridden.\n",
      "  _log_warning(f'{cat_alias} in param dict is overridden.')\n"
     ]
    },
    {
     "name": "stdout",
     "output_type": "stream",
     "text": [
      "[50]\tvalid_0's auc: 0.902114\n",
      "[100]\tvalid_0's auc: 0.902626\n",
      "[150]\tvalid_0's auc: 0.90434\n",
      "[200]\tvalid_0's auc: 0.905238\n",
      "[250]\tvalid_0's auc: 0.905828\n",
      "[300]\tvalid_0's auc: 0.905982\n",
      "[350]\tvalid_0's auc: 0.905954\n"
     ]
    },
    {
     "name": "stderr",
     "output_type": "stream",
     "text": [
      "feature_fraction_stage2, val_score: 0.906912:  67%|#########################3            | 2/3 [00:02<00:01,  1.07s/it]"
     ]
    },
    {
     "name": "stdout",
     "output_type": "stream",
     "text": [
      "[400]\tvalid_0's auc: 0.905889\n",
      "Early stopping, best iteration is:\n",
      "[311]\tvalid_0's auc: 0.906082\n",
      "Training until validation scores don't improve for 100 rounds\n"
     ]
    },
    {
     "name": "stderr",
     "output_type": "stream",
     "text": [
      "C:\\Python39\\lib\\site-packages\\lightgbm\\engine.py:181: UserWarning: 'early_stopping_rounds' argument is deprecated and will be removed in a future release of LightGBM. Pass 'early_stopping()' callback via 'callbacks' argument instead.\n",
      "  _log_warning(\"'early_stopping_rounds' argument is deprecated and will be removed in a future release of LightGBM. \"\n",
      "C:\\Python39\\lib\\site-packages\\lightgbm\\basic.py:2068: UserWarning: categorical_feature in Dataset is overridden.\n",
      "New categorical_feature is ['education', 'marital.status', 'native.country', 'occupation', 'race', 'relationship', 'sex', 'workclass']\n",
      "  _log_warning('categorical_feature in Dataset is overridden.\\n'\n",
      "C:\\Python39\\lib\\site-packages\\lightgbm\\engine.py:239: UserWarning: 'verbose_eval' argument is deprecated and will be removed in a future release of LightGBM. Pass 'log_evaluation()' callback via 'callbacks' argument instead.\n",
      "  _log_warning(\"'verbose_eval' argument is deprecated and will be removed in a future release of LightGBM. \"\n",
      "C:\\Python39\\lib\\site-packages\\lightgbm\\basic.py:1780: UserWarning: Overriding the parameters from Reference Dataset.\n",
      "  _log_warning('Overriding the parameters from Reference Dataset.')\n",
      "C:\\Python39\\lib\\site-packages\\lightgbm\\basic.py:1513: UserWarning: categorical_column in param dict is overridden.\n",
      "  _log_warning(f'{cat_alias} in param dict is overridden.')\n"
     ]
    },
    {
     "name": "stdout",
     "output_type": "stream",
     "text": [
      "[50]\tvalid_0's auc: 0.902114\n",
      "[100]\tvalid_0's auc: 0.902626\n",
      "[150]\tvalid_0's auc: 0.90434\n",
      "[200]\tvalid_0's auc: 0.905238\n",
      "[250]\tvalid_0's auc: 0.905828\n",
      "[300]\tvalid_0's auc: 0.905982\n",
      "[350]\tvalid_0's auc: 0.905954\n",
      "[400]\tvalid_0's auc: 0.905889\n",
      "Early stopping, best iteration is:\n",
      "[311]\tvalid_0's auc: 0.906082\n"
     ]
    },
    {
     "name": "stderr",
     "output_type": "stream",
     "text": [
      "feature_fraction_stage2, val_score: 0.906912: 100%|######################################| 3/3 [00:03<00:00,  1.08s/it]\n",
      "regularization_factors, val_score: 0.906912:   0%|                                              | 0/20 [00:00<?, ?it/s]"
     ]
    },
    {
     "name": "stdout",
     "output_type": "stream",
     "text": [
      "Training until validation scores don't improve for 100 rounds\n"
     ]
    },
    {
     "name": "stderr",
     "output_type": "stream",
     "text": [
      "C:\\Python39\\lib\\site-packages\\lightgbm\\engine.py:181: UserWarning: 'early_stopping_rounds' argument is deprecated and will be removed in a future release of LightGBM. Pass 'early_stopping()' callback via 'callbacks' argument instead.\n",
      "  _log_warning(\"'early_stopping_rounds' argument is deprecated and will be removed in a future release of LightGBM. \"\n",
      "C:\\Python39\\lib\\site-packages\\lightgbm\\basic.py:2068: UserWarning: categorical_feature in Dataset is overridden.\n",
      "New categorical_feature is ['education', 'marital.status', 'native.country', 'occupation', 'race', 'relationship', 'sex', 'workclass']\n",
      "  _log_warning('categorical_feature in Dataset is overridden.\\n'\n",
      "C:\\Python39\\lib\\site-packages\\lightgbm\\engine.py:239: UserWarning: 'verbose_eval' argument is deprecated and will be removed in a future release of LightGBM. Pass 'log_evaluation()' callback via 'callbacks' argument instead.\n",
      "  _log_warning(\"'verbose_eval' argument is deprecated and will be removed in a future release of LightGBM. \"\n",
      "C:\\Python39\\lib\\site-packages\\lightgbm\\basic.py:1780: UserWarning: Overriding the parameters from Reference Dataset.\n",
      "  _log_warning('Overriding the parameters from Reference Dataset.')\n",
      "C:\\Python39\\lib\\site-packages\\lightgbm\\basic.py:1513: UserWarning: categorical_column in param dict is overridden.\n",
      "  _log_warning(f'{cat_alias} in param dict is overridden.')\n"
     ]
    },
    {
     "name": "stdout",
     "output_type": "stream",
     "text": [
      "[50]\tvalid_0's auc: 0.903033\n",
      "[100]\tvalid_0's auc: 0.904405\n",
      "[150]\tvalid_0's auc: 0.905219\n",
      "[200]\tvalid_0's auc: 0.905932\n",
      "[250]\tvalid_0's auc: 0.906541\n",
      "[300]\tvalid_0's auc: 0.906644\n",
      "[350]\tvalid_0's auc: 0.906777\n",
      "[400]\tvalid_0's auc: 0.906832\n",
      "[450]\tvalid_0's auc: 0.90682\n",
      "[500]\tvalid_0's auc: 0.906629\n",
      "Early stopping, best iteration is:\n",
      "[425]\tvalid_0's auc: 0.906922\n"
     ]
    },
    {
     "name": "stderr",
     "output_type": "stream",
     "text": [
      "regularization_factors, val_score: 0.906922:   5%|#9                                    | 1/20 [00:02<00:40,  2.12s/it]C:\\Python39\\lib\\site-packages\\lightgbm\\engine.py:181: UserWarning: 'early_stopping_rounds' argument is deprecated and will be removed in a future release of LightGBM. Pass 'early_stopping()' callback via 'callbacks' argument instead.\n",
      "  _log_warning(\"'early_stopping_rounds' argument is deprecated and will be removed in a future release of LightGBM. \"\n",
      "C:\\Python39\\lib\\site-packages\\lightgbm\\basic.py:2068: UserWarning: categorical_feature in Dataset is overridden.\n",
      "New categorical_feature is ['education', 'marital.status', 'native.country', 'occupation', 'race', 'relationship', 'sex', 'workclass']\n",
      "  _log_warning('categorical_feature in Dataset is overridden.\\n'\n",
      "C:\\Python39\\lib\\site-packages\\lightgbm\\engine.py:239: UserWarning: 'verbose_eval' argument is deprecated and will be removed in a future release of LightGBM. Pass 'log_evaluation()' callback via 'callbacks' argument instead.\n",
      "  _log_warning(\"'verbose_eval' argument is deprecated and will be removed in a future release of LightGBM. \"\n",
      "C:\\Python39\\lib\\site-packages\\lightgbm\\basic.py:1780: UserWarning: Overriding the parameters from Reference Dataset.\n",
      "  _log_warning('Overriding the parameters from Reference Dataset.')\n",
      "C:\\Python39\\lib\\site-packages\\lightgbm\\basic.py:1513: UserWarning: categorical_column in param dict is overridden.\n",
      "  _log_warning(f'{cat_alias} in param dict is overridden.')\n"
     ]
    },
    {
     "name": "stdout",
     "output_type": "stream",
     "text": [
      "Training until validation scores don't improve for 100 rounds\n",
      "[50]\tvalid_0's auc: 0.903055\n",
      "[100]\tvalid_0's auc: 0.904399\n",
      "[150]\tvalid_0's auc: 0.905225\n",
      "[200]\tvalid_0's auc: 0.905899\n",
      "[250]\tvalid_0's auc: 0.906486\n",
      "[300]\tvalid_0's auc: 0.906596\n",
      "[350]\tvalid_0's auc: 0.90671\n",
      "[400]\tvalid_0's auc: 0.906853\n",
      "[450]\tvalid_0's auc: 0.9068\n"
     ]
    },
    {
     "name": "stderr",
     "output_type": "stream",
     "text": [
      "regularization_factors, val_score: 0.906922:  10%|###8                                  | 2/20 [00:03<00:30,  1.69s/it]"
     ]
    },
    {
     "name": "stdout",
     "output_type": "stream",
     "text": [
      "[500]\tvalid_0's auc: 0.906641\n",
      "Early stopping, best iteration is:\n",
      "[426]\tvalid_0's auc: 0.906922\n",
      "Training until validation scores don't improve for 100 rounds\n"
     ]
    },
    {
     "name": "stderr",
     "output_type": "stream",
     "text": [
      "C:\\Python39\\lib\\site-packages\\lightgbm\\engine.py:181: UserWarning: 'early_stopping_rounds' argument is deprecated and will be removed in a future release of LightGBM. Pass 'early_stopping()' callback via 'callbacks' argument instead.\n",
      "  _log_warning(\"'early_stopping_rounds' argument is deprecated and will be removed in a future release of LightGBM. \"\n",
      "C:\\Python39\\lib\\site-packages\\lightgbm\\basic.py:2068: UserWarning: categorical_feature in Dataset is overridden.\n",
      "New categorical_feature is ['education', 'marital.status', 'native.country', 'occupation', 'race', 'relationship', 'sex', 'workclass']\n",
      "  _log_warning('categorical_feature in Dataset is overridden.\\n'\n",
      "C:\\Python39\\lib\\site-packages\\lightgbm\\engine.py:239: UserWarning: 'verbose_eval' argument is deprecated and will be removed in a future release of LightGBM. Pass 'log_evaluation()' callback via 'callbacks' argument instead.\n",
      "  _log_warning(\"'verbose_eval' argument is deprecated and will be removed in a future release of LightGBM. \"\n",
      "C:\\Python39\\lib\\site-packages\\lightgbm\\basic.py:1780: UserWarning: Overriding the parameters from Reference Dataset.\n",
      "  _log_warning('Overriding the parameters from Reference Dataset.')\n",
      "C:\\Python39\\lib\\site-packages\\lightgbm\\basic.py:1513: UserWarning: categorical_column in param dict is overridden.\n",
      "  _log_warning(f'{cat_alias} in param dict is overridden.')\n"
     ]
    },
    {
     "name": "stdout",
     "output_type": "stream",
     "text": [
      "[50]\tvalid_0's auc: 0.902841\n",
      "[100]\tvalid_0's auc: 0.904253\n",
      "[150]\tvalid_0's auc: 0.904987\n",
      "[200]\tvalid_0's auc: 0.905829\n",
      "[250]\tvalid_0's auc: 0.906488\n",
      "[300]\tvalid_0's auc: 0.906636\n",
      "[350]\tvalid_0's auc: 0.9068\n",
      "[400]\tvalid_0's auc: 0.906809\n",
      "[450]\tvalid_0's auc: 0.906781\n"
     ]
    },
    {
     "name": "stderr",
     "output_type": "stream",
     "text": [
      "regularization_factors, val_score: 0.906922:  15%|#####7                                | 3/20 [00:04<00:25,  1.47s/it]"
     ]
    },
    {
     "name": "stdout",
     "output_type": "stream",
     "text": [
      "[500]\tvalid_0's auc: 0.906712\n",
      "Early stopping, best iteration is:\n",
      "[421]\tvalid_0's auc: 0.906903\n",
      "Training until validation scores don't improve for 100 rounds\n"
     ]
    },
    {
     "name": "stderr",
     "output_type": "stream",
     "text": [
      "C:\\Python39\\lib\\site-packages\\lightgbm\\engine.py:181: UserWarning: 'early_stopping_rounds' argument is deprecated and will be removed in a future release of LightGBM. Pass 'early_stopping()' callback via 'callbacks' argument instead.\n",
      "  _log_warning(\"'early_stopping_rounds' argument is deprecated and will be removed in a future release of LightGBM. \"\n",
      "C:\\Python39\\lib\\site-packages\\lightgbm\\basic.py:2068: UserWarning: categorical_feature in Dataset is overridden.\n",
      "New categorical_feature is ['education', 'marital.status', 'native.country', 'occupation', 'race', 'relationship', 'sex', 'workclass']\n",
      "  _log_warning('categorical_feature in Dataset is overridden.\\n'\n",
      "C:\\Python39\\lib\\site-packages\\lightgbm\\engine.py:239: UserWarning: 'verbose_eval' argument is deprecated and will be removed in a future release of LightGBM. Pass 'log_evaluation()' callback via 'callbacks' argument instead.\n",
      "  _log_warning(\"'verbose_eval' argument is deprecated and will be removed in a future release of LightGBM. \"\n",
      "C:\\Python39\\lib\\site-packages\\lightgbm\\basic.py:1780: UserWarning: Overriding the parameters from Reference Dataset.\n",
      "  _log_warning('Overriding the parameters from Reference Dataset.')\n",
      "C:\\Python39\\lib\\site-packages\\lightgbm\\basic.py:1513: UserWarning: categorical_column in param dict is overridden.\n",
      "  _log_warning(f'{cat_alias} in param dict is overridden.')\n"
     ]
    },
    {
     "name": "stdout",
     "output_type": "stream",
     "text": [
      "[50]\tvalid_0's auc: 0.903061\n",
      "[100]\tvalid_0's auc: 0.904408\n",
      "[150]\tvalid_0's auc: 0.905243\n",
      "[200]\tvalid_0's auc: 0.905914\n",
      "[250]\tvalid_0's auc: 0.906569\n",
      "[300]\tvalid_0's auc: 0.906708\n",
      "[350]\tvalid_0's auc: 0.90679\n",
      "[400]\tvalid_0's auc: 0.906853\n"
     ]
    },
    {
     "name": "stderr",
     "output_type": "stream",
     "text": [
      "regularization_factors, val_score: 0.906922:  20%|#######6                              | 4/20 [00:05<00:21,  1.34s/it]"
     ]
    },
    {
     "name": "stdout",
     "output_type": "stream",
     "text": [
      "[450]\tvalid_0's auc: 0.906714\n",
      "Early stopping, best iteration is:\n",
      "[377]\tvalid_0's auc: 0.906912\n",
      "Training until validation scores don't improve for 100 rounds\n"
     ]
    },
    {
     "name": "stderr",
     "output_type": "stream",
     "text": [
      "C:\\Python39\\lib\\site-packages\\lightgbm\\engine.py:181: UserWarning: 'early_stopping_rounds' argument is deprecated and will be removed in a future release of LightGBM. Pass 'early_stopping()' callback via 'callbacks' argument instead.\n",
      "  _log_warning(\"'early_stopping_rounds' argument is deprecated and will be removed in a future release of LightGBM. \"\n",
      "C:\\Python39\\lib\\site-packages\\lightgbm\\basic.py:2068: UserWarning: categorical_feature in Dataset is overridden.\n",
      "New categorical_feature is ['education', 'marital.status', 'native.country', 'occupation', 'race', 'relationship', 'sex', 'workclass']\n",
      "  _log_warning('categorical_feature in Dataset is overridden.\\n'\n",
      "C:\\Python39\\lib\\site-packages\\lightgbm\\engine.py:239: UserWarning: 'verbose_eval' argument is deprecated and will be removed in a future release of LightGBM. Pass 'log_evaluation()' callback via 'callbacks' argument instead.\n",
      "  _log_warning(\"'verbose_eval' argument is deprecated and will be removed in a future release of LightGBM. \"\n",
      "C:\\Python39\\lib\\site-packages\\lightgbm\\basic.py:1780: UserWarning: Overriding the parameters from Reference Dataset.\n",
      "  _log_warning('Overriding the parameters from Reference Dataset.')\n",
      "C:\\Python39\\lib\\site-packages\\lightgbm\\basic.py:1513: UserWarning: categorical_column in param dict is overridden.\n",
      "  _log_warning(f'{cat_alias} in param dict is overridden.')\n"
     ]
    },
    {
     "name": "stdout",
     "output_type": "stream",
     "text": [
      "[50]\tvalid_0's auc: 0.903054\n",
      "[100]\tvalid_0's auc: 0.904397\n",
      "[150]\tvalid_0's auc: 0.905217\n",
      "[200]\tvalid_0's auc: 0.905904\n",
      "[250]\tvalid_0's auc: 0.906498\n",
      "[300]\tvalid_0's auc: 0.906622\n",
      "[350]\tvalid_0's auc: 0.906726\n"
     ]
    },
    {
     "name": "stderr",
     "output_type": "stream",
     "text": [
      "regularization_factors, val_score: 0.906922:  20%|#######6                              | 4/20 [00:07<00:21,  1.34s/it]"
     ]
    },
    {
     "name": "stdout",
     "output_type": "stream",
     "text": [
      "[400]\tvalid_0's auc: 0.90679\n",
      "[450]\tvalid_0's auc: 0.906655\n",
      "Early stopping, best iteration is:\n",
      "[377]\tvalid_0's auc: 0.9069\n"
     ]
    },
    {
     "name": "stderr",
     "output_type": "stream",
     "text": [
      "regularization_factors, val_score: 0.906922:  25%|#########5                            | 5/20 [00:07<00:19,  1.27s/it]C:\\Python39\\lib\\site-packages\\lightgbm\\engine.py:181: UserWarning: 'early_stopping_rounds' argument is deprecated and will be removed in a future release of LightGBM. Pass 'early_stopping()' callback via 'callbacks' argument instead.\n",
      "  _log_warning(\"'early_stopping_rounds' argument is deprecated and will be removed in a future release of LightGBM. \"\n",
      "C:\\Python39\\lib\\site-packages\\lightgbm\\basic.py:2068: UserWarning: categorical_feature in Dataset is overridden.\n",
      "New categorical_feature is ['education', 'marital.status', 'native.country', 'occupation', 'race', 'relationship', 'sex', 'workclass']\n",
      "  _log_warning('categorical_feature in Dataset is overridden.\\n'\n",
      "C:\\Python39\\lib\\site-packages\\lightgbm\\engine.py:239: UserWarning: 'verbose_eval' argument is deprecated and will be removed in a future release of LightGBM. Pass 'log_evaluation()' callback via 'callbacks' argument instead.\n",
      "  _log_warning(\"'verbose_eval' argument is deprecated and will be removed in a future release of LightGBM. \"\n",
      "C:\\Python39\\lib\\site-packages\\lightgbm\\basic.py:1780: UserWarning: Overriding the parameters from Reference Dataset.\n",
      "  _log_warning('Overriding the parameters from Reference Dataset.')\n",
      "C:\\Python39\\lib\\site-packages\\lightgbm\\basic.py:1513: UserWarning: categorical_column in param dict is overridden.\n",
      "  _log_warning(f'{cat_alias} in param dict is overridden.')\n"
     ]
    },
    {
     "name": "stdout",
     "output_type": "stream",
     "text": [
      "Training until validation scores don't improve for 100 rounds\n",
      "[50]\tvalid_0's auc: 0.903055\n",
      "[100]\tvalid_0's auc: 0.904399\n",
      "[150]\tvalid_0's auc: 0.905226\n",
      "[200]\tvalid_0's auc: 0.905908\n",
      "[250]\tvalid_0's auc: 0.906501\n",
      "[300]\tvalid_0's auc: 0.906604\n",
      "[350]\tvalid_0's auc: 0.906734\n",
      "[400]\tvalid_0's auc: 0.906929\n",
      "[450]\tvalid_0's auc: 0.906746\n"
     ]
    },
    {
     "name": "stderr",
     "output_type": "stream",
     "text": [
      "regularization_factors, val_score: 0.906936:  30%|###########4                          | 6/20 [00:08<00:18,  1.32s/it]"
     ]
    },
    {
     "name": "stdout",
     "output_type": "stream",
     "text": [
      "Early stopping, best iteration is:\n",
      "[397]\tvalid_0's auc: 0.906936\n",
      "Training until validation scores don't improve for 100 rounds\n"
     ]
    },
    {
     "name": "stderr",
     "output_type": "stream",
     "text": [
      "C:\\Python39\\lib\\site-packages\\lightgbm\\engine.py:181: UserWarning: 'early_stopping_rounds' argument is deprecated and will be removed in a future release of LightGBM. Pass 'early_stopping()' callback via 'callbacks' argument instead.\n",
      "  _log_warning(\"'early_stopping_rounds' argument is deprecated and will be removed in a future release of LightGBM. \"\n",
      "C:\\Python39\\lib\\site-packages\\lightgbm\\basic.py:2068: UserWarning: categorical_feature in Dataset is overridden.\n",
      "New categorical_feature is ['education', 'marital.status', 'native.country', 'occupation', 'race', 'relationship', 'sex', 'workclass']\n",
      "  _log_warning('categorical_feature in Dataset is overridden.\\n'\n",
      "C:\\Python39\\lib\\site-packages\\lightgbm\\engine.py:239: UserWarning: 'verbose_eval' argument is deprecated and will be removed in a future release of LightGBM. Pass 'log_evaluation()' callback via 'callbacks' argument instead.\n",
      "  _log_warning(\"'verbose_eval' argument is deprecated and will be removed in a future release of LightGBM. \"\n",
      "C:\\Python39\\lib\\site-packages\\lightgbm\\basic.py:1780: UserWarning: Overriding the parameters from Reference Dataset.\n",
      "  _log_warning('Overriding the parameters from Reference Dataset.')\n",
      "C:\\Python39\\lib\\site-packages\\lightgbm\\basic.py:1513: UserWarning: categorical_column in param dict is overridden.\n",
      "  _log_warning(f'{cat_alias} in param dict is overridden.')\n"
     ]
    },
    {
     "name": "stdout",
     "output_type": "stream",
     "text": [
      "[50]\tvalid_0's auc: 0.903053\n",
      "[100]\tvalid_0's auc: 0.904392\n",
      "[150]\tvalid_0's auc: 0.905204\n",
      "[200]\tvalid_0's auc: 0.905967\n",
      "[250]\tvalid_0's auc: 0.906506\n",
      "[300]\tvalid_0's auc: 0.90671\n",
      "[350]\tvalid_0's auc: 0.906707\n",
      "[400]\tvalid_0's auc: 0.906748\n",
      "[450]\tvalid_0's auc: 0.906587\n"
     ]
    },
    {
     "name": "stderr",
     "output_type": "stream",
     "text": [
      "regularization_factors, val_score: 0.906936:  35%|#############3                        | 7/20 [00:10<00:19,  1.50s/it]"
     ]
    },
    {
     "name": "stdout",
     "output_type": "stream",
     "text": [
      "Early stopping, best iteration is:\n",
      "[377]\tvalid_0's auc: 0.906782\n",
      "Training until validation scores don't improve for 100 rounds\n"
     ]
    },
    {
     "name": "stderr",
     "output_type": "stream",
     "text": [
      "C:\\Python39\\lib\\site-packages\\lightgbm\\engine.py:181: UserWarning: 'early_stopping_rounds' argument is deprecated and will be removed in a future release of LightGBM. Pass 'early_stopping()' callback via 'callbacks' argument instead.\n",
      "  _log_warning(\"'early_stopping_rounds' argument is deprecated and will be removed in a future release of LightGBM. \"\n",
      "C:\\Python39\\lib\\site-packages\\lightgbm\\basic.py:2068: UserWarning: categorical_feature in Dataset is overridden.\n",
      "New categorical_feature is ['education', 'marital.status', 'native.country', 'occupation', 'race', 'relationship', 'sex', 'workclass']\n",
      "  _log_warning('categorical_feature in Dataset is overridden.\\n'\n",
      "C:\\Python39\\lib\\site-packages\\lightgbm\\engine.py:239: UserWarning: 'verbose_eval' argument is deprecated and will be removed in a future release of LightGBM. Pass 'log_evaluation()' callback via 'callbacks' argument instead.\n",
      "  _log_warning(\"'verbose_eval' argument is deprecated and will be removed in a future release of LightGBM. \"\n",
      "C:\\Python39\\lib\\site-packages\\lightgbm\\basic.py:1780: UserWarning: Overriding the parameters from Reference Dataset.\n",
      "  _log_warning('Overriding the parameters from Reference Dataset.')\n",
      "C:\\Python39\\lib\\site-packages\\lightgbm\\basic.py:1513: UserWarning: categorical_column in param dict is overridden.\n",
      "  _log_warning(f'{cat_alias} in param dict is overridden.')\n"
     ]
    },
    {
     "name": "stdout",
     "output_type": "stream",
     "text": [
      "[50]\tvalid_0's auc: 0.903033\n",
      "[100]\tvalid_0's auc: 0.904401\n",
      "[150]\tvalid_0's auc: 0.905219\n",
      "[200]\tvalid_0's auc: 0.905912\n",
      "[250]\tvalid_0's auc: 0.906514\n",
      "[300]\tvalid_0's auc: 0.906658\n",
      "[350]\tvalid_0's auc: 0.906749\n",
      "[400]\tvalid_0's auc: 0.906795\n",
      "[450]\tvalid_0's auc: 0.906685\n",
      "[500]\tvalid_0's auc: 0.906505\n",
      "Early stopping, best iteration is:\n",
      "[424]\tvalid_0's auc: 0.906881\n"
     ]
    },
    {
     "name": "stderr",
     "output_type": "stream",
     "text": [
      "regularization_factors, val_score: 0.906936:  40%|###############2                      | 8/20 [00:11<00:17,  1.47s/it]C:\\Python39\\lib\\site-packages\\lightgbm\\engine.py:181: UserWarning: 'early_stopping_rounds' argument is deprecated and will be removed in a future release of LightGBM. Pass 'early_stopping()' callback via 'callbacks' argument instead.\n",
      "  _log_warning(\"'early_stopping_rounds' argument is deprecated and will be removed in a future release of LightGBM. \"\n",
      "C:\\Python39\\lib\\site-packages\\lightgbm\\basic.py:2068: UserWarning: categorical_feature in Dataset is overridden.\n",
      "New categorical_feature is ['education', 'marital.status', 'native.country', 'occupation', 'race', 'relationship', 'sex', 'workclass']\n",
      "  _log_warning('categorical_feature in Dataset is overridden.\\n'\n",
      "C:\\Python39\\lib\\site-packages\\lightgbm\\engine.py:239: UserWarning: 'verbose_eval' argument is deprecated and will be removed in a future release of LightGBM. Pass 'log_evaluation()' callback via 'callbacks' argument instead.\n",
      "  _log_warning(\"'verbose_eval' argument is deprecated and will be removed in a future release of LightGBM. \"\n",
      "C:\\Python39\\lib\\site-packages\\lightgbm\\basic.py:1780: UserWarning: Overriding the parameters from Reference Dataset.\n",
      "  _log_warning('Overriding the parameters from Reference Dataset.')\n",
      "C:\\Python39\\lib\\site-packages\\lightgbm\\basic.py:1513: UserWarning: categorical_column in param dict is overridden.\n",
      "  _log_warning(f'{cat_alias} in param dict is overridden.')\n"
     ]
    },
    {
     "name": "stdout",
     "output_type": "stream",
     "text": [
      "Training until validation scores don't improve for 100 rounds\n",
      "[50]\tvalid_0's auc: 0.903055\n",
      "[100]\tvalid_0's auc: 0.9044\n",
      "[150]\tvalid_0's auc: 0.905226\n",
      "[200]\tvalid_0's auc: 0.905899\n",
      "[250]\tvalid_0's auc: 0.906486\n",
      "[300]\tvalid_0's auc: 0.906597\n",
      "[350]\tvalid_0's auc: 0.90671\n",
      "[400]\tvalid_0's auc: 0.906853\n",
      "[450]\tvalid_0's auc: 0.906807\n"
     ]
    },
    {
     "name": "stderr",
     "output_type": "stream",
     "text": [
      "regularization_factors, val_score: 0.906936:  45%|#################1                    | 9/20 [00:13<00:17,  1.55s/it]"
     ]
    },
    {
     "name": "stdout",
     "output_type": "stream",
     "text": [
      "[500]\tvalid_0's auc: 0.906617\n",
      "Early stopping, best iteration is:\n",
      "[426]\tvalid_0's auc: 0.906923\n",
      "Training until validation scores don't improve for 100 rounds\n"
     ]
    },
    {
     "name": "stderr",
     "output_type": "stream",
     "text": [
      "C:\\Python39\\lib\\site-packages\\lightgbm\\engine.py:181: UserWarning: 'early_stopping_rounds' argument is deprecated and will be removed in a future release of LightGBM. Pass 'early_stopping()' callback via 'callbacks' argument instead.\n",
      "  _log_warning(\"'early_stopping_rounds' argument is deprecated and will be removed in a future release of LightGBM. \"\n",
      "C:\\Python39\\lib\\site-packages\\lightgbm\\basic.py:2068: UserWarning: categorical_feature in Dataset is overridden.\n",
      "New categorical_feature is ['education', 'marital.status', 'native.country', 'occupation', 'race', 'relationship', 'sex', 'workclass']\n",
      "  _log_warning('categorical_feature in Dataset is overridden.\\n'\n",
      "C:\\Python39\\lib\\site-packages\\lightgbm\\engine.py:239: UserWarning: 'verbose_eval' argument is deprecated and will be removed in a future release of LightGBM. Pass 'log_evaluation()' callback via 'callbacks' argument instead.\n",
      "  _log_warning(\"'verbose_eval' argument is deprecated and will be removed in a future release of LightGBM. \"\n",
      "C:\\Python39\\lib\\site-packages\\lightgbm\\basic.py:1780: UserWarning: Overriding the parameters from Reference Dataset.\n",
      "  _log_warning('Overriding the parameters from Reference Dataset.')\n",
      "C:\\Python39\\lib\\site-packages\\lightgbm\\basic.py:1513: UserWarning: categorical_column in param dict is overridden.\n",
      "  _log_warning(f'{cat_alias} in param dict is overridden.')\n"
     ]
    },
    {
     "name": "stdout",
     "output_type": "stream",
     "text": [
      "[50]\tvalid_0's auc: 0.903054\n",
      "[100]\tvalid_0's auc: 0.904397\n",
      "[150]\tvalid_0's auc: 0.905221\n",
      "[200]\tvalid_0's auc: 0.90591\n",
      "[250]\tvalid_0's auc: 0.90649\n",
      "[300]\tvalid_0's auc: 0.906635\n",
      "[350]\tvalid_0's auc: 0.906698\n",
      "[400]\tvalid_0's auc: 0.906855\n",
      "[450]\tvalid_0's auc: 0.90674\n",
      "[500]\tvalid_0's auc: 0.906458\n",
      "Early stopping, best iteration is:\n",
      "[423]\tvalid_0's auc: 0.906907\n"
     ]
    },
    {
     "name": "stderr",
     "output_type": "stream",
     "text": [
      "regularization_factors, val_score: 0.906936:  50%|##################5                  | 10/20 [00:14<00:14,  1.48s/it]C:\\Python39\\lib\\site-packages\\lightgbm\\engine.py:181: UserWarning: 'early_stopping_rounds' argument is deprecated and will be removed in a future release of LightGBM. Pass 'early_stopping()' callback via 'callbacks' argument instead.\n",
      "  _log_warning(\"'early_stopping_rounds' argument is deprecated and will be removed in a future release of LightGBM. \"\n",
      "C:\\Python39\\lib\\site-packages\\lightgbm\\basic.py:2068: UserWarning: categorical_feature in Dataset is overridden.\n",
      "New categorical_feature is ['education', 'marital.status', 'native.country', 'occupation', 'race', 'relationship', 'sex', 'workclass']\n",
      "  _log_warning('categorical_feature in Dataset is overridden.\\n'\n",
      "C:\\Python39\\lib\\site-packages\\lightgbm\\engine.py:239: UserWarning: 'verbose_eval' argument is deprecated and will be removed in a future release of LightGBM. Pass 'log_evaluation()' callback via 'callbacks' argument instead.\n",
      "  _log_warning(\"'verbose_eval' argument is deprecated and will be removed in a future release of LightGBM. \"\n",
      "C:\\Python39\\lib\\site-packages\\lightgbm\\basic.py:1780: UserWarning: Overriding the parameters from Reference Dataset.\n",
      "  _log_warning('Overriding the parameters from Reference Dataset.')\n",
      "C:\\Python39\\lib\\site-packages\\lightgbm\\basic.py:1513: UserWarning: categorical_column in param dict is overridden.\n",
      "  _log_warning(f'{cat_alias} in param dict is overridden.')\n"
     ]
    },
    {
     "name": "stdout",
     "output_type": "stream",
     "text": [
      "Training until validation scores don't improve for 100 rounds\n",
      "[50]\tvalid_0's auc: 0.903054\n",
      "[100]\tvalid_0's auc: 0.904397\n",
      "[150]\tvalid_0's auc: 0.905215\n",
      "[200]\tvalid_0's auc: 0.905904\n",
      "[250]\tvalid_0's auc: 0.906492\n",
      "[300]\tvalid_0's auc: 0.90664\n",
      "[350]\tvalid_0's auc: 0.906705\n",
      "[400]\tvalid_0's auc: 0.906753\n",
      "[450]\tvalid_0's auc: 0.906673\n",
      "[500]\tvalid_0's auc: 0.906448\n"
     ]
    },
    {
     "name": "stderr",
     "output_type": "stream",
     "text": [
      "regularization_factors, val_score: 0.906936:  55%|####################3                | 11/20 [00:16<00:13,  1.45s/it]"
     ]
    },
    {
     "name": "stdout",
     "output_type": "stream",
     "text": [
      "Early stopping, best iteration is:\n",
      "[429]\tvalid_0's auc: 0.906808\n",
      "Training until validation scores don't improve for 100 rounds\n"
     ]
    },
    {
     "name": "stderr",
     "output_type": "stream",
     "text": [
      "C:\\Python39\\lib\\site-packages\\lightgbm\\engine.py:181: UserWarning: 'early_stopping_rounds' argument is deprecated and will be removed in a future release of LightGBM. Pass 'early_stopping()' callback via 'callbacks' argument instead.\n",
      "  _log_warning(\"'early_stopping_rounds' argument is deprecated and will be removed in a future release of LightGBM. \"\n",
      "C:\\Python39\\lib\\site-packages\\lightgbm\\basic.py:2068: UserWarning: categorical_feature in Dataset is overridden.\n",
      "New categorical_feature is ['education', 'marital.status', 'native.country', 'occupation', 'race', 'relationship', 'sex', 'workclass']\n",
      "  _log_warning('categorical_feature in Dataset is overridden.\\n'\n",
      "C:\\Python39\\lib\\site-packages\\lightgbm\\engine.py:239: UserWarning: 'verbose_eval' argument is deprecated and will be removed in a future release of LightGBM. Pass 'log_evaluation()' callback via 'callbacks' argument instead.\n",
      "  _log_warning(\"'verbose_eval' argument is deprecated and will be removed in a future release of LightGBM. \"\n",
      "C:\\Python39\\lib\\site-packages\\lightgbm\\basic.py:1780: UserWarning: Overriding the parameters from Reference Dataset.\n",
      "  _log_warning('Overriding the parameters from Reference Dataset.')\n",
      "C:\\Python39\\lib\\site-packages\\lightgbm\\basic.py:1513: UserWarning: categorical_column in param dict is overridden.\n",
      "  _log_warning(f'{cat_alias} in param dict is overridden.')\n"
     ]
    },
    {
     "name": "stdout",
     "output_type": "stream",
     "text": [
      "[50]\tvalid_0's auc: 0.903034\n",
      "[100]\tvalid_0's auc: 0.904402\n",
      "[150]\tvalid_0's auc: 0.90522\n",
      "[200]\tvalid_0's auc: 0.905916\n",
      "[250]\tvalid_0's auc: 0.906505\n",
      "[300]\tvalid_0's auc: 0.906661\n",
      "[350]\tvalid_0's auc: 0.906771\n",
      "[400]\tvalid_0's auc: 0.906784\n"
     ]
    },
    {
     "name": "stderr",
     "output_type": "stream",
     "text": [
      "regularization_factors, val_score: 0.906936:  60%|######################2              | 12/20 [00:17<00:11,  1.40s/it]"
     ]
    },
    {
     "name": "stdout",
     "output_type": "stream",
     "text": [
      "[450]\tvalid_0's auc: 0.906708\n",
      "Early stopping, best iteration is:\n",
      "[366]\tvalid_0's auc: 0.906828\n",
      "Training until validation scores don't improve for 100 rounds\n"
     ]
    },
    {
     "name": "stderr",
     "output_type": "stream",
     "text": [
      "C:\\Python39\\lib\\site-packages\\lightgbm\\engine.py:181: UserWarning: 'early_stopping_rounds' argument is deprecated and will be removed in a future release of LightGBM. Pass 'early_stopping()' callback via 'callbacks' argument instead.\n",
      "  _log_warning(\"'early_stopping_rounds' argument is deprecated and will be removed in a future release of LightGBM. \"\n",
      "C:\\Python39\\lib\\site-packages\\lightgbm\\basic.py:2068: UserWarning: categorical_feature in Dataset is overridden.\n",
      "New categorical_feature is ['education', 'marital.status', 'native.country', 'occupation', 'race', 'relationship', 'sex', 'workclass']\n",
      "  _log_warning('categorical_feature in Dataset is overridden.\\n'\n",
      "C:\\Python39\\lib\\site-packages\\lightgbm\\engine.py:239: UserWarning: 'verbose_eval' argument is deprecated and will be removed in a future release of LightGBM. Pass 'log_evaluation()' callback via 'callbacks' argument instead.\n",
      "  _log_warning(\"'verbose_eval' argument is deprecated and will be removed in a future release of LightGBM. \"\n",
      "C:\\Python39\\lib\\site-packages\\lightgbm\\basic.py:1780: UserWarning: Overriding the parameters from Reference Dataset.\n",
      "  _log_warning('Overriding the parameters from Reference Dataset.')\n",
      "C:\\Python39\\lib\\site-packages\\lightgbm\\basic.py:1513: UserWarning: categorical_column in param dict is overridden.\n",
      "  _log_warning(f'{cat_alias} in param dict is overridden.')\n"
     ]
    },
    {
     "name": "stdout",
     "output_type": "stream",
     "text": [
      "[50]\tvalid_0's auc: 0.903061\n",
      "[100]\tvalid_0's auc: 0.904408\n",
      "[150]\tvalid_0's auc: 0.905243\n",
      "[200]\tvalid_0's auc: 0.905914\n",
      "[250]\tvalid_0's auc: 0.90657\n",
      "[300]\tvalid_0's auc: 0.906708\n",
      "[350]\tvalid_0's auc: 0.90679\n",
      "[400]\tvalid_0's auc: 0.906853\n"
     ]
    },
    {
     "name": "stderr",
     "output_type": "stream",
     "text": [
      "regularization_factors, val_score: 0.906936:  65%|########################             | 13/20 [00:18<00:09,  1.36s/it]"
     ]
    },
    {
     "name": "stdout",
     "output_type": "stream",
     "text": [
      "[450]\tvalid_0's auc: 0.906714\n",
      "Early stopping, best iteration is:\n",
      "[377]\tvalid_0's auc: 0.906912\n"
     ]
    },
    {
     "name": "stderr",
     "output_type": "stream",
     "text": [
      "C:\\Python39\\lib\\site-packages\\lightgbm\\engine.py:181: UserWarning: 'early_stopping_rounds' argument is deprecated and will be removed in a future release of LightGBM. Pass 'early_stopping()' callback via 'callbacks' argument instead.\n",
      "  _log_warning(\"'early_stopping_rounds' argument is deprecated and will be removed in a future release of LightGBM. \"\n",
      "C:\\Python39\\lib\\site-packages\\lightgbm\\basic.py:2068: UserWarning: categorical_feature in Dataset is overridden.\n",
      "New categorical_feature is ['education', 'marital.status', 'native.country', 'occupation', 'race', 'relationship', 'sex', 'workclass']\n",
      "  _log_warning('categorical_feature in Dataset is overridden.\\n'\n",
      "C:\\Python39\\lib\\site-packages\\lightgbm\\engine.py:239: UserWarning: 'verbose_eval' argument is deprecated and will be removed in a future release of LightGBM. Pass 'log_evaluation()' callback via 'callbacks' argument instead.\n",
      "  _log_warning(\"'verbose_eval' argument is deprecated and will be removed in a future release of LightGBM. \"\n",
      "C:\\Python39\\lib\\site-packages\\lightgbm\\basic.py:1780: UserWarning: Overriding the parameters from Reference Dataset.\n",
      "  _log_warning('Overriding the parameters from Reference Dataset.')\n",
      "C:\\Python39\\lib\\site-packages\\lightgbm\\basic.py:1513: UserWarning: categorical_column in param dict is overridden.\n",
      "  _log_warning(f'{cat_alias} in param dict is overridden.')\n"
     ]
    },
    {
     "name": "stdout",
     "output_type": "stream",
     "text": [
      "Training until validation scores don't improve for 100 rounds\n",
      "[50]\tvalid_0's auc: 0.903055\n",
      "[100]\tvalid_0's auc: 0.904396\n",
      "[150]\tvalid_0's auc: 0.905214\n",
      "[200]\tvalid_0's auc: 0.905905\n",
      "[250]\tvalid_0's auc: 0.906492\n",
      "[300]\tvalid_0's auc: 0.906627\n",
      "[350]\tvalid_0's auc: 0.906764\n",
      "[400]\tvalid_0's auc: 0.906872\n",
      "[450]\tvalid_0's auc: 0.906753\n",
      "Early stopping, best iteration is:\n",
      "[378]\tvalid_0's auc: 0.906895\n"
     ]
    },
    {
     "name": "stderr",
     "output_type": "stream",
     "text": [
      "regularization_factors, val_score: 0.906936:  70%|#########################9           | 14/20 [00:19<00:08,  1.34s/it]C:\\Python39\\lib\\site-packages\\lightgbm\\engine.py:181: UserWarning: 'early_stopping_rounds' argument is deprecated and will be removed in a future release of LightGBM. Pass 'early_stopping()' callback via 'callbacks' argument instead.\n",
      "  _log_warning(\"'early_stopping_rounds' argument is deprecated and will be removed in a future release of LightGBM. \"\n",
      "C:\\Python39\\lib\\site-packages\\lightgbm\\basic.py:2068: UserWarning: categorical_feature in Dataset is overridden.\n",
      "New categorical_feature is ['education', 'marital.status', 'native.country', 'occupation', 'race', 'relationship', 'sex', 'workclass']\n",
      "  _log_warning('categorical_feature in Dataset is overridden.\\n'\n",
      "C:\\Python39\\lib\\site-packages\\lightgbm\\engine.py:239: UserWarning: 'verbose_eval' argument is deprecated and will be removed in a future release of LightGBM. Pass 'log_evaluation()' callback via 'callbacks' argument instead.\n",
      "  _log_warning(\"'verbose_eval' argument is deprecated and will be removed in a future release of LightGBM. \"\n",
      "C:\\Python39\\lib\\site-packages\\lightgbm\\basic.py:1780: UserWarning: Overriding the parameters from Reference Dataset.\n",
      "  _log_warning('Overriding the parameters from Reference Dataset.')\n",
      "C:\\Python39\\lib\\site-packages\\lightgbm\\basic.py:1513: UserWarning: categorical_column in param dict is overridden.\n",
      "  _log_warning(f'{cat_alias} in param dict is overridden.')\n"
     ]
    },
    {
     "name": "stdout",
     "output_type": "stream",
     "text": [
      "Training until validation scores don't improve for 100 rounds\n",
      "[50]\tvalid_0's auc: 0.903054\n",
      "[100]\tvalid_0's auc: 0.904397\n",
      "[150]\tvalid_0's auc: 0.905221\n",
      "[200]\tvalid_0's auc: 0.90591\n",
      "[250]\tvalid_0's auc: 0.90649\n",
      "[300]\tvalid_0's auc: 0.906635\n",
      "[350]\tvalid_0's auc: 0.906698\n",
      "[400]\tvalid_0's auc: 0.906855\n",
      "[450]\tvalid_0's auc: 0.90674\n",
      "[500]\tvalid_0's auc: 0.906458\n"
     ]
    },
    {
     "name": "stderr",
     "output_type": "stream",
     "text": [
      "regularization_factors, val_score: 0.906936:  75%|###########################7         | 15/20 [00:21<00:06,  1.33s/it]"
     ]
    },
    {
     "name": "stdout",
     "output_type": "stream",
     "text": [
      "Early stopping, best iteration is:\n",
      "[423]\tvalid_0's auc: 0.906907\n",
      "Training until validation scores don't improve for 100 rounds\n"
     ]
    },
    {
     "name": "stderr",
     "output_type": "stream",
     "text": [
      "C:\\Python39\\lib\\site-packages\\lightgbm\\engine.py:181: UserWarning: 'early_stopping_rounds' argument is deprecated and will be removed in a future release of LightGBM. Pass 'early_stopping()' callback via 'callbacks' argument instead.\n",
      "  _log_warning(\"'early_stopping_rounds' argument is deprecated and will be removed in a future release of LightGBM. \"\n",
      "C:\\Python39\\lib\\site-packages\\lightgbm\\basic.py:2068: UserWarning: categorical_feature in Dataset is overridden.\n",
      "New categorical_feature is ['education', 'marital.status', 'native.country', 'occupation', 'race', 'relationship', 'sex', 'workclass']\n",
      "  _log_warning('categorical_feature in Dataset is overridden.\\n'\n",
      "C:\\Python39\\lib\\site-packages\\lightgbm\\engine.py:239: UserWarning: 'verbose_eval' argument is deprecated and will be removed in a future release of LightGBM. Pass 'log_evaluation()' callback via 'callbacks' argument instead.\n",
      "  _log_warning(\"'verbose_eval' argument is deprecated and will be removed in a future release of LightGBM. \"\n",
      "C:\\Python39\\lib\\site-packages\\lightgbm\\basic.py:1780: UserWarning: Overriding the parameters from Reference Dataset.\n",
      "  _log_warning('Overriding the parameters from Reference Dataset.')\n",
      "C:\\Python39\\lib\\site-packages\\lightgbm\\basic.py:1513: UserWarning: categorical_column in param dict is overridden.\n",
      "  _log_warning(f'{cat_alias} in param dict is overridden.')\n"
     ]
    },
    {
     "name": "stdout",
     "output_type": "stream",
     "text": [
      "[50]\tvalid_0's auc: 0.903054\n",
      "[100]\tvalid_0's auc: 0.904397\n",
      "[150]\tvalid_0's auc: 0.905215\n",
      "[200]\tvalid_0's auc: 0.905904\n",
      "[250]\tvalid_0's auc: 0.906492\n",
      "[300]\tvalid_0's auc: 0.90664\n",
      "[350]\tvalid_0's auc: 0.906705\n",
      "[400]\tvalid_0's auc: 0.906753\n",
      "[450]\tvalid_0's auc: 0.906673\n",
      "[500]\tvalid_0's auc: 0.906448\n",
      "Early stopping, best iteration is:\n",
      "[429]\tvalid_0's auc: 0.906808\n"
     ]
    },
    {
     "name": "stderr",
     "output_type": "stream",
     "text": [
      "regularization_factors, val_score: 0.906936:  80%|#############################6       | 16/20 [00:22<00:05,  1.33s/it]C:\\Python39\\lib\\site-packages\\lightgbm\\engine.py:181: UserWarning: 'early_stopping_rounds' argument is deprecated and will be removed in a future release of LightGBM. Pass 'early_stopping()' callback via 'callbacks' argument instead.\n",
      "  _log_warning(\"'early_stopping_rounds' argument is deprecated and will be removed in a future release of LightGBM. \"\n",
      "C:\\Python39\\lib\\site-packages\\lightgbm\\basic.py:2068: UserWarning: categorical_feature in Dataset is overridden.\n",
      "New categorical_feature is ['education', 'marital.status', 'native.country', 'occupation', 'race', 'relationship', 'sex', 'workclass']\n",
      "  _log_warning('categorical_feature in Dataset is overridden.\\n'\n",
      "C:\\Python39\\lib\\site-packages\\lightgbm\\engine.py:239: UserWarning: 'verbose_eval' argument is deprecated and will be removed in a future release of LightGBM. Pass 'log_evaluation()' callback via 'callbacks' argument instead.\n",
      "  _log_warning(\"'verbose_eval' argument is deprecated and will be removed in a future release of LightGBM. \"\n",
      "C:\\Python39\\lib\\site-packages\\lightgbm\\basic.py:1780: UserWarning: Overriding the parameters from Reference Dataset.\n",
      "  _log_warning('Overriding the parameters from Reference Dataset.')\n",
      "C:\\Python39\\lib\\site-packages\\lightgbm\\basic.py:1513: UserWarning: categorical_column in param dict is overridden.\n",
      "  _log_warning(f'{cat_alias} in param dict is overridden.')\n"
     ]
    },
    {
     "name": "stdout",
     "output_type": "stream",
     "text": [
      "Training until validation scores don't improve for 100 rounds\n",
      "[50]\tvalid_0's auc: 0.902518\n",
      "[100]\tvalid_0's auc: 0.903879\n",
      "[150]\tvalid_0's auc: 0.90475\n",
      "[200]\tvalid_0's auc: 0.905693\n",
      "[250]\tvalid_0's auc: 0.906378\n",
      "[300]\tvalid_0's auc: 0.906612\n",
      "[350]\tvalid_0's auc: 0.906862\n",
      "[400]\tvalid_0's auc: 0.906947\n",
      "[450]\tvalid_0's auc: 0.907001\n"
     ]
    },
    {
     "name": "stderr",
     "output_type": "stream",
     "text": [
      "regularization_factors, val_score: 0.907057:  85%|###############################4     | 17/20 [00:23<00:04,  1.35s/it]"
     ]
    },
    {
     "name": "stdout",
     "output_type": "stream",
     "text": [
      "[500]\tvalid_0's auc: 0.906887\n",
      "Early stopping, best iteration is:\n",
      "[420]\tvalid_0's auc: 0.907057\n",
      "Training until validation scores don't improve for 100 rounds\n"
     ]
    },
    {
     "name": "stderr",
     "output_type": "stream",
     "text": [
      "C:\\Python39\\lib\\site-packages\\lightgbm\\engine.py:181: UserWarning: 'early_stopping_rounds' argument is deprecated and will be removed in a future release of LightGBM. Pass 'early_stopping()' callback via 'callbacks' argument instead.\n",
      "  _log_warning(\"'early_stopping_rounds' argument is deprecated and will be removed in a future release of LightGBM. \"\n",
      "C:\\Python39\\lib\\site-packages\\lightgbm\\basic.py:2068: UserWarning: categorical_feature in Dataset is overridden.\n",
      "New categorical_feature is ['education', 'marital.status', 'native.country', 'occupation', 'race', 'relationship', 'sex', 'workclass']\n",
      "  _log_warning('categorical_feature in Dataset is overridden.\\n'\n",
      "C:\\Python39\\lib\\site-packages\\lightgbm\\engine.py:239: UserWarning: 'verbose_eval' argument is deprecated and will be removed in a future release of LightGBM. Pass 'log_evaluation()' callback via 'callbacks' argument instead.\n",
      "  _log_warning(\"'verbose_eval' argument is deprecated and will be removed in a future release of LightGBM. \"\n",
      "C:\\Python39\\lib\\site-packages\\lightgbm\\basic.py:1780: UserWarning: Overriding the parameters from Reference Dataset.\n",
      "  _log_warning('Overriding the parameters from Reference Dataset.')\n",
      "C:\\Python39\\lib\\site-packages\\lightgbm\\basic.py:1513: UserWarning: categorical_column in param dict is overridden.\n",
      "  _log_warning(f'{cat_alias} in param dict is overridden.')\n"
     ]
    },
    {
     "name": "stdout",
     "output_type": "stream",
     "text": [
      "[50]\tvalid_0's auc: 0.902836\n",
      "[100]\tvalid_0's auc: 0.904324\n",
      "[150]\tvalid_0's auc: 0.905111\n",
      "[200]\tvalid_0's auc: 0.90597\n",
      "[250]\tvalid_0's auc: 0.906594\n",
      "[300]\tvalid_0's auc: 0.906792\n",
      "[350]\tvalid_0's auc: 0.906873\n",
      "[400]\tvalid_0's auc: 0.906948\n",
      "[450]\tvalid_0's auc: 0.906891\n",
      "[500]\tvalid_0's auc: 0.906841\n",
      "Early stopping, best iteration is:\n",
      "[413]\tvalid_0's auc: 0.906998\n"
     ]
    },
    {
     "name": "stderr",
     "output_type": "stream",
     "text": [
      "regularization_factors, val_score: 0.907057:  90%|#################################3   | 18/20 [00:25<00:02,  1.33s/it]C:\\Python39\\lib\\site-packages\\lightgbm\\engine.py:181: UserWarning: 'early_stopping_rounds' argument is deprecated and will be removed in a future release of LightGBM. Pass 'early_stopping()' callback via 'callbacks' argument instead.\n",
      "  _log_warning(\"'early_stopping_rounds' argument is deprecated and will be removed in a future release of LightGBM. \"\n",
      "C:\\Python39\\lib\\site-packages\\lightgbm\\basic.py:2068: UserWarning: categorical_feature in Dataset is overridden.\n",
      "New categorical_feature is ['education', 'marital.status', 'native.country', 'occupation', 'race', 'relationship', 'sex', 'workclass']\n",
      "  _log_warning('categorical_feature in Dataset is overridden.\\n'\n",
      "C:\\Python39\\lib\\site-packages\\lightgbm\\engine.py:239: UserWarning: 'verbose_eval' argument is deprecated and will be removed in a future release of LightGBM. Pass 'log_evaluation()' callback via 'callbacks' argument instead.\n",
      "  _log_warning(\"'verbose_eval' argument is deprecated and will be removed in a future release of LightGBM. \"\n",
      "C:\\Python39\\lib\\site-packages\\lightgbm\\basic.py:1780: UserWarning: Overriding the parameters from Reference Dataset.\n",
      "  _log_warning('Overriding the parameters from Reference Dataset.')\n",
      "C:\\Python39\\lib\\site-packages\\lightgbm\\basic.py:1513: UserWarning: categorical_column in param dict is overridden.\n",
      "  _log_warning(f'{cat_alias} in param dict is overridden.')\n"
     ]
    },
    {
     "name": "stdout",
     "output_type": "stream",
     "text": [
      "Training until validation scores don't improve for 100 rounds\n",
      "[50]\tvalid_0's auc: 0.902499\n",
      "[100]\tvalid_0's auc: 0.903756\n",
      "[150]\tvalid_0's auc: 0.904703\n",
      "[200]\tvalid_0's auc: 0.905535\n",
      "[250]\tvalid_0's auc: 0.906252\n",
      "[300]\tvalid_0's auc: 0.906597\n",
      "[350]\tvalid_0's auc: 0.906869\n",
      "[400]\tvalid_0's auc: 0.906971\n",
      "[450]\tvalid_0's auc: 0.906899\n"
     ]
    },
    {
     "name": "stderr",
     "output_type": "stream",
     "text": [
      "regularization_factors, val_score: 0.907079:  95%|###################################1 | 19/20 [00:26<00:01,  1.34s/it]"
     ]
    },
    {
     "name": "stdout",
     "output_type": "stream",
     "text": [
      "[500]\tvalid_0's auc: 0.906911\n",
      "Early stopping, best iteration is:\n",
      "[421]\tvalid_0's auc: 0.907079\n",
      "Training until validation scores don't improve for 100 rounds\n"
     ]
    },
    {
     "name": "stderr",
     "output_type": "stream",
     "text": [
      "C:\\Python39\\lib\\site-packages\\lightgbm\\engine.py:181: UserWarning: 'early_stopping_rounds' argument is deprecated and will be removed in a future release of LightGBM. Pass 'early_stopping()' callback via 'callbacks' argument instead.\n",
      "  _log_warning(\"'early_stopping_rounds' argument is deprecated and will be removed in a future release of LightGBM. \"\n",
      "C:\\Python39\\lib\\site-packages\\lightgbm\\basic.py:2068: UserWarning: categorical_feature in Dataset is overridden.\n",
      "New categorical_feature is ['education', 'marital.status', 'native.country', 'occupation', 'race', 'relationship', 'sex', 'workclass']\n",
      "  _log_warning('categorical_feature in Dataset is overridden.\\n'\n",
      "C:\\Python39\\lib\\site-packages\\lightgbm\\engine.py:239: UserWarning: 'verbose_eval' argument is deprecated and will be removed in a future release of LightGBM. Pass 'log_evaluation()' callback via 'callbacks' argument instead.\n",
      "  _log_warning(\"'verbose_eval' argument is deprecated and will be removed in a future release of LightGBM. \"\n",
      "C:\\Python39\\lib\\site-packages\\lightgbm\\basic.py:1780: UserWarning: Overriding the parameters from Reference Dataset.\n",
      "  _log_warning('Overriding the parameters from Reference Dataset.')\n",
      "C:\\Python39\\lib\\site-packages\\lightgbm\\basic.py:1513: UserWarning: categorical_column in param dict is overridden.\n",
      "  _log_warning(f'{cat_alias} in param dict is overridden.')\n"
     ]
    },
    {
     "name": "stdout",
     "output_type": "stream",
     "text": [
      "[50]\tvalid_0's auc: 0.902507\n",
      "[100]\tvalid_0's auc: 0.903892\n",
      "[150]\tvalid_0's auc: 0.904755\n",
      "[200]\tvalid_0's auc: 0.90568\n",
      "[250]\tvalid_0's auc: 0.906378\n",
      "[300]\tvalid_0's auc: 0.90669\n",
      "[350]\tvalid_0's auc: 0.906962\n",
      "[400]\tvalid_0's auc: 0.907059\n",
      "[450]\tvalid_0's auc: 0.907011\n",
      "[500]\tvalid_0's auc: 0.907018\n",
      "Early stopping, best iteration is:\n",
      "[420]\tvalid_0's auc: 0.907101\n"
     ]
    },
    {
     "name": "stderr",
     "output_type": "stream",
     "text": [
      "regularization_factors, val_score: 0.907101: 100%|#####################################| 20/20 [00:27<00:00,  1.40s/it]\n",
      "min_data_in_leaf, val_score: 0.907101:   0%|                                                     | 0/5 [00:00<?, ?it/s]C:\\Python39\\lib\\site-packages\\lightgbm\\engine.py:181: UserWarning: 'early_stopping_rounds' argument is deprecated and will be removed in a future release of LightGBM. Pass 'early_stopping()' callback via 'callbacks' argument instead.\n",
      "  _log_warning(\"'early_stopping_rounds' argument is deprecated and will be removed in a future release of LightGBM. \"\n",
      "C:\\Python39\\lib\\site-packages\\lightgbm\\basic.py:2068: UserWarning: categorical_feature in Dataset is overridden.\n",
      "New categorical_feature is ['education', 'marital.status', 'native.country', 'occupation', 'race', 'relationship', 'sex', 'workclass']\n",
      "  _log_warning('categorical_feature in Dataset is overridden.\\n'\n",
      "C:\\Python39\\lib\\site-packages\\lightgbm\\engine.py:239: UserWarning: 'verbose_eval' argument is deprecated and will be removed in a future release of LightGBM. Pass 'log_evaluation()' callback via 'callbacks' argument instead.\n",
      "  _log_warning(\"'verbose_eval' argument is deprecated and will be removed in a future release of LightGBM. \"\n",
      "C:\\Python39\\lib\\site-packages\\lightgbm\\basic.py:1780: UserWarning: Overriding the parameters from Reference Dataset.\n",
      "  _log_warning('Overriding the parameters from Reference Dataset.')\n",
      "C:\\Python39\\lib\\site-packages\\lightgbm\\basic.py:1513: UserWarning: categorical_column in param dict is overridden.\n",
      "  _log_warning(f'{cat_alias} in param dict is overridden.')\n"
     ]
    },
    {
     "name": "stdout",
     "output_type": "stream",
     "text": [
      "Training until validation scores don't improve for 100 rounds\n",
      "[50]\tvalid_0's auc: 0.902463\n",
      "[100]\tvalid_0's auc: 0.903782\n",
      "[150]\tvalid_0's auc: 0.904693\n",
      "[200]\tvalid_0's auc: 0.905639\n",
      "[250]\tvalid_0's auc: 0.906345\n",
      "[300]\tvalid_0's auc: 0.906675\n",
      "[350]\tvalid_0's auc: 0.906903\n",
      "[400]\tvalid_0's auc: 0.907014\n",
      "[450]\tvalid_0's auc: 0.906959\n"
     ]
    },
    {
     "name": "stderr",
     "output_type": "stream",
     "text": [
      "min_data_in_leaf, val_score: 0.907101:  20%|#########                                    | 1/5 [00:01<00:05,  1.27s/it]"
     ]
    },
    {
     "name": "stdout",
     "output_type": "stream",
     "text": [
      "[500]\tvalid_0's auc: 0.906882\n",
      "Early stopping, best iteration is:\n",
      "[420]\tvalid_0's auc: 0.9071\n",
      "Training until validation scores don't improve for 100 rounds\n"
     ]
    },
    {
     "name": "stderr",
     "output_type": "stream",
     "text": [
      "C:\\Python39\\lib\\site-packages\\lightgbm\\engine.py:181: UserWarning: 'early_stopping_rounds' argument is deprecated and will be removed in a future release of LightGBM. Pass 'early_stopping()' callback via 'callbacks' argument instead.\n",
      "  _log_warning(\"'early_stopping_rounds' argument is deprecated and will be removed in a future release of LightGBM. \"\n",
      "C:\\Python39\\lib\\site-packages\\lightgbm\\basic.py:2068: UserWarning: categorical_feature in Dataset is overridden.\n",
      "New categorical_feature is ['education', 'marital.status', 'native.country', 'occupation', 'race', 'relationship', 'sex', 'workclass']\n",
      "  _log_warning('categorical_feature in Dataset is overridden.\\n'\n",
      "C:\\Python39\\lib\\site-packages\\lightgbm\\engine.py:239: UserWarning: 'verbose_eval' argument is deprecated and will be removed in a future release of LightGBM. Pass 'log_evaluation()' callback via 'callbacks' argument instead.\n",
      "  _log_warning(\"'verbose_eval' argument is deprecated and will be removed in a future release of LightGBM. \"\n",
      "C:\\Python39\\lib\\site-packages\\lightgbm\\basic.py:1780: UserWarning: Overriding the parameters from Reference Dataset.\n",
      "  _log_warning('Overriding the parameters from Reference Dataset.')\n",
      "C:\\Python39\\lib\\site-packages\\lightgbm\\basic.py:1513: UserWarning: categorical_column in param dict is overridden.\n",
      "  _log_warning(f'{cat_alias} in param dict is overridden.')\n"
     ]
    },
    {
     "name": "stdout",
     "output_type": "stream",
     "text": [
      "[50]\tvalid_0's auc: 0.902497\n",
      "[100]\tvalid_0's auc: 0.903802\n",
      "[150]\tvalid_0's auc: 0.904684\n",
      "[200]\tvalid_0's auc: 0.905539\n",
      "[250]\tvalid_0's auc: 0.906298\n",
      "[300]\tvalid_0's auc: 0.906649\n",
      "[350]\tvalid_0's auc: 0.906837\n",
      "[400]\tvalid_0's auc: 0.906878\n",
      "[450]\tvalid_0's auc: 0.906862\n",
      "[500]\tvalid_0's auc: 0.906775\n",
      "Early stopping, best iteration is:\n",
      "[421]\tvalid_0's auc: 0.906999\n"
     ]
    },
    {
     "name": "stderr",
     "output_type": "stream",
     "text": [
      "min_data_in_leaf, val_score: 0.907101:  40%|##################                           | 2/5 [00:02<00:03,  1.26s/it]C:\\Python39\\lib\\site-packages\\lightgbm\\engine.py:181: UserWarning: 'early_stopping_rounds' argument is deprecated and will be removed in a future release of LightGBM. Pass 'early_stopping()' callback via 'callbacks' argument instead.\n",
      "  _log_warning(\"'early_stopping_rounds' argument is deprecated and will be removed in a future release of LightGBM. \"\n",
      "C:\\Python39\\lib\\site-packages\\lightgbm\\basic.py:2068: UserWarning: categorical_feature in Dataset is overridden.\n",
      "New categorical_feature is ['education', 'marital.status', 'native.country', 'occupation', 'race', 'relationship', 'sex', 'workclass']\n",
      "  _log_warning('categorical_feature in Dataset is overridden.\\n'\n",
      "C:\\Python39\\lib\\site-packages\\lightgbm\\engine.py:239: UserWarning: 'verbose_eval' argument is deprecated and will be removed in a future release of LightGBM. Pass 'log_evaluation()' callback via 'callbacks' argument instead.\n",
      "  _log_warning(\"'verbose_eval' argument is deprecated and will be removed in a future release of LightGBM. \"\n",
      "C:\\Python39\\lib\\site-packages\\lightgbm\\basic.py:1780: UserWarning: Overriding the parameters from Reference Dataset.\n",
      "  _log_warning('Overriding the parameters from Reference Dataset.')\n",
      "C:\\Python39\\lib\\site-packages\\lightgbm\\basic.py:1513: UserWarning: categorical_column in param dict is overridden.\n",
      "  _log_warning(f'{cat_alias} in param dict is overridden.')\n"
     ]
    },
    {
     "name": "stdout",
     "output_type": "stream",
     "text": [
      "Training until validation scores don't improve for 100 rounds\n",
      "[50]\tvalid_0's auc: 0.902354\n",
      "[100]\tvalid_0's auc: 0.903873\n",
      "[150]\tvalid_0's auc: 0.904716\n",
      "[200]\tvalid_0's auc: 0.905631\n",
      "[250]\tvalid_0's auc: 0.906226\n",
      "[300]\tvalid_0's auc: 0.906559\n",
      "[350]\tvalid_0's auc: 0.906795\n",
      "[400]\tvalid_0's auc: 0.906848\n",
      "[450]\tvalid_0's auc: 0.906735\n"
     ]
    },
    {
     "name": "stderr",
     "output_type": "stream",
     "text": [
      "min_data_in_leaf, val_score: 0.907101:  60%|###########################                  | 3/5 [00:03<00:02,  1.32s/it]"
     ]
    },
    {
     "name": "stdout",
     "output_type": "stream",
     "text": [
      "[500]\tvalid_0's auc: 0.90666\n",
      "Early stopping, best iteration is:\n",
      "[421]\tvalid_0's auc: 0.906918\n",
      "Training until validation scores don't improve for 100 rounds\n"
     ]
    },
    {
     "name": "stderr",
     "output_type": "stream",
     "text": [
      "C:\\Python39\\lib\\site-packages\\lightgbm\\engine.py:181: UserWarning: 'early_stopping_rounds' argument is deprecated and will be removed in a future release of LightGBM. Pass 'early_stopping()' callback via 'callbacks' argument instead.\n",
      "  _log_warning(\"'early_stopping_rounds' argument is deprecated and will be removed in a future release of LightGBM. \"\n",
      "C:\\Python39\\lib\\site-packages\\lightgbm\\basic.py:2068: UserWarning: categorical_feature in Dataset is overridden.\n",
      "New categorical_feature is ['education', 'marital.status', 'native.country', 'occupation', 'race', 'relationship', 'sex', 'workclass']\n",
      "  _log_warning('categorical_feature in Dataset is overridden.\\n'\n",
      "C:\\Python39\\lib\\site-packages\\lightgbm\\engine.py:239: UserWarning: 'verbose_eval' argument is deprecated and will be removed in a future release of LightGBM. Pass 'log_evaluation()' callback via 'callbacks' argument instead.\n",
      "  _log_warning(\"'verbose_eval' argument is deprecated and will be removed in a future release of LightGBM. \"\n",
      "C:\\Python39\\lib\\site-packages\\lightgbm\\basic.py:1780: UserWarning: Overriding the parameters from Reference Dataset.\n",
      "  _log_warning('Overriding the parameters from Reference Dataset.')\n",
      "C:\\Python39\\lib\\site-packages\\lightgbm\\basic.py:1513: UserWarning: categorical_column in param dict is overridden.\n",
      "  _log_warning(f'{cat_alias} in param dict is overridden.')\n"
     ]
    },
    {
     "name": "stdout",
     "output_type": "stream",
     "text": [
      "[50]\tvalid_0's auc: 0.902526\n",
      "[100]\tvalid_0's auc: 0.903907\n",
      "[150]\tvalid_0's auc: 0.904812\n",
      "[200]\tvalid_0's auc: 0.905705\n",
      "[250]\tvalid_0's auc: 0.906419\n",
      "[300]\tvalid_0's auc: 0.906678\n",
      "[350]\tvalid_0's auc: 0.906887\n",
      "[400]\tvalid_0's auc: 0.906991\n",
      "[450]\tvalid_0's auc: 0.90696\n",
      "[500]\tvalid_0's auc: 0.906833\n",
      "Early stopping, best iteration is:\n",
      "[421]\tvalid_0's auc: 0.907097\n"
     ]
    },
    {
     "name": "stderr",
     "output_type": "stream",
     "text": [
      "min_data_in_leaf, val_score: 0.907101:  80%|####################################         | 4/5 [00:05<00:01,  1.38s/it]C:\\Python39\\lib\\site-packages\\lightgbm\\engine.py:181: UserWarning: 'early_stopping_rounds' argument is deprecated and will be removed in a future release of LightGBM. Pass 'early_stopping()' callback via 'callbacks' argument instead.\n",
      "  _log_warning(\"'early_stopping_rounds' argument is deprecated and will be removed in a future release of LightGBM. \"\n",
      "C:\\Python39\\lib\\site-packages\\lightgbm\\basic.py:2068: UserWarning: categorical_feature in Dataset is overridden.\n",
      "New categorical_feature is ['education', 'marital.status', 'native.country', 'occupation', 'race', 'relationship', 'sex', 'workclass']\n",
      "  _log_warning('categorical_feature in Dataset is overridden.\\n'\n",
      "C:\\Python39\\lib\\site-packages\\lightgbm\\engine.py:239: UserWarning: 'verbose_eval' argument is deprecated and will be removed in a future release of LightGBM. Pass 'log_evaluation()' callback via 'callbacks' argument instead.\n",
      "  _log_warning(\"'verbose_eval' argument is deprecated and will be removed in a future release of LightGBM. \"\n",
      "C:\\Python39\\lib\\site-packages\\lightgbm\\basic.py:1780: UserWarning: Overriding the parameters from Reference Dataset.\n",
      "  _log_warning('Overriding the parameters from Reference Dataset.')\n",
      "C:\\Python39\\lib\\site-packages\\lightgbm\\basic.py:1513: UserWarning: categorical_column in param dict is overridden.\n",
      "  _log_warning(f'{cat_alias} in param dict is overridden.')\n"
     ]
    },
    {
     "name": "stdout",
     "output_type": "stream",
     "text": [
      "Training until validation scores don't improve for 100 rounds\n",
      "[50]\tvalid_0's auc: 0.902465\n",
      "[100]\tvalid_0's auc: 0.904088\n",
      "[150]\tvalid_0's auc: 0.904798\n",
      "[200]\tvalid_0's auc: 0.905582\n",
      "[250]\tvalid_0's auc: 0.906164\n",
      "[300]\tvalid_0's auc: 0.906488\n",
      "[350]\tvalid_0's auc: 0.906669\n",
      "[400]\tvalid_0's auc: 0.906797\n",
      "[450]\tvalid_0's auc: 0.906807\n",
      "[500]\tvalid_0's auc: 0.906742\n",
      "[550]\tvalid_0's auc: 0.906553\n",
      "Early stopping, best iteration is:\n",
      "[461]\tvalid_0's auc: 0.906887\n"
     ]
    },
    {
     "name": "stderr",
     "output_type": "stream",
     "text": [
      "min_data_in_leaf, val_score: 0.907101: 100%|#############################################| 5/5 [00:06<00:00,  1.37s/it]\n"
     ]
    },
    {
     "name": "stdout",
     "output_type": "stream",
     "text": [
      "Best params: {'boosting_type': 'gbdt', 'objective': 'binary', 'metric': 'auc', 'verbosity': -1, 'learning_rate': 0.02, 'deterministic': True, 'force_row_wise': True, 'feature_pre_filter': False, 'lambda_l1': 2.129893847335538e-06, 'lambda_l2': 7.3137849952516945, 'num_leaves': 31, 'feature_fraction': 0.4, 'bagging_fraction': 0.9357681726094859, 'bagging_freq': 7, 'min_child_samples': 20, 'num_iterations': 10000, 'early_stopping_round': 100, 'categorical_column': [1, 2, 4, 5, 6, 7, 8, 12]}\n",
      "### seed:  5 ###\n"
     ]
    },
    {
     "name": "stderr",
     "output_type": "stream",
     "text": [
      "feature_fraction, val_score: -inf:   0%|                                                         | 0/7 [00:00<?, ?it/s]C:\\Python39\\lib\\site-packages\\lightgbm\\engine.py:181: UserWarning: 'early_stopping_rounds' argument is deprecated and will be removed in a future release of LightGBM. Pass 'early_stopping()' callback via 'callbacks' argument instead.\n",
      "  _log_warning(\"'early_stopping_rounds' argument is deprecated and will be removed in a future release of LightGBM. \"\n",
      "C:\\Python39\\lib\\site-packages\\lightgbm\\basic.py:2068: UserWarning: categorical_feature in Dataset is overridden.\n",
      "New categorical_feature is ['education', 'marital.status', 'native.country', 'occupation', 'race', 'relationship', 'sex', 'workclass']\n",
      "  _log_warning('categorical_feature in Dataset is overridden.\\n'\n",
      "C:\\Python39\\lib\\site-packages\\lightgbm\\engine.py:239: UserWarning: 'verbose_eval' argument is deprecated and will be removed in a future release of LightGBM. Pass 'log_evaluation()' callback via 'callbacks' argument instead.\n",
      "  _log_warning(\"'verbose_eval' argument is deprecated and will be removed in a future release of LightGBM. \"\n",
      "C:\\Python39\\lib\\site-packages\\lightgbm\\basic.py:1780: UserWarning: Overriding the parameters from Reference Dataset.\n",
      "  _log_warning('Overriding the parameters from Reference Dataset.')\n",
      "C:\\Python39\\lib\\site-packages\\lightgbm\\basic.py:1513: UserWarning: categorical_column in param dict is overridden.\n",
      "  _log_warning(f'{cat_alias} in param dict is overridden.')\n"
     ]
    },
    {
     "name": "stdout",
     "output_type": "stream",
     "text": [
      "Training until validation scores don't improve for 100 rounds\n",
      "[50]\tvalid_0's auc: 0.902664\n",
      "[100]\tvalid_0's auc: 0.904155\n",
      "[150]\tvalid_0's auc: 0.90514\n",
      "[200]\tvalid_0's auc: 0.905737\n",
      "[250]\tvalid_0's auc: 0.906364\n",
      "[300]\tvalid_0's auc: 0.90656\n",
      "[350]\tvalid_0's auc: 0.906693\n",
      "[400]\tvalid_0's auc: 0.906715\n",
      "[450]\tvalid_0's auc: 0.906831\n",
      "[500]\tvalid_0's auc: 0.906693\n"
     ]
    },
    {
     "name": "stderr",
     "output_type": "stream",
     "text": [
      "feature_fraction, val_score: 0.906875:  14%|######4                                      | 1/7 [00:01<00:06,  1.09s/it]"
     ]
    },
    {
     "name": "stdout",
     "output_type": "stream",
     "text": [
      "Early stopping, best iteration is:\n",
      "[434]\tvalid_0's auc: 0.906875\n",
      "Training until validation scores don't improve for 100 rounds\n"
     ]
    },
    {
     "name": "stderr",
     "output_type": "stream",
     "text": [
      "C:\\Python39\\lib\\site-packages\\lightgbm\\engine.py:181: UserWarning: 'early_stopping_rounds' argument is deprecated and will be removed in a future release of LightGBM. Pass 'early_stopping()' callback via 'callbacks' argument instead.\n",
      "  _log_warning(\"'early_stopping_rounds' argument is deprecated and will be removed in a future release of LightGBM. \"\n",
      "C:\\Python39\\lib\\site-packages\\lightgbm\\basic.py:2068: UserWarning: categorical_feature in Dataset is overridden.\n",
      "New categorical_feature is ['education', 'marital.status', 'native.country', 'occupation', 'race', 'relationship', 'sex', 'workclass']\n",
      "  _log_warning('categorical_feature in Dataset is overridden.\\n'\n",
      "C:\\Python39\\lib\\site-packages\\lightgbm\\engine.py:239: UserWarning: 'verbose_eval' argument is deprecated and will be removed in a future release of LightGBM. Pass 'log_evaluation()' callback via 'callbacks' argument instead.\n",
      "  _log_warning(\"'verbose_eval' argument is deprecated and will be removed in a future release of LightGBM. \"\n",
      "C:\\Python39\\lib\\site-packages\\lightgbm\\basic.py:1780: UserWarning: Overriding the parameters from Reference Dataset.\n",
      "  _log_warning('Overriding the parameters from Reference Dataset.')\n",
      "C:\\Python39\\lib\\site-packages\\lightgbm\\basic.py:1513: UserWarning: categorical_column in param dict is overridden.\n",
      "  _log_warning(f'{cat_alias} in param dict is overridden.')\n"
     ]
    },
    {
     "name": "stdout",
     "output_type": "stream",
     "text": [
      "[50]\tvalid_0's auc: 0.895159\n",
      "[100]\tvalid_0's auc: 0.899195\n",
      "[150]\tvalid_0's auc: 0.902019\n",
      "[200]\tvalid_0's auc: 0.903495\n",
      "[250]\tvalid_0's auc: 0.904103\n",
      "[300]\tvalid_0's auc: 0.904035\n"
     ]
    },
    {
     "name": "stderr",
     "output_type": "stream",
     "text": [
      "feature_fraction, val_score: 0.906875:  29%|############8                                | 2/7 [00:01<00:04,  1.03it/s]"
     ]
    },
    {
     "name": "stdout",
     "output_type": "stream",
     "text": [
      "[350]\tvalid_0's auc: 0.904001\n",
      "Early stopping, best iteration is:\n",
      "[257]\tvalid_0's auc: 0.904144\n",
      "Training until validation scores don't improve for 100 rounds\n",
      "[50]\tvalid_0's auc: 0.899916\n"
     ]
    },
    {
     "name": "stderr",
     "output_type": "stream",
     "text": [
      "C:\\Python39\\lib\\site-packages\\lightgbm\\engine.py:181: UserWarning: 'early_stopping_rounds' argument is deprecated and will be removed in a future release of LightGBM. Pass 'early_stopping()' callback via 'callbacks' argument instead.\n",
      "  _log_warning(\"'early_stopping_rounds' argument is deprecated and will be removed in a future release of LightGBM. \"\n",
      "C:\\Python39\\lib\\site-packages\\lightgbm\\basic.py:2068: UserWarning: categorical_feature in Dataset is overridden.\n",
      "New categorical_feature is ['education', 'marital.status', 'native.country', 'occupation', 'race', 'relationship', 'sex', 'workclass']\n",
      "  _log_warning('categorical_feature in Dataset is overridden.\\n'\n",
      "C:\\Python39\\lib\\site-packages\\lightgbm\\engine.py:239: UserWarning: 'verbose_eval' argument is deprecated and will be removed in a future release of LightGBM. Pass 'log_evaluation()' callback via 'callbacks' argument instead.\n",
      "  _log_warning(\"'verbose_eval' argument is deprecated and will be removed in a future release of LightGBM. \"\n",
      "C:\\Python39\\lib\\site-packages\\lightgbm\\basic.py:1780: UserWarning: Overriding the parameters from Reference Dataset.\n",
      "  _log_warning('Overriding the parameters from Reference Dataset.')\n",
      "C:\\Python39\\lib\\site-packages\\lightgbm\\basic.py:1513: UserWarning: categorical_column in param dict is overridden.\n",
      "  _log_warning(f'{cat_alias} in param dict is overridden.')\n"
     ]
    },
    {
     "name": "stdout",
     "output_type": "stream",
     "text": [
      "[100]\tvalid_0's auc: 0.901258\n",
      "[150]\tvalid_0's auc: 0.903585\n",
      "[200]\tvalid_0's auc: 0.904763\n",
      "[250]\tvalid_0's auc: 0.905475\n",
      "[300]\tvalid_0's auc: 0.905748\n",
      "[350]\tvalid_0's auc: 0.905854\n"
     ]
    },
    {
     "name": "stderr",
     "output_type": "stream",
     "text": [
      "feature_fraction, val_score: 0.906875:  43%|###################2                         | 3/7 [00:03<00:04,  1.01s/it]"
     ]
    },
    {
     "name": "stdout",
     "output_type": "stream",
     "text": [
      "[400]\tvalid_0's auc: 0.905631\n",
      "[450]\tvalid_0's auc: 0.905481\n",
      "Early stopping, best iteration is:\n",
      "[360]\tvalid_0's auc: 0.905875\n"
     ]
    },
    {
     "name": "stderr",
     "output_type": "stream",
     "text": [
      "C:\\Python39\\lib\\site-packages\\lightgbm\\engine.py:181: UserWarning: 'early_stopping_rounds' argument is deprecated and will be removed in a future release of LightGBM. Pass 'early_stopping()' callback via 'callbacks' argument instead.\n",
      "  _log_warning(\"'early_stopping_rounds' argument is deprecated and will be removed in a future release of LightGBM. \"\n",
      "C:\\Python39\\lib\\site-packages\\lightgbm\\basic.py:2068: UserWarning: categorical_feature in Dataset is overridden.\n",
      "New categorical_feature is ['education', 'marital.status', 'native.country', 'occupation', 'race', 'relationship', 'sex', 'workclass']\n",
      "  _log_warning('categorical_feature in Dataset is overridden.\\n'\n",
      "C:\\Python39\\lib\\site-packages\\lightgbm\\engine.py:239: UserWarning: 'verbose_eval' argument is deprecated and will be removed in a future release of LightGBM. Pass 'log_evaluation()' callback via 'callbacks' argument instead.\n",
      "  _log_warning(\"'verbose_eval' argument is deprecated and will be removed in a future release of LightGBM. \"\n",
      "C:\\Python39\\lib\\site-packages\\lightgbm\\basic.py:1780: UserWarning: Overriding the parameters from Reference Dataset.\n",
      "  _log_warning('Overriding the parameters from Reference Dataset.')\n",
      "C:\\Python39\\lib\\site-packages\\lightgbm\\basic.py:1513: UserWarning: categorical_column in param dict is overridden.\n",
      "  _log_warning(f'{cat_alias} in param dict is overridden.')\n"
     ]
    },
    {
     "name": "stdout",
     "output_type": "stream",
     "text": [
      "Training until validation scores don't improve for 100 rounds\n",
      "[50]\tvalid_0's auc: 0.900977\n",
      "[100]\tvalid_0's auc: 0.901689\n",
      "[150]\tvalid_0's auc: 0.903351\n",
      "[200]\tvalid_0's auc: 0.904775\n",
      "[250]\tvalid_0's auc: 0.905418\n",
      "[300]\tvalid_0's auc: 0.905652\n",
      "[350]\tvalid_0's auc: 0.905724\n",
      "[400]\tvalid_0's auc: 0.905779\n",
      "[450]\tvalid_0's auc: 0.905621\n",
      "Early stopping, best iteration is:\n",
      "[378]\tvalid_0's auc: 0.905858\n"
     ]
    },
    {
     "name": "stderr",
     "output_type": "stream",
     "text": [
      "feature_fraction, val_score: 0.906875:  57%|#########################7                   | 4/7 [00:04<00:03,  1.15s/it]C:\\Python39\\lib\\site-packages\\lightgbm\\engine.py:181: UserWarning: 'early_stopping_rounds' argument is deprecated and will be removed in a future release of LightGBM. Pass 'early_stopping()' callback via 'callbacks' argument instead.\n",
      "  _log_warning(\"'early_stopping_rounds' argument is deprecated and will be removed in a future release of LightGBM. \"\n",
      "C:\\Python39\\lib\\site-packages\\lightgbm\\basic.py:2068: UserWarning: categorical_feature in Dataset is overridden.\n",
      "New categorical_feature is ['education', 'marital.status', 'native.country', 'occupation', 'race', 'relationship', 'sex', 'workclass']\n",
      "  _log_warning('categorical_feature in Dataset is overridden.\\n'\n",
      "C:\\Python39\\lib\\site-packages\\lightgbm\\engine.py:239: UserWarning: 'verbose_eval' argument is deprecated and will be removed in a future release of LightGBM. Pass 'log_evaluation()' callback via 'callbacks' argument instead.\n",
      "  _log_warning(\"'verbose_eval' argument is deprecated and will be removed in a future release of LightGBM. \"\n",
      "C:\\Python39\\lib\\site-packages\\lightgbm\\basic.py:1780: UserWarning: Overriding the parameters from Reference Dataset.\n",
      "  _log_warning('Overriding the parameters from Reference Dataset.')\n",
      "C:\\Python39\\lib\\site-packages\\lightgbm\\basic.py:1513: UserWarning: categorical_column in param dict is overridden.\n",
      "  _log_warning(f'{cat_alias} in param dict is overridden.')\n"
     ]
    },
    {
     "name": "stdout",
     "output_type": "stream",
     "text": [
      "Training until validation scores don't improve for 100 rounds\n",
      "[50]\tvalid_0's auc: 0.896263\n",
      "[100]\tvalid_0's auc: 0.899584\n",
      "[150]\tvalid_0's auc: 0.902213\n",
      "[200]\tvalid_0's auc: 0.903541\n",
      "[250]\tvalid_0's auc: 0.904386\n",
      "[300]\tvalid_0's auc: 0.904599\n"
     ]
    },
    {
     "name": "stderr",
     "output_type": "stream",
     "text": [
      "feature_fraction, val_score: 0.906875:  71%|################################1            | 5/7 [00:05<00:02,  1.04s/it]"
     ]
    },
    {
     "name": "stdout",
     "output_type": "stream",
     "text": [
      "[350]\tvalid_0's auc: 0.904416\n",
      "Early stopping, best iteration is:\n",
      "[299]\tvalid_0's auc: 0.904604\n",
      "Training until validation scores don't improve for 100 rounds\n"
     ]
    },
    {
     "name": "stderr",
     "output_type": "stream",
     "text": [
      "C:\\Python39\\lib\\site-packages\\lightgbm\\engine.py:181: UserWarning: 'early_stopping_rounds' argument is deprecated and will be removed in a future release of LightGBM. Pass 'early_stopping()' callback via 'callbacks' argument instead.\n",
      "  _log_warning(\"'early_stopping_rounds' argument is deprecated and will be removed in a future release of LightGBM. \"\n",
      "C:\\Python39\\lib\\site-packages\\lightgbm\\basic.py:2068: UserWarning: categorical_feature in Dataset is overridden.\n",
      "New categorical_feature is ['education', 'marital.status', 'native.country', 'occupation', 'race', 'relationship', 'sex', 'workclass']\n",
      "  _log_warning('categorical_feature in Dataset is overridden.\\n'\n",
      "C:\\Python39\\lib\\site-packages\\lightgbm\\engine.py:239: UserWarning: 'verbose_eval' argument is deprecated and will be removed in a future release of LightGBM. Pass 'log_evaluation()' callback via 'callbacks' argument instead.\n",
      "  _log_warning(\"'verbose_eval' argument is deprecated and will be removed in a future release of LightGBM. \"\n",
      "C:\\Python39\\lib\\site-packages\\lightgbm\\basic.py:1780: UserWarning: Overriding the parameters from Reference Dataset.\n",
      "  _log_warning('Overriding the parameters from Reference Dataset.')\n",
      "C:\\Python39\\lib\\site-packages\\lightgbm\\basic.py:1513: UserWarning: categorical_column in param dict is overridden.\n",
      "  _log_warning(f'{cat_alias} in param dict is overridden.')\n"
     ]
    },
    {
     "name": "stdout",
     "output_type": "stream",
     "text": [
      "[50]\tvalid_0's auc: 0.898819\n",
      "[100]\tvalid_0's auc: 0.900922\n",
      "[150]\tvalid_0's auc: 0.903147\n",
      "[200]\tvalid_0's auc: 0.904448\n",
      "[250]\tvalid_0's auc: 0.904945\n",
      "[300]\tvalid_0's auc: 0.905102\n",
      "[350]\tvalid_0's auc: 0.905161\n",
      "[400]\tvalid_0's auc: 0.905013\n",
      "Early stopping, best iteration is:\n",
      "[338]\tvalid_0's auc: 0.905191\n"
     ]
    },
    {
     "name": "stderr",
     "output_type": "stream",
     "text": [
      "feature_fraction, val_score: 0.906875:  86%|######################################5      | 6/7 [00:06<00:01,  1.04s/it]C:\\Python39\\lib\\site-packages\\lightgbm\\engine.py:181: UserWarning: 'early_stopping_rounds' argument is deprecated and will be removed in a future release of LightGBM. Pass 'early_stopping()' callback via 'callbacks' argument instead.\n",
      "  _log_warning(\"'early_stopping_rounds' argument is deprecated and will be removed in a future release of LightGBM. \"\n",
      "C:\\Python39\\lib\\site-packages\\lightgbm\\basic.py:2068: UserWarning: categorical_feature in Dataset is overridden.\n",
      "New categorical_feature is ['education', 'marital.status', 'native.country', 'occupation', 'race', 'relationship', 'sex', 'workclass']\n",
      "  _log_warning('categorical_feature in Dataset is overridden.\\n'\n",
      "C:\\Python39\\lib\\site-packages\\lightgbm\\engine.py:239: UserWarning: 'verbose_eval' argument is deprecated and will be removed in a future release of LightGBM. Pass 'log_evaluation()' callback via 'callbacks' argument instead.\n",
      "  _log_warning(\"'verbose_eval' argument is deprecated and will be removed in a future release of LightGBM. \"\n",
      "C:\\Python39\\lib\\site-packages\\lightgbm\\basic.py:1780: UserWarning: Overriding the parameters from Reference Dataset.\n",
      "  _log_warning('Overriding the parameters from Reference Dataset.')\n",
      "C:\\Python39\\lib\\site-packages\\lightgbm\\basic.py:1513: UserWarning: categorical_column in param dict is overridden.\n",
      "  _log_warning(f'{cat_alias} in param dict is overridden.')\n"
     ]
    },
    {
     "name": "stdout",
     "output_type": "stream",
     "text": [
      "Training until validation scores don't improve for 100 rounds\n",
      "[50]\tvalid_0's auc: 0.897806\n",
      "[100]\tvalid_0's auc: 0.900479\n",
      "[150]\tvalid_0's auc: 0.903007\n",
      "[200]\tvalid_0's auc: 0.904523\n",
      "[250]\tvalid_0's auc: 0.905004\n",
      "[300]\tvalid_0's auc: 0.90514\n",
      "[350]\tvalid_0's auc: 0.905146\n",
      "[400]\tvalid_0's auc: 0.905071\n"
     ]
    },
    {
     "name": "stderr",
     "output_type": "stream",
     "text": [
      "feature_fraction, val_score: 0.906875: 100%|#############################################| 7/7 [00:07<00:00,  1.09s/it]\n"
     ]
    },
    {
     "name": "stdout",
     "output_type": "stream",
     "text": [
      "Early stopping, best iteration is:\n",
      "[322]\tvalid_0's auc: 0.905196\n"
     ]
    },
    {
     "name": "stderr",
     "output_type": "stream",
     "text": [
      "num_leaves, val_score: 0.906875:   0%|                                                          | 0/20 [00:00<?, ?it/s]"
     ]
    },
    {
     "name": "stdout",
     "output_type": "stream",
     "text": [
      "Training until validation scores don't improve for 100 rounds\n"
     ]
    },
    {
     "name": "stderr",
     "output_type": "stream",
     "text": [
      "C:\\Python39\\lib\\site-packages\\lightgbm\\engine.py:181: UserWarning: 'early_stopping_rounds' argument is deprecated and will be removed in a future release of LightGBM. Pass 'early_stopping()' callback via 'callbacks' argument instead.\n",
      "  _log_warning(\"'early_stopping_rounds' argument is deprecated and will be removed in a future release of LightGBM. \"\n",
      "C:\\Python39\\lib\\site-packages\\lightgbm\\basic.py:2068: UserWarning: categorical_feature in Dataset is overridden.\n",
      "New categorical_feature is ['education', 'marital.status', 'native.country', 'occupation', 'race', 'relationship', 'sex', 'workclass']\n",
      "  _log_warning('categorical_feature in Dataset is overridden.\\n'\n",
      "C:\\Python39\\lib\\site-packages\\lightgbm\\engine.py:239: UserWarning: 'verbose_eval' argument is deprecated and will be removed in a future release of LightGBM. Pass 'log_evaluation()' callback via 'callbacks' argument instead.\n",
      "  _log_warning(\"'verbose_eval' argument is deprecated and will be removed in a future release of LightGBM. \"\n",
      "C:\\Python39\\lib\\site-packages\\lightgbm\\basic.py:1780: UserWarning: Overriding the parameters from Reference Dataset.\n",
      "  _log_warning('Overriding the parameters from Reference Dataset.')\n",
      "C:\\Python39\\lib\\site-packages\\lightgbm\\basic.py:1513: UserWarning: categorical_column in param dict is overridden.\n",
      "  _log_warning(f'{cat_alias} in param dict is overridden.')\n"
     ]
    },
    {
     "name": "stdout",
     "output_type": "stream",
     "text": [
      "[50]\tvalid_0's auc: 0.903536\n",
      "[100]\tvalid_0's auc: 0.904812\n",
      "[150]\tvalid_0's auc: 0.905466\n",
      "[200]\tvalid_0's auc: 0.905845\n",
      "[250]\tvalid_0's auc: 0.906189\n",
      "[300]\tvalid_0's auc: 0.906157\n"
     ]
    },
    {
     "name": "stderr",
     "output_type": "stream",
     "text": [
      "num_leaves, val_score: 0.906875:   5%|##5                                               | 1/20 [00:00<00:16,  1.12it/s]"
     ]
    },
    {
     "name": "stdout",
     "output_type": "stream",
     "text": [
      "[350]\tvalid_0's auc: 0.905835\n",
      "Early stopping, best iteration is:\n",
      "[264]\tvalid_0's auc: 0.906261\n",
      "Training until validation scores don't improve for 100 rounds\n"
     ]
    },
    {
     "name": "stderr",
     "output_type": "stream",
     "text": [
      "C:\\Python39\\lib\\site-packages\\lightgbm\\engine.py:181: UserWarning: 'early_stopping_rounds' argument is deprecated and will be removed in a future release of LightGBM. Pass 'early_stopping()' callback via 'callbacks' argument instead.\n",
      "  _log_warning(\"'early_stopping_rounds' argument is deprecated and will be removed in a future release of LightGBM. \"\n",
      "C:\\Python39\\lib\\site-packages\\lightgbm\\basic.py:2068: UserWarning: categorical_feature in Dataset is overridden.\n",
      "New categorical_feature is ['education', 'marital.status', 'native.country', 'occupation', 'race', 'relationship', 'sex', 'workclass']\n",
      "  _log_warning('categorical_feature in Dataset is overridden.\\n'\n",
      "C:\\Python39\\lib\\site-packages\\lightgbm\\engine.py:239: UserWarning: 'verbose_eval' argument is deprecated and will be removed in a future release of LightGBM. Pass 'log_evaluation()' callback via 'callbacks' argument instead.\n",
      "  _log_warning(\"'verbose_eval' argument is deprecated and will be removed in a future release of LightGBM. \"\n",
      "C:\\Python39\\lib\\site-packages\\lightgbm\\basic.py:1780: UserWarning: Overriding the parameters from Reference Dataset.\n",
      "  _log_warning('Overriding the parameters from Reference Dataset.')\n",
      "C:\\Python39\\lib\\site-packages\\lightgbm\\basic.py:1513: UserWarning: categorical_column in param dict is overridden.\n",
      "  _log_warning(f'{cat_alias} in param dict is overridden.')\n"
     ]
    },
    {
     "name": "stdout",
     "output_type": "stream",
     "text": [
      "[50]\tvalid_0's auc: 0.903118\n",
      "[100]\tvalid_0's auc: 0.903651\n",
      "[150]\tvalid_0's auc: 0.903874\n",
      "[200]\tvalid_0's auc: 0.903749\n",
      "[250]\tvalid_0's auc: 0.903506\n",
      "Early stopping, best iteration is:\n",
      "[179]\tvalid_0's auc: 0.904067\n"
     ]
    },
    {
     "name": "stderr",
     "output_type": "stream",
     "text": [
      "num_leaves, val_score: 0.906875:  10%|#####                                             | 2/20 [00:02<00:20,  1.15s/it]C:\\Python39\\lib\\site-packages\\lightgbm\\engine.py:181: UserWarning: 'early_stopping_rounds' argument is deprecated and will be removed in a future release of LightGBM. Pass 'early_stopping()' callback via 'callbacks' argument instead.\n",
      "  _log_warning(\"'early_stopping_rounds' argument is deprecated and will be removed in a future release of LightGBM. \"\n",
      "C:\\Python39\\lib\\site-packages\\lightgbm\\basic.py:2068: UserWarning: categorical_feature in Dataset is overridden.\n",
      "New categorical_feature is ['education', 'marital.status', 'native.country', 'occupation', 'race', 'relationship', 'sex', 'workclass']\n",
      "  _log_warning('categorical_feature in Dataset is overridden.\\n'\n",
      "C:\\Python39\\lib\\site-packages\\lightgbm\\engine.py:239: UserWarning: 'verbose_eval' argument is deprecated and will be removed in a future release of LightGBM. Pass 'log_evaluation()' callback via 'callbacks' argument instead.\n",
      "  _log_warning(\"'verbose_eval' argument is deprecated and will be removed in a future release of LightGBM. \"\n",
      "C:\\Python39\\lib\\site-packages\\lightgbm\\basic.py:1780: UserWarning: Overriding the parameters from Reference Dataset.\n",
      "  _log_warning('Overriding the parameters from Reference Dataset.')\n",
      "C:\\Python39\\lib\\site-packages\\lightgbm\\basic.py:1513: UserWarning: categorical_column in param dict is overridden.\n",
      "  _log_warning(f'{cat_alias} in param dict is overridden.')\n"
     ]
    },
    {
     "name": "stdout",
     "output_type": "stream",
     "text": [
      "Training until validation scores don't improve for 100 rounds\n",
      "[50]\tvalid_0's auc: 0.903383\n",
      "[100]\tvalid_0's auc: 0.904842\n",
      "[150]\tvalid_0's auc: 0.905486\n",
      "[200]\tvalid_0's auc: 0.905891\n",
      "[250]\tvalid_0's auc: 0.906247\n",
      "[300]\tvalid_0's auc: 0.90622\n"
     ]
    },
    {
     "name": "stderr",
     "output_type": "stream",
     "text": [
      "num_leaves, val_score: 0.906875:  15%|#######5                                          | 3/20 [00:03<00:18,  1.11s/it]"
     ]
    },
    {
     "name": "stdout",
     "output_type": "stream",
     "text": [
      "[350]\tvalid_0's auc: 0.906141\n",
      "Early stopping, best iteration is:\n",
      "[260]\tvalid_0's auc: 0.906314\n",
      "Training until validation scores don't improve for 100 rounds\n"
     ]
    },
    {
     "name": "stderr",
     "output_type": "stream",
     "text": [
      "C:\\Python39\\lib\\site-packages\\lightgbm\\engine.py:181: UserWarning: 'early_stopping_rounds' argument is deprecated and will be removed in a future release of LightGBM. Pass 'early_stopping()' callback via 'callbacks' argument instead.\n",
      "  _log_warning(\"'early_stopping_rounds' argument is deprecated and will be removed in a future release of LightGBM. \"\n",
      "C:\\Python39\\lib\\site-packages\\lightgbm\\basic.py:2068: UserWarning: categorical_feature in Dataset is overridden.\n",
      "New categorical_feature is ['education', 'marital.status', 'native.country', 'occupation', 'race', 'relationship', 'sex', 'workclass']\n",
      "  _log_warning('categorical_feature in Dataset is overridden.\\n'\n",
      "C:\\Python39\\lib\\site-packages\\lightgbm\\engine.py:239: UserWarning: 'verbose_eval' argument is deprecated and will be removed in a future release of LightGBM. Pass 'log_evaluation()' callback via 'callbacks' argument instead.\n",
      "  _log_warning(\"'verbose_eval' argument is deprecated and will be removed in a future release of LightGBM. \"\n",
      "C:\\Python39\\lib\\site-packages\\lightgbm\\basic.py:1780: UserWarning: Overriding the parameters from Reference Dataset.\n",
      "  _log_warning('Overriding the parameters from Reference Dataset.')\n",
      "C:\\Python39\\lib\\site-packages\\lightgbm\\basic.py:1513: UserWarning: categorical_column in param dict is overridden.\n",
      "  _log_warning(f'{cat_alias} in param dict is overridden.')\n"
     ]
    },
    {
     "name": "stdout",
     "output_type": "stream",
     "text": [
      "[50]\tvalid_0's auc: 0.903104\n",
      "[100]\tvalid_0's auc: 0.903578\n",
      "[150]\tvalid_0's auc: 0.903818\n",
      "[200]\tvalid_0's auc: 0.903693\n",
      "Early stopping, best iteration is:\n",
      "[137]\tvalid_0's auc: 0.904012\n"
     ]
    },
    {
     "name": "stderr",
     "output_type": "stream",
     "text": [
      "num_leaves, val_score: 0.906875:  20%|##########                                        | 4/20 [00:04<00:17,  1.12s/it]C:\\Python39\\lib\\site-packages\\lightgbm\\engine.py:181: UserWarning: 'early_stopping_rounds' argument is deprecated and will be removed in a future release of LightGBM. Pass 'early_stopping()' callback via 'callbacks' argument instead.\n",
      "  _log_warning(\"'early_stopping_rounds' argument is deprecated and will be removed in a future release of LightGBM. \"\n",
      "C:\\Python39\\lib\\site-packages\\lightgbm\\basic.py:2068: UserWarning: categorical_feature in Dataset is overridden.\n",
      "New categorical_feature is ['education', 'marital.status', 'native.country', 'occupation', 'race', 'relationship', 'sex', 'workclass']\n",
      "  _log_warning('categorical_feature in Dataset is overridden.\\n'\n",
      "C:\\Python39\\lib\\site-packages\\lightgbm\\engine.py:239: UserWarning: 'verbose_eval' argument is deprecated and will be removed in a future release of LightGBM. Pass 'log_evaluation()' callback via 'callbacks' argument instead.\n",
      "  _log_warning(\"'verbose_eval' argument is deprecated and will be removed in a future release of LightGBM. \"\n",
      "C:\\Python39\\lib\\site-packages\\lightgbm\\basic.py:1780: UserWarning: Overriding the parameters from Reference Dataset.\n",
      "  _log_warning('Overriding the parameters from Reference Dataset.')\n",
      "C:\\Python39\\lib\\site-packages\\lightgbm\\basic.py:1513: UserWarning: categorical_column in param dict is overridden.\n",
      "  _log_warning(f'{cat_alias} in param dict is overridden.')\n"
     ]
    },
    {
     "name": "stdout",
     "output_type": "stream",
     "text": [
      "Training until validation scores don't improve for 100 rounds\n",
      "[50]\tvalid_0's auc: 0.903478\n",
      "[100]\tvalid_0's auc: 0.904182\n",
      "[150]\tvalid_0's auc: 0.904525\n",
      "[200]\tvalid_0's auc: 0.904632\n",
      "[250]\tvalid_0's auc: 0.904599\n"
     ]
    },
    {
     "name": "stderr",
     "output_type": "stream",
     "text": [
      "num_leaves, val_score: 0.906875:  25%|############5                                     | 5/20 [00:05<00:17,  1.15s/it]"
     ]
    },
    {
     "name": "stdout",
     "output_type": "stream",
     "text": [
      "Early stopping, best iteration is:\n",
      "[179]\tvalid_0's auc: 0.904775\n",
      "Training until validation scores don't improve for 100 rounds\n"
     ]
    },
    {
     "name": "stderr",
     "output_type": "stream",
     "text": [
      "C:\\Python39\\lib\\site-packages\\lightgbm\\engine.py:181: UserWarning: 'early_stopping_rounds' argument is deprecated and will be removed in a future release of LightGBM. Pass 'early_stopping()' callback via 'callbacks' argument instead.\n",
      "  _log_warning(\"'early_stopping_rounds' argument is deprecated and will be removed in a future release of LightGBM. \"\n",
      "C:\\Python39\\lib\\site-packages\\lightgbm\\basic.py:2068: UserWarning: categorical_feature in Dataset is overridden.\n",
      "New categorical_feature is ['education', 'marital.status', 'native.country', 'occupation', 'race', 'relationship', 'sex', 'workclass']\n",
      "  _log_warning('categorical_feature in Dataset is overridden.\\n'\n",
      "C:\\Python39\\lib\\site-packages\\lightgbm\\engine.py:239: UserWarning: 'verbose_eval' argument is deprecated and will be removed in a future release of LightGBM. Pass 'log_evaluation()' callback via 'callbacks' argument instead.\n",
      "  _log_warning(\"'verbose_eval' argument is deprecated and will be removed in a future release of LightGBM. \"\n",
      "C:\\Python39\\lib\\site-packages\\lightgbm\\basic.py:1780: UserWarning: Overriding the parameters from Reference Dataset.\n",
      "  _log_warning('Overriding the parameters from Reference Dataset.')\n",
      "C:\\Python39\\lib\\site-packages\\lightgbm\\basic.py:1513: UserWarning: categorical_column in param dict is overridden.\n",
      "  _log_warning(f'{cat_alias} in param dict is overridden.')\n"
     ]
    },
    {
     "name": "stdout",
     "output_type": "stream",
     "text": [
      "[50]\tvalid_0's auc: 0.903546\n",
      "[100]\tvalid_0's auc: 0.904115\n",
      "[150]\tvalid_0's auc: 0.904404\n",
      "[200]\tvalid_0's auc: 0.904513\n",
      "[250]\tvalid_0's auc: 0.904296\n"
     ]
    },
    {
     "name": "stderr",
     "output_type": "stream",
     "text": [
      "num_leaves, val_score: 0.906875:  30%|###############                                   | 6/20 [00:06<00:16,  1.19s/it]"
     ]
    },
    {
     "name": "stdout",
     "output_type": "stream",
     "text": [
      "Early stopping, best iteration is:\n",
      "[185]\tvalid_0's auc: 0.904738\n",
      "Training until validation scores don't improve for 100 rounds\n"
     ]
    },
    {
     "name": "stderr",
     "output_type": "stream",
     "text": [
      "C:\\Python39\\lib\\site-packages\\lightgbm\\engine.py:181: UserWarning: 'early_stopping_rounds' argument is deprecated and will be removed in a future release of LightGBM. Pass 'early_stopping()' callback via 'callbacks' argument instead.\n",
      "  _log_warning(\"'early_stopping_rounds' argument is deprecated and will be removed in a future release of LightGBM. \"\n",
      "C:\\Python39\\lib\\site-packages\\lightgbm\\basic.py:2068: UserWarning: categorical_feature in Dataset is overridden.\n",
      "New categorical_feature is ['education', 'marital.status', 'native.country', 'occupation', 'race', 'relationship', 'sex', 'workclass']\n",
      "  _log_warning('categorical_feature in Dataset is overridden.\\n'\n",
      "C:\\Python39\\lib\\site-packages\\lightgbm\\engine.py:239: UserWarning: 'verbose_eval' argument is deprecated and will be removed in a future release of LightGBM. Pass 'log_evaluation()' callback via 'callbacks' argument instead.\n",
      "  _log_warning(\"'verbose_eval' argument is deprecated and will be removed in a future release of LightGBM. \"\n",
      "C:\\Python39\\lib\\site-packages\\lightgbm\\basic.py:1780: UserWarning: Overriding the parameters from Reference Dataset.\n",
      "  _log_warning('Overriding the parameters from Reference Dataset.')\n",
      "C:\\Python39\\lib\\site-packages\\lightgbm\\basic.py:1513: UserWarning: categorical_column in param dict is overridden.\n",
      "  _log_warning(f'{cat_alias} in param dict is overridden.')\n"
     ]
    },
    {
     "name": "stdout",
     "output_type": "stream",
     "text": [
      "[50]\tvalid_0's auc: 0.903169\n",
      "[100]\tvalid_0's auc: 0.903772\n",
      "[150]\tvalid_0's auc: 0.904039\n",
      "[200]\tvalid_0's auc: 0.903912\n",
      "[250]\tvalid_0's auc: 0.90367\n",
      "Early stopping, best iteration is:\n",
      "[179]\tvalid_0's auc: 0.904206\n"
     ]
    },
    {
     "name": "stderr",
     "output_type": "stream",
     "text": [
      "num_leaves, val_score: 0.906875:  35%|#################5                                | 7/20 [00:08<00:15,  1.21s/it]C:\\Python39\\lib\\site-packages\\lightgbm\\engine.py:181: UserWarning: 'early_stopping_rounds' argument is deprecated and will be removed in a future release of LightGBM. Pass 'early_stopping()' callback via 'callbacks' argument instead.\n",
      "  _log_warning(\"'early_stopping_rounds' argument is deprecated and will be removed in a future release of LightGBM. \"\n",
      "C:\\Python39\\lib\\site-packages\\lightgbm\\basic.py:2068: UserWarning: categorical_feature in Dataset is overridden.\n",
      "New categorical_feature is ['education', 'marital.status', 'native.country', 'occupation', 'race', 'relationship', 'sex', 'workclass']\n",
      "  _log_warning('categorical_feature in Dataset is overridden.\\n'\n",
      "C:\\Python39\\lib\\site-packages\\lightgbm\\engine.py:239: UserWarning: 'verbose_eval' argument is deprecated and will be removed in a future release of LightGBM. Pass 'log_evaluation()' callback via 'callbacks' argument instead.\n",
      "  _log_warning(\"'verbose_eval' argument is deprecated and will be removed in a future release of LightGBM. \"\n",
      "C:\\Python39\\lib\\site-packages\\lightgbm\\basic.py:1780: UserWarning: Overriding the parameters from Reference Dataset.\n",
      "  _log_warning('Overriding the parameters from Reference Dataset.')\n",
      "C:\\Python39\\lib\\site-packages\\lightgbm\\basic.py:1513: UserWarning: categorical_column in param dict is overridden.\n",
      "  _log_warning(f'{cat_alias} in param dict is overridden.')\n"
     ]
    },
    {
     "name": "stdout",
     "output_type": "stream",
     "text": [
      "Training until validation scores don't improve for 100 rounds\n",
      "[50]\tvalid_0's auc: 0.903417\n",
      "[100]\tvalid_0's auc: 0.904187\n",
      "[150]\tvalid_0's auc: 0.904428\n",
      "[200]\tvalid_0's auc: 0.904637\n",
      "[250]\tvalid_0's auc: 0.904564\n"
     ]
    },
    {
     "name": "stderr",
     "output_type": "stream",
     "text": [
      "num_leaves, val_score: 0.906875:  40%|####################                              | 8/20 [00:09<00:13,  1.16s/it]"
     ]
    },
    {
     "name": "stdout",
     "output_type": "stream",
     "text": [
      "Early stopping, best iteration is:\n",
      "[179]\tvalid_0's auc: 0.904763\n",
      "Training until validation scores don't improve for 100 rounds\n"
     ]
    },
    {
     "name": "stderr",
     "output_type": "stream",
     "text": [
      "C:\\Python39\\lib\\site-packages\\lightgbm\\engine.py:181: UserWarning: 'early_stopping_rounds' argument is deprecated and will be removed in a future release of LightGBM. Pass 'early_stopping()' callback via 'callbacks' argument instead.\n",
      "  _log_warning(\"'early_stopping_rounds' argument is deprecated and will be removed in a future release of LightGBM. \"\n",
      "C:\\Python39\\lib\\site-packages\\lightgbm\\basic.py:2068: UserWarning: categorical_feature in Dataset is overridden.\n",
      "New categorical_feature is ['education', 'marital.status', 'native.country', 'occupation', 'race', 'relationship', 'sex', 'workclass']\n",
      "  _log_warning('categorical_feature in Dataset is overridden.\\n'\n",
      "C:\\Python39\\lib\\site-packages\\lightgbm\\engine.py:239: UserWarning: 'verbose_eval' argument is deprecated and will be removed in a future release of LightGBM. Pass 'log_evaluation()' callback via 'callbacks' argument instead.\n",
      "  _log_warning(\"'verbose_eval' argument is deprecated and will be removed in a future release of LightGBM. \"\n",
      "C:\\Python39\\lib\\site-packages\\lightgbm\\basic.py:1780: UserWarning: Overriding the parameters from Reference Dataset.\n",
      "  _log_warning('Overriding the parameters from Reference Dataset.')\n",
      "C:\\Python39\\lib\\site-packages\\lightgbm\\basic.py:1513: UserWarning: categorical_column in param dict is overridden.\n",
      "  _log_warning(f'{cat_alias} in param dict is overridden.')\n"
     ]
    },
    {
     "name": "stdout",
     "output_type": "stream",
     "text": [
      "[50]\tvalid_0's auc: 0.903643\n",
      "[100]\tvalid_0's auc: 0.904623\n",
      "[150]\tvalid_0's auc: 0.905188\n",
      "[200]\tvalid_0's auc: 0.905446\n",
      "[250]\tvalid_0's auc: 0.905569\n",
      "[300]\tvalid_0's auc: 0.90546\n"
     ]
    },
    {
     "name": "stderr",
     "output_type": "stream",
     "text": [
      "num_leaves, val_score: 0.906875:  45%|######################5                           | 9/20 [00:10<00:12,  1.13s/it]"
     ]
    },
    {
     "name": "stdout",
     "output_type": "stream",
     "text": [
      "[350]\tvalid_0's auc: 0.905365\n",
      "Early stopping, best iteration is:\n",
      "[260]\tvalid_0's auc: 0.905682\n"
     ]
    },
    {
     "name": "stderr",
     "output_type": "stream",
     "text": [
      "C:\\Python39\\lib\\site-packages\\lightgbm\\engine.py:181: UserWarning: 'early_stopping_rounds' argument is deprecated and will be removed in a future release of LightGBM. Pass 'early_stopping()' callback via 'callbacks' argument instead.\n",
      "  _log_warning(\"'early_stopping_rounds' argument is deprecated and will be removed in a future release of LightGBM. \"\n",
      "C:\\Python39\\lib\\site-packages\\lightgbm\\basic.py:2068: UserWarning: categorical_feature in Dataset is overridden.\n",
      "New categorical_feature is ['education', 'marital.status', 'native.country', 'occupation', 'race', 'relationship', 'sex', 'workclass']\n",
      "  _log_warning('categorical_feature in Dataset is overridden.\\n'\n",
      "C:\\Python39\\lib\\site-packages\\lightgbm\\engine.py:239: UserWarning: 'verbose_eval' argument is deprecated and will be removed in a future release of LightGBM. Pass 'log_evaluation()' callback via 'callbacks' argument instead.\n",
      "  _log_warning(\"'verbose_eval' argument is deprecated and will be removed in a future release of LightGBM. \"\n",
      "C:\\Python39\\lib\\site-packages\\lightgbm\\basic.py:1780: UserWarning: Overriding the parameters from Reference Dataset.\n",
      "  _log_warning('Overriding the parameters from Reference Dataset.')\n",
      "C:\\Python39\\lib\\site-packages\\lightgbm\\basic.py:1513: UserWarning: categorical_column in param dict is overridden.\n",
      "  _log_warning(f'{cat_alias} in param dict is overridden.')\n"
     ]
    },
    {
     "name": "stdout",
     "output_type": "stream",
     "text": [
      "Training until validation scores don't improve for 100 rounds\n",
      "[50]\tvalid_0's auc: 0.903353\n",
      "[100]\tvalid_0's auc: 0.904678\n",
      "[150]\tvalid_0's auc: 0.905485\n",
      "[200]\tvalid_0's auc: 0.905924\n",
      "[250]\tvalid_0's auc: 0.906324\n",
      "[300]\tvalid_0's auc: 0.90638\n"
     ]
    },
    {
     "name": "stderr",
     "output_type": "stream",
     "text": [
      "num_leaves, val_score: 0.906875:  50%|########################5                        | 10/20 [00:11<00:10,  1.06s/it]"
     ]
    },
    {
     "name": "stdout",
     "output_type": "stream",
     "text": [
      "[350]\tvalid_0's auc: 0.906279\n",
      "Early stopping, best iteration is:\n",
      "[264]\tvalid_0's auc: 0.906423\n",
      "Training until validation scores don't improve for 100 rounds\n",
      "[50]\tvalid_0's auc: 0.868618\n"
     ]
    },
    {
     "name": "stderr",
     "output_type": "stream",
     "text": [
      "C:\\Python39\\lib\\site-packages\\lightgbm\\engine.py:181: UserWarning: 'early_stopping_rounds' argument is deprecated and will be removed in a future release of LightGBM. Pass 'early_stopping()' callback via 'callbacks' argument instead.\n",
      "  _log_warning(\"'early_stopping_rounds' argument is deprecated and will be removed in a future release of LightGBM. \"\n",
      "C:\\Python39\\lib\\site-packages\\lightgbm\\basic.py:2068: UserWarning: categorical_feature in Dataset is overridden.\n",
      "New categorical_feature is ['education', 'marital.status', 'native.country', 'occupation', 'race', 'relationship', 'sex', 'workclass']\n",
      "  _log_warning('categorical_feature in Dataset is overridden.\\n'\n",
      "C:\\Python39\\lib\\site-packages\\lightgbm\\engine.py:239: UserWarning: 'verbose_eval' argument is deprecated and will be removed in a future release of LightGBM. Pass 'log_evaluation()' callback via 'callbacks' argument instead.\n",
      "  _log_warning(\"'verbose_eval' argument is deprecated and will be removed in a future release of LightGBM. \"\n",
      "C:\\Python39\\lib\\site-packages\\lightgbm\\basic.py:1780: UserWarning: Overriding the parameters from Reference Dataset.\n",
      "  _log_warning('Overriding the parameters from Reference Dataset.')\n",
      "C:\\Python39\\lib\\site-packages\\lightgbm\\basic.py:1513: UserWarning: categorical_column in param dict is overridden.\n",
      "  _log_warning(f'{cat_alias} in param dict is overridden.')\n"
     ]
    },
    {
     "name": "stdout",
     "output_type": "stream",
     "text": [
      "[100]\tvalid_0's auc: 0.874028\n",
      "[150]\tvalid_0's auc: 0.876819\n",
      "[200]\tvalid_0's auc: 0.879295\n",
      "[250]\tvalid_0's auc: 0.882984\n",
      "[300]\tvalid_0's auc: 0.884658\n",
      "[350]\tvalid_0's auc: 0.887474\n",
      "[400]\tvalid_0's auc: 0.889871\n",
      "[450]\tvalid_0's auc: 0.891211\n",
      "[500]\tvalid_0's auc: 0.892323\n",
      "[550]\tvalid_0's auc: 0.893353\n",
      "[600]\tvalid_0's auc: 0.893989\n",
      "[650]\tvalid_0's auc: 0.894628\n",
      "[700]\tvalid_0's auc: 0.895407\n",
      "[750]\tvalid_0's auc: 0.895848\n",
      "[800]\tvalid_0's auc: 0.896407\n",
      "[850]\tvalid_0's auc: 0.896956\n",
      "[900]\tvalid_0's auc: 0.897397\n",
      "[950]\tvalid_0's auc: 0.89761\n",
      "[1000]\tvalid_0's auc: 0.897961\n",
      "[1050]\tvalid_0's auc: 0.898152\n",
      "[1100]\tvalid_0's auc: 0.898554\n",
      "[1150]\tvalid_0's auc: 0.898878\n",
      "[1200]\tvalid_0's auc: 0.899117\n",
      "[1250]\tvalid_0's auc: 0.899454\n",
      "[1300]\tvalid_0's auc: 0.899677\n",
      "[1350]\tvalid_0's auc: 0.899853\n",
      "[1400]\tvalid_0's auc: 0.900028\n",
      "[1450]\tvalid_0's auc: 0.900177\n",
      "[1500]\tvalid_0's auc: 0.900286\n",
      "[1550]\tvalid_0's auc: 0.900443\n",
      "[1600]\tvalid_0's auc: 0.900511\n",
      "[1650]\tvalid_0's auc: 0.900582\n",
      "[1700]\tvalid_0's auc: 0.900713\n",
      "[1750]\tvalid_0's auc: 0.900778\n",
      "[1800]\tvalid_0's auc: 0.90088\n",
      "[1850]\tvalid_0's auc: 0.900927\n",
      "[1900]\tvalid_0's auc: 0.901002\n",
      "[1950]\tvalid_0's auc: 0.901081\n",
      "[2000]\tvalid_0's auc: 0.901162\n",
      "[2050]\tvalid_0's auc: 0.901253\n",
      "[2100]\tvalid_0's auc: 0.901271\n",
      "[2150]\tvalid_0's auc: 0.901328\n",
      "[2200]\tvalid_0's auc: 0.901395\n",
      "[2250]\tvalid_0's auc: 0.901506\n",
      "[2300]\tvalid_0's auc: 0.90155\n",
      "[2350]\tvalid_0's auc: 0.901618\n",
      "[2400]\tvalid_0's auc: 0.901641\n",
      "[2450]\tvalid_0's auc: 0.901684\n",
      "[2500]\tvalid_0's auc: 0.901731\n",
      "[2550]\tvalid_0's auc: 0.901792\n",
      "[2600]\tvalid_0's auc: 0.901821\n",
      "[2650]\tvalid_0's auc: 0.901852\n",
      "[2700]\tvalid_0's auc: 0.901907\n",
      "[2750]\tvalid_0's auc: 0.901949\n",
      "[2800]\tvalid_0's auc: 0.902023\n",
      "[2850]\tvalid_0's auc: 0.902069\n",
      "[2900]\tvalid_0's auc: 0.902128\n",
      "[2950]\tvalid_0's auc: 0.90215\n",
      "[3000]\tvalid_0's auc: 0.902186\n",
      "[3050]\tvalid_0's auc: 0.902216\n",
      "[3100]\tvalid_0's auc: 0.902302\n",
      "[3150]\tvalid_0's auc: 0.902346\n",
      "[3200]\tvalid_0's auc: 0.902407\n",
      "[3250]\tvalid_0's auc: 0.902428\n",
      "[3300]\tvalid_0's auc: 0.902457\n",
      "[3350]\tvalid_0's auc: 0.902502\n",
      "[3400]\tvalid_0's auc: 0.902536\n",
      "[3450]\tvalid_0's auc: 0.902554\n",
      "[3500]\tvalid_0's auc: 0.902593\n",
      "[3550]\tvalid_0's auc: 0.902623\n",
      "[3600]\tvalid_0's auc: 0.902638\n",
      "[3650]\tvalid_0's auc: 0.902657\n",
      "[3700]\tvalid_0's auc: 0.902676\n",
      "[3750]\tvalid_0's auc: 0.902723\n",
      "[3800]\tvalid_0's auc: 0.902751\n",
      "[3850]\tvalid_0's auc: 0.902756\n",
      "[3900]\tvalid_0's auc: 0.902776\n",
      "[3950]\tvalid_0's auc: 0.902815\n",
      "[4000]\tvalid_0's auc: 0.902839\n",
      "[4050]\tvalid_0's auc: 0.902869\n",
      "[4100]\tvalid_0's auc: 0.902909\n",
      "[4150]\tvalid_0's auc: 0.902921\n",
      "[4200]\tvalid_0's auc: 0.902942\n",
      "[4250]\tvalid_0's auc: 0.902949\n",
      "[4300]\tvalid_0's auc: 0.902983\n",
      "[4350]\tvalid_0's auc: 0.903023\n",
      "[4400]\tvalid_0's auc: 0.903027\n",
      "[4450]\tvalid_0's auc: 0.903037\n",
      "[4500]\tvalid_0's auc: 0.903052\n",
      "[4550]\tvalid_0's auc: 0.903065\n",
      "[4600]\tvalid_0's auc: 0.9031\n",
      "[4650]\tvalid_0's auc: 0.903107\n",
      "[4700]\tvalid_0's auc: 0.903126\n",
      "[4750]\tvalid_0's auc: 0.903154\n",
      "[4800]\tvalid_0's auc: 0.903171\n",
      "[4850]\tvalid_0's auc: 0.903193\n",
      "[4900]\tvalid_0's auc: 0.903231\n",
      "[4950]\tvalid_0's auc: 0.903243\n",
      "[5000]\tvalid_0's auc: 0.903264\n",
      "[5050]\tvalid_0's auc: 0.903287\n",
      "[5100]\tvalid_0's auc: 0.903299\n",
      "[5150]\tvalid_0's auc: 0.903317\n",
      "[5200]\tvalid_0's auc: 0.903331\n",
      "[5250]\tvalid_0's auc: 0.903358\n",
      "[5300]\tvalid_0's auc: 0.903384\n",
      "[5350]\tvalid_0's auc: 0.903398\n",
      "[5400]\tvalid_0's auc: 0.903423\n",
      "[5450]\tvalid_0's auc: 0.903443\n",
      "[5500]\tvalid_0's auc: 0.903446\n",
      "[5550]\tvalid_0's auc: 0.903472\n",
      "[5600]\tvalid_0's auc: 0.903499\n",
      "[5650]\tvalid_0's auc: 0.903528\n",
      "[5700]\tvalid_0's auc: 0.903545\n",
      "[5750]\tvalid_0's auc: 0.903559\n",
      "[5800]\tvalid_0's auc: 0.903584\n",
      "[5850]\tvalid_0's auc: 0.903607\n",
      "[5900]\tvalid_0's auc: 0.90362\n",
      "[5950]\tvalid_0's auc: 0.903628\n",
      "[6000]\tvalid_0's auc: 0.903639\n",
      "[6050]\tvalid_0's auc: 0.903655\n",
      "[6100]\tvalid_0's auc: 0.903669\n",
      "[6150]\tvalid_0's auc: 0.903694\n",
      "[6200]\tvalid_0's auc: 0.903687\n",
      "[6250]\tvalid_0's auc: 0.903701\n",
      "[6300]\tvalid_0's auc: 0.90372\n",
      "[6350]\tvalid_0's auc: 0.903729\n",
      "[6400]\tvalid_0's auc: 0.903751\n",
      "[6450]\tvalid_0's auc: 0.903767\n",
      "[6500]\tvalid_0's auc: 0.903769\n",
      "[6550]\tvalid_0's auc: 0.903789\n",
      "[6600]\tvalid_0's auc: 0.903782\n",
      "[6650]\tvalid_0's auc: 0.90378\n",
      "[6700]\tvalid_0's auc: 0.9038\n",
      "[6750]\tvalid_0's auc: 0.903819\n",
      "[6800]\tvalid_0's auc: 0.903828\n",
      "[6850]\tvalid_0's auc: 0.903827\n",
      "[6900]\tvalid_0's auc: 0.903842\n",
      "[6950]\tvalid_0's auc: 0.903853\n",
      "[7000]\tvalid_0's auc: 0.903858\n",
      "[7050]\tvalid_0's auc: 0.90385\n",
      "[7100]\tvalid_0's auc: 0.903867\n",
      "[7150]\tvalid_0's auc: 0.903881\n",
      "[7200]\tvalid_0's auc: 0.903887\n",
      "[7250]\tvalid_0's auc: 0.903881\n",
      "Early stopping, best iteration is:\n",
      "[7193]\tvalid_0's auc: 0.903887\n"
     ]
    },
    {
     "name": "stderr",
     "output_type": "stream",
     "text": [
      "num_leaves, val_score: 0.906875:  55%|##########################9                      | 11/20 [00:17<00:24,  2.70s/it]C:\\Python39\\lib\\site-packages\\lightgbm\\engine.py:181: UserWarning: 'early_stopping_rounds' argument is deprecated and will be removed in a future release of LightGBM. Pass 'early_stopping()' callback via 'callbacks' argument instead.\n",
      "  _log_warning(\"'early_stopping_rounds' argument is deprecated and will be removed in a future release of LightGBM. \"\n",
      "C:\\Python39\\lib\\site-packages\\lightgbm\\basic.py:2068: UserWarning: categorical_feature in Dataset is overridden.\n",
      "New categorical_feature is ['education', 'marital.status', 'native.country', 'occupation', 'race', 'relationship', 'sex', 'workclass']\n",
      "  _log_warning('categorical_feature in Dataset is overridden.\\n'\n",
      "C:\\Python39\\lib\\site-packages\\lightgbm\\engine.py:239: UserWarning: 'verbose_eval' argument is deprecated and will be removed in a future release of LightGBM. Pass 'log_evaluation()' callback via 'callbacks' argument instead.\n",
      "  _log_warning(\"'verbose_eval' argument is deprecated and will be removed in a future release of LightGBM. \"\n",
      "C:\\Python39\\lib\\site-packages\\lightgbm\\basic.py:1780: UserWarning: Overriding the parameters from Reference Dataset.\n",
      "  _log_warning('Overriding the parameters from Reference Dataset.')\n",
      "C:\\Python39\\lib\\site-packages\\lightgbm\\basic.py:1513: UserWarning: categorical_column in param dict is overridden.\n",
      "  _log_warning(f'{cat_alias} in param dict is overridden.')\n"
     ]
    },
    {
     "name": "stdout",
     "output_type": "stream",
     "text": [
      "Training until validation scores don't improve for 100 rounds\n",
      "[50]\tvalid_0's auc: 0.901416\n",
      "[100]\tvalid_0's auc: 0.90258\n",
      "[150]\tvalid_0's auc: 0.903771\n",
      "[200]\tvalid_0's auc: 0.904686\n",
      "[250]\tvalid_0's auc: 0.905568\n",
      "[300]\tvalid_0's auc: 0.906235\n",
      "[350]\tvalid_0's auc: 0.906504\n",
      "[400]\tvalid_0's auc: 0.906793\n",
      "[450]\tvalid_0's auc: 0.906851\n",
      "[500]\tvalid_0's auc: 0.906864\n",
      "[550]\tvalid_0's auc: 0.906857\n",
      "Early stopping, best iteration is:\n",
      "[481]\tvalid_0's auc: 0.906928\n"
     ]
    },
    {
     "name": "stderr",
     "output_type": "stream",
     "text": [
      "num_leaves, val_score: 0.906928:  60%|#############################4                   | 12/20 [00:18<00:17,  2.18s/it]C:\\Python39\\lib\\site-packages\\lightgbm\\engine.py:181: UserWarning: 'early_stopping_rounds' argument is deprecated and will be removed in a future release of LightGBM. Pass 'early_stopping()' callback via 'callbacks' argument instead.\n",
      "  _log_warning(\"'early_stopping_rounds' argument is deprecated and will be removed in a future release of LightGBM. \"\n",
      "C:\\Python39\\lib\\site-packages\\lightgbm\\basic.py:2068: UserWarning: categorical_feature in Dataset is overridden.\n",
      "New categorical_feature is ['education', 'marital.status', 'native.country', 'occupation', 'race', 'relationship', 'sex', 'workclass']\n",
      "  _log_warning('categorical_feature in Dataset is overridden.\\n'\n",
      "C:\\Python39\\lib\\site-packages\\lightgbm\\engine.py:239: UserWarning: 'verbose_eval' argument is deprecated and will be removed in a future release of LightGBM. Pass 'log_evaluation()' callback via 'callbacks' argument instead.\n",
      "  _log_warning(\"'verbose_eval' argument is deprecated and will be removed in a future release of LightGBM. \"\n",
      "C:\\Python39\\lib\\site-packages\\lightgbm\\basic.py:1780: UserWarning: Overriding the parameters from Reference Dataset.\n",
      "  _log_warning('Overriding the parameters from Reference Dataset.')\n",
      "C:\\Python39\\lib\\site-packages\\lightgbm\\basic.py:1513: UserWarning: categorical_column in param dict is overridden.\n",
      "  _log_warning(f'{cat_alias} in param dict is overridden.')\n"
     ]
    },
    {
     "name": "stdout",
     "output_type": "stream",
     "text": [
      "Training until validation scores don't improve for 100 rounds\n",
      "[50]\tvalid_0's auc: 0.897698\n",
      "[100]\tvalid_0's auc: 0.897968\n",
      "[150]\tvalid_0's auc: 0.898991\n",
      "[200]\tvalid_0's auc: 0.900586\n",
      "[250]\tvalid_0's auc: 0.901881\n",
      "[300]\tvalid_0's auc: 0.902939\n",
      "[350]\tvalid_0's auc: 0.903695\n",
      "[400]\tvalid_0's auc: 0.904178\n",
      "[450]\tvalid_0's auc: 0.904649\n",
      "[500]\tvalid_0's auc: 0.905011\n",
      "[550]\tvalid_0's auc: 0.905323\n",
      "[600]\tvalid_0's auc: 0.905478\n",
      "[650]\tvalid_0's auc: 0.905576\n",
      "[700]\tvalid_0's auc: 0.905604\n",
      "[750]\tvalid_0's auc: 0.905666\n",
      "[800]\tvalid_0's auc: 0.905761\n",
      "[850]\tvalid_0's auc: 0.905809\n",
      "[900]\tvalid_0's auc: 0.905852\n",
      "[950]\tvalid_0's auc: 0.905896\n",
      "[1000]\tvalid_0's auc: 0.905872\n",
      "[1050]\tvalid_0's auc: 0.905926\n",
      "[1100]\tvalid_0's auc: 0.906003\n",
      "[1150]\tvalid_0's auc: 0.906013\n",
      "[1200]\tvalid_0's auc: 0.905975\n",
      "Early stopping, best iteration is:\n",
      "[1149]\tvalid_0's auc: 0.906019\n"
     ]
    },
    {
     "name": "stderr",
     "output_type": "stream",
     "text": [
      "num_leaves, val_score: 0.906928:  65%|###############################8                 | 13/20 [00:20<00:14,  2.12s/it]C:\\Python39\\lib\\site-packages\\lightgbm\\engine.py:181: UserWarning: 'early_stopping_rounds' argument is deprecated and will be removed in a future release of LightGBM. Pass 'early_stopping()' callback via 'callbacks' argument instead.\n",
      "  _log_warning(\"'early_stopping_rounds' argument is deprecated and will be removed in a future release of LightGBM. \"\n",
      "C:\\Python39\\lib\\site-packages\\lightgbm\\basic.py:2068: UserWarning: categorical_feature in Dataset is overridden.\n",
      "New categorical_feature is ['education', 'marital.status', 'native.country', 'occupation', 'race', 'relationship', 'sex', 'workclass']\n",
      "  _log_warning('categorical_feature in Dataset is overridden.\\n'\n",
      "C:\\Python39\\lib\\site-packages\\lightgbm\\engine.py:239: UserWarning: 'verbose_eval' argument is deprecated and will be removed in a future release of LightGBM. Pass 'log_evaluation()' callback via 'callbacks' argument instead.\n",
      "  _log_warning(\"'verbose_eval' argument is deprecated and will be removed in a future release of LightGBM. \"\n",
      "C:\\Python39\\lib\\site-packages\\lightgbm\\basic.py:1780: UserWarning: Overriding the parameters from Reference Dataset.\n",
      "  _log_warning('Overriding the parameters from Reference Dataset.')\n",
      "C:\\Python39\\lib\\site-packages\\lightgbm\\basic.py:1513: UserWarning: categorical_column in param dict is overridden.\n",
      "  _log_warning(f'{cat_alias} in param dict is overridden.')\n"
     ]
    },
    {
     "name": "stdout",
     "output_type": "stream",
     "text": [
      "Training until validation scores don't improve for 100 rounds\n",
      "[50]\tvalid_0's auc: 0.903721\n",
      "[100]\tvalid_0's auc: 0.904535\n",
      "[150]\tvalid_0's auc: 0.905106\n",
      "[200]\tvalid_0's auc: 0.905311\n",
      "[250]\tvalid_0's auc: 0.905436\n",
      "[300]\tvalid_0's auc: 0.905216\n",
      "[350]\tvalid_0's auc: 0.905139\n",
      "Early stopping, best iteration is:\n",
      "[259]\tvalid_0's auc: 0.905538\n"
     ]
    },
    {
     "name": "stderr",
     "output_type": "stream",
     "text": [
      "num_leaves, val_score: 0.906928:  70%|##################################3              | 14/20 [00:21<00:11,  1.85s/it]C:\\Python39\\lib\\site-packages\\lightgbm\\engine.py:181: UserWarning: 'early_stopping_rounds' argument is deprecated and will be removed in a future release of LightGBM. Pass 'early_stopping()' callback via 'callbacks' argument instead.\n",
      "  _log_warning(\"'early_stopping_rounds' argument is deprecated and will be removed in a future release of LightGBM. \"\n",
      "C:\\Python39\\lib\\site-packages\\lightgbm\\basic.py:2068: UserWarning: categorical_feature in Dataset is overridden.\n",
      "New categorical_feature is ['education', 'marital.status', 'native.country', 'occupation', 'race', 'relationship', 'sex', 'workclass']\n",
      "  _log_warning('categorical_feature in Dataset is overridden.\\n'\n",
      "C:\\Python39\\lib\\site-packages\\lightgbm\\engine.py:239: UserWarning: 'verbose_eval' argument is deprecated and will be removed in a future release of LightGBM. Pass 'log_evaluation()' callback via 'callbacks' argument instead.\n",
      "  _log_warning(\"'verbose_eval' argument is deprecated and will be removed in a future release of LightGBM. \"\n",
      "C:\\Python39\\lib\\site-packages\\lightgbm\\basic.py:1780: UserWarning: Overriding the parameters from Reference Dataset.\n",
      "  _log_warning('Overriding the parameters from Reference Dataset.')\n",
      "C:\\Python39\\lib\\site-packages\\lightgbm\\basic.py:1513: UserWarning: categorical_column in param dict is overridden.\n",
      "  _log_warning(f'{cat_alias} in param dict is overridden.')\n"
     ]
    },
    {
     "name": "stdout",
     "output_type": "stream",
     "text": [
      "Training until validation scores don't improve for 100 rounds\n",
      "[50]\tvalid_0's auc: 0.902751\n",
      "[100]\tvalid_0's auc: 0.904225\n",
      "[150]\tvalid_0's auc: 0.905125\n",
      "[200]\tvalid_0's auc: 0.905673\n",
      "[250]\tvalid_0's auc: 0.906223\n",
      "[300]\tvalid_0's auc: 0.906401\n",
      "[350]\tvalid_0's auc: 0.906567\n",
      "[400]\tvalid_0's auc: 0.906611\n",
      "[450]\tvalid_0's auc: 0.906719\n",
      "[500]\tvalid_0's auc: 0.906592\n",
      "[550]\tvalid_0's auc: 0.906437\n",
      "Early stopping, best iteration is:\n",
      "[456]\tvalid_0's auc: 0.906763\n"
     ]
    },
    {
     "name": "stderr",
     "output_type": "stream",
     "text": [
      "num_leaves, val_score: 0.906928:  75%|####################################7            | 15/20 [00:23<00:08,  1.71s/it]C:\\Python39\\lib\\site-packages\\lightgbm\\engine.py:181: UserWarning: 'early_stopping_rounds' argument is deprecated and will be removed in a future release of LightGBM. Pass 'early_stopping()' callback via 'callbacks' argument instead.\n",
      "  _log_warning(\"'early_stopping_rounds' argument is deprecated and will be removed in a future release of LightGBM. \"\n",
      "C:\\Python39\\lib\\site-packages\\lightgbm\\basic.py:2068: UserWarning: categorical_feature in Dataset is overridden.\n",
      "New categorical_feature is ['education', 'marital.status', 'native.country', 'occupation', 'race', 'relationship', 'sex', 'workclass']\n",
      "  _log_warning('categorical_feature in Dataset is overridden.\\n'\n",
      "C:\\Python39\\lib\\site-packages\\lightgbm\\engine.py:239: UserWarning: 'verbose_eval' argument is deprecated and will be removed in a future release of LightGBM. Pass 'log_evaluation()' callback via 'callbacks' argument instead.\n",
      "  _log_warning(\"'verbose_eval' argument is deprecated and will be removed in a future release of LightGBM. \"\n",
      "C:\\Python39\\lib\\site-packages\\lightgbm\\basic.py:1780: UserWarning: Overriding the parameters from Reference Dataset.\n",
      "  _log_warning('Overriding the parameters from Reference Dataset.')\n",
      "C:\\Python39\\lib\\site-packages\\lightgbm\\basic.py:1513: UserWarning: categorical_column in param dict is overridden.\n",
      "  _log_warning(f'{cat_alias} in param dict is overridden.')\n"
     ]
    },
    {
     "name": "stdout",
     "output_type": "stream",
     "text": [
      "Training until validation scores don't improve for 100 rounds\n",
      "[50]\tvalid_0's auc: 0.902326\n",
      "[100]\tvalid_0's auc: 0.903669\n",
      "[150]\tvalid_0's auc: 0.904675\n",
      "[200]\tvalid_0's auc: 0.905391\n",
      "[250]\tvalid_0's auc: 0.905978\n",
      "[300]\tvalid_0's auc: 0.906271\n",
      "[350]\tvalid_0's auc: 0.906554\n",
      "[400]\tvalid_0's auc: 0.90662\n",
      "[450]\tvalid_0's auc: 0.906747\n"
     ]
    },
    {
     "name": "stderr",
     "output_type": "stream",
     "text": [
      "num_leaves, val_score: 0.906928:  80%|#######################################2         | 16/20 [00:24<00:06,  1.53s/it]"
     ]
    },
    {
     "name": "stdout",
     "output_type": "stream",
     "text": [
      "[500]\tvalid_0's auc: 0.906629\n",
      "Early stopping, best iteration is:\n",
      "[433]\tvalid_0's auc: 0.906799\n",
      "Training until validation scores don't improve for 100 rounds\n"
     ]
    },
    {
     "name": "stderr",
     "output_type": "stream",
     "text": [
      "C:\\Python39\\lib\\site-packages\\lightgbm\\engine.py:181: UserWarning: 'early_stopping_rounds' argument is deprecated and will be removed in a future release of LightGBM. Pass 'early_stopping()' callback via 'callbacks' argument instead.\n",
      "  _log_warning(\"'early_stopping_rounds' argument is deprecated and will be removed in a future release of LightGBM. \"\n",
      "C:\\Python39\\lib\\site-packages\\lightgbm\\basic.py:2068: UserWarning: categorical_feature in Dataset is overridden.\n",
      "New categorical_feature is ['education', 'marital.status', 'native.country', 'occupation', 'race', 'relationship', 'sex', 'workclass']\n",
      "  _log_warning('categorical_feature in Dataset is overridden.\\n'\n",
      "C:\\Python39\\lib\\site-packages\\lightgbm\\engine.py:239: UserWarning: 'verbose_eval' argument is deprecated and will be removed in a future release of LightGBM. Pass 'log_evaluation()' callback via 'callbacks' argument instead.\n",
      "  _log_warning(\"'verbose_eval' argument is deprecated and will be removed in a future release of LightGBM. \"\n",
      "C:\\Python39\\lib\\site-packages\\lightgbm\\basic.py:1780: UserWarning: Overriding the parameters from Reference Dataset.\n",
      "  _log_warning('Overriding the parameters from Reference Dataset.')\n",
      "C:\\Python39\\lib\\site-packages\\lightgbm\\basic.py:1513: UserWarning: categorical_column in param dict is overridden.\n",
      "  _log_warning(f'{cat_alias} in param dict is overridden.')\n"
     ]
    },
    {
     "name": "stdout",
     "output_type": "stream",
     "text": [
      "[50]\tvalid_0's auc: 0.90356\n",
      "[100]\tvalid_0's auc: 0.904324\n",
      "[150]\tvalid_0's auc: 0.904829\n",
      "[200]\tvalid_0's auc: 0.904894\n"
     ]
    },
    {
     "name": "stderr",
     "output_type": "stream",
     "text": [
      "num_leaves, val_score: 0.906928:  85%|#########################################6       | 17/20 [00:25<00:04,  1.34s/it]"
     ]
    },
    {
     "name": "stdout",
     "output_type": "stream",
     "text": [
      "[250]\tvalid_0's auc: 0.904937\n",
      "Early stopping, best iteration is:\n",
      "[179]\tvalid_0's auc: 0.905049\n",
      "Training until validation scores don't improve for 100 rounds\n"
     ]
    },
    {
     "name": "stderr",
     "output_type": "stream",
     "text": [
      "C:\\Python39\\lib\\site-packages\\lightgbm\\engine.py:181: UserWarning: 'early_stopping_rounds' argument is deprecated and will be removed in a future release of LightGBM. Pass 'early_stopping()' callback via 'callbacks' argument instead.\n",
      "  _log_warning(\"'early_stopping_rounds' argument is deprecated and will be removed in a future release of LightGBM. \"\n",
      "C:\\Python39\\lib\\site-packages\\lightgbm\\basic.py:2068: UserWarning: categorical_feature in Dataset is overridden.\n",
      "New categorical_feature is ['education', 'marital.status', 'native.country', 'occupation', 'race', 'relationship', 'sex', 'workclass']\n",
      "  _log_warning('categorical_feature in Dataset is overridden.\\n'\n",
      "C:\\Python39\\lib\\site-packages\\lightgbm\\engine.py:239: UserWarning: 'verbose_eval' argument is deprecated and will be removed in a future release of LightGBM. Pass 'log_evaluation()' callback via 'callbacks' argument instead.\n",
      "  _log_warning(\"'verbose_eval' argument is deprecated and will be removed in a future release of LightGBM. \"\n",
      "C:\\Python39\\lib\\site-packages\\lightgbm\\basic.py:1780: UserWarning: Overriding the parameters from Reference Dataset.\n",
      "  _log_warning('Overriding the parameters from Reference Dataset.')\n",
      "C:\\Python39\\lib\\site-packages\\lightgbm\\basic.py:1513: UserWarning: categorical_column in param dict is overridden.\n",
      "  _log_warning(f'{cat_alias} in param dict is overridden.')\n"
     ]
    },
    {
     "name": "stdout",
     "output_type": "stream",
     "text": [
      "[50]\tvalid_0's auc: 0.902326\n",
      "[100]\tvalid_0's auc: 0.903669\n",
      "[150]\tvalid_0's auc: 0.904675\n",
      "[200]\tvalid_0's auc: 0.905391\n",
      "[250]\tvalid_0's auc: 0.905978\n",
      "[300]\tvalid_0's auc: 0.906271\n",
      "[350]\tvalid_0's auc: 0.906554\n",
      "[400]\tvalid_0's auc: 0.90662\n"
     ]
    },
    {
     "name": "stderr",
     "output_type": "stream",
     "text": [
      "num_leaves, val_score: 0.906928:  85%|#########################################6       | 17/20 [00:26<00:04,  1.34s/it]"
     ]
    },
    {
     "name": "stdout",
     "output_type": "stream",
     "text": [
      "[450]\tvalid_0's auc: 0.906747\n",
      "[500]\tvalid_0's auc: 0.906629\n",
      "Early stopping, best iteration is:\n",
      "[433]\tvalid_0's auc: 0.906799\n"
     ]
    },
    {
     "name": "stderr",
     "output_type": "stream",
     "text": [
      "num_leaves, val_score: 0.906928:  90%|############################################1    | 18/20 [00:26<00:02,  1.26s/it]C:\\Python39\\lib\\site-packages\\lightgbm\\engine.py:181: UserWarning: 'early_stopping_rounds' argument is deprecated and will be removed in a future release of LightGBM. Pass 'early_stopping()' callback via 'callbacks' argument instead.\n",
      "  _log_warning(\"'early_stopping_rounds' argument is deprecated and will be removed in a future release of LightGBM. \"\n",
      "C:\\Python39\\lib\\site-packages\\lightgbm\\basic.py:2068: UserWarning: categorical_feature in Dataset is overridden.\n",
      "New categorical_feature is ['education', 'marital.status', 'native.country', 'occupation', 'race', 'relationship', 'sex', 'workclass']\n",
      "  _log_warning('categorical_feature in Dataset is overridden.\\n'\n",
      "C:\\Python39\\lib\\site-packages\\lightgbm\\engine.py:239: UserWarning: 'verbose_eval' argument is deprecated and will be removed in a future release of LightGBM. Pass 'log_evaluation()' callback via 'callbacks' argument instead.\n",
      "  _log_warning(\"'verbose_eval' argument is deprecated and will be removed in a future release of LightGBM. \"\n",
      "C:\\Python39\\lib\\site-packages\\lightgbm\\basic.py:1780: UserWarning: Overriding the parameters from Reference Dataset.\n",
      "  _log_warning('Overriding the parameters from Reference Dataset.')\n",
      "C:\\Python39\\lib\\site-packages\\lightgbm\\basic.py:1513: UserWarning: categorical_column in param dict is overridden.\n",
      "  _log_warning(f'{cat_alias} in param dict is overridden.')\n"
     ]
    },
    {
     "name": "stdout",
     "output_type": "stream",
     "text": [
      "Training until validation scores don't improve for 100 rounds\n",
      "[50]\tvalid_0's auc: 0.903447\n",
      "[100]\tvalid_0's auc: 0.903936\n",
      "[150]\tvalid_0's auc: 0.904304\n",
      "[200]\tvalid_0's auc: 0.904346\n",
      "[250]\tvalid_0's auc: 0.904114\n"
     ]
    },
    {
     "name": "stderr",
     "output_type": "stream",
     "text": [
      "num_leaves, val_score: 0.906928:  95%|##############################################5  | 19/20 [00:27<00:01,  1.22s/it]"
     ]
    },
    {
     "name": "stdout",
     "output_type": "stream",
     "text": [
      "Early stopping, best iteration is:\n",
      "[185]\tvalid_0's auc: 0.904569\n",
      "Training until validation scores don't improve for 100 rounds\n"
     ]
    },
    {
     "name": "stderr",
     "output_type": "stream",
     "text": [
      "C:\\Python39\\lib\\site-packages\\lightgbm\\engine.py:181: UserWarning: 'early_stopping_rounds' argument is deprecated and will be removed in a future release of LightGBM. Pass 'early_stopping()' callback via 'callbacks' argument instead.\n",
      "  _log_warning(\"'early_stopping_rounds' argument is deprecated and will be removed in a future release of LightGBM. \"\n",
      "C:\\Python39\\lib\\site-packages\\lightgbm\\basic.py:2068: UserWarning: categorical_feature in Dataset is overridden.\n",
      "New categorical_feature is ['education', 'marital.status', 'native.country', 'occupation', 'race', 'relationship', 'sex', 'workclass']\n",
      "  _log_warning('categorical_feature in Dataset is overridden.\\n'\n",
      "C:\\Python39\\lib\\site-packages\\lightgbm\\engine.py:239: UserWarning: 'verbose_eval' argument is deprecated and will be removed in a future release of LightGBM. Pass 'log_evaluation()' callback via 'callbacks' argument instead.\n",
      "  _log_warning(\"'verbose_eval' argument is deprecated and will be removed in a future release of LightGBM. \"\n",
      "C:\\Python39\\lib\\site-packages\\lightgbm\\basic.py:1780: UserWarning: Overriding the parameters from Reference Dataset.\n",
      "  _log_warning('Overriding the parameters from Reference Dataset.')\n",
      "C:\\Python39\\lib\\site-packages\\lightgbm\\basic.py:1513: UserWarning: categorical_column in param dict is overridden.\n",
      "  _log_warning(f'{cat_alias} in param dict is overridden.')\n"
     ]
    },
    {
     "name": "stdout",
     "output_type": "stream",
     "text": [
      "[50]\tvalid_0's auc: 0.903707\n",
      "[100]\tvalid_0's auc: 0.904475\n",
      "[150]\tvalid_0's auc: 0.904998\n",
      "[200]\tvalid_0's auc: 0.90522\n",
      "[250]\tvalid_0's auc: 0.90538\n",
      "[300]\tvalid_0's auc: 0.90504\n"
     ]
    },
    {
     "name": "stderr",
     "output_type": "stream",
     "text": [
      "num_leaves, val_score: 0.906928: 100%|#################################################| 20/20 [00:28<00:00,  1.42s/it]\n"
     ]
    },
    {
     "name": "stdout",
     "output_type": "stream",
     "text": [
      "[350]\tvalid_0's auc: 0.904849\n",
      "Early stopping, best iteration is:\n",
      "[260]\tvalid_0's auc: 0.905487\n"
     ]
    },
    {
     "name": "stderr",
     "output_type": "stream",
     "text": [
      "bagging, val_score: 0.906928:   0%|                                                             | 0/10 [00:00<?, ?it/s]"
     ]
    },
    {
     "name": "stdout",
     "output_type": "stream",
     "text": [
      "Training until validation scores don't improve for 100 rounds\n"
     ]
    },
    {
     "name": "stderr",
     "output_type": "stream",
     "text": [
      "C:\\Python39\\lib\\site-packages\\lightgbm\\engine.py:181: UserWarning: 'early_stopping_rounds' argument is deprecated and will be removed in a future release of LightGBM. Pass 'early_stopping()' callback via 'callbacks' argument instead.\n",
      "  _log_warning(\"'early_stopping_rounds' argument is deprecated and will be removed in a future release of LightGBM. \"\n",
      "C:\\Python39\\lib\\site-packages\\lightgbm\\basic.py:2068: UserWarning: categorical_feature in Dataset is overridden.\n",
      "New categorical_feature is ['education', 'marital.status', 'native.country', 'occupation', 'race', 'relationship', 'sex', 'workclass']\n",
      "  _log_warning('categorical_feature in Dataset is overridden.\\n'\n",
      "C:\\Python39\\lib\\site-packages\\lightgbm\\engine.py:239: UserWarning: 'verbose_eval' argument is deprecated and will be removed in a future release of LightGBM. Pass 'log_evaluation()' callback via 'callbacks' argument instead.\n",
      "  _log_warning(\"'verbose_eval' argument is deprecated and will be removed in a future release of LightGBM. \"\n",
      "C:\\Python39\\lib\\site-packages\\lightgbm\\basic.py:1780: UserWarning: Overriding the parameters from Reference Dataset.\n",
      "  _log_warning('Overriding the parameters from Reference Dataset.')\n",
      "C:\\Python39\\lib\\site-packages\\lightgbm\\basic.py:1513: UserWarning: categorical_column in param dict is overridden.\n",
      "  _log_warning(f'{cat_alias} in param dict is overridden.')\n"
     ]
    },
    {
     "name": "stdout",
     "output_type": "stream",
     "text": [
      "[50]\tvalid_0's auc: 0.901925\n",
      "[100]\tvalid_0's auc: 0.902967\n",
      "[150]\tvalid_0's auc: 0.904206\n",
      "[200]\tvalid_0's auc: 0.905356\n",
      "[250]\tvalid_0's auc: 0.9059\n",
      "[300]\tvalid_0's auc: 0.905951\n",
      "[350]\tvalid_0's auc: 0.906137\n",
      "[400]\tvalid_0's auc: 0.906177\n"
     ]
    },
    {
     "name": "stderr",
     "output_type": "stream",
     "text": [
      "bagging, val_score: 0.906928:  10%|#####3                                               | 1/10 [00:01<00:09,  1.04s/it]"
     ]
    },
    {
     "name": "stdout",
     "output_type": "stream",
     "text": [
      "[450]\tvalid_0's auc: 0.906056\n",
      "[500]\tvalid_0's auc: 0.906094\n",
      "Early stopping, best iteration is:\n",
      "[413]\tvalid_0's auc: 0.906259\n",
      "Training until validation scores don't improve for 100 rounds\n"
     ]
    },
    {
     "name": "stderr",
     "output_type": "stream",
     "text": [
      "C:\\Python39\\lib\\site-packages\\lightgbm\\engine.py:181: UserWarning: 'early_stopping_rounds' argument is deprecated and will be removed in a future release of LightGBM. Pass 'early_stopping()' callback via 'callbacks' argument instead.\n",
      "  _log_warning(\"'early_stopping_rounds' argument is deprecated and will be removed in a future release of LightGBM. \"\n",
      "C:\\Python39\\lib\\site-packages\\lightgbm\\basic.py:2068: UserWarning: categorical_feature in Dataset is overridden.\n",
      "New categorical_feature is ['education', 'marital.status', 'native.country', 'occupation', 'race', 'relationship', 'sex', 'workclass']\n",
      "  _log_warning('categorical_feature in Dataset is overridden.\\n'\n",
      "C:\\Python39\\lib\\site-packages\\lightgbm\\engine.py:239: UserWarning: 'verbose_eval' argument is deprecated and will be removed in a future release of LightGBM. Pass 'log_evaluation()' callback via 'callbacks' argument instead.\n",
      "  _log_warning(\"'verbose_eval' argument is deprecated and will be removed in a future release of LightGBM. \"\n",
      "C:\\Python39\\lib\\site-packages\\lightgbm\\basic.py:1780: UserWarning: Overriding the parameters from Reference Dataset.\n",
      "  _log_warning('Overriding the parameters from Reference Dataset.')\n",
      "C:\\Python39\\lib\\site-packages\\lightgbm\\basic.py:1513: UserWarning: categorical_column in param dict is overridden.\n",
      "  _log_warning(f'{cat_alias} in param dict is overridden.')\n"
     ]
    },
    {
     "name": "stdout",
     "output_type": "stream",
     "text": [
      "[50]\tvalid_0's auc: 0.901877\n",
      "[100]\tvalid_0's auc: 0.902996\n",
      "[150]\tvalid_0's auc: 0.904021\n",
      "[200]\tvalid_0's auc: 0.905223\n",
      "[250]\tvalid_0's auc: 0.9057\n",
      "[300]\tvalid_0's auc: 0.905748\n",
      "[350]\tvalid_0's auc: 0.906014\n",
      "[400]\tvalid_0's auc: 0.906176\n"
     ]
    },
    {
     "name": "stderr",
     "output_type": "stream",
     "text": [
      "bagging, val_score: 0.906928:  10%|#####3                                               | 1/10 [00:02<00:09,  1.04s/it]"
     ]
    },
    {
     "name": "stdout",
     "output_type": "stream",
     "text": [
      "[450]\tvalid_0's auc: 0.9062\n",
      "[500]\tvalid_0's auc: 0.906114\n",
      "Early stopping, best iteration is:\n",
      "[413]\tvalid_0's auc: 0.906294\n"
     ]
    },
    {
     "name": "stderr",
     "output_type": "stream",
     "text": [
      "bagging, val_score: 0.906928:  20%|##########6                                          | 2/10 [00:02<00:09,  1.22s/it]C:\\Python39\\lib\\site-packages\\lightgbm\\engine.py:181: UserWarning: 'early_stopping_rounds' argument is deprecated and will be removed in a future release of LightGBM. Pass 'early_stopping()' callback via 'callbacks' argument instead.\n",
      "  _log_warning(\"'early_stopping_rounds' argument is deprecated and will be removed in a future release of LightGBM. \"\n",
      "C:\\Python39\\lib\\site-packages\\lightgbm\\basic.py:2068: UserWarning: categorical_feature in Dataset is overridden.\n",
      "New categorical_feature is ['education', 'marital.status', 'native.country', 'occupation', 'race', 'relationship', 'sex', 'workclass']\n",
      "  _log_warning('categorical_feature in Dataset is overridden.\\n'\n",
      "C:\\Python39\\lib\\site-packages\\lightgbm\\engine.py:239: UserWarning: 'verbose_eval' argument is deprecated and will be removed in a future release of LightGBM. Pass 'log_evaluation()' callback via 'callbacks' argument instead.\n",
      "  _log_warning(\"'verbose_eval' argument is deprecated and will be removed in a future release of LightGBM. \"\n",
      "C:\\Python39\\lib\\site-packages\\lightgbm\\basic.py:1780: UserWarning: Overriding the parameters from Reference Dataset.\n",
      "  _log_warning('Overriding the parameters from Reference Dataset.')\n",
      "C:\\Python39\\lib\\site-packages\\lightgbm\\basic.py:1513: UserWarning: categorical_column in param dict is overridden.\n",
      "  _log_warning(f'{cat_alias} in param dict is overridden.')\n"
     ]
    },
    {
     "name": "stdout",
     "output_type": "stream",
     "text": [
      "Training until validation scores don't improve for 100 rounds\n",
      "[50]\tvalid_0's auc: 0.901705\n",
      "[100]\tvalid_0's auc: 0.903232\n",
      "[150]\tvalid_0's auc: 0.904238\n",
      "[200]\tvalid_0's auc: 0.905077\n",
      "[250]\tvalid_0's auc: 0.905841\n",
      "[300]\tvalid_0's auc: 0.906265\n",
      "[350]\tvalid_0's auc: 0.906473\n",
      "[400]\tvalid_0's auc: 0.906627\n",
      "[450]\tvalid_0's auc: 0.906512\n",
      "[500]\tvalid_0's auc: 0.906616\n",
      "[550]\tvalid_0's auc: 0.906718\n",
      "[600]\tvalid_0's auc: 0.906754\n",
      "[650]\tvalid_0's auc: 0.906564\n",
      "Early stopping, best iteration is:\n",
      "[566]\tvalid_0's auc: 0.906851\n"
     ]
    },
    {
     "name": "stderr",
     "output_type": "stream",
     "text": [
      "bagging, val_score: 0.906928:  30%|###############9                                     | 3/10 [00:03<00:08,  1.27s/it]C:\\Python39\\lib\\site-packages\\lightgbm\\engine.py:181: UserWarning: 'early_stopping_rounds' argument is deprecated and will be removed in a future release of LightGBM. Pass 'early_stopping()' callback via 'callbacks' argument instead.\n",
      "  _log_warning(\"'early_stopping_rounds' argument is deprecated and will be removed in a future release of LightGBM. \"\n",
      "C:\\Python39\\lib\\site-packages\\lightgbm\\basic.py:2068: UserWarning: categorical_feature in Dataset is overridden.\n",
      "New categorical_feature is ['education', 'marital.status', 'native.country', 'occupation', 'race', 'relationship', 'sex', 'workclass']\n",
      "  _log_warning('categorical_feature in Dataset is overridden.\\n'\n",
      "C:\\Python39\\lib\\site-packages\\lightgbm\\engine.py:239: UserWarning: 'verbose_eval' argument is deprecated and will be removed in a future release of LightGBM. Pass 'log_evaluation()' callback via 'callbacks' argument instead.\n",
      "  _log_warning(\"'verbose_eval' argument is deprecated and will be removed in a future release of LightGBM. \"\n",
      "C:\\Python39\\lib\\site-packages\\lightgbm\\basic.py:1780: UserWarning: Overriding the parameters from Reference Dataset.\n",
      "  _log_warning('Overriding the parameters from Reference Dataset.')\n",
      "C:\\Python39\\lib\\site-packages\\lightgbm\\basic.py:1513: UserWarning: categorical_column in param dict is overridden.\n",
      "  _log_warning(f'{cat_alias} in param dict is overridden.')\n"
     ]
    },
    {
     "name": "stdout",
     "output_type": "stream",
     "text": [
      "Training until validation scores don't improve for 100 rounds\n",
      "[50]\tvalid_0's auc: 0.902184\n",
      "[100]\tvalid_0's auc: 0.90306\n",
      "[150]\tvalid_0's auc: 0.904219\n",
      "[200]\tvalid_0's auc: 0.905061\n",
      "[250]\tvalid_0's auc: 0.905868\n",
      "[300]\tvalid_0's auc: 0.906438\n",
      "[350]\tvalid_0's auc: 0.9067\n",
      "[400]\tvalid_0's auc: 0.906915\n"
     ]
    },
    {
     "name": "stderr",
     "output_type": "stream",
     "text": [
      "bagging, val_score: 0.907002:  30%|###############9                                     | 3/10 [00:04<00:08,  1.27s/it]"
     ]
    },
    {
     "name": "stdout",
     "output_type": "stream",
     "text": [
      "[450]\tvalid_0's auc: 0.906915\n",
      "[500]\tvalid_0's auc: 0.906865\n",
      "Early stopping, best iteration is:\n",
      "[441]\tvalid_0's auc: 0.907002\n"
     ]
    },
    {
     "name": "stderr",
     "output_type": "stream",
     "text": [
      "bagging, val_score: 0.907002:  40%|#####################2                               | 4/10 [00:04<00:07,  1.19s/it]C:\\Python39\\lib\\site-packages\\lightgbm\\engine.py:181: UserWarning: 'early_stopping_rounds' argument is deprecated and will be removed in a future release of LightGBM. Pass 'early_stopping()' callback via 'callbacks' argument instead.\n",
      "  _log_warning(\"'early_stopping_rounds' argument is deprecated and will be removed in a future release of LightGBM. \"\n",
      "C:\\Python39\\lib\\site-packages\\lightgbm\\basic.py:2068: UserWarning: categorical_feature in Dataset is overridden.\n",
      "New categorical_feature is ['education', 'marital.status', 'native.country', 'occupation', 'race', 'relationship', 'sex', 'workclass']\n",
      "  _log_warning('categorical_feature in Dataset is overridden.\\n'\n",
      "C:\\Python39\\lib\\site-packages\\lightgbm\\engine.py:239: UserWarning: 'verbose_eval' argument is deprecated and will be removed in a future release of LightGBM. Pass 'log_evaluation()' callback via 'callbacks' argument instead.\n",
      "  _log_warning(\"'verbose_eval' argument is deprecated and will be removed in a future release of LightGBM. \"\n",
      "C:\\Python39\\lib\\site-packages\\lightgbm\\basic.py:1780: UserWarning: Overriding the parameters from Reference Dataset.\n",
      "  _log_warning('Overriding the parameters from Reference Dataset.')\n",
      "C:\\Python39\\lib\\site-packages\\lightgbm\\basic.py:1513: UserWarning: categorical_column in param dict is overridden.\n",
      "  _log_warning(f'{cat_alias} in param dict is overridden.')\n"
     ]
    },
    {
     "name": "stdout",
     "output_type": "stream",
     "text": [
      "Training until validation scores don't improve for 100 rounds\n",
      "[50]\tvalid_0's auc: 0.901761\n",
      "[100]\tvalid_0's auc: 0.902753\n",
      "[150]\tvalid_0's auc: 0.90381\n",
      "[200]\tvalid_0's auc: 0.904688\n",
      "[250]\tvalid_0's auc: 0.905289\n",
      "[300]\tvalid_0's auc: 0.905707\n",
      "[350]\tvalid_0's auc: 0.905895\n",
      "[400]\tvalid_0's auc: 0.906153\n",
      "[450]\tvalid_0's auc: 0.906225\n"
     ]
    },
    {
     "name": "stderr",
     "output_type": "stream",
     "text": [
      "bagging, val_score: 0.907002:  50%|##########################5                          | 5/10 [00:06<00:06,  1.21s/it]"
     ]
    },
    {
     "name": "stdout",
     "output_type": "stream",
     "text": [
      "[500]\tvalid_0's auc: 0.906157\n",
      "Early stopping, best iteration is:\n",
      "[446]\tvalid_0's auc: 0.906296\n",
      "Training until validation scores don't improve for 100 rounds\n"
     ]
    },
    {
     "name": "stderr",
     "output_type": "stream",
     "text": [
      "C:\\Python39\\lib\\site-packages\\lightgbm\\engine.py:181: UserWarning: 'early_stopping_rounds' argument is deprecated and will be removed in a future release of LightGBM. Pass 'early_stopping()' callback via 'callbacks' argument instead.\n",
      "  _log_warning(\"'early_stopping_rounds' argument is deprecated and will be removed in a future release of LightGBM. \"\n",
      "C:\\Python39\\lib\\site-packages\\lightgbm\\basic.py:2068: UserWarning: categorical_feature in Dataset is overridden.\n",
      "New categorical_feature is ['education', 'marital.status', 'native.country', 'occupation', 'race', 'relationship', 'sex', 'workclass']\n",
      "  _log_warning('categorical_feature in Dataset is overridden.\\n'\n",
      "C:\\Python39\\lib\\site-packages\\lightgbm\\engine.py:239: UserWarning: 'verbose_eval' argument is deprecated and will be removed in a future release of LightGBM. Pass 'log_evaluation()' callback via 'callbacks' argument instead.\n",
      "  _log_warning(\"'verbose_eval' argument is deprecated and will be removed in a future release of LightGBM. \"\n",
      "C:\\Python39\\lib\\site-packages\\lightgbm\\basic.py:1780: UserWarning: Overriding the parameters from Reference Dataset.\n",
      "  _log_warning('Overriding the parameters from Reference Dataset.')\n",
      "C:\\Python39\\lib\\site-packages\\lightgbm\\basic.py:1513: UserWarning: categorical_column in param dict is overridden.\n",
      "  _log_warning(f'{cat_alias} in param dict is overridden.')\n"
     ]
    },
    {
     "name": "stdout",
     "output_type": "stream",
     "text": [
      "[50]\tvalid_0's auc: 0.901566\n",
      "[100]\tvalid_0's auc: 0.902803\n",
      "[150]\tvalid_0's auc: 0.903904\n",
      "[200]\tvalid_0's auc: 0.904938\n",
      "[250]\tvalid_0's auc: 0.905589\n",
      "[300]\tvalid_0's auc: 0.90602\n",
      "[350]\tvalid_0's auc: 0.906057\n",
      "[400]\tvalid_0's auc: 0.906138\n",
      "[450]\tvalid_0's auc: 0.906369\n"
     ]
    },
    {
     "name": "stderr",
     "output_type": "stream",
     "text": [
      "bagging, val_score: 0.907002:  60%|###############################8                     | 6/10 [00:07<00:04,  1.18s/it]"
     ]
    },
    {
     "name": "stdout",
     "output_type": "stream",
     "text": [
      "[500]\tvalid_0's auc: 0.90613\n",
      "[550]\tvalid_0's auc: 0.906058\n",
      "Early stopping, best iteration is:\n",
      "[465]\tvalid_0's auc: 0.906508\n",
      "Training until validation scores don't improve for 100 rounds\n"
     ]
    },
    {
     "name": "stderr",
     "output_type": "stream",
     "text": [
      "C:\\Python39\\lib\\site-packages\\lightgbm\\engine.py:181: UserWarning: 'early_stopping_rounds' argument is deprecated and will be removed in a future release of LightGBM. Pass 'early_stopping()' callback via 'callbacks' argument instead.\n",
      "  _log_warning(\"'early_stopping_rounds' argument is deprecated and will be removed in a future release of LightGBM. \"\n",
      "C:\\Python39\\lib\\site-packages\\lightgbm\\basic.py:2068: UserWarning: categorical_feature in Dataset is overridden.\n",
      "New categorical_feature is ['education', 'marital.status', 'native.country', 'occupation', 'race', 'relationship', 'sex', 'workclass']\n",
      "  _log_warning('categorical_feature in Dataset is overridden.\\n'\n",
      "C:\\Python39\\lib\\site-packages\\lightgbm\\engine.py:239: UserWarning: 'verbose_eval' argument is deprecated and will be removed in a future release of LightGBM. Pass 'log_evaluation()' callback via 'callbacks' argument instead.\n",
      "  _log_warning(\"'verbose_eval' argument is deprecated and will be removed in a future release of LightGBM. \"\n",
      "C:\\Python39\\lib\\site-packages\\lightgbm\\basic.py:1780: UserWarning: Overriding the parameters from Reference Dataset.\n",
      "  _log_warning('Overriding the parameters from Reference Dataset.')\n",
      "C:\\Python39\\lib\\site-packages\\lightgbm\\basic.py:1513: UserWarning: categorical_column in param dict is overridden.\n",
      "  _log_warning(f'{cat_alias} in param dict is overridden.')\n"
     ]
    },
    {
     "name": "stdout",
     "output_type": "stream",
     "text": [
      "[50]\tvalid_0's auc: 0.901962\n",
      "[100]\tvalid_0's auc: 0.902899\n",
      "[150]\tvalid_0's auc: 0.903941\n",
      "[200]\tvalid_0's auc: 0.904986\n",
      "[250]\tvalid_0's auc: 0.905673\n",
      "[300]\tvalid_0's auc: 0.905955\n",
      "[350]\tvalid_0's auc: 0.906064\n",
      "[400]\tvalid_0's auc: 0.906338\n",
      "[450]\tvalid_0's auc: 0.906368\n"
     ]
    },
    {
     "name": "stderr",
     "output_type": "stream",
     "text": [
      "bagging, val_score: 0.907002:  70%|#####################################                | 7/10 [00:08<00:03,  1.14s/it]"
     ]
    },
    {
     "name": "stdout",
     "output_type": "stream",
     "text": [
      "[500]\tvalid_0's auc: 0.906351\n",
      "Early stopping, best iteration is:\n",
      "[420]\tvalid_0's auc: 0.906478\n",
      "Training until validation scores don't improve for 100 rounds\n"
     ]
    },
    {
     "name": "stderr",
     "output_type": "stream",
     "text": [
      "C:\\Python39\\lib\\site-packages\\lightgbm\\engine.py:181: UserWarning: 'early_stopping_rounds' argument is deprecated and will be removed in a future release of LightGBM. Pass 'early_stopping()' callback via 'callbacks' argument instead.\n",
      "  _log_warning(\"'early_stopping_rounds' argument is deprecated and will be removed in a future release of LightGBM. \"\n",
      "C:\\Python39\\lib\\site-packages\\lightgbm\\basic.py:2068: UserWarning: categorical_feature in Dataset is overridden.\n",
      "New categorical_feature is ['education', 'marital.status', 'native.country', 'occupation', 'race', 'relationship', 'sex', 'workclass']\n",
      "  _log_warning('categorical_feature in Dataset is overridden.\\n'\n",
      "C:\\Python39\\lib\\site-packages\\lightgbm\\engine.py:239: UserWarning: 'verbose_eval' argument is deprecated and will be removed in a future release of LightGBM. Pass 'log_evaluation()' callback via 'callbacks' argument instead.\n",
      "  _log_warning(\"'verbose_eval' argument is deprecated and will be removed in a future release of LightGBM. \"\n",
      "C:\\Python39\\lib\\site-packages\\lightgbm\\basic.py:1780: UserWarning: Overriding the parameters from Reference Dataset.\n",
      "  _log_warning('Overriding the parameters from Reference Dataset.')\n",
      "C:\\Python39\\lib\\site-packages\\lightgbm\\basic.py:1513: UserWarning: categorical_column in param dict is overridden.\n",
      "  _log_warning(f'{cat_alias} in param dict is overridden.')\n"
     ]
    },
    {
     "name": "stdout",
     "output_type": "stream",
     "text": [
      "[50]\tvalid_0's auc: 0.901392\n",
      "[100]\tvalid_0's auc: 0.902838\n",
      "[150]\tvalid_0's auc: 0.903818\n",
      "[200]\tvalid_0's auc: 0.904827\n",
      "[250]\tvalid_0's auc: 0.905748\n",
      "[300]\tvalid_0's auc: 0.906283\n",
      "[350]\tvalid_0's auc: 0.906579\n",
      "[400]\tvalid_0's auc: 0.906804\n",
      "[450]\tvalid_0's auc: 0.906817\n",
      "[500]\tvalid_0's auc: 0.906818\n",
      "[550]\tvalid_0's auc: 0.906766\n",
      "Early stopping, best iteration is:\n",
      "[497]\tvalid_0's auc: 0.906837\n"
     ]
    },
    {
     "name": "stderr",
     "output_type": "stream",
     "text": [
      "bagging, val_score: 0.907002:  80%|##########################################4          | 8/10 [00:09<00:02,  1.20s/it]C:\\Python39\\lib\\site-packages\\lightgbm\\engine.py:181: UserWarning: 'early_stopping_rounds' argument is deprecated and will be removed in a future release of LightGBM. Pass 'early_stopping()' callback via 'callbacks' argument instead.\n",
      "  _log_warning(\"'early_stopping_rounds' argument is deprecated and will be removed in a future release of LightGBM. \"\n",
      "C:\\Python39\\lib\\site-packages\\lightgbm\\basic.py:2068: UserWarning: categorical_feature in Dataset is overridden.\n",
      "New categorical_feature is ['education', 'marital.status', 'native.country', 'occupation', 'race', 'relationship', 'sex', 'workclass']\n",
      "  _log_warning('categorical_feature in Dataset is overridden.\\n'\n",
      "C:\\Python39\\lib\\site-packages\\lightgbm\\engine.py:239: UserWarning: 'verbose_eval' argument is deprecated and will be removed in a future release of LightGBM. Pass 'log_evaluation()' callback via 'callbacks' argument instead.\n",
      "  _log_warning(\"'verbose_eval' argument is deprecated and will be removed in a future release of LightGBM. \"\n",
      "C:\\Python39\\lib\\site-packages\\lightgbm\\basic.py:1780: UserWarning: Overriding the parameters from Reference Dataset.\n",
      "  _log_warning('Overriding the parameters from Reference Dataset.')\n",
      "C:\\Python39\\lib\\site-packages\\lightgbm\\basic.py:1513: UserWarning: categorical_column in param dict is overridden.\n",
      "  _log_warning(f'{cat_alias} in param dict is overridden.')\n"
     ]
    },
    {
     "name": "stdout",
     "output_type": "stream",
     "text": [
      "Training until validation scores don't improve for 100 rounds\n",
      "[50]\tvalid_0's auc: 0.902095\n",
      "[100]\tvalid_0's auc: 0.903132\n",
      "[150]\tvalid_0's auc: 0.904088\n",
      "[200]\tvalid_0's auc: 0.904737\n",
      "[250]\tvalid_0's auc: 0.905736\n",
      "[300]\tvalid_0's auc: 0.906173\n",
      "[350]\tvalid_0's auc: 0.90625\n",
      "[400]\tvalid_0's auc: 0.906394\n"
     ]
    },
    {
     "name": "stderr",
     "output_type": "stream",
     "text": [
      "bagging, val_score: 0.907002:  90%|###############################################7     | 9/10 [00:10<00:01,  1.13s/it]"
     ]
    },
    {
     "name": "stdout",
     "output_type": "stream",
     "text": [
      "[450]\tvalid_0's auc: 0.906579\n",
      "[500]\tvalid_0's auc: 0.906382\n",
      "Early stopping, best iteration is:\n",
      "[433]\tvalid_0's auc: 0.906662\n"
     ]
    },
    {
     "name": "stderr",
     "output_type": "stream",
     "text": [
      "C:\\Python39\\lib\\site-packages\\lightgbm\\engine.py:181: UserWarning: 'early_stopping_rounds' argument is deprecated and will be removed in a future release of LightGBM. Pass 'early_stopping()' callback via 'callbacks' argument instead.\n",
      "  _log_warning(\"'early_stopping_rounds' argument is deprecated and will be removed in a future release of LightGBM. \"\n",
      "C:\\Python39\\lib\\site-packages\\lightgbm\\basic.py:2068: UserWarning: categorical_feature in Dataset is overridden.\n",
      "New categorical_feature is ['education', 'marital.status', 'native.country', 'occupation', 'race', 'relationship', 'sex', 'workclass']\n",
      "  _log_warning('categorical_feature in Dataset is overridden.\\n'\n",
      "C:\\Python39\\lib\\site-packages\\lightgbm\\engine.py:239: UserWarning: 'verbose_eval' argument is deprecated and will be removed in a future release of LightGBM. Pass 'log_evaluation()' callback via 'callbacks' argument instead.\n",
      "  _log_warning(\"'verbose_eval' argument is deprecated and will be removed in a future release of LightGBM. \"\n",
      "C:\\Python39\\lib\\site-packages\\lightgbm\\basic.py:1780: UserWarning: Overriding the parameters from Reference Dataset.\n",
      "  _log_warning('Overriding the parameters from Reference Dataset.')\n",
      "C:\\Python39\\lib\\site-packages\\lightgbm\\basic.py:1513: UserWarning: categorical_column in param dict is overridden.\n",
      "  _log_warning(f'{cat_alias} in param dict is overridden.')\n"
     ]
    },
    {
     "name": "stdout",
     "output_type": "stream",
     "text": [
      "Training until validation scores don't improve for 100 rounds\n",
      "[50]\tvalid_0's auc: 0.901823\n",
      "[100]\tvalid_0's auc: 0.902925\n",
      "[150]\tvalid_0's auc: 0.903948\n",
      "[200]\tvalid_0's auc: 0.904837\n",
      "[250]\tvalid_0's auc: 0.90563\n",
      "[300]\tvalid_0's auc: 0.905942\n",
      "[350]\tvalid_0's auc: 0.906211\n",
      "[400]\tvalid_0's auc: 0.906362\n",
      "[450]\tvalid_0's auc: 0.906391\n",
      "[500]\tvalid_0's auc: 0.906493\n",
      "[550]\tvalid_0's auc: 0.906488\n",
      "[600]\tvalid_0's auc: 0.906503\n",
      "[650]\tvalid_0's auc: 0.906464\n"
     ]
    },
    {
     "name": "stderr",
     "output_type": "stream",
     "text": [
      "bagging, val_score: 0.907002: 100%|####################################################| 10/10 [00:11<00:00,  1.19s/it]\n"
     ]
    },
    {
     "name": "stdout",
     "output_type": "stream",
     "text": [
      "[700]\tvalid_0's auc: 0.906188\n",
      "Early stopping, best iteration is:\n",
      "[613]\tvalid_0's auc: 0.906619\n"
     ]
    },
    {
     "name": "stderr",
     "output_type": "stream",
     "text": [
      "feature_fraction_stage2, val_score: 0.907002:   0%|                                              | 0/3 [00:00<?, ?it/s]"
     ]
    },
    {
     "name": "stdout",
     "output_type": "stream",
     "text": [
      "Training until validation scores don't improve for 100 rounds\n"
     ]
    },
    {
     "name": "stderr",
     "output_type": "stream",
     "text": [
      "C:\\Python39\\lib\\site-packages\\lightgbm\\engine.py:181: UserWarning: 'early_stopping_rounds' argument is deprecated and will be removed in a future release of LightGBM. Pass 'early_stopping()' callback via 'callbacks' argument instead.\n",
      "  _log_warning(\"'early_stopping_rounds' argument is deprecated and will be removed in a future release of LightGBM. \"\n",
      "C:\\Python39\\lib\\site-packages\\lightgbm\\basic.py:2068: UserWarning: categorical_feature in Dataset is overridden.\n",
      "New categorical_feature is ['education', 'marital.status', 'native.country', 'occupation', 'race', 'relationship', 'sex', 'workclass']\n",
      "  _log_warning('categorical_feature in Dataset is overridden.\\n'\n",
      "C:\\Python39\\lib\\site-packages\\lightgbm\\engine.py:239: UserWarning: 'verbose_eval' argument is deprecated and will be removed in a future release of LightGBM. Pass 'log_evaluation()' callback via 'callbacks' argument instead.\n",
      "  _log_warning(\"'verbose_eval' argument is deprecated and will be removed in a future release of LightGBM. \"\n",
      "C:\\Python39\\lib\\site-packages\\lightgbm\\basic.py:1780: UserWarning: Overriding the parameters from Reference Dataset.\n",
      "  _log_warning('Overriding the parameters from Reference Dataset.')\n",
      "C:\\Python39\\lib\\site-packages\\lightgbm\\basic.py:1513: UserWarning: categorical_column in param dict is overridden.\n",
      "  _log_warning(f'{cat_alias} in param dict is overridden.')\n"
     ]
    },
    {
     "name": "stdout",
     "output_type": "stream",
     "text": [
      "[50]\tvalid_0's auc: 0.902184\n",
      "[100]\tvalid_0's auc: 0.90306\n",
      "[150]\tvalid_0's auc: 0.904219\n",
      "[200]\tvalid_0's auc: 0.905061\n",
      "[250]\tvalid_0's auc: 0.905868\n",
      "[300]\tvalid_0's auc: 0.906438\n",
      "[350]\tvalid_0's auc: 0.9067\n",
      "[400]\tvalid_0's auc: 0.906915\n"
     ]
    },
    {
     "name": "stderr",
     "output_type": "stream",
     "text": [
      "feature_fraction_stage2, val_score: 0.907002:   0%|                                              | 0/3 [00:01<?, ?it/s]"
     ]
    },
    {
     "name": "stdout",
     "output_type": "stream",
     "text": [
      "[450]\tvalid_0's auc: 0.906915\n",
      "[500]\tvalid_0's auc: 0.906865\n",
      "Early stopping, best iteration is:\n",
      "[441]\tvalid_0's auc: 0.907002\n"
     ]
    },
    {
     "name": "stderr",
     "output_type": "stream",
     "text": [
      "feature_fraction_stage2, val_score: 0.907002:  33%|############6                         | 1/3 [00:01<00:02,  1.07s/it]C:\\Python39\\lib\\site-packages\\lightgbm\\engine.py:181: UserWarning: 'early_stopping_rounds' argument is deprecated and will be removed in a future release of LightGBM. Pass 'early_stopping()' callback via 'callbacks' argument instead.\n",
      "  _log_warning(\"'early_stopping_rounds' argument is deprecated and will be removed in a future release of LightGBM. \"\n",
      "C:\\Python39\\lib\\site-packages\\lightgbm\\basic.py:2068: UserWarning: categorical_feature in Dataset is overridden.\n",
      "New categorical_feature is ['education', 'marital.status', 'native.country', 'occupation', 'race', 'relationship', 'sex', 'workclass']\n",
      "  _log_warning('categorical_feature in Dataset is overridden.\\n'\n",
      "C:\\Python39\\lib\\site-packages\\lightgbm\\engine.py:239: UserWarning: 'verbose_eval' argument is deprecated and will be removed in a future release of LightGBM. Pass 'log_evaluation()' callback via 'callbacks' argument instead.\n",
      "  _log_warning(\"'verbose_eval' argument is deprecated and will be removed in a future release of LightGBM. \"\n",
      "C:\\Python39\\lib\\site-packages\\lightgbm\\basic.py:1780: UserWarning: Overriding the parameters from Reference Dataset.\n",
      "  _log_warning('Overriding the parameters from Reference Dataset.')\n",
      "C:\\Python39\\lib\\site-packages\\lightgbm\\basic.py:1513: UserWarning: categorical_column in param dict is overridden.\n",
      "  _log_warning(f'{cat_alias} in param dict is overridden.')\n"
     ]
    },
    {
     "name": "stdout",
     "output_type": "stream",
     "text": [
      "Training until validation scores don't improve for 100 rounds\n",
      "[50]\tvalid_0's auc: 0.900749\n",
      "[100]\tvalid_0's auc: 0.900713\n",
      "[150]\tvalid_0's auc: 0.903108\n",
      "[200]\tvalid_0's auc: 0.904378\n",
      "[250]\tvalid_0's auc: 0.905168\n",
      "[300]\tvalid_0's auc: 0.905642\n",
      "[350]\tvalid_0's auc: 0.905858\n",
      "[400]\tvalid_0's auc: 0.906033\n",
      "[450]\tvalid_0's auc: 0.906107\n",
      "[500]\tvalid_0's auc: 0.906149\n",
      "[550]\tvalid_0's auc: 0.906152\n"
     ]
    },
    {
     "name": "stderr",
     "output_type": "stream",
     "text": [
      "feature_fraction_stage2, val_score: 0.907002:  67%|#########################3            | 2/3 [00:02<00:01,  1.19s/it]"
     ]
    },
    {
     "name": "stdout",
     "output_type": "stream",
     "text": [
      "[600]\tvalid_0's auc: 0.906043\n",
      "Early stopping, best iteration is:\n",
      "[529]\tvalid_0's auc: 0.906202\n",
      "Training until validation scores don't improve for 100 rounds\n"
     ]
    },
    {
     "name": "stderr",
     "output_type": "stream",
     "text": [
      "C:\\Python39\\lib\\site-packages\\lightgbm\\engine.py:181: UserWarning: 'early_stopping_rounds' argument is deprecated and will be removed in a future release of LightGBM. Pass 'early_stopping()' callback via 'callbacks' argument instead.\n",
      "  _log_warning(\"'early_stopping_rounds' argument is deprecated and will be removed in a future release of LightGBM. \"\n",
      "C:\\Python39\\lib\\site-packages\\lightgbm\\basic.py:2068: UserWarning: categorical_feature in Dataset is overridden.\n",
      "New categorical_feature is ['education', 'marital.status', 'native.country', 'occupation', 'race', 'relationship', 'sex', 'workclass']\n",
      "  _log_warning('categorical_feature in Dataset is overridden.\\n'\n",
      "C:\\Python39\\lib\\site-packages\\lightgbm\\engine.py:239: UserWarning: 'verbose_eval' argument is deprecated and will be removed in a future release of LightGBM. Pass 'log_evaluation()' callback via 'callbacks' argument instead.\n",
      "  _log_warning(\"'verbose_eval' argument is deprecated and will be removed in a future release of LightGBM. \"\n",
      "C:\\Python39\\lib\\site-packages\\lightgbm\\basic.py:1780: UserWarning: Overriding the parameters from Reference Dataset.\n",
      "  _log_warning('Overriding the parameters from Reference Dataset.')\n",
      "C:\\Python39\\lib\\site-packages\\lightgbm\\basic.py:1513: UserWarning: categorical_column in param dict is overridden.\n",
      "  _log_warning(f'{cat_alias} in param dict is overridden.')\n"
     ]
    },
    {
     "name": "stdout",
     "output_type": "stream",
     "text": [
      "[50]\tvalid_0's auc: 0.900749\n",
      "[100]\tvalid_0's auc: 0.900713\n",
      "[150]\tvalid_0's auc: 0.903108\n",
      "[200]\tvalid_0's auc: 0.904378\n",
      "[250]\tvalid_0's auc: 0.905168\n",
      "[300]\tvalid_0's auc: 0.905642\n",
      "[350]\tvalid_0's auc: 0.905858\n",
      "[400]\tvalid_0's auc: 0.906033\n",
      "[450]\tvalid_0's auc: 0.906107\n",
      "[500]\tvalid_0's auc: 0.906149\n",
      "[550]\tvalid_0's auc: 0.906152\n"
     ]
    },
    {
     "name": "stderr",
     "output_type": "stream",
     "text": [
      "feature_fraction_stage2, val_score: 0.907002: 100%|######################################| 3/3 [00:03<00:00,  1.21s/it]\n"
     ]
    },
    {
     "name": "stdout",
     "output_type": "stream",
     "text": [
      "[600]\tvalid_0's auc: 0.906043\n",
      "Early stopping, best iteration is:\n",
      "[529]\tvalid_0's auc: 0.906202\n"
     ]
    },
    {
     "name": "stderr",
     "output_type": "stream",
     "text": [
      "regularization_factors, val_score: 0.907002:   0%|                                              | 0/20 [00:00<?, ?it/s]"
     ]
    },
    {
     "name": "stdout",
     "output_type": "stream",
     "text": [
      "Training until validation scores don't improve for 100 rounds\n"
     ]
    },
    {
     "name": "stderr",
     "output_type": "stream",
     "text": [
      "C:\\Python39\\lib\\site-packages\\lightgbm\\engine.py:181: UserWarning: 'early_stopping_rounds' argument is deprecated and will be removed in a future release of LightGBM. Pass 'early_stopping()' callback via 'callbacks' argument instead.\n",
      "  _log_warning(\"'early_stopping_rounds' argument is deprecated and will be removed in a future release of LightGBM. \"\n",
      "C:\\Python39\\lib\\site-packages\\lightgbm\\basic.py:2068: UserWarning: categorical_feature in Dataset is overridden.\n",
      "New categorical_feature is ['education', 'marital.status', 'native.country', 'occupation', 'race', 'relationship', 'sex', 'workclass']\n",
      "  _log_warning('categorical_feature in Dataset is overridden.\\n'\n",
      "C:\\Python39\\lib\\site-packages\\lightgbm\\engine.py:239: UserWarning: 'verbose_eval' argument is deprecated and will be removed in a future release of LightGBM. Pass 'log_evaluation()' callback via 'callbacks' argument instead.\n",
      "  _log_warning(\"'verbose_eval' argument is deprecated and will be removed in a future release of LightGBM. \"\n",
      "C:\\Python39\\lib\\site-packages\\lightgbm\\basic.py:1780: UserWarning: Overriding the parameters from Reference Dataset.\n",
      "  _log_warning('Overriding the parameters from Reference Dataset.')\n",
      "C:\\Python39\\lib\\site-packages\\lightgbm\\basic.py:1513: UserWarning: categorical_column in param dict is overridden.\n",
      "  _log_warning(f'{cat_alias} in param dict is overridden.')\n"
     ]
    },
    {
     "name": "stdout",
     "output_type": "stream",
     "text": [
      "[50]\tvalid_0's auc: 0.902153\n",
      "[100]\tvalid_0's auc: 0.903094\n",
      "[150]\tvalid_0's auc: 0.904194\n",
      "[200]\tvalid_0's auc: 0.905077\n",
      "[250]\tvalid_0's auc: 0.905889\n",
      "[300]\tvalid_0's auc: 0.906549\n",
      "[350]\tvalid_0's auc: 0.906803\n",
      "[400]\tvalid_0's auc: 0.906958\n",
      "[450]\tvalid_0's auc: 0.907051\n",
      "[500]\tvalid_0's auc: 0.907074\n",
      "[550]\tvalid_0's auc: 0.907061\n",
      "[600]\tvalid_0's auc: 0.907054\n",
      "Early stopping, best iteration is:\n",
      "[515]\tvalid_0's auc: 0.907142\n"
     ]
    },
    {
     "name": "stderr",
     "output_type": "stream",
     "text": [
      "regularization_factors, val_score: 0.907142:   5%|#9                                    | 1/20 [00:01<00:25,  1.35s/it]C:\\Python39\\lib\\site-packages\\lightgbm\\engine.py:181: UserWarning: 'early_stopping_rounds' argument is deprecated and will be removed in a future release of LightGBM. Pass 'early_stopping()' callback via 'callbacks' argument instead.\n",
      "  _log_warning(\"'early_stopping_rounds' argument is deprecated and will be removed in a future release of LightGBM. \"\n",
      "C:\\Python39\\lib\\site-packages\\lightgbm\\basic.py:2068: UserWarning: categorical_feature in Dataset is overridden.\n",
      "New categorical_feature is ['education', 'marital.status', 'native.country', 'occupation', 'race', 'relationship', 'sex', 'workclass']\n",
      "  _log_warning('categorical_feature in Dataset is overridden.\\n'\n",
      "C:\\Python39\\lib\\site-packages\\lightgbm\\engine.py:239: UserWarning: 'verbose_eval' argument is deprecated and will be removed in a future release of LightGBM. Pass 'log_evaluation()' callback via 'callbacks' argument instead.\n",
      "  _log_warning(\"'verbose_eval' argument is deprecated and will be removed in a future release of LightGBM. \"\n",
      "C:\\Python39\\lib\\site-packages\\lightgbm\\basic.py:1780: UserWarning: Overriding the parameters from Reference Dataset.\n",
      "  _log_warning('Overriding the parameters from Reference Dataset.')\n",
      "C:\\Python39\\lib\\site-packages\\lightgbm\\basic.py:1513: UserWarning: categorical_column in param dict is overridden.\n",
      "  _log_warning(f'{cat_alias} in param dict is overridden.')\n"
     ]
    },
    {
     "name": "stdout",
     "output_type": "stream",
     "text": [
      "Training until validation scores don't improve for 100 rounds\n",
      "[50]\tvalid_0's auc: 0.902044\n",
      "[100]\tvalid_0's auc: 0.902973\n",
      "[150]\tvalid_0's auc: 0.90412\n",
      "[200]\tvalid_0's auc: 0.904916\n",
      "[250]\tvalid_0's auc: 0.905793\n",
      "[300]\tvalid_0's auc: 0.906396\n",
      "[350]\tvalid_0's auc: 0.906641\n",
      "[400]\tvalid_0's auc: 0.906841\n",
      "[450]\tvalid_0's auc: 0.906996\n",
      "[500]\tvalid_0's auc: 0.906915\n",
      "Early stopping, best iteration is:\n",
      "[435]\tvalid_0's auc: 0.907005\n"
     ]
    },
    {
     "name": "stderr",
     "output_type": "stream",
     "text": [
      "regularization_factors, val_score: 0.907142:  10%|###8                                  | 2/20 [00:02<00:21,  1.17s/it]C:\\Python39\\lib\\site-packages\\lightgbm\\engine.py:181: UserWarning: 'early_stopping_rounds' argument is deprecated and will be removed in a future release of LightGBM. Pass 'early_stopping()' callback via 'callbacks' argument instead.\n",
      "  _log_warning(\"'early_stopping_rounds' argument is deprecated and will be removed in a future release of LightGBM. \"\n",
      "C:\\Python39\\lib\\site-packages\\lightgbm\\basic.py:2068: UserWarning: categorical_feature in Dataset is overridden.\n",
      "New categorical_feature is ['education', 'marital.status', 'native.country', 'occupation', 'race', 'relationship', 'sex', 'workclass']\n",
      "  _log_warning('categorical_feature in Dataset is overridden.\\n'\n",
      "C:\\Python39\\lib\\site-packages\\lightgbm\\engine.py:239: UserWarning: 'verbose_eval' argument is deprecated and will be removed in a future release of LightGBM. Pass 'log_evaluation()' callback via 'callbacks' argument instead.\n",
      "  _log_warning(\"'verbose_eval' argument is deprecated and will be removed in a future release of LightGBM. \"\n",
      "C:\\Python39\\lib\\site-packages\\lightgbm\\basic.py:1780: UserWarning: Overriding the parameters from Reference Dataset.\n",
      "  _log_warning('Overriding the parameters from Reference Dataset.')\n",
      "C:\\Python39\\lib\\site-packages\\lightgbm\\basic.py:1513: UserWarning: categorical_column in param dict is overridden.\n",
      "  _log_warning(f'{cat_alias} in param dict is overridden.')\n"
     ]
    },
    {
     "name": "stdout",
     "output_type": "stream",
     "text": [
      "Training until validation scores don't improve for 100 rounds\n",
      "[50]\tvalid_0's auc: 0.902184\n",
      "[100]\tvalid_0's auc: 0.90306\n",
      "[150]\tvalid_0's auc: 0.904222\n",
      "[200]\tvalid_0's auc: 0.905062\n",
      "[250]\tvalid_0's auc: 0.905838\n",
      "[300]\tvalid_0's auc: 0.906433\n",
      "[350]\tvalid_0's auc: 0.90669\n",
      "[400]\tvalid_0's auc: 0.906914\n",
      "[450]\tvalid_0's auc: 0.906934\n",
      "[500]\tvalid_0's auc: 0.907007\n"
     ]
    },
    {
     "name": "stderr",
     "output_type": "stream",
     "text": [
      "regularization_factors, val_score: 0.907142:  15%|#####7                                | 3/20 [00:03<00:21,  1.24s/it]"
     ]
    },
    {
     "name": "stdout",
     "output_type": "stream",
     "text": [
      "[550]\tvalid_0's auc: 0.906987\n",
      "[600]\tvalid_0's auc: 0.906864\n",
      "Early stopping, best iteration is:\n",
      "[517]\tvalid_0's auc: 0.907034\n"
     ]
    },
    {
     "name": "stderr",
     "output_type": "stream",
     "text": [
      "C:\\Python39\\lib\\site-packages\\lightgbm\\engine.py:181: UserWarning: 'early_stopping_rounds' argument is deprecated and will be removed in a future release of LightGBM. Pass 'early_stopping()' callback via 'callbacks' argument instead.\n",
      "  _log_warning(\"'early_stopping_rounds' argument is deprecated and will be removed in a future release of LightGBM. \"\n",
      "C:\\Python39\\lib\\site-packages\\lightgbm\\basic.py:2068: UserWarning: categorical_feature in Dataset is overridden.\n",
      "New categorical_feature is ['education', 'marital.status', 'native.country', 'occupation', 'race', 'relationship', 'sex', 'workclass']\n",
      "  _log_warning('categorical_feature in Dataset is overridden.\\n'\n",
      "C:\\Python39\\lib\\site-packages\\lightgbm\\engine.py:239: UserWarning: 'verbose_eval' argument is deprecated and will be removed in a future release of LightGBM. Pass 'log_evaluation()' callback via 'callbacks' argument instead.\n",
      "  _log_warning(\"'verbose_eval' argument is deprecated and will be removed in a future release of LightGBM. \"\n",
      "C:\\Python39\\lib\\site-packages\\lightgbm\\basic.py:1780: UserWarning: Overriding the parameters from Reference Dataset.\n",
      "  _log_warning('Overriding the parameters from Reference Dataset.')\n",
      "C:\\Python39\\lib\\site-packages\\lightgbm\\basic.py:1513: UserWarning: categorical_column in param dict is overridden.\n",
      "  _log_warning(f'{cat_alias} in param dict is overridden.')\n"
     ]
    },
    {
     "name": "stdout",
     "output_type": "stream",
     "text": [
      "Training until validation scores don't improve for 100 rounds\n",
      "[50]\tvalid_0's auc: 0.902065\n",
      "[100]\tvalid_0's auc: 0.903023\n",
      "[150]\tvalid_0's auc: 0.904165\n",
      "[200]\tvalid_0's auc: 0.905017\n",
      "[250]\tvalid_0's auc: 0.905803\n",
      "[300]\tvalid_0's auc: 0.906362\n",
      "[350]\tvalid_0's auc: 0.906565\n",
      "[400]\tvalid_0's auc: 0.906747\n",
      "[450]\tvalid_0's auc: 0.906808\n",
      "[500]\tvalid_0's auc: 0.90685\n"
     ]
    },
    {
     "name": "stderr",
     "output_type": "stream",
     "text": [
      "regularization_factors, val_score: 0.907142:  20%|#######6                              | 4/20 [00:05<00:20,  1.26s/it]"
     ]
    },
    {
     "name": "stdout",
     "output_type": "stream",
     "text": [
      "[550]\tvalid_0's auc: 0.906833\n",
      "[600]\tvalid_0's auc: 0.906756\n",
      "Early stopping, best iteration is:\n",
      "[505]\tvalid_0's auc: 0.906912\n"
     ]
    },
    {
     "name": "stderr",
     "output_type": "stream",
     "text": [
      "C:\\Python39\\lib\\site-packages\\lightgbm\\engine.py:181: UserWarning: 'early_stopping_rounds' argument is deprecated and will be removed in a future release of LightGBM. Pass 'early_stopping()' callback via 'callbacks' argument instead.\n",
      "  _log_warning(\"'early_stopping_rounds' argument is deprecated and will be removed in a future release of LightGBM. \"\n",
      "C:\\Python39\\lib\\site-packages\\lightgbm\\basic.py:2068: UserWarning: categorical_feature in Dataset is overridden.\n",
      "New categorical_feature is ['education', 'marital.status', 'native.country', 'occupation', 'race', 'relationship', 'sex', 'workclass']\n",
      "  _log_warning('categorical_feature in Dataset is overridden.\\n'\n",
      "C:\\Python39\\lib\\site-packages\\lightgbm\\engine.py:239: UserWarning: 'verbose_eval' argument is deprecated and will be removed in a future release of LightGBM. Pass 'log_evaluation()' callback via 'callbacks' argument instead.\n",
      "  _log_warning(\"'verbose_eval' argument is deprecated and will be removed in a future release of LightGBM. \"\n",
      "C:\\Python39\\lib\\site-packages\\lightgbm\\basic.py:1780: UserWarning: Overriding the parameters from Reference Dataset.\n",
      "  _log_warning('Overriding the parameters from Reference Dataset.')\n",
      "C:\\Python39\\lib\\site-packages\\lightgbm\\basic.py:1513: UserWarning: categorical_column in param dict is overridden.\n",
      "  _log_warning(f'{cat_alias} in param dict is overridden.')\n"
     ]
    },
    {
     "name": "stdout",
     "output_type": "stream",
     "text": [
      "Training until validation scores don't improve for 100 rounds\n",
      "[50]\tvalid_0's auc: 0.902184\n",
      "[100]\tvalid_0's auc: 0.90306\n",
      "[150]\tvalid_0's auc: 0.904219\n",
      "[200]\tvalid_0's auc: 0.905061\n",
      "[250]\tvalid_0's auc: 0.905868\n",
      "[300]\tvalid_0's auc: 0.906438\n",
      "[350]\tvalid_0's auc: 0.9067\n",
      "[400]\tvalid_0's auc: 0.906915\n"
     ]
    },
    {
     "name": "stderr",
     "output_type": "stream",
     "text": [
      "regularization_factors, val_score: 0.907142:  25%|#########5                            | 5/20 [00:06<00:17,  1.20s/it]"
     ]
    },
    {
     "name": "stdout",
     "output_type": "stream",
     "text": [
      "[450]\tvalid_0's auc: 0.906915\n",
      "[500]\tvalid_0's auc: 0.906865\n",
      "Early stopping, best iteration is:\n",
      "[441]\tvalid_0's auc: 0.907002\n"
     ]
    },
    {
     "name": "stderr",
     "output_type": "stream",
     "text": [
      "regularization_factors, val_score: 0.907142:  25%|#########5                            | 5/20 [00:06<00:17,  1.20s/it]C:\\Python39\\lib\\site-packages\\lightgbm\\engine.py:181: UserWarning: 'early_stopping_rounds' argument is deprecated and will be removed in a future release of LightGBM. Pass 'early_stopping()' callback via 'callbacks' argument instead.\n",
      "  _log_warning(\"'early_stopping_rounds' argument is deprecated and will be removed in a future release of LightGBM. \"\n",
      "C:\\Python39\\lib\\site-packages\\lightgbm\\basic.py:2068: UserWarning: categorical_feature in Dataset is overridden.\n",
      "New categorical_feature is ['education', 'marital.status', 'native.country', 'occupation', 'race', 'relationship', 'sex', 'workclass']\n",
      "  _log_warning('categorical_feature in Dataset is overridden.\\n'\n",
      "C:\\Python39\\lib\\site-packages\\lightgbm\\engine.py:239: UserWarning: 'verbose_eval' argument is deprecated and will be removed in a future release of LightGBM. Pass 'log_evaluation()' callback via 'callbacks' argument instead.\n",
      "  _log_warning(\"'verbose_eval' argument is deprecated and will be removed in a future release of LightGBM. \"\n",
      "C:\\Python39\\lib\\site-packages\\lightgbm\\basic.py:1780: UserWarning: Overriding the parameters from Reference Dataset.\n",
      "  _log_warning('Overriding the parameters from Reference Dataset.')\n",
      "C:\\Python39\\lib\\site-packages\\lightgbm\\basic.py:1513: UserWarning: categorical_column in param dict is overridden.\n",
      "  _log_warning(f'{cat_alias} in param dict is overridden.')\n"
     ]
    },
    {
     "name": "stdout",
     "output_type": "stream",
     "text": [
      "Training until validation scores don't improve for 100 rounds\n",
      "[50]\tvalid_0's auc: 0.902181\n",
      "[100]\tvalid_0's auc: 0.903067\n",
      "[150]\tvalid_0's auc: 0.904165\n",
      "[200]\tvalid_0's auc: 0.905013\n",
      "[250]\tvalid_0's auc: 0.905758\n",
      "[300]\tvalid_0's auc: 0.906299\n",
      "[350]\tvalid_0's auc: 0.906603\n",
      "[400]\tvalid_0's auc: 0.906807\n"
     ]
    },
    {
     "name": "stderr",
     "output_type": "stream",
     "text": [
      "regularization_factors, val_score: 0.907142:  30%|###########4                          | 6/20 [00:07<00:16,  1.15s/it]"
     ]
    },
    {
     "name": "stdout",
     "output_type": "stream",
     "text": [
      "[450]\tvalid_0's auc: 0.906841\n",
      "[500]\tvalid_0's auc: 0.906706\n",
      "Early stopping, best iteration is:\n",
      "[435]\tvalid_0's auc: 0.906901\n"
     ]
    },
    {
     "name": "stderr",
     "output_type": "stream",
     "text": [
      "C:\\Python39\\lib\\site-packages\\lightgbm\\engine.py:181: UserWarning: 'early_stopping_rounds' argument is deprecated and will be removed in a future release of LightGBM. Pass 'early_stopping()' callback via 'callbacks' argument instead.\n",
      "  _log_warning(\"'early_stopping_rounds' argument is deprecated and will be removed in a future release of LightGBM. \"\n",
      "C:\\Python39\\lib\\site-packages\\lightgbm\\basic.py:2068: UserWarning: categorical_feature in Dataset is overridden.\n",
      "New categorical_feature is ['education', 'marital.status', 'native.country', 'occupation', 'race', 'relationship', 'sex', 'workclass']\n",
      "  _log_warning('categorical_feature in Dataset is overridden.\\n'\n",
      "C:\\Python39\\lib\\site-packages\\lightgbm\\engine.py:239: UserWarning: 'verbose_eval' argument is deprecated and will be removed in a future release of LightGBM. Pass 'log_evaluation()' callback via 'callbacks' argument instead.\n",
      "  _log_warning(\"'verbose_eval' argument is deprecated and will be removed in a future release of LightGBM. \"\n",
      "C:\\Python39\\lib\\site-packages\\lightgbm\\basic.py:1780: UserWarning: Overriding the parameters from Reference Dataset.\n",
      "  _log_warning('Overriding the parameters from Reference Dataset.')\n",
      "C:\\Python39\\lib\\site-packages\\lightgbm\\basic.py:1513: UserWarning: categorical_column in param dict is overridden.\n",
      "  _log_warning(f'{cat_alias} in param dict is overridden.')\n"
     ]
    },
    {
     "name": "stdout",
     "output_type": "stream",
     "text": [
      "Training until validation scores don't improve for 100 rounds\n",
      "[50]\tvalid_0's auc: 0.902184\n",
      "[100]\tvalid_0's auc: 0.90306\n",
      "[150]\tvalid_0's auc: 0.904219\n",
      "[200]\tvalid_0's auc: 0.905061\n",
      "[250]\tvalid_0's auc: 0.905868\n",
      "[300]\tvalid_0's auc: 0.906438\n",
      "[350]\tvalid_0's auc: 0.9067\n",
      "[400]\tvalid_0's auc: 0.906915\n",
      "[450]\tvalid_0's auc: 0.906915\n",
      "[500]\tvalid_0's auc: 0.906865\n",
      "Early stopping, best iteration is:\n",
      "[441]\tvalid_0's auc: 0.907001\n"
     ]
    },
    {
     "name": "stderr",
     "output_type": "stream",
     "text": [
      "regularization_factors, val_score: 0.907142:  35%|#############3                        | 7/20 [00:08<00:15,  1.18s/it]C:\\Python39\\lib\\site-packages\\lightgbm\\engine.py:181: UserWarning: 'early_stopping_rounds' argument is deprecated and will be removed in a future release of LightGBM. Pass 'early_stopping()' callback via 'callbacks' argument instead.\n",
      "  _log_warning(\"'early_stopping_rounds' argument is deprecated and will be removed in a future release of LightGBM. \"\n",
      "C:\\Python39\\lib\\site-packages\\lightgbm\\basic.py:2068: UserWarning: categorical_feature in Dataset is overridden.\n",
      "New categorical_feature is ['education', 'marital.status', 'native.country', 'occupation', 'race', 'relationship', 'sex', 'workclass']\n",
      "  _log_warning('categorical_feature in Dataset is overridden.\\n'\n",
      "C:\\Python39\\lib\\site-packages\\lightgbm\\engine.py:239: UserWarning: 'verbose_eval' argument is deprecated and will be removed in a future release of LightGBM. Pass 'log_evaluation()' callback via 'callbacks' argument instead.\n",
      "  _log_warning(\"'verbose_eval' argument is deprecated and will be removed in a future release of LightGBM. \"\n",
      "C:\\Python39\\lib\\site-packages\\lightgbm\\basic.py:1780: UserWarning: Overriding the parameters from Reference Dataset.\n",
      "  _log_warning('Overriding the parameters from Reference Dataset.')\n",
      "C:\\Python39\\lib\\site-packages\\lightgbm\\basic.py:1513: UserWarning: categorical_column in param dict is overridden.\n",
      "  _log_warning(f'{cat_alias} in param dict is overridden.')\n"
     ]
    },
    {
     "name": "stdout",
     "output_type": "stream",
     "text": [
      "Training until validation scores don't improve for 100 rounds\n",
      "[50]\tvalid_0's auc: 0.90201\n",
      "[100]\tvalid_0's auc: 0.903007\n",
      "[150]\tvalid_0's auc: 0.90407\n",
      "[200]\tvalid_0's auc: 0.904939\n",
      "[250]\tvalid_0's auc: 0.905749\n",
      "[300]\tvalid_0's auc: 0.906317\n",
      "[350]\tvalid_0's auc: 0.906607\n",
      "[400]\tvalid_0's auc: 0.906705\n",
      "[450]\tvalid_0's auc: 0.906755\n",
      "[500]\tvalid_0's auc: 0.906784\n",
      "[550]\tvalid_0's auc: 0.906839\n"
     ]
    },
    {
     "name": "stderr",
     "output_type": "stream",
     "text": [
      "regularization_factors, val_score: 0.907142:  40%|###############2                      | 8/20 [00:09<00:14,  1.23s/it]"
     ]
    },
    {
     "name": "stdout",
     "output_type": "stream",
     "text": [
      "[600]\tvalid_0's auc: 0.90685\n",
      "[650]\tvalid_0's auc: 0.906728\n",
      "Early stopping, best iteration is:\n",
      "[554]\tvalid_0's auc: 0.906877\n"
     ]
    },
    {
     "name": "stderr",
     "output_type": "stream",
     "text": [
      "C:\\Python39\\lib\\site-packages\\lightgbm\\engine.py:181: UserWarning: 'early_stopping_rounds' argument is deprecated and will be removed in a future release of LightGBM. Pass 'early_stopping()' callback via 'callbacks' argument instead.\n",
      "  _log_warning(\"'early_stopping_rounds' argument is deprecated and will be removed in a future release of LightGBM. \"\n",
      "C:\\Python39\\lib\\site-packages\\lightgbm\\basic.py:2068: UserWarning: categorical_feature in Dataset is overridden.\n",
      "New categorical_feature is ['education', 'marital.status', 'native.country', 'occupation', 'race', 'relationship', 'sex', 'workclass']\n",
      "  _log_warning('categorical_feature in Dataset is overridden.\\n'\n",
      "C:\\Python39\\lib\\site-packages\\lightgbm\\engine.py:239: UserWarning: 'verbose_eval' argument is deprecated and will be removed in a future release of LightGBM. Pass 'log_evaluation()' callback via 'callbacks' argument instead.\n",
      "  _log_warning(\"'verbose_eval' argument is deprecated and will be removed in a future release of LightGBM. \"\n",
      "C:\\Python39\\lib\\site-packages\\lightgbm\\basic.py:1780: UserWarning: Overriding the parameters from Reference Dataset.\n",
      "  _log_warning('Overriding the parameters from Reference Dataset.')\n",
      "C:\\Python39\\lib\\site-packages\\lightgbm\\basic.py:1513: UserWarning: categorical_column in param dict is overridden.\n",
      "  _log_warning(f'{cat_alias} in param dict is overridden.')\n"
     ]
    },
    {
     "name": "stdout",
     "output_type": "stream",
     "text": [
      "Training until validation scores don't improve for 100 rounds\n",
      "[50]\tvalid_0's auc: 0.902184\n",
      "[100]\tvalid_0's auc: 0.90306\n",
      "[150]\tvalid_0's auc: 0.904219\n",
      "[200]\tvalid_0's auc: 0.905061\n",
      "[250]\tvalid_0's auc: 0.905868\n",
      "[300]\tvalid_0's auc: 0.906438\n",
      "[350]\tvalid_0's auc: 0.9067\n",
      "[400]\tvalid_0's auc: 0.906915\n",
      "[450]\tvalid_0's auc: 0.906915\n",
      "[500]\tvalid_0's auc: 0.906865\n",
      "Early stopping, best iteration is:\n",
      "[441]\tvalid_0's auc: 0.907001\n"
     ]
    },
    {
     "name": "stderr",
     "output_type": "stream",
     "text": [
      "regularization_factors, val_score: 0.907142:  45%|#################1                    | 9/20 [00:10<00:13,  1.21s/it]C:\\Python39\\lib\\site-packages\\lightgbm\\engine.py:181: UserWarning: 'early_stopping_rounds' argument is deprecated and will be removed in a future release of LightGBM. Pass 'early_stopping()' callback via 'callbacks' argument instead.\n",
      "  _log_warning(\"'early_stopping_rounds' argument is deprecated and will be removed in a future release of LightGBM. \"\n",
      "C:\\Python39\\lib\\site-packages\\lightgbm\\basic.py:2068: UserWarning: categorical_feature in Dataset is overridden.\n",
      "New categorical_feature is ['education', 'marital.status', 'native.country', 'occupation', 'race', 'relationship', 'sex', 'workclass']\n",
      "  _log_warning('categorical_feature in Dataset is overridden.\\n'\n",
      "C:\\Python39\\lib\\site-packages\\lightgbm\\engine.py:239: UserWarning: 'verbose_eval' argument is deprecated and will be removed in a future release of LightGBM. Pass 'log_evaluation()' callback via 'callbacks' argument instead.\n",
      "  _log_warning(\"'verbose_eval' argument is deprecated and will be removed in a future release of LightGBM. \"\n",
      "C:\\Python39\\lib\\site-packages\\lightgbm\\basic.py:1780: UserWarning: Overriding the parameters from Reference Dataset.\n",
      "  _log_warning('Overriding the parameters from Reference Dataset.')\n",
      "C:\\Python39\\lib\\site-packages\\lightgbm\\basic.py:1513: UserWarning: categorical_column in param dict is overridden.\n",
      "  _log_warning(f'{cat_alias} in param dict is overridden.')\n"
     ]
    },
    {
     "name": "stdout",
     "output_type": "stream",
     "text": [
      "Training until validation scores don't improve for 100 rounds\n",
      "[50]\tvalid_0's auc: 0.902184\n",
      "[100]\tvalid_0's auc: 0.903059\n",
      "[150]\tvalid_0's auc: 0.904225\n",
      "[200]\tvalid_0's auc: 0.905055\n",
      "[250]\tvalid_0's auc: 0.905847\n",
      "[300]\tvalid_0's auc: 0.906384\n",
      "[350]\tvalid_0's auc: 0.906596\n",
      "[400]\tvalid_0's auc: 0.906824\n",
      "[450]\tvalid_0's auc: 0.906861\n",
      "[500]\tvalid_0's auc: 0.906851\n",
      "Early stopping, best iteration is:\n",
      "[441]\tvalid_0's auc: 0.906914\n"
     ]
    },
    {
     "name": "stderr",
     "output_type": "stream",
     "text": [
      "regularization_factors, val_score: 0.907142:  50%|##################5                  | 10/20 [00:12<00:13,  1.31s/it]C:\\Python39\\lib\\site-packages\\lightgbm\\engine.py:181: UserWarning: 'early_stopping_rounds' argument is deprecated and will be removed in a future release of LightGBM. Pass 'early_stopping()' callback via 'callbacks' argument instead.\n",
      "  _log_warning(\"'early_stopping_rounds' argument is deprecated and will be removed in a future release of LightGBM. \"\n",
      "C:\\Python39\\lib\\site-packages\\lightgbm\\basic.py:2068: UserWarning: categorical_feature in Dataset is overridden.\n",
      "New categorical_feature is ['education', 'marital.status', 'native.country', 'occupation', 'race', 'relationship', 'sex', 'workclass']\n",
      "  _log_warning('categorical_feature in Dataset is overridden.\\n'\n",
      "C:\\Python39\\lib\\site-packages\\lightgbm\\engine.py:239: UserWarning: 'verbose_eval' argument is deprecated and will be removed in a future release of LightGBM. Pass 'log_evaluation()' callback via 'callbacks' argument instead.\n",
      "  _log_warning(\"'verbose_eval' argument is deprecated and will be removed in a future release of LightGBM. \"\n",
      "C:\\Python39\\lib\\site-packages\\lightgbm\\basic.py:1780: UserWarning: Overriding the parameters from Reference Dataset.\n",
      "  _log_warning('Overriding the parameters from Reference Dataset.')\n",
      "C:\\Python39\\lib\\site-packages\\lightgbm\\basic.py:1513: UserWarning: categorical_column in param dict is overridden.\n",
      "  _log_warning(f'{cat_alias} in param dict is overridden.')\n"
     ]
    },
    {
     "name": "stdout",
     "output_type": "stream",
     "text": [
      "Training until validation scores don't improve for 100 rounds\n",
      "[50]\tvalid_0's auc: 0.901957\n",
      "[100]\tvalid_0's auc: 0.903048\n",
      "[150]\tvalid_0's auc: 0.904036\n",
      "[200]\tvalid_0's auc: 0.904837\n",
      "[250]\tvalid_0's auc: 0.905736\n",
      "[300]\tvalid_0's auc: 0.90641\n",
      "[350]\tvalid_0's auc: 0.906694\n",
      "[400]\tvalid_0's auc: 0.90685\n",
      "[450]\tvalid_0's auc: 0.906933\n",
      "[500]\tvalid_0's auc: 0.906966\n",
      "[550]\tvalid_0's auc: 0.906957\n"
     ]
    },
    {
     "name": "stderr",
     "output_type": "stream",
     "text": [
      "regularization_factors, val_score: 0.907142:  55%|####################3                | 11/20 [00:13<00:11,  1.30s/it]"
     ]
    },
    {
     "name": "stdout",
     "output_type": "stream",
     "text": [
      "[600]\tvalid_0's auc: 0.906959\n",
      "Early stopping, best iteration is:\n",
      "[522]\tvalid_0's auc: 0.907019\n",
      "Training until validation scores don't improve for 100 rounds\n"
     ]
    },
    {
     "name": "stderr",
     "output_type": "stream",
     "text": [
      "C:\\Python39\\lib\\site-packages\\lightgbm\\engine.py:181: UserWarning: 'early_stopping_rounds' argument is deprecated and will be removed in a future release of LightGBM. Pass 'early_stopping()' callback via 'callbacks' argument instead.\n",
      "  _log_warning(\"'early_stopping_rounds' argument is deprecated and will be removed in a future release of LightGBM. \"\n",
      "C:\\Python39\\lib\\site-packages\\lightgbm\\basic.py:2068: UserWarning: categorical_feature in Dataset is overridden.\n",
      "New categorical_feature is ['education', 'marital.status', 'native.country', 'occupation', 'race', 'relationship', 'sex', 'workclass']\n",
      "  _log_warning('categorical_feature in Dataset is overridden.\\n'\n",
      "C:\\Python39\\lib\\site-packages\\lightgbm\\engine.py:239: UserWarning: 'verbose_eval' argument is deprecated and will be removed in a future release of LightGBM. Pass 'log_evaluation()' callback via 'callbacks' argument instead.\n",
      "  _log_warning(\"'verbose_eval' argument is deprecated and will be removed in a future release of LightGBM. \"\n",
      "C:\\Python39\\lib\\site-packages\\lightgbm\\basic.py:1780: UserWarning: Overriding the parameters from Reference Dataset.\n",
      "  _log_warning('Overriding the parameters from Reference Dataset.')\n",
      "C:\\Python39\\lib\\site-packages\\lightgbm\\basic.py:1513: UserWarning: categorical_column in param dict is overridden.\n",
      "  _log_warning(f'{cat_alias} in param dict is overridden.')\n"
     ]
    },
    {
     "name": "stdout",
     "output_type": "stream",
     "text": [
      "[50]\tvalid_0's auc: 0.902181\n",
      "[100]\tvalid_0's auc: 0.903074\n",
      "[150]\tvalid_0's auc: 0.904177\n",
      "[200]\tvalid_0's auc: 0.905032\n",
      "[250]\tvalid_0's auc: 0.90584\n",
      "[300]\tvalid_0's auc: 0.906377\n",
      "[350]\tvalid_0's auc: 0.906723\n",
      "[400]\tvalid_0's auc: 0.906912\n",
      "[450]\tvalid_0's auc: 0.906949\n",
      "[500]\tvalid_0's auc: 0.906916\n",
      "[550]\tvalid_0's auc: 0.906916\n",
      "[600]\tvalid_0's auc: 0.906862\n",
      "Early stopping, best iteration is:\n",
      "[513]\tvalid_0's auc: 0.907012\n"
     ]
    },
    {
     "name": "stderr",
     "output_type": "stream",
     "text": [
      "regularization_factors, val_score: 0.907142:  60%|######################2              | 12/20 [00:14<00:10,  1.29s/it]C:\\Python39\\lib\\site-packages\\lightgbm\\engine.py:181: UserWarning: 'early_stopping_rounds' argument is deprecated and will be removed in a future release of LightGBM. Pass 'early_stopping()' callback via 'callbacks' argument instead.\n",
      "  _log_warning(\"'early_stopping_rounds' argument is deprecated and will be removed in a future release of LightGBM. \"\n",
      "C:\\Python39\\lib\\site-packages\\lightgbm\\basic.py:2068: UserWarning: categorical_feature in Dataset is overridden.\n",
      "New categorical_feature is ['education', 'marital.status', 'native.country', 'occupation', 'race', 'relationship', 'sex', 'workclass']\n",
      "  _log_warning('categorical_feature in Dataset is overridden.\\n'\n",
      "C:\\Python39\\lib\\site-packages\\lightgbm\\engine.py:239: UserWarning: 'verbose_eval' argument is deprecated and will be removed in a future release of LightGBM. Pass 'log_evaluation()' callback via 'callbacks' argument instead.\n",
      "  _log_warning(\"'verbose_eval' argument is deprecated and will be removed in a future release of LightGBM. \"\n",
      "C:\\Python39\\lib\\site-packages\\lightgbm\\basic.py:1780: UserWarning: Overriding the parameters from Reference Dataset.\n",
      "  _log_warning('Overriding the parameters from Reference Dataset.')\n",
      "C:\\Python39\\lib\\site-packages\\lightgbm\\basic.py:1513: UserWarning: categorical_column in param dict is overridden.\n",
      "  _log_warning(f'{cat_alias} in param dict is overridden.')\n"
     ]
    },
    {
     "name": "stdout",
     "output_type": "stream",
     "text": [
      "Training until validation scores don't improve for 100 rounds\n",
      "[50]\tvalid_0's auc: 0.902159\n",
      "[100]\tvalid_0's auc: 0.903048\n",
      "[150]\tvalid_0's auc: 0.904141\n",
      "[200]\tvalid_0's auc: 0.905012\n",
      "[250]\tvalid_0's auc: 0.905858\n",
      "[300]\tvalid_0's auc: 0.906422\n",
      "[350]\tvalid_0's auc: 0.906727\n",
      "[400]\tvalid_0's auc: 0.906945\n",
      "[450]\tvalid_0's auc: 0.907051\n",
      "[500]\tvalid_0's auc: 0.907062\n",
      "[550]\tvalid_0's auc: 0.907056\n"
     ]
    },
    {
     "name": "stderr",
     "output_type": "stream",
     "text": [
      "regularization_factors, val_score: 0.907142:  65%|########################             | 13/20 [00:16<00:09,  1.30s/it]"
     ]
    },
    {
     "name": "stdout",
     "output_type": "stream",
     "text": [
      "[600]\tvalid_0's auc: 0.907018\n",
      "Early stopping, best iteration is:\n",
      "[505]\tvalid_0's auc: 0.907106\n",
      "Training until validation scores don't improve for 100 rounds\n"
     ]
    },
    {
     "name": "stderr",
     "output_type": "stream",
     "text": [
      "C:\\Python39\\lib\\site-packages\\lightgbm\\engine.py:181: UserWarning: 'early_stopping_rounds' argument is deprecated and will be removed in a future release of LightGBM. Pass 'early_stopping()' callback via 'callbacks' argument instead.\n",
      "  _log_warning(\"'early_stopping_rounds' argument is deprecated and will be removed in a future release of LightGBM. \"\n",
      "C:\\Python39\\lib\\site-packages\\lightgbm\\basic.py:2068: UserWarning: categorical_feature in Dataset is overridden.\n",
      "New categorical_feature is ['education', 'marital.status', 'native.country', 'occupation', 'race', 'relationship', 'sex', 'workclass']\n",
      "  _log_warning('categorical_feature in Dataset is overridden.\\n'\n",
      "C:\\Python39\\lib\\site-packages\\lightgbm\\engine.py:239: UserWarning: 'verbose_eval' argument is deprecated and will be removed in a future release of LightGBM. Pass 'log_evaluation()' callback via 'callbacks' argument instead.\n",
      "  _log_warning(\"'verbose_eval' argument is deprecated and will be removed in a future release of LightGBM. \"\n",
      "C:\\Python39\\lib\\site-packages\\lightgbm\\basic.py:1780: UserWarning: Overriding the parameters from Reference Dataset.\n",
      "  _log_warning('Overriding the parameters from Reference Dataset.')\n",
      "C:\\Python39\\lib\\site-packages\\lightgbm\\basic.py:1513: UserWarning: categorical_column in param dict is overridden.\n",
      "  _log_warning(f'{cat_alias} in param dict is overridden.')\n"
     ]
    },
    {
     "name": "stdout",
     "output_type": "stream",
     "text": [
      "[50]\tvalid_0's auc: 0.902207\n",
      "[100]\tvalid_0's auc: 0.903111\n",
      "[150]\tvalid_0's auc: 0.904195\n",
      "[200]\tvalid_0's auc: 0.905019\n",
      "[250]\tvalid_0's auc: 0.905734\n",
      "[300]\tvalid_0's auc: 0.90631\n",
      "[350]\tvalid_0's auc: 0.906567\n",
      "[400]\tvalid_0's auc: 0.906791\n",
      "[450]\tvalid_0's auc: 0.906878\n"
     ]
    },
    {
     "name": "stderr",
     "output_type": "stream",
     "text": [
      "regularization_factors, val_score: 0.907142:  70%|#########################9           | 14/20 [00:17<00:07,  1.33s/it]"
     ]
    },
    {
     "name": "stdout",
     "output_type": "stream",
     "text": [
      "[500]\tvalid_0's auc: 0.906814\n",
      "Early stopping, best iteration is:\n",
      "[437]\tvalid_0's auc: 0.906945\n",
      "Training until validation scores don't improve for 100 rounds\n"
     ]
    },
    {
     "name": "stderr",
     "output_type": "stream",
     "text": [
      "C:\\Python39\\lib\\site-packages\\lightgbm\\engine.py:181: UserWarning: 'early_stopping_rounds' argument is deprecated and will be removed in a future release of LightGBM. Pass 'early_stopping()' callback via 'callbacks' argument instead.\n",
      "  _log_warning(\"'early_stopping_rounds' argument is deprecated and will be removed in a future release of LightGBM. \"\n",
      "C:\\Python39\\lib\\site-packages\\lightgbm\\basic.py:2068: UserWarning: categorical_feature in Dataset is overridden.\n",
      "New categorical_feature is ['education', 'marital.status', 'native.country', 'occupation', 'race', 'relationship', 'sex', 'workclass']\n",
      "  _log_warning('categorical_feature in Dataset is overridden.\\n'\n",
      "C:\\Python39\\lib\\site-packages\\lightgbm\\engine.py:239: UserWarning: 'verbose_eval' argument is deprecated and will be removed in a future release of LightGBM. Pass 'log_evaluation()' callback via 'callbacks' argument instead.\n",
      "  _log_warning(\"'verbose_eval' argument is deprecated and will be removed in a future release of LightGBM. \"\n",
      "C:\\Python39\\lib\\site-packages\\lightgbm\\basic.py:1780: UserWarning: Overriding the parameters from Reference Dataset.\n",
      "  _log_warning('Overriding the parameters from Reference Dataset.')\n",
      "C:\\Python39\\lib\\site-packages\\lightgbm\\basic.py:1513: UserWarning: categorical_column in param dict is overridden.\n",
      "  _log_warning(f'{cat_alias} in param dict is overridden.')\n"
     ]
    },
    {
     "name": "stdout",
     "output_type": "stream",
     "text": [
      "[50]\tvalid_0's auc: 0.90218\n",
      "[100]\tvalid_0's auc: 0.903116\n",
      "[150]\tvalid_0's auc: 0.904261\n",
      "[200]\tvalid_0's auc: 0.905097\n",
      "[250]\tvalid_0's auc: 0.905891\n",
      "[300]\tvalid_0's auc: 0.906485\n",
      "[350]\tvalid_0's auc: 0.906656\n",
      "[400]\tvalid_0's auc: 0.906894\n",
      "[450]\tvalid_0's auc: 0.906963\n"
     ]
    },
    {
     "name": "stderr",
     "output_type": "stream",
     "text": [
      "regularization_factors, val_score: 0.907142:  75%|###########################7         | 15/20 [00:18<00:06,  1.26s/it]"
     ]
    },
    {
     "name": "stdout",
     "output_type": "stream",
     "text": [
      "[500]\tvalid_0's auc: 0.906939\n",
      "Early stopping, best iteration is:\n",
      "[441]\tvalid_0's auc: 0.907017\n",
      "Training until validation scores don't improve for 100 rounds\n"
     ]
    },
    {
     "name": "stderr",
     "output_type": "stream",
     "text": [
      "C:\\Python39\\lib\\site-packages\\lightgbm\\engine.py:181: UserWarning: 'early_stopping_rounds' argument is deprecated and will be removed in a future release of LightGBM. Pass 'early_stopping()' callback via 'callbacks' argument instead.\n",
      "  _log_warning(\"'early_stopping_rounds' argument is deprecated and will be removed in a future release of LightGBM. \"\n",
      "C:\\Python39\\lib\\site-packages\\lightgbm\\basic.py:2068: UserWarning: categorical_feature in Dataset is overridden.\n",
      "New categorical_feature is ['education', 'marital.status', 'native.country', 'occupation', 'race', 'relationship', 'sex', 'workclass']\n",
      "  _log_warning('categorical_feature in Dataset is overridden.\\n'\n",
      "C:\\Python39\\lib\\site-packages\\lightgbm\\engine.py:239: UserWarning: 'verbose_eval' argument is deprecated and will be removed in a future release of LightGBM. Pass 'log_evaluation()' callback via 'callbacks' argument instead.\n",
      "  _log_warning(\"'verbose_eval' argument is deprecated and will be removed in a future release of LightGBM. \"\n",
      "C:\\Python39\\lib\\site-packages\\lightgbm\\basic.py:1780: UserWarning: Overriding the parameters from Reference Dataset.\n",
      "  _log_warning('Overriding the parameters from Reference Dataset.')\n",
      "C:\\Python39\\lib\\site-packages\\lightgbm\\basic.py:1513: UserWarning: categorical_column in param dict is overridden.\n",
      "  _log_warning(f'{cat_alias} in param dict is overridden.')\n"
     ]
    },
    {
     "name": "stdout",
     "output_type": "stream",
     "text": [
      "[50]\tvalid_0's auc: 0.90218\n",
      "[100]\tvalid_0's auc: 0.903085\n",
      "[150]\tvalid_0's auc: 0.904185\n",
      "[200]\tvalid_0's auc: 0.905051\n",
      "[250]\tvalid_0's auc: 0.905775\n",
      "[300]\tvalid_0's auc: 0.906351\n",
      "[350]\tvalid_0's auc: 0.906675\n",
      "[400]\tvalid_0's auc: 0.906931\n"
     ]
    },
    {
     "name": "stderr",
     "output_type": "stream",
     "text": [
      "regularization_factors, val_score: 0.907142:  80%|#############################6       | 16/20 [00:19<00:04,  1.21s/it]"
     ]
    },
    {
     "name": "stdout",
     "output_type": "stream",
     "text": [
      "[450]\tvalid_0's auc: 0.90691\n",
      "[500]\tvalid_0's auc: 0.906857\n",
      "Early stopping, best iteration is:\n",
      "[412]\tvalid_0's auc: 0.906993\n",
      "Training until validation scores don't improve for 100 rounds\n"
     ]
    },
    {
     "name": "stderr",
     "output_type": "stream",
     "text": [
      "C:\\Python39\\lib\\site-packages\\lightgbm\\engine.py:181: UserWarning: 'early_stopping_rounds' argument is deprecated and will be removed in a future release of LightGBM. Pass 'early_stopping()' callback via 'callbacks' argument instead.\n",
      "  _log_warning(\"'early_stopping_rounds' argument is deprecated and will be removed in a future release of LightGBM. \"\n",
      "C:\\Python39\\lib\\site-packages\\lightgbm\\basic.py:2068: UserWarning: categorical_feature in Dataset is overridden.\n",
      "New categorical_feature is ['education', 'marital.status', 'native.country', 'occupation', 'race', 'relationship', 'sex', 'workclass']\n",
      "  _log_warning('categorical_feature in Dataset is overridden.\\n'\n",
      "C:\\Python39\\lib\\site-packages\\lightgbm\\engine.py:239: UserWarning: 'verbose_eval' argument is deprecated and will be removed in a future release of LightGBM. Pass 'log_evaluation()' callback via 'callbacks' argument instead.\n",
      "  _log_warning(\"'verbose_eval' argument is deprecated and will be removed in a future release of LightGBM. \"\n",
      "C:\\Python39\\lib\\site-packages\\lightgbm\\basic.py:1780: UserWarning: Overriding the parameters from Reference Dataset.\n",
      "  _log_warning('Overriding the parameters from Reference Dataset.')\n",
      "C:\\Python39\\lib\\site-packages\\lightgbm\\basic.py:1513: UserWarning: categorical_column in param dict is overridden.\n",
      "  _log_warning(f'{cat_alias} in param dict is overridden.')\n"
     ]
    },
    {
     "name": "stdout",
     "output_type": "stream",
     "text": [
      "[50]\tvalid_0's auc: 0.901961\n",
      "[100]\tvalid_0's auc: 0.903028\n",
      "[150]\tvalid_0's auc: 0.904084\n",
      "[200]\tvalid_0's auc: 0.904832\n",
      "[250]\tvalid_0's auc: 0.905712\n",
      "[300]\tvalid_0's auc: 0.906331\n",
      "[350]\tvalid_0's auc: 0.906632\n",
      "[400]\tvalid_0's auc: 0.906716\n",
      "[450]\tvalid_0's auc: 0.90676\n",
      "[500]\tvalid_0's auc: 0.906831\n",
      "[550]\tvalid_0's auc: 0.906779\n",
      "[600]\tvalid_0's auc: 0.906822\n",
      "Early stopping, best iteration is:\n",
      "[514]\tvalid_0's auc: 0.906893\n"
     ]
    },
    {
     "name": "stderr",
     "output_type": "stream",
     "text": [
      "regularization_factors, val_score: 0.907142:  85%|###############################4     | 17/20 [00:21<00:03,  1.31s/it]C:\\Python39\\lib\\site-packages\\lightgbm\\engine.py:181: UserWarning: 'early_stopping_rounds' argument is deprecated and will be removed in a future release of LightGBM. Pass 'early_stopping()' callback via 'callbacks' argument instead.\n",
      "  _log_warning(\"'early_stopping_rounds' argument is deprecated and will be removed in a future release of LightGBM. \"\n",
      "C:\\Python39\\lib\\site-packages\\lightgbm\\basic.py:2068: UserWarning: categorical_feature in Dataset is overridden.\n",
      "New categorical_feature is ['education', 'marital.status', 'native.country', 'occupation', 'race', 'relationship', 'sex', 'workclass']\n",
      "  _log_warning('categorical_feature in Dataset is overridden.\\n'\n",
      "C:\\Python39\\lib\\site-packages\\lightgbm\\engine.py:239: UserWarning: 'verbose_eval' argument is deprecated and will be removed in a future release of LightGBM. Pass 'log_evaluation()' callback via 'callbacks' argument instead.\n",
      "  _log_warning(\"'verbose_eval' argument is deprecated and will be removed in a future release of LightGBM. \"\n",
      "C:\\Python39\\lib\\site-packages\\lightgbm\\basic.py:1780: UserWarning: Overriding the parameters from Reference Dataset.\n",
      "  _log_warning('Overriding the parameters from Reference Dataset.')\n",
      "C:\\Python39\\lib\\site-packages\\lightgbm\\basic.py:1513: UserWarning: categorical_column in param dict is overridden.\n",
      "  _log_warning(f'{cat_alias} in param dict is overridden.')\n"
     ]
    },
    {
     "name": "stdout",
     "output_type": "stream",
     "text": [
      "Training until validation scores don't improve for 100 rounds\n",
      "[50]\tvalid_0's auc: 0.902184\n",
      "[100]\tvalid_0's auc: 0.90306\n",
      "[150]\tvalid_0's auc: 0.904219\n",
      "[200]\tvalid_0's auc: 0.905061\n",
      "[250]\tvalid_0's auc: 0.905868\n",
      "[300]\tvalid_0's auc: 0.906438\n",
      "[350]\tvalid_0's auc: 0.9067\n",
      "[400]\tvalid_0's auc: 0.906915\n",
      "[450]\tvalid_0's auc: 0.906915\n"
     ]
    },
    {
     "name": "stderr",
     "output_type": "stream",
     "text": [
      "regularization_factors, val_score: 0.907142:  90%|#################################3   | 18/20 [00:22<00:02,  1.34s/it]"
     ]
    },
    {
     "name": "stdout",
     "output_type": "stream",
     "text": [
      "[500]\tvalid_0's auc: 0.906865\n",
      "Early stopping, best iteration is:\n",
      "[441]\tvalid_0's auc: 0.907001\n",
      "Training until validation scores don't improve for 100 rounds\n"
     ]
    },
    {
     "name": "stderr",
     "output_type": "stream",
     "text": [
      "C:\\Python39\\lib\\site-packages\\lightgbm\\engine.py:181: UserWarning: 'early_stopping_rounds' argument is deprecated and will be removed in a future release of LightGBM. Pass 'early_stopping()' callback via 'callbacks' argument instead.\n",
      "  _log_warning(\"'early_stopping_rounds' argument is deprecated and will be removed in a future release of LightGBM. \"\n",
      "C:\\Python39\\lib\\site-packages\\lightgbm\\basic.py:2068: UserWarning: categorical_feature in Dataset is overridden.\n",
      "New categorical_feature is ['education', 'marital.status', 'native.country', 'occupation', 'race', 'relationship', 'sex', 'workclass']\n",
      "  _log_warning('categorical_feature in Dataset is overridden.\\n'\n",
      "C:\\Python39\\lib\\site-packages\\lightgbm\\engine.py:239: UserWarning: 'verbose_eval' argument is deprecated and will be removed in a future release of LightGBM. Pass 'log_evaluation()' callback via 'callbacks' argument instead.\n",
      "  _log_warning(\"'verbose_eval' argument is deprecated and will be removed in a future release of LightGBM. \"\n",
      "C:\\Python39\\lib\\site-packages\\lightgbm\\basic.py:1780: UserWarning: Overriding the parameters from Reference Dataset.\n",
      "  _log_warning('Overriding the parameters from Reference Dataset.')\n",
      "C:\\Python39\\lib\\site-packages\\lightgbm\\basic.py:1513: UserWarning: categorical_column in param dict is overridden.\n",
      "  _log_warning(f'{cat_alias} in param dict is overridden.')\n"
     ]
    },
    {
     "name": "stdout",
     "output_type": "stream",
     "text": [
      "[50]\tvalid_0's auc: 0.902171\n",
      "[100]\tvalid_0's auc: 0.903095\n",
      "[150]\tvalid_0's auc: 0.904237\n",
      "[200]\tvalid_0's auc: 0.905096\n",
      "[250]\tvalid_0's auc: 0.90585\n",
      "[300]\tvalid_0's auc: 0.906486\n",
      "[350]\tvalid_0's auc: 0.9068\n",
      "[400]\tvalid_0's auc: 0.906984\n",
      "[450]\tvalid_0's auc: 0.906995\n"
     ]
    },
    {
     "name": "stderr",
     "output_type": "stream",
     "text": [
      "regularization_factors, val_score: 0.907142:  95%|###################################1 | 19/20 [00:23<00:01,  1.27s/it]"
     ]
    },
    {
     "name": "stdout",
     "output_type": "stream",
     "text": [
      "[500]\tvalid_0's auc: 0.906996\n",
      "Early stopping, best iteration is:\n",
      "[422]\tvalid_0's auc: 0.907067\n",
      "Training until validation scores don't improve for 100 rounds\n"
     ]
    },
    {
     "name": "stderr",
     "output_type": "stream",
     "text": [
      "C:\\Python39\\lib\\site-packages\\lightgbm\\engine.py:181: UserWarning: 'early_stopping_rounds' argument is deprecated and will be removed in a future release of LightGBM. Pass 'early_stopping()' callback via 'callbacks' argument instead.\n",
      "  _log_warning(\"'early_stopping_rounds' argument is deprecated and will be removed in a future release of LightGBM. \"\n",
      "C:\\Python39\\lib\\site-packages\\lightgbm\\basic.py:2068: UserWarning: categorical_feature in Dataset is overridden.\n",
      "New categorical_feature is ['education', 'marital.status', 'native.country', 'occupation', 'race', 'relationship', 'sex', 'workclass']\n",
      "  _log_warning('categorical_feature in Dataset is overridden.\\n'\n",
      "C:\\Python39\\lib\\site-packages\\lightgbm\\engine.py:239: UserWarning: 'verbose_eval' argument is deprecated and will be removed in a future release of LightGBM. Pass 'log_evaluation()' callback via 'callbacks' argument instead.\n",
      "  _log_warning(\"'verbose_eval' argument is deprecated and will be removed in a future release of LightGBM. \"\n",
      "C:\\Python39\\lib\\site-packages\\lightgbm\\basic.py:1780: UserWarning: Overriding the parameters from Reference Dataset.\n",
      "  _log_warning('Overriding the parameters from Reference Dataset.')\n",
      "C:\\Python39\\lib\\site-packages\\lightgbm\\basic.py:1513: UserWarning: categorical_column in param dict is overridden.\n",
      "  _log_warning(f'{cat_alias} in param dict is overridden.')\n"
     ]
    },
    {
     "name": "stdout",
     "output_type": "stream",
     "text": [
      "[50]\tvalid_0's auc: 0.901743\n",
      "[100]\tvalid_0's auc: 0.902922\n",
      "[150]\tvalid_0's auc: 0.904019\n",
      "[200]\tvalid_0's auc: 0.904868\n",
      "[250]\tvalid_0's auc: 0.905636\n",
      "[300]\tvalid_0's auc: 0.906289\n",
      "[350]\tvalid_0's auc: 0.906639\n",
      "[400]\tvalid_0's auc: 0.906791\n",
      "[450]\tvalid_0's auc: 0.906941\n",
      "[500]\tvalid_0's auc: 0.906975\n",
      "[550]\tvalid_0's auc: 0.906959\n"
     ]
    },
    {
     "name": "stderr",
     "output_type": "stream",
     "text": [
      "regularization_factors, val_score: 0.907142: 100%|#####################################| 20/20 [00:25<00:00,  1.26s/it]\n"
     ]
    },
    {
     "name": "stdout",
     "output_type": "stream",
     "text": [
      "[600]\tvalid_0's auc: 0.906977\n",
      "Early stopping, best iteration is:\n",
      "[517]\tvalid_0's auc: 0.907034\n"
     ]
    },
    {
     "name": "stderr",
     "output_type": "stream",
     "text": [
      "min_data_in_leaf, val_score: 0.907142:   0%|                                                     | 0/5 [00:00<?, ?it/s]"
     ]
    },
    {
     "name": "stdout",
     "output_type": "stream",
     "text": [
      "Training until validation scores don't improve for 100 rounds\n"
     ]
    },
    {
     "name": "stderr",
     "output_type": "stream",
     "text": [
      "C:\\Python39\\lib\\site-packages\\lightgbm\\engine.py:181: UserWarning: 'early_stopping_rounds' argument is deprecated and will be removed in a future release of LightGBM. Pass 'early_stopping()' callback via 'callbacks' argument instead.\n",
      "  _log_warning(\"'early_stopping_rounds' argument is deprecated and will be removed in a future release of LightGBM. \"\n",
      "C:\\Python39\\lib\\site-packages\\lightgbm\\basic.py:2068: UserWarning: categorical_feature in Dataset is overridden.\n",
      "New categorical_feature is ['education', 'marital.status', 'native.country', 'occupation', 'race', 'relationship', 'sex', 'workclass']\n",
      "  _log_warning('categorical_feature in Dataset is overridden.\\n'\n",
      "C:\\Python39\\lib\\site-packages\\lightgbm\\engine.py:239: UserWarning: 'verbose_eval' argument is deprecated and will be removed in a future release of LightGBM. Pass 'log_evaluation()' callback via 'callbacks' argument instead.\n",
      "  _log_warning(\"'verbose_eval' argument is deprecated and will be removed in a future release of LightGBM. \"\n",
      "C:\\Python39\\lib\\site-packages\\lightgbm\\basic.py:1780: UserWarning: Overriding the parameters from Reference Dataset.\n",
      "  _log_warning('Overriding the parameters from Reference Dataset.')\n",
      "C:\\Python39\\lib\\site-packages\\lightgbm\\basic.py:1513: UserWarning: categorical_column in param dict is overridden.\n",
      "  _log_warning(f'{cat_alias} in param dict is overridden.')\n"
     ]
    },
    {
     "name": "stdout",
     "output_type": "stream",
     "text": [
      "[50]\tvalid_0's auc: 0.902608\n",
      "[100]\tvalid_0's auc: 0.9037\n",
      "[150]\tvalid_0's auc: 0.904674\n",
      "[200]\tvalid_0's auc: 0.905488\n",
      "[250]\tvalid_0's auc: 0.90618\n",
      "[300]\tvalid_0's auc: 0.906661\n",
      "[350]\tvalid_0's auc: 0.906818\n",
      "[400]\tvalid_0's auc: 0.906847\n"
     ]
    },
    {
     "name": "stderr",
     "output_type": "stream",
     "text": [
      "min_data_in_leaf, val_score: 0.907142:  20%|#########                                    | 1/5 [00:01<00:04,  1.10s/it]"
     ]
    },
    {
     "name": "stdout",
     "output_type": "stream",
     "text": [
      "[450]\tvalid_0's auc: 0.906906\n",
      "[500]\tvalid_0's auc: 0.906765\n",
      "Early stopping, best iteration is:\n",
      "[414]\tvalid_0's auc: 0.906942\n",
      "Training until validation scores don't improve for 100 rounds\n"
     ]
    },
    {
     "name": "stderr",
     "output_type": "stream",
     "text": [
      "C:\\Python39\\lib\\site-packages\\lightgbm\\engine.py:181: UserWarning: 'early_stopping_rounds' argument is deprecated and will be removed in a future release of LightGBM. Pass 'early_stopping()' callback via 'callbacks' argument instead.\n",
      "  _log_warning(\"'early_stopping_rounds' argument is deprecated and will be removed in a future release of LightGBM. \"\n",
      "C:\\Python39\\lib\\site-packages\\lightgbm\\basic.py:2068: UserWarning: categorical_feature in Dataset is overridden.\n",
      "New categorical_feature is ['education', 'marital.status', 'native.country', 'occupation', 'race', 'relationship', 'sex', 'workclass']\n",
      "  _log_warning('categorical_feature in Dataset is overridden.\\n'\n",
      "C:\\Python39\\lib\\site-packages\\lightgbm\\engine.py:239: UserWarning: 'verbose_eval' argument is deprecated and will be removed in a future release of LightGBM. Pass 'log_evaluation()' callback via 'callbacks' argument instead.\n",
      "  _log_warning(\"'verbose_eval' argument is deprecated and will be removed in a future release of LightGBM. \"\n",
      "C:\\Python39\\lib\\site-packages\\lightgbm\\basic.py:1780: UserWarning: Overriding the parameters from Reference Dataset.\n",
      "  _log_warning('Overriding the parameters from Reference Dataset.')\n",
      "C:\\Python39\\lib\\site-packages\\lightgbm\\basic.py:1513: UserWarning: categorical_column in param dict is overridden.\n",
      "  _log_warning(f'{cat_alias} in param dict is overridden.')\n"
     ]
    },
    {
     "name": "stdout",
     "output_type": "stream",
     "text": [
      "[50]\tvalid_0's auc: 0.902151\n",
      "[100]\tvalid_0's auc: 0.903128\n",
      "[150]\tvalid_0's auc: 0.90416\n",
      "[200]\tvalid_0's auc: 0.905077\n",
      "[250]\tvalid_0's auc: 0.905836\n",
      "[300]\tvalid_0's auc: 0.906408\n",
      "[350]\tvalid_0's auc: 0.906729\n",
      "[400]\tvalid_0's auc: 0.906986\n",
      "[450]\tvalid_0's auc: 0.907094\n",
      "[500]\tvalid_0's auc: 0.907111\n",
      "[550]\tvalid_0's auc: 0.907129\n",
      "[600]\tvalid_0's auc: 0.907211\n"
     ]
    },
    {
     "name": "stderr",
     "output_type": "stream",
     "text": [
      "min_data_in_leaf, val_score: 0.907211:  40%|##################                           | 2/5 [00:02<00:03,  1.26s/it]"
     ]
    },
    {
     "name": "stdout",
     "output_type": "stream",
     "text": [
      "[650]\tvalid_0's auc: 0.907025\n",
      "[700]\tvalid_0's auc: 0.906926\n",
      "Early stopping, best iteration is:\n",
      "[600]\tvalid_0's auc: 0.907211\n",
      "Training until validation scores don't improve for 100 rounds\n"
     ]
    },
    {
     "name": "stderr",
     "output_type": "stream",
     "text": [
      "C:\\Python39\\lib\\site-packages\\lightgbm\\engine.py:181: UserWarning: 'early_stopping_rounds' argument is deprecated and will be removed in a future release of LightGBM. Pass 'early_stopping()' callback via 'callbacks' argument instead.\n",
      "  _log_warning(\"'early_stopping_rounds' argument is deprecated and will be removed in a future release of LightGBM. \"\n",
      "C:\\Python39\\lib\\site-packages\\lightgbm\\basic.py:2068: UserWarning: categorical_feature in Dataset is overridden.\n",
      "New categorical_feature is ['education', 'marital.status', 'native.country', 'occupation', 'race', 'relationship', 'sex', 'workclass']\n",
      "  _log_warning('categorical_feature in Dataset is overridden.\\n'\n",
      "C:\\Python39\\lib\\site-packages\\lightgbm\\engine.py:239: UserWarning: 'verbose_eval' argument is deprecated and will be removed in a future release of LightGBM. Pass 'log_evaluation()' callback via 'callbacks' argument instead.\n",
      "  _log_warning(\"'verbose_eval' argument is deprecated and will be removed in a future release of LightGBM. \"\n",
      "C:\\Python39\\lib\\site-packages\\lightgbm\\basic.py:1780: UserWarning: Overriding the parameters from Reference Dataset.\n",
      "  _log_warning('Overriding the parameters from Reference Dataset.')\n",
      "C:\\Python39\\lib\\site-packages\\lightgbm\\basic.py:1513: UserWarning: categorical_column in param dict is overridden.\n",
      "  _log_warning(f'{cat_alias} in param dict is overridden.')\n"
     ]
    },
    {
     "name": "stdout",
     "output_type": "stream",
     "text": [
      "[50]\tvalid_0's auc: 0.902141\n",
      "[100]\tvalid_0's auc: 0.902856\n",
      "[150]\tvalid_0's auc: 0.903954\n",
      "[200]\tvalid_0's auc: 0.904958\n",
      "[250]\tvalid_0's auc: 0.905769\n",
      "[300]\tvalid_0's auc: 0.906301\n",
      "[350]\tvalid_0's auc: 0.906649\n",
      "[400]\tvalid_0's auc: 0.906733\n",
      "[450]\tvalid_0's auc: 0.906768\n"
     ]
    },
    {
     "name": "stderr",
     "output_type": "stream",
     "text": [
      "min_data_in_leaf, val_score: 0.907211:  60%|###########################                  | 3/5 [00:03<00:02,  1.17s/it]"
     ]
    },
    {
     "name": "stdout",
     "output_type": "stream",
     "text": [
      "[500]\tvalid_0's auc: 0.906732\n",
      "Early stopping, best iteration is:\n",
      "[422]\tvalid_0's auc: 0.906796\n",
      "Training until validation scores don't improve for 100 rounds\n"
     ]
    },
    {
     "name": "stderr",
     "output_type": "stream",
     "text": [
      "C:\\Python39\\lib\\site-packages\\lightgbm\\engine.py:181: UserWarning: 'early_stopping_rounds' argument is deprecated and will be removed in a future release of LightGBM. Pass 'early_stopping()' callback via 'callbacks' argument instead.\n",
      "  _log_warning(\"'early_stopping_rounds' argument is deprecated and will be removed in a future release of LightGBM. \"\n",
      "C:\\Python39\\lib\\site-packages\\lightgbm\\basic.py:2068: UserWarning: categorical_feature in Dataset is overridden.\n",
      "New categorical_feature is ['education', 'marital.status', 'native.country', 'occupation', 'race', 'relationship', 'sex', 'workclass']\n",
      "  _log_warning('categorical_feature in Dataset is overridden.\\n'\n",
      "C:\\Python39\\lib\\site-packages\\lightgbm\\engine.py:239: UserWarning: 'verbose_eval' argument is deprecated and will be removed in a future release of LightGBM. Pass 'log_evaluation()' callback via 'callbacks' argument instead.\n",
      "  _log_warning(\"'verbose_eval' argument is deprecated and will be removed in a future release of LightGBM. \"\n",
      "C:\\Python39\\lib\\site-packages\\lightgbm\\basic.py:1780: UserWarning: Overriding the parameters from Reference Dataset.\n",
      "  _log_warning('Overriding the parameters from Reference Dataset.')\n",
      "C:\\Python39\\lib\\site-packages\\lightgbm\\basic.py:1513: UserWarning: categorical_column in param dict is overridden.\n",
      "  _log_warning(f'{cat_alias} in param dict is overridden.')\n"
     ]
    },
    {
     "name": "stdout",
     "output_type": "stream",
     "text": [
      "[50]\tvalid_0's auc: 0.902136\n",
      "[100]\tvalid_0's auc: 0.902942\n",
      "[150]\tvalid_0's auc: 0.903974\n",
      "[200]\tvalid_0's auc: 0.904915\n",
      "[250]\tvalid_0's auc: 0.905771\n",
      "[300]\tvalid_0's auc: 0.906358\n",
      "[350]\tvalid_0's auc: 0.906632\n",
      "[400]\tvalid_0's auc: 0.906737\n",
      "[450]\tvalid_0's auc: 0.906795\n",
      "[500]\tvalid_0's auc: 0.906816\n",
      "[550]\tvalid_0's auc: 0.906848\n",
      "[600]\tvalid_0's auc: 0.906888\n",
      "[650]\tvalid_0's auc: 0.906773\n"
     ]
    },
    {
     "name": "stderr",
     "output_type": "stream",
     "text": [
      "min_data_in_leaf, val_score: 0.907211:  80%|####################################         | 4/5 [00:05<00:01,  1.30s/it]"
     ]
    },
    {
     "name": "stdout",
     "output_type": "stream",
     "text": [
      "[700]\tvalid_0's auc: 0.906642\n",
      "Early stopping, best iteration is:\n",
      "[601]\tvalid_0's auc: 0.906892\n",
      "Training until validation scores don't improve for 100 rounds\n",
      "[50]\tvalid_0's auc: 0.902348\n"
     ]
    },
    {
     "name": "stderr",
     "output_type": "stream",
     "text": [
      "C:\\Python39\\lib\\site-packages\\lightgbm\\engine.py:181: UserWarning: 'early_stopping_rounds' argument is deprecated and will be removed in a future release of LightGBM. Pass 'early_stopping()' callback via 'callbacks' argument instead.\n",
      "  _log_warning(\"'early_stopping_rounds' argument is deprecated and will be removed in a future release of LightGBM. \"\n",
      "C:\\Python39\\lib\\site-packages\\lightgbm\\basic.py:2068: UserWarning: categorical_feature in Dataset is overridden.\n",
      "New categorical_feature is ['education', 'marital.status', 'native.country', 'occupation', 'race', 'relationship', 'sex', 'workclass']\n",
      "  _log_warning('categorical_feature in Dataset is overridden.\\n'\n",
      "C:\\Python39\\lib\\site-packages\\lightgbm\\engine.py:239: UserWarning: 'verbose_eval' argument is deprecated and will be removed in a future release of LightGBM. Pass 'log_evaluation()' callback via 'callbacks' argument instead.\n",
      "  _log_warning(\"'verbose_eval' argument is deprecated and will be removed in a future release of LightGBM. \"\n",
      "C:\\Python39\\lib\\site-packages\\lightgbm\\basic.py:1780: UserWarning: Overriding the parameters from Reference Dataset.\n",
      "  _log_warning('Overriding the parameters from Reference Dataset.')\n",
      "C:\\Python39\\lib\\site-packages\\lightgbm\\basic.py:1513: UserWarning: categorical_column in param dict is overridden.\n",
      "  _log_warning(f'{cat_alias} in param dict is overridden.')\n"
     ]
    },
    {
     "name": "stdout",
     "output_type": "stream",
     "text": [
      "[100]\tvalid_0's auc: 0.903413\n",
      "[150]\tvalid_0's auc: 0.904486\n",
      "[200]\tvalid_0's auc: 0.905279\n",
      "[250]\tvalid_0's auc: 0.906096\n",
      "[300]\tvalid_0's auc: 0.906711\n",
      "[350]\tvalid_0's auc: 0.906938\n",
      "[400]\tvalid_0's auc: 0.907036\n",
      "[450]\tvalid_0's auc: 0.907153\n",
      "[500]\tvalid_0's auc: 0.907163\n",
      "[550]\tvalid_0's auc: 0.907127\n"
     ]
    },
    {
     "name": "stderr",
     "output_type": "stream",
     "text": [
      "min_data_in_leaf, val_score: 0.907211: 100%|#############################################| 5/5 [00:06<00:00,  1.28s/it]"
     ]
    },
    {
     "name": "stdout",
     "output_type": "stream",
     "text": [
      "[600]\tvalid_0's auc: 0.907137\n",
      "Early stopping, best iteration is:\n",
      "[518]\tvalid_0's auc: 0.907197\n",
      "Best params: {'boosting_type': 'gbdt', 'objective': 'binary', 'metric': 'auc', 'verbosity': -1, 'learning_rate': 0.02, 'deterministic': True, 'force_row_wise': True, 'feature_pre_filter': False, 'lambda_l1': 9.952645602089527e-07, 'lambda_l2': 0.6864213065897403, 'num_leaves': 20, 'feature_fraction': 0.4, 'bagging_fraction': 0.8595447138889554, 'bagging_freq': 4, 'min_child_samples': 25, 'num_iterations': 10000, 'early_stopping_round': 100, 'categorical_column': [1, 2, 4, 5, 6, 7, 8, 12]}\n"
     ]
    },
    {
     "name": "stderr",
     "output_type": "stream",
     "text": [
      "\n"
     ]
    },
    {
     "name": "stdout",
     "output_type": "stream",
     "text": [
      "### seed:  7 ###\n"
     ]
    },
    {
     "name": "stderr",
     "output_type": "stream",
     "text": [
      "feature_fraction, val_score: -inf:   0%|                                                         | 0/7 [00:00<?, ?it/s]C:\\Python39\\lib\\site-packages\\lightgbm\\engine.py:181: UserWarning: 'early_stopping_rounds' argument is deprecated and will be removed in a future release of LightGBM. Pass 'early_stopping()' callback via 'callbacks' argument instead.\n",
      "  _log_warning(\"'early_stopping_rounds' argument is deprecated and will be removed in a future release of LightGBM. \"\n",
      "C:\\Python39\\lib\\site-packages\\lightgbm\\basic.py:2068: UserWarning: categorical_feature in Dataset is overridden.\n",
      "New categorical_feature is ['education', 'marital.status', 'native.country', 'occupation', 'race', 'relationship', 'sex', 'workclass']\n",
      "  _log_warning('categorical_feature in Dataset is overridden.\\n'\n",
      "C:\\Python39\\lib\\site-packages\\lightgbm\\engine.py:239: UserWarning: 'verbose_eval' argument is deprecated and will be removed in a future release of LightGBM. Pass 'log_evaluation()' callback via 'callbacks' argument instead.\n",
      "  _log_warning(\"'verbose_eval' argument is deprecated and will be removed in a future release of LightGBM. \"\n"
     ]
    },
    {
     "name": "stdout",
     "output_type": "stream",
     "text": [
      "Training until validation scores don't improve for 100 rounds\n",
      "[50]\tvalid_0's auc: 0.895159\n"
     ]
    },
    {
     "name": "stderr",
     "output_type": "stream",
     "text": [
      "C:\\Python39\\lib\\site-packages\\lightgbm\\basic.py:1780: UserWarning: Overriding the parameters from Reference Dataset.\n",
      "  _log_warning('Overriding the parameters from Reference Dataset.')\n",
      "C:\\Python39\\lib\\site-packages\\lightgbm\\basic.py:1513: UserWarning: categorical_column in param dict is overridden.\n",
      "  _log_warning(f'{cat_alias} in param dict is overridden.')\n"
     ]
    },
    {
     "name": "stdout",
     "output_type": "stream",
     "text": [
      "[100]\tvalid_0's auc: 0.899195\n",
      "[150]\tvalid_0's auc: 0.902019\n",
      "[200]\tvalid_0's auc: 0.903495\n",
      "[250]\tvalid_0's auc: 0.904103"
     ]
    },
    {
     "name": "stderr",
     "output_type": "stream",
     "text": [
      "feature_fraction, val_score: 0.904144:   0%|                                                     | 0/7 [00:00<?, ?it/s]"
     ]
    },
    {
     "name": "stdout",
     "output_type": "stream",
     "text": [
      "\n",
      "[300]\tvalid_0's auc: 0.904035\n",
      "[350]\tvalid_0's auc: 0.904001\n",
      "Early stopping, best iteration is:\n",
      "[257]\tvalid_0's auc: 0.904144\n"
     ]
    },
    {
     "name": "stderr",
     "output_type": "stream",
     "text": [
      "feature_fraction, val_score: 0.904144:  14%|######4                                      | 1/7 [00:00<00:04,  1.49it/s]C:\\Python39\\lib\\site-packages\\lightgbm\\engine.py:181: UserWarning: 'early_stopping_rounds' argument is deprecated and will be removed in a future release of LightGBM. Pass 'early_stopping()' callback via 'callbacks' argument instead.\n",
      "  _log_warning(\"'early_stopping_rounds' argument is deprecated and will be removed in a future release of LightGBM. \"\n",
      "C:\\Python39\\lib\\site-packages\\lightgbm\\basic.py:2068: UserWarning: categorical_feature in Dataset is overridden.\n",
      "New categorical_feature is ['education', 'marital.status', 'native.country', 'occupation', 'race', 'relationship', 'sex', 'workclass']\n",
      "  _log_warning('categorical_feature in Dataset is overridden.\\n'\n",
      "C:\\Python39\\lib\\site-packages\\lightgbm\\engine.py:239: UserWarning: 'verbose_eval' argument is deprecated and will be removed in a future release of LightGBM. Pass 'log_evaluation()' callback via 'callbacks' argument instead.\n",
      "  _log_warning(\"'verbose_eval' argument is deprecated and will be removed in a future release of LightGBM. \"\n",
      "C:\\Python39\\lib\\site-packages\\lightgbm\\basic.py:1780: UserWarning: Overriding the parameters from Reference Dataset.\n",
      "  _log_warning('Overriding the parameters from Reference Dataset.')\n",
      "C:\\Python39\\lib\\site-packages\\lightgbm\\basic.py:1513: UserWarning: categorical_column in param dict is overridden.\n",
      "  _log_warning(f'{cat_alias} in param dict is overridden.')\n"
     ]
    },
    {
     "name": "stdout",
     "output_type": "stream",
     "text": [
      "Training until validation scores don't improve for 100 rounds\n",
      "[50]\tvalid_0's auc: 0.900977\n",
      "[100]\tvalid_0's auc: 0.901689\n",
      "[150]\tvalid_0's auc: 0.903351\n",
      "[200]\tvalid_0's auc: 0.904775\n",
      "[250]\tvalid_0's auc: 0.905418\n",
      "[300]\tvalid_0's auc: 0.905652\n",
      "[350]\tvalid_0's auc: 0.905724\n",
      "[400]\tvalid_0's auc: 0.905779\n",
      "[450]\tvalid_0's auc: 0.905621\n"
     ]
    },
    {
     "name": "stderr",
     "output_type": "stream",
     "text": [
      "feature_fraction, val_score: 0.905858:  29%|############8                                | 2/7 [00:01<00:04,  1.17it/s]"
     ]
    },
    {
     "name": "stdout",
     "output_type": "stream",
     "text": [
      "Early stopping, best iteration is:\n",
      "[378]\tvalid_0's auc: 0.905858\n",
      "Training until validation scores don't improve for 100 rounds\n",
      "[50]\tvalid_0's auc: 0.902664\n"
     ]
    },
    {
     "name": "stderr",
     "output_type": "stream",
     "text": [
      "C:\\Python39\\lib\\site-packages\\lightgbm\\engine.py:181: UserWarning: 'early_stopping_rounds' argument is deprecated and will be removed in a future release of LightGBM. Pass 'early_stopping()' callback via 'callbacks' argument instead.\n",
      "  _log_warning(\"'early_stopping_rounds' argument is deprecated and will be removed in a future release of LightGBM. \"\n",
      "C:\\Python39\\lib\\site-packages\\lightgbm\\basic.py:2068: UserWarning: categorical_feature in Dataset is overridden.\n",
      "New categorical_feature is ['education', 'marital.status', 'native.country', 'occupation', 'race', 'relationship', 'sex', 'workclass']\n",
      "  _log_warning('categorical_feature in Dataset is overridden.\\n'\n",
      "C:\\Python39\\lib\\site-packages\\lightgbm\\engine.py:239: UserWarning: 'verbose_eval' argument is deprecated and will be removed in a future release of LightGBM. Pass 'log_evaluation()' callback via 'callbacks' argument instead.\n",
      "  _log_warning(\"'verbose_eval' argument is deprecated and will be removed in a future release of LightGBM. \"\n",
      "C:\\Python39\\lib\\site-packages\\lightgbm\\basic.py:1780: UserWarning: Overriding the parameters from Reference Dataset.\n",
      "  _log_warning('Overriding the parameters from Reference Dataset.')\n",
      "C:\\Python39\\lib\\site-packages\\lightgbm\\basic.py:1513: UserWarning: categorical_column in param dict is overridden.\n",
      "  _log_warning(f'{cat_alias} in param dict is overridden.')\n"
     ]
    },
    {
     "name": "stdout",
     "output_type": "stream",
     "text": [
      "[100]\tvalid_0's auc: 0.904155\n",
      "[150]\tvalid_0's auc: 0.90514\n",
      "[200]\tvalid_0's auc: 0.905737\n",
      "[250]\tvalid_0's auc: 0.906364\n",
      "[300]\tvalid_0's auc: 0.90656\n",
      "[350]\tvalid_0's auc: 0.906693\n",
      "[400]\tvalid_0's auc: 0.906715\n",
      "[450]\tvalid_0's auc: 0.906831\n",
      "[500]\tvalid_0's auc: 0.906693\n"
     ]
    },
    {
     "name": "stderr",
     "output_type": "stream",
     "text": [
      "feature_fraction, val_score: 0.906875:  43%|###################2                         | 3/7 [00:02<00:03,  1.05it/s]"
     ]
    },
    {
     "name": "stdout",
     "output_type": "stream",
     "text": [
      "Early stopping, best iteration is:\n",
      "[434]\tvalid_0's auc: 0.906875\n",
      "Training until validation scores don't improve for 100 rounds\n",
      "[50]\tvalid_0's auc: 0.898819\n"
     ]
    },
    {
     "name": "stderr",
     "output_type": "stream",
     "text": [
      "C:\\Python39\\lib\\site-packages\\lightgbm\\engine.py:181: UserWarning: 'early_stopping_rounds' argument is deprecated and will be removed in a future release of LightGBM. Pass 'early_stopping()' callback via 'callbacks' argument instead.\n",
      "  _log_warning(\"'early_stopping_rounds' argument is deprecated and will be removed in a future release of LightGBM. \"\n",
      "C:\\Python39\\lib\\site-packages\\lightgbm\\basic.py:2068: UserWarning: categorical_feature in Dataset is overridden.\n",
      "New categorical_feature is ['education', 'marital.status', 'native.country', 'occupation', 'race', 'relationship', 'sex', 'workclass']\n",
      "  _log_warning('categorical_feature in Dataset is overridden.\\n'\n",
      "C:\\Python39\\lib\\site-packages\\lightgbm\\engine.py:239: UserWarning: 'verbose_eval' argument is deprecated and will be removed in a future release of LightGBM. Pass 'log_evaluation()' callback via 'callbacks' argument instead.\n",
      "  _log_warning(\"'verbose_eval' argument is deprecated and will be removed in a future release of LightGBM. \"\n",
      "C:\\Python39\\lib\\site-packages\\lightgbm\\basic.py:1780: UserWarning: Overriding the parameters from Reference Dataset.\n",
      "  _log_warning('Overriding the parameters from Reference Dataset.')\n",
      "C:\\Python39\\lib\\site-packages\\lightgbm\\basic.py:1513: UserWarning: categorical_column in param dict is overridden.\n",
      "  _log_warning(f'{cat_alias} in param dict is overridden.')\n"
     ]
    },
    {
     "name": "stdout",
     "output_type": "stream",
     "text": [
      "[100]\tvalid_0's auc: 0.900922\n",
      "[150]\tvalid_0's auc: 0.903147\n",
      "[200]\tvalid_0's auc: 0.904448\n",
      "[250]\tvalid_0's auc: 0.904945\n",
      "[300]\tvalid_0's auc: 0.905102\n",
      "[350]\tvalid_0's auc: 0.905161\n",
      "[400]\tvalid_0's auc: 0.905013\n"
     ]
    },
    {
     "name": "stderr",
     "output_type": "stream",
     "text": [
      "feature_fraction, val_score: 0.906875:  57%|#########################7                   | 4/7 [00:04<00:03,  1.15s/it]"
     ]
    },
    {
     "name": "stdout",
     "output_type": "stream",
     "text": [
      "Early stopping, best iteration is:\n",
      "[338]\tvalid_0's auc: 0.905191\n",
      "Training until validation scores don't improve for 100 rounds\n",
      "[50]\tvalid_0's auc: 0.899916\n"
     ]
    },
    {
     "name": "stderr",
     "output_type": "stream",
     "text": [
      "C:\\Python39\\lib\\site-packages\\lightgbm\\engine.py:181: UserWarning: 'early_stopping_rounds' argument is deprecated and will be removed in a future release of LightGBM. Pass 'early_stopping()' callback via 'callbacks' argument instead.\n",
      "  _log_warning(\"'early_stopping_rounds' argument is deprecated and will be removed in a future release of LightGBM. \"\n",
      "C:\\Python39\\lib\\site-packages\\lightgbm\\basic.py:2068: UserWarning: categorical_feature in Dataset is overridden.\n",
      "New categorical_feature is ['education', 'marital.status', 'native.country', 'occupation', 'race', 'relationship', 'sex', 'workclass']\n",
      "  _log_warning('categorical_feature in Dataset is overridden.\\n'\n",
      "C:\\Python39\\lib\\site-packages\\lightgbm\\engine.py:239: UserWarning: 'verbose_eval' argument is deprecated and will be removed in a future release of LightGBM. Pass 'log_evaluation()' callback via 'callbacks' argument instead.\n",
      "  _log_warning(\"'verbose_eval' argument is deprecated and will be removed in a future release of LightGBM. \"\n",
      "C:\\Python39\\lib\\site-packages\\lightgbm\\basic.py:1780: UserWarning: Overriding the parameters from Reference Dataset.\n",
      "  _log_warning('Overriding the parameters from Reference Dataset.')\n",
      "C:\\Python39\\lib\\site-packages\\lightgbm\\basic.py:1513: UserWarning: categorical_column in param dict is overridden.\n",
      "  _log_warning(f'{cat_alias} in param dict is overridden.')\n"
     ]
    },
    {
     "name": "stdout",
     "output_type": "stream",
     "text": [
      "[100]\tvalid_0's auc: 0.901258\n",
      "[150]\tvalid_0's auc: 0.903585\n",
      "[200]\tvalid_0's auc: 0.904763\n",
      "[250]\tvalid_0's auc: 0.905475\n",
      "[300]\tvalid_0's auc: 0.905748\n",
      "[350]\tvalid_0's auc: 0.905854\n"
     ]
    },
    {
     "name": "stderr",
     "output_type": "stream",
     "text": [
      "feature_fraction, val_score: 0.906875:  71%|################################1            | 5/7 [00:05<00:02,  1.06s/it]"
     ]
    },
    {
     "name": "stdout",
     "output_type": "stream",
     "text": [
      "[400]\tvalid_0's auc: 0.905631\n",
      "[450]\tvalid_0's auc: 0.905481\n",
      "Early stopping, best iteration is:\n",
      "[360]\tvalid_0's auc: 0.905875\n"
     ]
    },
    {
     "name": "stderr",
     "output_type": "stream",
     "text": [
      "C:\\Python39\\lib\\site-packages\\lightgbm\\engine.py:181: UserWarning: 'early_stopping_rounds' argument is deprecated and will be removed in a future release of LightGBM. Pass 'early_stopping()' callback via 'callbacks' argument instead.\n",
      "  _log_warning(\"'early_stopping_rounds' argument is deprecated and will be removed in a future release of LightGBM. \"\n",
      "C:\\Python39\\lib\\site-packages\\lightgbm\\basic.py:2068: UserWarning: categorical_feature in Dataset is overridden.\n",
      "New categorical_feature is ['education', 'marital.status', 'native.country', 'occupation', 'race', 'relationship', 'sex', 'workclass']\n",
      "  _log_warning('categorical_feature in Dataset is overridden.\\n'\n",
      "C:\\Python39\\lib\\site-packages\\lightgbm\\engine.py:239: UserWarning: 'verbose_eval' argument is deprecated and will be removed in a future release of LightGBM. Pass 'log_evaluation()' callback via 'callbacks' argument instead.\n",
      "  _log_warning(\"'verbose_eval' argument is deprecated and will be removed in a future release of LightGBM. \"\n",
      "C:\\Python39\\lib\\site-packages\\lightgbm\\basic.py:1780: UserWarning: Overriding the parameters from Reference Dataset.\n",
      "  _log_warning('Overriding the parameters from Reference Dataset.')\n",
      "C:\\Python39\\lib\\site-packages\\lightgbm\\basic.py:1513: UserWarning: categorical_column in param dict is overridden.\n",
      "  _log_warning(f'{cat_alias} in param dict is overridden.')\n"
     ]
    },
    {
     "name": "stdout",
     "output_type": "stream",
     "text": [
      "Training until validation scores don't improve for 100 rounds\n",
      "[50]\tvalid_0's auc: 0.897806\n",
      "[100]\tvalid_0's auc: 0.900479\n",
      "[150]\tvalid_0's auc: 0.903007\n",
      "[200]\tvalid_0's auc: 0.904523\n",
      "[250]\tvalid_0's auc: 0.905004\n",
      "[300]\tvalid_0's auc: 0.90514\n",
      "[350]\tvalid_0's auc: 0.905146\n"
     ]
    },
    {
     "name": "stderr",
     "output_type": "stream",
     "text": [
      "feature_fraction, val_score: 0.906875:  86%|######################################5      | 6/7 [00:05<00:01,  1.00s/it]"
     ]
    },
    {
     "name": "stdout",
     "output_type": "stream",
     "text": [
      "[400]\tvalid_0's auc: 0.905071\n",
      "Early stopping, best iteration is:\n",
      "[322]\tvalid_0's auc: 0.905196\n",
      "Training until validation scores don't improve for 100 rounds\n"
     ]
    },
    {
     "name": "stderr",
     "output_type": "stream",
     "text": [
      "C:\\Python39\\lib\\site-packages\\lightgbm\\engine.py:181: UserWarning: 'early_stopping_rounds' argument is deprecated and will be removed in a future release of LightGBM. Pass 'early_stopping()' callback via 'callbacks' argument instead.\n",
      "  _log_warning(\"'early_stopping_rounds' argument is deprecated and will be removed in a future release of LightGBM. \"\n",
      "C:\\Python39\\lib\\site-packages\\lightgbm\\basic.py:2068: UserWarning: categorical_feature in Dataset is overridden.\n",
      "New categorical_feature is ['education', 'marital.status', 'native.country', 'occupation', 'race', 'relationship', 'sex', 'workclass']\n",
      "  _log_warning('categorical_feature in Dataset is overridden.\\n'\n",
      "C:\\Python39\\lib\\site-packages\\lightgbm\\engine.py:239: UserWarning: 'verbose_eval' argument is deprecated and will be removed in a future release of LightGBM. Pass 'log_evaluation()' callback via 'callbacks' argument instead.\n",
      "  _log_warning(\"'verbose_eval' argument is deprecated and will be removed in a future release of LightGBM. \"\n",
      "C:\\Python39\\lib\\site-packages\\lightgbm\\basic.py:1780: UserWarning: Overriding the parameters from Reference Dataset.\n",
      "  _log_warning('Overriding the parameters from Reference Dataset.')\n",
      "C:\\Python39\\lib\\site-packages\\lightgbm\\basic.py:1513: UserWarning: categorical_column in param dict is overridden.\n",
      "  _log_warning(f'{cat_alias} in param dict is overridden.')\n"
     ]
    },
    {
     "name": "stdout",
     "output_type": "stream",
     "text": [
      "[50]\tvalid_0's auc: 0.896263\n",
      "[100]\tvalid_0's auc: 0.899584\n",
      "[150]\tvalid_0's auc: 0.902213\n",
      "[200]\tvalid_0's auc: 0.903541\n",
      "[250]\tvalid_0's auc: 0.904386\n",
      "[300]\tvalid_0's auc: 0.904599\n"
     ]
    },
    {
     "name": "stderr",
     "output_type": "stream",
     "text": [
      "feature_fraction, val_score: 0.906875: 100%|#############################################| 7/7 [00:06<00:00,  1.00it/s]\n"
     ]
    },
    {
     "name": "stdout",
     "output_type": "stream",
     "text": [
      "[350]\tvalid_0's auc: 0.904416\n",
      "Early stopping, best iteration is:\n",
      "[299]\tvalid_0's auc: 0.904604\n"
     ]
    },
    {
     "name": "stderr",
     "output_type": "stream",
     "text": [
      "num_leaves, val_score: 0.906875:   0%|                                                          | 0/20 [00:00<?, ?it/s]"
     ]
    },
    {
     "name": "stdout",
     "output_type": "stream",
     "text": [
      "Training until validation scores don't improve for 100 rounds\n"
     ]
    },
    {
     "name": "stderr",
     "output_type": "stream",
     "text": [
      "C:\\Python39\\lib\\site-packages\\lightgbm\\engine.py:181: UserWarning: 'early_stopping_rounds' argument is deprecated and will be removed in a future release of LightGBM. Pass 'early_stopping()' callback via 'callbacks' argument instead.\n",
      "  _log_warning(\"'early_stopping_rounds' argument is deprecated and will be removed in a future release of LightGBM. \"\n",
      "C:\\Python39\\lib\\site-packages\\lightgbm\\basic.py:2068: UserWarning: categorical_feature in Dataset is overridden.\n",
      "New categorical_feature is ['education', 'marital.status', 'native.country', 'occupation', 'race', 'relationship', 'sex', 'workclass']\n",
      "  _log_warning('categorical_feature in Dataset is overridden.\\n'\n",
      "C:\\Python39\\lib\\site-packages\\lightgbm\\engine.py:239: UserWarning: 'verbose_eval' argument is deprecated and will be removed in a future release of LightGBM. Pass 'log_evaluation()' callback via 'callbacks' argument instead.\n",
      "  _log_warning(\"'verbose_eval' argument is deprecated and will be removed in a future release of LightGBM. \"\n",
      "C:\\Python39\\lib\\site-packages\\lightgbm\\basic.py:1780: UserWarning: Overriding the parameters from Reference Dataset.\n",
      "  _log_warning('Overriding the parameters from Reference Dataset.')\n",
      "C:\\Python39\\lib\\site-packages\\lightgbm\\basic.py:1513: UserWarning: categorical_column in param dict is overridden.\n",
      "  _log_warning(f'{cat_alias} in param dict is overridden.')\n"
     ]
    },
    {
     "name": "stdout",
     "output_type": "stream",
     "text": [
      "[50]\tvalid_0's auc: 0.901472\n",
      "[100]\tvalid_0's auc: 0.902782\n",
      "[150]\tvalid_0's auc: 0.903957\n",
      "[200]\tvalid_0's auc: 0.904806\n",
      "[250]\tvalid_0's auc: 0.905611\n",
      "[300]\tvalid_0's auc: 0.906235\n",
      "[350]\tvalid_0's auc: 0.906448\n",
      "[400]\tvalid_0's auc: 0.906632\n",
      "[450]\tvalid_0's auc: 0.906834\n",
      "[500]\tvalid_0's auc: 0.906915\n",
      "[550]\tvalid_0's auc: 0.906902\n",
      "[600]\tvalid_0's auc: 0.906995\n",
      "[650]\tvalid_0's auc: 0.906909\n",
      "Early stopping, best iteration is:\n",
      "[598]\tvalid_0's auc: 0.907011\n"
     ]
    },
    {
     "name": "stderr",
     "output_type": "stream",
     "text": [
      "num_leaves, val_score: 0.907011:   5%|##5                                               | 1/20 [00:01<00:22,  1.18s/it]"
     ]
    },
    {
     "name": "stdout",
     "output_type": "stream",
     "text": [
      "Training until validation scores don't improve for 100 rounds\n"
     ]
    },
    {
     "name": "stderr",
     "output_type": "stream",
     "text": [
      "C:\\Python39\\lib\\site-packages\\lightgbm\\engine.py:181: UserWarning: 'early_stopping_rounds' argument is deprecated and will be removed in a future release of LightGBM. Pass 'early_stopping()' callback via 'callbacks' argument instead.\n",
      "  _log_warning(\"'early_stopping_rounds' argument is deprecated and will be removed in a future release of LightGBM. \"\n",
      "C:\\Python39\\lib\\site-packages\\lightgbm\\basic.py:2068: UserWarning: categorical_feature in Dataset is overridden.\n",
      "New categorical_feature is ['education', 'marital.status', 'native.country', 'occupation', 'race', 'relationship', 'sex', 'workclass']\n",
      "  _log_warning('categorical_feature in Dataset is overridden.\\n'\n",
      "C:\\Python39\\lib\\site-packages\\lightgbm\\engine.py:239: UserWarning: 'verbose_eval' argument is deprecated and will be removed in a future release of LightGBM. Pass 'log_evaluation()' callback via 'callbacks' argument instead.\n",
      "  _log_warning(\"'verbose_eval' argument is deprecated and will be removed in a future release of LightGBM. \"\n",
      "C:\\Python39\\lib\\site-packages\\lightgbm\\basic.py:1780: UserWarning: Overriding the parameters from Reference Dataset.\n",
      "  _log_warning('Overriding the parameters from Reference Dataset.')\n",
      "C:\\Python39\\lib\\site-packages\\lightgbm\\basic.py:1513: UserWarning: categorical_column in param dict is overridden.\n",
      "  _log_warning(f'{cat_alias} in param dict is overridden.')\n"
     ]
    },
    {
     "name": "stdout",
     "output_type": "stream",
     "text": [
      "[50]\tvalid_0's auc: 0.903149\n",
      "[100]\tvalid_0's auc: 0.903752\n",
      "[150]\tvalid_0's auc: 0.90403\n",
      "[200]\tvalid_0's auc: 0.903883\n"
     ]
    },
    {
     "name": "stderr",
     "output_type": "stream",
     "text": [
      "num_leaves, val_score: 0.907011:  10%|#####                                             | 2/20 [00:02<00:22,  1.23s/it]"
     ]
    },
    {
     "name": "stdout",
     "output_type": "stream",
     "text": [
      "[250]\tvalid_0's auc: 0.903609\n",
      "Early stopping, best iteration is:\n",
      "[166]\tvalid_0's auc: 0.904192\n",
      "Training until validation scores don't improve for 100 rounds\n"
     ]
    },
    {
     "name": "stderr",
     "output_type": "stream",
     "text": [
      "C:\\Python39\\lib\\site-packages\\lightgbm\\engine.py:181: UserWarning: 'early_stopping_rounds' argument is deprecated and will be removed in a future release of LightGBM. Pass 'early_stopping()' callback via 'callbacks' argument instead.\n",
      "  _log_warning(\"'early_stopping_rounds' argument is deprecated and will be removed in a future release of LightGBM. \"\n",
      "C:\\Python39\\lib\\site-packages\\lightgbm\\basic.py:2068: UserWarning: categorical_feature in Dataset is overridden.\n",
      "New categorical_feature is ['education', 'marital.status', 'native.country', 'occupation', 'race', 'relationship', 'sex', 'workclass']\n",
      "  _log_warning('categorical_feature in Dataset is overridden.\\n'\n",
      "C:\\Python39\\lib\\site-packages\\lightgbm\\engine.py:239: UserWarning: 'verbose_eval' argument is deprecated and will be removed in a future release of LightGBM. Pass 'log_evaluation()' callback via 'callbacks' argument instead.\n",
      "  _log_warning(\"'verbose_eval' argument is deprecated and will be removed in a future release of LightGBM. \"\n",
      "C:\\Python39\\lib\\site-packages\\lightgbm\\basic.py:1780: UserWarning: Overriding the parameters from Reference Dataset.\n",
      "  _log_warning('Overriding the parameters from Reference Dataset.')\n",
      "C:\\Python39\\lib\\site-packages\\lightgbm\\basic.py:1513: UserWarning: categorical_column in param dict is overridden.\n",
      "  _log_warning(f'{cat_alias} in param dict is overridden.')\n"
     ]
    },
    {
     "name": "stdout",
     "output_type": "stream",
     "text": [
      "[50]\tvalid_0's auc: 0.903502\n",
      "[100]\tvalid_0's auc: 0.904274\n",
      "[150]\tvalid_0's auc: 0.904716\n",
      "[200]\tvalid_0's auc: 0.904798\n"
     ]
    },
    {
     "name": "stderr",
     "output_type": "stream",
     "text": [
      "num_leaves, val_score: 0.907011:  15%|#######5                                          | 3/20 [00:03<00:18,  1.09s/it]"
     ]
    },
    {
     "name": "stdout",
     "output_type": "stream",
     "text": [
      "[250]\tvalid_0's auc: 0.904761\n",
      "Early stopping, best iteration is:\n",
      "[166]\tvalid_0's auc: 0.904974\n",
      "Training until validation scores don't improve for 100 rounds\n"
     ]
    },
    {
     "name": "stderr",
     "output_type": "stream",
     "text": [
      "C:\\Python39\\lib\\site-packages\\lightgbm\\engine.py:181: UserWarning: 'early_stopping_rounds' argument is deprecated and will be removed in a future release of LightGBM. Pass 'early_stopping()' callback via 'callbacks' argument instead.\n",
      "  _log_warning(\"'early_stopping_rounds' argument is deprecated and will be removed in a future release of LightGBM. \"\n",
      "C:\\Python39\\lib\\site-packages\\lightgbm\\basic.py:2068: UserWarning: categorical_feature in Dataset is overridden.\n",
      "New categorical_feature is ['education', 'marital.status', 'native.country', 'occupation', 'race', 'relationship', 'sex', 'workclass']\n",
      "  _log_warning('categorical_feature in Dataset is overridden.\\n'\n",
      "C:\\Python39\\lib\\site-packages\\lightgbm\\engine.py:239: UserWarning: 'verbose_eval' argument is deprecated and will be removed in a future release of LightGBM. Pass 'log_evaluation()' callback via 'callbacks' argument instead.\n",
      "  _log_warning(\"'verbose_eval' argument is deprecated and will be removed in a future release of LightGBM. \"\n",
      "C:\\Python39\\lib\\site-packages\\lightgbm\\basic.py:1780: UserWarning: Overriding the parameters from Reference Dataset.\n",
      "  _log_warning('Overriding the parameters from Reference Dataset.')\n",
      "C:\\Python39\\lib\\site-packages\\lightgbm\\basic.py:1513: UserWarning: categorical_column in param dict is overridden.\n",
      "  _log_warning(f'{cat_alias} in param dict is overridden.')\n"
     ]
    },
    {
     "name": "stdout",
     "output_type": "stream",
     "text": [
      "[50]\tvalid_0's auc: 0.903247\n",
      "[100]\tvalid_0's auc: 0.903833\n",
      "[150]\tvalid_0's auc: 0.90416\n",
      "[200]\tvalid_0's auc: 0.904047\n",
      "[250]\tvalid_0's auc: 0.903754\n"
     ]
    },
    {
     "name": "stderr",
     "output_type": "stream",
     "text": [
      "num_leaves, val_score: 0.907011:  20%|##########                                        | 4/20 [00:04<00:18,  1.17s/it]"
     ]
    },
    {
     "name": "stdout",
     "output_type": "stream",
     "text": [
      "Early stopping, best iteration is:\n",
      "[185]\tvalid_0's auc: 0.904339\n",
      "Training until validation scores don't improve for 100 rounds\n"
     ]
    },
    {
     "name": "stderr",
     "output_type": "stream",
     "text": [
      "C:\\Python39\\lib\\site-packages\\lightgbm\\engine.py:181: UserWarning: 'early_stopping_rounds' argument is deprecated and will be removed in a future release of LightGBM. Pass 'early_stopping()' callback via 'callbacks' argument instead.\n",
      "  _log_warning(\"'early_stopping_rounds' argument is deprecated and will be removed in a future release of LightGBM. \"\n",
      "C:\\Python39\\lib\\site-packages\\lightgbm\\basic.py:2068: UserWarning: categorical_feature in Dataset is overridden.\n",
      "New categorical_feature is ['education', 'marital.status', 'native.country', 'occupation', 'race', 'relationship', 'sex', 'workclass']\n",
      "  _log_warning('categorical_feature in Dataset is overridden.\\n'\n",
      "C:\\Python39\\lib\\site-packages\\lightgbm\\engine.py:239: UserWarning: 'verbose_eval' argument is deprecated and will be removed in a future release of LightGBM. Pass 'log_evaluation()' callback via 'callbacks' argument instead.\n",
      "  _log_warning(\"'verbose_eval' argument is deprecated and will be removed in a future release of LightGBM. \"\n",
      "C:\\Python39\\lib\\site-packages\\lightgbm\\basic.py:1780: UserWarning: Overriding the parameters from Reference Dataset.\n",
      "  _log_warning('Overriding the parameters from Reference Dataset.')\n",
      "C:\\Python39\\lib\\site-packages\\lightgbm\\basic.py:1513: UserWarning: categorical_column in param dict is overridden.\n",
      "  _log_warning(f'{cat_alias} in param dict is overridden.')\n"
     ]
    },
    {
     "name": "stdout",
     "output_type": "stream",
     "text": [
      "[50]\tvalid_0's auc: 0.903094\n",
      "[100]\tvalid_0's auc: 0.903583\n",
      "[150]\tvalid_0's auc: 0.903805\n",
      "[200]\tvalid_0's auc: 0.90356\n",
      "Early stopping, best iteration is:\n",
      "[141]\tvalid_0's auc: 0.903958\n"
     ]
    },
    {
     "name": "stderr",
     "output_type": "stream",
     "text": [
      "num_leaves, val_score: 0.907011:  25%|############5                                     | 5/20 [00:06<00:18,  1.24s/it]C:\\Python39\\lib\\site-packages\\lightgbm\\engine.py:181: UserWarning: 'early_stopping_rounds' argument is deprecated and will be removed in a future release of LightGBM. Pass 'early_stopping()' callback via 'callbacks' argument instead.\n",
      "  _log_warning(\"'early_stopping_rounds' argument is deprecated and will be removed in a future release of LightGBM. \"\n",
      "C:\\Python39\\lib\\site-packages\\lightgbm\\basic.py:2068: UserWarning: categorical_feature in Dataset is overridden.\n",
      "New categorical_feature is ['education', 'marital.status', 'native.country', 'occupation', 'race', 'relationship', 'sex', 'workclass']\n",
      "  _log_warning('categorical_feature in Dataset is overridden.\\n'\n",
      "C:\\Python39\\lib\\site-packages\\lightgbm\\engine.py:239: UserWarning: 'verbose_eval' argument is deprecated and will be removed in a future release of LightGBM. Pass 'log_evaluation()' callback via 'callbacks' argument instead.\n",
      "  _log_warning(\"'verbose_eval' argument is deprecated and will be removed in a future release of LightGBM. \"\n",
      "C:\\Python39\\lib\\site-packages\\lightgbm\\basic.py:1780: UserWarning: Overriding the parameters from Reference Dataset.\n",
      "  _log_warning('Overriding the parameters from Reference Dataset.')\n",
      "C:\\Python39\\lib\\site-packages\\lightgbm\\basic.py:1513: UserWarning: categorical_column in param dict is overridden.\n",
      "  _log_warning(f'{cat_alias} in param dict is overridden.')\n"
     ]
    },
    {
     "name": "stdout",
     "output_type": "stream",
     "text": [
      "Training until validation scores don't improve for 100 rounds\n",
      "[50]\tvalid_0's auc: 0.90352\n",
      "[100]\tvalid_0's auc: 0.904277\n",
      "[150]\tvalid_0's auc: 0.904473\n",
      "[200]\tvalid_0's auc: 0.904645\n",
      "[250]\tvalid_0's auc: 0.904483\n"
     ]
    },
    {
     "name": "stderr",
     "output_type": "stream",
     "text": [
      "num_leaves, val_score: 0.907011:  30%|###############                                   | 6/20 [00:07<00:16,  1.18s/it]"
     ]
    },
    {
     "name": "stdout",
     "output_type": "stream",
     "text": [
      "Early stopping, best iteration is:\n",
      "[181]\tvalid_0's auc: 0.904811\n",
      "Training until validation scores don't improve for 100 rounds\n"
     ]
    },
    {
     "name": "stderr",
     "output_type": "stream",
     "text": [
      "C:\\Python39\\lib\\site-packages\\lightgbm\\engine.py:181: UserWarning: 'early_stopping_rounds' argument is deprecated and will be removed in a future release of LightGBM. Pass 'early_stopping()' callback via 'callbacks' argument instead.\n",
      "  _log_warning(\"'early_stopping_rounds' argument is deprecated and will be removed in a future release of LightGBM. \"\n",
      "C:\\Python39\\lib\\site-packages\\lightgbm\\basic.py:2068: UserWarning: categorical_feature in Dataset is overridden.\n",
      "New categorical_feature is ['education', 'marital.status', 'native.country', 'occupation', 'race', 'relationship', 'sex', 'workclass']\n",
      "  _log_warning('categorical_feature in Dataset is overridden.\\n'\n",
      "C:\\Python39\\lib\\site-packages\\lightgbm\\engine.py:239: UserWarning: 'verbose_eval' argument is deprecated and will be removed in a future release of LightGBM. Pass 'log_evaluation()' callback via 'callbacks' argument instead.\n",
      "  _log_warning(\"'verbose_eval' argument is deprecated and will be removed in a future release of LightGBM. \"\n",
      "C:\\Python39\\lib\\site-packages\\lightgbm\\basic.py:1780: UserWarning: Overriding the parameters from Reference Dataset.\n",
      "  _log_warning('Overriding the parameters from Reference Dataset.')\n",
      "C:\\Python39\\lib\\site-packages\\lightgbm\\basic.py:1513: UserWarning: categorical_column in param dict is overridden.\n",
      "  _log_warning(f'{cat_alias} in param dict is overridden.')\n"
     ]
    },
    {
     "name": "stdout",
     "output_type": "stream",
     "text": [
      "[50]\tvalid_0's auc: 0.903492\n",
      "[100]\tvalid_0's auc: 0.904214\n",
      "[150]\tvalid_0's auc: 0.904552\n",
      "[200]\tvalid_0's auc: 0.904719\n",
      "[250]\tvalid_0's auc: 0.90467\n",
      "Early stopping, best iteration is:\n",
      "[185]\tvalid_0's auc: 0.904836\n"
     ]
    },
    {
     "name": "stderr",
     "output_type": "stream",
     "text": [
      "num_leaves, val_score: 0.907011:  35%|#################5                                | 7/20 [00:08<00:14,  1.14s/it]C:\\Python39\\lib\\site-packages\\lightgbm\\engine.py:181: UserWarning: 'early_stopping_rounds' argument is deprecated and will be removed in a future release of LightGBM. Pass 'early_stopping()' callback via 'callbacks' argument instead.\n",
      "  _log_warning(\"'early_stopping_rounds' argument is deprecated and will be removed in a future release of LightGBM. \"\n",
      "C:\\Python39\\lib\\site-packages\\lightgbm\\basic.py:2068: UserWarning: categorical_feature in Dataset is overridden.\n",
      "New categorical_feature is ['education', 'marital.status', 'native.country', 'occupation', 'race', 'relationship', 'sex', 'workclass']\n",
      "  _log_warning('categorical_feature in Dataset is overridden.\\n'\n",
      "C:\\Python39\\lib\\site-packages\\lightgbm\\engine.py:239: UserWarning: 'verbose_eval' argument is deprecated and will be removed in a future release of LightGBM. Pass 'log_evaluation()' callback via 'callbacks' argument instead.\n",
      "  _log_warning(\"'verbose_eval' argument is deprecated and will be removed in a future release of LightGBM. \"\n",
      "C:\\Python39\\lib\\site-packages\\lightgbm\\basic.py:1780: UserWarning: Overriding the parameters from Reference Dataset.\n",
      "  _log_warning('Overriding the parameters from Reference Dataset.')\n",
      "C:\\Python39\\lib\\site-packages\\lightgbm\\basic.py:1513: UserWarning: categorical_column in param dict is overridden.\n",
      "  _log_warning(f'{cat_alias} in param dict is overridden.')\n"
     ]
    },
    {
     "name": "stdout",
     "output_type": "stream",
     "text": [
      "Training until validation scores don't improve for 100 rounds\n",
      "[50]\tvalid_0's auc: 0.901416\n",
      "[100]\tvalid_0's auc: 0.90258\n",
      "[150]\tvalid_0's auc: 0.903771\n",
      "[200]\tvalid_0's auc: 0.904686\n",
      "[250]\tvalid_0's auc: 0.905568\n",
      "[300]\tvalid_0's auc: 0.906235\n",
      "[350]\tvalid_0's auc: 0.906504\n",
      "[400]\tvalid_0's auc: 0.906793\n",
      "[450]\tvalid_0's auc: 0.906851\n",
      "[500]\tvalid_0's auc: 0.906864\n",
      "[550]\tvalid_0's auc: 0.906857\n"
     ]
    },
    {
     "name": "stderr",
     "output_type": "stream",
     "text": [
      "num_leaves, val_score: 0.907011:  40%|####################                              | 8/20 [00:09<00:13,  1.13s/it]"
     ]
    },
    {
     "name": "stdout",
     "output_type": "stream",
     "text": [
      "Early stopping, best iteration is:\n",
      "[481]\tvalid_0's auc: 0.906928\n",
      "Training until validation scores don't improve for 100 rounds\n"
     ]
    },
    {
     "name": "stderr",
     "output_type": "stream",
     "text": [
      "C:\\Python39\\lib\\site-packages\\lightgbm\\engine.py:181: UserWarning: 'early_stopping_rounds' argument is deprecated and will be removed in a future release of LightGBM. Pass 'early_stopping()' callback via 'callbacks' argument instead.\n",
      "  _log_warning(\"'early_stopping_rounds' argument is deprecated and will be removed in a future release of LightGBM. \"\n",
      "C:\\Python39\\lib\\site-packages\\lightgbm\\basic.py:2068: UserWarning: categorical_feature in Dataset is overridden.\n",
      "New categorical_feature is ['education', 'marital.status', 'native.country', 'occupation', 'race', 'relationship', 'sex', 'workclass']\n",
      "  _log_warning('categorical_feature in Dataset is overridden.\\n'\n",
      "C:\\Python39\\lib\\site-packages\\lightgbm\\engine.py:239: UserWarning: 'verbose_eval' argument is deprecated and will be removed in a future release of LightGBM. Pass 'log_evaluation()' callback via 'callbacks' argument instead.\n",
      "  _log_warning(\"'verbose_eval' argument is deprecated and will be removed in a future release of LightGBM. \"\n",
      "C:\\Python39\\lib\\site-packages\\lightgbm\\basic.py:1780: UserWarning: Overriding the parameters from Reference Dataset.\n",
      "  _log_warning('Overriding the parameters from Reference Dataset.')\n",
      "C:\\Python39\\lib\\site-packages\\lightgbm\\basic.py:1513: UserWarning: categorical_column in param dict is overridden.\n",
      "  _log_warning(f'{cat_alias} in param dict is overridden.')\n"
     ]
    },
    {
     "name": "stdout",
     "output_type": "stream",
     "text": [
      "[50]\tvalid_0's auc: 0.903619\n",
      "[100]\tvalid_0's auc: 0.904654\n",
      "[150]\tvalid_0's auc: 0.90519\n",
      "[200]\tvalid_0's auc: 0.905523\n",
      "[250]\tvalid_0's auc: 0.905713\n",
      "[300]\tvalid_0's auc: 0.90566\n"
     ]
    },
    {
     "name": "stderr",
     "output_type": "stream",
     "text": [
      "num_leaves, val_score: 0.907011:  45%|######################5                           | 9/20 [00:10<00:11,  1.06s/it]"
     ]
    },
    {
     "name": "stdout",
     "output_type": "stream",
     "text": [
      "[350]\tvalid_0's auc: 0.905416\n",
      "Early stopping, best iteration is:\n",
      "[264]\tvalid_0's auc: 0.905836\n",
      "Training until validation scores don't improve for 100 rounds\n"
     ]
    },
    {
     "name": "stderr",
     "output_type": "stream",
     "text": [
      "C:\\Python39\\lib\\site-packages\\lightgbm\\engine.py:181: UserWarning: 'early_stopping_rounds' argument is deprecated and will be removed in a future release of LightGBM. Pass 'early_stopping()' callback via 'callbacks' argument instead.\n",
      "  _log_warning(\"'early_stopping_rounds' argument is deprecated and will be removed in a future release of LightGBM. \"\n",
      "C:\\Python39\\lib\\site-packages\\lightgbm\\basic.py:2068: UserWarning: categorical_feature in Dataset is overridden.\n",
      "New categorical_feature is ['education', 'marital.status', 'native.country', 'occupation', 'race', 'relationship', 'sex', 'workclass']\n",
      "  _log_warning('categorical_feature in Dataset is overridden.\\n'\n",
      "C:\\Python39\\lib\\site-packages\\lightgbm\\engine.py:239: UserWarning: 'verbose_eval' argument is deprecated and will be removed in a future release of LightGBM. Pass 'log_evaluation()' callback via 'callbacks' argument instead.\n",
      "  _log_warning(\"'verbose_eval' argument is deprecated and will be removed in a future release of LightGBM. \"\n",
      "C:\\Python39\\lib\\site-packages\\lightgbm\\basic.py:1780: UserWarning: Overriding the parameters from Reference Dataset.\n",
      "  _log_warning('Overriding the parameters from Reference Dataset.')\n",
      "C:\\Python39\\lib\\site-packages\\lightgbm\\basic.py:1513: UserWarning: categorical_column in param dict is overridden.\n",
      "  _log_warning(f'{cat_alias} in param dict is overridden.')\n"
     ]
    },
    {
     "name": "stdout",
     "output_type": "stream",
     "text": [
      "[50]\tvalid_0's auc: 0.903492\n",
      "[100]\tvalid_0's auc: 0.904214\n",
      "[150]\tvalid_0's auc: 0.904552\n",
      "[200]\tvalid_0's auc: 0.904719\n"
     ]
    },
    {
     "name": "stderr",
     "output_type": "stream",
     "text": [
      "num_leaves, val_score: 0.907011:  50%|########################5                        | 10/20 [00:11<00:10,  1.04s/it]"
     ]
    },
    {
     "name": "stdout",
     "output_type": "stream",
     "text": [
      "[250]\tvalid_0's auc: 0.90467\n",
      "Early stopping, best iteration is:\n",
      "[185]\tvalid_0's auc: 0.904836\n"
     ]
    },
    {
     "name": "stderr",
     "output_type": "stream",
     "text": [
      "num_leaves, val_score: 0.907011:  50%|########################5                        | 10/20 [00:11<00:10,  1.04s/it]C:\\Python39\\lib\\site-packages\\lightgbm\\engine.py:181: UserWarning: 'early_stopping_rounds' argument is deprecated and will be removed in a future release of LightGBM. Pass 'early_stopping()' callback via 'callbacks' argument instead.\n",
      "  _log_warning(\"'early_stopping_rounds' argument is deprecated and will be removed in a future release of LightGBM. \"\n",
      "C:\\Python39\\lib\\site-packages\\lightgbm\\basic.py:2068: UserWarning: categorical_feature in Dataset is overridden.\n",
      "New categorical_feature is ['education', 'marital.status', 'native.country', 'occupation', 'race', 'relationship', 'sex', 'workclass']\n",
      "  _log_warning('categorical_feature in Dataset is overridden.\\n'\n",
      "C:\\Python39\\lib\\site-packages\\lightgbm\\engine.py:239: UserWarning: 'verbose_eval' argument is deprecated and will be removed in a future release of LightGBM. Pass 'log_evaluation()' callback via 'callbacks' argument instead.\n",
      "  _log_warning(\"'verbose_eval' argument is deprecated and will be removed in a future release of LightGBM. \"\n",
      "C:\\Python39\\lib\\site-packages\\lightgbm\\basic.py:1780: UserWarning: Overriding the parameters from Reference Dataset.\n",
      "  _log_warning('Overriding the parameters from Reference Dataset.')\n",
      "C:\\Python39\\lib\\site-packages\\lightgbm\\basic.py:1513: UserWarning: categorical_column in param dict is overridden.\n",
      "  _log_warning(f'{cat_alias} in param dict is overridden.')\n"
     ]
    },
    {
     "name": "stdout",
     "output_type": "stream",
     "text": [
      "Training until validation scores don't improve for 100 rounds\n",
      "[50]\tvalid_0's auc: 0.902954\n",
      "[100]\tvalid_0's auc: 0.904408\n",
      "[150]\tvalid_0's auc: 0.905258\n",
      "[200]\tvalid_0's auc: 0.905833\n",
      "[250]\tvalid_0's auc: 0.906249\n",
      "[300]\tvalid_0's auc: 0.906441\n",
      "[350]\tvalid_0's auc: 0.906483\n",
      "[400]\tvalid_0's auc: 0.906448\n"
     ]
    },
    {
     "name": "stderr",
     "output_type": "stream",
     "text": [
      "num_leaves, val_score: 0.907011:  55%|##########################9                      | 11/20 [00:12<00:09,  1.01s/it]"
     ]
    },
    {
     "name": "stdout",
     "output_type": "stream",
     "text": [
      "[450]\tvalid_0's auc: 0.906449\n",
      "Early stopping, best iteration is:\n",
      "[367]\tvalid_0's auc: 0.906575\n",
      "Training until validation scores don't improve for 100 rounds\n",
      "[50]\tvalid_0's auc: 0.899884\n"
     ]
    },
    {
     "name": "stderr",
     "output_type": "stream",
     "text": [
      "C:\\Python39\\lib\\site-packages\\lightgbm\\engine.py:181: UserWarning: 'early_stopping_rounds' argument is deprecated and will be removed in a future release of LightGBM. Pass 'early_stopping()' callback via 'callbacks' argument instead.\n",
      "  _log_warning(\"'early_stopping_rounds' argument is deprecated and will be removed in a future release of LightGBM. \"\n",
      "C:\\Python39\\lib\\site-packages\\lightgbm\\basic.py:2068: UserWarning: categorical_feature in Dataset is overridden.\n",
      "New categorical_feature is ['education', 'marital.status', 'native.country', 'occupation', 'race', 'relationship', 'sex', 'workclass']\n",
      "  _log_warning('categorical_feature in Dataset is overridden.\\n'\n",
      "C:\\Python39\\lib\\site-packages\\lightgbm\\engine.py:239: UserWarning: 'verbose_eval' argument is deprecated and will be removed in a future release of LightGBM. Pass 'log_evaluation()' callback via 'callbacks' argument instead.\n",
      "  _log_warning(\"'verbose_eval' argument is deprecated and will be removed in a future release of LightGBM. \"\n",
      "C:\\Python39\\lib\\site-packages\\lightgbm\\basic.py:1780: UserWarning: Overriding the parameters from Reference Dataset.\n",
      "  _log_warning('Overriding the parameters from Reference Dataset.')\n",
      "C:\\Python39\\lib\\site-packages\\lightgbm\\basic.py:1513: UserWarning: categorical_column in param dict is overridden.\n",
      "  _log_warning(f'{cat_alias} in param dict is overridden.')\n"
     ]
    },
    {
     "name": "stdout",
     "output_type": "stream",
     "text": [
      "[100]\tvalid_0's auc: 0.900778\n",
      "[150]\tvalid_0's auc: 0.902019\n",
      "[200]\tvalid_0's auc: 0.903316\n",
      "[250]\tvalid_0's auc: 0.904292\n",
      "[300]\tvalid_0's auc: 0.904917\n",
      "[350]\tvalid_0's auc: 0.905348\n",
      "[400]\tvalid_0's auc: 0.90581\n",
      "[450]\tvalid_0's auc: 0.906093\n",
      "[500]\tvalid_0's auc: 0.906248\n",
      "[550]\tvalid_0's auc: 0.90641\n",
      "[600]\tvalid_0's auc: 0.906474\n",
      "[650]\tvalid_0's auc: 0.906481\n",
      "[700]\tvalid_0's auc: 0.906452\n",
      "[750]\tvalid_0's auc: 0.90648\n",
      "[800]\tvalid_0's auc: 0.906486\n",
      "[850]\tvalid_0's auc: 0.906403\n"
     ]
    },
    {
     "name": "stderr",
     "output_type": "stream",
     "text": [
      "num_leaves, val_score: 0.907011:  60%|#############################4                   | 12/20 [00:13<00:08,  1.06s/it]"
     ]
    },
    {
     "name": "stdout",
     "output_type": "stream",
     "text": [
      "Early stopping, best iteration is:\n",
      "[797]\tvalid_0's auc: 0.90653\n",
      "Training until validation scores don't improve for 100 rounds\n"
     ]
    },
    {
     "name": "stderr",
     "output_type": "stream",
     "text": [
      "C:\\Python39\\lib\\site-packages\\lightgbm\\engine.py:181: UserWarning: 'early_stopping_rounds' argument is deprecated and will be removed in a future release of LightGBM. Pass 'early_stopping()' callback via 'callbacks' argument instead.\n",
      "  _log_warning(\"'early_stopping_rounds' argument is deprecated and will be removed in a future release of LightGBM. \"\n",
      "C:\\Python39\\lib\\site-packages\\lightgbm\\basic.py:2068: UserWarning: categorical_feature in Dataset is overridden.\n",
      "New categorical_feature is ['education', 'marital.status', 'native.country', 'occupation', 'race', 'relationship', 'sex', 'workclass']\n",
      "  _log_warning('categorical_feature in Dataset is overridden.\\n'\n",
      "C:\\Python39\\lib\\site-packages\\lightgbm\\engine.py:239: UserWarning: 'verbose_eval' argument is deprecated and will be removed in a future release of LightGBM. Pass 'log_evaluation()' callback via 'callbacks' argument instead.\n",
      "  _log_warning(\"'verbose_eval' argument is deprecated and will be removed in a future release of LightGBM. \"\n",
      "C:\\Python39\\lib\\site-packages\\lightgbm\\basic.py:1780: UserWarning: Overriding the parameters from Reference Dataset.\n",
      "  _log_warning('Overriding the parameters from Reference Dataset.')\n",
      "C:\\Python39\\lib\\site-packages\\lightgbm\\basic.py:1513: UserWarning: categorical_column in param dict is overridden.\n",
      "  _log_warning(f'{cat_alias} in param dict is overridden.')\n"
     ]
    },
    {
     "name": "stdout",
     "output_type": "stream",
     "text": [
      "[50]\tvalid_0's auc: 0.903597\n",
      "[100]\tvalid_0's auc: 0.904848\n",
      "[150]\tvalid_0's auc: 0.905451\n",
      "[200]\tvalid_0's auc: 0.90575\n",
      "[250]\tvalid_0's auc: 0.90596\n",
      "[300]\tvalid_0's auc: 0.905886\n",
      "Early stopping, best iteration is:\n",
      "[231]\tvalid_0's auc: 0.906028\n"
     ]
    },
    {
     "name": "stderr",
     "output_type": "stream",
     "text": [
      "num_leaves, val_score: 0.907011:  65%|###############################8                 | 13/20 [00:14<00:06,  1.02it/s]C:\\Python39\\lib\\site-packages\\lightgbm\\engine.py:181: UserWarning: 'early_stopping_rounds' argument is deprecated and will be removed in a future release of LightGBM. Pass 'early_stopping()' callback via 'callbacks' argument instead.\n",
      "  _log_warning(\"'early_stopping_rounds' argument is deprecated and will be removed in a future release of LightGBM. \"\n",
      "C:\\Python39\\lib\\site-packages\\lightgbm\\basic.py:2068: UserWarning: categorical_feature in Dataset is overridden.\n",
      "New categorical_feature is ['education', 'marital.status', 'native.country', 'occupation', 'race', 'relationship', 'sex', 'workclass']\n",
      "  _log_warning('categorical_feature in Dataset is overridden.\\n'\n",
      "C:\\Python39\\lib\\site-packages\\lightgbm\\engine.py:239: UserWarning: 'verbose_eval' argument is deprecated and will be removed in a future release of LightGBM. Pass 'log_evaluation()' callback via 'callbacks' argument instead.\n",
      "  _log_warning(\"'verbose_eval' argument is deprecated and will be removed in a future release of LightGBM. \"\n",
      "C:\\Python39\\lib\\site-packages\\lightgbm\\basic.py:1780: UserWarning: Overriding the parameters from Reference Dataset.\n",
      "  _log_warning('Overriding the parameters from Reference Dataset.')\n",
      "C:\\Python39\\lib\\site-packages\\lightgbm\\basic.py:1513: UserWarning: categorical_column in param dict is overridden.\n",
      "  _log_warning(f'{cat_alias} in param dict is overridden.')\n"
     ]
    },
    {
     "name": "stdout",
     "output_type": "stream",
     "text": [
      "Training until validation scores don't improve for 100 rounds\n",
      "[50]\tvalid_0's auc: 0.895462\n",
      "[100]\tvalid_0's auc: 0.895791\n",
      "[150]\tvalid_0's auc: 0.896989\n",
      "[200]\tvalid_0's auc: 0.898698\n",
      "[250]\tvalid_0's auc: 0.900005\n",
      "[300]\tvalid_0's auc: 0.901229\n",
      "[350]\tvalid_0's auc: 0.902246\n",
      "[400]\tvalid_0's auc: 0.902958\n",
      "[450]\tvalid_0's auc: 0.903521\n",
      "[500]\tvalid_0's auc: 0.903912\n",
      "[550]\tvalid_0's auc: 0.904394\n",
      "[600]\tvalid_0's auc: 0.904703\n",
      "[650]\tvalid_0's auc: 0.904983\n",
      "[700]\tvalid_0's auc: 0.905099\n",
      "[750]\tvalid_0's auc: 0.905263\n",
      "[800]\tvalid_0's auc: 0.905384\n",
      "[850]\tvalid_0's auc: 0.905427\n",
      "[900]\tvalid_0's auc: 0.905502\n",
      "[950]\tvalid_0's auc: 0.905564\n",
      "[1000]\tvalid_0's auc: 0.90569\n",
      "[1050]\tvalid_0's auc: 0.905739\n",
      "[1100]\tvalid_0's auc: 0.905759\n",
      "[1150]\tvalid_0's auc: 0.905809\n",
      "[1200]\tvalid_0's auc: 0.905857\n"
     ]
    },
    {
     "name": "stderr",
     "output_type": "stream",
     "text": [
      "num_leaves, val_score: 0.907011:  70%|##################################3              | 14/20 [00:15<00:06,  1.13s/it]"
     ]
    },
    {
     "name": "stdout",
     "output_type": "stream",
     "text": [
      "[1250]\tvalid_0's auc: 0.905823\n",
      "[1300]\tvalid_0's auc: 0.905799\n",
      "Early stopping, best iteration is:\n",
      "[1211]\tvalid_0's auc: 0.905872\n",
      "Training until validation scores don't improve for 100 rounds\n"
     ]
    },
    {
     "name": "stderr",
     "output_type": "stream",
     "text": [
      "C:\\Python39\\lib\\site-packages\\lightgbm\\engine.py:181: UserWarning: 'early_stopping_rounds' argument is deprecated and will be removed in a future release of LightGBM. Pass 'early_stopping()' callback via 'callbacks' argument instead.\n",
      "  _log_warning(\"'early_stopping_rounds' argument is deprecated and will be removed in a future release of LightGBM. \"\n",
      "C:\\Python39\\lib\\site-packages\\lightgbm\\basic.py:2068: UserWarning: categorical_feature in Dataset is overridden.\n",
      "New categorical_feature is ['education', 'marital.status', 'native.country', 'occupation', 'race', 'relationship', 'sex', 'workclass']\n",
      "  _log_warning('categorical_feature in Dataset is overridden.\\n'\n",
      "C:\\Python39\\lib\\site-packages\\lightgbm\\engine.py:239: UserWarning: 'verbose_eval' argument is deprecated and will be removed in a future release of LightGBM. Pass 'log_evaluation()' callback via 'callbacks' argument instead.\n",
      "  _log_warning(\"'verbose_eval' argument is deprecated and will be removed in a future release of LightGBM. \"\n",
      "C:\\Python39\\lib\\site-packages\\lightgbm\\basic.py:1780: UserWarning: Overriding the parameters from Reference Dataset.\n",
      "  _log_warning('Overriding the parameters from Reference Dataset.')\n",
      "C:\\Python39\\lib\\site-packages\\lightgbm\\basic.py:1513: UserWarning: categorical_column in param dict is overridden.\n",
      "  _log_warning(f'{cat_alias} in param dict is overridden.')\n"
     ]
    },
    {
     "name": "stdout",
     "output_type": "stream",
     "text": [
      "[50]\tvalid_0's auc: 0.903732\n",
      "[100]\tvalid_0's auc: 0.904661\n",
      "[150]\tvalid_0's auc: 0.905179\n",
      "[200]\tvalid_0's auc: 0.905371\n"
     ]
    },
    {
     "name": "stderr",
     "output_type": "stream",
     "text": [
      "num_leaves, val_score: 0.907011:  75%|####################################7            | 15/20 [00:16<00:05,  1.02s/it]"
     ]
    },
    {
     "name": "stdout",
     "output_type": "stream",
     "text": [
      "[250]\tvalid_0's auc: 0.905448\n",
      "Early stopping, best iteration is:\n",
      "[179]\tvalid_0's auc: 0.905525\n",
      "Training until validation scores don't improve for 100 rounds\n"
     ]
    },
    {
     "name": "stderr",
     "output_type": "stream",
     "text": [
      "C:\\Python39\\lib\\site-packages\\lightgbm\\engine.py:181: UserWarning: 'early_stopping_rounds' argument is deprecated and will be removed in a future release of LightGBM. Pass 'early_stopping()' callback via 'callbacks' argument instead.\n",
      "  _log_warning(\"'early_stopping_rounds' argument is deprecated and will be removed in a future release of LightGBM. \"\n",
      "C:\\Python39\\lib\\site-packages\\lightgbm\\basic.py:2068: UserWarning: categorical_feature in Dataset is overridden.\n",
      "New categorical_feature is ['education', 'marital.status', 'native.country', 'occupation', 'race', 'relationship', 'sex', 'workclass']\n",
      "  _log_warning('categorical_feature in Dataset is overridden.\\n'\n",
      "C:\\Python39\\lib\\site-packages\\lightgbm\\engine.py:239: UserWarning: 'verbose_eval' argument is deprecated and will be removed in a future release of LightGBM. Pass 'log_evaluation()' callback via 'callbacks' argument instead.\n",
      "  _log_warning(\"'verbose_eval' argument is deprecated and will be removed in a future release of LightGBM. \"\n",
      "C:\\Python39\\lib\\site-packages\\lightgbm\\basic.py:1780: UserWarning: Overriding the parameters from Reference Dataset.\n",
      "  _log_warning('Overriding the parameters from Reference Dataset.')\n",
      "C:\\Python39\\lib\\site-packages\\lightgbm\\basic.py:1513: UserWarning: categorical_column in param dict is overridden.\n",
      "  _log_warning(f'{cat_alias} in param dict is overridden.')\n"
     ]
    },
    {
     "name": "stdout",
     "output_type": "stream",
     "text": [
      "[50]\tvalid_0's auc: 0.902954\n",
      "[100]\tvalid_0's auc: 0.904408\n",
      "[150]\tvalid_0's auc: 0.905258\n",
      "[200]\tvalid_0's auc: 0.905833\n",
      "[250]\tvalid_0's auc: 0.906249\n",
      "[300]\tvalid_0's auc: 0.906441\n",
      "[350]\tvalid_0's auc: 0.906483\n",
      "[400]\tvalid_0's auc: 0.906448\n",
      "[450]\tvalid_0's auc: 0.906449\n"
     ]
    },
    {
     "name": "stderr",
     "output_type": "stream",
     "text": [
      "num_leaves, val_score: 0.907011:  80%|#######################################2         | 16/20 [00:17<00:03,  1.00it/s]"
     ]
    },
    {
     "name": "stdout",
     "output_type": "stream",
     "text": [
      "Early stopping, best iteration is:\n",
      "[367]\tvalid_0's auc: 0.906575\n",
      "Training until validation scores don't improve for 100 rounds\n"
     ]
    },
    {
     "name": "stderr",
     "output_type": "stream",
     "text": [
      "C:\\Python39\\lib\\site-packages\\lightgbm\\engine.py:181: UserWarning: 'early_stopping_rounds' argument is deprecated and will be removed in a future release of LightGBM. Pass 'early_stopping()' callback via 'callbacks' argument instead.\n",
      "  _log_warning(\"'early_stopping_rounds' argument is deprecated and will be removed in a future release of LightGBM. \"\n",
      "C:\\Python39\\lib\\site-packages\\lightgbm\\basic.py:2068: UserWarning: categorical_feature in Dataset is overridden.\n",
      "New categorical_feature is ['education', 'marital.status', 'native.country', 'occupation', 'race', 'relationship', 'sex', 'workclass']\n",
      "  _log_warning('categorical_feature in Dataset is overridden.\\n'\n",
      "C:\\Python39\\lib\\site-packages\\lightgbm\\engine.py:239: UserWarning: 'verbose_eval' argument is deprecated and will be removed in a future release of LightGBM. Pass 'log_evaluation()' callback via 'callbacks' argument instead.\n",
      "  _log_warning(\"'verbose_eval' argument is deprecated and will be removed in a future release of LightGBM. \"\n",
      "C:\\Python39\\lib\\site-packages\\lightgbm\\basic.py:1780: UserWarning: Overriding the parameters from Reference Dataset.\n",
      "  _log_warning('Overriding the parameters from Reference Dataset.')\n",
      "C:\\Python39\\lib\\site-packages\\lightgbm\\basic.py:1513: UserWarning: categorical_column in param dict is overridden.\n",
      "  _log_warning(f'{cat_alias} in param dict is overridden.')\n"
     ]
    },
    {
     "name": "stdout",
     "output_type": "stream",
     "text": [
      "[50]\tvalid_0's auc: 0.903658\n",
      "[100]\tvalid_0's auc: 0.904458\n",
      "[150]\tvalid_0's auc: 0.904978\n",
      "[200]\tvalid_0's auc: 0.905161\n",
      "[250]\tvalid_0's auc: 0.905296\n",
      "[300]\tvalid_0's auc: 0.905059\n"
     ]
    },
    {
     "name": "stderr",
     "output_type": "stream",
     "text": [
      "num_leaves, val_score: 0.907011:  85%|#########################################6       | 17/20 [00:18<00:02,  1.02it/s]"
     ]
    },
    {
     "name": "stdout",
     "output_type": "stream",
     "text": [
      "Early stopping, best iteration is:\n",
      "[237]\tvalid_0's auc: 0.905395\n",
      "Training until validation scores don't improve for 100 rounds\n"
     ]
    },
    {
     "name": "stderr",
     "output_type": "stream",
     "text": [
      "C:\\Python39\\lib\\site-packages\\lightgbm\\engine.py:181: UserWarning: 'early_stopping_rounds' argument is deprecated and will be removed in a future release of LightGBM. Pass 'early_stopping()' callback via 'callbacks' argument instead.\n",
      "  _log_warning(\"'early_stopping_rounds' argument is deprecated and will be removed in a future release of LightGBM. \"\n",
      "C:\\Python39\\lib\\site-packages\\lightgbm\\basic.py:2068: UserWarning: categorical_feature in Dataset is overridden.\n",
      "New categorical_feature is ['education', 'marital.status', 'native.country', 'occupation', 'race', 'relationship', 'sex', 'workclass']\n",
      "  _log_warning('categorical_feature in Dataset is overridden.\\n'\n",
      "C:\\Python39\\lib\\site-packages\\lightgbm\\engine.py:239: UserWarning: 'verbose_eval' argument is deprecated and will be removed in a future release of LightGBM. Pass 'log_evaluation()' callback via 'callbacks' argument instead.\n",
      "  _log_warning(\"'verbose_eval' argument is deprecated and will be removed in a future release of LightGBM. \"\n",
      "C:\\Python39\\lib\\site-packages\\lightgbm\\basic.py:1780: UserWarning: Overriding the parameters from Reference Dataset.\n",
      "  _log_warning('Overriding the parameters from Reference Dataset.')\n",
      "C:\\Python39\\lib\\site-packages\\lightgbm\\basic.py:1513: UserWarning: categorical_column in param dict is overridden.\n",
      "  _log_warning(f'{cat_alias} in param dict is overridden.')\n"
     ]
    },
    {
     "name": "stdout",
     "output_type": "stream",
     "text": [
      "[50]\tvalid_0's auc: 0.903208\n",
      "[100]\tvalid_0's auc: 0.904539\n",
      "[150]\tvalid_0's auc: 0.90546\n",
      "[200]\tvalid_0's auc: 0.905936\n",
      "[250]\tvalid_0's auc: 0.90624\n",
      "[300]\tvalid_0's auc: 0.906506\n",
      "[350]\tvalid_0's auc: 0.906548\n",
      "[400]\tvalid_0's auc: 0.906527\n",
      "[450]\tvalid_0's auc: 0.906616\n",
      "[500]\tvalid_0's auc: 0.906307\n",
      "Early stopping, best iteration is:\n",
      "[421]\tvalid_0's auc: 0.906664\n"
     ]
    },
    {
     "name": "stderr",
     "output_type": "stream",
     "text": [
      "num_leaves, val_score: 0.907011:  90%|############################################1    | 18/20 [00:19<00:02,  1.01s/it]C:\\Python39\\lib\\site-packages\\lightgbm\\engine.py:181: UserWarning: 'early_stopping_rounds' argument is deprecated and will be removed in a future release of LightGBM. Pass 'early_stopping()' callback via 'callbacks' argument instead.\n",
      "  _log_warning(\"'early_stopping_rounds' argument is deprecated and will be removed in a future release of LightGBM. \"\n",
      "C:\\Python39\\lib\\site-packages\\lightgbm\\basic.py:2068: UserWarning: categorical_feature in Dataset is overridden.\n",
      "New categorical_feature is ['education', 'marital.status', 'native.country', 'occupation', 'race', 'relationship', 'sex', 'workclass']\n",
      "  _log_warning('categorical_feature in Dataset is overridden.\\n'\n",
      "C:\\Python39\\lib\\site-packages\\lightgbm\\engine.py:239: UserWarning: 'verbose_eval' argument is deprecated and will be removed in a future release of LightGBM. Pass 'log_evaluation()' callback via 'callbacks' argument instead.\n",
      "  _log_warning(\"'verbose_eval' argument is deprecated and will be removed in a future release of LightGBM. \"\n",
      "C:\\Python39\\lib\\site-packages\\lightgbm\\basic.py:1780: UserWarning: Overriding the parameters from Reference Dataset.\n",
      "  _log_warning('Overriding the parameters from Reference Dataset.')\n",
      "C:\\Python39\\lib\\site-packages\\lightgbm\\basic.py:1513: UserWarning: categorical_column in param dict is overridden.\n",
      "  _log_warning(f'{cat_alias} in param dict is overridden.')\n"
     ]
    },
    {
     "name": "stdout",
     "output_type": "stream",
     "text": [
      "Training until validation scores don't improve for 100 rounds\n",
      "[50]\tvalid_0's auc: 0.895462\n",
      "[100]\tvalid_0's auc: 0.895791\n",
      "[150]\tvalid_0's auc: 0.896989\n",
      "[200]\tvalid_0's auc: 0.898698\n",
      "[250]\tvalid_0's auc: 0.900005\n",
      "[300]\tvalid_0's auc: 0.901229\n",
      "[350]\tvalid_0's auc: 0.902246\n",
      "[400]\tvalid_0's auc: 0.902958\n",
      "[450]\tvalid_0's auc: 0.903521\n",
      "[500]\tvalid_0's auc: 0.903912\n",
      "[550]\tvalid_0's auc: 0.904394\n",
      "[600]\tvalid_0's auc: 0.904703\n",
      "[650]\tvalid_0's auc: 0.904983\n",
      "[700]\tvalid_0's auc: 0.905099\n",
      "[750]\tvalid_0's auc: 0.905263\n",
      "[800]\tvalid_0's auc: 0.905384\n",
      "[850]\tvalid_0's auc: 0.905427\n",
      "[900]\tvalid_0's auc: 0.905502\n",
      "[950]\tvalid_0's auc: 0.905564\n",
      "[1000]\tvalid_0's auc: 0.90569\n",
      "[1050]\tvalid_0's auc: 0.905739\n",
      "[1100]\tvalid_0's auc: 0.905759\n",
      "[1150]\tvalid_0's auc: 0.905809\n"
     ]
    },
    {
     "name": "stderr",
     "output_type": "stream",
     "text": [
      "num_leaves, val_score: 0.907011:  95%|##############################################5  | 19/20 [00:20<00:01,  1.17s/it]"
     ]
    },
    {
     "name": "stdout",
     "output_type": "stream",
     "text": [
      "[1200]\tvalid_0's auc: 0.905857\n",
      "[1250]\tvalid_0's auc: 0.905823\n",
      "[1300]\tvalid_0's auc: 0.905799\n",
      "Early stopping, best iteration is:\n",
      "[1211]\tvalid_0's auc: 0.905872\n"
     ]
    },
    {
     "name": "stderr",
     "output_type": "stream",
     "text": [
      "C:\\Python39\\lib\\site-packages\\lightgbm\\engine.py:181: UserWarning: 'early_stopping_rounds' argument is deprecated and will be removed in a future release of LightGBM. Pass 'early_stopping()' callback via 'callbacks' argument instead.\n",
      "  _log_warning(\"'early_stopping_rounds' argument is deprecated and will be removed in a future release of LightGBM. \"\n",
      "C:\\Python39\\lib\\site-packages\\lightgbm\\basic.py:2068: UserWarning: categorical_feature in Dataset is overridden.\n",
      "New categorical_feature is ['education', 'marital.status', 'native.country', 'occupation', 'race', 'relationship', 'sex', 'workclass']\n",
      "  _log_warning('categorical_feature in Dataset is overridden.\\n'\n",
      "C:\\Python39\\lib\\site-packages\\lightgbm\\engine.py:239: UserWarning: 'verbose_eval' argument is deprecated and will be removed in a future release of LightGBM. Pass 'log_evaluation()' callback via 'callbacks' argument instead.\n",
      "  _log_warning(\"'verbose_eval' argument is deprecated and will be removed in a future release of LightGBM. \"\n",
      "C:\\Python39\\lib\\site-packages\\lightgbm\\basic.py:1780: UserWarning: Overriding the parameters from Reference Dataset.\n",
      "  _log_warning('Overriding the parameters from Reference Dataset.')\n",
      "C:\\Python39\\lib\\site-packages\\lightgbm\\basic.py:1513: UserWarning: categorical_column in param dict is overridden.\n",
      "  _log_warning(f'{cat_alias} in param dict is overridden.')\n"
     ]
    },
    {
     "name": "stdout",
     "output_type": "stream",
     "text": [
      "Training until validation scores don't improve for 100 rounds\n",
      "[50]\tvalid_0's auc: 0.903383\n",
      "[100]\tvalid_0's auc: 0.904842\n",
      "[150]\tvalid_0's auc: 0.905486\n",
      "[200]\tvalid_0's auc: 0.905891\n",
      "[250]\tvalid_0's auc: 0.906247\n",
      "[300]\tvalid_0's auc: 0.90622\n"
     ]
    },
    {
     "name": "stderr",
     "output_type": "stream",
     "text": [
      "num_leaves, val_score: 0.907011: 100%|#################################################| 20/20 [00:21<00:00,  1.08s/it]\n"
     ]
    },
    {
     "name": "stdout",
     "output_type": "stream",
     "text": [
      "[350]\tvalid_0's auc: 0.906141\n",
      "Early stopping, best iteration is:\n",
      "[260]\tvalid_0's auc: 0.906314\n"
     ]
    },
    {
     "name": "stderr",
     "output_type": "stream",
     "text": [
      "bagging, val_score: 0.907011:   0%|                                                             | 0/10 [00:00<?, ?it/s]"
     ]
    },
    {
     "name": "stdout",
     "output_type": "stream",
     "text": [
      "Training until validation scores don't improve for 100 rounds\n"
     ]
    },
    {
     "name": "stderr",
     "output_type": "stream",
     "text": [
      "C:\\Python39\\lib\\site-packages\\lightgbm\\engine.py:181: UserWarning: 'early_stopping_rounds' argument is deprecated and will be removed in a future release of LightGBM. Pass 'early_stopping()' callback via 'callbacks' argument instead.\n",
      "  _log_warning(\"'early_stopping_rounds' argument is deprecated and will be removed in a future release of LightGBM. \"\n",
      "C:\\Python39\\lib\\site-packages\\lightgbm\\basic.py:2068: UserWarning: categorical_feature in Dataset is overridden.\n",
      "New categorical_feature is ['education', 'marital.status', 'native.country', 'occupation', 'race', 'relationship', 'sex', 'workclass']\n",
      "  _log_warning('categorical_feature in Dataset is overridden.\\n'\n",
      "C:\\Python39\\lib\\site-packages\\lightgbm\\engine.py:239: UserWarning: 'verbose_eval' argument is deprecated and will be removed in a future release of LightGBM. Pass 'log_evaluation()' callback via 'callbacks' argument instead.\n",
      "  _log_warning(\"'verbose_eval' argument is deprecated and will be removed in a future release of LightGBM. \"\n",
      "C:\\Python39\\lib\\site-packages\\lightgbm\\basic.py:1780: UserWarning: Overriding the parameters from Reference Dataset.\n",
      "  _log_warning('Overriding the parameters from Reference Dataset.')\n",
      "C:\\Python39\\lib\\site-packages\\lightgbm\\basic.py:1513: UserWarning: categorical_column in param dict is overridden.\n",
      "  _log_warning(f'{cat_alias} in param dict is overridden.')\n"
     ]
    },
    {
     "name": "stdout",
     "output_type": "stream",
     "text": [
      "[50]\tvalid_0's auc: 0.901783\n",
      "[100]\tvalid_0's auc: 0.902943\n",
      "[150]\tvalid_0's auc: 0.903912\n",
      "[200]\tvalid_0's auc: 0.905092\n",
      "[250]\tvalid_0's auc: 0.905676\n",
      "[300]\tvalid_0's auc: 0.906079\n",
      "[350]\tvalid_0's auc: 0.906005\n",
      "[400]\tvalid_0's auc: 0.906081\n",
      "[450]\tvalid_0's auc: 0.906299\n",
      "[500]\tvalid_0's auc: 0.906125\n",
      "[550]\tvalid_0's auc: 0.906316\n",
      "Early stopping, best iteration is:\n",
      "[469]\tvalid_0's auc: 0.906438\n"
     ]
    },
    {
     "name": "stderr",
     "output_type": "stream",
     "text": [
      "bagging, val_score: 0.907011:  10%|#####3                                               | 1/10 [00:01<00:08,  1.01it/s]C:\\Python39\\lib\\site-packages\\lightgbm\\engine.py:181: UserWarning: 'early_stopping_rounds' argument is deprecated and will be removed in a future release of LightGBM. Pass 'early_stopping()' callback via 'callbacks' argument instead.\n",
      "  _log_warning(\"'early_stopping_rounds' argument is deprecated and will be removed in a future release of LightGBM. \"\n",
      "C:\\Python39\\lib\\site-packages\\lightgbm\\basic.py:2068: UserWarning: categorical_feature in Dataset is overridden.\n",
      "New categorical_feature is ['education', 'marital.status', 'native.country', 'occupation', 'race', 'relationship', 'sex', 'workclass']\n",
      "  _log_warning('categorical_feature in Dataset is overridden.\\n'\n",
      "C:\\Python39\\lib\\site-packages\\lightgbm\\engine.py:239: UserWarning: 'verbose_eval' argument is deprecated and will be removed in a future release of LightGBM. Pass 'log_evaluation()' callback via 'callbacks' argument instead.\n",
      "  _log_warning(\"'verbose_eval' argument is deprecated and will be removed in a future release of LightGBM. \"\n",
      "C:\\Python39\\lib\\site-packages\\lightgbm\\basic.py:1780: UserWarning: Overriding the parameters from Reference Dataset.\n",
      "  _log_warning('Overriding the parameters from Reference Dataset.')\n",
      "C:\\Python39\\lib\\site-packages\\lightgbm\\basic.py:1513: UserWarning: categorical_column in param dict is overridden.\n",
      "  _log_warning(f'{cat_alias} in param dict is overridden.')\n"
     ]
    },
    {
     "name": "stdout",
     "output_type": "stream",
     "text": [
      "Training until validation scores don't improve for 100 rounds\n",
      "[50]\tvalid_0's auc: 0.902248\n",
      "[100]\tvalid_0's auc: 0.903426\n",
      "[150]\tvalid_0's auc: 0.904474\n",
      "[200]\tvalid_0's auc: 0.905402\n",
      "[250]\tvalid_0's auc: 0.906057\n",
      "[300]\tvalid_0's auc: 0.906405\n",
      "[350]\tvalid_0's auc: 0.906555\n",
      "[400]\tvalid_0's auc: 0.906758\n"
     ]
    },
    {
     "name": "stderr",
     "output_type": "stream",
     "text": [
      "bagging, val_score: 0.907011:  20%|##########6                                          | 2/10 [00:01<00:07,  1.01it/s]"
     ]
    },
    {
     "name": "stdout",
     "output_type": "stream",
     "text": [
      "[450]\tvalid_0's auc: 0.906683\n",
      "[500]\tvalid_0's auc: 0.906729\n",
      "Early stopping, best iteration is:\n",
      "[417]\tvalid_0's auc: 0.906804\n",
      "Training until validation scores don't improve for 100 rounds\n"
     ]
    },
    {
     "name": "stderr",
     "output_type": "stream",
     "text": [
      "C:\\Python39\\lib\\site-packages\\lightgbm\\engine.py:181: UserWarning: 'early_stopping_rounds' argument is deprecated and will be removed in a future release of LightGBM. Pass 'early_stopping()' callback via 'callbacks' argument instead.\n",
      "  _log_warning(\"'early_stopping_rounds' argument is deprecated and will be removed in a future release of LightGBM. \"\n",
      "C:\\Python39\\lib\\site-packages\\lightgbm\\basic.py:2068: UserWarning: categorical_feature in Dataset is overridden.\n",
      "New categorical_feature is ['education', 'marital.status', 'native.country', 'occupation', 'race', 'relationship', 'sex', 'workclass']\n",
      "  _log_warning('categorical_feature in Dataset is overridden.\\n'\n",
      "C:\\Python39\\lib\\site-packages\\lightgbm\\engine.py:239: UserWarning: 'verbose_eval' argument is deprecated and will be removed in a future release of LightGBM. Pass 'log_evaluation()' callback via 'callbacks' argument instead.\n",
      "  _log_warning(\"'verbose_eval' argument is deprecated and will be removed in a future release of LightGBM. \"\n",
      "C:\\Python39\\lib\\site-packages\\lightgbm\\basic.py:1780: UserWarning: Overriding the parameters from Reference Dataset.\n",
      "  _log_warning('Overriding the parameters from Reference Dataset.')\n",
      "C:\\Python39\\lib\\site-packages\\lightgbm\\basic.py:1513: UserWarning: categorical_column in param dict is overridden.\n",
      "  _log_warning(f'{cat_alias} in param dict is overridden.')\n"
     ]
    },
    {
     "name": "stdout",
     "output_type": "stream",
     "text": [
      "[50]\tvalid_0's auc: 0.90165\n",
      "[100]\tvalid_0's auc: 0.902952\n",
      "[150]\tvalid_0's auc: 0.903938\n",
      "[200]\tvalid_0's auc: 0.904872\n",
      "[250]\tvalid_0's auc: 0.905701\n",
      "[300]\tvalid_0's auc: 0.906122\n",
      "[350]\tvalid_0's auc: 0.90633\n",
      "[400]\tvalid_0's auc: 0.906482\n",
      "[450]\tvalid_0's auc: 0.906614\n",
      "[500]\tvalid_0's auc: 0.90668\n",
      "[550]\tvalid_0's auc: 0.906715\n",
      "[600]\tvalid_0's auc: 0.906682\n"
     ]
    },
    {
     "name": "stderr",
     "output_type": "stream",
     "text": [
      "bagging, val_score: 0.907011:  30%|###############9                                     | 3/10 [00:03<00:08,  1.16s/it]"
     ]
    },
    {
     "name": "stdout",
     "output_type": "stream",
     "text": [
      "[650]\tvalid_0's auc: 0.906467\n",
      "Early stopping, best iteration is:\n",
      "[560]\tvalid_0's auc: 0.906763\n",
      "Training until validation scores don't improve for 100 rounds\n",
      "[50]\tvalid_0's auc: 0.902041\n"
     ]
    },
    {
     "name": "stderr",
     "output_type": "stream",
     "text": [
      "C:\\Python39\\lib\\site-packages\\lightgbm\\engine.py:181: UserWarning: 'early_stopping_rounds' argument is deprecated and will be removed in a future release of LightGBM. Pass 'early_stopping()' callback via 'callbacks' argument instead.\n",
      "  _log_warning(\"'early_stopping_rounds' argument is deprecated and will be removed in a future release of LightGBM. \"\n",
      "C:\\Python39\\lib\\site-packages\\lightgbm\\basic.py:2068: UserWarning: categorical_feature in Dataset is overridden.\n",
      "New categorical_feature is ['education', 'marital.status', 'native.country', 'occupation', 'race', 'relationship', 'sex', 'workclass']\n",
      "  _log_warning('categorical_feature in Dataset is overridden.\\n'\n",
      "C:\\Python39\\lib\\site-packages\\lightgbm\\engine.py:239: UserWarning: 'verbose_eval' argument is deprecated and will be removed in a future release of LightGBM. Pass 'log_evaluation()' callback via 'callbacks' argument instead.\n",
      "  _log_warning(\"'verbose_eval' argument is deprecated and will be removed in a future release of LightGBM. \"\n",
      "C:\\Python39\\lib\\site-packages\\lightgbm\\basic.py:1780: UserWarning: Overriding the parameters from Reference Dataset.\n",
      "  _log_warning('Overriding the parameters from Reference Dataset.')\n",
      "C:\\Python39\\lib\\site-packages\\lightgbm\\basic.py:1513: UserWarning: categorical_column in param dict is overridden.\n",
      "  _log_warning(f'{cat_alias} in param dict is overridden.')\n"
     ]
    },
    {
     "name": "stdout",
     "output_type": "stream",
     "text": [
      "[100]\tvalid_0's auc: 0.903142\n",
      "[150]\tvalid_0's auc: 0.904093\n",
      "[200]\tvalid_0's auc: 0.904921\n",
      "[250]\tvalid_0's auc: 0.905854\n",
      "[300]\tvalid_0's auc: 0.906178\n",
      "[350]\tvalid_0's auc: 0.906438\n",
      "[400]\tvalid_0's auc: 0.906625\n",
      "[450]\tvalid_0's auc: 0.906699\n",
      "[500]\tvalid_0's auc: 0.906651\n"
     ]
    },
    {
     "name": "stderr",
     "output_type": "stream",
     "text": [
      "bagging, val_score: 0.907011:  40%|#####################2                               | 4/10 [00:04<00:07,  1.20s/it]"
     ]
    },
    {
     "name": "stdout",
     "output_type": "stream",
     "text": [
      "Early stopping, best iteration is:\n",
      "[426]\tvalid_0's auc: 0.906747\n",
      "Training until validation scores don't improve for 100 rounds\n",
      "[50]\tvalid_0's auc: 0.901993\n"
     ]
    },
    {
     "name": "stderr",
     "output_type": "stream",
     "text": [
      "C:\\Python39\\lib\\site-packages\\lightgbm\\engine.py:181: UserWarning: 'early_stopping_rounds' argument is deprecated and will be removed in a future release of LightGBM. Pass 'early_stopping()' callback via 'callbacks' argument instead.\n",
      "  _log_warning(\"'early_stopping_rounds' argument is deprecated and will be removed in a future release of LightGBM. \"\n",
      "C:\\Python39\\lib\\site-packages\\lightgbm\\basic.py:2068: UserWarning: categorical_feature in Dataset is overridden.\n",
      "New categorical_feature is ['education', 'marital.status', 'native.country', 'occupation', 'race', 'relationship', 'sex', 'workclass']\n",
      "  _log_warning('categorical_feature in Dataset is overridden.\\n'\n",
      "C:\\Python39\\lib\\site-packages\\lightgbm\\engine.py:239: UserWarning: 'verbose_eval' argument is deprecated and will be removed in a future release of LightGBM. Pass 'log_evaluation()' callback via 'callbacks' argument instead.\n",
      "  _log_warning(\"'verbose_eval' argument is deprecated and will be removed in a future release of LightGBM. \"\n",
      "C:\\Python39\\lib\\site-packages\\lightgbm\\basic.py:1780: UserWarning: Overriding the parameters from Reference Dataset.\n",
      "  _log_warning('Overriding the parameters from Reference Dataset.')\n",
      "C:\\Python39\\lib\\site-packages\\lightgbm\\basic.py:1513: UserWarning: categorical_column in param dict is overridden.\n",
      "  _log_warning(f'{cat_alias} in param dict is overridden.')\n"
     ]
    },
    {
     "name": "stdout",
     "output_type": "stream",
     "text": [
      "[100]\tvalid_0's auc: 0.903172\n",
      "[150]\tvalid_0's auc: 0.90419\n",
      "[200]\tvalid_0's auc: 0.905034\n",
      "[250]\tvalid_0's auc: 0.905678\n",
      "[300]\tvalid_0's auc: 0.906267\n",
      "[350]\tvalid_0's auc: 0.906462\n",
      "[400]\tvalid_0's auc: 0.906585\n"
     ]
    },
    {
     "name": "stderr",
     "output_type": "stream",
     "text": [
      "bagging, val_score: 0.907011:  50%|##########################5                          | 5/10 [00:05<00:05,  1.18s/it]"
     ]
    },
    {
     "name": "stdout",
     "output_type": "stream",
     "text": [
      "[450]\tvalid_0's auc: 0.906632\n",
      "[500]\tvalid_0's auc: 0.906632\n",
      "Early stopping, best iteration is:\n",
      "[441]\tvalid_0's auc: 0.906707\n"
     ]
    },
    {
     "name": "stderr",
     "output_type": "stream",
     "text": [
      "bagging, val_score: 0.907011:  50%|##########################5                          | 5/10 [00:05<00:05,  1.18s/it]C:\\Python39\\lib\\site-packages\\lightgbm\\engine.py:181: UserWarning: 'early_stopping_rounds' argument is deprecated and will be removed in a future release of LightGBM. Pass 'early_stopping()' callback via 'callbacks' argument instead.\n",
      "  _log_warning(\"'early_stopping_rounds' argument is deprecated and will be removed in a future release of LightGBM. \"\n",
      "C:\\Python39\\lib\\site-packages\\lightgbm\\basic.py:2068: UserWarning: categorical_feature in Dataset is overridden.\n",
      "New categorical_feature is ['education', 'marital.status', 'native.country', 'occupation', 'race', 'relationship', 'sex', 'workclass']\n",
      "  _log_warning('categorical_feature in Dataset is overridden.\\n'\n",
      "C:\\Python39\\lib\\site-packages\\lightgbm\\engine.py:239: UserWarning: 'verbose_eval' argument is deprecated and will be removed in a future release of LightGBM. Pass 'log_evaluation()' callback via 'callbacks' argument instead.\n",
      "  _log_warning(\"'verbose_eval' argument is deprecated and will be removed in a future release of LightGBM. \"\n",
      "C:\\Python39\\lib\\site-packages\\lightgbm\\basic.py:1780: UserWarning: Overriding the parameters from Reference Dataset.\n",
      "  _log_warning('Overriding the parameters from Reference Dataset.')\n",
      "C:\\Python39\\lib\\site-packages\\lightgbm\\basic.py:1513: UserWarning: categorical_column in param dict is overridden.\n",
      "  _log_warning(f'{cat_alias} in param dict is overridden.')\n"
     ]
    },
    {
     "name": "stdout",
     "output_type": "stream",
     "text": [
      "Training until validation scores don't improve for 100 rounds\n",
      "[50]\tvalid_0's auc: 0.902117\n",
      "[100]\tvalid_0's auc: 0.903241\n",
      "[150]\tvalid_0's auc: 0.904312\n",
      "[200]\tvalid_0's auc: 0.905035\n",
      "[250]\tvalid_0's auc: 0.905845\n",
      "[300]\tvalid_0's auc: 0.906308\n",
      "[350]\tvalid_0's auc: 0.906508\n",
      "[400]\tvalid_0's auc: 0.906647\n"
     ]
    },
    {
     "name": "stderr",
     "output_type": "stream",
     "text": [
      "bagging, val_score: 0.907011:  60%|###############################8                     | 6/10 [00:06<00:04,  1.09s/it]"
     ]
    },
    {
     "name": "stdout",
     "output_type": "stream",
     "text": [
      "[450]\tvalid_0's auc: 0.906491\n",
      "Early stopping, best iteration is:\n",
      "[390]\tvalid_0's auc: 0.906703\n",
      "Training until validation scores don't improve for 100 rounds\n"
     ]
    },
    {
     "name": "stderr",
     "output_type": "stream",
     "text": [
      "C:\\Python39\\lib\\site-packages\\lightgbm\\engine.py:181: UserWarning: 'early_stopping_rounds' argument is deprecated and will be removed in a future release of LightGBM. Pass 'early_stopping()' callback via 'callbacks' argument instead.\n",
      "  _log_warning(\"'early_stopping_rounds' argument is deprecated and will be removed in a future release of LightGBM. \"\n",
      "C:\\Python39\\lib\\site-packages\\lightgbm\\basic.py:2068: UserWarning: categorical_feature in Dataset is overridden.\n",
      "New categorical_feature is ['education', 'marital.status', 'native.country', 'occupation', 'race', 'relationship', 'sex', 'workclass']\n",
      "  _log_warning('categorical_feature in Dataset is overridden.\\n'\n",
      "C:\\Python39\\lib\\site-packages\\lightgbm\\engine.py:239: UserWarning: 'verbose_eval' argument is deprecated and will be removed in a future release of LightGBM. Pass 'log_evaluation()' callback via 'callbacks' argument instead.\n",
      "  _log_warning(\"'verbose_eval' argument is deprecated and will be removed in a future release of LightGBM. \"\n",
      "C:\\Python39\\lib\\site-packages\\lightgbm\\basic.py:1780: UserWarning: Overriding the parameters from Reference Dataset.\n",
      "  _log_warning('Overriding the parameters from Reference Dataset.')\n",
      "C:\\Python39\\lib\\site-packages\\lightgbm\\basic.py:1513: UserWarning: categorical_column in param dict is overridden.\n",
      "  _log_warning(f'{cat_alias} in param dict is overridden.')\n"
     ]
    },
    {
     "name": "stdout",
     "output_type": "stream",
     "text": [
      "[50]\tvalid_0's auc: 0.901857\n",
      "[100]\tvalid_0's auc: 0.902967\n",
      "[150]\tvalid_0's auc: 0.903988\n",
      "[200]\tvalid_0's auc: 0.904758\n",
      "[250]\tvalid_0's auc: 0.905533\n",
      "[300]\tvalid_0's auc: 0.906022\n",
      "[350]\tvalid_0's auc: 0.906252\n",
      "[400]\tvalid_0's auc: 0.906308\n",
      "[450]\tvalid_0's auc: 0.906472\n",
      "[500]\tvalid_0's auc: 0.906362\n",
      "Early stopping, best iteration is:\n",
      "[441]\tvalid_0's auc: 0.906553\n"
     ]
    },
    {
     "name": "stderr",
     "output_type": "stream",
     "text": [
      "bagging, val_score: 0.907011:  70%|#####################################                | 7/10 [00:07<00:03,  1.10s/it]C:\\Python39\\lib\\site-packages\\lightgbm\\engine.py:181: UserWarning: 'early_stopping_rounds' argument is deprecated and will be removed in a future release of LightGBM. Pass 'early_stopping()' callback via 'callbacks' argument instead.\n",
      "  _log_warning(\"'early_stopping_rounds' argument is deprecated and will be removed in a future release of LightGBM. \"\n",
      "C:\\Python39\\lib\\site-packages\\lightgbm\\basic.py:2068: UserWarning: categorical_feature in Dataset is overridden.\n",
      "New categorical_feature is ['education', 'marital.status', 'native.country', 'occupation', 'race', 'relationship', 'sex', 'workclass']\n",
      "  _log_warning('categorical_feature in Dataset is overridden.\\n'\n",
      "C:\\Python39\\lib\\site-packages\\lightgbm\\engine.py:239: UserWarning: 'verbose_eval' argument is deprecated and will be removed in a future release of LightGBM. Pass 'log_evaluation()' callback via 'callbacks' argument instead.\n",
      "  _log_warning(\"'verbose_eval' argument is deprecated and will be removed in a future release of LightGBM. \"\n",
      "C:\\Python39\\lib\\site-packages\\lightgbm\\basic.py:1780: UserWarning: Overriding the parameters from Reference Dataset.\n",
      "  _log_warning('Overriding the parameters from Reference Dataset.')\n",
      "C:\\Python39\\lib\\site-packages\\lightgbm\\basic.py:1513: UserWarning: categorical_column in param dict is overridden.\n",
      "  _log_warning(f'{cat_alias} in param dict is overridden.')\n"
     ]
    },
    {
     "name": "stdout",
     "output_type": "stream",
     "text": [
      "Training until validation scores don't improve for 100 rounds\n",
      "[50]\tvalid_0's auc: 0.902041\n",
      "[100]\tvalid_0's auc: 0.90329\n",
      "[150]\tvalid_0's auc: 0.904356\n",
      "[200]\tvalid_0's auc: 0.905394\n",
      "[250]\tvalid_0's auc: 0.905775\n",
      "[300]\tvalid_0's auc: 0.906134\n",
      "[350]\tvalid_0's auc: 0.906408\n",
      "[400]\tvalid_0's auc: 0.906492\n",
      "[450]\tvalid_0's auc: 0.906583\n",
      "[500]\tvalid_0's auc: 0.906569\n",
      "[550]\tvalid_0's auc: 0.90662\n",
      "[600]\tvalid_0's auc: 0.906622\n"
     ]
    },
    {
     "name": "stderr",
     "output_type": "stream",
     "text": [
      "bagging, val_score: 0.907011:  80%|##########################################4          | 8/10 [00:09<00:02,  1.33s/it]"
     ]
    },
    {
     "name": "stdout",
     "output_type": "stream",
     "text": [
      "Early stopping, best iteration is:\n",
      "[544]\tvalid_0's auc: 0.906715\n",
      "Training until validation scores don't improve for 100 rounds\n",
      "[50]\tvalid_0's auc: 0.901875\n"
     ]
    },
    {
     "name": "stderr",
     "output_type": "stream",
     "text": [
      "C:\\Python39\\lib\\site-packages\\lightgbm\\engine.py:181: UserWarning: 'early_stopping_rounds' argument is deprecated and will be removed in a future release of LightGBM. Pass 'early_stopping()' callback via 'callbacks' argument instead.\n",
      "  _log_warning(\"'early_stopping_rounds' argument is deprecated and will be removed in a future release of LightGBM. \"\n",
      "C:\\Python39\\lib\\site-packages\\lightgbm\\basic.py:2068: UserWarning: categorical_feature in Dataset is overridden.\n",
      "New categorical_feature is ['education', 'marital.status', 'native.country', 'occupation', 'race', 'relationship', 'sex', 'workclass']\n",
      "  _log_warning('categorical_feature in Dataset is overridden.\\n'\n",
      "C:\\Python39\\lib\\site-packages\\lightgbm\\engine.py:239: UserWarning: 'verbose_eval' argument is deprecated and will be removed in a future release of LightGBM. Pass 'log_evaluation()' callback via 'callbacks' argument instead.\n",
      "  _log_warning(\"'verbose_eval' argument is deprecated and will be removed in a future release of LightGBM. \"\n",
      "C:\\Python39\\lib\\site-packages\\lightgbm\\basic.py:1780: UserWarning: Overriding the parameters from Reference Dataset.\n",
      "  _log_warning('Overriding the parameters from Reference Dataset.')\n",
      "C:\\Python39\\lib\\site-packages\\lightgbm\\basic.py:1513: UserWarning: categorical_column in param dict is overridden.\n",
      "  _log_warning(f'{cat_alias} in param dict is overridden.')\n"
     ]
    },
    {
     "name": "stdout",
     "output_type": "stream",
     "text": [
      "[100]\tvalid_0's auc: 0.903061\n",
      "[150]\tvalid_0's auc: 0.904193\n",
      "[200]\tvalid_0's auc: 0.905087\n",
      "[250]\tvalid_0's auc: 0.905622\n",
      "[300]\tvalid_0's auc: 0.906281\n",
      "[350]\tvalid_0's auc: 0.906322\n",
      "[400]\tvalid_0's auc: 0.906521\n",
      "[450]\tvalid_0's auc: 0.906601\n",
      "[500]\tvalid_0's auc: 0.906653\n",
      "[550]\tvalid_0's auc: 0.906467\n",
      "Early stopping, best iteration is:\n",
      "[493]\tvalid_0's auc: 0.906677\n"
     ]
    },
    {
     "name": "stderr",
     "output_type": "stream",
     "text": [
      "bagging, val_score: 0.907011:  90%|###############################################7     | 9/10 [00:10<00:01,  1.29s/it]C:\\Python39\\lib\\site-packages\\lightgbm\\engine.py:181: UserWarning: 'early_stopping_rounds' argument is deprecated and will be removed in a future release of LightGBM. Pass 'early_stopping()' callback via 'callbacks' argument instead.\n",
      "  _log_warning(\"'early_stopping_rounds' argument is deprecated and will be removed in a future release of LightGBM. \"\n",
      "C:\\Python39\\lib\\site-packages\\lightgbm\\basic.py:2068: UserWarning: categorical_feature in Dataset is overridden.\n",
      "New categorical_feature is ['education', 'marital.status', 'native.country', 'occupation', 'race', 'relationship', 'sex', 'workclass']\n",
      "  _log_warning('categorical_feature in Dataset is overridden.\\n'\n",
      "C:\\Python39\\lib\\site-packages\\lightgbm\\engine.py:239: UserWarning: 'verbose_eval' argument is deprecated and will be removed in a future release of LightGBM. Pass 'log_evaluation()' callback via 'callbacks' argument instead.\n",
      "  _log_warning(\"'verbose_eval' argument is deprecated and will be removed in a future release of LightGBM. \"\n",
      "C:\\Python39\\lib\\site-packages\\lightgbm\\basic.py:1780: UserWarning: Overriding the parameters from Reference Dataset.\n",
      "  _log_warning('Overriding the parameters from Reference Dataset.')\n",
      "C:\\Python39\\lib\\site-packages\\lightgbm\\basic.py:1513: UserWarning: categorical_column in param dict is overridden.\n",
      "  _log_warning(f'{cat_alias} in param dict is overridden.')\n"
     ]
    },
    {
     "name": "stdout",
     "output_type": "stream",
     "text": [
      "Training until validation scores don't improve for 100 rounds\n",
      "[50]\tvalid_0's auc: 0.901891\n",
      "[100]\tvalid_0's auc: 0.903039\n",
      "[150]\tvalid_0's auc: 0.903865\n",
      "[200]\tvalid_0's auc: 0.904874\n",
      "[250]\tvalid_0's auc: 0.905767\n",
      "[300]\tvalid_0's auc: 0.906339\n",
      "[350]\tvalid_0's auc: 0.906523\n",
      "[400]\tvalid_0's auc: 0.906726\n",
      "[450]\tvalid_0's auc: 0.906926\n",
      "[500]\tvalid_0's auc: 0.906886\n"
     ]
    },
    {
     "name": "stderr",
     "output_type": "stream",
     "text": [
      "bagging, val_score: 0.907011: 100%|####################################################| 10/10 [00:11<00:00,  1.19s/it]\n"
     ]
    },
    {
     "name": "stdout",
     "output_type": "stream",
     "text": [
      "[550]\tvalid_0's auc: 0.906792\n",
      "Early stopping, best iteration is:\n",
      "[472]\tvalid_0's auc: 0.906976\n"
     ]
    },
    {
     "name": "stderr",
     "output_type": "stream",
     "text": [
      "feature_fraction_stage2, val_score: 0.907011:   0%|                                              | 0/3 [00:00<?, ?it/s]"
     ]
    },
    {
     "name": "stdout",
     "output_type": "stream",
     "text": [
      "Training until validation scores don't improve for 100 rounds\n"
     ]
    },
    {
     "name": "stderr",
     "output_type": "stream",
     "text": [
      "C:\\Python39\\lib\\site-packages\\lightgbm\\engine.py:181: UserWarning: 'early_stopping_rounds' argument is deprecated and will be removed in a future release of LightGBM. Pass 'early_stopping()' callback via 'callbacks' argument instead.\n",
      "  _log_warning(\"'early_stopping_rounds' argument is deprecated and will be removed in a future release of LightGBM. \"\n",
      "C:\\Python39\\lib\\site-packages\\lightgbm\\basic.py:2068: UserWarning: categorical_feature in Dataset is overridden.\n",
      "New categorical_feature is ['education', 'marital.status', 'native.country', 'occupation', 'race', 'relationship', 'sex', 'workclass']\n",
      "  _log_warning('categorical_feature in Dataset is overridden.\\n'\n",
      "C:\\Python39\\lib\\site-packages\\lightgbm\\engine.py:239: UserWarning: 'verbose_eval' argument is deprecated and will be removed in a future release of LightGBM. Pass 'log_evaluation()' callback via 'callbacks' argument instead.\n",
      "  _log_warning(\"'verbose_eval' argument is deprecated and will be removed in a future release of LightGBM. \"\n",
      "C:\\Python39\\lib\\site-packages\\lightgbm\\basic.py:1780: UserWarning: Overriding the parameters from Reference Dataset.\n",
      "  _log_warning('Overriding the parameters from Reference Dataset.')\n",
      "C:\\Python39\\lib\\site-packages\\lightgbm\\basic.py:1513: UserWarning: categorical_column in param dict is overridden.\n",
      "  _log_warning(f'{cat_alias} in param dict is overridden.')\n"
     ]
    },
    {
     "name": "stdout",
     "output_type": "stream",
     "text": [
      "[50]\tvalid_0's auc: 0.900189\n",
      "[100]\tvalid_0's auc: 0.900442\n",
      "[150]\tvalid_0's auc: 0.90277\n",
      "[200]\tvalid_0's auc: 0.904249\n",
      "[250]\tvalid_0's auc: 0.904976\n",
      "[300]\tvalid_0's auc: 0.905377\n",
      "[350]\tvalid_0's auc: 0.905816\n",
      "[400]\tvalid_0's auc: 0.906064\n",
      "[450]\tvalid_0's auc: 0.906009\n"
     ]
    },
    {
     "name": "stderr",
     "output_type": "stream",
     "text": [
      "feature_fraction_stage2, val_score: 0.907011:  33%|############6                         | 1/3 [00:00<00:01,  1.09it/s]"
     ]
    },
    {
     "name": "stdout",
     "output_type": "stream",
     "text": [
      "[500]\tvalid_0's auc: 0.905969\n",
      "Early stopping, best iteration is:\n",
      "[406]\tvalid_0's auc: 0.906077\n",
      "Training until validation scores don't improve for 100 rounds\n",
      "[50]\tvalid_0's auc: 0.901472\n"
     ]
    },
    {
     "name": "stderr",
     "output_type": "stream",
     "text": [
      "C:\\Python39\\lib\\site-packages\\lightgbm\\engine.py:181: UserWarning: 'early_stopping_rounds' argument is deprecated and will be removed in a future release of LightGBM. Pass 'early_stopping()' callback via 'callbacks' argument instead.\n",
      "  _log_warning(\"'early_stopping_rounds' argument is deprecated and will be removed in a future release of LightGBM. \"\n",
      "C:\\Python39\\lib\\site-packages\\lightgbm\\basic.py:2068: UserWarning: categorical_feature in Dataset is overridden.\n",
      "New categorical_feature is ['education', 'marital.status', 'native.country', 'occupation', 'race', 'relationship', 'sex', 'workclass']\n",
      "  _log_warning('categorical_feature in Dataset is overridden.\\n'\n",
      "C:\\Python39\\lib\\site-packages\\lightgbm\\engine.py:239: UserWarning: 'verbose_eval' argument is deprecated and will be removed in a future release of LightGBM. Pass 'log_evaluation()' callback via 'callbacks' argument instead.\n",
      "  _log_warning(\"'verbose_eval' argument is deprecated and will be removed in a future release of LightGBM. \"\n",
      "C:\\Python39\\lib\\site-packages\\lightgbm\\basic.py:1780: UserWarning: Overriding the parameters from Reference Dataset.\n",
      "  _log_warning('Overriding the parameters from Reference Dataset.')\n",
      "C:\\Python39\\lib\\site-packages\\lightgbm\\basic.py:1513: UserWarning: categorical_column in param dict is overridden.\n",
      "  _log_warning(f'{cat_alias} in param dict is overridden.')\n"
     ]
    },
    {
     "name": "stdout",
     "output_type": "stream",
     "text": [
      "[100]\tvalid_0's auc: 0.902782\n",
      "[150]\tvalid_0's auc: 0.903957\n",
      "[200]\tvalid_0's auc: 0.904806\n",
      "[250]\tvalid_0's auc: 0.905611\n",
      "[300]\tvalid_0's auc: 0.906235\n",
      "[350]\tvalid_0's auc: 0.906448\n",
      "[400]\tvalid_0's auc: 0.906632\n",
      "[450]\tvalid_0's auc: 0.906834\n",
      "[500]\tvalid_0's auc: 0.906915\n",
      "[550]\tvalid_0's auc: 0.906902\n",
      "[600]\tvalid_0's auc: 0.906995\n",
      "[650]\tvalid_0's auc: 0.906909\n",
      "Early stopping, best iteration is:\n",
      "[598]\tvalid_0's auc: 0.907011\n"
     ]
    },
    {
     "name": "stderr",
     "output_type": "stream",
     "text": [
      "feature_fraction_stage2, val_score: 0.907011:  67%|#########################3            | 2/3 [00:02<00:01,  1.05s/it]"
     ]
    },
    {
     "name": "stdout",
     "output_type": "stream",
     "text": [
      "Training until validation scores don't improve for 100 rounds\n"
     ]
    },
    {
     "name": "stderr",
     "output_type": "stream",
     "text": [
      "C:\\Python39\\lib\\site-packages\\lightgbm\\engine.py:181: UserWarning: 'early_stopping_rounds' argument is deprecated and will be removed in a future release of LightGBM. Pass 'early_stopping()' callback via 'callbacks' argument instead.\n",
      "  _log_warning(\"'early_stopping_rounds' argument is deprecated and will be removed in a future release of LightGBM. \"\n",
      "C:\\Python39\\lib\\site-packages\\lightgbm\\basic.py:2068: UserWarning: categorical_feature in Dataset is overridden.\n",
      "New categorical_feature is ['education', 'marital.status', 'native.country', 'occupation', 'race', 'relationship', 'sex', 'workclass']\n",
      "  _log_warning('categorical_feature in Dataset is overridden.\\n'\n",
      "C:\\Python39\\lib\\site-packages\\lightgbm\\engine.py:239: UserWarning: 'verbose_eval' argument is deprecated and will be removed in a future release of LightGBM. Pass 'log_evaluation()' callback via 'callbacks' argument instead.\n",
      "  _log_warning(\"'verbose_eval' argument is deprecated and will be removed in a future release of LightGBM. \"\n",
      "C:\\Python39\\lib\\site-packages\\lightgbm\\basic.py:1780: UserWarning: Overriding the parameters from Reference Dataset.\n",
      "  _log_warning('Overriding the parameters from Reference Dataset.')\n",
      "C:\\Python39\\lib\\site-packages\\lightgbm\\basic.py:1513: UserWarning: categorical_column in param dict is overridden.\n",
      "  _log_warning(f'{cat_alias} in param dict is overridden.')\n"
     ]
    },
    {
     "name": "stdout",
     "output_type": "stream",
     "text": [
      "[50]\tvalid_0's auc: 0.900189\n",
      "[100]\tvalid_0's auc: 0.900442\n",
      "[150]\tvalid_0's auc: 0.90277\n",
      "[200]\tvalid_0's auc: 0.904249\n",
      "[250]\tvalid_0's auc: 0.904976\n",
      "[300]\tvalid_0's auc: 0.905377\n",
      "[350]\tvalid_0's auc: 0.905816\n",
      "[400]\tvalid_0's auc: 0.906064\n",
      "[450]\tvalid_0's auc: 0.906009\n"
     ]
    },
    {
     "name": "stderr",
     "output_type": "stream",
     "text": [
      "feature_fraction_stage2, val_score: 0.907011: 100%|######################################| 3/3 [00:02<00:00,  1.02it/s]\n"
     ]
    },
    {
     "name": "stdout",
     "output_type": "stream",
     "text": [
      "[500]\tvalid_0's auc: 0.905969\n",
      "Early stopping, best iteration is:\n",
      "[406]\tvalid_0's auc: 0.906077\n"
     ]
    },
    {
     "name": "stderr",
     "output_type": "stream",
     "text": [
      "regularization_factors, val_score: 0.907011:   0%|                                              | 0/20 [00:00<?, ?it/s]"
     ]
    },
    {
     "name": "stdout",
     "output_type": "stream",
     "text": [
      "Training until validation scores don't improve for 100 rounds\n",
      "[50]\tvalid_0's auc: 0.901472\n"
     ]
    },
    {
     "name": "stderr",
     "output_type": "stream",
     "text": [
      "C:\\Python39\\lib\\site-packages\\lightgbm\\engine.py:181: UserWarning: 'early_stopping_rounds' argument is deprecated and will be removed in a future release of LightGBM. Pass 'early_stopping()' callback via 'callbacks' argument instead.\n",
      "  _log_warning(\"'early_stopping_rounds' argument is deprecated and will be removed in a future release of LightGBM. \"\n",
      "C:\\Python39\\lib\\site-packages\\lightgbm\\basic.py:2068: UserWarning: categorical_feature in Dataset is overridden.\n",
      "New categorical_feature is ['education', 'marital.status', 'native.country', 'occupation', 'race', 'relationship', 'sex', 'workclass']\n",
      "  _log_warning('categorical_feature in Dataset is overridden.\\n'\n",
      "C:\\Python39\\lib\\site-packages\\lightgbm\\engine.py:239: UserWarning: 'verbose_eval' argument is deprecated and will be removed in a future release of LightGBM. Pass 'log_evaluation()' callback via 'callbacks' argument instead.\n",
      "  _log_warning(\"'verbose_eval' argument is deprecated and will be removed in a future release of LightGBM. \"\n",
      "C:\\Python39\\lib\\site-packages\\lightgbm\\basic.py:1780: UserWarning: Overriding the parameters from Reference Dataset.\n",
      "  _log_warning('Overriding the parameters from Reference Dataset.')\n",
      "C:\\Python39\\lib\\site-packages\\lightgbm\\basic.py:1513: UserWarning: categorical_column in param dict is overridden.\n",
      "  _log_warning(f'{cat_alias} in param dict is overridden.')\n"
     ]
    },
    {
     "name": "stdout",
     "output_type": "stream",
     "text": [
      "[100]\tvalid_0's auc: 0.902761\n",
      "[150]\tvalid_0's auc: 0.903923\n",
      "[200]\tvalid_0's auc: 0.904832\n",
      "[250]\tvalid_0's auc: 0.905644\n",
      "[300]\tvalid_0's auc: 0.906162\n",
      "[350]\tvalid_0's auc: 0.906339\n",
      "[400]\tvalid_0's auc: 0.906591\n",
      "[450]\tvalid_0's auc: 0.906764\n",
      "[500]\tvalid_0's auc: 0.90669\n"
     ]
    },
    {
     "name": "stderr",
     "output_type": "stream",
     "text": [
      "regularization_factors, val_score: 0.907011:   5%|#9                                    | 1/20 [00:01<00:19,  1.05s/it]"
     ]
    },
    {
     "name": "stdout",
     "output_type": "stream",
     "text": [
      "[550]\tvalid_0's auc: 0.90671\n",
      "Early stopping, best iteration is:\n",
      "[456]\tvalid_0's auc: 0.906794\n",
      "Training until validation scores don't improve for 100 rounds\n",
      "[50]\tvalid_0's auc: 0.901486\n"
     ]
    },
    {
     "name": "stderr",
     "output_type": "stream",
     "text": [
      "C:\\Python39\\lib\\site-packages\\lightgbm\\engine.py:181: UserWarning: 'early_stopping_rounds' argument is deprecated and will be removed in a future release of LightGBM. Pass 'early_stopping()' callback via 'callbacks' argument instead.\n",
      "  _log_warning(\"'early_stopping_rounds' argument is deprecated and will be removed in a future release of LightGBM. \"\n",
      "C:\\Python39\\lib\\site-packages\\lightgbm\\basic.py:2068: UserWarning: categorical_feature in Dataset is overridden.\n",
      "New categorical_feature is ['education', 'marital.status', 'native.country', 'occupation', 'race', 'relationship', 'sex', 'workclass']\n",
      "  _log_warning('categorical_feature in Dataset is overridden.\\n'\n",
      "C:\\Python39\\lib\\site-packages\\lightgbm\\engine.py:239: UserWarning: 'verbose_eval' argument is deprecated and will be removed in a future release of LightGBM. Pass 'log_evaluation()' callback via 'callbacks' argument instead.\n",
      "  _log_warning(\"'verbose_eval' argument is deprecated and will be removed in a future release of LightGBM. \"\n",
      "C:\\Python39\\lib\\site-packages\\lightgbm\\basic.py:1780: UserWarning: Overriding the parameters from Reference Dataset.\n",
      "  _log_warning('Overriding the parameters from Reference Dataset.')\n",
      "C:\\Python39\\lib\\site-packages\\lightgbm\\basic.py:1513: UserWarning: categorical_column in param dict is overridden.\n",
      "  _log_warning(f'{cat_alias} in param dict is overridden.')\n"
     ]
    },
    {
     "name": "stdout",
     "output_type": "stream",
     "text": [
      "[100]\tvalid_0's auc: 0.902732\n",
      "[150]\tvalid_0's auc: 0.903885\n",
      "[200]\tvalid_0's auc: 0.904693\n",
      "[250]\tvalid_0's auc: 0.905653\n",
      "[300]\tvalid_0's auc: 0.906174\n",
      "[350]\tvalid_0's auc: 0.906389\n",
      "[400]\tvalid_0's auc: 0.906632\n",
      "[450]\tvalid_0's auc: 0.906675\n",
      "[500]\tvalid_0's auc: 0.906745\n",
      "[550]\tvalid_0's auc: 0.90667\n",
      "[600]\tvalid_0's auc: 0.906696\n",
      "Early stopping, best iteration is:\n",
      "[517]\tvalid_0's auc: 0.906789\n"
     ]
    },
    {
     "name": "stderr",
     "output_type": "stream",
     "text": [
      "regularization_factors, val_score: 0.907011:  10%|###8                                  | 2/20 [00:02<00:19,  1.07s/it]C:\\Python39\\lib\\site-packages\\lightgbm\\engine.py:181: UserWarning: 'early_stopping_rounds' argument is deprecated and will be removed in a future release of LightGBM. Pass 'early_stopping()' callback via 'callbacks' argument instead.\n",
      "  _log_warning(\"'early_stopping_rounds' argument is deprecated and will be removed in a future release of LightGBM. \"\n",
      "C:\\Python39\\lib\\site-packages\\lightgbm\\basic.py:2068: UserWarning: categorical_feature in Dataset is overridden.\n",
      "New categorical_feature is ['education', 'marital.status', 'native.country', 'occupation', 'race', 'relationship', 'sex', 'workclass']\n",
      "  _log_warning('categorical_feature in Dataset is overridden.\\n'\n",
      "C:\\Python39\\lib\\site-packages\\lightgbm\\engine.py:239: UserWarning: 'verbose_eval' argument is deprecated and will be removed in a future release of LightGBM. Pass 'log_evaluation()' callback via 'callbacks' argument instead.\n",
      "  _log_warning(\"'verbose_eval' argument is deprecated and will be removed in a future release of LightGBM. \"\n",
      "C:\\Python39\\lib\\site-packages\\lightgbm\\basic.py:1780: UserWarning: Overriding the parameters from Reference Dataset.\n",
      "  _log_warning('Overriding the parameters from Reference Dataset.')\n",
      "C:\\Python39\\lib\\site-packages\\lightgbm\\basic.py:1513: UserWarning: categorical_column in param dict is overridden.\n",
      "  _log_warning(f'{cat_alias} in param dict is overridden.')\n"
     ]
    },
    {
     "name": "stdout",
     "output_type": "stream",
     "text": [
      "Training until validation scores don't improve for 100 rounds\n",
      "[50]\tvalid_0's auc: 0.901322\n",
      "[100]\tvalid_0's auc: 0.902307\n",
      "[150]\tvalid_0's auc: 0.903252\n",
      "[200]\tvalid_0's auc: 0.904154\n",
      "[250]\tvalid_0's auc: 0.905199\n",
      "[300]\tvalid_0's auc: 0.905742\n",
      "[350]\tvalid_0's auc: 0.906164\n",
      "[400]\tvalid_0's auc: 0.906385\n",
      "[450]\tvalid_0's auc: 0.906477\n",
      "[500]\tvalid_0's auc: 0.906653\n",
      "[550]\tvalid_0's auc: 0.906742\n",
      "[600]\tvalid_0's auc: 0.906771\n",
      "[650]\tvalid_0's auc: 0.906725\n",
      "Early stopping, best iteration is:\n",
      "[599]\tvalid_0's auc: 0.906779\n"
     ]
    },
    {
     "name": "stderr",
     "output_type": "stream",
     "text": [
      "regularization_factors, val_score: 0.907011:  15%|#####7                                | 3/20 [00:03<00:20,  1.20s/it]C:\\Python39\\lib\\site-packages\\lightgbm\\engine.py:181: UserWarning: 'early_stopping_rounds' argument is deprecated and will be removed in a future release of LightGBM. Pass 'early_stopping()' callback via 'callbacks' argument instead.\n",
      "  _log_warning(\"'early_stopping_rounds' argument is deprecated and will be removed in a future release of LightGBM. \"\n",
      "C:\\Python39\\lib\\site-packages\\lightgbm\\basic.py:2068: UserWarning: categorical_feature in Dataset is overridden.\n",
      "New categorical_feature is ['education', 'marital.status', 'native.country', 'occupation', 'race', 'relationship', 'sex', 'workclass']\n",
      "  _log_warning('categorical_feature in Dataset is overridden.\\n'\n",
      "C:\\Python39\\lib\\site-packages\\lightgbm\\engine.py:239: UserWarning: 'verbose_eval' argument is deprecated and will be removed in a future release of LightGBM. Pass 'log_evaluation()' callback via 'callbacks' argument instead.\n",
      "  _log_warning(\"'verbose_eval' argument is deprecated and will be removed in a future release of LightGBM. \"\n",
      "C:\\Python39\\lib\\site-packages\\lightgbm\\basic.py:1780: UserWarning: Overriding the parameters from Reference Dataset.\n",
      "  _log_warning('Overriding the parameters from Reference Dataset.')\n",
      "C:\\Python39\\lib\\site-packages\\lightgbm\\basic.py:1513: UserWarning: categorical_column in param dict is overridden.\n",
      "  _log_warning(f'{cat_alias} in param dict is overridden.')\n"
     ]
    },
    {
     "name": "stdout",
     "output_type": "stream",
     "text": [
      "Training until validation scores don't improve for 100 rounds\n",
      "[50]\tvalid_0's auc: 0.901472\n",
      "[100]\tvalid_0's auc: 0.902782\n",
      "[150]\tvalid_0's auc: 0.903911\n",
      "[200]\tvalid_0's auc: 0.904832\n",
      "[250]\tvalid_0's auc: 0.905631\n",
      "[300]\tvalid_0's auc: 0.90618\n",
      "[350]\tvalid_0's auc: 0.906427\n",
      "[400]\tvalid_0's auc: 0.906696\n"
     ]
    },
    {
     "name": "stderr",
     "output_type": "stream",
     "text": [
      "regularization_factors, val_score: 0.907011:  20%|#######6                              | 4/20 [00:04<00:17,  1.10s/it]"
     ]
    },
    {
     "name": "stdout",
     "output_type": "stream",
     "text": [
      "[450]\tvalid_0's auc: 0.90674\n",
      "[500]\tvalid_0's auc: 0.906689\n",
      "Early stopping, best iteration is:\n",
      "[419]\tvalid_0's auc: 0.906811\n",
      "Training until validation scores don't improve for 100 rounds\n"
     ]
    },
    {
     "name": "stderr",
     "output_type": "stream",
     "text": [
      "C:\\Python39\\lib\\site-packages\\lightgbm\\engine.py:181: UserWarning: 'early_stopping_rounds' argument is deprecated and will be removed in a future release of LightGBM. Pass 'early_stopping()' callback via 'callbacks' argument instead.\n",
      "  _log_warning(\"'early_stopping_rounds' argument is deprecated and will be removed in a future release of LightGBM. \"\n",
      "C:\\Python39\\lib\\site-packages\\lightgbm\\basic.py:2068: UserWarning: categorical_feature in Dataset is overridden.\n",
      "New categorical_feature is ['education', 'marital.status', 'native.country', 'occupation', 'race', 'relationship', 'sex', 'workclass']\n",
      "  _log_warning('categorical_feature in Dataset is overridden.\\n'\n",
      "C:\\Python39\\lib\\site-packages\\lightgbm\\engine.py:239: UserWarning: 'verbose_eval' argument is deprecated and will be removed in a future release of LightGBM. Pass 'log_evaluation()' callback via 'callbacks' argument instead.\n",
      "  _log_warning(\"'verbose_eval' argument is deprecated and will be removed in a future release of LightGBM. \"\n",
      "C:\\Python39\\lib\\site-packages\\lightgbm\\basic.py:1780: UserWarning: Overriding the parameters from Reference Dataset.\n",
      "  _log_warning('Overriding the parameters from Reference Dataset.')\n",
      "C:\\Python39\\lib\\site-packages\\lightgbm\\basic.py:1513: UserWarning: categorical_column in param dict is overridden.\n",
      "  _log_warning(f'{cat_alias} in param dict is overridden.')\n"
     ]
    },
    {
     "name": "stdout",
     "output_type": "stream",
     "text": [
      "[50]\tvalid_0's auc: 0.901472\n",
      "[100]\tvalid_0's auc: 0.902782\n",
      "[150]\tvalid_0's auc: 0.903957\n",
      "[200]\tvalid_0's auc: 0.904806\n",
      "[250]\tvalid_0's auc: 0.905611\n",
      "[300]\tvalid_0's auc: 0.906235\n",
      "[350]\tvalid_0's auc: 0.906448\n",
      "[400]\tvalid_0's auc: 0.906632\n",
      "[450]\tvalid_0's auc: 0.906834\n",
      "[500]\tvalid_0's auc: 0.906915\n",
      "[550]\tvalid_0's auc: 0.906902\n",
      "[600]\tvalid_0's auc: 0.906995\n",
      "[650]\tvalid_0's auc: 0.906909\n"
     ]
    },
    {
     "name": "stderr",
     "output_type": "stream",
     "text": [
      "regularization_factors, val_score: 0.907011:  25%|#########5                            | 5/20 [00:05<00:17,  1.15s/it]"
     ]
    },
    {
     "name": "stdout",
     "output_type": "stream",
     "text": [
      "Early stopping, best iteration is:\n",
      "[598]\tvalid_0's auc: 0.907011\n",
      "Training until validation scores don't improve for 100 rounds\n",
      "[50]\tvalid_0's auc: 0.901524\n"
     ]
    },
    {
     "name": "stderr",
     "output_type": "stream",
     "text": [
      "C:\\Python39\\lib\\site-packages\\lightgbm\\engine.py:181: UserWarning: 'early_stopping_rounds' argument is deprecated and will be removed in a future release of LightGBM. Pass 'early_stopping()' callback via 'callbacks' argument instead.\n",
      "  _log_warning(\"'early_stopping_rounds' argument is deprecated and will be removed in a future release of LightGBM. \"\n",
      "C:\\Python39\\lib\\site-packages\\lightgbm\\basic.py:2068: UserWarning: categorical_feature in Dataset is overridden.\n",
      "New categorical_feature is ['education', 'marital.status', 'native.country', 'occupation', 'race', 'relationship', 'sex', 'workclass']\n",
      "  _log_warning('categorical_feature in Dataset is overridden.\\n'\n",
      "C:\\Python39\\lib\\site-packages\\lightgbm\\engine.py:239: UserWarning: 'verbose_eval' argument is deprecated and will be removed in a future release of LightGBM. Pass 'log_evaluation()' callback via 'callbacks' argument instead.\n",
      "  _log_warning(\"'verbose_eval' argument is deprecated and will be removed in a future release of LightGBM. \"\n",
      "C:\\Python39\\lib\\site-packages\\lightgbm\\basic.py:1780: UserWarning: Overriding the parameters from Reference Dataset.\n",
      "  _log_warning('Overriding the parameters from Reference Dataset.')\n",
      "C:\\Python39\\lib\\site-packages\\lightgbm\\basic.py:1513: UserWarning: categorical_column in param dict is overridden.\n",
      "  _log_warning(f'{cat_alias} in param dict is overridden.')\n"
     ]
    },
    {
     "name": "stdout",
     "output_type": "stream",
     "text": [
      "[100]\tvalid_0's auc: 0.902803\n",
      "[150]\tvalid_0's auc: 0.903909\n",
      "[200]\tvalid_0's auc: 0.90479\n",
      "[250]\tvalid_0's auc: 0.905625\n",
      "[300]\tvalid_0's auc: 0.906134\n",
      "[350]\tvalid_0's auc: 0.906413\n",
      "[400]\tvalid_0's auc: 0.906683\n",
      "[450]\tvalid_0's auc: 0.906755\n",
      "[500]\tvalid_0's auc: 0.906716\n"
     ]
    },
    {
     "name": "stderr",
     "output_type": "stream",
     "text": [
      "regularization_factors, val_score: 0.907011:  30%|###########4                          | 6/20 [00:06<00:14,  1.06s/it]"
     ]
    },
    {
     "name": "stdout",
     "output_type": "stream",
     "text": [
      "Early stopping, best iteration is:\n",
      "[433]\tvalid_0's auc: 0.90682\n",
      "Training until validation scores don't improve for 100 rounds\n",
      "[50]\tvalid_0's auc: 0.901472\n"
     ]
    },
    {
     "name": "stderr",
     "output_type": "stream",
     "text": [
      "C:\\Python39\\lib\\site-packages\\lightgbm\\engine.py:181: UserWarning: 'early_stopping_rounds' argument is deprecated and will be removed in a future release of LightGBM. Pass 'early_stopping()' callback via 'callbacks' argument instead.\n",
      "  _log_warning(\"'early_stopping_rounds' argument is deprecated and will be removed in a future release of LightGBM. \"\n",
      "C:\\Python39\\lib\\site-packages\\lightgbm\\basic.py:2068: UserWarning: categorical_feature in Dataset is overridden.\n",
      "New categorical_feature is ['education', 'marital.status', 'native.country', 'occupation', 'race', 'relationship', 'sex', 'workclass']\n",
      "  _log_warning('categorical_feature in Dataset is overridden.\\n'\n",
      "C:\\Python39\\lib\\site-packages\\lightgbm\\engine.py:239: UserWarning: 'verbose_eval' argument is deprecated and will be removed in a future release of LightGBM. Pass 'log_evaluation()' callback via 'callbacks' argument instead.\n",
      "  _log_warning(\"'verbose_eval' argument is deprecated and will be removed in a future release of LightGBM. \"\n",
      "C:\\Python39\\lib\\site-packages\\lightgbm\\basic.py:1780: UserWarning: Overriding the parameters from Reference Dataset.\n",
      "  _log_warning('Overriding the parameters from Reference Dataset.')\n",
      "C:\\Python39\\lib\\site-packages\\lightgbm\\basic.py:1513: UserWarning: categorical_column in param dict is overridden.\n",
      "  _log_warning(f'{cat_alias} in param dict is overridden.')\n"
     ]
    },
    {
     "name": "stdout",
     "output_type": "stream",
     "text": [
      "[100]\tvalid_0's auc: 0.902782\n",
      "[150]\tvalid_0's auc: 0.903957\n",
      "[200]\tvalid_0's auc: 0.904806\n",
      "[250]\tvalid_0's auc: 0.905611\n",
      "[300]\tvalid_0's auc: 0.906235\n",
      "[350]\tvalid_0's auc: 0.906448\n",
      "[400]\tvalid_0's auc: 0.906632\n",
      "[450]\tvalid_0's auc: 0.906834\n",
      "[500]\tvalid_0's auc: 0.906915\n",
      "[550]\tvalid_0's auc: 0.906902\n",
      "[600]\tvalid_0's auc: 0.906995\n",
      "[650]\tvalid_0's auc: 0.906909\n"
     ]
    },
    {
     "name": "stderr",
     "output_type": "stream",
     "text": [
      "regularization_factors, val_score: 0.907011:  35%|#############3                        | 7/20 [00:07<00:14,  1.12s/it]"
     ]
    },
    {
     "name": "stdout",
     "output_type": "stream",
     "text": [
      "Early stopping, best iteration is:\n",
      "[598]\tvalid_0's auc: 0.907011\n",
      "Training until validation scores don't improve for 100 rounds\n",
      "[50]\tvalid_0's auc: 0.901653\n"
     ]
    },
    {
     "name": "stderr",
     "output_type": "stream",
     "text": [
      "C:\\Python39\\lib\\site-packages\\lightgbm\\engine.py:181: UserWarning: 'early_stopping_rounds' argument is deprecated and will be removed in a future release of LightGBM. Pass 'early_stopping()' callback via 'callbacks' argument instead.\n",
      "  _log_warning(\"'early_stopping_rounds' argument is deprecated and will be removed in a future release of LightGBM. \"\n",
      "C:\\Python39\\lib\\site-packages\\lightgbm\\basic.py:2068: UserWarning: categorical_feature in Dataset is overridden.\n",
      "New categorical_feature is ['education', 'marital.status', 'native.country', 'occupation', 'race', 'relationship', 'sex', 'workclass']\n",
      "  _log_warning('categorical_feature in Dataset is overridden.\\n'\n",
      "C:\\Python39\\lib\\site-packages\\lightgbm\\engine.py:239: UserWarning: 'verbose_eval' argument is deprecated and will be removed in a future release of LightGBM. Pass 'log_evaluation()' callback via 'callbacks' argument instead.\n",
      "  _log_warning(\"'verbose_eval' argument is deprecated and will be removed in a future release of LightGBM. \"\n",
      "C:\\Python39\\lib\\site-packages\\lightgbm\\basic.py:1780: UserWarning: Overriding the parameters from Reference Dataset.\n",
      "  _log_warning('Overriding the parameters from Reference Dataset.')\n",
      "C:\\Python39\\lib\\site-packages\\lightgbm\\basic.py:1513: UserWarning: categorical_column in param dict is overridden.\n",
      "  _log_warning(f'{cat_alias} in param dict is overridden.')\n"
     ]
    },
    {
     "name": "stdout",
     "output_type": "stream",
     "text": [
      "[100]\tvalid_0's auc: 0.902902\n",
      "[150]\tvalid_0's auc: 0.903974\n",
      "[200]\tvalid_0's auc: 0.904974\n",
      "[250]\tvalid_0's auc: 0.905759\n",
      "[300]\tvalid_0's auc: 0.906385\n",
      "[350]\tvalid_0's auc: 0.906653\n",
      "[400]\tvalid_0's auc: 0.906915\n",
      "[450]\tvalid_0's auc: 0.90701\n",
      "[500]\tvalid_0's auc: 0.906992\n"
     ]
    },
    {
     "name": "stderr",
     "output_type": "stream",
     "text": [
      "regularization_factors, val_score: 0.907072:  40%|###############2                      | 8/20 [00:08<00:13,  1.10s/it]"
     ]
    },
    {
     "name": "stdout",
     "output_type": "stream",
     "text": [
      "[550]\tvalid_0's auc: 0.906924\n",
      "Early stopping, best iteration is:\n",
      "[480]\tvalid_0's auc: 0.907072\n"
     ]
    },
    {
     "name": "stderr",
     "output_type": "stream",
     "text": [
      "C:\\Python39\\lib\\site-packages\\lightgbm\\engine.py:181: UserWarning: 'early_stopping_rounds' argument is deprecated and will be removed in a future release of LightGBM. Pass 'early_stopping()' callback via 'callbacks' argument instead.\n",
      "  _log_warning(\"'early_stopping_rounds' argument is deprecated and will be removed in a future release of LightGBM. \"\n",
      "C:\\Python39\\lib\\site-packages\\lightgbm\\basic.py:2068: UserWarning: categorical_feature in Dataset is overridden.\n",
      "New categorical_feature is ['education', 'marital.status', 'native.country', 'occupation', 'race', 'relationship', 'sex', 'workclass']\n",
      "  _log_warning('categorical_feature in Dataset is overridden.\\n'\n",
      "C:\\Python39\\lib\\site-packages\\lightgbm\\engine.py:239: UserWarning: 'verbose_eval' argument is deprecated and will be removed in a future release of LightGBM. Pass 'log_evaluation()' callback via 'callbacks' argument instead.\n",
      "  _log_warning(\"'verbose_eval' argument is deprecated and will be removed in a future release of LightGBM. \"\n",
      "C:\\Python39\\lib\\site-packages\\lightgbm\\basic.py:1780: UserWarning: Overriding the parameters from Reference Dataset.\n",
      "  _log_warning('Overriding the parameters from Reference Dataset.')\n",
      "C:\\Python39\\lib\\site-packages\\lightgbm\\basic.py:1513: UserWarning: categorical_column in param dict is overridden.\n",
      "  _log_warning(f'{cat_alias} in param dict is overridden.')\n"
     ]
    },
    {
     "name": "stdout",
     "output_type": "stream",
     "text": [
      "Training until validation scores don't improve for 100 rounds\n",
      "[50]\tvalid_0's auc: 0.901472\n",
      "[100]\tvalid_0's auc: 0.902782\n",
      "[150]\tvalid_0's auc: 0.903957\n",
      "[200]\tvalid_0's auc: 0.904806\n",
      "[250]\tvalid_0's auc: 0.905611\n",
      "[300]\tvalid_0's auc: 0.906235\n",
      "[350]\tvalid_0's auc: 0.906448\n",
      "[400]\tvalid_0's auc: 0.906632\n",
      "[450]\tvalid_0's auc: 0.906834\n",
      "[500]\tvalid_0's auc: 0.906915\n",
      "[550]\tvalid_0's auc: 0.906902\n",
      "[600]\tvalid_0's auc: 0.906995\n"
     ]
    },
    {
     "name": "stderr",
     "output_type": "stream",
     "text": [
      "regularization_factors, val_score: 0.907072:  45%|#################1                    | 9/20 [00:10<00:12,  1.12s/it]"
     ]
    },
    {
     "name": "stdout",
     "output_type": "stream",
     "text": [
      "[650]\tvalid_0's auc: 0.90691\n",
      "Early stopping, best iteration is:\n",
      "[598]\tvalid_0's auc: 0.907011\n",
      "Training until validation scores don't improve for 100 rounds\n"
     ]
    },
    {
     "name": "stderr",
     "output_type": "stream",
     "text": [
      "C:\\Python39\\lib\\site-packages\\lightgbm\\engine.py:181: UserWarning: 'early_stopping_rounds' argument is deprecated and will be removed in a future release of LightGBM. Pass 'early_stopping()' callback via 'callbacks' argument instead.\n",
      "  _log_warning(\"'early_stopping_rounds' argument is deprecated and will be removed in a future release of LightGBM. \"\n",
      "C:\\Python39\\lib\\site-packages\\lightgbm\\basic.py:2068: UserWarning: categorical_feature in Dataset is overridden.\n",
      "New categorical_feature is ['education', 'marital.status', 'native.country', 'occupation', 'race', 'relationship', 'sex', 'workclass']\n",
      "  _log_warning('categorical_feature in Dataset is overridden.\\n'\n",
      "C:\\Python39\\lib\\site-packages\\lightgbm\\engine.py:239: UserWarning: 'verbose_eval' argument is deprecated and will be removed in a future release of LightGBM. Pass 'log_evaluation()' callback via 'callbacks' argument instead.\n",
      "  _log_warning(\"'verbose_eval' argument is deprecated and will be removed in a future release of LightGBM. \"\n",
      "C:\\Python39\\lib\\site-packages\\lightgbm\\basic.py:1780: UserWarning: Overriding the parameters from Reference Dataset.\n",
      "  _log_warning('Overriding the parameters from Reference Dataset.')\n",
      "C:\\Python39\\lib\\site-packages\\lightgbm\\basic.py:1513: UserWarning: categorical_column in param dict is overridden.\n",
      "  _log_warning(f'{cat_alias} in param dict is overridden.')\n"
     ]
    },
    {
     "name": "stdout",
     "output_type": "stream",
     "text": [
      "[50]\tvalid_0's auc: 0.901449\n",
      "[100]\tvalid_0's auc: 0.902682\n",
      "[150]\tvalid_0's auc: 0.903895\n",
      "[200]\tvalid_0's auc: 0.904906\n",
      "[250]\tvalid_0's auc: 0.905828\n",
      "[300]\tvalid_0's auc: 0.906291\n",
      "[350]\tvalid_0's auc: 0.906563\n",
      "[400]\tvalid_0's auc: 0.906822\n",
      "[450]\tvalid_0's auc: 0.906937\n",
      "[500]\tvalid_0's auc: 0.906959\n",
      "[550]\tvalid_0's auc: 0.906962\n",
      "[600]\tvalid_0's auc: 0.90697\n",
      "[650]\tvalid_0's auc: 0.906966\n"
     ]
    },
    {
     "name": "stderr",
     "output_type": "stream",
     "text": [
      "regularization_factors, val_score: 0.907072:  50%|##################5                  | 10/20 [00:11<00:13,  1.35s/it]"
     ]
    },
    {
     "name": "stdout",
     "output_type": "stream",
     "text": [
      "[700]\tvalid_0's auc: 0.90688\n",
      "Early stopping, best iteration is:\n",
      "[642]\tvalid_0's auc: 0.907004\n",
      "Training until validation scores don't improve for 100 rounds\n"
     ]
    },
    {
     "name": "stderr",
     "output_type": "stream",
     "text": [
      "C:\\Python39\\lib\\site-packages\\lightgbm\\engine.py:181: UserWarning: 'early_stopping_rounds' argument is deprecated and will be removed in a future release of LightGBM. Pass 'early_stopping()' callback via 'callbacks' argument instead.\n",
      "  _log_warning(\"'early_stopping_rounds' argument is deprecated and will be removed in a future release of LightGBM. \"\n",
      "C:\\Python39\\lib\\site-packages\\lightgbm\\basic.py:2068: UserWarning: categorical_feature in Dataset is overridden.\n",
      "New categorical_feature is ['education', 'marital.status', 'native.country', 'occupation', 'race', 'relationship', 'sex', 'workclass']\n",
      "  _log_warning('categorical_feature in Dataset is overridden.\\n'\n",
      "C:\\Python39\\lib\\site-packages\\lightgbm\\engine.py:239: UserWarning: 'verbose_eval' argument is deprecated and will be removed in a future release of LightGBM. Pass 'log_evaluation()' callback via 'callbacks' argument instead.\n",
      "  _log_warning(\"'verbose_eval' argument is deprecated and will be removed in a future release of LightGBM. \"\n",
      "C:\\Python39\\lib\\site-packages\\lightgbm\\basic.py:1780: UserWarning: Overriding the parameters from Reference Dataset.\n",
      "  _log_warning('Overriding the parameters from Reference Dataset.')\n",
      "C:\\Python39\\lib\\site-packages\\lightgbm\\basic.py:1513: UserWarning: categorical_column in param dict is overridden.\n",
      "  _log_warning(f'{cat_alias} in param dict is overridden.')\n"
     ]
    },
    {
     "name": "stdout",
     "output_type": "stream",
     "text": [
      "[50]\tvalid_0's auc: 0.901613\n",
      "[100]\tvalid_0's auc: 0.902938\n",
      "[150]\tvalid_0's auc: 0.903946\n",
      "[200]\tvalid_0's auc: 0.904927\n",
      "[250]\tvalid_0's auc: 0.905731\n",
      "[300]\tvalid_0's auc: 0.906303\n",
      "[350]\tvalid_0's auc: 0.906663\n",
      "[400]\tvalid_0's auc: 0.906779\n",
      "[450]\tvalid_0's auc: 0.906887\n",
      "[500]\tvalid_0's auc: 0.906964\n",
      "[550]\tvalid_0's auc: 0.906865\n",
      "[600]\tvalid_0's auc: 0.906873\n",
      "Early stopping, best iteration is:\n",
      "[502]\tvalid_0's auc: 0.906996\n"
     ]
    },
    {
     "name": "stderr",
     "output_type": "stream",
     "text": [
      "regularization_factors, val_score: 0.907072:  55%|####################3                | 11/20 [00:12<00:11,  1.26s/it]C:\\Python39\\lib\\site-packages\\lightgbm\\engine.py:181: UserWarning: 'early_stopping_rounds' argument is deprecated and will be removed in a future release of LightGBM. Pass 'early_stopping()' callback via 'callbacks' argument instead.\n",
      "  _log_warning(\"'early_stopping_rounds' argument is deprecated and will be removed in a future release of LightGBM. \"\n",
      "C:\\Python39\\lib\\site-packages\\lightgbm\\basic.py:2068: UserWarning: categorical_feature in Dataset is overridden.\n",
      "New categorical_feature is ['education', 'marital.status', 'native.country', 'occupation', 'race', 'relationship', 'sex', 'workclass']\n",
      "  _log_warning('categorical_feature in Dataset is overridden.\\n'\n",
      "C:\\Python39\\lib\\site-packages\\lightgbm\\engine.py:239: UserWarning: 'verbose_eval' argument is deprecated and will be removed in a future release of LightGBM. Pass 'log_evaluation()' callback via 'callbacks' argument instead.\n",
      "  _log_warning(\"'verbose_eval' argument is deprecated and will be removed in a future release of LightGBM. \"\n",
      "C:\\Python39\\lib\\site-packages\\lightgbm\\basic.py:1780: UserWarning: Overriding the parameters from Reference Dataset.\n",
      "  _log_warning('Overriding the parameters from Reference Dataset.')\n",
      "C:\\Python39\\lib\\site-packages\\lightgbm\\basic.py:1513: UserWarning: categorical_column in param dict is overridden.\n",
      "  _log_warning(f'{cat_alias} in param dict is overridden.')\n"
     ]
    },
    {
     "name": "stdout",
     "output_type": "stream",
     "text": [
      "Training until validation scores don't improve for 100 rounds\n",
      "[50]\tvalid_0's auc: 0.901472\n",
      "[100]\tvalid_0's auc: 0.902782\n",
      "[150]\tvalid_0's auc: 0.903957\n",
      "[200]\tvalid_0's auc: 0.904806\n",
      "[250]\tvalid_0's auc: 0.905611\n",
      "[300]\tvalid_0's auc: 0.906235\n",
      "[350]\tvalid_0's auc: 0.906448\n",
      "[400]\tvalid_0's auc: 0.906632\n",
      "[450]\tvalid_0's auc: 0.906834\n",
      "[500]\tvalid_0's auc: 0.906915\n",
      "[550]\tvalid_0's auc: 0.906902\n"
     ]
    },
    {
     "name": "stderr",
     "output_type": "stream",
     "text": [
      "regularization_factors, val_score: 0.907072:  55%|####################3                | 11/20 [00:14<00:11,  1.26s/it]"
     ]
    },
    {
     "name": "stdout",
     "output_type": "stream",
     "text": [
      "[600]\tvalid_0's auc: 0.906995\n",
      "[650]\tvalid_0's auc: 0.90691\n",
      "Early stopping, best iteration is:\n",
      "[598]\tvalid_0's auc: 0.907011\n"
     ]
    },
    {
     "name": "stderr",
     "output_type": "stream",
     "text": [
      "regularization_factors, val_score: 0.907072:  60%|######################2              | 12/20 [00:14<00:09,  1.22s/it]C:\\Python39\\lib\\site-packages\\lightgbm\\engine.py:181: UserWarning: 'early_stopping_rounds' argument is deprecated and will be removed in a future release of LightGBM. Pass 'early_stopping()' callback via 'callbacks' argument instead.\n",
      "  _log_warning(\"'early_stopping_rounds' argument is deprecated and will be removed in a future release of LightGBM. \"\n",
      "C:\\Python39\\lib\\site-packages\\lightgbm\\basic.py:2068: UserWarning: categorical_feature in Dataset is overridden.\n",
      "New categorical_feature is ['education', 'marital.status', 'native.country', 'occupation', 'race', 'relationship', 'sex', 'workclass']\n",
      "  _log_warning('categorical_feature in Dataset is overridden.\\n'\n",
      "C:\\Python39\\lib\\site-packages\\lightgbm\\engine.py:239: UserWarning: 'verbose_eval' argument is deprecated and will be removed in a future release of LightGBM. Pass 'log_evaluation()' callback via 'callbacks' argument instead.\n",
      "  _log_warning(\"'verbose_eval' argument is deprecated and will be removed in a future release of LightGBM. \"\n",
      "C:\\Python39\\lib\\site-packages\\lightgbm\\basic.py:1780: UserWarning: Overriding the parameters from Reference Dataset.\n",
      "  _log_warning('Overriding the parameters from Reference Dataset.')\n",
      "C:\\Python39\\lib\\site-packages\\lightgbm\\basic.py:1513: UserWarning: categorical_column in param dict is overridden.\n",
      "  _log_warning(f'{cat_alias} in param dict is overridden.')\n"
     ]
    },
    {
     "name": "stdout",
     "output_type": "stream",
     "text": [
      "Training until validation scores don't improve for 100 rounds\n",
      "[50]\tvalid_0's auc: 0.90162\n",
      "[100]\tvalid_0's auc: 0.902952\n",
      "[150]\tvalid_0's auc: 0.903998\n",
      "[200]\tvalid_0's auc: 0.904913\n",
      "[250]\tvalid_0's auc: 0.905769\n",
      "[300]\tvalid_0's auc: 0.906384\n",
      "[350]\tvalid_0's auc: 0.906718\n",
      "[400]\tvalid_0's auc: 0.906943\n",
      "[450]\tvalid_0's auc: 0.907045\n",
      "[500]\tvalid_0's auc: 0.907121\n",
      "[550]\tvalid_0's auc: 0.907052\n"
     ]
    },
    {
     "name": "stderr",
     "output_type": "stream",
     "text": [
      "regularization_factors, val_score: 0.907124:  65%|########################             | 13/20 [00:15<00:08,  1.16s/it]"
     ]
    },
    {
     "name": "stdout",
     "output_type": "stream",
     "text": [
      "[600]\tvalid_0's auc: 0.90708\n",
      "Early stopping, best iteration is:\n",
      "[504]\tvalid_0's auc: 0.907124\n",
      "Training until validation scores don't improve for 100 rounds\n"
     ]
    },
    {
     "name": "stderr",
     "output_type": "stream",
     "text": [
      "C:\\Python39\\lib\\site-packages\\lightgbm\\engine.py:181: UserWarning: 'early_stopping_rounds' argument is deprecated and will be removed in a future release of LightGBM. Pass 'early_stopping()' callback via 'callbacks' argument instead.\n",
      "  _log_warning(\"'early_stopping_rounds' argument is deprecated and will be removed in a future release of LightGBM. \"\n",
      "C:\\Python39\\lib\\site-packages\\lightgbm\\basic.py:2068: UserWarning: categorical_feature in Dataset is overridden.\n",
      "New categorical_feature is ['education', 'marital.status', 'native.country', 'occupation', 'race', 'relationship', 'sex', 'workclass']\n",
      "  _log_warning('categorical_feature in Dataset is overridden.\\n'\n",
      "C:\\Python39\\lib\\site-packages\\lightgbm\\engine.py:239: UserWarning: 'verbose_eval' argument is deprecated and will be removed in a future release of LightGBM. Pass 'log_evaluation()' callback via 'callbacks' argument instead.\n",
      "  _log_warning(\"'verbose_eval' argument is deprecated and will be removed in a future release of LightGBM. \"\n",
      "C:\\Python39\\lib\\site-packages\\lightgbm\\basic.py:1780: UserWarning: Overriding the parameters from Reference Dataset.\n",
      "  _log_warning('Overriding the parameters from Reference Dataset.')\n",
      "C:\\Python39\\lib\\site-packages\\lightgbm\\basic.py:1513: UserWarning: categorical_column in param dict is overridden.\n",
      "  _log_warning(f'{cat_alias} in param dict is overridden.')\n"
     ]
    },
    {
     "name": "stdout",
     "output_type": "stream",
     "text": [
      "[50]\tvalid_0's auc: 0.901624\n",
      "[100]\tvalid_0's auc: 0.902821\n",
      "[150]\tvalid_0's auc: 0.90379\n",
      "[200]\tvalid_0's auc: 0.904849\n",
      "[250]\tvalid_0's auc: 0.905728\n",
      "[300]\tvalid_0's auc: 0.906344\n",
      "[350]\tvalid_0's auc: 0.906654\n",
      "[400]\tvalid_0's auc: 0.906747\n",
      "[450]\tvalid_0's auc: 0.90684\n",
      "[500]\tvalid_0's auc: 0.906964\n",
      "[550]\tvalid_0's auc: 0.907\n",
      "[600]\tvalid_0's auc: 0.907023\n"
     ]
    },
    {
     "name": "stderr",
     "output_type": "stream",
     "text": [
      "regularization_factors, val_score: 0.907124:  70%|#########################9           | 14/20 [00:16<00:07,  1.20s/it]"
     ]
    },
    {
     "name": "stdout",
     "output_type": "stream",
     "text": [
      "[650]\tvalid_0's auc: 0.907024\n",
      "Early stopping, best iteration is:\n",
      "[589]\tvalid_0's auc: 0.90705\n",
      "Training until validation scores don't improve for 100 rounds\n"
     ]
    },
    {
     "name": "stderr",
     "output_type": "stream",
     "text": [
      "C:\\Python39\\lib\\site-packages\\lightgbm\\engine.py:181: UserWarning: 'early_stopping_rounds' argument is deprecated and will be removed in a future release of LightGBM. Pass 'early_stopping()' callback via 'callbacks' argument instead.\n",
      "  _log_warning(\"'early_stopping_rounds' argument is deprecated and will be removed in a future release of LightGBM. \"\n",
      "C:\\Python39\\lib\\site-packages\\lightgbm\\basic.py:2068: UserWarning: categorical_feature in Dataset is overridden.\n",
      "New categorical_feature is ['education', 'marital.status', 'native.country', 'occupation', 'race', 'relationship', 'sex', 'workclass']\n",
      "  _log_warning('categorical_feature in Dataset is overridden.\\n'\n",
      "C:\\Python39\\lib\\site-packages\\lightgbm\\engine.py:239: UserWarning: 'verbose_eval' argument is deprecated and will be removed in a future release of LightGBM. Pass 'log_evaluation()' callback via 'callbacks' argument instead.\n",
      "  _log_warning(\"'verbose_eval' argument is deprecated and will be removed in a future release of LightGBM. \"\n",
      "C:\\Python39\\lib\\site-packages\\lightgbm\\basic.py:1780: UserWarning: Overriding the parameters from Reference Dataset.\n",
      "  _log_warning('Overriding the parameters from Reference Dataset.')\n",
      "C:\\Python39\\lib\\site-packages\\lightgbm\\basic.py:1513: UserWarning: categorical_column in param dict is overridden.\n",
      "  _log_warning(f'{cat_alias} in param dict is overridden.')\n"
     ]
    },
    {
     "name": "stdout",
     "output_type": "stream",
     "text": [
      "[50]\tvalid_0's auc: 0.901691\n",
      "[100]\tvalid_0's auc: 0.902871\n",
      "[150]\tvalid_0's auc: 0.903866\n",
      "[200]\tvalid_0's auc: 0.90496\n",
      "[250]\tvalid_0's auc: 0.905797\n",
      "[300]\tvalid_0's auc: 0.906344\n",
      "[350]\tvalid_0's auc: 0.906585\n",
      "[400]\tvalid_0's auc: 0.906816\n",
      "[450]\tvalid_0's auc: 0.906948\n",
      "[500]\tvalid_0's auc: 0.907036\n",
      "[550]\tvalid_0's auc: 0.907012\n",
      "[600]\tvalid_0's auc: 0.907033\n"
     ]
    },
    {
     "name": "stderr",
     "output_type": "stream",
     "text": [
      "regularization_factors, val_score: 0.907124:  75%|###########################7         | 15/20 [00:17<00:05,  1.19s/it]"
     ]
    },
    {
     "name": "stdout",
     "output_type": "stream",
     "text": [
      "[650]\tvalid_0's auc: 0.907048\n",
      "[700]\tvalid_0's auc: 0.907005\n",
      "Early stopping, best iteration is:\n",
      "[613]\tvalid_0's auc: 0.90707\n"
     ]
    },
    {
     "name": "stderr",
     "output_type": "stream",
     "text": [
      "C:\\Python39\\lib\\site-packages\\lightgbm\\engine.py:181: UserWarning: 'early_stopping_rounds' argument is deprecated and will be removed in a future release of LightGBM. Pass 'early_stopping()' callback via 'callbacks' argument instead.\n",
      "  _log_warning(\"'early_stopping_rounds' argument is deprecated and will be removed in a future release of LightGBM. \"\n",
      "C:\\Python39\\lib\\site-packages\\lightgbm\\basic.py:2068: UserWarning: categorical_feature in Dataset is overridden.\n",
      "New categorical_feature is ['education', 'marital.status', 'native.country', 'occupation', 'race', 'relationship', 'sex', 'workclass']\n",
      "  _log_warning('categorical_feature in Dataset is overridden.\\n'\n",
      "C:\\Python39\\lib\\site-packages\\lightgbm\\engine.py:239: UserWarning: 'verbose_eval' argument is deprecated and will be removed in a future release of LightGBM. Pass 'log_evaluation()' callback via 'callbacks' argument instead.\n",
      "  _log_warning(\"'verbose_eval' argument is deprecated and will be removed in a future release of LightGBM. \"\n",
      "C:\\Python39\\lib\\site-packages\\lightgbm\\basic.py:1780: UserWarning: Overriding the parameters from Reference Dataset.\n",
      "  _log_warning('Overriding the parameters from Reference Dataset.')\n",
      "C:\\Python39\\lib\\site-packages\\lightgbm\\basic.py:1513: UserWarning: categorical_column in param dict is overridden.\n",
      "  _log_warning(f'{cat_alias} in param dict is overridden.')\n"
     ]
    },
    {
     "name": "stdout",
     "output_type": "stream",
     "text": [
      "Training until validation scores don't improve for 100 rounds\n",
      "[50]\tvalid_0's auc: 0.901594\n",
      "[100]\tvalid_0's auc: 0.902882\n",
      "[150]\tvalid_0's auc: 0.904005\n",
      "[200]\tvalid_0's auc: 0.904946\n",
      "[250]\tvalid_0's auc: 0.905738\n",
      "[300]\tvalid_0's auc: 0.906253\n",
      "[350]\tvalid_0's auc: 0.906567\n",
      "[400]\tvalid_0's auc: 0.906768\n",
      "[450]\tvalid_0's auc: 0.906917\n",
      "[500]\tvalid_0's auc: 0.90696\n",
      "[550]\tvalid_0's auc: 0.906955\n"
     ]
    },
    {
     "name": "stderr",
     "output_type": "stream",
     "text": [
      "regularization_factors, val_score: 0.907124:  80%|#############################6       | 16/20 [00:18<00:04,  1.13s/it]"
     ]
    },
    {
     "name": "stdout",
     "output_type": "stream",
     "text": [
      "[600]\tvalid_0's auc: 0.906918\n",
      "Early stopping, best iteration is:\n",
      "[506]\tvalid_0's auc: 0.90699\n",
      "Training until validation scores don't improve for 100 rounds\n",
      "[50]\tvalid_0's auc: 0.901672\n"
     ]
    },
    {
     "name": "stderr",
     "output_type": "stream",
     "text": [
      "C:\\Python39\\lib\\site-packages\\lightgbm\\engine.py:181: UserWarning: 'early_stopping_rounds' argument is deprecated and will be removed in a future release of LightGBM. Pass 'early_stopping()' callback via 'callbacks' argument instead.\n",
      "  _log_warning(\"'early_stopping_rounds' argument is deprecated and will be removed in a future release of LightGBM. \"\n",
      "C:\\Python39\\lib\\site-packages\\lightgbm\\basic.py:2068: UserWarning: categorical_feature in Dataset is overridden.\n",
      "New categorical_feature is ['education', 'marital.status', 'native.country', 'occupation', 'race', 'relationship', 'sex', 'workclass']\n",
      "  _log_warning('categorical_feature in Dataset is overridden.\\n'\n",
      "C:\\Python39\\lib\\site-packages\\lightgbm\\engine.py:239: UserWarning: 'verbose_eval' argument is deprecated and will be removed in a future release of LightGBM. Pass 'log_evaluation()' callback via 'callbacks' argument instead.\n",
      "  _log_warning(\"'verbose_eval' argument is deprecated and will be removed in a future release of LightGBM. \"\n",
      "C:\\Python39\\lib\\site-packages\\lightgbm\\basic.py:1780: UserWarning: Overriding the parameters from Reference Dataset.\n",
      "  _log_warning('Overriding the parameters from Reference Dataset.')\n",
      "C:\\Python39\\lib\\site-packages\\lightgbm\\basic.py:1513: UserWarning: categorical_column in param dict is overridden.\n",
      "  _log_warning(f'{cat_alias} in param dict is overridden.')\n"
     ]
    },
    {
     "name": "stdout",
     "output_type": "stream",
     "text": [
      "[100]\tvalid_0's auc: 0.902924\n",
      "[150]\tvalid_0's auc: 0.904028\n",
      "[200]\tvalid_0's auc: 0.904897\n",
      "[250]\tvalid_0's auc: 0.905714\n",
      "[300]\tvalid_0's auc: 0.906252\n",
      "[350]\tvalid_0's auc: 0.906436\n",
      "[400]\tvalid_0's auc: 0.906785\n",
      "[450]\tvalid_0's auc: 0.90686\n",
      "[500]\tvalid_0's auc: 0.906983\n",
      "[550]\tvalid_0's auc: 0.906949\n"
     ]
    },
    {
     "name": "stderr",
     "output_type": "stream",
     "text": [
      "regularization_factors, val_score: 0.907124:  85%|###############################4     | 17/20 [00:19<00:03,  1.10s/it]"
     ]
    },
    {
     "name": "stdout",
     "output_type": "stream",
     "text": [
      "Early stopping, best iteration is:\n",
      "[497]\tvalid_0's auc: 0.906996\n",
      "Training until validation scores don't improve for 100 rounds\n",
      "[50]\tvalid_0's auc: 0.901486\n"
     ]
    },
    {
     "name": "stderr",
     "output_type": "stream",
     "text": [
      "C:\\Python39\\lib\\site-packages\\lightgbm\\engine.py:181: UserWarning: 'early_stopping_rounds' argument is deprecated and will be removed in a future release of LightGBM. Pass 'early_stopping()' callback via 'callbacks' argument instead.\n",
      "  _log_warning(\"'early_stopping_rounds' argument is deprecated and will be removed in a future release of LightGBM. \"\n",
      "C:\\Python39\\lib\\site-packages\\lightgbm\\basic.py:2068: UserWarning: categorical_feature in Dataset is overridden.\n",
      "New categorical_feature is ['education', 'marital.status', 'native.country', 'occupation', 'race', 'relationship', 'sex', 'workclass']\n",
      "  _log_warning('categorical_feature in Dataset is overridden.\\n'\n",
      "C:\\Python39\\lib\\site-packages\\lightgbm\\engine.py:239: UserWarning: 'verbose_eval' argument is deprecated and will be removed in a future release of LightGBM. Pass 'log_evaluation()' callback via 'callbacks' argument instead.\n",
      "  _log_warning(\"'verbose_eval' argument is deprecated and will be removed in a future release of LightGBM. \"\n",
      "C:\\Python39\\lib\\site-packages\\lightgbm\\basic.py:1780: UserWarning: Overriding the parameters from Reference Dataset.\n",
      "  _log_warning('Overriding the parameters from Reference Dataset.')\n",
      "C:\\Python39\\lib\\site-packages\\lightgbm\\basic.py:1513: UserWarning: categorical_column in param dict is overridden.\n",
      "  _log_warning(f'{cat_alias} in param dict is overridden.')\n"
     ]
    },
    {
     "name": "stdout",
     "output_type": "stream",
     "text": [
      "[100]\tvalid_0's auc: 0.902707\n",
      "[150]\tvalid_0's auc: 0.903886\n",
      "[200]\tvalid_0's auc: 0.904743\n",
      "[250]\tvalid_0's auc: 0.905581\n",
      "[300]\tvalid_0's auc: 0.906141\n",
      "[350]\tvalid_0's auc: 0.906445\n",
      "[400]\tvalid_0's auc: 0.906691\n",
      "[450]\tvalid_0's auc: 0.906763\n",
      "[500]\tvalid_0's auc: 0.906737\n",
      "Early stopping, best iteration is:\n",
      "[434]\tvalid_0's auc: 0.906793\n"
     ]
    },
    {
     "name": "stderr",
     "output_type": "stream",
     "text": [
      "regularization_factors, val_score: 0.907124:  90%|#################################3   | 18/20 [00:20<00:02,  1.04s/it]C:\\Python39\\lib\\site-packages\\lightgbm\\engine.py:181: UserWarning: 'early_stopping_rounds' argument is deprecated and will be removed in a future release of LightGBM. Pass 'early_stopping()' callback via 'callbacks' argument instead.\n",
      "  _log_warning(\"'early_stopping_rounds' argument is deprecated and will be removed in a future release of LightGBM. \"\n",
      "C:\\Python39\\lib\\site-packages\\lightgbm\\basic.py:2068: UserWarning: categorical_feature in Dataset is overridden.\n",
      "New categorical_feature is ['education', 'marital.status', 'native.country', 'occupation', 'race', 'relationship', 'sex', 'workclass']\n",
      "  _log_warning('categorical_feature in Dataset is overridden.\\n'\n",
      "C:\\Python39\\lib\\site-packages\\lightgbm\\engine.py:239: UserWarning: 'verbose_eval' argument is deprecated and will be removed in a future release of LightGBM. Pass 'log_evaluation()' callback via 'callbacks' argument instead.\n",
      "  _log_warning(\"'verbose_eval' argument is deprecated and will be removed in a future release of LightGBM. \"\n",
      "C:\\Python39\\lib\\site-packages\\lightgbm\\basic.py:1780: UserWarning: Overriding the parameters from Reference Dataset.\n",
      "  _log_warning('Overriding the parameters from Reference Dataset.')\n",
      "C:\\Python39\\lib\\site-packages\\lightgbm\\basic.py:1513: UserWarning: categorical_column in param dict is overridden.\n",
      "  _log_warning(f'{cat_alias} in param dict is overridden.')\n"
     ]
    },
    {
     "name": "stdout",
     "output_type": "stream",
     "text": [
      "Training until validation scores don't improve for 100 rounds\n",
      "[50]\tvalid_0's auc: 0.901653\n",
      "[100]\tvalid_0's auc: 0.902901\n",
      "[150]\tvalid_0's auc: 0.903973\n",
      "[200]\tvalid_0's auc: 0.904974\n",
      "[250]\tvalid_0's auc: 0.905759\n",
      "[300]\tvalid_0's auc: 0.90637\n",
      "[350]\tvalid_0's auc: 0.906625\n",
      "[400]\tvalid_0's auc: 0.906806\n",
      "[450]\tvalid_0's auc: 0.906852\n",
      "[500]\tvalid_0's auc: 0.906932\n",
      "[550]\tvalid_0's auc: 0.906844\n"
     ]
    },
    {
     "name": "stderr",
     "output_type": "stream",
     "text": [
      "regularization_factors, val_score: 0.907124:  95%|###################################1 | 19/20 [00:21<00:01,  1.02s/it]"
     ]
    },
    {
     "name": "stdout",
     "output_type": "stream",
     "text": [
      "[600]\tvalid_0's auc: 0.906753\n",
      "Early stopping, best iteration is:\n",
      "[502]\tvalid_0's auc: 0.906941\n",
      "Training until validation scores don't improve for 100 rounds\n",
      "[50]\tvalid_0's auc: 0.901482\n"
     ]
    },
    {
     "name": "stderr",
     "output_type": "stream",
     "text": [
      "C:\\Python39\\lib\\site-packages\\lightgbm\\engine.py:181: UserWarning: 'early_stopping_rounds' argument is deprecated and will be removed in a future release of LightGBM. Pass 'early_stopping()' callback via 'callbacks' argument instead.\n",
      "  _log_warning(\"'early_stopping_rounds' argument is deprecated and will be removed in a future release of LightGBM. \"\n",
      "C:\\Python39\\lib\\site-packages\\lightgbm\\basic.py:2068: UserWarning: categorical_feature in Dataset is overridden.\n",
      "New categorical_feature is ['education', 'marital.status', 'native.country', 'occupation', 'race', 'relationship', 'sex', 'workclass']\n",
      "  _log_warning('categorical_feature in Dataset is overridden.\\n'\n",
      "C:\\Python39\\lib\\site-packages\\lightgbm\\engine.py:239: UserWarning: 'verbose_eval' argument is deprecated and will be removed in a future release of LightGBM. Pass 'log_evaluation()' callback via 'callbacks' argument instead.\n",
      "  _log_warning(\"'verbose_eval' argument is deprecated and will be removed in a future release of LightGBM. \"\n",
      "C:\\Python39\\lib\\site-packages\\lightgbm\\basic.py:1780: UserWarning: Overriding the parameters from Reference Dataset.\n",
      "  _log_warning('Overriding the parameters from Reference Dataset.')\n",
      "C:\\Python39\\lib\\site-packages\\lightgbm\\basic.py:1513: UserWarning: categorical_column in param dict is overridden.\n",
      "  _log_warning(f'{cat_alias} in param dict is overridden.')\n"
     ]
    },
    {
     "name": "stdout",
     "output_type": "stream",
     "text": [
      "[100]\tvalid_0's auc: 0.902726\n",
      "[150]\tvalid_0's auc: 0.903897\n",
      "[200]\tvalid_0's auc: 0.904763\n",
      "[250]\tvalid_0's auc: 0.905582\n",
      "[300]\tvalid_0's auc: 0.906102\n",
      "[350]\tvalid_0's auc: 0.906346\n",
      "[400]\tvalid_0's auc: 0.906514\n",
      "[450]\tvalid_0's auc: 0.906572\n",
      "[500]\tvalid_0's auc: 0.906631\n"
     ]
    },
    {
     "name": "stderr",
     "output_type": "stream",
     "text": [
      "regularization_factors, val_score: 0.907124: 100%|#####################################| 20/20 [00:22<00:00,  1.12s/it]\n"
     ]
    },
    {
     "name": "stdout",
     "output_type": "stream",
     "text": [
      "[550]\tvalid_0's auc: 0.906538\n",
      "Early stopping, best iteration is:\n",
      "[477]\tvalid_0's auc: 0.906657\n"
     ]
    },
    {
     "name": "stderr",
     "output_type": "stream",
     "text": [
      "min_data_in_leaf, val_score: 0.907124:   0%|                                                     | 0/5 [00:00<?, ?it/s]"
     ]
    },
    {
     "name": "stdout",
     "output_type": "stream",
     "text": [
      "Training until validation scores don't improve for 100 rounds\n"
     ]
    },
    {
     "name": "stderr",
     "output_type": "stream",
     "text": [
      "C:\\Python39\\lib\\site-packages\\lightgbm\\engine.py:181: UserWarning: 'early_stopping_rounds' argument is deprecated and will be removed in a future release of LightGBM. Pass 'early_stopping()' callback via 'callbacks' argument instead.\n",
      "  _log_warning(\"'early_stopping_rounds' argument is deprecated and will be removed in a future release of LightGBM. \"\n",
      "C:\\Python39\\lib\\site-packages\\lightgbm\\basic.py:2068: UserWarning: categorical_feature in Dataset is overridden.\n",
      "New categorical_feature is ['education', 'marital.status', 'native.country', 'occupation', 'race', 'relationship', 'sex', 'workclass']\n",
      "  _log_warning('categorical_feature in Dataset is overridden.\\n'\n",
      "C:\\Python39\\lib\\site-packages\\lightgbm\\engine.py:239: UserWarning: 'verbose_eval' argument is deprecated and will be removed in a future release of LightGBM. Pass 'log_evaluation()' callback via 'callbacks' argument instead.\n",
      "  _log_warning(\"'verbose_eval' argument is deprecated and will be removed in a future release of LightGBM. \"\n",
      "C:\\Python39\\lib\\site-packages\\lightgbm\\basic.py:1780: UserWarning: Overriding the parameters from Reference Dataset.\n",
      "  _log_warning('Overriding the parameters from Reference Dataset.')\n",
      "C:\\Python39\\lib\\site-packages\\lightgbm\\basic.py:1513: UserWarning: categorical_column in param dict is overridden.\n",
      "  _log_warning(f'{cat_alias} in param dict is overridden.')\n"
     ]
    },
    {
     "name": "stdout",
     "output_type": "stream",
     "text": [
      "[50]\tvalid_0's auc: 0.901804\n",
      "[100]\tvalid_0's auc: 0.903203\n",
      "[150]\tvalid_0's auc: 0.904142\n",
      "[200]\tvalid_0's auc: 0.905103\n",
      "[250]\tvalid_0's auc: 0.90588\n",
      "[300]\tvalid_0's auc: 0.906311\n",
      "[350]\tvalid_0's auc: 0.906624\n",
      "[400]\tvalid_0's auc: 0.906785\n",
      "[450]\tvalid_0's auc: 0.906943\n",
      "[500]\tvalid_0's auc: 0.907013\n",
      "[550]\tvalid_0's auc: 0.907003\n",
      "[600]\tvalid_0's auc: 0.906926\n",
      "Early stopping, best iteration is:\n",
      "[510]\tvalid_0's auc: 0.907033\n"
     ]
    },
    {
     "name": "stderr",
     "output_type": "stream",
     "text": [
      "min_data_in_leaf, val_score: 0.907124:  20%|#########                                    | 1/5 [00:01<00:04,  1.02s/it]"
     ]
    },
    {
     "name": "stdout",
     "output_type": "stream",
     "text": [
      "Training until validation scores don't improve for 100 rounds\n"
     ]
    },
    {
     "name": "stderr",
     "output_type": "stream",
     "text": [
      "C:\\Python39\\lib\\site-packages\\lightgbm\\engine.py:181: UserWarning: 'early_stopping_rounds' argument is deprecated and will be removed in a future release of LightGBM. Pass 'early_stopping()' callback via 'callbacks' argument instead.\n",
      "  _log_warning(\"'early_stopping_rounds' argument is deprecated and will be removed in a future release of LightGBM. \"\n",
      "C:\\Python39\\lib\\site-packages\\lightgbm\\basic.py:2068: UserWarning: categorical_feature in Dataset is overridden.\n",
      "New categorical_feature is ['education', 'marital.status', 'native.country', 'occupation', 'race', 'relationship', 'sex', 'workclass']\n",
      "  _log_warning('categorical_feature in Dataset is overridden.\\n'\n",
      "C:\\Python39\\lib\\site-packages\\lightgbm\\engine.py:239: UserWarning: 'verbose_eval' argument is deprecated and will be removed in a future release of LightGBM. Pass 'log_evaluation()' callback via 'callbacks' argument instead.\n",
      "  _log_warning(\"'verbose_eval' argument is deprecated and will be removed in a future release of LightGBM. \"\n",
      "C:\\Python39\\lib\\site-packages\\lightgbm\\basic.py:1780: UserWarning: Overriding the parameters from Reference Dataset.\n",
      "  _log_warning('Overriding the parameters from Reference Dataset.')\n",
      "C:\\Python39\\lib\\site-packages\\lightgbm\\basic.py:1513: UserWarning: categorical_column in param dict is overridden.\n",
      "  _log_warning(f'{cat_alias} in param dict is overridden.')\n"
     ]
    },
    {
     "name": "stdout",
     "output_type": "stream",
     "text": [
      "[50]\tvalid_0's auc: 0.901574\n",
      "[100]\tvalid_0's auc: 0.902886\n",
      "[150]\tvalid_0's auc: 0.903999\n",
      "[200]\tvalid_0's auc: 0.90501\n",
      "[250]\tvalid_0's auc: 0.90587\n",
      "[300]\tvalid_0's auc: 0.906395\n",
      "[350]\tvalid_0's auc: 0.906739\n",
      "[400]\tvalid_0's auc: 0.906946\n",
      "[450]\tvalid_0's auc: 0.906998\n",
      "[500]\tvalid_0's auc: 0.907047\n",
      "[550]\tvalid_0's auc: 0.907006\n",
      "[600]\tvalid_0's auc: 0.907023\n",
      "Early stopping, best iteration is:\n",
      "[505]\tvalid_0's auc: 0.90706\n"
     ]
    },
    {
     "name": "stderr",
     "output_type": "stream",
     "text": [
      "min_data_in_leaf, val_score: 0.907124:  40%|##################                           | 2/5 [00:02<00:03,  1.10s/it]C:\\Python39\\lib\\site-packages\\lightgbm\\engine.py:181: UserWarning: 'early_stopping_rounds' argument is deprecated and will be removed in a future release of LightGBM. Pass 'early_stopping()' callback via 'callbacks' argument instead.\n",
      "  _log_warning(\"'early_stopping_rounds' argument is deprecated and will be removed in a future release of LightGBM. \"\n",
      "C:\\Python39\\lib\\site-packages\\lightgbm\\basic.py:2068: UserWarning: categorical_feature in Dataset is overridden.\n",
      "New categorical_feature is ['education', 'marital.status', 'native.country', 'occupation', 'race', 'relationship', 'sex', 'workclass']\n",
      "  _log_warning('categorical_feature in Dataset is overridden.\\n'\n",
      "C:\\Python39\\lib\\site-packages\\lightgbm\\engine.py:239: UserWarning: 'verbose_eval' argument is deprecated and will be removed in a future release of LightGBM. Pass 'log_evaluation()' callback via 'callbacks' argument instead.\n",
      "  _log_warning(\"'verbose_eval' argument is deprecated and will be removed in a future release of LightGBM. \"\n",
      "C:\\Python39\\lib\\site-packages\\lightgbm\\basic.py:1780: UserWarning: Overriding the parameters from Reference Dataset.\n",
      "  _log_warning('Overriding the parameters from Reference Dataset.')\n",
      "C:\\Python39\\lib\\site-packages\\lightgbm\\basic.py:1513: UserWarning: categorical_column in param dict is overridden.\n",
      "  _log_warning(f'{cat_alias} in param dict is overridden.')\n"
     ]
    },
    {
     "name": "stdout",
     "output_type": "stream",
     "text": [
      "Training until validation scores don't improve for 100 rounds\n",
      "[50]\tvalid_0's auc: 0.901571\n",
      "[100]\tvalid_0's auc: 0.90283\n",
      "[150]\tvalid_0's auc: 0.903967\n",
      "[200]\tvalid_0's auc: 0.904972\n",
      "[250]\tvalid_0's auc: 0.905841\n",
      "[300]\tvalid_0's auc: 0.906444\n",
      "[350]\tvalid_0's auc: 0.906674\n",
      "[400]\tvalid_0's auc: 0.906889\n",
      "[450]\tvalid_0's auc: 0.906948\n",
      "[500]\tvalid_0's auc: 0.906963\n",
      "[550]\tvalid_0's auc: 0.906875\n"
     ]
    },
    {
     "name": "stderr",
     "output_type": "stream",
     "text": [
      "min_data_in_leaf, val_score: 0.907124:  60%|###########################                  | 3/5 [00:03<00:02,  1.07s/it]"
     ]
    },
    {
     "name": "stdout",
     "output_type": "stream",
     "text": [
      "[600]\tvalid_0's auc: 0.906816\n",
      "Early stopping, best iteration is:\n",
      "[503]\tvalid_0's auc: 0.906996\n",
      "Training until validation scores don't improve for 100 rounds\n",
      "[50]\tvalid_0's auc: 0.901985\n"
     ]
    },
    {
     "name": "stderr",
     "output_type": "stream",
     "text": [
      "C:\\Python39\\lib\\site-packages\\lightgbm\\engine.py:181: UserWarning: 'early_stopping_rounds' argument is deprecated and will be removed in a future release of LightGBM. Pass 'early_stopping()' callback via 'callbacks' argument instead.\n",
      "  _log_warning(\"'early_stopping_rounds' argument is deprecated and will be removed in a future release of LightGBM. \"\n",
      "C:\\Python39\\lib\\site-packages\\lightgbm\\basic.py:2068: UserWarning: categorical_feature in Dataset is overridden.\n",
      "New categorical_feature is ['education', 'marital.status', 'native.country', 'occupation', 'race', 'relationship', 'sex', 'workclass']\n",
      "  _log_warning('categorical_feature in Dataset is overridden.\\n'\n",
      "C:\\Python39\\lib\\site-packages\\lightgbm\\engine.py:239: UserWarning: 'verbose_eval' argument is deprecated and will be removed in a future release of LightGBM. Pass 'log_evaluation()' callback via 'callbacks' argument instead.\n",
      "  _log_warning(\"'verbose_eval' argument is deprecated and will be removed in a future release of LightGBM. \"\n",
      "C:\\Python39\\lib\\site-packages\\lightgbm\\basic.py:1780: UserWarning: Overriding the parameters from Reference Dataset.\n",
      "  _log_warning('Overriding the parameters from Reference Dataset.')\n",
      "C:\\Python39\\lib\\site-packages\\lightgbm\\basic.py:1513: UserWarning: categorical_column in param dict is overridden.\n",
      "  _log_warning(f'{cat_alias} in param dict is overridden.')\n"
     ]
    },
    {
     "name": "stdout",
     "output_type": "stream",
     "text": [
      "[100]\tvalid_0's auc: 0.903689\n",
      "[150]\tvalid_0's auc: 0.904496\n",
      "[200]\tvalid_0's auc: 0.905255\n",
      "[250]\tvalid_0's auc: 0.905865\n",
      "[300]\tvalid_0's auc: 0.906384\n",
      "[350]\tvalid_0's auc: 0.90674\n",
      "[400]\tvalid_0's auc: 0.906888\n",
      "[450]\tvalid_0's auc: 0.907009\n",
      "[500]\tvalid_0's auc: 0.907115\n"
     ]
    },
    {
     "name": "stderr",
     "output_type": "stream",
     "text": [
      "min_data_in_leaf, val_score: 0.907135:  80%|####################################         | 4/5 [00:04<00:01,  1.06s/it]"
     ]
    },
    {
     "name": "stdout",
     "output_type": "stream",
     "text": [
      "[550]\tvalid_0's auc: 0.90705\n",
      "[600]\tvalid_0's auc: 0.906953\n",
      "Early stopping, best iteration is:\n",
      "[509]\tvalid_0's auc: 0.907135\n",
      "Training until validation scores don't improve for 100 rounds\n"
     ]
    },
    {
     "name": "stderr",
     "output_type": "stream",
     "text": [
      "C:\\Python39\\lib\\site-packages\\lightgbm\\engine.py:181: UserWarning: 'early_stopping_rounds' argument is deprecated and will be removed in a future release of LightGBM. Pass 'early_stopping()' callback via 'callbacks' argument instead.\n",
      "  _log_warning(\"'early_stopping_rounds' argument is deprecated and will be removed in a future release of LightGBM. \"\n",
      "C:\\Python39\\lib\\site-packages\\lightgbm\\basic.py:2068: UserWarning: categorical_feature in Dataset is overridden.\n",
      "New categorical_feature is ['education', 'marital.status', 'native.country', 'occupation', 'race', 'relationship', 'sex', 'workclass']\n",
      "  _log_warning('categorical_feature in Dataset is overridden.\\n'\n",
      "C:\\Python39\\lib\\site-packages\\lightgbm\\engine.py:239: UserWarning: 'verbose_eval' argument is deprecated and will be removed in a future release of LightGBM. Pass 'log_evaluation()' callback via 'callbacks' argument instead.\n",
      "  _log_warning(\"'verbose_eval' argument is deprecated and will be removed in a future release of LightGBM. \"\n",
      "C:\\Python39\\lib\\site-packages\\lightgbm\\basic.py:1780: UserWarning: Overriding the parameters from Reference Dataset.\n",
      "  _log_warning('Overriding the parameters from Reference Dataset.')\n",
      "C:\\Python39\\lib\\site-packages\\lightgbm\\basic.py:1513: UserWarning: categorical_column in param dict is overridden.\n",
      "  _log_warning(f'{cat_alias} in param dict is overridden.')\n"
     ]
    },
    {
     "name": "stdout",
     "output_type": "stream",
     "text": [
      "[50]\tvalid_0's auc: 0.90168\n",
      "[100]\tvalid_0's auc: 0.903043\n",
      "[150]\tvalid_0's auc: 0.904106\n",
      "[200]\tvalid_0's auc: 0.905042\n",
      "[250]\tvalid_0's auc: 0.905927\n",
      "[300]\tvalid_0's auc: 0.906486\n",
      "[350]\tvalid_0's auc: 0.906661\n",
      "[400]\tvalid_0's auc: 0.906859\n",
      "[450]\tvalid_0's auc: 0.907\n"
     ]
    },
    {
     "name": "stderr",
     "output_type": "stream",
     "text": [
      "min_data_in_leaf, val_score: 0.907135: 100%|#############################################| 5/5 [00:05<00:00,  1.04s/it]"
     ]
    },
    {
     "name": "stdout",
     "output_type": "stream",
     "text": [
      "[500]\tvalid_0's auc: 0.907114\n",
      "[550]\tvalid_0's auc: 0.907078\n",
      "Early stopping, best iteration is:\n",
      "[492]\tvalid_0's auc: 0.907128\n",
      "Best params: {'boosting_type': 'gbdt', 'objective': 'binary', 'metric': 'auc', 'verbosity': -1, 'learning_rate': 0.02, 'deterministic': True, 'force_row_wise': True, 'feature_pre_filter': False, 'lambda_l1': 1.7707045283284145e-06, 'lambda_l2': 4.225646242357928, 'num_leaves': 21, 'feature_fraction': 0.4, 'bagging_fraction': 1.0, 'bagging_freq': 0, 'min_child_samples': 100, 'num_iterations': 10000, 'early_stopping_round': 100, 'categorical_column': [1, 2, 4, 5, 6, 7, 8, 12]}\n"
     ]
    },
    {
     "name": "stderr",
     "output_type": "stream",
     "text": [
      "\n"
     ]
    }
   ],
   "source": [
    "import csv\n",
    "\n",
    "# 各試行での情報を保存\n",
    "listParams = []\n",
    "listMetrics = []\n",
    "\n",
    "# 乱数Seedを指定した試行を自動化\n",
    "for s in seeds:\n",
    "    print(\"### seed:%3s ###\" %s)\n",
    "    tunedparam, metrics = autotuning(s)\n",
    "    tunedparam[\"seed\"] = s\n",
    "    listParams.append(tunedparam)\n",
    "    listMetrics.append(metrics)\n",
    "\n",
    "# DataFrameからCSVファイルを生成\n",
    "# encoding=\"SJIS\"だとJupyterLab（CSVTable）上で表示不可なことに注意\n",
    "df_params = pd.DataFrame(listParams)\n",
    "df_params.to_csv('lightgbm_label_params.csv', index=False, header=True, encoding='UTF-8', sep=',', quotechar='\"', quoting=csv.QUOTE_ALL)\n",
    "df_metrics = pd.DataFrame(listMetrics)\n",
    "df_metrics.to_csv('lightgbm_label_metrics.csv', index=False, header=True, encoding='UTF-8', sep=',', quotechar='\"', quoting=csv.QUOTE_ALL)"
   ]
  },
  {
   "cell_type": "code",
   "execution_count": 23,
   "id": "0336d574-26c7-4376-b095-3ab444c65550",
   "metadata": {},
   "outputs": [
    {
     "data": {
      "text/html": [
       "<div>\n",
       "<style scoped>\n",
       "    .dataframe tbody tr th:only-of-type {\n",
       "        vertical-align: middle;\n",
       "    }\n",
       "\n",
       "    .dataframe tbody tr th {\n",
       "        vertical-align: top;\n",
       "    }\n",
       "\n",
       "    .dataframe thead th {\n",
       "        text-align: right;\n",
       "    }\n",
       "</style>\n",
       "<table border=\"1\" class=\"dataframe\">\n",
       "  <thead>\n",
       "    <tr style=\"text-align: right;\">\n",
       "      <th></th>\n",
       "      <th>boosting_type</th>\n",
       "      <th>objective</th>\n",
       "      <th>metric</th>\n",
       "      <th>verbosity</th>\n",
       "      <th>learning_rate</th>\n",
       "      <th>deterministic</th>\n",
       "      <th>force_row_wise</th>\n",
       "      <th>feature_pre_filter</th>\n",
       "      <th>lambda_l1</th>\n",
       "      <th>lambda_l2</th>\n",
       "      <th>num_leaves</th>\n",
       "      <th>feature_fraction</th>\n",
       "      <th>bagging_fraction</th>\n",
       "      <th>bagging_freq</th>\n",
       "      <th>min_child_samples</th>\n",
       "      <th>num_iterations</th>\n",
       "      <th>early_stopping_round</th>\n",
       "      <th>categorical_column</th>\n",
       "      <th>seed</th>\n",
       "    </tr>\n",
       "  </thead>\n",
       "  <tbody>\n",
       "    <tr>\n",
       "      <th>0</th>\n",
       "      <td>gbdt</td>\n",
       "      <td>binary</td>\n",
       "      <td>auc</td>\n",
       "      <td>-1</td>\n",
       "      <td>0.02</td>\n",
       "      <td>True</td>\n",
       "      <td>True</td>\n",
       "      <td>False</td>\n",
       "      <td>4.976134e-06</td>\n",
       "      <td>0.000003</td>\n",
       "      <td>31</td>\n",
       "      <td>0.4</td>\n",
       "      <td>0.661597</td>\n",
       "      <td>1</td>\n",
       "      <td>20</td>\n",
       "      <td>10000</td>\n",
       "      <td>100</td>\n",
       "      <td>[1, 2, 4, 5, 6, 7, 8, 12]</td>\n",
       "      <td>2</td>\n",
       "    </tr>\n",
       "    <tr>\n",
       "      <th>1</th>\n",
       "      <td>gbdt</td>\n",
       "      <td>binary</td>\n",
       "      <td>auc</td>\n",
       "      <td>-1</td>\n",
       "      <td>0.02</td>\n",
       "      <td>True</td>\n",
       "      <td>True</td>\n",
       "      <td>False</td>\n",
       "      <td>2.129894e-06</td>\n",
       "      <td>7.313785</td>\n",
       "      <td>31</td>\n",
       "      <td>0.4</td>\n",
       "      <td>0.935768</td>\n",
       "      <td>7</td>\n",
       "      <td>20</td>\n",
       "      <td>10000</td>\n",
       "      <td>100</td>\n",
       "      <td>[1, 2, 4, 5, 6, 7, 8, 12]</td>\n",
       "      <td>3</td>\n",
       "    </tr>\n",
       "    <tr>\n",
       "      <th>2</th>\n",
       "      <td>gbdt</td>\n",
       "      <td>binary</td>\n",
       "      <td>auc</td>\n",
       "      <td>-1</td>\n",
       "      <td>0.02</td>\n",
       "      <td>True</td>\n",
       "      <td>True</td>\n",
       "      <td>False</td>\n",
       "      <td>9.952646e-07</td>\n",
       "      <td>0.686421</td>\n",
       "      <td>20</td>\n",
       "      <td>0.4</td>\n",
       "      <td>0.859545</td>\n",
       "      <td>4</td>\n",
       "      <td>25</td>\n",
       "      <td>10000</td>\n",
       "      <td>100</td>\n",
       "      <td>[1, 2, 4, 5, 6, 7, 8, 12]</td>\n",
       "      <td>5</td>\n",
       "    </tr>\n",
       "    <tr>\n",
       "      <th>3</th>\n",
       "      <td>gbdt</td>\n",
       "      <td>binary</td>\n",
       "      <td>auc</td>\n",
       "      <td>-1</td>\n",
       "      <td>0.02</td>\n",
       "      <td>True</td>\n",
       "      <td>True</td>\n",
       "      <td>False</td>\n",
       "      <td>1.770705e-06</td>\n",
       "      <td>4.225646</td>\n",
       "      <td>21</td>\n",
       "      <td>0.4</td>\n",
       "      <td>1.000000</td>\n",
       "      <td>0</td>\n",
       "      <td>100</td>\n",
       "      <td>10000</td>\n",
       "      <td>100</td>\n",
       "      <td>[1, 2, 4, 5, 6, 7, 8, 12]</td>\n",
       "      <td>7</td>\n",
       "    </tr>\n",
       "  </tbody>\n",
       "</table>\n",
       "</div>"
      ],
      "text/plain": [
       "  boosting_type objective metric  verbosity  learning_rate  deterministic  \\\n",
       "0          gbdt    binary    auc         -1           0.02           True   \n",
       "1          gbdt    binary    auc         -1           0.02           True   \n",
       "2          gbdt    binary    auc         -1           0.02           True   \n",
       "3          gbdt    binary    auc         -1           0.02           True   \n",
       "\n",
       "   force_row_wise  feature_pre_filter     lambda_l1  lambda_l2  num_leaves  \\\n",
       "0            True               False  4.976134e-06   0.000003          31   \n",
       "1            True               False  2.129894e-06   7.313785          31   \n",
       "2            True               False  9.952646e-07   0.686421          20   \n",
       "3            True               False  1.770705e-06   4.225646          21   \n",
       "\n",
       "   feature_fraction  bagging_fraction  bagging_freq  min_child_samples  \\\n",
       "0               0.4          0.661597             1                 20   \n",
       "1               0.4          0.935768             7                 20   \n",
       "2               0.4          0.859545             4                 25   \n",
       "3               0.4          1.000000             0                100   \n",
       "\n",
       "   num_iterations  early_stopping_round         categorical_column  seed  \n",
       "0           10000                   100  [1, 2, 4, 5, 6, 7, 8, 12]     2  \n",
       "1           10000                   100  [1, 2, 4, 5, 6, 7, 8, 12]     3  \n",
       "2           10000                   100  [1, 2, 4, 5, 6, 7, 8, 12]     5  \n",
       "3           10000                   100  [1, 2, 4, 5, 6, 7, 8, 12]     7  "
      ]
     },
     "execution_count": 23,
     "metadata": {},
     "output_type": "execute_result"
    }
   ],
   "source": [
    "# 乱数シードで照準にソート\n",
    "df_params.sort_values(\"seed\", ascending=True)"
   ]
  },
  {
   "cell_type": "code",
   "execution_count": 24,
   "id": "ccd1a1eb-0c5b-411e-8401-ebf4c14e144e",
   "metadata": {
    "tags": []
   },
   "outputs": [
    {
     "data": {
      "text/html": [
       "<div>\n",
       "<style scoped>\n",
       "    .dataframe tbody tr th:only-of-type {\n",
       "        vertical-align: middle;\n",
       "    }\n",
       "\n",
       "    .dataframe tbody tr th {\n",
       "        vertical-align: top;\n",
       "    }\n",
       "\n",
       "    .dataframe thead th {\n",
       "        text-align: right;\n",
       "    }\n",
       "</style>\n",
       "<table border=\"1\" class=\"dataframe\">\n",
       "  <thead>\n",
       "    <tr style=\"text-align: right;\">\n",
       "      <th></th>\n",
       "      <th>seed</th>\n",
       "      <th>auc</th>\n",
       "      <th>accuracy</th>\n",
       "      <th>precision</th>\n",
       "    </tr>\n",
       "  </thead>\n",
       "  <tbody>\n",
       "    <tr>\n",
       "      <th>3</th>\n",
       "      <td>7</td>\n",
       "      <td>0.894849</td>\n",
       "      <td>0.855462</td>\n",
       "      <td>0.685330</td>\n",
       "    </tr>\n",
       "    <tr>\n",
       "      <th>1</th>\n",
       "      <td>3</td>\n",
       "      <td>0.894446</td>\n",
       "      <td>0.854964</td>\n",
       "      <td>0.679825</td>\n",
       "    </tr>\n",
       "    <tr>\n",
       "      <th>2</th>\n",
       "      <td>5</td>\n",
       "      <td>0.894323</td>\n",
       "      <td>0.856788</td>\n",
       "      <td>0.688543</td>\n",
       "    </tr>\n",
       "    <tr>\n",
       "      <th>0</th>\n",
       "      <td>2</td>\n",
       "      <td>0.893851</td>\n",
       "      <td>0.855130</td>\n",
       "      <td>0.679781</td>\n",
       "    </tr>\n",
       "  </tbody>\n",
       "</table>\n",
       "</div>"
      ],
      "text/plain": [
       "   seed       auc  accuracy  precision\n",
       "3     7  0.894849  0.855462   0.685330\n",
       "1     3  0.894446  0.854964   0.679825\n",
       "2     5  0.894323  0.856788   0.688543\n",
       "0     2  0.893851  0.855130   0.679781"
      ]
     },
     "execution_count": 24,
     "metadata": {},
     "output_type": "execute_result"
    }
   ],
   "source": [
    "# AUCで降順にソート\n",
    "df_metrics.sort_values(\"auc\", ascending=False)"
   ]
  },
  {
   "cell_type": "code",
   "execution_count": null,
   "id": "44b4c2e8-3ae0-41df-879e-f05a59ebf3d8",
   "metadata": {},
   "outputs": [],
   "source": []
  }
 ],
 "metadata": {
  "kernelspec": {
   "display_name": "Python 3 (ipykernel)",
   "language": "python",
   "name": "python3"
  },
  "language_info": {
   "codemirror_mode": {
    "name": "ipython",
    "version": 3
   },
   "file_extension": ".py",
   "mimetype": "text/x-python",
   "name": "python",
   "nbconvert_exporter": "python",
   "pygments_lexer": "ipython3",
   "version": "3.9.13"
  }
 },
 "nbformat": 4,
 "nbformat_minor": 5
}
